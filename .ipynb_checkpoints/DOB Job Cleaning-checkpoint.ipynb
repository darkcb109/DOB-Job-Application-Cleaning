{
 "cells": [
  {
   "cell_type": "code",
   "execution_count": 2,
   "id": "5bc52108",
   "metadata": {
    "scrolled": true
   },
   "outputs": [
    {
     "name": "stdout",
     "output_type": "stream",
     "text": [
      "ic3t-wcy2\tdata.cityofnewyork.us\tDOB Job Application Filings\n",
      "w9ak-ipjd\tdata.cityofnewyork.us\tDOB NOW: Build – Job Application Filings\n"
     ]
    }
   ],
   "source": [
    "# List all datasets from NYC Open Data that contain 'parking'\n",
    "# and ' violation'  in their name.\n",
    "\n",
    "from openclean.data.source.socrata import Socrata\n",
    "\n",
    "for dataset in Socrata().catalog(domain='data.cityofnewyork.us'):\n",
    "    if 'job' in dataset.name.lower() and 'application' in dataset.name.lower():\n",
    "        print(f'{dataset.identifier}\\t{dataset.domain}\\t{dataset.name}')"
   ]
  },
  {
   "cell_type": "code",
   "execution_count": null,
   "id": "24360a43",
   "metadata": {},
   "outputs": [],
   "source": []
  }
 ],
 "metadata": {
  "kernelspec": {
   "display_name": "Python 3 (ipykernel)",
   "language": "python",
   "name": "python3"
  },
  "language_info": {
   "codemirror_mode": {
    "name": "ipython",
    "version": 3
   },
   "file_extension": ".py",
   "mimetype": "text/x-python",
   "name": "python",
   "nbconvert_exporter": "python",
   "pygments_lexer": "ipython3",
   "version": "3.8.4"
  }
 },
 "nbformat": 4,
 "nbformat_minor": 5
}
