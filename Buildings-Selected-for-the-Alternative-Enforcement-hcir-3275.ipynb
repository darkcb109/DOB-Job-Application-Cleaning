{
 "cells": [
  {
   "cell_type": "code",
   "execution_count": 81,
   "metadata": {},
   "outputs": [],
   "source": [
    "import openclean\n",
    "import glob\n",
    "import pandas as pd\n",
    "import numpy as np\n"
   ]
  },
  {
   "cell_type": "code",
   "execution_count": 82,
   "metadata": {},
   "outputs": [],
   "source": [
    "# https://data.cityofnewyork.us/Housing-Development/Housing-New-York-Units-by-Building/hg8x-zxpr\n",
    "# https://data.cityofnewyork.us/Housing-Development/DOB-NOW-Build-Approved-Permits/rbx6-tga4\n",
    "# https://data.cityofnewyork.us/Housing-Development/Buildings-Selected-for-the-Alternative-Enforcement/hcir-3275"
   ]
  },
  {
   "cell_type": "markdown",
   "metadata": {},
   "source": [
    "# Data Downloading\n",
    "\n",
    "Download the data using openClean"
   ]
  },
  {
   "cell_type": "code",
   "execution_count": 83,
   "metadata": {},
   "outputs": [
    {
     "name": "stdout",
     "output_type": "stream",
     "text": [
      "Using 'Buildings Selected for the Alternative Enforcement Program (AEP)' in file ./hcir-3275.tsv.gz of size 148.46 KB\n"
     ]
    }
   ],
   "source": [
    "import gzip\n",
    "import humanfriendly\n",
    "import os\n",
    "\n",
    "from openclean.data.source.socrata import Socrata\n",
    "\n",
    "dataset = Socrata().dataset('hcir-3275')\n",
    "datafile = './hcir-3275.tsv.gz'\n",
    "\n",
    "if not os.path.isfile(datafile):\n",
    "    with gzip.open(datafile, 'wb') as f:\n",
    "        print('Downloading ...\\n')\n",
    "        dataset.write(f)\n",
    "\n",
    "\n",
    "fsize = humanfriendly.format_size(os.stat(datafile).st_size)\n",
    "print(\"Using '{}' in file {} of size {}\".format(dataset.name, datafile, fsize))"
   ]
  },
  {
   "cell_type": "markdown",
   "metadata": {},
   "source": [
    "# Data Loading\n",
    "\n",
    "Load the data into pandas and openClean dataset object"
   ]
  },
  {
   "cell_type": "code",
   "execution_count": 84,
   "metadata": {},
   "outputs": [],
   "source": [
    "import pandas as pd\n",
    "from openclean.pipeline import stream\n",
    "\n",
    "df  = pd.read_csv(datafile, dtype='object', sep='\\t')\n",
    "ds = stream(datafile)"
   ]
  },
  {
   "cell_type": "code",
   "execution_count": 85,
   "metadata": {},
   "outputs": [
    {
     "data": {
      "text/plain": [
       "'1.18.5'"
      ]
     },
     "execution_count": 85,
     "metadata": {},
     "output_type": "execute_result"
    }
   ],
   "source": [
    "np.__version__"
   ]
  },
  {
   "cell_type": "code",
   "execution_count": 86,
   "metadata": {},
   "outputs": [
    {
     "data": {
      "text/plain": [
       "'1.2.4'"
      ]
     },
     "execution_count": 86,
     "metadata": {},
     "output_type": "execute_result"
    }
   ],
   "source": [
    "pd.__version__"
   ]
  },
  {
   "cell_type": "code",
   "execution_count": 87,
   "metadata": {},
   "outputs": [],
   "source": [
    "import glob"
   ]
  },
  {
   "cell_type": "code",
   "execution_count": 88,
   "metadata": {
    "scrolled": true
   },
   "outputs": [
    {
     "data": {
      "text/plain": [
       "['hcir-3275.tsv.gz',\n",
       " 'hg8x-zxpr.tsv.gz',\n",
       " 'ic3t-wcy2.tsv.gz',\n",
       " 'merged_extend.ipynb',\n",
       " 'rbx6-tga4.tsv.gz',\n",
       " 'Untitled.ipynb']"
      ]
     },
     "execution_count": 88,
     "metadata": {},
     "output_type": "execute_result"
    }
   ],
   "source": [
    "glob.glob(\"*\")"
   ]
  },
  {
   "cell_type": "markdown",
   "metadata": {},
   "source": [
    "### Get some basic info about the dataset columns"
   ]
  },
  {
   "cell_type": "code",
   "execution_count": 89,
   "metadata": {
    "scrolled": true
   },
   "outputs": [
    {
     "name": "stdout",
     "output_type": "stream",
     "text": [
      "<class 'pandas.core.frame.DataFrame'>\n",
      "RangeIndex: 3137 entries, 0 to 3136\n",
      "Data columns (total 19 columns):\n",
      " #   Column                        Non-Null Count  Dtype \n",
      "---  ------                        --------------  ----- \n",
      " 0   BUILDING_ID                   3137 non-null   object\n",
      " 1   BOROUGH                       3137 non-null   object\n",
      " 2   NUMBER                        3137 non-null   object\n",
      " 3   STREET                        3137 non-null   object\n",
      " 4   TOTAL_UNITS                   3137 non-null   object\n",
      " 5   AEP_START_DATE                3137 non-null   object\n",
      " 6   # OF B/C VIOLATIONS AT START  3137 non-null   object\n",
      " 7   CURRENT_STATUS                3137 non-null   object\n",
      " 8   DISCHARGE_DATE                2619 non-null   object\n",
      " 9   AEP_ROUND                     3137 non-null   object\n",
      " 10  Postcode                      3137 non-null   object\n",
      " 11  Latitude                      3137 non-null   object\n",
      " 12  Longitude                     3137 non-null   object\n",
      " 13  Community Board               3137 non-null   object\n",
      " 14  Council District              3137 non-null   object\n",
      " 15  Census Tract                  3137 non-null   object\n",
      " 16  BIN                           3134 non-null   object\n",
      " 17  BBL                           3134 non-null   object\n",
      " 18  NTA                           3137 non-null   object\n",
      "dtypes: object(19)\n",
      "memory usage: 465.8+ KB\n"
     ]
    },
    {
     "name": "stderr",
     "output_type": "stream",
     "text": [
      "<ipython-input-89-6ac79f7ef903>:1: FutureWarning: null_counts is deprecated. Use show_counts instead\n",
      "  df.info(verbose=True, null_counts=True)\n"
     ]
    }
   ],
   "source": [
    "df.info(verbose=True, null_counts=True)"
   ]
  },
  {
   "cell_type": "markdown",
   "metadata": {},
   "source": [
    "If any rows are complete duplicates, drop them"
   ]
  },
  {
   "cell_type": "code",
   "execution_count": 90,
   "metadata": {},
   "outputs": [],
   "source": [
    "df = df.drop_duplicates()"
   ]
  },
  {
   "cell_type": "markdown",
   "metadata": {},
   "source": [
    "Take an a look at some of the rows to get an idea of what the datset looks like"
   ]
  },
  {
   "cell_type": "code",
   "execution_count": 91,
   "metadata": {
    "scrolled": false
   },
   "outputs": [
    {
     "data": {
      "text/html": [
       "<div>\n",
       "<style scoped>\n",
       "    .dataframe tbody tr th:only-of-type {\n",
       "        vertical-align: middle;\n",
       "    }\n",
       "\n",
       "    .dataframe tbody tr th {\n",
       "        vertical-align: top;\n",
       "    }\n",
       "\n",
       "    .dataframe thead th {\n",
       "        text-align: right;\n",
       "    }\n",
       "</style>\n",
       "<table border=\"1\" class=\"dataframe\">\n",
       "  <thead>\n",
       "    <tr style=\"text-align: right;\">\n",
       "      <th></th>\n",
       "      <th>BUILDING_ID</th>\n",
       "      <th>BOROUGH</th>\n",
       "      <th>NUMBER</th>\n",
       "      <th>STREET</th>\n",
       "      <th>TOTAL_UNITS</th>\n",
       "      <th>AEP_START_DATE</th>\n",
       "      <th># OF B/C VIOLATIONS AT START</th>\n",
       "      <th>CURRENT_STATUS</th>\n",
       "      <th>DISCHARGE_DATE</th>\n",
       "      <th>AEP_ROUND</th>\n",
       "      <th>Postcode</th>\n",
       "      <th>Latitude</th>\n",
       "      <th>Longitude</th>\n",
       "      <th>Community Board</th>\n",
       "      <th>Council District</th>\n",
       "      <th>Census Tract</th>\n",
       "      <th>BIN</th>\n",
       "      <th>BBL</th>\n",
       "      <th>NTA</th>\n",
       "    </tr>\n",
       "  </thead>\n",
       "  <tbody>\n",
       "    <tr>\n",
       "      <th>0</th>\n",
       "      <td>118921</td>\n",
       "      <td>Bronx</td>\n",
       "      <td>2739</td>\n",
       "      <td>WALLACE AVENUE</td>\n",
       "      <td>4</td>\n",
       "      <td>01/31/2011</td>\n",
       "      <td>280</td>\n",
       "      <td>AEP Discharged</td>\n",
       "      <td>11/08/2018</td>\n",
       "      <td>Aep Round 4</td>\n",
       "      <td>10467</td>\n",
       "      <td>40.866157</td>\n",
       "      <td>-73.864449</td>\n",
       "      <td>11</td>\n",
       "      <td>15</td>\n",
       "      <td>338</td>\n",
       "      <td>2053681</td>\n",
       "      <td>2045110043</td>\n",
       "      <td>Bronxdale</td>\n",
       "    </tr>\n",
       "    <tr>\n",
       "      <th>1</th>\n",
       "      <td>338100</td>\n",
       "      <td>Brooklyn</td>\n",
       "      <td>738</td>\n",
       "      <td>MILLER AVENUE</td>\n",
       "      <td>6</td>\n",
       "      <td>01/31/2020</td>\n",
       "      <td>156</td>\n",
       "      <td>AEP Discharged</td>\n",
       "      <td>10/23/2020</td>\n",
       "      <td>Aep Round 13</td>\n",
       "      <td>11207</td>\n",
       "      <td>40.662484</td>\n",
       "      <td>-73.888169</td>\n",
       "      <td>5</td>\n",
       "      <td>42</td>\n",
       "      <td>1122</td>\n",
       "      <td>3096710</td>\n",
       "      <td>3043030027</td>\n",
       "      <td>East New York (Pennsylvania Ave)</td>\n",
       "    </tr>\n",
       "    <tr>\n",
       "      <th>2</th>\n",
       "      <td>354272</td>\n",
       "      <td>Brooklyn</td>\n",
       "      <td>2488</td>\n",
       "      <td>PITKIN AVENUE</td>\n",
       "      <td>3</td>\n",
       "      <td>02/02/2015</td>\n",
       "      <td>328</td>\n",
       "      <td>AEP Discharged</td>\n",
       "      <td>10/05/2015</td>\n",
       "      <td>Aep Round 8</td>\n",
       "      <td>11208</td>\n",
       "      <td>40.674161</td>\n",
       "      <td>-73.880485</td>\n",
       "      <td>5</td>\n",
       "      <td>37</td>\n",
       "      <td>1166</td>\n",
       "      <td>3089314</td>\n",
       "      <td>3040210019</td>\n",
       "      <td>East New York</td>\n",
       "    </tr>\n",
       "    <tr>\n",
       "      <th>3</th>\n",
       "      <td>148503</td>\n",
       "      <td>Brooklyn</td>\n",
       "      <td>1366</td>\n",
       "      <td>40 STREET</td>\n",
       "      <td>6</td>\n",
       "      <td>01/31/2014</td>\n",
       "      <td>66</td>\n",
       "      <td>AEP Discharged</td>\n",
       "      <td>04/23/2014</td>\n",
       "      <td>Aep Round 7</td>\n",
       "      <td>11218</td>\n",
       "      <td>40.639235</td>\n",
       "      <td>-73.985515</td>\n",
       "      <td>12</td>\n",
       "      <td>39</td>\n",
       "      <td>230</td>\n",
       "      <td>3123252</td>\n",
       "      <td>3052970033</td>\n",
       "      <td>Borough Park</td>\n",
       "    </tr>\n",
       "    <tr>\n",
       "      <th>4</th>\n",
       "      <td>309707</td>\n",
       "      <td>Brooklyn</td>\n",
       "      <td>173</td>\n",
       "      <td>HEMLOCK STREET</td>\n",
       "      <td>4</td>\n",
       "      <td>01/31/2014</td>\n",
       "      <td>130</td>\n",
       "      <td>AEP Discharged</td>\n",
       "      <td>06/12/2015</td>\n",
       "      <td>Aep Round 7</td>\n",
       "      <td>11208</td>\n",
       "      <td>40.685633</td>\n",
       "      <td>-73.871577</td>\n",
       "      <td>5</td>\n",
       "      <td>37</td>\n",
       "      <td>1184</td>\n",
       "      <td>3092361</td>\n",
       "      <td>3041320030</td>\n",
       "      <td>Cypress Hills-City Line</td>\n",
       "    </tr>\n",
       "    <tr>\n",
       "      <th>...</th>\n",
       "      <td>...</td>\n",
       "      <td>...</td>\n",
       "      <td>...</td>\n",
       "      <td>...</td>\n",
       "      <td>...</td>\n",
       "      <td>...</td>\n",
       "      <td>...</td>\n",
       "      <td>...</td>\n",
       "      <td>...</td>\n",
       "      <td>...</td>\n",
       "      <td>...</td>\n",
       "      <td>...</td>\n",
       "      <td>...</td>\n",
       "      <td>...</td>\n",
       "      <td>...</td>\n",
       "      <td>...</td>\n",
       "      <td>...</td>\n",
       "      <td>...</td>\n",
       "      <td>...</td>\n",
       "    </tr>\n",
       "    <tr>\n",
       "      <th>3132</th>\n",
       "      <td>27560</td>\n",
       "      <td>Manhattan</td>\n",
       "      <td>88</td>\n",
       "      <td>SEAMAN AVENUE</td>\n",
       "      <td>32</td>\n",
       "      <td>02/02/2015</td>\n",
       "      <td>536</td>\n",
       "      <td>AEP Discharged</td>\n",
       "      <td>06/09/2015</td>\n",
       "      <td>Aep Round 8</td>\n",
       "      <td>10034</td>\n",
       "      <td>40.868156</td>\n",
       "      <td>-73.924905</td>\n",
       "      <td>12</td>\n",
       "      <td>10</td>\n",
       "      <td>295</td>\n",
       "      <td>1065068</td>\n",
       "      <td>1022480028</td>\n",
       "      <td>Marble Hill-Inwood</td>\n",
       "    </tr>\n",
       "    <tr>\n",
       "      <th>3133</th>\n",
       "      <td>6257</td>\n",
       "      <td>Manhattan</td>\n",
       "      <td>440</td>\n",
       "      <td>AUDUBON AVENUE</td>\n",
       "      <td>68</td>\n",
       "      <td>01/31/2011</td>\n",
       "      <td>1983</td>\n",
       "      <td>AEP Discharged</td>\n",
       "      <td>06/28/2011</td>\n",
       "      <td>Aep Round 4</td>\n",
       "      <td>10040</td>\n",
       "      <td>40.852574</td>\n",
       "      <td>-73.929545</td>\n",
       "      <td>12</td>\n",
       "      <td>10</td>\n",
       "      <td>269</td>\n",
       "      <td>1063813</td>\n",
       "      <td>1021580016</td>\n",
       "      <td>Washington Heights North</td>\n",
       "    </tr>\n",
       "    <tr>\n",
       "      <th>3134</th>\n",
       "      <td>326015</td>\n",
       "      <td>Brooklyn</td>\n",
       "      <td>568</td>\n",
       "      <td>LINCOLN AVENUE</td>\n",
       "      <td>3</td>\n",
       "      <td>01/31/2020</td>\n",
       "      <td>422</td>\n",
       "      <td>AEP Active</td>\n",
       "      <td>NaN</td>\n",
       "      <td>Aep Round 13</td>\n",
       "      <td>11208</td>\n",
       "      <td>40.675365</td>\n",
       "      <td>-73.867137</td>\n",
       "      <td>5</td>\n",
       "      <td>42</td>\n",
       "      <td>1200</td>\n",
       "      <td>3095200</td>\n",
       "      <td>3042370026</td>\n",
       "      <td>East New York</td>\n",
       "    </tr>\n",
       "    <tr>\n",
       "      <th>3135</th>\n",
       "      <td>65814</td>\n",
       "      <td>Bronx</td>\n",
       "      <td>265</td>\n",
       "      <td>EAST 176 STREET</td>\n",
       "      <td>21</td>\n",
       "      <td>02/01/2016</td>\n",
       "      <td>1398</td>\n",
       "      <td>AEP Discharged</td>\n",
       "      <td>11/09/2016</td>\n",
       "      <td>Aep Round 9</td>\n",
       "      <td>10457</td>\n",
       "      <td>40.847382</td>\n",
       "      <td>-73.904373</td>\n",
       "      <td>5</td>\n",
       "      <td>15</td>\n",
       "      <td>23302</td>\n",
       "      <td>2007568</td>\n",
       "      <td>2028020044</td>\n",
       "      <td>Mount Hope</td>\n",
       "    </tr>\n",
       "    <tr>\n",
       "      <th>3136</th>\n",
       "      <td>63612</td>\n",
       "      <td>Bronx</td>\n",
       "      <td>422</td>\n",
       "      <td>EAST 148 STREET</td>\n",
       "      <td>8</td>\n",
       "      <td>01/31/2012</td>\n",
       "      <td>551</td>\n",
       "      <td>AEP Discharged</td>\n",
       "      <td>04/24/2017</td>\n",
       "      <td>Aep Round 5</td>\n",
       "      <td>10455</td>\n",
       "      <td>40.814878</td>\n",
       "      <td>-73.917111</td>\n",
       "      <td>1</td>\n",
       "      <td>8</td>\n",
       "      <td>43</td>\n",
       "      <td>2000521</td>\n",
       "      <td>2022920024</td>\n",
       "      <td>Mott Haven-Port Morris</td>\n",
       "    </tr>\n",
       "  </tbody>\n",
       "</table>\n",
       "<p>3136 rows × 19 columns</p>\n",
       "</div>"
      ],
      "text/plain": [
       "     BUILDING_ID    BOROUGH NUMBER           STREET TOTAL_UNITS  \\\n",
       "0         118921      Bronx   2739   WALLACE AVENUE           4   \n",
       "1         338100   Brooklyn    738    MILLER AVENUE           6   \n",
       "2         354272   Brooklyn   2488    PITKIN AVENUE           3   \n",
       "3         148503   Brooklyn   1366        40 STREET           6   \n",
       "4         309707   Brooklyn    173   HEMLOCK STREET           4   \n",
       "...          ...        ...    ...              ...         ...   \n",
       "3132       27560  Manhattan     88    SEAMAN AVENUE          32   \n",
       "3133        6257  Manhattan    440   AUDUBON AVENUE          68   \n",
       "3134      326015   Brooklyn    568   LINCOLN AVENUE           3   \n",
       "3135       65814      Bronx    265  EAST 176 STREET          21   \n",
       "3136       63612      Bronx    422  EAST 148 STREET           8   \n",
       "\n",
       "     AEP_START_DATE # OF B/C VIOLATIONS AT START  CURRENT_STATUS  \\\n",
       "0        01/31/2011                          280  AEP Discharged   \n",
       "1        01/31/2020                          156  AEP Discharged   \n",
       "2        02/02/2015                          328  AEP Discharged   \n",
       "3        01/31/2014                           66  AEP Discharged   \n",
       "4        01/31/2014                          130  AEP Discharged   \n",
       "...             ...                          ...             ...   \n",
       "3132     02/02/2015                          536  AEP Discharged   \n",
       "3133     01/31/2011                         1983  AEP Discharged   \n",
       "3134     01/31/2020                          422      AEP Active   \n",
       "3135     02/01/2016                         1398  AEP Discharged   \n",
       "3136     01/31/2012                          551  AEP Discharged   \n",
       "\n",
       "     DISCHARGE_DATE     AEP_ROUND Postcode   Latitude   Longitude  \\\n",
       "0        11/08/2018   Aep Round 4    10467  40.866157  -73.864449   \n",
       "1        10/23/2020  Aep Round 13    11207  40.662484  -73.888169   \n",
       "2        10/05/2015   Aep Round 8    11208  40.674161  -73.880485   \n",
       "3        04/23/2014   Aep Round 7    11218  40.639235  -73.985515   \n",
       "4        06/12/2015   Aep Round 7    11208  40.685633  -73.871577   \n",
       "...             ...           ...      ...        ...         ...   \n",
       "3132     06/09/2015   Aep Round 8    10034  40.868156  -73.924905   \n",
       "3133     06/28/2011   Aep Round 4    10040  40.852574  -73.929545   \n",
       "3134            NaN  Aep Round 13    11208  40.675365  -73.867137   \n",
       "3135     11/09/2016   Aep Round 9    10457  40.847382  -73.904373   \n",
       "3136     04/24/2017   Aep Round 5    10455  40.814878  -73.917111   \n",
       "\n",
       "     Community Board Council District Census Tract      BIN         BBL  \\\n",
       "0                 11               15          338  2053681  2045110043   \n",
       "1                  5               42         1122  3096710  3043030027   \n",
       "2                  5               37         1166  3089314  3040210019   \n",
       "3                 12               39          230  3123252  3052970033   \n",
       "4                  5               37         1184  3092361  3041320030   \n",
       "...              ...              ...          ...      ...         ...   \n",
       "3132              12               10          295  1065068  1022480028   \n",
       "3133              12               10          269  1063813  1021580016   \n",
       "3134               5               42         1200  3095200  3042370026   \n",
       "3135               5               15        23302  2007568  2028020044   \n",
       "3136               1                8           43  2000521  2022920024   \n",
       "\n",
       "                                   NTA  \n",
       "0                            Bronxdale  \n",
       "1     East New York (Pennsylvania Ave)  \n",
       "2                        East New York  \n",
       "3                         Borough Park  \n",
       "4              Cypress Hills-City Line  \n",
       "...                                ...  \n",
       "3132                Marble Hill-Inwood  \n",
       "3133          Washington Heights North  \n",
       "3134                     East New York  \n",
       "3135                        Mount Hope  \n",
       "3136            Mott Haven-Port Morris  \n",
       "\n",
       "[3136 rows x 19 columns]"
      ]
     },
     "execution_count": 91,
     "metadata": {},
     "output_type": "execute_result"
    }
   ],
   "source": [
    "df"
   ]
  },
  {
   "cell_type": "code",
   "execution_count": 92,
   "metadata": {},
   "outputs": [
    {
     "data": {
      "text/plain": [
       "Index(['BUILDING_ID', 'BOROUGH', 'NUMBER', 'STREET', 'TOTAL_UNITS',\n",
       "       'AEP_START_DATE', '# OF B/C VIOLATIONS AT START', 'CURRENT_STATUS',\n",
       "       'DISCHARGE_DATE', 'AEP_ROUND', 'Postcode', 'Latitude', 'Longitude',\n",
       "       'Community Board', 'Council District', 'Census Tract', 'BIN', 'BBL',\n",
       "       'NTA'],\n",
       "      dtype='object')"
      ]
     },
     "execution_count": 92,
     "metadata": {},
     "output_type": "execute_result"
    }
   ],
   "source": [
    "df.columns"
   ]
  },
  {
   "cell_type": "markdown",
   "metadata": {},
   "source": [
    "## Renaming columns"
   ]
  },
  {
   "cell_type": "code",
   "execution_count": 93,
   "metadata": {},
   "outputs": [],
   "source": [
    "df = df.rename(columns={\n",
    "                          \"BUILDING_ID\": \"Building ID\" \n",
    "                        , \"BOROUGH\": \"Borough\"\n",
    "                        , \"NUMBER\": \"Number\"\n",
    "                        , \"STREET\": \"Street\"\n",
    "                        , \"TOTAL_UNITS\": \"Total Units\"\n",
    "                        , \"AEP_START_DATE\": \"AEP Start Date\"\n",
    "                        , \"Job Status Descrp\": \"Job Status Description\"\n",
    "                        , \"# OF B/C VIOLATIONS AT START\": \"# of B/C Violations At Start\"\n",
    "                        , \"CURRENT_STATUS\": \"Current Status\"\n",
    "                        , \"DISCHARGE_DATE\": \"Discharge Date\"\n",
    "                        , \"AEP_ROUND\": \"AEP Round\"\n",
    "                       })"
   ]
  },
  {
   "cell_type": "markdown",
   "metadata": {},
   "source": [
    "#### Method to get an idea of the top 10 values of a column"
   ]
  },
  {
   "cell_type": "code",
   "execution_count": 94,
   "metadata": {},
   "outputs": [],
   "source": [
    "def show_vals(column_name, show_rows=10, df=df):\n",
    "    print(\"Top {} {}:\\n\".format(show_rows, column_name))\n",
    "    print(df[column_name].value_counts(dropna=False)[:show_rows])\n",
    "    print()"
   ]
  },
  {
   "cell_type": "code",
   "execution_count": 95,
   "metadata": {},
   "outputs": [
    {
     "data": {
      "text/plain": [
       "Index(['Building ID', 'Borough', 'Number', 'Street', 'Total Units',\n",
       "       'AEP Start Date', '# of B/C Violations At Start', 'Current Status',\n",
       "       'Discharge Date', 'AEP Round', 'Postcode', 'Latitude', 'Longitude',\n",
       "       'Community Board', 'Council District', 'Census Tract', 'BIN', 'BBL',\n",
       "       'NTA'],\n",
       "      dtype='object')"
      ]
     },
     "execution_count": 95,
     "metadata": {},
     "output_type": "execute_result"
    }
   ],
   "source": [
    "df.columns"
   ]
  },
  {
   "cell_type": "code",
   "execution_count": null,
   "metadata": {},
   "outputs": [],
   "source": []
  },
  {
   "cell_type": "markdown",
   "metadata": {},
   "source": [
    "### Examining Latitude and Longitude "
   ]
  },
  {
   "cell_type": "markdown",
   "metadata": {},
   "source": [
    "Group by Job # and check if latitude and longitude are the same all the same for the job, which would indicate different instances of the Job # all refer to the same Job."
   ]
  },
  {
   "cell_type": "code",
   "execution_count": 96,
   "metadata": {},
   "outputs": [],
   "source": [
    "group = df[['Building ID', 'Latitude', 'Longitude']].groupby('Building ID')"
   ]
  },
  {
   "cell_type": "markdown",
   "metadata": {},
   "source": [
    "This will take a little while to run"
   ]
  },
  {
   "cell_type": "code",
   "execution_count": 97,
   "metadata": {},
   "outputs": [],
   "source": [
    "tranformed = group.aggregate(lambda x: x.unique().shape[0])"
   ]
  },
  {
   "cell_type": "markdown",
   "metadata": {},
   "source": [
    "Jobs with multiple latitude and longitudes:"
   ]
  },
  {
   "cell_type": "code",
   "execution_count": 98,
   "metadata": {},
   "outputs": [
    {
     "data": {
      "text/html": [
       "<div>\n",
       "<style scoped>\n",
       "    .dataframe tbody tr th:only-of-type {\n",
       "        vertical-align: middle;\n",
       "    }\n",
       "\n",
       "    .dataframe tbody tr th {\n",
       "        vertical-align: top;\n",
       "    }\n",
       "\n",
       "    .dataframe thead th {\n",
       "        text-align: right;\n",
       "    }\n",
       "</style>\n",
       "<table border=\"1\" class=\"dataframe\">\n",
       "  <thead>\n",
       "    <tr style=\"text-align: right;\">\n",
       "      <th></th>\n",
       "      <th>Latitude</th>\n",
       "      <th>Longitude</th>\n",
       "    </tr>\n",
       "    <tr>\n",
       "      <th>Building ID</th>\n",
       "      <th></th>\n",
       "      <th></th>\n",
       "    </tr>\n",
       "  </thead>\n",
       "  <tbody>\n",
       "  </tbody>\n",
       "</table>\n",
       "</div>"
      ],
      "text/plain": [
       "Empty DataFrame\n",
       "Columns: [Latitude, Longitude]\n",
       "Index: []"
      ]
     },
     "execution_count": 98,
     "metadata": {},
     "output_type": "execute_result"
    }
   ],
   "source": [
    "# 107 potential bad jobs\n",
    "tranformed.loc[(tranformed['Latitude']!=1)\n",
    "              |(tranformed['Longitude']!=1)]"
   ]
  },
  {
   "cell_type": "code",
   "execution_count": 99,
   "metadata": {},
   "outputs": [],
   "source": [
    "potential_bad_jobs = list(tranformed.loc[(tranformed['Latitude']!=1)\n",
    "              |(tranformed['Longitude']!=1)].index.unique())"
   ]
  },
  {
   "cell_type": "markdown",
   "metadata": {},
   "source": [
    "Separate these into a temporary dataframe to play around with:"
   ]
  },
  {
   "cell_type": "code",
   "execution_count": 100,
   "metadata": {},
   "outputs": [],
   "source": [
    "df_temp = df.loc[df['Building ID'].isin(potential_bad_jobs)].copy()"
   ]
  },
  {
   "cell_type": "code",
   "execution_count": 101,
   "metadata": {},
   "outputs": [],
   "source": [
    "df_temp = df_temp.sort_values(['Building ID', 'Latitude', 'Longitude'])"
   ]
  },
  {
   "cell_type": "markdown",
   "metadata": {},
   "source": [
    "Most of these are just missing lat and long values.\n",
    "\n",
    "The others look to be Jobs that manage multiple houses/lots in a small area, so are probably correct"
   ]
  },
  {
   "cell_type": "code",
   "execution_count": 102,
   "metadata": {
    "scrolled": false
   },
   "outputs": [
    {
     "data": {
      "text/html": [
       "<div>\n",
       "<style scoped>\n",
       "    .dataframe tbody tr th:only-of-type {\n",
       "        vertical-align: middle;\n",
       "    }\n",
       "\n",
       "    .dataframe tbody tr th {\n",
       "        vertical-align: top;\n",
       "    }\n",
       "\n",
       "    .dataframe thead th {\n",
       "        text-align: right;\n",
       "    }\n",
       "</style>\n",
       "<table border=\"1\" class=\"dataframe\">\n",
       "  <thead>\n",
       "    <tr style=\"text-align: right;\">\n",
       "      <th></th>\n",
       "      <th>Building ID</th>\n",
       "      <th>Borough</th>\n",
       "      <th>Number</th>\n",
       "      <th>Street</th>\n",
       "      <th>Total Units</th>\n",
       "      <th>AEP Start Date</th>\n",
       "      <th># of B/C Violations At Start</th>\n",
       "      <th>Current Status</th>\n",
       "      <th>Discharge Date</th>\n",
       "      <th>AEP Round</th>\n",
       "      <th>Postcode</th>\n",
       "      <th>Latitude</th>\n",
       "      <th>Longitude</th>\n",
       "      <th>Community Board</th>\n",
       "      <th>Council District</th>\n",
       "      <th>Census Tract</th>\n",
       "      <th>BIN</th>\n",
       "      <th>BBL</th>\n",
       "      <th>NTA</th>\n",
       "    </tr>\n",
       "  </thead>\n",
       "  <tbody>\n",
       "  </tbody>\n",
       "</table>\n",
       "</div>"
      ],
      "text/plain": [
       "Empty DataFrame\n",
       "Columns: [Building ID, Borough, Number, Street, Total Units, AEP Start Date, # of B/C Violations At Start, Current Status, Discharge Date, AEP Round, Postcode, Latitude, Longitude, Community Board, Council District, Census Tract, BIN, BBL, NTA]\n",
       "Index: []"
      ]
     },
     "execution_count": 102,
     "metadata": {},
     "output_type": "execute_result"
    }
   ],
   "source": [
    "df_temp[df_temp.duplicated(subset=['Building ID', 'BBL', 'BIN', 'NTA'], keep=False)]"
   ]
  },
  {
   "cell_type": "markdown",
   "metadata": {},
   "source": [
    "#### Later, after we have cleaned more values, we will fill these missing values by job #"
   ]
  },
  {
   "cell_type": "markdown",
   "metadata": {},
   "source": [
    "Remove Jobs we know to be just missing data from the list of bad jobs"
   ]
  },
  {
   "cell_type": "code",
   "execution_count": 103,
   "metadata": {},
   "outputs": [],
   "source": [
    "not_bad_jobs = df_temp[df_temp.duplicated(subset=['Building ID', 'BBL', 'BIN', 'NTA'], keep=False)]['Building ID'].unique()"
   ]
  },
  {
   "cell_type": "code",
   "execution_count": 104,
   "metadata": {},
   "outputs": [],
   "source": [
    "df_temp = df_temp.loc[~df_temp['Building ID'].isin(not_bad_jobs)]"
   ]
  },
  {
   "cell_type": "markdown",
   "metadata": {},
   "source": [
    "All of these are jobs that handle multiple lots or House #s, which explains why the lat/long change \n",
    "\n",
    "Job # 122171130 and 122222638 may be exact copies of each other though"
   ]
  },
  {
   "cell_type": "code",
   "execution_count": 105,
   "metadata": {
    "scrolled": false
   },
   "outputs": [
    {
     "data": {
      "text/html": [
       "<div>\n",
       "<style scoped>\n",
       "    .dataframe tbody tr th:only-of-type {\n",
       "        vertical-align: middle;\n",
       "    }\n",
       "\n",
       "    .dataframe tbody tr th {\n",
       "        vertical-align: top;\n",
       "    }\n",
       "\n",
       "    .dataframe thead th {\n",
       "        text-align: right;\n",
       "    }\n",
       "</style>\n",
       "<table border=\"1\" class=\"dataframe\">\n",
       "  <thead>\n",
       "    <tr style=\"text-align: right;\">\n",
       "      <th></th>\n",
       "      <th>Building ID</th>\n",
       "      <th>Borough</th>\n",
       "      <th>Number</th>\n",
       "      <th>Street</th>\n",
       "      <th>Total Units</th>\n",
       "      <th>AEP Start Date</th>\n",
       "      <th># of B/C Violations At Start</th>\n",
       "      <th>Current Status</th>\n",
       "      <th>Discharge Date</th>\n",
       "      <th>AEP Round</th>\n",
       "      <th>Postcode</th>\n",
       "      <th>Latitude</th>\n",
       "      <th>Longitude</th>\n",
       "      <th>Community Board</th>\n",
       "      <th>Council District</th>\n",
       "      <th>Census Tract</th>\n",
       "      <th>BIN</th>\n",
       "      <th>BBL</th>\n",
       "      <th>NTA</th>\n",
       "    </tr>\n",
       "  </thead>\n",
       "  <tbody>\n",
       "  </tbody>\n",
       "</table>\n",
       "</div>"
      ],
      "text/plain": [
       "Empty DataFrame\n",
       "Columns: [Building ID, Borough, Number, Street, Total Units, AEP Start Date, # of B/C Violations At Start, Current Status, Discharge Date, AEP Round, Postcode, Latitude, Longitude, Community Board, Council District, Census Tract, BIN, BBL, NTA]\n",
       "Index: []"
      ]
     },
     "execution_count": 105,
     "metadata": {},
     "output_type": "execute_result"
    }
   ],
   "source": [
    "df_temp"
   ]
  },
  {
   "cell_type": "markdown",
   "metadata": {},
   "source": [
    "Latest action date is different, so its probably differnt but very similar jobs "
   ]
  },
  {
   "cell_type": "code",
   "execution_count": 106,
   "metadata": {
    "scrolled": true
   },
   "outputs": [
    {
     "data": {
      "text/html": [
       "<div>\n",
       "<style scoped>\n",
       "    .dataframe tbody tr th:only-of-type {\n",
       "        vertical-align: middle;\n",
       "    }\n",
       "\n",
       "    .dataframe tbody tr th {\n",
       "        vertical-align: top;\n",
       "    }\n",
       "\n",
       "    .dataframe thead th {\n",
       "        text-align: right;\n",
       "    }\n",
       "</style>\n",
       "<table border=\"1\" class=\"dataframe\">\n",
       "  <thead>\n",
       "    <tr style=\"text-align: right;\">\n",
       "      <th></th>\n",
       "      <th>Building ID</th>\n",
       "      <th>Borough</th>\n",
       "      <th>Number</th>\n",
       "      <th>Street</th>\n",
       "      <th>Total Units</th>\n",
       "      <th>AEP Start Date</th>\n",
       "      <th># of B/C Violations At Start</th>\n",
       "      <th>Current Status</th>\n",
       "      <th>Discharge Date</th>\n",
       "      <th>AEP Round</th>\n",
       "      <th>Postcode</th>\n",
       "      <th>Latitude</th>\n",
       "      <th>Longitude</th>\n",
       "      <th>Community Board</th>\n",
       "      <th>Council District</th>\n",
       "      <th>Census Tract</th>\n",
       "      <th>BIN</th>\n",
       "      <th>BBL</th>\n",
       "      <th>NTA</th>\n",
       "    </tr>\n",
       "  </thead>\n",
       "  <tbody>\n",
       "  </tbody>\n",
       "</table>\n",
       "</div>"
      ],
      "text/plain": [
       "Empty DataFrame\n",
       "Columns: [Building ID, Borough, Number, Street, Total Units, AEP Start Date, # of B/C Violations At Start, Current Status, Discharge Date, AEP Round, Postcode, Latitude, Longitude, Community Board, Council District, Census Tract, BIN, BBL, NTA]\n",
       "Index: []"
      ]
     },
     "execution_count": 106,
     "metadata": {},
     "output_type": "execute_result"
    }
   ],
   "source": [
    "df_temp[df_temp.columns[0:20]]\n"
   ]
  },
  {
   "cell_type": "code",
   "execution_count": null,
   "metadata": {},
   "outputs": [],
   "source": []
  },
  {
   "cell_type": "markdown",
   "metadata": {},
   "source": [
    "Check if any Job #s have non-digit values"
   ]
  },
  {
   "cell_type": "code",
   "execution_count": 107,
   "metadata": {},
   "outputs": [],
   "source": [
    "df['Building ID'] = df['Building ID'].astype('str')"
   ]
  },
  {
   "cell_type": "code",
   "execution_count": 108,
   "metadata": {},
   "outputs": [
    {
     "data": {
      "text/plain": [
       "Series([], Name: Building ID, dtype: object)"
      ]
     },
     "execution_count": 108,
     "metadata": {},
     "output_type": "execute_result"
    }
   ],
   "source": [
    "df.loc[(~df['Building ID'].isna())\n",
    "       &(~df['Building ID'].str.isdigit())]['Building ID']"
   ]
  },
  {
   "cell_type": "markdown",
   "metadata": {},
   "source": [
    "All Job #s entirely composed of digits, so we cast them to ints"
   ]
  },
  {
   "cell_type": "code",
   "execution_count": 109,
   "metadata": {},
   "outputs": [],
   "source": [
    "df['Building ID'] = df['Building ID'].astype('int')"
   ]
  },
  {
   "cell_type": "code",
   "execution_count": 110,
   "metadata": {
    "scrolled": false
   },
   "outputs": [
    {
     "data": {
      "text/plain": [
       "count      3136.000000\n",
       "mean     241289.808355\n",
       "std      198353.066514\n",
       "min         272.000000\n",
       "25%       69918.250000\n",
       "50%      225238.000000\n",
       "75%      345849.250000\n",
       "max      949009.000000\n",
       "Name: Building ID, dtype: float64"
      ]
     },
     "execution_count": 110,
     "metadata": {},
     "output_type": "execute_result"
    }
   ],
   "source": [
    "df['Building ID'].describe()"
   ]
  },
  {
   "cell_type": "markdown",
   "metadata": {},
   "source": [
    "## Examining and reparing house #s"
   ]
  },
  {
   "cell_type": "markdown",
   "metadata": {},
   "source": [
    "House #'s appear to be mostly ints\n",
    "\n",
    "However, there are legitimate house numbers with dashes so we'll have to make them strings"
   ]
  },
  {
   "cell_type": "code",
   "execution_count": 111,
   "metadata": {
    "scrolled": true
   },
   "outputs": [
    {
     "name": "stdout",
     "output_type": "stream",
     "text": [
      "Top 10 Number:\n",
      "\n",
      "20     11\n",
      "180    10\n",
      "304     9\n",
      "257     8\n",
      "541     8\n",
      "234     8\n",
      "900     7\n",
      "473     7\n",
      "636     7\n",
      "315     7\n",
      "Name: Number, dtype: int64\n",
      "\n"
     ]
    }
   ],
   "source": [
    "show_vals('Number', show_rows=10)"
   ]
  },
  {
   "cell_type": "markdown",
   "metadata": {},
   "source": [
    "Replace NaN values with empty strings, then convert column to string, and make everything uppercase\n"
   ]
  },
  {
   "cell_type": "code",
   "execution_count": 112,
   "metadata": {},
   "outputs": [],
   "source": [
    "df['Number'].fillna('', inplace=True)\n",
    "df['Number'] = df['Number'].astype('str')\n",
    "df['Number'] = df['Number'].str.upper()"
   ]
  },
  {
   "cell_type": "markdown",
   "metadata": {},
   "source": [
    "Check for numbers spelled out as words"
   ]
  },
  {
   "cell_type": "code",
   "execution_count": 113,
   "metadata": {
    "scrolled": true
   },
   "outputs": [
    {
     "data": {
      "text/plain": [
       "Series([], Name: Number, dtype: object)"
      ]
     },
     "execution_count": 113,
     "metadata": {},
     "output_type": "execute_result"
    }
   ],
   "source": [
    "df.loc[(~df['Number'].isna())\n",
    "       &(df['Number'].str.isalpha())]['Number']"
   ]
  },
  {
   "cell_type": "markdown",
   "metadata": {},
   "source": [
    "Check if thses are empty strings:"
   ]
  },
  {
   "cell_type": "code",
   "execution_count": 114,
   "metadata": {},
   "outputs": [
    {
     "data": {
      "text/plain": [
       "Series([], Name: Number, dtype: object)"
      ]
     },
     "execution_count": 114,
     "metadata": {},
     "output_type": "execute_result"
    }
   ],
   "source": [
    "df.loc[(~df['Number'].str.contains('\\\\d', regex=True))]['Number']"
   ]
  },
  {
   "cell_type": "markdown",
   "metadata": {},
   "source": [
    "Most of these will probably be legitimate house numbers, since house numbers can have dashes"
   ]
  },
  {
   "cell_type": "code",
   "execution_count": 115,
   "metadata": {
    "scrolled": false
   },
   "outputs": [
    {
     "data": {
      "text/plain": [
       "6           39-06\n",
       "17          2156A\n",
       "24          28-02\n",
       "33      720 FRONT\n",
       "47          20-10\n",
       "          ...    \n",
       "2861       144-03\n",
       "3016        18-06\n",
       "3078        18-14\n",
       "3095       158-17\n",
       "3127       108-42\n",
       "Name: Number, Length: 139, dtype: object"
      ]
     },
     "execution_count": 115,
     "metadata": {},
     "output_type": "execute_result"
    }
   ],
   "source": [
    "df.loc[(~df['Number'].isna())\n",
    "       &(~df['Number'].str.isdigit())]['Number']"
   ]
  },
  {
   "cell_type": "markdown",
   "metadata": {},
   "source": [
    "Check non-numeric house #'s that don't have dashes"
   ]
  },
  {
   "cell_type": "code",
   "execution_count": 116,
   "metadata": {
    "scrolled": false
   },
   "outputs": [
    {
     "data": {
      "text/plain": [
       "17          2156A\n",
       "33      720 FRONT\n",
       "169           21A\n",
       "182         3043A\n",
       "417          997A\n",
       "460     720 FRONT\n",
       "483          268A\n",
       "744          684B\n",
       "825     720 FRONT\n",
       "1001         997A\n",
       "1014     508 REAR\n",
       "1216        3043B\n",
       "1226         240A\n",
       "1726      501 1/2\n",
       "1868         560A\n",
       "2117          78A\n",
       "2160        2011A\n",
       "2222         274A\n",
       "Name: Number, dtype: object"
      ]
     },
     "execution_count": 116,
     "metadata": {},
     "output_type": "execute_result"
    }
   ],
   "source": [
    "df.loc[(~df['Number'].isna())\n",
    "       &(~df['Number'].str.isdigit())\n",
    "      &(~df['Number'].str.contains('-', regex=False))]['Number'][:25]"
   ]
  },
  {
   "cell_type": "markdown",
   "metadata": {},
   "source": [
    "We see a mix of reference to the house's garage, the rear house and single letters that likely indicate apartments in multi-occupancy venues. \n",
    "\n",
    "We will standardize the formatting, and maintain the reference to garage, rear, and appartment, since there is no apartment column for the job.\n",
    "\n",
    "First split the numbers and words with a space"
   ]
  },
  {
   "cell_type": "code",
   "execution_count": 117,
   "metadata": {},
   "outputs": [],
   "source": [
    "df['Number'] = df['Number'].str.replace(pat='(?P<one>\\\\d)(?P<two>[A-Z]+)', repl='\\g<one> \\g<two>', regex=True)"
   ]
  },
  {
   "cell_type": "markdown",
   "metadata": {},
   "source": [
    "Now we will fix the formatting for garage and \n",
    "remove references to north, south, east, west, since they should be in street #"
   ]
  },
  {
   "cell_type": "code",
   "execution_count": 118,
   "metadata": {},
   "outputs": [],
   "source": [
    "df['Number'] = df['Number'].str.replace(pat='(?P<one>GAR$)', repl='GARAGE', regex=True)"
   ]
  },
  {
   "cell_type": "code",
   "execution_count": 119,
   "metadata": {},
   "outputs": [],
   "source": [
    "df['Number'] = df['Number'].str.replace(pat='NORTH([A-Z]+)?', repl='', regex=True)\n",
    "df['Number'] = df['Number'].str.replace(pat='EAST([A-Z]+)?', repl='', regex=True)\n",
    "df['Number'] = df['Number'].str.replace(pat='SOUTH([A-Z]+)?', repl='', regex=True)\n",
    "df['Number'] = df['Number'].str.replace(pat='WEST([A-Z]+)?', repl='', regex=True)"
   ]
  },
  {
   "cell_type": "code",
   "execution_count": 120,
   "metadata": {},
   "outputs": [
    {
     "data": {
      "text/plain": [
       "17         2156 A\n",
       "33      720 FRONT\n",
       "169          21 A\n",
       "182        3043 A\n",
       "417         997 A\n",
       "460     720 FRONT\n",
       "483         268 A\n",
       "744         684 B\n",
       "825     720 FRONT\n",
       "1001        997 A\n",
       "1014     508 REAR\n",
       "1216       3043 B\n",
       "1226        240 A\n",
       "1726      501 1/2\n",
       "1868        560 A\n",
       "2117         78 A\n",
       "2160       2011 A\n",
       "2222        274 A\n",
       "Name: Number, dtype: object"
      ]
     },
     "execution_count": 120,
     "metadata": {},
     "output_type": "execute_result"
    }
   ],
   "source": [
    "# Confirm that it worked correctly:\n",
    "df.loc[(~df['Number'].isna())\n",
    "       &(~df['Number'].str.isdigit())\n",
    "       &(~df['Number'].str.contains('-', regex=False))]['Number'][:30]"
   ]
  },
  {
   "cell_type": "markdown",
   "metadata": {},
   "source": [
    "For unclear reasons, adding xticks makes this plot incredibly slow to display."
   ]
  },
  {
   "cell_type": "code",
   "execution_count": 121,
   "metadata": {},
   "outputs": [
    {
     "data": {
      "text/plain": [
       "<matplotlib.axes._subplots.AxesSubplot at 0x130ae992b50>"
      ]
     },
     "execution_count": 121,
     "metadata": {},
     "output_type": "execute_result"
    },
    {
     "data": {
      "image/png": "[encoded data removed]",
      "text/plain": [
       "<Figure size 432x288 with 1 Axes>"
      ]
     },
     "metadata": {
      "needs_background": "light"
     },
     "output_type": "display_data"
    }
   ],
   "source": [
    "df[\"Postcode\"].astype('int').plot(kind='hist', loglog=False, title='Initial Cost Frequncy (log-log)')"
   ]
  },
  {
   "cell_type": "markdown",
   "metadata": {},
   "source": [
    "Intial costs appear to be distributed roughly exponentially "
   ]
  },
  {
   "cell_type": "code",
   "execution_count": 122,
   "metadata": {
    "scrolled": false
   },
   "outputs": [
    {
     "data": {
      "text/plain": [
       "<matplotlib.axes._subplots.AxesSubplot at 0x130aed4c6a0>"
      ]
     },
     "execution_count": 122,
     "metadata": {},
     "output_type": "execute_result"
    },
    {
     "data": {
      "image/png": "[encoded data removed]",
      "text/plain": [
       "<Figure size 432x288 with 1 Axes>"
      ]
     },
     "metadata": {
      "needs_background": "light"
     },
     "output_type": "display_data"
    }
   ],
   "source": [
    "df.loc[df[\"Postcode\"].astype('int')<10**8][\"Postcode\"].astype('int').plot(kind='hist', logy=True, bins=50, title='Initial Cost Frequncy, values < 10^8 (log)')"
   ]
  },
  {
   "cell_type": "code",
   "execution_count": 123,
   "metadata": {
    "scrolled": true
   },
   "outputs": [
    {
     "data": {
      "text/plain": [
       "Brooklyn         1660\n",
       "Bronx             835\n",
       "Manhattan         462\n",
       "Queens            159\n",
       "Staten Island      20\n",
       "Name: Borough, dtype: int64"
      ]
     },
     "execution_count": 123,
     "metadata": {},
     "output_type": "execute_result"
    }
   ],
   "source": [
    "df[\"Borough\"].value_counts()"
   ]
  },
  {
   "cell_type": "markdown",
   "metadata": {},
   "source": [
    "Since the states can be outside NYC, these are probably fine"
   ]
  },
  {
   "cell_type": "code",
   "execution_count": 124,
   "metadata": {
    "scrolled": true
   },
   "outputs": [
    {
     "data": {
      "text/plain": [
       "3      535\n",
       "6      523\n",
       "4      272\n",
       "8      259\n",
       "16     136\n",
       "      ... \n",
       "64       1\n",
       "75       1\n",
       "100      1\n",
       "82       1\n",
       "79       1\n",
       "Name: Total Units, Length: 88, dtype: int64"
      ]
     },
     "execution_count": 124,
     "metadata": {},
     "output_type": "execute_result"
    }
   ],
   "source": [
    "df[\"Total Units\"].value_counts()"
   ]
  },
  {
   "cell_type": "code",
   "execution_count": null,
   "metadata": {},
   "outputs": [],
   "source": []
  },
  {
   "cell_type": "markdown",
   "metadata": {},
   "source": [
    "### Checking additional numerical columns for coherency"
   ]
  },
  {
   "cell_type": "code",
   "execution_count": 125,
   "metadata": {},
   "outputs": [],
   "source": [
    "numerical_columns = ['# of B/C Violations At Start',\n",
    "       'Community Board', 'Council District', 'Census Tract']"
   ]
  },
  {
   "cell_type": "markdown",
   "metadata": {},
   "source": [
    "Try to convert these all to numeric values"
   ]
  },
  {
   "cell_type": "code",
   "execution_count": 126,
   "metadata": {},
   "outputs": [],
   "source": [
    "for col in numerical_columns:\n",
    "    df[col] = df[col].astype('str')"
   ]
  },
  {
   "cell_type": "code",
   "execution_count": 127,
   "metadata": {
    "scrolled": false
   },
   "outputs": [
    {
     "name": "stdout",
     "output_type": "stream",
     "text": [
      "# of B/C Violations At Start\n",
      "Series([], Name: # of B/C Violations At Start, dtype: object)\n",
      "\n",
      "Community Board\n",
      "Series([], Name: Community Board, dtype: object)\n",
      "\n",
      "Council District\n",
      "Series([], Name: Council District, dtype: object)\n",
      "\n",
      "Census Tract\n",
      "Series([], Name: Census Tract, dtype: object)\n",
      "\n"
     ]
    }
   ],
   "source": [
    "for col in numerical_columns:\n",
    "    print(col)\n",
    "    print(df.loc[(~df[col].str.isdigit())\n",
    "      &(df[col]!='nan')][col])\n",
    "    print()"
   ]
  },
  {
   "cell_type": "markdown",
   "metadata": {},
   "source": [
    "##### Try to convert to numerical values now:"
   ]
  },
  {
   "cell_type": "code",
   "execution_count": 129,
   "metadata": {},
   "outputs": [],
   "source": [
    "for col in numerical_columns:\n",
    "    df[col] = pd.to_numeric(df[col], errors='coerce', downcast='integer')"
   ]
  },
  {
   "cell_type": "code",
   "execution_count": 130,
   "metadata": {
    "scrolled": false
   },
   "outputs": [
    {
     "name": "stdout",
     "output_type": "stream",
     "text": [
      "Top 10 # of B/C Violations At Start:\n",
      "\n",
      "445    13\n",
      "143    11\n",
      "149    11\n",
      "237    10\n",
      "271    10\n",
      "167    10\n",
      "97      9\n",
      "121     9\n",
      "111     9\n",
      "154     9\n",
      "Name: # of B/C Violations At Start, dtype: int64\n",
      "\n",
      "Top 10 Community Board:\n",
      "\n",
      "4     417\n",
      "3     400\n",
      "5     347\n",
      "12    289\n",
      "9     286\n",
      "8     179\n",
      "16    175\n",
      "17    163\n",
      "7     160\n",
      "6     143\n",
      "Name: Community Board, dtype: int64\n",
      "\n",
      "Top 10 Council District:\n",
      "\n",
      "37    335\n",
      "36    272\n",
      "41    250\n",
      "17    181\n",
      "15    167\n",
      "42    163\n",
      "34    137\n",
      "16    131\n",
      "7     127\n",
      "35    118\n",
      "Name: Council District, dtype: int64\n",
      "\n",
      "Top 10 Census Tract:\n",
      "\n",
      "369    33\n",
      "437    29\n",
      "373    28\n",
      "431    28\n",
      "353    28\n",
      "379    27\n",
      "245    26\n",
      "429    25\n",
      "269    24\n",
      "271    24\n",
      "Name: Census Tract, dtype: int64\n",
      "\n"
     ]
    }
   ],
   "source": [
    "for col in numerical_columns:\n",
    "    show_vals(col)"
   ]
  },
  {
   "cell_type": "markdown",
   "metadata": {},
   "source": [
    "## Quick look at GIS"
   ]
  },
  {
   "cell_type": "code",
   "execution_count": 132,
   "metadata": {},
   "outputs": [
    {
     "name": "stdout",
     "output_type": "stream",
     "text": [
      "Top 10 Latitude:\n",
      "\n",
      "40.655593    4\n",
      "40.692798    4\n",
      "40.873363    4\n",
      "40.676487    4\n",
      "40.852148    3\n",
      "40.67162     3\n",
      "40.640895    3\n",
      "40.671986    3\n",
      "40.822471    3\n",
      "40.671118    3\n",
      "Name: Latitude, dtype: int64\n",
      "\n",
      "Top 10 Longitude:\n",
      "\n",
      "-73.922322    4\n",
      "-73.91808     4\n",
      "-73.900622    4\n",
      "-73.891052    4\n",
      "-73.95055     3\n",
      "-73.962447    3\n",
      "-73.926181    3\n",
      "-73.890251    3\n",
      "-73.905397    3\n",
      "-73.849115    3\n",
      "Name: Longitude, dtype: int64\n",
      "\n",
      "Top 10 BIN:\n",
      "\n",
      "3075861    4\n",
      "3102567    4\n",
      "2015418    4\n",
      "2012779    3\n",
      "2010121    3\n",
      "2006072    3\n",
      "2071872    3\n",
      "3042691    3\n",
      "3118757    3\n",
      "3080019    3\n",
      "Name: BIN, dtype: int64\n",
      "\n"
     ]
    }
   ],
   "source": [
    "show_vals(\"Latitude\")\n",
    "show_vals(\"Longitude\")\n",
    "show_vals(\"BIN\")"
   ]
  },
  {
   "cell_type": "code",
   "execution_count": 133,
   "metadata": {},
   "outputs": [
    {
     "data": {
      "text/html": [
       "<div>\n",
       "<style scoped>\n",
       "    .dataframe tbody tr th:only-of-type {\n",
       "        vertical-align: middle;\n",
       "    }\n",
       "\n",
       "    .dataframe tbody tr th {\n",
       "        vertical-align: top;\n",
       "    }\n",
       "\n",
       "    .dataframe thead th {\n",
       "        text-align: right;\n",
       "    }\n",
       "</style>\n",
       "<table border=\"1\" class=\"dataframe\">\n",
       "  <thead>\n",
       "    <tr style=\"text-align: right;\">\n",
       "      <th></th>\n",
       "      <th>Latitude</th>\n",
       "      <th>Longitude</th>\n",
       "      <th>BIN</th>\n",
       "    </tr>\n",
       "  </thead>\n",
       "  <tbody>\n",
       "    <tr>\n",
       "      <th>0</th>\n",
       "      <td>40.866157</td>\n",
       "      <td>-73.864449</td>\n",
       "      <td>2053681</td>\n",
       "    </tr>\n",
       "    <tr>\n",
       "      <th>1</th>\n",
       "      <td>40.662484</td>\n",
       "      <td>-73.888169</td>\n",
       "      <td>3096710</td>\n",
       "    </tr>\n",
       "    <tr>\n",
       "      <th>2</th>\n",
       "      <td>40.674161</td>\n",
       "      <td>-73.880485</td>\n",
       "      <td>3089314</td>\n",
       "    </tr>\n",
       "    <tr>\n",
       "      <th>3</th>\n",
       "      <td>40.639235</td>\n",
       "      <td>-73.985515</td>\n",
       "      <td>3123252</td>\n",
       "    </tr>\n",
       "    <tr>\n",
       "      <th>4</th>\n",
       "      <td>40.685633</td>\n",
       "      <td>-73.871577</td>\n",
       "      <td>3092361</td>\n",
       "    </tr>\n",
       "    <tr>\n",
       "      <th>...</th>\n",
       "      <td>...</td>\n",
       "      <td>...</td>\n",
       "      <td>...</td>\n",
       "    </tr>\n",
       "    <tr>\n",
       "      <th>3132</th>\n",
       "      <td>40.868156</td>\n",
       "      <td>-73.924905</td>\n",
       "      <td>1065068</td>\n",
       "    </tr>\n",
       "    <tr>\n",
       "      <th>3133</th>\n",
       "      <td>40.852574</td>\n",
       "      <td>-73.929545</td>\n",
       "      <td>1063813</td>\n",
       "    </tr>\n",
       "    <tr>\n",
       "      <th>3134</th>\n",
       "      <td>40.675365</td>\n",
       "      <td>-73.867137</td>\n",
       "      <td>3095200</td>\n",
       "    </tr>\n",
       "    <tr>\n",
       "      <th>3135</th>\n",
       "      <td>40.847382</td>\n",
       "      <td>-73.904373</td>\n",
       "      <td>2007568</td>\n",
       "    </tr>\n",
       "    <tr>\n",
       "      <th>3136</th>\n",
       "      <td>40.814878</td>\n",
       "      <td>-73.917111</td>\n",
       "      <td>2000521</td>\n",
       "    </tr>\n",
       "  </tbody>\n",
       "</table>\n",
       "<p>3136 rows × 3 columns</p>\n",
       "</div>"
      ],
      "text/plain": [
       "       Latitude   Longitude      BIN\n",
       "0     40.866157  -73.864449  2053681\n",
       "1     40.662484  -73.888169  3096710\n",
       "2     40.674161  -73.880485  3089314\n",
       "3     40.639235  -73.985515  3123252\n",
       "4     40.685633  -73.871577  3092361\n",
       "...         ...         ...      ...\n",
       "3132  40.868156  -73.924905  1065068\n",
       "3133  40.852574  -73.929545  1063813\n",
       "3134  40.675365  -73.867137  3095200\n",
       "3135  40.847382  -73.904373  2007568\n",
       "3136  40.814878  -73.917111  2000521\n",
       "\n",
       "[3136 rows x 3 columns]"
      ]
     },
     "execution_count": 133,
     "metadata": {},
     "output_type": "execute_result"
    }
   ],
   "source": [
    "#Manually looking at some of these\n",
    "df[[\"Latitude\", \"Longitude\",  \"BIN\"]]"
   ]
  },
  {
   "cell_type": "code",
   "execution_count": 134,
   "metadata": {},
   "outputs": [
    {
     "data": {
      "text/plain": [
       "40.576105"
      ]
     },
     "execution_count": 134,
     "metadata": {},
     "output_type": "execute_result"
    }
   ],
   "source": [
    "#shouldn't be 0\n",
    "df[\"Latitude\"] = df[\"Latitude\"].astype('float')\n",
    "df[\"Latitude\"].min()"
   ]
  },
  {
   "cell_type": "code",
   "execution_count": 135,
   "metadata": {},
   "outputs": [
    {
     "data": {
      "text/plain": [
       "40.906152"
      ]
     },
     "execution_count": 135,
     "metadata": {},
     "output_type": "execute_result"
    }
   ],
   "source": [
    "df[\"Latitude\"].max()"
   ]
  },
  {
   "cell_type": "code",
   "execution_count": 136,
   "metadata": {},
   "outputs": [
    {
     "data": {
      "text/html": [
       "<div>\n",
       "<style scoped>\n",
       "    .dataframe tbody tr th:only-of-type {\n",
       "        vertical-align: middle;\n",
       "    }\n",
       "\n",
       "    .dataframe tbody tr th {\n",
       "        vertical-align: top;\n",
       "    }\n",
       "\n",
       "    .dataframe thead th {\n",
       "        text-align: right;\n",
       "    }\n",
       "</style>\n",
       "<table border=\"1\" class=\"dataframe\">\n",
       "  <thead>\n",
       "    <tr style=\"text-align: right;\">\n",
       "      <th></th>\n",
       "      <th>Building ID</th>\n",
       "      <th>Borough</th>\n",
       "      <th>Number</th>\n",
       "      <th>Street</th>\n",
       "      <th>Total Units</th>\n",
       "      <th>AEP Start Date</th>\n",
       "      <th># of B/C Violations At Start</th>\n",
       "      <th>Current Status</th>\n",
       "      <th>Discharge Date</th>\n",
       "      <th>AEP Round</th>\n",
       "      <th>Postcode</th>\n",
       "      <th>Latitude</th>\n",
       "      <th>Longitude</th>\n",
       "      <th>Community Board</th>\n",
       "      <th>Council District</th>\n",
       "      <th>Census Tract</th>\n",
       "      <th>BIN</th>\n",
       "      <th>BBL</th>\n",
       "      <th>NTA</th>\n",
       "    </tr>\n",
       "  </thead>\n",
       "  <tbody>\n",
       "  </tbody>\n",
       "</table>\n",
       "</div>"
      ],
      "text/plain": [
       "Empty DataFrame\n",
       "Columns: [Building ID, Borough, Number, Street, Total Units, AEP Start Date, # of B/C Violations At Start, Current Status, Discharge Date, AEP Round, Postcode, Latitude, Longitude, Community Board, Council District, Census Tract, BIN, BBL, NTA]\n",
       "Index: []"
      ]
     },
     "execution_count": 136,
     "metadata": {},
     "output_type": "execute_result"
    }
   ],
   "source": [
    "df.loc[df[\"Latitude\"] == 0.0]"
   ]
  },
  {
   "cell_type": "markdown",
   "metadata": {},
   "source": [
    "#### Removed the the rows above because its obviously a filler job"
   ]
  },
  {
   "cell_type": "code",
   "execution_count": 137,
   "metadata": {},
   "outputs": [],
   "source": [
    "df = df.drop(df[df[\"Latitude\"] == 0.0].index)"
   ]
  },
  {
   "cell_type": "code",
   "execution_count": 138,
   "metadata": {},
   "outputs": [
    {
     "data": {
      "text/plain": [
       "40.576105"
      ]
     },
     "execution_count": 138,
     "metadata": {},
     "output_type": "execute_result"
    }
   ],
   "source": [
    "df[\"Latitude\"].min()"
   ]
  },
  {
   "cell_type": "markdown",
   "metadata": {},
   "source": [
    "#### The min and max makes sense as the values range from Staten Island to the Bronx"
   ]
  },
  {
   "cell_type": "code",
   "execution_count": 139,
   "metadata": {},
   "outputs": [
    {
     "data": {
      "text/plain": [
       "-74.159977"
      ]
     },
     "execution_count": 139,
     "metadata": {},
     "output_type": "execute_result"
    }
   ],
   "source": [
    "df[\"Longitude\"] = df[\"Longitude\"].astype('float')\n",
    "df[\"Longitude\"].min()"
   ]
  },
  {
   "cell_type": "code",
   "execution_count": 140,
   "metadata": {},
   "outputs": [
    {
     "data": {
      "text/plain": [
       "-73.734376"
      ]
     },
     "execution_count": 140,
     "metadata": {},
     "output_type": "execute_result"
    }
   ],
   "source": [
    "df[\"Longitude\"].max()"
   ]
  },
  {
   "cell_type": "code",
   "execution_count": 142,
   "metadata": {},
   "outputs": [
    {
     "data": {
      "text/html": [
       "<div>\n",
       "<style scoped>\n",
       "    .dataframe tbody tr th:only-of-type {\n",
       "        vertical-align: middle;\n",
       "    }\n",
       "\n",
       "    .dataframe tbody tr th {\n",
       "        vertical-align: top;\n",
       "    }\n",
       "\n",
       "    .dataframe thead th {\n",
       "        text-align: right;\n",
       "    }\n",
       "</style>\n",
       "<table border=\"1\" class=\"dataframe\">\n",
       "  <thead>\n",
       "    <tr style=\"text-align: right;\">\n",
       "      <th></th>\n",
       "      <th>Building ID</th>\n",
       "      <th>Borough</th>\n",
       "      <th>Number</th>\n",
       "      <th>Street</th>\n",
       "      <th>Total Units</th>\n",
       "      <th>AEP Start Date</th>\n",
       "      <th># of B/C Violations At Start</th>\n",
       "      <th>Current Status</th>\n",
       "      <th>Discharge Date</th>\n",
       "      <th>AEP Round</th>\n",
       "      <th>Postcode</th>\n",
       "      <th>Latitude</th>\n",
       "      <th>Longitude</th>\n",
       "      <th>Community Board</th>\n",
       "      <th>Council District</th>\n",
       "      <th>Census Tract</th>\n",
       "      <th>BIN</th>\n",
       "      <th>BBL</th>\n",
       "      <th>NTA</th>\n",
       "    </tr>\n",
       "  </thead>\n",
       "  <tbody>\n",
       "    <tr>\n",
       "      <th>757</th>\n",
       "      <td>753007</td>\n",
       "      <td>Staten Island</td>\n",
       "      <td>20</td>\n",
       "      <td>LAMBERT STREET</td>\n",
       "      <td>16</td>\n",
       "      <td>01/31/2011</td>\n",
       "      <td>277</td>\n",
       "      <td>AEP Discharged</td>\n",
       "      <td>07/13/2011</td>\n",
       "      <td>Aep Round 4</td>\n",
       "      <td>10314</td>\n",
       "      <td>40.618162</td>\n",
       "      <td>-74.159977</td>\n",
       "      <td>1</td>\n",
       "      <td>49</td>\n",
       "      <td>30301</td>\n",
       "      <td>5032096</td>\n",
       "      <td>5016410012</td>\n",
       "      <td>Mariner's Harbor-Arlington-Port Ivory-Granitev...</td>\n",
       "    </tr>\n",
       "  </tbody>\n",
       "</table>\n",
       "</div>"
      ],
      "text/plain": [
       "     Building ID        Borough Number          Street Total Units  \\\n",
       "757       753007  Staten Island     20  LAMBERT STREET          16   \n",
       "\n",
       "    AEP Start Date  # of B/C Violations At Start  Current Status  \\\n",
       "757     01/31/2011                           277  AEP Discharged   \n",
       "\n",
       "    Discharge Date    AEP Round Postcode   Latitude  Longitude  \\\n",
       "757     07/13/2011  Aep Round 4    10314  40.618162 -74.159977   \n",
       "\n",
       "     Community Board  Council District  Census Tract      BIN         BBL  \\\n",
       "757                1                49         30301  5032096  5016410012   \n",
       "\n",
       "                                                   NTA  \n",
       "757  Mariner's Harbor-Arlington-Port Ivory-Granitev...  "
      ]
     },
     "execution_count": 142,
     "metadata": {},
     "output_type": "execute_result"
    }
   ],
   "source": [
    "df.loc[df[\"Longitude\"] == -74.159977]"
   ]
  },
  {
   "cell_type": "markdown",
   "metadata": {},
   "source": [
    "#### These longitudes and latitudes range from Queens to Staten Island which is also consistent with our dataset"
   ]
  },
  {
   "cell_type": "code",
   "execution_count": 143,
   "metadata": {},
   "outputs": [
    {
     "data": {
      "text/plain": [
       "1001047.0"
      ]
     },
     "execution_count": 143,
     "metadata": {},
     "output_type": "execute_result"
    }
   ],
   "source": [
    "df[\"BIN\"] = df[\"BIN\"].astype('float')\n",
    "df[\"BIN\"].min()"
   ]
  },
  {
   "cell_type": "code",
   "execution_count": 144,
   "metadata": {},
   "outputs": [
    {
     "data": {
      "text/plain": [
       "5142323.0"
      ]
     },
     "execution_count": 144,
     "metadata": {},
     "output_type": "execute_result"
    }
   ],
   "source": [
    "df[\"BIN\"] = df[\"BIN\"].astype('float')\n",
    "df[\"BIN\"].max()"
   ]
  },
  {
   "cell_type": "code",
   "execution_count": 145,
   "metadata": {},
   "outputs": [
    {
     "data": {
      "text/html": [
       "<div>\n",
       "<style scoped>\n",
       "    .dataframe tbody tr th:only-of-type {\n",
       "        vertical-align: middle;\n",
       "    }\n",
       "\n",
       "    .dataframe tbody tr th {\n",
       "        vertical-align: top;\n",
       "    }\n",
       "\n",
       "    .dataframe thead th {\n",
       "        text-align: right;\n",
       "    }\n",
       "</style>\n",
       "<table border=\"1\" class=\"dataframe\">\n",
       "  <thead>\n",
       "    <tr style=\"text-align: right;\">\n",
       "      <th></th>\n",
       "      <th>Building ID</th>\n",
       "      <th>Borough</th>\n",
       "      <th>Number</th>\n",
       "      <th>Street</th>\n",
       "      <th>Total Units</th>\n",
       "      <th>AEP Start Date</th>\n",
       "      <th># of B/C Violations At Start</th>\n",
       "      <th>Current Status</th>\n",
       "      <th>Discharge Date</th>\n",
       "      <th>AEP Round</th>\n",
       "      <th>Postcode</th>\n",
       "      <th>Latitude</th>\n",
       "      <th>Longitude</th>\n",
       "      <th>Community Board</th>\n",
       "      <th>Council District</th>\n",
       "      <th>Census Tract</th>\n",
       "      <th>BIN</th>\n",
       "      <th>BBL</th>\n",
       "      <th>NTA</th>\n",
       "    </tr>\n",
       "  </thead>\n",
       "  <tbody>\n",
       "    <tr>\n",
       "      <th>1514</th>\n",
       "      <td>29251</td>\n",
       "      <td>Manhattan</td>\n",
       "      <td>109</td>\n",
       "      <td>WASHINGTON STREET</td>\n",
       "      <td>16</td>\n",
       "      <td>01/31/2018</td>\n",
       "      <td>204</td>\n",
       "      <td>AEP Active</td>\n",
       "      <td>NaN</td>\n",
       "      <td>Aep Round 11</td>\n",
       "      <td>10006</td>\n",
       "      <td>40.708623</td>\n",
       "      <td>-74.014218</td>\n",
       "      <td>1</td>\n",
       "      <td>1</td>\n",
       "      <td>13</td>\n",
       "      <td>1001047.0</td>\n",
       "      <td>1000530006</td>\n",
       "      <td>Battery Park City-Lower Manhattan</td>\n",
       "    </tr>\n",
       "  </tbody>\n",
       "</table>\n",
       "</div>"
      ],
      "text/plain": [
       "      Building ID    Borough Number             Street Total Units  \\\n",
       "1514        29251  Manhattan    109  WASHINGTON STREET          16   \n",
       "\n",
       "     AEP Start Date  # of B/C Violations At Start Current Status  \\\n",
       "1514     01/31/2018                           204     AEP Active   \n",
       "\n",
       "     Discharge Date     AEP Round Postcode   Latitude  Longitude  \\\n",
       "1514            NaN  Aep Round 11    10006  40.708623 -74.014218   \n",
       "\n",
       "      Community Board  Council District  Census Tract        BIN         BBL  \\\n",
       "1514                1                 1            13  1001047.0  1000530006   \n",
       "\n",
       "                                    NTA  \n",
       "1514  Battery Park City-Lower Manhattan  "
      ]
     },
     "execution_count": 145,
     "metadata": {},
     "output_type": "execute_result"
    }
   ],
   "source": [
    "df.loc[df[\"BIN\"] == 1001047.0]"
   ]
  },
  {
   "cell_type": "code",
   "execution_count": 147,
   "metadata": {},
   "outputs": [
    {
     "data": {
      "text/html": [
       "<div>\n",
       "<style scoped>\n",
       "    .dataframe tbody tr th:only-of-type {\n",
       "        vertical-align: middle;\n",
       "    }\n",
       "\n",
       "    .dataframe tbody tr th {\n",
       "        vertical-align: top;\n",
       "    }\n",
       "\n",
       "    .dataframe thead th {\n",
       "        text-align: right;\n",
       "    }\n",
       "</style>\n",
       "<table border=\"1\" class=\"dataframe\">\n",
       "  <thead>\n",
       "    <tr style=\"text-align: right;\">\n",
       "      <th></th>\n",
       "      <th>Building ID</th>\n",
       "      <th>Borough</th>\n",
       "      <th>Number</th>\n",
       "      <th>Street</th>\n",
       "      <th>Total Units</th>\n",
       "      <th>AEP Start Date</th>\n",
       "      <th># of B/C Violations At Start</th>\n",
       "      <th>Current Status</th>\n",
       "      <th>Discharge Date</th>\n",
       "      <th>AEP Round</th>\n",
       "      <th>Postcode</th>\n",
       "      <th>Latitude</th>\n",
       "      <th>Longitude</th>\n",
       "      <th>Community Board</th>\n",
       "      <th>Council District</th>\n",
       "      <th>Census Tract</th>\n",
       "      <th>BIN</th>\n",
       "      <th>BBL</th>\n",
       "      <th>NTA</th>\n",
       "    </tr>\n",
       "  </thead>\n",
       "  <tbody>\n",
       "    <tr>\n",
       "      <th>2175</th>\n",
       "      <td>720974</td>\n",
       "      <td>Staten Island</td>\n",
       "      <td>40</td>\n",
       "      <td>CASSIDY PLACE</td>\n",
       "      <td>3</td>\n",
       "      <td>01/31/2017</td>\n",
       "      <td>40</td>\n",
       "      <td>AEP Active</td>\n",
       "      <td>NaN</td>\n",
       "      <td>Aep Round 10</td>\n",
       "      <td>10301</td>\n",
       "      <td>40.642329</td>\n",
       "      <td>-74.093492</td>\n",
       "      <td>1</td>\n",
       "      <td>49</td>\n",
       "      <td>81</td>\n",
       "      <td>5142323.0</td>\n",
       "      <td>5000650033</td>\n",
       "      <td>West New Brighton-New Brighton-St. George</td>\n",
       "    </tr>\n",
       "  </tbody>\n",
       "</table>\n",
       "</div>"
      ],
      "text/plain": [
       "      Building ID        Borough Number         Street Total Units  \\\n",
       "2175       720974  Staten Island     40  CASSIDY PLACE           3   \n",
       "\n",
       "     AEP Start Date  # of B/C Violations At Start Current Status  \\\n",
       "2175     01/31/2017                            40     AEP Active   \n",
       "\n",
       "     Discharge Date     AEP Round Postcode   Latitude  Longitude  \\\n",
       "2175            NaN  Aep Round 10    10301  40.642329 -74.093492   \n",
       "\n",
       "      Community Board  Council District  Census Tract        BIN         BBL  \\\n",
       "2175                1                49            81  5142323.0  5000650033   \n",
       "\n",
       "                                            NTA  \n",
       "2175  West New Brighton-New Brighton-St. George  "
      ]
     },
     "execution_count": 147,
     "metadata": {},
     "output_type": "execute_result"
    }
   ],
   "source": [
    "df.loc[df[\"BIN\"] == 5142323.0]"
   ]
  },
  {
   "cell_type": "markdown",
   "metadata": {},
   "source": [
    "#### Nothing wrong with GIS BIN either"
   ]
  },
  {
   "cell_type": "code",
   "execution_count": null,
   "metadata": {},
   "outputs": [],
   "source": []
  },
  {
   "cell_type": "code",
   "execution_count": null,
   "metadata": {},
   "outputs": [],
   "source": []
  },
  {
   "cell_type": "markdown",
   "metadata": {},
   "source": [
    "# Data Profilling for datetime columns\n",
    "\n",
    "\n",
    "Find format problems and outliers in all datetime columns\n",
    "\n",
    "Using openclean's sklearn modules to detect problems and outliers"
   ]
  },
  {
   "cell_type": "code",
   "execution_count": 148,
   "metadata": {},
   "outputs": [],
   "source": [
    "from openclean.profiling.anomalies.sklearn import DBSCANOutliers\n",
    "\n",
    "def findDateOutliers(column_name, eps_setting = 0.05):\n",
    "    datetime_data = ds.distinct(column_name)\n",
    "    print(\"Column: \",column_name)\n",
    "    \n",
    "    for rank, val in enumerate(datetime_data.most_common(10)):        \n",
    "        st, freq = val\n",
    "        print('{:<3} {:>8}  {:>10}'.format('{}.'.format(rank + 1), st, '{:,}'.format(freq)))\n",
    "\n",
    "    print('\\nTotal number of distinct values in {} is {}'.format(column_name, len(datetime_data)))\n",
    "    print(DBSCANOutliers().find(datetime_data))\n",
    "    print(DBSCANOutliers(eps = eps_setting).find(datetime_data))\n",
    "    print('\\n==================================')"
   ]
  },
  {
   "cell_type": "code",
   "execution_count": 149,
   "metadata": {},
   "outputs": [
    {
     "name": "stdout",
     "output_type": "stream",
     "text": [
      "Datetime Data columns:\n",
      "\n",
      "AEP_START_DATE\n",
      "DISCHARGE_DATE\n",
      "----------------------------\n",
      "\n",
      "Column:  AEP_START_DATE\n",
      "1.  01/31/2020         250\n",
      "2.  02/02/2015         250\n",
      "3.  01/31/2019         250\n",
      "4.  02/01/2021         250\n",
      "5.  01/31/2018         250\n",
      "6.  01/31/2017         250\n",
      "7.  02/01/2016         250\n",
      "8.  01/31/2011         200\n",
      "9.  11/12/2009         200\n",
      "10. 11/13/2008         200\n",
      "\n",
      "Total number of distinct values in AEP_START_DATE is 14\n",
      "[]\n",
      "['11/13/2008', '02/01/2016', '02/02/2015', '01/31/2018', '01/31/2017', '01/31/2020', '01/31/2019', '02/01/2021', '11/12/2009', '01/31/2013', '01/31/2011', '11/13/2007', '01/31/2012', '01/31/2014']\n",
      "\n",
      "==================================\n",
      "Column:  DISCHARGE_DATE\n",
      "1.                   518\n",
      "2.  04/06/2011          34\n",
      "3.  06/14/2016          15\n",
      "4.  06/19/2018          13\n",
      "5.  06/18/2015          12\n",
      "6.  06/20/2013          11\n",
      "7.  06/20/2012          11\n",
      "8.  03/23/2011          11\n",
      "9.  05/30/2013          11\n",
      "10. 06/05/2018          10\n",
      "\n",
      "Total number of distinct values in DISCHARGE_DATE is 1112\n",
      "['']\n",
      "['', '04/06/2011']\n",
      "\n",
      "==================================\n"
     ]
    }
   ],
   "source": [
    "date_cols = []\n",
    "\n",
    "print(\"Datetime Data columns:\\n\")\n",
    "for col in ds.columns:\n",
    "    if 'Date' in col or 'DATE' in col:\n",
    "        print(col)\n",
    "        date_cols.append(col)\n",
    "\n",
    "print(\"----------------------------\\n\")        \n",
    "        \n",
    "for col in date_cols:\n",
    "    findDateOutliers(col, 0.02)"
   ]
  },
  {
   "cell_type": "markdown",
   "metadata": {},
   "source": [
    "# No outliers found"
   ]
  },
  {
   "cell_type": "markdown",
   "metadata": {},
   "source": [
    "## Fixing Datetime columns format"
   ]
  },
  {
   "cell_type": "code",
   "execution_count": 151,
   "metadata": {
    "scrolled": false
   },
   "outputs": [
    {
     "name": "stdout",
     "output_type": "stream",
     "text": [
      "Top 10 AEP Start Date:\n",
      "\n",
      "02/01/2021    250\n",
      "02/01/2016    250\n",
      "01/31/2017    250\n",
      "01/31/2019    250\n",
      "01/31/2018    250\n",
      "01/31/2020    250\n",
      "02/02/2015    250\n",
      "11/12/2009    200\n",
      "01/31/2012    200\n",
      "01/31/2013    200\n",
      "Name: AEP Start Date, dtype: int64\n",
      "\n",
      "Top 10 Discharge Date:\n",
      "\n",
      "NaN           518\n",
      "04/06/2011     34\n",
      "06/14/2016     15\n",
      "06/19/2018     13\n",
      "06/18/2015     12\n",
      "05/30/2013     11\n",
      "03/23/2011     11\n",
      "06/20/2013     11\n",
      "06/20/2012     11\n",
      "06/15/2021     10\n",
      "Name: Discharge Date, dtype: int64\n",
      "\n"
     ]
    }
   ],
   "source": [
    "datetime_column_list = ['AEP Start Date', 'Discharge Date']\n",
    "for col in datetime_column_list:\n",
    "    show_vals(col)"
   ]
  },
  {
   "cell_type": "markdown",
   "metadata": {},
   "source": [
    "Check to see if any columns have values in year-month-day format"
   ]
  },
  {
   "cell_type": "code",
   "execution_count": 152,
   "metadata": {},
   "outputs": [
    {
     "name": "stdout",
     "output_type": "stream",
     "text": [
      "AEP Start Date \n",
      " Series([], Name: AEP Start Date, dtype: object) \n",
      "\n",
      "\n",
      "Discharge Date \n",
      " Series([], Name: Discharge Date, dtype: object) \n",
      "\n",
      "\n"
     ]
    }
   ],
   "source": [
    "for col in datetime_column_list:\n",
    "    print(col, '\\n', df.loc[df[col].str.contains('-', regex=False, na=False)][col], '\\n\\n')"
   ]
  },
  {
   "cell_type": "markdown",
   "metadata": {},
   "source": [
    "### Check the coherence of datetime values"
   ]
  },
  {
   "cell_type": "markdown",
   "metadata": {},
   "source": [
    "These don't make sense, but it's not entirely clear if they should be swapped, or removed or what"
   ]
  },
  {
   "cell_type": "code",
   "execution_count": 155,
   "metadata": {
    "scrolled": false
   },
   "outputs": [
    {
     "data": {
      "text/html": [
       "<div>\n",
       "<style scoped>\n",
       "    .dataframe tbody tr th:only-of-type {\n",
       "        vertical-align: middle;\n",
       "    }\n",
       "\n",
       "    .dataframe tbody tr th {\n",
       "        vertical-align: top;\n",
       "    }\n",
       "\n",
       "    .dataframe thead th {\n",
       "        text-align: right;\n",
       "    }\n",
       "</style>\n",
       "<table border=\"1\" class=\"dataframe\">\n",
       "  <thead>\n",
       "    <tr style=\"text-align: right;\">\n",
       "      <th></th>\n",
       "      <th>AEP Start Date</th>\n",
       "      <th>Discharge Date</th>\n",
       "    </tr>\n",
       "  </thead>\n",
       "  <tbody>\n",
       "    <tr>\n",
       "      <th>5</th>\n",
       "      <td>11/12/2009</td>\n",
       "      <td>03/26/2010</td>\n",
       "    </tr>\n",
       "    <tr>\n",
       "      <th>9</th>\n",
       "      <td>11/13/2008</td>\n",
       "      <td>03/19/2009</td>\n",
       "    </tr>\n",
       "    <tr>\n",
       "      <th>14</th>\n",
       "      <td>01/31/2011</td>\n",
       "      <td>01/07/2016</td>\n",
       "    </tr>\n",
       "    <tr>\n",
       "      <th>16</th>\n",
       "      <td>11/13/2008</td>\n",
       "      <td>03/08/2013</td>\n",
       "    </tr>\n",
       "    <tr>\n",
       "      <th>18</th>\n",
       "      <td>11/13/2007</td>\n",
       "      <td>05/07/2012</td>\n",
       "    </tr>\n",
       "    <tr>\n",
       "      <th>...</th>\n",
       "      <td>...</td>\n",
       "      <td>...</td>\n",
       "    </tr>\n",
       "    <tr>\n",
       "      <th>3113</th>\n",
       "      <td>01/31/2014</td>\n",
       "      <td>01/12/2021</td>\n",
       "    </tr>\n",
       "    <tr>\n",
       "      <th>3117</th>\n",
       "      <td>11/13/2007</td>\n",
       "      <td>02/13/2012</td>\n",
       "    </tr>\n",
       "    <tr>\n",
       "      <th>3120</th>\n",
       "      <td>11/12/2009</td>\n",
       "      <td>05/21/2010</td>\n",
       "    </tr>\n",
       "    <tr>\n",
       "      <th>3121</th>\n",
       "      <td>11/12/2009</td>\n",
       "      <td>04/06/2010</td>\n",
       "    </tr>\n",
       "    <tr>\n",
       "      <th>3131</th>\n",
       "      <td>11/13/2008</td>\n",
       "      <td>02/10/2012</td>\n",
       "    </tr>\n",
       "  </tbody>\n",
       "</table>\n",
       "<p>584 rows × 2 columns</p>\n",
       "</div>"
      ],
      "text/plain": [
       "     AEP Start Date Discharge Date\n",
       "5        11/12/2009     03/26/2010\n",
       "9        11/13/2008     03/19/2009\n",
       "14       01/31/2011     01/07/2016\n",
       "16       11/13/2008     03/08/2013\n",
       "18       11/13/2007     05/07/2012\n",
       "...             ...            ...\n",
       "3113     01/31/2014     01/12/2021\n",
       "3117     11/13/2007     02/13/2012\n",
       "3120     11/12/2009     05/21/2010\n",
       "3121     11/12/2009     04/06/2010\n",
       "3131     11/13/2008     02/10/2012\n",
       "\n",
       "[584 rows x 2 columns]"
      ]
     },
     "execution_count": 155,
     "metadata": {},
     "output_type": "execute_result"
    }
   ],
   "source": [
    "df.loc[(df['AEP Start Date'] > df['Discharge Date'])\n",
    "      &(~df['AEP Start Date'].isna() & ~df['Discharge Date'].isna())][['AEP Start Date', 'Discharge Date']]"
   ]
  },
  {
   "cell_type": "markdown",
   "metadata": {},
   "source": [
    "##### These are, however a small percentage of of our total jobs"
   ]
  },
  {
   "cell_type": "markdown",
   "metadata": {},
   "source": [
    "Fraction of jobs Assigned after they were already approved out of total jobs"
   ]
  },
  {
   "cell_type": "code",
   "execution_count": 156,
   "metadata": {},
   "outputs": [
    {
     "data": {
      "text/plain": [
       "0.22307104660045837"
      ]
     },
     "execution_count": 156,
     "metadata": {},
     "output_type": "execute_result"
    }
   ],
   "source": [
    "df.loc[df['AEP Start Date'] > df['Discharge Date']]['Discharge Date'].count()/df['Discharge Date'].count()"
   ]
  },
  {
   "cell_type": "markdown",
   "metadata": {},
   "source": [
    "# Data Profilling for City and Other Description\n",
    "\n",
    "Find format problems and outliers in City and Description columns\n",
    "\n",
    "Using openclean's sklearn modules to detect problems and outliers"
   ]
  },
  {
   "cell_type": "code",
   "execution_count": 159,
   "metadata": {},
   "outputs": [],
   "source": [
    "from openclean.profiling.anomalies.sklearn import DBSCANOutliers\n",
    "\n",
    "# Print the ten most frequent values for the 'Vehicle Expiration Date' column.\n",
    "def findDateOutliers(column_name, eps_setting = 0.05):\n",
    "    applicant_data = ds.distinct(column_name)\n",
    "    print(\"Column: \",column_name)\n",
    "    \n",
    "    for rank, val in enumerate(applicant_data.most_common(10)):        \n",
    "        st, freq = val\n",
    "        print('{:<3} {:>8}  {:>10}'.format('{}.'.format(rank + 1), st, '{:,}'.format(freq)))\n",
    "\n",
    "    print('\\nTotal number of distinct values in {} is {}'.format(column_name, len(applicant_data)))\n",
    "    print(DBSCANOutliers(eps = eps_setting).find(applicant_data))\n",
    "    print('\\n==================================')"
   ]
  },
  {
   "cell_type": "code",
   "execution_count": 162,
   "metadata": {},
   "outputs": [],
   "source": [
    "date_cols = [\"BOROUGH\"]"
   ]
  },
  {
   "cell_type": "code",
   "execution_count": 163,
   "metadata": {},
   "outputs": [
    {
     "name": "stdout",
     "output_type": "stream",
     "text": [
      "----------------------------\n",
      "\n",
      "Column:  BOROUGH\n",
      "1.  Brooklyn       1,661\n",
      "2.     Bronx         835\n",
      "3.  Manhattan         462\n",
      "4.    Queens         159\n",
      "5.  Staten Island          20\n",
      "\n",
      "Total number of distinct values in BOROUGH is 5\n",
      "['Bronx', 'Brooklyn', 'Staten Island', 'Queens', 'Manhattan']\n",
      "\n",
      "==================================\n"
     ]
    }
   ],
   "source": [
    "\n",
    "print(\"----------------------------\\n\")        \n",
    "        \n",
    "for col in date_cols:\n",
    "    findDateOutliers(col, 0.1)"
   ]
  },
  {
   "cell_type": "markdown",
   "metadata": {},
   "source": [
    "# Analysis\n",
    "\n",
    "the above results show the problems for the data cleaning task:\n",
    "    \n",
    "### For BOROUGH\n",
    "\n",
    "There are many misspellings and abbreviations for city names. We can use both clustering and Soundex to detect misspellings and abbreviations. And we can check if our cleaning is right by refer to the U.S. Cities reference datasets in openclean."
   ]
  },
  {
   "cell_type": "code",
   "execution_count": 164,
   "metadata": {},
   "outputs": [],
   "source": [
    "from openclean.function.eval.base import Col, Eval\n",
    "from openclean.function.eval.logic import And\n",
    "from openclean.function.value.phonetic import Soundex, soundex"
   ]
  },
  {
   "cell_type": "code",
   "execution_count": 167,
   "metadata": {},
   "outputs": [],
   "source": [
    "upper = ds\\\n",
    "    .select('BOROUGH')\\\n",
    "    .update('BOROUGH', str.upper)"
   ]
  },
  {
   "cell_type": "code",
   "execution_count": 168,
   "metadata": {},
   "outputs": [],
   "source": [
    "from openclean.data.refdata import RefStore\n",
    "\n",
    "refdata = RefStore()\n",
    "city_df = refdata\\\n",
    "    .load('encyclopaedia_britannica:us_cities', auto_download=True)\\\n",
    "    .df()\n"
   ]
  },
  {
   "cell_type": "code",
   "execution_count": 169,
   "metadata": {},
   "outputs": [
    {
     "name": "stdout",
     "output_type": "stream",
     "text": [
      "0          Demopolis\n",
      "1          Sylacauga\n",
      "2               Troy\n",
      "3             Dothan\n",
      "4           Prichard\n",
      "            ...     \n",
      "1956          Powell\n",
      "1957        Riverton\n",
      "1958        Sheridan\n",
      "1959    Rock Springs\n",
      "1960         Buffalo\n",
      "Name: city, Length: 1961, dtype: object\n"
     ]
    }
   ],
   "source": [
    "city_list = city_df['city']\n",
    "print(city_list)"
   ]
  },
  {
   "cell_type": "markdown",
   "metadata": {},
   "source": [
    "# An example of using soundex in openclean\n",
    "\n",
    "However, using soundex for each of the city is too slow, the code below take nearly 4 mins for one sningle city.\\\n",
    "So we should use clustering first and then use hard code to clean the remianing city name that is not in the city_list."
   ]
  },
  {
   "cell_type": "code",
   "execution_count": 173,
   "metadata": {},
   "outputs": [
    {
     "name": "stdout",
     "output_type": "stream",
     "text": [
      "RANK\tCOUNT\tNAME\n"
     ]
    }
   ],
   "source": [
    "brooklyn = ds\\\n",
    "    .select('BOROUGH')\\\n",
    "    .update('BOROUGH', str.upper)\\\n",
    "    .filter(And(Eval('BOROUGH', Soundex()) == soundex('BROOKLYN'), Col('BOROUGH') != 'BROOKLYN'))\\\n",
    "    .distinct()\n",
    "\n",
    "print('RANK\\tCOUNT\\tNAME')\n",
    "for i, entry in enumerate(brooklyn.most_common()):\n",
    "    key, count = entry\n",
    "    print('{}.\\t{}\\t{}'.format(i + 1, count, key))"
   ]
  },
  {
   "cell_type": "markdown",
   "metadata": {},
   "source": [
    "# Check State Column"
   ]
  },
  {
   "cell_type": "code",
   "execution_count": 177,
   "metadata": {},
   "outputs": [
    {
     "name": "stdout",
     "output_type": "stream",
     "text": [
      "Column:  STREET\n",
      "1.  AMSTERDAM AVENUE          30\n",
      "2.  HANCOCK STREET          27\n",
      "3.  GREENE AVENUE          25\n",
      "4.  ST NICHOLAS AVENUE          23\n",
      "5.  FULTON STREET          22\n",
      "6.  HALSEY STREET          22\n",
      "7.  4 AVENUE          21\n",
      "8.  LINDEN BOULEVARD          20\n",
      "9.  EASTERN PARKWAY          20\n",
      "10. ST JOHNS PLACE          20\n",
      "\n",
      "Total number of distinct values in STREET is 937\n",
      "['AVENUE S', 'BEACH 26 STREET', 'PARK AVENUE', 'FAIRMOUNT PLACE', 'AVENUE I', 'MT HOPE PLACE', '136 ROAD', 'AVENUE D', 'AVENUE V', 'FREDERICK DOUGLASS BOULEVARD', 'PARK PLACE', 'BROADWAY', 'AVENUE F', 'LENOX ROAD', 'MAC DONOUGH STREET', '3 PLACE', 'CLAY AVENUE', 'BERGEN STREET', 'ADAM C POWELL BOULEVARD', 'WHITE PLAINS ROAD', 'LAFAYETTE AVENUE', 'AMSTERDAM AVENUE', 'ST MARKS AVENUE', 'CONEY ISLAND AVENUE', 'GREENE AVENUE', '9 STREET', 'EVERGREEN AVENUE', 'EASTERN PARKWAY EXTENSION', 'DR M L KING JR BOULEVARD', 'PENNSYLVANIA AVENUE', '4 AVENUE', 'ST JOHNS PLACE', 'RIVERSIDE DRIVE', 'HANCOCK STREET', 'AVENUE K', '10 AVENUE', 'ST NICHOLAS AVENUE', 'OCEAN AVENUE', 'MOTHER GASTON BOULEVARD', 'HART STREET', 'HALSEY STREET', 'EAST MOSHOLU PARKWAY NORTH', 'DE KALB AVENUE', 'KNICKERBOCKER AVENUE', '3 AVENUE']\n",
      "\n",
      "==================================\n"
     ]
    }
   ],
   "source": [
    "state_col = 'STREET'\n",
    "findDateOutliers(state_col, 0.1)"
   ]
  },
  {
   "cell_type": "code",
   "execution_count": 178,
   "metadata": {},
   "outputs": [
    {
     "data": {
      "text/plain": [
       "Counter({'WALLACE AVENUE': 6,\n",
       "         'MILLER AVENUE': 17,\n",
       "         'PITKIN AVENUE': 11,\n",
       "         '40 STREET': 3,\n",
       "         'HEMLOCK STREET': 2,\n",
       "         'BROOKLYN AVENUE': 2,\n",
       "         '114 STREET': 1,\n",
       "         'PROSPECT AVENUE': 19,\n",
       "         'FINDLAY AVENUE': 9,\n",
       "         'WALWORTH STREET': 1,\n",
       "         'LINCOLN PLACE': 11,\n",
       "         'LINDEN BOULEVARD': 20,\n",
       "         '4 AVENUE': 21,\n",
       "         'IRVING AVENUE': 11,\n",
       "         'SPENCER COURT': 1,\n",
       "         'LOCUST STREET': 2,\n",
       "         'BRONX RIVER AVENUE': 2,\n",
       "         'FULTON STREET': 22,\n",
       "         'LELAND AVENUE': 9,\n",
       "         'MAC DONOUGH STREET': 10,\n",
       "         'EAST 135 STREET': 1,\n",
       "         'MALCOLM X BOULEVARD': 5,\n",
       "         'SUMPTER STREET': 9,\n",
       "         'HULL STREET': 11,\n",
       "         '44 STREET': 2,\n",
       "         'HERKIMER STREET': 10,\n",
       "         'PRESIDENT STREET': 8,\n",
       "         'HENRY STREET': 2,\n",
       "         'HAWTHORNE STREET': 3,\n",
       "         'EAST 96 STREET': 10,\n",
       "         'EAST 216 STREET': 4,\n",
       "         'LINCOLN AVENUE': 7,\n",
       "         'QUINCY STREET': 13,\n",
       "         'PARK AVENUE': 14,\n",
       "         '67 STREET': 3,\n",
       "         '20 STREET': 4,\n",
       "         'NEW JERSEY AVENUE': 5,\n",
       "         'SOMERS STREET': 6,\n",
       "         'EASTERN PARKWAY': 20,\n",
       "         'KINGSTON AVENUE': 3,\n",
       "         'WEST 17 STREET': 1,\n",
       "         'CLIFTON PLACE': 6,\n",
       "         '121 STREET': 1,\n",
       "         'MARCY AVENUE': 5,\n",
       "         'SUYDAM STREET': 8,\n",
       "         'MAGENTA STREET': 3,\n",
       "         'ST JOHNS PLACE': 20,\n",
       "         'PUTNAM AVENUE': 10,\n",
       "         'HART STREET': 11,\n",
       "         'EAST NEW YORK AVENUE': 3,\n",
       "         'AMSTERDAM AVENUE': 30,\n",
       "         'DEAN STREET': 8,\n",
       "         'WEBSTER AVENUE': 8,\n",
       "         'ELDERT STREET': 4,\n",
       "         'MOHEGAN AVENUE': 4,\n",
       "         'WEST 150 STREET': 7,\n",
       "         'CONEY ISLAND AVENUE': 9,\n",
       "         'KINGS HIGHWAY': 1,\n",
       "         'ALBANY AVENUE': 9,\n",
       "         'EAST 196 STREET': 1,\n",
       "         'EAST 92 STREET': 4,\n",
       "         'PROSPECT PLACE': 18,\n",
       "         'GRAND CONCOURSE': 12,\n",
       "         '2 AVENUE': 3,\n",
       "         '97 AVENUE': 1,\n",
       "         'HALSEY STREET': 22,\n",
       "         'JEFFERSON AVENUE': 19,\n",
       "         'BROADWAY': 18,\n",
       "         'TELLER AVENUE': 8,\n",
       "         'JESUP AVENUE': 2,\n",
       "         'EAST 175 STREET': 4,\n",
       "         'EAST 139 STREET': 2,\n",
       "         'BRIGHTON 13 STREET': 1,\n",
       "         'PACIFIC STREET': 17,\n",
       "         'MONTAUK AVENUE': 5,\n",
       "         'BERGEN STREET': 18,\n",
       "         'EAST 194 STREET': 2,\n",
       "         'GRAFTON STREET': 4,\n",
       "         'HANCOCK STREET': 27,\n",
       "         'COLLEGE AVENUE': 9,\n",
       "         'EAST 187 STREET': 6,\n",
       "         'WEST 145 STREET': 7,\n",
       "         '156 STREET': 2,\n",
       "         'WEST 135 STREET': 4,\n",
       "         'COURTLANDT AVENUE': 2,\n",
       "         'WYCKOFF AVENUE': 6,\n",
       "         'SHERMAN AVENUE': 5,\n",
       "         'TROUTMAN STREET': 7,\n",
       "         'OCEAN AVENUE': 14,\n",
       "         'LENOX ROAD': 8,\n",
       "         'STERLING PLACE': 14,\n",
       "         'WEST 134 STREET': 4,\n",
       "         'WEEKS AVENUE': 3,\n",
       "         'PATCHEN AVENUE': 6,\n",
       "         'SHEPHERD AVENUE': 5,\n",
       "         'EAST 226 STREET': 3,\n",
       "         'GRANT AVENUE': 10,\n",
       "         'AVENUE D': 6,\n",
       "         'MENAHAN STREET': 9,\n",
       "         'GREENE AVENUE': 25,\n",
       "         'SCOTT A GADELL PLACE': 1,\n",
       "         'KNICKERBOCKER AVENUE': 20,\n",
       "         'MADISON STREET': 20,\n",
       "         'ADAM C POWELL BOULEVARD': 15,\n",
       "         'GEORGE STREET': 2,\n",
       "         '30 STREET': 3,\n",
       "         'CHAUNCEY STREET': 20,\n",
       "         '43 STREET': 4,\n",
       "         'WEST 142 STREET': 4,\n",
       "         '39 AVENUE': 1,\n",
       "         'BRISTOW STREET': 5,\n",
       "         'MANIDA STREET': 8,\n",
       "         'WILLIS AVENUE': 2,\n",
       "         'WEST 140 STREET': 3,\n",
       "         'EAST TREMONT AVENUE': 2,\n",
       "         '53 STREET': 4,\n",
       "         '10 AVENUE': 8,\n",
       "         'BROOK AVENUE': 3,\n",
       "         '56 STREET': 1,\n",
       "         'MONTROSE AVENUE': 1,\n",
       "         'MC DONALD AVENUE': 6,\n",
       "         'CROPSEY AVENUE': 1,\n",
       "         'WILSON AVENUE': 20,\n",
       "         'CASTLE HILL AVENUE': 1,\n",
       "         'CHESTNUT STREET': 3,\n",
       "         'EAST 116 STREET': 5,\n",
       "         'FREDERICK DOUGLASS BOULEVARD': 6,\n",
       "         'ESSEX STREET': 2,\n",
       "         'VERMILYEA AVENUE': 4,\n",
       "         'EAST 177 STREET': 5,\n",
       "         'CONCORD AVENUE': 3,\n",
       "         'EAST 148 STREET': 3,\n",
       "         'SCHAEFER STREET': 12,\n",
       "         'WALTON AVENUE': 8,\n",
       "         'RIVERSIDE DRIVE': 7,\n",
       "         'EAST MOSHOLU PARKWAY NORTH': 4,\n",
       "         'BLAKE AVENUE': 7,\n",
       "         'EASTERN PARKWAY EXTENSION': 6,\n",
       "         'DECATUR AVENUE': 6,\n",
       "         'EAST 166 STREET': 3,\n",
       "         'VAN SICLEN AVENUE': 6,\n",
       "         'DR M L KING JR BOULEVARD': 13,\n",
       "         'HENDRIX STREET': 3,\n",
       "         'EAST 110 STREET': 1,\n",
       "         'TOMPKINS AVENUE': 10,\n",
       "         'WEST 94 STREET': 1,\n",
       "         'DITMARS STREET': 2,\n",
       "         'WOODBINE STREET': 5,\n",
       "         'CINCINNATUS AVENUE': 1,\n",
       "         'PALMETTO STREET': 10,\n",
       "         '15 STREET': 2,\n",
       "         'WEST 129 STREET': 4,\n",
       "         'EAST 95 STREET': 10,\n",
       "         'CLARENDON ROAD': 5,\n",
       "         'WEST 16 STREET': 2,\n",
       "         'EAST 42 STREET': 1,\n",
       "         'STRATFORD AVENUE': 4,\n",
       "         'DE SALES PLACE': 2,\n",
       "         'EDGECOMBE AVENUE': 6,\n",
       "         'RUTLAND ROAD': 1,\n",
       "         'EUCLID AVENUE': 2,\n",
       "         'WHEELER AVENUE': 4,\n",
       "         'CATALPA AVENUE': 1,\n",
       "         'LONGFELLOW AVENUE': 5,\n",
       "         'WEST 46 STREET': 1,\n",
       "         'EAST 168 STREET': 2,\n",
       "         'MARLBOROUGH ROAD': 3,\n",
       "         'FARRAGUT ROAD': 1,\n",
       "         'WEST 213 STREET': 2,\n",
       "         '3 AVENUE': 12,\n",
       "         'BEACH 27 STREET': 1,\n",
       "         '18 AVENUE': 1,\n",
       "         'EAST 228 STREET': 4,\n",
       "         'NAGLE AVENUE': 6,\n",
       "         'CLARKSON AVENUE': 4,\n",
       "         'HARMAN STREET': 11,\n",
       "         'CRESTON AVENUE': 16,\n",
       "         'WILLIAMS AVENUE': 6,\n",
       "         'PENNSYLVANIA AVENUE': 11,\n",
       "         'EAST 189 STREET': 1,\n",
       "         'WALDO AVENUE': 1,\n",
       "         '111 STREET': 1,\n",
       "         'SARATOGA AVENUE': 4,\n",
       "         'REMSEN AVENUE': 3,\n",
       "         'LAFAYETTE AVENUE': 15,\n",
       "         'POST AVENUE': 2,\n",
       "         'WEST 185 STREET': 1,\n",
       "         'VERNON BOULEVARD': 2,\n",
       "         'HINSDALE STREET': 5,\n",
       "         'PARK PLACE': 19,\n",
       "         'BEACH 32 STREET': 2,\n",
       "         'EAST 115 STREET': 6,\n",
       "         'BRYANT AVENUE': 11,\n",
       "         'FLATBUSH AVENUE': 7,\n",
       "         'LINDEN STREET': 9,\n",
       "         'ST NICHOLAS AVENUE': 23,\n",
       "         'WEST 25 STREET': 1,\n",
       "         'MC KINLEY AVENUE': 1,\n",
       "         'EAST 176 STREET': 8,\n",
       "         'WYONA STREET': 7,\n",
       "         '177 STREET': 1,\n",
       "         'CHISHOLM STREET': 1,\n",
       "         '104 STREET': 4,\n",
       "         'BEACH 25 STREET': 1,\n",
       "         'MERMAID AVENUE': 3,\n",
       "         'COMMONWEALTH AVENUE': 6,\n",
       "         'BUTLER STREET': 1,\n",
       "         'CORLEAR AVENUE': 1,\n",
       "         'EAST 10 STREET': 2,\n",
       "         'ROSEDALE AVENUE': 2,\n",
       "         'KOSCIUSZKO STREET': 8,\n",
       "         '81 STREET': 1,\n",
       "         'ACADEMY STREET': 1,\n",
       "         'MANOR AVENUE': 2,\n",
       "         'SCHENCK AVENUE': 3,\n",
       "         'BAINBRIDGE STREET': 9,\n",
       "         'EAST 5 STREET': 4,\n",
       "         '33 STREET': 4,\n",
       "         'EAST 161 STREET': 3,\n",
       "         'CRESCENT STREET': 5,\n",
       "         'ST MARKS AVENUE': 13,\n",
       "         'FRANKLIN AVENUE': 9,\n",
       "         '60 STREET': 5,\n",
       "         'GRATTAN STREET': 1,\n",
       "         'EVERGREEN AVENUE': 12,\n",
       "         'LEXINGTON AVENUE': 5,\n",
       "         'SOUTHERN BOULEVARD': 8,\n",
       "         'CHURCH AVENUE': 8,\n",
       "         'LEGION STREET': 7,\n",
       "         'CLAREMONT AVENUE': 2,\n",
       "         '136 ROAD': 1,\n",
       "         'CROTONA PARK NORTH': 2,\n",
       "         'UNION STREET': 8,\n",
       "         '78 STREET': 3,\n",
       "         '5 AVENUE': 6,\n",
       "         'SACKMAN STREET': 2,\n",
       "         'MARTENSE STREET': 4,\n",
       "         'WEST KINGSBRIDGE ROAD': 1,\n",
       "         'DE KALB AVENUE': 14,\n",
       "         'LAKEWOOD AVENUE': 1,\n",
       "         'WEST 161 STREET': 2,\n",
       "         'HOWARD AVENUE': 6,\n",
       "         'ROGERS AVENUE': 13,\n",
       "         'ASTOR AVENUE': 1,\n",
       "         'EAST 53 STREET': 6,\n",
       "         'EAST 199 STREET': 4,\n",
       "         'BLEECKER STREET': 5,\n",
       "         'WEBB AVENUE': 6,\n",
       "         'STERLING STREET': 1,\n",
       "         'WEST 137 STREET': 3,\n",
       "         'MORRIS AVENUE': 16,\n",
       "         'HAMILTON PLACE': 6,\n",
       "         'CENTRAL AVENUE': 8,\n",
       "         'BEDFORD AVENUE': 10,\n",
       "         'HEMPSTEAD AVENUE': 1,\n",
       "         'WEST 116 STREET': 4,\n",
       "         'MARION AVENUE': 5,\n",
       "         'PULASKI STREET': 6,\n",
       "         'HULL AVENUE': 3,\n",
       "         'WEST 180 STREET': 9,\n",
       "         'WEST 152 STREET': 2,\n",
       "         'WEST 6 STREET': 1,\n",
       "         'WICKHAM AVENUE': 2,\n",
       "         'WILLMOHR STREET': 2,\n",
       "         'NASSAU AVENUE': 2,\n",
       "         'WEST 204 STREET': 1,\n",
       "         'EAST 181 STREET': 4,\n",
       "         'OLYMPIA BOULEVARD': 1,\n",
       "         'BEACH 26 STREET': 7,\n",
       "         'AVENUE ST JOHN': 1,\n",
       "         'LORILLARD PLACE': 2,\n",
       "         'MYRTLE AVENUE': 5,\n",
       "         'UNION AVENUE': 6,\n",
       "         'WHITE PLAINS ROAD': 7,\n",
       "         '72 STREET': 1,\n",
       "         'BAINBRIDGE AVENUE': 4,\n",
       "         'EAST 2 STREET': 1,\n",
       "         'SACKETT AVENUE': 2,\n",
       "         'MONROE STREET': 9,\n",
       "         'NORWOOD AVENUE': 2,\n",
       "         'LINWOOD STREET': 5,\n",
       "         'FTELEY AVENUE': 2,\n",
       "         'OLD KINGSBRIDGE ROAD': 1,\n",
       "         'VERNON AVENUE': 7,\n",
       "         'WEST 182 STREET': 5,\n",
       "         'JACKSON AVENUE': 3,\n",
       "         'CLEVELAND STREET': 3,\n",
       "         'WEST 19 STREET': 2,\n",
       "         'BROAD STREET': 3,\n",
       "         'BRADFORD STREET': 3,\n",
       "         'BELMONT AVENUE': 8,\n",
       "         'WASHINGTON AVENUE': 7,\n",
       "         'WEST 148 STREET': 1,\n",
       "         'VERMONT STREET': 5,\n",
       "         'NEWKIRK AVENUE': 7,\n",
       "         'ASHFORD STREET': 2,\n",
       "         'BEACH 70 STREET': 1,\n",
       "         'ATKINS AVENUE': 4,\n",
       "         'EAST 182 STREET': 8,\n",
       "         'EAST 134 STREET': 1,\n",
       "         'BEACH 36 STREET': 2,\n",
       "         'BARRETTO STREET': 2,\n",
       "         'STILLWELL AVENUE': 1,\n",
       "         'CLAREMONT PARKWAY': 2,\n",
       "         'EAST 178 STREET': 5,\n",
       "         'JEFFERSON STREET': 6,\n",
       "         'CARROLL STREET': 7,\n",
       "         'FENIMORE STREET': 2,\n",
       "         'WEST 144 STREET': 5,\n",
       "         'EAST 215 STREET': 6,\n",
       "         '6 AVENUE': 3,\n",
       "         'EAST 106 STREET': 2,\n",
       "         'JEFFERSON PLACE': 2,\n",
       "         'EAST 220 STREET': 1,\n",
       "         'ADAMS STREET': 1,\n",
       "         'EAST 155 STREET': 2,\n",
       "         'MORRIS PARK AVENUE': 1,\n",
       "         'EAST 60 STREET': 1,\n",
       "         'CLAY STREET': 1,\n",
       "         'WEST 132 STREET': 3,\n",
       "         'HEATH AVENUE': 3,\n",
       "         'BILLINGSLEY TERRACE': 1,\n",
       "         'LAFONTAINE AVENUE': 1,\n",
       "         'EASTBURN AVENUE': 1,\n",
       "         'MANHATTAN AVENUE': 5,\n",
       "         'EAST 125 STREET': 2,\n",
       "         'CRANFORD AVENUE': 1,\n",
       "         'EAST 144 STREET': 2,\n",
       "         'ELIZABETH STREET': 2,\n",
       "         'WEST 169 STREET': 3,\n",
       "         'THROOP AVENUE': 6,\n",
       "         'EAST 136 STREET': 3,\n",
       "         'WEST 179 STREET': 1,\n",
       "         'NEWBOLD AVENUE': 1,\n",
       "         'VYSE AVENUE': 2,\n",
       "         'DIX AVENUE': 1,\n",
       "         'HOLLAND AVENUE': 9,\n",
       "         'LIVERPOOL STREET': 4,\n",
       "         'JENNINGS STREET': 6,\n",
       "         'WEST 111 STREET': 1,\n",
       "         'AMUNDSON AVENUE': 2,\n",
       "         'AVENUE V': 2,\n",
       "         'FT WASHINGTON AVENUE': 2,\n",
       "         'GARFIELD STREET': 2,\n",
       "         'WEST 159 STREET': 3,\n",
       "         'STUYVESANT AVENUE': 1,\n",
       "         'VAN BUREN STREET': 7,\n",
       "         'MT MORRIS PARK WEST': 1,\n",
       "         'GREENPOINT AVENUE': 1,\n",
       "         'BARNES AVENUE': 2,\n",
       "         'EAST 217 STREET': 1,\n",
       "         'DEKALB AVENUE': 3,\n",
       "         'EAST 123 STREET': 1,\n",
       "         'ALLEN STREET': 1,\n",
       "         'CAULDWELL AVENUE': 3,\n",
       "         'NOSTRAND AVENUE': 17,\n",
       "         'ROCKAWAY PARKWAY': 6,\n",
       "         'EAST 88 STREET': 1,\n",
       "         '66 STREET': 1,\n",
       "         'COVERT STREET': 2,\n",
       "         'MIDWOOD STREET': 2,\n",
       "         'EAST 94 STREET': 11,\n",
       "         'TINTON AVENUE': 5,\n",
       "         'WILLOUGHBY AVENUE': 8,\n",
       "         '46 STREET': 7,\n",
       "         'CRUGER AVENUE': 5,\n",
       "         'NORTHERN BOULEVARD': 2,\n",
       "         'SEAMAN AVENUE': 4,\n",
       "         'KELLY STREET': 7,\n",
       "         'CORNELIA STREET': 7,\n",
       "         'UNIVERSITY AVENUE': 3,\n",
       "         'MORTON STREET': 1,\n",
       "         'TAYLOR AVENUE': 6,\n",
       "         'ELDRIDGE STREET': 1,\n",
       "         '14 STREET': 1,\n",
       "         'REV JAMES POLITE AVENUE': 3,\n",
       "         'WADSWORTH AVENUE': 4,\n",
       "         'CROTONA AVENUE': 5,\n",
       "         '135 AVENUE': 1,\n",
       "         'BATHGATE AVENUE': 2,\n",
       "         'RIVERDALE AVENUE': 5,\n",
       "         'JEROME STREET': 2,\n",
       "         'ROCKAWAY AVENUE': 9,\n",
       "         'JUMEL TERRACE': 2,\n",
       "         'ARTHUR AVENUE': 2,\n",
       "         'BUSHWICK AVENUE': 8,\n",
       "         '107 STREET': 2,\n",
       "         'GERARD AVENUE': 3,\n",
       "         'RICHARDSON AVENUE': 4,\n",
       "         'HIMROD STREET': 2,\n",
       "         'RALPH AVENUE': 9,\n",
       "         '51 STREET': 1,\n",
       "         'WEST 128 STREET': 2,\n",
       "         'WEST 172 STREET': 2,\n",
       "         'WARD AVENUE': 3,\n",
       "         '103 STREET': 1,\n",
       "         'PERRY AVENUE': 3,\n",
       "         'CROWN STREET': 3,\n",
       "         'GATES AVENUE': 3,\n",
       "         'ARLINGTON AVENUE': 3,\n",
       "         'SHERIDAN AVENUE': 4,\n",
       "         'EAST 183 STREET': 3,\n",
       "         'STARR STREET': 5,\n",
       "         'WEST 139 STREET': 2,\n",
       "         'HUNTINGTON AVENUE': 1,\n",
       "         '71 STREET': 1,\n",
       "         'EAST 224 STREET': 6,\n",
       "         'OWLS HEAD COURT': 1,\n",
       "         '45 ROAD': 1,\n",
       "         'FURMAN AVENUE': 3,\n",
       "         'MONTICELLO AVENUE': 1,\n",
       "         'MT HOPE PLACE': 2,\n",
       "         'STODDARD PLACE': 3,\n",
       "         'WEST 143 STREET': 4,\n",
       "         '30 DRIVE': 1,\n",
       "         'ST NICHOLAS TERRACE': 2,\n",
       "         'EAST 163 STREET': 6,\n",
       "         'WESTCHESTER AVENUE': 3,\n",
       "         'FISH AVENUE': 1,\n",
       "         'LOGAN STREET': 3,\n",
       "         'CLAY AVENUE': 14,\n",
       "         'MACON STREET': 5,\n",
       "         'WEST 91 STREET': 1,\n",
       "         'FILLMORE STREET': 1,\n",
       "         'EAST 117 STREET': 3,\n",
       "         'EAST 52 STREET': 9,\n",
       "         'MARION STREET': 8,\n",
       "         'BEDFORD PARK BOULEVARD': 1,\n",
       "         'EAST 150 STREET': 1,\n",
       "         'GREYSTONE AVENUE': 2,\n",
       "         'FOREST AVENUE': 3,\n",
       "         'SULLIVAN PLACE': 3,\n",
       "         'BRUCKNER BOULEVARD': 3,\n",
       "         'TROY AVENUE': 4,\n",
       "         'ATLANTIC AVENUE': 11,\n",
       "         'GLENMORE AVENUE': 3,\n",
       "         'WEST 146 STREET': 3,\n",
       "         'HUGHES AVENUE': 5,\n",
       "         'GRAND AVENUE': 12,\n",
       "         'AUDUBON AVENUE': 10,\n",
       "         'EAST 230 STREET': 2,\n",
       "         'NEW LOTS AVENUE': 5,\n",
       "         'EAST 225 STREET': 2,\n",
       "         'VAN PELT AVENUE': 1,\n",
       "         'ST FELIX STREET': 1,\n",
       "         'GROVE STREET': 6,\n",
       "         'ST LAWRENCE AVENUE': 2,\n",
       "         'EAST 36 STREET': 1,\n",
       "         'WOODHULL AVENUE': 1,\n",
       "         'EAST 119 STREET': 4,\n",
       "         'NELSON AVENUE': 1,\n",
       "         'SEDGWICK AVENUE': 1,\n",
       "         'BRONX PARK AVENUE': 1,\n",
       "         'LAMBERT STREET': 1,\n",
       "         'HOE AVENUE': 6,\n",
       "         'ELTON STREET': 6,\n",
       "         'SHAKESPEARE AVENUE': 2,\n",
       "         'UTICA AVENUE': 2,\n",
       "         'GOUVERNEUR AVENUE': 1,\n",
       "         'BELMONT PLACE': 1,\n",
       "         'PINE STREET': 1,\n",
       "         '107 AVENUE': 1,\n",
       "         'CLASSON AVENUE': 3,\n",
       "         'CROMWELL AVENUE': 3,\n",
       "         'COOPER STREET': 7,\n",
       "         'NELSON STREET': 1,\n",
       "         'EAST 169 STREET': 5,\n",
       "         '85 AVENUE': 1,\n",
       "         'WEIRFIELD STREET': 3,\n",
       "         'MARBLE HILL AVENUE': 3,\n",
       "         'EAST 173 STREET': 4,\n",
       "         'PARSONS BOULEVARD': 1,\n",
       "         '97 STREET': 1,\n",
       "         'EAST 227 STREET': 4,\n",
       "         'CONOVER STREET': 1,\n",
       "         'WEST 147 STREET': 4,\n",
       "         'EAST 1 STREET': 1,\n",
       "         '115 STREET': 1,\n",
       "         'WEST 47 STREET': 1,\n",
       "         '1 AVENUE': 4,\n",
       "         'SCHENECTADY AVENUE': 7,\n",
       "         'EAST 21 STREET': 8,\n",
       "         'EAST 229 STREET': 2,\n",
       "         'CALYER STREET': 1,\n",
       "         'CROOKE AVENUE': 1,\n",
       "         'OGDEN AVENUE': 1,\n",
       "         'AMBOY STREET': 2,\n",
       "         'ANTHONY AVENUE': 3,\n",
       "         'FLUSHING AVENUE': 3,\n",
       "         '96 STREET': 2,\n",
       "         'BOSTON ROAD': 5,\n",
       "         'EAST 180 STREET': 6,\n",
       "         'DUNCAN STREET': 1,\n",
       "         'BARRETT AVENUE': 1,\n",
       "         'SANFORD AVENUE': 2,\n",
       "         'SLOSSON TERRACE': 2,\n",
       "         'CHESTER AVENUE': 1,\n",
       "         '14 ROAD': 1,\n",
       "         '126 STREET': 2,\n",
       "         'EAST 46 STREET': 2,\n",
       "         'CYPRESS AVENUE': 2,\n",
       "         '69 PLACE': 1,\n",
       "         'EAST 22 STREET': 4,\n",
       "         'WEST 119 STREET': 3,\n",
       "         '20 AVENUE': 1,\n",
       "         'BOYNTON AVENUE': 3,\n",
       "         'WEST 151 STREET': 4,\n",
       "         'MOTHER GASTON BOULEVARD': 6,\n",
       "         'RYER AVENUE': 3,\n",
       "         'BEACH AVENUE': 5,\n",
       "         '41 STREET': 1,\n",
       "         'VALENTINE AVENUE': 2,\n",
       "         'EAST 149 STREET': 1,\n",
       "         'BEACH 60 STREET': 1,\n",
       "         'EAST 55 STREET': 2,\n",
       "         'FOSTER AVENUE': 2,\n",
       "         'STAGG STREET': 1,\n",
       "         'EAST 19 STREET': 4,\n",
       "         'EAST 31 STREET': 1,\n",
       "         'WEST 40 STREET': 1,\n",
       "         'FAIRMOUNT PLACE': 4,\n",
       "         'BENHAM STREET': 1,\n",
       "         'GATES PLACE': 1,\n",
       "         'SCHOLES STREET': 1,\n",
       "         'EAST 11 STREET': 2,\n",
       "         'EAST 105 STREET': 2,\n",
       "         '9 STREET': 3,\n",
       "         'MINFORD PLACE': 1,\n",
       "         'LEWIS AVENUE': 3,\n",
       "         'PLEASANT AVENUE': 1,\n",
       "         'DUMONT AVENUE': 5,\n",
       "         'EAST 34 STREET': 5,\n",
       "         'CLARKE PLACE EAST': 1,\n",
       "         'EAST 208 STREET': 1,\n",
       "         'MELROSE STREET': 5,\n",
       "         'EAST 126 STREET': 2,\n",
       "         'EAST 51 STREET': 2,\n",
       "         'HENNESSY PLACE': 1,\n",
       "         'OLINVILLE AVENUE': 2,\n",
       "         'BUTLER PLACE': 1,\n",
       "         'EAST 231 STREET': 1,\n",
       "         'SHEFFIELD AVENUE': 5,\n",
       "         'EAST 137 STREET': 1,\n",
       "         'EAST 14 STREET': 3,\n",
       "         'DECATUR STREET': 4,\n",
       "         'MATTHEWS AVENUE': 2,\n",
       "         'EAST 156 STREET': 2,\n",
       "         'DAVIDSON AVENUE': 11,\n",
       "         'ELLERY STREET': 1,\n",
       "         'WEST 133 STREET': 1,\n",
       "         'EAST 138 STREET': 5,\n",
       "         'RESERVOIR AVENUE': 1,\n",
       "         'EAST 102 STREET': 1,\n",
       "         'CROES AVENUE': 1,\n",
       "         'BAY STREET': 1,\n",
       "         'EAST 223 STREET': 4,\n",
       "         'STOCKHOLM STREET': 7,\n",
       "         'SELWYN AVENUE': 1,\n",
       "         'EAST 141 STREET': 1,\n",
       "         'BEACH CHANNEL DRIVE': 2,\n",
       "         'SEYMOUR AVENUE': 1,\n",
       "         'EAST 184 STREET': 1,\n",
       "         'GRACE COURT': 1,\n",
       "         'BRADHURST AVENUE': 1,\n",
       "         'MATILDA AVENUE': 2,\n",
       "         'NEW YORK AVENUE': 4,\n",
       "         'GRAHAM AVENUE': 2,\n",
       "         '42 AVENUE': 1,\n",
       "         'EAST 17 STREET': 3,\n",
       "         'AVENUE S': 1,\n",
       "         '105 AVENUE': 1,\n",
       "         'WEST 178 STREET': 3,\n",
       "         'GIPSON STREET': 1,\n",
       "         'WRIGHT STREET': 2,\n",
       "         'EAST 167 STREET': 4,\n",
       "         'EAST 109 STREET': 3,\n",
       "         'CATHEDRAL PARKWAY': 2,\n",
       "         'CUMBERLAND STREET': 2,\n",
       "         'PINSON STREET': 1,\n",
       "         'TOWNSEND AVENUE': 1,\n",
       "         'VICTOR STREET': 1,\n",
       "         'LEFFERTS AVENUE': 1,\n",
       "         'ANDERSON AVENUE': 1,\n",
       "         'LEFFERTS PLACE': 1,\n",
       "         'WEST 186 STREET': 2,\n",
       "         'TOPPING AVENUE': 1,\n",
       "         'ELDER AVENUE': 3,\n",
       "         'EAST 45 STREET': 3,\n",
       "         'EAST 54 STREET': 7,\n",
       "         'WEST 136 STREET': 5,\n",
       "         'EAST 59 STREET': 2,\n",
       "         '24 STREET': 1,\n",
       "         'MAC DOUGAL STREET': 1,\n",
       "         'HOOPER STREET': 2,\n",
       "         '102 AVENUE': 2,\n",
       "         'DIGNEY AVENUE': 1,\n",
       "         'WEST 160 STREET': 6,\n",
       "         'HILL STREET': 3,\n",
       "         'TAPSCOTT STREET': 4,\n",
       "         'COLUMBUS AVENUE': 1,\n",
       "         'LENOX AVENUE': 2,\n",
       "         '10 STREET': 1,\n",
       "         'EAST 91 STREET': 1,\n",
       "         'WARWICK STREET': 2,\n",
       "         'CABRINI BOULEVARD': 2,\n",
       "         'EAST 111 STREET': 1,\n",
       "         '7 AVENUE': 1,\n",
       "         'PROSPECT PARK WEST': 3,\n",
       "         'WEST 141 STREET': 3,\n",
       "         'WEST 192 STREET': 1,\n",
       "         'TILDEN STREET': 1,\n",
       "         'MARCUS GARVEY BOULEVARD': 2,\n",
       "         'SUMMERFIELD STREET': 2,\n",
       "         'CARY AVENUE': 1,\n",
       "         'GUERNSEY STREET': 1,\n",
       "         'BRONX BOULEVARD': 1,\n",
       "         'EAST 82 STREET': 1,\n",
       "         'EAST 162 STREET': 2,\n",
       "         'SUTTER AVENUE': 2,\n",
       "         'CRESCENT AVENUE': 2,\n",
       "         'LIBERTY AVENUE': 2,\n",
       "         '59 STREET': 3,\n",
       "         'LUQUER STREET': 1,\n",
       "         'INTERVALE AVENUE': 2,\n",
       "         'NOBLE AVENUE': 2,\n",
       "         'FAIRVIEW AVENUE': 1,\n",
       "         'JAMAICA AVENUE': 4,\n",
       "         'EAST 164 STREET': 2,\n",
       "         'THOMAS S BOYLAND STREET': 1,\n",
       "         'POND PLACE': 1,\n",
       "         'FAILE STREET': 4,\n",
       "         'WEST 120 STREET': 1,\n",
       "         'OXFORD AVENUE': 1,\n",
       "         'WEST 125 STREET': 2,\n",
       "         '102 STREET': 3,\n",
       "         '34 ROAD': 1,\n",
       "         'CORTELYOU ROAD': 1,\n",
       "         '54 STREET': 2,\n",
       "         'EAST 222 STREET': 1,\n",
       "         'EAST 120 STREET': 1,\n",
       "         'WEST 156 STREET': 2,\n",
       "         'ROWLAND STREET': 1,\n",
       "         'GARRISON AVENUE': 1,\n",
       "         'EAST 142 STREET': 2,\n",
       "         'BUFFALO AVENUE': 2,\n",
       "         'HESTER STREET': 1,\n",
       "         'VANDERBILT AVENUE': 1,\n",
       "         'CHRISTOPHER AVENUE': 2,\n",
       "         'AQUEDUCT AVENUE EAST': 1,\n",
       "         'PENFIELD STREET': 3,\n",
       "         'AVENUE F': 1,\n",
       "         'SAGAMORE STREET': 2,\n",
       "         'EAST 165 STREET': 3,\n",
       "         'MILFORD STREET': 3,\n",
       "         'WEST 130 STREET': 3,\n",
       "         '80 STREET': 2,\n",
       "         'HAMPTON STREET': 1,\n",
       "         'CROSS BRONX EXPRESSWAY': 3,\n",
       "         'TIEBOUT AVENUE': 1,\n",
       "         'GRANITE STREET': 3,\n",
       "         'WEST 115 STREET': 1,\n",
       "         'COLUMBIA STREET': 1,\n",
       "         'EAGLE AVENUE': 3,\n",
       "         'WEST 12 STREET': 1,\n",
       "         'ECHO PLACE': 1,\n",
       "         'POWELL STREET': 3,\n",
       "         'ANDREWS AVENUE SOUTH': 1,\n",
       "         'SOUTH ELLIOTT PLACE': 1,\n",
       "         'ROOSEVELT PLACE': 1,\n",
       "         'VOORHIES AVENUE': 1,\n",
       "         'FOX STREET': 3,\n",
       "         'WEST 149 STREET': 1,\n",
       "         'WASHINGTON STREET': 1,\n",
       "         'ANDREWS AVENUE NORTH': 1,\n",
       "         'EAST 93 STREET': 1,\n",
       "         'HIGHLAND PLACE': 1,\n",
       "         'BEAUMONT AVENUE': 5,\n",
       "         'ORCHARD STREET': 2,\n",
       "         'WEST 165 STREET': 2,\n",
       "         'EAST 179 STREET': 2,\n",
       "         '105 STREET': 1,\n",
       "         'CHRISTOPHER STREET': 2,\n",
       "         'HOFFMAN STREET': 1,\n",
       "         'EAST 8 STREET': 2,\n",
       "         'CONVENT AVENUE': 3,\n",
       "         'BALTIC STREET': 2,\n",
       "         'NEPTUNE AVENUE': 2,\n",
       "         'WEST 8 STREET': 1,\n",
       "         'WEST 164 STREET': 3,\n",
       "         '23 STREET': 3,\n",
       "         'WEST 157 STREET': 2,\n",
       "         'EAST 172 STREET': 4,\n",
       "         'KINGSBRIDGE TERRACE': 1,\n",
       "         'WINTHROP STREET': 4,\n",
       "         'WEST 99 STREET': 1,\n",
       "         'LACOMBE AVENUE': 1,\n",
       "         'WEST 35 STREET': 1,\n",
       "         'BEAVER STREET': 1,\n",
       "         'WEST 106 STREET': 1,\n",
       "         'ST ANNS AVENUE': 1,\n",
       "         'LUDLOW STREET': 1,\n",
       "         '82 STREET': 1,\n",
       "         'LOWELL STREET': 2,\n",
       "         'EAST 84 STREET': 1,\n",
       "         '70 AVENUE': 1,\n",
       "         'HILLSIDE AVENUE': 1,\n",
       "         'JEROME AVENUE': 3,\n",
       "         '123 AVENUE': 1,\n",
       "         '43 AVENUE': 3,\n",
       "         'WEST 89 STREET': 1,\n",
       "         'WEST 238 STREET': 1,\n",
       "         'WEST 183 STREET': 2,\n",
       "         'RIDGEWOOD AVENUE': 1,\n",
       "         '62 STREET': 1,\n",
       "         '21 AVENUE': 1,\n",
       "         'LONGWOOD AVENUE': 2,\n",
       "         'MCBRIDE STREET': 1,\n",
       "         'ALBEMARLE ROAD': 3,\n",
       "         'MOTT STREET': 1,\n",
       "         'LAYTON AVENUE': 1,\n",
       "         'EAST 83 STREET': 1,\n",
       "         'BRIGHTON 4 STREET': 1,\n",
       "         'WEST 127 STREET': 1,\n",
       "         '68 STREET': 1,\n",
       "         'GLENWOOD ROAD': 3,\n",
       "         'WATKINS STREET': 1,\n",
       "         'WEST 212 STREET': 1,\n",
       "         'ARGYLE ROAD': 1,\n",
       "         '49 STREET': 2,\n",
       "         '9 AVENUE': 2,\n",
       "         'MONTGOMERY PLACE': 1,\n",
       "         'WETHEROLE STREET': 1,\n",
       "         'WEST 138 STREET': 3,\n",
       "         'PARKSIDE AVENUE': 1,\n",
       "         'WEST 190 STREET': 2,\n",
       "         'MAYFLOWER AVENUE': 1,\n",
       "         'BRONXWOOD AVENUE': 2,\n",
       "         'CLINTON STREET': 1,\n",
       "         'EAST 48 STREET': 1,\n",
       "         'PIERREPONT STREET': 1,\n",
       "         'WEST 181 STREET': 2,\n",
       "         'ELLWOOD STREET': 3,\n",
       "         'WEST 173 STREET': 1,\n",
       "         'STRAUSS STREET': 3,\n",
       "         'WEST 158 STREET': 6,\n",
       "         'WEST 15 STREET': 2,\n",
       "         'SEDDON STREET': 1,\n",
       "         'BERRIMAN STREET': 1,\n",
       "         'EAST 133 STREET': 1,\n",
       "         'WEST 122 STREET': 1,\n",
       "         'STANHOPE STREET': 2,\n",
       "         'BAY PARKWAY': 1,\n",
       "         'OAKLEY STREET': 1,\n",
       "         'WEST 207 STREET': 1,\n",
       "         'MELROSE AVENUE': 2,\n",
       "         'AUTUMN AVENUE': 1,\n",
       "         'CARPENTER AVENUE': 3,\n",
       "         'MAPES AVENUE': 3,\n",
       "         'WEST 187 STREET': 1,\n",
       "         'WEST 54 STREET': 1,\n",
       "         'EAST 13 STREET': 2,\n",
       "         'EAST 32 STREET': 1,\n",
       "         'AQUEDUCT AVENUE WEST': 1,\n",
       "         'LORING PLACE NORTH': 1,\n",
       "         'SOUNDVIEW AVENUE': 1,\n",
       "         'BONNER PLACE': 1,\n",
       "         'FOUNTAIN AVENUE': 1,\n",
       "         'EAST 43 STREET': 1,\n",
       "         'OCEAN PARKWAY': 1,\n",
       "         '29 STREET': 1,\n",
       "         'EAST 6 STREET': 1,\n",
       "         'DRIGGS AVENUE': 1,\n",
       "         'NEW UTRECHT AVENUE': 1,\n",
       "         'BAILEY AVENUE': 1,\n",
       "         'EAST 49 STREET': 1,\n",
       "         'WEST 205 STREET': 1,\n",
       "         'GARDEN STREET': 2,\n",
       "         'LAWRENCE AVENUE': 1,\n",
       "         'EAST 147 STREET': 2,\n",
       "         'EAST 18 STREET': 2,\n",
       "         '196 STREET': 1,\n",
       "         'WEST 184 STREET': 1,\n",
       "         '13 AVENUE': 1,\n",
       "         'DALY AVENUE': 1,\n",
       "         'BIRCHALL AVENUE': 1,\n",
       "         'VAN NEST AVENUE': 1,\n",
       "         'WEST 124 STREET': 1,\n",
       "         'DANIEL LOW TERRACE': 1,\n",
       "         'WESTMINSTER ROAD': 2,\n",
       "         'SOUTH 5 STREET': 2,\n",
       "         '110 STREET': 1,\n",
       "         'EAST 193 STREET': 1,\n",
       "         'SNYDER AVENUE': 3,\n",
       "         'IRVING PLACE': 1,\n",
       "         'BEACH 31 STREET': 2,\n",
       "         '8 AVENUE': 2,\n",
       "         'EAST 153 STREET': 2,\n",
       "         'EDWARDS AVENUE': 1,\n",
       "         'WEST 193 STREET': 1,\n",
       "         'CROTONA PARKWAY': 1,\n",
       "         'MC BRIDE STREET': 1,\n",
       "         'WEST 28 STREET': 2,\n",
       "         'MAPLE STREET': 3,\n",
       "         'SPOFFORD AVENUE': 1,\n",
       "         'CASSIDY PLACE': 1,\n",
       "         'DAHILL ROAD': 2,\n",
       "         'COOPER AVENUE': 2,\n",
       "         'EAST 243 STREET': 1,\n",
       "         'NEWPORT STREET': 1,\n",
       "         'EAST 188 STREET': 1,\n",
       "         'TRATMAN AVENUE': 2,\n",
       "         'CARROLL PLACE': 1,\n",
       "         'HEGEMAN AVENUE': 2,\n",
       "         'ROOSEVELT AVENUE': 1,\n",
       "         'SOUTH 1 STREET': 1,\n",
       "         'EAST 15 STREET': 1,\n",
       "         'EAST 86 STREET': 1,\n",
       "         'COURT STREET': 1,\n",
       "         'JERSEY STREET': 1,\n",
       "         '3 PLACE': 3,\n",
       "         'KINGSBRIDGE AVENUE': 1,\n",
       "         '42 STREET': 2,\n",
       "         'EMPIRE BOULEVARD': 1,\n",
       "         '108 AVENUE': 1,\n",
       "         'BROOME STREET': 1,\n",
       "         'LORIMER STREET': 1,\n",
       "         '110 AVENUE': 1,\n",
       "         '93 AVENUE': 1,\n",
       "         '99 STREET': 1,\n",
       "         '52 STREET': 4,\n",
       "         'COLDEN AVENUE': 1,\n",
       "         'NEEDHAM AVENUE': 1,\n",
       "         'HONEYWELL AVENUE': 1,\n",
       "         '135 STREET': 1,\n",
       "         'NEWEL STREET': 1,\n",
       "         'GUNTHER PLACE': 1,\n",
       "         'PALISADE PLACE': 1,\n",
       "         'NORTH 8 STREET': 1,\n",
       "         'BEVERLEY ROAD': 1,\n",
       "         'EAST 29 STREET': 2,\n",
       "         'CAMBRELENG AVENUE': 1,\n",
       "         'EAST 25 STREET': 1,\n",
       "         'WEST 121 STREET': 1,\n",
       "         '27 STREET': 1,\n",
       "         '35 STREET': 1,\n",
       "         '17 AVENUE': 1,\n",
       "         'EAST 234 STREET': 2,\n",
       "         'MORNINGSIDE AVENUE': 2,\n",
       "         'CATON AVENUE': 1,\n",
       "         'ROCHAMBEAU AVENUE': 1,\n",
       "         'WEST 107 STREET': 1,\n",
       "         'OSBORN STREET': 1,\n",
       "         'SNEDIKER AVENUE': 1,\n",
       "         'MARMION AVENUE': 2,\n",
       "         'EAST 170 STREET': 1,\n",
       "         'ELSMERE PLACE': 1,\n",
       "         'ARDEN STREET': 1,\n",
       "         'SENATOR STREET': 1,\n",
       "         'SKILLMAN STREET': 1,\n",
       "         'METCALF AVENUE': 1,\n",
       "         'EAST 118 STREET': 1,\n",
       "         '45 STREET': 1,\n",
       "         'JESUP PLACE': 1,\n",
       "         'EDENWALD AVENUE': 1,\n",
       "         '87 STREET': 2,\n",
       "         'BEVERLY ROAD': 2,\n",
       "         'RIVINGTON STREET': 1,\n",
       "         'BERRY STREET': 1,\n",
       "         'LINCOLN ROAD': 2,\n",
       "         'HURON STREET': 2,\n",
       "         'WEST 153 STREET': 1,\n",
       "         'SUMMIT AVENUE': 1,\n",
       "         'GILBERT PLACE': 1,\n",
       "         'YORK AVENUE': 2,\n",
       "         'WEST 155 STREET': 1,\n",
       "         'SOUTH 3 STREET': 2,\n",
       "         '165 STREET': 1,\n",
       "         'WASHINGTON PARK': 1,\n",
       "         'WEST 162 STREET': 1,\n",
       "         'WEST FORDHAM ROAD': 1,\n",
       "         'WEST 112 STREET': 1,\n",
       "         'VILLA AVENUE': 3,\n",
       "         'ST NICHOLAS PLACE': 1,\n",
       "         'EAST 23 STREET': 2,\n",
       "         'BECK STREET': 1,\n",
       "         'EAST 209 STREET': 1,\n",
       "         'EAST 104 STREET': 1,\n",
       "         'CITY ISLAND AVENUE': 1,\n",
       "         'WEST 22 STREET': 2,\n",
       "         'ERASMUS STREET': 1,\n",
       "         'WEST 170 STREET': 1,\n",
       "         'EAST 56 STREET': 1,\n",
       "         'EAST 98 STREET': 1,\n",
       "         'LEE AVENUE': 1,\n",
       "         'DIKEMAN STREET': 1,\n",
       "         'WEST 108 STREET': 1,\n",
       "         'NORTH 7 STREET': 1,\n",
       "         'LIVONIA AVENUE': 1,\n",
       "         '61 STREET': 1,\n",
       "         'WILLIAMSBRIDGE ROAD': 1,\n",
       "         'WEST 49 STREET': 1,\n",
       "         'STOCKTON STREET': 1,\n",
       "         '153 STREET': 1,\n",
       "         'NAMEOKE STREET': 1,\n",
       "         'BARBEY STREET': 1,\n",
       "         'EAST 108 STREET': 1,\n",
       "         'SOUTH PINEHURST AVENUE': 1,\n",
       "         'BEACH 66 STREET': 1,\n",
       "         'EAST 27 STREET': 1,\n",
       "         'MORRISON AVENUE': 1,\n",
       "         '148 STREET': 2,\n",
       "         'MONTGOMERY STREET': 2,\n",
       "         'EAST 3 STREET': 1,\n",
       "         'DINSMORE AVENUE': 1,\n",
       "         'BARCLAY AVENUE': 1,\n",
       "         '55 STREET': 1,\n",
       "         'MADISON AVENUE': 1,\n",
       "         'GEORGIA AVENUE': 1,\n",
       "         'UNIONPORT ROAD': 1,\n",
       "         'FREEMAN STREET': 1,\n",
       "         'LORING PLACE SOUTH': 1,\n",
       "         'HORATIO STREET': 1,\n",
       "         'EAST 12 STREET': 1,\n",
       "         'EAST 121 STREET': 1,\n",
       "         'EAST 124 STREET': 1,\n",
       "         'WEST 4 STREET': 1,\n",
       "         'STRONG PLACE': 1,\n",
       "         'GATEWAY BOULEVARD': 1,\n",
       "         'AVENUE I': 1,\n",
       "         'AVENUE K': 1,\n",
       "         'ELLIOT PLACE': 1,\n",
       "         'PHELAN PLACE': 1,\n",
       "         'WEST 131 STREET': 1,\n",
       "         'NOLL STREET': 1,\n",
       "         'CLINTON PLACE': 1,\n",
       "         'BAY RIDGE AVENUE': 1,\n",
       "         'EAST 26 STREET': 1})"
      ]
     },
     "execution_count": 178,
     "metadata": {},
     "output_type": "execute_result"
    }
   ],
   "source": [
    "ds.select('STREET').distinct()"
   ]
  },
  {
   "cell_type": "code",
   "execution_count": 179,
   "metadata": {},
   "outputs": [],
   "source": [
    "outputpath = datafile[2:11]+'_cleaned_data.csv'\n",
    "df.to_csv(outputpath,sep=',',index=False,header=True) "
   ]
  }
 ],
 "metadata": {
  "kernelspec": {
   "display_name": "Python 3",
   "language": "python",
   "name": "python3"
  },
  "language_info": {
   "codemirror_mode": {
    "name": "ipython",
    "version": 3
   },
   "file_extension": ".py",
   "mimetype": "text/x-python",
   "name": "python",
   "nbconvert_exporter": "python",
   "pygments_lexer": "ipython3",
   "version": "3.8.3"
  }
 },
 "nbformat": 4,
 "nbformat_minor": 5
}
