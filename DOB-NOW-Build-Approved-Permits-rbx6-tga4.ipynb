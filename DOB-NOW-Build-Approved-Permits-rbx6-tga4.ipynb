{
 "cells": [
  {
   "cell_type": "code",
   "execution_count": 39,
   "metadata": {},
   "outputs": [],
   "source": [
    "import openclean\n",
    "import glob\n",
    "import pandas as pd\n",
    "import numpy as np\n"
   ]
  },
  {
   "cell_type": "code",
   "execution_count": 40,
   "metadata": {},
   "outputs": [],
   "source": [
    "# https://data.cityofnewyork.us/Housing-Development/Housing-New-York-Units-by-Building/hg8x-zxpr\n",
    "# https://data.cityofnewyork.us/Housing-Development/DOB-NOW-Build-Approved-Permits/rbx6-tga4\n",
    "# https://data.cityofnewyork.us/Housing-Development/Buildings-Selected-for-the-Alternative-Enforcement/hcir-3275"
   ]
  },
  {
   "cell_type": "markdown",
   "metadata": {},
   "source": [
    "# Data Downloading\n",
    "\n",
    "Download the data using openClean"
   ]
  },
  {
   "cell_type": "code",
   "execution_count": 128,
   "metadata": {},
   "outputs": [
    {
     "name": "stdout",
     "output_type": "stream",
     "text": [
      "Using 'DOB NOW: Build – Approved Permits' in file ./rbx6-tga4.tsv.gz of size 23.89 MB\n"
     ]
    }
   ],
   "source": [
    "import gzip\n",
    "import humanfriendly\n",
    "import os\n",
    "\n",
    "from openclean.data.source.socrata import Socrata\n",
    "\n",
    "dataset = Socrata().dataset('rbx6-tga4')\n",
    "datafile = './rbx6-tga4.tsv.gz'\n",
    "\n",
    "if not os.path.isfile(datafile):\n",
    "    with gzip.open(datafile, 'wb') as f:\n",
    "        print('Downloading ...\\n')\n",
    "        dataset.write(f)\n",
    "\n",
    "\n",
    "fsize = humanfriendly.format_size(os.stat(datafile).st_size)\n",
    "print(\"Using '{}' in file {} of size {}\".format(dataset.name, datafile, fsize))"
   ]
  },
  {
   "cell_type": "markdown",
   "metadata": {},
   "source": [
    "# Data Loading\n",
    "\n",
    "Load the data into pandas and openClean dataset object"
   ]
  },
  {
   "cell_type": "code",
   "execution_count": 42,
   "metadata": {},
   "outputs": [],
   "source": [
    "import pandas as pd\n",
    "from openclean.pipeline import stream\n",
    "\n",
    "df  = pd.read_csv(datafile, dtype='object', sep='\\t')\n",
    "ds = stream(datafile)"
   ]
  },
  {
   "cell_type": "code",
   "execution_count": 43,
   "metadata": {},
   "outputs": [
    {
     "data": {
      "text/plain": [
       "'1.18.5'"
      ]
     },
     "execution_count": 43,
     "metadata": {},
     "output_type": "execute_result"
    }
   ],
   "source": [
    "np.__version__"
   ]
  },
  {
   "cell_type": "code",
   "execution_count": 44,
   "metadata": {},
   "outputs": [
    {
     "data": {
      "text/plain": [
       "'1.2.4'"
      ]
     },
     "execution_count": 44,
     "metadata": {},
     "output_type": "execute_result"
    }
   ],
   "source": [
    "pd.__version__"
   ]
  },
  {
   "cell_type": "code",
   "execution_count": 45,
   "metadata": {},
   "outputs": [],
   "source": [
    "import glob"
   ]
  },
  {
   "cell_type": "code",
   "execution_count": 46,
   "metadata": {
    "scrolled": true
   },
   "outputs": [
    {
     "data": {
      "text/plain": [
       "['Buildings-Selected-for-the-Alternative-Enforcement-hcir-3275.ipynb',\n",
       " 'DOB-NOW-Build-Approved-Permits-rbx6-tga4.ipynb',\n",
       " 'hcir-3275.tsv.gz',\n",
       " 'hcir-3275_cleaned_data.csv',\n",
       " 'hg8x-zxpr.tsv.gz',\n",
       " 'ic3t-wcy2.tsv.gz',\n",
       " 'merged2.ipynb',\n",
       " 'rbx6-tga4.tsv.gz',\n",
       " 'Untitled.ipynb']"
      ]
     },
     "execution_count": 46,
     "metadata": {},
     "output_type": "execute_result"
    }
   ],
   "source": [
    "glob.glob(\"*\")"
   ]
  },
  {
   "cell_type": "markdown",
   "metadata": {},
   "source": [
    "### Get some basic info about the dataset columns"
   ]
  },
  {
   "cell_type": "code",
   "execution_count": 47,
   "metadata": {
    "scrolled": true
   },
   "outputs": [
    {
     "name": "stdout",
     "output_type": "stream",
     "text": [
      "<class 'pandas.core.frame.DataFrame'>\n",
      "RangeIndex: 241445 entries, 0 to 241444\n",
      "Data columns (total 35 columns):\n",
      " #   Column                                Non-Null Count   Dtype \n",
      "---  ------                                --------------   ----- \n",
      " 0   Job Filing Number                     241445 non-null  object\n",
      " 1   Filing Reason                         241445 non-null  object\n",
      " 2   House No                              241445 non-null  object\n",
      " 3   Street Name                           241445 non-null  object\n",
      " 4   Borough                               241445 non-null  object\n",
      " 5   LOT                                   241297 non-null  object\n",
      " 6   Bin                                   241445 non-null  object\n",
      " 7   Block                                 241445 non-null  object\n",
      " 8   C B NO                                241308 non-null  object\n",
      " 9   Apt/Condo No(s)                       1645 non-null    object\n",
      " 10  Work on Floor                         240701 non-null  object\n",
      " 11  Work Type                             241445 non-null  object\n",
      " 12  Permittee's License Type              241445 non-null  object\n",
      " 13  Applicant License #                   241445 non-null  object\n",
      " 14  Applicant First Name                  241445 non-null  object\n",
      " 15  Applicant Middle Name                 103 non-null     object\n",
      " 16  Applicant Last Name                   241444 non-null  object\n",
      " 17  Applicant Business Name               241130 non-null  object\n",
      " 18  Applicant Business Address            214797 non-null  object\n",
      " 19  Filing Representative First Name      134218 non-null  object\n",
      " 20  Filing Representative Middle Initial  0 non-null       object\n",
      " 21  Filing Representative Last Name       134215 non-null  object\n",
      " 22  Filing Representative Business Name   132887 non-null  object\n",
      " 23  Work Permit                           241445 non-null  object\n",
      " 24  Approved Date                         241415 non-null  object\n",
      " 25  Issued Date                           241445 non-null  object\n",
      " 26  Expired Date                          241414 non-null  object\n",
      " 27  Job Description                       241444 non-null  object\n",
      " 28  Estimated Job Costs                   241444 non-null  object\n",
      " 29  Owner Business Name                   226579 non-null  object\n",
      " 30  Owner Name                            241441 non-null  object\n",
      " 31  Owner Street Address                  0 non-null       object\n",
      " 32  Owner City                            0 non-null       object\n",
      " 33  Owner State                           0 non-null       object\n",
      " 34  Owner Zip Code                        0 non-null       object\n",
      "dtypes: object(35)\n",
      "memory usage: 64.5+ MB\n"
     ]
    },
    {
     "name": "stderr",
     "output_type": "stream",
     "text": [
      "<ipython-input-47-6ac79f7ef903>:1: FutureWarning: null_counts is deprecated. Use show_counts instead\n",
      "  df.info(verbose=True, null_counts=True)\n"
     ]
    }
   ],
   "source": [
    "df.info(verbose=True, null_counts=True)"
   ]
  },
  {
   "cell_type": "markdown",
   "metadata": {},
   "source": [
    "If any rows are complete duplicates, drop them"
   ]
  },
  {
   "cell_type": "code",
   "execution_count": 48,
   "metadata": {},
   "outputs": [],
   "source": [
    "df = df.drop_duplicates()"
   ]
  },
  {
   "cell_type": "markdown",
   "metadata": {},
   "source": [
    "Take an a look at some of the rows to get an idea of what the datset looks like"
   ]
  },
  {
   "cell_type": "code",
   "execution_count": 49,
   "metadata": {
    "scrolled": true
   },
   "outputs": [
    {
     "data": {
      "text/html": [
       "<div>\n",
       "<style scoped>\n",
       "    .dataframe tbody tr th:only-of-type {\n",
       "        vertical-align: middle;\n",
       "    }\n",
       "\n",
       "    .dataframe tbody tr th {\n",
       "        vertical-align: top;\n",
       "    }\n",
       "\n",
       "    .dataframe thead th {\n",
       "        text-align: right;\n",
       "    }\n",
       "</style>\n",
       "<table border=\"1\" class=\"dataframe\">\n",
       "  <thead>\n",
       "    <tr style=\"text-align: right;\">\n",
       "      <th></th>\n",
       "      <th>Job Filing Number</th>\n",
       "      <th>Filing Reason</th>\n",
       "      <th>House No</th>\n",
       "      <th>Street Name</th>\n",
       "      <th>Borough</th>\n",
       "      <th>LOT</th>\n",
       "      <th>Bin</th>\n",
       "      <th>Block</th>\n",
       "      <th>C B NO</th>\n",
       "      <th>Apt/Condo No(s)</th>\n",
       "      <th>...</th>\n",
       "      <th>Issued Date</th>\n",
       "      <th>Expired Date</th>\n",
       "      <th>Job Description</th>\n",
       "      <th>Estimated Job Costs</th>\n",
       "      <th>Owner Business Name</th>\n",
       "      <th>Owner Name</th>\n",
       "      <th>Owner Street Address</th>\n",
       "      <th>Owner City</th>\n",
       "      <th>Owner State</th>\n",
       "      <th>Owner Zip Code</th>\n",
       "    </tr>\n",
       "  </thead>\n",
       "  <tbody>\n",
       "    <tr>\n",
       "      <th>0</th>\n",
       "      <td>M00531234-I1</td>\n",
       "      <td>Initial Permit</td>\n",
       "      <td>26</td>\n",
       "      <td>SHERMAN AVENUE</td>\n",
       "      <td>MANHATTAN</td>\n",
       "      <td>98</td>\n",
       "      <td>1064238</td>\n",
       "      <td>2175</td>\n",
       "      <td>112</td>\n",
       "      <td>NaN</td>\n",
       "      <td>...</td>\n",
       "      <td>06/23/2021 12:00:00 AM</td>\n",
       "      <td>06/23/2022 12:00:00 AM</td>\n",
       "      <td>Installation of a temporarily</td>\n",
       "      <td>5000</td>\n",
       "      <td>PR</td>\n",
       "      <td>SHLOIME GROSS</td>\n",
       "      <td>NaN</td>\n",
       "      <td>NaN</td>\n",
       "      <td>NaN</td>\n",
       "      <td>NaN</td>\n",
       "    </tr>\n",
       "    <tr>\n",
       "      <th>1</th>\n",
       "      <td>X00496654-I1</td>\n",
       "      <td>Initial Permit</td>\n",
       "      <td>1051</td>\n",
       "      <td>WESTCHESTER AVENUE</td>\n",
       "      <td>BRONX</td>\n",
       "      <td>64</td>\n",
       "      <td>2005808</td>\n",
       "      <td>2727</td>\n",
       "      <td>202</td>\n",
       "      <td>NaN</td>\n",
       "      <td>...</td>\n",
       "      <td>05/06/2021 12:00:00 AM</td>\n",
       "      <td>12/31/2021 12:00:00 AM</td>\n",
       "      <td>INSTALL EXTERIOR ILLUMINATED W</td>\n",
       "      <td>1850</td>\n",
       "      <td>EIB WESTCHESTER 1 LLC</td>\n",
       "      <td>FRANK SCAFFA</td>\n",
       "      <td>NaN</td>\n",
       "      <td>NaN</td>\n",
       "      <td>NaN</td>\n",
       "      <td>NaN</td>\n",
       "    </tr>\n",
       "    <tr>\n",
       "      <th>2</th>\n",
       "      <td>B00579209-I1</td>\n",
       "      <td>Initial Permit</td>\n",
       "      <td>1010</td>\n",
       "      <td>PACIFIC STREET</td>\n",
       "      <td>BROOKLYN</td>\n",
       "      <td>32</td>\n",
       "      <td>3428849</td>\n",
       "      <td>1133</td>\n",
       "      <td>308</td>\n",
       "      <td>NaN</td>\n",
       "      <td>...</td>\n",
       "      <td>08/19/2021 12:00:00 AM</td>\n",
       "      <td>07/20/2022 12:00:00 AM</td>\n",
       "      <td>INSTALLATION OF SCAFFOLD FOR W</td>\n",
       "      <td>1000</td>\n",
       "      <td>TWIN GROUP ASSOCIATES INC</td>\n",
       "      <td>SOLOMON SCHWIMMER</td>\n",
       "      <td>NaN</td>\n",
       "      <td>NaN</td>\n",
       "      <td>NaN</td>\n",
       "      <td>NaN</td>\n",
       "    </tr>\n",
       "    <tr>\n",
       "      <th>3</th>\n",
       "      <td>M00514656-I1</td>\n",
       "      <td>Initial Permit</td>\n",
       "      <td>33</td>\n",
       "      <td>WEST  125 STREET</td>\n",
       "      <td>MANHATTAN</td>\n",
       "      <td>21</td>\n",
       "      <td>1053501</td>\n",
       "      <td>1723</td>\n",
       "      <td>110</td>\n",
       "      <td>NaN</td>\n",
       "      <td>...</td>\n",
       "      <td>05/06/2021 12:00:00 AM</td>\n",
       "      <td>04/01/2022 12:00:00 AM</td>\n",
       "      <td>Installation of temporary side</td>\n",
       "      <td>1</td>\n",
       "      <td>CGM MANAGEMENT GROUP, INC</td>\n",
       "      <td>CARMINE MOLISSE</td>\n",
       "      <td>NaN</td>\n",
       "      <td>NaN</td>\n",
       "      <td>NaN</td>\n",
       "      <td>NaN</td>\n",
       "    </tr>\n",
       "    <tr>\n",
       "      <th>4</th>\n",
       "      <td>M00431823-I1</td>\n",
       "      <td>Initial Permit</td>\n",
       "      <td>301</td>\n",
       "      <td>EAST 73 STREET</td>\n",
       "      <td>MANHATTAN</td>\n",
       "      <td>1</td>\n",
       "      <td>1044897</td>\n",
       "      <td>1448</td>\n",
       "      <td>108</td>\n",
       "      <td>NaN</td>\n",
       "      <td>...</td>\n",
       "      <td>06/04/2021 12:00:00 AM</td>\n",
       "      <td>03/11/2022 05:00:00 AM</td>\n",
       "      <td>Filing as per plans for the in</td>\n",
       "      <td>5000</td>\n",
       "      <td>BROADWAY MERCER ASSOCIATES</td>\n",
       "      <td>CYNTHIA GONZALEZ</td>\n",
       "      <td>NaN</td>\n",
       "      <td>NaN</td>\n",
       "      <td>NaN</td>\n",
       "      <td>NaN</td>\n",
       "    </tr>\n",
       "    <tr>\n",
       "      <th>...</th>\n",
       "      <td>...</td>\n",
       "      <td>...</td>\n",
       "      <td>...</td>\n",
       "      <td>...</td>\n",
       "      <td>...</td>\n",
       "      <td>...</td>\n",
       "      <td>...</td>\n",
       "      <td>...</td>\n",
       "      <td>...</td>\n",
       "      <td>...</td>\n",
       "      <td>...</td>\n",
       "      <td>...</td>\n",
       "      <td>...</td>\n",
       "      <td>...</td>\n",
       "      <td>...</td>\n",
       "      <td>...</td>\n",
       "      <td>...</td>\n",
       "      <td>...</td>\n",
       "      <td>...</td>\n",
       "      <td>...</td>\n",
       "      <td>...</td>\n",
       "    </tr>\n",
       "    <tr>\n",
       "      <th>241440</th>\n",
       "      <td>B00269752-I1</td>\n",
       "      <td>Renewal Permit Without Changes</td>\n",
       "      <td>1</td>\n",
       "      <td>MAIN STREET</td>\n",
       "      <td>BROOKLYN</td>\n",
       "      <td>7501</td>\n",
       "      <td>3346104</td>\n",
       "      <td>27</td>\n",
       "      <td>302</td>\n",
       "      <td>NaN</td>\n",
       "      <td>...</td>\n",
       "      <td>07/10/2020 12:00:00 AM</td>\n",
       "      <td>02/23/2021 12:00:00 AM</td>\n",
       "      <td>PAA being filed to reflect cha</td>\n",
       "      <td>26000</td>\n",
       "      <td>NaN</td>\n",
       "      <td>MARY FRANCES SHAUGHNESSY</td>\n",
       "      <td>NaN</td>\n",
       "      <td>NaN</td>\n",
       "      <td>NaN</td>\n",
       "      <td>NaN</td>\n",
       "    </tr>\n",
       "    <tr>\n",
       "      <th>241441</th>\n",
       "      <td>B00239369-I1</td>\n",
       "      <td>Initial Permit</td>\n",
       "      <td>388</td>\n",
       "      <td>CHRISTOPHER AVENUE</td>\n",
       "      <td>BROOKLYN</td>\n",
       "      <td>128</td>\n",
       "      <td>3084828</td>\n",
       "      <td>3811</td>\n",
       "      <td>316</td>\n",
       "      <td>NaN</td>\n",
       "      <td>...</td>\n",
       "      <td>12/23/2020 12:00:00 AM</td>\n",
       "      <td>07/20/2021 12:00:00 AM</td>\n",
       "      <td>INSTALLATION OF SPRINKLER SYST</td>\n",
       "      <td>1000</td>\n",
       "      <td>PR</td>\n",
       "      <td>CHAIM SOBEL</td>\n",
       "      <td>NaN</td>\n",
       "      <td>NaN</td>\n",
       "      <td>NaN</td>\n",
       "      <td>NaN</td>\n",
       "    </tr>\n",
       "    <tr>\n",
       "      <th>241442</th>\n",
       "      <td>M00083385-I1</td>\n",
       "      <td>Renewal Permit Without Changes</td>\n",
       "      <td>25</td>\n",
       "      <td>MURRAY STREET</td>\n",
       "      <td>MANHATTAN</td>\n",
       "      <td>7505</td>\n",
       "      <td>1001451</td>\n",
       "      <td>134</td>\n",
       "      <td>101</td>\n",
       "      <td>NaN</td>\n",
       "      <td>...</td>\n",
       "      <td>01/21/2020 12:00:00 AM</td>\n",
       "      <td>11/03/2020 12:00:00 AM</td>\n",
       "      <td>INSTALLATION OF TEMPORARY (60'</td>\n",
       "      <td>1000</td>\n",
       "      <td>PHOENIX SUTTON STR INC</td>\n",
       "      <td>PIOTR SIWIEC</td>\n",
       "      <td>NaN</td>\n",
       "      <td>NaN</td>\n",
       "      <td>NaN</td>\n",
       "      <td>NaN</td>\n",
       "    </tr>\n",
       "    <tr>\n",
       "      <th>241443</th>\n",
       "      <td>M00052214-I1</td>\n",
       "      <td>Initial Permit</td>\n",
       "      <td>1526</td>\n",
       "      <td>1 AVENUE</td>\n",
       "      <td>MANHATTAN</td>\n",
       "      <td>48</td>\n",
       "      <td>1050355</td>\n",
       "      <td>1559</td>\n",
       "      <td>108</td>\n",
       "      <td>NaN</td>\n",
       "      <td>...</td>\n",
       "      <td>07/06/2018 12:00:00 AM</td>\n",
       "      <td>09/30/2018 12:00:00 AM</td>\n",
       "      <td>installation of construction f</td>\n",
       "      <td>1000</td>\n",
       "      <td>NORDEST SERVICE LLC</td>\n",
       "      <td>JACK CALIENDO</td>\n",
       "      <td>NaN</td>\n",
       "      <td>NaN</td>\n",
       "      <td>NaN</td>\n",
       "      <td>NaN</td>\n",
       "    </tr>\n",
       "    <tr>\n",
       "      <th>241444</th>\n",
       "      <td>B00275776-I1</td>\n",
       "      <td>Initial Permit</td>\n",
       "      <td>211</td>\n",
       "      <td>MCGUINESS BOULEVARD</td>\n",
       "      <td>BROOKLYN</td>\n",
       "      <td>7501</td>\n",
       "      <td>3379800</td>\n",
       "      <td>2576</td>\n",
       "      <td>301</td>\n",
       "      <td>NaN</td>\n",
       "      <td>...</td>\n",
       "      <td>12/12/2019 12:00:00 AM</td>\n",
       "      <td>12/12/2020 05:00:00 AM</td>\n",
       "      <td>Install temporary construction</td>\n",
       "      <td>1000</td>\n",
       "      <td>STELLAR MANAGEMENT</td>\n",
       "      <td>LYLE KAMESAKI</td>\n",
       "      <td>NaN</td>\n",
       "      <td>NaN</td>\n",
       "      <td>NaN</td>\n",
       "      <td>NaN</td>\n",
       "    </tr>\n",
       "  </tbody>\n",
       "</table>\n",
       "<p>241160 rows × 35 columns</p>\n",
       "</div>"
      ],
      "text/plain": [
       "       Job Filing Number                   Filing Reason House No  \\\n",
       "0           M00531234-I1                  Initial Permit       26   \n",
       "1           X00496654-I1                  Initial Permit     1051   \n",
       "2           B00579209-I1                  Initial Permit     1010   \n",
       "3           M00514656-I1                  Initial Permit       33   \n",
       "4           M00431823-I1                  Initial Permit      301   \n",
       "...                  ...                             ...      ...   \n",
       "241440      B00269752-I1  Renewal Permit Without Changes        1   \n",
       "241441      B00239369-I1                  Initial Permit      388   \n",
       "241442      M00083385-I1  Renewal Permit Without Changes       25   \n",
       "241443      M00052214-I1                  Initial Permit     1526   \n",
       "241444      B00275776-I1                  Initial Permit      211   \n",
       "\n",
       "                Street Name    Borough   LOT      Bin Block C B NO  \\\n",
       "0            SHERMAN AVENUE  MANHATTAN    98  1064238  2175    112   \n",
       "1        WESTCHESTER AVENUE      BRONX    64  2005808  2727    202   \n",
       "2            PACIFIC STREET   BROOKLYN    32  3428849  1133    308   \n",
       "3          WEST  125 STREET  MANHATTAN    21  1053501  1723    110   \n",
       "4            EAST 73 STREET  MANHATTAN     1  1044897  1448    108   \n",
       "...                     ...        ...   ...      ...   ...    ...   \n",
       "241440          MAIN STREET   BROOKLYN  7501  3346104    27    302   \n",
       "241441   CHRISTOPHER AVENUE   BROOKLYN   128  3084828  3811    316   \n",
       "241442        MURRAY STREET  MANHATTAN  7505  1001451   134    101   \n",
       "241443             1 AVENUE  MANHATTAN    48  1050355  1559    108   \n",
       "241444  MCGUINESS BOULEVARD   BROOKLYN  7501  3379800  2576    301   \n",
       "\n",
       "       Apt/Condo No(s)  ...             Issued Date            Expired Date  \\\n",
       "0                  NaN  ...  06/23/2021 12:00:00 AM  06/23/2022 12:00:00 AM   \n",
       "1                  NaN  ...  05/06/2021 12:00:00 AM  12/31/2021 12:00:00 AM   \n",
       "2                  NaN  ...  08/19/2021 12:00:00 AM  07/20/2022 12:00:00 AM   \n",
       "3                  NaN  ...  05/06/2021 12:00:00 AM  04/01/2022 12:00:00 AM   \n",
       "4                  NaN  ...  06/04/2021 12:00:00 AM  03/11/2022 05:00:00 AM   \n",
       "...                ...  ...                     ...                     ...   \n",
       "241440             NaN  ...  07/10/2020 12:00:00 AM  02/23/2021 12:00:00 AM   \n",
       "241441             NaN  ...  12/23/2020 12:00:00 AM  07/20/2021 12:00:00 AM   \n",
       "241442             NaN  ...  01/21/2020 12:00:00 AM  11/03/2020 12:00:00 AM   \n",
       "241443             NaN  ...  07/06/2018 12:00:00 AM  09/30/2018 12:00:00 AM   \n",
       "241444             NaN  ...  12/12/2019 12:00:00 AM  12/12/2020 05:00:00 AM   \n",
       "\n",
       "                       Job Description Estimated Job Costs  \\\n",
       "0        Installation of a temporarily                5000   \n",
       "1       INSTALL EXTERIOR ILLUMINATED W                1850   \n",
       "2       INSTALLATION OF SCAFFOLD FOR W                1000   \n",
       "3       Installation of temporary side                   1   \n",
       "4       Filing as per plans for the in                5000   \n",
       "...                                ...                 ...   \n",
       "241440  PAA being filed to reflect cha               26000   \n",
       "241441  INSTALLATION OF SPRINKLER SYST                1000   \n",
       "241442  INSTALLATION OF TEMPORARY (60'                1000   \n",
       "241443  installation of construction f                1000   \n",
       "241444  Install temporary construction                1000   \n",
       "\n",
       "               Owner Business Name                Owner Name  \\\n",
       "0                               PR             SHLOIME GROSS   \n",
       "1            EIB WESTCHESTER 1 LLC              FRANK SCAFFA   \n",
       "2        TWIN GROUP ASSOCIATES INC         SOLOMON SCHWIMMER   \n",
       "3        CGM MANAGEMENT GROUP, INC           CARMINE MOLISSE   \n",
       "4       BROADWAY MERCER ASSOCIATES          CYNTHIA GONZALEZ   \n",
       "...                            ...                       ...   \n",
       "241440                         NaN  MARY FRANCES SHAUGHNESSY   \n",
       "241441                          PR               CHAIM SOBEL   \n",
       "241442      PHOENIX SUTTON STR INC              PIOTR SIWIEC   \n",
       "241443         NORDEST SERVICE LLC             JACK CALIENDO   \n",
       "241444          STELLAR MANAGEMENT             LYLE KAMESAKI   \n",
       "\n",
       "       Owner Street Address Owner City Owner State Owner Zip Code  \n",
       "0                       NaN        NaN         NaN            NaN  \n",
       "1                       NaN        NaN         NaN            NaN  \n",
       "2                       NaN        NaN         NaN            NaN  \n",
       "3                       NaN        NaN         NaN            NaN  \n",
       "4                       NaN        NaN         NaN            NaN  \n",
       "...                     ...        ...         ...            ...  \n",
       "241440                  NaN        NaN         NaN            NaN  \n",
       "241441                  NaN        NaN         NaN            NaN  \n",
       "241442                  NaN        NaN         NaN            NaN  \n",
       "241443                  NaN        NaN         NaN            NaN  \n",
       "241444                  NaN        NaN         NaN            NaN  \n",
       "\n",
       "[241160 rows x 35 columns]"
      ]
     },
     "execution_count": 49,
     "metadata": {},
     "output_type": "execute_result"
    }
   ],
   "source": [
    "df"
   ]
  },
  {
   "cell_type": "code",
   "execution_count": null,
   "metadata": {},
   "outputs": [],
   "source": []
  },
  {
   "cell_type": "markdown",
   "metadata": {},
   "source": [
    "## Describe columns in groups so they fit on screen"
   ]
  },
  {
   "cell_type": "code",
   "execution_count": 50,
   "metadata": {
    "scrolled": true
   },
   "outputs": [
    {
     "data": {
      "text/html": [
       "<div>\n",
       "<style scoped>\n",
       "    .dataframe tbody tr th:only-of-type {\n",
       "        vertical-align: middle;\n",
       "    }\n",
       "\n",
       "    .dataframe tbody tr th {\n",
       "        vertical-align: top;\n",
       "    }\n",
       "\n",
       "    .dataframe thead th {\n",
       "        text-align: right;\n",
       "    }\n",
       "</style>\n",
       "<table border=\"1\" class=\"dataframe\">\n",
       "  <thead>\n",
       "    <tr style=\"text-align: right;\">\n",
       "      <th></th>\n",
       "      <th>Job Filing Number</th>\n",
       "      <th>Filing Reason</th>\n",
       "      <th>House No</th>\n",
       "      <th>Street Name</th>\n",
       "      <th>Borough</th>\n",
       "      <th>LOT</th>\n",
       "      <th>Bin</th>\n",
       "      <th>Block</th>\n",
       "      <th>C B NO</th>\n",
       "      <th>Apt/Condo No(s)</th>\n",
       "      <th>Work on Floor</th>\n",
       "      <th>Work Type</th>\n",
       "      <th>Permittee's License Type</th>\n",
       "      <th>Applicant License #</th>\n",
       "      <th>Applicant First Name</th>\n",
       "      <th>Applicant Middle Name</th>\n",
       "      <th>Applicant Last Name</th>\n",
       "      <th>Applicant Business Name</th>\n",
       "      <th>Applicant Business Address</th>\n",
       "      <th>Filing Representative First Name</th>\n",
       "    </tr>\n",
       "  </thead>\n",
       "  <tbody>\n",
       "    <tr>\n",
       "      <th>count</th>\n",
       "      <td>241160</td>\n",
       "      <td>241160</td>\n",
       "      <td>241160</td>\n",
       "      <td>241160</td>\n",
       "      <td>241160</td>\n",
       "      <td>241012</td>\n",
       "      <td>241160</td>\n",
       "      <td>241160</td>\n",
       "      <td>241023</td>\n",
       "      <td>1642</td>\n",
       "      <td>240439</td>\n",
       "      <td>241160</td>\n",
       "      <td>241160</td>\n",
       "      <td>241160</td>\n",
       "      <td>241160</td>\n",
       "      <td>103</td>\n",
       "      <td>241159</td>\n",
       "      <td>240845</td>\n",
       "      <td>214540</td>\n",
       "      <td>134035</td>\n",
       "    </tr>\n",
       "    <tr>\n",
       "      <th>unique</th>\n",
       "      <td>154749</td>\n",
       "      <td>4</td>\n",
       "      <td>13571</td>\n",
       "      <td>5601</td>\n",
       "      <td>5</td>\n",
       "      <td>761</td>\n",
       "      <td>59990</td>\n",
       "      <td>10146</td>\n",
       "      <td>70</td>\n",
       "      <td>91</td>\n",
       "      <td>7464</td>\n",
       "      <td>17</td>\n",
       "      <td>8</td>\n",
       "      <td>9098</td>\n",
       "      <td>3394</td>\n",
       "      <td>1</td>\n",
       "      <td>6287</td>\n",
       "      <td>9407</td>\n",
       "      <td>9235</td>\n",
       "      <td>1527</td>\n",
       "    </tr>\n",
       "    <tr>\n",
       "      <th>top</th>\n",
       "      <td>M00013853-I1</td>\n",
       "      <td>Initial Permit</td>\n",
       "      <td>1</td>\n",
       "      <td>BROADWAY</td>\n",
       "      <td>MANHATTAN</td>\n",
       "      <td>1</td>\n",
       "      <td>1000855</td>\n",
       "      <td>16</td>\n",
       "      <td>105</td>\n",
       "      <td>OSP</td>\n",
       "      <td>Open Space</td>\n",
       "      <td>Sidewalk Shed</td>\n",
       "      <td>GC</td>\n",
       "      <td>032158</td>\n",
       "      <td>MICHAEL</td>\n",
       "      <td>GIL</td>\n",
       "      <td>SINGH</td>\n",
       "      <td>EVEREST SCAFFOLDING INC</td>\n",
       "      <td>49-30 31ST PLACE</td>\n",
       "      <td>ELY</td>\n",
       "    </tr>\n",
       "    <tr>\n",
       "      <th>freq</th>\n",
       "      <td>51</td>\n",
       "      <td>168465</td>\n",
       "      <td>2202</td>\n",
       "      <td>6896</td>\n",
       "      <td>104056</td>\n",
       "      <td>30378</td>\n",
       "      <td>322</td>\n",
       "      <td>577</td>\n",
       "      <td>25925</td>\n",
       "      <td>1188</td>\n",
       "      <td>32033</td>\n",
       "      <td>47166</td>\n",
       "      <td>165325</td>\n",
       "      <td>3949</td>\n",
       "      <td>7870</td>\n",
       "      <td>103</td>\n",
       "      <td>19677</td>\n",
       "      <td>4054</td>\n",
       "      <td>2727</td>\n",
       "      <td>12742</td>\n",
       "    </tr>\n",
       "  </tbody>\n",
       "</table>\n",
       "</div>"
      ],
      "text/plain": [
       "       Job Filing Number   Filing Reason House No Street Name    Borough  \\\n",
       "count             241160          241160   241160      241160     241160   \n",
       "unique            154749               4    13571        5601          5   \n",
       "top         M00013853-I1  Initial Permit        1    BROADWAY  MANHATTAN   \n",
       "freq                  51          168465     2202        6896     104056   \n",
       "\n",
       "           LOT      Bin   Block  C B NO Apt/Condo No(s) Work on Floor  \\\n",
       "count   241012   241160  241160  241023            1642        240439   \n",
       "unique     761    59990   10146      70              91          7464   \n",
       "top          1  1000855      16     105             OSP    Open Space   \n",
       "freq     30378      322     577   25925            1188         32033   \n",
       "\n",
       "            Work Type Permittee's License Type Applicant License #  \\\n",
       "count          241160                   241160              241160   \n",
       "unique             17                        8                9098   \n",
       "top     Sidewalk Shed                       GC              032158   \n",
       "freq            47166                   165325                3949   \n",
       "\n",
       "       Applicant First Name Applicant Middle Name Applicant Last Name  \\\n",
       "count                241160                   103              241159   \n",
       "unique                 3394                     1                6287   \n",
       "top                 MICHAEL                   GIL               SINGH   \n",
       "freq                   7870                   103               19677   \n",
       "\n",
       "        Applicant Business Name Applicant Business Address  \\\n",
       "count                    240845                     214540   \n",
       "unique                     9407                       9235   \n",
       "top     EVEREST SCAFFOLDING INC           49-30 31ST PLACE   \n",
       "freq                       4054                       2727   \n",
       "\n",
       "       Filing Representative First Name  \n",
       "count                            134035  \n",
       "unique                             1527  \n",
       "top                                 ELY  \n",
       "freq                              12742  "
      ]
     },
     "execution_count": 50,
     "metadata": {},
     "output_type": "execute_result"
    }
   ],
   "source": [
    "df[df.columns[:20]].describe()"
   ]
  },
  {
   "cell_type": "code",
   "execution_count": 51,
   "metadata": {},
   "outputs": [],
   "source": [
    "# Notes:\n",
    "# Building Type looks binary and has 2 values + maybe NAN\n",
    "# Cluster looks binary and has 2 values + maybe NAN\n",
    "# Landmarked looks binary and has 4 values + maybe NAN\n",
    "# Adult Establishment looks binary and has 2 values + maybe NAN\n",
    "# Loft Board looks binary and has 2 values + maybe NAN\n",
    "# City Owned looks binary and has 4 values + maybe NAN\n",
    "# Little e looks binary and has 5 values + maybe NAN\n"
   ]
  },
  {
   "cell_type": "code",
   "execution_count": 52,
   "metadata": {
    "scrolled": false
   },
   "outputs": [
    {
     "data": {
      "text/html": [
       "<div>\n",
       "<style scoped>\n",
       "    .dataframe tbody tr th:only-of-type {\n",
       "        vertical-align: middle;\n",
       "    }\n",
       "\n",
       "    .dataframe tbody tr th {\n",
       "        vertical-align: top;\n",
       "    }\n",
       "\n",
       "    .dataframe thead th {\n",
       "        text-align: right;\n",
       "    }\n",
       "</style>\n",
       "<table border=\"1\" class=\"dataframe\">\n",
       "  <thead>\n",
       "    <tr style=\"text-align: right;\">\n",
       "      <th></th>\n",
       "      <th>Filing Representative Middle Initial</th>\n",
       "      <th>Filing Representative Last Name</th>\n",
       "      <th>Filing Representative Business Name</th>\n",
       "      <th>Work Permit</th>\n",
       "      <th>Approved Date</th>\n",
       "      <th>Issued Date</th>\n",
       "      <th>Expired Date</th>\n",
       "      <th>Job Description</th>\n",
       "      <th>Estimated Job Costs</th>\n",
       "      <th>Owner Business Name</th>\n",
       "      <th>Owner Name</th>\n",
       "      <th>Owner Street Address</th>\n",
       "      <th>Owner City</th>\n",
       "      <th>Owner State</th>\n",
       "      <th>Owner Zip Code</th>\n",
       "    </tr>\n",
       "  </thead>\n",
       "  <tbody>\n",
       "    <tr>\n",
       "      <th>count</th>\n",
       "      <td>0</td>\n",
       "      <td>134032</td>\n",
       "      <td>132705</td>\n",
       "      <td>241160</td>\n",
       "      <td>241130</td>\n",
       "      <td>241160</td>\n",
       "      <td>241129</td>\n",
       "      <td>241159</td>\n",
       "      <td>241159</td>\n",
       "      <td>226308</td>\n",
       "      <td>241156</td>\n",
       "      <td>0</td>\n",
       "      <td>0</td>\n",
       "      <td>0</td>\n",
       "      <td>0</td>\n",
       "    </tr>\n",
       "    <tr>\n",
       "      <th>unique</th>\n",
       "      <td>0</td>\n",
       "      <td>2039</td>\n",
       "      <td>2280</td>\n",
       "      <td>158655</td>\n",
       "      <td>5396</td>\n",
       "      <td>1254</td>\n",
       "      <td>2883</td>\n",
       "      <td>50530</td>\n",
       "      <td>17891</td>\n",
       "      <td>17520</td>\n",
       "      <td>32773</td>\n",
       "      <td>0</td>\n",
       "      <td>0</td>\n",
       "      <td>0</td>\n",
       "      <td>0</td>\n",
       "    </tr>\n",
       "    <tr>\n",
       "      <th>top</th>\n",
       "      <td>NaN</td>\n",
       "      <td>SEPULVEDA</td>\n",
       "      <td>AE DESIGN SOLUTION INC.</td>\n",
       "      <td>M00013853-I1-SH</td>\n",
       "      <td>01/21/2020 12:00:00 AM</td>\n",
       "      <td>11/15/2021 12:00:00 AM</td>\n",
       "      <td>08/06/2020 12:00:00 AM</td>\n",
       "      <td>INSTALLATION OF HEAVY DUTY SID</td>\n",
       "      <td>1000</td>\n",
       "      <td>PR</td>\n",
       "      <td>CHIRAG PATEL</td>\n",
       "      <td>NaN</td>\n",
       "      <td>NaN</td>\n",
       "      <td>NaN</td>\n",
       "      <td>NaN</td>\n",
       "    </tr>\n",
       "    <tr>\n",
       "      <th>freq</th>\n",
       "      <td>NaN</td>\n",
       "      <td>12808</td>\n",
       "      <td>12741</td>\n",
       "      <td>21</td>\n",
       "      <td>515</td>\n",
       "      <td>713</td>\n",
       "      <td>6213</td>\n",
       "      <td>8995</td>\n",
       "      <td>23230</td>\n",
       "      <td>42463</td>\n",
       "      <td>4396</td>\n",
       "      <td>NaN</td>\n",
       "      <td>NaN</td>\n",
       "      <td>NaN</td>\n",
       "      <td>NaN</td>\n",
       "    </tr>\n",
       "  </tbody>\n",
       "</table>\n",
       "</div>"
      ],
      "text/plain": [
       "       Filing Representative Middle Initial Filing Representative Last Name  \\\n",
       "count                                     0                          134032   \n",
       "unique                                    0                            2039   \n",
       "top                                     NaN                       SEPULVEDA   \n",
       "freq                                    NaN                           12808   \n",
       "\n",
       "       Filing Representative Business Name      Work Permit  \\\n",
       "count                               132705           241160   \n",
       "unique                                2280           158655   \n",
       "top                AE DESIGN SOLUTION INC.  M00013853-I1-SH   \n",
       "freq                                 12741               21   \n",
       "\n",
       "                 Approved Date             Issued Date  \\\n",
       "count                   241130                  241160   \n",
       "unique                    5396                    1254   \n",
       "top     01/21/2020 12:00:00 AM  11/15/2021 12:00:00 AM   \n",
       "freq                       515                     713   \n",
       "\n",
       "                  Expired Date                 Job Description  \\\n",
       "count                   241129                          241159   \n",
       "unique                    2883                           50530   \n",
       "top     08/06/2020 12:00:00 AM  INSTALLATION OF HEAVY DUTY SID   \n",
       "freq                      6213                            8995   \n",
       "\n",
       "       Estimated Job Costs Owner Business Name    Owner Name  \\\n",
       "count               241159              226308        241156   \n",
       "unique               17891               17520         32773   \n",
       "top                   1000                  PR  CHIRAG PATEL   \n",
       "freq                 23230               42463          4396   \n",
       "\n",
       "       Owner Street Address Owner City Owner State Owner Zip Code  \n",
       "count                     0          0           0              0  \n",
       "unique                    0          0           0              0  \n",
       "top                     NaN        NaN         NaN            NaN  \n",
       "freq                    NaN        NaN         NaN            NaN  "
      ]
     },
     "execution_count": 52,
     "metadata": {},
     "output_type": "execute_result"
    }
   ],
   "source": [
    "df[df.columns[20:40]].describe()"
   ]
  },
  {
   "cell_type": "code",
   "execution_count": 53,
   "metadata": {},
   "outputs": [
    {
     "data": {
      "text/plain": [
       "Index(['Job Filing Number', 'Filing Reason', 'House No', 'Street Name',\n",
       "       'Borough', 'LOT', 'Bin', 'Block', 'C B NO', 'Apt/Condo No(s)',\n",
       "       'Work on Floor', 'Work Type', 'Permittee's License Type',\n",
       "       'Applicant License #', 'Applicant First Name', 'Applicant Middle Name',\n",
       "       'Applicant Last Name', 'Applicant Business Name',\n",
       "       'Applicant Business Address', 'Filing Representative First Name',\n",
       "       'Filing Representative Middle Initial',\n",
       "       'Filing Representative Last Name',\n",
       "       'Filing Representative Business Name', 'Work Permit', 'Approved Date',\n",
       "       'Issued Date', 'Expired Date', 'Job Description', 'Estimated Job Costs',\n",
       "       'Owner Business Name', 'Owner Name', 'Owner Street Address',\n",
       "       'Owner City', 'Owner State', 'Owner Zip Code'],\n",
       "      dtype='object')"
      ]
     },
     "execution_count": 53,
     "metadata": {},
     "output_type": "execute_result"
    }
   ],
   "source": [
    "df.columns"
   ]
  },
  {
   "cell_type": "markdown",
   "metadata": {},
   "source": [
    "### Examining Applicant License #"
   ]
  },
  {
   "cell_type": "markdown",
   "metadata": {},
   "source": [
    "Some repition in the Applicant License #, but nothing major. We will check some of the repeated Applicant License # to be sure they actually refer to the same jobs"
   ]
  },
  {
   "cell_type": "code",
   "execution_count": 54,
   "metadata": {
    "scrolled": false
   },
   "outputs": [
    {
     "data": {
      "text/plain": [
       "032158    3949\n",
       "607447    3503\n",
       "610440    3321\n",
       "617232    2374\n",
       "606141    2361\n",
       "          ... \n",
       "612835       1\n",
       "621504       1\n",
       "609965       1\n",
       "605013       1\n",
       "006834       1\n",
       "Name: Applicant License #, Length: 9098, dtype: int64"
      ]
     },
     "execution_count": 54,
     "metadata": {},
     "output_type": "execute_result"
    }
   ],
   "source": [
    "df['Applicant License #'].value_counts(dropna=False)"
   ]
  },
  {
   "cell_type": "markdown",
   "metadata": {},
   "source": [
    "Nothing weird looking here"
   ]
  },
  {
   "cell_type": "code",
   "execution_count": 55,
   "metadata": {},
   "outputs": [
    {
     "data": {
      "text/plain": [
       "'000002'"
      ]
     },
     "execution_count": 55,
     "metadata": {},
     "output_type": "execute_result"
    }
   ],
   "source": [
    "df['Applicant License #'].min()"
   ]
  },
  {
   "cell_type": "code",
   "execution_count": 56,
   "metadata": {},
   "outputs": [
    {
     "data": {
      "text/plain": [
       "'999999'"
      ]
     },
     "execution_count": 56,
     "metadata": {},
     "output_type": "execute_result"
    }
   ],
   "source": [
    "df['Applicant License #'].max()"
   ]
  },
  {
   "cell_type": "code",
   "execution_count": 57,
   "metadata": {
    "scrolled": false
   },
   "outputs": [
    {
     "data": {
      "text/html": [
       "<div>\n",
       "<style scoped>\n",
       "    .dataframe tbody tr th:only-of-type {\n",
       "        vertical-align: middle;\n",
       "    }\n",
       "\n",
       "    .dataframe tbody tr th {\n",
       "        vertical-align: top;\n",
       "    }\n",
       "\n",
       "    .dataframe thead th {\n",
       "        text-align: right;\n",
       "    }\n",
       "</style>\n",
       "<table border=\"1\" class=\"dataframe\">\n",
       "  <thead>\n",
       "    <tr style=\"text-align: right;\">\n",
       "      <th></th>\n",
       "      <th>Job Filing Number</th>\n",
       "      <th>Filing Reason</th>\n",
       "      <th>House No</th>\n",
       "      <th>Street Name</th>\n",
       "      <th>Borough</th>\n",
       "      <th>LOT</th>\n",
       "      <th>Bin</th>\n",
       "      <th>Block</th>\n",
       "      <th>C B NO</th>\n",
       "      <th>Apt/Condo No(s)</th>\n",
       "      <th>...</th>\n",
       "      <th>Issued Date</th>\n",
       "      <th>Expired Date</th>\n",
       "      <th>Job Description</th>\n",
       "      <th>Estimated Job Costs</th>\n",
       "      <th>Owner Business Name</th>\n",
       "      <th>Owner Name</th>\n",
       "      <th>Owner Street Address</th>\n",
       "      <th>Owner City</th>\n",
       "      <th>Owner State</th>\n",
       "      <th>Owner Zip Code</th>\n",
       "    </tr>\n",
       "  </thead>\n",
       "  <tbody>\n",
       "    <tr>\n",
       "      <th>1</th>\n",
       "      <td>X00496654-I1</td>\n",
       "      <td>Initial Permit</td>\n",
       "      <td>1051</td>\n",
       "      <td>WESTCHESTER AVENUE</td>\n",
       "      <td>BRONX</td>\n",
       "      <td>64</td>\n",
       "      <td>2005808</td>\n",
       "      <td>2727</td>\n",
       "      <td>202</td>\n",
       "      <td>NaN</td>\n",
       "      <td>...</td>\n",
       "      <td>05/06/2021 12:00:00 AM</td>\n",
       "      <td>12/31/2021 12:00:00 AM</td>\n",
       "      <td>INSTALL EXTERIOR ILLUMINATED W</td>\n",
       "      <td>1850</td>\n",
       "      <td>EIB WESTCHESTER 1 LLC</td>\n",
       "      <td>FRANK SCAFFA</td>\n",
       "      <td>NaN</td>\n",
       "      <td>NaN</td>\n",
       "      <td>NaN</td>\n",
       "      <td>NaN</td>\n",
       "    </tr>\n",
       "    <tr>\n",
       "      <th>4</th>\n",
       "      <td>M00431823-I1</td>\n",
       "      <td>Initial Permit</td>\n",
       "      <td>301</td>\n",
       "      <td>EAST 73 STREET</td>\n",
       "      <td>MANHATTAN</td>\n",
       "      <td>1</td>\n",
       "      <td>1044897</td>\n",
       "      <td>1448</td>\n",
       "      <td>108</td>\n",
       "      <td>NaN</td>\n",
       "      <td>...</td>\n",
       "      <td>06/04/2021 12:00:00 AM</td>\n",
       "      <td>03/11/2022 05:00:00 AM</td>\n",
       "      <td>Filing as per plans for the in</td>\n",
       "      <td>5000</td>\n",
       "      <td>BROADWAY MERCER ASSOCIATES</td>\n",
       "      <td>CYNTHIA GONZALEZ</td>\n",
       "      <td>NaN</td>\n",
       "      <td>NaN</td>\n",
       "      <td>NaN</td>\n",
       "      <td>NaN</td>\n",
       "    </tr>\n",
       "    <tr>\n",
       "      <th>5</th>\n",
       "      <td>B00583762-I1</td>\n",
       "      <td>Initial Permit</td>\n",
       "      <td>350</td>\n",
       "      <td>IRVING AVENUE</td>\n",
       "      <td>BROOKLYN</td>\n",
       "      <td>25</td>\n",
       "      <td>3076848</td>\n",
       "      <td>3362</td>\n",
       "      <td>304</td>\n",
       "      <td>NaN</td>\n",
       "      <td>...</td>\n",
       "      <td>09/23/2021 12:00:00 AM</td>\n",
       "      <td>11/01/2021 04:00:00 AM</td>\n",
       "      <td>NON ILLUMINATED NON ADVERTISIN</td>\n",
       "      <td>4500</td>\n",
       "      <td>NaN</td>\n",
       "      <td>YASER OBYAH</td>\n",
       "      <td>NaN</td>\n",
       "      <td>NaN</td>\n",
       "      <td>NaN</td>\n",
       "      <td>NaN</td>\n",
       "    </tr>\n",
       "    <tr>\n",
       "      <th>6</th>\n",
       "      <td>B00516232-I1</td>\n",
       "      <td>Initial Permit</td>\n",
       "      <td>102</td>\n",
       "      <td>PILLING STREET</td>\n",
       "      <td>BROOKLYN</td>\n",
       "      <td>29</td>\n",
       "      <td>3080348</td>\n",
       "      <td>3457</td>\n",
       "      <td>304</td>\n",
       "      <td>NaN</td>\n",
       "      <td>...</td>\n",
       "      <td>05/06/2021 12:00:00 AM</td>\n",
       "      <td>03/31/2022 12:00:00 AM</td>\n",
       "      <td>INSTALLATION OF TEMPORARY HEAV</td>\n",
       "      <td>1000</td>\n",
       "      <td>EVEREST SCAFFOLDING INC.</td>\n",
       "      <td>CHRISTOPHER DOWNES</td>\n",
       "      <td>NaN</td>\n",
       "      <td>NaN</td>\n",
       "      <td>NaN</td>\n",
       "      <td>NaN</td>\n",
       "    </tr>\n",
       "    <tr>\n",
       "      <th>7</th>\n",
       "      <td>B00472417-I1</td>\n",
       "      <td>Renewal Permit with Changes</td>\n",
       "      <td>1329</td>\n",
       "      <td>WILLOUGHBY AVENUE</td>\n",
       "      <td>BROOKLYN</td>\n",
       "      <td>35</td>\n",
       "      <td>3072801</td>\n",
       "      <td>3200</td>\n",
       "      <td>304</td>\n",
       "      <td>NaN</td>\n",
       "      <td>...</td>\n",
       "      <td>06/23/2021 12:00:00 AM</td>\n",
       "      <td>04/19/2022 12:00:00 AM</td>\n",
       "      <td>MODIFICATION OF PLUMBING AND S</td>\n",
       "      <td>68750</td>\n",
       "      <td>FM CONSOLIDATED HOLDING</td>\n",
       "      <td>TERESA CHUI</td>\n",
       "      <td>NaN</td>\n",
       "      <td>NaN</td>\n",
       "      <td>NaN</td>\n",
       "      <td>NaN</td>\n",
       "    </tr>\n",
       "    <tr>\n",
       "      <th>...</th>\n",
       "      <td>...</td>\n",
       "      <td>...</td>\n",
       "      <td>...</td>\n",
       "      <td>...</td>\n",
       "      <td>...</td>\n",
       "      <td>...</td>\n",
       "      <td>...</td>\n",
       "      <td>...</td>\n",
       "      <td>...</td>\n",
       "      <td>...</td>\n",
       "      <td>...</td>\n",
       "      <td>...</td>\n",
       "      <td>...</td>\n",
       "      <td>...</td>\n",
       "      <td>...</td>\n",
       "      <td>...</td>\n",
       "      <td>...</td>\n",
       "      <td>...</td>\n",
       "      <td>...</td>\n",
       "      <td>...</td>\n",
       "      <td>...</td>\n",
       "    </tr>\n",
       "    <tr>\n",
       "      <th>241434</th>\n",
       "      <td>M00154809-I1</td>\n",
       "      <td>Initial Permit</td>\n",
       "      <td>212</td>\n",
       "      <td>WEST 22 STREET</td>\n",
       "      <td>MANHATTAN</td>\n",
       "      <td>46</td>\n",
       "      <td>1014076</td>\n",
       "      <td>771</td>\n",
       "      <td>104</td>\n",
       "      <td>NaN</td>\n",
       "      <td>...</td>\n",
       "      <td>04/26/2019 12:00:00 AM</td>\n",
       "      <td>09/30/2020 01:00:00 AM</td>\n",
       "      <td>INSTALLATION OF TEMPORARY CONS</td>\n",
       "      <td>10000</td>\n",
       "      <td>PR</td>\n",
       "      <td>STANLEY WASSERMAN</td>\n",
       "      <td>NaN</td>\n",
       "      <td>NaN</td>\n",
       "      <td>NaN</td>\n",
       "      <td>NaN</td>\n",
       "    </tr>\n",
       "    <tr>\n",
       "      <th>241436</th>\n",
       "      <td>Q00099914-I1</td>\n",
       "      <td>Initial Permit</td>\n",
       "      <td>259-73</td>\n",
       "      <td>148 ROAD</td>\n",
       "      <td>QUEENS</td>\n",
       "      <td>7</td>\n",
       "      <td>4290971</td>\n",
       "      <td>13687</td>\n",
       "      <td>413</td>\n",
       "      <td>NaN</td>\n",
       "      <td>...</td>\n",
       "      <td>01/31/2019 12:00:00 AM</td>\n",
       "      <td>05/06/2019 12:00:00 AM</td>\n",
       "      <td>PROPOSED TEMPORARY CONSTRUCTIO</td>\n",
       "      <td>1000</td>\n",
       "      <td>NaN</td>\n",
       "      <td>ANTHONY FINDLAY</td>\n",
       "      <td>NaN</td>\n",
       "      <td>NaN</td>\n",
       "      <td>NaN</td>\n",
       "      <td>NaN</td>\n",
       "    </tr>\n",
       "    <tr>\n",
       "      <th>241438</th>\n",
       "      <td>Q00001038-I1</td>\n",
       "      <td>Initial Permit</td>\n",
       "      <td>66-20</td>\n",
       "      <td>QUEENS BOULEVARD</td>\n",
       "      <td>QUEENS</td>\n",
       "      <td>19</td>\n",
       "      <td>4056084</td>\n",
       "      <td>2420</td>\n",
       "      <td>402</td>\n",
       "      <td>NaN</td>\n",
       "      <td>...</td>\n",
       "      <td>11/14/2017 12:00:00 AM</td>\n",
       "      <td>09/17/2018 12:00:00 AM</td>\n",
       "      <td>NON ILLUMINATED NON ADVERTISIN</td>\n",
       "      <td>1200</td>\n",
       "      <td>ROGOSIN INSTITUTE</td>\n",
       "      <td>AMMAR ALOW</td>\n",
       "      <td>NaN</td>\n",
       "      <td>NaN</td>\n",
       "      <td>NaN</td>\n",
       "      <td>NaN</td>\n",
       "    </tr>\n",
       "    <tr>\n",
       "      <th>241440</th>\n",
       "      <td>B00269752-I1</td>\n",
       "      <td>Renewal Permit Without Changes</td>\n",
       "      <td>1</td>\n",
       "      <td>MAIN STREET</td>\n",
       "      <td>BROOKLYN</td>\n",
       "      <td>7501</td>\n",
       "      <td>3346104</td>\n",
       "      <td>27</td>\n",
       "      <td>302</td>\n",
       "      <td>NaN</td>\n",
       "      <td>...</td>\n",
       "      <td>07/10/2020 12:00:00 AM</td>\n",
       "      <td>02/23/2021 12:00:00 AM</td>\n",
       "      <td>PAA being filed to reflect cha</td>\n",
       "      <td>26000</td>\n",
       "      <td>NaN</td>\n",
       "      <td>MARY FRANCES SHAUGHNESSY</td>\n",
       "      <td>NaN</td>\n",
       "      <td>NaN</td>\n",
       "      <td>NaN</td>\n",
       "      <td>NaN</td>\n",
       "    </tr>\n",
       "    <tr>\n",
       "      <th>241441</th>\n",
       "      <td>B00239369-I1</td>\n",
       "      <td>Initial Permit</td>\n",
       "      <td>388</td>\n",
       "      <td>CHRISTOPHER AVENUE</td>\n",
       "      <td>BROOKLYN</td>\n",
       "      <td>128</td>\n",
       "      <td>3084828</td>\n",
       "      <td>3811</td>\n",
       "      <td>316</td>\n",
       "      <td>NaN</td>\n",
       "      <td>...</td>\n",
       "      <td>12/23/2020 12:00:00 AM</td>\n",
       "      <td>07/20/2021 12:00:00 AM</td>\n",
       "      <td>INSTALLATION OF SPRINKLER SYST</td>\n",
       "      <td>1000</td>\n",
       "      <td>PR</td>\n",
       "      <td>CHAIM SOBEL</td>\n",
       "      <td>NaN</td>\n",
       "      <td>NaN</td>\n",
       "      <td>NaN</td>\n",
       "      <td>NaN</td>\n",
       "    </tr>\n",
       "  </tbody>\n",
       "</table>\n",
       "<p>120465 rows × 35 columns</p>\n",
       "</div>"
      ],
      "text/plain": [
       "       Job Filing Number                   Filing Reason House No  \\\n",
       "1           X00496654-I1                  Initial Permit     1051   \n",
       "4           M00431823-I1                  Initial Permit      301   \n",
       "5           B00583762-I1                  Initial Permit      350   \n",
       "6           B00516232-I1                  Initial Permit      102   \n",
       "7           B00472417-I1     Renewal Permit with Changes     1329   \n",
       "...                  ...                             ...      ...   \n",
       "241434      M00154809-I1                  Initial Permit      212   \n",
       "241436      Q00099914-I1                  Initial Permit   259-73   \n",
       "241438      Q00001038-I1                  Initial Permit    66-20   \n",
       "241440      B00269752-I1  Renewal Permit Without Changes        1   \n",
       "241441      B00239369-I1                  Initial Permit      388   \n",
       "\n",
       "               Street Name    Borough   LOT      Bin  Block C B NO  \\\n",
       "1       WESTCHESTER AVENUE      BRONX    64  2005808   2727    202   \n",
       "4           EAST 73 STREET  MANHATTAN     1  1044897   1448    108   \n",
       "5            IRVING AVENUE   BROOKLYN    25  3076848   3362    304   \n",
       "6           PILLING STREET   BROOKLYN    29  3080348   3457    304   \n",
       "7        WILLOUGHBY AVENUE   BROOKLYN    35  3072801   3200    304   \n",
       "...                    ...        ...   ...      ...    ...    ...   \n",
       "241434      WEST 22 STREET  MANHATTAN    46  1014076    771    104   \n",
       "241436            148 ROAD     QUEENS     7  4290971  13687    413   \n",
       "241438    QUEENS BOULEVARD     QUEENS    19  4056084   2420    402   \n",
       "241440         MAIN STREET   BROOKLYN  7501  3346104     27    302   \n",
       "241441  CHRISTOPHER AVENUE   BROOKLYN   128  3084828   3811    316   \n",
       "\n",
       "       Apt/Condo No(s)  ...             Issued Date            Expired Date  \\\n",
       "1                  NaN  ...  05/06/2021 12:00:00 AM  12/31/2021 12:00:00 AM   \n",
       "4                  NaN  ...  06/04/2021 12:00:00 AM  03/11/2022 05:00:00 AM   \n",
       "5                  NaN  ...  09/23/2021 12:00:00 AM  11/01/2021 04:00:00 AM   \n",
       "6                  NaN  ...  05/06/2021 12:00:00 AM  03/31/2022 12:00:00 AM   \n",
       "7                  NaN  ...  06/23/2021 12:00:00 AM  04/19/2022 12:00:00 AM   \n",
       "...                ...  ...                     ...                     ...   \n",
       "241434             NaN  ...  04/26/2019 12:00:00 AM  09/30/2020 01:00:00 AM   \n",
       "241436             NaN  ...  01/31/2019 12:00:00 AM  05/06/2019 12:00:00 AM   \n",
       "241438             NaN  ...  11/14/2017 12:00:00 AM  09/17/2018 12:00:00 AM   \n",
       "241440             NaN  ...  07/10/2020 12:00:00 AM  02/23/2021 12:00:00 AM   \n",
       "241441             NaN  ...  12/23/2020 12:00:00 AM  07/20/2021 12:00:00 AM   \n",
       "\n",
       "                       Job Description Estimated Job Costs  \\\n",
       "1       INSTALL EXTERIOR ILLUMINATED W                1850   \n",
       "4       Filing as per plans for the in                5000   \n",
       "5       NON ILLUMINATED NON ADVERTISIN                4500   \n",
       "6       INSTALLATION OF TEMPORARY HEAV                1000   \n",
       "7       MODIFICATION OF PLUMBING AND S               68750   \n",
       "...                                ...                 ...   \n",
       "241434  INSTALLATION OF TEMPORARY CONS               10000   \n",
       "241436  PROPOSED TEMPORARY CONSTRUCTIO                1000   \n",
       "241438  NON ILLUMINATED NON ADVERTISIN                1200   \n",
       "241440  PAA being filed to reflect cha               26000   \n",
       "241441  INSTALLATION OF SPRINKLER SYST                1000   \n",
       "\n",
       "               Owner Business Name                Owner Name  \\\n",
       "1            EIB WESTCHESTER 1 LLC              FRANK SCAFFA   \n",
       "4       BROADWAY MERCER ASSOCIATES          CYNTHIA GONZALEZ   \n",
       "5                              NaN               YASER OBYAH   \n",
       "6         EVEREST SCAFFOLDING INC.        CHRISTOPHER DOWNES   \n",
       "7          FM CONSOLIDATED HOLDING               TERESA CHUI   \n",
       "...                            ...                       ...   \n",
       "241434                          PR         STANLEY WASSERMAN   \n",
       "241436                         NaN           ANTHONY FINDLAY   \n",
       "241438           ROGOSIN INSTITUTE                AMMAR ALOW   \n",
       "241440                         NaN  MARY FRANCES SHAUGHNESSY   \n",
       "241441                          PR               CHAIM SOBEL   \n",
       "\n",
       "       Owner Street Address Owner City Owner State Owner Zip Code  \n",
       "1                       NaN        NaN         NaN            NaN  \n",
       "4                       NaN        NaN         NaN            NaN  \n",
       "5                       NaN        NaN         NaN            NaN  \n",
       "6                       NaN        NaN         NaN            NaN  \n",
       "7                       NaN        NaN         NaN            NaN  \n",
       "...                     ...        ...         ...            ...  \n",
       "241434                  NaN        NaN         NaN            NaN  \n",
       "241436                  NaN        NaN         NaN            NaN  \n",
       "241438                  NaN        NaN         NaN            NaN  \n",
       "241440                  NaN        NaN         NaN            NaN  \n",
       "241441                  NaN        NaN         NaN            NaN  \n",
       "\n",
       "[120465 rows x 35 columns]"
      ]
     },
     "execution_count": 57,
     "metadata": {},
     "output_type": "execute_result"
    }
   ],
   "source": [
    "df.loc[df['Applicant License #'].str.startswith('0')]"
   ]
  },
  {
   "cell_type": "markdown",
   "metadata": {},
   "source": [
    "Fraction of Rows with unique job numbers"
   ]
  },
  {
   "cell_type": "code",
   "execution_count": 58,
   "metadata": {
    "scrolled": true
   },
   "outputs": [
    {
     "data": {
      "text/plain": [
       "0.03772599104329076"
      ]
     },
     "execution_count": 58,
     "metadata": {},
     "output_type": "execute_result"
    }
   ],
   "source": [
    "df['Applicant License #'].nunique()/df['Applicant License #'].count()"
   ]
  },
  {
   "cell_type": "markdown",
   "metadata": {},
   "source": [
    "Group by Job # and check if latitude and longitude are the same all the same for the job, which would indicate different instances of the Job # all refer to the same Job."
   ]
  },
  {
   "cell_type": "code",
   "execution_count": 59,
   "metadata": {},
   "outputs": [],
   "source": [
    "group = df[['Applicant License #', 'Job Filing Number']].groupby('Applicant License #')"
   ]
  },
  {
   "cell_type": "markdown",
   "metadata": {},
   "source": [
    "This will take a little while to run"
   ]
  },
  {
   "cell_type": "code",
   "execution_count": 60,
   "metadata": {},
   "outputs": [],
   "source": [
    "tranformed = group.aggregate(lambda x: x.unique().shape[0])"
   ]
  },
  {
   "cell_type": "markdown",
   "metadata": {},
   "source": [
    "Jobs with multiple latitude and longitudes:"
   ]
  },
  {
   "cell_type": "code",
   "execution_count": 61,
   "metadata": {},
   "outputs": [],
   "source": [
    "potential_bad_jobs = list(tranformed)"
   ]
  },
  {
   "cell_type": "markdown",
   "metadata": {},
   "source": [
    "Separate these into a temporary dataframe to play around with:"
   ]
  },
  {
   "cell_type": "code",
   "execution_count": 62,
   "metadata": {},
   "outputs": [],
   "source": [
    "df_temp = df.loc[df['Applicant License #'].isin(potential_bad_jobs)].copy()"
   ]
  },
  {
   "cell_type": "code",
   "execution_count": 63,
   "metadata": {},
   "outputs": [],
   "source": [
    "df_temp = df_temp.sort_values(['Job Filing Number', 'Applicant License #'])"
   ]
  },
  {
   "cell_type": "markdown",
   "metadata": {},
   "source": [
    "Most of these are just missing lat and long values.\n",
    "\n",
    "The others look to be Jobs that manage multiple houses/lots in a small area, so are probably correct"
   ]
  },
  {
   "cell_type": "code",
   "execution_count": 64,
   "metadata": {
    "scrolled": false
   },
   "outputs": [
    {
     "data": {
      "text/html": [
       "<div>\n",
       "<style scoped>\n",
       "    .dataframe tbody tr th:only-of-type {\n",
       "        vertical-align: middle;\n",
       "    }\n",
       "\n",
       "    .dataframe tbody tr th {\n",
       "        vertical-align: top;\n",
       "    }\n",
       "\n",
       "    .dataframe thead th {\n",
       "        text-align: right;\n",
       "    }\n",
       "</style>\n",
       "<table border=\"1\" class=\"dataframe\">\n",
       "  <thead>\n",
       "    <tr style=\"text-align: right;\">\n",
       "      <th></th>\n",
       "      <th>Job Filing Number</th>\n",
       "      <th>Filing Reason</th>\n",
       "      <th>House No</th>\n",
       "      <th>Street Name</th>\n",
       "      <th>Borough</th>\n",
       "      <th>LOT</th>\n",
       "      <th>Bin</th>\n",
       "      <th>Block</th>\n",
       "      <th>C B NO</th>\n",
       "      <th>Apt/Condo No(s)</th>\n",
       "      <th>...</th>\n",
       "      <th>Issued Date</th>\n",
       "      <th>Expired Date</th>\n",
       "      <th>Job Description</th>\n",
       "      <th>Estimated Job Costs</th>\n",
       "      <th>Owner Business Name</th>\n",
       "      <th>Owner Name</th>\n",
       "      <th>Owner Street Address</th>\n",
       "      <th>Owner City</th>\n",
       "      <th>Owner State</th>\n",
       "      <th>Owner Zip Code</th>\n",
       "    </tr>\n",
       "  </thead>\n",
       "  <tbody>\n",
       "  </tbody>\n",
       "</table>\n",
       "<p>0 rows × 35 columns</p>\n",
       "</div>"
      ],
      "text/plain": [
       "Empty DataFrame\n",
       "Columns: [Job Filing Number, Filing Reason, House No, Street Name, Borough, LOT, Bin, Block, C B NO, Apt/Condo No(s), Work on Floor, Work Type, Permittee's License Type, Applicant License #, Applicant First Name, Applicant Middle Name, Applicant Last Name, Applicant Business Name, Applicant Business Address, Filing Representative First Name, Filing Representative Middle Initial, Filing Representative Last Name, Filing Representative Business Name, Work Permit, Approved Date, Issued Date, Expired Date, Job Description, Estimated Job Costs, Owner Business Name, Owner Name, Owner Street Address, Owner City, Owner State, Owner Zip Code]\n",
       "Index: []\n",
       "\n",
       "[0 rows x 35 columns]"
      ]
     },
     "execution_count": 64,
     "metadata": {},
     "output_type": "execute_result"
    }
   ],
   "source": [
    "df_temp[df_temp.duplicated(subset=['Job Filing Number', 'Applicant License #'], keep=False)]"
   ]
  },
  {
   "cell_type": "markdown",
   "metadata": {},
   "source": [
    "#### Later, after we have cleaned more values, we will fill these missing values by job #"
   ]
  },
  {
   "cell_type": "markdown",
   "metadata": {},
   "source": [
    "Remove Jobs we know to be just missing data from the list of bad jobs"
   ]
  },
  {
   "cell_type": "code",
   "execution_count": 65,
   "metadata": {
    "scrolled": false
   },
   "outputs": [
    {
     "data": {
      "text/html": [
       "<div>\n",
       "<style scoped>\n",
       "    .dataframe tbody tr th:only-of-type {\n",
       "        vertical-align: middle;\n",
       "    }\n",
       "\n",
       "    .dataframe tbody tr th {\n",
       "        vertical-align: top;\n",
       "    }\n",
       "\n",
       "    .dataframe thead th {\n",
       "        text-align: right;\n",
       "    }\n",
       "</style>\n",
       "<table border=\"1\" class=\"dataframe\">\n",
       "  <thead>\n",
       "    <tr style=\"text-align: right;\">\n",
       "      <th></th>\n",
       "      <th>Job Filing Number</th>\n",
       "      <th>Filing Reason</th>\n",
       "      <th>House No</th>\n",
       "      <th>Street Name</th>\n",
       "      <th>Borough</th>\n",
       "      <th>LOT</th>\n",
       "      <th>Bin</th>\n",
       "      <th>Block</th>\n",
       "      <th>C B NO</th>\n",
       "      <th>Apt/Condo No(s)</th>\n",
       "      <th>...</th>\n",
       "      <th>Issued Date</th>\n",
       "      <th>Expired Date</th>\n",
       "      <th>Job Description</th>\n",
       "      <th>Estimated Job Costs</th>\n",
       "      <th>Owner Business Name</th>\n",
       "      <th>Owner Name</th>\n",
       "      <th>Owner Street Address</th>\n",
       "      <th>Owner City</th>\n",
       "      <th>Owner State</th>\n",
       "      <th>Owner Zip Code</th>\n",
       "    </tr>\n",
       "  </thead>\n",
       "  <tbody>\n",
       "  </tbody>\n",
       "</table>\n",
       "<p>0 rows × 35 columns</p>\n",
       "</div>"
      ],
      "text/plain": [
       "Empty DataFrame\n",
       "Columns: [Job Filing Number, Filing Reason, House No, Street Name, Borough, LOT, Bin, Block, C B NO, Apt/Condo No(s), Work on Floor, Work Type, Permittee's License Type, Applicant License #, Applicant First Name, Applicant Middle Name, Applicant Last Name, Applicant Business Name, Applicant Business Address, Filing Representative First Name, Filing Representative Middle Initial, Filing Representative Last Name, Filing Representative Business Name, Work Permit, Approved Date, Issued Date, Expired Date, Job Description, Estimated Job Costs, Owner Business Name, Owner Name, Owner Street Address, Owner City, Owner State, Owner Zip Code]\n",
       "Index: []\n",
       "\n",
       "[0 rows x 35 columns]"
      ]
     },
     "execution_count": 65,
     "metadata": {},
     "output_type": "execute_result"
    }
   ],
   "source": [
    "df_temp"
   ]
  },
  {
   "cell_type": "markdown",
   "metadata": {},
   "source": [
    "Latest action date is different, so its probably differnt but very similar jobs "
   ]
  },
  {
   "cell_type": "markdown",
   "metadata": {},
   "source": [
    "Check if any Job #s have non-digit values"
   ]
  },
  {
   "cell_type": "code",
   "execution_count": 66,
   "metadata": {},
   "outputs": [],
   "source": [
    "df['Applicant License #'] = df['Applicant License #'].astype('str')"
   ]
  },
  {
   "cell_type": "code",
   "execution_count": 67,
   "metadata": {},
   "outputs": [
    {
     "data": {
      "text/plain": [
       "Series([], Name: Applicant License #, dtype: object)"
      ]
     },
     "execution_count": 67,
     "metadata": {},
     "output_type": "execute_result"
    }
   ],
   "source": [
    "df.loc[(~df['Applicant License #'].isna())\n",
    "       &(~df['Applicant License #'].str.isdigit())]['Applicant License #']"
   ]
  },
  {
   "cell_type": "markdown",
   "metadata": {},
   "source": [
    "All Job #s entirely composed of digits, so we cast them to ints"
   ]
  },
  {
   "cell_type": "code",
   "execution_count": 68,
   "metadata": {},
   "outputs": [],
   "source": [
    "df['Applicant License #'] = df['Applicant License #'].astype('str')"
   ]
  },
  {
   "cell_type": "code",
   "execution_count": 69,
   "metadata": {
    "scrolled": false
   },
   "outputs": [
    {
     "data": {
      "text/plain": [
       "count     241160\n",
       "unique      9098\n",
       "top       032158\n",
       "freq        3949\n",
       "Name: Applicant License #, dtype: object"
      ]
     },
     "execution_count": 69,
     "metadata": {},
     "output_type": "execute_result"
    }
   ],
   "source": [
    "df['Applicant License #'].describe()"
   ]
  },
  {
   "cell_type": "markdown",
   "metadata": {},
   "source": [
    "## Examining and reparing Job Filing Number"
   ]
  },
  {
   "cell_type": "markdown",
   "metadata": {},
   "source": [
    "Job Filing Number appear to be mostly ints\n",
    "\n",
    "However, there are legitimate house numbers with dashes so we'll have to make them strings"
   ]
  },
  {
   "cell_type": "code",
   "execution_count": 71,
   "metadata": {},
   "outputs": [],
   "source": [
    "def show_vals(column_name, show_rows=10, df=df):\n",
    "    print(\"Top {} {}:\\n\".format(show_rows, column_name))\n",
    "    print(df[column_name].value_counts(dropna=False)[:show_rows])\n",
    "    print()"
   ]
  },
  {
   "cell_type": "code",
   "execution_count": 72,
   "metadata": {
    "scrolled": true
   },
   "outputs": [
    {
     "name": "stdout",
     "output_type": "stream",
     "text": [
      "Top 10 Job Filing Number:\n",
      "\n",
      "M00013853-I1    51\n",
      "M00008120-I1    48\n",
      "M00042797-I1    48\n",
      "M00130581-I1    42\n",
      "X00073703-I1    39\n",
      "M00165956-I1    36\n",
      "M00259999-I1    36\n",
      "M00003926-I1    36\n",
      "M00000925-I1    36\n",
      "M00033650-I1    36\n",
      "Name: Job Filing Number, dtype: int64\n",
      "\n"
     ]
    }
   ],
   "source": [
    "show_vals('Job Filing Number', show_rows=10)"
   ]
  },
  {
   "cell_type": "markdown",
   "metadata": {},
   "source": [
    "Replace NaN values with empty strings, then convert column to string, and make everything uppercase\n"
   ]
  },
  {
   "cell_type": "code",
   "execution_count": 73,
   "metadata": {},
   "outputs": [],
   "source": [
    "df['Job Filing Number'].fillna('', inplace=True)\n",
    "df['Job Filing Number'] = df['Job Filing Number'].astype('str')\n",
    "df['Job Filing Number'] = df['Job Filing Number'].str.upper()"
   ]
  },
  {
   "cell_type": "markdown",
   "metadata": {},
   "source": [
    "Check for numbers spelled out as words"
   ]
  },
  {
   "cell_type": "code",
   "execution_count": 74,
   "metadata": {
    "scrolled": true
   },
   "outputs": [
    {
     "data": {
      "text/plain": [
       "Series([], Name: Job Filing Number, dtype: object)"
      ]
     },
     "execution_count": 74,
     "metadata": {},
     "output_type": "execute_result"
    }
   ],
   "source": [
    "df.loc[(~df['Job Filing Number'].isna())\n",
    "       &(df['Job Filing Number'].str.isalpha())]['Job Filing Number']"
   ]
  },
  {
   "cell_type": "markdown",
   "metadata": {},
   "source": [
    "Check if thses are empty strings:"
   ]
  },
  {
   "cell_type": "code",
   "execution_count": 75,
   "metadata": {},
   "outputs": [
    {
     "data": {
      "text/plain": [
       "148257    PERMIT IS NO\n",
       "178649    PERMIT IS NO\n",
       "181411    PERMIT IS NO\n",
       "Name: Job Filing Number, dtype: object"
      ]
     },
     "execution_count": 75,
     "metadata": {},
     "output_type": "execute_result"
    }
   ],
   "source": [
    "df.loc[(~df['Job Filing Number'].str.contains('\\\\d', regex=True))]['Job Filing Number']"
   ]
  },
  {
   "cell_type": "markdown",
   "metadata": {},
   "source": [
    "Replace spelling of numbers with their value, and remove values 'PIER',  'MANHATTAN',  'NO NUMBER'"
   ]
  },
  {
   "cell_type": "code",
   "execution_count": 102,
   "metadata": {},
   "outputs": [],
   "source": [
    "df.loc[df['Job Filing Number'].str.strip('')=='PERMIT IS NO', 'Job Filing Number'] = ''\n"
   ]
  },
  {
   "cell_type": "markdown",
   "metadata": {},
   "source": [
    "Most of these will probably be legitimate house numbers, since house numbers can have dashes"
   ]
  },
  {
   "cell_type": "code",
   "execution_count": 86,
   "metadata": {
    "scrolled": false
   },
   "outputs": [
    {
     "data": {
      "text/plain": [
       "0         M00531234-I1\n",
       "1         X00496654-I1\n",
       "2         B00579209-I1\n",
       "3         M00514656-I1\n",
       "4         M00431823-I1\n",
       "              ...     \n",
       "241440    B00269752-I1\n",
       "241441    B00239369-I1\n",
       "241442    M00083385-I1\n",
       "241443    M00052214-I1\n",
       "241444    B00275776-I1\n",
       "Name: Job Filing Number, Length: 241160, dtype: object"
      ]
     },
     "execution_count": 86,
     "metadata": {},
     "output_type": "execute_result"
    }
   ],
   "source": [
    "df.loc[(~df['Job Filing Number'].isna())\n",
    "       &(~df['Job Filing Number'].str.isdigit())]['Job Filing Number']"
   ]
  },
  {
   "cell_type": "markdown",
   "metadata": {},
   "source": [
    "Check non-numeric house #'s that don't have dashes"
   ]
  },
  {
   "cell_type": "code",
   "execution_count": 87,
   "metadata": {
    "scrolled": false
   },
   "outputs": [
    {
     "data": {
      "text/plain": [
       "148257    PERMIT IS NO\n",
       "178649    PERMIT IS NO\n",
       "181411    PERMIT IS NO\n",
       "Name: Job Filing Number, dtype: object"
      ]
     },
     "execution_count": 87,
     "metadata": {},
     "output_type": "execute_result"
    }
   ],
   "source": [
    "df.loc[(~df['Job Filing Number'].isna())\n",
    "       &(~df['Job Filing Number'].str.isdigit())\n",
    "      &(~df['Job Filing Number'].str.contains('-', regex=False))]['Job Filing Number'][:25]"
   ]
  },
  {
   "cell_type": "markdown",
   "metadata": {},
   "source": [
    "We see a mix of reference to the house's garage, the rear house and single letters that likely indicate apartments in multi-occupancy venues. \n",
    "\n",
    "We will standardize the formatting, and maintain the reference to garage, rear, and appartment, since there is no apartment column for the job.\n",
    "\n",
    "First split the numbers and words with a space"
   ]
  },
  {
   "cell_type": "code",
   "execution_count": 90,
   "metadata": {},
   "outputs": [],
   "source": [
    "df['Job Filing Number'] = df['Job Filing Number'].str.replace(pat='(?P<one>\\\\d)(?P<two>[A-Z]+)', repl='\\g<one> \\g<two>', regex=True)"
   ]
  },
  {
   "cell_type": "markdown",
   "metadata": {},
   "source": [
    "Now we will fix the formatting for garage and \n",
    "remove references to north, south, east, west, since they should be in street #"
   ]
  },
  {
   "cell_type": "code",
   "execution_count": 91,
   "metadata": {},
   "outputs": [],
   "source": [
    "df['Job Filing Number'] = df['Job Filing Number'].str.replace(pat='(?P<one>GAR$)', repl='GARAGE', regex=True)"
   ]
  },
  {
   "cell_type": "code",
   "execution_count": 95,
   "metadata": {},
   "outputs": [],
   "source": [
    "df['Job Filing Number'] = df['Job Filing Number'].str.replace(pat='NORTH([A-Z]+)?', repl='', regex=True)\n",
    "df['Job Filing Number'] = df['Job Filing Number'].str.replace(pat='EAST([A-Z]+)?', repl='', regex=True)\n",
    "df['Job Filing Number'] = df['Job Filing Number'].str.replace(pat='SOUTH([A-Z]+)?', repl='', regex=True)\n",
    "df['Job Filing Number'] = df['Job Filing Number'].str.replace(pat='WEST([A-Z]+)?', repl='', regex=True)\n",
    "df['Job Filing Number'] = df['Job Filing Number'].str.replace('PERMIT IS NO', repl='', regex=True)"
   ]
  },
  {
   "cell_type": "code",
   "execution_count": 96,
   "metadata": {},
   "outputs": [
    {
     "data": {
      "text/plain": [
       "148257    \n",
       "178649    \n",
       "181411    \n",
       "Name: Job Filing Number, dtype: object"
      ]
     },
     "execution_count": 96,
     "metadata": {},
     "output_type": "execute_result"
    }
   ],
   "source": [
    "# Confirm that it worked correctly:\n",
    "df.loc[(~df['Job Filing Number'].isna())\n",
    "       &(~df['Job Filing Number'].str.isdigit())\n",
    "       &(~df['Job Filing Number'].str.contains('-', regex=False))]['Job Filing Number'][:30]"
   ]
  },
  {
   "cell_type": "code",
   "execution_count": null,
   "metadata": {},
   "outputs": [],
   "source": []
  },
  {
   "cell_type": "markdown",
   "metadata": {},
   "source": [
    "## Examining and reparing House No"
   ]
  },
  {
   "cell_type": "code",
   "execution_count": 97,
   "metadata": {
    "scrolled": true
   },
   "outputs": [
    {
     "name": "stdout",
     "output_type": "stream",
     "text": [
      "Top 10 House No:\n",
      "\n",
      "1      2202\n",
      "200    1306\n",
      "10     1259\n",
      "150    1042\n",
      "55     1027\n",
      "50     1020\n",
      "100     960\n",
      "40      871\n",
      "60      861\n",
      "15      853\n",
      "Name: House No, dtype: int64\n",
      "\n"
     ]
    }
   ],
   "source": [
    "show_vals('House No', show_rows=10)"
   ]
  },
  {
   "cell_type": "markdown",
   "metadata": {},
   "source": [
    "Replace NaN values with empty strings, then convert column to string, and make everything uppercase\n"
   ]
  },
  {
   "cell_type": "code",
   "execution_count": 98,
   "metadata": {},
   "outputs": [],
   "source": [
    "df['House No'].fillna('', inplace=True)\n",
    "df['House No'] = df['House No'].astype('str')\n",
    "df['House No'] = df['House No'].str.upper()"
   ]
  },
  {
   "cell_type": "markdown",
   "metadata": {},
   "source": [
    "Check for numbers spelled out as words"
   ]
  },
  {
   "cell_type": "code",
   "execution_count": 99,
   "metadata": {
    "scrolled": true
   },
   "outputs": [
    {
     "data": {
      "text/plain": [
       "13451     ONE\n",
       "25394     ONE\n",
       "25682     ONE\n",
       "27946     ONE\n",
       "30149     ONE\n",
       "57475       I\n",
       "58527     ONE\n",
       "64326     ONE\n",
       "78698     ONE\n",
       "78809     ONE\n",
       "79113     ONE\n",
       "80899     ONE\n",
       "80957     ONE\n",
       "81001     ONE\n",
       "102699    ONE\n",
       "157256    ONE\n",
       "160480    ONE\n",
       "184336    ONE\n",
       "195205    ONE\n",
       "198739    ONE\n",
       "201748      I\n",
       "207613    ONE\n",
       "215704    ONE\n",
       "230633    ONE\n",
       "Name: House No, dtype: object"
      ]
     },
     "execution_count": 99,
     "metadata": {},
     "output_type": "execute_result"
    }
   ],
   "source": [
    "df.loc[(~df['House No'].isna())\n",
    "       &(df['House No'].str.isalpha())]['House No']"
   ]
  },
  {
   "cell_type": "markdown",
   "metadata": {},
   "source": [
    "Check if thses are empty strings:"
   ]
  },
  {
   "cell_type": "code",
   "execution_count": 100,
   "metadata": {},
   "outputs": [
    {
     "data": {
      "text/plain": [
       "13451     ONE\n",
       "25394     ONE\n",
       "25682     ONE\n",
       "27946     ONE\n",
       "30149     ONE\n",
       "57475       I\n",
       "58527     ONE\n",
       "64326     ONE\n",
       "78698     ONE\n",
       "78809     ONE\n",
       "79113     ONE\n",
       "80899     ONE\n",
       "80957     ONE\n",
       "81001     ONE\n",
       "102699    ONE\n",
       "157256    ONE\n",
       "160480    ONE\n",
       "184336    ONE\n",
       "195205    ONE\n",
       "198739    ONE\n",
       "201748      I\n",
       "207613    ONE\n",
       "215704    ONE\n",
       "230633    ONE\n",
       "Name: House No, dtype: object"
      ]
     },
     "execution_count": 100,
     "metadata": {},
     "output_type": "execute_result"
    }
   ],
   "source": [
    "df.loc[(~df['House No'].str.contains('\\\\d', regex=True))]['House No']"
   ]
  },
  {
   "cell_type": "markdown",
   "metadata": {},
   "source": [
    "Replace spelling of numbers with their value, and remove values 'PIER',  'MANHATTAN',  'NO NUMBER'"
   ]
  },
  {
   "cell_type": "code",
   "execution_count": 103,
   "metadata": {},
   "outputs": [],
   "source": [
    "df.loc[df['House No'].str.strip('')=='ONE', 'House No'] = ''\n",
    "df.loc[df['House No'].str.strip('')=='I', 'House No'] = ''"
   ]
  },
  {
   "cell_type": "markdown",
   "metadata": {},
   "source": [
    "Most of these will probably be legitimate house numbers, since house numbers can have dashes"
   ]
  },
  {
   "cell_type": "code",
   "execution_count": 104,
   "metadata": {
    "scrolled": false
   },
   "outputs": [
    {
     "data": {
      "text/plain": [
       "12         57-28\n",
       "30        112-27\n",
       "35         99-06\n",
       "42        133-43\n",
       "43         82-08\n",
       "           ...  \n",
       "241425     34-19\n",
       "241426     74-16\n",
       "241432    161-01\n",
       "241436    259-73\n",
       "241438     66-20\n",
       "Name: House No, Length: 40083, dtype: object"
      ]
     },
     "execution_count": 104,
     "metadata": {},
     "output_type": "execute_result"
    }
   ],
   "source": [
    "df.loc[(~df['House No'].isna())\n",
    "       &(~df['House No'].str.isdigit())]['House No']"
   ]
  },
  {
   "cell_type": "markdown",
   "metadata": {},
   "source": [
    "Check non-numeric house #'s that don't have dashes"
   ]
  },
  {
   "cell_type": "code",
   "execution_count": 105,
   "metadata": {
    "scrolled": false
   },
   "outputs": [
    {
     "data": {
      "text/plain": [
       "344          60B\n",
       "971        111 A\n",
       "1180       37GAR\n",
       "1212        318A\n",
       "1361       37GAR\n",
       "1718       37GAR\n",
       "1985        256A\n",
       "2058        687A\n",
       "2219    1668 GAR\n",
       "2417        872A\n",
       "2659    1568 AIR\n",
       "3108     260 GAR\n",
       "3307        500A\n",
       "3360    435 REAR\n",
       "3517        410A\n",
       "3565    435 REAR\n",
       "3645      126GAR\n",
       "4881     108 1/2\n",
       "5045     649 GAR\n",
       "5129    435 REAR\n",
       "5141        140B\n",
       "5196       127 A\n",
       "5605     108 1/2\n",
       "5656        687A\n",
       "5772        546A\n",
       "Name: House No, dtype: object"
      ]
     },
     "execution_count": 105,
     "metadata": {},
     "output_type": "execute_result"
    }
   ],
   "source": [
    "df.loc[(~df['House No'].isna())\n",
    "       &(~df['House No'].str.isdigit())\n",
    "      &(~df['House No'].str.contains('-', regex=False))]['House No'][:25]"
   ]
  },
  {
   "cell_type": "markdown",
   "metadata": {},
   "source": [
    "We see a mix of reference to the house's garage, the rear house and single letters that likely indicate apartments in multi-occupancy venues. \n",
    "\n",
    "We will standardize the formatting, and maintain the reference to garage, rear, and appartment, since there is no apartment column for the job.\n",
    "\n",
    "First split the numbers and words with a space"
   ]
  },
  {
   "cell_type": "code",
   "execution_count": 106,
   "metadata": {},
   "outputs": [],
   "source": [
    "df['House No'] = df['House No'].str.replace(pat='(?P<one>\\\\d)(?P<two>[A-Z]+)', repl='\\g<one> \\g<two>', regex=True)"
   ]
  },
  {
   "cell_type": "markdown",
   "metadata": {},
   "source": [
    "Now we will fix the formatting for garage and \n",
    "remove references to north, south, east, west, since they should be in street #"
   ]
  },
  {
   "cell_type": "code",
   "execution_count": 91,
   "metadata": {},
   "outputs": [],
   "source": [
    "df['House No'] = df['House No'].str.replace(pat='(?P<one>GAR$)', repl='GARAGE', regex=True)"
   ]
  },
  {
   "cell_type": "code",
   "execution_count": 107,
   "metadata": {},
   "outputs": [],
   "source": [
    "df['House No'] = df['House No'].str.replace(pat='NORTH([A-Z]+)?', repl='', regex=True)\n",
    "df['House No'] = df['House No'].str.replace(pat='EAST([A-Z]+)?', repl='', regex=True)\n",
    "df['House No'] = df['House No'].str.replace(pat='SOUTH([A-Z]+)?', repl='', regex=True)\n",
    "df['House No'] = df['House No'].str.replace(pat='WEST([A-Z]+)?', repl='', regex=True)\n",
    "df['House No'] = df['House No'].str.replace('PERMIT IS NO', repl='', regex=True)"
   ]
  },
  {
   "cell_type": "code",
   "execution_count": 108,
   "metadata": {},
   "outputs": [
    {
     "data": {
      "text/plain": [
       "344     M00502410-I1\n",
       "971     M00586909-I1\n",
       "1180    S00481244-I1\n",
       "1212    B00552927-I1\n",
       "1361    S00481244-I1\n",
       "1718    S00481244-I1\n",
       "1985    B00466719-I1\n",
       "2058    B00345683-I1\n",
       "2219    B00510739-I1\n",
       "2417    B00285820-I1\n",
       "2659    M00342682-I1\n",
       "3108    S00308390-I1\n",
       "3307    B00315901-I1\n",
       "3360    M71340105-I1\n",
       "3517    B00502812-I1\n",
       "3565    M00370497-I1\n",
       "3645    S00510751-I1\n",
       "4881    M00367069-I1\n",
       "5045    B00455946-I1\n",
       "5129    M00370497-I1\n",
       "5141    B00480587-I1\n",
       "5196    B00519943-I1\n",
       "5605    M00367093-I1\n",
       "5656    B00500777-I1\n",
       "5772    M00510354-I1\n",
       "5775    Q00418044-I1\n",
       "5931    X00067946-I1\n",
       "5987    B00498189-I1\n",
       "6071    S00078639-I1\n",
       "6103    S00515398-I1\n",
       "Name: Job Filing Number, dtype: object"
      ]
     },
     "execution_count": 108,
     "metadata": {},
     "output_type": "execute_result"
    }
   ],
   "source": [
    "# Confirm that it worked correctly:\n",
    "df.loc[(~df['House No'].isna())\n",
    "       &(~df['House No'].str.isdigit())\n",
    "       &(~df['House No'].str.contains('-', regex=False))]['Job Filing Number'][:30]"
   ]
  },
  {
   "cell_type": "markdown",
   "metadata": {},
   "source": [
    "## Checking owner's information"
   ]
  },
  {
   "cell_type": "code",
   "execution_count": 125,
   "metadata": {},
   "outputs": [],
   "source": [
    "def show_vals(column_name, show_rows=10, df=df):\n",
    "    print(\"Top {} {}:\\n\".format(show_rows, column_name))\n",
    "    print(df[column_name].value_counts(dropna=False))\n",
    "    print()"
   ]
  },
  {
   "cell_type": "code",
   "execution_count": 129,
   "metadata": {
    "scrolled": true
   },
   "outputs": [
    {
     "name": "stdout",
     "output_type": "stream",
     "text": [
      "Top 10 Owner Business Name:\n",
      "\n",
      "PR                               42463\n",
      "NaN                              14852\n",
      "NYCHA                             5896\n",
      "SPRING SCAFFOLDING LLC            3496\n",
      "ROCK GROUP NY CORP                3215\n",
      "                                 ...  \n",
      "DARTS CONTRACTING CO                 1\n",
      "23RD AVENUE REALTY                   1\n",
      "NYCB PERMITS                         1\n",
      "88-19 193RD STREET REALTY LLC        1\n",
      "UNITED REALTY CORP                   1\n",
      "Name: Owner Business Name, Length: 17521, dtype: int64\n",
      "\n",
      "Top 10 Owner Street Address:\n",
      "\n",
      "NaN    241160\n",
      "Name: Owner Street Address, dtype: int64\n",
      "\n",
      "Top 10 Owner City:\n",
      "\n",
      "NaN    241160\n",
      "Name: Owner City, dtype: int64\n",
      "\n",
      "Top 10 Owner State:\n",
      "\n",
      "NaN    241160\n",
      "Name: Owner State, dtype: int64\n",
      "\n",
      "Top 10 Owner Zip Code:\n",
      "\n",
      "NaN    241160\n",
      "Name: Owner Zip Code, dtype: int64\n",
      "\n"
     ]
    }
   ],
   "source": [
    "show_vals(\"Owner Business Name\")\n",
    "show_vals(\"Owner Street Address\")\n",
    "show_vals(\"Owner City\")\n",
    "show_vals(\"Owner State\")\n",
    "show_vals(\"Owner Zip Code\")"
   ]
  },
  {
   "cell_type": "markdown",
   "metadata": {},
   "source": [
    "## Fixing owner's informations"
   ]
  },
  {
   "cell_type": "code",
   "execution_count": 131,
   "metadata": {},
   "outputs": [
    {
     "data": {
      "text/plain": [
       "NEW YORK CITY HOUSING AUTHORITY        841\n",
       "NEW YORK CITY ECONOMIC DEVELOPMENT     195\n",
       "NEW YORK CITY DEPARTMENT OF ENVIRON     41\n",
       "NEW YORK CITY DEPT. OF ENVIRONMENTA     20\n",
       "NEW YORK CITY DEPARTMENT OF DESIGN       7\n",
       "THE HOTEL @ NEW YORK CITY                5\n",
       "NEW YORK CITY TRANSIT                    5\n",
       "Name: Owner Business Name, dtype: int64"
      ]
     },
     "execution_count": 131,
     "metadata": {},
     "output_type": "execute_result"
    }
   ],
   "source": [
    "df.loc[~df[\"Owner Business Name\"].isna() & df[\"Owner Business Name\"].str.contains(\"(?i)new york city\")][\"Owner Business Name\"].value_counts()"
   ]
  },
  {
   "cell_type": "markdown",
   "metadata": {},
   "source": [
    "Normalizes a couple of duplicate names"
   ]
  },
  {
   "cell_type": "code",
   "execution_count": 133,
   "metadata": {},
   "outputs": [],
   "source": [
    "df[\"Owner Business Name\"] = df[\"Owner Business Name\"].str.replace(\"NEW YORK CITY\", \"NYC\")\n",
    "df[\"Owner Business Name\"] = df[\"Owner Business Name\"].str.upper()\n",
    "df[\"Owner Business Name\"] = df[\"Owner Business Name\"].str.replace(\".\", '', regex=False)\n",
    "df[\"Owner Business Name\"] = df[\"Owner Business Name\"].str.replace(\",\", '', regex=False)"
   ]
  },
  {
   "cell_type": "markdown",
   "metadata": {},
   "source": [
    "All these are the same thing. Uses clusters to fix"
   ]
  },
  {
   "cell_type": "code",
   "execution_count": 134,
   "metadata": {
    "scrolled": true
   },
   "outputs": [
    {
     "data": {
      "text/plain": [
       "NYC HOUSING AUTHORITY    851\n",
       "Name: Owner Business Name, dtype: int64"
      ]
     },
     "execution_count": 134,
     "metadata": {},
     "output_type": "execute_result"
    }
   ],
   "source": [
    "#may have to use fuzzy/cluster to fix this problem\n",
    "df.loc[~df[\"Owner Business Name\"].isna() & df[\"Owner Business Name\"].str.contains(\"(?i)HOUSING AUTHORITY\")][\"Owner Business Name\"].value_counts()"
   ]
  },
  {
   "cell_type": "markdown",
   "metadata": {},
   "source": [
    "All these states are valid"
   ]
  },
  {
   "cell_type": "code",
   "execution_count": 135,
   "metadata": {
    "scrolled": true
   },
   "outputs": [
    {
     "data": {
      "text/plain": [
       "Series([], Name: Owner State, dtype: int64)"
      ]
     },
     "execution_count": 135,
     "metadata": {},
     "output_type": "execute_result"
    }
   ],
   "source": [
    "df[\"Owner State\"].value_counts()"
   ]
  },
  {
   "cell_type": "markdown",
   "metadata": {},
   "source": [
    "Since the states can be outside NYC, these are probably fine"
   ]
  },
  {
   "cell_type": "code",
   "execution_count": 136,
   "metadata": {
    "scrolled": true
   },
   "outputs": [
    {
     "data": {
      "text/plain": [
       "Series([], Name: Owner Zip Code, dtype: int64)"
      ]
     },
     "execution_count": 136,
     "metadata": {},
     "output_type": "execute_result"
    }
   ],
   "source": [
    "df[\"Owner Zip Code\"].value_counts()"
   ]
  },
  {
   "cell_type": "markdown",
   "metadata": {},
   "source": [
    "## Looking at Phone Numbers:"
   ]
  },
  {
   "cell_type": "code",
   "execution_count": 137,
   "metadata": {
    "scrolled": true
   },
   "outputs": [
    {
     "name": "stdout",
     "output_type": "stream",
     "text": [
      "Top 10 Owner Street Address:\n",
      "\n",
      "NaN    241160\n",
      "Name: Owner Street Address, dtype: int64\n",
      "\n"
     ]
    }
   ],
   "source": [
    "show_vals(\"Owner Street Address\")"
   ]
  },
  {
   "cell_type": "code",
   "execution_count": 138,
   "metadata": {},
   "outputs": [
    {
     "name": "stdout",
     "output_type": "stream",
     "text": [
      "Top 10 Owner City:\n",
      "\n",
      "NaN    241160\n",
      "Name: Owner City, dtype: int64\n",
      "\n"
     ]
    }
   ],
   "source": [
    "show_vals(\"Owner City\")"
   ]
  },
  {
   "cell_type": "markdown",
   "metadata": {},
   "source": [
    "A lot of the nan numbers"
   ]
  },
  {
   "cell_type": "code",
   "execution_count": null,
   "metadata": {},
   "outputs": [],
   "source": []
  },
  {
   "cell_type": "code",
   "execution_count": null,
   "metadata": {},
   "outputs": [],
   "source": []
  },
  {
   "cell_type": "markdown",
   "metadata": {},
   "source": [
    "# Data Profilling for datetime columns\n",
    "\n",
    "\n",
    "Find format problems and outliers in all datetime columns\n",
    "\n",
    "Using openclean's sklearn modules to detect problems and outliers"
   ]
  },
  {
   "cell_type": "code",
   "execution_count": 139,
   "metadata": {},
   "outputs": [],
   "source": [
    "from openclean.profiling.anomalies.sklearn import DBSCANOutliers\n",
    "\n",
    "def findDateOutliers(column_name, eps_setting = 0.05):\n",
    "    datetime_data = ds.distinct(column_name)\n",
    "    print(\"Column: \",column_name)\n",
    "    \n",
    "    for rank, val in enumerate(datetime_data.most_common(10)):        \n",
    "        st, freq = val\n",
    "        print('{:<3} {:>8}  {:>10}'.format('{}.'.format(rank + 1), st, '{:,}'.format(freq)))\n",
    "\n",
    "    print('\\nTotal number of distinct values in {} is {}'.format(column_name, len(datetime_data)))\n",
    "    print(DBSCANOutliers().find(datetime_data))\n",
    "    print(DBSCANOutliers(eps = eps_setting).find(datetime_data))\n",
    "    print('\\n==================================')"
   ]
  },
  {
   "cell_type": "code",
   "execution_count": 140,
   "metadata": {},
   "outputs": [
    {
     "name": "stdout",
     "output_type": "stream",
     "text": [
      "Datetime Data columns:\n",
      "\n",
      "Approved Date\n",
      "Issued Date\n",
      "Expired Date\n",
      "----------------------------\n",
      "\n",
      "Column:  Approved Date\n",
      "1.  01/21/2020 12:00:00 AM         515\n",
      "2.  02/18/2020 12:00:00 AM         515\n",
      "3.  05/27/2021 12:00:00 AM         495\n",
      "4.  02/25/2020 12:00:00 AM         494\n",
      "5.  07/09/2021 12:00:00 AM         491\n",
      "6.  11/08/2019 12:00:00 AM         482\n",
      "7.  04/13/2021 12:00:00 AM         461\n",
      "8.  04/21/2021 12:00:00 AM         460\n",
      "9.  01/24/2020 12:00:00 AM         460\n",
      "10. 03/03/2020 12:00:00 AM         457\n",
      "\n",
      "Total number of distinct values in Approved Date is 5397\n",
      "['']\n",
      "['', '08/07/2019 12:00:00 AM', '02/12/2020 12:00:00 AM', '04/21/2021 12:00:00 AM', '10/12/2021 12:00:00 AM', '08/15/2019 12:00:00 AM', '11/08/2019 12:00:00 AM', '10/01/2021 12:00:00 AM', '01/21/2020 12:00:00 AM', '11/22/2020 12:00:00 AM', '05/27/2021 12:00:00 AM', '11/22/2021 12:00:00 AM', '07/09/2021 12:00:00 AM', '08/27/2019 12:00:00 AM', '12/21/2020 12:00:00 AM', '10/20/2020 12:00:00 AM', '01/12/2021 12:00:00 AM', '03/27/2018 12:00:00 AM', '01/10/2020 12:00:00 AM', '03/03/2020 12:00:00 AM', '02/21/2021 12:00:00 AM', '08/23/2019 12:00:00 AM', '05/03/2018 12:00:00 AM', '10/22/2020 12:00:00 AM', '10/21/2020 12:00:00 AM', '01/24/2020 12:00:00 AM', '12/02/2021 12:00:00 AM', '10/01/2020 12:00:00 AM', '02/25/2020 12:00:00 AM', '02/18/2020 12:00:00 AM', '12/01/2021 12:00:00 AM', '11/12/2019 12:00:00 AM']\n",
      "\n",
      "==================================\n",
      "Column:  Issued Date\n",
      "1.  11/15/2021 12:00:00 AM         715\n",
      "2.  11/04/2021 12:00:00 AM         681\n",
      "3.  05/10/2021 12:00:00 AM         671\n",
      "4.  09/29/2021 12:00:00 AM         663\n",
      "5.  04/15/2021 12:00:00 AM         658\n",
      "6.  05/13/2021 12:00:00 AM         658\n",
      "7.  11/03/2021 12:00:00 AM         657\n",
      "8.  10/07/2021 12:00:00 AM         654\n",
      "9.  10/20/2021 12:00:00 AM         647\n",
      "10. 10/08/2021 12:00:00 AM         632\n",
      "\n",
      "Total number of distinct values in Issued Date is 1254\n",
      "[]\n",
      "['11/04/2021 12:00:00 AM', '09/14/2021 12:00:00 AM', '05/13/2021 12:00:00 AM', '10/12/2021 12:00:00 AM', '11/10/2021 12:00:00 AM', '11/20/2021 12:00:00 AM', '11/02/2021 12:00:00 AM', '12/02/2020 12:00:00 AM', '10/20/2021 12:00:00 AM', '10/22/2021 12:00:00 AM', '06/23/2016 08:15:04 AM', '11/12/2021 12:00:00 AM', '10/01/2021 12:00:00 AM', '11/01/2021 12:00:00 AM', '09/15/2021 12:00:00 AM', '05/10/2021 12:00:00 AM', '02/01/2020 12:00:00 AM', '11/03/2021 12:00:00 AM', '11/20/2020 12:00:00 AM', '09/24/2018 12:00:00 AM', '09/29/2021 12:00:00 AM', '11/15/2021 12:00:00 AM', '10/21/2021 12:00:00 AM', '04/15/2021 12:00:00 AM', '02/22/2020 12:00:00 AM', '10/07/2021 12:00:00 AM', '07/26/2018 12:00:00 AM', '11/02/2020 12:00:00 AM']\n",
      "\n",
      "==================================\n",
      "Column:  Expired Date\n",
      "1.  08/06/2020 12:00:00 AM       6,246\n",
      "2.  12/31/2021 05:00:00 AM       5,618\n",
      "3.  01/31/2021 12:00:00 AM       3,708\n",
      "4.  12/31/2020 12:00:00 AM       3,572\n",
      "5.  01/01/2022 05:00:00 AM       2,874\n",
      "6.  04/01/2022 12:00:00 AM       2,068\n",
      "7.  11/30/2020 12:00:00 AM       1,734\n",
      "8.  10/31/2020 01:00:00 AM       1,691\n",
      "9.  04/01/2021 12:00:00 AM       1,672\n",
      "10. 03/31/2022 12:00:00 AM       1,632\n",
      "\n",
      "Total number of distinct values in Expired Date is 2884\n",
      "['']\n",
      "['', '12/31/2021 12:00:00 AM', '09/30/2020 12:00:00 AM', '07/19/2022 12:00:00 AM', '01/31/2021 12:00:00 AM', '10/31/2020 01:00:00 AM', '01/01/2020 12:00:00 AM', '07/01/2021 04:00:00 AM', '08/03/2019 04:00:00 AM', '04/01/2021 12:00:00 AM', '12/31/2020 12:00:00 AM', '09/30/2020 01:00:00 AM', '04/01/2022 04:00:00 AM', '02/28/2022 12:00:00 AM', '03/31/2022 12:00:00 AM', '06/30/2019 04:00:00 AM', '08/27/2019 04:00:00 AM', '04/01/2018 12:00:00 AM', '04/01/2022 12:00:00 AM', '01/01/2021 12:00:00 AM', '07/25/2019 12:00:00 AM', '08/23/2019 04:00:00 AM', '11/30/2020 12:00:00 AM', '02/02/2022 12:00:00 AM', '12/31/2019 12:00:00 AM', '05/01/2021 12:00:00 AM', '01/01/2022 05:00:00 AM', '08/06/2020 12:00:00 AM', '12/31/2021 05:00:00 AM', '09/30/2021 04:00:00 AM']\n",
      "\n",
      "==================================\n"
     ]
    }
   ],
   "source": [
    "date_cols = []\n",
    "\n",
    "print(\"Datetime Data columns:\\n\")\n",
    "for col in ds.columns:\n",
    "    if 'Date' in col or 'DATE' in col:\n",
    "        print(col)\n",
    "        date_cols.append(col)\n",
    "\n",
    "print(\"----------------------------\\n\")        \n",
    "        \n",
    "for col in date_cols:\n",
    "    findDateOutliers(col, 0.02)"
   ]
  },
  {
   "cell_type": "markdown",
   "metadata": {},
   "source": [
    "## Fixing Datetime columns format"
   ]
  },
  {
   "cell_type": "code",
   "execution_count": 142,
   "metadata": {
    "scrolled": false
   },
   "outputs": [
    {
     "name": "stdout",
     "output_type": "stream",
     "text": [
      "Top 10 Approved Date:\n",
      "\n",
      "01/21/2020 12:00:00 AM    515\n",
      "02/18/2020 12:00:00 AM    512\n",
      "02/25/2020 12:00:00 AM    494\n",
      "05/27/2021 12:00:00 AM    494\n",
      "07/09/2021 12:00:00 AM    491\n",
      "                         ... \n",
      "09/26/2018 08:45:00 AM      1\n",
      "11/03/2017 01:53:00 PM      1\n",
      "01/09/2019 10:55:00 AM      1\n",
      "01/12/2018 12:17:00 PM      1\n",
      "04/26/2019 10:22:00 AM      1\n",
      "Name: Approved Date, Length: 5397, dtype: int64\n",
      "\n",
      "Top 10 Issued Date:\n",
      "\n",
      "11/15/2021 12:00:00 AM    713\n",
      "11/04/2021 12:00:00 AM    679\n",
      "05/10/2021 12:00:00 AM    671\n",
      "09/29/2021 12:00:00 AM    662\n",
      "04/15/2021 12:00:00 AM    658\n",
      "                         ... \n",
      "03/16/2017 12:00:00 AM      1\n",
      "08/21/2021 12:00:00 AM      1\n",
      "09/13/2020 12:00:00 AM      1\n",
      "01/26/2019 12:00:00 AM      1\n",
      "06/22/2019 12:00:00 AM      1\n",
      "Name: Issued Date, Length: 1254, dtype: int64\n",
      "\n",
      "Top 10 Expired Date:\n",
      "\n",
      "08/06/2020 12:00:00 AM    6213\n",
      "12/31/2021 05:00:00 AM    5618\n",
      "01/31/2021 12:00:00 AM    3708\n",
      "12/31/2020 12:00:00 AM    3567\n",
      "01/01/2022 05:00:00 AM    2874\n",
      "                          ... \n",
      "11/07/2022 05:00:00 AM       1\n",
      "06/11/2019 04:00:00 AM       1\n",
      "06/30/2019 04:00:00 AM       1\n",
      "06/03/2020 04:00:00 AM       1\n",
      "11/01/2019 04:00:00 AM       1\n",
      "Name: Expired Date, Length: 2884, dtype: int64\n",
      "\n"
     ]
    }
   ],
   "source": [
    "datetime_column_list = date_cols\n",
    "for col in datetime_column_list:\n",
    "    show_vals(col)"
   ]
  },
  {
   "cell_type": "markdown",
   "metadata": {},
   "source": [
    "Check to see if any columns have values in year-month-day format"
   ]
  },
  {
   "cell_type": "code",
   "execution_count": 143,
   "metadata": {},
   "outputs": [
    {
     "name": "stdout",
     "output_type": "stream",
     "text": [
      "Approved Date \n",
      " Series([], Name: Approved Date, dtype: object) \n",
      "\n",
      "\n",
      "Issued Date \n",
      " Series([], Name: Issued Date, dtype: object) \n",
      "\n",
      "\n",
      "Expired Date \n",
      " Series([], Name: Expired Date, dtype: object) \n",
      "\n",
      "\n"
     ]
    }
   ],
   "source": [
    "for col in datetime_column_list:\n",
    "    print(col, '\\n', df.loc[df[col].str.contains('-', regex=False, na=False)][col], '\\n\\n')"
   ]
  },
  {
   "cell_type": "markdown",
   "metadata": {},
   "source": [
    "### Check the coherence of datetime values"
   ]
  },
  {
   "cell_type": "markdown",
   "metadata": {},
   "source": [
    "These don't make sense, but it's not entirely clear if they should be swapped, or removed or what"
   ]
  },
  {
   "cell_type": "code",
   "execution_count": 151,
   "metadata": {
    "scrolled": false
   },
   "outputs": [
    {
     "data": {
      "text/html": [
       "<div>\n",
       "<style scoped>\n",
       "    .dataframe tbody tr th:only-of-type {\n",
       "        vertical-align: middle;\n",
       "    }\n",
       "\n",
       "    .dataframe tbody tr th {\n",
       "        vertical-align: top;\n",
       "    }\n",
       "\n",
       "    .dataframe thead th {\n",
       "        text-align: right;\n",
       "    }\n",
       "</style>\n",
       "<table border=\"1\" class=\"dataframe\">\n",
       "  <thead>\n",
       "    <tr style=\"text-align: right;\">\n",
       "      <th></th>\n",
       "      <th>Approved Date</th>\n",
       "      <th>Expired Date</th>\n",
       "    </tr>\n",
       "  </thead>\n",
       "  <tbody>\n",
       "    <tr>\n",
       "      <th>0</th>\n",
       "      <td>06/23/2021 12:00:00 AM</td>\n",
       "      <td>06/23/2022 12:00:00 AM</td>\n",
       "    </tr>\n",
       "    <tr>\n",
       "      <th>1</th>\n",
       "      <td>05/06/2021 12:00:00 AM</td>\n",
       "      <td>12/31/2021 12:00:00 AM</td>\n",
       "    </tr>\n",
       "    <tr>\n",
       "      <th>5</th>\n",
       "      <td>09/20/2021 12:00:00 AM</td>\n",
       "      <td>11/01/2021 04:00:00 AM</td>\n",
       "    </tr>\n",
       "    <tr>\n",
       "      <th>7</th>\n",
       "      <td>02/24/2021 12:00:00 AM</td>\n",
       "      <td>04/19/2022 12:00:00 AM</td>\n",
       "    </tr>\n",
       "    <tr>\n",
       "      <th>11</th>\n",
       "      <td>08/10/2020 12:00:00 AM</td>\n",
       "      <td>12/26/2021 12:00:00 AM</td>\n",
       "    </tr>\n",
       "    <tr>\n",
       "      <th>...</th>\n",
       "      <td>...</td>\n",
       "      <td>...</td>\n",
       "    </tr>\n",
       "    <tr>\n",
       "      <th>241439</th>\n",
       "      <td>10/03/2018 12:00:00 AM</td>\n",
       "      <td>10/03/2019 12:00:00 AM</td>\n",
       "    </tr>\n",
       "    <tr>\n",
       "      <th>241441</th>\n",
       "      <td>06/29/2020 12:00:00 AM</td>\n",
       "      <td>07/20/2021 12:00:00 AM</td>\n",
       "    </tr>\n",
       "    <tr>\n",
       "      <th>241442</th>\n",
       "      <td>10/03/2018 12:00:00 AM</td>\n",
       "      <td>11/03/2020 12:00:00 AM</td>\n",
       "    </tr>\n",
       "    <tr>\n",
       "      <th>241443</th>\n",
       "      <td>07/06/2018 12:00:00 AM</td>\n",
       "      <td>09/30/2018 12:00:00 AM</td>\n",
       "    </tr>\n",
       "    <tr>\n",
       "      <th>241444</th>\n",
       "      <td>12/12/2019 12:00:00 AM</td>\n",
       "      <td>12/12/2020 05:00:00 AM</td>\n",
       "    </tr>\n",
       "  </tbody>\n",
       "</table>\n",
       "<p>137171 rows × 2 columns</p>\n",
       "</div>"
      ],
      "text/plain": [
       "                 Approved Date            Expired Date\n",
       "0       06/23/2021 12:00:00 AM  06/23/2022 12:00:00 AM\n",
       "1       05/06/2021 12:00:00 AM  12/31/2021 12:00:00 AM\n",
       "5       09/20/2021 12:00:00 AM  11/01/2021 04:00:00 AM\n",
       "7       02/24/2021 12:00:00 AM  04/19/2022 12:00:00 AM\n",
       "11      08/10/2020 12:00:00 AM  12/26/2021 12:00:00 AM\n",
       "...                        ...                     ...\n",
       "241439  10/03/2018 12:00:00 AM  10/03/2019 12:00:00 AM\n",
       "241441  06/29/2020 12:00:00 AM  07/20/2021 12:00:00 AM\n",
       "241442  10/03/2018 12:00:00 AM  11/03/2020 12:00:00 AM\n",
       "241443  07/06/2018 12:00:00 AM  09/30/2018 12:00:00 AM\n",
       "241444  12/12/2019 12:00:00 AM  12/12/2020 05:00:00 AM\n",
       "\n",
       "[137171 rows x 2 columns]"
      ]
     },
     "execution_count": 151,
     "metadata": {},
     "output_type": "execute_result"
    }
   ],
   "source": [
    "df.loc[(df['Approved Date'] < df['Expired Date'])\n",
    "      &(~df['Approved Date'].isna() & ~df['Expired Date'].isna())][['Approved Date', 'Expired Date']]"
   ]
  },
  {
   "cell_type": "code",
   "execution_count": 152,
   "metadata": {},
   "outputs": [
    {
     "data": {
      "text/html": [
       "<div>\n",
       "<style scoped>\n",
       "    .dataframe tbody tr th:only-of-type {\n",
       "        vertical-align: middle;\n",
       "    }\n",
       "\n",
       "    .dataframe tbody tr th {\n",
       "        vertical-align: top;\n",
       "    }\n",
       "\n",
       "    .dataframe thead th {\n",
       "        text-align: right;\n",
       "    }\n",
       "</style>\n",
       "<table border=\"1\" class=\"dataframe\">\n",
       "  <thead>\n",
       "    <tr style=\"text-align: right;\">\n",
       "      <th></th>\n",
       "      <th>Approved Date</th>\n",
       "      <th>Expired Date</th>\n",
       "    </tr>\n",
       "  </thead>\n",
       "  <tbody>\n",
       "    <tr>\n",
       "      <th>2</th>\n",
       "      <td>08/19/2021 12:00:00 AM</td>\n",
       "      <td>07/20/2022 12:00:00 AM</td>\n",
       "    </tr>\n",
       "    <tr>\n",
       "      <th>3</th>\n",
       "      <td>05/06/2021 12:00:00 AM</td>\n",
       "      <td>04/01/2022 12:00:00 AM</td>\n",
       "    </tr>\n",
       "    <tr>\n",
       "      <th>4</th>\n",
       "      <td>12/14/2020 12:00:00 AM</td>\n",
       "      <td>03/11/2022 05:00:00 AM</td>\n",
       "    </tr>\n",
       "    <tr>\n",
       "      <th>6</th>\n",
       "      <td>05/06/2021 12:00:00 AM</td>\n",
       "      <td>03/31/2022 12:00:00 AM</td>\n",
       "    </tr>\n",
       "    <tr>\n",
       "      <th>8</th>\n",
       "      <td>05/18/2020 12:00:00 AM</td>\n",
       "      <td>02/25/2021 12:00:00 AM</td>\n",
       "    </tr>\n",
       "    <tr>\n",
       "      <th>...</th>\n",
       "      <td>...</td>\n",
       "      <td>...</td>\n",
       "    </tr>\n",
       "    <tr>\n",
       "      <th>241428</th>\n",
       "      <td>09/05/2019 12:00:00 AM</td>\n",
       "      <td>08/18/2020 12:00:00 AM</td>\n",
       "    </tr>\n",
       "    <tr>\n",
       "      <th>241436</th>\n",
       "      <td>12/18/2018 12:00:00 AM</td>\n",
       "      <td>05/06/2019 12:00:00 AM</td>\n",
       "    </tr>\n",
       "    <tr>\n",
       "      <th>241437</th>\n",
       "      <td>09/27/2019 12:00:00 AM</td>\n",
       "      <td>02/28/2021 12:00:00 AM</td>\n",
       "    </tr>\n",
       "    <tr>\n",
       "      <th>241438</th>\n",
       "      <td>11/14/2017 12:00:00 AM</td>\n",
       "      <td>09/17/2018 12:00:00 AM</td>\n",
       "    </tr>\n",
       "    <tr>\n",
       "      <th>241440</th>\n",
       "      <td>03/04/2020 12:00:00 AM</td>\n",
       "      <td>02/23/2021 12:00:00 AM</td>\n",
       "    </tr>\n",
       "  </tbody>\n",
       "</table>\n",
       "<p>103888 rows × 2 columns</p>\n",
       "</div>"
      ],
      "text/plain": [
       "                 Approved Date            Expired Date\n",
       "2       08/19/2021 12:00:00 AM  07/20/2022 12:00:00 AM\n",
       "3       05/06/2021 12:00:00 AM  04/01/2022 12:00:00 AM\n",
       "4       12/14/2020 12:00:00 AM  03/11/2022 05:00:00 AM\n",
       "6       05/06/2021 12:00:00 AM  03/31/2022 12:00:00 AM\n",
       "8       05/18/2020 12:00:00 AM  02/25/2021 12:00:00 AM\n",
       "...                        ...                     ...\n",
       "241428  09/05/2019 12:00:00 AM  08/18/2020 12:00:00 AM\n",
       "241436  12/18/2018 12:00:00 AM  05/06/2019 12:00:00 AM\n",
       "241437  09/27/2019 12:00:00 AM  02/28/2021 12:00:00 AM\n",
       "241438  11/14/2017 12:00:00 AM  09/17/2018 12:00:00 AM\n",
       "241440  03/04/2020 12:00:00 AM  02/23/2021 12:00:00 AM\n",
       "\n",
       "[103888 rows x 2 columns]"
      ]
     },
     "execution_count": 152,
     "metadata": {},
     "output_type": "execute_result"
    }
   ],
   "source": [
    "df.loc[(df['Approved Date'] > df['Expired Date'])\n",
    "      &(~df['Approved Date'].isna() & ~df['Approved Date'].isna())][['Approved Date', 'Expired Date']]"
   ]
  },
  {
   "cell_type": "markdown",
   "metadata": {},
   "source": [
    "Again here it's not clear how a job could be approved before being assigned, or how a job could have it's latest action date  before the Pre-filing date "
   ]
  },
  {
   "cell_type": "code",
   "execution_count": 153,
   "metadata": {
    "scrolled": false
   },
   "outputs": [
    {
     "data": {
      "text/html": [
       "<div>\n",
       "<style scoped>\n",
       "    .dataframe tbody tr th:only-of-type {\n",
       "        vertical-align: middle;\n",
       "    }\n",
       "\n",
       "    .dataframe tbody tr th {\n",
       "        vertical-align: top;\n",
       "    }\n",
       "\n",
       "    .dataframe thead th {\n",
       "        text-align: right;\n",
       "    }\n",
       "</style>\n",
       "<table border=\"1\" class=\"dataframe\">\n",
       "  <thead>\n",
       "    <tr style=\"text-align: right;\">\n",
       "      <th></th>\n",
       "      <th>Issued Date</th>\n",
       "      <th>Approved Date</th>\n",
       "    </tr>\n",
       "  </thead>\n",
       "  <tbody>\n",
       "    <tr>\n",
       "      <th>5</th>\n",
       "      <td>09/23/2021 12:00:00 AM</td>\n",
       "      <td>09/20/2021 12:00:00 AM</td>\n",
       "    </tr>\n",
       "    <tr>\n",
       "      <th>7</th>\n",
       "      <td>06/23/2021 12:00:00 AM</td>\n",
       "      <td>02/24/2021 12:00:00 AM</td>\n",
       "    </tr>\n",
       "    <tr>\n",
       "      <th>12</th>\n",
       "      <td>05/06/2021 12:00:00 AM</td>\n",
       "      <td>01/07/2020 12:00:00 AM</td>\n",
       "    </tr>\n",
       "    <tr>\n",
       "      <th>14</th>\n",
       "      <td>11/16/2020 12:00:00 AM</td>\n",
       "      <td>11/13/2020 12:00:00 AM</td>\n",
       "    </tr>\n",
       "    <tr>\n",
       "      <th>17</th>\n",
       "      <td>08/19/2021 12:00:00 AM</td>\n",
       "      <td>06/29/2018 12:00:00 AM</td>\n",
       "    </tr>\n",
       "    <tr>\n",
       "      <th>...</th>\n",
       "      <td>...</td>\n",
       "      <td>...</td>\n",
       "    </tr>\n",
       "    <tr>\n",
       "      <th>241434</th>\n",
       "      <td>04/26/2019 12:00:00 AM</td>\n",
       "      <td>04/24/2019 12:00:00 AM</td>\n",
       "    </tr>\n",
       "    <tr>\n",
       "      <th>241435</th>\n",
       "      <td>11/07/2018 12:00:00 AM</td>\n",
       "      <td>08/25/2018 12:00:00 AM</td>\n",
       "    </tr>\n",
       "    <tr>\n",
       "      <th>241437</th>\n",
       "      <td>09/30/2020 12:00:00 AM</td>\n",
       "      <td>09/27/2019 12:00:00 AM</td>\n",
       "    </tr>\n",
       "    <tr>\n",
       "      <th>241440</th>\n",
       "      <td>07/10/2020 12:00:00 AM</td>\n",
       "      <td>03/04/2020 12:00:00 AM</td>\n",
       "    </tr>\n",
       "    <tr>\n",
       "      <th>241441</th>\n",
       "      <td>12/23/2020 12:00:00 AM</td>\n",
       "      <td>06/29/2020 12:00:00 AM</td>\n",
       "    </tr>\n",
       "  </tbody>\n",
       "</table>\n",
       "<p>147145 rows × 2 columns</p>\n",
       "</div>"
      ],
      "text/plain": [
       "                   Issued Date           Approved Date\n",
       "5       09/23/2021 12:00:00 AM  09/20/2021 12:00:00 AM\n",
       "7       06/23/2021 12:00:00 AM  02/24/2021 12:00:00 AM\n",
       "12      05/06/2021 12:00:00 AM  01/07/2020 12:00:00 AM\n",
       "14      11/16/2020 12:00:00 AM  11/13/2020 12:00:00 AM\n",
       "17      08/19/2021 12:00:00 AM  06/29/2018 12:00:00 AM\n",
       "...                        ...                     ...\n",
       "241434  04/26/2019 12:00:00 AM  04/24/2019 12:00:00 AM\n",
       "241435  11/07/2018 12:00:00 AM  08/25/2018 12:00:00 AM\n",
       "241437  09/30/2020 12:00:00 AM  09/27/2019 12:00:00 AM\n",
       "241440  07/10/2020 12:00:00 AM  03/04/2020 12:00:00 AM\n",
       "241441  12/23/2020 12:00:00 AM  06/29/2020 12:00:00 AM\n",
       "\n",
       "[147145 rows x 2 columns]"
      ]
     },
     "execution_count": 153,
     "metadata": {},
     "output_type": "execute_result"
    }
   ],
   "source": [
    "df.loc[(df['Issued Date'] > df['Approved Date'])\n",
    "      &(~df['Issued Date'].isna() & ~df['Approved Date'].isna())][['Issued Date', 'Approved Date']]"
   ]
  },
  {
   "cell_type": "markdown",
   "metadata": {},
   "source": [
    "# Data Profilling for City and Other Description\n",
    "\n",
    "Find format problems and outliers in City and Description columns\n",
    "\n",
    "Using openclean's sklearn modules to detect problems and outliers"
   ]
  },
  {
   "cell_type": "code",
   "execution_count": 154,
   "metadata": {},
   "outputs": [],
   "source": [
    "from openclean.profiling.anomalies.sklearn import DBSCANOutliers\n",
    "\n",
    "# Print the ten most frequent values for the 'Vehicle Expiration Date' column.\n",
    "def findDateOutliers(column_name, eps_setting = 0.05):\n",
    "    applicant_data = ds.distinct(column_name)\n",
    "    print(\"Column: \",column_name)\n",
    "    \n",
    "    for rank, val in enumerate(applicant_data.most_common(10)):        \n",
    "        st, freq = val\n",
    "        print('{:<3} {:>8}  {:>10}'.format('{}.'.format(rank + 1), st, '{:,}'.format(freq)))\n",
    "\n",
    "    print('\\nTotal number of distinct values in {} is {}'.format(column_name, len(applicant_data)))\n",
    "    print(DBSCANOutliers(eps = eps_setting).find(applicant_data))\n",
    "    print('\\n==================================')"
   ]
  },
  {
   "cell_type": "code",
   "execution_count": 155,
   "metadata": {},
   "outputs": [],
   "source": [
    "date_cols = [\"Borough\", \"Street Name\"]"
   ]
  },
  {
   "cell_type": "code",
   "execution_count": 156,
   "metadata": {},
   "outputs": [
    {
     "name": "stdout",
     "output_type": "stream",
     "text": [
      "----------------------------\n",
      "\n",
      "Column:  Borough\n",
      "1.  MANHATTAN     104,181\n",
      "2.  BROOKLYN      62,626\n",
      "3.    QUEENS      41,561\n",
      "4.     BRONX      22,068\n",
      "5.  STATEN ISLAND      11,009\n",
      "\n",
      "Total number of distinct values in Borough is 5\n",
      "['QUEENS', 'STATEN ISLAND', 'BROOKLYN', 'BRONX', 'MANHATTAN']\n",
      "\n",
      "==================================\n",
      "Column:  Street Name\n",
      "1.  BROADWAY       6,902\n",
      "2.  PARK AVENUE       4,056\n",
      "3.  5 AVENUE       3,543\n",
      "4.  MADISON AVENUE       2,942\n",
      "5.  3 AVENUE       2,083\n",
      "6.  LEXINGTON AVENUE       1,984\n",
      "7.  FIFTH AVENUE       1,649\n",
      "8.  7 AVENUE       1,465\n",
      "9.  AVENUE OF THE AMERICAS       1,343\n",
      "10. 6 AVENUE       1,333\n",
      "\n",
      "Total number of distinct values in Street Name is 5601\n",
      "['BR 6 STREET', 'BRIGHTON   10 LANE', 'BAYSIDE', 'PPW', 'AVENUE OF THE AMERICAS', 'BOWERY', 'PIER   76', 'BRIGHTON 1 PLACE', 'BRIGHTON 2 PLACE', 'PIER   57', 'LEXINGTON AVENUE', 'CPW', 'MADISON AVENUE', 'BRIGHTON 10 LANE', 'LITTLE WEST   12 STREET', 'RIVERSIDE DRIVE', 'INTERNATIONAL AIRPORT CENTER BL', 'BQE', 'BRIGHTON 5 PLACE', '5 AVENUE', 'BROADWAY', '111 ROAD', 'HHP', 'ESPLANADE', 'FDR', 'BEACH 115 ST', 'METROTECH', 'B  116 STREET', 'BRIGHTON    1 PLACE', 'PARK AVENUE', 'BOULEVARD']\n",
      "\n",
      "==================================\n"
     ]
    }
   ],
   "source": [
    "\n",
    "print(\"----------------------------\\n\")        \n",
    "        \n",
    "for col in date_cols:\n",
    "    findDateOutliers(col, 0.1)"
   ]
  },
  {
   "cell_type": "code",
   "execution_count": 157,
   "metadata": {},
   "outputs": [],
   "source": [
    "from openclean.function.eval.base import Col, Eval\n",
    "from openclean.function.eval.logic import And\n",
    "from openclean.function.value.phonetic import Soundex, soundex"
   ]
  },
  {
   "cell_type": "code",
   "execution_count": 158,
   "metadata": {},
   "outputs": [],
   "source": [
    "upper = ds\\\n",
    "    .select('Borough')\\\n",
    "    .update('Borough', str.upper)"
   ]
  },
  {
   "cell_type": "code",
   "execution_count": 159,
   "metadata": {},
   "outputs": [],
   "source": [
    "from openclean.data.refdata import RefStore\n",
    "\n",
    "refdata = RefStore()\n",
    "city_df = refdata\\\n",
    "    .load('encyclopaedia_britannica:us_cities', auto_download=True)\\\n",
    "    .df()\n"
   ]
  },
  {
   "cell_type": "code",
   "execution_count": 160,
   "metadata": {},
   "outputs": [
    {
     "name": "stdout",
     "output_type": "stream",
     "text": [
      "0          Demopolis\n",
      "1          Sylacauga\n",
      "2               Troy\n",
      "3             Dothan\n",
      "4           Prichard\n",
      "            ...     \n",
      "1956          Powell\n",
      "1957        Riverton\n",
      "1958        Sheridan\n",
      "1959    Rock Springs\n",
      "1960         Buffalo\n",
      "Name: city, Length: 1961, dtype: object\n"
     ]
    }
   ],
   "source": [
    "city_list = city_df['city']\n",
    "print(city_list)"
   ]
  },
  {
   "cell_type": "markdown",
   "metadata": {},
   "source": [
    "# An example of using soundex in openclean\n",
    "\n",
    "However, using soundex for each of the city is too slow, the code below take nearly 4 mins for one sningle city.\\\n",
    "So we should use clustering first and then use hard code to clean the remianing city name that is not in the city_list."
   ]
  },
  {
   "cell_type": "code",
   "execution_count": 162,
   "metadata": {},
   "outputs": [
    {
     "name": "stdout",
     "output_type": "stream",
     "text": [
      "RANK\tCOUNT\tNAME\n"
     ]
    }
   ],
   "source": [
    "brooklyn = ds\\\n",
    "    .select('Borough')\\\n",
    "    .update('Borough', str.upper)\\\n",
    "    .filter(And(Eval('Borough', Soundex()) == soundex('BROOKLYN'), Col('Borough') != 'BROOKLYN'))\\\n",
    "    .distinct()\n",
    "\n",
    "print('RANK\\tCOUNT\\tNAME')\n",
    "for i, entry in enumerate(brooklyn.most_common()):\n",
    "    key, count = entry\n",
    "    print('{}.\\t{}\\t{}'.format(i + 1, count, key))"
   ]
  },
  {
   "cell_type": "markdown",
   "metadata": {},
   "source": [
    "# Data Cleaning for Applicant columns\n",
    "\n",
    "* how to deal with empty values has not decided yet"
   ]
  },
  {
   "cell_type": "markdown",
   "metadata": {},
   "source": [
    "# Check State Column"
   ]
  },
  {
   "cell_type": "code",
   "execution_count": 163,
   "metadata": {},
   "outputs": [
    {
     "name": "stdout",
     "output_type": "stream",
     "text": [
      "Column:  Owner State\n",
      "1.               241,445\n",
      "\n",
      "Total number of distinct values in Owner State is 1\n",
      "['']\n",
      "\n",
      "==================================\n"
     ]
    }
   ],
   "source": [
    "state_col = 'Owner State'\n",
    "findDateOutliers(state_col, 0.1)"
   ]
  },
  {
   "cell_type": "markdown",
   "metadata": {},
   "source": [
    "# Apply similar operation on Owner's Business Name"
   ]
  },
  {
   "cell_type": "code",
   "execution_count": 164,
   "metadata": {},
   "outputs": [
    {
     "name": "stdout",
     "output_type": "stream",
     "text": [
      "Column:  Owner Business Name\n",
      "1.        PR      42,491\n",
      "2.                10,551\n",
      "3.     NYCHA       5,929\n",
      "4.       N/A       3,635\n",
      "5.  SPRING SCAFFOLDING LLC       3,499\n",
      "6.  ROCK GROUP NY CORP       3,223\n",
      "7.  OWNERS REP       2,369\n",
      "8.  PHOENIX SUTTON STR INC       2,237\n",
      "9.  TRI BOROUGH SCAFFOLDING       1,939\n",
      "10. SAFWAY ATLANTIC LLC       1,861\n",
      "\n",
      "Total number of distinct values in Owner Business Name is 17524\n",
      "['', 'SEQUOIA@RE-MGT.COM', 'ST. PAUL CHONGHASANG R.C.C.', '731 M & M DELI GROCERY', '221 W 116, LLC', '30494 REALTY CORP', 'M.J. MARTIN & SON INC.', '157 West 24h Street Lodging LLC', '111-115 NORTH 5TH STREET LLC', 'RICHTER+RATNERCONTRACTING CORP.', 'RFR/SF 17 STATE STREET, L.P.', 'FRICK AND FRACK 2 LLC', 'M.S.T. RANDALL, LLC', 'A&J 19041 111TH ROAD  MANAGMENT LLC', '273 PROPERTIES', '9TH AVE BAKERY', '117-119 LEASING CORP.', '1624 E 12TH ST INC.', 'EASTCHESTER-ASTOR, LLC', 'LTCELECTRIC, INC.', '718-484-7861', 'RIVERATONYCONSTRUCTON.INC', 'HDFC611', '- NONE -', '23-81 21 LAC LLC', '252-254 WEST 38TH STREET LLC', '138-112 LLC', 'INFO@155W19.COM', '--NONE--', 'ARUNA Professional Buuilding, LLC.', '786 CORONA CORP.', 'WESTHAB, INC.', '20721 OWNERS CORP', 'J & F N DELI & GRILL INC.', 'A. TALA LLC', 'C.H 41 LLC', '157-29 LLC.', 'DESIGN 2147', 'north7flats llc', 'STEPH-LEIGH', 'CITY OF NEW YORK (C.U.N.Y.)', '968 I & E LLC', 'ABL478 LLC', '&#9679;&#9679;-&#9679;&#9679;&#9679', '95TH STREET CORP.', 'FEIL - BLS LLC', 'M & H ART GENERAL CONSTR*', 'JOS. H. LOWENSTEIN & SONS, INC.', 'NORTHWIND-GROUP', 'TURN OF RIVER RE & MGMT, LLC', 'XXXX', 'R.C. CHURCH OF ST. LEO', '63 WALL STREET OWNER, L.L.C.', '37-74 104 LLC', 'A&T FISH & CHIPS LLC', '740 5TH AVE, LLC', '125 C LLC', 'RONAL B. CAGAN, P.E.', '114-06 JAMAICA AVE, LLC', '256 W 125TH ST REALTY', '54-56 MANAGEMENT CORP.', '430 WEST 46TH STREET, HDFC %10K MGT', '8658 LLC', 'L&L MAG', '41W35STNYC', 'NYCH+H/BELLEVUE', '4149LLC', 'A & J SUPER FOOD INC', '146 East 65, LLC', 'P&P CONST. & PAINT. CORP', \"HENSON'S 96TH CORP.\", 'THE 1126 54TH STREET TRUST', 'I.M.HOME IMPROVEMANT', '34 WEST 69TH STREET, L.L.C.', 'PLAZA 52, LLC', '251 W 11TH LLC', '2NM REALTY LLC', '589 11TH AVE MANAGEMENT', '48 WALL, LLC', '373/375 REALTY LLC.,', \"KOHL'S INC.\", 'KITCHEN 192, INC.', '5205HYLANBOULEVARDCORPATION', 'H.O. PENN MACHINERY CO., INC.', '175 LLC', '46 MANAGEMENT LLC.', '7 W BURNSIDE LLC', 'SOFIA BROS., INC.', 'LEFFERTS192', '69 ST. MARKS PLACE LLC', '1709-1711 KINGS HIGHWAY REALTY LLC', '203 & 205 PROPERTY CO LLC', \"MACY'S, INC.\", '15 WILSON AVE CORP', '2977-2981 HYLAN BLVD,LLC', '88-06 Llc', '909E 229 .LLC', 'SLOYER-FORMAN, INC.', '956-964 LLC', '5539-181 AND 182 PROSPECT PARK WEST', '3 WEST CLUB', 'W 96 DELI', 'W.H. SUNRISE REALTY, INC.', 'S & D REALTY 8 LLC', 'JSCC/LLC', '311 JEFFERSON STREETLLC', 'MALIN+GOETZ', '169-12 FOCH BLVD LLC', 'BNYD & C', '217 WEST 22ND ST. LLC', 'K.C.M. PLUMBING & HEATING', '46APPRO', 'B &amp; G FOODS, INC', '4 STAR CONTRACTING, INC.', '386 Park Avenue South LLC', '62-60 GCP LLC', 'S.R.K. CONSTRUCTION INC.', '54 COMMERCE STREET CORP.', 'KIOSK 50 CORP.', 'KYLE 132-19 LLC', '1818-1838 AMSTERDAM AVENUE LLC', '140 West 28 Owner, LLC', '104-110 144 LLC', 'LINDEN TOWERS COOP#2 INC', '301 AVE U LLC', '27-10 23 AVE', '235 PARK AVE SOUTH LLC', 'PO BOX 1450', '5015HOLDINGS', '40-17 REALTY, LLC', 'M. MELNICK & CO., INC.', '4444 PPPP CORP', 'DIM SUM GO GO NYC INC', 'HOUSE 39', 'SORBONNECONSTRUCTIONLLC', 'MAZZA & AVENA, CO., INC.', '98 woodhaven properties LLC', '701 Building Company', '196PORTRICHMOND LLC.', '47 CONDOMINIUM ASSOCIATION', 'A.R. WALKER & CO. INC.', 'SAPPHIRE 69TH', 'N.A.', '113-115 EAST 55 OWNER, LLC', 'Chef Katsu Brooklyn Inc.', 'VHS 239, LLC', '428 W. 44TH LLC', '817 INC', 'MP 830 THIRD AVENUE, LLC', '1705 E 17 LLC', 'ROCK 54, LLC', '4-10 WEST 101 ST OWNERS CORP', 'SYDANPOWERSOLUTIONS.COM', '2630 RE INC', 'M&A 222 REALTY LLC', 'BSD 685 NEW YORK PROP. CO LLC', 'E82MM_LLC', 'DAO & DAD LLC', '39 WHITE', '253 LLC', '7540 REALTY INC.', 'C.A.C. INDUSTRIES, INC.', 'SUNNY 33 INC.', 'CROCO LLC', '138 S&H REALTY CORP', '664-672 BECK STREET HOUSING DEVELOP', '5524 3RD AVENUE', '5 EAST 3RD STREET#7 LLC', 'CHIMI CHIMI', 'METROPOLITANFOOTCARE@GMAIL.COM', '76-29 LIJ LLC', 'B&Z REALTY CORP.', 'SANCHO98LLC', '5122 HBH LLC', 'H.G. LEE ARCHITECTS P.C.', '7324-18TH AVE LLC', 'BAY SIDE FUEL OIL DEPOT CORP 1100 GRAND', 'BAPS NEW YORK LLC', 'S.E.A.R. ONE ENTERPRISE INC.', '619 W 143RD ST HDFC', 'G & G DUCT CLEANING, INC.', 'AUM-NY.COM', '216EAST10TH ST.CORP', 'VIVA VIVA', '14726 REALTY LLC', '80 DEKALB', 'LLC.', 'MASJID-E-NOOR, INC', 'WALL REALTY 1017-1020, LLC', 'PIOPIO', '117 DITMAS, LLC.', \"4 SEASONS INT'T MGMT INC\", 'P.B. BROWN, LLC', 'RED Q', 'RIANA, INC.', 'HARLEM27 LLC', 'C.C.M.S.', '138 S & H RALTY CORP', 'EMPIREGROCERY&DELI', '2915 FRB', '598 7TH ST, LLC', '323W88 LLC', 'domino site a / domino site b', 'WWW.01INSURANCE.COM', '5805 LLC', '1991', 'E 135 AND 3RD AVE OWNER', 'R FLUSHING 1 INC', '133 W24 ST CORPORATION', '28-17 Realty Ass.', '161 WILLIAM STREET,LLC', '4MB 136-25 63RD AVENUE LLC', 'J&JMP20 LLC', '73-47 190 STREET LLC', 'UNIT NO.3 CORP', '92-98 LLC', '223 E 25TH ST LLC', '5 CONTINENTAL VENTURES', 'NY 29 WEST LLC', 'A&L 1440 LLC', '135-07 38TH AVENUE, LLC', '6039861', '133 EAST 38TH STREET', 'Z H L GROUP, INC', 'RESIDENZA483', 'ELGHANAYAN-LICHT, LLC', '400 E 77 ST OWNER INC', 'I & T 2053 LLC', '10013 ROOSEVELT AVE LLC', '500 W 148 LLC', '149 NY LLC', 'K.N.T.REALTY LLC', '128 W 138TH ST HDFC', 'E.J. YORK, INC', 'R.A. COHEN & ASSOC. INC.', '502 WEST 152 LLC', '106-24 REALTY CORP', '2077 LLC', '18 MAPLE AVE , LLC', '87-17 97 AVE LLC', '590 MADISON AVE., LLC', '800 NORTHERN BLVD., LLC', '1417-1419 REALTY ASSOCIATES LLC', '29 GREENPOINT, LLC', '59E59 THEATERS', 'R.E.M. RESIDENTIAL', '750 9TH AVE, LLC', '48-29 201 STREET LLC', '1 STOP', 'LOS 3 CHARROS. INC', 'PAPPALARDO & PAPPALARDO', 'FIDA &amp; SON CONSTRUCTION CORPORATION', '545 WEST 146TH ST. INC.', 'M1 VENTURES', 'OREN & IVY LLC', 'AMEX 4008', 'RIGGS PLUMBING & HEATING @58, INC.', 'L.A.B.SPA', '81 B 22 LLC', 'THE PHO 2', '165 BEACH 119 LLC', 'S3 PROPERTY LLC', '3D CONSTRUCTION', '203 MAIN ST. LLC', '225 5th Avenue (NY), LLC', '214-18 REALTY LLC', 'B & A PORRK STORE INC.', '133 E. 58TH STREET, LLC', '44 W 75 LLC', 'R&K HOLDING, INC.', '1025-45 ASSOC', '345 PAS owner LLC c/o RFR realty', 'SUW 4 LLC', 'LEE F. MINDEL, ARCHITECT, D.P.C.', 'UDR, INC.', '230-79 EQUITY INC.', '38 GROUP INC', '225-8TH AVE. APT. CORP.', '20166 TENANTS CORP.', '333 3RD ST CORP', 'JIN & DONG, LLC', 'MKS1259 LLC', '4 NAILS & BEAUTY', 'H2M ARCHITECTS+ENGINEERS', '138 PRINCE STREET #4 NY, NY 10012', 'STEEL EAST 60 LLC', 'SPRING SCAFFOLDING LLC', '1200 lexingtonllc', 'D&E BK LLC.', '9 ST LUKES PLACE LLC', 'EDGE + CO', '30193 LLC', '226 LAFAYETTE CO. INC.', '38 T HOLDING CO. LLC', 'D10 GROUP INC.', 'BH BIL & CO LLC', '10W 32ND REALTY', '1389 BBB LLC', 'T.A. 72ND REALTY INC.', 'HARMIT/E&D', 'WEBSTER 204', '11-25 44TH RD', 'D.G. OF SI INC', '211-38 LLC', '1318-1324 FRANKLIN LP', '8201 3RD AVENUE', '436E149ST', 'CVBI 130 7 AVE S LLC', 'LEXIN NY 551, LLC', 'HAPPY8REALTY', 'A&E CAPITAL, LLC.', '380 2ND', 'LIBERTY 1 CONSTRUCTION', '108 W 123 LLC', '250 W 41ST ST REALTY CORP, SUITE 20', '643 SO. BLVD. REALTY CORP', '56 E 66TH STREET LLC', 'LLNY5', '4065 VICTORY BLVD 10314, LLC', '39TH BODEGA', '414 E LLC', '48-50 WHITE ST. CORP.', '195 COOPER PROPERTY CORP', '1772 ATLANTIC AVE MANAGEMENT INC.17', '350 BERGEN ST OF NY LLC', 'L & E', 'E.W. HOWELL CO, LLC', '936 ST. MARKS, LLC', 'C3PMO, LLC C/O', '109 42 175 ST 2017 INC', '8MDR OF QUEENS, INC', 'MPM 65 LLC', '145 CANAL, LLC D/B/A NEW YORK JEWEL', 'WW', '285NYC LLC', '43&43 CLEANERS', '5 ESTRELLA BAKERY & CAFE', '444-446 E58TH', 'GRGS3 LLC', '1700 LH, LLC', '149-17 REALTY INC', '181 MONTAGUE', 'ANS 1 CORP', '887, LLC', '335-7 LLC', '1275 CORP.', '156-06 ENTERPRISES LLC', 'MMM', '1126 57 LOFTS LLC', '142-38 REALTY LLC', 'CHOICENYPROPERTYMANAGEMENT', '10 W 76 LLC', 'H 317-319 LLC', 'AKJO-26 MANAGEMENT LLC', '446 KNICKERBOCKER AVE-LLC', '379 WEST 125 LLC', '202 RIVERSIDE DRIVE CO.', '1 AVE GROMENT DELI LLC', '41W35ST LLC', '680 FIFTH AVENUE ASSOCIATES, L.P.', 'FLIRT 2', '205-06 48TH AVENUE', 'JU DUO REALTY, INC.', '1668 BH LLC', 'DIGITALGIRLINC.ORG', '1945 E 23RD ST LLC', 'MANA REALTY #3 LLC', '52 WALKER COP', '3T GC LLC', '125-13 LIBERTY ASSOCIATES LLC', '422 E 148TH STREET LLC', '2835 W 15 ST., LLC', 'AVENTIS-72ND LLC', 'B&AE, PC', '428 E. 66TH ST. LLC', '8-11 & 13 43rd road LLC', 'S AND S 2371 LLC', '91 HB LLC', 'Z AND H II REAL ESTATE LLC', '3100 ATLANTIC LLC', 'ROSEN, GLUCK & MAY', '1710 CROSBY LLC & REK 1710 CROSBY L', 'J.W. MAYS INC', '56 WILWOOD LN, LLC', 'WIN 4 LIFE DELI &  GROCERY INC', '10428 MERRICK BLVD INC', 'JSS & YC LLC', '75-79 8TH AVE LLC', '1463-61, LLC', '4334342328', 'SALLY 9 L.L.C.', '39K ORGANIC DELI & KIMCHI', 'BEK 2011 LLC', 'J & A FLP', 'BURHAN1 MANAGEMENT', 'LUXERA, INC.', '--', '1648 E.14 ST. LLC', '304 W89 STREET', '88-36 ELMHURST AVENUE, LLC', '337 MANAGMENT, LLC.', '5421ROOSEVELTAVELLC', '300 ZER LLC', 'Sandy Bergen, LLC  c/o Lisa Ma', '1165 2ND AVE. CORP', '619W46 LLC', '315 W 106TH OWNERS', '718OUTDOOR', 'VASS-STEVENS', 'STAVROS I. MALLIAROS, P.E., P.C.', '35 149 FLUSHING REALTY LLC', 'C SQUARE D & T, INC.', '4840BROAWAY INC', '184 E 7TH ST HDFC', '444 EAST 149 STREET LLC', 'AT&;T', 'I.B. CONSTRUCTION CONSULTING', '108Q LIQUORS & WINES INC.', 'HYE REALTY CO #1', '61-43 LLC', 'Z-A 7 LLC', '89TH JAMAICA REALTY CO.L.L.C', '33380 OWNERS CORP', '11636 203RD ST QN LLC', 'MIDTOWN 45 CONDOMINIUM', 'Mid Bronx Desperadoes Community Housing Corp.', 'W & Z GARDEN LLC', 'MILK AND HOPS 2, LLC', 'E. C. SOLDINI & SONS LLC', '409 AVE T LLC', 'BLDG MANAGEMENT, CO., INC.', 'SC 150 -152 WEST  24 LLC', 'AREC 8, LLC', 'JOSEPH L. BALKAN, INC.', '131-36 40 REALTY INC', 'C & S MART INC', '107-109-111 N 9TH ST OWNERS CORP', '3RD & 85TH LLC', '86-05 LLC', '107-01 157 LLC', 'J.S.B.REALTY INC.', 'G.A.M. REAL ESTATE LLC', 'LIBERTY ENTERPRISES,INC.', 'N/', 'THOR-GO 120-125 RIVERSIDE, LLC', '305 ST MARKS, LLC', '7TH AND 23RD ASSOCIATES, L.P.', '327-329 DEVELOPMENT LLC', '373 lincoln 2017 llc', '1 WEST END AVE LLC', '212-7064258', '11-10 127TH STREET, LLC', '103-10 ROOSEVELT CORP.', 'ONE 5TH AVENUE APT CORP.', '80-164 REALTY, LLC', '363 E. 76TH STREET CORP', 'BCC411', '136-10LLC', 'WEINSTEIN ENTERPRISES, INC.', 'T123 LLC', 'CENTER 1188 LLC', '-- YEAR --', '77-79 ATL AVE, LLC', '266 W 77 ST CORP', 'M.R.O.A.V.', 'Z & L REALTY INC', 'S &amp; S ROOFING, INC.', '250-21 NORTHERN BLVD, LLC', '165 E 66 LLC', 'K.S.K. MECHANICAL CORP.', 'W 1860 LLC', 'RPN MGMT. CO. INC.', '4112 4 AVE LLC', 'ICER OF 145 W129TH ST LLC', '10605 169 STREET LLC', '7301 FOURTH AVE LLC', '301 WOODCLEF AVE., LLC', 'SILKALY M. WOLCHOK LP-1', '357-359 WEST 22ND LLC', '1100 REALTY', '7 OF 8 REALTY CO. LLC', 'BUILDING 89 JD HOUSING DEV.F.COR', 'G.&M. PARTNERS, LLC', 'BELMONT AVE.2321CORP.', 'J WASSER & CO', 'COLUMBIA REIT - 245-249 W 17TH LLC', '113-11 PARTNERS LLC', 'T & P PROPERTY', '2290 SOUTH &amp; FOREST LLC', '86 Street Realty,llc', '20LOCUSTAVE LLC.', '7H REALTYLLC', '69 MURRAY HOUSING CORP.', 'UPTOWN VEG 2', '336 MALCOLM X BLVD, LLC', '43 & 2 PROPERTY CO LLC', '3118MANAGEMENT', 'GOTHAMREALTY2LLC', 'V & J REALTY CO., LLC', '129-135 RIDGE ST. HDFC', '1937 CONTRACTING CO. INC.', 'BERNARD-CHARLES, INC.', 'ANHEUSER-BUSCH', '501WEST156THSTREET  H.D.F.C.', 'TRINITY CHURCH IN THE CITY OF NY', 'CASA81', '749 BECK ST. CORP.', '21214 NORTHERN LLC', '1055 63 LLC', '304 GC LLC', '58-12QUEENS BLVD RETAI', 'MNG 2005, INC', '444 WAREHOUSE ASSOCIATES', 'JBS ASSOCIATES,L.P.', '107 W 86TH ST CORP', 'MC 19 EAST HOUSTON, LLC', 'HDH 3.1 LLC', '61-37 230 STREET LLC', '9107 4TH AVENUE, LLC', '40-04 JUNCTION REALTY, LLC', '127-80 OWNERS CORP', 'RO-ROB CORP.', '2150 HYLAN BLVD ASSOCIATES CORPN.', 'U. SANTINI, INC.', '1065 57 LLC', '535 REALTY COMPANY, INC.', 'ALLEGIANTMGMT@GMAIL.COM', 'I.H1 CONSTRUCTION CORP.', '5537-225 W23 AND 220 W24 MN LLC', '21-23-25 WEST 8TH STREET LLC', 'PARM TRADING CO. OF N.Y.C. INC.', '460-26 BROOME STR LLC', 'AT&amp;T MOBILITY', '38 R HOLDING CO. LLC', 'LIBERTY1', '1281 EAST 70 LLC', 'WESER & WESER, P.C.', '59 GREENWICH', '2101 FOOD', 'D & S GOLDEN DELI & GROCERY', '5921 18 LLC', '406 3 AVENUE, LLC', '27-11 49TH AVE REALTY, LLC', 'KTSA-59EAST80THLLC', '21307 PROPERTY INC', '30 VERNON,LLC', '126UNIVERSITY', '122 EAST 42ND ST., LLC.', 'PROPCO, LLC', '450 PROPERTY OWNER (US) LLC', 'M & G HOUSING CORP.', 'WEBB AVE. 1 LLC', '401-403 57TH ST.REALTY CORP', '124 E 55TH ST. LLC', '4SE CORP', '51 GREENE ST.', '2017W10LLC', 'Pacific Park 38 6th Ave., LLC', '133948LLC', '1542 NY LLC', '577 LORIMER ST. LLC.', 'Our Lady of Miracles, R.C.', 'ROLLIN3LLC', 'ST. JOHN - ST. MATTHEW - EMANUEL LU', 'G&S INSTALLATIONS 111', '4H CONSTRUCTION, INC.', '1711 LEX LLC', 'VIVVI', '587 B FIFTH AVE LLC', '156-158 SKILLMAN CORP', '5512-415 WASHINGTON AVENUE BROOKLYN', 'SRD150LLC', 'NBZ 3RD AVE LLC', 'QAZ2', '14 JAY ST. OWNERS CORP.', 'T&A HOLDINGS, LC', '1872 WASHINGTON LLC', 'A. RUTH &amp; SONS', 'EC HANDS4HEALTH, INC', '.', 'DUSTY  MANAGEMENT  AGENT   FOR  BRI', '421 E 93 Str Corp.', '1575 L ROAD, LLC', 'M3 HOLDINGS I, LLC', '718 809-2553', '192984TH STREET,LLC', '18-20/22 EAST 46TH ST.', '288 BALCOM AVE BRONX NY 10465', 'U TEA NYC01 CORP', 'CHOI&CHOI LLC', 'APT 18C', '1118 LORIMER LLC', '355 39TH ST LLC', '345 WEST88 STREETAPT.CORP', 'US BROWNSVILLE 11, HDFC', '1069 REALTY 05 LLC', '7016 20TH AVE ASSOCIATES', 'NYCHA', 'MAXWELL-KATES, INC', '28 E. 4TH ST. HOUSING CORP.', 'M & M REALTY OF NEW YORK LLC', '9TH AVENUE BAKERY', '24-18 41ST ST LLC', '826 10TH AVENUE CO LLC', 'HALPERN&PINTEL', '316 22ND LLC', '32-45 110 ST LLC', '41-07 95TH ST. REALTY CORP', '1669-79 LLC', 'A.S. MANAGEMENT', \"JOHNNY'S PLUMB & HEAT CONT., INC.\", 'CDMC81 LLC', 'BROADWAY26WATERVIEWLLC', 'MBR/MGR', '165 MX GROUP LLC', 'LAN & BV ,LLC', 'CORATO1 PIZZA RESTAURANT', '647-649 WASHINGTON LLC', '99 CENTS FRSH PIZZA & DELI', '18-11 LINDEN, LLC', '5202 3RD AVE CORP.', '636 WEST 230TH LLC', 'HARLEMUNITED.ORG', '505-507 WEST 23RD OWNERS CORP', 'D.R. CONTRACTING', 'TCA 1978 LLC', 'RICHARDS PLUMBING &amp; HEATING CO INC', '888 DIMSUM INC.', '2154hylan llc', 'FLUSHING 162 REALITY', '477 86THSTREET,LLC', 'VITELLO SEWER WM, H & P SER INC.', 'J.L. HVAC INC.', 'S.M.C.B. ASSOCIATES', 'TCH 10TH ST.,LLC', 'DENTAL365 TRIBECA', '441E87 LLC', 'S AND H LLC', 'A & H DELI AND GRILL', 'FARE & SQUARE PIZZA 23 LLC', 'ONE86 LLC', 'NEWMARK &amp; CO,', 'Mj155LLC', 'MRS.', '73 AVE LLC', '17-18 MANAGEMENT CO. LLC', '135-05 ALDO LLC', '630 W 52ND, LLC', 'GREENBERG & HOFSTEIN, P.C.', 'SHG 3606 LLC', 'QP 365', '932 EAST TREMONT., LLC', 'ABM 1 INC', '1824 Mohegan Ave Intervivios Revoable Trust AG', 'LIBERTY 1 GROUP, LLC.', '21-57 44TH DRIVE LP', '161-02 CROSSBAY BLVD', 'Q18-05 215 ST OWNERS INC.', '1133 40TH', 'JLJ, LLC', 'XHEMA OF N Y INC', '17&24 CORPORATION', 'ST. CLEMENT & ST. MICHAEL', '231-11 JAM LLC', 'N/A`', '3004980', 'H&amp;R BLOCK', '129-155 51ST STREET REAKLTY, LLC', '5504- 301 E 21ST STREET MANHATTAN L', '95 SMOKESHOP DELI JUICE BAR', 'CH CO INC', '2855 MGMT LLC', 'WU 232 LLC', 'CONNORS & CONNORS', 'JKD & ESD, LLC', '&#8453; TAP THAT', '57-02 BROWN PLACE INC.', '14 E 129 LLC', 'SDF-A', '377', '84-70 129TH ST OWNERS CORP', '5TH AVE LOFT CORP.', 'D. K. PROPERTY, INC.', 'B.M.S. REALTY ASSOCIATES, INC.', 'NORTHERN 13770 PROPERTIES, LLC', '4709 5TH LLC', '99 COMMERCIAL ST., INC.', 'E.I.D.P. INC', '20E49LIMONCELLO LLC', 'MA1', 'FARMERS BLVD162 INC.', '31-13 30TH AVE LLC', '1667 REALTY HOLDING, LLC.', '217 49TH STREET', 'MILLER & MILLER', 'R &amp; D CCNTRACTORS &amp; BUILDERS INC', 'RIDGEWOOD REALTY 18,LLC', '744 E 215 LLC', 'CHEN 66 LLC', 'MAXWELL-KATES, INC.', 'RASA6615LLC', '97-101 LLC.', 'management company 555LLC', 'RAM 5 REALTY LLC.', '204-38 45 Road LLC', 'PR', 'F681 LLC', 'PARAMOUNT GROUP INC.A/A/F/O', 'T.V.B.B, LLC', 'DC 9 REALTY CORP.', '109 W 119 ST OWNERS LLC', 'Whitlock Plaza Housing LLC.', '1270 BAY RIDGE PARKWAY DEVELOPMENT', 'L3 CAPITAL LLC', '308-310 REALTY,LLC', '45 Wadsworth Ave LLC', '718-650-9553', 'JDKH, INC.', '2ND STREET NOHO', '1277 PE LLC', '285 FLATBUSH CORP', '389 ASSSOCIATES', 'ELK 33 E 33RD LLC', 'A.S.A.MANAGING PARTNERS, LLC.', '40-16 NATIONAL ASSOCIATES', '2518 40TH AVE LLC', 'YI LU FA CORP', 'TRUMP VILLAGE SECTION 3 INC.', 'A.B.C.D. CONSTRUCTION CORP.', 'DOORTODOORREALTY', 'G&G TUB & TILE', '514-516 EAST 89 CORP', 'HaaGen-Dazs', '1 JRL LLC', 'E. 103 ST & LEX AVE REALTY', '13-19 WHITE STREET CORP.', 'C.R. & S CONSTRUCTION CO', '703 E187TH REALTY CORP', '77 WALLABOUT, LLC', '1711 GRAVESEND', '718-938-0543', '9703, LLC', '743 40LLC', '149 21ST', '235 EAST 235 STREET LLC', '277 VAN SICLEN AVE LLC', '716 E. 224 LLC', '204-38 45 ROAD LLC', 'COMMUNIT19 LLC', '209-15 116TH RD QUEENS NY', '668 AVE, LLC.', '144 E 44TH STREET', '118', 'KETER/ARIA', '1649 BATH AVE BROOKLY NY 11214', 'R.P. CASS, INC.', 'SSEN1 LLC', 'H & J REPAIRA & AUTOBODY INC', '25TH STREET CHELSEA EQUITIES LLC', '2248 EAST 12 HOLDINGS LLC', '7417METROPOLITAN LLC', '67-87 &68-09 BOOTH STREET OWNERS', '2301 7TH AVE H.D.F.C.', 'RIEDELCONTRACTING@GMAIL.COM', 'U & L TECH NY INC', 'D&B 19TH ST LLC.', 'SMH18LLC', 'COLKITT ARCHITECTURE, D.P.C.', 'Q41 CONDOMINIUM', '9110 RH LLC', '1525WHITEPLAINSROAD LLC', '111 WEST 128', 'NEX2U MARKET LLC', 'K & D LLC', 'MAXWELL-KATES', '1690 E 16 STREET', 'STUDIO 16 ARCHITECTURE,PLLC', '212-716-2100', '14th @ Irving Fee, LLC', 'M & D 413 LLC', 'C.K.M.R. CORP.', '2288 ATLANTIC LLC', '233233 COMPANY LLC', '612877', 'ABBASS SHAH', '5201-7 REALTY LLC', 'JMW 88 LLC', '25-09 29 ST LLC', '7 HANOVER FEE OWNER CO LLC', '462 E 137 STREET LLC', 'OHI ASSET (NY) 2ND AVENUE, LLC', '510 CONDO', '2201 NEPTUNE AVENUE, LLC.', '144 MANAGEMENT', '143-40 38TH AVE. CO.', 'FACTORY 380', '132-25 MAPLE AVENUE, LLC', 'WERWAISS &amp; COMPANY, INC.', '109E9 LLC', '1411 IC-SIC PROP LLC C/O CBRE AS AG', 'M.R.S., INC', '63 E 8 BAGEL CORP', 'SAG 233 LLC.', 'ARTTOFRAMES.COM', '9Q4U5E LLC', 'R.A.M.S. MECHANICAL INC.', '438 W 20TH LLC', '111 CPN LLC', 'HJ KALIKOW & CO., LLC', '116-15 GMV CORP', '99 OUTLET', 'M & L MILEVOI', '86 GRAPHIC BOX,INC', '0WNERS REP', 'ARC NYC570SEVENTH, LLC', '630 Z LLC', '16 EAST 84, LLC', 'CA2952THIRDAVENUELLC@GMAIL.COM', 'Methodist Home for Nursing and Rehabilitation', '509 W 34, L.L.C.', 'M.S.T. WHITTIER, LLC', '-------------------------------', '5 PENN PLAZA LLC', 'G05 INC.', 'B2 CODE CONSULTANTS CORP', '281 3RD AVE, LLC', 'ONE40FRANKLIN CONDO', '201 W. 95TH ST RLTY LLC', 'GRAMERCY 29 APTS. INC.', '1300 E. 222ND LLC', 'L & M HOMES LLC', 'T-C 475 FIFTH AVENUE, LLC', '1080 38TH LLC', 'C & P CLEANERS, INC.', 'PB METRO, LLC FLOOR 9 #919', 'CORONALOCKSMITH&amp;HARDWARE', '135 E.B. PROPERTY, INC.', '454 3RD ST. TENANTS CORP.', '61-19 FLUSHING REALTY, LLC', 'BAY ST 70 LLC', 'A&S 2929 LLC', 'KNICKERBOCKER 427, LLC', 'SBK REALTY CO. INC', '7001 EAST 71 SR STREET LLC', '25-27 35TH ST', 'K2 HARDWARE, INC', 'THE 1896, STUDIOS & STAGES LLC', '180/182 BORINQUEN INVESTOR, LLC', '405 WEST 238 ST LLC', '150-21 22 AVE INC', '945 PRESIDENT STREET,LLC', 'SKRATCH97', '991 M. P. RELATY CORP', 'REMAS REALY,INC.1', '34 STEINWAY GROUND, LLC', 'QUIETBARRESTAURANT@GMAIL.COM', '244 AMHERST', '414B45 LLC', '561 FOURTH AVE LLC', 'R.F. STUART, REAL ESTATE', '270 WEA', '232ND LLC', 'JAY E. BUTLER, P.E.', '51 Hamilton PL Realty Corp', '1965 WILLIAMSBRIDGE LLC', '861 E. 2ST STREET REALTY,LLC', '25-02 LLC', 'LEXINS38 LLC', 'CITY DEES STORES INC. D/B/A DE JANEIRO', 'J2 147-07 94TH AVENUE LLC', '27 EAST 21 STREET, LLC', 'ECO10 LLC', '1042 UTOPIA', '400 EAST 58TH ST, LLC', 'MAUTNER-GLICK CORP.', '33-01Hunterspoint Ave Associates, LLC', 'M. SOPHER & CO., LLC', 'L. KNIFE & SON, INC.', '165N D&M LLC', 'ERIN CONSTRUCTION & DEV. CO. INC.', '305/72 OWNERS CORP.', 'AT&amp;T', '163 E. 73 ST. LLC', 'NEW YORK FISH & VEGETABLE INC.', '521 MAD', '2414 BROADWAY', '255 WEST 108 ST LLC', '254-258 W 35 ST. LLC', '315 OWNERS', 'PIZZA HOUSE 1 INC.', '210-220 E. 22ND STREET SSGA OWNER,', 'SUITE 103', 'JNK-42, LLC', '141 WEST 144 STREET REALTY CORP.', 'COMMERCE-HALSEY, LLC', '149-56 REALTY LLC', '424 E 82nd St llc', 'ACP BK 1 LLC', '1270 NY LLC', '304-310 W. 14 REALTY LLC', '5501 - 1153 & 1159 PRESIDENT STREET', 'J & M PIZZA NY CORP', '1517 54TH ST LLC', '45-17 21ST ST. CONDOMINIUM', '3960 54TH STREET INC', '948 NEW YORK LLC', 'GERALD J. CALIENDO, R.A., P.C.', 'ELY2001LLC', 'NALPAK1196 COMPANY', 'C + THK INC', 'MAUTNER-GLICK CORP', '212-681-9021', 'FICESCO19WILBUR LLC', '147-32 JAMAICA AVE. LLC', '1741 VICTORY BLVD, CORP.', 'TL & T LLC', 'DAVE FRIEDMAN 1,LLC', '314 W LLC', '&#8453; KARLIE MARIE SANTUCCI', '38 REALTY INC.', '902 Jennings Street Housing Development', 'KRIM & KRIM, P.C.', '306DOLDRR', 'INSPIRON, INC.', '99-12 65TH ROAD, LLC', '4 Park Avenue Associates LLC', 'R.R. MALLIA LLC', 'P.G.S. NY INC.', 'SDC-37LLC BURGERIM ASTORIA', 'RNA House, Inc.', 'Jackson 2524, LLC.', '6462612614', '55 97 PL LLC', '47 EAST 7 LLC', '59-61MORNINGSIDE AVE.371W120TH STRE', 'W.&M. OPERATING, LLC', 'ZHENG&ASSOCIATES,LLC', '145SMITH', '98 CONSTRUCTION INC.', '724 FIFTH TIC OWNER I LLC', 'M & Y REALTY', 'ABM CONSTRUCTION 1 INC.', '100 LAFAYETTE, LLC.', '307 East 162nd Street LLC', 'URBANMODESTY.COM', '152-11 136 AVE LLC', '13220 JAMAICA AVE BLS', 'KHALEESI43 LLC', '207-12 NORTHERN BLVD', 'EBRON USA, INC.', 'F.M. RING ASSOCIATES, INC.', 'ALI DELI INC, 75 DELI & GROCERY', 'CRP 88 EAST 111TH STREET LLC', '20 W 33RD', '2250 86TH ST LLC', '933 INC', 'Tuck-it-Away', '4121 CHURCH MEAT CORP DBA ASSOCIATED SUPRMK', 'INDIVIDUAL/SOLE-PROPRIETOR', '101 CLAY LLC.', 'PML I LLC', '135-46-56 LEFFERTS BLVD, LLC', '20/20 CONVENIENT', 'SUL 620/564 LLC', '5531-321 EAST 22ND STREET MANHATTAN', '337DEGRAW LLC', 'PEREXPERTS@GMAIL.COM', \"WOO'S REALTY 1668 VNW LLC\", 'E & S AND SONS CORP', '158TH ST &amp; RIVERSIDE DR. HOUSING CO', '111 EAST 10TH STREET, INC.', 'R. A. COHEN & ASSOCIATES, INC.', 'JP MORGAN CHASE BANK, N.A.', '1394 B.P.R. REALTY CORP', 'R.RANALLO, LLC', 'ST. JOSEPH-ST. THOMAS ST. JOHN NEUM', 'ZAPCO 1500 INVESTMENT, L.P.', '132-05 LIBERTY AVE CORP', 'THE 38-40 LLC', 'KING 888 INC', '130-20 FARMERS LLC', 'JUNOONLOUNGE&amp;RESTRANT', '212-737-7100', \"PICKLE'S&amp;OCIVES INC\", 'M. SOPHER AND CO.', '42 W. 17TH ST. HOUSING CORP.', '205 WEST 19TH ST CORP,', '39-01 QB LLC', '25-13 LIC LLC', 'BNYD &amp; C', '1539-1547 PITKIN AVE REALTY LLC', '120-10/12 85TH AVE. OWNERS CORP.', '984 BERGENLLC', '139 WEST 19TH ST. CO., L.P.', 'M&AA Lin, Inc.', '187-11 LINDEN BLVD LLC', 'H&Z BUILDING CORP.', 'BONOMO & SONS. INC.', '8233 LLC', 'CAPRIETTA-ELLIOTT', '587  B FIFTH AVE LLC', 'THE 608-616 E. 7TH ST. CONDO', 'ALL STAR 1 LLC', 'W T C  CONSTRUCTION CO. INC.', 'B K MOOKIM  LLC.', 'FASBUILDINGCORP.', '147 CORP', '1400 BROADWAY', 'J & D EXPEDITING ENT, INC.', 'G05 INC', 'A + NAIL SPA INC.', '224 REALTIES', 'W57 SA LLC', '10710 142 STREET HOLDINGS LLC', '133-43 35 AVE LLC.', 'V&J SORIANO, INC.', 'K & BH PLUMBING & HTG INC', '150GREENESTREETCORP@GMAIL.COM', 'SEICHO-NO-IE', 'LOVPRETT.CONSTRUCTION', 'TRANEL 1, LLC', 'WOODHAVEN 77, LLC', 'AGL INDUSTRIES.COM', 'NBLA173', '212 8650600', '1566 61 LG LLC', 'ROZA 14W', 'SH5 CONSTRUCTION CORPORATION', 'MEMO-COGEN, INC.', 'J. GIARNELLA &amp; SONS II, INC.', '2720 CLAFLIN LLC', 'C.H. 39 REALTY LLC', '3620 COMPANY', \"JOHN'S PLUMBING & HEATING, INC.\", 'AC & C LLC', 'SELF-EMPLOYED', 'N/A', '2 RECTOR STREET LLC', '166 E. 96 ST. OWNERS CORP.', 'SITE 2 DSA OWNER LLC', '9902 212 STREET LLC', '1825 ATLANTIC AVENUE, L.P.', 'UNIVERSALHOMEREMODELERS', 'HHH.USA. INC.', 'PETRACCA & SONS,INC.', '580 LLC', 'S.W.MANAGEMENT LLC', '61-02RIDGEWOOD LLC', 'A.D. REAL ESTATE', '28TH STREET PROPERTIES', 'MARRIA LLC, MATTA LLC, METTIS LLC', 'JUNEE&K.CORP', 'QUEENS BLVD. 40TH OWNERS CORP', '5540 - 409-421 14TH STREET BROOKLYN', '140-25 QUEENS BLVD LLC', 'M.G.R. RESTORATION INC.', '109-05 120TH STREET, LLC', 'F.I. LANDSCAPING CORP D/B/A F. I. C', '109-01 INC', '595 BAY LLC', '11 EAST 71ST STREET', 'MZI 2 FAST FOOD CORP', 'D.H.E. COMPANY, INC.', 'SKY 51 LLC', 'RP81 MERCER, LLC', 'B & G FOODS, INC', '81ST REALTY CORP.', '140 BW LLC', 'DANNY 2 CLEANERS', '1074 Nostrand ManagementLLC', 'Q&Z 138 ST PAULS AVE LLC', 'P&amp; R  CP LLC', '156-46 89TH LLC', '140REMSENLLC', '41 GROCERY DELI & GRILL CORP', '2 GRILLS AND A STOVE LLC', '39 EAST 52 ST', 'NY2230 LLC', '29-76 REALTY CO. LLC', '470 LAFA LLC', 'MEDHOLDING188', '71-18 LLC', 'H&W 268 LLC', 'CO9010 LLC', '1960 E 8 LLC', '29-24 30AVE LLC', 'KINGSLAND310 REALTY INC.', '1ST EXCAVATION GROUP OF NY', 'F AND T GROUP', '646-292-4924', '90-30 161 STREET ASSOCIATES', '126-8 FIFTH AVENUE, LLC', 'H20 LLC', '1417 E24TH LLC', '1974 EAST 21 LLC', '117-119 EAST 7TH ST LLC', 'L AND L 68 GREENE REALTY CO LLC', 'ECKSTROMNYC.COM', '9128 LLC', '918KINGSHIGHWAYLLC', 'M.I. TIERRADEABLE', '475611823', '5 BEEBE LLC', '811 E 178 ST REALTY CORP', 'IFARCO 349/119 LLC', '6215 14 AVE LLC', 'CAPITAL ONE, N.A.', '624 West Owners Corp.,', 'EB153 REALTY, INC.', '371CSBK LLC', 'PCF8INC', '143-51 ROOSEVELT AVE. CO.', 'OCEAN  USA  TRADING  INC', '74 UP INC', '4324 LOT LLC', '9300 REALTY', '2290 SOUTH & FOREST LLC', 'MSD PARTNERS, L.P.', 'CS 393 LLC', '225W13, LLC', 'Team Work Foundation1', 'BUILD360', '217 NY, LLC', '155-157 WEST 74TH REALTY, LLC', 'MG2', '250-254 WEST 82ND OWNERS, INC', '430-36 E. 72 ASSOCIATES, L.P.', 'A & K NEW YORK #1 CORP', '77 79 ATL AVE LLC', 'W.&amp;M. OPERATING, LLC', 'ALFA GROUP INC 1', '53-10-102 LLC', 'DTLS.ARCHITECTURE', '99 CENTS & UP STORE', '157-06 LINDEN BLVD CORP', '4 HAMILTON LLC', 'CBRE AS AGENT FOR OAC 550 OWNER LLC', '40 EAST 66 2B LLC', 'RAYMOND & STEVEN, INC.', '1023 WATERBURY CORP', 'CHIA-DER WU, MD,PC', 'BAY 34 LLC', '85-10 34TH AVENUE APARTMENT CORP.', '293 HENRY LLC C/O ROSE & ROSE', '1450-1456 OWNERS CORP.', 'KL1005 LLC', '1841884THAVELLC', 'E T MGMT', 'A.A.D. CONSTRUCTION CORP.', '39 W 29TH STREET OWNERS CORP', '830-843/4 BDWY OWNERS CORP', 'NEW 99 CENTS & UP GIFT SHOP LLC', '714 EAST 2ND ST. LLC', '500-512 SEVENTH AVENUE, L.P.', '286 E 149TH ST REALTY CORP.', '72 LLC', '212-484-5803', \"J'S ON THE BAY\", 'LAM & LAM', '7 W 24TH ST LLC', 'VENTURALANDCORP', '11 SCHERMERHORN ST. APT. CORP.', 'CHAVEZ FAMILY TRUST 2016', '18-05 215TH ST. OWNERS INC.', 'FABRICO ENTERPRISES.INC.', '268 W REALTY INC.', 'G.A. WINDOWS, INC. D/B/A/ ADLER WIN', 'PIER29LOFTSCORP.', 'R&R', 'LIU 917 LLC', 'NATURE MARKET 2', '4112 49 ST LLC', '332 ELLL', 'L1C CORP.', 'DELTAMER, INC.', '580 SENECA B.H. LLC', '1290 MADISON', '986771023', '561 GRAND ST LLC', 'BUILD 360', 'N.E.R.V.E Inc', '3801 YKY LLC', '63/64 STREET ASSOCIATES', \"ST. MARK'S U M C\", 'CONSUMERMOJO.COM LLC.', 'ROCK GROUP NY CORP', 'H & M REALTY GROUP INC', 'JET 383 LLC', 'VUTEO 273', 'S.T.H. CONSTRUCTION', '118 & 120 HUDSON STREET, LLC.', '741 VAN DUZER ST LLC', '47-351 OPERATING CORP.', '986 PUTNAM AVE HDFC', '10540 CROSSBAY LLC', 'M-H REALTY CO. #6, LLC', '144 12 LLC', '(718)541-0701 MANAGEMENT LLC', 'CALLEN-LORDE', 'C & R CONSTRUCTION/REN INC.', 'FRANZBLAU TRUST HOLDINGS - 402 W 47', '334-340 HOTEL MANAGEMENT', 'A & T ENGINEERING, P.C.', 'HOTEL 99', 'CONTELLO TOWERS NO 2 CORP.', 'LIN 5929 LLC', 'G. BAUER INC.', 'MS 2017 LLC', '4MATIC CONSTRUCTION CORP.', '230-30 BDS LLC', '103 Varet Management, LLC.', '311 W 83RD ST HOUSING CORP.', 'VA & VK LLC', '89 MURRAY', '17 ELDRIDGE ST. CORP.', 'WALTER T. GORMAN, P.E., P.C.', '69 E 91 OWNER LLC', 'VINESKI-MAY PLB & HTG, L.L.C.', '5537-225 WEST 23RD AND 220 WEST 24T', 'RP1185 LLC', 'KALIMAN WEST 20 ST. LLC', 'Philp & F LLC', '51 UNITED CORP', 'GAGAN G.C. INC', 'DVIR MOG 18 INC.', '5TH AVE DB LLC', '29-24 21ST AVE LP', '866 LEX, LLC', '7014502380', '1079-83 60TH STREET LLC', 'TROPICAL JADE 2', 'A1EXPEDITERS', 'CPS 5 LLC', '124 SCOTT AVE , YONKERS , NY 10704', 'LAZARUS 5, LLC', '30-49 47TH STREET', 'NIKA93LLC', '806F LLC', '5510 13 REALTY LLC', '2362 ATLANTIC LLC', 'I-HOP', 'WEST 38TH ST. ASSOCIATES', 'J.J.A. HOLDING CORP', 'CONSERVATIVE SYNAGOGUE ADATH ISRAEL OF RIVERDALE', '5 PENN PLAZA, LLC', '4168 41ST STREET REALTY LLC', '83-1895272', 'F&F SUPPLY, INC.', 'POP POT NOODLE & TEA CAFE INC.', 'A.R. CONELLY INC.', 'PREPARER', 'SURF BBQ S.I., LLC', '14730 REALTY LLC', 'S & A STEEL FABS INC.', 'CCY168 LLC', 'AT&T', '3 INDUSTRIES CORP', 'Th New York Public Library', '202-20 REALTY CORP.', '245 EAST 80TH ST, LLC', '56TH AND PARK (NY) OWNER, LLC', 'P. H. WORKS INC', '2074 WHITE PLAINS RD. BLDG., LLC', 'Upper East Side NURSING AND REHABILITATION CENTER', '2 DOGZ 2 GO', '82 ST PROP INC', 'M3 Holdings, LLC', '410 St Nicholas Property LLC', 'SUMAIDA+KHURANA', '#55', 'WWK 140 Bay Ridge LLC', 'GENGXIN168E&MLLC', '27E20 LLC', 'A&T 290,LLC', '131 PRINCE COOPERATIVE, INC.', 'R. A. COHEN', 'A&R 1392 REALTY, LLC', 'ALISON SCHNEIDER(HOMEOWNER)', 'RORO 414 CORP', 'RONG YU 86 LLC', '1812 E 18 ST PROPERTIES LLC', '75 EAST END OWNERS, INC.', 'EL GRAN COFFEE SHOP 2', '253-17 LLC', 'F.S.D SHIN CORP.', 'A. RUTH & SONS', '210983ST', 'BR52 LLC', '644 ress LLC', '888 BROADWAY', '112-14 208 ST LLC.', '300 AVE Y LLC', 'WOLLMUTHMAHER&DEUTSCH', '5201 12TH AVENUE REALTY', '48TH STREET', '26-26  14TH STREET', '184 COLUMBIA HEIGHTS, INC.', '83-30 118 OWNER I LLC', 'R & J ACQ LLC', 'Underhill-Washington Equities', '132-70 SANFORD AVENUE, LLC', 'BPC GREEN, L.L.C.', 'BW 450 ST. MARKS, LLC', 'J.S.I.SERVICE CORP', 'Jackson35LLC', 'PROLOGIS, INC.', '513E87LLC', '-', '1263BROADWAYLLC', '135 JK REALTY GROUP', 'EXPEDITING 4 U', 'MZXGROUPINC@GMAIL.COM', 'K & AA LIN INC', 'CA 413 86TH ST LLC', 'GRANDLOFTCORP@GMAIL.COM', 'C & H REALTY NY CORP.', 'SR 788 EAST 163 STREET', '27-24 JACKSON AVE., LLC', 'GME 22 E.41ST ST LLC', '2165 86 ST., LLC', '100 WEST 121 ST HDFC', '311313 LLC', '99-10 218 ST LLC', '104-67 41 AVE, LLC', '1420 58 LLC', '46-71 TENANTS CORP.', '2083 HYLAN BLVD. LLC.', '17 MESEROLE STREET']\n",
      "\n",
      "==================================\n"
     ]
    }
   ],
   "source": [
    "bn_col = \"Owner Business Name\"\n",
    "findDateOutliers(bn_col)"
   ]
  },
  {
   "cell_type": "markdown",
   "metadata": {},
   "source": [
    "# Using clustering for Business Name takes too much time, we can only clean those empty data for now "
   ]
  },
  {
   "cell_type": "code",
   "execution_count": 165,
   "metadata": {},
   "outputs": [],
   "source": [
    "df[bn_col] = df[bn_col].replace(['N/A', '', 'NA','NONE'], [None,None,None,None])"
   ]
  },
  {
   "cell_type": "code",
   "execution_count": null,
   "metadata": {},
   "outputs": [],
   "source": []
  },
  {
   "cell_type": "markdown",
   "metadata": {},
   "source": [
    "# Data Profilling for applicant columns\n",
    "\n",
    "Find format problems and outliers in all applicant columns\n",
    "\n",
    "Using openclean's sklearn modules to detect problems and outliers"
   ]
  },
  {
   "cell_type": "code",
   "execution_count": 166,
   "metadata": {},
   "outputs": [],
   "source": [
    "from openclean.profiling.anomalies.sklearn import DBSCANOutliers\n",
    "\n",
    "# Print the ten most frequent values for the 'Vehicle Expiration Date' column.\n",
    "def findDateOutliers(column_name, eps_setting = 0.05):\n",
    "    applicant_data = ds.distinct(column_name)\n",
    "    print(\"Column: \",column_name)\n",
    "    \n",
    "    for rank, val in enumerate(applicant_data.most_common(10)):        \n",
    "        st, freq = val\n",
    "        print('{:<3} {:>8}  {:>10}'.format('{}.'.format(rank + 1), st, '{:,}'.format(freq)))\n",
    "\n",
    "    print('\\nTotal number of distinct values in {} is {}'.format(column_name, len(applicant_data)))\n",
    "    print(DBSCANOutliers(eps = eps_setting).find(applicant_data))\n",
    "    print('\\n==================================')"
   ]
  },
  {
   "cell_type": "code",
   "execution_count": 167,
   "metadata": {},
   "outputs": [
    {
     "name": "stdout",
     "output_type": "stream",
     "text": [
      "Applicant Data columns:\n",
      "\n",
      "Applicant License #\n",
      "Applicant First Name\n",
      "Applicant Middle Name\n",
      "Applicant Last Name\n",
      "Applicant Business Name\n",
      "Applicant Business Address\n"
     ]
    }
   ],
   "source": [
    "date_cols = []\n",
    "\n",
    "print(\"Applicant Data columns:\\n\")\n",
    "for col in ds.columns:\n",
    "    if 'Applicant' in col:\n",
    "        print(col)\n",
    "        date_cols.append(col)"
   ]
  },
  {
   "cell_type": "code",
   "execution_count": 168,
   "metadata": {},
   "outputs": [
    {
     "name": "stdout",
     "output_type": "stream",
     "text": [
      "Applicant Data columns:\n",
      "\n",
      "Applicant License #\n",
      "Applicant First Name\n",
      "Applicant Middle Name\n",
      "Applicant Last Name\n",
      "Applicant Business Name\n",
      "Applicant Business Address\n",
      "----------------------------\n",
      "\n",
      "Column:  Applicant License #\n",
      "1.    032158       3,950\n",
      "2.    607447       3,506\n",
      "3.    610440       3,329\n",
      "4.    617232       2,374\n",
      "5.    606141       2,371\n",
      "6.    609527       2,225\n",
      "7.    616234       2,103\n",
      "8.    018914       2,008\n",
      "9.    608211       1,989\n",
      "10.   620254       1,786\n",
      "\n",
      "Total number of distinct values in Applicant License # is 9098\n",
      "['607447', '555555', '616836', '999999', '610440', '618253', '609527', '602375', '606141', '032158']\n",
      "\n",
      "==================================\n",
      "Column:  Applicant First Name\n",
      "1.   MICHAEL       7,879\n",
      "2.   WILLIAM       6,720\n",
      "3.    JOSEPH       6,034\n",
      "4.  CHRISTOPHER       5,212\n",
      "5.      JOHN       5,202\n",
      "6.    ROBERT       4,519\n",
      "7.  SIMRANPAL       3,326\n",
      "8.    THOMAS       3,102\n",
      "9.     JAMES       2,907\n",
      "10.    FRANK       2,777\n",
      "\n",
      "Total number of distinct values in Applicant First Name is 3394\n",
      "['SENIA DE DIOS', 'MICHAEL KRAIWOOT', 'CARMINE            A', 'ROBERT', 'YU MING YE', 'CHRISTOPHER', 'A K', 'FRANCISCO ALEXANDER', 'MOHAMMED  S.', 'MOHAMMAD  A.', 'ANTHONY', '900 3RD AVENUE', 'MIERANDJANSHARMA', 'MAO  J', 'LASANTHA PANTHIYE', 'M A', 'GAGANDEEP', 'MOHAMMAD M.', 'ZE-ZHEN', 'JOHN', 'UNG-JIB', 'GRID-DAS', 'BUILD002', 'CONSTANTINE (GUS)', 'YUNG-HO', 'SHIH-CHIEH', 'PO SHENG', 'STEVE LIANG FU', 'PHILIP', 'NICK XIAN DENG', 'CHUN-HSIUNG', 'SIMRANPAL', 'MAHAMEDSHEHJAD', 'WILLIAM', 'YOSSEL LICHTMAN', 'ALLEN/ALEYDA/DARLENE', 'CHRISTOPHER H.', 'SH ISHI', 'SIN FANG FANNY', 'GEORGE', 'JOSEPH-MARCO', \"RAYMOND ''COLIN''\", 'SHOW-LAIN', 'JOSEPH', 'JONATHAN', 'MICHAEL', 'HYUN  JUNG']\n",
      "\n",
      "==================================\n",
      "Column:  Applicant Middle Name\n",
      "1.               241,342\n",
      "2.       GIL         103\n",
      "\n",
      "Total number of distinct values in Applicant Middle Name is 2\n",
      "['', 'GIL']\n",
      "\n",
      "==================================\n",
      "Column:  Applicant Last Name\n",
      "1.     SINGH      19,694\n",
      "2.      KAUR       4,598\n",
      "3.    DOWNES       3,950\n",
      "4.    LAFFEY       3,506\n",
      "5.       HSU       2,398\n",
      "6.     LYNCH       2,259\n",
      "7.    SIWIEC       2,225\n",
      "8.     ADLER       2,104\n",
      "9.    LEVINE       2,028\n",
      "10.     SUSI       2,008\n",
      "\n",
      "Total number of distinct values in Applicant Last Name is 6288\n",
      "['', 'PULETTI, JR.', 'VITTORIA  JR.', 'BUILD002', 'KAUR', 'DEL MONACO JR', 'ST. ONGE-CASAVANT', 'DE LA ROSA', 'TOMAI, JR.', 'MEYERS/AUSTIN/RAPOSO', 'L DE LA LUZ GONZALEZ', 'CONTO, JR.', 'ROSA , JR.', 'MOSSO COSS', 'VOLPE JR.', 'BARBARIA JR.', 'ALDEN JR.', 'DE ROSS             III', 'AKRAM  GONDAL', 'DE LA CRUZ', 'URBINATI, JR.', 'ALCANTARA LIRIANO', 'SINGH', 'SISCA III', 'ALMOG - ARAZI']\n",
      "\n",
      "==================================\n",
      "Column:  Applicant Business Name\n",
      "1.  EVEREST SCAFFOLDING INC       4,055\n",
      "2.  ROCK GROUP NY CORP       3,530\n",
      "3.  SPRING SCAFFOLDING LLC       3,503\n",
      "4.  CORE SCAFFOLD SYSTEMS INC       2,319\n",
      "5.  PHOENIX SUTTON STR INC       2,235\n",
      "6.  SILVERCUP SCFFLDNG I LLC       2,104\n",
      "7.  ARSENAL SCAFFOLD INC       2,010\n",
      "8.  SAFWAY ATLANTIC, LLC       1,988\n",
      "9.  NATIONAL MAINTENANCE, INC       1,594\n",
      "10. PLATINUM SERVICES NY LLC       1,591\n",
      "\n",
      "Total number of distinct values in Applicant Business Name is 9409\n",
      "['', 'ARTIFACT', 'MOROZOV', 'ZHONGSHUN', '7 & 9 ALBAN LLC', 'JASCO, INC', 'NATIONAL MAINTENANCE, INC', 'ROMA SCAFFOLDING INC', 'BEACH HOUSE 60, LLC', 'JJS BUILDERS', 'L.S. SIGN CO., INC', 'K.O.S. PLUMBING&HEATING,I', 'SIGNSTAR NYC', 'PAUL SIGNS, INC', '5D ARCHITECTURE & ENGINEERING PLLC.', 'R.U.B.G.A LLC', 'ARSENAL SCAFFOLD INC', 'ACTIVE SIGNS INC', 'PHOENIX SUTTON STR INC', 'DESIGN 2020 LLC', 'E-Z FLOW P & H INC', 'G.B. & SON, INC', 'SPRING SCAFFOLDING LLC', 'QAZ4', '2MO LLC', 'EVEREST SCAFFOLDING INC', 'L.S. SIGN CO. INC', '335-7 LLC', '1625 DB INC', 'B & B 21 MANAGEMENT INC', 'R.W. DAKE & CO.,INC', '3T GC LLC', 'ART + 1, INC', 'GEM-QUALITY CORP', 'GOGOLEYED,LLC', 'A.G.M. P & H INC', 'SD 2 INC', 'SAFWAY ATLANTIC, LLC', 'ALEKS & F., INC', 'RIGGS PLMBG & HTG & 58TH', 'WRECK IT NYC 11 INC', 'K.M.D. MCHNCL 1443 LLC', '957 GREEN AVE LLC', 'L&J PLG & HTG CO OF NY IN', 'BOLSTER.US,INC', 'MADISON 30 31 OWNER LLC', 'C.R.C. PLBG. & HTG. CORP', 'G.A.M.C.N.Y. LLC', 'KINGS GROUP NY CORP', 'CMC1 CORP', '718-HOME LLC', '99 MCDOUGAL LLC', '212 HVAC LLC', 'METROPOLITAN MECHANICAL CONTRACTORS', '387 PAS GC LLC', 'Z-CAR-D CORP', 'EASTERN 2000 INC', 'ALMUNIR.CORP', 'TRI BOROUGH SCAFFOLDING.&', 'CORE SCAFFOLD SYSTEMS INC', '226 LLC', 'M.R.S., INC', '154-21 CORP', 'TRI BOROUGH SCAFFOLDING', 'I.C.P CORP', 'R.G.M. SIGNS INC', 'TEST', 'VERITAS ENGINEERING & INSPECTION, P', '128 AC INC', '2260 MAG CORP', 'L1C CORP', 'E.Y.M.S. INC', \"WATSON'S PLBG, HTG, & BDG\", 'VISION 21 INC', 'G05 INC', 'WS2K CORP', 'PLATINUM SERVICES NY LLC', 'N/A', 'BUILD4NY, LLC', 'OCGP.LLC', 'H.I.I. CORP', 'QAZ3', 'MICHAEL R. LISOWSKI ARCHITECTURE, L', 'H20 LLC', 'GUNGHO', 'L.E.C.INC', 'PIPESTYLISTS, INC', 'ROCK GROUP NY CORP', 'NORTH SHORE NEON SIGN CO', 'NAVILLUS', 'M.R.S.INC', 'GAGAN G.C. INC', 'NYEG.CORP', 'H2L LLC', 'PAR PLUMBING CO., INC', '(718)541-0701 MANAGEMENT', 'SILVERCUP SCFFLDNG I LLC', 'T.R.R.C.,INC', 'CS BRIDGE CORP']\n",
      "\n",
      "==================================\n",
      "Column:  Applicant Business Address\n",
      "1.                26,648\n",
      "2.  49-30 31ST PLACE       2,728\n",
      "3.  1150 LONGWOOD AVE       2,673\n",
      "4.  101 PARK AVENUE LOWER LOBBY       1,737\n",
      "5.  119 MT. VERNON STE 2E       1,619\n",
      "6.  53-28 11TH STREET 2ND FL       1,601\n",
      "7.  700 COMMERCIAL AVENUE       1,580\n",
      "8.  128 SUTTON STREET       1,554\n",
      "9.  41-33 38TH STREET       1,453\n",
      "10. 23-41 BORDEN AVENUE       1,357\n",
      "\n",
      "Total number of distinct values in Applicant Business Address is 9236\n",
      "['', '36TH ROAD', 'RASHINDER', '388 E 198 ST', '8319 20TH AVE.....STE 200', '6618 20TH AVE #40442', 'QAZ4', 'STAR UNIVERSE RENOVATION CORP', 'BROOKLYN CONSTRUCTION MANAGEMENT', '82-17 153RD AVE., SUITE #206', '44-03 28 AVE.', '41-43 43RD', '1301 70 ST', '280 BWY', '1444 150TH STREET UNIT 575068', '47-27 195ST', '1279 E 102 ST', 'SUITE 207', 'LEONE ENTERPRISES', 'ARTIMUS CONSTRUCTION INC', '77 ALLEN STREET.....2B', '40 GATON', '1813 58 ST', '157 28 ST', '177-48 106RD', '3 BAYSIDE', '8 OAK STREET TREE DR STE 2', '50 LEFFERTS AVE......APT2J', '54 W 74 ST #611', 'QAZ', 'JA LLC', '49-30 31ST PLACE', '90', '9-11 N WEST ST', '802 71ST', '147 28 ST']\n",
      "\n",
      "==================================\n"
     ]
    }
   ],
   "source": [
    "date_cols = []\n",
    "\n",
    "print(\"Applicant Data columns:\\n\")\n",
    "for col in ds.columns:\n",
    "    if 'Applicant' in col:\n",
    "        print(col)\n",
    "        date_cols.append(col)\n",
    "\n",
    "print(\"----------------------------\\n\")        \n",
    "        \n",
    "for col in date_cols:\n",
    "    findDateOutliers(col, 0.1)"
   ]
  },
  {
   "cell_type": "markdown",
   "metadata": {},
   "source": [
    "# Analysis\n",
    "\n",
    "the above results show the problems for the data cleaning task:\n",
    "    \n",
    "### For name data\n",
    "\n",
    "in \"Applicant's First Name\", \"Applicant's Last Name\", \"Applicant Professional Title\", there are many outliers which are illegal input, and there are many similar values. We need first converts evident outliers to legal values, then use kNN clusterer to standardize similar values.\n",
    "\n",
    "\n",
    "### Applicant License #\n",
    "\n",
    "Applicant License # is made of 6 digits, there are outliers that do not satisfy the 6-digit format. We can not use kNN clusterer to standardize because many License # are similar. "
   ]
  },
  {
   "cell_type": "markdown",
   "metadata": {},
   "source": [
    "# Data Cleaning for Applicant columns\n",
    "\n",
    "* how to deal with empty values has not decided yet"
   ]
  },
  {
   "cell_type": "code",
   "execution_count": 171,
   "metadata": {},
   "outputs": [],
   "source": [
    "# mapping list to replace outliers\n",
    "outlier1 = ['', 'MR. ROSS ADAM C', 'MICHAEL', 'N. J.', 'WILLIAM 11', 'JOSEP;H``', 'DAID/11/2007', 'CHUNG   LUN', '718 9215010', 'ANTHONY', 'HSIA0-NAN', 'JOSEPH', '``````````', 'ROBERT  `', 'RAJENDRA9956700', '2', 'G.B.M.', 'EUGENE......JR', '6312100', 'CLAUDE,JR.', 'THOMAS``', 'ALAN  L', 'Nab53', 'MR. Y. B', 'J.J', 'PH8ILIP', 'I. M', 'RICHARD', 'ALBERTA S 111 D', 'P ;', 'GENECG.C. ENG &', 'J.J.', '2126202794', 'SHAW  HWA', 'HARRY         H', 'MR DOU8GLAS', '`1D', 'PAUL', 'K. T.', 'JOHN', '...NORMAN', 'EVAN   D', '7184361278BERNA', 'S.D. DON', 'KY00 SUK', 'JJ', 'YURI.`', 'MAD/Y/ARNI', 'ES ON SCH B', 'EUGENE.......JR', 'NEAL', 'F._ERIC', 'RYAN,  JR', 'AASDFASDFASDF', 'LA0-TECH', 'RODNEY   __', 'DAVID', 'G. L.', 'JAMES', 'LESLI8E', '7186054055', 'GEORGE', 'G.B.M', 'DAVID    JON', 'CHUNG---YAO', 'PETER', 'YUBUN(JACK)', 'GLEN A. L.', '1P', 'JUDE.....N.O', 'LEONARD--', 'WILLIAM', 'ANTHONY,111', 'WU(WOODY)', 'GAD/HON-AN', 'GLEN  A.L.', 'J.B. Jr.', 'LORENZO..A', 'J J', '..RAMSEY', 'HUI LI I', 'ANTONIO9', 'ROBERT', '0.BERT', 'DUMMY 2', '...JOSEPH', 'RUSSELL 111', 'THOMAS', 'H./E./CAMELLE', 'LALAL', 'M.E. P.E', 'R0OBIN VINCENT', '--young', 'AKM', 'LE1', 'IK.T.', 'LEO, JR.', 'J. Butch A. Jr.', 'WU (WOODY0', 'PAUL   N', 'CHRISTOPHER']\n",
    "mapping1 = [None, 'ROSS ADAM C', 'MICHAEL', 'N. J.', 'WILLIAM', 'JOSEPH', None, 'CHUNG LUN', None, 'ANTHONY', 'HSIA0 NAN', 'JOSEPH', None, 'ROBERT', 'RAJENDRA', None, 'G.B.M.', 'EUGENEJR', None, 'CLAUDE JR.', 'THOMAS', 'ALAN  L', 'Nab', 'MR. Y. B', 'J.J', 'PHILIP', 'I. M', 'RICHARD', 'ALBERTA', None, 'GENECG.C. ENG', 'J.J.', None, 'SHAW HWA', 'HARRYH', 'MR DOUGLAS', None, 'PAUL', 'K. T.', 'JOHN', 'NORMAN', 'EVAND', 'BERNA', 'S.D. DON', 'KY00 SUK', 'JJ', 'YURI.`', 'MADYARNI', 'ES ON SCH B', 'EUGENEJR', 'NEAL', 'FERIC', 'RYAN,  JR', 'AASDFASDFASDF', 'LA0 TECH', 'RODNEY', 'DAVID', 'G. L.', 'JAMES', 'LESLIE', None, 'GEORGE', 'G.B.M', 'DAVID JON', 'CHUNG YAO', 'PETER', 'YUBUN(JACK)', 'GLEN A. L.', None, 'JUDE N.O', 'LEONARD--', 'WILLIAM', 'ANTHONY,111', 'WU(WOODY)', 'GAD HON-AN', 'GLEN A.L.', 'J.B. Jr.', 'LORENZOA', 'J J', 'RAMSEY', 'HUI LI I', 'ANTONIO9', 'ROBERT', '0.BERT', 'DUMMY', 'JOSEPH', 'RUSSELL', 'THOMAS', 'H.E.CAMELLE', 'LALAL', 'M.E. P.E', 'R0OBIN VINCENT', 'young', 'AKM', 'LE1', 'IK.T.', 'LEO, JR.', 'J. Butch A. Jr.', 'WU (WOODY0', 'PAUL   N', 'CHRISTOPHER']\n",
    "\n",
    "outlier2 = ['SHARMA #0', \"0'CONNOR\", 'RUSHTON    UEL', 'UDDIN   Z', 'HINKLEY 1', 'O&#039;CONNOR, P.E.', '.OOK', 'SAMUELS111', 'O&#039;CONNOR', 'CALIENDO', 'SMITH   JR.', 'LO  BUE', '7AN', '+-+ETTIERI', 'SMITH, 111', 'KAMEN   1', '.EE', 'MASS, 1', '.EI', 'Zagaroli 3rd', 'RINI   II', 'KAMEN   R', 'RYAN 11', 'SPI8EZIA L S', 'MUFTIC..A.I.A', 'COSTELLO9 RA A I A', 'CALVANICO', 'LLC.', 'POEPPEL, P.E.', 'HAMA07', 'HINLEY,1', '1212', \"O  ' CONNELL\", 'HURT,JR.,', 'WESOLOWSKI', 'CHEN', '`ING, R.A', 'MARTARELLA 111', 'Gandhi, Ph.D., P.E.', '90I', 'ENNIS 2', 'COSTELLO R A A I A', '3UI', 'N/A', 'HURT,  JR', 'LEHR,1', 'KOHLER, 111', 'GERAZOUNIS', 'Alexander,1', 'LUBOW, R.A. LEED AP', 'RINI,111', '08CZAK', '````````````````````', 'CHAO  R.A.', 'Geier 11', '08NGEL', '08SOLOWSKI', 'I11', 'HINKLEY, 1', 'RUDIKOFF, P.E.', \"O'CONNOR\", 'SHAH   EZ', 'MIELE, JR., P.E.', 'RITTENHOUSE 111', 'AMADI   ISIOFIA', 'HINKLEY,1', 'RENFORE````````', \"O'HARA,JR.\", '73020012', 'PHAGOO   I', 'BRAY.....,', 'LLL', 'BHATHIA,1', 'GANDHI, PH. D., P.E', 'KO K', 'VASSALOTTI 11', 'HURT, JR .', '0018LKLE', 'RINI -111', 'PARIHAR', 'EE', 'L00802', 'ELISE.111', 'KING , R.A', 'CHRYSLER  P E', 'LEHR 1', 'Walters   Jr.', 'LEE', 'RINI  III', 'D&#039;ANGELO', '0UDOLPH III', 'VIEHE-NAESS 111', ',MO', '08E', '47DIKOFF', 'Yu,', '420865380', 'COPELAND', 'ZWIEFEL 3RD', 'PETERSEN', 'King, R.A.,', 'RINI, III', '7APA', 'CHEN   S', 'Hurt  Jr.', 'KATZ', 'NIZAMBAD.(P.E.)', '901BEN', '4153LOO', 'SYED-NAQVI', 'RYAN , JR.', 'K O K O R I S', 'ELISEO111', 'O&#039;CONNELL', 'ZEID61', '---Lewis', '00CHELI', 'MOHAMMAD       +++++', 'METZLER  P E', 'BAILEY', 'GANDHI, PH. D., P.E.', 'TIEMANN.111', 'SMITH.111', 'DI GER0NIMO', 'GANDHI, PH,D., P.E', 'III', 'J C', 'MAGAMI-QAIM-MAGAMI', '+M', 'LO G1UDICE', 'HOQUE', 'RUDIKOFF', 'Y10007OR', 'SMITH,111', 'KING R A FAIA', 'RYAN III, AIA', '08AN', 'STARK 1', 'MASS', 'VICTORI0, R.A', 'RIZVI   A', '21029677', \"3'CONNOR\", 'Wong /  Lai', 'KAPLAN 3', 'GRAICHEN.JR./DAWN/DI', 'GROSSMAN ,PE,F.A.C.I']\n",
    "mapping2 = ['SHARMA ', \"CONNOR\", 'RUSHTON UEL', 'UDDIN Z', 'HINKLEY ', 'CONNOR P.E.', None, 'SAMUELS', 'CONNOR', 'CALIENDO', 'SMITH JR.', 'LO BUE', None, 'ETTIERI', 'SMITH', 'KAMEN', '.EE', 'MASS', '.EI', 'Zagaroli', 'RINI', 'KAMEN R', 'RYAN', 'SPIEZIA L S', 'MUFTIC.A.I.A', 'COSTELLO9 RA A I A', 'CALVANICO', 'LLC.', 'POEPPEL P.E.', 'HAMA', 'HINLEY', None, \"CONNELL\", 'HURT JR.', 'WESOLOWSKI', 'CHEN', 'ING R.A', 'MARTARELLA', 'Gandhi', None, 'ENNIS ', 'COSTELLO R A A I A', None, None, 'HUR  JR', 'LEHR', 'KOHLER 111', 'GERAZOUNIS', 'Alexander', 'LUBOW R.A. LEED AP', 'RINI',None, None, 'CHAO R.A.', 'Geier', None, 'SOLOWSKI', None, 'HINKLEY', 'RUDIKOFF, P.E.', \"CONNOR\", 'SHAH EZ', 'MIELE JR. P.E.', 'RITTENHOUSE', 'AMADI   ISIOFIA', 'HINKLEY', 'RENFORE', \"O'HARA,JR.\", None, 'PHAGOO I', 'BRAY,', 'LLL', 'BHATHIA', 'GANDHI', 'KO K', 'VASSALOTTI', 'HURT JR.',None, 'RINI', 'PARIHAR', 'EE', None, 'ELISE', 'KING R.A', 'CHRYSLER  P E', 'LEHR', 'Walters Jr.', 'LEE', 'RINI  III', 'ANGELO', '0UDOLPH III', 'VIEHE-NAESS', 'MO', '08E', None, 'Yu,', None, 'COPELAND', 'ZWIEFEL 3RD', 'PETERSEN', 'King, R.A.,', 'RINI, III', '7APA', 'CHEN   S', 'Hurt  Jr.', 'KATZ', 'NIZAMBAD.(P.E.)', None, None, None, 'RYAN JR.', 'KOKORIS', 'ELISE', 'CONNELL', None, 'Lewis', 'CHELI', 'MOHAMMAD', 'METZLER  P E', 'BAILEY', 'GANDHI', 'TIEMANN', 'SMITH', 'DI GER0NIMO', 'GANDHI', 'III', 'J C', 'MAGAMI QAIM MAGAMI', None, 'LO G1UDICE', 'HOQUE', 'RUDIKOFF', None, 'SMITH', 'KING R A FAIA', 'RYAN III AIA', None, 'STARK', 'MASS', 'VICTORI0 R.A', 'RIZVIA', None, \"CONNOR\", 'Wong Lai', 'KAPLAN', 'GRAICHEN.JR. DAWN DI', 'GROSSMAN']\n",
    "\n",
    "outlier3 = ['', '....DEMO', '050069', 'DEM. CONTR.,', 'XXXXX', 'G/C 10114H9', 'CGWC10114H99', '00', 'X S000155', '082-36-1245', 'G.G', 'LESSEE', '......GC', \"'\", '..OWNER', 'GC 2293', '--', 'XXXXXX', 'LS 31,721', '...GC', 'gen.cont.', 'G.C TK#4592', 'PE', 'RLA - 818', '.....OWNER', 'RLA 16077', 'G C', 'X 4129892', 'G. C.', 'R.L.A', 'GC 1028350', 'WC10114H99', 'LEESEE', 'GEN.CONT.', 'SIGN..HANGER', 'DEMO 20451', 'D8615', '.X', 'P.L.L.C', '..DEMO', 'G .C', 'L A', 'G.C NY11101', '32820', '....OWNER', 'GC(DEMO)', 'C0NTRACTOR', 'EXPEDITORC99792', 'X 1341946', 'TRACK# 1390', 'EXPED.R4466', 'PLLC 9599691', 'G.C 1110101', '029649', '(CHECK)', 'DEM. CONTR,', 'EXPEDIT(H66172)', '.........GC', 'CITY OF N Y', 'GC 1170386', 'G. C', 'CO0OWNER', '(CHECKED)', 'C.C', '23392 1159774', 'DEMO {', 'RA', 'T. 31132', '....GC', 'RLA-787', 'TRACK #1390', 'D C', 'G.CONTR.', 'DEMO  CONT', '1GC', 'CC', 'demo G.C.', 'TRACK. #1390', 'M.F.S.P.C.', '...DEMO', 'DEMO G C', '13328', 'GEN  CONT', 'GC 1221073', \"GC;'\", 'DEMO 1341946', '11234', 'G.C.,', '.....GC', 'LIC.133668259 1', '?', '0WNER', 'C10892', 'GEN..CONT']\n",
    "mapping3 = [None, 'DEMO', None, 'DEM. CONTR', None, 'G/C', 'CGWC', None, 'X S', None, 'G.G', 'LESSEE', 'GC', None, 'OWNER', 'GC', None, None, 'LS ', 'GC', 'gen.cont.', 'G.C TK', 'PE', 'RLA ', 'OWNER', 'RLA ', 'G C', 'X', 'G. C.', 'R.L.A', 'GC', 'WC', 'LEESEE', 'GEN.CONT.', 'SIGN.HANGER', 'DEMO', None,None, 'P.L.L.C', 'DEMO', 'G.C', 'L A', 'G.C ', None, 'OWNER', 'GC(DEMO)', 'C0NTRACTOR', 'EXPEDITORC', None, 'TRACK', 'EXPED.R', 'PLLC ', 'G.C', None, None, 'DEM. CONTR,', 'EXPEDIT', 'GC', None, 'GC', 'G.C', 'CO0OWNER', None, 'C.C', None, 'DEMO', 'RA', None, 'GC', 'RLA', None, 'D C', 'G.CONTR.', 'DEMO  CONT', 'GC', 'CC', 'demo G.C.', None, 'M.F.S.P.C.', 'DEMO', 'DEMO G C', None, 'GEN  CONT', 'GC ', \"GC \", 'DEMO ', None, 'G.C.', 'GC', 'LIC', None, '0WNER',None, 'GEN.CONT']\n",
    "\n",
    "outlier4 = ['', '0000GC', '083278', 'DD5615', '0000PB', '00ASB4', 'B81923', '99998', '000N/A', '65569+', '01827O', 'R9526', 'LP0256', 'N/A', '1964', 'ISLAND', '1609', '000PW1', '00DEMO', '0688.6', '00000', '.20929', 'LP0258', '000TOR', '0D8615', '0SWITA', '818', 'O02200', 'DEMO', '196', '1075', '0000NT', '215', '0', '00000`', \"D'ALTO\", '0455', '22377', 'DD8615', '050579', '226', 'SWITA', 'DD6815', 'X02689']\n",
    "mapping4 = [None, '0000GC', '083278', 'DD5615', '0000PB', '00ASB4', 'B81923', '099998', '000000', '065569', '01827O', '0R9526', 'LP0256',None, '001964',None, '001609', '000PW1', '00DEMO', '006886', '000000', '020929', 'LP0258', '000TOR', '0D8615', '0SWITA', '000818', 'O02200', None, '000196', '001075', '0000NT', '000215', '000000', '000000', None, '000455', '022377', 'DD8615', '050579', '000226', None, 'DD6815', 'X02689']\n",
    "\n",
    "outlier5 = ['', '0000GC', '083278', 'DD5615', '0000PB', '00ASB4', 'B81923', '99998', '000N/A', '65569+', '01827O', 'R9526', 'LP0256', 'N/A', '1964', 'ISLAND', '1609', '000PW1', '00DEMO', '0688.6', '00000', '.20929', 'LP0258', '000TOR', '0D8615', '0SWITA', '818', 'O02200', 'DEMO', '196', '1075', '0000NT', '215', '0', '00000`', \"D'ALTO\", '0455', '22377', 'DD8615', '050579', '226', 'SWITA', 'DD6815', 'X02689']\n",
    "mapping5 = [None, '0000GC', '083278', 'DD5615', '0000PB', '00ASB4', 'B81923', '099998', '000000', '065569', '01827O', '0R9526', 'LP0256',None, '001964',None, '001609', '000PW1', '00DEMO', '006886', '000000', '020929', 'LP0258', '000TOR', '0D8615', '0SWITA', '000818', 'O02200', None, '000196', '001075', '0000NT', '000215', '000000', '000000', None, '000455', '022377', 'DD8615', '050579', '000226', None, 'DD6815', 'X02689']\n",
    "\n",
    "outlier6 = ['','77 ALLEN STREET.....2B', '50 LEFFERTS AVE......APT2J', '90' ]\n",
    "mapping6 = [None, '77 ALLEN STREET 2B', '50 LEFFERTS AVE APT2J', None]\n",
    "\n",
    "\n",
    "outliers = [outlier1, outlier2, outlier3, outlier4, outlier5, outlier6]\n",
    "mappings = [mapping1, mapping2, mapping3, mapping4, mapping5, mapping6]\n",
    "\n"
   ]
  },
  {
   "cell_type": "markdown",
   "metadata": {},
   "source": [
    "# Remove evident outliers using hard coded mapping"
   ]
  },
  {
   "cell_type": "code",
   "execution_count": 172,
   "metadata": {},
   "outputs": [],
   "source": [
    "i = 0\n",
    "for col in date_cols:\n",
    "    df[col] = df[col].replace(outliers[i], mappings[i])\n",
    "    i += 1"
   ]
  },
  {
   "cell_type": "markdown",
   "metadata": {},
   "source": [
    "# Convert similar values to suggested value using kNN clustering"
   ]
  },
  {
   "cell_type": "code",
   "execution_count": 173,
   "metadata": {},
   "outputs": [],
   "source": [
    "# Cluster string using kNN clusterer (with the default n-gram setting)\n",
    "# using the Levenshtein distance as the similarity measure.\n",
    "\n",
    "from openclean.cluster.knn import knn_clusters\n",
    "from openclean.function.similarity.base import SimilarityConstraint\n",
    "from openclean.function.similarity.text import LevenshteinDistance\n",
    "from openclean.function.value.threshold import GreaterThan\n",
    "\n",
    "def getClusters(col, minsize = 2):\n",
    "    dba = ds.select(col).distinct()\n",
    "    clusters = knn_clusters(\n",
    "        values=dba,\n",
    "        sim=SimilarityConstraint(func=LevenshteinDistance(), pred=GreaterThan(0.75)),\n",
    "        minsize=minsize\n",
    "    )\n",
    "    return clusters\n",
    "\n",
    "def print_cluster(cnumber, cluster):\n",
    "    print('Cluster {} (of size {})\\n'.format(cnumber + 1, len(cluster)))\n",
    "    for val, count in cluster.items():\n",
    "        print('{} ({})'.format(val, count))\n",
    "    print('\\nSuggested value: {}\\n\\n'.format(cluster.suggestion()))\n",
    "\n",
    "def updateUsingClusters(col, clusters, isPrint = False):\n",
    "    \n",
    "    orignal_list = []\n",
    "    suggestion_list = []\n",
    "    clusters.sort(key=lambda c: len(c), reverse=True)\n",
    "       \n",
    "    for i, cluster in enumerate(clusters):        \n",
    "        suggestion = cluster.suggestion()\n",
    "        orignal_list = []\n",
    "        suggestion_list = []\n",
    "        if isPrint and i < 5:\n",
    "            print_cluster(i, cluster)\n",
    "        \n",
    "        for val, count in cluster.items(): \n",
    "            orignal_list.append(val)\n",
    "            suggestion_list.append(suggestion)\n",
    "            \n",
    "    df[col] = df[col].replace(orignal_list, suggestion_list)"
   ]
  },
  {
   "cell_type": "code",
   "execution_count": 174,
   "metadata": {},
   "outputs": [
    {
     "name": "stdout",
     "output_type": "stream",
     "text": [
      "kNN cluster for  Applicant License #\n",
      "updating column  Applicant License #\n",
      "----------------------\n",
      "Top 5 Cluster:\n",
      "----------------------\n",
      "================\n",
      "kNN cluster for  Applicant First Name\n",
      "updating column  Applicant First Name\n",
      "----------------------\n",
      "Top 5 Cluster:\n",
      "----------------------\n",
      "Cluster 1 (of size 10)\n",
      "\n",
      "MOHAMMAD (330)\n",
      "MOHAMMAD M (4)\n",
      "MOHAMMAD I (5)\n",
      "MOHAMMAD O (3)\n",
      "MUHAMMAD U (3)\n",
      "MOHAMMAD M. (2)\n",
      "MOHAMMAD J (5)\n",
      "MUHAMMAD A (2)\n",
      "MOHAMMED A (6)\n",
      "MOHAMMAD S (8)\n",
      "\n",
      "Suggested value: MOHAMMAD\n",
      "\n",
      "\n",
      "Cluster 2 (of size 10)\n",
      "\n",
      "HARVINDER (82)\n",
      "DARVINDER (6)\n",
      "PARVINDER (17)\n",
      "TARVINDER (4)\n",
      "RAVINDER (2)\n",
      "DEVINDER (32)\n",
      "KULVINDER (6)\n",
      "DAVINDER (4)\n",
      "ARVINDER (1)\n",
      "DALVINDER (576)\n",
      "\n",
      "Suggested value: DALVINDER\n",
      "\n",
      "\n",
      "Cluster 3 (of size 10)\n",
      "\n",
      "DALVINDER (576)\n",
      "HARVINDER (82)\n",
      "PARVINDER (17)\n",
      "TARVINDER (4)\n",
      "GURVINDER (25)\n",
      "RAVINDER (2)\n",
      "DEVINDER (32)\n",
      "DAVINDER (4)\n",
      "ARVINDER (1)\n",
      "DARVINDER (6)\n",
      "\n",
      "Suggested value: DALVINDER\n",
      "\n",
      "\n",
      "Cluster 4 (of size 9)\n",
      "\n",
      "DALVINDER (576)\n",
      "DARVINDER (6)\n",
      "PARVINDER (17)\n",
      "TARVINDER (4)\n",
      "GURVINDER (25)\n",
      "RAVINDER (2)\n",
      "DAVINDER (4)\n",
      "ARVINDER (1)\n",
      "HARVINDER (82)\n",
      "\n",
      "Suggested value: DALVINDER\n",
      "\n",
      "\n",
      "Cluster 5 (of size 8)\n",
      "\n",
      "CHRISTINE (185)\n",
      "CHRISTIAN (33)\n",
      "CHRISTA (2)\n",
      "CHRISTIE (1)\n",
      "CRISTINA (28)\n",
      "KRISTINA (31)\n",
      "CRISTINE (3)\n",
      "CHRISTINA (1)\n",
      "\n",
      "Suggested value: CHRISTINE\n",
      "\n",
      "\n",
      "================\n",
      "kNN cluster for  Applicant Middle Name\n",
      "updating column  Applicant Middle Name\n",
      "----------------------\n",
      "Top 5 Cluster:\n",
      "----------------------\n",
      "================\n"
     ]
    }
   ],
   "source": [
    "for col in date_cols[:3]:\n",
    "    print(\"kNN cluster for \", col)\n",
    "    col_clusters = getClusters(col)\n",
    "    print(\"updating column \", col)\n",
    "    print(\"----------------------\\nTop 5 Cluster:\\n----------------------\")\n",
    "    updateUsingClusters(col, col_clusters, True)\n",
    "    print(\"================\")"
   ]
  },
  {
   "cell_type": "markdown",
   "metadata": {},
   "source": [
    "# Save cleaned data"
   ]
  },
  {
   "cell_type": "code",
   "execution_count": 176,
   "metadata": {},
   "outputs": [],
   "source": [
    "outputpath = datafile[2:11]+'_cleaned_data.csv'\n",
    "df.to_csv(outputpath,sep=',',index=False,header=True) "
   ]
  },
  {
   "cell_type": "code",
   "execution_count": null,
   "metadata": {},
   "outputs": [],
   "source": []
  }
 ],
 "metadata": {
  "kernelspec": {
   "display_name": "Python 3",
   "language": "python",
   "name": "python3"
  },
  "language_info": {
   "codemirror_mode": {
    "name": "ipython",
    "version": 3
   },
   "file_extension": ".py",
   "mimetype": "text/x-python",
   "name": "python",
   "nbconvert_exporter": "python",
   "pygments_lexer": "ipython3",
   "version": "3.8.3"
  }
 },
 "nbformat": 4,
 "nbformat_minor": 5
}
