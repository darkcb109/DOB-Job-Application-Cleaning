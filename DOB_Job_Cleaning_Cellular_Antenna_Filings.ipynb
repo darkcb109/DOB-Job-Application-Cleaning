{
 "cells": [
  {
   "cell_type": "markdown",
   "id": "6406bf3d",
   "metadata": {},
   "source": [
    "# Data Profiling and Cleaning"
   ]
  },
  {
   "cell_type": "markdown",
   "id": "2d18acd1",
   "metadata": {},
   "source": [
    "We profiled and cleaned the NYC opendata `DOB Job Application Filings` data using pandas and openclean\n",
    "\n",
    "Run all the cells in order to profile and clean the data\n",
    "\n",
    "Robert Ronan, Sheng Tong, Jerry Lee"
   ]
  },
  {
   "cell_type": "code",
   "execution_count": 1,
   "id": "3dd9762c",
   "metadata": {},
   "outputs": [],
   "source": [
    "import openclean\n",
    "import glob\n",
    "import pandas as pd\n",
    "import numpy as np\n",
    "import re"
   ]
  },
  {
   "cell_type": "markdown",
   "id": "a74d319d",
   "metadata": {},
   "source": [
    "# Data Downloading\n",
    "\n",
    "Download the data using openClean"
   ]
  },
  {
   "cell_type": "code",
   "execution_count": 2,
   "id": "70e12c96",
   "metadata": {},
   "outputs": [
    {
     "name": "stdout",
     "output_type": "stream",
     "text": [
      "Using 'DOB Cellular Antenna Filings' in file ./iz2q-9x8d.tsv.gz of size 711.77 KB\n"
     ]
    }
   ],
   "source": [
    "import gzip\n",
    "import humanfriendly\n",
    "import os\n",
    "\n",
    "from openclean.data.source.socrata import Socrata\n",
    "\n",
    "dataset = Socrata().dataset('iz2q-9x8d')\n",
    "datafile = './iz2q-9x8d.tsv.gz'\n",
    "\n",
    "if not os.path.isfile(datafile):\n",
    "    with gzip.open(datafile, 'wb') as f:\n",
    "        print('Downloading ...\\n')\n",
    "        dataset.write(f)\n",
    "\n",
    "\n",
    "fsize = humanfriendly.format_size(os.stat(datafile).st_size)\n",
    "print(\"Using '{}' in file {} of size {}\".format(dataset.name, datafile, fsize))"
   ]
  },
  {
   "cell_type": "markdown",
   "id": "be02e5e0",
   "metadata": {},
   "source": [
    "# Data Loading\n",
    "\n",
    "Load the data into pandas and openClean dataset object"
   ]
  },
  {
   "cell_type": "code",
   "execution_count": 3,
   "id": "fb8aacf4",
   "metadata": {},
   "outputs": [],
   "source": [
    "import pandas as pd\n",
    "from openclean.pipeline import stream\n",
    "\n",
    "df  = pd.read_csv(datafile, dtype='object', sep='\\t')\n",
    "ds = stream(datafile)"
   ]
  },
  {
   "cell_type": "code",
   "execution_count": 4,
   "id": "4acb65c0",
   "metadata": {},
   "outputs": [
    {
     "data": {
      "text/plain": [
       "'1.21.3'"
      ]
     },
     "execution_count": 4,
     "metadata": {},
     "output_type": "execute_result"
    }
   ],
   "source": [
    "np.__version__"
   ]
  },
  {
   "cell_type": "code",
   "execution_count": 5,
   "id": "427ad486",
   "metadata": {},
   "outputs": [
    {
     "data": {
      "text/plain": [
       "'1.3.4'"
      ]
     },
     "execution_count": 5,
     "metadata": {},
     "output_type": "execute_result"
    }
   ],
   "source": [
    "pd.__version__"
   ]
  },
  {
   "cell_type": "code",
   "execution_count": 6,
   "id": "50eab1c2",
   "metadata": {},
   "outputs": [],
   "source": [
    "import glob"
   ]
  },
  {
   "cell_type": "code",
   "execution_count": 7,
   "id": "a039e10d",
   "metadata": {
    "scrolled": true
   },
   "outputs": [
    {
     "data": {
      "text/plain": [
       "['DOB_Job_Application_Filings.csv',\n",
       " 'DOB_Job_Cleaning.ipynb',\n",
       " 'DOB_Job_Cleaning_Cellular_Antenna_Filings-Copy1.ipynb',\n",
       " 'DOB_Job_Cleaning_Cellular_Antenna_Filings.ipynb',\n",
       " 'DOB_Job_Cleaning_Facades_Compliance_Filings_rr.ipynb',\n",
       " 'DOB_Job_Cleaning_Open_Restaurant_Applications_rr.ipynb',\n",
       " 'DOB_Job_Cleaning_Permit_Issuance_rr.ipynb',\n",
       " 'ic3t-wcy2.tsv.gz',\n",
       " 'ipu4-2q9a.tsv.gz',\n",
       " 'iz2q-9x8d.tsv.gz',\n",
       " 'pitm-atqc.tsv.gz',\n",
       " 'README.md',\n",
       " 'xubg-57si.tsv.gz']"
      ]
     },
     "execution_count": 7,
     "metadata": {},
     "output_type": "execute_result"
    }
   ],
   "source": [
    "glob.glob(\"*\")"
   ]
  },
  {
   "cell_type": "markdown",
   "id": "da564f84",
   "metadata": {},
   "source": [
    "### Get some basic info about the dataset columns"
   ]
  },
  {
   "cell_type": "code",
   "execution_count": 8,
   "id": "ba01780d",
   "metadata": {
    "scrolled": false
   },
   "outputs": [
    {
     "name": "stdout",
     "output_type": "stream",
     "text": [
      "<class 'pandas.core.frame.DataFrame'>\n",
      "RangeIndex: 6090 entries, 0 to 6089\n",
      "Data columns (total 55 columns):\n",
      " #   Column                        Non-Null Count  Dtype \n",
      "---  ------                        --------------  ----- \n",
      " 0   Job #                         6090 non-null   object\n",
      " 1   Doc #                         6090 non-null   object\n",
      " 2   Borough                       6068 non-null   object\n",
      " 3   House #                       6028 non-null   object\n",
      " 4   Street Name                   6003 non-null   object\n",
      " 5   Block                         5997 non-null   object\n",
      " 6   Lot                           5992 non-null   object\n",
      " 7   Bin #                         5991 non-null   object\n",
      " 8   Job Type                      5990 non-null   object\n",
      " 9   Job Status                    5990 non-null   object\n",
      " 10  Job Status Descrp             5990 non-null   object\n",
      " 11  Latest Action Date            5990 non-null   object\n",
      " 12  Building Type                 5990 non-null   object\n",
      " 13  Community - Board             5989 non-null   object\n",
      " 14  Landmarked                    309 non-null    object\n",
      " 15  Little e                      29 non-null     object\n",
      " 16  PC Filed                      5989 non-null   object\n",
      " 17  Other                         5989 non-null   object\n",
      " 18  Other Description             5989 non-null   object\n",
      " 19  Applicant's First Name        5989 non-null   object\n",
      " 20  Applicant's Last Name         5989 non-null   object\n",
      " 21  Applicant Professional Title  5989 non-null   object\n",
      " 22  Applicant License #           5989 non-null   object\n",
      " 23  Professional Cert             39 non-null     object\n",
      " 24  Pre- Filing Date              5989 non-null   object\n",
      " 25  Paid                          5989 non-null   object\n",
      " 26  Fully Paid                    5989 non-null   object\n",
      " 27  Assigned                      5910 non-null   object\n",
      " 28  Approved                      5989 non-null   object\n",
      " 29  Fully Permitted               5989 non-null   object\n",
      " 30  Initial Cost                  5989 non-null   object\n",
      " 31  Total Est. Fee                5989 non-null   object\n",
      " 32  Fee Status                    5989 non-null   object\n",
      " 33  Existing Occupancy            5989 non-null   object\n",
      " 34  Proposed Occupancy            5989 non-null   object\n",
      " 35  Zoning Distr 1                5989 non-null   object\n",
      " 36  Zoning Distr 2                781 non-null    object\n",
      " 37  Zoning Distr 3                17 non-null     object\n",
      " 38  Special Distr 1               1175 non-null   object\n",
      " 39  Special Distr 2               321 non-null    object\n",
      " 40  Owner Type                    5989 non-null   object\n",
      " 41  Owner Type Description        5989 non-null   object\n",
      " 42  Non-Profit                    5989 non-null   object\n",
      " 43  Owner's First Name            5989 non-null   object\n",
      " 44  Owner's Last Name             5989 non-null   object\n",
      " 45  Owner's Business Name         5987 non-null   object\n",
      " 46  Owner's  House #              5987 non-null   object\n",
      " 47  Owner's  House Street         5987 non-null   object\n",
      " 48  City                          5987 non-null   object\n",
      " 49  State                         5987 non-null   object\n",
      " 50  Zip Code                      5987 non-null   object\n",
      " 51  Owner's  Phone #              5987 non-null   object\n",
      " 52  First Permit  Date            5989 non-null   object\n",
      " 53  Job Description               5984 non-null   object\n",
      " 54  DOBRunDate                    5989 non-null   object\n",
      "dtypes: object(55)\n",
      "memory usage: 2.6+ MB\n"
     ]
    }
   ],
   "source": [
    "df.info(verbose=True, show_counts=True)"
   ]
  },
  {
   "cell_type": "markdown",
   "id": "d8610e6b",
   "metadata": {},
   "source": [
    "If any rows are complete duplicates, drop them"
   ]
  },
  {
   "cell_type": "code",
   "execution_count": 9,
   "id": "e12a0b5a",
   "metadata": {},
   "outputs": [],
   "source": [
    "df = df.drop_duplicates()"
   ]
  },
  {
   "cell_type": "markdown",
   "id": "c7db0587",
   "metadata": {},
   "source": [
    "Take an a look at some of the rows to get an idea of what the datset looks like"
   ]
  },
  {
   "cell_type": "code",
   "execution_count": 10,
   "id": "97d54ce4",
   "metadata": {
    "scrolled": true
   },
   "outputs": [
    {
     "data": {
      "text/html": [
       "<div>\n",
       "<style scoped>\n",
       "    .dataframe tbody tr th:only-of-type {\n",
       "        vertical-align: middle;\n",
       "    }\n",
       "\n",
       "    .dataframe tbody tr th {\n",
       "        vertical-align: top;\n",
       "    }\n",
       "\n",
       "    .dataframe thead th {\n",
       "        text-align: right;\n",
       "    }\n",
       "</style>\n",
       "<table border=\"1\" class=\"dataframe\">\n",
       "  <thead>\n",
       "    <tr style=\"text-align: right;\">\n",
       "      <th></th>\n",
       "      <th>Job #</th>\n",
       "      <th>Doc #</th>\n",
       "      <th>Borough</th>\n",
       "      <th>House #</th>\n",
       "      <th>Street Name</th>\n",
       "      <th>Block</th>\n",
       "      <th>Lot</th>\n",
       "      <th>Bin #</th>\n",
       "      <th>Job Type</th>\n",
       "      <th>Job Status</th>\n",
       "      <th>...</th>\n",
       "      <th>Owner's Business Name</th>\n",
       "      <th>Owner's  House #</th>\n",
       "      <th>Owner's  House Street</th>\n",
       "      <th>City</th>\n",
       "      <th>State</th>\n",
       "      <th>Zip Code</th>\n",
       "      <th>Owner's  Phone #</th>\n",
       "      <th>First Permit  Date</th>\n",
       "      <th>Job Description</th>\n",
       "      <th>DOBRunDate</th>\n",
       "    </tr>\n",
       "  </thead>\n",
       "  <tbody>\n",
       "    <tr>\n",
       "      <th>0</th>\n",
       "      <td>321410745</td>\n",
       "      <td>01</td>\n",
       "      <td>3</td>\n",
       "      <td>96</td>\n",
       "      <td>SCHERMERHORN STREET</td>\n",
       "      <td>00271</td>\n",
       "      <td>00047</td>\n",
       "      <td>3002707</td>\n",
       "      <td>A3</td>\n",
       "      <td>R</td>\n",
       "      <td>...</td>\n",
       "      <td>DOUGLAS ELLIMAN PROPERTY MANAGEM</td>\n",
       "      <td>96</td>\n",
       "      <td>SCHERMERHORN STREET</td>\n",
       "      <td>BROOKLYN</td>\n",
       "      <td>NY</td>\n",
       "      <td>11201</td>\n",
       "      <td>7188474820</td>\n",
       "      <td>08/16/2016 12:00:00 AM</td>\n",
       "      <td>INSTALLATION OF MICROWAVE DISH ON ROOF. ALL IN...</td>\n",
       "      <td>08/17/2016 00:00:00</td>\n",
       "    </tr>\n",
       "    <tr>\n",
       "      <th>1</th>\n",
       "      <td>122711903</td>\n",
       "      <td>01</td>\n",
       "      <td>1</td>\n",
       "      <td>210</td>\n",
       "      <td>SOUTH STREET</td>\n",
       "      <td>00250</td>\n",
       "      <td>00001</td>\n",
       "      <td>1003205</td>\n",
       "      <td>A3</td>\n",
       "      <td>R</td>\n",
       "      <td>...</td>\n",
       "      <td>EDISON PROPERTIES, LLC</td>\n",
       "      <td>100</td>\n",
       "      <td>WASHINGTON STREET</td>\n",
       "      <td>NEWARK</td>\n",
       "      <td>NJ</td>\n",
       "      <td>07102</td>\n",
       "      <td>9738492613</td>\n",
       "      <td>08/16/2016 12:00:00 AM</td>\n",
       "      <td>REPLACEMENT OF EXISTING TELECOMMUNICATION ANTE...</td>\n",
       "      <td>08/17/2016 00:00:00</td>\n",
       "    </tr>\n",
       "    <tr>\n",
       "      <th>2</th>\n",
       "      <td>122282010</td>\n",
       "      <td>01</td>\n",
       "      <td>1</td>\n",
       "      <td>143</td>\n",
       "      <td>11 AVENUE</td>\n",
       "      <td>00662</td>\n",
       "      <td>00062</td>\n",
       "      <td>1012258</td>\n",
       "      <td>A3</td>\n",
       "      <td>R</td>\n",
       "      <td>...</td>\n",
       "      <td>CHELSEA PIERS, LP</td>\n",
       "      <td>62</td>\n",
       "      <td>CHELSEA PIERS</td>\n",
       "      <td>NEW YORK</td>\n",
       "      <td>NY</td>\n",
       "      <td>10011</td>\n",
       "      <td>9733974814</td>\n",
       "      <td>08/16/2016 12:00:00 AM</td>\n",
       "      <td>INSTALLATION OF RRU UNITS ON THE ROOF. RETROFI...</td>\n",
       "      <td>08/17/2016 00:00:00</td>\n",
       "    </tr>\n",
       "    <tr>\n",
       "      <th>3</th>\n",
       "      <td>220535151</td>\n",
       "      <td>01</td>\n",
       "      <td>2</td>\n",
       "      <td>3103</td>\n",
       "      <td>THIRD AVE</td>\n",
       "      <td>02380</td>\n",
       "      <td>00051</td>\n",
       "      <td>2102501</td>\n",
       "      <td>A3</td>\n",
       "      <td>R</td>\n",
       "      <td>...</td>\n",
       "      <td>LA PUERTA DE VITALIDAD HOUSING</td>\n",
       "      <td>902</td>\n",
       "      <td>BROADWAY</td>\n",
       "      <td>NEW YORK</td>\n",
       "      <td>NY</td>\n",
       "      <td>10025</td>\n",
       "      <td>2122439090</td>\n",
       "      <td>08/16/2016 12:00:00 AM</td>\n",
       "      <td>INSTALL NEW TELECOMMUNICATIONS CABINETS, RELAT...</td>\n",
       "      <td>08/17/2016 00:00:00</td>\n",
       "    </tr>\n",
       "    <tr>\n",
       "      <th>4</th>\n",
       "      <td>321369620</td>\n",
       "      <td>01</td>\n",
       "      <td>3</td>\n",
       "      <td>329</td>\n",
       "      <td>UNION STREET</td>\n",
       "      <td>00428</td>\n",
       "      <td>00049</td>\n",
       "      <td>3007041</td>\n",
       "      <td>A3</td>\n",
       "      <td>R</td>\n",
       "      <td>...</td>\n",
       "      <td>ICON REALTY MANAGEMENT, LLC</td>\n",
       "      <td>419</td>\n",
       "      <td>LAFAYETTE STREET</td>\n",
       "      <td>NEW YORK</td>\n",
       "      <td>NY</td>\n",
       "      <td>10003</td>\n",
       "      <td>2126612700</td>\n",
       "      <td>08/17/2016 12:00:00 AM</td>\n",
       "      <td>INSTALLATION OF TELECOMMUNICATION ANTENNAS AND...</td>\n",
       "      <td>08/18/2016 00:00:00</td>\n",
       "    </tr>\n",
       "    <tr>\n",
       "      <th>...</th>\n",
       "      <td>...</td>\n",
       "      <td>...</td>\n",
       "      <td>...</td>\n",
       "      <td>...</td>\n",
       "      <td>...</td>\n",
       "      <td>...</td>\n",
       "      <td>...</td>\n",
       "      <td>...</td>\n",
       "      <td>...</td>\n",
       "      <td>...</td>\n",
       "      <td>...</td>\n",
       "      <td>...</td>\n",
       "      <td>...</td>\n",
       "      <td>...</td>\n",
       "      <td>...</td>\n",
       "      <td>...</td>\n",
       "      <td>...</td>\n",
       "      <td>...</td>\n",
       "      <td>...</td>\n",
       "      <td>...</td>\n",
       "      <td>...</td>\n",
       "    </tr>\n",
       "    <tr>\n",
       "      <th>6085</th>\n",
       "      <td>240288817</td>\n",
       "      <td>01</td>\n",
       "      <td>2</td>\n",
       "      <td>840</td>\n",
       "      <td>EAST 226 STREET</td>\n",
       "      <td>04850</td>\n",
       "      <td>00066</td>\n",
       "      <td>2063908</td>\n",
       "      <td>A3</td>\n",
       "      <td>R</td>\n",
       "      <td>...</td>\n",
       "      <td>T-MOBILE</td>\n",
       "      <td>4</td>\n",
       "      <td>SYLVAN WAY</td>\n",
       "      <td>PARSIPPANY</td>\n",
       "      <td>NJ</td>\n",
       "      <td>07054</td>\n",
       "      <td>9738791375</td>\n",
       "      <td>11/23/2020 12:00:00 AM</td>\n",
       "      <td>DECOMMISSION OF EXISTING TELECOMMUNICATIONS SI...</td>\n",
       "      <td>11/24/2020 00:00:00</td>\n",
       "    </tr>\n",
       "    <tr>\n",
       "      <th>6086</th>\n",
       "      <td>340781899</td>\n",
       "      <td>01</td>\n",
       "      <td>3</td>\n",
       "      <td>946</td>\n",
       "      <td>BUSHWICK AVENUE</td>\n",
       "      <td>03294</td>\n",
       "      <td>00016</td>\n",
       "      <td>3075292</td>\n",
       "      <td>A3</td>\n",
       "      <td>R</td>\n",
       "      <td>...</td>\n",
       "      <td>T-MOBILE</td>\n",
       "      <td>4</td>\n",
       "      <td>SYLVAN WAY</td>\n",
       "      <td>PARSIPPANY</td>\n",
       "      <td>NJ</td>\n",
       "      <td>07054</td>\n",
       "      <td>9738791375</td>\n",
       "      <td>01/08/2021 12:00:00 AM</td>\n",
       "      <td>DECOMMISSION OF EXISTING TELECOMMUNICATIONS SI...</td>\n",
       "      <td>01/09/2021 00:00:00</td>\n",
       "    </tr>\n",
       "    <tr>\n",
       "      <th>6087</th>\n",
       "      <td>440652214</td>\n",
       "      <td>01</td>\n",
       "      <td>4</td>\n",
       "      <td>42-24</td>\n",
       "      <td>ORCHARD STREET</td>\n",
       "      <td>00265</td>\n",
       "      <td>00001</td>\n",
       "      <td>4003482</td>\n",
       "      <td>A3</td>\n",
       "      <td>R</td>\n",
       "      <td>...</td>\n",
       "      <td>BLDG ORCHARD LLC</td>\n",
       "      <td>417</td>\n",
       "      <td>FIFTH AVENUE</td>\n",
       "      <td>NEW YORK</td>\n",
       "      <td>NY</td>\n",
       "      <td>10016</td>\n",
       "      <td>2126244300</td>\n",
       "      <td>01/19/2021 12:00:00 AM</td>\n",
       "      <td>DECOMMISSION OF EXISTING TELECOMMUNICATIONS SI...</td>\n",
       "      <td>01/20/2021 00:00:00</td>\n",
       "    </tr>\n",
       "    <tr>\n",
       "      <th>6088</th>\n",
       "      <td>123039069</td>\n",
       "      <td>01</td>\n",
       "      <td>1</td>\n",
       "      <td>80</td>\n",
       "      <td>RIVERSIDE DRIVE</td>\n",
       "      <td>01244</td>\n",
       "      <td>00033</td>\n",
       "      <td>1033732</td>\n",
       "      <td>A3</td>\n",
       "      <td>R</td>\n",
       "      <td>...</td>\n",
       "      <td>COSMOPOLITAN BROADCASTING CORP</td>\n",
       "      <td>80</td>\n",
       "      <td>RIVERSIDE DRIVE</td>\n",
       "      <td>NEW YORK</td>\n",
       "      <td>NY</td>\n",
       "      <td>10024</td>\n",
       "      <td>2128775200</td>\n",
       "      <td>02/19/2021 12:00:00 AM</td>\n",
       "      <td>INSTALLATION OF TELECOMMUNICATION ANTENNAS ON ...</td>\n",
       "      <td>02/20/2021 00:00:00</td>\n",
       "    </tr>\n",
       "    <tr>\n",
       "      <th>6089</th>\n",
       "      <td>340771221</td>\n",
       "      <td>01</td>\n",
       "      <td>3</td>\n",
       "      <td>2630</td>\n",
       "      <td>OCEAN AVENUE</td>\n",
       "      <td>07352</td>\n",
       "      <td>00039</td>\n",
       "      <td>3199767</td>\n",
       "      <td>A3</td>\n",
       "      <td>R</td>\n",
       "      <td>...</td>\n",
       "      <td>T-MOBILE</td>\n",
       "      <td>4</td>\n",
       "      <td>SYLVAN WAY</td>\n",
       "      <td>PARSIPPANY</td>\n",
       "      <td>NJ</td>\n",
       "      <td>07054</td>\n",
       "      <td>9738791375</td>\n",
       "      <td>02/26/2021 12:00:00 AM</td>\n",
       "      <td>DECOMMISSION OF EXISTING TELECOMMUNICATIONS SI...</td>\n",
       "      <td>02/27/2021 00:00:00</td>\n",
       "    </tr>\n",
       "  </tbody>\n",
       "</table>\n",
       "<p>6064 rows × 55 columns</p>\n",
       "</div>"
      ],
      "text/plain": [
       "          Job # Doc # Borough       House #                       Street Name  \\\n",
       "0     321410745    01       3  96            SCHERMERHORN STREET                \n",
       "1     122711903    01       1  210           SOUTH STREET                       \n",
       "2     122282010    01       1  143           11 AVENUE                          \n",
       "3     220535151    01       2  3103          THIRD AVE                          \n",
       "4     321369620    01       3  329           UNION STREET                       \n",
       "...         ...   ...     ...           ...                               ...   \n",
       "6085  240288817    01       2  840           EAST 226 STREET                    \n",
       "6086  340781899    01       3  946           BUSHWICK AVENUE                    \n",
       "6087  440652214    01       4  42-24         ORCHARD STREET                     \n",
       "6088  123039069    01       1  80            RIVERSIDE DRIVE                    \n",
       "6089  340771221    01       3  2630          OCEAN AVENUE                       \n",
       "\n",
       "      Block    Lot    Bin # Job Type Job Status  ...  \\\n",
       "0     00271  00047  3002707       A3          R  ...   \n",
       "1     00250  00001  1003205       A3          R  ...   \n",
       "2     00662  00062  1012258       A3          R  ...   \n",
       "3     02380  00051  2102501       A3          R  ...   \n",
       "4     00428  00049  3007041       A3          R  ...   \n",
       "...     ...    ...      ...      ...        ...  ...   \n",
       "6085  04850  00066  2063908       A3          R  ...   \n",
       "6086  03294  00016  3075292       A3          R  ...   \n",
       "6087  00265  00001  4003482       A3          R  ...   \n",
       "6088  01244  00033  1033732       A3          R  ...   \n",
       "6089  07352  00039  3199767       A3          R  ...   \n",
       "\n",
       "                 Owner's Business Name Owner's  House #  \\\n",
       "0     DOUGLAS ELLIMAN PROPERTY MANAGEM     96             \n",
       "1     EDISON PROPERTIES, LLC               100            \n",
       "2     CHELSEA PIERS, LP                    62             \n",
       "3     LA PUERTA DE VITALIDAD HOUSING       902            \n",
       "4     ICON REALTY MANAGEMENT, LLC          419            \n",
       "...                                ...              ...   \n",
       "6085  T-MOBILE                             4              \n",
       "6086  T-MOBILE                             4              \n",
       "6087  BLDG ORCHARD LLC                     417            \n",
       "6088  COSMOPOLITAN BROADCASTING CORP       80             \n",
       "6089  T-MOBILE                             4              \n",
       "\n",
       "                 Owner's  House Street             City State   Zip Code  \\\n",
       "0     SCHERMERHORN STREET               BROOKLYN           NY  11201       \n",
       "1     WASHINGTON STREET                 NEWARK             NJ  07102       \n",
       "2     CHELSEA PIERS                     NEW YORK           NY  10011       \n",
       "3     BROADWAY                          NEW YORK           NY  10025       \n",
       "4     LAFAYETTE STREET                  NEW YORK           NY  10003       \n",
       "...                                ...              ...   ...        ...   \n",
       "6085  SYLVAN WAY                        PARSIPPANY         NJ  07054       \n",
       "6086  SYLVAN WAY                        PARSIPPANY         NJ  07054       \n",
       "6087  FIFTH AVENUE                      NEW YORK           NY  10016       \n",
       "6088  RIVERSIDE DRIVE                   NEW YORK           NY  10024       \n",
       "6089  SYLVAN WAY                        PARSIPPANY         NJ  07054       \n",
       "\n",
       "     Owner's  Phone #      First Permit  Date  \\\n",
       "0          7188474820  08/16/2016 12:00:00 AM   \n",
       "1          9738492613  08/16/2016 12:00:00 AM   \n",
       "2          9733974814  08/16/2016 12:00:00 AM   \n",
       "3          2122439090  08/16/2016 12:00:00 AM   \n",
       "4          2126612700  08/17/2016 12:00:00 AM   \n",
       "...               ...                     ...   \n",
       "6085       9738791375  11/23/2020 12:00:00 AM   \n",
       "6086       9738791375  01/08/2021 12:00:00 AM   \n",
       "6087       2126244300  01/19/2021 12:00:00 AM   \n",
       "6088       2128775200  02/19/2021 12:00:00 AM   \n",
       "6089       9738791375  02/26/2021 12:00:00 AM   \n",
       "\n",
       "                                        Job Description           DOBRunDate  \n",
       "0     INSTALLATION OF MICROWAVE DISH ON ROOF. ALL IN...  08/17/2016 00:00:00  \n",
       "1     REPLACEMENT OF EXISTING TELECOMMUNICATION ANTE...  08/17/2016 00:00:00  \n",
       "2     INSTALLATION OF RRU UNITS ON THE ROOF. RETROFI...  08/17/2016 00:00:00  \n",
       "3     INSTALL NEW TELECOMMUNICATIONS CABINETS, RELAT...  08/17/2016 00:00:00  \n",
       "4     INSTALLATION OF TELECOMMUNICATION ANTENNAS AND...  08/18/2016 00:00:00  \n",
       "...                                                 ...                  ...  \n",
       "6085  DECOMMISSION OF EXISTING TELECOMMUNICATIONS SI...  11/24/2020 00:00:00  \n",
       "6086  DECOMMISSION OF EXISTING TELECOMMUNICATIONS SI...  01/09/2021 00:00:00  \n",
       "6087  DECOMMISSION OF EXISTING TELECOMMUNICATIONS SI...  01/20/2021 00:00:00  \n",
       "6088  INSTALLATION OF TELECOMMUNICATION ANTENNAS ON ...  02/20/2021 00:00:00  \n",
       "6089  DECOMMISSION OF EXISTING TELECOMMUNICATIONS SI...  02/27/2021 00:00:00  \n",
       "\n",
       "[6064 rows x 55 columns]"
      ]
     },
     "execution_count": 10,
     "metadata": {},
     "output_type": "execute_result"
    }
   ],
   "source": [
    "df"
   ]
  },
  {
   "cell_type": "code",
   "execution_count": null,
   "id": "eafecfab",
   "metadata": {},
   "outputs": [],
   "source": []
  },
  {
   "cell_type": "markdown",
   "id": "3f734f9f",
   "metadata": {},
   "source": [
    "## Describe columns in groups so they fit on screen"
   ]
  },
  {
   "cell_type": "code",
   "execution_count": 11,
   "id": "66610cdc",
   "metadata": {
    "scrolled": true
   },
   "outputs": [
    {
     "data": {
      "text/html": [
       "<div>\n",
       "<style scoped>\n",
       "    .dataframe tbody tr th:only-of-type {\n",
       "        vertical-align: middle;\n",
       "    }\n",
       "\n",
       "    .dataframe tbody tr th {\n",
       "        vertical-align: top;\n",
       "    }\n",
       "\n",
       "    .dataframe thead th {\n",
       "        text-align: right;\n",
       "    }\n",
       "</style>\n",
       "<table border=\"1\" class=\"dataframe\">\n",
       "  <thead>\n",
       "    <tr style=\"text-align: right;\">\n",
       "      <th></th>\n",
       "      <th>Job #</th>\n",
       "      <th>Doc #</th>\n",
       "      <th>Borough</th>\n",
       "      <th>House #</th>\n",
       "      <th>Street Name</th>\n",
       "      <th>Block</th>\n",
       "      <th>Lot</th>\n",
       "      <th>Bin #</th>\n",
       "      <th>Job Type</th>\n",
       "      <th>Job Status</th>\n",
       "      <th>Job Status Descrp</th>\n",
       "      <th>Latest Action Date</th>\n",
       "      <th>Building Type</th>\n",
       "      <th>Community - Board</th>\n",
       "      <th>Landmarked</th>\n",
       "      <th>Little e</th>\n",
       "      <th>PC Filed</th>\n",
       "      <th>Other</th>\n",
       "      <th>Other Description</th>\n",
       "      <th>Applicant's First Name</th>\n",
       "    </tr>\n",
       "  </thead>\n",
       "  <tbody>\n",
       "    <tr>\n",
       "      <th>count</th>\n",
       "      <td>6064</td>\n",
       "      <td>6064</td>\n",
       "      <td>6042</td>\n",
       "      <td>6002</td>\n",
       "      <td>5977</td>\n",
       "      <td>5971</td>\n",
       "      <td>5966</td>\n",
       "      <td>5965</td>\n",
       "      <td>5964</td>\n",
       "      <td>5964</td>\n",
       "      <td>5964</td>\n",
       "      <td>5964</td>\n",
       "      <td>5964</td>\n",
       "      <td>5963</td>\n",
       "      <td>308</td>\n",
       "      <td>29</td>\n",
       "      <td>5963</td>\n",
       "      <td>5963</td>\n",
       "      <td>5963</td>\n",
       "      <td>5963</td>\n",
       "    </tr>\n",
       "    <tr>\n",
       "      <th>unique</th>\n",
       "      <td>6026</td>\n",
       "      <td>74</td>\n",
       "      <td>66</td>\n",
       "      <td>2447</td>\n",
       "      <td>2185</td>\n",
       "      <td>2862</td>\n",
       "      <td>283</td>\n",
       "      <td>4076</td>\n",
       "      <td>2</td>\n",
       "      <td>2</td>\n",
       "      <td>2</td>\n",
       "      <td>1145</td>\n",
       "      <td>3</td>\n",
       "      <td>62</td>\n",
       "      <td>1</td>\n",
       "      <td>1</td>\n",
       "      <td>1</td>\n",
       "      <td>1</td>\n",
       "      <td>3</td>\n",
       "      <td>60</td>\n",
       "    </tr>\n",
       "    <tr>\n",
       "      <th>top</th>\n",
       "      <td>122554280</td>\n",
       "      <td>01</td>\n",
       "      <td>1</td>\n",
       "      <td>2</td>\n",
       "      <td>BROADWAY</td>\n",
       "      <td>02139</td>\n",
       "      <td>00001</td>\n",
       "      <td>1034515</td>\n",
       "      <td>A3</td>\n",
       "      <td>R</td>\n",
       "      <td>PERMIT ISSUED - ENTIRE JOB/WORK</td>\n",
       "      <td>06/08/2015 00:00:00</td>\n",
       "      <td>OTHER</td>\n",
       "      <td>105</td>\n",
       "      <td>Y</td>\n",
       "      <td>H</td>\n",
       "      <td></td>\n",
       "      <td>X</td>\n",
       "      <td>ANTENNA</td>\n",
       "      <td>STEPHEN</td>\n",
       "    </tr>\n",
       "    <tr>\n",
       "      <th>freq</th>\n",
       "      <td>2</td>\n",
       "      <td>5963</td>\n",
       "      <td>2151</td>\n",
       "      <td>41</td>\n",
       "      <td>121</td>\n",
       "      <td>15</td>\n",
       "      <td>1001</td>\n",
       "      <td>8</td>\n",
       "      <td>5963</td>\n",
       "      <td>5963</td>\n",
       "      <td>5963</td>\n",
       "      <td>36</td>\n",
       "      <td>5958</td>\n",
       "      <td>391</td>\n",
       "      <td>308</td>\n",
       "      <td>29</td>\n",
       "      <td>5963</td>\n",
       "      <td>5963</td>\n",
       "      <td>5961</td>\n",
       "      <td>832</td>\n",
       "    </tr>\n",
       "  </tbody>\n",
       "</table>\n",
       "</div>"
      ],
      "text/plain": [
       "            Job # Doc # Borough       House #  \\\n",
       "count        6064  6064    6042          6002   \n",
       "unique       6026    74      66          2447   \n",
       "top     122554280    01       1  2              \n",
       "freq            2  5963    2151            41   \n",
       "\n",
       "                             Street Name  Block    Lot    Bin # Job Type  \\\n",
       "count                               5977   5971   5966     5965     5964   \n",
       "unique                              2185   2862    283     4076        2   \n",
       "top     BROADWAY                          02139  00001  1034515       A3   \n",
       "freq                                 121     15   1001        8     5963   \n",
       "\n",
       "       Job Status                         Job Status Descrp  \\\n",
       "count        5964                                      5964   \n",
       "unique          2                                         2   \n",
       "top             R  PERMIT ISSUED - ENTIRE JOB/WORK            \n",
       "freq         5963                                      5963   \n",
       "\n",
       "         Latest Action Date Building Type Community - Board Landmarked  \\\n",
       "count                  5964          5964              5963        308   \n",
       "unique                 1145             3                62          1   \n",
       "top     06/08/2015 00:00:00         OTHER               105          Y   \n",
       "freq                     36          5958               391        308   \n",
       "\n",
       "       Little e PC Filed Other Other Description Applicant's First Name  \n",
       "count        29     5963  5963              5963                   5963  \n",
       "unique        1        1     1                 3                     60  \n",
       "top           H              X   ANTENNA                STEPHEN          \n",
       "freq         29     5963  5963              5961                    832  "
      ]
     },
     "execution_count": 11,
     "metadata": {},
     "output_type": "execute_result"
    }
   ],
   "source": [
    "df[df.columns[:20]].describe()"
   ]
  },
  {
   "cell_type": "code",
   "execution_count": 12,
   "id": "e04ca24b",
   "metadata": {},
   "outputs": [],
   "source": [
    "# Notes:\n",
    "# Building Type looks binary and has 2 values + maybe NAN\n",
    "# Cluster looks binary and has 2 values + maybe NAN\n",
    "# Landmarked looks binary and has 4 values + maybe NAN\n",
    "# Adult Establishment looks binary and has 2 values + maybe NAN\n",
    "# Loft Board looks binary and has 2 values + maybe NAN\n",
    "# City Owned looks binary and has 4 values + maybe NAN\n",
    "# Little e looks binary and has 5 values + maybe NAN\n"
   ]
  },
  {
   "cell_type": "code",
   "execution_count": 13,
   "id": "cc1797db",
   "metadata": {
    "scrolled": false
   },
   "outputs": [
    {
     "data": {
      "text/html": [
       "<div>\n",
       "<style scoped>\n",
       "    .dataframe tbody tr th:only-of-type {\n",
       "        vertical-align: middle;\n",
       "    }\n",
       "\n",
       "    .dataframe tbody tr th {\n",
       "        vertical-align: top;\n",
       "    }\n",
       "\n",
       "    .dataframe thead th {\n",
       "        text-align: right;\n",
       "    }\n",
       "</style>\n",
       "<table border=\"1\" class=\"dataframe\">\n",
       "  <thead>\n",
       "    <tr style=\"text-align: right;\">\n",
       "      <th></th>\n",
       "      <th>Applicant's Last Name</th>\n",
       "      <th>Applicant Professional Title</th>\n",
       "      <th>Applicant License #</th>\n",
       "      <th>Professional Cert</th>\n",
       "      <th>Pre- Filing Date</th>\n",
       "      <th>Paid</th>\n",
       "      <th>Fully Paid</th>\n",
       "      <th>Assigned</th>\n",
       "      <th>Approved</th>\n",
       "      <th>Fully Permitted</th>\n",
       "      <th>Initial Cost</th>\n",
       "      <th>Total Est. Fee</th>\n",
       "      <th>Fee Status</th>\n",
       "      <th>Existing Occupancy</th>\n",
       "      <th>Proposed Occupancy</th>\n",
       "      <th>Zoning Distr 1</th>\n",
       "      <th>Zoning Distr 2</th>\n",
       "      <th>Zoning Distr 3</th>\n",
       "      <th>Special Distr 1</th>\n",
       "      <th>Special Distr 2</th>\n",
       "    </tr>\n",
       "  </thead>\n",
       "  <tbody>\n",
       "    <tr>\n",
       "      <th>count</th>\n",
       "      <td>5963</td>\n",
       "      <td>5963</td>\n",
       "      <td>5963</td>\n",
       "      <td>39</td>\n",
       "      <td>5963</td>\n",
       "      <td>5963</td>\n",
       "      <td>5963</td>\n",
       "      <td>5884</td>\n",
       "      <td>5963</td>\n",
       "      <td>5963</td>\n",
       "      <td>5963</td>\n",
       "      <td>5963</td>\n",
       "      <td>5963</td>\n",
       "      <td>5963</td>\n",
       "      <td>5963</td>\n",
       "      <td>5963</td>\n",
       "      <td>778</td>\n",
       "      <td>17</td>\n",
       "      <td>1168</td>\n",
       "      <td>321</td>\n",
       "    </tr>\n",
       "    <tr>\n",
       "      <th>unique</th>\n",
       "      <td>81</td>\n",
       "      <td>2</td>\n",
       "      <td>83</td>\n",
       "      <td>1</td>\n",
       "      <td>1065</td>\n",
       "      <td>1060</td>\n",
       "      <td>1059</td>\n",
       "      <td>1158</td>\n",
       "      <td>1258</td>\n",
       "      <td>1144</td>\n",
       "      <td>360</td>\n",
       "      <td>131</td>\n",
       "      <td>2</td>\n",
       "      <td>36</td>\n",
       "      <td>36</td>\n",
       "      <td>135</td>\n",
       "      <td>85</td>\n",
       "      <td>12</td>\n",
       "      <td>49</td>\n",
       "      <td>7</td>\n",
       "    </tr>\n",
       "    <tr>\n",
       "      <th>top</th>\n",
       "      <td>BRAY</td>\n",
       "      <td>PE</td>\n",
       "      <td>086064</td>\n",
       "      <td>Y</td>\n",
       "      <td>05/22/2015 12:00:00 AM</td>\n",
       "      <td>05/22/2015 12:00:00 AM</td>\n",
       "      <td>05/22/2015 12:00:00 AM</td>\n",
       "      <td>05/26/2015 12:00:00 AM</td>\n",
       "      <td>06/01/2015 12:00:00 AM</td>\n",
       "      <td>06/08/2015 12:00:00 AM</td>\n",
       "      <td>10000</td>\n",
       "      <td>286.5</td>\n",
       "      <td>STANDARD</td>\n",
       "      <td>RES</td>\n",
       "      <td>RES</td>\n",
       "      <td>R6</td>\n",
       "      <td>R8B</td>\n",
       "      <td>R8B</td>\n",
       "      <td>MID</td>\n",
       "      <td>IBZ</td>\n",
       "    </tr>\n",
       "    <tr>\n",
       "      <th>freq</th>\n",
       "      <td>834</td>\n",
       "      <td>5718</td>\n",
       "      <td>830</td>\n",
       "      <td>39</td>\n",
       "      <td>72</td>\n",
       "      <td>72</td>\n",
       "      <td>71</td>\n",
       "      <td>127</td>\n",
       "      <td>33</td>\n",
       "      <td>36</td>\n",
       "      <td>732</td>\n",
       "      <td>975</td>\n",
       "      <td>5955</td>\n",
       "      <td>3505</td>\n",
       "      <td>3505</td>\n",
       "      <td>590</td>\n",
       "      <td>58</td>\n",
       "      <td>3</td>\n",
       "      <td>265</td>\n",
       "      <td>215</td>\n",
       "    </tr>\n",
       "  </tbody>\n",
       "</table>\n",
       "</div>"
      ],
      "text/plain": [
       "                 Applicant's Last Name Applicant Professional Title  \\\n",
       "count                             5963                         5963   \n",
       "unique                              81                            2   \n",
       "top     BRAY                                                     PE   \n",
       "freq                               834                         5718   \n",
       "\n",
       "       Applicant License # Professional Cert        Pre- Filing Date  \\\n",
       "count                 5963                39                    5963   \n",
       "unique                  83                 1                    1065   \n",
       "top                 086064                 Y  05/22/2015 12:00:00 AM   \n",
       "freq                   830                39                      72   \n",
       "\n",
       "                          Paid              Fully Paid  \\\n",
       "count                     5963                    5963   \n",
       "unique                    1060                    1059   \n",
       "top     05/22/2015 12:00:00 AM  05/22/2015 12:00:00 AM   \n",
       "freq                        72                      71   \n",
       "\n",
       "                      Assigned                Approved  \\\n",
       "count                     5884                    5963   \n",
       "unique                    1158                    1258   \n",
       "top     05/26/2015 12:00:00 AM  06/01/2015 12:00:00 AM   \n",
       "freq                       127                      33   \n",
       "\n",
       "               Fully Permitted Initial Cost Total Est. Fee Fee Status  \\\n",
       "count                     5963         5963           5963       5963   \n",
       "unique                    1144          360            131          2   \n",
       "top     06/08/2015 12:00:00 AM        10000          286.5   STANDARD   \n",
       "freq                        36          732            975       5955   \n",
       "\n",
       "       Existing Occupancy Proposed Occupancy Zoning Distr 1 Zoning Distr 2  \\\n",
       "count                5963               5963           5963            778   \n",
       "unique                 36                 36            135             85   \n",
       "top                  RES                RES    R6             R8B            \n",
       "freq                 3505               3505            590             58   \n",
       "\n",
       "       Zoning Distr 3 Special Distr 1 Special Distr 2   \n",
       "count              17            1168              321  \n",
       "unique             12              49                7  \n",
       "top      R8B                   MID              IBZ     \n",
       "freq                3             265              215  "
      ]
     },
     "execution_count": 13,
     "metadata": {},
     "output_type": "execute_result"
    }
   ],
   "source": [
    "df[df.columns[20:40]].describe()"
   ]
  },
  {
   "cell_type": "code",
   "execution_count": 14,
   "id": "d8c99fc0",
   "metadata": {},
   "outputs": [],
   "source": [
    "# PC Filed -- Other all look binary, and have 1-2 values + maybe NAN\n",
    "#\n",
    "# Take a look at Other Description for weird strings\n",
    "\n",
    "#  Lots of the same First and Last name\n",
    "\n",
    "# Check names and titles\n",
    "\n",
    "# APPLICATNT LICENCSE # NEEDS TO BE A STRING TO PERSERVE THE 0 ON IT (PROBABLY)\n",
    "\n",
    "# Professional Cert looks binary and has 5 values + maybe NAN\n",
    "\n"
   ]
  },
  {
   "cell_type": "code",
   "execution_count": 15,
   "id": "d7441963",
   "metadata": {
    "scrolled": false
   },
   "outputs": [
    {
     "data": {
      "text/html": [
       "<div>\n",
       "<style scoped>\n",
       "    .dataframe tbody tr th:only-of-type {\n",
       "        vertical-align: middle;\n",
       "    }\n",
       "\n",
       "    .dataframe tbody tr th {\n",
       "        vertical-align: top;\n",
       "    }\n",
       "\n",
       "    .dataframe thead th {\n",
       "        text-align: right;\n",
       "    }\n",
       "</style>\n",
       "<table border=\"1\" class=\"dataframe\">\n",
       "  <thead>\n",
       "    <tr style=\"text-align: right;\">\n",
       "      <th></th>\n",
       "      <th>Owner Type</th>\n",
       "      <th>Owner Type Description</th>\n",
       "      <th>Non-Profit</th>\n",
       "      <th>Owner's First Name</th>\n",
       "      <th>Owner's Last Name</th>\n",
       "      <th>Owner's Business Name</th>\n",
       "      <th>Owner's  House #</th>\n",
       "      <th>Owner's  House Street</th>\n",
       "      <th>City</th>\n",
       "      <th>State</th>\n",
       "      <th>Zip Code</th>\n",
       "      <th>Owner's  Phone #</th>\n",
       "      <th>First Permit  Date</th>\n",
       "      <th>Job Description</th>\n",
       "      <th>DOBRunDate</th>\n",
       "    </tr>\n",
       "  </thead>\n",
       "  <tbody>\n",
       "    <tr>\n",
       "      <th>count</th>\n",
       "      <td>5963</td>\n",
       "      <td>5963</td>\n",
       "      <td>5963</td>\n",
       "      <td>5963</td>\n",
       "      <td>5963</td>\n",
       "      <td>5961</td>\n",
       "      <td>5961</td>\n",
       "      <td>5961</td>\n",
       "      <td>5961</td>\n",
       "      <td>5961</td>\n",
       "      <td>5961</td>\n",
       "      <td>5961</td>\n",
       "      <td>5963</td>\n",
       "      <td>5958</td>\n",
       "      <td>5963</td>\n",
       "    </tr>\n",
       "    <tr>\n",
       "      <th>unique</th>\n",
       "      <td>12</td>\n",
       "      <td>13</td>\n",
       "      <td>2</td>\n",
       "      <td>887</td>\n",
       "      <td>1817</td>\n",
       "      <td>3343</td>\n",
       "      <td>1317</td>\n",
       "      <td>1602</td>\n",
       "      <td>282</td>\n",
       "      <td>23</td>\n",
       "      <td>448</td>\n",
       "      <td>2066</td>\n",
       "      <td>1144</td>\n",
       "      <td>3886</td>\n",
       "      <td>1141</td>\n",
       "    </tr>\n",
       "    <tr>\n",
       "      <th>top</th>\n",
       "      <td>03</td>\n",
       "      <td>PARTNERSHIP</td>\n",
       "      <td>N</td>\n",
       "      <td>ROBERT</td>\n",
       "      <td>CIAGLIA</td>\n",
       "      <td>T-MOBILE</td>\n",
       "      <td>4</td>\n",
       "      <td>SYLVAN WAY</td>\n",
       "      <td>NEW YORK</td>\n",
       "      <td>NY</td>\n",
       "      <td>07054</td>\n",
       "      <td>9733974814</td>\n",
       "      <td>06/08/2015 12:00:00 AM</td>\n",
       "      <td>INSTALL NEW TELECOMMUNICATIONS CABINETS, RELAT...</td>\n",
       "      <td>12/28/2015 00:00:00</td>\n",
       "    </tr>\n",
       "    <tr>\n",
       "      <th>freq</th>\n",
       "      <td>3731</td>\n",
       "      <td>3731</td>\n",
       "      <td>5843</td>\n",
       "      <td>1385</td>\n",
       "      <td>1296</td>\n",
       "      <td>582</td>\n",
       "      <td>1170</td>\n",
       "      <td>1153</td>\n",
       "      <td>1490</td>\n",
       "      <td>3913</td>\n",
       "      <td>1205</td>\n",
       "      <td>966</td>\n",
       "      <td>36</td>\n",
       "      <td>122</td>\n",
       "      <td>39</td>\n",
       "    </tr>\n",
       "  </tbody>\n",
       "</table>\n",
       "</div>"
      ],
      "text/plain": [
       "       Owner Type                    Owner Type Description Non-Profit  \\\n",
       "count        5963                                      5963       5963   \n",
       "unique         12                                        13          2   \n",
       "top            03  PARTNERSHIP                                       N   \n",
       "freq         3731                                      3731       5843   \n",
       "\n",
       "       Owner's First Name               Owner's Last Name  \\\n",
       "count                5963                            5963   \n",
       "unique                887                            1817   \n",
       "top       ROBERT           CIAGLIA                          \n",
       "freq                 1385                            1296   \n",
       "\n",
       "                   Owner's Business Name Owner's  House #  \\\n",
       "count                               5961             5961   \n",
       "unique                              3343             1317   \n",
       "top     T-MOBILE                             4              \n",
       "freq                                 582             1170   \n",
       "\n",
       "                   Owner's  House Street             City State   Zip Code  \\\n",
       "count                               5961             5961  5961       5961   \n",
       "unique                              1602              282    23        448   \n",
       "top     SYLVAN WAY                        NEW YORK           NY  07054       \n",
       "freq                                1153             1490  3913       1205   \n",
       "\n",
       "       Owner's  Phone #      First Permit  Date  \\\n",
       "count              5961                    5963   \n",
       "unique             2066                    1144   \n",
       "top          9733974814  06/08/2015 12:00:00 AM   \n",
       "freq                966                      36   \n",
       "\n",
       "                                          Job Description           DOBRunDate  \n",
       "count                                                5958                 5963  \n",
       "unique                                               3886                 1141  \n",
       "top     INSTALL NEW TELECOMMUNICATIONS CABINETS, RELAT...  12/28/2015 00:00:00  \n",
       "freq                                                  122                   39  "
      ]
     },
     "execution_count": 15,
     "metadata": {},
     "output_type": "execute_result"
    }
   ],
   "source": [
    "df[df.columns[40:60]].describe()"
   ]
  },
  {
   "cell_type": "code",
   "execution_count": 16,
   "id": "38b597c9",
   "metadata": {},
   "outputs": [],
   "source": [
    "# Need to convert date columns to pd.datetime\n",
    "# RENAME PAID TO PAID DATE\n",
    "# RENAME FULLY PAID TO FULLY PAID DATE\n",
    "# RENAME ASSISGNED TO ASSIGNED DATE\n",
    "# RENAME APPROVED TO APPROVED DATE\n",
    "\n",
    "# CHECK COHERENCE OF PAID DATE <= FULLY PAID DATE\n",
    "# CHECK COHERENCE OF PRE FILING DATE <= PAID DATE\n",
    "# CHECK COHERENCE OF ASSIGNED DATE <= APPROVED DATE\n",
    "# \n",
    "\n",
    "# REMOVE $ FROM Initial Cost and Total Estimated Fee, and put them in column name, convert values to floats\n",
    "\n",
    "# Check What fee status is\n",
    "\n",
    "# Check Existing Zoning Sqft, Propsed Zoning Sqft, Enlargement SQ Footage for reasonable values\n",
    "# Change either Sqft to SQ Footage or vvice-versa\n",
    "\n",
    "# Horizontal Enlargement and Vertical Enlargement are booleans + NAN\n",
    "# Change Enlrgmt to Enlargement\n",
    "\n",
    "#Chcek ExisitngNo. of Stories and Proposed # of Stories for reasonableness\n",
    "# Add space between Existing and No.\n",
    "# Change either Job# to Job No. or vice versa\n",
    "# maybe just change all the No./# to \"number\"\n",
    "\n",
    "# Check Existing and proposed height for reasonableness. Add unit to column name\n",
    "\n",
    "# check Existing Dwelling Units for reasonableness \n",
    "\n"
   ]
  },
  {
   "cell_type": "code",
   "execution_count": null,
   "id": "43555bf6",
   "metadata": {},
   "outputs": [],
   "source": []
  },
  {
   "cell_type": "code",
   "execution_count": 17,
   "id": "5659cb6f",
   "metadata": {
    "scrolled": true
   },
   "outputs": [],
   "source": [
    "#df[df.columns[60:80]].describe()"
   ]
  },
  {
   "cell_type": "code",
   "execution_count": 18,
   "id": "88f1f9a9",
   "metadata": {},
   "outputs": [],
   "source": [
    "# check Proposed Dwelling Units\n",
    "## Why does Existing Occupancy have fewer cats than Proposed Occupancy. Check those.\n",
    "\n",
    "# What is Site Fill. \n",
    "\n",
    "# Get list of NYC ZOning Districts and Special Districts\n",
    "\n",
    "# Checmk Owner Typer for spelling issues\n",
    "\n",
    "# Non Profit is binary\n",
    "\n",
    "# Check Owners's First and last name\n",
    "\n",
    "# Owner'sBuisness Name should not be \"OWNER\"\n",
    "\n",
    "# Owner's house number, streeet name, city, state and zip have almost no values\n",
    "\n",
    "# Why is the same phone number so common"
   ]
  },
  {
   "cell_type": "code",
   "execution_count": null,
   "id": "1949246f",
   "metadata": {},
   "outputs": [],
   "source": []
  },
  {
   "cell_type": "code",
   "execution_count": 19,
   "id": "ab30ddcd",
   "metadata": {
    "scrolled": true
   },
   "outputs": [],
   "source": [
    "#df[df.columns[80:100]].describe()"
   ]
  },
  {
   "cell_type": "code",
   "execution_count": 20,
   "id": "a159aa04",
   "metadata": {},
   "outputs": [],
   "source": [
    "\n",
    "# That is a lot of unique job descriptions\n",
    "\n",
    "# Add spaces to DOB Run Date name\n",
    "# make DOB Run Date a datetime\n",
    "\n",
    "# What is Job_S1_NO. It uses underscores.\n",
    "\n",
    "# All the remaining columns have ALL CAPS NAMES WITH UNDERSCORES \n",
    "# TOTAL_CONSTRUCTION_FLOOR_AREA, WITHDRAWAL_FLAG\n",
    "\n",
    "# SIGNOFF_DATE needs to be datetime\n",
    "# SPECIAL_ACTION_STATUS\n",
    "# SPECIAL_ACTION_DATE needs to be datetime\n",
    "# BUILDING_CLASS\n",
    "# What is JOB_NO_GOOD_COUNT\n",
    "#\n",
    "# maybe need GIS DATA\n",
    "# GIS_LATITUDE\n",
    "# GIS_LONGITUDE\n",
    "# GIS_COUNCIL_DISTRICT\n",
    "# GIS_CENSUS_TRACT\n",
    "# GIS_NTA_NAME\n",
    "# GIS_BIN\n",
    "# "
   ]
  },
  {
   "cell_type": "code",
   "execution_count": 21,
   "id": "571f0534",
   "metadata": {},
   "outputs": [
    {
     "data": {
      "text/plain": [
       "Index(['Job #', 'Doc #', 'Borough', 'House #', 'Street Name', 'Block', 'Lot',\n",
       "       'Bin #', 'Job Type', 'Job Status', 'Job Status Descrp',\n",
       "       'Latest Action Date', 'Building Type', 'Community - Board',\n",
       "       'Landmarked', 'Little e', 'PC Filed', 'Other', 'Other Description',\n",
       "       'Applicant's First Name', 'Applicant's Last Name',\n",
       "       'Applicant Professional Title', 'Applicant License #',\n",
       "       'Professional Cert', 'Pre- Filing Date', 'Paid', 'Fully Paid',\n",
       "       'Assigned', 'Approved', 'Fully Permitted', 'Initial Cost',\n",
       "       'Total Est. Fee', 'Fee Status', 'Existing Occupancy',\n",
       "       'Proposed Occupancy', 'Zoning Distr 1', 'Zoning Distr 2',\n",
       "       'Zoning Distr 3', 'Special Distr 1', 'Special Distr 2 ', 'Owner Type',\n",
       "       'Owner Type Description', 'Non-Profit', 'Owner's First Name',\n",
       "       'Owner's Last Name', 'Owner's Business Name', 'Owner's  House #',\n",
       "       'Owner's  House Street', 'City', 'State', 'Zip Code',\n",
       "       'Owner's  Phone #', 'First Permit  Date', 'Job Description',\n",
       "       'DOBRunDate'],\n",
       "      dtype='object')"
      ]
     },
     "execution_count": 21,
     "metadata": {},
     "output_type": "execute_result"
    }
   ],
   "source": [
    "df.columns"
   ]
  },
  {
   "cell_type": "markdown",
   "id": "97f8e2e1",
   "metadata": {},
   "source": [
    "## Renaming columns"
   ]
  },
  {
   "cell_type": "code",
   "execution_count": 172,
   "id": "74a46e5c",
   "metadata": {},
   "outputs": [
    {
     "data": {
      "text/plain": [
       "'\\ndf = df.rename(columns={\\n                        , \"JOB_S1_NO\": \"Job S1 #\"\\n                        , \"TOTAL_CONSTRUCTION_FLOOR_AREA\": \"Total Construction Floor Area\"\\n                        , \"WITHDRAWAL_FLAG\": \"Withdrawl Flag\"\\n                        , \"SIGNOFF_DATE\": \"Signoff Date\"\\n                        , \"SPECIAL_ACTION_STATUS\": \"Special Action Status\"\\n                        , \"SPECIAL_ACTION_DATE\": \"Special Action Date\"\\n                        , \"BUILDING_CLASS\": \"Building Class\"\\n                        , \"JOB_NO_GOOD_COUNT\": \"Job No Good Count\"\\n                        , \"GIS_LATITUDE\": \"GIS Latitude\"\\n                        , \"GIS_LONGITUDE\": \"GIS Longitude\"\\n                        , \"GIS_COUNCIL_DISTRICT\": \"GIS Council District\"\\n                        , \"GIS_CENSUS_TRACT\": \"GIS Census Tract\"\\n                        , \"GIS_NTA_NAME\": \"GIS NTA Name\"\\n                        , \"GIS_BIN\": \"GIS Bin\"\\n                        })\\n'"
      ]
     },
     "execution_count": 172,
     "metadata": {},
     "output_type": "execute_result"
    }
   ],
   "source": [
    "rename_dict = {\n",
    "                          \"Owner's  Phone #\": \"Owner's Phone #\"\n",
    "                        , \"Owner's  House #\": \"Owner's House #\" \n",
    "\n",
    "                        , \"Owner's  House Street\": \"Owner's House Street Name\"\n",
    "                        , \"Paid\": \"Paid Date\"\n",
    "                        , \"Fully Paid\": \"Fully Paid Date\"\n",
    "                        , \"Assigned\": \"Assigned Date\"\n",
    "                        , \"Approved\": \"Approved Date\"\n",
    "                        , \"Job Status Descrp\": \"Job Status Description\"\n",
    "                        , \"Community - Board\": \"Community Board\"\n",
    "                        , \"Adult Estab\": \"Adult Establishment\"\n",
    "                        , \"Pre- Filing Date\": \"Pre-Filing Date\"\n",
    "                        , \"Total Est. Fee\": \"Total Estimated Fee\"\n",
    "                        , \"Horizontal Enlrgmt\": \"Horizontal Enlargement\"\n",
    "                        , \"Vertical Enlrgmt\": \"Vertical Enlargement\"\n",
    "                        , \"ExistingNo. of Stories\": \"Existing # of Stories\"\n",
    "                        , \"Proposed No. of Stories\": \"Proposed # of Stories\"\n",
    "                        , \"Zoning Distr 1\": \"Zoning District 1\"\n",
    "                        , \"Zoning Distr 2\": \"Zoning District 2\"\n",
    "                        , \"Zoning Distr 3\": \"Zoning District 3\"\n",
    "                        , \"Special Distr 1\": \"Special District 1\"\n",
    "                        , \"Special Distr 2\": \"Special District 2\"\n",
    "                        , \"Special Distr 3\": \"Special District 3\"\n",
    "                        , \"City\": \"Owner's House City\"\n",
    "                        , \"State\": \"Owner's House State\"\n",
    "                        , \"Zip\": \"Owner's House Zip\"\n",
    "                        , \"DOBRunDate\": \"DOB Run Date\",\n",
    "    \"Community - Board\": \"Community-Board\",\n",
    "    \"Latest Action Date\": \"Latest Action Date\"\n",
    "                       }\n",
    "\n",
    "\n",
    "df = df.rename(columns=rename_dict)\n",
    "\n",
    "#Lower cased but not sure if this is necessary\n",
    "'''\n",
    "df = df.rename(columns={\n",
    "                        , \"JOB_S1_NO\": \"Job S1 #\"\n",
    "                        , \"TOTAL_CONSTRUCTION_FLOOR_AREA\": \"Total Construction Floor Area\"\n",
    "                        , \"WITHDRAWAL_FLAG\": \"Withdrawl Flag\"\n",
    "                        , \"SIGNOFF_DATE\": \"Signoff Date\"\n",
    "                        , \"SPECIAL_ACTION_STATUS\": \"Special Action Status\"\n",
    "                        , \"SPECIAL_ACTION_DATE\": \"Special Action Date\"\n",
    "                        , \"BUILDING_CLASS\": \"Building Class\"\n",
    "                        , \"JOB_NO_GOOD_COUNT\": \"Job No Good Count\"\n",
    "                        , \"GIS_LATITUDE\": \"GIS Latitude\"\n",
    "                        , \"GIS_LONGITUDE\": \"GIS Longitude\"\n",
    "                        , \"GIS_COUNCIL_DISTRICT\": \"GIS Council District\"\n",
    "                        , \"GIS_CENSUS_TRACT\": \"GIS Census Tract\"\n",
    "                        , \"GIS_NTA_NAME\": \"GIS NTA Name\"\n",
    "                        , \"GIS_BIN\": \"GIS Bin\"\n",
    "                        })\n",
    "'''"
   ]
  },
  {
   "cell_type": "code",
   "execution_count": 23,
   "id": "ef3bd80f",
   "metadata": {},
   "outputs": [],
   "source": [
    "#rename_dict"
   ]
  },
  {
   "cell_type": "markdown",
   "id": "04fff37e",
   "metadata": {},
   "source": [
    "#### Method to get an idea of the top 10 values of a column"
   ]
  },
  {
   "cell_type": "code",
   "execution_count": 24,
   "id": "530f64c5",
   "metadata": {},
   "outputs": [],
   "source": [
    "def show_vals(column_name, show_rows=10, df=df):\n",
    "    print(\"Top {} {}:\\n\".format(show_rows, column_name))\n",
    "    print(df[column_name].value_counts(dropna=False)[:show_rows])\n",
    "    print()"
   ]
  },
  {
   "cell_type": "code",
   "execution_count": null,
   "id": "ecefab2c",
   "metadata": {},
   "outputs": [],
   "source": []
  },
  {
   "cell_type": "code",
   "execution_count": 25,
   "id": "32ce27f4",
   "metadata": {},
   "outputs": [],
   "source": [
    "df_sample = df.sample(50).copy()"
   ]
  },
  {
   "cell_type": "markdown",
   "id": "b67001a4",
   "metadata": {},
   "source": [
    "### Examining Job #s"
   ]
  },
  {
   "cell_type": "markdown",
   "id": "7df54c7d",
   "metadata": {},
   "source": [
    "Some repition in the Job #'s, but nothing major. We will check some of the repeated Job #s to be sure they actually refer to the same jobs"
   ]
  },
  {
   "cell_type": "code",
   "execution_count": 26,
   "id": "098f4d0a",
   "metadata": {
    "scrolled": false
   },
   "outputs": [
    {
     "data": {
      "text/plain": [
       "122554280    2\n",
       "122413218    2\n",
       "421210362    2\n",
       "220474957    2\n",
       "440243103    2\n",
       "            ..\n",
       "321138149    1\n",
       "220468456    1\n",
       "421179389    1\n",
       "321156743    1\n",
       "340771221    1\n",
       "Name: Job #, Length: 6026, dtype: int64"
      ]
     },
     "execution_count": 26,
     "metadata": {},
     "output_type": "execute_result"
    }
   ],
   "source": [
    "df['Job #'].value_counts(dropna=False)"
   ]
  },
  {
   "cell_type": "markdown",
   "id": "6bb6fc3f",
   "metadata": {},
   "source": [
    "~Nothing weird looking here~ \n",
    "Definitely werird"
   ]
  },
  {
   "cell_type": "code",
   "execution_count": 27,
   "id": "0c8ddd3c",
   "metadata": {
    "scrolled": true
   },
   "outputs": [
    {
     "data": {
      "text/plain": [
       "'120365979|01|1|173         |BROADWAY                        |00063|00021|1001079|A3|R|PERMIT ISSUED - ENTIRE JOB/WORK         |04/27/2018 00:00:00|OTHER|101||| |X|ANTENNA        |STEPHEN        |BRAY                          |PE|086064||05/27/2010 00:00:00|05/27/2010 00:00:00|05/27/2010 00:00:00|05/28/2010 00:00:00|11/08/2010 00:00:00|04/27/2018 00:00:00|10000.00|191.50|STANDARD|COM |COM |C5-5        |||LM    ||03|PARTNERSHIP                             |N|CHARLES        |GENGLER                       |DAVID M BLADWIN REALTY LLC      |113         |CEDAR STREET'"
      ]
     },
     "execution_count": 27,
     "metadata": {},
     "output_type": "execute_result"
    }
   ],
   "source": [
    "df['Job #'].min()"
   ]
  },
  {
   "cell_type": "markdown",
   "id": "edd8d7f7",
   "metadata": {},
   "source": [
    "Drop this column:"
   ]
  },
  {
   "cell_type": "code",
   "execution_count": 28,
   "id": "67f4bb32",
   "metadata": {},
   "outputs": [
    {
     "data": {
      "text/html": [
       "<div>\n",
       "<style scoped>\n",
       "    .dataframe tbody tr th:only-of-type {\n",
       "        vertical-align: middle;\n",
       "    }\n",
       "\n",
       "    .dataframe tbody tr th {\n",
       "        vertical-align: top;\n",
       "    }\n",
       "\n",
       "    .dataframe thead th {\n",
       "        text-align: right;\n",
       "    }\n",
       "</style>\n",
       "<table border=\"1\" class=\"dataframe\">\n",
       "  <thead>\n",
       "    <tr style=\"text-align: right;\">\n",
       "      <th></th>\n",
       "      <th>Job #</th>\n",
       "      <th>Doc #</th>\n",
       "      <th>Borough</th>\n",
       "      <th>House #</th>\n",
       "      <th>Street Name</th>\n",
       "      <th>Block</th>\n",
       "      <th>Lot</th>\n",
       "      <th>Bin #</th>\n",
       "      <th>Job Type</th>\n",
       "      <th>Job Status</th>\n",
       "      <th>...</th>\n",
       "      <th>Owner's Business Name</th>\n",
       "      <th>Owner's House #</th>\n",
       "      <th>Owner's House Street Name</th>\n",
       "      <th>City</th>\n",
       "      <th>Owner's House State</th>\n",
       "      <th>Zip Code</th>\n",
       "      <th>Owner's Phone #</th>\n",
       "      <th>First Permit  Date</th>\n",
       "      <th>Job Description</th>\n",
       "      <th>DOB Run Date</th>\n",
       "    </tr>\n",
       "  </thead>\n",
       "  <tbody>\n",
       "    <tr>\n",
       "      <th>883</th>\n",
       "      <td>120365979|01|1|173         |BROADWAY          ...</td>\n",
       "      <td>SUITE# 3A         |NY             |NY|10006  ...</td>\n",
       "      <td>EGRESS OR OCCUPANCY.|04/28/2018 00:00:00</td>\n",
       "      <td>NaN</td>\n",
       "      <td>NaN</td>\n",
       "      <td>NaN</td>\n",
       "      <td>NaN</td>\n",
       "      <td>NaN</td>\n",
       "      <td>NaN</td>\n",
       "      <td>NaN</td>\n",
       "      <td>...</td>\n",
       "      <td>NaN</td>\n",
       "      <td>NaN</td>\n",
       "      <td>NaN</td>\n",
       "      <td>NaN</td>\n",
       "      <td>NaN</td>\n",
       "      <td>NaN</td>\n",
       "      <td>NaN</td>\n",
       "      <td>NaN</td>\n",
       "      <td>NaN</td>\n",
       "      <td>NaN</td>\n",
       "    </tr>\n",
       "  </tbody>\n",
       "</table>\n",
       "<p>1 rows × 55 columns</p>\n",
       "</div>"
      ],
      "text/plain": [
       "                                                 Job #  \\\n",
       "883  120365979|01|1|173         |BROADWAY          ...   \n",
       "\n",
       "                                                 Doc #  \\\n",
       "883   SUITE# 3A         |NY             |NY|10006  ...   \n",
       "\n",
       "                                       Borough House # Street Name Block  Lot  \\\n",
       "883   EGRESS OR OCCUPANCY.|04/28/2018 00:00:00     NaN         NaN   NaN  NaN   \n",
       "\n",
       "    Bin # Job Type Job Status  ... Owner's Business Name Owner's House #  \\\n",
       "883   NaN      NaN        NaN  ...                   NaN             NaN   \n",
       "\n",
       "    Owner's House Street Name City Owner's House State Zip Code  \\\n",
       "883                       NaN  NaN                 NaN      NaN   \n",
       "\n",
       "    Owner's Phone # First Permit  Date Job Description DOB Run Date  \n",
       "883             NaN                NaN             NaN          NaN  \n",
       "\n",
       "[1 rows x 55 columns]"
      ]
     },
     "execution_count": 28,
     "metadata": {},
     "output_type": "execute_result"
    }
   ],
   "source": [
    "df.loc[df['Job #']==df['Job #'].min()]"
   ]
  },
  {
   "cell_type": "code",
   "execution_count": 29,
   "id": "7eb09eca",
   "metadata": {},
   "outputs": [],
   "source": [
    "df = df.drop(df.loc[df['Job #']==df['Job #'].min()].index)"
   ]
  },
  {
   "cell_type": "code",
   "execution_count": 30,
   "id": "aecc988f",
   "metadata": {},
   "outputs": [
    {
     "data": {
      "text/plain": [
       "'120538597'"
      ]
     },
     "execution_count": 30,
     "metadata": {},
     "output_type": "execute_result"
    }
   ],
   "source": [
    "df['Job #'].min()"
   ]
  },
  {
   "cell_type": "code",
   "execution_count": 31,
   "id": "52964f7f",
   "metadata": {},
   "outputs": [
    {
     "data": {
      "text/plain": [
       "'540185967'"
      ]
     },
     "execution_count": 31,
     "metadata": {},
     "output_type": "execute_result"
    }
   ],
   "source": [
    "df['Job #'].max()"
   ]
  },
  {
   "cell_type": "markdown",
   "id": "cc147c80",
   "metadata": {},
   "source": [
    "No Job #s starting with 0, so there are integer values, unlike Doc # which has values 01, 02, etc."
   ]
  },
  {
   "cell_type": "code",
   "execution_count": 32,
   "id": "72d89ea6",
   "metadata": {
    "scrolled": false
   },
   "outputs": [
    {
     "data": {
      "text/html": [
       "<div>\n",
       "<style scoped>\n",
       "    .dataframe tbody tr th:only-of-type {\n",
       "        vertical-align: middle;\n",
       "    }\n",
       "\n",
       "    .dataframe tbody tr th {\n",
       "        vertical-align: top;\n",
       "    }\n",
       "\n",
       "    .dataframe thead th {\n",
       "        text-align: right;\n",
       "    }\n",
       "</style>\n",
       "<table border=\"1\" class=\"dataframe\">\n",
       "  <thead>\n",
       "    <tr style=\"text-align: right;\">\n",
       "      <th></th>\n",
       "      <th>Job #</th>\n",
       "      <th>Doc #</th>\n",
       "      <th>Borough</th>\n",
       "      <th>House #</th>\n",
       "      <th>Street Name</th>\n",
       "      <th>Block</th>\n",
       "      <th>Lot</th>\n",
       "      <th>Bin #</th>\n",
       "      <th>Job Type</th>\n",
       "      <th>Job Status</th>\n",
       "      <th>...</th>\n",
       "      <th>Owner's Business Name</th>\n",
       "      <th>Owner's House #</th>\n",
       "      <th>Owner's House Street Name</th>\n",
       "      <th>City</th>\n",
       "      <th>Owner's House State</th>\n",
       "      <th>Zip Code</th>\n",
       "      <th>Owner's Phone #</th>\n",
       "      <th>First Permit  Date</th>\n",
       "      <th>Job Description</th>\n",
       "      <th>DOB Run Date</th>\n",
       "    </tr>\n",
       "  </thead>\n",
       "  <tbody>\n",
       "  </tbody>\n",
       "</table>\n",
       "<p>0 rows × 55 columns</p>\n",
       "</div>"
      ],
      "text/plain": [
       "Empty DataFrame\n",
       "Columns: [Job #, Doc #, Borough, House #, Street Name, Block, Lot, Bin #, Job Type, Job Status, Job Status Description, Latest Action Date, Building Type, Community-Board, Landmarked, Little e, PC Filed, Other, Other Description, Applicant's First Name, Applicant's Last Name, Applicant Professional Title, Applicant License #, Professional Cert, Pre-Filing Date, Paid Date, Fully Paid Date, Assigned Date, Approved Date, Fully Permitted, Initial Cost, Total Estimated Fee, Fee Status, Existing Occupancy, Proposed Occupancy, Zoning District 1, Zoning District 2, Zoning District 3, Special District 1, Special Distr 2 , Owner Type, Owner Type Description, Non-Profit, Owner's First Name, Owner's Last Name, Owner's Business Name, Owner's House #, Owner's House Street Name, City, Owner's House State, Zip Code, Owner's Phone #, First Permit  Date, Job Description, DOB Run Date]\n",
       "Index: []\n",
       "\n",
       "[0 rows x 55 columns]"
      ]
     },
     "execution_count": 32,
     "metadata": {},
     "output_type": "execute_result"
    }
   ],
   "source": [
    "df.loc[df['Job #'].str.startswith('0')]"
   ]
  },
  {
   "cell_type": "markdown",
   "id": "9b029ae9",
   "metadata": {},
   "source": [
    "Fraction of Rows with unique job numbers"
   ]
  },
  {
   "cell_type": "code",
   "execution_count": 33,
   "id": "91bbf463",
   "metadata": {
    "scrolled": true
   },
   "outputs": [
    {
     "data": {
      "text/plain": [
       "0.9937324756721095"
      ]
     },
     "execution_count": 33,
     "metadata": {},
     "output_type": "execute_result"
    }
   ],
   "source": [
    "df['Job #'].nunique()/df['Job #'].count()"
   ]
  },
  {
   "cell_type": "markdown",
   "id": "9194233f",
   "metadata": {},
   "source": [
    "Group by Job # and check if latitude and longitude are the same all the same for the job, which would indicate different instances of the Job # all refer to the same Job."
   ]
  },
  {
   "cell_type": "code",
   "execution_count": 34,
   "id": "749e01d8",
   "metadata": {},
   "outputs": [],
   "source": [
    "#group = df[['Job #', 'GIS_LATITUDE', 'GIS_LONGITUDE']].groupby('Job #')"
   ]
  },
  {
   "cell_type": "markdown",
   "id": "08cc8dc3",
   "metadata": {},
   "source": [
    "This will take a little while to run"
   ]
  },
  {
   "cell_type": "code",
   "execution_count": 35,
   "id": "9a638f0c",
   "metadata": {},
   "outputs": [],
   "source": [
    "#tranformed = group.aggregate(lambda x: x.unique().shape[0])"
   ]
  },
  {
   "cell_type": "markdown",
   "id": "0c1e51ef",
   "metadata": {},
   "source": [
    "Jobs with multiple latitude and longitudes:"
   ]
  },
  {
   "cell_type": "code",
   "execution_count": 36,
   "id": "981010c4",
   "metadata": {},
   "outputs": [],
   "source": [
    "## 107 potential bad jobs\n",
    "#tranformed.loc[(tranformed['GIS_LATITUDE']!=1)\n",
    "#              |(tranformed['GIS_LONGITUDE']!=1)]"
   ]
  },
  {
   "cell_type": "code",
   "execution_count": 37,
   "id": "fabfd5c7",
   "metadata": {},
   "outputs": [],
   "source": [
    "#potential_bad_jobs = list(tranformed.loc[(tranformed['GIS_LATITUDE']!=1)\n",
    "#              |(tranformed['GIS_LONGITUDE']!=1)].index.unique())"
   ]
  },
  {
   "cell_type": "markdown",
   "id": "ff7d261f",
   "metadata": {},
   "source": [
    "Separate these into a temporary dataframe to play around with:"
   ]
  },
  {
   "cell_type": "code",
   "execution_count": 38,
   "id": "3706c4c8",
   "metadata": {},
   "outputs": [],
   "source": [
    "#df_temp = df.loc[df['Job #'].isin(potential_bad_jobs)].copy()"
   ]
  },
  {
   "cell_type": "code",
   "execution_count": 39,
   "id": "a1556b69",
   "metadata": {},
   "outputs": [],
   "source": [
    "#df_temp = df_temp.sort_values(['Job #', 'GIS_LATITUDE', 'GIS_LONGITUDE'])"
   ]
  },
  {
   "cell_type": "markdown",
   "id": "06b36f75",
   "metadata": {},
   "source": [
    "Most of these are just missing lat and long values.\n",
    "\n",
    "The others look to be Jobs that manage multiple houses/lots in a small area, so are probably correct"
   ]
  },
  {
   "cell_type": "code",
   "execution_count": 40,
   "id": "7fa90c8b",
   "metadata": {
    "scrolled": false
   },
   "outputs": [],
   "source": [
    "#df_temp[df_temp.duplicated(subset=['Job #', 'Block', 'Lot', 'Bin #', 'Job Type'], keep=False)]"
   ]
  },
  {
   "cell_type": "markdown",
   "id": "83d53216",
   "metadata": {},
   "source": [
    "#### Later, after we have cleaned more values, we will fill these missing values by job #"
   ]
  },
  {
   "cell_type": "markdown",
   "id": "a45371af",
   "metadata": {},
   "source": [
    "Remove Jobs we know to be just missing data from the list of bad jobs"
   ]
  },
  {
   "cell_type": "code",
   "execution_count": 41,
   "id": "3a0faf9f",
   "metadata": {},
   "outputs": [],
   "source": [
    "#not_bad_jobs = df_temp[df_temp.duplicated(subset=['Job #', 'Block', 'Lot', 'Bin #', 'Job Type'], keep=False)]['Job #'].unique()"
   ]
  },
  {
   "cell_type": "code",
   "execution_count": 42,
   "id": "68c6b804",
   "metadata": {},
   "outputs": [],
   "source": [
    "#df_temp = df_temp.loc[~df_temp['Job #'].isin(not_bad_jobs)]"
   ]
  },
  {
   "cell_type": "markdown",
   "id": "2f0dda21",
   "metadata": {},
   "source": [
    "All of these are jobs that handle multiple lots or House #s, which explains why the lat/long change \n",
    "\n",
    "Job # 122171130 and 122222638 may be exact copies of each other though"
   ]
  },
  {
   "cell_type": "code",
   "execution_count": 43,
   "id": "63989c24",
   "metadata": {
    "scrolled": false
   },
   "outputs": [],
   "source": [
    "#df_temp"
   ]
  },
  {
   "cell_type": "code",
   "execution_count": 44,
   "id": "2b37db4f",
   "metadata": {},
   "outputs": [],
   "source": [
    "#df_temp = df_temp.loc[(df_temp['Job #'].isin(['122171130', '122222638']))]"
   ]
  },
  {
   "cell_type": "markdown",
   "id": "85a85dd5",
   "metadata": {},
   "source": [
    "#Latest action date is different, so its probably differnt but very similar jobs "
   ]
  },
  {
   "cell_type": "code",
   "execution_count": 45,
   "id": "7cfa7f91",
   "metadata": {
    "scrolled": true
   },
   "outputs": [],
   "source": [
    "#df_temp[df_temp.columns[0:20]]\n"
   ]
  },
  {
   "cell_type": "code",
   "execution_count": null,
   "id": "806df93c",
   "metadata": {},
   "outputs": [],
   "source": []
  },
  {
   "cell_type": "markdown",
   "id": "a7e0484f",
   "metadata": {},
   "source": [
    "Check if any Job #s have non-digit values"
   ]
  },
  {
   "cell_type": "code",
   "execution_count": 46,
   "id": "c6626408",
   "metadata": {},
   "outputs": [],
   "source": [
    "df['Job #'] = df['Job #'].astype('str')"
   ]
  },
  {
   "cell_type": "markdown",
   "id": "c2bcd4ae",
   "metadata": {},
   "source": [
    "### These are totally messed up:"
   ]
  },
  {
   "cell_type": "code",
   "execution_count": 47,
   "id": "eacd702f",
   "metadata": {
    "scrolled": true
   },
   "outputs": [
    {
     "data": {
      "text/plain": [
       "45      220453319|01|2|945         |ZEREGA AVENUE     ...\n",
       "56      122851468|01|1|322         |EAST 126TH STREET ...\n",
       "64      321506205|01|3|2890        |WEST 21 STREET    ...\n",
       "79      520224579|01|5|3333        |HYLAN BLVD        ...\n",
       "98      421419851|01|4|82-08       |NORTHERN BOULEVARD...\n",
       "                              ...                        \n",
       "5143    220457725|01|2|2447        |EASTCHESTER ROAD  ...\n",
       "5326    440241560|01|4|88-09       |NORTHERN BOULEVARD...\n",
       "5379    220530370|01|2|4301        |BOSTON POST ROAD  ...\n",
       "5815    520222704|01|5|375         |SEGUINE AVE       ...\n",
       "5889    122704181|01|1|183         |BROADWAY          ...\n",
       "Name: Job #, Length: 100, dtype: object"
      ]
     },
     "execution_count": 47,
     "metadata": {},
     "output_type": "execute_result"
    }
   ],
   "source": [
    "df.loc[(~df['Job #'].isna())\n",
    "       &(~df['Job #'].str.isdigit())]['Job #']"
   ]
  },
  {
   "cell_type": "code",
   "execution_count": null,
   "id": "6c7b24c9",
   "metadata": {},
   "outputs": [],
   "source": []
  },
  {
   "cell_type": "code",
   "execution_count": 48,
   "id": "b3ae2967",
   "metadata": {},
   "outputs": [
    {
     "data": {
      "text/plain": [
       "100"
      ]
     },
     "execution_count": 48,
     "metadata": {},
     "output_type": "execute_result"
    }
   ],
   "source": [
    "df.loc[(~df['Job #'].isna())\n",
    "       &(~df['Job #'].str.isdigit())]['Job #'].count()"
   ]
  },
  {
   "cell_type": "markdown",
   "id": "7cf91e96",
   "metadata": {},
   "source": [
    "All Job #s entirely composed of digits, so we cast them to ints"
   ]
  },
  {
   "cell_type": "code",
   "execution_count": 49,
   "id": "d8a9d1ef",
   "metadata": {},
   "outputs": [],
   "source": [
    "df.loc[(~df['Job #'].isna())\n",
    "       &(~df['Job #'].str.isdigit()), 'Job #'] = 0"
   ]
  },
  {
   "cell_type": "code",
   "execution_count": 50,
   "id": "ea85e85b",
   "metadata": {},
   "outputs": [],
   "source": [
    "df['Job #'] = df['Job #'].astype('int')"
   ]
  },
  {
   "cell_type": "code",
   "execution_count": 51,
   "id": "9f3adf8c",
   "metadata": {
    "scrolled": false
   },
   "outputs": [
    {
     "data": {
      "text/plain": [
       "count    6.063000e+03\n",
       "mean     2.640958e+08\n",
       "std      1.324137e+08\n",
       "min      0.000000e+00\n",
       "25%      1.225116e+08\n",
       "50%      3.208383e+08\n",
       "75%      4.206179e+08\n",
       "max      5.401860e+08\n",
       "Name: Job #, dtype: float64"
      ]
     },
     "execution_count": 51,
     "metadata": {},
     "output_type": "execute_result"
    }
   ],
   "source": [
    "df['Job #'].describe()"
   ]
  },
  {
   "cell_type": "markdown",
   "id": "68d68b83",
   "metadata": {},
   "source": [
    "## Examining and reparing house #s"
   ]
  },
  {
   "cell_type": "markdown",
   "id": "a54982ef",
   "metadata": {},
   "source": [
    "House #'s appear to be mostly ints\n",
    "\n",
    "However, there are legitimate house numbers with dashes so we'll have to make them strings"
   ]
  },
  {
   "cell_type": "code",
   "execution_count": 52,
   "id": "adf318fe",
   "metadata": {
    "scrolled": true
   },
   "outputs": [
    {
     "name": "stdout",
     "output_type": "stream",
     "text": [
      "Top 10 House #:\n",
      "\n",
      "NaN             62\n",
      "2               41\n",
      "300             33\n",
      "600             29\n",
      "200             28\n",
      "301             26\n",
      "201             26\n",
      "20              25\n",
      "1               23\n",
      "30              23\n",
      "Name: House #, dtype: int64\n",
      "\n"
     ]
    }
   ],
   "source": [
    "show_vals('House #', show_rows=10)"
   ]
  },
  {
   "cell_type": "markdown",
   "id": "90df4f3a",
   "metadata": {},
   "source": [
    "Replace NaN values with empty strings, then convert column to string, and make everything uppercase\n"
   ]
  },
  {
   "cell_type": "code",
   "execution_count": 53,
   "id": "7bb28929",
   "metadata": {},
   "outputs": [],
   "source": [
    "df['House #'].fillna('', inplace=True)\n",
    "df['House #'] = df['House #'].astype('str')\n",
    "df['House #'] = df['House #'].str.upper()"
   ]
  },
  {
   "cell_type": "markdown",
   "id": "06254ff7",
   "metadata": {},
   "source": [
    "Check for numbers spelled out as words"
   ]
  },
  {
   "cell_type": "code",
   "execution_count": 54,
   "id": "5fa03c29",
   "metadata": {
    "scrolled": true
   },
   "outputs": [
    {
     "data": {
      "text/plain": [
       "Series([], Name: House #, dtype: object)"
      ]
     },
     "execution_count": 54,
     "metadata": {},
     "output_type": "execute_result"
    }
   ],
   "source": [
    "df.loc[(~df['House #'].isna())\n",
    "       &(df['House #'].str.isalpha())]['House #']"
   ]
  },
  {
   "cell_type": "markdown",
   "id": "8568fe9f",
   "metadata": {},
   "source": [
    "Maybe the house # and borough were flipped in the 'manhattan' case?"
   ]
  },
  {
   "cell_type": "code",
   "execution_count": 55,
   "id": "7e040469",
   "metadata": {
    "scrolled": true
   },
   "outputs": [
    {
     "data": {
      "text/html": [
       "<div>\n",
       "<style scoped>\n",
       "    .dataframe tbody tr th:only-of-type {\n",
       "        vertical-align: middle;\n",
       "    }\n",
       "\n",
       "    .dataframe tbody tr th {\n",
       "        vertical-align: top;\n",
       "    }\n",
       "\n",
       "    .dataframe thead th {\n",
       "        text-align: right;\n",
       "    }\n",
       "</style>\n",
       "<table border=\"1\" class=\"dataframe\">\n",
       "  <thead>\n",
       "    <tr style=\"text-align: right;\">\n",
       "      <th></th>\n",
       "      <th>House #</th>\n",
       "      <th>Borough</th>\n",
       "    </tr>\n",
       "  </thead>\n",
       "  <tbody>\n",
       "  </tbody>\n",
       "</table>\n",
       "</div>"
      ],
      "text/plain": [
       "Empty DataFrame\n",
       "Columns: [House #, Borough]\n",
       "Index: []"
      ]
     },
     "execution_count": 55,
     "metadata": {},
     "output_type": "execute_result"
    }
   ],
   "source": [
    "# Nope:\n",
    "df.loc[df['House #'].str.strip('')=='MANHATTAN'][['House #', 'Borough']]"
   ]
  },
  {
   "cell_type": "markdown",
   "id": "726e72c6",
   "metadata": {},
   "source": [
    "Check if thses are empty strings:"
   ]
  },
  {
   "cell_type": "code",
   "execution_count": 56,
   "id": "f4f0bb19",
   "metadata": {},
   "outputs": [
    {
     "data": {
      "text/plain": [
       "45             \n",
       "98             \n",
       "186            \n",
       "229            \n",
       "339      EGRESS\n",
       "         ...   \n",
       "5093           \n",
       "5143           \n",
       "5326           \n",
       "5379           \n",
       "5815           \n",
       "Name: House #, Length: 67, dtype: object"
      ]
     },
     "execution_count": 56,
     "metadata": {},
     "output_type": "execute_result"
    }
   ],
   "source": [
    "df.loc[(~df['House #'].str.contains('\\\\d', regex=True))]['House #']"
   ]
  },
  {
   "cell_type": "markdown",
   "id": "41d429b8",
   "metadata": {},
   "source": [
    "Replace spelling of numbers with their value, and remove values 'PIER',  'MANHATTAN',  'NO NUMBER'"
   ]
  },
  {
   "cell_type": "code",
   "execution_count": 57,
   "id": "8efa733a",
   "metadata": {},
   "outputs": [],
   "source": [
    "df.loc[df['House #'].str.strip('')=='ONE', 'House #'] = '1'\n",
    "df.loc[df['House #'].str.strip('')=='PIER', 'House #'] = ''\n",
    "df.loc[df['House #'].str.strip('')=='MANHATTAN', 'House #'] = ''\n",
    "df.loc[df['House #'].str.strip('')=='NO NUMBER', 'House #'] = ''\n"
   ]
  },
  {
   "cell_type": "markdown",
   "id": "2b8311a9",
   "metadata": {},
   "source": [
    "Most of these will probably be legitimate house numbers, since house numbers can have dashes"
   ]
  },
  {
   "cell_type": "code",
   "execution_count": 58,
   "id": "f658b24e",
   "metadata": {
    "scrolled": false
   },
   "outputs": [
    {
     "data": {
      "text/plain": [
       "0       96          \n",
       "1       210         \n",
       "2       143         \n",
       "3       3103        \n",
       "4       329         \n",
       "            ...     \n",
       "6085    840         \n",
       "6086    946         \n",
       "6087    42-24       \n",
       "6088    80          \n",
       "6089    2630        \n",
       "Name: House #, Length: 6063, dtype: object"
      ]
     },
     "execution_count": 58,
     "metadata": {},
     "output_type": "execute_result"
    }
   ],
   "source": [
    "df.loc[(~df['House #'].isna())\n",
    "       &(~df['House #'].str.isdigit())]['House #']"
   ]
  },
  {
   "cell_type": "markdown",
   "id": "63e23d48",
   "metadata": {},
   "source": [
    "Check non-numeric house #'s that don't have dashes"
   ]
  },
  {
   "cell_type": "code",
   "execution_count": 59,
   "id": "d2e74992",
   "metadata": {
    "scrolled": false
   },
   "outputs": [
    {
     "data": {
      "text/plain": [
       "0     96          \n",
       "1     210         \n",
       "2     143         \n",
       "3     3103        \n",
       "4     329         \n",
       "5     322         \n",
       "6     320         \n",
       "8     21          \n",
       "9     201         \n",
       "10    1335        \n",
       "12    5102        \n",
       "13    83          \n",
       "15    3162        \n",
       "16    66          \n",
       "17    630         \n",
       "18    45          \n",
       "19    145         \n",
       "20    2990        \n",
       "21    3150        \n",
       "22    2420        \n",
       "23    63          \n",
       "24    352         \n",
       "25    2450        \n",
       "26    40          \n",
       "27    191         \n",
       "Name: House #, dtype: object"
      ]
     },
     "execution_count": 59,
     "metadata": {},
     "output_type": "execute_result"
    }
   ],
   "source": [
    "df.loc[(~df['House #'].isna())\n",
    "       &(~df['House #'].str.isdigit())\n",
    "      &(~df['House #'].str.contains('-', regex=False))]['House #'][:25]"
   ]
  },
  {
   "cell_type": "markdown",
   "id": "a5f1a02e",
   "metadata": {},
   "source": [
    "We see a mix of reference to the house's garage, the rear house and single letters that likely indicate apartments in multi-occupancy venues. \n",
    "\n",
    "We will standardize the formatting, and maintain the reference to garage, rear, and appartment, since there is no apartment column for the job.\n",
    "\n",
    "First split the numbers and words with a space"
   ]
  },
  {
   "cell_type": "code",
   "execution_count": 60,
   "id": "fccfe735",
   "metadata": {},
   "outputs": [],
   "source": [
    "df['House #'] = df['House #'].str.replace(pat='(?P<one>\\\\d)(?P<two>[A-Z]+)', repl='\\g<one> \\g<two>', regex=True)"
   ]
  },
  {
   "cell_type": "markdown",
   "id": "cab10d0e",
   "metadata": {},
   "source": [
    "Now we will fix the formatting for garage and \n",
    "remove references to north, south, east, west, since they should be in street #"
   ]
  },
  {
   "cell_type": "code",
   "execution_count": 61,
   "id": "557f3499",
   "metadata": {},
   "outputs": [],
   "source": [
    "df['House #'] = df['House #'].str.replace(pat='(?P<one>GAR$)', repl='GARAGE', regex=True)"
   ]
  },
  {
   "cell_type": "code",
   "execution_count": 62,
   "id": "11fd159d",
   "metadata": {},
   "outputs": [],
   "source": [
    "df['House #'] = df['House #'].str.replace(pat='NORTH([A-Z]+)?', repl='', regex=True)\n",
    "df['House #'] = df['House #'].str.replace(pat='EAST([A-Z]+)?', repl='', regex=True)\n",
    "df['House #'] = df['House #'].str.replace(pat='SOUTH([A-Z]+)?', repl='', regex=True)\n",
    "df['House #'] = df['House #'].str.replace(pat='WEST([A-Z]+)?', repl='', regex=True)"
   ]
  },
  {
   "cell_type": "code",
   "execution_count": 63,
   "id": "ec2edc1a",
   "metadata": {},
   "outputs": [
    {
     "data": {
      "text/plain": [
       "0     96          \n",
       "1     210         \n",
       "2     143         \n",
       "3     3103        \n",
       "4     329         \n",
       "5     322         \n",
       "6     320         \n",
       "8     21          \n",
       "9     201         \n",
       "10    1335        \n",
       "12    5102        \n",
       "13    83          \n",
       "15    3162        \n",
       "16    66          \n",
       "17    630         \n",
       "18    45          \n",
       "19    145         \n",
       "20    2990        \n",
       "21    3150        \n",
       "22    2420        \n",
       "23    63          \n",
       "24    352         \n",
       "25    2450        \n",
       "26    40          \n",
       "27    191         \n",
       "29    63          \n",
       "31    420         \n",
       "32    70          \n",
       "33    602         \n",
       "34    300         \n",
       "Name: House #, dtype: object"
      ]
     },
     "execution_count": 63,
     "metadata": {},
     "output_type": "execute_result"
    }
   ],
   "source": [
    "# Confirm that it worked correctly:\n",
    "df.loc[(~df['House #'].isna())\n",
    "       &(~df['House #'].str.isdigit())\n",
    "       &(~df['House #'].str.contains('-', regex=False))]['House #'][:30]"
   ]
  },
  {
   "cell_type": "markdown",
   "id": "902b00e8",
   "metadata": {},
   "source": [
    "## Looking at Binary/Pseudo-binary columns:"
   ]
  },
  {
   "cell_type": "markdown",
   "id": "760d129e",
   "metadata": {},
   "source": [
    "For these columns it's clear NaN idicates 'no', since the only other option was 'X' which indicates yes"
   ]
  },
  {
   "cell_type": "code",
   "execution_count": 64,
   "id": "61e0cb4e",
   "metadata": {
    "scrolled": false
   },
   "outputs": [
    {
     "name": "stdout",
     "output_type": "stream",
     "text": [
      "Top 10 Job Type:\n",
      "\n",
      "A3            5963\n",
      "NaN            100\n",
      " 320505761       1\n",
      "Name: Job Type, dtype: int64\n",
      "\n",
      "Top 10 Job Status:\n",
      "\n",
      "R             5963\n",
      "NaN            100\n",
      " 320923809       1\n",
      "Name: Job Status, dtype: int64\n",
      "\n",
      "Top 10 Job Status Description:\n",
      "\n",
      "PERMIT ISSUED - ENTIRE JOB/WORK                                       5963\n",
      "NaN                                                                    100\n",
      " 321527497.  ALL IN CONFORMANCE WITH TPPN # 5/98. NO CHANGE IN USE       1\n",
      "Name: Job Status Description, dtype: int64\n",
      "\n",
      "Top 10 Building Type:\n",
      "\n",
      "OTHER                              5958\n",
      "NaN                                 100\n",
      "1-2-3 FAMILY                          5\n",
      " OR EGRESS.|05/12/2018 00:00:00       1\n",
      "Name: Building Type, dtype: int64\n",
      "\n",
      "Top 10 Landmarked:\n",
      "\n",
      "NaN    5756\n",
      "Y       308\n",
      "Name: Landmarked, dtype: int64\n",
      "\n",
      "Top 10 Little e:\n",
      "\n",
      "NaN    6035\n",
      "H        29\n",
      "Name: Little e, dtype: int64\n",
      "\n",
      "Top 10 PC Filed:\n",
      "\n",
      "       5963\n",
      "NaN     101\n",
      "Name: PC Filed, dtype: int64\n",
      "\n",
      "Top 10 Other:\n",
      "\n",
      "X      5963\n",
      "NaN     101\n",
      "Name: Other, dtype: int64\n",
      "\n",
      "Top 10 Other Description:\n",
      "\n",
      "ANTENNA            5961\n",
      "NaN                 101\n",
      "ANTENNA REMOVAL       1\n",
      "ANT                   1\n",
      "Name: Other Description, dtype: int64\n",
      "\n",
      "Top 10 Applicant Professional Title:\n",
      "\n",
      "PE     5718\n",
      "RA      245\n",
      "NaN     101\n",
      "Name: Applicant Professional Title, dtype: int64\n",
      "\n",
      "Top 10 Professional Cert:\n",
      "\n",
      "NaN    6025\n",
      "Y        39\n",
      "Name: Professional Cert, dtype: int64\n",
      "\n",
      "Top 10 Fee Status:\n",
      "\n",
      "STANDARD    5955\n",
      "NaN          101\n",
      "EXEMPT         8\n",
      "Name: Fee Status, dtype: int64\n",
      "\n",
      "Top 10 Non-Profit:\n",
      "\n",
      "N      5843\n",
      "Y       120\n",
      "NaN     101\n",
      "Name: Non-Profit, dtype: int64\n",
      "\n"
     ]
    }
   ],
   "source": [
    "boolean_cols = []\n",
    "for col in df.columns:\n",
    "    if df[col].nunique() < 7:\n",
    "        show_vals(col)\n",
    "        boolean_cols.append(col)"
   ]
  },
  {
   "cell_type": "markdown",
   "id": "a742117f",
   "metadata": {},
   "source": [
    "Replace the Nan values with False and replace the 'X' values with True, and then cast the columns to be type bool"
   ]
  },
  {
   "cell_type": "code",
   "execution_count": 65,
   "id": "8a67c4f4",
   "metadata": {},
   "outputs": [],
   "source": [
    "boolean_cols.remove('Fee Status')\n",
    "boolean_cols.remove('Applicant Professional Title')\n",
    "boolean_cols.remove('Other Description')\n",
    "\n",
    "boolean_cols.remove('Job Type')"
   ]
  },
  {
   "cell_type": "code",
   "execution_count": 66,
   "id": "c2479ae9",
   "metadata": {},
   "outputs": [],
   "source": [
    "df['Landmarked'].fillna('N', inplace=True)\n",
    "df['Little e'].fillna('N', inplace=True)\n",
    "df.loc[df['Little e']=='X', 'Little e'] = 'Y' # fix this one-off value for Little e\n"
   ]
  },
  {
   "cell_type": "code",
   "execution_count": 67,
   "id": "16b668a0",
   "metadata": {},
   "outputs": [],
   "source": [
    "for col in boolean_cols:\n",
    "    df[col].fillna(False, inplace=True)\n",
    "    df[col]"
   ]
  },
  {
   "cell_type": "code",
   "execution_count": 68,
   "id": "c18a9465",
   "metadata": {},
   "outputs": [],
   "source": [
    "for col in boolean_cols:\n",
    "    df.loc[df[col]=='Y', col] = True\n",
    "    df.loc[df[col]=='X', col] = True\n",
    "    df.loc[df[col]=='N', col] = False\n",
    "    df.loc[df[col]!=True, col] = False"
   ]
  },
  {
   "cell_type": "markdown",
   "id": "eb78e658",
   "metadata": {},
   "source": [
    "Fill null values with False/'N'"
   ]
  },
  {
   "cell_type": "code",
   "execution_count": null,
   "id": "6ef5fb35",
   "metadata": {},
   "outputs": [],
   "source": []
  },
  {
   "cell_type": "markdown",
   "id": "633e32f0",
   "metadata": {},
   "source": [
    "For the clearly binary cases, fill 'Y' values with True, and the other values with False"
   ]
  },
  {
   "cell_type": "markdown",
   "id": "1f11525f",
   "metadata": {},
   "source": [
    "## Checking Monetary Values for consistency"
   ]
  },
  {
   "cell_type": "code",
   "execution_count": 69,
   "id": "75035e10",
   "metadata": {},
   "outputs": [
    {
     "name": "stdout",
     "output_type": "stream",
     "text": [
      "Top 10 Initial Cost:\n",
      "\n",
      "10000    732\n",
      "20000    618\n",
      "15000    521\n",
      "25000    455\n",
      "3300     318\n",
      "30000    292\n",
      "77000    240\n",
      "5000     151\n",
      "9500     150\n",
      "32000    109\n",
      "Name: Initial Cost, dtype: int64\n",
      "\n",
      "Top 10 Total Estimated Fee:\n",
      "\n",
      "286.5    975\n",
      "389.5    642\n",
      "338      581\n",
      "441      447\n",
      "215      362\n",
      "492.5    297\n",
      "976.6    257\n",
      "235      240\n",
      "195      212\n",
      "255.6    153\n",
      "Name: Total Estimated Fee, dtype: int64\n",
      "\n"
     ]
    }
   ],
   "source": [
    "show_vals(\"Initial Cost\")\n",
    "show_vals(\"Total Estimated Fee\")"
   ]
  },
  {
   "cell_type": "code",
   "execution_count": 70,
   "id": "c436cc14",
   "metadata": {},
   "outputs": [],
   "source": [
    "df['Initial Cost'] = df['Initial Cost'].astype('str')\n",
    "df['Total Estimated Fee'] = df['Total Estimated Fee'].astype('str')"
   ]
  },
  {
   "cell_type": "markdown",
   "id": "49259873",
   "metadata": {},
   "source": [
    "Check if any values are not decimals"
   ]
  },
  {
   "cell_type": "code",
   "execution_count": 71,
   "id": "d65df76b",
   "metadata": {},
   "outputs": [
    {
     "data": {
      "text/plain": [
       "10000    732\n",
       "20000    618\n",
       "15000    521\n",
       "25000    455\n",
       "3300     318\n",
       "        ... \n",
       "27700      1\n",
       "34500      1\n",
       "16900      1\n",
       "23200      1\n",
       "29100      1\n",
       "Name: Initial Cost, Length: 361, dtype: int64"
      ]
     },
     "execution_count": 71,
     "metadata": {},
     "output_type": "execute_result"
    }
   ],
   "source": [
    "df.loc[~df[\"Initial Cost\"].str.contains(\".\", regex=False)][\"Initial Cost\"].value_counts()"
   ]
  },
  {
   "cell_type": "code",
   "execution_count": 72,
   "id": "d9e0dcfd",
   "metadata": {
    "scrolled": false
   },
   "outputs": [
    {
     "data": {
      "text/plain": [
       "338     581\n",
       "441     447\n",
       "215     362\n",
       "235     240\n",
       "195     212\n",
       "nan     100\n",
       "647      79\n",
       "544      55\n",
       "346      10\n",
       "750       7\n",
       "853       5\n",
       "956       3\n",
       "1059      3\n",
       "130       3\n",
       "1162      2\n",
       "156       1\n",
       "1471      1\n",
       "710       1\n",
       "298       1\n",
       "401       1\n",
       "Name: Total Estimated Fee, dtype: int64"
      ]
     },
     "execution_count": 72,
     "metadata": {},
     "output_type": "execute_result"
    }
   ],
   "source": [
    "df.loc[~df[\"Total Estimated Fee\"].str.contains(\".\", regex=False)][\"Total Estimated Fee\"].value_counts()"
   ]
  },
  {
   "cell_type": "markdown",
   "id": "dd084b1d",
   "metadata": {},
   "source": [
    "Dollar signs should be removed and added to column name so we can treat this column as a number"
   ]
  },
  {
   "cell_type": "code",
   "execution_count": 73,
   "id": "97ea110d",
   "metadata": {},
   "outputs": [],
   "source": [
    "df[\"Total Estimated Fee\"] = df[\"Total Estimated Fee\"].str.replace(\"$\", '', regex=False)"
   ]
  },
  {
   "cell_type": "code",
   "execution_count": 74,
   "id": "988cc7b7",
   "metadata": {},
   "outputs": [],
   "source": [
    "df[\"Initial Cost\"] = df[\"Initial Cost\"].str.replace(\"$\", '', regex=False)"
   ]
  },
  {
   "cell_type": "markdown",
   "id": "0bc31159",
   "metadata": {},
   "source": [
    "However we can't convert this to integer dollars because there are decimals."
   ]
  },
  {
   "cell_type": "code",
   "execution_count": 75,
   "id": "585e066c",
   "metadata": {},
   "outputs": [
    {
     "data": {
      "text/plain": [
       "Series([], Name: Initial Cost, dtype: object)"
      ]
     },
     "execution_count": 75,
     "metadata": {},
     "output_type": "execute_result"
    }
   ],
   "source": [
    "df.loc[df[\"Initial Cost\"].str.contains(\"\\\\.[^0]\", regex=True)][\"Initial Cost\"]"
   ]
  },
  {
   "cell_type": "markdown",
   "id": "1a883a1e",
   "metadata": {},
   "source": [
    "Convert to floats"
   ]
  },
  {
   "cell_type": "code",
   "execution_count": 76,
   "id": "20abd49a",
   "metadata": {},
   "outputs": [],
   "source": [
    "df[\"Initial Cost\"] = df[\"Initial Cost\"].astype('float')\n",
    "df['Total Estimated Fee'] = df['Total Estimated Fee'].astype('float')"
   ]
  },
  {
   "cell_type": "code",
   "execution_count": 77,
   "id": "c206d099",
   "metadata": {
    "scrolled": false
   },
   "outputs": [
    {
     "name": "stdout",
     "output_type": "stream",
     "text": [
      "Top 10 Initial Cost:\n",
      "\n",
      "10000    732\n",
      "20000    618\n",
      "15000    521\n",
      "25000    455\n",
      "3300     318\n",
      "30000    292\n",
      "77000    240\n",
      "5000     151\n",
      "9500     150\n",
      "32000    109\n",
      "Name: Initial Cost, dtype: int64\n",
      "\n"
     ]
    }
   ],
   "source": [
    "show_vals(\"Initial Cost\")"
   ]
  },
  {
   "cell_type": "code",
   "execution_count": 78,
   "id": "865ef942",
   "metadata": {
    "scrolled": false
   },
   "outputs": [
    {
     "data": {
      "text/plain": [
       "286.5     975\n",
       "389.5     642\n",
       "338.0     581\n",
       "441.0     447\n",
       "215.0     362\n",
       "         ... \n",
       "1429.8      1\n",
       "832.4       1\n",
       "1048.7      1\n",
       "2799.7      1\n",
       "401.0       1\n",
       "Name: Total Estimated Fee, Length: 132, dtype: int64"
      ]
     },
     "execution_count": 78,
     "metadata": {},
     "output_type": "execute_result"
    }
   ],
   "source": [
    "df['Total Estimated Fee'].value_counts(dropna=False)"
   ]
  },
  {
   "cell_type": "markdown",
   "id": "f845c0eb",
   "metadata": {},
   "source": [
    "For unclear reasons, adding xticks makes this plot incredibly slow to display."
   ]
  },
  {
   "cell_type": "code",
   "execution_count": 79,
   "id": "dba3dcdf",
   "metadata": {},
   "outputs": [
    {
     "data": {
      "text/plain": [
       "<AxesSubplot:title={'center':'Initial Cost Frequncy (log-log)'}, ylabel='Frequency'>"
      ]
     },
     "execution_count": 79,
     "metadata": {},
     "output_type": "execute_result"
    },
    {
     "data": {
      "image/png": "[encoded data removed]",
      "text/plain": [
       "<Figure size 432x288 with 1 Axes>"
      ]
     },
     "metadata": {
      "needs_background": "light"
     },
     "output_type": "display_data"
    }
   ],
   "source": [
    "df[\"Initial Cost\"].plot(kind='hist', loglog=True, title='Initial Cost Frequncy (log-log)')"
   ]
  },
  {
   "cell_type": "markdown",
   "id": "dc1b097b",
   "metadata": {},
   "source": [
    "Intial costs appear to be distributed roughly exponentially "
   ]
  },
  {
   "cell_type": "code",
   "execution_count": 80,
   "id": "045e94ce",
   "metadata": {
    "scrolled": false
   },
   "outputs": [
    {
     "data": {
      "text/plain": [
       "<AxesSubplot:title={'center':'Initial Cost Frequncy, values < 10^8 (log)'}, ylabel='Frequency'>"
      ]
     },
     "execution_count": 80,
     "metadata": {},
     "output_type": "execute_result"
    },
    {
     "data": {
      "image/png": "[encoded data removed]",
      "text/plain": [
       "<Figure size 432x288 with 1 Axes>"
      ]
     },
     "metadata": {
      "needs_background": "light"
     },
     "output_type": "display_data"
    }
   ],
   "source": [
    "df.loc[df[\"Initial Cost\"]<10**8][\"Initial Cost\"].plot(kind='hist', logy=True, bins=50, title='Initial Cost Frequncy, values < 10^8 (log)')"
   ]
  },
  {
   "cell_type": "markdown",
   "id": "d2ca7cb7",
   "metadata": {},
   "source": [
    "Plotting total estimated fee shows it is also roughly exponential in distribution"
   ]
  },
  {
   "cell_type": "code",
   "execution_count": 81,
   "id": "c948fce6",
   "metadata": {},
   "outputs": [
    {
     "data": {
      "text/plain": [
       "<AxesSubplot:title={'center':'Total Estimated Fee Frequncy (log-log)'}, ylabel='Frequency'>"
      ]
     },
     "execution_count": 81,
     "metadata": {},
     "output_type": "execute_result"
    },
    {
     "data": {
      "image/png": "[encoded data removed]",
      "text/plain": [
       "<Figure size 432x288 with 1 Axes>"
      ]
     },
     "metadata": {
      "needs_background": "light"
     },
     "output_type": "display_data"
    }
   ],
   "source": [
    "df[\"Total Estimated Fee\"].plot(kind='hist', loglog=True, title='Total Estimated Fee Frequncy (log-log)')"
   ]
  },
  {
   "cell_type": "code",
   "execution_count": 82,
   "id": "fee00277",
   "metadata": {},
   "outputs": [
    {
     "data": {
      "text/plain": [
       "<AxesSubplot:title={'center':'Total Estimated Fee Frequncy, values < 10^7 (log)'}, ylabel='Frequency'>"
      ]
     },
     "execution_count": 82,
     "metadata": {},
     "output_type": "execute_result"
    },
    {
     "data": {
      "image/png": "[encoded data removed]",
      "text/plain": [
       "<Figure size 432x288 with 1 Axes>"
      ]
     },
     "metadata": {
      "needs_background": "light"
     },
     "output_type": "display_data"
    }
   ],
   "source": [
    "df.loc[df[\"Total Estimated Fee\"]<10**7][\"Total Estimated Fee\"].plot(kind='hist', logy=True, bins=50, title='Total Estimated Fee Frequncy, values < 10^7 (log)')"
   ]
  },
  {
   "cell_type": "markdown",
   "id": "b6160e55",
   "metadata": {},
   "source": [
    "Now that we've mapped these to numerical values, we can identifiy additional issues"
   ]
  },
  {
   "cell_type": "markdown",
   "id": "fbad5112",
   "metadata": {},
   "source": [
    "#### Fixing Initial costs"
   ]
  },
  {
   "cell_type": "code",
   "execution_count": 83,
   "id": "5d661cf8",
   "metadata": {},
   "outputs": [
    {
     "data": {
      "text/plain": [
       "800.0"
      ]
     },
     "execution_count": 83,
     "metadata": {},
     "output_type": "execute_result"
    }
   ],
   "source": [
    "df[\"Initial Cost\"].min()"
   ]
  },
  {
   "cell_type": "code",
   "execution_count": 84,
   "id": "91b111b2",
   "metadata": {},
   "outputs": [
    {
     "data": {
      "text/plain": [
       "358000.0"
      ]
     },
     "execution_count": 84,
     "metadata": {},
     "output_type": "execute_result"
    }
   ],
   "source": [
    "df[\"Initial Cost\"].max()"
   ]
  },
  {
   "cell_type": "code",
   "execution_count": 85,
   "id": "4c18af5e",
   "metadata": {
    "scrolled": false
   },
   "outputs": [
    {
     "data": {
      "text/plain": [
       "Series([], Name: Initial Cost, dtype: float64)"
      ]
     },
     "execution_count": 85,
     "metadata": {},
     "output_type": "execute_result"
    }
   ],
   "source": [
    "df.loc[df['Initial Cost'] < 0]['Initial Cost']"
   ]
  },
  {
   "cell_type": "markdown",
   "id": "89243b11",
   "metadata": {},
   "source": [
    "It's likely that these values were mistakenly entered as negative, so we'll flip them to positive instead of setting them to zero"
   ]
  },
  {
   "cell_type": "code",
   "execution_count": 86,
   "id": "114718d2",
   "metadata": {},
   "outputs": [],
   "source": [
    "df.loc[df['Initial Cost'] == -33000.0, 'Initial Cost'] = 33000.0\n",
    "df.loc[df['Initial Cost'] == -100.0, 'Initial Cost'] = 100.0"
   ]
  },
  {
   "cell_type": "markdown",
   "id": "23910b9a",
   "metadata": {},
   "source": [
    "This is test data:"
   ]
  },
  {
   "cell_type": "code",
   "execution_count": 87,
   "id": "443fa70d",
   "metadata": {},
   "outputs": [
    {
     "data": {
      "text/html": [
       "<div>\n",
       "<style scoped>\n",
       "    .dataframe tbody tr th:only-of-type {\n",
       "        vertical-align: middle;\n",
       "    }\n",
       "\n",
       "    .dataframe tbody tr th {\n",
       "        vertical-align: top;\n",
       "    }\n",
       "\n",
       "    .dataframe thead th {\n",
       "        text-align: right;\n",
       "    }\n",
       "</style>\n",
       "<table border=\"1\" class=\"dataframe\">\n",
       "  <thead>\n",
       "    <tr style=\"text-align: right;\">\n",
       "      <th></th>\n",
       "      <th>Job #</th>\n",
       "      <th>Doc #</th>\n",
       "      <th>Borough</th>\n",
       "      <th>House #</th>\n",
       "      <th>Street Name</th>\n",
       "      <th>Block</th>\n",
       "      <th>Lot</th>\n",
       "      <th>Bin #</th>\n",
       "      <th>Job Type</th>\n",
       "      <th>Job Status</th>\n",
       "      <th>...</th>\n",
       "      <th>Owner's Business Name</th>\n",
       "      <th>Owner's House #</th>\n",
       "      <th>Owner's House Street Name</th>\n",
       "      <th>City</th>\n",
       "      <th>Owner's House State</th>\n",
       "      <th>Zip Code</th>\n",
       "      <th>Owner's Phone #</th>\n",
       "      <th>First Permit  Date</th>\n",
       "      <th>Job Description</th>\n",
       "      <th>DOB Run Date</th>\n",
       "    </tr>\n",
       "  </thead>\n",
       "  <tbody>\n",
       "  </tbody>\n",
       "</table>\n",
       "<p>0 rows × 55 columns</p>\n",
       "</div>"
      ],
      "text/plain": [
       "Empty DataFrame\n",
       "Columns: [Job #, Doc #, Borough, House #, Street Name, Block, Lot, Bin #, Job Type, Job Status, Job Status Description, Latest Action Date, Building Type, Community-Board, Landmarked, Little e, PC Filed, Other, Other Description, Applicant's First Name, Applicant's Last Name, Applicant Professional Title, Applicant License #, Professional Cert, Pre-Filing Date, Paid Date, Fully Paid Date, Assigned Date, Approved Date, Fully Permitted, Initial Cost, Total Estimated Fee, Fee Status, Existing Occupancy, Proposed Occupancy, Zoning District 1, Zoning District 2, Zoning District 3, Special District 1, Special Distr 2 , Owner Type, Owner Type Description, Non-Profit, Owner's First Name, Owner's Last Name, Owner's Business Name, Owner's House #, Owner's House Street Name, City, Owner's House State, Zip Code, Owner's Phone #, First Permit  Date, Job Description, DOB Run Date]\n",
       "Index: []\n",
       "\n",
       "[0 rows x 55 columns]"
      ]
     },
     "execution_count": 87,
     "metadata": {},
     "output_type": "execute_result"
    }
   ],
   "source": [
    "#the entire line is filled with fake and false information\n",
    "# The street name is BIS TEST STREET, and almost every value is either the first possible value for the column type, or empty\n",
    "df.loc[df['Initial Cost'] == 999999999]"
   ]
  },
  {
   "cell_type": "markdown",
   "id": "8d07ed86",
   "metadata": {},
   "source": [
    "We will drop this row"
   ]
  },
  {
   "cell_type": "code",
   "execution_count": 88,
   "id": "fed0e144",
   "metadata": {},
   "outputs": [],
   "source": [
    "#df.drop(labels=df.loc[df['Initial Cost'] == 999999999].index[0], axis=0, inplace=True)"
   ]
  },
  {
   "cell_type": "code",
   "execution_count": 89,
   "id": "35decf0e",
   "metadata": {
    "scrolled": true
   },
   "outputs": [
    {
     "data": {
      "text/html": [
       "<div>\n",
       "<style scoped>\n",
       "    .dataframe tbody tr th:only-of-type {\n",
       "        vertical-align: middle;\n",
       "    }\n",
       "\n",
       "    .dataframe tbody tr th {\n",
       "        vertical-align: top;\n",
       "    }\n",
       "\n",
       "    .dataframe thead th {\n",
       "        text-align: right;\n",
       "    }\n",
       "</style>\n",
       "<table border=\"1\" class=\"dataframe\">\n",
       "  <thead>\n",
       "    <tr style=\"text-align: right;\">\n",
       "      <th></th>\n",
       "      <th>Job #</th>\n",
       "      <th>Doc #</th>\n",
       "      <th>Borough</th>\n",
       "      <th>House #</th>\n",
       "      <th>Street Name</th>\n",
       "      <th>Block</th>\n",
       "      <th>Lot</th>\n",
       "      <th>Bin #</th>\n",
       "      <th>Job Type</th>\n",
       "      <th>Job Status</th>\n",
       "      <th>...</th>\n",
       "      <th>Owner's Business Name</th>\n",
       "      <th>Owner's House #</th>\n",
       "      <th>Owner's House Street Name</th>\n",
       "      <th>City</th>\n",
       "      <th>Owner's House State</th>\n",
       "      <th>Zip Code</th>\n",
       "      <th>Owner's Phone #</th>\n",
       "      <th>First Permit  Date</th>\n",
       "      <th>Job Description</th>\n",
       "      <th>DOB Run Date</th>\n",
       "    </tr>\n",
       "  </thead>\n",
       "  <tbody>\n",
       "  </tbody>\n",
       "</table>\n",
       "<p>0 rows × 55 columns</p>\n",
       "</div>"
      ],
      "text/plain": [
       "Empty DataFrame\n",
       "Columns: [Job #, Doc #, Borough, House #, Street Name, Block, Lot, Bin #, Job Type, Job Status, Job Status Description, Latest Action Date, Building Type, Community-Board, Landmarked, Little e, PC Filed, Other, Other Description, Applicant's First Name, Applicant's Last Name, Applicant Professional Title, Applicant License #, Professional Cert, Pre-Filing Date, Paid Date, Fully Paid Date, Assigned Date, Approved Date, Fully Permitted, Initial Cost, Total Estimated Fee, Fee Status, Existing Occupancy, Proposed Occupancy, Zoning District 1, Zoning District 2, Zoning District 3, Special District 1, Special Distr 2 , Owner Type, Owner Type Description, Non-Profit, Owner's First Name, Owner's Last Name, Owner's Business Name, Owner's House #, Owner's House Street Name, City, Owner's House State, Zip Code, Owner's Phone #, First Permit  Date, Job Description, DOB Run Date]\n",
       "Index: []\n",
       "\n",
       "[0 rows x 55 columns]"
      ]
     },
     "execution_count": 89,
     "metadata": {},
     "output_type": "execute_result"
    }
   ],
   "source": [
    "df.loc[df['Initial Cost'] == 999999999]"
   ]
  },
  {
   "cell_type": "markdown",
   "id": "fdca0ed2",
   "metadata": {},
   "source": [
    "These seem to be real probably"
   ]
  },
  {
   "cell_type": "code",
   "execution_count": 90,
   "id": "87631279",
   "metadata": {
    "scrolled": true
   },
   "outputs": [
    {
     "data": {
      "text/plain": [
       "Series([], Name: Initial Cost, dtype: float64)"
      ]
     },
     "execution_count": 90,
     "metadata": {},
     "output_type": "execute_result"
    }
   ],
   "source": [
    "df.loc[df['Initial Cost']>= 9000000][\"Initial Cost\"]"
   ]
  },
  {
   "cell_type": "code",
   "execution_count": 91,
   "id": "5c49ca94",
   "metadata": {
    "scrolled": true
   },
   "outputs": [
    {
     "data": {
      "text/plain": [
       "358000.0"
      ]
     },
     "execution_count": 91,
     "metadata": {},
     "output_type": "execute_result"
    }
   ],
   "source": [
    "df[\"Initial Cost\"].max()"
   ]
  },
  {
   "cell_type": "code",
   "execution_count": 92,
   "id": "a8d11d3a",
   "metadata": {
    "scrolled": true
   },
   "outputs": [
    {
     "data": {
      "text/html": [
       "<div>\n",
       "<style scoped>\n",
       "    .dataframe tbody tr th:only-of-type {\n",
       "        vertical-align: middle;\n",
       "    }\n",
       "\n",
       "    .dataframe tbody tr th {\n",
       "        vertical-align: top;\n",
       "    }\n",
       "\n",
       "    .dataframe thead th {\n",
       "        text-align: right;\n",
       "    }\n",
       "</style>\n",
       "<table border=\"1\" class=\"dataframe\">\n",
       "  <thead>\n",
       "    <tr style=\"text-align: right;\">\n",
       "      <th></th>\n",
       "      <th>Job #</th>\n",
       "      <th>Doc #</th>\n",
       "      <th>Borough</th>\n",
       "      <th>House #</th>\n",
       "      <th>Street Name</th>\n",
       "      <th>Block</th>\n",
       "      <th>Lot</th>\n",
       "      <th>Bin #</th>\n",
       "      <th>Job Type</th>\n",
       "      <th>Job Status</th>\n",
       "      <th>...</th>\n",
       "      <th>Owner's Business Name</th>\n",
       "      <th>Owner's House #</th>\n",
       "      <th>Owner's House Street Name</th>\n",
       "      <th>City</th>\n",
       "      <th>Owner's House State</th>\n",
       "      <th>Zip Code</th>\n",
       "      <th>Owner's Phone #</th>\n",
       "      <th>First Permit  Date</th>\n",
       "      <th>Job Description</th>\n",
       "      <th>DOB Run Date</th>\n",
       "    </tr>\n",
       "  </thead>\n",
       "  <tbody>\n",
       "  </tbody>\n",
       "</table>\n",
       "<p>0 rows × 55 columns</p>\n",
       "</div>"
      ],
      "text/plain": [
       "Empty DataFrame\n",
       "Columns: [Job #, Doc #, Borough, House #, Street Name, Block, Lot, Bin #, Job Type, Job Status, Job Status Description, Latest Action Date, Building Type, Community-Board, Landmarked, Little e, PC Filed, Other, Other Description, Applicant's First Name, Applicant's Last Name, Applicant Professional Title, Applicant License #, Professional Cert, Pre-Filing Date, Paid Date, Fully Paid Date, Assigned Date, Approved Date, Fully Permitted, Initial Cost, Total Estimated Fee, Fee Status, Existing Occupancy, Proposed Occupancy, Zoning District 1, Zoning District 2, Zoning District 3, Special District 1, Special Distr 2 , Owner Type, Owner Type Description, Non-Profit, Owner's First Name, Owner's Last Name, Owner's Business Name, Owner's House #, Owner's House Street Name, City, Owner's House State, Zip Code, Owner's Phone #, First Permit  Date, Job Description, DOB Run Date]\n",
       "Index: []\n",
       "\n",
       "[0 rows x 55 columns]"
      ]
     },
     "execution_count": 92,
     "metadata": {},
     "output_type": "execute_result"
    }
   ],
   "source": [
    "#nothing wrong with this one anymore\n",
    "df.loc[df['Initial Cost'] == 966331800]"
   ]
  },
  {
   "cell_type": "code",
   "execution_count": 93,
   "id": "b80ccee3",
   "metadata": {},
   "outputs": [
    {
     "data": {
      "text/plain": [
       "<AxesSubplot:title={'center':'Initial Cost Frequncy (log)'}, ylabel='Frequency'>"
      ]
     },
     "execution_count": 93,
     "metadata": {},
     "output_type": "execute_result"
    },
    {
     "data": {
      "image/png": "[encoded data removed]",
      "text/plain": [
       "<Figure size 432x288 with 1 Axes>"
      ]
     },
     "metadata": {
      "needs_background": "light"
     },
     "output_type": "display_data"
    }
   ],
   "source": [
    "df[\"Initial Cost\"].plot(kind='hist', logy=True, bins=50, title='Initial Cost Frequncy (log)')"
   ]
  },
  {
   "cell_type": "markdown",
   "id": "ac74f8ae",
   "metadata": {},
   "source": [
    "#### Fixing Total Estimated Fee"
   ]
  },
  {
   "cell_type": "code",
   "execution_count": 94,
   "id": "844d97a5",
   "metadata": {
    "scrolled": true
   },
   "outputs": [
    {
     "data": {
      "text/html": [
       "<div>\n",
       "<style scoped>\n",
       "    .dataframe tbody tr th:only-of-type {\n",
       "        vertical-align: middle;\n",
       "    }\n",
       "\n",
       "    .dataframe tbody tr th {\n",
       "        vertical-align: top;\n",
       "    }\n",
       "\n",
       "    .dataframe thead th {\n",
       "        text-align: right;\n",
       "    }\n",
       "</style>\n",
       "<table border=\"1\" class=\"dataframe\">\n",
       "  <thead>\n",
       "    <tr style=\"text-align: right;\">\n",
       "      <th></th>\n",
       "      <th>Job #</th>\n",
       "      <th>Doc #</th>\n",
       "      <th>Borough</th>\n",
       "      <th>House #</th>\n",
       "      <th>Street Name</th>\n",
       "      <th>Block</th>\n",
       "      <th>Lot</th>\n",
       "      <th>Bin #</th>\n",
       "      <th>Job Type</th>\n",
       "      <th>Job Status</th>\n",
       "      <th>...</th>\n",
       "      <th>Owner's Business Name</th>\n",
       "      <th>Owner's House #</th>\n",
       "      <th>Owner's House Street Name</th>\n",
       "      <th>City</th>\n",
       "      <th>Owner's House State</th>\n",
       "      <th>Zip Code</th>\n",
       "      <th>Owner's Phone #</th>\n",
       "      <th>First Permit  Date</th>\n",
       "      <th>Job Description</th>\n",
       "      <th>DOB Run Date</th>\n",
       "    </tr>\n",
       "  </thead>\n",
       "  <tbody>\n",
       "  </tbody>\n",
       "</table>\n",
       "<p>0 rows × 55 columns</p>\n",
       "</div>"
      ],
      "text/plain": [
       "Empty DataFrame\n",
       "Columns: [Job #, Doc #, Borough, House #, Street Name, Block, Lot, Bin #, Job Type, Job Status, Job Status Description, Latest Action Date, Building Type, Community-Board, Landmarked, Little e, PC Filed, Other, Other Description, Applicant's First Name, Applicant's Last Name, Applicant Professional Title, Applicant License #, Professional Cert, Pre-Filing Date, Paid Date, Fully Paid Date, Assigned Date, Approved Date, Fully Permitted, Initial Cost, Total Estimated Fee, Fee Status, Existing Occupancy, Proposed Occupancy, Zoning District 1, Zoning District 2, Zoning District 3, Special District 1, Special Distr 2 , Owner Type, Owner Type Description, Non-Profit, Owner's First Name, Owner's Last Name, Owner's Business Name, Owner's House #, Owner's House Street Name, City, Owner's House State, Zip Code, Owner's Phone #, First Permit  Date, Job Description, DOB Run Date]\n",
       "Index: []\n",
       "\n",
       "[0 rows x 55 columns]"
      ]
     },
     "execution_count": 94,
     "metadata": {},
     "output_type": "execute_result"
    }
   ],
   "source": [
    "df.loc[df['Total Estimated Fee'] < 0 ]"
   ]
  },
  {
   "cell_type": "markdown",
   "id": "f4ab6c34",
   "metadata": {},
   "source": [
    "We'll fix this as we did with negative monetary values before"
   ]
  },
  {
   "cell_type": "code",
   "execution_count": 95,
   "id": "7a99004f",
   "metadata": {},
   "outputs": [],
   "source": [
    "df.loc[df['Total Estimated Fee'] == -85.8,  'Total Estimated Fee'] = 85.8"
   ]
  },
  {
   "cell_type": "code",
   "execution_count": 96,
   "id": "d1553a74",
   "metadata": {},
   "outputs": [
    {
     "data": {
      "text/plain": [
       "3870.9"
      ]
     },
     "execution_count": 96,
     "metadata": {},
     "output_type": "execute_result"
    }
   ],
   "source": [
    "df['Total Estimated Fee'].max()"
   ]
  },
  {
   "cell_type": "markdown",
   "id": "3ffa0a12",
   "metadata": {},
   "source": [
    "Also seems to have real information"
   ]
  },
  {
   "cell_type": "code",
   "execution_count": 97,
   "id": "af6a9335",
   "metadata": {},
   "outputs": [],
   "source": [
    "#df.loc[df['Total Estimated Fee']==31500000.0]"
   ]
  },
  {
   "cell_type": "markdown",
   "id": "22506242",
   "metadata": {},
   "source": [
    "## Checking owner's information"
   ]
  },
  {
   "cell_type": "code",
   "execution_count": 98,
   "id": "4ea0980d",
   "metadata": {},
   "outputs": [
    {
     "data": {
      "text/plain": [
       "Index(['Job #', 'Doc #', 'Borough', 'House #', 'Street Name', 'Block', 'Lot',\n",
       "       'Bin #', 'Job Type', 'Job Status', 'Job Status Description',\n",
       "       'Latest Action Date', 'Building Type', 'Community-Board', 'Landmarked',\n",
       "       'Little e', 'PC Filed', 'Other', 'Other Description',\n",
       "       'Applicant's First Name', 'Applicant's Last Name',\n",
       "       'Applicant Professional Title', 'Applicant License #',\n",
       "       'Professional Cert', 'Pre-Filing Date', 'Paid Date', 'Fully Paid Date',\n",
       "       'Assigned Date', 'Approved Date', 'Fully Permitted', 'Initial Cost',\n",
       "       'Total Estimated Fee', 'Fee Status', 'Existing Occupancy',\n",
       "       'Proposed Occupancy', 'Zoning District 1', 'Zoning District 2',\n",
       "       'Zoning District 3', 'Special District 1', 'Special Distr 2 ',\n",
       "       'Owner Type', 'Owner Type Description', 'Non-Profit',\n",
       "       'Owner's First Name', 'Owner's Last Name', 'Owner's Business Name',\n",
       "       'Owner's House #', 'Owner's House Street Name', 'City',\n",
       "       'Owner's House State', 'Zip Code', 'Owner's Phone #',\n",
       "       'First Permit  Date', 'Job Description', 'DOB Run Date'],\n",
       "      dtype='object')"
      ]
     },
     "execution_count": 98,
     "metadata": {},
     "output_type": "execute_result"
    }
   ],
   "source": [
    "df.columns"
   ]
  },
  {
   "cell_type": "code",
   "execution_count": 99,
   "id": "383eff56",
   "metadata": {
    "scrolled": false
   },
   "outputs": [
    {
     "name": "stdout",
     "output_type": "stream",
     "text": [
      "Top 10 Owner's Business Name:\n",
      "\n",
      "T-MOBILE                            582\n",
      "T-MOBILE NORTHEAST LLC              570\n",
      "AT&T MOBILITY                       298\n",
      "SHORE 2 SHORE, AGENT FOR TENANT     113\n",
      "BECHTEL, AS AGENT FOR TENANT        110\n",
      "NaN                                 103\n",
      "JACOBS, AS AGENT FOR TENANT          71\n",
      "NEW CINGULAR WIRELESS PCS, LLC       66\n",
      "VENDOR, AS AGENT FOR TENANT          62\n",
      "N/A                                  43\n",
      "Name: Owner's Business Name, dtype: int64\n",
      "\n",
      "Top 10 Owner's House Street Name:\n",
      "\n",
      "SYLVAN WAY                          1153\n",
      "AT&T WAY                             255\n",
      "AT&T WAY, 3A212F                     152\n",
      "BROADWAY                             142\n",
      "MERRICK ROAD                         119\n",
      "MADISON AVENUE                       115\n",
      "BROADACRES DRIVE                     111\n",
      "NaN                                  103\n",
      "PARK AVENUE                           73\n",
      "FIFTH AVENUE                          51\n",
      "Name: Owner's House Street Name, dtype: int64\n",
      "\n",
      "Top 10 Owner's House State:\n",
      "\n",
      "NY     3913\n",
      "NJ     1916\n",
      "NaN     103\n",
      "FL       40\n",
      "PA       17\n",
      "CA       16\n",
      "MA        9\n",
      "KS        6\n",
      "CT        6\n",
      "VA        5\n",
      "Name: Owner's House State, dtype: int64\n",
      "\n"
     ]
    }
   ],
   "source": [
    "show_vals(\"Owner's Business Name\")\n",
    "#show_vals(\"Owner's House #\")\n",
    "show_vals(\"Owner's House Street Name\")\n",
    "#show_vals(\"Owner's House City\")\n",
    "show_vals(\"Owner's House State\")\n",
    "#show_vals(\"Owner's House Zip\")"
   ]
  },
  {
   "cell_type": "markdown",
   "id": "ab22026c",
   "metadata": {},
   "source": [
    "## Fixing owner's informations"
   ]
  },
  {
   "cell_type": "code",
   "execution_count": 100,
   "id": "33a51583",
   "metadata": {},
   "outputs": [
    {
     "data": {
      "text/plain": [
       "NEW YORK CITY HOUSING AUTHORITY     9\n",
       "NEW YORK CITY INVESTMENT GROUP L    1\n",
       "NEW YORK CITY HEALTH & HOSPITALS    1\n",
       "NEW YORK CITY CAPITAL, LLC          1\n",
       "NEW YORK CITY COLLEGE OF TECHNOL    1\n",
       "NEW YORK CITY ECONOMIC DEV. CORP    1\n",
       "Name: Owner's Business Name, dtype: int64"
      ]
     },
     "execution_count": 100,
     "metadata": {},
     "output_type": "execute_result"
    }
   ],
   "source": [
    "df.loc[~df[\"Owner's Business Name\"].isna() & df[\"Owner's Business Name\"].str.contains(\"(?i)new york city\")][\"Owner's Business Name\"].value_counts()"
   ]
  },
  {
   "cell_type": "markdown",
   "id": "98c2e653",
   "metadata": {},
   "source": [
    "Normalizes a couple of duplicate names"
   ]
  },
  {
   "cell_type": "code",
   "execution_count": 101,
   "id": "65df8804",
   "metadata": {},
   "outputs": [],
   "source": [
    "df[\"Owner's Business Name\"] = df[\"Owner's Business Name\"].str.replace(\"NEW YORK CITY\", \"NYC\")\n",
    "df[\"Owner's Business Name\"] = df[\"Owner's Business Name\"].str.upper()\n",
    "df[\"Owner's Business Name\"] = df[\"Owner's Business Name\"].str.replace(\".\", '', regex=False)\n",
    "df[\"Owner's Business Name\"] = df[\"Owner's Business Name\"].str.replace(\",\", '', regex=False)"
   ]
  },
  {
   "cell_type": "markdown",
   "id": "4a64221c",
   "metadata": {},
   "source": [
    "All these are the same thing. Uses clusters to fix"
   ]
  },
  {
   "cell_type": "code",
   "execution_count": 102,
   "id": "8456ae81",
   "metadata": {
    "scrolled": true
   },
   "outputs": [
    {
     "data": {
      "text/plain": [
       "NYC HOUSING AUTHORITY               36\n",
       "NYC HOUSING AUTHORITY                9\n",
       "Name: Owner's Business Name, dtype: int64"
      ]
     },
     "execution_count": 102,
     "metadata": {},
     "output_type": "execute_result"
    }
   ],
   "source": [
    "#may have to use fuzzy/cluster to fix this problem\n",
    "df.loc[~df[\"Owner's Business Name\"].isna() & df[\"Owner's Business Name\"].str.contains(\"(?i)HOUSING AUTHORITY\")][\"Owner's Business Name\"].value_counts()"
   ]
  },
  {
   "cell_type": "markdown",
   "id": "1952231b",
   "metadata": {},
   "source": [
    "Used clusters to try to fix the rest of them further below"
   ]
  },
  {
   "cell_type": "code",
   "execution_count": 103,
   "id": "5a7644dc",
   "metadata": {
    "scrolled": true
   },
   "outputs": [
    {
     "data": {
      "text/plain": [
       "NY    3913\n",
       "NJ    1916\n",
       "FL      40\n",
       "PA      17\n",
       "CA      16\n",
       "MA       9\n",
       "KS       6\n",
       "CT       6\n",
       "VA       5\n",
       "NC       5\n",
       "UT       4\n",
       "GA       4\n",
       "IL       4\n",
       "MD       4\n",
       "MO       3\n",
       "CO       2\n",
       "OH       1\n",
       "NH       1\n",
       "TX       1\n",
       "WA       1\n",
       "KY       1\n",
       "AZ       1\n",
       "DE       1\n",
       "Name: Owner's House State, dtype: int64"
      ]
     },
     "execution_count": 103,
     "metadata": {},
     "output_type": "execute_result"
    }
   ],
   "source": [
    "df[\"Owner's House State\"].value_counts()"
   ]
  },
  {
   "cell_type": "markdown",
   "id": "34a88173",
   "metadata": {},
   "source": [
    "Since the states can be outside NYC, these are probably fine"
   ]
  },
  {
   "cell_type": "code",
   "execution_count": 104,
   "id": "ea5aab1d",
   "metadata": {
    "scrolled": true
   },
   "outputs": [],
   "source": [
    "#df[\"Owner's House Zip\"].value_counts()"
   ]
  },
  {
   "cell_type": "markdown",
   "id": "41e02ded",
   "metadata": {},
   "source": [
    "## Looking at Phone Numbers:"
   ]
  },
  {
   "cell_type": "code",
   "execution_count": 105,
   "id": "87d5c3ec",
   "metadata": {
    "scrolled": true
   },
   "outputs": [
    {
     "name": "stdout",
     "output_type": "stream",
     "text": [
      "Top 10 Owner's Phone #:\n",
      "\n",
      "9733974814    966\n",
      "9144389326    323\n",
      "9738971375    234\n",
      "2017573053    193\n",
      "9738988589    138\n",
      "2015710700    135\n",
      "9733974800    132\n",
      "5165572398    120\n",
      "NaN           103\n",
      "2016484016     76\n",
      "Name: Owner's Phone #, dtype: int64\n",
      "\n"
     ]
    }
   ],
   "source": [
    "show_vals(\"Owner's Phone #\")"
   ]
  },
  {
   "cell_type": "markdown",
   "id": "5e7b9f73",
   "metadata": {},
   "source": [
    "A lot of the same phone numbers"
   ]
  },
  {
   "cell_type": "code",
   "execution_count": 106,
   "id": "136de4d8",
   "metadata": {},
   "outputs": [],
   "source": [
    "df[\"Owner's Phone #\"] = df[\"Owner's Phone #\"].astype('str')"
   ]
  },
  {
   "cell_type": "code",
   "execution_count": 107,
   "id": "1ca99d99",
   "metadata": {
    "scrolled": true
   },
   "outputs": [
    {
     "data": {
      "text/html": [
       "<div>\n",
       "<style scoped>\n",
       "    .dataframe tbody tr th:only-of-type {\n",
       "        vertical-align: middle;\n",
       "    }\n",
       "\n",
       "    .dataframe tbody tr th {\n",
       "        vertical-align: top;\n",
       "    }\n",
       "\n",
       "    .dataframe thead th {\n",
       "        text-align: right;\n",
       "    }\n",
       "</style>\n",
       "<table border=\"1\" class=\"dataframe\">\n",
       "  <thead>\n",
       "    <tr style=\"text-align: right;\">\n",
       "      <th></th>\n",
       "      <th>Owner's First Name</th>\n",
       "      <th>Owner's Last Name</th>\n",
       "      <th>Owner's Business Name</th>\n",
       "      <th>Owner's Phone #</th>\n",
       "    </tr>\n",
       "  </thead>\n",
       "  <tbody>\n",
       "  </tbody>\n",
       "</table>\n",
       "</div>"
      ],
      "text/plain": [
       "Empty DataFrame\n",
       "Columns: [Owner's First Name, Owner's Last Name, Owner's Business Name, Owner's Phone #]\n",
       "Index: []"
      ]
     },
     "execution_count": 107,
     "metadata": {},
     "output_type": "execute_result"
    }
   ],
   "source": [
    "df.loc[df[\"Owner's Phone #\"].str.contains(\"7184728000\")][[\"Owner's First Name\", \"Owner's Last Name\",\"Owner's Business Name\", \"Owner's Phone #\"]]"
   ]
  },
  {
   "cell_type": "markdown",
   "id": "2cef70f5",
   "metadata": {},
   "source": [
    "All from the same business name so it makes sense"
   ]
  },
  {
   "cell_type": "code",
   "execution_count": 108,
   "id": "4d88d1f4",
   "metadata": {
    "scrolled": false
   },
   "outputs": [
    {
     "data": {
      "text/html": [
       "<div>\n",
       "<style scoped>\n",
       "    .dataframe tbody tr th:only-of-type {\n",
       "        vertical-align: middle;\n",
       "    }\n",
       "\n",
       "    .dataframe tbody tr th {\n",
       "        vertical-align: top;\n",
       "    }\n",
       "\n",
       "    .dataframe thead th {\n",
       "        text-align: right;\n",
       "    }\n",
       "</style>\n",
       "<table border=\"1\" class=\"dataframe\">\n",
       "  <thead>\n",
       "    <tr style=\"text-align: right;\">\n",
       "      <th></th>\n",
       "      <th>Job #</th>\n",
       "      <th>Doc #</th>\n",
       "      <th>Borough</th>\n",
       "      <th>House #</th>\n",
       "      <th>Street Name</th>\n",
       "      <th>Block</th>\n",
       "      <th>Lot</th>\n",
       "      <th>Bin #</th>\n",
       "      <th>Job Type</th>\n",
       "      <th>Job Status</th>\n",
       "      <th>...</th>\n",
       "      <th>Owner's Business Name</th>\n",
       "      <th>Owner's House #</th>\n",
       "      <th>Owner's House Street Name</th>\n",
       "      <th>City</th>\n",
       "      <th>Owner's House State</th>\n",
       "      <th>Zip Code</th>\n",
       "      <th>Owner's Phone #</th>\n",
       "      <th>First Permit  Date</th>\n",
       "      <th>Job Description</th>\n",
       "      <th>DOB Run Date</th>\n",
       "    </tr>\n",
       "  </thead>\n",
       "  <tbody>\n",
       "    <tr>\n",
       "      <th>45</th>\n",
       "      <td>0</td>\n",
       "      <td>EGRESS</td>\n",
       "      <td>OR OCCUPANCY.|01/24/2018 00:00:00</td>\n",
       "      <td></td>\n",
       "      <td>NaN</td>\n",
       "      <td>NaN</td>\n",
       "      <td>NaN</td>\n",
       "      <td>NaN</td>\n",
       "      <td>NaN</td>\n",
       "      <td>False</td>\n",
       "      <td>...</td>\n",
       "      <td>NaN</td>\n",
       "      <td>NaN</td>\n",
       "      <td>NaN</td>\n",
       "      <td>NaN</td>\n",
       "      <td>NaN</td>\n",
       "      <td>NaN</td>\n",
       "      <td>nan</td>\n",
       "      <td>NaN</td>\n",
       "      <td>NaN</td>\n",
       "      <td>NaN</td>\n",
       "    </tr>\n",
       "    <tr>\n",
       "      <th>56</th>\n",
       "      <td>0</td>\n",
       "      <td>AS AGENT FOR TENANT     |ONE         |AT&amp;T WA...</td>\n",
       "      <td>EGRESS</td>\n",
       "      <td>OR OCCUPANCY.|06/13/2017 00:00:00</td>\n",
       "      <td>NaN</td>\n",
       "      <td>NaN</td>\n",
       "      <td>NaN</td>\n",
       "      <td>NaN</td>\n",
       "      <td>NaN</td>\n",
       "      <td>False</td>\n",
       "      <td>...</td>\n",
       "      <td>NaN</td>\n",
       "      <td>NaN</td>\n",
       "      <td>NaN</td>\n",
       "      <td>NaN</td>\n",
       "      <td>NaN</td>\n",
       "      <td>NaN</td>\n",
       "      <td>nan</td>\n",
       "      <td>NaN</td>\n",
       "      <td>NaN</td>\n",
       "      <td>NaN</td>\n",
       "    </tr>\n",
       "    <tr>\n",
       "      <th>64</th>\n",
       "      <td>0</td>\n",
       "      <td>3A212F                |BEDMINSTER     |NJ|079...</td>\n",
       "      <td>EGRESS</td>\n",
       "      <td>OR OCCUPANCY.|02/02/2017 00:00:00</td>\n",
       "      <td>NaN</td>\n",
       "      <td>NaN</td>\n",
       "      <td>NaN</td>\n",
       "      <td>NaN</td>\n",
       "      <td>NaN</td>\n",
       "      <td>False</td>\n",
       "      <td>...</td>\n",
       "      <td>NaN</td>\n",
       "      <td>NaN</td>\n",
       "      <td>NaN</td>\n",
       "      <td>NaN</td>\n",
       "      <td>NaN</td>\n",
       "      <td>NaN</td>\n",
       "      <td>nan</td>\n",
       "      <td>NaN</td>\n",
       "      <td>NaN</td>\n",
       "      <td>NaN</td>\n",
       "    </tr>\n",
       "    <tr>\n",
       "      <th>79</th>\n",
       "      <td>0</td>\n",
       "      <td>RELATED DUNNAGE AND RELATED ANTENNAS ON ROOF ...</td>\n",
       "      <td>EGRESS</td>\n",
       "      <td>OR OCCUPANCY.|01/25/2018 00:00:00</td>\n",
       "      <td>NaN</td>\n",
       "      <td>NaN</td>\n",
       "      <td>NaN</td>\n",
       "      <td>NaN</td>\n",
       "      <td>NaN</td>\n",
       "      <td>False</td>\n",
       "      <td>...</td>\n",
       "      <td>NaN</td>\n",
       "      <td>NaN</td>\n",
       "      <td>NaN</td>\n",
       "      <td>NaN</td>\n",
       "      <td>NaN</td>\n",
       "      <td>NaN</td>\n",
       "      <td>nan</td>\n",
       "      <td>NaN</td>\n",
       "      <td>NaN</td>\n",
       "      <td>NaN</td>\n",
       "    </tr>\n",
       "    <tr>\n",
       "      <th>98</th>\n",
       "      <td>0</td>\n",
       "      <td>EGRESS</td>\n",
       "      <td>OR OCCUPANCY.|02/11/2017 00:00:00</td>\n",
       "      <td></td>\n",
       "      <td>NaN</td>\n",
       "      <td>NaN</td>\n",
       "      <td>NaN</td>\n",
       "      <td>NaN</td>\n",
       "      <td>NaN</td>\n",
       "      <td>False</td>\n",
       "      <td>...</td>\n",
       "      <td>NaN</td>\n",
       "      <td>NaN</td>\n",
       "      <td>NaN</td>\n",
       "      <td>NaN</td>\n",
       "      <td>NaN</td>\n",
       "      <td>NaN</td>\n",
       "      <td>nan</td>\n",
       "      <td>NaN</td>\n",
       "      <td>NaN</td>\n",
       "      <td>NaN</td>\n",
       "    </tr>\n",
       "    <tr>\n",
       "      <th>...</th>\n",
       "      <td>...</td>\n",
       "      <td>...</td>\n",
       "      <td>...</td>\n",
       "      <td>...</td>\n",
       "      <td>...</td>\n",
       "      <td>...</td>\n",
       "      <td>...</td>\n",
       "      <td>...</td>\n",
       "      <td>...</td>\n",
       "      <td>...</td>\n",
       "      <td>...</td>\n",
       "      <td>...</td>\n",
       "      <td>...</td>\n",
       "      <td>...</td>\n",
       "      <td>...</td>\n",
       "      <td>...</td>\n",
       "      <td>...</td>\n",
       "      <td>...</td>\n",
       "      <td>...</td>\n",
       "      <td>...</td>\n",
       "      <td>...</td>\n",
       "    </tr>\n",
       "    <tr>\n",
       "      <th>5326</th>\n",
       "      <td>0</td>\n",
       "      <td>USE</td>\n",
       "      <td>OR EGRESS.|06/18/2016 00:00:00</td>\n",
       "      <td></td>\n",
       "      <td>NaN</td>\n",
       "      <td>NaN</td>\n",
       "      <td>NaN</td>\n",
       "      <td>NaN</td>\n",
       "      <td>NaN</td>\n",
       "      <td>False</td>\n",
       "      <td>...</td>\n",
       "      <td>NaN</td>\n",
       "      <td>NaN</td>\n",
       "      <td>NaN</td>\n",
       "      <td>NaN</td>\n",
       "      <td>NaN</td>\n",
       "      <td>NaN</td>\n",
       "      <td>nan</td>\n",
       "      <td>NaN</td>\n",
       "      <td>NaN</td>\n",
       "      <td>NaN</td>\n",
       "    </tr>\n",
       "    <tr>\n",
       "      <th>5379</th>\n",
       "      <td>0</td>\n",
       "      <td>USE</td>\n",
       "      <td>OR EGRESS.|07/06/2016 00:00:00</td>\n",
       "      <td></td>\n",
       "      <td>NaN</td>\n",
       "      <td>NaN</td>\n",
       "      <td>NaN</td>\n",
       "      <td>NaN</td>\n",
       "      <td>NaN</td>\n",
       "      <td>False</td>\n",
       "      <td>...</td>\n",
       "      <td>NaN</td>\n",
       "      <td>NaN</td>\n",
       "      <td>NaN</td>\n",
       "      <td>NaN</td>\n",
       "      <td>NaN</td>\n",
       "      <td>NaN</td>\n",
       "      <td>nan</td>\n",
       "      <td>NaN</td>\n",
       "      <td>NaN</td>\n",
       "      <td>NaN</td>\n",
       "    </tr>\n",
       "    <tr>\n",
       "      <th>5665</th>\n",
       "      <td>440229664</td>\n",
       "      <td>01</td>\n",
       "      <td>4</td>\n",
       "      <td>84-11</td>\n",
       "      <td>ELMHURST AVENUE</td>\n",
       "      <td>01518</td>\n",
       "      <td>00083</td>\n",
       "      <td>4037523</td>\n",
       "      <td>A3</td>\n",
       "      <td>False</td>\n",
       "      <td>...</td>\n",
       "      <td>NaN</td>\n",
       "      <td>NaN</td>\n",
       "      <td>NaN</td>\n",
       "      <td>NaN</td>\n",
       "      <td>NaN</td>\n",
       "      <td>NaN</td>\n",
       "      <td>nan</td>\n",
       "      <td>05/27/2021 12:00:00 AM</td>\n",
       "      <td>INSTALLATION OF ANTENNAS AND RRU'S WITH RELATE...</td>\n",
       "      <td>05/28/2021 00:00:00</td>\n",
       "    </tr>\n",
       "    <tr>\n",
       "      <th>5815</th>\n",
       "      <td>0</td>\n",
       "      <td>RELATED DUNNAGE AND RELATED ANTENNAS ON ROOF ...</td>\n",
       "      <td>EGRESS OR OCCUPANCY.|11/19/2016 00:00:00</td>\n",
       "      <td></td>\n",
       "      <td>NaN</td>\n",
       "      <td>NaN</td>\n",
       "      <td>NaN</td>\n",
       "      <td>NaN</td>\n",
       "      <td>NaN</td>\n",
       "      <td>False</td>\n",
       "      <td>...</td>\n",
       "      <td>NaN</td>\n",
       "      <td>NaN</td>\n",
       "      <td>NaN</td>\n",
       "      <td>NaN</td>\n",
       "      <td>NaN</td>\n",
       "      <td>NaN</td>\n",
       "      <td>nan</td>\n",
       "      <td>NaN</td>\n",
       "      <td>NaN</td>\n",
       "      <td>NaN</td>\n",
       "    </tr>\n",
       "    <tr>\n",
       "      <th>5889</th>\n",
       "      <td>0</td>\n",
       "      <td>3A212F                |BEDMINSTER     |NJ|079...</td>\n",
       "      <td>EGRESS</td>\n",
       "      <td>OR OCCUPANCY.|12/10/2016 00:00:00</td>\n",
       "      <td>NaN</td>\n",
       "      <td>NaN</td>\n",
       "      <td>NaN</td>\n",
       "      <td>NaN</td>\n",
       "      <td>NaN</td>\n",
       "      <td>False</td>\n",
       "      <td>...</td>\n",
       "      <td>NaN</td>\n",
       "      <td>NaN</td>\n",
       "      <td>NaN</td>\n",
       "      <td>NaN</td>\n",
       "      <td>NaN</td>\n",
       "      <td>NaN</td>\n",
       "      <td>nan</td>\n",
       "      <td>NaN</td>\n",
       "      <td>NaN</td>\n",
       "      <td>NaN</td>\n",
       "    </tr>\n",
       "  </tbody>\n",
       "</table>\n",
       "<p>102 rows × 55 columns</p>\n",
       "</div>"
      ],
      "text/plain": [
       "          Job #                                              Doc #  \\\n",
       "45            0                                             EGRESS   \n",
       "56            0   AS AGENT FOR TENANT     |ONE         |AT&T WA...   \n",
       "64            0   3A212F                |BEDMINSTER     |NJ|079...   \n",
       "79            0   RELATED DUNNAGE AND RELATED ANTENNAS ON ROOF ...   \n",
       "98            0                                             EGRESS   \n",
       "...         ...                                                ...   \n",
       "5326          0                                                USE   \n",
       "5379          0                                                USE   \n",
       "5665  440229664                                                 01   \n",
       "5815          0   RELATED DUNNAGE AND RELATED ANTENNAS ON ROOF ...   \n",
       "5889          0   3A212F                |BEDMINSTER     |NJ|079...   \n",
       "\n",
       "                                        Borough  \\\n",
       "45            OR OCCUPANCY.|01/24/2018 00:00:00   \n",
       "56                                       EGRESS   \n",
       "64                                       EGRESS   \n",
       "79                                       EGRESS   \n",
       "98            OR OCCUPANCY.|02/11/2017 00:00:00   \n",
       "...                                         ...   \n",
       "5326             OR EGRESS.|06/18/2016 00:00:00   \n",
       "5379             OR EGRESS.|07/06/2016 00:00:00   \n",
       "5665                                          4   \n",
       "5815   EGRESS OR OCCUPANCY.|11/19/2016 00:00:00   \n",
       "5889                                     EGRESS   \n",
       "\n",
       "                                 House #                       Street Name  \\\n",
       "45                                                                     NaN   \n",
       "56     OR OCCUPANCY.|06/13/2017 00:00:00                               NaN   \n",
       "64     OR OCCUPANCY.|02/02/2017 00:00:00                               NaN   \n",
       "79     OR OCCUPANCY.|01/25/2018 00:00:00                               NaN   \n",
       "98                                                                     NaN   \n",
       "...                                  ...                               ...   \n",
       "5326                                                                   NaN   \n",
       "5379                                                                   NaN   \n",
       "5665                        84-11         ELMHURST AVENUE                    \n",
       "5815                                                                   NaN   \n",
       "5889   OR OCCUPANCY.|12/10/2016 00:00:00                               NaN   \n",
       "\n",
       "      Block    Lot    Bin # Job Type Job Status  ... Owner's Business Name  \\\n",
       "45      NaN    NaN      NaN      NaN      False  ...                   NaN   \n",
       "56      NaN    NaN      NaN      NaN      False  ...                   NaN   \n",
       "64      NaN    NaN      NaN      NaN      False  ...                   NaN   \n",
       "79      NaN    NaN      NaN      NaN      False  ...                   NaN   \n",
       "98      NaN    NaN      NaN      NaN      False  ...                   NaN   \n",
       "...     ...    ...      ...      ...        ...  ...                   ...   \n",
       "5326    NaN    NaN      NaN      NaN      False  ...                   NaN   \n",
       "5379    NaN    NaN      NaN      NaN      False  ...                   NaN   \n",
       "5665  01518  00083  4037523       A3      False  ...                   NaN   \n",
       "5815    NaN    NaN      NaN      NaN      False  ...                   NaN   \n",
       "5889    NaN    NaN      NaN      NaN      False  ...                   NaN   \n",
       "\n",
       "     Owner's House # Owner's House Street Name City Owner's House State  \\\n",
       "45               NaN                       NaN  NaN                 NaN   \n",
       "56               NaN                       NaN  NaN                 NaN   \n",
       "64               NaN                       NaN  NaN                 NaN   \n",
       "79               NaN                       NaN  NaN                 NaN   \n",
       "98               NaN                       NaN  NaN                 NaN   \n",
       "...              ...                       ...  ...                 ...   \n",
       "5326             NaN                       NaN  NaN                 NaN   \n",
       "5379             NaN                       NaN  NaN                 NaN   \n",
       "5665             NaN                       NaN  NaN                 NaN   \n",
       "5815             NaN                       NaN  NaN                 NaN   \n",
       "5889             NaN                       NaN  NaN                 NaN   \n",
       "\n",
       "     Zip Code Owner's Phone #      First Permit  Date  \\\n",
       "45        NaN             nan                     NaN   \n",
       "56        NaN             nan                     NaN   \n",
       "64        NaN             nan                     NaN   \n",
       "79        NaN             nan                     NaN   \n",
       "98        NaN             nan                     NaN   \n",
       "...       ...             ...                     ...   \n",
       "5326      NaN             nan                     NaN   \n",
       "5379      NaN             nan                     NaN   \n",
       "5665      NaN             nan  05/27/2021 12:00:00 AM   \n",
       "5815      NaN             nan                     NaN   \n",
       "5889      NaN             nan                     NaN   \n",
       "\n",
       "                                        Job Description         DOB Run Date  \n",
       "45                                                  NaN                  NaN  \n",
       "56                                                  NaN                  NaN  \n",
       "64                                                  NaN                  NaN  \n",
       "79                                                  NaN                  NaN  \n",
       "98                                                  NaN                  NaN  \n",
       "...                                                 ...                  ...  \n",
       "5326                                                NaN                  NaN  \n",
       "5379                                                NaN                  NaN  \n",
       "5665  INSTALLATION OF ANTENNAS AND RRU'S WITH RELATE...  05/28/2021 00:00:00  \n",
       "5815                                                NaN                  NaN  \n",
       "5889                                                NaN                  NaN  \n",
       "\n",
       "[102 rows x 55 columns]"
      ]
     },
     "execution_count": 108,
     "metadata": {},
     "output_type": "execute_result"
    }
   ],
   "source": [
    "df.loc[df[\"Owner's Phone #\"]=='nan']"
   ]
  },
  {
   "cell_type": "markdown",
   "id": "b87be56c",
   "metadata": {},
   "source": [
    "Nothing wrong with these jobs without an owner's phone number"
   ]
  },
  {
   "cell_type": "code",
   "execution_count": 109,
   "id": "d25c7eb4",
   "metadata": {
    "scrolled": true
   },
   "outputs": [
    {
     "data": {
      "text/plain": [
       "Series([], Name: Owner's Phone #, dtype: int64)"
      ]
     },
     "execution_count": 109,
     "metadata": {},
     "output_type": "execute_result"
    }
   ],
   "source": [
    "df.loc[~df[\"Owner's Phone #\"].isna() & df[\"Owner's Phone #\"].str.contains(\"-\")][\"Owner's Phone #\"].value_counts()"
   ]
  },
  {
   "cell_type": "markdown",
   "id": "388d9b1d",
   "metadata": {},
   "source": [
    "Phone numbers should not contain \"-\""
   ]
  },
  {
   "cell_type": "code",
   "execution_count": 110,
   "id": "db11d510",
   "metadata": {
    "scrolled": true
   },
   "outputs": [
    {
     "data": {
      "text/plain": [
       "Series([], Name: Owner's Phone #, dtype: int64)"
      ]
     },
     "execution_count": 110,
     "metadata": {},
     "output_type": "execute_result"
    }
   ],
   "source": [
    "df.loc[~df[\"Owner's Phone #\"].isna() & df[\"Owner's Phone #\"].str.contains(\" \")][\"Owner's Phone #\"].value_counts()"
   ]
  },
  {
   "cell_type": "markdown",
   "id": "be05d294",
   "metadata": {},
   "source": [
    "Phone numbers should not contain empty space"
   ]
  },
  {
   "cell_type": "markdown",
   "id": "a7cff51f",
   "metadata": {},
   "source": [
    "### Cleaning phone number"
   ]
  },
  {
   "cell_type": "markdown",
   "id": "3ef2b318",
   "metadata": {},
   "source": [
    "#### removes non-numeric characters"
   ]
  },
  {
   "cell_type": "code",
   "execution_count": 111,
   "id": "f47d9d7a",
   "metadata": {
    "scrolled": true
   },
   "outputs": [
    {
     "data": {
      "text/plain": [
       "Series([], Name: Owner's Phone #, dtype: int64)"
      ]
     },
     "execution_count": 111,
     "metadata": {},
     "output_type": "execute_result"
    }
   ],
   "source": [
    "\n",
    "df[\"Owner's Phone #\"] = df[\"Owner's Phone #\"].str.extract('(\\d+)', expand=False)\n",
    "df.loc[~df[\"Owner's Phone #\"].isna() & df[\"Owner's Phone #\"].str.contains(\" \")][\"Owner's Phone #\"].value_counts()"
   ]
  },
  {
   "cell_type": "markdown",
   "id": "5ebdcc35",
   "metadata": {},
   "source": [
    "#### Turns phone numbers that start with 0, 1, and does not have 10 digits into nan"
   ]
  },
  {
   "cell_type": "code",
   "execution_count": 112,
   "id": "3a07568c",
   "metadata": {},
   "outputs": [],
   "source": [
    "df[\"Owner's Phone #\"] = df[\"Owner's Phone #\"].astype('str')\n",
    "df.loc[~df[\"Owner's Phone #\"].isna() & ((df[\"Owner's Phone #\"].str[0] == \"0\") | (df[\"Owner's Phone #\"].str[0] == \"1\") | (df[\"Owner's Phone #\"].apply(len) != 10)), [\"Owner's Phone #\"]] = np.nan"
   ]
  },
  {
   "cell_type": "markdown",
   "id": "c8215291",
   "metadata": {},
   "source": [
    "#### Checks to see if there are any others not of length 10"
   ]
  },
  {
   "cell_type": "code",
   "execution_count": 113,
   "id": "c0a1dc70",
   "metadata": {
    "scrolled": false
   },
   "outputs": [
    {
     "data": {
      "text/plain": [
       "45      nan\n",
       "56      nan\n",
       "64      nan\n",
       "79      nan\n",
       "98      nan\n",
       "       ... \n",
       "5326    nan\n",
       "5379    nan\n",
       "5665    nan\n",
       "5815    nan\n",
       "5889    nan\n",
       "Name: Owner's Phone #, Length: 102, dtype: object"
      ]
     },
     "execution_count": 113,
     "metadata": {},
     "output_type": "execute_result"
    }
   ],
   "source": [
    "df[\"Owner's Phone #\"] = df[\"Owner's Phone #\"].astype('str')\n",
    "df.loc[(df[\"Owner's Phone #\"].apply(len) != 10)][\"Owner's Phone #\"]"
   ]
  },
  {
   "cell_type": "markdown",
   "id": "b97ad8d5",
   "metadata": {},
   "source": [
    "#### Check for non-numeric charaters"
   ]
  },
  {
   "cell_type": "code",
   "execution_count": 114,
   "id": "3e813ae2",
   "metadata": {},
   "outputs": [
    {
     "data": {
      "text/plain": [
       "Series([], Name: Owner's Phone #, dtype: object)"
      ]
     },
     "execution_count": 114,
     "metadata": {},
     "output_type": "execute_result"
    }
   ],
   "source": [
    "df.loc[(~df[\"Owner's Phone #\"].str.isnumeric()) & (~(df[\"Owner's Phone #\"]=='nan'))][\"Owner's Phone #\"]"
   ]
  },
  {
   "cell_type": "code",
   "execution_count": null,
   "id": "5b2d95f6",
   "metadata": {},
   "outputs": [],
   "source": []
  },
  {
   "cell_type": "code",
   "execution_count": null,
   "id": "bda94832",
   "metadata": {},
   "outputs": [],
   "source": []
  },
  {
   "cell_type": "code",
   "execution_count": null,
   "id": "ca05df89",
   "metadata": {},
   "outputs": [],
   "source": []
  },
  {
   "cell_type": "code",
   "execution_count": null,
   "id": "38a04d92",
   "metadata": {},
   "outputs": [],
   "source": []
  },
  {
   "cell_type": "markdown",
   "id": "5e10cd11",
   "metadata": {},
   "source": [
    "### Checking additional numerical columns for coherency"
   ]
  },
  {
   "cell_type": "code",
   "execution_count": 115,
   "id": "94d1bee6",
   "metadata": {},
   "outputs": [],
   "source": [
    "# numerical_columns = ['Proposed Zoning Sqft',\n",
    "#        'Enlargement SQ Footage', 'Street Frontage', 'Existing # of Stories',\n",
    "#        'Proposed # of Stories', 'Existing Height', 'Proposed Height',\n",
    "#        'Existing Dwelling Units', 'Proposed Dwelling Units']"
   ]
  },
  {
   "cell_type": "markdown",
   "id": "fcad4f7e",
   "metadata": {},
   "source": [
    "Try to convert these all to numeric values"
   ]
  },
  {
   "cell_type": "code",
   "execution_count": 116,
   "id": "6083b801",
   "metadata": {},
   "outputs": [],
   "source": [
    "# for col in numerical_columns:\n",
    "#     df[col] = df[col].astype('str')"
   ]
  },
  {
   "cell_type": "code",
   "execution_count": 117,
   "id": "e1f91f35",
   "metadata": {
    "scrolled": false
   },
   "outputs": [],
   "source": [
    "# for col in numerical_columns:\n",
    "#     print(col)\n",
    "#     print(df.loc[(~df[col].str.isdigit())\n",
    "#       &(df[col]!='nan')][col])\n",
    "#     print()"
   ]
  },
  {
   "cell_type": "markdown",
   "id": "26d158ed",
   "metadata": {},
   "source": [
    "### Fix these issues so we can covnert to numerical values:\n",
    "\n",
    "We're going to assume like before that these values are unintentially entered as negative when they should be postive"
   ]
  },
  {
   "cell_type": "code",
   "execution_count": 118,
   "id": "d407ac8b",
   "metadata": {},
   "outputs": [],
   "source": [
    "# df['Enlargement SQ Footage'] = df['Enlargement SQ Footage'].str.replace('-', '', regex=False)\n",
    "# df['Proposed Height'] = df['Proposed Height'].str.replace('-', '', regex=False)"
   ]
  },
  {
   "cell_type": "code",
   "execution_count": 119,
   "id": "c7488633",
   "metadata": {},
   "outputs": [],
   "source": [
    "# df['Existing Dwelling Units'] = df['Existing Dwelling Units'].str.replace('.', '', regex=False)\n",
    "# df['Existing Dwelling Units'] = df['Existing Dwelling Units'].str.replace('.', '', regex=False)"
   ]
  },
  {
   "cell_type": "code",
   "execution_count": 120,
   "id": "8597a03b",
   "metadata": {},
   "outputs": [],
   "source": [
    "# df['Proposed Dwelling Units'] = df['Proposed Dwelling Units'].str.replace('.', '', regex=False)\n",
    "# df['Proposed Dwelling Units'] = df['Proposed Dwelling Units'].str.replace('-', '', regex=False)\n",
    "# df['Proposed Dwelling Units'] = df['Proposed Dwelling Units'].str.replace('NONE', '0', regex=False)\n",
    "# df['Proposed Dwelling Units'] = df['Proposed Dwelling Units'].str.replace('NON5', '0', regex=False)"
   ]
  },
  {
   "cell_type": "markdown",
   "id": "b5f23d7d",
   "metadata": {},
   "source": [
    "##### Try to convert to numerical values now:"
   ]
  },
  {
   "cell_type": "code",
   "execution_count": 121,
   "id": "3beb4883",
   "metadata": {},
   "outputs": [],
   "source": [
    "# for col in numerical_columns:\n",
    "#     df[col] = pd.to_numeric(df[col], errors='coerce', downcast='integer')"
   ]
  },
  {
   "cell_type": "code",
   "execution_count": 122,
   "id": "6e554167",
   "metadata": {
    "scrolled": false
   },
   "outputs": [],
   "source": [
    "# for col in numerical_columns:\n",
    "#     show_vals(col)"
   ]
  },
  {
   "cell_type": "markdown",
   "id": "11cf87e0",
   "metadata": {},
   "source": [
    "Lets replace NaN values with 0 here and convert to ints"
   ]
  },
  {
   "cell_type": "code",
   "execution_count": 123,
   "id": "3346f7fa",
   "metadata": {},
   "outputs": [],
   "source": [
    "# df['Existing Dwelling Units'].fillna(0, inplace=True)\n",
    "# df['Proposed Dwelling Units'].fillna(0, inplace=True)"
   ]
  },
  {
   "cell_type": "code",
   "execution_count": 124,
   "id": "b4344503",
   "metadata": {},
   "outputs": [],
   "source": [
    "# df['Existing Dwelling Units'] = pd.to_numeric(df['Existing Dwelling Units'], errors='coerce', downcast='integer')\n",
    "# df['Proposed Dwelling Units'] = pd.to_numeric(df['Proposed Dwelling Units'], errors='coerce', downcast='integer')"
   ]
  },
  {
   "cell_type": "code",
   "execution_count": 125,
   "id": "16bc2bd1",
   "metadata": {
    "scrolled": false
   },
   "outputs": [],
   "source": [
    "# for col in numerical_columns:\n",
    "#     print(col)\n",
    "#     print(\"Minimum: \", df[col].min())\n",
    "#     print(\"Maximum: \", df[col].max())\n",
    "#     print()"
   ]
  },
  {
   "cell_type": "markdown",
   "id": "9918091f",
   "metadata": {},
   "source": [
    "##### Incorrect numerical values here. The tallest building in NYC in One World Trade Center, with 104 stories, and 1,776 ft. \n",
    " All of these cannot be true:"
   ]
  },
  {
   "cell_type": "code",
   "execution_count": 126,
   "id": "7e89180f",
   "metadata": {},
   "outputs": [],
   "source": [
    "# df.loc[df['Existing # of Stories'] >= 105]"
   ]
  },
  {
   "cell_type": "code",
   "execution_count": 127,
   "id": "3dd3e748",
   "metadata": {},
   "outputs": [],
   "source": [
    "# df.loc[df['Proposed # of Stories'] >= 105]['Proposed # of Stories']"
   ]
  },
  {
   "cell_type": "code",
   "execution_count": 128,
   "id": "31a92f82",
   "metadata": {},
   "outputs": [],
   "source": [
    "# df.loc[df['Existing Height'] > 1776]"
   ]
  },
  {
   "cell_type": "code",
   "execution_count": 129,
   "id": "3d7f92e9",
   "metadata": {
    "scrolled": false
   },
   "outputs": [],
   "source": [
    "# df.loc[df['Proposed Height'] > 1776]"
   ]
  },
  {
   "cell_type": "markdown",
   "id": "e6884a02",
   "metadata": {},
   "source": [
    "The largest number of units in one building in NYC is < 1400"
   ]
  },
  {
   "cell_type": "code",
   "execution_count": 130,
   "id": "68db1f18",
   "metadata": {},
   "outputs": [],
   "source": [
    "# df.loc[df['Existing Dwelling Units'] >= 1400]['Job Description'][:35]"
   ]
  },
  {
   "cell_type": "markdown",
   "id": "70140502",
   "metadata": {},
   "source": [
    "#### map these clearly false numerical values to 0"
   ]
  },
  {
   "cell_type": "code",
   "execution_count": 131,
   "id": "6eab7b96",
   "metadata": {},
   "outputs": [],
   "source": [
    "# df.loc[df['Existing # of Stories'] >= 105, 'Existing # of Stories'] = 0\n",
    "# df.loc[df['Proposed # of Stories'] >= 105, 'Proposed # of Stories'] = 0\n",
    "# df.loc[df['Existing Height'] >= 1776, 'Existing Height'] = 0\n",
    "# df.loc[df['Proposed Height'] >= 1776, 'Proposed Height'] = 0\n",
    "# df.loc[df['Existing Dwelling Units'] >= 1400, 'Existing Dwelling Units'] = 0\n",
    "# df.loc[df['Proposed Dwelling Units'] >= 1400, 'Existing Dwelling Units'] = 0"
   ]
  },
  {
   "cell_type": "markdown",
   "id": "f4df0ed9",
   "metadata": {},
   "source": [
    "## Districts"
   ]
  },
  {
   "cell_type": "markdown",
   "id": "058ff752",
   "metadata": {},
   "source": [
    "### Looking at Zoning districts"
   ]
  },
  {
   "cell_type": "code",
   "execution_count": 132,
   "id": "e0c708b4",
   "metadata": {},
   "outputs": [
    {
     "data": {
      "text/plain": [
       "Index(['Job #', 'Doc #', 'Borough', 'House #', 'Street Name', 'Block', 'Lot',\n",
       "       'Bin #', 'Job Type', 'Job Status', 'Job Status Description',\n",
       "       'Latest Action Date', 'Building Type', 'Community-Board', 'Landmarked',\n",
       "       'Little e', 'PC Filed', 'Other', 'Other Description',\n",
       "       'Applicant's First Name', 'Applicant's Last Name',\n",
       "       'Applicant Professional Title', 'Applicant License #',\n",
       "       'Professional Cert', 'Pre-Filing Date', 'Paid Date', 'Fully Paid Date',\n",
       "       'Assigned Date', 'Approved Date', 'Fully Permitted', 'Initial Cost',\n",
       "       'Total Estimated Fee', 'Fee Status', 'Existing Occupancy',\n",
       "       'Proposed Occupancy', 'Zoning District 1', 'Zoning District 2',\n",
       "       'Zoning District 3', 'Special District 1', 'Special Distr 2 ',\n",
       "       'Owner Type', 'Owner Type Description', 'Non-Profit',\n",
       "       'Owner's First Name', 'Owner's Last Name', 'Owner's Business Name',\n",
       "       'Owner's House #', 'Owner's House Street Name', 'City',\n",
       "       'Owner's House State', 'Zip Code', 'Owner's Phone #',\n",
       "       'First Permit  Date', 'Job Description', 'DOB Run Date'],\n",
       "      dtype='object')"
      ]
     },
     "execution_count": 132,
     "metadata": {},
     "output_type": "execute_result"
    }
   ],
   "source": [
    "df.columns"
   ]
  },
  {
   "cell_type": "code",
   "execution_count": 133,
   "id": "428c854c",
   "metadata": {},
   "outputs": [
    {
     "data": {
      "text/plain": [
       "0       C5-4        \n",
       "1       M1-6        \n",
       "2       M2-3        \n",
       "3       R8          \n",
       "4       R6B         \n",
       "            ...     \n",
       "6085    R4          \n",
       "6086    R6          \n",
       "6087    M1-5/R9     \n",
       "6088    R10A        \n",
       "6089    R7A         \n",
       "Name: Zoning District 1, Length: 6063, dtype: object"
      ]
     },
     "execution_count": 133,
     "metadata": {},
     "output_type": "execute_result"
    }
   ],
   "source": [
    "#Residence (R), Commerical (C), Manufacturing (M)\n",
    "df['Zoning District 1']\n",
    "#show_vals(\"Zoning District 1\")\n",
    "#show_vals(\"Zoning District 2\")"
   ]
  },
  {
   "cell_type": "markdown",
   "id": "60ad0311",
   "metadata": {},
   "source": [
    "Some districts may contain invalid formats"
   ]
  },
  {
   "cell_type": "code",
   "execution_count": 134,
   "id": "1edc40f8",
   "metadata": {},
   "outputs": [
    {
     "data": {
      "text/plain": [
       "R6              590\n",
       "R5              485\n",
       "R7-2            334\n",
       "R4              288\n",
       "R7-1            273\n",
       "               ... \n",
       "M1-4D             1\n",
       "C4-6              1\n",
       "C4-4L             1\n",
       "C2-9A             1\n",
       "M1-1/R7-2         1\n",
       "Name: Zoning District 1, Length: 136, dtype: int64"
      ]
     },
     "execution_count": 134,
     "metadata": {},
     "output_type": "execute_result"
    }
   ],
   "source": [
    "#.4-4 looks weird\n",
    "df[\"Zoning District 1\"].value_counts(dropna=False)"
   ]
  },
  {
   "cell_type": "code",
   "execution_count": 135,
   "id": "2cb37c78",
   "metadata": {},
   "outputs": [
    {
     "data": {
      "text/plain": [
       "HAZMAT200       1\n",
       "Name: Zoning District 1, dtype: int64"
      ]
     },
     "execution_count": 135,
     "metadata": {},
     "output_type": "execute_result"
    }
   ],
   "source": [
    "#Checks for irregular values (values that do not start with (R), (C), (M))\n",
    "df[\"Zoning District 1\"] = df[\"Zoning District 1\"].astype('str')\n",
    "df.loc[(df[\"Zoning District 1\"] != \"nan\") & ~df[\"Zoning District 1\"].str.startswith((\"C\", \"R\", \"M\", \"PARK\", \"BPC\", \"LH\"))][\"Zoning District 1\"].value_counts()"
   ]
  },
  {
   "cell_type": "code",
   "execution_count": 136,
   "id": "74af8196",
   "metadata": {},
   "outputs": [
    {
     "data": {
      "text/plain": [
       "71219           1\n",
       "Name: Zoning District 2, dtype: int64"
      ]
     },
     "execution_count": 136,
     "metadata": {},
     "output_type": "execute_result"
    }
   ],
   "source": [
    "#Checks for irregular values (values that do not start with (R), (C), (M))\n",
    "df[\"Zoning District 2\"] = df[\"Zoning District 2\"].astype('str')\n",
    "df.loc[(df[\"Zoning District 2\"] != \"nan\") & ~df[\"Zoning District 2\"].str.startswith((\"C\", \"R\", \"M\", \"PARK\", \"BPC\", \"LH\"))][\"Zoning District 2\"].value_counts()"
   ]
  },
  {
   "cell_type": "code",
   "execution_count": 137,
   "id": "be11fd16",
   "metadata": {},
   "outputs": [],
   "source": [
    "#turning the values above into np.nan\n",
    "df.loc[(df[\"Zoning District 1\"] != \"nan\") & ~df[\"Zoning District 1\"].str.startswith((\"C\", \"R\", \"M\", \"PARK\", \"BPC\", \"LH\")), [\"Zoning District 1\"]] = np.nan\n",
    "df.loc[(df[\"Zoning District 2\"] != \"nan\") & ~df[\"Zoning District 2\"].str.startswith((\"C\", \"R\", \"M\", \"PARK\", \"BPC\", \"LH\")), [\"Zoning District 2\"]] = np.nan"
   ]
  },
  {
   "cell_type": "markdown",
   "id": "b0446c32",
   "metadata": {},
   "source": [
    "### Looking at special districts"
   ]
  },
  {
   "cell_type": "code",
   "execution_count": 138,
   "id": "a6d06020",
   "metadata": {},
   "outputs": [],
   "source": [
    "#show_vals(\"Special District 1\")\n",
    "#show_vals(\"Special District 2\")"
   ]
  },
  {
   "cell_type": "code",
   "execution_count": 139,
   "id": "4d58abf8",
   "metadata": {},
   "outputs": [
    {
     "data": {
      "text/html": [
       "<div>\n",
       "<style scoped>\n",
       "    .dataframe tbody tr th:only-of-type {\n",
       "        vertical-align: middle;\n",
       "    }\n",
       "\n",
       "    .dataframe tbody tr th {\n",
       "        vertical-align: top;\n",
       "    }\n",
       "\n",
       "    .dataframe thead th {\n",
       "        text-align: right;\n",
       "    }\n",
       "</style>\n",
       "<table border=\"1\" class=\"dataframe\">\n",
       "  <thead>\n",
       "    <tr style=\"text-align: right;\">\n",
       "      <th></th>\n",
       "      <th>Job #</th>\n",
       "      <th>Doc #</th>\n",
       "      <th>Borough</th>\n",
       "      <th>House #</th>\n",
       "      <th>Street Name</th>\n",
       "      <th>Block</th>\n",
       "      <th>Lot</th>\n",
       "      <th>Bin #</th>\n",
       "      <th>Job Type</th>\n",
       "      <th>Job Status</th>\n",
       "      <th>...</th>\n",
       "      <th>Owner's Business Name</th>\n",
       "      <th>Owner's House #</th>\n",
       "      <th>Owner's House Street Name</th>\n",
       "      <th>City</th>\n",
       "      <th>Owner's House State</th>\n",
       "      <th>Zip Code</th>\n",
       "      <th>Owner's Phone #</th>\n",
       "      <th>First Permit  Date</th>\n",
       "      <th>Job Description</th>\n",
       "      <th>DOB Run Date</th>\n",
       "    </tr>\n",
       "  </thead>\n",
       "  <tbody>\n",
       "  </tbody>\n",
       "</table>\n",
       "<p>0 rows × 55 columns</p>\n",
       "</div>"
      ],
      "text/plain": [
       "Empty DataFrame\n",
       "Columns: [Job #, Doc #, Borough, House #, Street Name, Block, Lot, Bin #, Job Type, Job Status, Job Status Description, Latest Action Date, Building Type, Community-Board, Landmarked, Little e, PC Filed, Other, Other Description, Applicant's First Name, Applicant's Last Name, Applicant Professional Title, Applicant License #, Professional Cert, Pre-Filing Date, Paid Date, Fully Paid Date, Assigned Date, Approved Date, Fully Permitted, Initial Cost, Total Estimated Fee, Fee Status, Existing Occupancy, Proposed Occupancy, Zoning District 1, Zoning District 2, Zoning District 3, Special District 1, Special Distr 2 , Owner Type, Owner Type Description, Non-Profit, Owner's First Name, Owner's Last Name, Owner's Business Name, Owner's House #, Owner's House Street Name, City, Owner's House State, Zip Code, Owner's Phone #, First Permit  Date, Job Description, DOB Run Date]\n",
       "Index: []\n",
       "\n",
       "[0 rows x 55 columns]"
      ]
     },
     "execution_count": 139,
     "metadata": {},
     "output_type": "execute_result"
    }
   ],
   "source": [
    "#Checks to see if there are lower case values\n",
    "df.loc[~df[\"Special District 1\"].isna() & df[\"Special District 1\"].str.islower()]"
   ]
  },
  {
   "cell_type": "markdown",
   "id": "5cd08350",
   "metadata": {},
   "source": [
    "### Analysis"
   ]
  },
  {
   "cell_type": "markdown",
   "id": "5d452d79",
   "metadata": {},
   "source": [
    "Zoning districts had some zones that were invalid such as number only values (ex.31010)  and we changed those values to nan\n",
    "\n",
    "The typical format for Zoning districts start with C, R, and N. There are also some special districts like PARK and BPC that we also checked\n",
    "\n",
    "Special Districts didn't have any noticable values that were out of place"
   ]
  },
  {
   "cell_type": "code",
   "execution_count": 140,
   "id": "c275ee45",
   "metadata": {},
   "outputs": [],
   "source": [
    "from openclean.profiling.anomalies.sklearn import DBSCANOutliers\n",
    "\n",
    "def findDateOutliers(column_name, eps_setting = 0.05):\n",
    "    datetime_data = ds.distinct(column_name)\n",
    "    print(\"Column: \",column_name)\n",
    "    \n",
    "    for rank, val in enumerate(datetime_data.most_common(10)):        \n",
    "        st, freq = val\n",
    "        print('{:<3} {:>8}  {:>10}'.format('{}.'.format(rank + 1), st, '{:,}'.format(freq)))\n",
    "\n",
    "    print('\\nTotal number of distinct values in {} is {}'.format(column_name, len(datetime_data)))\n",
    "    print(DBSCANOutliers().find(datetime_data))\n",
    "    print(DBSCANOutliers(eps = eps_setting).find(datetime_data))\n",
    "    print('\\n==================================')"
   ]
  },
  {
   "cell_type": "code",
   "execution_count": 141,
   "id": "e7922559",
   "metadata": {
    "scrolled": false
   },
   "outputs": [
    {
     "name": "stdout",
     "output_type": "stream",
     "text": [
      "Datetime Data columns:\n",
      "\n",
      "Latest Action Date\n",
      "Pre- Filing Date\n",
      "First Permit  Date\n",
      "DOBRunDate\n",
      "----------------------------\n",
      "\n",
      "Column:  Latest Action Date\n",
      "1.                   100\n",
      "2.  06/08/2015 00:00:00          36\n",
      "3.  07/06/2015 00:00:00          31\n",
      "4.  06/05/2015 00:00:00          30\n",
      "5.  06/04/2015 00:00:00          26\n",
      "6.  08/25/2015 00:00:00          26\n",
      "7.  08/03/2015 00:00:00          24\n",
      "8.  12/18/2015 00:00:00          24\n",
      "9.  07/21/2015 00:00:00          23\n",
      "10. 06/24/2015 00:00:00          21\n",
      "\n",
      "Total number of distinct values in Latest Action Date is 1146\n",
      "['', ' OCCUPANCY']\n",
      "['', '08/27/2015 00:00:00', '05/21/2015 00:00:00', '08/19/2015 00:00:00', '08/03/2015 00:00:00', '06/08/2015 00:00:00', '07/21/2015 00:00:00', '08/31/2015 00:00:00', '10/06/2016 00:00:00', '07/06/2015 00:00:00', '11/05/2015 00:00:00', '06/24/2015 00:00:00', '12/10/2015 00:00:00', '06/23/2015 00:00:00', '06/04/2015 00:00:00', '06/05/2015 00:00:00', ' OCCUPANCY', '12/18/2015 00:00:00', '08/25/2015 00:00:00', '06/01/2016 00:00:00', '04/25/2016 00:00:00']\n",
      "\n",
      "==================================\n",
      "Column:  Pre- Filing Date\n",
      "1.                   101\n",
      "2.  05/22/2015 12:00:00 AM          72\n",
      "3.  04/21/2015 12:00:00 AM          61\n",
      "4.  05/07/2015 12:00:00 AM          47\n",
      "5.  08/06/2015 12:00:00 AM          46\n",
      "6.  05/19/2015 12:00:00 AM          46\n",
      "7.  05/02/2015 12:00:00 AM          42\n",
      "8.  05/06/2015 12:00:00 AM          41\n",
      "9.  05/05/2015 12:00:00 AM          39\n",
      "10. 07/08/2015 12:00:00 AM          39\n",
      "\n",
      "Total number of distinct values in Pre- Filing Date is 1066\n",
      "['']\n",
      "['', '05/22/2015 12:00:00 AM', '07/21/2015 12:00:00 AM', '04/21/2015 12:00:00 AM', '05/19/2015 12:00:00 AM', '12/02/2020 12:00:00 AM', '05/11/2015 12:00:00 AM', '01/21/2011 12:00:00 AM', '05/02/2015 12:00:00 AM', '08/06/2015 12:00:00 AM', '05/07/2015 12:00:00 AM', '05/06/2015 12:00:00 AM', '04/22/2015 12:00:00 AM', '05/01/2015 12:00:00 AM', '05/20/2015 12:00:00 AM', '07/17/2015 12:00:00 AM', '04/28/2015 12:00:00 AM', '05/05/2015 12:00:00 AM', '07/08/2015 12:00:00 AM', '05/04/2015 12:00:00 AM']\n",
      "\n",
      "==================================\n",
      "Column:  First Permit  Date\n",
      "1.                   101\n",
      "2.  06/08/2015 12:00:00 AM          36\n",
      "3.  07/06/2015 12:00:00 AM          31\n",
      "4.  06/05/2015 12:00:00 AM          30\n",
      "5.  06/04/2015 12:00:00 AM          26\n",
      "6.  08/25/2015 12:00:00 AM          26\n",
      "7.  08/03/2015 12:00:00 AM          24\n",
      "8.  12/18/2015 12:00:00 AM          24\n",
      "9.  07/21/2015 12:00:00 AM          23\n",
      "10. 06/24/2015 12:00:00 AM          21\n",
      "\n",
      "Total number of distinct values in First Permit  Date is 1145\n",
      "['']\n",
      "['', '07/21/2015 12:00:00 AM', '05/21/2015 12:00:00 AM', '06/05/2015 12:00:00 AM', '08/31/2015 12:00:00 AM', '06/08/2015 12:00:00 AM', '06/01/2016 12:00:00 AM', '10/06/2016 12:00:00 AM', '08/03/2015 12:00:00 AM', '11/05/2015 12:00:00 AM', '12/18/2015 12:00:00 AM', '06/04/2015 12:00:00 AM', '08/25/2015 12:00:00 AM', '06/24/2015 12:00:00 AM', '07/06/2015 12:00:00 AM', '12/10/2015 12:00:00 AM']\n",
      "\n",
      "==================================\n",
      "Column:  DOBRunDate\n",
      "1.                   101\n",
      "2.  12/28/2015 00:00:00          39\n",
      "3.  06/09/2015 00:00:00          36\n",
      "4.  07/07/2015 00:00:00          31\n",
      "5.  06/06/2015 00:00:00          30\n",
      "6.  06/05/2015 00:00:00          26\n",
      "7.  08/26/2015 00:00:00          26\n",
      "8.  08/04/2015 00:00:00          24\n",
      "9.  07/22/2015 00:00:00          23\n",
      "10. 06/25/2015 00:00:00          21\n",
      "\n",
      "Total number of distinct values in DOBRunDate is 1142\n",
      "['']\n",
      "['', '09/01/2015 00:00:00', '07/22/2015 00:00:00', '12/11/2015 00:00:00', '10/01/2015 00:00:00', '06/06/2015 00:00:00', '11/10/2016 00:00:00', '11/25/2015 00:00:00', '06/09/2015 00:00:00', '07/07/2015 00:00:00', '05/22/2015 00:00:00', '08/04/2015 00:00:00', '12/28/2015 00:00:00', '06/25/2015 00:00:00', '06/02/2016 00:00:00', '08/26/2015 00:00:00', '06/05/2015 00:00:00']\n",
      "\n",
      "==================================\n"
     ]
    }
   ],
   "source": [
    "date_cols = []\n",
    "\n",
    "print(\"Datetime Data columns:\\n\")\n",
    "for col in ds.columns:\n",
    "    if 'date' in col.lower() or 'time' in col.lower():\n",
    "        print(col)\n",
    "        date_cols.append(col)\n",
    "\n",
    "print(\"----------------------------\\n\")        \n",
    "        \n",
    "for col in date_cols:\n",
    "    findDateOutliers(col, 0.02)"
   ]
  },
  {
   "cell_type": "markdown",
   "id": "f37bfa22",
   "metadata": {},
   "source": [
    "Number Remember that after changing some of the column names, there are some columns that are also datetime data:\n",
    "\n",
    "\"Paid\": \"Paid Date\"\\\n",
    "\"Fully Paid\": \"Fully Paid Date\"\\\n",
    "\"Assigned\": \"Assigned Date\"\\\n",
    "\"Approved\": \"Approved Date\"\\\n",
    "\"Pre- Filing Date\": \"Pre-Filing Date\"\\\n",
    "\"DOB Run Date\": \"DOB Run Date\"\\\n",
    "\"SIGNOFF_DATE\": \"Signoff Date\"\\\n",
    "\"SPECIAL_ACTION_DATE\": \"Special Action Date\"\\"
   ]
  },
  {
   "cell_type": "code",
   "execution_count": 142,
   "id": "cc21250d",
   "metadata": {
    "scrolled": false
   },
   "outputs": [
    {
     "name": "stdout",
     "output_type": "stream",
     "text": [
      "Column:  Latest Action Date\n",
      "1.                   100\n",
      "2.  06/08/2015 00:00:00          36\n",
      "3.  07/06/2015 00:00:00          31\n",
      "4.  06/05/2015 00:00:00          30\n",
      "5.  06/04/2015 00:00:00          26\n",
      "6.  08/25/2015 00:00:00          26\n",
      "7.  08/03/2015 00:00:00          24\n",
      "8.  12/18/2015 00:00:00          24\n",
      "9.  07/21/2015 00:00:00          23\n",
      "10. 06/24/2015 00:00:00          21\n",
      "\n",
      "Total number of distinct values in Latest Action Date is 1146\n",
      "['', ' OCCUPANCY']\n",
      "['', '08/27/2015 00:00:00', '05/21/2015 00:00:00', '08/19/2015 00:00:00', '08/03/2015 00:00:00', '06/08/2015 00:00:00', '07/21/2015 00:00:00', '08/31/2015 00:00:00', '10/06/2016 00:00:00', '07/06/2015 00:00:00', '11/05/2015 00:00:00', '06/24/2015 00:00:00', '12/10/2015 00:00:00', '06/23/2015 00:00:00', '06/04/2015 00:00:00', '06/05/2015 00:00:00', ' OCCUPANCY', '12/18/2015 00:00:00', '08/25/2015 00:00:00', '06/01/2016 00:00:00', '04/25/2016 00:00:00']\n",
      "\n",
      "==================================\n",
      "Column:  Pre- Filing Date\n",
      "1.                   101\n",
      "2.  05/22/2015 12:00:00 AM          72\n",
      "3.  04/21/2015 12:00:00 AM          61\n",
      "4.  05/07/2015 12:00:00 AM          47\n",
      "5.  08/06/2015 12:00:00 AM          46\n",
      "6.  05/19/2015 12:00:00 AM          46\n",
      "7.  05/02/2015 12:00:00 AM          42\n",
      "8.  05/06/2015 12:00:00 AM          41\n",
      "9.  05/05/2015 12:00:00 AM          39\n",
      "10. 07/08/2015 12:00:00 AM          39\n",
      "\n",
      "Total number of distinct values in Pre- Filing Date is 1066\n",
      "['']\n",
      "['', '05/22/2015 12:00:00 AM', '07/21/2015 12:00:00 AM', '04/21/2015 12:00:00 AM', '05/19/2015 12:00:00 AM', '12/02/2020 12:00:00 AM', '05/11/2015 12:00:00 AM', '01/21/2011 12:00:00 AM', '05/02/2015 12:00:00 AM', '08/06/2015 12:00:00 AM', '05/07/2015 12:00:00 AM', '05/06/2015 12:00:00 AM', '04/22/2015 12:00:00 AM', '05/01/2015 12:00:00 AM', '05/20/2015 12:00:00 AM', '07/17/2015 12:00:00 AM', '04/28/2015 12:00:00 AM', '05/05/2015 12:00:00 AM', '07/08/2015 12:00:00 AM', '05/04/2015 12:00:00 AM']\n",
      "\n",
      "==================================\n",
      "Column:  First Permit  Date\n",
      "1.                   101\n",
      "2.  06/08/2015 12:00:00 AM          36\n",
      "3.  07/06/2015 12:00:00 AM          31\n",
      "4.  06/05/2015 12:00:00 AM          30\n",
      "5.  06/04/2015 12:00:00 AM          26\n",
      "6.  08/25/2015 12:00:00 AM          26\n",
      "7.  08/03/2015 12:00:00 AM          24\n",
      "8.  12/18/2015 12:00:00 AM          24\n",
      "9.  07/21/2015 12:00:00 AM          23\n",
      "10. 06/24/2015 12:00:00 AM          21\n",
      "\n",
      "Total number of distinct values in First Permit  Date is 1145\n",
      "['']\n",
      "['', '07/21/2015 12:00:00 AM', '05/21/2015 12:00:00 AM', '06/05/2015 12:00:00 AM', '08/31/2015 12:00:00 AM', '06/08/2015 12:00:00 AM', '06/01/2016 12:00:00 AM', '10/06/2016 12:00:00 AM', '08/03/2015 12:00:00 AM', '11/05/2015 12:00:00 AM', '12/18/2015 12:00:00 AM', '06/04/2015 12:00:00 AM', '08/25/2015 12:00:00 AM', '06/24/2015 12:00:00 AM', '07/06/2015 12:00:00 AM', '12/10/2015 12:00:00 AM']\n",
      "\n",
      "==================================\n",
      "Column:  DOBRunDate\n",
      "1.                   101\n",
      "2.  12/28/2015 00:00:00          39\n",
      "3.  06/09/2015 00:00:00          36\n",
      "4.  07/07/2015 00:00:00          31\n",
      "5.  06/06/2015 00:00:00          30\n",
      "6.  06/05/2015 00:00:00          26\n",
      "7.  08/26/2015 00:00:00          26\n",
      "8.  08/04/2015 00:00:00          24\n",
      "9.  07/22/2015 00:00:00          23\n",
      "10. 06/25/2015 00:00:00          21\n",
      "\n",
      "Total number of distinct values in DOBRunDate is 1142\n",
      "['']\n",
      "['', '09/01/2015 00:00:00', '07/22/2015 00:00:00', '12/11/2015 00:00:00', '10/01/2015 00:00:00', '06/06/2015 00:00:00', '11/10/2016 00:00:00', '11/25/2015 00:00:00', '06/09/2015 00:00:00', '07/07/2015 00:00:00', '05/22/2015 00:00:00', '08/04/2015 00:00:00', '12/28/2015 00:00:00', '06/25/2015 00:00:00', '06/02/2016 00:00:00', '08/26/2015 00:00:00', '06/05/2015 00:00:00']\n",
      "\n",
      "==================================\n"
     ]
    }
   ],
   "source": [
    "##date_cols = [\"Filing Date\",\"Issuance Date\",\"Expiration Date\",\"Job Start Date\", \"DOB Run Date\"]\n",
    "\n",
    "for col in date_cols:\n",
    "    findDateOutliers(col, 0.02)"
   ]
  },
  {
   "cell_type": "markdown",
   "id": "8d3a284e",
   "metadata": {},
   "source": [
    "# Analysis\n",
    "\n",
    "the above results show the problems for the data cleaning task:\n",
    "    \n",
    "### Latest Action Date\n",
    "outliers: '06//1403'\n",
    "format: 'yyyy-mm-dd' and 'mm/dd/yyyy'\n",
    "\n",
    "### Pre- Filing Date\n",
    "no problem found\n",
    "\n",
    "### DOB Run Date\n",
    "format: 'yyyy-mm-dd' and 'mm/dd/yyyy 00:00:00'\n",
    "\n",
    "### SIGNOFF_DATE\n",
    "outliers: empty value\n",
    "\n",
    "### SPECIAL_ACTION_DATE\n",
    "outliers: empty value and '11//2006'\n",
    "\n",
    "### Paid\n",
    "outliers: empty value\n",
    "\n",
    "### Fully Paid\n",
    "outliers: empty value\n",
    "\n",
    "### Assigned\n",
    "outliers: empty value\n",
    "\n",
    "### Approved\n",
    "outliers: empty value"
   ]
  },
  {
   "cell_type": "markdown",
   "id": "4df1f199",
   "metadata": {},
   "source": [
    "Number Data Cleaning for outliers in datetime columns"
   ]
  },
  {
   "cell_type": "markdown",
   "id": "51465bed",
   "metadata": {},
   "source": [
    "## Fixing Datetime columns format"
   ]
  },
  {
   "cell_type": "code",
   "execution_count": 145,
   "id": "34813f21",
   "metadata": {
    "scrolled": false
   },
   "outputs": [],
   "source": [
    "# datetime_column_list = []\n",
    "# for col in ds.columns:\n",
    "#     if 'Date' in col or 'DATE' in col:\n",
    "#         print(col)\n",
    "#         datetime_column_list.append(col)\n",
    "\n",
    "#for col in date_cols:\n",
    "    #show_vals(rename_dict[col])"
   ]
  },
  {
   "cell_type": "markdown",
   "id": "0047d08e",
   "metadata": {},
   "source": [
    "#Check to see if any columns have values in year-month-day format"
   ]
  },
  {
   "cell_type": "code",
   "execution_count": 151,
   "id": "6432d48c",
   "metadata": {},
   "outputs": [],
   "source": [
    "# for col in date_cols:\n",
    "#     print(col, '\\n', df.loc[df[col].str.contains('-', regex=False, na=False)][col], '\\n\\n')"
   ]
  },
  {
   "cell_type": "code",
   "execution_count": 152,
   "id": "cc3f6c73",
   "metadata": {},
   "outputs": [
    {
     "data": {
      "text/plain": [
       "Index(['Job #', 'Doc #', 'Borough', 'House #', 'Street Name', 'Block', 'Lot',\n",
       "       'Bin #', 'Job Type', 'Job Status', 'Job Status Description',\n",
       "       'Latest Action Date', 'Building Type', 'Community-Board', 'Landmarked',\n",
       "       'Little e', 'PC Filed', 'Other', 'Other Description',\n",
       "       'Applicant's First Name', 'Applicant's Last Name',\n",
       "       'Applicant Professional Title', 'Applicant License #',\n",
       "       'Professional Cert', 'Pre-Filing Date', 'Paid Date', 'Fully Paid Date',\n",
       "       'Assigned Date', 'Approved Date', 'Fully Permitted', 'Initial Cost',\n",
       "       'Total Estimated Fee', 'Fee Status', 'Existing Occupancy',\n",
       "       'Proposed Occupancy', 'Zoning District 1', 'Zoning District 2',\n",
       "       'Zoning District 3', 'Special District 1', 'Special Distr 2 ',\n",
       "       'Owner Type', 'Owner Type Description', 'Non-Profit',\n",
       "       'Owner's First Name', 'Owner's Last Name', 'Owner's Business Name',\n",
       "       'Owner's House #', 'Owner's House Street Name', 'City',\n",
       "       'Owner's House State', 'Zip Code', 'Owner's Phone #',\n",
       "       'First Permit  Date', 'Job Description', 'DOB Run Date'],\n",
       "      dtype='object')"
      ]
     },
     "execution_count": 152,
     "metadata": {},
     "output_type": "execute_result"
    }
   ],
   "source": [
    "df.columns"
   ]
  },
  {
   "cell_type": "markdown",
   "id": "a072f1aa",
   "metadata": {},
   "source": [
    "#### Fix the remaining Datetime columns"
   ]
  },
  {
   "cell_type": "code",
   "execution_count": 155,
   "id": "de415466",
   "metadata": {},
   "outputs": [
    {
     "name": "stdout",
     "output_type": "stream",
     "text": [
      "Latest Action Date\n",
      "Pre- Filing Date\n",
      "First Permit  Date\n",
      "DOBRunDate\n"
     ]
    }
   ],
   "source": [
    "for col in date_cols:\n",
    "    print(col)\n",
    "    try:\n",
    "        df.loc[:,rename_dict[col]] = pd.to_datetime(df[rename_dict[col]])\n",
    "    except Exception as e:\n",
    "        continue"
   ]
  },
  {
   "cell_type": "markdown",
   "id": "74885148",
   "metadata": {},
   "source": [
    "These should all be proper datetime64[ns] columns now:"
   ]
  },
  {
   "cell_type": "code",
   "execution_count": 156,
   "id": "c2e93046",
   "metadata": {
    "scrolled": false
   },
   "outputs": [
    {
     "data": {
      "text/html": [
       "<div>\n",
       "<style scoped>\n",
       "    .dataframe tbody tr th:only-of-type {\n",
       "        vertical-align: middle;\n",
       "    }\n",
       "\n",
       "    .dataframe tbody tr th {\n",
       "        vertical-align: top;\n",
       "    }\n",
       "\n",
       "    .dataframe thead th {\n",
       "        text-align: right;\n",
       "    }\n",
       "</style>\n",
       "<table border=\"1\" class=\"dataframe\">\n",
       "  <thead>\n",
       "    <tr style=\"text-align: right;\">\n",
       "      <th></th>\n",
       "      <th>Pre-Filing Date</th>\n",
       "      <th>DOB Run Date</th>\n",
       "    </tr>\n",
       "  </thead>\n",
       "  <tbody>\n",
       "    <tr>\n",
       "      <th>0</th>\n",
       "      <td>2016-07-11</td>\n",
       "      <td>2016-08-17</td>\n",
       "    </tr>\n",
       "    <tr>\n",
       "      <th>1</th>\n",
       "      <td>2016-03-14</td>\n",
       "      <td>2016-08-17</td>\n",
       "    </tr>\n",
       "    <tr>\n",
       "      <th>2</th>\n",
       "      <td>2015-03-04</td>\n",
       "      <td>2016-08-17</td>\n",
       "    </tr>\n",
       "    <tr>\n",
       "      <th>3</th>\n",
       "      <td>2016-06-07</td>\n",
       "      <td>2016-08-17</td>\n",
       "    </tr>\n",
       "    <tr>\n",
       "      <th>4</th>\n",
       "      <td>2016-04-15</td>\n",
       "      <td>2016-08-18</td>\n",
       "    </tr>\n",
       "    <tr>\n",
       "      <th>...</th>\n",
       "      <td>...</td>\n",
       "      <td>...</td>\n",
       "    </tr>\n",
       "    <tr>\n",
       "      <th>6085</th>\n",
       "      <td>2020-09-30</td>\n",
       "      <td>2020-11-24</td>\n",
       "    </tr>\n",
       "    <tr>\n",
       "      <th>6086</th>\n",
       "      <td>2020-10-30</td>\n",
       "      <td>2021-01-09</td>\n",
       "    </tr>\n",
       "    <tr>\n",
       "      <th>6087</th>\n",
       "      <td>2020-12-02</td>\n",
       "      <td>2021-01-20</td>\n",
       "    </tr>\n",
       "    <tr>\n",
       "      <th>6088</th>\n",
       "      <td>2017-03-07</td>\n",
       "      <td>2021-02-20</td>\n",
       "    </tr>\n",
       "    <tr>\n",
       "      <th>6089</th>\n",
       "      <td>2020-09-30</td>\n",
       "      <td>2021-02-27</td>\n",
       "    </tr>\n",
       "  </tbody>\n",
       "</table>\n",
       "<p>6063 rows × 2 columns</p>\n",
       "</div>"
      ],
      "text/plain": [
       "     Pre-Filing Date DOB Run Date\n",
       "0         2016-07-11   2016-08-17\n",
       "1         2016-03-14   2016-08-17\n",
       "2         2015-03-04   2016-08-17\n",
       "3         2016-06-07   2016-08-17\n",
       "4         2016-04-15   2016-08-18\n",
       "...              ...          ...\n",
       "6085      2020-09-30   2020-11-24\n",
       "6086      2020-10-30   2021-01-09\n",
       "6087      2020-12-02   2021-01-20\n",
       "6088      2017-03-07   2021-02-20\n",
       "6089      2020-09-30   2021-02-27\n",
       "\n",
       "[6063 rows x 2 columns]"
      ]
     },
     "execution_count": 156,
     "metadata": {},
     "output_type": "execute_result"
    }
   ],
   "source": [
    "df.select_dtypes(include='datetime')"
   ]
  },
  {
   "cell_type": "code",
   "execution_count": 157,
   "id": "98392e2b",
   "metadata": {
    "scrolled": false
   },
   "outputs": [],
   "source": [
    "#for col in datetime_column_list:\n",
    "#    show_vals(col)"
   ]
  },
  {
   "cell_type": "markdown",
   "id": "14b913d4",
   "metadata": {},
   "source": [
    "### Check the coherence of datetime values"
   ]
  },
  {
   "cell_type": "markdown",
   "id": "1ee84179",
   "metadata": {},
   "source": [
    "~These don't make sense, but it's not entirely clear if they should be swapped, or removed or what~\n",
    "\n",
    "All these are okay!\n"
   ]
  },
  {
   "cell_type": "code",
   "execution_count": 158,
   "id": "e1d2fcba",
   "metadata": {
    "scrolled": false
   },
   "outputs": [],
   "source": [
    "# df.loc[(df['Field Inspection Completed Date'] > df['Filing Date'])\n",
    "#       &(~df['Field Inspection Completed Date'].isna() & ~df['Filing Date'].isna())][['Field Inspection Completed Date', 'Filing Date']]"
   ]
  },
  {
   "cell_type": "code",
   "execution_count": null,
   "id": "8943023c",
   "metadata": {},
   "outputs": [],
   "source": []
  },
  {
   "cell_type": "code",
   "execution_count": 159,
   "id": "75eef79f",
   "metadata": {},
   "outputs": [],
   "source": [
    "# df.loc[(df['Expiration Date'] < df['Issuance Date'])\n",
    "#       &(~df['Expiration Date'].isna() & ~df['Issuance Date'].isna())][['Expiration Date', 'Issuance Date']]"
   ]
  },
  {
   "cell_type": "markdown",
   "id": "8686cc9f",
   "metadata": {},
   "source": [
    "Good, no expirations before issuance"
   ]
  },
  {
   "cell_type": "code",
   "execution_count": null,
   "id": "90594787",
   "metadata": {},
   "outputs": [],
   "source": []
  },
  {
   "cell_type": "markdown",
   "id": "2263e999",
   "metadata": {},
   "source": [
    "Here it's not clear how a job could start after the issuance expires, but this may have actually happened"
   ]
  },
  {
   "cell_type": "code",
   "execution_count": 160,
   "id": "eab47eaf",
   "metadata": {
    "scrolled": false
   },
   "outputs": [],
   "source": [
    "# df.loc[(df['Job Start Date'] > df['Expiration Date'])\n",
    "#       &(~df['Job Start Date'].isna() & ~df['Expiration Date'].isna())][['Job Start Date', 'Expiration Date']]"
   ]
  },
  {
   "cell_type": "code",
   "execution_count": null,
   "id": "0d6d7e55",
   "metadata": {},
   "outputs": [],
   "source": []
  },
  {
   "cell_type": "markdown",
   "id": "e0c28c7a",
   "metadata": {},
   "source": [
    "##### These are, however a small percentage of of our total jobs"
   ]
  },
  {
   "cell_type": "markdown",
   "id": "17cf463a",
   "metadata": {},
   "source": [
    "Fraction of jobs Assigned after they were already approved out of total jobs"
   ]
  },
  {
   "cell_type": "code",
   "execution_count": 161,
   "id": "723fc53e",
   "metadata": {},
   "outputs": [],
   "source": [
    "#df.loc[df['Job Start Date'] > df['Expiration Date']]['Job Start Date'].count()/df['Job Start Date'].count()"
   ]
  },
  {
   "cell_type": "markdown",
   "id": "f56c9227",
   "metadata": {},
   "source": [
    "Number Data Profilling for City and Other Description\n",
    "\n",
    "Find format problems and outliers in City and Description columns\n",
    "\n",
    "Using openclean's sklearn modules to detect problems and outliers"
   ]
  },
  {
   "cell_type": "code",
   "execution_count": 162,
   "id": "48eea5cd",
   "metadata": {},
   "outputs": [],
   "source": [
    "from openclean.profiling.anomalies.sklearn import DBSCANOutliers\n",
    "\n",
    "# Print the ten most frequent values for the 'Vehicle Expiration Date' column.\n",
    "def findDateOutliers(column_name, eps_setting = 0.05):\n",
    "    applicant_data = ds.distinct(column_name)\n",
    "    print(\"Column: \",column_name)\n",
    "    \n",
    "    for rank, val in enumerate(applicant_data.most_common(10)):        \n",
    "        st, freq = val\n",
    "        print('{:<3} {:>8}  {:>10}'.format('{}.'.format(rank + 1), st, '{:,}'.format(freq)))\n",
    "\n",
    "    print('\\nTotal number of distinct values in {} is {}'.format(column_name, len(applicant_data)))\n",
    "    print(DBSCANOutliers(eps = eps_setting).find(applicant_data))\n",
    "    print('\\n==================================')"
   ]
  },
  {
   "cell_type": "code",
   "execution_count": 163,
   "id": "c6ce7197",
   "metadata": {},
   "outputs": [],
   "source": [
    "#date_cols = [\"Comments\"]"
   ]
  },
  {
   "cell_type": "code",
   "execution_count": 164,
   "id": "8d878f53",
   "metadata": {},
   "outputs": [
    {
     "name": "stdout",
     "output_type": "stream",
     "text": [
      "----------------------------\n",
      "\n",
      "Column:  Latest Action Date\n",
      "1.                   100\n",
      "2.  06/08/2015 00:00:00          36\n",
      "3.  07/06/2015 00:00:00          31\n",
      "4.  06/05/2015 00:00:00          30\n",
      "5.  06/04/2015 00:00:00          26\n",
      "6.  08/25/2015 00:00:00          26\n",
      "7.  08/03/2015 00:00:00          24\n",
      "8.  12/18/2015 00:00:00          24\n",
      "9.  07/21/2015 00:00:00          23\n",
      "10. 06/24/2015 00:00:00          21\n",
      "\n",
      "Total number of distinct values in Latest Action Date is 1146\n",
      "['', ' OCCUPANCY']\n",
      "\n",
      "==================================\n",
      "Column:  Pre- Filing Date\n",
      "1.                   101\n",
      "2.  05/22/2015 12:00:00 AM          72\n",
      "3.  04/21/2015 12:00:00 AM          61\n",
      "4.  05/07/2015 12:00:00 AM          47\n",
      "5.  08/06/2015 12:00:00 AM          46\n",
      "6.  05/19/2015 12:00:00 AM          46\n",
      "7.  05/02/2015 12:00:00 AM          42\n",
      "8.  05/06/2015 12:00:00 AM          41\n",
      "9.  05/05/2015 12:00:00 AM          39\n",
      "10. 07/08/2015 12:00:00 AM          39\n",
      "\n",
      "Total number of distinct values in Pre- Filing Date is 1066\n",
      "['', '05/22/2015 12:00:00 AM', '04/21/2015 12:00:00 AM']\n",
      "\n",
      "==================================\n",
      "Column:  First Permit  Date\n",
      "1.                   101\n",
      "2.  06/08/2015 12:00:00 AM          36\n",
      "3.  07/06/2015 12:00:00 AM          31\n",
      "4.  06/05/2015 12:00:00 AM          30\n",
      "5.  06/04/2015 12:00:00 AM          26\n",
      "6.  08/25/2015 12:00:00 AM          26\n",
      "7.  08/03/2015 12:00:00 AM          24\n",
      "8.  12/18/2015 12:00:00 AM          24\n",
      "9.  07/21/2015 12:00:00 AM          23\n",
      "10. 06/24/2015 12:00:00 AM          21\n",
      "\n",
      "Total number of distinct values in First Permit  Date is 1145\n",
      "['']\n",
      "\n",
      "==================================\n",
      "Column:  DOBRunDate\n",
      "1.                   101\n",
      "2.  12/28/2015 00:00:00          39\n",
      "3.  06/09/2015 00:00:00          36\n",
      "4.  07/07/2015 00:00:00          31\n",
      "5.  06/06/2015 00:00:00          30\n",
      "6.  06/05/2015 00:00:00          26\n",
      "7.  08/26/2015 00:00:00          26\n",
      "8.  08/04/2015 00:00:00          24\n",
      "9.  07/22/2015 00:00:00          23\n",
      "10. 06/25/2015 00:00:00          21\n",
      "\n",
      "Total number of distinct values in DOBRunDate is 1142\n",
      "['']\n",
      "\n",
      "==================================\n"
     ]
    }
   ],
   "source": [
    "#date_cols = [\"COMMENTS\"]\n",
    "print(\"----------------------------\\n\")        \n",
    "        \n",
    "for col in date_cols:\n",
    "    findDateOutliers(col, 0.1)"
   ]
  },
  {
   "cell_type": "markdown",
   "id": "4458ca72",
   "metadata": {},
   "source": [
    "Number Analysis\n",
    "\n",
    "the above results show the problems for the data cleaning task:\n",
    "    \n",
    "### For City\n",
    "\n",
    "There are many misspellings and abbreviations for city names. We can use both clustering and Soundex to detect misspellings and abbreviations. And we can check if our cleaning is right by refer to the U.S. Cities reference datasets in openclean.\n",
    "\n",
    "\n",
    "### For Other Description\n",
    "\n",
    "Other Description can be anything, so we just care about empty value and values that are too similar and are showing exactly same things (for example 'GC' and '___GC')"
   ]
  },
  {
   "cell_type": "code",
   "execution_count": 165,
   "id": "75d6d232",
   "metadata": {},
   "outputs": [],
   "source": [
    "from openclean.function.eval.base import Col, Eval\n",
    "from openclean.function.eval.logic import And\n",
    "from openclean.function.value.phonetic import Soundex, soundex"
   ]
  },
  {
   "cell_type": "code",
   "execution_count": 167,
   "id": "dde832c4",
   "metadata": {},
   "outputs": [],
   "source": [
    "upper = ds\\\n",
    "    .select(\"City\")\\\n",
    "    .update(\"City\", str.upper)"
   ]
  },
  {
   "cell_type": "code",
   "execution_count": 168,
   "id": "3be41168",
   "metadata": {},
   "outputs": [],
   "source": [
    "from openclean.data.refdata import RefStore\n",
    "\n",
    "refdata = RefStore()\n",
    "city_df = refdata\\\n",
    "    .load('encyclopaedia_britannica:us_cities', auto_download=True)\\\n",
    "    .df()\n"
   ]
  },
  {
   "cell_type": "code",
   "execution_count": 169,
   "id": "875fa3cd",
   "metadata": {},
   "outputs": [
    {
     "name": "stdout",
     "output_type": "stream",
     "text": [
      "0          Demopolis\n",
      "1          Sylacauga\n",
      "2               Troy\n",
      "3             Dothan\n",
      "4           Prichard\n",
      "            ...     \n",
      "1956          Powell\n",
      "1957        Riverton\n",
      "1958        Sheridan\n",
      "1959    Rock Springs\n",
      "1960         Buffalo\n",
      "Name: city, Length: 1961, dtype: object\n"
     ]
    }
   ],
   "source": [
    "city_list = city_df['city']\n",
    "print(city_list)"
   ]
  },
  {
   "cell_type": "markdown",
   "id": "1fc128e6",
   "metadata": {},
   "source": [
    "Number An example of using soundex in openclean\n",
    "\n",
    "However, using soundex for each of the city is too slow, the code below take nearly 4 mins for one sningle city.\\\n",
    "So we should use clustering first and then use hard code to clean the remianing city name that is not in the city_list."
   ]
  },
  {
   "cell_type": "code",
   "execution_count": 170,
   "id": "ec8cee87",
   "metadata": {},
   "outputs": [
    {
     "name": "stdout",
     "output_type": "stream",
     "text": [
      "RANK\tCOUNT\tNAME\n",
      "1.\t739\tBROOKLYN       \n",
      "2.\t3\tBROOKYLN       \n",
      "3.\t1\tBROOKLYN,      \n",
      "4.\t1\tBROOKLY        \n",
      "5.\t1\tBROKKLYN       \n"
     ]
    }
   ],
   "source": [
    "brooklyn = ds\\\n",
    "    .select(\"City\")\\\n",
    "    .update(\"City\", str.upper)\\\n",
    "    .filter(And(Eval(\"City\", Soundex()) == soundex('BROOKLYN'), Col(\"City\") != 'BROOKLYN'))\\\n",
    "    .distinct()\n",
    "\n",
    "print('RANK\\tCOUNT\\tNAME')\n",
    "for i, entry in enumerate(brooklyn.most_common()):\n",
    "    key, count = entry\n",
    "    print('{}.\\t{}\\t{}'.format(i + 1, count, key))"
   ]
  },
  {
   "cell_type": "markdown",
   "id": "b39876ff",
   "metadata": {},
   "source": [
    "Number Data Cleaning for Applicant columns\n",
    "\n",
    "* how to deal with empty values has not decided yet"
   ]
  },
  {
   "cell_type": "markdown",
   "id": "78b1d97c",
   "metadata": {},
   "source": [
    "Number Transform all city names to upper case\n",
    "\n",
    "### Remember that we have changed some column names:\n",
    "\"City \": \"Owner's House City\"\\\n",
    "\"State\": \"Owner's House State\""
   ]
  },
  {
   "cell_type": "code",
   "execution_count": 173,
   "id": "316e6fb1",
   "metadata": {},
   "outputs": [],
   "source": [
    "df[\"Owner's House City\"] = df[\"Owner's House City\"].str.upper()"
   ]
  },
  {
   "cell_type": "code",
   "execution_count": 174,
   "id": "8baf4ba6",
   "metadata": {},
   "outputs": [],
   "source": [
    "# Convert similar values to suggested value using kNN clustering"
   ]
  },
  {
   "cell_type": "code",
   "execution_count": 177,
   "id": "725c8b9a",
   "metadata": {},
   "outputs": [],
   "source": [
    "# # Cluster string using kNN clusterer (with the default n-gram setting)\n",
    "# # using the Levenshtein distance as the similarity measure.\n",
    "\n",
    "from openclean.cluster.knn import knn_clusters\n",
    "from openclean.function.similarity.base import SimilarityConstraint\n",
    "from openclean.function.similarity.text import LevenshteinDistance\n",
    "from openclean.function.value.threshold import GreaterThan\n",
    "\n",
    "def getClusters(col, minsize = 2, preds = 0.5):\n",
    "    dba = ds.select(col).distinct()\n",
    "    clusters = knn_clusters(\n",
    "        values=dba,\n",
    "        sim=SimilarityConstraint(func=LevenshteinDistance(), pred=GreaterThan(preds)),\n",
    "        minsize=minsize\n",
    "    )\n",
    "    return clusters\n",
    "\n",
    "def print_cluster(cnumber, cluster):\n",
    "    item_count = 0\n",
    "    print('Cluster {} (of size {})\\n'.format(cnumber, len(cluster)))\n",
    "    for val, count in cluster.items():\n",
    "        item_count += 1\n",
    "        if item_count <= 10:\n",
    "            print('{} ({})'.format(val, count))\n",
    "    if item_count>10:\n",
    "        print(\".......{} more items\".format(item_count-10))\n",
    "    print('\\nSuggested value: {}\\n\\n'.format(cluster.suggestion()))\n",
    "\n",
    "def updateUsingClusters(col, clusters, isPrint = False):\n",
    "    \n",
    "    orignal_list = []\n",
    "    suggestion_list = []\n",
    "    clusters.sort(key=lambda c: len(c), reverse=True)\n",
    "       \n",
    "    for i, cluster in enumerate(clusters):        \n",
    "        suggestion = cluster.suggestion()\n",
    "        orignal_list = []\n",
    "        suggestion_list = []\n",
    "        if isPrint and i <5:\n",
    "            print_cluster(i, cluster)\n",
    "        \n",
    "        for val, count in cluster.items(): \n",
    "            orignal_list.append(val)\n",
    "            suggestion_list.append(suggestion)\n",
    "    \n",
    "    df[col] = df[col].replace(orignal_list, suggestion_list)"
   ]
  },
  {
   "cell_type": "code",
   "execution_count": 180,
   "id": "89a93bc7",
   "metadata": {
    "scrolled": false
   },
   "outputs": [
    {
     "name": "stdout",
     "output_type": "stream",
     "text": [
      "================\n",
      "kNN cluster for  City\n",
      "updating column  City\n",
      "----------------------\n",
      "Top 5 Cluster:\n",
      "----------------------\n",
      "Cluster 0 (of size 109)\n",
      "\n",
      "EMERSON         (1)\n",
      "QUEEN           (4)\n",
      "MALVERN         (3)\n",
      "PARLIN          (1)\n",
      "FENTON          (2)\n",
      "YORKTOWN        (2)\n",
      "ALBERTSON       (2)\n",
      "EDISON          (3)\n",
      "MT VERNON       (1)\n",
      "ROSALYN         (1)\n",
      ".......99 more items\n",
      "\n",
      "Suggested value: NEW YORK       \n",
      "\n",
      "\n",
      "Cluster 1 (of size 105)\n",
      "\n",
      "QUEEN           (4)\n",
      "MALVERN         (3)\n",
      "PARLIN          (1)\n",
      "FENTON          (2)\n",
      "YORKTOWN        (2)\n",
      "ALBERTSON       (2)\n",
      "EDISON          (3)\n",
      "MT VERNON       (1)\n",
      "ROSALYN         (1)\n",
      "WOBURN          (6)\n",
      ".......95 more items\n",
      "\n",
      "Suggested value: NEW YORK       \n",
      "\n",
      "\n",
      "Cluster 2 (of size 105)\n",
      "\n",
      "EMERSON         (1)\n",
      "LEVITTOWN       (2)\n",
      "QUEEN           (4)\n",
      "MALVERN         (3)\n",
      "PARLIN          (1)\n",
      "FENTON          (2)\n",
      "YORKTOWN        (2)\n",
      "ALBERTSON       (2)\n",
      "EDISON          (3)\n",
      "ROSALYN         (1)\n",
      ".......95 more items\n",
      "\n",
      "Suggested value: NEW YORK       \n",
      "\n",
      "\n",
      "Cluster 3 (of size 104)\n",
      "\n",
      "EMERSON         (1)\n",
      "QUEEN           (4)\n",
      "PARLIN          (1)\n",
      "FENTON          (2)\n",
      "MANHATTAN       (9)\n",
      "ALBERTSON       (2)\n",
      "EDISON          (3)\n",
      "TALLLMAN        (1)\n",
      "MT VERNON       (1)\n",
      "ROSALYN         (1)\n",
      ".......94 more items\n",
      "\n",
      "Suggested value: BRONX          \n",
      "\n",
      "\n",
      "Cluster 4 (of size 104)\n",
      "\n",
      "BROOKLYN        (739)\n",
      "NEWARK          (18)\n",
      "NEW YORK        (1497)\n",
      "MASPETH         (11)\n",
      "BRONX           (270)\n",
      "QUEENS          (93)\n",
      "BAYSIDE         (32)\n",
      "EMERSON         (1)\n",
      "ASTORIA         (32)\n",
      "SCARDALE        (1)\n",
      ".......94 more items\n",
      "\n",
      "Suggested value: NEW YORK       \n",
      "\n",
      "\n",
      "================\n"
     ]
    }
   ],
   "source": [
    "date_cols = [\"City\"]#,'Other Description' ]\n",
    "\n",
    "\n",
    "# print(\"kNN cluster for \", \"Qewi City\")\n",
    "# col_clusters = getClusters(\"Qewi City \")\n",
    "# print(\"updating column \", \"Qewi City\")\n",
    "# print(\"----------------------\\nTop 5 Cluster:\\n----------------------\")\n",
    "# updateUsingClusters(\"Qewi City\", col_clusters, True)\n",
    "print(\"================\")\n",
    "\n",
    "print(\"kNN cluster for \", date_cols[0])\n",
    "col_clusters = getClusters(date_cols[0])\n",
    "print(\"updating column \", date_cols[0])\n",
    "print(\"----------------------\\nTop 5 Cluster:\\n----------------------\")\n",
    "updateUsingClusters(\"Owner's House City\", col_clusters, True)\n",
    "print(\"================\")"
   ]
  },
  {
   "cell_type": "code",
   "execution_count": null,
   "id": "63f0a3bd",
   "metadata": {},
   "outputs": [],
   "source": [
    "# After clustering, find data that is not in the reference city dataset, hard code to clean them"
   ]
  },
  {
   "cell_type": "code",
   "execution_count": 182,
   "id": "934ae0ef",
   "metadata": {},
   "outputs": [
    {
     "name": "stdout",
     "output_type": "stream",
     "text": [
      "0       BROOKLYN       \n",
      "1       NEWARK         \n",
      "2       NEW YORK       \n",
      "7       MIDDLE VILLAGE \n",
      "8       BRIARWOOD      \n",
      "             ...       \n",
      "5785    ROSLYN         \n",
      "5818    LONG BEACH     \n",
      "5842    SUFFERN        \n",
      "5901    TENAFLY        \n",
      "6010    BROKKLYN       \n",
      "Name: Owner's House City, Length: 281, dtype: object\n"
     ]
    }
   ],
   "source": [
    "upper_city_list = []\n",
    "for item in city_list:\n",
    "    upper_city_list.append(str(item.upper()))\n",
    "\n",
    "outlier_cities = df.loc[(~df[\"Owner's House City\"].str.upper().isin(upper_city_list)) & (~df[\"Owner's House City\"].isna())][\"Owner's House City\"].drop_duplicates()\n",
    "print(outlier_cities)"
   ]
  },
  {
   "cell_type": "code",
   "execution_count": 183,
   "id": "3d6dd591",
   "metadata": {},
   "outputs": [],
   "source": [
    "# Print standardized cities and found outliers"
   ]
  },
  {
   "cell_type": "code",
   "execution_count": 184,
   "id": "4d0c3510",
   "metadata": {},
   "outputs": [
    {
     "name": "stdout",
     "output_type": "stream",
     "text": [
      "Series([], Name: Owner's House City, dtype: object)\n"
     ]
    }
   ],
   "source": [
    "standardized_cities = df.loc[(df[\"Owner's House City\"].str.upper().isin(upper_city_list)) & (~df[\"Owner's House City\"].isna())][\"Owner's House City\"].drop_duplicates()\n",
    "print(standardized_cities)"
   ]
  },
  {
   "cell_type": "code",
   "execution_count": 185,
   "id": "906fd341",
   "metadata": {},
   "outputs": [
    {
     "name": "stdout",
     "output_type": "stream",
     "text": [
      "['BROOKLYN       ', 'NEWARK         ', 'NEW YORK       ', 'MIDDLE VILLAGE ', 'BRIARWOOD      ', 'MASSAPEQUA     ', 'BEDMINSTER     ', 'PARSIPPANY     ', 'OVERLAND PARK  ', 'LIDO BEACH     ', 'MORRISTOWN     ', 'FLUSHING       ', 'MASPETH        ', 'NEW HYDE PARK  ', 'BRONX          ', 'BLOOMFIELD     ', 'GREAT NECK     ', 'STATEN ISLAND  ', 'ROCKAWAY BEACH ', 'LOS ANGELES    ', 'NEW YORK,      ', 'MANHASSET      ', 'SALT LAKE CITY ', 'BOCA RATON     ', 'RIDGEWOOD      ', 'FLORAL PARK    ', 'COLTS NECK     ', 'QUEENS         ', 'FOREST HILLS   ', 'COLLEGE POINT  ', 'BROOKYLN       ', 'WHITESTONE     ', 'BAYSIDE        ', 'EMERSON        ', 'DOUGLASTON     ', 'ASTORIA        ', 'SCARDALE       ', 'LONG ISLAND CIT', 'RUTHERFORD     ', 'EAST MORICHES  ', 'GLEN OAKS      ', 'LEVITTOWN      ', 'ELMHURST       ', 'ENGLEWOOD CLIFF', 'MERRICK        ', 'CANONSBURG     ', 'TEMPLE TERRACE ', 'PARAMUS        ', 'QUEEN          ', 'SCARSDALE      ', 'SYOSSET        ', 'TINTON FALLS   ', 'LIC            ', 'MINEOLA        ', 'BELLE HARBOR   ', 'MALVERN        ', 'RICHMOND HILL  ', 'VOORHEES       ', 'QUEENS VILLAGE ', 'CHICAGO        ', 'WEST NY        ', 'ALPHARETTA     ', 'GLENDALE       ', 'E.MORICHES     ', 'COMMACK        ', 'WESTBURY       ', 'GREENWICH      ', 'HIGHLAND PARK  ', 'DELMAR         ', 'MAHWAH         ', 'FREDERICK      ', 'JACKSON HEIGHTS', 'JAMAICA        ', 'BASKING RIDGE  ', 'OLD WESTBURY   ', 'WOODHAVEN      ', 'MONSEY         ', 'PARLIN         ', 'OZONE PARK     ', 'NYACK          ', 'CEDARHURST     ', 'FLUSHING,      ', 'WHITE PLAINS   ', 'HAWTHORNE      ', 'PURCHASE       ', 'WASHINGTON CROS', 'REGO PARK      ', 'LYNNBROOK      ', 'LITTLE NECK    ', 'NEW ROCHELLE   ', 'HARTSDALE      ', 'FENTON         ', 'FRESH MEADOWS  ', 'RIVERDALE      ', 'ROSLYN HEIGHTS ', 'CORTLANDT MANOR', 'MANHATTAN      ', 'BAYVILLE       ', 'HEWLETT        ', 'LAKE SUCCESS   ', 'POMONA         ', 'WOODSIDE       ', 'BETHPAGE       ', 'PASIPPANY      ', 'YORKTOWN       ', 'ATLANTIC BEACH ', 'ORLANDO        ', 'ALBERTSON      ', 'FREEHOLD       ', 'EDISON         ', 'ALPINE         ', 'GARDEN CITY    ', 'L.I.C.         ', 'MATWAH         ', 'FORT LEE       ', 'WESTBURRY      ', 'NY             ', 'ARLINGTON      ', 'JAMAICA ESTATES', 'KINGS POINT    ', 'CARY           ', 'TALLLMAN       ', 'WEST NYACK     ', 'WOODMERE       ', 'GLEN HEAD      ', 'WEST NEW YORK  ', 'VALLEY STREAM  ', 'TUCKAHOE       ', 'CORONA         ', 'DULUTH         ', 'MT VERNON      ', 'OLD BROOKVILLE ', 'FRANKLIN SQUARE', 'PHILADELPHIA   ', 'N MINNI BEACH  ', 'DENVER         ', 'HOWARD BEACH   ', 'TARRYTOWN      ', 'MAMARONECK     ', 'ROSALYN        ', 'CLIFTON PARK   ', 'YONKERS        ', 'HOLLISWOOD     ', 'WOBURN         ', 'FAR ROCKAWAY   ', 'NEW  YORK      ', 'HARRISON       ', 'LAWRENCE       ', 'CHARLOTTE      ', 'MORGANVILLE    ', 'ENGLEWOOD      ', 'BAYONNE        ', 'GLEN COVE      ', 'PORT CHESTER   ', 'LA BELLE       ', 'KINGS PARK     ', 'RIVERSIDE      ', 'ENGELWOOD CLIFF', 'HERNDON        ', 'PARSIPPANY,    ', 'HARRISBURG     ', 'BRONK          ', 'RICHMOND       ', 'MANHASSETT     ', 'LITTLE FERRY   ', 'CLEVELAND      ', 'NEW YORKER     ', 'WOODBURY       ', 'SARASOTA       ', 'OAKLAND GARDENS', 'LONG ISLAND    ', 'MELVILLE       ', 'FREEPORT       ', 'BRIARCLIFF MANO', 'L.I. CITY      ', 'OAKLAND        ', 'LEBANON        ', 'ROCHELLE PARK  ', 'ISLAND PARK    ', 'SOUTH OZONE PK ', 'SHERMAN OAKS   ', 'JERSEY CITY    ', 'BELLEROSE      ', 'EAST BERLIN    ', 'HEMPSTEAD      ', 'TEANNECK       ', 'GRENDALE       ', 'LEWRENCE       ', 'WAYNE          ', 'HARTFORD       ', 'KEW GARDENS    ', 'SLEEPY HOLLOW  ', 'HEWITT         ', 'SPRINGFIELD GAR', 'CRESSKILL      ', 'SPRING VALLEY  ', 'BRONXVILLE     ', 'SOUTH OZONE PAR', 'WATERVLIET     ', 'NEW YOEK       ', 'MONTVALE       ', 'ST. ALBANS     ', 'HOLLIS         ', 'FRANKLIN LAKES ', 'FOREST HILLS,  ', 'NEW YORL       ', 'PORTMOUTH      ', 'FORES HILLS    ', 'NORTHPORT      ', 'STUART         ', 'L.I.C          ', 'MURRAY HILL STA', 'ROOSEVELT ISLAN', 'FOREST HILL    ', 'EATONTOWN      ', 'TEANECK        ', 'ATLANTA        ', 'ROSEDALE       ', 'BERGENFIELD    ', 'MONROE         ', 'EASTCHESTER    ', 'NORTH HILLS    ', ' NEW YORK      ', 'MANHATTAB      ', 'CAMBIA HEIGHTS ', 'ENGLEWOOD CLIF ', 'HACKENSACK     ', 'JACKSON        ', 'JERICHO        ', 'BOSTON         ', 'OSSINING       ', 'MARLBORO       ', 'ELMONT         ', 'CEDAR HURST    ', 'MALVER         ', 'WESTPORT       ', 'WOODCLIFF LAKE ', 'COLUMBIA       ', 'CAMBRIDGE      ', 'BEW YORK       ', 'LABELLE        ', 'IRVING         ', 'OYSTER BAY     ', 'EAST ELMHURST  ', 'MOUNT VERNON   ', 'MANALAPAN      ', 'SOUTHAMPTON    ', 'BROOKLYN,      ', 'DUNKIRK        ', 'LARCHMONT      ', 'EASTNORTH PORT ', 'SEATTLE        ', 'WILLISTON PARK ', 'NEWARD         ', 'BX             ', 'LOUISVILLE     ', 'FORT SALOUGA   ', 'BROOKLY        ', 'FESH MEADOW    ', 'PLEASANTVILLE  ', 'GENEVA         ', 'SAN DIEGO      ', 'FARMINGDALE    ', 'NEW CITY       ', 'PHOENIX        ', 'NEW CASTLE     ', 'MISSION VIEJO  ', 'TOMS RIVER     ', 'BUFFALO        ', 'MEW YORK       ', 'HARRIMAN       ', 'MILLBURN       ', 'GREENPOINT     ', 'LAURELTON      ', 'KING OF PRUSSIA', 'BROOKVILE      ', 'ROSLYN         ', 'LONG BEACH     ', 'SUFFERN        ', 'TENAFLY        ', 'BROKKLYN       ']\n"
     ]
    }
   ],
   "source": [
    "outlier_city_list = []\n",
    "for item in outlier_cities:\n",
    "    outlier_city_list.append(str(item))\n",
    "    \n",
    "print(outlier_city_list)"
   ]
  },
  {
   "cell_type": "code",
   "execution_count": 186,
   "id": "e7c44eab",
   "metadata": {},
   "outputs": [],
   "source": [
    "# Search for similar city names in reference city dataset, and hard code to replace those outliers"
   ]
  },
  {
   "cell_type": "code",
   "execution_count": 187,
   "id": "c8da4ded",
   "metadata": {},
   "outputs": [
    {
     "name": "stdout",
     "output_type": "stream",
     "text": [
      "137       Richmond\n",
      "1728    Richardson\n",
      "1860      Richland\n",
      "Name: city, dtype: object\n",
      "------------------------\n",
      "\n",
      "498       Rock Island\n",
      "1060     Grand Island\n",
      "1286    Staten Island\n",
      "1294     Coney Island\n",
      "Name: city, dtype: object\n",
      "------------------------\n",
      "\n",
      "363             White Springs\n",
      "1266             White Plains\n",
      "1881    White Sulphur Springs\n",
      "Name: city, dtype: object\n",
      "------------------------\n",
      "\n",
      "997         Philadelphia\n",
      "1418    New Philadelphia\n",
      "Name: city, dtype: object\n",
      "------------------------\n",
      "\n",
      "1151    Morristown\n",
      "Name: city, dtype: object\n",
      "------------------------\n",
      "\n",
      "Series([], Name: city, dtype: object)\n",
      "------------------------\n",
      "\n",
      "Series([], Name: city, dtype: object)\n",
      "------------------------\n",
      "\n"
     ]
    }
   ],
   "source": [
    "def findCityName(str):\n",
    "    print(city_df['city'].loc[city_df['city'].str.contains(str)].drop_duplicates())\n",
    "    print(\"------------------------\\n\")\n",
    "    \n",
    "findCityName(\"Rich\")\n",
    "findCityName(\"Island\")\n",
    "findCityName(\"White\")\n",
    "findCityName(\"Philadelphia\")\n",
    "findCityName(\"Morris\")\n",
    "findCityName(\"Nassau\")\n",
    "findCityName(\"Westchester\")\n",
    "  "
   ]
  },
  {
   "cell_type": "code",
   "execution_count": 188,
   "id": "be10867a",
   "metadata": {},
   "outputs": [],
   "source": [
    "outlier_city_list = ['NEW YORK', 'BKLYN', 'ROOKLYN', 'RICHMOND HILL', 'BX', 'NY', 'OLD WESTBURY', 'N.Y.', 'HOLLIS', 'MAHATTAN', 'LAKE SUCCESS', 'BROKKLYN', 'BETHESDA', 'JAMAICA', 'SECAUCUS', 'LIC', 'MASPETH', 'JAMAICA ESTATES', 'SOUTH OZONE PAR', 'BAYSIDE', 'JAM', 'PARMUS', 'KEW GARDENS', 'WOONSECKET', 'LI', 'ST. ALBANS', 'MASSAPEQUA', 'SI', 'FLORAL PARK', 'ROSLYN HEIGHTS', 'HOWARD BEACH', 'WHITEPLAINS', 'JACKSON HEIGHTS', 'REGO PARK', 'NEW HYDE PARK', 'REGO', 'ARVERNE', 'OZONE PARK', 'VALLEY STREAM', 'NEPONSIT', 'ROCKVILLE CENTR', 'BRIARWOOD', 'BRKLYN', 'MOUNT LAUREL', 'QUEEEN', 'ELMSFORD', 'NYC', 'GILLFORD', 'PARSIPPANY', 'WOODSIDE', 'LONG ISLAND CIT', 'QUEEN', 'VAALLEY STREAAM', 'BRONS', 'COLLEGE POINT', 'ROCKAWAY POINT', 'DOUGLASTON', 'ENGLEWOOD CLIFF', 'QNS', 'LYNBROOK', 'SYOSSET', 'FRESH MEADOWS', 'LITTLE NECK', 'WOODHAVEN', 'HARTSDALE', 'ATLANTIC BEACH', 'SAN JUAN CAPIST', 'CALDE PLACE', 'RIVERDALE', 'TUCKAHOE', 'SEAFORD', 'L.I.C.', 'REGO PK', \"B'KLYN\"]\n",
    "clean_city_list = ['NEW YORK CITY', 'BROOKLYN', 'BROOKLYN', 'RICHMOND', 'BRONX', 'NEW YORK CITY', 'NEW YORK CITY', 'NEW YORK CITY', 'NEW YORK CITY', 'MANHATTAN', 'NEW YORK CITY', 'BROOKLYN', 'BETHESDA', 'NEW YORK CITY', 'SECAUCUS', 'LONG ISLAND CITY', 'NEW YORK CITY', 'NEW YORK CITY', 'NEW YORK CITY', 'NEW YORK CITY', 'NEW YORK CITY', 'PARAMUS', 'NEW YORK CITY', 'WOONSOCKET', 'LONG ISLAND CITY', 'NEW YORK CITY', 'NEW YORK CITY', 'STATEN ISLAND', 'NEW YORK CITY', 'NEW YORK CITY', 'NEW YORK CITY', 'WHITE PLAINS', 'NEW YORK CITY', 'NEW YORK CITY', 'NEW YORK CITY', 'NEW YORK CITY', 'NEW YORK CITY', 'NEW YORK CITY', 'NEW YORK CITY', 'NEW YORK CITY', 'NEW YORK CITY', 'NEW YORK CITY', 'BROOKLYN', 'PHILADELPHIA', 'QUEEENS', 'NEW YORK CITY', 'NEW YORK CITY', 'GILLFORD', 'MORRIS', 'NEW YORK CITY', 'LONG ISLAND CITY', 'QUEENS', 'BRONX', 'NEW YORK CITY', 'NEW YORK CITY', 'NEW YORK CITY', 'NEW YORK CITY', 'NEW YORK CITY', 'QUEENS', 'NEW YORK CITY', 'NASSAU', 'QUEENS', 'QUEENS', 'WOODHAVEN', 'NEW YORK CITY', 'NASSAU', 'SAN JUAN CAPISTRANO', 'BROOKLYN', 'RIVERDALE', 'STATEN ISLAND', 'NASSAU', 'LONG ISLAND CITY', 'QUEENS', \"BROOKLYN\"]\n",
    "\n",
    "df[\"Owner's House City\"] = df[\"Owner's House City\"].replace(outlier_city_list, clean_city_list)"
   ]
  },
  {
   "cell_type": "code",
   "execution_count": 189,
   "id": "8035d003",
   "metadata": {},
   "outputs": [],
   "source": [
    "# Check State Column"
   ]
  },
  {
   "cell_type": "code",
   "execution_count": 192,
   "id": "b2ed1919",
   "metadata": {},
   "outputs": [
    {
     "name": "stdout",
     "output_type": "stream",
     "text": [
      "Column:  State\n",
      "1.        NY       3,930\n",
      "2.        NJ       1,925\n",
      "3.                   103\n",
      "4.        FL          40\n",
      "5.        PA          17\n",
      "6.        CA          16\n",
      "7.        MA           9\n",
      "8.        KS           6\n",
      "9.        CT           6\n",
      "10.       VA           5\n",
      "\n",
      "Total number of distinct values in State is 24\n",
      "['', 'NJ', 'NY']\n",
      "\n",
      "==================================\n"
     ]
    }
   ],
   "source": [
    "state_col = 'State'\n",
    "findDateOutliers(state_col, 0.1)"
   ]
  },
  {
   "cell_type": "code",
   "execution_count": 193,
   "id": "25d7f1be",
   "metadata": {},
   "outputs": [
    {
     "data": {
      "text/plain": [
       "Counter({'NY': 3930,\n",
       "         'NJ': 1925,\n",
       "         'KS': 6,\n",
       "         '': 103,\n",
       "         'CA': 16,\n",
       "         'UT': 4,\n",
       "         'FL': 40,\n",
       "         'PA': 17,\n",
       "         'GA': 4,\n",
       "         'CT': 6,\n",
       "         'IL': 4,\n",
       "         'MD': 4,\n",
       "         'MO': 3,\n",
       "         'VA': 5,\n",
       "         'NC': 5,\n",
       "         'CO': 2,\n",
       "         'MA': 9,\n",
       "         'OH': 1,\n",
       "         'NH': 1,\n",
       "         'TX': 1,\n",
       "         'WA': 1,\n",
       "         'KY': 1,\n",
       "         'AZ': 1,\n",
       "         'DE': 1})"
      ]
     },
     "execution_count": 193,
     "metadata": {},
     "output_type": "execute_result"
    }
   ],
   "source": [
    "ds.select('State').distinct()"
   ]
  },
  {
   "cell_type": "code",
   "execution_count": 194,
   "id": "862045e6",
   "metadata": {},
   "outputs": [],
   "source": [
    "# Find functional dependencies violations on City -> State"
   ]
  },
  {
   "cell_type": "code",
   "execution_count": 197,
   "id": "c9f9150f",
   "metadata": {},
   "outputs": [
    {
     "name": "stdout",
     "output_type": "stream",
     "text": [
      "City         \t|            State\n",
      "=============\t|  ===============\n",
      "BEDMINSTER      \t| 407 x NJ\n",
      "             \t| 1 x NY\n",
      "-------------\t|  ---------------\n",
      "PARSIPPANY      \t| 1189 x NJ\n",
      "             \t| 1 x NY\n",
      "-------------\t|  ---------------\n",
      "BOCA RATON      \t| 29 x FL\n",
      "             \t| 4 x NY\n",
      "-------------\t|  ---------------\n",
      "NEW YORK CITY \t| 13 x NY\n",
      "             \t| 6 x NJ\n",
      "-------------\t|  ---------------\n",
      "CHICAGO         \t| 1 x NY\n",
      "             \t| 1 x IL\n",
      "-------------\t|  ---------------\n",
      "GLENDALE        \t| 7 x NY\n",
      "             \t| 6 x CA\n",
      "-------------\t|  ---------------\n",
      "GREENWICH       \t| 4 x CT\n",
      "             \t| 1 x NY\n",
      "-------------\t|  ---------------\n",
      "ORLANDO         \t| 1 x NY\n",
      "             \t| 1 x FL\n",
      "-------------\t|  ---------------\n",
      "FORT LEE        \t| 7 x NJ\n",
      "             \t| 1 x NY\n",
      "-------------\t|  ---------------\n",
      "CHARLOTTE       \t| 3 x NC\n",
      "             \t| 1 x NY\n",
      "-------------\t|  ---------------\n",
      "PARSIPPANY,     \t| 17 x NJ\n",
      "             \t| 1 x NY\n",
      "-------------\t|  ---------------\n",
      "JACKSON         \t| 2 x NJ\n",
      "             \t| 1 x NY\n",
      "-------------\t|  ---------------\n",
      "MARLBORO        \t| 1 x NJ\n",
      "             \t| 1 x MA\n",
      "-------------\t|  ---------------\n"
     ]
    }
   ],
   "source": [
    "from openclean.operator.collector.count import distinct\n",
    "from openclean.operator.map.violations import fd_violations\n",
    "\n",
    "groups = fd_violations(df, lhs=\"Owner's House City\", rhs=\"Owner's House State\")\n",
    "\n",
    "print('City         \\t|            State')\n",
    "print('=============\\t|  ===============')\n",
    "for key in groups:\n",
    "    conflicts = distinct(groups.get(key), \"Owner's House State\").most_common()\n",
    "    state, count = conflicts[0]\n",
    "    print('{:<12} \\t| {} x {}'.format(key, count, state))\n",
    "    for state, count in conflicts[1:]:\n",
    "        print('             \\t| {} x {}'.format(count, state))\n",
    "    print('-------------\\t|  ---------------')"
   ]
  },
  {
   "cell_type": "code",
   "execution_count": 198,
   "id": "54d61f55",
   "metadata": {},
   "outputs": [],
   "source": [
    "#There is a row that has \"NEW YORK CITY\" as city, but have \"NJ\" as State, fix its state to \"NY\""
   ]
  },
  {
   "cell_type": "code",
   "execution_count": 199,
   "id": "2f0258f3",
   "metadata": {},
   "outputs": [],
   "source": [
    "index = df[\"Owner's House State\"].loc[(df[\"Owner's House City\"] == \"NEW YORK CITY\") & (df[\"Owner's House State\"] == \"NJ\")].index[0]\n",
    "df[\"Owner's House State\"].update(pd.Series(['NY'], index = [index]))"
   ]
  },
  {
   "cell_type": "code",
   "execution_count": 200,
   "id": "c8142dbb",
   "metadata": {},
   "outputs": [
    {
     "data": {
      "text/plain": [
       "1811    NJ\n",
       "2905    NJ\n",
       "3593    NJ\n",
       "4103    NJ\n",
       "4992    NJ\n",
       "Name: Owner's House State, dtype: object"
      ]
     },
     "execution_count": 200,
     "metadata": {},
     "output_type": "execute_result"
    }
   ],
   "source": [
    "df[\"Owner's House State\"].loc[(df[\"Owner's House City\"] == \"NEW YORK CITY\") & (df[\"Owner's House State\"] == \"NJ\")]"
   ]
  },
  {
   "cell_type": "code",
   "execution_count": 201,
   "id": "bd7489db",
   "metadata": {},
   "outputs": [],
   "source": [
    "# Apply similar operation on Owner Bus Name"
   ]
  },
  {
   "cell_type": "code",
   "execution_count": 202,
   "id": "7932f3cb",
   "metadata": {},
   "outputs": [],
   "source": [
    "#bn_col = \"Qewi Bus Name\"\n",
    "#findDateOutliers(bn_col)"
   ]
  },
  {
   "cell_type": "code",
   "execution_count": 203,
   "id": "83ba0fb3",
   "metadata": {},
   "outputs": [],
   "source": [
    "# Using clustering for Business Name takes too much time, we can only clean those empty data for now "
   ]
  },
  {
   "cell_type": "code",
   "execution_count": 204,
   "id": "b6c78a8e",
   "metadata": {},
   "outputs": [],
   "source": [
    "#df[bn_col] = df[bn_col].replace(['N/A', '', 'NA','NONE'], [None,None,None,None])"
   ]
  },
  {
   "cell_type": "code",
   "execution_count": null,
   "id": "1c52c6ee",
   "metadata": {},
   "outputs": [],
   "source": []
  },
  {
   "cell_type": "markdown",
   "id": "69e694d3",
   "metadata": {},
   "source": [
    "### Data Profilling for applicant columns\n",
    "\n",
    "#Find format problems and outliers in all applicant columns\n",
    "\n",
    "#Using openclean's sklearn modules to detect problems and outliers"
   ]
  },
  {
   "cell_type": "code",
   "execution_count": 216,
   "id": "4787a80f",
   "metadata": {},
   "outputs": [],
   "source": [
    "from openclean.profiling.anomalies.sklearn import DBSCANOutliers\n",
    "\n",
    "# Print the ten most frequent values for the 'Vehicle Expiration Date' column.\n",
    "def findDateOutliers(column_name, eps_setting = 0.05):\n",
    "    applicant_data = ds.distinct(column_name)\n",
    "    print(\"Column: \",column_name)\n",
    "    \n",
    "    for rank, val in enumerate(applicant_data.most_common(10)):        \n",
    "        st, freq = val\n",
    "        print('{:<3} {:>8}  {:>10}'.format('{}.'.format(rank + 1), st, '{:,}'.format(freq)))\n",
    "\n",
    "    print('\\nTotal number of distinct values in {} is {}'.format(column_name, len(applicant_data)))\n",
    "    print(DBSCANOutliers(eps = eps_setting).find(applicant_data))\n",
    "    print('\\n==================================')"
   ]
  },
  {
   "cell_type": "code",
   "execution_count": 217,
   "id": "535ad372",
   "metadata": {},
   "outputs": [
    {
     "name": "stdout",
     "output_type": "stream",
     "text": [
      "Qewi Data columns:\n",
      "\n",
      "Applicant's First Name\n",
      "Applicant's Last Name\n",
      "Applicant Professional Title\n",
      "Applicant License #\n"
     ]
    }
   ],
   "source": [
    "date_cols = []\n",
    "\n",
    "print(\"Qewi Data columns:\\n\")\n",
    "for col in ds.columns:\n",
    "    if 'Applicant' in col:\n",
    "        print(col)\n",
    "        date_cols.append(col)"
   ]
  },
  {
   "cell_type": "code",
   "execution_count": 218,
   "id": "94e96094",
   "metadata": {},
   "outputs": [
    {
     "name": "stdout",
     "output_type": "stream",
     "text": [
      "Applicant Data columns:\n",
      "\n",
      "Applicant's First Name\n",
      "Applicant's Last Name\n",
      "Applicant Professional Title\n",
      "Applicant License #\n",
      "----------------------------\n",
      "\n",
      "Column:  Applicant's First Name\n",
      "1.  STEPHEN                 839\n",
      "2.  JOHN                    646\n",
      "3.  ANTONIO                 535\n",
      "4.  PETER                   495\n",
      "5.  JAMES                   493\n",
      "6.  NICHOLAS                463\n",
      "7.  CHAD                    452\n",
      "8.  MICHAEL                 341\n",
      "9.  ROBERT                  280\n",
      "10. GLENN                   191\n",
      "\n",
      "Total number of distinct values in Applicant's First Name is 61\n",
      "['', 'MICHAELS       ', 'CHRISTOPHER    ', 'PETER          ', 'MANOJKUMAR     ', 'ILIYASSOU      ', 'LLIYASSOU      ', 'MICHAEL        ', 'JAMES          ', 'JOHN           ', 'STEPHEN        ', 'ROBERT         ', 'GLENN          ', 'GREGORY        ', 'PHILLIP        ', 'SCOTT          ', 'NICHOLAS       ', 'CHAD           ', 'ANTONIO        ']\n",
      "\n",
      "==================================\n",
      "Column:  Applicant's Last Name\n",
      "1.  BRAY                                   841\n",
      "2.  ADELY                                  586\n",
      "3.  GUALTIERI                              533\n",
      "4.  FAHEY                                  471\n",
      "5.  BARILE                                 466\n",
      "6.  SCHWARTZ                               452\n",
      "7.  TARDY                                  418\n",
      "8.  BOHLINGER                              316\n",
      "9.  TOMS                                   226\n",
      "10. SCHERER                                193\n",
      "\n",
      "Total number of distinct values in Applicant's Last Name is 82\n",
      "['', 'TARDY                         ', 'GUALTIERI                     ', 'BRAY                          ', 'SCHWARTZ                      ', 'SCHERER                       ', 'BARILE                        ', 'CHASSE                        ', 'ADELY                         ', 'TOMS                          ', 'FAHEY                         ', 'BOHLINGER                     ', 'YU                            ']\n",
      "\n",
      "==================================\n",
      "Column:  Applicant Professional Title\n",
      "1.        PE       5,743\n",
      "2.        RA         246\n",
      "3.                   101\n",
      "\n",
      "Total number of distinct values in Applicant Professional Title is 3\n",
      "['', 'RA', 'PE']\n",
      "\n",
      "==================================\n",
      "Column:  Applicant License #\n",
      "1.    086064         837\n",
      "2.    063658         586\n",
      "3.    071249         535\n",
      "4.    078939         470\n",
      "5.    093111         450\n",
      "6.    090133         429\n",
      "7.    079612         418\n",
      "8.    075700         318\n",
      "9.    077087         201\n",
      "10.   075376         194\n",
      "\n",
      "Total number of distinct values in Applicant License # is 84\n",
      "['', '086808', '075376', '079612', '071249', '086064', '090133', '075700', '063658', '093111', '077087', '078603', '075384', '078939']\n",
      "\n",
      "==================================\n"
     ]
    }
   ],
   "source": [
    "date_cols = []\n",
    "\n",
    "print(\"Applicant Data columns:\\n\")\n",
    "for col in ds.columns:\n",
    "    if 'Applicant' in col:\n",
    "        print(col)\n",
    "        date_cols.append(col)\n",
    "\n",
    "print(\"----------------------------\\n\")        \n",
    "        \n",
    "for col in date_cols:\n",
    "    findDateOutliers(col, 0.1)"
   ]
  },
  {
   "cell_type": "markdown",
   "id": "c71c97c6",
   "metadata": {},
   "source": [
    "#Analysis\n",
    "\n",
    "#the above results show the problems for the data cleaning task:\n",
    "    \n",
    "## For name data\n",
    "\n",
    "#in \"Applicant's First Name\", \"Applicant's Last Name\", \"Applicant Professional Title\", there are many outliers which are illegal input, and there are many similar values. We need first converts evident outliers to legal values, then use kNN clusterer to standardize similar values.\n",
    "\n",
    "\n",
    "## Applicant License Number\n",
    "\n",
    "#Applicant License Number is made of 6 digits, there are outliers that do not satisfy the 6-digit format. We can not use kNN clusterer to standardize because many License Number are similar. "
   ]
  },
  {
   "cell_type": "code",
   "execution_count": 219,
   "id": "d952e408",
   "metadata": {},
   "outputs": [],
   "source": [
    "# Data Cleaning for Applicant columns\n",
    "\n",
    "#* how to deal with empty values has not decided yet"
   ]
  },
  {
   "cell_type": "code",
   "execution_count": 221,
   "id": "e5b26ec3",
   "metadata": {},
   "outputs": [],
   "source": [
    "# mapping list to replace outliers\n",
    "outlier1 = ['', 'MR. ROSS ADAM C', 'MICHAEL', 'N. J.', 'WILLIAM 11', 'JOSEP;H``', 'DAID/11/2007', 'CHUNG   LUN', '718 9215010', 'ANTHONY', 'HSIA0-NAN', 'JOSEPH', '``````````', 'ROBERT  `', 'RAJENDRA9956700', '2', 'G.B.M.', 'EUGENE......JR', '6312100', 'CLAUDE,JR.', 'THOMAS``', 'ALAN  L', 'Nab53', 'MR. Y. B', 'J.J', 'PH8ILIP', 'I. M', 'RICHARD', 'ALBERTA S 111 D', 'P ;', 'GENECG.C. ENG &', 'J.J.', '2126202794', 'SHAW  HWA', 'HARRY         H', 'MR DOU8GLAS', '`1D', 'PAUL', 'K. T.', 'JOHN', '...NORMAN', 'EVAN   D', '7184361278BERNA', 'S.D. DON', 'KY00 SUK', 'JJ', 'YURI.`', 'MAD/Y/ARNI', 'ES ON SCH B', 'EUGENE.......JR', 'NEAL', 'F._ERIC', 'RYAN,  JR', 'AASDFASDFASDF', 'LA0-TECH', 'RODNEY   __', 'DAVID', 'G. L.', 'JAMES', 'LESLI8E', '7186054055', 'GEORGE', 'G.B.M', 'DAVID    JON', 'CHUNG---YAO', 'PETER', 'YUBUN(JACK)', 'GLEN A. L.', '1P', 'JUDE.....N.O', 'LEONARD--', 'WILLIAM', 'ANTHONY,111', 'WU(WOODY)', 'GAD/HON-AN', 'GLEN  A.L.', 'J.B. Jr.', 'LORENZO..A', 'J J', '..RAMSEY', 'HUI LI I', 'ANTONIO9', 'ROBERT', '0.BERT', 'DUMMY 2', '...JOSEPH', 'RUSSELL 111', 'THOMAS', 'H./E./CAMELLE', 'LALAL', 'M.E. P.E', 'R0OBIN VINCENT', '--young', 'AKM', 'LE1', 'IK.T.', 'LEO, JR.', 'J. Butch A. Jr.', 'WU (WOODY0', 'PAUL   N', 'CHRISTOPHER']\n",
    "mapping1 = [None, 'ROSS ADAM C', 'MICHAEL', 'N. J.', 'WILLIAM', 'JOSEPH', None, 'CHUNG LUN', None, 'ANTHONY', 'HSIA0 NAN', 'JOSEPH', None, 'ROBERT', 'RAJENDRA', None, 'G.B.M.', 'EUGENEJR', None, 'CLAUDE JR.', 'THOMAS', 'ALAN  L', 'Nab', 'MR. Y. B', 'J.J', 'PHILIP', 'I. M', 'RICHARD', 'ALBERTA', None, 'GENECG.C. ENG', 'J.J.', None, 'SHAW HWA', 'HARRYH', 'MR DOUGLAS', None, 'PAUL', 'K. T.', 'JOHN', 'NORMAN', 'EVAND', 'BERNA', 'S.D. DON', 'KY00 SUK', 'JJ', 'YURI.`', 'MADYARNI', 'ES ON SCH B', 'EUGENEJR', 'NEAL', 'FERIC', 'RYAN,  JR', 'AASDFASDFASDF', 'LA0 TECH', 'RODNEY', 'DAVID', 'G. L.', 'JAMES', 'LESLIE', None, 'GEORGE', 'G.B.M', 'DAVID JON', 'CHUNG YAO', 'PETER', 'YUBUN(JACK)', 'GLEN A. L.', None, 'JUDE N.O', 'LEONARD--', 'WILLIAM', 'ANTHONY,111', 'WU(WOODY)', 'GAD HON-AN', 'GLEN A.L.', 'J.B. Jr.', 'LORENZOA', 'J J', 'RAMSEY', 'HUI LI I', 'ANTONIO9', 'ROBERT', '0.BERT', 'DUMMY', 'JOSEPH', 'RUSSELL', 'THOMAS', 'H.E.CAMELLE', 'LALAL', 'M.E. P.E', 'R0OBIN VINCENT', 'young', 'AKM', 'LE1', 'IK.T.', 'LEO, JR.', 'J. Butch A. Jr.', 'WU (WOODY0', 'PAUL   N', 'CHRISTOPHER']\n",
    "\n",
    "outlier2 = ['SHARMA Number0', \"0'CONNOR\", 'RUSHTON    UEL', 'UDDIN   Z', 'HINKLEY 1', 'O&Number039;CONNOR, P.E.', '.OOK', 'SAMUELS111', 'O&Number039;CONNOR', 'CALIENDO', 'SMITH   JR.', 'LO  BUE', '7AN', '+-+ETTIERI', 'SMITH, 111', 'KAMEN   1', '.EE', 'MASS, 1', '.EI', 'Zagaroli 3rd', 'RINI   II', 'KAMEN   R', 'RYAN 11', 'SPI8EZIA L S', 'MUFTIC..A.I.A', 'COSTELLO9 RA A I A', 'CALVANICO', 'LLC.', 'POEPPEL, P.E.', 'HAMA07', 'HINLEY,1', '1212', \"O  ' CONNELL\", 'HURT,JR.,', 'WESOLOWSKI', 'CHEN', '`ING, R.A', 'MARTARELLA 111', 'Gandhi, Ph.D., P.E.', '90I', 'ENNIS 2', 'COSTELLO R A A I A', '3UI', 'N/A', 'HURT,  JR', 'LEHR,1', 'KOHLER, 111', 'GERAZOUNIS', 'Alexander,1', 'LUBOW, R.A. LEED AP', 'RINI,111', '08CZAK', '````````````````````', 'CHAO  R.A.', 'Geier 11', '08NGEL', '08SOLOWSKI', 'I11', 'HINKLEY, 1', 'RUDIKOFF, P.E.', \"O'CONNOR\", 'SHAH   EZ', 'MIELE, JR., P.E.', 'RITTENHOUSE 111', 'AMADI   ISIOFIA', 'HINKLEY,1', 'RENFORE````````', \"O'HARA,JR.\", '73020012', 'PHAGOO   I', 'BRAY.....,', 'LLL', 'BHATHIA,1', 'GANDHI, PH. D., P.E', 'KO K', 'VASSALOTTI 11', 'HURT, JR .', '0018LKLE', 'RINI -111', 'PARIHAR', 'EE', 'L00802', 'ELISE.111', 'KING , R.A', 'CHRYSLER  P E', 'LEHR 1', 'Walters   Jr.', 'LEE', 'RINI  III', 'D&Number039;ANGELO', '0UDOLPH III', 'VIEHE-NAESS 111', ',MO', '08E', '47DIKOFF', 'Yu,', '420865380', 'COPELAND', 'ZWIEFEL 3RD', 'PETERSEN', 'King, R.A.,', 'RINI, III', '7APA', 'CHEN   S', 'Hurt  Jr.', 'KATZ', 'NIZAMBAD.(P.E.)', '901BEN', '4153LOO', 'SYED-NAQVI', 'RYAN , JR.', 'K O K O R I S', 'ELISEO111', 'O&Number039;CONNELL', 'ZEID61', '---Lewis', '00CHELI', 'MOHAMMAD       +++++', 'METZLER  P E', 'BAILEY', 'GANDHI, PH. D., P.E.', 'TIEMANN.111', 'SMITH.111', 'DI GER0NIMO', 'GANDHI, PH,D., P.E', 'III', 'J C', 'MAGAMI-QAIM-MAGAMI', '+M', 'LO G1UDICE', 'HOQUE', 'RUDIKOFF', 'Y10007OR', 'SMITH,111', 'KING R A FAIA', 'RYAN III, AIA', '08AN', 'STARK 1', 'MASS', 'VICTORI0, R.A', 'RIZVI   A', '21029677', \"3'CONNOR\", 'Wong /  Lai', 'KAPLAN 3', 'GRAICHEN.JR./DAWN/DI', 'GROSSMAN ,PE,F.A.C.I']\n",
    "mapping2 = ['SHARMA ', \"CONNOR\", 'RUSHTON UEL', 'UDDIN Z', 'HINKLEY ', 'CONNOR P.E.', None, 'SAMUELS', 'CONNOR', 'CALIENDO', 'SMITH JR.', 'LO BUE', None, 'ETTIERI', 'SMITH', 'KAMEN', '.EE', 'MASS', '.EI', 'Zagaroli', 'RINI', 'KAMEN R', 'RYAN', 'SPIEZIA L S', 'MUFTIC.A.I.A', 'COSTELLO9 RA A I A', 'CALVANICO', 'LLC.', 'POEPPEL P.E.', 'HAMA', 'HINLEY', None, \"CONNELL\", 'HURT JR.', 'WESOLOWSKI', 'CHEN', 'ING R.A', 'MARTARELLA', 'Gandhi', None, 'ENNIS ', 'COSTELLO R A A I A', None, None, 'HUR  JR', 'LEHR', 'KOHLER 111', 'GERAZOUNIS', 'Alexander', 'LUBOW R.A. LEED AP', 'RINI',None, None, 'CHAO R.A.', 'Geier', None, 'SOLOWSKI', None, 'HINKLEY', 'RUDIKOFF, P.E.', \"CONNOR\", 'SHAH EZ', 'MIELE JR. P.E.', 'RITTENHOUSE', 'AMADI   ISIOFIA', 'HINKLEY', 'RENFORE', \"O'HARA,JR.\", None, 'PHAGOO I', 'BRAY,', 'LLL', 'BHATHIA', 'GANDHI', 'KO K', 'VASSALOTTI', 'HURT JR.',None, 'RINI', 'PARIHAR', 'EE', None, 'ELISE', 'KING R.A', 'CHRYSLER  P E', 'LEHR', 'Walters Jr.', 'LEE', 'RINI  III', 'ANGELO', '0UDOLPH III', 'VIEHE-NAESS', 'MO', '08E', None, 'Yu,', None, 'COPELAND', 'ZWIEFEL 3RD', 'PETERSEN', 'King, R.A.,', 'RINI, III', '7APA', 'CHEN   S', 'Hurt  Jr.', 'KATZ', 'NIZAMBAD.(P.E.)', None, None, None, 'RYAN JR.', 'KOKORIS', 'ELISE', 'CONNELL', None, 'Lewis', 'CHELI', 'MOHAMMAD', 'METZLER  P E', 'BAILEY', 'GANDHI', 'TIEMANN', 'SMITH', 'DI GER0NIMO', 'GANDHI', 'III', 'J C', 'MAGAMI QAIM MAGAMI', None, 'LO G1UDICE', 'HOQUE', 'RUDIKOFF', None, 'SMITH', 'KING R A FAIA', 'RYAN III AIA', None, 'STARK', 'MASS', 'VICTORI0 R.A', 'RIZVIA', None, \"CONNOR\", 'Wong Lai', 'KAPLAN', 'GRAICHEN.JR. DAWN DI', 'GROSSMAN']\n",
    "\n",
    "outlier3 = ['', '....DEMO', '050069', 'DEM. CONTR.,', 'XXXXX', 'G/C 10114H9', 'CGWC10114H99', '00', 'X S000155', '082-36-1245', 'G.G', 'LESSEE', '......GC', \"'\", '..OWNER', 'GC 2293', '--', 'XXXXXX', 'LS 31,721', '...GC', 'gen.cont.', 'G.C TKNumber4592', 'PE', 'RLA - 818', '.....OWNER', 'RLA 16077', 'G C', 'X 4129892', 'G. C.', 'R.L.A', 'GC 1028350', 'WC10114H99', 'LEESEE', 'GEN.CONT.', 'SIGN..HANGER', 'DEMO 20451', 'D8615', '.X', 'P.L.L.C', '..DEMO', 'G .C', 'L A', 'G.C NY11101', '32820', '....OWNER', 'GC(DEMO)', 'C0NTRACTOR', 'EXPEDITORC99792', 'X 1341946', 'TRACKNumber 1390', 'EXPED.R4466', 'PLLC 9599691', 'G.C 1110101', '029649', '(CHECK)', 'DEM. CONTR,', 'EXPEDIT(H66172)', '.........GC', 'CITY OF N Y', 'GC 1170386', 'G. C', 'CO0OWNER', '(CHECKED)', 'C.C', '23392 1159774', 'DEMO {', 'RA', 'T. 31132', '....GC', 'RLA-787', 'TRACK Number1390', 'D C', 'G.CONTR.', 'DEMO  CONT', '1GC', 'CC', 'demo G.C.', 'TRACK. Number1390', 'M.F.S.P.C.', '...DEMO', 'DEMO G C', '13328', 'GEN  CONT', 'GC 1221073', \"GC;'\", 'DEMO 1341946', '11234', 'G.C.,', '.....GC', 'LIC.133668259 1', '?', '0WNER', 'C10892', 'GEN..CONT']\n",
    "mapping3 = [None, 'DEMO', None, 'DEM. CONTR', None, 'G/C', 'CGWC', None, 'X S', None, 'G.G', 'LESSEE', 'GC', None, 'OWNER', 'GC', None, None, 'LS ', 'GC', 'gen.cont.', 'G.C TK', 'PE', 'RLA ', 'OWNER', 'RLA ', 'G C', 'X', 'G. C.', 'R.L.A', 'GC', 'WC', 'LEESEE', 'GEN.CONT.', 'SIGN.HANGER', 'DEMO', None,None, 'P.L.L.C', 'DEMO', 'G.C', 'L A', 'G.C ', None, 'OWNER', 'GC(DEMO)', 'C0NTRACTOR', 'EXPEDITORC', None, 'TRACK', 'EXPED.R', 'PLLC ', 'G.C', None, None, 'DEM. CONTR,', 'EXPEDIT', 'GC', None, 'GC', 'G.C', 'CO0OWNER', None, 'C.C', None, 'DEMO', 'RA', None, 'GC', 'RLA', None, 'D C', 'G.CONTR.', 'DEMO  CONT', 'GC', 'CC', 'demo G.C.', None, 'M.F.S.P.C.', 'DEMO', 'DEMO G C', None, 'GEN  CONT', 'GC ', \"GC \", 'DEMO ', None, 'G.C.', 'GC', 'LIC', None, '0WNER',None, 'GEN.CONT']\n",
    "\n",
    "outlier4 = ['', '0000GC', '083278', 'DD5615', '0000PB', '00ASB4', 'B81923', '99998', '000N/A', '65569+', '01827O', 'R9526', 'LP0256', 'N/A', '1964', 'ISLAND', '1609', '000PW1', '00DEMO', '0688.6', '00000', '.20929', 'LP0258', '000TOR', '0D8615', '0SWITA', '818', 'O02200', 'DEMO', '196', '1075', '0000NT', '215', '0', '00000`', \"D'ALTO\", '0455', '22377', 'DD8615', '050579', '226', 'SWITA', 'DD6815', 'X02689']\n",
    "mapping4 = [None, '0000GC', '083278', 'DD5615', '0000PB', '00ASB4', 'B81923', '099998', '000000', '065569', '01827O', '0R9526', 'LP0256',None, '001964',None, '001609', '000PW1', '00DEMO', '006886', '000000', '020929', 'LP0258', '000TOR', '0D8615', '0SWITA', '000818', 'O02200', None, '000196', '001075', '0000NT', '000215', '000000', '000000', None, '000455', '022377', 'DD8615', '050579', '000226', None, 'DD6815', 'X02689']\n",
    "\n",
    "outliers = [outlier1, outlier2, outlier3, outlier4]\n",
    "mappings = [mapping1, mapping2, mapping3, mapping4]\n",
    "\n"
   ]
  },
  {
   "cell_type": "code",
   "execution_count": 222,
   "id": "b02740f5",
   "metadata": {},
   "outputs": [],
   "source": [
    "# Remove evident outliers using hard coded mapping"
   ]
  },
  {
   "cell_type": "code",
   "execution_count": 223,
   "id": "fe8a5519",
   "metadata": {},
   "outputs": [],
   "source": [
    "i = 0\n",
    "for col in date_cols:\n",
    "    df[col] = df[col].replace(outliers[i], mappings[i])\n",
    "    i += 1"
   ]
  },
  {
   "cell_type": "code",
   "execution_count": 224,
   "id": "93307178",
   "metadata": {},
   "outputs": [],
   "source": [
    "## Convert similar values to suggested value using kNN clustering"
   ]
  },
  {
   "cell_type": "code",
   "execution_count": 225,
   "id": "156b02e9",
   "metadata": {},
   "outputs": [],
   "source": [
    "# Cluster string using kNN clusterer (with the default n-gram setting)\n",
    "# using the Levenshtein distance as the similarity measure.\n",
    "\n",
    "from openclean.cluster.knn import knn_clusters\n",
    "from openclean.function.similarity.base import SimilarityConstraint\n",
    "from openclean.function.similarity.text import LevenshteinDistance\n",
    "from openclean.function.value.threshold import GreaterThan\n",
    "\n",
    "def getClusters(col, minsize = 2):\n",
    "    dba = ds.select(col).distinct()\n",
    "    clusters = knn_clusters(\n",
    "        values=dba,\n",
    "        sim=SimilarityConstraint(func=LevenshteinDistance(), pred=GreaterThan(0.75)),\n",
    "        minsize=minsize\n",
    "    )\n",
    "    return clusters\n",
    "\n",
    "def print_cluster(cnumber, cluster):\n",
    "    item_count = 0\n",
    "    print('Cluster {} (of size {})\\n'.format(cnumber, len(cluster)))\n",
    "    for val, count in cluster.items():\n",
    "        item_count += 1\n",
    "        if item_count <= 10:\n",
    "            print('{} ({})'.format(val, count))\n",
    "    if item_count>10:\n",
    "        print(\".......{} more items\".format(item_count-10))\n",
    "    print('\\nSuggested value: {}\\n\\n'.format(cluster.suggestion()))\n",
    "\n",
    "def updateUsingClusters(col, clusters, isPrint = False):\n",
    "    \n",
    "    orignal_list = []\n",
    "    suggestion_list = []\n",
    "    clusters.sort(key=lambda c: len(c), reverse=True)\n",
    "       \n",
    "    for i, cluster in enumerate(clusters):        \n",
    "        suggestion = cluster.suggestion()\n",
    "        orignal_list = []\n",
    "        suggestion_list = []\n",
    "        if isPrint and i < 5:\n",
    "            print_cluster(i, cluster)\n",
    "        \n",
    "        for val, count in cluster.items(): \n",
    "            orignal_list.append(val)\n",
    "            suggestion_list.append(suggestion)\n",
    "            \n",
    "    df[col] = df[col].replace(orignal_list, suggestion_list)"
   ]
  },
  {
   "cell_type": "code",
   "execution_count": null,
   "id": "fdc6595d",
   "metadata": {},
   "outputs": [],
   "source": []
  },
  {
   "cell_type": "code",
   "execution_count": 228,
   "id": "f88fe7e8",
   "metadata": {},
   "outputs": [],
   "source": [
    "cluster_cols = [\"Owner's Business Name\"]"
   ]
  },
  {
   "cell_type": "code",
   "execution_count": 229,
   "id": "7824009d",
   "metadata": {
    "scrolled": false
   },
   "outputs": [
    {
     "name": "stdout",
     "output_type": "stream",
     "text": [
      "kNN cluster for  Owner's Business Name\n",
      "updating column  Owner's Business Name\n",
      "----------------------\n",
      "Top 5 Cluster:\n",
      "----------------------\n",
      "Cluster 0 (of size 87)\n",
      "\n",
      "TUDOR REALTY                     (1)\n",
      "GOOD REALTY LLC                  (1)\n",
      "YANI REALTY LLC                  (1)\n",
      "EDMAR REALTY, LLC                (1)\n",
      "DGL REALTY INC                   (1)\n",
      "BLUE 8 REALTY LLC                (1)\n",
      "MBS REALTY, LLC                  (1)\n",
      "BRAUSE REALTY LLC                (1)\n",
      "SIVAN REALTY LLC                 (1)\n",
      "MPM REALTY, LLC                  (1)\n",
      ".......77 more items\n",
      "\n",
      "Suggested value: GERLAN REALTY LLC               \n",
      "\n",
      "\n",
      "Cluster 1 (of size 83)\n",
      "\n",
      "GOOD REALTY LLC                  (1)\n",
      "YANI REALTY LLC                  (1)\n",
      "EDMAR REALTY, LLC                (1)\n",
      "BLUE 8 REALTY LLC                (1)\n",
      "MBS REALTY, LLC                  (1)\n",
      "BRAUSE REALTY LLC                (1)\n",
      "SIVAN REALTY LLC                 (1)\n",
      "MPM REALTY, LLC                  (1)\n",
      "979 REALTY, LLC.                 (1)\n",
      "SIVAN REALTY, LLC                (1)\n",
      ".......73 more items\n",
      "\n",
      "Suggested value: GERLAN REALTY LLC               \n",
      "\n",
      "\n",
      "Cluster 2 (of size 83)\n",
      "\n",
      "GOOD REALTY LLC                  (1)\n",
      "YANI REALTY LLC                  (1)\n",
      "EDMAR REALTY, LLC                (1)\n",
      "BLUE 8 REALTY LLC                (1)\n",
      "MBS REALTY, LLC                  (1)\n",
      "BRAUSE REALTY LLC                (1)\n",
      "SIVAN REALTY LLC                 (1)\n",
      "MPM REALTY, LLC                  (1)\n",
      "979 REALTY, LLC.                 (1)\n",
      "SIVAN REALTY, LLC                (1)\n",
      ".......73 more items\n",
      "\n",
      "Suggested value: GERLAN REALTY LLC               \n",
      "\n",
      "\n",
      "Cluster 3 (of size 81)\n",
      "\n",
      "GOOD REALTY LLC                  (1)\n",
      "YANI REALTY LLC                  (1)\n",
      "EDMAR REALTY, LLC                (1)\n",
      "BLUE 8 REALTY LLC                (1)\n",
      "MBS REALTY, LLC                  (1)\n",
      "BRAUSE REALTY LLC                (1)\n",
      "MPM REALTY, LLC                  (1)\n",
      "979 REALTY, LLC.                 (1)\n",
      "SIVAN REALTY, LLC                (1)\n",
      " 2164 REALTY, LLC                (1)\n",
      ".......71 more items\n",
      "\n",
      "Suggested value: GERLAN REALTY LLC               \n",
      "\n",
      "\n",
      "Cluster 4 (of size 81)\n",
      "\n",
      "GOOD REALTY LLC                  (1)\n",
      "YANI REALTY LLC                  (1)\n",
      "EDMAR REALTY, LLC                (1)\n",
      "DGL REALTY INC                   (1)\n",
      "BLUE 8 REALTY LLC                (1)\n",
      "MBS REALTY, LLC                  (1)\n",
      "HAZY REALTY CO.                  (1)\n",
      "BRAUSE REALTY LLC                (1)\n",
      "SIVAN REALTY LLC                 (1)\n",
      "MPM REALTY, LLC                  (1)\n",
      ".......71 more items\n",
      "\n",
      "Suggested value: GERLAN REALTY LLC               \n",
      "\n",
      "\n",
      "================\n"
     ]
    }
   ],
   "source": [
    "for col in cluster_cols:\n",
    "    print(\"kNN cluster for \", col)\n",
    "    col_clusters = getClusters(col)\n",
    "    print(\"updating column \", col)\n",
    "    print(\"----------------------\\nTop 5 Cluster:\\n----------------------\")\n",
    "    updateUsingClusters(col, col_clusters, True)\n",
    "    print(\"================\")"
   ]
  },
  {
   "cell_type": "code",
   "execution_count": null,
   "id": "0165768f",
   "metadata": {},
   "outputs": [],
   "source": [
    "#Number Save cleaned data"
   ]
  },
  {
   "cell_type": "code",
   "execution_count": null,
   "id": "0463a88c",
   "metadata": {},
   "outputs": [],
   "source": [
    "#Number outputpath = 'cleaned_data.csv'\n",
    "#Number df.to_csv(outputpath,sep=',',index=False,header=True) "
   ]
  },
  {
   "cell_type": "markdown",
   "id": "94efa535",
   "metadata": {},
   "source": [
    "# Some discussion\n",
    "\n",
    "We have profiled and cleaned most of the columns, we first change some of the column names so that they present right information about the data, then we look at each of these columns to detect outliers and wrong format.\n",
    "\n",
    "However, there are still some issues, first we keep most of the empty value as NaN, and we don't know if clustering is the best way to clean the name data since it might convert similar names to one same name. And, business names are too long that we can not perform clustering on them so we only fixed empty values. Also, there are some column names in upper case, we do not know if we should convert them to lower case as other columns."
   ]
  },
  {
   "cell_type": "code",
   "execution_count": 230,
   "id": "5af33da3",
   "metadata": {},
   "outputs": [
    {
     "data": {
      "text/plain": [
       "Index(['Job #', 'Doc #', 'Borough', 'House #', 'Street Name', 'Block', 'Lot',\n",
       "       'Bin #', 'Job Type', 'Job Status', 'Job Status Description',\n",
       "       'Latest Action Date', 'Building Type', 'Community-Board', 'Landmarked',\n",
       "       'Little e', 'PC Filed', 'Other', 'Other Description',\n",
       "       'Applicant's First Name', 'Applicant's Last Name',\n",
       "       'Applicant Professional Title', 'Applicant License #',\n",
       "       'Professional Cert', 'Pre-Filing Date', 'Paid Date', 'Fully Paid Date',\n",
       "       'Assigned Date', 'Approved Date', 'Fully Permitted', 'Initial Cost',\n",
       "       'Total Estimated Fee', 'Fee Status', 'Existing Occupancy',\n",
       "       'Proposed Occupancy', 'Zoning District 1', 'Zoning District 2',\n",
       "       'Zoning District 3', 'Special District 1', 'Special Distr 2 ',\n",
       "       'Owner Type', 'Owner Type Description', 'Non-Profit',\n",
       "       'Owner's First Name', 'Owner's Last Name', 'Owner's Business Name',\n",
       "       'Owner's House #', 'Owner's House Street Name', 'Owner's House City',\n",
       "       'Owner's House State', 'Zip Code', 'Owner's Phone #',\n",
       "       'First Permit  Date', 'Job Description', 'DOB Run Date'],\n",
       "      dtype='object')"
      ]
     },
     "execution_count": 230,
     "metadata": {},
     "output_type": "execute_result"
    }
   ],
   "source": [
    "df.columns"
   ]
  },
  {
   "cell_type": "markdown",
   "id": "00fa5743",
   "metadata": {},
   "source": [
    "## Precision and Recall"
   ]
  },
  {
   "cell_type": "code",
   "execution_count": 233,
   "id": "f3baa8fa",
   "metadata": {},
   "outputs": [],
   "source": [
    "cleaned_columns = ['House #', 'Latest Action Date', 'Community-Board', 'Landmarked',\n",
    "       'Little e', 'PC Filed', 'Other', 'Other Description',\n",
    "       'Professional Cert', 'Pre-Filing Date', 'Paid Date', 'Fully Paid Date',\n",
    "       'Assigned Date', 'Approved Date', 'Fully Permitted', 'Initial Cost',\n",
    "       'Total Estimated Fee', 'Fee Status', 'Zoning District 1', 'Zoning District 2',\n",
    "       'Zoning District 3', 'Special District 1', 'Special Distr 2 ',\n",
    "       'Non-Profit', \n",
    "       \"Owner's First Name\", \"Owner's Last Name\", \"Owner's Business Name\",\n",
    "       \"Owner's House #\", \"Owner's House Street Name\", \"Owner's House City\",\n",
    "       \"Owner's House State\", 'Zip Code', \"Owner's Phone #\",\n",
    "       'First Permit  Date', 'DOB Run Date']\n",
    "\n",
    "#cleaned_columns.extend(owner_cols)\n",
    "#cleaned_columns.extend()\n"
   ]
  },
  {
   "cell_type": "code",
   "execution_count": 234,
   "id": "d4f44621",
   "metadata": {},
   "outputs": [],
   "source": [
    "#for col in df.columns:\n",
    "#    if 'Permittee' in col:\n",
    "#        cleaned_columns.append(col)"
   ]
  },
  {
   "cell_type": "code",
   "execution_count": 235,
   "id": "9a89445f",
   "metadata": {},
   "outputs": [],
   "source": [
    "df_sample_data = df_sample.rename(columns=rename_dict)\n"
   ]
  },
  {
   "cell_type": "code",
   "execution_count": 236,
   "id": "e3080237",
   "metadata": {},
   "outputs": [
    {
     "data": {
      "text/plain": [
       "Index(['Job #', 'Doc #', 'Borough', 'House #', 'Street Name', 'Block', 'Lot',\n",
       "       'Bin #', 'Job Type', 'Job Status', 'Job Status Description',\n",
       "       'Latest Action Date', 'Building Type', 'Community-Board', 'Landmarked',\n",
       "       'Little e', 'PC Filed', 'Other', 'Other Description',\n",
       "       'Applicant's First Name', 'Applicant's Last Name',\n",
       "       'Applicant Professional Title', 'Applicant License #',\n",
       "       'Professional Cert', 'Pre-Filing Date', 'Paid Date', 'Fully Paid Date',\n",
       "       'Assigned Date', 'Approved Date', 'Fully Permitted', 'Initial Cost',\n",
       "       'Total Estimated Fee', 'Fee Status', 'Existing Occupancy',\n",
       "       'Proposed Occupancy', 'Zoning District 1', 'Zoning District 2',\n",
       "       'Zoning District 3', 'Special District 1', 'Special Distr 2 ',\n",
       "       'Owner Type', 'Owner Type Description', 'Non-Profit',\n",
       "       'Owner's First Name', 'Owner's Last Name', 'Owner's Business Name',\n",
       "       'Owner's House #', 'Owner's House Street Name', 'Owner's House City',\n",
       "       'Owner's House State', 'Zip Code', 'Owner's Phone #',\n",
       "       'First Permit  Date', 'Job Description', 'DOB Run Date'],\n",
       "      dtype='object')"
      ]
     },
     "execution_count": 236,
     "metadata": {},
     "output_type": "execute_result"
    }
   ],
   "source": [
    "df_sample_data.columns"
   ]
  },
  {
   "cell_type": "code",
   "execution_count": 237,
   "id": "f9891f23",
   "metadata": {},
   "outputs": [],
   "source": [
    "df_sample_data = df_sample_data[cleaned_columns]"
   ]
  },
  {
   "cell_type": "code",
   "execution_count": 239,
   "id": "ef0e36a2",
   "metadata": {
    "scrolled": true
   },
   "outputs": [
    {
     "data": {
      "text/html": [
       "<div>\n",
       "<style scoped>\n",
       "    .dataframe tbody tr th:only-of-type {\n",
       "        vertical-align: middle;\n",
       "    }\n",
       "\n",
       "    .dataframe tbody tr th {\n",
       "        vertical-align: top;\n",
       "    }\n",
       "\n",
       "    .dataframe thead th {\n",
       "        text-align: right;\n",
       "    }\n",
       "</style>\n",
       "<table border=\"1\" class=\"dataframe\">\n",
       "  <thead>\n",
       "    <tr style=\"text-align: right;\">\n",
       "      <th></th>\n",
       "      <th>House #</th>\n",
       "      <th>Latest Action Date</th>\n",
       "      <th>Community-Board</th>\n",
       "      <th>Landmarked</th>\n",
       "      <th>Little e</th>\n",
       "      <th>PC Filed</th>\n",
       "      <th>Other</th>\n",
       "      <th>Other Description</th>\n",
       "      <th>Professional Cert</th>\n",
       "      <th>Pre-Filing Date</th>\n",
       "      <th>...</th>\n",
       "      <th>Owner's Last Name</th>\n",
       "      <th>Owner's Business Name</th>\n",
       "      <th>Owner's House #</th>\n",
       "      <th>Owner's House Street Name</th>\n",
       "      <th>Owner's House City</th>\n",
       "      <th>Owner's House State</th>\n",
       "      <th>Zip Code</th>\n",
       "      <th>Owner's Phone #</th>\n",
       "      <th>First Permit  Date</th>\n",
       "      <th>DOB Run Date</th>\n",
       "    </tr>\n",
       "  </thead>\n",
       "  <tbody>\n",
       "    <tr>\n",
       "      <th>5847</th>\n",
       "      <td>1801</td>\n",
       "      <td>11/29/2016 00:00:00</td>\n",
       "      <td>314</td>\n",
       "      <td>NaN</td>\n",
       "      <td>NaN</td>\n",
       "      <td></td>\n",
       "      <td>X</td>\n",
       "      <td>ANTENNA</td>\n",
       "      <td>NaN</td>\n",
       "      <td>06/29/2015 12:00:00 AM</td>\n",
       "      <td>...</td>\n",
       "      <td>CIAGLIA</td>\n",
       "      <td>T-MOBILE</td>\n",
       "      <td>4</td>\n",
       "      <td>SYLVAN WAY</td>\n",
       "      <td>PARSIPPANY</td>\n",
       "      <td>NJ</td>\n",
       "      <td>07054</td>\n",
       "      <td>9733974800</td>\n",
       "      <td>11/29/2016 12:00:00 AM</td>\n",
       "      <td>11/30/2016 00:00:00</td>\n",
       "    </tr>\n",
       "    <tr>\n",
       "      <th>1407</th>\n",
       "      <td>1335</td>\n",
       "      <td>04/06/2015 00:00:00</td>\n",
       "      <td>105</td>\n",
       "      <td>NaN</td>\n",
       "      <td>NaN</td>\n",
       "      <td></td>\n",
       "      <td>X</td>\n",
       "      <td>ANTENNA</td>\n",
       "      <td>NaN</td>\n",
       "      <td>11/07/2014 12:00:00 AM</td>\n",
       "      <td>...</td>\n",
       "      <td>ZIEREN</td>\n",
       "      <td>HILTON HOTEL CORPORATION</td>\n",
       "      <td>1335</td>\n",
       "      <td>SIXTH AVENUE</td>\n",
       "      <td>NEW YORK</td>\n",
       "      <td>NY</td>\n",
       "      <td>10019</td>\n",
       "      <td>2122615762</td>\n",
       "      <td>04/06/2015 12:00:00 AM</td>\n",
       "      <td>04/07/2015 00:00:00</td>\n",
       "    </tr>\n",
       "    <tr>\n",
       "      <th>4436</th>\n",
       "      <td>42-41</td>\n",
       "      <td>01/10/2014 00:00:00</td>\n",
       "      <td>411</td>\n",
       "      <td>NaN</td>\n",
       "      <td>NaN</td>\n",
       "      <td></td>\n",
       "      <td>X</td>\n",
       "      <td>ANTENNA</td>\n",
       "      <td>NaN</td>\n",
       "      <td>12/04/2013 12:00:00 AM</td>\n",
       "      <td>...</td>\n",
       "      <td>RAYMOND</td>\n",
       "      <td>OZANAM HALL OF QUEENS NURSING HO</td>\n",
       "      <td>42-41</td>\n",
       "      <td>201 STREET</td>\n",
       "      <td>BAYSIDE</td>\n",
       "      <td>NY</td>\n",
       "      <td>11361</td>\n",
       "      <td>7189712725</td>\n",
       "      <td>01/10/2014 12:00:00 AM</td>\n",
       "      <td>01/11/2014 00:00:00</td>\n",
       "    </tr>\n",
       "    <tr>\n",
       "      <th>1580</th>\n",
       "      <td>5004</td>\n",
       "      <td>05/29/2015 00:00:00</td>\n",
       "      <td>318</td>\n",
       "      <td>NaN</td>\n",
       "      <td>NaN</td>\n",
       "      <td></td>\n",
       "      <td>X</td>\n",
       "      <td>ANTENNA</td>\n",
       "      <td>NaN</td>\n",
       "      <td>04/13/2015 12:00:00 AM</td>\n",
       "      <td>...</td>\n",
       "      <td>MAYBECK</td>\n",
       "      <td>VERIZON WIRELESS</td>\n",
       "      <td>4</td>\n",
       "      <td>CENTEROCK RD</td>\n",
       "      <td>WEST NYACK</td>\n",
       "      <td>NY</td>\n",
       "      <td>10994</td>\n",
       "      <td>2122465111</td>\n",
       "      <td>05/29/2015 12:00:00 AM</td>\n",
       "      <td>05/30/2015 00:00:00</td>\n",
       "    </tr>\n",
       "    <tr>\n",
       "      <th>2734</th>\n",
       "      <td>1243</td>\n",
       "      <td>10/19/2015 00:00:00</td>\n",
       "      <td>503</td>\n",
       "      <td>NaN</td>\n",
       "      <td>NaN</td>\n",
       "      <td></td>\n",
       "      <td>X</td>\n",
       "      <td>ANTENNA</td>\n",
       "      <td>NaN</td>\n",
       "      <td>09/03/2015 12:00:00 AM</td>\n",
       "      <td>...</td>\n",
       "      <td>SAVO, JR.</td>\n",
       "      <td>WOODROW PLAZA, LLC # 2</td>\n",
       "      <td>15</td>\n",
       "      <td>SEGUINE AVE</td>\n",
       "      <td>STATEN ISLAND</td>\n",
       "      <td>NY</td>\n",
       "      <td>10309</td>\n",
       "      <td>7183511600</td>\n",
       "      <td>10/19/2015 12:00:00 AM</td>\n",
       "      <td>10/20/2015 00:00:00</td>\n",
       "    </tr>\n",
       "    <tr>\n",
       "      <th>4803</th>\n",
       "      <td>62-81</td>\n",
       "      <td>09/04/2014 00:00:00</td>\n",
       "      <td>405</td>\n",
       "      <td>NaN</td>\n",
       "      <td>NaN</td>\n",
       "      <td></td>\n",
       "      <td>X</td>\n",
       "      <td>ANTENNA</td>\n",
       "      <td>NaN</td>\n",
       "      <td>07/21/2014 12:00:00 AM</td>\n",
       "      <td>...</td>\n",
       "      <td>SANSONE</td>\n",
       "      <td>LADY OF THE MIRACULOUS MEDAL</td>\n",
       "      <td>62-81</td>\n",
       "      <td>60TH STREET</td>\n",
       "      <td>QUEENS</td>\n",
       "      <td>NY</td>\n",
       "      <td>11385</td>\n",
       "      <td>7183995996</td>\n",
       "      <td>09/04/2014 12:00:00 AM</td>\n",
       "      <td>09/05/2014 00:00:00</td>\n",
       "    </tr>\n",
       "    <tr>\n",
       "      <th>1200</th>\n",
       "      <td>OR         OCCUPANCY.                        ...</td>\n",
       "      <td>NaN</td>\n",
       "      <td>NaN</td>\n",
       "      <td>NaN</td>\n",
       "      <td>NaN</td>\n",
       "      <td>NaN</td>\n",
       "      <td>NaN</td>\n",
       "      <td>NaN</td>\n",
       "      <td>NaN</td>\n",
       "      <td>NaN</td>\n",
       "      <td>...</td>\n",
       "      <td>NaN</td>\n",
       "      <td>NaN</td>\n",
       "      <td>NaN</td>\n",
       "      <td>NaN</td>\n",
       "      <td>NaN</td>\n",
       "      <td>NaN</td>\n",
       "      <td>NaN</td>\n",
       "      <td>NaN</td>\n",
       "      <td>NaN</td>\n",
       "      <td>NaN</td>\n",
       "    </tr>\n",
       "    <tr>\n",
       "      <th>3945</th>\n",
       "      <td>1</td>\n",
       "      <td>02/05/2015 00:00:00</td>\n",
       "      <td>101</td>\n",
       "      <td>NaN</td>\n",
       "      <td>NaN</td>\n",
       "      <td></td>\n",
       "      <td>X</td>\n",
       "      <td>ANTENNA</td>\n",
       "      <td>NaN</td>\n",
       "      <td>11/12/2014 12:00:00 AM</td>\n",
       "      <td>...</td>\n",
       "      <td>BAGATE</td>\n",
       "      <td>PACE UNIVERSITY</td>\n",
       "      <td>1</td>\n",
       "      <td>PACE PLAZA</td>\n",
       "      <td>NEW YORK</td>\n",
       "      <td>NY</td>\n",
       "      <td>10038</td>\n",
       "      <td>8667223338</td>\n",
       "      <td>02/05/2015 12:00:00 AM</td>\n",
       "      <td>02/06/2015 00:00:00</td>\n",
       "    </tr>\n",
       "    <tr>\n",
       "      <th>4715</th>\n",
       "      <td>201</td>\n",
       "      <td>05/21/2014 00:00:00</td>\n",
       "      <td>307</td>\n",
       "      <td>NaN</td>\n",
       "      <td>NaN</td>\n",
       "      <td></td>\n",
       "      <td>X</td>\n",
       "      <td>ANTENNA</td>\n",
       "      <td>NaN</td>\n",
       "      <td>05/08/2014 12:00:00 AM</td>\n",
       "      <td>...</td>\n",
       "      <td>DICKENS</td>\n",
       "      <td>ESS PRISA III LLC</td>\n",
       "      <td>201</td>\n",
       "      <td>64TH STREET</td>\n",
       "      <td>BROOKLYN</td>\n",
       "      <td>NY</td>\n",
       "      <td>11220</td>\n",
       "      <td>8017069481</td>\n",
       "      <td>05/21/2014 12:00:00 AM</td>\n",
       "      <td>05/22/2014 00:00:00</td>\n",
       "    </tr>\n",
       "    <tr>\n",
       "      <th>1909</th>\n",
       "      <td>322</td>\n",
       "      <td>07/06/2015 00:00:00</td>\n",
       "      <td>106</td>\n",
       "      <td>NaN</td>\n",
       "      <td>NaN</td>\n",
       "      <td></td>\n",
       "      <td>X</td>\n",
       "      <td>ANTENNA</td>\n",
       "      <td>NaN</td>\n",
       "      <td>05/20/2015 12:00:00 AM</td>\n",
       "      <td>...</td>\n",
       "      <td>BISHOP</td>\n",
       "      <td>LENMARK COMPANY LLC</td>\n",
       "      <td>109</td>\n",
       "      <td>WEST 27TH STREET</td>\n",
       "      <td>NEW YORK</td>\n",
       "      <td>NY</td>\n",
       "      <td>10001</td>\n",
       "      <td>9738988589</td>\n",
       "      <td>07/06/2015 12:00:00 AM</td>\n",
       "      <td>07/07/2015 00:00:00</td>\n",
       "    </tr>\n",
       "    <tr>\n",
       "      <th>5037</th>\n",
       "      <td>150</td>\n",
       "      <td>08/14/2013 00:00:00</td>\n",
       "      <td>307</td>\n",
       "      <td>NaN</td>\n",
       "      <td>NaN</td>\n",
       "      <td></td>\n",
       "      <td>X</td>\n",
       "      <td>ANTENNA</td>\n",
       "      <td>NaN</td>\n",
       "      <td>06/12/2013 12:00:00 AM</td>\n",
       "      <td>...</td>\n",
       "      <td>DELUCIA</td>\n",
       "      <td>LUTHERAN MEDICAL CENTER</td>\n",
       "      <td>150</td>\n",
       "      <td>55TH STREET</td>\n",
       "      <td>BROOKLYN</td>\n",
       "      <td>NY</td>\n",
       "      <td>11220</td>\n",
       "      <td>7186307030</td>\n",
       "      <td>08/14/2013 12:00:00 AM</td>\n",
       "      <td>08/15/2013 00:00:00</td>\n",
       "    </tr>\n",
       "    <tr>\n",
       "      <th>883</th>\n",
       "      <td>NaN</td>\n",
       "      <td>NaN</td>\n",
       "      <td>NaN</td>\n",
       "      <td>NaN</td>\n",
       "      <td>NaN</td>\n",
       "      <td>NaN</td>\n",
       "      <td>NaN</td>\n",
       "      <td>NaN</td>\n",
       "      <td>NaN</td>\n",
       "      <td>NaN</td>\n",
       "      <td>...</td>\n",
       "      <td>NaN</td>\n",
       "      <td>NaN</td>\n",
       "      <td>NaN</td>\n",
       "      <td>NaN</td>\n",
       "      <td>NaN</td>\n",
       "      <td>NaN</td>\n",
       "      <td>NaN</td>\n",
       "      <td>NaN</td>\n",
       "      <td>NaN</td>\n",
       "      <td>NaN</td>\n",
       "    </tr>\n",
       "    <tr>\n",
       "      <th>2863</th>\n",
       "      <td>101-16</td>\n",
       "      <td>11/05/2015 00:00:00</td>\n",
       "      <td>403</td>\n",
       "      <td>NaN</td>\n",
       "      <td>NaN</td>\n",
       "      <td></td>\n",
       "      <td>X</td>\n",
       "      <td>ANTENNA</td>\n",
       "      <td>NaN</td>\n",
       "      <td>08/07/2015 12:00:00 AM</td>\n",
       "      <td>...</td>\n",
       "      <td>BISHOP</td>\n",
       "      <td>T-MOBILE</td>\n",
       "      <td>4</td>\n",
       "      <td>SYLVAN WAY</td>\n",
       "      <td>PARSIPPANY</td>\n",
       "      <td>NJ</td>\n",
       "      <td>07054</td>\n",
       "      <td>9738971375</td>\n",
       "      <td>11/05/2015 12:00:00 AM</td>\n",
       "      <td>11/06/2015 00:00:00</td>\n",
       "    </tr>\n",
       "    <tr>\n",
       "      <th>2256</th>\n",
       "      <td>93-38</td>\n",
       "      <td>08/18/2015 00:00:00</td>\n",
       "      <td>409</td>\n",
       "      <td>NaN</td>\n",
       "      <td>NaN</td>\n",
       "      <td></td>\n",
       "      <td>X</td>\n",
       "      <td>ANTENNA</td>\n",
       "      <td>NaN</td>\n",
       "      <td>04/28/2014 12:00:00 AM</td>\n",
       "      <td>...</td>\n",
       "      <td>SWEET</td>\n",
       "      <td>93-30 VAN WYCK ASSOCIATES</td>\n",
       "      <td>93-30</td>\n",
       "      <td>VAN WYCK EXPRESSWAY</td>\n",
       "      <td>QUEENS</td>\n",
       "      <td>NY</td>\n",
       "      <td>11418</td>\n",
       "      <td>5165678478</td>\n",
       "      <td>08/18/2015 12:00:00 AM</td>\n",
       "      <td>08/19/2015 00:00:00</td>\n",
       "    </tr>\n",
       "    <tr>\n",
       "      <th>5927</th>\n",
       "      <td>2400</td>\n",
       "      <td>12/19/2016 00:00:00</td>\n",
       "      <td>210</td>\n",
       "      <td>NaN</td>\n",
       "      <td>NaN</td>\n",
       "      <td></td>\n",
       "      <td>X</td>\n",
       "      <td>ANTENNA</td>\n",
       "      <td>NaN</td>\n",
       "      <td>07/08/2015 12:00:00 AM</td>\n",
       "      <td>...</td>\n",
       "      <td>CIAGLIA</td>\n",
       "      <td>T-MOBILE</td>\n",
       "      <td>4</td>\n",
       "      <td>SYLVAN WAY</td>\n",
       "      <td>PARSIPPANY</td>\n",
       "      <td>NJ</td>\n",
       "      <td>07054</td>\n",
       "      <td>2017573053</td>\n",
       "      <td>12/19/2016 12:00:00 AM</td>\n",
       "      <td>12/20/2016 00:00:00</td>\n",
       "    </tr>\n",
       "    <tr>\n",
       "      <th>1527</th>\n",
       "      <td>3623</td>\n",
       "      <td>05/21/2015 00:00:00</td>\n",
       "      <td>312</td>\n",
       "      <td>NaN</td>\n",
       "      <td>NaN</td>\n",
       "      <td></td>\n",
       "      <td>X</td>\n",
       "      <td>ANTENNA</td>\n",
       "      <td>NaN</td>\n",
       "      <td>05/05/2015 12:00:00 AM</td>\n",
       "      <td>...</td>\n",
       "      <td>CIAGLIA</td>\n",
       "      <td>T-MOBILE NORTHEAST LLC</td>\n",
       "      <td>4</td>\n",
       "      <td>SYLVAN WAY</td>\n",
       "      <td>PARSIPPANY</td>\n",
       "      <td>NJ</td>\n",
       "      <td>07054</td>\n",
       "      <td>9733974814</td>\n",
       "      <td>05/21/2015 12:00:00 AM</td>\n",
       "      <td>05/22/2015 00:00:00</td>\n",
       "    </tr>\n",
       "    <tr>\n",
       "      <th>5015</th>\n",
       "      <td>8701</td>\n",
       "      <td>08/05/2013 00:00:00</td>\n",
       "      <td>310</td>\n",
       "      <td>NaN</td>\n",
       "      <td>NaN</td>\n",
       "      <td></td>\n",
       "      <td>X</td>\n",
       "      <td>ANTENNA</td>\n",
       "      <td>NaN</td>\n",
       "      <td>06/18/2013 12:00:00 AM</td>\n",
       "      <td>...</td>\n",
       "      <td>PREZIOSO</td>\n",
       "      <td>SHORE ROAD TENNANTS CORP.</td>\n",
       "      <td>9437</td>\n",
       "      <td>SHORE ROAD</td>\n",
       "      <td>BROOKLYN</td>\n",
       "      <td>NY</td>\n",
       "      <td>11209</td>\n",
       "      <td>7186305551</td>\n",
       "      <td>08/05/2013 12:00:00 AM</td>\n",
       "      <td>08/06/2013 00:00:00</td>\n",
       "    </tr>\n",
       "    <tr>\n",
       "      <th>4257</th>\n",
       "      <td>2000</td>\n",
       "      <td>10/17/2014 00:00:00</td>\n",
       "      <td>211</td>\n",
       "      <td>NaN</td>\n",
       "      <td>NaN</td>\n",
       "      <td></td>\n",
       "      <td>X</td>\n",
       "      <td>ANTENNA</td>\n",
       "      <td>NaN</td>\n",
       "      <td>07/21/2014 12:00:00 AM</td>\n",
       "      <td>...</td>\n",
       "      <td>MELNICKE</td>\n",
       "      <td>SNF PROPERTIES LLC C/O HERRICK F</td>\n",
       "      <td>2</td>\n",
       "      <td>PARK AVENUE</td>\n",
       "      <td>NEW YORK</td>\n",
       "      <td>NY</td>\n",
       "      <td>10016</td>\n",
       "      <td>2125921436</td>\n",
       "      <td>10/17/2014 12:00:00 AM</td>\n",
       "      <td>10/18/2014 00:00:00</td>\n",
       "    </tr>\n",
       "    <tr>\n",
       "      <th>2970</th>\n",
       "      <td>7720</td>\n",
       "      <td>12/08/2015 00:00:00</td>\n",
       "      <td>318</td>\n",
       "      <td>NaN</td>\n",
       "      <td>NaN</td>\n",
       "      <td></td>\n",
       "      <td>X</td>\n",
       "      <td>ANTENNA</td>\n",
       "      <td>NaN</td>\n",
       "      <td>05/08/2015 12:00:00 AM</td>\n",
       "      <td>...</td>\n",
       "      <td>CIAGLIA</td>\n",
       "      <td>VICENT CAPOLBO</td>\n",
       "      <td>7718</td>\n",
       "      <td>FLATLANDS AVENUE</td>\n",
       "      <td>BROOKLYN</td>\n",
       "      <td>NY</td>\n",
       "      <td>11236</td>\n",
       "      <td>9733974814</td>\n",
       "      <td>12/08/2015 12:00:00 AM</td>\n",
       "      <td>12/09/2015 00:00:00</td>\n",
       "    </tr>\n",
       "    <tr>\n",
       "      <th>3049</th>\n",
       "      <td>600</td>\n",
       "      <td>12/18/2015 00:00:00</td>\n",
       "      <td>109</td>\n",
       "      <td>NaN</td>\n",
       "      <td>NaN</td>\n",
       "      <td></td>\n",
       "      <td>X</td>\n",
       "      <td>ANTENNA</td>\n",
       "      <td>NaN</td>\n",
       "      <td>03/25/2015 12:00:00 AM</td>\n",
       "      <td>...</td>\n",
       "      <td>CIAGLIA</td>\n",
       "      <td>BARNARD COLLEGE</td>\n",
       "      <td>3009</td>\n",
       "      <td>BROADWAY</td>\n",
       "      <td>NEW YORK</td>\n",
       "      <td>NY</td>\n",
       "      <td>10027</td>\n",
       "      <td>9733974814</td>\n",
       "      <td>12/18/2015 12:00:00 AM</td>\n",
       "      <td>12/28/2015 00:00:00</td>\n",
       "    </tr>\n",
       "    <tr>\n",
       "      <th>923</th>\n",
       "      <td>22-19</td>\n",
       "      <td>09/20/2016 00:00:00</td>\n",
       "      <td>401</td>\n",
       "      <td>NaN</td>\n",
       "      <td>NaN</td>\n",
       "      <td></td>\n",
       "      <td>X</td>\n",
       "      <td>ANTENNA</td>\n",
       "      <td>NaN</td>\n",
       "      <td>03/18/2016 12:00:00 AM</td>\n",
       "      <td>...</td>\n",
       "      <td>PULKA</td>\n",
       "      <td>SPAR KNITWEAR CORP.</td>\n",
       "      <td>2121</td>\n",
       "      <td>41ST AVENUE</td>\n",
       "      <td>LONG ISLAND CIT</td>\n",
       "      <td>NY</td>\n",
       "      <td>11101</td>\n",
       "      <td>7187866877</td>\n",
       "      <td>09/20/2016 12:00:00 AM</td>\n",
       "      <td>09/21/2016 00:00:00</td>\n",
       "    </tr>\n",
       "    <tr>\n",
       "      <th>5354</th>\n",
       "      <td>1755</td>\n",
       "      <td>06/28/2016 00:00:00</td>\n",
       "      <td>318</td>\n",
       "      <td>NaN</td>\n",
       "      <td>NaN</td>\n",
       "      <td></td>\n",
       "      <td>X</td>\n",
       "      <td>ANTENNA</td>\n",
       "      <td>NaN</td>\n",
       "      <td>04/21/2015 12:00:00 AM</td>\n",
       "      <td>...</td>\n",
       "      <td>CIAGLIA</td>\n",
       "      <td>UNISON SITE MANAGEMENT, LLC</td>\n",
       "      <td>110</td>\n",
       "      <td>THOMAS JOHNSON DRIVE</td>\n",
       "      <td>FREDERICK</td>\n",
       "      <td>MD</td>\n",
       "      <td>21702</td>\n",
       "      <td>9733974814</td>\n",
       "      <td>06/28/2016 12:00:00 AM</td>\n",
       "      <td>06/29/2016 00:00:00</td>\n",
       "    </tr>\n",
       "    <tr>\n",
       "      <th>4445</th>\n",
       "      <td>463</td>\n",
       "      <td>05/27/2014 00:00:00</td>\n",
       "      <td>105</td>\n",
       "      <td>NaN</td>\n",
       "      <td>NaN</td>\n",
       "      <td></td>\n",
       "      <td>X</td>\n",
       "      <td>ANTENNA</td>\n",
       "      <td>NaN</td>\n",
       "      <td>05/01/2014 12:00:00 AM</td>\n",
       "      <td>...</td>\n",
       "      <td>IMRHAN</td>\n",
       "      <td>THE ARSENAL COMPANY, LLC</td>\n",
       "      <td>411</td>\n",
       "      <td>FIFTH AVENUE</td>\n",
       "      <td>NEW YORK</td>\n",
       "      <td>NY</td>\n",
       "      <td>10016</td>\n",
       "      <td>2016484016</td>\n",
       "      <td>05/27/2014 12:00:00 AM</td>\n",
       "      <td>05/28/2014 00:00:00</td>\n",
       "    </tr>\n",
       "    <tr>\n",
       "      <th>2813</th>\n",
       "      <td>109-05</td>\n",
       "      <td>11/02/2015 00:00:00</td>\n",
       "      <td>410</td>\n",
       "      <td>NaN</td>\n",
       "      <td>NaN</td>\n",
       "      <td></td>\n",
       "      <td>X</td>\n",
       "      <td>ANTENNA</td>\n",
       "      <td>NaN</td>\n",
       "      <td>07/24/2015 12:00:00 AM</td>\n",
       "      <td>...</td>\n",
       "      <td>BISHOP</td>\n",
       "      <td>T-MOBILE</td>\n",
       "      <td>4</td>\n",
       "      <td>SYLVAN WAY</td>\n",
       "      <td>PARSIPPANY</td>\n",
       "      <td>NJ</td>\n",
       "      <td>07054</td>\n",
       "      <td>9738971375</td>\n",
       "      <td>11/02/2015 12:00:00 AM</td>\n",
       "      <td>11/03/2015 00:00:00</td>\n",
       "    </tr>\n",
       "    <tr>\n",
       "      <th>3400</th>\n",
       "      <td>1560</td>\n",
       "      <td>02/24/2015 00:00:00</td>\n",
       "      <td>210</td>\n",
       "      <td>NaN</td>\n",
       "      <td>NaN</td>\n",
       "      <td></td>\n",
       "      <td>X</td>\n",
       "      <td>ANTENNA</td>\n",
       "      <td>NaN</td>\n",
       "      <td>11/05/2014 12:00:00 AM</td>\n",
       "      <td>...</td>\n",
       "      <td>IMRHAN</td>\n",
       "      <td>1560 SILVER STREET</td>\n",
       "      <td>5600A</td>\n",
       "      <td>BROADWAY</td>\n",
       "      <td>BRONX</td>\n",
       "      <td>NY</td>\n",
       "      <td>10463</td>\n",
       "      <td>2016484016</td>\n",
       "      <td>02/24/2015 12:00:00 AM</td>\n",
       "      <td>02/25/2015 00:00:00</td>\n",
       "    </tr>\n",
       "    <tr>\n",
       "      <th>1853</th>\n",
       "      <td>1705</td>\n",
       "      <td>06/30/2015 00:00:00</td>\n",
       "      <td>209</td>\n",
       "      <td>NaN</td>\n",
       "      <td>NaN</td>\n",
       "      <td></td>\n",
       "      <td>X</td>\n",
       "      <td>ANTENNA</td>\n",
       "      <td>NaN</td>\n",
       "      <td>04/27/2015 12:00:00 AM</td>\n",
       "      <td>...</td>\n",
       "      <td>CIAGLIA</td>\n",
       "      <td>T-MOBILE</td>\n",
       "      <td>4</td>\n",
       "      <td>SYLVAN WAY</td>\n",
       "      <td>PARSIPPANY</td>\n",
       "      <td>NJ</td>\n",
       "      <td>07054</td>\n",
       "      <td>9733974800</td>\n",
       "      <td>06/30/2015 12:00:00 AM</td>\n",
       "      <td>07/01/2015 00:00:00</td>\n",
       "    </tr>\n",
       "    <tr>\n",
       "      <th>125</th>\n",
       "      <td>568</td>\n",
       "      <td>02/15/2017 00:00:00</td>\n",
       "      <td>303</td>\n",
       "      <td>NaN</td>\n",
       "      <td>NaN</td>\n",
       "      <td></td>\n",
       "      <td>X</td>\n",
       "      <td>ANTENNA</td>\n",
       "      <td>NaN</td>\n",
       "      <td>04/20/2015 12:00:00 AM</td>\n",
       "      <td>...</td>\n",
       "      <td>CIAGLIA</td>\n",
       "      <td>T-MOBILE</td>\n",
       "      <td>4</td>\n",
       "      <td>SYLVAN WAY</td>\n",
       "      <td>PARSIPPANY</td>\n",
       "      <td>NJ</td>\n",
       "      <td>07054</td>\n",
       "      <td>2017573053</td>\n",
       "      <td>02/15/2017 12:00:00 AM</td>\n",
       "      <td>02/16/2017 00:00:00</td>\n",
       "    </tr>\n",
       "    <tr>\n",
       "      <th>263</th>\n",
       "      <td>262</td>\n",
       "      <td>03/16/2017 00:00:00</td>\n",
       "      <td>312</td>\n",
       "      <td>NaN</td>\n",
       "      <td>NaN</td>\n",
       "      <td></td>\n",
       "      <td>X</td>\n",
       "      <td>ANTENNA</td>\n",
       "      <td>NaN</td>\n",
       "      <td>10/11/2016 12:00:00 AM</td>\n",
       "      <td>...</td>\n",
       "      <td>ARROYO</td>\n",
       "      <td>JACOBS, AS AGENT FOR TENANT</td>\n",
       "      <td>299</td>\n",
       "      <td>MADISON AVENUE</td>\n",
       "      <td>MORRISTOWN</td>\n",
       "      <td>NJ</td>\n",
       "      <td>07962</td>\n",
       "      <td>9738018054</td>\n",
       "      <td>03/16/2017 12:00:00 AM</td>\n",
       "      <td>03/17/2017 00:00:00</td>\n",
       "    </tr>\n",
       "    <tr>\n",
       "      <th>1776</th>\n",
       "      <td>2860</td>\n",
       "      <td>06/23/2015 00:00:00</td>\n",
       "      <td>208</td>\n",
       "      <td>NaN</td>\n",
       "      <td>NaN</td>\n",
       "      <td></td>\n",
       "      <td>X</td>\n",
       "      <td>ANTENNA</td>\n",
       "      <td>NaN</td>\n",
       "      <td>05/08/2015 12:00:00 AM</td>\n",
       "      <td>...</td>\n",
       "      <td>NEGRON</td>\n",
       "      <td>PARKWAY APARTMENT OWNERS CORP</td>\n",
       "      <td>2860</td>\n",
       "      <td>BAILEY AVENUE</td>\n",
       "      <td>BRONX</td>\n",
       "      <td>NY</td>\n",
       "      <td>10463</td>\n",
       "      <td>9142371600</td>\n",
       "      <td>06/23/2015 12:00:00 AM</td>\n",
       "      <td>06/24/2015 00:00:00</td>\n",
       "    </tr>\n",
       "    <tr>\n",
       "      <th>5578</th>\n",
       "      <td>133-01</td>\n",
       "      <td>09/28/2016 00:00:00</td>\n",
       "      <td>407</td>\n",
       "      <td>NaN</td>\n",
       "      <td>NaN</td>\n",
       "      <td></td>\n",
       "      <td>X</td>\n",
       "      <td>ANTENNA</td>\n",
       "      <td>NaN</td>\n",
       "      <td>09/09/2015 12:00:00 AM</td>\n",
       "      <td>...</td>\n",
       "      <td>CIAGLIA</td>\n",
       "      <td>T-MOBILE NORTHEAST LLC</td>\n",
       "      <td>4</td>\n",
       "      <td>SYLVAN WAY</td>\n",
       "      <td>PARSIPPANY</td>\n",
       "      <td>NJ</td>\n",
       "      <td>07054</td>\n",
       "      <td>9733974814</td>\n",
       "      <td>09/28/2016 12:00:00 AM</td>\n",
       "      <td>09/29/2016 00:00:00</td>\n",
       "    </tr>\n",
       "    <tr>\n",
       "      <th>5980</th>\n",
       "      <td>2722</td>\n",
       "      <td>01/04/2017 00:00:00</td>\n",
       "      <td>110</td>\n",
       "      <td>NaN</td>\n",
       "      <td>NaN</td>\n",
       "      <td></td>\n",
       "      <td>X</td>\n",
       "      <td>ANTENNA</td>\n",
       "      <td>NaN</td>\n",
       "      <td>10/19/2016 12:00:00 AM</td>\n",
       "      <td>...</td>\n",
       "      <td>BISHOP</td>\n",
       "      <td>T-MOBILE</td>\n",
       "      <td>4</td>\n",
       "      <td>SYLVAN WAY</td>\n",
       "      <td>PARSIPPANY</td>\n",
       "      <td>NJ</td>\n",
       "      <td>07054</td>\n",
       "      <td>9738971375</td>\n",
       "      <td>01/04/2017 12:00:00 AM</td>\n",
       "      <td>01/05/2017 00:00:00</td>\n",
       "    </tr>\n",
       "    <tr>\n",
       "      <th>2079</th>\n",
       "      <td>655</td>\n",
       "      <td>07/27/2015 00:00:00</td>\n",
       "      <td>212</td>\n",
       "      <td>NaN</td>\n",
       "      <td>NaN</td>\n",
       "      <td></td>\n",
       "      <td>X</td>\n",
       "      <td>ANTENNA</td>\n",
       "      <td>NaN</td>\n",
       "      <td>05/11/2015 12:00:00 AM</td>\n",
       "      <td>...</td>\n",
       "      <td>CIAGLIA</td>\n",
       "      <td>T-MOBILE NORTHEAST LLC</td>\n",
       "      <td>4</td>\n",
       "      <td>SYLVAN WAY</td>\n",
       "      <td>PARSIPPANY</td>\n",
       "      <td>NJ</td>\n",
       "      <td>07054</td>\n",
       "      <td>9733974814</td>\n",
       "      <td>07/27/2015 12:00:00 AM</td>\n",
       "      <td>07/28/2015 00:00:00</td>\n",
       "    </tr>\n",
       "    <tr>\n",
       "      <th>208</th>\n",
       "      <td>3716</td>\n",
       "      <td>03/01/2017 00:00:00</td>\n",
       "      <td>112</td>\n",
       "      <td>NaN</td>\n",
       "      <td>NaN</td>\n",
       "      <td></td>\n",
       "      <td>X</td>\n",
       "      <td>ANTENNA</td>\n",
       "      <td>NaN</td>\n",
       "      <td>12/19/2016 12:00:00 AM</td>\n",
       "      <td>...</td>\n",
       "      <td>GROOM</td>\n",
       "      <td>NYC HOUSING AUTHORITY</td>\n",
       "      <td>90</td>\n",
       "      <td>CHURCH STREET</td>\n",
       "      <td>NEW YORK</td>\n",
       "      <td>NY</td>\n",
       "      <td>10007</td>\n",
       "      <td>2123066936</td>\n",
       "      <td>03/01/2017 12:00:00 AM</td>\n",
       "      <td>03/02/2017 00:00:00</td>\n",
       "    </tr>\n",
       "    <tr>\n",
       "      <th>3823</th>\n",
       "      <td>93-30</td>\n",
       "      <td>09/18/2014 00:00:00</td>\n",
       "      <td>409</td>\n",
       "      <td>NaN</td>\n",
       "      <td>NaN</td>\n",
       "      <td></td>\n",
       "      <td>X</td>\n",
       "      <td>ANTENNA</td>\n",
       "      <td>NaN</td>\n",
       "      <td>04/29/2014 12:00:00 AM</td>\n",
       "      <td>...</td>\n",
       "      <td>SWEET</td>\n",
       "      <td>93-30 VAN WYCK ASSOCIATES</td>\n",
       "      <td>93-30</td>\n",
       "      <td>VAN WYCK EXPRESSWAY</td>\n",
       "      <td>QUEENS</td>\n",
       "      <td>NY</td>\n",
       "      <td>11418</td>\n",
       "      <td>5165678478</td>\n",
       "      <td>09/18/2014 12:00:00 AM</td>\n",
       "      <td>09/19/2014 00:00:00</td>\n",
       "    </tr>\n",
       "    <tr>\n",
       "      <th>4109</th>\n",
       "      <td>10-40</td>\n",
       "      <td>06/03/2014 00:00:00</td>\n",
       "      <td>414</td>\n",
       "      <td>NaN</td>\n",
       "      <td>NaN</td>\n",
       "      <td></td>\n",
       "      <td>X</td>\n",
       "      <td>ANTENNA</td>\n",
       "      <td>NaN</td>\n",
       "      <td>04/30/2014 12:00:00 AM</td>\n",
       "      <td>...</td>\n",
       "      <td>ETHEM</td>\n",
       "      <td>1040 NEILSON STREET OWNERS CORP.</td>\n",
       "      <td>600</td>\n",
       "      <td>MAMARONECK AVE</td>\n",
       "      <td>HARRISON</td>\n",
       "      <td>NY</td>\n",
       "      <td>10528</td>\n",
       "      <td>9148998042</td>\n",
       "      <td>06/03/2014 12:00:00 AM</td>\n",
       "      <td>06/04/2014 00:00:00</td>\n",
       "    </tr>\n",
       "    <tr>\n",
       "      <th>316</th>\n",
       "      <td>135</td>\n",
       "      <td>03/24/2017 00:00:00</td>\n",
       "      <td>108</td>\n",
       "      <td>Y</td>\n",
       "      <td>NaN</td>\n",
       "      <td></td>\n",
       "      <td>X</td>\n",
       "      <td>ANTENNA</td>\n",
       "      <td>NaN</td>\n",
       "      <td>01/11/2017 12:00:00 AM</td>\n",
       "      <td>...</td>\n",
       "      <td>BAILEY</td>\n",
       "      <td>VENDOR, AS AGENT FOR TENANT</td>\n",
       "      <td>ONE</td>\n",
       "      <td>AT&amp;T WAY</td>\n",
       "      <td>BEDMINSTER</td>\n",
       "      <td>NJ</td>\n",
       "      <td>07921</td>\n",
       "      <td>9144389326</td>\n",
       "      <td>03/24/2017 12:00:00 AM</td>\n",
       "      <td>03/25/2017 00:00:00</td>\n",
       "    </tr>\n",
       "    <tr>\n",
       "      <th>3595</th>\n",
       "      <td>166-33</td>\n",
       "      <td>11/21/2014 00:00:00</td>\n",
       "      <td>412</td>\n",
       "      <td>NaN</td>\n",
       "      <td>NaN</td>\n",
       "      <td></td>\n",
       "      <td>X</td>\n",
       "      <td>ANTENNA</td>\n",
       "      <td>NaN</td>\n",
       "      <td>08/25/2014 12:00:00 AM</td>\n",
       "      <td>...</td>\n",
       "      <td>OAKES</td>\n",
       "      <td>HUDSON HOUSE, LLC</td>\n",
       "      <td>88-05</td>\n",
       "      <td>MERRICK BOULEVARD</td>\n",
       "      <td>JAMAICA</td>\n",
       "      <td>NY</td>\n",
       "      <td>11432</td>\n",
       "      <td>2015710700</td>\n",
       "      <td>11/21/2014 12:00:00 AM</td>\n",
       "      <td>11/22/2014 00:00:00</td>\n",
       "    </tr>\n",
       "    <tr>\n",
       "      <th>2801</th>\n",
       "      <td>68-41</td>\n",
       "      <td>10/30/2015 00:00:00</td>\n",
       "      <td>405</td>\n",
       "      <td>Y</td>\n",
       "      <td>NaN</td>\n",
       "      <td></td>\n",
       "      <td>X</td>\n",
       "      <td>ANTENNA</td>\n",
       "      <td>NaN</td>\n",
       "      <td>08/06/2015 12:00:00 AM</td>\n",
       "      <td>...</td>\n",
       "      <td>VECCHIO</td>\n",
       "      <td>ROGER D. VECCHIO</td>\n",
       "      <td>21-12</td>\n",
       "      <td>MENAHAN STREET</td>\n",
       "      <td>RIDGEWOOD</td>\n",
       "      <td>NY</td>\n",
       "      <td>11385</td>\n",
       "      <td>7183448663</td>\n",
       "      <td>10/30/2015 12:00:00 AM</td>\n",
       "      <td>10/31/2015 00:00:00</td>\n",
       "    </tr>\n",
       "    <tr>\n",
       "      <th>5983</th>\n",
       "      <td>2155</td>\n",
       "      <td>01/04/2017 00:00:00</td>\n",
       "      <td>211</td>\n",
       "      <td>NaN</td>\n",
       "      <td>NaN</td>\n",
       "      <td></td>\n",
       "      <td>X</td>\n",
       "      <td>ANTENNA</td>\n",
       "      <td>NaN</td>\n",
       "      <td>12/01/2016 12:00:00 AM</td>\n",
       "      <td>...</td>\n",
       "      <td>HENRY</td>\n",
       "      <td>ROSNIN REALTY CO, LLC</td>\n",
       "      <td>PARK</td>\n",
       "      <td>OF COMMERCE BOULEVARD</td>\n",
       "      <td>BOCA RATON</td>\n",
       "      <td>FL</td>\n",
       "      <td>33487</td>\n",
       "      <td>5619950320</td>\n",
       "      <td>01/04/2017 12:00:00 AM</td>\n",
       "      <td>01/05/2017 00:00:00</td>\n",
       "    </tr>\n",
       "    <tr>\n",
       "      <th>2002</th>\n",
       "      <td>21-37</td>\n",
       "      <td>07/17/2015 00:00:00</td>\n",
       "      <td>401</td>\n",
       "      <td>NaN</td>\n",
       "      <td>NaN</td>\n",
       "      <td></td>\n",
       "      <td>X</td>\n",
       "      <td>ANTENNA</td>\n",
       "      <td>NaN</td>\n",
       "      <td>07/07/2015 12:00:00 AM</td>\n",
       "      <td>...</td>\n",
       "      <td>BISHOP</td>\n",
       "      <td>T-MOBILE</td>\n",
       "      <td>4</td>\n",
       "      <td>SYLVAN WAY</td>\n",
       "      <td>PARSIPPANY</td>\n",
       "      <td>NJ</td>\n",
       "      <td>07054</td>\n",
       "      <td>9738971375</td>\n",
       "      <td>07/17/2015 12:00:00 AM</td>\n",
       "      <td>07/18/2015 00:00:00</td>\n",
       "    </tr>\n",
       "    <tr>\n",
       "      <th>4273</th>\n",
       "      <td>140</td>\n",
       "      <td>09/06/2013 00:00:00</td>\n",
       "      <td>107</td>\n",
       "      <td>NaN</td>\n",
       "      <td>NaN</td>\n",
       "      <td></td>\n",
       "      <td>X</td>\n",
       "      <td>ANTENNA</td>\n",
       "      <td>NaN</td>\n",
       "      <td>07/03/2013 12:00:00 AM</td>\n",
       "      <td>...</td>\n",
       "      <td>BYRNE</td>\n",
       "      <td>FORDHAM UNIVERSITY</td>\n",
       "      <td>113</td>\n",
       "      <td>W 60 STREET</td>\n",
       "      <td>NEW YORK</td>\n",
       "      <td>NY</td>\n",
       "      <td>10023</td>\n",
       "      <td>2126366265</td>\n",
       "      <td>09/06/2013 12:00:00 AM</td>\n",
       "      <td>09/07/2013 00:00:00</td>\n",
       "    </tr>\n",
       "    <tr>\n",
       "      <th>3023</th>\n",
       "      <td>51</td>\n",
       "      <td>12/18/2015 00:00:00</td>\n",
       "      <td>105</td>\n",
       "      <td>Y</td>\n",
       "      <td>NaN</td>\n",
       "      <td></td>\n",
       "      <td>X</td>\n",
       "      <td>ANTENNA</td>\n",
       "      <td>NaN</td>\n",
       "      <td>06/19/2015 12:00:00 AM</td>\n",
       "      <td>...</td>\n",
       "      <td>DAVITT</td>\n",
       "      <td>NEW YORK LIFE INSURANCE COMPANY</td>\n",
       "      <td>110</td>\n",
       "      <td>COKESBURY ROAD</td>\n",
       "      <td>LEBANON</td>\n",
       "      <td>NJ</td>\n",
       "      <td>08833</td>\n",
       "      <td>9082363200</td>\n",
       "      <td>12/18/2015 12:00:00 AM</td>\n",
       "      <td>12/19/2015 00:00:00</td>\n",
       "    </tr>\n",
       "    <tr>\n",
       "      <th>475</th>\n",
       "      <td>205</td>\n",
       "      <td>04/19/2017 00:00:00</td>\n",
       "      <td>107</td>\n",
       "      <td>NaN</td>\n",
       "      <td>NaN</td>\n",
       "      <td></td>\n",
       "      <td>X</td>\n",
       "      <td>ANTENNA</td>\n",
       "      <td>NaN</td>\n",
       "      <td>03/21/2017 12:00:00 AM</td>\n",
       "      <td>...</td>\n",
       "      <td>BAILEY</td>\n",
       "      <td>NEW CINGULAR WIRELESS PCS, LLC</td>\n",
       "      <td>ONE</td>\n",
       "      <td>AT&amp;T WAY</td>\n",
       "      <td>BEDMINSTER</td>\n",
       "      <td>NJ</td>\n",
       "      <td>07921</td>\n",
       "      <td>9144389326</td>\n",
       "      <td>04/19/2017 12:00:00 AM</td>\n",
       "      <td>04/20/2017 00:00:00</td>\n",
       "    </tr>\n",
       "    <tr>\n",
       "      <th>1523</th>\n",
       "      <td>1774</td>\n",
       "      <td>05/20/2015 00:00:00</td>\n",
       "      <td>111</td>\n",
       "      <td>NaN</td>\n",
       "      <td>NaN</td>\n",
       "      <td></td>\n",
       "      <td>X</td>\n",
       "      <td>ANTENNA</td>\n",
       "      <td>NaN</td>\n",
       "      <td>12/23/2014 12:00:00 AM</td>\n",
       "      <td>...</td>\n",
       "      <td>CIAGLIA</td>\n",
       "      <td>LEXINGTON NORTH REALTY LTD.</td>\n",
       "      <td>35-35</td>\n",
       "      <td>166TH STREET</td>\n",
       "      <td>FLUSHING</td>\n",
       "      <td>NY</td>\n",
       "      <td>11358</td>\n",
       "      <td>9733974814</td>\n",
       "      <td>05/20/2015 12:00:00 AM</td>\n",
       "      <td>05/21/2015 00:00:00</td>\n",
       "    </tr>\n",
       "    <tr>\n",
       "      <th>1001</th>\n",
       "      <td>24-60</td>\n",
       "      <td>11/01/2017 00:00:00</td>\n",
       "      <td>401</td>\n",
       "      <td>NaN</td>\n",
       "      <td>NaN</td>\n",
       "      <td></td>\n",
       "      <td>X</td>\n",
       "      <td>ANTENNA</td>\n",
       "      <td>NaN</td>\n",
       "      <td>08/21/2017 12:00:00 AM</td>\n",
       "      <td>...</td>\n",
       "      <td>BORIVOJ</td>\n",
       "      <td>SANGULIN BORIVOJ</td>\n",
       "      <td>15</td>\n",
       "      <td>16TH STREET</td>\n",
       "      <td>BAYVILLE</td>\n",
       "      <td>NY</td>\n",
       "      <td>11709</td>\n",
       "      <td>5163180979</td>\n",
       "      <td>11/01/2017 12:00:00 AM</td>\n",
       "      <td>11/02/2017 00:00:00</td>\n",
       "    </tr>\n",
       "    <tr>\n",
       "      <th>4150</th>\n",
       "      <td>480</td>\n",
       "      <td>08/25/2014 00:00:00</td>\n",
       "      <td>112</td>\n",
       "      <td>NaN</td>\n",
       "      <td>NaN</td>\n",
       "      <td></td>\n",
       "      <td>X</td>\n",
       "      <td>ANTENNA</td>\n",
       "      <td>NaN</td>\n",
       "      <td>06/27/2014 12:00:00 AM</td>\n",
       "      <td>...</td>\n",
       "      <td>DUNN</td>\n",
       "      <td>SMARTLINK LLC</td>\n",
       "      <td>14</td>\n",
       "      <td>WALSH DRIVE</td>\n",
       "      <td>PARSIPPANY</td>\n",
       "      <td>NJ</td>\n",
       "      <td>07054</td>\n",
       "      <td>9083980520</td>\n",
       "      <td>08/25/2014 12:00:00 AM</td>\n",
       "      <td>08/26/2014 00:00:00</td>\n",
       "    </tr>\n",
       "    <tr>\n",
       "      <th>4888</th>\n",
       "      <td>3067</td>\n",
       "      <td>05/30/2013 00:00:00</td>\n",
       "      <td>501</td>\n",
       "      <td>NaN</td>\n",
       "      <td>NaN</td>\n",
       "      <td></td>\n",
       "      <td>X</td>\n",
       "      <td>ANTENNA</td>\n",
       "      <td>NaN</td>\n",
       "      <td>12/19/2012 12:00:00 AM</td>\n",
       "      <td>...</td>\n",
       "      <td>ROSSI</td>\n",
       "      <td>ULYSSES ASSET SUB I, LLC</td>\n",
       "      <td>10</td>\n",
       "      <td>PRESIDENTIAL WAY</td>\n",
       "      <td>WOBURN</td>\n",
       "      <td>MA</td>\n",
       "      <td>01801</td>\n",
       "      <td>7819264585</td>\n",
       "      <td>05/30/2013 12:00:00 AM</td>\n",
       "      <td>05/31/2013 00:00:00</td>\n",
       "    </tr>\n",
       "    <tr>\n",
       "      <th>2206</th>\n",
       "      <td>2134</td>\n",
       "      <td>08/11/2015 00:00:00</td>\n",
       "      <td>315</td>\n",
       "      <td>NaN</td>\n",
       "      <td>NaN</td>\n",
       "      <td></td>\n",
       "      <td>X</td>\n",
       "      <td>ANTENNA</td>\n",
       "      <td>NaN</td>\n",
       "      <td>07/21/2015 12:00:00 AM</td>\n",
       "      <td>...</td>\n",
       "      <td>BISHOP</td>\n",
       "      <td>T-MOBILE</td>\n",
       "      <td>4</td>\n",
       "      <td>SYLVAN WAY</td>\n",
       "      <td>PARSIPPANY</td>\n",
       "      <td>NJ</td>\n",
       "      <td>07054</td>\n",
       "      <td>9738971375</td>\n",
       "      <td>08/11/2015 12:00:00 AM</td>\n",
       "      <td>08/12/2015 00:00:00</td>\n",
       "    </tr>\n",
       "    <tr>\n",
       "      <th>3197</th>\n",
       "      <td>128</td>\n",
       "      <td>01/29/2016 00:00:00</td>\n",
       "      <td>503</td>\n",
       "      <td>NaN</td>\n",
       "      <td>NaN</td>\n",
       "      <td></td>\n",
       "      <td>X</td>\n",
       "      <td>ANTENNA</td>\n",
       "      <td>NaN</td>\n",
       "      <td>12/23/2015 12:00:00 AM</td>\n",
       "      <td>...</td>\n",
       "      <td>TEPFER</td>\n",
       "      <td>UNITED HEBREW CEMETARY</td>\n",
       "      <td>122</td>\n",
       "      <td>ARTHUR KILL ROAD</td>\n",
       "      <td>STATEN ISLAND</td>\n",
       "      <td>NY</td>\n",
       "      <td>10306</td>\n",
       "      <td>7183510230</td>\n",
       "      <td>01/29/2016 12:00:00 AM</td>\n",
       "      <td>01/30/2016 00:00:00</td>\n",
       "    </tr>\n",
       "    <tr>\n",
       "      <th>3104</th>\n",
       "      <td>21-38</td>\n",
       "      <td>12/31/2015 00:00:00</td>\n",
       "      <td>401</td>\n",
       "      <td>NaN</td>\n",
       "      <td>NaN</td>\n",
       "      <td></td>\n",
       "      <td>X</td>\n",
       "      <td>ANTENNA</td>\n",
       "      <td>NaN</td>\n",
       "      <td>06/30/2015 12:00:00 AM</td>\n",
       "      <td>...</td>\n",
       "      <td>CIAGLIA</td>\n",
       "      <td>42-15 REALTY ASSOCIATES, LLC</td>\n",
       "      <td>80</td>\n",
       "      <td>CUTTERMILL ROAD</td>\n",
       "      <td>GREAT NECK</td>\n",
       "      <td>NY</td>\n",
       "      <td>10021</td>\n",
       "      <td>9733974814</td>\n",
       "      <td>12/31/2015 12:00:00 AM</td>\n",
       "      <td>01/01/2016 00:00:00</td>\n",
       "    </tr>\n",
       "  </tbody>\n",
       "</table>\n",
       "<p>50 rows × 35 columns</p>\n",
       "</div>"
      ],
      "text/plain": [
       "                                                House #   Latest Action Date  \\\n",
       "5847                                       1801          11/29/2016 00:00:00   \n",
       "1407                                       1335          04/06/2015 00:00:00   \n",
       "4436                                       42-41         01/10/2014 00:00:00   \n",
       "1580                                       5004          05/29/2015 00:00:00   \n",
       "2734                                       1243          10/19/2015 00:00:00   \n",
       "4803                                       62-81         09/04/2014 00:00:00   \n",
       "1200   OR         OCCUPANCY.                        ...                  NaN   \n",
       "3945                                       1             02/05/2015 00:00:00   \n",
       "4715                                       201           05/21/2014 00:00:00   \n",
       "1909                                       322           07/06/2015 00:00:00   \n",
       "5037                                       150           08/14/2013 00:00:00   \n",
       "883                                                 NaN                  NaN   \n",
       "2863                                       101-16        11/05/2015 00:00:00   \n",
       "2256                                       93-38         08/18/2015 00:00:00   \n",
       "5927                                       2400          12/19/2016 00:00:00   \n",
       "1527                                       3623          05/21/2015 00:00:00   \n",
       "5015                                       8701          08/05/2013 00:00:00   \n",
       "4257                                       2000          10/17/2014 00:00:00   \n",
       "2970                                       7720          12/08/2015 00:00:00   \n",
       "3049                                       600           12/18/2015 00:00:00   \n",
       "923                                        22-19         09/20/2016 00:00:00   \n",
       "5354                                       1755          06/28/2016 00:00:00   \n",
       "4445                                       463           05/27/2014 00:00:00   \n",
       "2813                                       109-05        11/02/2015 00:00:00   \n",
       "3400                                       1560          02/24/2015 00:00:00   \n",
       "1853                                       1705          06/30/2015 00:00:00   \n",
       "125                                        568           02/15/2017 00:00:00   \n",
       "263                                        262           03/16/2017 00:00:00   \n",
       "1776                                       2860          06/23/2015 00:00:00   \n",
       "5578                                       133-01        09/28/2016 00:00:00   \n",
       "5980                                       2722          01/04/2017 00:00:00   \n",
       "2079                                       655           07/27/2015 00:00:00   \n",
       "208                                        3716          03/01/2017 00:00:00   \n",
       "3823                                       93-30         09/18/2014 00:00:00   \n",
       "4109                                       10-40         06/03/2014 00:00:00   \n",
       "316                                        135           03/24/2017 00:00:00   \n",
       "3595                                       166-33        11/21/2014 00:00:00   \n",
       "2801                                       68-41         10/30/2015 00:00:00   \n",
       "5983                                       2155          01/04/2017 00:00:00   \n",
       "2002                                       21-37         07/17/2015 00:00:00   \n",
       "4273                                       140           09/06/2013 00:00:00   \n",
       "3023                                       51            12/18/2015 00:00:00   \n",
       "475                                        205           04/19/2017 00:00:00   \n",
       "1523                                       1774          05/20/2015 00:00:00   \n",
       "1001                                       24-60         11/01/2017 00:00:00   \n",
       "4150                                       480           08/25/2014 00:00:00   \n",
       "4888                                       3067          05/30/2013 00:00:00   \n",
       "2206                                       2134          08/11/2015 00:00:00   \n",
       "3197                                       128           01/29/2016 00:00:00   \n",
       "3104                                       21-38         12/31/2015 00:00:00   \n",
       "\n",
       "     Community-Board Landmarked Little e PC Filed Other Other Description  \\\n",
       "5847             314        NaN      NaN              X   ANTENNA           \n",
       "1407             105        NaN      NaN              X   ANTENNA           \n",
       "4436             411        NaN      NaN              X   ANTENNA           \n",
       "1580             318        NaN      NaN              X   ANTENNA           \n",
       "2734             503        NaN      NaN              X   ANTENNA           \n",
       "4803             405        NaN      NaN              X   ANTENNA           \n",
       "1200             NaN        NaN      NaN      NaN   NaN               NaN   \n",
       "3945             101        NaN      NaN              X   ANTENNA           \n",
       "4715             307        NaN      NaN              X   ANTENNA           \n",
       "1909             106        NaN      NaN              X   ANTENNA           \n",
       "5037             307        NaN      NaN              X   ANTENNA           \n",
       "883              NaN        NaN      NaN      NaN   NaN               NaN   \n",
       "2863             403        NaN      NaN              X   ANTENNA           \n",
       "2256             409        NaN      NaN              X   ANTENNA           \n",
       "5927             210        NaN      NaN              X   ANTENNA           \n",
       "1527             312        NaN      NaN              X   ANTENNA           \n",
       "5015             310        NaN      NaN              X   ANTENNA           \n",
       "4257             211        NaN      NaN              X   ANTENNA           \n",
       "2970             318        NaN      NaN              X   ANTENNA           \n",
       "3049             109        NaN      NaN              X   ANTENNA           \n",
       "923              401        NaN      NaN              X   ANTENNA           \n",
       "5354             318        NaN      NaN              X   ANTENNA           \n",
       "4445             105        NaN      NaN              X   ANTENNA           \n",
       "2813             410        NaN      NaN              X   ANTENNA           \n",
       "3400             210        NaN      NaN              X   ANTENNA           \n",
       "1853             209        NaN      NaN              X   ANTENNA           \n",
       "125              303        NaN      NaN              X   ANTENNA           \n",
       "263              312        NaN      NaN              X   ANTENNA           \n",
       "1776             208        NaN      NaN              X   ANTENNA           \n",
       "5578             407        NaN      NaN              X   ANTENNA           \n",
       "5980             110        NaN      NaN              X   ANTENNA           \n",
       "2079             212        NaN      NaN              X   ANTENNA           \n",
       "208              112        NaN      NaN              X   ANTENNA           \n",
       "3823             409        NaN      NaN              X   ANTENNA           \n",
       "4109             414        NaN      NaN              X   ANTENNA           \n",
       "316              108          Y      NaN              X   ANTENNA           \n",
       "3595             412        NaN      NaN              X   ANTENNA           \n",
       "2801             405          Y      NaN              X   ANTENNA           \n",
       "5983             211        NaN      NaN              X   ANTENNA           \n",
       "2002             401        NaN      NaN              X   ANTENNA           \n",
       "4273             107        NaN      NaN              X   ANTENNA           \n",
       "3023             105          Y      NaN              X   ANTENNA           \n",
       "475              107        NaN      NaN              X   ANTENNA           \n",
       "1523             111        NaN      NaN              X   ANTENNA           \n",
       "1001             401        NaN      NaN              X   ANTENNA           \n",
       "4150             112        NaN      NaN              X   ANTENNA           \n",
       "4888             501        NaN      NaN              X   ANTENNA           \n",
       "2206             315        NaN      NaN              X   ANTENNA           \n",
       "3197             503        NaN      NaN              X   ANTENNA           \n",
       "3104             401        NaN      NaN              X   ANTENNA           \n",
       "\n",
       "     Professional Cert         Pre-Filing Date  ...  \\\n",
       "5847               NaN  06/29/2015 12:00:00 AM  ...   \n",
       "1407               NaN  11/07/2014 12:00:00 AM  ...   \n",
       "4436               NaN  12/04/2013 12:00:00 AM  ...   \n",
       "1580               NaN  04/13/2015 12:00:00 AM  ...   \n",
       "2734               NaN  09/03/2015 12:00:00 AM  ...   \n",
       "4803               NaN  07/21/2014 12:00:00 AM  ...   \n",
       "1200               NaN                     NaN  ...   \n",
       "3945               NaN  11/12/2014 12:00:00 AM  ...   \n",
       "4715               NaN  05/08/2014 12:00:00 AM  ...   \n",
       "1909               NaN  05/20/2015 12:00:00 AM  ...   \n",
       "5037               NaN  06/12/2013 12:00:00 AM  ...   \n",
       "883                NaN                     NaN  ...   \n",
       "2863               NaN  08/07/2015 12:00:00 AM  ...   \n",
       "2256               NaN  04/28/2014 12:00:00 AM  ...   \n",
       "5927               NaN  07/08/2015 12:00:00 AM  ...   \n",
       "1527               NaN  05/05/2015 12:00:00 AM  ...   \n",
       "5015               NaN  06/18/2013 12:00:00 AM  ...   \n",
       "4257               NaN  07/21/2014 12:00:00 AM  ...   \n",
       "2970               NaN  05/08/2015 12:00:00 AM  ...   \n",
       "3049               NaN  03/25/2015 12:00:00 AM  ...   \n",
       "923                NaN  03/18/2016 12:00:00 AM  ...   \n",
       "5354               NaN  04/21/2015 12:00:00 AM  ...   \n",
       "4445               NaN  05/01/2014 12:00:00 AM  ...   \n",
       "2813               NaN  07/24/2015 12:00:00 AM  ...   \n",
       "3400               NaN  11/05/2014 12:00:00 AM  ...   \n",
       "1853               NaN  04/27/2015 12:00:00 AM  ...   \n",
       "125                NaN  04/20/2015 12:00:00 AM  ...   \n",
       "263                NaN  10/11/2016 12:00:00 AM  ...   \n",
       "1776               NaN  05/08/2015 12:00:00 AM  ...   \n",
       "5578               NaN  09/09/2015 12:00:00 AM  ...   \n",
       "5980               NaN  10/19/2016 12:00:00 AM  ...   \n",
       "2079               NaN  05/11/2015 12:00:00 AM  ...   \n",
       "208                NaN  12/19/2016 12:00:00 AM  ...   \n",
       "3823               NaN  04/29/2014 12:00:00 AM  ...   \n",
       "4109               NaN  04/30/2014 12:00:00 AM  ...   \n",
       "316                NaN  01/11/2017 12:00:00 AM  ...   \n",
       "3595               NaN  08/25/2014 12:00:00 AM  ...   \n",
       "2801               NaN  08/06/2015 12:00:00 AM  ...   \n",
       "5983               NaN  12/01/2016 12:00:00 AM  ...   \n",
       "2002               NaN  07/07/2015 12:00:00 AM  ...   \n",
       "4273               NaN  07/03/2013 12:00:00 AM  ...   \n",
       "3023               NaN  06/19/2015 12:00:00 AM  ...   \n",
       "475                NaN  03/21/2017 12:00:00 AM  ...   \n",
       "1523               NaN  12/23/2014 12:00:00 AM  ...   \n",
       "1001               NaN  08/21/2017 12:00:00 AM  ...   \n",
       "4150               NaN  06/27/2014 12:00:00 AM  ...   \n",
       "4888               NaN  12/19/2012 12:00:00 AM  ...   \n",
       "2206               NaN  07/21/2015 12:00:00 AM  ...   \n",
       "3197               NaN  12/23/2015 12:00:00 AM  ...   \n",
       "3104               NaN  06/30/2015 12:00:00 AM  ...   \n",
       "\n",
       "                   Owner's Last Name             Owner's Business Name  \\\n",
       "5847  CIAGLIA                         T-MOBILE                           \n",
       "1407  ZIEREN                          HILTON HOTEL CORPORATION           \n",
       "4436  RAYMOND                         OZANAM HALL OF QUEENS NURSING HO   \n",
       "1580  MAYBECK                         VERIZON WIRELESS                   \n",
       "2734  SAVO, JR.                       WOODROW PLAZA, LLC # 2             \n",
       "4803  SANSONE                         LADY OF THE MIRACULOUS MEDAL       \n",
       "1200                             NaN                               NaN   \n",
       "3945  BAGATE                          PACE UNIVERSITY                    \n",
       "4715  DICKENS                         ESS PRISA III LLC                  \n",
       "1909  BISHOP                          LENMARK COMPANY LLC                \n",
       "5037  DELUCIA                         LUTHERAN MEDICAL CENTER            \n",
       "883                              NaN                               NaN   \n",
       "2863  BISHOP                          T-MOBILE                           \n",
       "2256  SWEET                           93-30 VAN WYCK ASSOCIATES          \n",
       "5927  CIAGLIA                         T-MOBILE                           \n",
       "1527  CIAGLIA                         T-MOBILE NORTHEAST LLC             \n",
       "5015  PREZIOSO                        SHORE ROAD TENNANTS CORP.          \n",
       "4257  MELNICKE                        SNF PROPERTIES LLC C/O HERRICK F   \n",
       "2970  CIAGLIA                         VICENT CAPOLBO                     \n",
       "3049  CIAGLIA                         BARNARD COLLEGE                    \n",
       "923   PULKA                           SPAR KNITWEAR CORP.                \n",
       "5354  CIAGLIA                         UNISON SITE MANAGEMENT, LLC        \n",
       "4445  IMRHAN                          THE ARSENAL COMPANY, LLC           \n",
       "2813  BISHOP                          T-MOBILE                           \n",
       "3400  IMRHAN                          1560 SILVER STREET                 \n",
       "1853  CIAGLIA                         T-MOBILE                           \n",
       "125   CIAGLIA                         T-MOBILE                           \n",
       "263   ARROYO                          JACOBS, AS AGENT FOR TENANT        \n",
       "1776  NEGRON                          PARKWAY APARTMENT OWNERS CORP      \n",
       "5578  CIAGLIA                         T-MOBILE NORTHEAST LLC             \n",
       "5980  BISHOP                          T-MOBILE                           \n",
       "2079  CIAGLIA                         T-MOBILE NORTHEAST LLC             \n",
       "208   GROOM                           NYC HOUSING AUTHORITY              \n",
       "3823  SWEET                           93-30 VAN WYCK ASSOCIATES          \n",
       "4109  ETHEM                           1040 NEILSON STREET OWNERS CORP.   \n",
       "316   BAILEY                          VENDOR, AS AGENT FOR TENANT        \n",
       "3595  OAKES                           HUDSON HOUSE, LLC                  \n",
       "2801  VECCHIO                         ROGER D. VECCHIO                   \n",
       "5983  HENRY                           ROSNIN REALTY CO, LLC              \n",
       "2002  BISHOP                          T-MOBILE                           \n",
       "4273  BYRNE                           FORDHAM UNIVERSITY                 \n",
       "3023  DAVITT                          NEW YORK LIFE INSURANCE COMPANY    \n",
       "475   BAILEY                          NEW CINGULAR WIRELESS PCS, LLC     \n",
       "1523  CIAGLIA                         LEXINGTON NORTH REALTY LTD.        \n",
       "1001  BORIVOJ                         SANGULIN BORIVOJ                   \n",
       "4150  DUNN                            SMARTLINK LLC                      \n",
       "4888  ROSSI                           ULYSSES ASSET SUB I, LLC           \n",
       "2206  BISHOP                          T-MOBILE                           \n",
       "3197  TEPFER                          UNITED HEBREW CEMETARY             \n",
       "3104  CIAGLIA                         42-15 REALTY ASSOCIATES, LLC       \n",
       "\n",
       "     Owner's House #         Owner's House Street Name Owner's House City  \\\n",
       "5847    4             SYLVAN WAY                          PARSIPPANY        \n",
       "1407    1335          SIXTH AVENUE                        NEW YORK          \n",
       "4436    42-41         201 STREET                          BAYSIDE           \n",
       "1580    4             CENTEROCK RD                        WEST NYACK        \n",
       "2734    15            SEGUINE AVE                         STATEN ISLAND     \n",
       "4803    62-81         60TH STREET                         QUEENS            \n",
       "1200             NaN                               NaN                NaN   \n",
       "3945    1             PACE PLAZA                          NEW YORK          \n",
       "4715    201           64TH STREET                         BROOKLYN          \n",
       "1909    109           WEST 27TH STREET                    NEW YORK          \n",
       "5037    150           55TH STREET                         BROOKLYN          \n",
       "883              NaN                               NaN                NaN   \n",
       "2863    4             SYLVAN WAY                          PARSIPPANY        \n",
       "2256    93-30         VAN WYCK EXPRESSWAY                 QUEENS            \n",
       "5927    4             SYLVAN WAY                          PARSIPPANY        \n",
       "1527    4             SYLVAN WAY                          PARSIPPANY        \n",
       "5015    9437          SHORE ROAD                          BROOKLYN          \n",
       "4257    2             PARK AVENUE                         NEW YORK          \n",
       "2970    7718          FLATLANDS AVENUE                    BROOKLYN          \n",
       "3049    3009          BROADWAY                            NEW YORK          \n",
       "923     2121          41ST AVENUE                         LONG ISLAND CIT   \n",
       "5354    110           THOMAS JOHNSON DRIVE                FREDERICK         \n",
       "4445    411           FIFTH AVENUE                        NEW YORK          \n",
       "2813    4             SYLVAN WAY                          PARSIPPANY        \n",
       "3400    5600A         BROADWAY                            BRONX             \n",
       "1853    4             SYLVAN WAY                          PARSIPPANY        \n",
       "125     4             SYLVAN WAY                          PARSIPPANY        \n",
       "263     299           MADISON AVENUE                      MORRISTOWN        \n",
       "1776    2860          BAILEY AVENUE                       BRONX             \n",
       "5578    4             SYLVAN WAY                          PARSIPPANY        \n",
       "5980    4             SYLVAN WAY                          PARSIPPANY        \n",
       "2079    4             SYLVAN WAY                          PARSIPPANY        \n",
       "208     90            CHURCH STREET                       NEW YORK          \n",
       "3823    93-30         VAN WYCK EXPRESSWAY                 QUEENS            \n",
       "4109    600           MAMARONECK AVE                      HARRISON          \n",
       "316     ONE           AT&T WAY                            BEDMINSTER        \n",
       "3595    88-05         MERRICK BOULEVARD                   JAMAICA           \n",
       "2801    21-12         MENAHAN STREET                      RIDGEWOOD         \n",
       "5983    PARK          OF COMMERCE BOULEVARD               BOCA RATON        \n",
       "2002    4             SYLVAN WAY                          PARSIPPANY        \n",
       "4273    113           W 60 STREET                         NEW YORK          \n",
       "3023    110           COKESBURY ROAD                      LEBANON           \n",
       "475     ONE           AT&T WAY                            BEDMINSTER        \n",
       "1523    35-35         166TH STREET                        FLUSHING          \n",
       "1001    15            16TH STREET                         BAYVILLE          \n",
       "4150    14            WALSH DRIVE                         PARSIPPANY        \n",
       "4888    10            PRESIDENTIAL WAY                    WOBURN            \n",
       "2206    4             SYLVAN WAY                          PARSIPPANY        \n",
       "3197    122           ARTHUR KILL ROAD                    STATEN ISLAND     \n",
       "3104    80            CUTTERMILL ROAD                     GREAT NECK        \n",
       "\n",
       "     Owner's House State   Zip Code Owner's Phone #      First Permit  Date  \\\n",
       "5847                  NJ  07054          9733974800  11/29/2016 12:00:00 AM   \n",
       "1407                  NY  10019          2122615762  04/06/2015 12:00:00 AM   \n",
       "4436                  NY  11361          7189712725  01/10/2014 12:00:00 AM   \n",
       "1580                  NY  10994          2122465111  05/29/2015 12:00:00 AM   \n",
       "2734                  NY  10309          7183511600  10/19/2015 12:00:00 AM   \n",
       "4803                  NY  11385          7183995996  09/04/2014 12:00:00 AM   \n",
       "1200                 NaN        NaN             NaN                     NaN   \n",
       "3945                  NY  10038          8667223338  02/05/2015 12:00:00 AM   \n",
       "4715                  NY  11220          8017069481  05/21/2014 12:00:00 AM   \n",
       "1909                  NY  10001          9738988589  07/06/2015 12:00:00 AM   \n",
       "5037                  NY  11220          7186307030  08/14/2013 12:00:00 AM   \n",
       "883                  NaN        NaN             NaN                     NaN   \n",
       "2863                  NJ  07054          9738971375  11/05/2015 12:00:00 AM   \n",
       "2256                  NY  11418          5165678478  08/18/2015 12:00:00 AM   \n",
       "5927                  NJ  07054          2017573053  12/19/2016 12:00:00 AM   \n",
       "1527                  NJ  07054          9733974814  05/21/2015 12:00:00 AM   \n",
       "5015                  NY  11209          7186305551  08/05/2013 12:00:00 AM   \n",
       "4257                  NY  10016          2125921436  10/17/2014 12:00:00 AM   \n",
       "2970                  NY  11236          9733974814  12/08/2015 12:00:00 AM   \n",
       "3049                  NY  10027          9733974814  12/18/2015 12:00:00 AM   \n",
       "923                   NY  11101          7187866877  09/20/2016 12:00:00 AM   \n",
       "5354                  MD  21702          9733974814  06/28/2016 12:00:00 AM   \n",
       "4445                  NY  10016          2016484016  05/27/2014 12:00:00 AM   \n",
       "2813                  NJ  07054          9738971375  11/02/2015 12:00:00 AM   \n",
       "3400                  NY  10463          2016484016  02/24/2015 12:00:00 AM   \n",
       "1853                  NJ  07054          9733974800  06/30/2015 12:00:00 AM   \n",
       "125                   NJ  07054          2017573053  02/15/2017 12:00:00 AM   \n",
       "263                   NJ  07962          9738018054  03/16/2017 12:00:00 AM   \n",
       "1776                  NY  10463          9142371600  06/23/2015 12:00:00 AM   \n",
       "5578                  NJ  07054          9733974814  09/28/2016 12:00:00 AM   \n",
       "5980                  NJ  07054          9738971375  01/04/2017 12:00:00 AM   \n",
       "2079                  NJ  07054          9733974814  07/27/2015 12:00:00 AM   \n",
       "208                   NY  10007          2123066936  03/01/2017 12:00:00 AM   \n",
       "3823                  NY  11418          5165678478  09/18/2014 12:00:00 AM   \n",
       "4109                  NY  10528          9148998042  06/03/2014 12:00:00 AM   \n",
       "316                   NJ  07921          9144389326  03/24/2017 12:00:00 AM   \n",
       "3595                  NY  11432          2015710700  11/21/2014 12:00:00 AM   \n",
       "2801                  NY  11385          7183448663  10/30/2015 12:00:00 AM   \n",
       "5983                  FL  33487          5619950320  01/04/2017 12:00:00 AM   \n",
       "2002                  NJ  07054          9738971375  07/17/2015 12:00:00 AM   \n",
       "4273                  NY  10023          2126366265  09/06/2013 12:00:00 AM   \n",
       "3023                  NJ  08833          9082363200  12/18/2015 12:00:00 AM   \n",
       "475                   NJ  07921          9144389326  04/19/2017 12:00:00 AM   \n",
       "1523                  NY  11358          9733974814  05/20/2015 12:00:00 AM   \n",
       "1001                  NY  11709          5163180979  11/01/2017 12:00:00 AM   \n",
       "4150                  NJ  07054          9083980520  08/25/2014 12:00:00 AM   \n",
       "4888                  MA  01801          7819264585  05/30/2013 12:00:00 AM   \n",
       "2206                  NJ  07054          9738971375  08/11/2015 12:00:00 AM   \n",
       "3197                  NY  10306          7183510230  01/29/2016 12:00:00 AM   \n",
       "3104                  NY  10021          9733974814  12/31/2015 12:00:00 AM   \n",
       "\n",
       "             DOB Run Date  \n",
       "5847  11/30/2016 00:00:00  \n",
       "1407  04/07/2015 00:00:00  \n",
       "4436  01/11/2014 00:00:00  \n",
       "1580  05/30/2015 00:00:00  \n",
       "2734  10/20/2015 00:00:00  \n",
       "4803  09/05/2014 00:00:00  \n",
       "1200                  NaN  \n",
       "3945  02/06/2015 00:00:00  \n",
       "4715  05/22/2014 00:00:00  \n",
       "1909  07/07/2015 00:00:00  \n",
       "5037  08/15/2013 00:00:00  \n",
       "883                   NaN  \n",
       "2863  11/06/2015 00:00:00  \n",
       "2256  08/19/2015 00:00:00  \n",
       "5927  12/20/2016 00:00:00  \n",
       "1527  05/22/2015 00:00:00  \n",
       "5015  08/06/2013 00:00:00  \n",
       "4257  10/18/2014 00:00:00  \n",
       "2970  12/09/2015 00:00:00  \n",
       "3049  12/28/2015 00:00:00  \n",
       "923   09/21/2016 00:00:00  \n",
       "5354  06/29/2016 00:00:00  \n",
       "4445  05/28/2014 00:00:00  \n",
       "2813  11/03/2015 00:00:00  \n",
       "3400  02/25/2015 00:00:00  \n",
       "1853  07/01/2015 00:00:00  \n",
       "125   02/16/2017 00:00:00  \n",
       "263   03/17/2017 00:00:00  \n",
       "1776  06/24/2015 00:00:00  \n",
       "5578  09/29/2016 00:00:00  \n",
       "5980  01/05/2017 00:00:00  \n",
       "2079  07/28/2015 00:00:00  \n",
       "208   03/02/2017 00:00:00  \n",
       "3823  09/19/2014 00:00:00  \n",
       "4109  06/04/2014 00:00:00  \n",
       "316   03/25/2017 00:00:00  \n",
       "3595  11/22/2014 00:00:00  \n",
       "2801  10/31/2015 00:00:00  \n",
       "5983  01/05/2017 00:00:00  \n",
       "2002  07/18/2015 00:00:00  \n",
       "4273  09/07/2013 00:00:00  \n",
       "3023  12/19/2015 00:00:00  \n",
       "475   04/20/2017 00:00:00  \n",
       "1523  05/21/2015 00:00:00  \n",
       "1001  11/02/2017 00:00:00  \n",
       "4150  08/26/2014 00:00:00  \n",
       "4888  05/31/2013 00:00:00  \n",
       "2206  08/12/2015 00:00:00  \n",
       "3197  01/30/2016 00:00:00  \n",
       "3104  01/01/2016 00:00:00  \n",
       "\n",
       "[50 rows x 35 columns]"
      ]
     },
     "execution_count": 239,
     "metadata": {},
     "output_type": "execute_result"
    }
   ],
   "source": [
    "df_sample_data"
   ]
  },
  {
   "cell_type": "code",
   "execution_count": 238,
   "id": "3cdcfd6e",
   "metadata": {
    "collapsed": true
   },
   "outputs": [
    {
     "ename": "KeyError",
     "evalue": "'[883] not in index'",
     "output_type": "error",
     "traceback": [
      "\u001b[1;31m---------------------------------------------------------------------------\u001b[0m",
      "\u001b[1;31mKeyError\u001b[0m                                  Traceback (most recent call last)",
      "\u001b[1;32m~\\AppData\\Local\\Temp/ipykernel_9616/3632502813.py\u001b[0m in \u001b[0;36m<module>\u001b[1;34m\u001b[0m\n\u001b[1;32m----> 1\u001b[1;33m \u001b[0mdf_temp\u001b[0m \u001b[1;33m=\u001b[0m \u001b[0mdf\u001b[0m\u001b[1;33m.\u001b[0m\u001b[0mloc\u001b[0m\u001b[1;33m[\u001b[0m\u001b[0mdf_sample_data\u001b[0m\u001b[1;33m.\u001b[0m\u001b[0mindex\u001b[0m\u001b[1;33m]\u001b[0m\u001b[1;33m[\u001b[0m\u001b[0mcleaned_columns\u001b[0m\u001b[1;33m]\u001b[0m\u001b[1;33m.\u001b[0m\u001b[0mcopy\u001b[0m\u001b[1;33m(\u001b[0m\u001b[1;33m)\u001b[0m\u001b[1;33m\u001b[0m\u001b[1;33m\u001b[0m\u001b[0m\n\u001b[0m",
      "\u001b[1;32m~\\Anaconda2\\envs\\pyspark\\lib\\site-packages\\pandas\\core\\indexing.py\u001b[0m in \u001b[0;36m__getitem__\u001b[1;34m(self, key)\u001b[0m\n\u001b[0;32m    929\u001b[0m \u001b[1;33m\u001b[0m\u001b[0m\n\u001b[0;32m    930\u001b[0m             \u001b[0mmaybe_callable\u001b[0m \u001b[1;33m=\u001b[0m \u001b[0mcom\u001b[0m\u001b[1;33m.\u001b[0m\u001b[0mapply_if_callable\u001b[0m\u001b[1;33m(\u001b[0m\u001b[0mkey\u001b[0m\u001b[1;33m,\u001b[0m \u001b[0mself\u001b[0m\u001b[1;33m.\u001b[0m\u001b[0mobj\u001b[0m\u001b[1;33m)\u001b[0m\u001b[1;33m\u001b[0m\u001b[1;33m\u001b[0m\u001b[0m\n\u001b[1;32m--> 931\u001b[1;33m             \u001b[1;32mreturn\u001b[0m \u001b[0mself\u001b[0m\u001b[1;33m.\u001b[0m\u001b[0m_getitem_axis\u001b[0m\u001b[1;33m(\u001b[0m\u001b[0mmaybe_callable\u001b[0m\u001b[1;33m,\u001b[0m \u001b[0maxis\u001b[0m\u001b[1;33m=\u001b[0m\u001b[0maxis\u001b[0m\u001b[1;33m)\u001b[0m\u001b[1;33m\u001b[0m\u001b[1;33m\u001b[0m\u001b[0m\n\u001b[0m\u001b[0;32m    932\u001b[0m \u001b[1;33m\u001b[0m\u001b[0m\n\u001b[0;32m    933\u001b[0m     \u001b[1;32mdef\u001b[0m \u001b[0m_is_scalar_access\u001b[0m\u001b[1;33m(\u001b[0m\u001b[0mself\u001b[0m\u001b[1;33m,\u001b[0m \u001b[0mkey\u001b[0m\u001b[1;33m:\u001b[0m \u001b[0mtuple\u001b[0m\u001b[1;33m)\u001b[0m\u001b[1;33m:\u001b[0m\u001b[1;33m\u001b[0m\u001b[1;33m\u001b[0m\u001b[0m\n",
      "\u001b[1;32m~\\Anaconda2\\envs\\pyspark\\lib\\site-packages\\pandas\\core\\indexing.py\u001b[0m in \u001b[0;36m_getitem_axis\u001b[1;34m(self, key, axis)\u001b[0m\n\u001b[0;32m   1151\u001b[0m                     \u001b[1;32mraise\u001b[0m \u001b[0mValueError\u001b[0m\u001b[1;33m(\u001b[0m\u001b[1;34m\"Cannot index with multidimensional key\"\u001b[0m\u001b[1;33m)\u001b[0m\u001b[1;33m\u001b[0m\u001b[1;33m\u001b[0m\u001b[0m\n\u001b[0;32m   1152\u001b[0m \u001b[1;33m\u001b[0m\u001b[0m\n\u001b[1;32m-> 1153\u001b[1;33m                 \u001b[1;32mreturn\u001b[0m \u001b[0mself\u001b[0m\u001b[1;33m.\u001b[0m\u001b[0m_getitem_iterable\u001b[0m\u001b[1;33m(\u001b[0m\u001b[0mkey\u001b[0m\u001b[1;33m,\u001b[0m \u001b[0maxis\u001b[0m\u001b[1;33m=\u001b[0m\u001b[0maxis\u001b[0m\u001b[1;33m)\u001b[0m\u001b[1;33m\u001b[0m\u001b[1;33m\u001b[0m\u001b[0m\n\u001b[0m\u001b[0;32m   1154\u001b[0m \u001b[1;33m\u001b[0m\u001b[0m\n\u001b[0;32m   1155\u001b[0m             \u001b[1;31m# nested tuple slicing\u001b[0m\u001b[1;33m\u001b[0m\u001b[1;33m\u001b[0m\u001b[0m\n",
      "\u001b[1;32m~\\Anaconda2\\envs\\pyspark\\lib\\site-packages\\pandas\\core\\indexing.py\u001b[0m in \u001b[0;36m_getitem_iterable\u001b[1;34m(self, key, axis)\u001b[0m\n\u001b[0;32m   1091\u001b[0m \u001b[1;33m\u001b[0m\u001b[0m\n\u001b[0;32m   1092\u001b[0m         \u001b[1;31m# A collection of keys\u001b[0m\u001b[1;33m\u001b[0m\u001b[1;33m\u001b[0m\u001b[0m\n\u001b[1;32m-> 1093\u001b[1;33m         \u001b[0mkeyarr\u001b[0m\u001b[1;33m,\u001b[0m \u001b[0mindexer\u001b[0m \u001b[1;33m=\u001b[0m \u001b[0mself\u001b[0m\u001b[1;33m.\u001b[0m\u001b[0m_get_listlike_indexer\u001b[0m\u001b[1;33m(\u001b[0m\u001b[0mkey\u001b[0m\u001b[1;33m,\u001b[0m \u001b[0maxis\u001b[0m\u001b[1;33m)\u001b[0m\u001b[1;33m\u001b[0m\u001b[1;33m\u001b[0m\u001b[0m\n\u001b[0m\u001b[0;32m   1094\u001b[0m         return self.obj._reindex_with_indexers(\n\u001b[0;32m   1095\u001b[0m             \u001b[1;33m{\u001b[0m\u001b[0maxis\u001b[0m\u001b[1;33m:\u001b[0m \u001b[1;33m[\u001b[0m\u001b[0mkeyarr\u001b[0m\u001b[1;33m,\u001b[0m \u001b[0mindexer\u001b[0m\u001b[1;33m]\u001b[0m\u001b[1;33m}\u001b[0m\u001b[1;33m,\u001b[0m \u001b[0mcopy\u001b[0m\u001b[1;33m=\u001b[0m\u001b[1;32mTrue\u001b[0m\u001b[1;33m,\u001b[0m \u001b[0mallow_dups\u001b[0m\u001b[1;33m=\u001b[0m\u001b[1;32mTrue\u001b[0m\u001b[1;33m\u001b[0m\u001b[1;33m\u001b[0m\u001b[0m\n",
      "\u001b[1;32m~\\Anaconda2\\envs\\pyspark\\lib\\site-packages\\pandas\\core\\indexing.py\u001b[0m in \u001b[0;36m_get_listlike_indexer\u001b[1;34m(self, key, axis)\u001b[0m\n\u001b[0;32m   1312\u001b[0m             \u001b[0mkeyarr\u001b[0m\u001b[1;33m,\u001b[0m \u001b[0mindexer\u001b[0m\u001b[1;33m,\u001b[0m \u001b[0mnew_indexer\u001b[0m \u001b[1;33m=\u001b[0m \u001b[0max\u001b[0m\u001b[1;33m.\u001b[0m\u001b[0m_reindex_non_unique\u001b[0m\u001b[1;33m(\u001b[0m\u001b[0mkeyarr\u001b[0m\u001b[1;33m)\u001b[0m\u001b[1;33m\u001b[0m\u001b[1;33m\u001b[0m\u001b[0m\n\u001b[0;32m   1313\u001b[0m \u001b[1;33m\u001b[0m\u001b[0m\n\u001b[1;32m-> 1314\u001b[1;33m         \u001b[0mself\u001b[0m\u001b[1;33m.\u001b[0m\u001b[0m_validate_read_indexer\u001b[0m\u001b[1;33m(\u001b[0m\u001b[0mkeyarr\u001b[0m\u001b[1;33m,\u001b[0m \u001b[0mindexer\u001b[0m\u001b[1;33m,\u001b[0m \u001b[0maxis\u001b[0m\u001b[1;33m)\u001b[0m\u001b[1;33m\u001b[0m\u001b[1;33m\u001b[0m\u001b[0m\n\u001b[0m\u001b[0;32m   1315\u001b[0m \u001b[1;33m\u001b[0m\u001b[0m\n\u001b[0;32m   1316\u001b[0m         if needs_i8_conversion(ax.dtype) or isinstance(\n",
      "\u001b[1;32m~\\Anaconda2\\envs\\pyspark\\lib\\site-packages\\pandas\\core\\indexing.py\u001b[0m in \u001b[0;36m_validate_read_indexer\u001b[1;34m(self, key, indexer, axis)\u001b[0m\n\u001b[0;32m   1375\u001b[0m \u001b[1;33m\u001b[0m\u001b[0m\n\u001b[0;32m   1376\u001b[0m             \u001b[0mnot_found\u001b[0m \u001b[1;33m=\u001b[0m \u001b[0mlist\u001b[0m\u001b[1;33m(\u001b[0m\u001b[0mensure_index\u001b[0m\u001b[1;33m(\u001b[0m\u001b[0mkey\u001b[0m\u001b[1;33m)\u001b[0m\u001b[1;33m[\u001b[0m\u001b[0mmissing_mask\u001b[0m\u001b[1;33m.\u001b[0m\u001b[0mnonzero\u001b[0m\u001b[1;33m(\u001b[0m\u001b[1;33m)\u001b[0m\u001b[1;33m[\u001b[0m\u001b[1;36m0\u001b[0m\u001b[1;33m]\u001b[0m\u001b[1;33m]\u001b[0m\u001b[1;33m.\u001b[0m\u001b[0munique\u001b[0m\u001b[1;33m(\u001b[0m\u001b[1;33m)\u001b[0m\u001b[1;33m)\u001b[0m\u001b[1;33m\u001b[0m\u001b[1;33m\u001b[0m\u001b[0m\n\u001b[1;32m-> 1377\u001b[1;33m             \u001b[1;32mraise\u001b[0m \u001b[0mKeyError\u001b[0m\u001b[1;33m(\u001b[0m\u001b[1;34mf\"{not_found} not in index\"\u001b[0m\u001b[1;33m)\u001b[0m\u001b[1;33m\u001b[0m\u001b[1;33m\u001b[0m\u001b[0m\n\u001b[0m\u001b[0;32m   1378\u001b[0m \u001b[1;33m\u001b[0m\u001b[0m\n\u001b[0;32m   1379\u001b[0m \u001b[1;33m\u001b[0m\u001b[0m\n",
      "\u001b[1;31mKeyError\u001b[0m: '[883] not in index'"
     ]
    }
   ],
   "source": [
    "#df_temp = df.loc[df_sample_data.index][cleaned_columns].copy()"
   ]
  },
  {
   "cell_type": "code",
   "execution_count": 242,
   "id": "038e0395",
   "metadata": {
    "scrolled": false
   },
   "outputs": [],
   "source": [
    "df_sample_data = df_sample_data.drop(883, axis=0)"
   ]
  },
  {
   "cell_type": "code",
   "execution_count": 243,
   "id": "678eb7f7",
   "metadata": {},
   "outputs": [],
   "source": [
    "df_temp = df.loc[df_sample_data.index][cleaned_columns].copy()"
   ]
  },
  {
   "cell_type": "code",
   "execution_count": 244,
   "id": "93a46cd5",
   "metadata": {},
   "outputs": [],
   "source": [
    "# for col in cleaned_columns:\n",
    "#     print(\"column: \", col)\n",
    "#     print(\"Original,\\t Cleaned\\n\")\n",
    "#     for i in range(50):\n",
    "#         print(df_sample_data[col].iloc[i], '\\t', df_temp[col].iloc[i])\n",
    "        \n",
    "#     print('======================\\n\\n')"
   ]
  },
  {
   "cell_type": "code",
   "execution_count": 245,
   "id": "ee06b0ee",
   "metadata": {},
   "outputs": [],
   "source": [
    "def precision(tp, fp):\n",
    "    return tp/(tp+fp)\n",
    "\n",
    "def recall(tp, fn):\n",
    "    return tp/(tp+fn)"
   ]
  },
  {
   "cell_type": "code",
   "execution_count": 246,
   "id": "35847512",
   "metadata": {
    "scrolled": true
   },
   "outputs": [
    {
     "data": {
      "text/plain": [
       "['House #',\n",
       " 'Latest Action Date',\n",
       " 'Community-Board',\n",
       " 'Landmarked',\n",
       " 'Little e',\n",
       " 'PC Filed',\n",
       " 'Other',\n",
       " 'Other Description',\n",
       " 'Professional Cert',\n",
       " 'Pre-Filing Date',\n",
       " 'Paid Date',\n",
       " 'Fully Paid Date',\n",
       " 'Assigned Date',\n",
       " 'Approved Date',\n",
       " 'Fully Permitted',\n",
       " 'Initial Cost',\n",
       " 'Total Estimated Fee',\n",
       " 'Fee Status',\n",
       " 'Zoning District 1',\n",
       " 'Zoning District 2',\n",
       " 'Zoning District 3',\n",
       " 'Special District 1',\n",
       " 'Special Distr 2 ',\n",
       " 'Non-Profit',\n",
       " \"Owner's First Name\",\n",
       " \"Owner's Last Name\",\n",
       " \"Owner's Business Name\",\n",
       " \"Owner's House #\",\n",
       " \"Owner's House Street Name\",\n",
       " \"Owner's House City\",\n",
       " \"Owner's House State\",\n",
       " 'Zip Code',\n",
       " \"Owner's Phone #\",\n",
       " 'First Permit  Date',\n",
       " 'DOB Run Date']"
      ]
     },
     "execution_count": 246,
     "metadata": {},
     "output_type": "execute_result"
    }
   ],
   "source": [
    "cleaned_columns"
   ]
  },
  {
   "cell_type": "code",
   "execution_count": 286,
   "id": "51c2ef68",
   "metadata": {},
   "outputs": [],
   "source": [
    "col_idx = 0"
   ]
  },
  {
   "cell_type": "code",
   "execution_count": 287,
   "id": "be2e7190",
   "metadata": {},
   "outputs": [],
   "source": [
    "tp = 0\n",
    "fp = 0\n",
    "fn = 0"
   ]
  },
  {
   "cell_type": "code",
   "execution_count": 288,
   "id": "33716dc2",
   "metadata": {},
   "outputs": [
    {
     "name": "stdout",
     "output_type": "stream",
     "text": [
      "column:  House #\n",
      "Original,\t Cleaned\n",
      "\n",
      "1801         \t 1801        \n",
      "1335         \t 1335        \n",
      "42-41        \t 42-41       \n",
      "5004         \t 5004        \n",
      "1243         \t 1243        \n",
      "62-81        \t 62-81       \n",
      " OR         OCCUPANCY.                                                                      |10/28/2014 00:00:00 \t  OR         OCCUPANCY.                                                                      |10/28/2014 00:00:00\n",
      "1            \t 1           \n",
      "201          \t 201         \n",
      "322          \t 322         \n",
      "150          \t 150         \n",
      "101-16       \t 101-16      \n",
      "93-38        \t 93-38       \n",
      "2400         \t 2400        \n",
      "3623         \t 3623        \n",
      "8701         \t 8701        \n",
      "2000         \t 2000        \n",
      "7720         \t 7720        \n",
      "600          \t 600         \n",
      "22-19        \t 22-19       \n",
      "1755         \t 1755        \n",
      "463          \t 463         \n",
      "109-05       \t 109-05      \n",
      "1560         \t 1560        \n",
      "1705         \t 1705        \n",
      "568          \t 568         \n",
      "262          \t 262         \n",
      "2860         \t 2860        \n",
      "133-01       \t 133-01      \n",
      "2722         \t 2722        \n",
      "655          \t 655         \n",
      "3716         \t 3716        \n",
      "93-30        \t 93-30       \n",
      "10-40        \t 10-40       \n",
      "135          \t 135         \n",
      "166-33       \t 166-33      \n",
      "68-41        \t 68-41       \n",
      "2155         \t 2155        \n",
      "21-37        \t 21-37       \n",
      "140          \t 140         \n",
      "51           \t 51          \n",
      "205          \t 205         \n",
      "1774         \t 1774        \n",
      "24-60        \t 24-60       \n",
      "480          \t 480         \n",
      "3067         \t 3067        \n",
      "2134         \t 2134        \n",
      "128          \t 128         \n",
      "21-38        \t 21-38       \n",
      "======================\n",
      "\n",
      "\n"
     ]
    }
   ],
   "source": [
    "col = cleaned_columns[col_idx]\n",
    "print(\"column: \", col)\n",
    "print(\"Original,\\t Cleaned\\n\")\n",
    "for i in range(49):\n",
    "    try:\n",
    "        print(df_sample_data[col].iloc[i], '\\t', df_temp[col].iloc[i])\n",
    "    except:\n",
    "        continue\n",
    "print('======================\\n\\n')\n",
    "col_idx += 1"
   ]
  },
  {
   "cell_type": "code",
   "execution_count": 289,
   "id": "e6ad2955",
   "metadata": {},
   "outputs": [],
   "source": [
    "tp +=2"
   ]
  },
  {
   "cell_type": "code",
   "execution_count": null,
   "id": "aa63865d",
   "metadata": {},
   "outputs": [],
   "source": []
  },
  {
   "cell_type": "code",
   "execution_count": 290,
   "id": "ab67c957",
   "metadata": {},
   "outputs": [
    {
     "name": "stdout",
     "output_type": "stream",
     "text": [
      "column:  Latest Action Date\n",
      "Original,\t Cleaned\n",
      "\n",
      "11/29/2016 00:00:00 \t 11/29/2016 00:00:00\n",
      "04/06/2015 00:00:00 \t 04/06/2015 00:00:00\n",
      "01/10/2014 00:00:00 \t 01/10/2014 00:00:00\n",
      "05/29/2015 00:00:00 \t 05/29/2015 00:00:00\n",
      "10/19/2015 00:00:00 \t 10/19/2015 00:00:00\n",
      "09/04/2014 00:00:00 \t 09/04/2014 00:00:00\n",
      "nan \t nan\n",
      "02/05/2015 00:00:00 \t 02/05/2015 00:00:00\n",
      "05/21/2014 00:00:00 \t 05/21/2014 00:00:00\n",
      "07/06/2015 00:00:00 \t 07/06/2015 00:00:00\n",
      "08/14/2013 00:00:00 \t 08/14/2013 00:00:00\n",
      "11/05/2015 00:00:00 \t 11/05/2015 00:00:00\n",
      "08/18/2015 00:00:00 \t 08/18/2015 00:00:00\n",
      "12/19/2016 00:00:00 \t 12/19/2016 00:00:00\n",
      "05/21/2015 00:00:00 \t 05/21/2015 00:00:00\n",
      "08/05/2013 00:00:00 \t 08/05/2013 00:00:00\n",
      "10/17/2014 00:00:00 \t 10/17/2014 00:00:00\n",
      "12/08/2015 00:00:00 \t 12/08/2015 00:00:00\n",
      "12/18/2015 00:00:00 \t 12/18/2015 00:00:00\n",
      "09/20/2016 00:00:00 \t 09/20/2016 00:00:00\n",
      "06/28/2016 00:00:00 \t 06/28/2016 00:00:00\n",
      "05/27/2014 00:00:00 \t 05/27/2014 00:00:00\n",
      "11/02/2015 00:00:00 \t 11/02/2015 00:00:00\n",
      "02/24/2015 00:00:00 \t 02/24/2015 00:00:00\n",
      "06/30/2015 00:00:00 \t 06/30/2015 00:00:00\n",
      "02/15/2017 00:00:00 \t 02/15/2017 00:00:00\n",
      "03/16/2017 00:00:00 \t 03/16/2017 00:00:00\n",
      "06/23/2015 00:00:00 \t 06/23/2015 00:00:00\n",
      "09/28/2016 00:00:00 \t 09/28/2016 00:00:00\n",
      "01/04/2017 00:00:00 \t 01/04/2017 00:00:00\n",
      "07/27/2015 00:00:00 \t 07/27/2015 00:00:00\n",
      "03/01/2017 00:00:00 \t 03/01/2017 00:00:00\n",
      "09/18/2014 00:00:00 \t 09/18/2014 00:00:00\n",
      "06/03/2014 00:00:00 \t 06/03/2014 00:00:00\n",
      "03/24/2017 00:00:00 \t 03/24/2017 00:00:00\n",
      "11/21/2014 00:00:00 \t 11/21/2014 00:00:00\n",
      "10/30/2015 00:00:00 \t 10/30/2015 00:00:00\n",
      "01/04/2017 00:00:00 \t 01/04/2017 00:00:00\n",
      "07/17/2015 00:00:00 \t 07/17/2015 00:00:00\n",
      "09/06/2013 00:00:00 \t 09/06/2013 00:00:00\n",
      "12/18/2015 00:00:00 \t 12/18/2015 00:00:00\n",
      "04/19/2017 00:00:00 \t 04/19/2017 00:00:00\n",
      "05/20/2015 00:00:00 \t 05/20/2015 00:00:00\n",
      "11/01/2017 00:00:00 \t 11/01/2017 00:00:00\n",
      "08/25/2014 00:00:00 \t 08/25/2014 00:00:00\n",
      "05/30/2013 00:00:00 \t 05/30/2013 00:00:00\n",
      "08/11/2015 00:00:00 \t 08/11/2015 00:00:00\n",
      "01/29/2016 00:00:00 \t 01/29/2016 00:00:00\n",
      "12/31/2015 00:00:00 \t 12/31/2015 00:00:00\n",
      "======================\n",
      "\n",
      "\n"
     ]
    }
   ],
   "source": [
    "col = cleaned_columns[col_idx]\n",
    "print(\"column: \", col)\n",
    "print(\"Original,\\t Cleaned\\n\")\n",
    "for i in range(49):\n",
    "    print(df_sample_data[col].iloc[i], '\\t', df_temp[col].iloc[i])\n",
    "\n",
    "print('======================\\n\\n')\n",
    "col_idx += 1"
   ]
  },
  {
   "cell_type": "code",
   "execution_count": 291,
   "id": "b0db2e02",
   "metadata": {},
   "outputs": [],
   "source": [
    "fn += 1"
   ]
  },
  {
   "cell_type": "code",
   "execution_count": null,
   "id": "117da531",
   "metadata": {},
   "outputs": [],
   "source": []
  },
  {
   "cell_type": "code",
   "execution_count": 292,
   "id": "7dd16fd2",
   "metadata": {},
   "outputs": [
    {
     "name": "stdout",
     "output_type": "stream",
     "text": [
      "column:  Community-Board\n",
      "Original,\t Cleaned\n",
      "\n",
      "314 \t 314\n",
      "105 \t 105\n",
      "411 \t 411\n",
      "318 \t 318\n",
      "503 \t 503\n",
      "405 \t 405\n",
      "nan \t nan\n",
      "101 \t 101\n",
      "307 \t 307\n",
      "106 \t 106\n",
      "307 \t 307\n",
      "403 \t 403\n",
      "409 \t 409\n",
      "210 \t 210\n",
      "312 \t 312\n",
      "310 \t 310\n",
      "211 \t 211\n",
      "318 \t 318\n",
      "109 \t 109\n",
      "401 \t 401\n",
      "318 \t 318\n",
      "105 \t 105\n",
      "410 \t 410\n",
      "210 \t 210\n",
      "209 \t 209\n",
      "303 \t 303\n",
      "312 \t 312\n",
      "208 \t 208\n",
      "407 \t 407\n",
      "110 \t 110\n",
      "212 \t 212\n",
      "112 \t 112\n",
      "409 \t 409\n",
      "414 \t 414\n",
      "108 \t 108\n",
      "412 \t 412\n",
      "405 \t 405\n",
      "211 \t 211\n",
      "401 \t 401\n",
      "107 \t 107\n",
      "105 \t 105\n",
      "107 \t 107\n",
      "111 \t 111\n",
      "401 \t 401\n",
      "112 \t 112\n",
      "501 \t 501\n",
      "315 \t 315\n",
      "503 \t 503\n",
      "401 \t 401\n",
      "======================\n",
      "\n",
      "\n"
     ]
    }
   ],
   "source": [
    "col = cleaned_columns[col_idx]\n",
    "print(\"column: \", col)\n",
    "print(\"Original,\\t Cleaned\\n\")\n",
    "for i in range(49):\n",
    "    print(df_sample_data[col].iloc[i], '\\t', df_temp[col].iloc[i])\n",
    "\n",
    "print('======================\\n\\n')\n",
    "col_idx += 1"
   ]
  },
  {
   "cell_type": "code",
   "execution_count": 293,
   "id": "6775d033",
   "metadata": {},
   "outputs": [],
   "source": [
    "fn += 1"
   ]
  },
  {
   "cell_type": "code",
   "execution_count": null,
   "id": "4f7ca871",
   "metadata": {},
   "outputs": [],
   "source": []
  },
  {
   "cell_type": "code",
   "execution_count": 294,
   "id": "899bc65a",
   "metadata": {},
   "outputs": [
    {
     "name": "stdout",
     "output_type": "stream",
     "text": [
      "column:  Landmarked\n",
      "Original,\t Cleaned\n",
      "\n",
      "nan \t False\n",
      "nan \t False\n",
      "nan \t False\n",
      "nan \t False\n",
      "nan \t False\n",
      "nan \t False\n",
      "nan \t False\n",
      "nan \t False\n",
      "nan \t False\n",
      "nan \t False\n",
      "nan \t False\n",
      "nan \t False\n",
      "nan \t False\n",
      "nan \t False\n",
      "nan \t False\n",
      "nan \t False\n",
      "nan \t False\n",
      "nan \t False\n",
      "nan \t False\n",
      "nan \t False\n",
      "nan \t False\n",
      "nan \t False\n",
      "nan \t False\n",
      "nan \t False\n",
      "nan \t False\n",
      "nan \t False\n",
      "nan \t False\n",
      "nan \t False\n",
      "nan \t False\n",
      "nan \t False\n",
      "nan \t False\n",
      "nan \t False\n",
      "nan \t False\n",
      "nan \t False\n",
      "Y \t True\n",
      "nan \t False\n",
      "Y \t True\n",
      "nan \t False\n",
      "nan \t False\n",
      "nan \t False\n",
      "Y \t True\n",
      "nan \t False\n",
      "nan \t False\n",
      "nan \t False\n",
      "nan \t False\n",
      "nan \t False\n",
      "nan \t False\n",
      "nan \t False\n",
      "nan \t False\n",
      "======================\n",
      "\n",
      "\n"
     ]
    }
   ],
   "source": [
    "col = cleaned_columns[col_idx]\n",
    "print(\"column: \", col)\n",
    "print(\"Original,\\t Cleaned\\n\")\n",
    "for i in range(49):\n",
    "    print(df_sample_data[col].iloc[i], '\\t', df_temp[col].iloc[i])\n",
    "\n",
    "print('======================\\n\\n')\n",
    "col_idx += 1"
   ]
  },
  {
   "cell_type": "code",
   "execution_count": 295,
   "id": "c1a6bd36",
   "metadata": {},
   "outputs": [],
   "source": [
    "tp += 50"
   ]
  },
  {
   "cell_type": "code",
   "execution_count": 296,
   "id": "80eeba2d",
   "metadata": {},
   "outputs": [
    {
     "name": "stdout",
     "output_type": "stream",
     "text": [
      "column:  Little e\n",
      "Original,\t Cleaned\n",
      "\n",
      "nan \t False\n",
      "nan \t False\n",
      "nan \t False\n",
      "nan \t False\n",
      "nan \t False\n",
      "nan \t False\n",
      "nan \t False\n",
      "nan \t False\n",
      "nan \t False\n",
      "nan \t False\n",
      "nan \t False\n",
      "nan \t False\n",
      "nan \t False\n",
      "nan \t False\n",
      "nan \t False\n",
      "nan \t False\n",
      "nan \t False\n",
      "nan \t False\n",
      "nan \t False\n",
      "nan \t False\n",
      "nan \t False\n",
      "nan \t False\n",
      "nan \t False\n",
      "nan \t False\n",
      "nan \t False\n",
      "nan \t False\n",
      "nan \t False\n",
      "nan \t False\n",
      "nan \t False\n",
      "nan \t False\n",
      "nan \t False\n",
      "nan \t False\n",
      "nan \t False\n",
      "nan \t False\n",
      "nan \t False\n",
      "nan \t False\n",
      "nan \t False\n",
      "nan \t False\n",
      "nan \t False\n",
      "nan \t False\n",
      "nan \t False\n",
      "nan \t False\n",
      "nan \t False\n",
      "nan \t False\n",
      "nan \t False\n",
      "nan \t False\n",
      "nan \t False\n",
      "nan \t False\n",
      "nan \t False\n",
      "======================\n",
      "\n",
      "\n"
     ]
    }
   ],
   "source": [
    "col = cleaned_columns[col_idx]\n",
    "print(\"column: \", col)\n",
    "print(\"Original,\\t Cleaned\\n\")\n",
    "for i in range(49):\n",
    "    print(df_sample_data[col].iloc[i], '\\t', df_temp[col].iloc[i])\n",
    "\n",
    "print('======================\\n\\n')\n",
    "col_idx += 1"
   ]
  },
  {
   "cell_type": "code",
   "execution_count": 297,
   "id": "2ad3031e",
   "metadata": {},
   "outputs": [],
   "source": [
    "tp += 50"
   ]
  },
  {
   "cell_type": "code",
   "execution_count": 298,
   "id": "7c8389e2",
   "metadata": {},
   "outputs": [
    {
     "name": "stdout",
     "output_type": "stream",
     "text": [
      "column:  PC Filed\n",
      "Original,\t Cleaned\n",
      "\n",
      "  \t False\n",
      "  \t False\n",
      "  \t False\n",
      "  \t False\n",
      "  \t False\n",
      "  \t False\n",
      "nan \t False\n",
      "  \t False\n",
      "  \t False\n",
      "  \t False\n",
      "  \t False\n",
      "  \t False\n",
      "  \t False\n",
      "  \t False\n",
      "  \t False\n",
      "  \t False\n",
      "  \t False\n",
      "  \t False\n",
      "  \t False\n",
      "  \t False\n",
      "  \t False\n",
      "  \t False\n",
      "  \t False\n",
      "  \t False\n",
      "  \t False\n",
      "  \t False\n",
      "  \t False\n",
      "  \t False\n",
      "  \t False\n",
      "  \t False\n",
      "  \t False\n",
      "  \t False\n",
      "  \t False\n",
      "  \t False\n",
      "  \t False\n",
      "  \t False\n",
      "  \t False\n",
      "  \t False\n",
      "  \t False\n",
      "  \t False\n",
      "  \t False\n",
      "  \t False\n",
      "  \t False\n",
      "  \t False\n",
      "  \t False\n",
      "  \t False\n",
      "  \t False\n",
      "  \t False\n",
      "  \t False\n",
      "======================\n",
      "\n",
      "\n"
     ]
    }
   ],
   "source": [
    "col = cleaned_columns[col_idx]\n",
    "print(\"column: \", col)\n",
    "print(\"Original,\\t Cleaned\\n\")\n",
    "for i in range(49):\n",
    "    print(df_sample_data[col].iloc[i], '\\t', df_temp[col].iloc[i])\n",
    "\n",
    "print('======================\\n\\n')\n",
    "col_idx += 1"
   ]
  },
  {
   "cell_type": "code",
   "execution_count": 299,
   "id": "1f6bbaf7",
   "metadata": {},
   "outputs": [],
   "source": [
    "tp += 50"
   ]
  },
  {
   "cell_type": "code",
   "execution_count": null,
   "id": "0e54b219",
   "metadata": {},
   "outputs": [],
   "source": []
  },
  {
   "cell_type": "code",
   "execution_count": 300,
   "id": "ebe31809",
   "metadata": {},
   "outputs": [
    {
     "name": "stdout",
     "output_type": "stream",
     "text": [
      "column:  Other\n",
      "Original,\t Cleaned\n",
      "\n",
      "X \t True\n",
      "X \t True\n",
      "X \t True\n",
      "X \t True\n",
      "X \t True\n",
      "X \t True\n",
      "nan \t False\n",
      "X \t True\n",
      "X \t True\n",
      "X \t True\n",
      "X \t True\n",
      "X \t True\n",
      "X \t True\n",
      "X \t True\n",
      "X \t True\n",
      "X \t True\n",
      "X \t True\n",
      "X \t True\n",
      "X \t True\n",
      "X \t True\n",
      "X \t True\n",
      "X \t True\n",
      "X \t True\n",
      "X \t True\n",
      "X \t True\n",
      "X \t True\n",
      "X \t True\n",
      "X \t True\n",
      "X \t True\n",
      "X \t True\n",
      "X \t True\n",
      "X \t True\n",
      "X \t True\n",
      "X \t True\n",
      "X \t True\n",
      "X \t True\n",
      "X \t True\n",
      "X \t True\n",
      "X \t True\n",
      "X \t True\n",
      "X \t True\n",
      "X \t True\n",
      "X \t True\n",
      "X \t True\n",
      "X \t True\n",
      "X \t True\n",
      "X \t True\n",
      "X \t True\n",
      "X \t True\n",
      "======================\n",
      "\n",
      "\n"
     ]
    }
   ],
   "source": [
    "col = cleaned_columns[col_idx]\n",
    "print(\"column: \", col)\n",
    "print(\"Original,\\t Cleaned\\n\")\n",
    "for i in range(49):\n",
    "    print(df_sample_data[col].iloc[i], '\\t', df_temp[col].iloc[i])\n",
    "\n",
    "print('======================\\n\\n')\n",
    "col_idx += 1"
   ]
  },
  {
   "cell_type": "code",
   "execution_count": 301,
   "id": "5145662e",
   "metadata": {},
   "outputs": [],
   "source": [
    "tp += 50"
   ]
  },
  {
   "cell_type": "code",
   "execution_count": 302,
   "id": "a2da98d6",
   "metadata": {},
   "outputs": [
    {
     "name": "stdout",
     "output_type": "stream",
     "text": [
      "column:  Other Description\n",
      "Original,\t Cleaned\n",
      "\n",
      "ANTENNA         \t ANTENNA        \n",
      "ANTENNA         \t ANTENNA        \n",
      "ANTENNA         \t ANTENNA        \n",
      "ANTENNA         \t ANTENNA        \n",
      "ANTENNA         \t ANTENNA        \n",
      "ANTENNA         \t ANTENNA        \n",
      "nan \t nan\n",
      "ANTENNA         \t ANTENNA        \n",
      "ANTENNA         \t ANTENNA        \n",
      "ANTENNA         \t ANTENNA        \n",
      "ANTENNA         \t ANTENNA        \n",
      "ANTENNA         \t ANTENNA        \n",
      "ANTENNA         \t ANTENNA        \n",
      "ANTENNA         \t ANTENNA        \n",
      "ANTENNA         \t ANTENNA        \n",
      "ANTENNA         \t ANTENNA        \n",
      "ANTENNA         \t ANTENNA        \n",
      "ANTENNA         \t ANTENNA        \n",
      "ANTENNA         \t ANTENNA        \n",
      "ANTENNA         \t ANTENNA        \n",
      "ANTENNA         \t ANTENNA        \n",
      "ANTENNA         \t ANTENNA        \n",
      "ANTENNA         \t ANTENNA        \n",
      "ANTENNA         \t ANTENNA        \n",
      "ANTENNA         \t ANTENNA        \n",
      "ANTENNA         \t ANTENNA        \n",
      "ANTENNA         \t ANTENNA        \n",
      "ANTENNA         \t ANTENNA        \n",
      "ANTENNA         \t ANTENNA        \n",
      "ANTENNA         \t ANTENNA        \n",
      "ANTENNA         \t ANTENNA        \n",
      "ANTENNA         \t ANTENNA        \n",
      "ANTENNA         \t ANTENNA        \n",
      "ANTENNA         \t ANTENNA        \n",
      "ANTENNA         \t ANTENNA        \n",
      "ANTENNA         \t ANTENNA        \n",
      "ANTENNA         \t ANTENNA        \n",
      "ANTENNA         \t ANTENNA        \n",
      "ANTENNA         \t ANTENNA        \n",
      "ANTENNA         \t ANTENNA        \n",
      "ANTENNA         \t ANTENNA        \n",
      "ANTENNA         \t ANTENNA        \n",
      "ANTENNA         \t ANTENNA        \n",
      "ANTENNA         \t ANTENNA        \n",
      "ANTENNA         \t ANTENNA        \n",
      "ANTENNA         \t ANTENNA        \n",
      "ANTENNA         \t ANTENNA        \n",
      "ANTENNA         \t ANTENNA        \n",
      "ANTENNA         \t ANTENNA        \n",
      "======================\n",
      "\n",
      "\n"
     ]
    }
   ],
   "source": [
    "col = cleaned_columns[col_idx]\n",
    "print(\"column: \", col)\n",
    "print(\"Original,\\t Cleaned\\n\")\n",
    "for i in range(49):\n",
    "    print(df_sample_data[col].iloc[i], '\\t', df_temp[col].iloc[i])\n",
    "\n",
    "print('======================\\n\\n')\n",
    "col_idx += 1"
   ]
  },
  {
   "cell_type": "code",
   "execution_count": 303,
   "id": "7069d8eb",
   "metadata": {},
   "outputs": [],
   "source": [
    "# didnt do this one"
   ]
  },
  {
   "cell_type": "code",
   "execution_count": null,
   "id": "4c016ac9",
   "metadata": {},
   "outputs": [],
   "source": []
  },
  {
   "cell_type": "code",
   "execution_count": 304,
   "id": "606ab65d",
   "metadata": {},
   "outputs": [
    {
     "name": "stdout",
     "output_type": "stream",
     "text": [
      "column:  Professional Cert\n",
      "Original,\t Cleaned\n",
      "\n",
      "nan \t False\n",
      "nan \t False\n",
      "nan \t False\n",
      "nan \t False\n",
      "nan \t False\n",
      "nan \t False\n",
      "nan \t False\n",
      "nan \t False\n",
      "nan \t False\n",
      "nan \t False\n",
      "nan \t False\n",
      "nan \t False\n",
      "nan \t False\n",
      "nan \t False\n",
      "nan \t False\n",
      "nan \t False\n",
      "nan \t False\n",
      "nan \t False\n",
      "nan \t False\n",
      "nan \t False\n",
      "nan \t False\n",
      "nan \t False\n",
      "nan \t False\n",
      "nan \t False\n",
      "nan \t False\n",
      "nan \t False\n",
      "nan \t False\n",
      "nan \t False\n",
      "nan \t False\n",
      "nan \t False\n",
      "nan \t False\n",
      "nan \t False\n",
      "nan \t False\n",
      "nan \t False\n",
      "nan \t False\n",
      "nan \t False\n",
      "nan \t False\n",
      "nan \t False\n",
      "nan \t False\n",
      "nan \t False\n",
      "nan \t False\n",
      "nan \t False\n",
      "nan \t False\n",
      "nan \t False\n",
      "nan \t False\n",
      "nan \t False\n",
      "nan \t False\n",
      "nan \t False\n",
      "nan \t False\n",
      "======================\n",
      "\n",
      "\n"
     ]
    }
   ],
   "source": [
    "col = cleaned_columns[col_idx]\n",
    "print(\"column: \", col)\n",
    "print(\"Original,\\t Cleaned\\n\")\n",
    "for i in range(49):\n",
    "    print(df_sample_data[col].iloc[i], '\\t', df_temp[col].iloc[i])\n",
    "\n",
    "print('======================\\n\\n')\n",
    "col_idx += 1"
   ]
  },
  {
   "cell_type": "code",
   "execution_count": 305,
   "id": "31c77fcd",
   "metadata": {},
   "outputs": [],
   "source": [
    "tp += 50"
   ]
  },
  {
   "cell_type": "code",
   "execution_count": 306,
   "id": "5586d26e",
   "metadata": {},
   "outputs": [
    {
     "name": "stdout",
     "output_type": "stream",
     "text": [
      "column:  Pre-Filing Date\n",
      "Original,\t Cleaned\n",
      "\n",
      "06/29/2015 12:00:00 AM \t 2015-06-29 00:00:00\n",
      "11/07/2014 12:00:00 AM \t 2014-11-07 00:00:00\n",
      "12/04/2013 12:00:00 AM \t 2013-12-04 00:00:00\n",
      "04/13/2015 12:00:00 AM \t 2015-04-13 00:00:00\n",
      "09/03/2015 12:00:00 AM \t 2015-09-03 00:00:00\n",
      "07/21/2014 12:00:00 AM \t 2014-07-21 00:00:00\n",
      "nan \t NaT\n",
      "11/12/2014 12:00:00 AM \t 2014-11-12 00:00:00\n",
      "05/08/2014 12:00:00 AM \t 2014-05-08 00:00:00\n",
      "05/20/2015 12:00:00 AM \t 2015-05-20 00:00:00\n",
      "06/12/2013 12:00:00 AM \t 2013-06-12 00:00:00\n",
      "08/07/2015 12:00:00 AM \t 2015-08-07 00:00:00\n",
      "04/28/2014 12:00:00 AM \t 2014-04-28 00:00:00\n",
      "07/08/2015 12:00:00 AM \t 2015-07-08 00:00:00\n",
      "05/05/2015 12:00:00 AM \t 2015-05-05 00:00:00\n",
      "06/18/2013 12:00:00 AM \t 2013-06-18 00:00:00\n",
      "07/21/2014 12:00:00 AM \t 2014-07-21 00:00:00\n",
      "05/08/2015 12:00:00 AM \t 2015-05-08 00:00:00\n",
      "03/25/2015 12:00:00 AM \t 2015-03-25 00:00:00\n",
      "03/18/2016 12:00:00 AM \t 2016-03-18 00:00:00\n",
      "04/21/2015 12:00:00 AM \t 2015-04-21 00:00:00\n",
      "05/01/2014 12:00:00 AM \t 2014-05-01 00:00:00\n",
      "07/24/2015 12:00:00 AM \t 2015-07-24 00:00:00\n",
      "11/05/2014 12:00:00 AM \t 2014-11-05 00:00:00\n",
      "04/27/2015 12:00:00 AM \t 2015-04-27 00:00:00\n",
      "04/20/2015 12:00:00 AM \t 2015-04-20 00:00:00\n",
      "10/11/2016 12:00:00 AM \t 2016-10-11 00:00:00\n",
      "05/08/2015 12:00:00 AM \t 2015-05-08 00:00:00\n",
      "09/09/2015 12:00:00 AM \t 2015-09-09 00:00:00\n",
      "10/19/2016 12:00:00 AM \t 2016-10-19 00:00:00\n",
      "05/11/2015 12:00:00 AM \t 2015-05-11 00:00:00\n",
      "12/19/2016 12:00:00 AM \t 2016-12-19 00:00:00\n",
      "04/29/2014 12:00:00 AM \t 2014-04-29 00:00:00\n",
      "04/30/2014 12:00:00 AM \t 2014-04-30 00:00:00\n",
      "01/11/2017 12:00:00 AM \t 2017-01-11 00:00:00\n",
      "08/25/2014 12:00:00 AM \t 2014-08-25 00:00:00\n",
      "08/06/2015 12:00:00 AM \t 2015-08-06 00:00:00\n",
      "12/01/2016 12:00:00 AM \t 2016-12-01 00:00:00\n",
      "07/07/2015 12:00:00 AM \t 2015-07-07 00:00:00\n",
      "07/03/2013 12:00:00 AM \t 2013-07-03 00:00:00\n",
      "06/19/2015 12:00:00 AM \t 2015-06-19 00:00:00\n",
      "03/21/2017 12:00:00 AM \t 2017-03-21 00:00:00\n",
      "12/23/2014 12:00:00 AM \t 2014-12-23 00:00:00\n",
      "08/21/2017 12:00:00 AM \t 2017-08-21 00:00:00\n",
      "06/27/2014 12:00:00 AM \t 2014-06-27 00:00:00\n",
      "12/19/2012 12:00:00 AM \t 2012-12-19 00:00:00\n",
      "07/21/2015 12:00:00 AM \t 2015-07-21 00:00:00\n",
      "12/23/2015 12:00:00 AM \t 2015-12-23 00:00:00\n",
      "06/30/2015 12:00:00 AM \t 2015-06-30 00:00:00\n",
      "======================\n",
      "\n",
      "\n"
     ]
    }
   ],
   "source": [
    "col = cleaned_columns[col_idx]\n",
    "print(\"column: \", col)\n",
    "print(\"Original,\\t Cleaned\\n\")\n",
    "for i in range(49):\n",
    "    print(df_sample_data[col].iloc[i], '\\t', df_temp[col].iloc[i])\n",
    "\n",
    "print('======================\\n\\n')\n",
    "col_idx += 1"
   ]
  },
  {
   "cell_type": "code",
   "execution_count": 307,
   "id": "35e1a2c4",
   "metadata": {},
   "outputs": [],
   "source": [
    "tp += 50"
   ]
  },
  {
   "cell_type": "code",
   "execution_count": 308,
   "id": "55b583ea",
   "metadata": {},
   "outputs": [
    {
     "name": "stdout",
     "output_type": "stream",
     "text": [
      "column:  Paid Date\n",
      "Original,\t Cleaned\n",
      "\n",
      "06/29/2015 12:00:00 AM \t 06/29/2015 12:00:00 AM\n",
      "11/07/2014 12:00:00 AM \t 11/07/2014 12:00:00 AM\n",
      "12/04/2013 12:00:00 AM \t 12/04/2013 12:00:00 AM\n",
      "04/13/2015 12:00:00 AM \t 04/13/2015 12:00:00 AM\n",
      "09/03/2015 12:00:00 AM \t 09/03/2015 12:00:00 AM\n",
      "07/21/2014 12:00:00 AM \t 07/21/2014 12:00:00 AM\n",
      "nan \t nan\n",
      "11/12/2014 12:00:00 AM \t 11/12/2014 12:00:00 AM\n",
      "05/08/2014 12:00:00 AM \t 05/08/2014 12:00:00 AM\n",
      "05/20/2015 12:00:00 AM \t 05/20/2015 12:00:00 AM\n",
      "06/12/2013 12:00:00 AM \t 06/12/2013 12:00:00 AM\n",
      "08/07/2015 12:00:00 AM \t 08/07/2015 12:00:00 AM\n",
      "04/28/2014 12:00:00 AM \t 04/28/2014 12:00:00 AM\n",
      "07/08/2015 12:00:00 AM \t 07/08/2015 12:00:00 AM\n",
      "05/05/2015 12:00:00 AM \t 05/05/2015 12:00:00 AM\n",
      "06/18/2013 12:00:00 AM \t 06/18/2013 12:00:00 AM\n",
      "07/21/2014 12:00:00 AM \t 07/21/2014 12:00:00 AM\n",
      "05/08/2015 12:00:00 AM \t 05/08/2015 12:00:00 AM\n",
      "03/25/2015 12:00:00 AM \t 03/25/2015 12:00:00 AM\n",
      "03/18/2016 12:00:00 AM \t 03/18/2016 12:00:00 AM\n",
      "04/21/2015 12:00:00 AM \t 04/21/2015 12:00:00 AM\n",
      "05/01/2014 12:00:00 AM \t 05/01/2014 12:00:00 AM\n",
      "07/24/2015 12:00:00 AM \t 07/24/2015 12:00:00 AM\n",
      "11/05/2014 12:00:00 AM \t 11/05/2014 12:00:00 AM\n",
      "04/27/2015 12:00:00 AM \t 04/27/2015 12:00:00 AM\n",
      "04/21/2015 12:00:00 AM \t 04/21/2015 12:00:00 AM\n",
      "10/11/2016 12:00:00 AM \t 10/11/2016 12:00:00 AM\n",
      "05/08/2015 12:00:00 AM \t 05/08/2015 12:00:00 AM\n",
      "09/09/2015 12:00:00 AM \t 09/09/2015 12:00:00 AM\n",
      "10/19/2016 12:00:00 AM \t 10/19/2016 12:00:00 AM\n",
      "05/11/2015 12:00:00 AM \t 05/11/2015 12:00:00 AM\n",
      "12/19/2016 12:00:00 AM \t 12/19/2016 12:00:00 AM\n",
      "04/29/2014 12:00:00 AM \t 04/29/2014 12:00:00 AM\n",
      "04/30/2014 12:00:00 AM \t 04/30/2014 12:00:00 AM\n",
      "01/11/2017 12:00:00 AM \t 01/11/2017 12:00:00 AM\n",
      "08/25/2014 12:00:00 AM \t 08/25/2014 12:00:00 AM\n",
      "08/06/2015 12:00:00 AM \t 08/06/2015 12:00:00 AM\n",
      "12/01/2016 12:00:00 AM \t 12/01/2016 12:00:00 AM\n",
      "07/07/2015 12:00:00 AM \t 07/07/2015 12:00:00 AM\n",
      "07/03/2013 12:00:00 AM \t 07/03/2013 12:00:00 AM\n",
      "06/19/2015 12:00:00 AM \t 06/19/2015 12:00:00 AM\n",
      "03/21/2017 12:00:00 AM \t 03/21/2017 12:00:00 AM\n",
      "12/23/2014 12:00:00 AM \t 12/23/2014 12:00:00 AM\n",
      "08/21/2017 12:00:00 AM \t 08/21/2017 12:00:00 AM\n",
      "06/27/2014 12:00:00 AM \t 06/27/2014 12:00:00 AM\n",
      "12/19/2012 12:00:00 AM \t 12/19/2012 12:00:00 AM\n",
      "07/21/2015 12:00:00 AM \t 07/21/2015 12:00:00 AM\n",
      "12/23/2015 12:00:00 AM \t 12/23/2015 12:00:00 AM\n",
      "06/30/2015 12:00:00 AM \t 06/30/2015 12:00:00 AM\n",
      "======================\n",
      "\n",
      "\n"
     ]
    }
   ],
   "source": [
    "col = cleaned_columns[col_idx]\n",
    "print(\"column: \", col)\n",
    "print(\"Original,\\t Cleaned\\n\")\n",
    "for i in range(49):\n",
    "    print(df_sample_data[col].iloc[i], '\\t', df_temp[col].iloc[i])\n",
    "\n",
    "print('======================\\n\\n')\n",
    "col_idx += 1"
   ]
  },
  {
   "cell_type": "code",
   "execution_count": 309,
   "id": "18dfaed4",
   "metadata": {},
   "outputs": [],
   "source": [
    "fn += 50"
   ]
  },
  {
   "cell_type": "code",
   "execution_count": null,
   "id": "31b17c04",
   "metadata": {},
   "outputs": [],
   "source": []
  },
  {
   "cell_type": "code",
   "execution_count": 310,
   "id": "007c629d",
   "metadata": {
    "scrolled": false
   },
   "outputs": [
    {
     "name": "stdout",
     "output_type": "stream",
     "text": [
      "column:  Fully Paid Date\n",
      "Original,\t Cleaned\n",
      "\n",
      "06/29/2015 12:00:00 AM \t 06/29/2015 12:00:00 AM\n",
      "11/07/2014 12:00:00 AM \t 11/07/2014 12:00:00 AM\n",
      "12/04/2013 12:00:00 AM \t 12/04/2013 12:00:00 AM\n",
      "04/13/2015 12:00:00 AM \t 04/13/2015 12:00:00 AM\n",
      "09/03/2015 12:00:00 AM \t 09/03/2015 12:00:00 AM\n",
      "07/21/2014 12:00:00 AM \t 07/21/2014 12:00:00 AM\n",
      "nan \t nan\n",
      "11/12/2014 12:00:00 AM \t 11/12/2014 12:00:00 AM\n",
      "05/08/2014 12:00:00 AM \t 05/08/2014 12:00:00 AM\n",
      "05/20/2015 12:00:00 AM \t 05/20/2015 12:00:00 AM\n",
      "06/12/2013 12:00:00 AM \t 06/12/2013 12:00:00 AM\n",
      "08/07/2015 12:00:00 AM \t 08/07/2015 12:00:00 AM\n",
      "04/28/2014 12:00:00 AM \t 04/28/2014 12:00:00 AM\n",
      "07/08/2015 12:00:00 AM \t 07/08/2015 12:00:00 AM\n",
      "05/05/2015 12:00:00 AM \t 05/05/2015 12:00:00 AM\n",
      "06/18/2013 12:00:00 AM \t 06/18/2013 12:00:00 AM\n",
      "07/21/2014 12:00:00 AM \t 07/21/2014 12:00:00 AM\n",
      "05/08/2015 12:00:00 AM \t 05/08/2015 12:00:00 AM\n",
      "03/25/2015 12:00:00 AM \t 03/25/2015 12:00:00 AM\n",
      "03/18/2016 12:00:00 AM \t 03/18/2016 12:00:00 AM\n",
      "04/21/2015 12:00:00 AM \t 04/21/2015 12:00:00 AM\n",
      "05/01/2014 12:00:00 AM \t 05/01/2014 12:00:00 AM\n",
      "07/24/2015 12:00:00 AM \t 07/24/2015 12:00:00 AM\n",
      "11/05/2014 12:00:00 AM \t 11/05/2014 12:00:00 AM\n",
      "04/27/2015 12:00:00 AM \t 04/27/2015 12:00:00 AM\n",
      "04/21/2015 12:00:00 AM \t 04/21/2015 12:00:00 AM\n",
      "10/11/2016 12:00:00 AM \t 10/11/2016 12:00:00 AM\n",
      "05/08/2015 12:00:00 AM \t 05/08/2015 12:00:00 AM\n",
      "09/09/2015 12:00:00 AM \t 09/09/2015 12:00:00 AM\n",
      "10/19/2016 12:00:00 AM \t 10/19/2016 12:00:00 AM\n",
      "05/11/2015 12:00:00 AM \t 05/11/2015 12:00:00 AM\n",
      "12/19/2016 12:00:00 AM \t 12/19/2016 12:00:00 AM\n",
      "04/29/2014 12:00:00 AM \t 04/29/2014 12:00:00 AM\n",
      "04/30/2014 12:00:00 AM \t 04/30/2014 12:00:00 AM\n",
      "01/11/2017 12:00:00 AM \t 01/11/2017 12:00:00 AM\n",
      "08/25/2014 12:00:00 AM \t 08/25/2014 12:00:00 AM\n",
      "08/06/2015 12:00:00 AM \t 08/06/2015 12:00:00 AM\n",
      "12/01/2016 12:00:00 AM \t 12/01/2016 12:00:00 AM\n",
      "07/07/2015 12:00:00 AM \t 07/07/2015 12:00:00 AM\n",
      "07/03/2013 12:00:00 AM \t 07/03/2013 12:00:00 AM\n",
      "06/19/2015 12:00:00 AM \t 06/19/2015 12:00:00 AM\n",
      "03/21/2017 12:00:00 AM \t 03/21/2017 12:00:00 AM\n",
      "12/23/2014 12:00:00 AM \t 12/23/2014 12:00:00 AM\n",
      "08/21/2017 12:00:00 AM \t 08/21/2017 12:00:00 AM\n",
      "06/27/2014 12:00:00 AM \t 06/27/2014 12:00:00 AM\n",
      "12/19/2012 12:00:00 AM \t 12/19/2012 12:00:00 AM\n",
      "07/21/2015 12:00:00 AM \t 07/21/2015 12:00:00 AM\n",
      "12/23/2015 12:00:00 AM \t 12/23/2015 12:00:00 AM\n",
      "07/08/2015 12:00:00 AM \t 07/08/2015 12:00:00 AM\n",
      "======================\n",
      "\n",
      "\n"
     ]
    }
   ],
   "source": [
    "col = cleaned_columns[col_idx]\n",
    "print(\"column: \", col)\n",
    "print(\"Original,\\t Cleaned\\n\")\n",
    "for i in range(49):\n",
    "    print(df_sample_data[col].iloc[i], '\\t', df_temp[col].iloc[i])\n",
    "\n",
    "print('======================\\n\\n')\n",
    "col_idx += 1"
   ]
  },
  {
   "cell_type": "code",
   "execution_count": 311,
   "id": "552792a6",
   "metadata": {},
   "outputs": [],
   "source": [
    "fn += 50"
   ]
  },
  {
   "cell_type": "code",
   "execution_count": null,
   "id": "5bd3fe15",
   "metadata": {},
   "outputs": [],
   "source": []
  },
  {
   "cell_type": "code",
   "execution_count": 312,
   "id": "02209679",
   "metadata": {
    "scrolled": true
   },
   "outputs": [
    {
     "name": "stdout",
     "output_type": "stream",
     "text": [
      "column:  Assigned Date\n",
      "Original,\t Cleaned\n",
      "\n",
      "07/06/2015 12:00:00 AM \t 07/06/2015 12:00:00 AM\n",
      "11/10/2014 12:00:00 AM \t 11/10/2014 12:00:00 AM\n",
      "12/06/2013 12:00:00 AM \t 12/06/2013 12:00:00 AM\n",
      "04/14/2015 12:00:00 AM \t 04/14/2015 12:00:00 AM\n",
      "10/07/2015 12:00:00 AM \t 10/07/2015 12:00:00 AM\n",
      "07/22/2014 12:00:00 AM \t 07/22/2014 12:00:00 AM\n",
      "nan \t nan\n",
      "11/13/2014 12:00:00 AM \t 11/13/2014 12:00:00 AM\n",
      "05/09/2014 12:00:00 AM \t 05/09/2014 12:00:00 AM\n",
      "05/20/2015 12:00:00 AM \t 05/20/2015 12:00:00 AM\n",
      "06/13/2013 12:00:00 AM \t 06/13/2013 12:00:00 AM\n",
      "08/10/2015 12:00:00 AM \t 08/10/2015 12:00:00 AM\n",
      "05/15/2014 12:00:00 AM \t 05/15/2014 12:00:00 AM\n",
      "07/09/2015 12:00:00 AM \t 07/09/2015 12:00:00 AM\n",
      "05/11/2015 12:00:00 AM \t 05/11/2015 12:00:00 AM\n",
      "06/19/2013 12:00:00 AM \t 06/19/2013 12:00:00 AM\n",
      "07/22/2014 12:00:00 AM \t 07/22/2014 12:00:00 AM\n",
      "05/26/2015 12:00:00 AM \t 05/26/2015 12:00:00 AM\n",
      "04/23/2015 12:00:00 AM \t 04/23/2015 12:00:00 AM\n",
      "03/21/2016 12:00:00 AM \t 03/21/2016 12:00:00 AM\n",
      "05/11/2015 12:00:00 AM \t 05/11/2015 12:00:00 AM\n",
      "05/02/2014 12:00:00 AM \t 05/02/2014 12:00:00 AM\n",
      "07/27/2015 12:00:00 AM \t 07/27/2015 12:00:00 AM\n",
      "12/01/2014 12:00:00 AM \t 12/01/2014 12:00:00 AM\n",
      "04/28/2015 12:00:00 AM \t 04/28/2015 12:00:00 AM\n",
      "04/21/2015 12:00:00 AM \t 04/21/2015 12:00:00 AM\n",
      "10/11/2016 12:00:00 AM \t 10/11/2016 12:00:00 AM\n",
      "05/11/2015 12:00:00 AM \t 05/11/2015 12:00:00 AM\n",
      "09/11/2015 12:00:00 AM \t 09/11/2015 12:00:00 AM\n",
      "10/20/2016 12:00:00 AM \t 10/20/2016 12:00:00 AM\n",
      "05/12/2015 12:00:00 AM \t 05/12/2015 12:00:00 AM\n",
      "12/20/2016 12:00:00 AM \t 12/20/2016 12:00:00 AM\n",
      "04/30/2014 12:00:00 AM \t 04/30/2014 12:00:00 AM\n",
      "05/19/2014 12:00:00 AM \t 05/19/2014 12:00:00 AM\n",
      "01/12/2017 12:00:00 AM \t 01/12/2017 12:00:00 AM\n",
      "10/31/2014 12:00:00 AM \t 10/31/2014 12:00:00 AM\n",
      "08/20/2015 12:00:00 AM \t 08/20/2015 12:00:00 AM\n",
      "12/02/2016 12:00:00 AM \t 12/02/2016 12:00:00 AM\n",
      "07/08/2015 12:00:00 AM \t 07/08/2015 12:00:00 AM\n",
      "07/05/2013 12:00:00 AM \t 07/05/2013 12:00:00 AM\n",
      "06/22/2015 12:00:00 AM \t 06/22/2015 12:00:00 AM\n",
      "03/22/2017 12:00:00 AM \t 03/22/2017 12:00:00 AM\n",
      "12/24/2014 12:00:00 AM \t 12/24/2014 12:00:00 AM\n",
      "08/22/2017 12:00:00 AM \t 08/22/2017 12:00:00 AM\n",
      "06/30/2014 12:00:00 AM \t 06/30/2014 12:00:00 AM\n",
      "12/20/2012 12:00:00 AM \t 12/20/2012 12:00:00 AM\n",
      "07/30/2015 12:00:00 AM \t 07/30/2015 12:00:00 AM\n",
      "12/24/2015 12:00:00 AM \t 12/24/2015 12:00:00 AM\n",
      "12/24/2015 12:00:00 AM \t 12/24/2015 12:00:00 AM\n",
      "======================\n",
      "\n",
      "\n"
     ]
    }
   ],
   "source": [
    "col = cleaned_columns[col_idx]\n",
    "print(\"column: \", col)\n",
    "print(\"Original,\\t Cleaned\\n\")\n",
    "for i in range(49):\n",
    "    print(df_sample_data[col].iloc[i], '\\t', df_temp[col].iloc[i])\n",
    "\n",
    "print('======================\\n\\n')\n",
    "col_idx += 1"
   ]
  },
  {
   "cell_type": "code",
   "execution_count": 313,
   "id": "9208000a",
   "metadata": {},
   "outputs": [],
   "source": [
    "fn += 50"
   ]
  },
  {
   "cell_type": "code",
   "execution_count": 314,
   "id": "ff308a0e",
   "metadata": {
    "scrolled": false
   },
   "outputs": [
    {
     "name": "stdout",
     "output_type": "stream",
     "text": [
      "column:  Approved Date\n",
      "Original,\t Cleaned\n",
      "\n",
      "07/14/2015 12:00:00 AM \t 07/14/2015 12:00:00 AM\n",
      "04/02/2015 12:00:00 AM \t 04/02/2015 12:00:00 AM\n",
      "01/10/2014 12:00:00 AM \t 01/10/2014 12:00:00 AM\n",
      "04/21/2015 12:00:00 AM \t 04/21/2015 12:00:00 AM\n",
      "10/08/2015 12:00:00 AM \t 10/08/2015 12:00:00 AM\n",
      "09/02/2014 12:00:00 AM \t 09/02/2014 12:00:00 AM\n",
      "nan \t nan\n",
      "02/04/2015 12:00:00 AM \t 02/04/2015 12:00:00 AM\n",
      "05/14/2014 12:00:00 AM \t 05/14/2014 12:00:00 AM\n",
      "07/01/2015 12:00:00 AM \t 07/01/2015 12:00:00 AM\n",
      "06/24/2013 12:00:00 AM \t 06/24/2013 12:00:00 AM\n",
      "10/28/2015 12:00:00 AM \t 10/28/2015 12:00:00 AM\n",
      "07/31/2015 12:00:00 AM \t 07/31/2015 12:00:00 AM\n",
      "12/08/2016 12:00:00 AM \t 12/08/2016 12:00:00 AM\n",
      "05/18/2015 12:00:00 AM \t 05/18/2015 12:00:00 AM\n",
      "06/27/2013 12:00:00 AM \t 06/27/2013 12:00:00 AM\n",
      "10/14/2014 12:00:00 AM \t 10/14/2014 12:00:00 AM\n",
      "05/27/2015 12:00:00 AM \t 05/27/2015 12:00:00 AM\n",
      "12/17/2015 12:00:00 AM \t 12/17/2015 12:00:00 AM\n",
      "09/19/2016 12:00:00 AM \t 09/19/2016 12:00:00 AM\n",
      "06/24/2016 12:00:00 AM \t 06/24/2016 12:00:00 AM\n",
      "05/23/2014 12:00:00 AM \t 05/23/2014 12:00:00 AM\n",
      "10/19/2015 12:00:00 AM \t 10/19/2015 12:00:00 AM\n",
      "12/01/2014 12:00:00 AM \t 12/01/2014 12:00:00 AM\n",
      "06/30/2015 12:00:00 AM \t 06/30/2015 12:00:00 AM\n",
      "04/28/2015 12:00:00 AM \t 04/28/2015 12:00:00 AM\n",
      "03/15/2017 12:00:00 AM \t 03/15/2017 12:00:00 AM\n",
      "06/22/2015 12:00:00 AM \t 06/22/2015 12:00:00 AM\n",
      "09/21/2016 12:00:00 AM \t 09/21/2016 12:00:00 AM\n",
      "01/04/2017 12:00:00 AM \t 01/04/2017 12:00:00 AM\n",
      "07/10/2015 12:00:00 AM \t 07/10/2015 12:00:00 AM\n",
      "02/15/2017 12:00:00 AM \t 02/15/2017 12:00:00 AM\n",
      "09/16/2014 12:00:00 AM \t 09/16/2014 12:00:00 AM\n",
      "06/02/2014 12:00:00 AM \t 06/02/2014 12:00:00 AM\n",
      "03/22/2017 12:00:00 AM \t 03/22/2017 12:00:00 AM\n",
      "11/20/2014 12:00:00 AM \t 11/20/2014 12:00:00 AM\n",
      "10/28/2015 12:00:00 AM \t 10/28/2015 12:00:00 AM\n",
      "01/04/2017 12:00:00 AM \t 01/04/2017 12:00:00 AM\n",
      "07/13/2015 12:00:00 AM \t 07/13/2015 12:00:00 AM\n",
      "08/27/2013 12:00:00 AM \t 08/27/2013 12:00:00 AM\n",
      "10/15/2015 12:00:00 AM \t 10/15/2015 12:00:00 AM\n",
      "04/14/2017 12:00:00 AM \t 04/14/2017 12:00:00 AM\n",
      "04/24/2015 12:00:00 AM \t 04/24/2015 12:00:00 AM\n",
      "10/17/2017 12:00:00 AM \t 10/17/2017 12:00:00 AM\n",
      "08/22/2014 12:00:00 AM \t 08/22/2014 12:00:00 AM\n",
      "05/30/2013 12:00:00 AM \t 05/30/2013 12:00:00 AM\n",
      "08/06/2015 12:00:00 AM \t 08/06/2015 12:00:00 AM\n",
      "01/28/2016 12:00:00 AM \t 01/28/2016 12:00:00 AM\n",
      "12/28/2015 12:00:00 AM \t 12/28/2015 12:00:00 AM\n",
      "======================\n",
      "\n",
      "\n"
     ]
    }
   ],
   "source": [
    "col = cleaned_columns[col_idx]\n",
    "print(\"column: \", col)\n",
    "print(\"Original,\\t Cleaned\\n\")\n",
    "for i in range(49):\n",
    "    print(df_sample_data[col].iloc[i], '\\t', df_temp[col].iloc[i])\n",
    "\n",
    "print('======================\\n\\n')\n",
    "col_idx += 1"
   ]
  },
  {
   "cell_type": "code",
   "execution_count": 315,
   "id": "e713a3d8",
   "metadata": {},
   "outputs": [],
   "source": [
    "fn += 50"
   ]
  },
  {
   "cell_type": "code",
   "execution_count": 316,
   "id": "2b6c94b1",
   "metadata": {},
   "outputs": [
    {
     "name": "stdout",
     "output_type": "stream",
     "text": [
      "column:  Fully Permitted\n",
      "Original,\t Cleaned\n",
      "\n",
      "11/29/2016 12:00:00 AM \t 11/29/2016 12:00:00 AM\n",
      "04/06/2015 12:00:00 AM \t 04/06/2015 12:00:00 AM\n",
      "01/10/2014 12:00:00 AM \t 01/10/2014 12:00:00 AM\n",
      "05/29/2015 12:00:00 AM \t 05/29/2015 12:00:00 AM\n",
      "10/19/2015 12:00:00 AM \t 10/19/2015 12:00:00 AM\n",
      "09/04/2014 12:00:00 AM \t 09/04/2014 12:00:00 AM\n",
      "nan \t nan\n",
      "02/05/2015 12:00:00 AM \t 02/05/2015 12:00:00 AM\n",
      "05/21/2014 12:00:00 AM \t 05/21/2014 12:00:00 AM\n",
      "07/06/2015 12:00:00 AM \t 07/06/2015 12:00:00 AM\n",
      "08/14/2013 12:00:00 AM \t 08/14/2013 12:00:00 AM\n",
      "11/05/2015 12:00:00 AM \t 11/05/2015 12:00:00 AM\n",
      "08/18/2015 12:00:00 AM \t 08/18/2015 12:00:00 AM\n",
      "12/19/2016 12:00:00 AM \t 12/19/2016 12:00:00 AM\n",
      "05/21/2015 12:00:00 AM \t 05/21/2015 12:00:00 AM\n",
      "08/05/2013 12:00:00 AM \t 08/05/2013 12:00:00 AM\n",
      "10/17/2014 12:00:00 AM \t 10/17/2014 12:00:00 AM\n",
      "12/08/2015 12:00:00 AM \t 12/08/2015 12:00:00 AM\n",
      "12/18/2015 12:00:00 AM \t 12/18/2015 12:00:00 AM\n",
      "09/20/2016 12:00:00 AM \t 09/20/2016 12:00:00 AM\n",
      "06/28/2016 12:00:00 AM \t 06/28/2016 12:00:00 AM\n",
      "05/27/2014 12:00:00 AM \t 05/27/2014 12:00:00 AM\n",
      "11/02/2015 12:00:00 AM \t 11/02/2015 12:00:00 AM\n",
      "02/24/2015 12:00:00 AM \t 02/24/2015 12:00:00 AM\n",
      "06/30/2015 12:00:00 AM \t 06/30/2015 12:00:00 AM\n",
      "02/15/2017 12:00:00 AM \t 02/15/2017 12:00:00 AM\n",
      "03/16/2017 12:00:00 AM \t 03/16/2017 12:00:00 AM\n",
      "06/23/2015 12:00:00 AM \t 06/23/2015 12:00:00 AM\n",
      "09/28/2016 12:00:00 AM \t 09/28/2016 12:00:00 AM\n",
      "01/04/2017 12:00:00 AM \t 01/04/2017 12:00:00 AM\n",
      "07/27/2015 12:00:00 AM \t 07/27/2015 12:00:00 AM\n",
      "03/01/2017 12:00:00 AM \t 03/01/2017 12:00:00 AM\n",
      "09/18/2014 12:00:00 AM \t 09/18/2014 12:00:00 AM\n",
      "06/03/2014 12:00:00 AM \t 06/03/2014 12:00:00 AM\n",
      "03/24/2017 12:00:00 AM \t 03/24/2017 12:00:00 AM\n",
      "11/21/2014 12:00:00 AM \t 11/21/2014 12:00:00 AM\n",
      "10/30/2015 12:00:00 AM \t 10/30/2015 12:00:00 AM\n",
      "01/04/2017 12:00:00 AM \t 01/04/2017 12:00:00 AM\n",
      "07/17/2015 12:00:00 AM \t 07/17/2015 12:00:00 AM\n",
      "09/06/2013 12:00:00 AM \t 09/06/2013 12:00:00 AM\n",
      "12/18/2015 12:00:00 AM \t 12/18/2015 12:00:00 AM\n",
      "04/19/2017 12:00:00 AM \t 04/19/2017 12:00:00 AM\n",
      "05/20/2015 12:00:00 AM \t 05/20/2015 12:00:00 AM\n",
      "11/01/2017 12:00:00 AM \t 11/01/2017 12:00:00 AM\n",
      "08/25/2014 12:00:00 AM \t 08/25/2014 12:00:00 AM\n",
      "05/30/2013 12:00:00 AM \t 05/30/2013 12:00:00 AM\n",
      "08/11/2015 12:00:00 AM \t 08/11/2015 12:00:00 AM\n",
      "01/29/2016 12:00:00 AM \t 01/29/2016 12:00:00 AM\n",
      "12/31/2015 12:00:00 AM \t 12/31/2015 12:00:00 AM\n",
      "======================\n",
      "\n",
      "\n"
     ]
    }
   ],
   "source": [
    "col = cleaned_columns[col_idx]\n",
    "print(\"column: \", col)\n",
    "print(\"Original,\\t Cleaned\\n\")\n",
    "for i in range(49):\n",
    "    print(df_sample_data[col].iloc[i], '\\t', df_temp[col].iloc[i])\n",
    "\n",
    "print('======================\\n\\n')\n",
    "col_idx += 1"
   ]
  },
  {
   "cell_type": "code",
   "execution_count": 317,
   "id": "e4152792",
   "metadata": {},
   "outputs": [],
   "source": [
    "fn += 50"
   ]
  },
  {
   "cell_type": "code",
   "execution_count": 318,
   "id": "ae625884",
   "metadata": {},
   "outputs": [
    {
     "name": "stdout",
     "output_type": "stream",
     "text": [
      "column:  Initial Cost\n",
      "Original,\t Cleaned\n",
      "\n",
      "9000 \t 9000.0\n",
      "9500 \t 9500.0\n",
      "30000 \t 30000.0\n",
      "5400 \t 5400.0\n",
      "88000 \t 88000.0\n",
      "9500 \t 9500.0\n",
      "nan \t nan\n",
      "15300 \t 15300.0\n",
      "9500 \t 9500.0\n",
      "20000 \t 20000.0\n",
      "30000 \t 30000.0\n",
      "25000 \t 25000.0\n",
      "5000 \t 5000.0\n",
      "9000 \t 9000.0\n",
      "15000 \t 15000.0\n",
      "30000 \t 30000.0\n",
      "5500 \t 5500.0\n",
      "15000 \t 15000.0\n",
      "15000 \t 15000.0\n",
      "4400 \t 4400.0\n",
      "10000 \t 10000.0\n",
      "20000 \t 20000.0\n",
      "25000 \t 25000.0\n",
      "20000 \t 20000.0\n",
      "12300 \t 12300.0\n",
      "7500 \t 7500.0\n",
      "10000 \t 10000.0\n",
      "15200 \t 15200.0\n",
      "20000 \t 20000.0\n",
      "25000 \t 25000.0\n",
      "20000 \t 20000.0\n",
      "5000 \t 5000.0\n",
      "10000 \t 10000.0\n",
      "69000 \t 69000.0\n",
      "8600 \t 8600.0\n",
      "35000 \t 35000.0\n",
      "45000 \t 45000.0\n",
      "6000 \t 6000.0\n",
      "25000 \t 25000.0\n",
      "6600 \t 6600.0\n",
      "51000 \t 51000.0\n",
      "20000 \t 20000.0\n",
      "20000 \t 20000.0\n",
      "74000 \t 74000.0\n",
      "1000 \t 1000.0\n",
      "25000 \t 25000.0\n",
      "25000 \t 25000.0\n",
      "14000 \t 14000.0\n",
      "20000 \t 20000.0\n",
      "======================\n",
      "\n",
      "\n"
     ]
    }
   ],
   "source": [
    "col = cleaned_columns[col_idx]\n",
    "print(\"column: \", col)\n",
    "print(\"Original,\\t Cleaned\\n\")\n",
    "for i in range(49):\n",
    "    print(df_sample_data[col].iloc[i], '\\t', df_temp[col].iloc[i])\n",
    "\n",
    "print('======================\\n\\n')\n",
    "col_idx += 1"
   ]
  },
  {
   "cell_type": "code",
   "execution_count": 319,
   "id": "532dfdd9",
   "metadata": {},
   "outputs": [],
   "source": [
    "fn += 1"
   ]
  },
  {
   "cell_type": "code",
   "execution_count": 320,
   "id": "1a181881",
   "metadata": {
    "scrolled": false
   },
   "outputs": [
    {
     "name": "stdout",
     "output_type": "stream",
     "text": [
      "column:  Total Estimated Fee\n",
      "Original,\t Cleaned\n",
      "\n",
      "276.2 \t 276.2\n",
      "286.5 \t 286.5\n",
      "492.5 \t 492.5\n",
      "245.3 \t 245.3\n",
      "1089.9 \t 1089.9\n",
      "286.5 \t 286.5\n",
      "nan \t nan\n",
      "348.3 \t 348.3\n",
      "286.5 \t 286.5\n",
      "389.5 \t 389.5\n",
      "492.5 \t 492.5\n",
      "441 \t 441.0\n",
      "235 \t 235.0\n",
      "276.2 \t 276.2\n",
      "338 \t 338.0\n",
      "492.5 \t 492.5\n",
      "245.3 \t 245.3\n",
      "338 \t 338.0\n",
      "338 \t 338.0\n",
      "235 \t 235.0\n",
      "286.5 \t 286.5\n",
      "389.5 \t 389.5\n",
      "441 \t 441.0\n",
      "389.5 \t 389.5\n",
      "317.4 \t 317.4\n",
      "265.9 \t 265.9\n",
      "286.5 \t 286.5\n",
      "348.3 \t 348.3\n",
      "389.5 \t 389.5\n",
      "441 \t 441.0\n",
      "389.5 \t 389.5\n",
      "235 \t 235.0\n",
      "286.5 \t 286.5\n",
      "894.2 \t 894.2\n",
      "276.2 \t 276.2\n",
      "544 \t 544.0\n",
      "647 \t 647.0\n",
      "245.3 \t 245.3\n",
      "441 \t 441.0\n",
      "255.6 \t 255.6\n",
      "708.8 \t 708.8\n",
      "389.5 \t 389.5\n",
      "389.5 \t 389.5\n",
      "945.7 \t 945.7\n",
      "195 \t 195.0\n",
      "441 \t 441.0\n",
      "441 \t 441.0\n",
      "327.7 \t 327.7\n",
      "389.5 \t 389.5\n",
      "======================\n",
      "\n",
      "\n"
     ]
    }
   ],
   "source": [
    "col = cleaned_columns[col_idx]\n",
    "print(\"column: \", col)\n",
    "print(\"Original,\\t Cleaned\\n\")\n",
    "for i in range(49):\n",
    "    print(df_sample_data[col].iloc[i], '\\t', df_temp[col].iloc[i])\n",
    "\n",
    "print('======================\\n\\n')\n",
    "col_idx += 1"
   ]
  },
  {
   "cell_type": "code",
   "execution_count": 321,
   "id": "d8a4d19f",
   "metadata": {},
   "outputs": [],
   "source": [
    "tp += 15\n",
    "fn += 2"
   ]
  },
  {
   "cell_type": "code",
   "execution_count": 322,
   "id": "68c691a9",
   "metadata": {},
   "outputs": [
    {
     "name": "stdout",
     "output_type": "stream",
     "text": [
      "column:  Fee Status\n",
      "Original,\t Cleaned\n",
      "\n",
      "STANDARD \t STANDARD\n",
      "STANDARD \t STANDARD\n",
      "STANDARD \t STANDARD\n",
      "STANDARD \t STANDARD\n",
      "STANDARD \t STANDARD\n",
      "STANDARD \t STANDARD\n",
      "nan \t nan\n",
      "STANDARD \t STANDARD\n",
      "STANDARD \t STANDARD\n",
      "STANDARD \t STANDARD\n",
      "STANDARD \t STANDARD\n",
      "STANDARD \t STANDARD\n",
      "STANDARD \t STANDARD\n",
      "STANDARD \t STANDARD\n",
      "STANDARD \t STANDARD\n",
      "STANDARD \t STANDARD\n",
      "STANDARD \t STANDARD\n",
      "STANDARD \t STANDARD\n",
      "STANDARD \t STANDARD\n",
      "STANDARD \t STANDARD\n",
      "STANDARD \t STANDARD\n",
      "STANDARD \t STANDARD\n",
      "STANDARD \t STANDARD\n",
      "STANDARD \t STANDARD\n",
      "STANDARD \t STANDARD\n",
      "STANDARD \t STANDARD\n",
      "STANDARD \t STANDARD\n",
      "STANDARD \t STANDARD\n",
      "STANDARD \t STANDARD\n",
      "STANDARD \t STANDARD\n",
      "STANDARD \t STANDARD\n",
      "STANDARD \t STANDARD\n",
      "STANDARD \t STANDARD\n",
      "STANDARD \t STANDARD\n",
      "STANDARD \t STANDARD\n",
      "STANDARD \t STANDARD\n",
      "STANDARD \t STANDARD\n",
      "STANDARD \t STANDARD\n",
      "STANDARD \t STANDARD\n",
      "STANDARD \t STANDARD\n",
      "STANDARD \t STANDARD\n",
      "STANDARD \t STANDARD\n",
      "STANDARD \t STANDARD\n",
      "STANDARD \t STANDARD\n",
      "STANDARD \t STANDARD\n",
      "STANDARD \t STANDARD\n",
      "STANDARD \t STANDARD\n",
      "STANDARD \t STANDARD\n",
      "STANDARD \t STANDARD\n",
      "======================\n",
      "\n",
      "\n"
     ]
    }
   ],
   "source": [
    "col = cleaned_columns[col_idx]\n",
    "print(\"column: \", col)\n",
    "print(\"Original,\\t Cleaned\\n\")\n",
    "for i in range(49):\n",
    "    print(df_sample_data[col].iloc[i], '\\t', df_temp[col].iloc[i])\n",
    "\n",
    "print('======================\\n\\n')\n",
    "col_idx += 1"
   ]
  },
  {
   "cell_type": "code",
   "execution_count": 323,
   "id": "0d64fc05",
   "metadata": {},
   "outputs": [],
   "source": [
    "# didn't look at this"
   ]
  },
  {
   "cell_type": "code",
   "execution_count": 324,
   "id": "757c8bcf",
   "metadata": {
    "scrolled": true
   },
   "outputs": [
    {
     "name": "stdout",
     "output_type": "stream",
     "text": [
      "column:  Zoning District 1\n",
      "Original,\t Cleaned\n",
      "\n",
      "R7A          \t R7A         \n",
      "C6-6.5       \t C6-6.5      \n",
      "R6           \t R6          \n",
      "R3-2         \t R3-2        \n",
      "R3X          \t R3X         \n",
      "R5B          \t R5B         \n",
      "nan \t nan\n",
      "C6-4         \t C6-4        \n",
      "C8-1         \t C8-1        \n",
      "C1-9         \t C1-9        \n",
      "R6           \t R6          \n",
      "R4-1         \t R4-1        \n",
      "M1-1         \t M1-1        \n",
      "R5A          \t R5A         \n",
      "M1-2         \t M1-2        \n",
      "R7A          \t R7A         \n",
      "R6           \t R6          \n",
      "R5D          \t R5D         \n",
      "R8           \t R8          \n",
      "M1-3         \t M1-3        \n",
      "R5           \t R5          \n",
      "M1-6         \t M1-6        \n",
      "R4           \t R4          \n",
      "R6           \t R6          \n",
      "R6           \t R6          \n",
      "R6B          \t R6B         \n",
      "R5           \t R5          \n",
      "R6           \t R6          \n",
      "R4           \t R4          \n",
      "R7-2         \t R7-2        \n",
      "R5A          \t R5A         \n",
      "R7-2         \t R7-2        \n",
      "M1-1         \t M1-1        \n",
      "R5           \t R5          \n",
      "C1-8X        \t C1-8X       \n",
      "R6A          \t R6A         \n",
      "R5B          \t R5B         \n",
      "R6           \t R6          \n",
      "R5           \t R5          \n",
      "C4-7         \t C4-7        \n",
      "C5-3         \t C5-3        \n",
      "C1-9         \t C1-9        \n",
      "R7-2         \t R7-2        \n",
      "R5           \t R5          \n",
      "R7-2         \t R7-2        \n",
      "M3-1         \t M3-1        \n",
      "R5           \t R5          \n",
      "R3-2         \t R3-2        \n",
      "R6A          \t R6A         \n",
      "======================\n",
      "\n",
      "\n"
     ]
    }
   ],
   "source": [
    "col = cleaned_columns[col_idx]\n",
    "print(\"column: \", col)\n",
    "print(\"Original,\\t Cleaned\\n\")\n",
    "for i in range(49):\n",
    "    print(df_sample_data[col].iloc[i], '\\t', df_temp[col].iloc[i])\n",
    "\n",
    "print('======================\\n\\n')\n",
    "col_idx += 1"
   ]
  },
  {
   "cell_type": "code",
   "execution_count": 325,
   "id": "1b42a658",
   "metadata": {},
   "outputs": [],
   "source": [
    "fn += 1"
   ]
  },
  {
   "cell_type": "code",
   "execution_count": 326,
   "id": "3dd6d1d6",
   "metadata": {
    "scrolled": true
   },
   "outputs": [
    {
     "name": "stdout",
     "output_type": "stream",
     "text": [
      "column:  Zoning District 2\n",
      "Original,\t Cleaned\n",
      "\n",
      "nan \t nan\n",
      "C6-6         \t C6-6        \n",
      "nan \t nan\n",
      "nan \t nan\n",
      "nan \t nan\n",
      "nan \t nan\n",
      "nan \t nan\n",
      "nan \t nan\n",
      "nan \t nan\n",
      "nan \t nan\n",
      "nan \t nan\n",
      "nan \t nan\n",
      "nan \t nan\n",
      "nan \t nan\n",
      "nan \t nan\n",
      "nan \t nan\n",
      "nan \t nan\n",
      "nan \t nan\n",
      "nan \t nan\n",
      "nan \t nan\n",
      "nan \t nan\n",
      "nan \t nan\n",
      "nan \t nan\n",
      "nan \t nan\n",
      "nan \t nan\n",
      "nan \t nan\n",
      "nan \t nan\n",
      "nan \t nan\n",
      "nan \t nan\n",
      "nan \t nan\n",
      "nan \t nan\n",
      "nan \t nan\n",
      "nan \t nan\n",
      "nan \t nan\n",
      "nan \t nan\n",
      "nan \t nan\n",
      "nan \t nan\n",
      "nan \t nan\n",
      "nan \t nan\n",
      "nan \t nan\n",
      "nan \t nan\n",
      "nan \t nan\n",
      "nan \t nan\n",
      "nan \t nan\n",
      "nan \t nan\n",
      "nan \t nan\n",
      "nan \t nan\n",
      "nan \t nan\n",
      "nan \t nan\n",
      "======================\n",
      "\n",
      "\n"
     ]
    }
   ],
   "source": [
    "col = cleaned_columns[col_idx]\n",
    "print(\"column: \", col)\n",
    "print(\"Original,\\t Cleaned\\n\")\n",
    "for i in range(49):\n",
    "    print(df_sample_data[col].iloc[i], '\\t', df_temp[col].iloc[i])\n",
    "\n",
    "print('======================\\n\\n')\n",
    "col_idx += 1"
   ]
  },
  {
   "cell_type": "code",
   "execution_count": 327,
   "id": "ee594685",
   "metadata": {},
   "outputs": [],
   "source": [
    "fn += 49"
   ]
  },
  {
   "cell_type": "code",
   "execution_count": 328,
   "id": "f9c3920a",
   "metadata": {
    "scrolled": true
   },
   "outputs": [
    {
     "name": "stdout",
     "output_type": "stream",
     "text": [
      "column:  Zoning District 3\n",
      "Original,\t Cleaned\n",
      "\n",
      "nan \t nan\n",
      "nan \t nan\n",
      "nan \t nan\n",
      "nan \t nan\n",
      "nan \t nan\n",
      "nan \t nan\n",
      "nan \t nan\n",
      "nan \t nan\n",
      "nan \t nan\n",
      "nan \t nan\n",
      "nan \t nan\n",
      "nan \t nan\n",
      "nan \t nan\n",
      "nan \t nan\n",
      "nan \t nan\n",
      "nan \t nan\n",
      "nan \t nan\n",
      "nan \t nan\n",
      "nan \t nan\n",
      "nan \t nan\n",
      "nan \t nan\n",
      "nan \t nan\n",
      "nan \t nan\n",
      "nan \t nan\n",
      "nan \t nan\n",
      "nan \t nan\n",
      "nan \t nan\n",
      "nan \t nan\n",
      "nan \t nan\n",
      "nan \t nan\n",
      "nan \t nan\n",
      "nan \t nan\n",
      "nan \t nan\n",
      "nan \t nan\n",
      "nan \t nan\n",
      "nan \t nan\n",
      "nan \t nan\n",
      "nan \t nan\n",
      "nan \t nan\n",
      "nan \t nan\n",
      "nan \t nan\n",
      "nan \t nan\n",
      "nan \t nan\n",
      "nan \t nan\n",
      "nan \t nan\n",
      "nan \t nan\n",
      "nan \t nan\n",
      "nan \t nan\n",
      "nan \t nan\n",
      "======================\n",
      "\n",
      "\n"
     ]
    }
   ],
   "source": [
    "col = cleaned_columns[col_idx]\n",
    "print(\"column: \", col)\n",
    "print(\"Original,\\t Cleaned\\n\")\n",
    "for i in range(49):\n",
    "    print(df_sample_data[col].iloc[i], '\\t', df_temp[col].iloc[i])\n",
    "\n",
    "print('======================\\n\\n')\n",
    "col_idx += 1"
   ]
  },
  {
   "cell_type": "code",
   "execution_count": 329,
   "id": "18670fec",
   "metadata": {},
   "outputs": [],
   "source": [
    "# didn't look at"
   ]
  },
  {
   "cell_type": "code",
   "execution_count": 330,
   "id": "16cddb5e",
   "metadata": {
    "scrolled": true
   },
   "outputs": [
    {
     "name": "stdout",
     "output_type": "stream",
     "text": [
      "column:  Special District 1\n",
      "Original,\t Cleaned\n",
      "\n",
      "nan \t nan\n",
      "MID    \t MID   \n",
      "nan \t nan\n",
      "nan \t nan\n",
      "SRD    \t SRD   \n",
      "nan \t nan\n",
      "nan \t nan\n",
      "LM     \t LM    \n",
      "nan \t nan\n",
      "nan \t nan\n",
      "nan \t nan\n",
      "nan \t nan\n",
      "nan \t nan\n",
      "nan \t nan\n",
      "nan \t nan\n",
      "BR     \t BR    \n",
      "nan \t nan\n",
      "nan \t nan\n",
      "nan \t nan\n",
      "nan \t nan\n",
      "nan \t nan\n",
      "GC     \t GC    \n",
      "nan \t nan\n",
      "nan \t nan\n",
      "PC     \t PC    \n",
      "nan \t nan\n",
      "nan \t nan\n",
      "nan \t nan\n",
      "nan \t nan\n",
      "nan \t nan\n",
      "nan \t nan\n",
      "nan \t nan\n",
      "nan \t nan\n",
      "nan \t nan\n",
      "nan \t nan\n",
      "nan \t nan\n",
      "nan \t nan\n",
      "nan \t nan\n",
      "nan \t nan\n",
      "L      \t L     \n",
      "nan \t nan\n",
      "nan \t nan\n",
      "nan \t nan\n",
      "nan \t nan\n",
      "nan \t nan\n",
      "nan \t nan\n",
      "nan \t nan\n",
      "SRD    \t SRD   \n",
      "nan \t nan\n",
      "======================\n",
      "\n",
      "\n"
     ]
    }
   ],
   "source": [
    "col = cleaned_columns[col_idx]\n",
    "print(\"column: \", col)\n",
    "print(\"Original,\\t Cleaned\\n\")\n",
    "for i in range(49):\n",
    "    print(df_sample_data[col].iloc[i], '\\t', df_temp[col].iloc[i])\n",
    "\n",
    "print('======================\\n\\n')\n",
    "col_idx += 1"
   ]
  },
  {
   "cell_type": "code",
   "execution_count": 331,
   "id": "48bc21c7",
   "metadata": {},
   "outputs": [],
   "source": [
    "# didnt' look at"
   ]
  },
  {
   "cell_type": "code",
   "execution_count": 332,
   "id": "f21c2ec2",
   "metadata": {
    "scrolled": true
   },
   "outputs": [
    {
     "name": "stdout",
     "output_type": "stream",
     "text": [
      "column:  Special Distr 2 \n",
      "Original,\t Cleaned\n",
      "\n",
      "nan \t nan\n",
      "nan \t nan\n",
      "nan \t nan\n",
      "nan \t nan\n",
      "nan \t nan\n",
      "nan \t nan\n",
      "nan \t nan\n",
      "nan \t nan\n",
      "IBZ    \t IBZ   \n",
      "nan \t nan\n",
      "nan \t nan\n",
      "nan \t nan\n",
      "IBZ    \t IBZ   \n",
      "nan \t nan\n",
      "nan \t nan\n",
      "nan \t nan\n",
      "nan \t nan\n",
      "nan \t nan\n",
      "nan \t nan\n",
      "IBZ    \t IBZ   \n",
      "nan \t nan\n",
      "IBZ    \t IBZ   \n",
      "nan \t nan\n",
      "nan \t nan\n",
      "nan \t nan\n",
      "nan \t nan\n",
      "nan \t nan\n",
      "nan \t nan\n",
      "nan \t nan\n",
      "nan \t nan\n",
      "nan \t nan\n",
      "nan \t nan\n",
      "IBZ    \t IBZ   \n",
      "nan \t nan\n",
      "nan \t nan\n",
      "JAM    \t JAM   \n",
      "nan \t nan\n",
      "nan \t nan\n",
      "nan \t nan\n",
      "nan \t nan\n",
      "nan \t nan\n",
      "nan \t nan\n",
      "nan \t nan\n",
      "nan \t nan\n",
      "nan \t nan\n",
      "nan \t nan\n",
      "nan \t nan\n",
      "nan \t nan\n",
      "nan \t nan\n",
      "======================\n",
      "\n",
      "\n"
     ]
    }
   ],
   "source": [
    "col = cleaned_columns[col_idx]\n",
    "print(\"column: \", col)\n",
    "print(\"Original,\\t Cleaned\\n\")\n",
    "for i in range(49):\n",
    "    print(df_sample_data[col].iloc[i], '\\t', df_temp[col].iloc[i])\n",
    "\n",
    "print('======================\\n\\n')\n",
    "col_idx += 1"
   ]
  },
  {
   "cell_type": "code",
   "execution_count": 333,
   "id": "98e5b048",
   "metadata": {},
   "outputs": [],
   "source": [
    "# didn't look at"
   ]
  },
  {
   "cell_type": "code",
   "execution_count": 334,
   "id": "c088469a",
   "metadata": {
    "scrolled": true
   },
   "outputs": [
    {
     "name": "stdout",
     "output_type": "stream",
     "text": [
      "column:  Non-Profit\n",
      "Original,\t Cleaned\n",
      "\n",
      "N \t False\n",
      "N \t False\n",
      "N \t False\n",
      "N \t False\n",
      "N \t False\n",
      "N \t False\n",
      "nan \t False\n",
      "N \t False\n",
      "N \t False\n",
      "N \t False\n",
      "N \t False\n",
      "N \t False\n",
      "N \t False\n",
      "N \t False\n",
      "N \t False\n",
      "N \t False\n",
      "N \t False\n",
      "N \t False\n",
      "N \t False\n",
      "N \t False\n",
      "N \t False\n",
      "N \t False\n",
      "N \t False\n",
      "N \t False\n",
      "N \t False\n",
      "N \t False\n",
      "N \t False\n",
      "N \t False\n",
      "N \t False\n",
      "N \t False\n",
      "N \t False\n",
      "N \t False\n",
      "N \t False\n",
      "N \t False\n",
      "N \t False\n",
      "N \t False\n",
      "N \t False\n",
      "N \t False\n",
      "N \t False\n",
      "N \t False\n",
      "N \t False\n",
      "N \t False\n",
      "N \t False\n",
      "N \t False\n",
      "N \t False\n",
      "N \t False\n",
      "N \t False\n",
      "N \t False\n",
      "N \t False\n",
      "======================\n",
      "\n",
      "\n"
     ]
    }
   ],
   "source": [
    "col = cleaned_columns[col_idx]\n",
    "print(\"column: \", col)\n",
    "print(\"Original,\\t Cleaned\\n\")\n",
    "for i in range(49):\n",
    "    print(df_sample_data[col].iloc[i], '\\t', df_temp[col].iloc[i])\n",
    "\n",
    "print('======================\\n\\n')\n",
    "col_idx += 1"
   ]
  },
  {
   "cell_type": "code",
   "execution_count": 335,
   "id": "9f7fe6fd",
   "metadata": {},
   "outputs": [],
   "source": [
    "tp += 50"
   ]
  },
  {
   "cell_type": "code",
   "execution_count": 336,
   "id": "7429fb92",
   "metadata": {
    "scrolled": true
   },
   "outputs": [
    {
     "name": "stdout",
     "output_type": "stream",
     "text": [
      "column:  Owner's First Name\n",
      "Original,\t Cleaned\n",
      "\n",
      "ROBERT          \t ROBERT         \n",
      "LAURENS         \t LAURENS        \n",
      "SR. JOSEPH CATH \t SR. JOSEPH CATH\n",
      "RYAN            \t RYAN           \n",
      "LEONELLO        \t LEONELLO       \n",
      "FATHER ANTHONY  \t FATHER ANTHONY \n",
      "nan \t nan\n",
      "IBRAHIMA        \t IBRAHIMA       \n",
      "ZACHARY         \t ZACHARY        \n",
      "MARK            \t MARK           \n",
      "THOMAS          \t THOMAS         \n",
      "MARK            \t MARK           \n",
      "JOE             \t JOE            \n",
      "ROBERT          \t ROBERT         \n",
      "ROBERT          \t ROBERT         \n",
      "JOSEPH          \t JOSEPH         \n",
      "BRIENDY         \t BRIENDY        \n",
      "ROBERT          \t ROBERT         \n",
      "ROBERT          \t ROBERT         \n",
      "OREN            \t OREN           \n",
      "ROBERT          \t ROBERT         \n",
      "OMAR            \t OMAR           \n",
      "MARK            \t MARK           \n",
      "OMAR            \t OMAR           \n",
      "ROBERT          \t ROBERT         \n",
      "ROBERT          \t ROBERT         \n",
      "ALBERTO         \t ALBERTO        \n",
      "EFRAIN          \t EFRAIN         \n",
      "ROBERT          \t ROBERT         \n",
      "MARK            \t MARK           \n",
      "ROBERT          \t ROBERT         \n",
      "SCOTT           \t SCOTT          \n",
      "JOE             \t JOE            \n",
      "ABE             \t ABE            \n",
      "GREGG           \t GREGG          \n",
      "MIKE            \t MIKE           \n",
      "ROGER           \t ROGER          \n",
      "MITCH           \t MITCH          \n",
      "MARK            \t MARK           \n",
      "BRIAN           \t BRIAN          \n",
      "DANIEL          \t DANIEL         \n",
      "GREGG           \t GREGG          \n",
      "ROBERT          \t ROBERT         \n",
      "SANGULIN        \t SANGULIN       \n",
      "TIM             \t TIM            \n",
      "RICHARD         \t RICHARD        \n",
      "MARK            \t MARK           \n",
      "NORMAN          \t NORMAN         \n",
      "ROBERT          \t ROBERT         \n",
      "======================\n",
      "\n",
      "\n"
     ]
    }
   ],
   "source": [
    "col = cleaned_columns[col_idx]\n",
    "print(\"column: \", col)\n",
    "print(\"Original,\\t Cleaned\\n\")\n",
    "for i in range(49):\n",
    "    print(df_sample_data[col].iloc[i], '\\t', df_temp[col].iloc[i])\n",
    "\n",
    "print('======================\\n\\n')\n",
    "col_idx += 1"
   ]
  },
  {
   "cell_type": "code",
   "execution_count": 337,
   "id": "1b7f3ff5",
   "metadata": {},
   "outputs": [],
   "source": [
    "fn += 1"
   ]
  },
  {
   "cell_type": "code",
   "execution_count": 338,
   "id": "ae2098b0",
   "metadata": {
    "scrolled": true
   },
   "outputs": [
    {
     "name": "stdout",
     "output_type": "stream",
     "text": [
      "column:  Owner's Last Name\n",
      "Original,\t Cleaned\n",
      "\n",
      "CIAGLIA                        \t CIAGLIA                       \n",
      "ZIEREN                         \t ZIEREN                        \n",
      "RAYMOND                        \t RAYMOND                       \n",
      "MAYBECK                        \t MAYBECK                       \n",
      "SAVO, JR.                      \t SAVO, JR.                     \n",
      "SANSONE                        \t SANSONE                       \n",
      "nan \t nan\n",
      "BAGATE                         \t BAGATE                        \n",
      "DICKENS                        \t DICKENS                       \n",
      "BISHOP                         \t BISHOP                        \n",
      "DELUCIA                        \t DELUCIA                       \n",
      "BISHOP                         \t BISHOP                        \n",
      "SWEET                          \t SWEET                         \n",
      "CIAGLIA                        \t CIAGLIA                       \n",
      "CIAGLIA                        \t CIAGLIA                       \n",
      "PREZIOSO                       \t PREZIOSO                      \n",
      "MELNICKE                       \t MELNICKE                      \n",
      "CIAGLIA                        \t CIAGLIA                       \n",
      "CIAGLIA                        \t CIAGLIA                       \n",
      "PULKA                          \t PULKA                         \n",
      "CIAGLIA                        \t CIAGLIA                       \n",
      "IMRHAN                         \t IMRHAN                        \n",
      "BISHOP                         \t BISHOP                        \n",
      "IMRHAN                         \t IMRHAN                        \n",
      "CIAGLIA                        \t CIAGLIA                       \n",
      "CIAGLIA                        \t CIAGLIA                       \n",
      "ARROYO                         \t ARROYO                        \n",
      "NEGRON                         \t NEGRON                        \n",
      "CIAGLIA                        \t CIAGLIA                       \n",
      "BISHOP                         \t BISHOP                        \n",
      "CIAGLIA                        \t CIAGLIA                       \n",
      "GROOM                          \t GROOM                         \n",
      "SWEET                          \t SWEET                         \n",
      "ETHEM                          \t ETHEM                         \n",
      "BAILEY                         \t BAILEY                        \n",
      "OAKES                          \t OAKES                         \n",
      "VECCHIO                        \t VECCHIO                       \n",
      "HENRY                          \t HENRY                         \n",
      "BISHOP                         \t BISHOP                        \n",
      "BYRNE                          \t BYRNE                         \n",
      "DAVITT                         \t DAVITT                        \n",
      "BAILEY                         \t BAILEY                        \n",
      "CIAGLIA                        \t CIAGLIA                       \n",
      "BORIVOJ                        \t BORIVOJ                       \n",
      "DUNN                           \t DUNN                          \n",
      "ROSSI                          \t ROSSI                         \n",
      "BISHOP                         \t BISHOP                        \n",
      "TEPFER                         \t TEPFER                        \n",
      "CIAGLIA                        \t CIAGLIA                       \n",
      "======================\n",
      "\n",
      "\n"
     ]
    }
   ],
   "source": [
    "col = cleaned_columns[col_idx]\n",
    "print(\"column: \", col)\n",
    "print(\"Original,\\t Cleaned\\n\")\n",
    "for i in range(49):\n",
    "    print(df_sample_data[col].iloc[i], '\\t', df_temp[col].iloc[i])\n",
    "\n",
    "print('======================\\n\\n')\n",
    "col_idx += 1"
   ]
  },
  {
   "cell_type": "code",
   "execution_count": 339,
   "id": "7cfa345a",
   "metadata": {},
   "outputs": [],
   "source": [
    "fn += 2"
   ]
  },
  {
   "cell_type": "code",
   "execution_count": 340,
   "id": "1c9a1468",
   "metadata": {
    "scrolled": true
   },
   "outputs": [
    {
     "name": "stdout",
     "output_type": "stream",
     "text": [
      "column:  Owner's Business Name\n",
      "Original,\t Cleaned\n",
      "\n",
      "T-MOBILE                         \t T-MOBILE                        \n",
      "HILTON HOTEL CORPORATION         \t HILTON HOTEL CORPORATION        \n",
      "OZANAM HALL OF QUEENS NURSING HO \t OZANAM HALL OF QUEENS NURSING HO\n",
      "VERIZON WIRELESS                 \t VERIZON WIRELESS                \n",
      "WOODROW PLAZA, LLC # 2           \t WOODROW PLAZA LLC # 2          \n",
      "LADY OF THE MIRACULOUS MEDAL     \t LADY OF THE MIRACULOUS MEDAL    \n",
      "nan \t nan\n",
      "PACE UNIVERSITY                  \t PACE UNIVERSITY                 \n",
      "ESS PRISA III LLC                \t ESS PRISA III LLC               \n",
      "LENMARK COMPANY LLC              \t LENMARK COMPANY LLC             \n",
      "LUTHERAN MEDICAL CENTER          \t LUTHERAN MEDICAL CENTER         \n",
      "T-MOBILE                         \t T-MOBILE                        \n",
      "93-30 VAN WYCK ASSOCIATES        \t 93-30 VAN WYCK ASSOCIATES       \n",
      "T-MOBILE                         \t T-MOBILE                        \n",
      "T-MOBILE NORTHEAST LLC           \t T-MOBILE NORTHEAST LLC          \n",
      "SHORE ROAD TENNANTS CORP.        \t SHORE ROAD TENNANTS CORP       \n",
      "SNF PROPERTIES LLC C/O HERRICK F \t SNF PROPERTIES LLC C/O HERRICK F\n",
      "VICENT CAPOLBO                   \t VICENT CAPOLBO                  \n",
      "BARNARD COLLEGE                  \t BARNARD COLLEGE                 \n",
      "SPAR KNITWEAR CORP.              \t SPAR KNITWEAR CORP             \n",
      "UNISON SITE MANAGEMENT, LLC      \t UNISON SITE MANAGEMENT LLC     \n",
      "THE ARSENAL COMPANY, LLC         \t THE ARSENAL COMPANY LLC        \n",
      "T-MOBILE                         \t T-MOBILE                        \n",
      "1560 SILVER STREET               \t 1560 SILVER STREET              \n",
      "T-MOBILE                         \t T-MOBILE                        \n",
      "T-MOBILE                         \t T-MOBILE                        \n",
      "JACOBS, AS AGENT FOR TENANT      \t JACOBS AS AGENT FOR TENANT     \n",
      "PARKWAY APARTMENT OWNERS CORP    \t PARKWAY APARTMENT OWNERS CORP   \n",
      "T-MOBILE NORTHEAST LLC           \t T-MOBILE NORTHEAST LLC          \n",
      "T-MOBILE                         \t T-MOBILE                        \n",
      "T-MOBILE NORTHEAST LLC           \t T-MOBILE NORTHEAST LLC          \n",
      "NYC HOUSING AUTHORITY            \t NYC HOUSING AUTHORITY           \n",
      "93-30 VAN WYCK ASSOCIATES        \t 93-30 VAN WYCK ASSOCIATES       \n",
      "1040 NEILSON STREET OWNERS CORP. \t 1040 NEILSON STREET OWNERS CORP\n",
      "VENDOR, AS AGENT FOR TENANT      \t VENDOR AS AGENT FOR TENANT     \n",
      "HUDSON HOUSE, LLC                \t HUDSON HOUSE LLC               \n",
      "ROGER D. VECCHIO                 \t ROGER D VECCHIO                \n",
      "ROSNIN REALTY CO, LLC            \t ROSNIN REALTY CO LLC           \n",
      "T-MOBILE                         \t T-MOBILE                        \n",
      "FORDHAM UNIVERSITY               \t FORDHAM UNIVERSITY              \n",
      "NEW YORK LIFE INSURANCE COMPANY  \t NEW YORK LIFE INSURANCE COMPANY \n",
      "NEW CINGULAR WIRELESS PCS, LLC   \t NEW CINGULAR WIRELESS PCS LLC  \n",
      "LEXINGTON NORTH REALTY LTD.      \t LEXINGTON NORTH REALTY LTD     \n",
      "SANGULIN BORIVOJ                 \t SANGULIN BORIVOJ                \n",
      "SMARTLINK LLC                    \t SMARTLINK LLC                   \n",
      "ULYSSES ASSET SUB I, LLC         \t ULYSSES ASSET SUB I LLC        \n",
      "T-MOBILE                         \t T-MOBILE                        \n",
      "UNITED HEBREW CEMETARY           \t UNITED HEBREW CEMETARY          \n",
      "42-15 REALTY ASSOCIATES, LLC     \t 42-15 REALTY ASSOCIATES LLC    \n",
      "======================\n",
      "\n",
      "\n"
     ]
    }
   ],
   "source": [
    "col = cleaned_columns[col_idx]\n",
    "print(\"column: \", col)\n",
    "print(\"Original,\\t Cleaned\\n\")\n",
    "for i in range(49):\n",
    "    print(df_sample_data[col].iloc[i], '\\t', df_temp[col].iloc[i])\n",
    "\n",
    "print('======================\\n\\n')\n",
    "col_idx += 1"
   ]
  },
  {
   "cell_type": "code",
   "execution_count": 341,
   "id": "5ba367d5",
   "metadata": {},
   "outputs": [],
   "source": [
    "tp += 6\n",
    "fp += 2"
   ]
  },
  {
   "cell_type": "code",
   "execution_count": 342,
   "id": "bb2f83df",
   "metadata": {
    "scrolled": true
   },
   "outputs": [
    {
     "name": "stdout",
     "output_type": "stream",
     "text": [
      "column:  Owner's House #\n",
      "Original,\t Cleaned\n",
      "\n",
      "4            \t 4           \n",
      "1335         \t 1335        \n",
      "42-41        \t 42-41       \n",
      "4            \t 4           \n",
      "15           \t 15          \n",
      "62-81        \t 62-81       \n",
      "nan \t nan\n",
      "1            \t 1           \n",
      "201          \t 201         \n",
      "109          \t 109         \n",
      "150          \t 150         \n",
      "4            \t 4           \n",
      "93-30        \t 93-30       \n",
      "4            \t 4           \n",
      "4            \t 4           \n",
      "9437         \t 9437        \n",
      "2            \t 2           \n",
      "7718         \t 7718        \n",
      "3009         \t 3009        \n",
      "2121         \t 2121        \n",
      "110          \t 110         \n",
      "411          \t 411         \n",
      "4            \t 4           \n",
      "5600A        \t 5600A       \n",
      "4            \t 4           \n",
      "4            \t 4           \n",
      "299          \t 299         \n",
      "2860         \t 2860        \n",
      "4            \t 4           \n",
      "4            \t 4           \n",
      "4            \t 4           \n",
      "90           \t 90          \n",
      "93-30        \t 93-30       \n",
      "600          \t 600         \n",
      "ONE          \t ONE         \n",
      "88-05        \t 88-05       \n",
      "21-12        \t 21-12       \n",
      "PARK         \t PARK        \n",
      "4            \t 4           \n",
      "113          \t 113         \n",
      "110          \t 110         \n",
      "ONE          \t ONE         \n",
      "35-35        \t 35-35       \n",
      "15           \t 15          \n",
      "14           \t 14          \n",
      "10           \t 10          \n",
      "4            \t 4           \n",
      "122          \t 122         \n",
      "80           \t 80          \n",
      "======================\n",
      "\n",
      "\n"
     ]
    }
   ],
   "source": [
    "col = cleaned_columns[col_idx]\n",
    "print(\"column: \", col)\n",
    "print(\"Original,\\t Cleaned\\n\")\n",
    "for i in range(49):\n",
    "    print(df_sample_data[col].iloc[i], '\\t', df_temp[col].iloc[i])\n",
    "\n",
    "print('======================\\n\\n')\n",
    "col_idx += 1"
   ]
  },
  {
   "cell_type": "code",
   "execution_count": 343,
   "id": "b5c95b9b",
   "metadata": {},
   "outputs": [],
   "source": [
    "# didn't look at this\n"
   ]
  },
  {
   "cell_type": "code",
   "execution_count": 344,
   "id": "35d94f70",
   "metadata": {
    "scrolled": true
   },
   "outputs": [
    {
     "name": "stdout",
     "output_type": "stream",
     "text": [
      "column:  Owner's House Street Name\n",
      "Original,\t Cleaned\n",
      "\n",
      "SYLVAN WAY                       \t SYLVAN WAY                      \n",
      "SIXTH AVENUE                     \t SIXTH AVENUE                    \n",
      "201 STREET                       \t 201 STREET                      \n",
      "CENTEROCK RD                     \t CENTEROCK RD                    \n",
      "SEGUINE AVE                      \t SEGUINE AVE                     \n",
      "60TH STREET                      \t 60TH STREET                     \n",
      "nan \t nan\n",
      "PACE PLAZA                       \t PACE PLAZA                      \n",
      "64TH STREET                      \t 64TH STREET                     \n",
      "WEST 27TH STREET                 \t WEST 27TH STREET                \n",
      "55TH STREET                      \t 55TH STREET                     \n",
      "SYLVAN WAY                       \t SYLVAN WAY                      \n",
      "VAN WYCK EXPRESSWAY              \t VAN WYCK EXPRESSWAY             \n",
      "SYLVAN WAY                       \t SYLVAN WAY                      \n",
      "SYLVAN WAY                       \t SYLVAN WAY                      \n",
      "SHORE ROAD                       \t SHORE ROAD                      \n",
      "PARK AVENUE                      \t PARK AVENUE                     \n",
      "FLATLANDS AVENUE                 \t FLATLANDS AVENUE                \n",
      "BROADWAY                         \t BROADWAY                        \n",
      "41ST AVENUE                      \t 41ST AVENUE                     \n",
      "THOMAS JOHNSON DRIVE             \t THOMAS JOHNSON DRIVE            \n",
      "FIFTH AVENUE                     \t FIFTH AVENUE                    \n",
      "SYLVAN WAY                       \t SYLVAN WAY                      \n",
      "BROADWAY                         \t BROADWAY                        \n",
      "SYLVAN WAY                       \t SYLVAN WAY                      \n",
      "SYLVAN WAY                       \t SYLVAN WAY                      \n",
      "MADISON AVENUE                   \t MADISON AVENUE                  \n",
      "BAILEY AVENUE                    \t BAILEY AVENUE                   \n",
      "SYLVAN WAY                       \t SYLVAN WAY                      \n",
      "SYLVAN WAY                       \t SYLVAN WAY                      \n",
      "SYLVAN WAY                       \t SYLVAN WAY                      \n",
      "CHURCH STREET                    \t CHURCH STREET                   \n",
      "VAN WYCK EXPRESSWAY              \t VAN WYCK EXPRESSWAY             \n",
      "MAMARONECK AVE                   \t MAMARONECK AVE                  \n",
      "AT&T WAY                         \t AT&T WAY                        \n",
      "MERRICK BOULEVARD                \t MERRICK BOULEVARD               \n",
      "MENAHAN STREET                   \t MENAHAN STREET                  \n",
      "OF COMMERCE BOULEVARD            \t OF COMMERCE BOULEVARD           \n",
      "SYLVAN WAY                       \t SYLVAN WAY                      \n",
      "W 60 STREET                      \t W 60 STREET                     \n",
      "COKESBURY ROAD                   \t COKESBURY ROAD                  \n",
      "AT&T WAY                         \t AT&T WAY                        \n",
      "166TH STREET                     \t 166TH STREET                    \n",
      "16TH STREET                      \t 16TH STREET                     \n",
      "WALSH DRIVE                      \t WALSH DRIVE                     \n",
      "PRESIDENTIAL WAY                 \t PRESIDENTIAL WAY                \n",
      "SYLVAN WAY                       \t SYLVAN WAY                      \n",
      "ARTHUR KILL ROAD                 \t ARTHUR KILL ROAD                \n",
      "CUTTERMILL ROAD                  \t CUTTERMILL ROAD                 \n",
      "======================\n",
      "\n",
      "\n"
     ]
    }
   ],
   "source": [
    "col = cleaned_columns[col_idx]\n",
    "print(\"column: \", col)\n",
    "print(\"Original,\\t Cleaned\\n\")\n",
    "for i in range(49):\n",
    "    print(df_sample_data[col].iloc[i], '\\t', df_temp[col].iloc[i])\n",
    "\n",
    "print('======================\\n\\n')\n",
    "col_idx += 1"
   ]
  },
  {
   "cell_type": "code",
   "execution_count": 345,
   "id": "105fd91c",
   "metadata": {},
   "outputs": [],
   "source": [
    "# Nor this"
   ]
  },
  {
   "cell_type": "code",
   "execution_count": 346,
   "id": "4c411fef",
   "metadata": {
    "scrolled": true
   },
   "outputs": [
    {
     "name": "stdout",
     "output_type": "stream",
     "text": [
      "column:  Owner's House City\n",
      "Original,\t Cleaned\n",
      "\n",
      "PARSIPPANY      \t PARSIPPANY     \n",
      "NEW YORK        \t NEW YORK       \n",
      "BAYSIDE         \t BAYSIDE        \n",
      "WEST NYACK      \t WEST NYACK     \n",
      "STATEN ISLAND   \t STATEN ISLAND  \n",
      "QUEENS          \t QUEENS         \n",
      "nan \t nan\n",
      "NEW YORK        \t NEW YORK       \n",
      "BROOKLYN        \t BROOKLYN       \n",
      "NEW YORK        \t NEW YORK       \n",
      "BROOKLYN        \t BROOKLYN       \n",
      "PARSIPPANY      \t PARSIPPANY     \n",
      "QUEENS          \t QUEENS         \n",
      "PARSIPPANY      \t PARSIPPANY     \n",
      "PARSIPPANY      \t PARSIPPANY     \n",
      "BROOKLYN        \t BROOKLYN       \n",
      "NEW YORK        \t NEW YORK       \n",
      "BROOKLYN        \t BROOKLYN       \n",
      "NEW YORK        \t NEW YORK       \n",
      "LONG ISLAND CIT \t LONG ISLAND CITY\n",
      "FREDERICK       \t FREDERICK      \n",
      "NEW YORK        \t NEW YORK       \n",
      "PARSIPPANY      \t PARSIPPANY     \n",
      "BRONX           \t BRONX          \n",
      "PARSIPPANY      \t PARSIPPANY     \n",
      "PARSIPPANY      \t PARSIPPANY     \n",
      "MORRISTOWN      \t MORRISTOWN     \n",
      "BRONX           \t BRONX          \n",
      "PARSIPPANY      \t PARSIPPANY     \n",
      "PARSIPPANY      \t PARSIPPANY     \n",
      "PARSIPPANY      \t PARSIPPANY     \n",
      "NEW YORK        \t NEW YORK       \n",
      "QUEENS          \t QUEENS         \n",
      "HARRISON        \t HARRISON       \n",
      "BEDMINSTER      \t BEDMINSTER     \n",
      "JAMAICA         \t JAMAICA        \n",
      "RIDGEWOOD       \t RIDGEWOOD      \n",
      "BOCA RATON      \t BOCA RATON     \n",
      "PARSIPPANY      \t PARSIPPANY     \n",
      "NEW YORK        \t NEW YORK       \n",
      "LEBANON         \t LEBANON        \n",
      "BEDMINSTER      \t BEDMINSTER     \n",
      "FLUSHING        \t FLUSHING       \n",
      "BAYVILLE        \t BAYVILLE       \n",
      "PARSIPPANY      \t PARSIPPANY     \n",
      "WOBURN          \t WOBURN         \n",
      "PARSIPPANY      \t PARSIPPANY     \n",
      "STATEN ISLAND   \t STATEN ISLAND  \n",
      "GREAT NECK      \t GREAT NECK     \n",
      "======================\n",
      "\n",
      "\n"
     ]
    }
   ],
   "source": [
    "col = cleaned_columns[col_idx]\n",
    "print(\"column: \", col)\n",
    "print(\"Original,\\t Cleaned\\n\")\n",
    "for i in range(49):\n",
    "    print(df_sample_data[col].iloc[i], '\\t', df_temp[col].iloc[i])\n",
    "\n",
    "print('======================\\n\\n')\n",
    "col_idx += 1"
   ]
  },
  {
   "cell_type": "code",
   "execution_count": 347,
   "id": "9a3133e0",
   "metadata": {},
   "outputs": [],
   "source": [
    "tp += 1"
   ]
  },
  {
   "cell_type": "code",
   "execution_count": 348,
   "id": "bd9a4ba8",
   "metadata": {
    "scrolled": true
   },
   "outputs": [
    {
     "name": "stdout",
     "output_type": "stream",
     "text": [
      "column:  Owner's House State\n",
      "Original,\t Cleaned\n",
      "\n",
      "NJ \t NJ\n",
      "NY \t NY\n",
      "NY \t NY\n",
      "NY \t NY\n",
      "NY \t NY\n",
      "NY \t NY\n",
      "nan \t nan\n",
      "NY \t NY\n",
      "NY \t NY\n",
      "NY \t NY\n",
      "NY \t NY\n",
      "NJ \t NJ\n",
      "NY \t NY\n",
      "NJ \t NJ\n",
      "NJ \t NJ\n",
      "NY \t NY\n",
      "NY \t NY\n",
      "NY \t NY\n",
      "NY \t NY\n",
      "NY \t NY\n",
      "MD \t MD\n",
      "NY \t NY\n",
      "NJ \t NJ\n",
      "NY \t NY\n",
      "NJ \t NJ\n",
      "NJ \t NJ\n",
      "NJ \t NJ\n",
      "NY \t NY\n",
      "NJ \t NJ\n",
      "NJ \t NJ\n",
      "NJ \t NJ\n",
      "NY \t NY\n",
      "NY \t NY\n",
      "NY \t NY\n",
      "NJ \t NJ\n",
      "NY \t NY\n",
      "NY \t NY\n",
      "FL \t FL\n",
      "NJ \t NJ\n",
      "NY \t NY\n",
      "NJ \t NJ\n",
      "NJ \t NJ\n",
      "NY \t NY\n",
      "NY \t NY\n",
      "NJ \t NJ\n",
      "MA \t MA\n",
      "NJ \t NJ\n",
      "NY \t NY\n",
      "NY \t NY\n",
      "======================\n",
      "\n",
      "\n"
     ]
    }
   ],
   "source": [
    "col = cleaned_columns[col_idx]\n",
    "print(\"column: \", col)\n",
    "print(\"Original,\\t Cleaned\\n\")\n",
    "for i in range(49):\n",
    "    print(df_sample_data[col].iloc[i], '\\t', df_temp[col].iloc[i])\n",
    "\n",
    "print('======================\\n\\n')\n",
    "col_idx += 1"
   ]
  },
  {
   "cell_type": "code",
   "execution_count": 349,
   "id": "c001e3a0",
   "metadata": {},
   "outputs": [],
   "source": [
    "fn += 1"
   ]
  },
  {
   "cell_type": "code",
   "execution_count": 350,
   "id": "63a7143b",
   "metadata": {
    "scrolled": false
   },
   "outputs": [
    {
     "name": "stdout",
     "output_type": "stream",
     "text": [
      "column:  Zip Code\n",
      "Original,\t Cleaned\n",
      "\n",
      "07054     \t 07054    \n",
      "10019     \t 10019    \n",
      "11361     \t 11361    \n",
      "10994     \t 10994    \n",
      "10309     \t 10309    \n",
      "11385     \t 11385    \n",
      "nan \t nan\n",
      "10038     \t 10038    \n",
      "11220     \t 11220    \n",
      "10001     \t 10001    \n",
      "11220     \t 11220    \n",
      "07054     \t 07054    \n",
      "11418     \t 11418    \n",
      "07054     \t 07054    \n",
      "07054     \t 07054    \n",
      "11209     \t 11209    \n",
      "10016     \t 10016    \n",
      "11236     \t 11236    \n",
      "10027     \t 10027    \n",
      "11101     \t 11101    \n",
      "21702     \t 21702    \n",
      "10016     \t 10016    \n",
      "07054     \t 07054    \n",
      "10463     \t 10463    \n",
      "07054     \t 07054    \n",
      "07054     \t 07054    \n",
      "07962     \t 07962    \n",
      "10463     \t 10463    \n",
      "07054     \t 07054    \n",
      "07054     \t 07054    \n",
      "07054     \t 07054    \n",
      "10007     \t 10007    \n",
      "11418     \t 11418    \n",
      "10528     \t 10528    \n",
      "07921     \t 07921    \n",
      "11432     \t 11432    \n",
      "11385     \t 11385    \n",
      "33487     \t 33487    \n",
      "07054     \t 07054    \n",
      "10023     \t 10023    \n",
      "08833     \t 08833    \n",
      "07921     \t 07921    \n",
      "11358     \t 11358    \n",
      "11709     \t 11709    \n",
      "07054     \t 07054    \n",
      "01801     \t 01801    \n",
      "07054     \t 07054    \n",
      "10306     \t 10306    \n",
      "10021     \t 10021    \n",
      "======================\n",
      "\n",
      "\n"
     ]
    }
   ],
   "source": [
    "col = cleaned_columns[col_idx]\n",
    "print(\"column: \", col)\n",
    "print(\"Original,\\t Cleaned\\n\")\n",
    "for i in range(49):\n",
    "    print(df_sample_data[col].iloc[i], '\\t', df_temp[col].iloc[i])\n",
    "\n",
    "print('======================\\n\\n')\n",
    "col_idx += 1"
   ]
  },
  {
   "cell_type": "code",
   "execution_count": 352,
   "id": "4d6a8f26",
   "metadata": {},
   "outputs": [],
   "source": [
    "fn += 1"
   ]
  },
  {
   "cell_type": "code",
   "execution_count": 351,
   "id": "3fc52e43",
   "metadata": {
    "scrolled": true
   },
   "outputs": [
    {
     "name": "stdout",
     "output_type": "stream",
     "text": [
      "column:  Owner's Phone #\n",
      "Original,\t Cleaned\n",
      "\n",
      "9733974800 \t 9733974800\n",
      "2122615762 \t 2122615762\n",
      "7189712725 \t 7189712725\n",
      "2122465111 \t 2122465111\n",
      "7183511600 \t 7183511600\n",
      "7183995996 \t 7183995996\n",
      "nan \t nan\n",
      "8667223338 \t 8667223338\n",
      "8017069481 \t 8017069481\n",
      "9738988589 \t 9738988589\n",
      "7186307030 \t 7186307030\n",
      "9738971375 \t 9738971375\n",
      "5165678478 \t 5165678478\n",
      "2017573053 \t 2017573053\n",
      "9733974814 \t 9733974814\n",
      "7186305551 \t 7186305551\n",
      "2125921436 \t 2125921436\n",
      "9733974814 \t 9733974814\n",
      "9733974814 \t 9733974814\n",
      "7187866877 \t 7187866877\n",
      "9733974814 \t 9733974814\n",
      "2016484016 \t 2016484016\n",
      "9738971375 \t 9738971375\n",
      "2016484016 \t 2016484016\n",
      "9733974800 \t 9733974800\n",
      "2017573053 \t 2017573053\n",
      "9738018054 \t 9738018054\n",
      "9142371600 \t 9142371600\n",
      "9733974814 \t 9733974814\n",
      "9738971375 \t 9738971375\n",
      "9733974814 \t 9733974814\n",
      "2123066936 \t 2123066936\n",
      "5165678478 \t 5165678478\n",
      "9148998042 \t 9148998042\n",
      "9144389326 \t 9144389326\n",
      "2015710700 \t 2015710700\n",
      "7183448663 \t 7183448663\n",
      "5619950320 \t 5619950320\n",
      "9738971375 \t 9738971375\n",
      "2126366265 \t 2126366265\n",
      "9082363200 \t 9082363200\n",
      "9144389326 \t 9144389326\n",
      "9733974814 \t 9733974814\n",
      "5163180979 \t 5163180979\n",
      "9083980520 \t 9083980520\n",
      "7819264585 \t 7819264585\n",
      "9738971375 \t 9738971375\n",
      "7183510230 \t 7183510230\n",
      "9733974814 \t 9733974814\n",
      "======================\n",
      "\n",
      "\n"
     ]
    }
   ],
   "source": [
    "col = cleaned_columns[col_idx]\n",
    "print(\"column: \", col)\n",
    "print(\"Original,\\t Cleaned\\n\")\n",
    "for i in range(49):\n",
    "    print(df_sample_data[col].iloc[i], '\\t', df_temp[col].iloc[i])\n",
    "\n",
    "print('======================\\n\\n')\n",
    "col_idx += 1"
   ]
  },
  {
   "cell_type": "code",
   "execution_count": 353,
   "id": "639ee90b",
   "metadata": {},
   "outputs": [],
   "source": [
    "fn += 1"
   ]
  },
  {
   "cell_type": "code",
   "execution_count": 354,
   "id": "1542b757",
   "metadata": {
    "scrolled": true
   },
   "outputs": [
    {
     "name": "stdout",
     "output_type": "stream",
     "text": [
      "column:  First Permit  Date\n",
      "Original,\t Cleaned\n",
      "\n",
      "11/29/2016 12:00:00 AM \t 11/29/2016 12:00:00 AM\n",
      "04/06/2015 12:00:00 AM \t 04/06/2015 12:00:00 AM\n",
      "01/10/2014 12:00:00 AM \t 01/10/2014 12:00:00 AM\n",
      "05/29/2015 12:00:00 AM \t 05/29/2015 12:00:00 AM\n",
      "10/19/2015 12:00:00 AM \t 10/19/2015 12:00:00 AM\n",
      "09/04/2014 12:00:00 AM \t 09/04/2014 12:00:00 AM\n",
      "nan \t nan\n",
      "02/05/2015 12:00:00 AM \t 02/05/2015 12:00:00 AM\n",
      "05/21/2014 12:00:00 AM \t 05/21/2014 12:00:00 AM\n",
      "07/06/2015 12:00:00 AM \t 07/06/2015 12:00:00 AM\n",
      "08/14/2013 12:00:00 AM \t 08/14/2013 12:00:00 AM\n",
      "11/05/2015 12:00:00 AM \t 11/05/2015 12:00:00 AM\n",
      "08/18/2015 12:00:00 AM \t 08/18/2015 12:00:00 AM\n",
      "12/19/2016 12:00:00 AM \t 12/19/2016 12:00:00 AM\n",
      "05/21/2015 12:00:00 AM \t 05/21/2015 12:00:00 AM\n",
      "08/05/2013 12:00:00 AM \t 08/05/2013 12:00:00 AM\n",
      "10/17/2014 12:00:00 AM \t 10/17/2014 12:00:00 AM\n",
      "12/08/2015 12:00:00 AM \t 12/08/2015 12:00:00 AM\n",
      "12/18/2015 12:00:00 AM \t 12/18/2015 12:00:00 AM\n",
      "09/20/2016 12:00:00 AM \t 09/20/2016 12:00:00 AM\n",
      "06/28/2016 12:00:00 AM \t 06/28/2016 12:00:00 AM\n",
      "05/27/2014 12:00:00 AM \t 05/27/2014 12:00:00 AM\n",
      "11/02/2015 12:00:00 AM \t 11/02/2015 12:00:00 AM\n",
      "02/24/2015 12:00:00 AM \t 02/24/2015 12:00:00 AM\n",
      "06/30/2015 12:00:00 AM \t 06/30/2015 12:00:00 AM\n",
      "02/15/2017 12:00:00 AM \t 02/15/2017 12:00:00 AM\n",
      "03/16/2017 12:00:00 AM \t 03/16/2017 12:00:00 AM\n",
      "06/23/2015 12:00:00 AM \t 06/23/2015 12:00:00 AM\n",
      "09/28/2016 12:00:00 AM \t 09/28/2016 12:00:00 AM\n",
      "01/04/2017 12:00:00 AM \t 01/04/2017 12:00:00 AM\n",
      "07/27/2015 12:00:00 AM \t 07/27/2015 12:00:00 AM\n",
      "03/01/2017 12:00:00 AM \t 03/01/2017 12:00:00 AM\n",
      "09/18/2014 12:00:00 AM \t 09/18/2014 12:00:00 AM\n",
      "06/03/2014 12:00:00 AM \t 06/03/2014 12:00:00 AM\n",
      "03/24/2017 12:00:00 AM \t 03/24/2017 12:00:00 AM\n",
      "11/21/2014 12:00:00 AM \t 11/21/2014 12:00:00 AM\n",
      "10/30/2015 12:00:00 AM \t 10/30/2015 12:00:00 AM\n",
      "01/04/2017 12:00:00 AM \t 01/04/2017 12:00:00 AM\n",
      "07/17/2015 12:00:00 AM \t 07/17/2015 12:00:00 AM\n",
      "09/06/2013 12:00:00 AM \t 09/06/2013 12:00:00 AM\n",
      "12/18/2015 12:00:00 AM \t 12/18/2015 12:00:00 AM\n",
      "04/19/2017 12:00:00 AM \t 04/19/2017 12:00:00 AM\n",
      "05/20/2015 12:00:00 AM \t 05/20/2015 12:00:00 AM\n",
      "11/01/2017 12:00:00 AM \t 11/01/2017 12:00:00 AM\n",
      "08/25/2014 12:00:00 AM \t 08/25/2014 12:00:00 AM\n",
      "05/30/2013 12:00:00 AM \t 05/30/2013 12:00:00 AM\n",
      "08/11/2015 12:00:00 AM \t 08/11/2015 12:00:00 AM\n",
      "01/29/2016 12:00:00 AM \t 01/29/2016 12:00:00 AM\n",
      "12/31/2015 12:00:00 AM \t 12/31/2015 12:00:00 AM\n",
      "======================\n",
      "\n",
      "\n"
     ]
    }
   ],
   "source": [
    "col = cleaned_columns[col_idx]\n",
    "print(\"column: \", col)\n",
    "print(\"Original,\\t Cleaned\\n\")\n",
    "for i in range(49):\n",
    "    print(df_sample_data[col].iloc[i], '\\t', df_temp[col].iloc[i])\n",
    "\n",
    "print('======================\\n\\n')\n",
    "col_idx += 1"
   ]
  },
  {
   "cell_type": "code",
   "execution_count": 355,
   "id": "2f13dc45",
   "metadata": {},
   "outputs": [],
   "source": [
    "# didn't look at?"
   ]
  },
  {
   "cell_type": "code",
   "execution_count": 356,
   "id": "7b55078e",
   "metadata": {
    "scrolled": true
   },
   "outputs": [
    {
     "name": "stdout",
     "output_type": "stream",
     "text": [
      "column:  DOB Run Date\n",
      "Original,\t Cleaned\n",
      "\n",
      "11/30/2016 00:00:00 \t 2016-11-30 00:00:00\n",
      "04/07/2015 00:00:00 \t 2015-04-07 00:00:00\n",
      "01/11/2014 00:00:00 \t 2014-01-11 00:00:00\n",
      "05/30/2015 00:00:00 \t 2015-05-30 00:00:00\n",
      "10/20/2015 00:00:00 \t 2015-10-20 00:00:00\n",
      "09/05/2014 00:00:00 \t 2014-09-05 00:00:00\n",
      "nan \t NaT\n",
      "02/06/2015 00:00:00 \t 2015-02-06 00:00:00\n",
      "05/22/2014 00:00:00 \t 2014-05-22 00:00:00\n",
      "07/07/2015 00:00:00 \t 2015-07-07 00:00:00\n",
      "08/15/2013 00:00:00 \t 2013-08-15 00:00:00\n",
      "11/06/2015 00:00:00 \t 2015-11-06 00:00:00\n",
      "08/19/2015 00:00:00 \t 2015-08-19 00:00:00\n",
      "12/20/2016 00:00:00 \t 2016-12-20 00:00:00\n",
      "05/22/2015 00:00:00 \t 2015-05-22 00:00:00\n",
      "08/06/2013 00:00:00 \t 2013-08-06 00:00:00\n",
      "10/18/2014 00:00:00 \t 2014-10-18 00:00:00\n",
      "12/09/2015 00:00:00 \t 2015-12-09 00:00:00\n",
      "12/28/2015 00:00:00 \t 2015-12-28 00:00:00\n",
      "09/21/2016 00:00:00 \t 2016-09-21 00:00:00\n",
      "06/29/2016 00:00:00 \t 2016-06-29 00:00:00\n",
      "05/28/2014 00:00:00 \t 2014-05-28 00:00:00\n",
      "11/03/2015 00:00:00 \t 2015-11-03 00:00:00\n",
      "02/25/2015 00:00:00 \t 2015-02-25 00:00:00\n",
      "07/01/2015 00:00:00 \t 2015-07-01 00:00:00\n",
      "02/16/2017 00:00:00 \t 2017-02-16 00:00:00\n",
      "03/17/2017 00:00:00 \t 2017-03-17 00:00:00\n",
      "06/24/2015 00:00:00 \t 2015-06-24 00:00:00\n",
      "09/29/2016 00:00:00 \t 2016-09-29 00:00:00\n",
      "01/05/2017 00:00:00 \t 2017-01-05 00:00:00\n",
      "07/28/2015 00:00:00 \t 2015-07-28 00:00:00\n",
      "03/02/2017 00:00:00 \t 2017-03-02 00:00:00\n",
      "09/19/2014 00:00:00 \t 2014-09-19 00:00:00\n",
      "06/04/2014 00:00:00 \t 2014-06-04 00:00:00\n",
      "03/25/2017 00:00:00 \t 2017-03-25 00:00:00\n",
      "11/22/2014 00:00:00 \t 2014-11-22 00:00:00\n",
      "10/31/2015 00:00:00 \t 2015-10-31 00:00:00\n",
      "01/05/2017 00:00:00 \t 2017-01-05 00:00:00\n",
      "07/18/2015 00:00:00 \t 2015-07-18 00:00:00\n",
      "09/07/2013 00:00:00 \t 2013-09-07 00:00:00\n",
      "12/19/2015 00:00:00 \t 2015-12-19 00:00:00\n",
      "04/20/2017 00:00:00 \t 2017-04-20 00:00:00\n",
      "05/21/2015 00:00:00 \t 2015-05-21 00:00:00\n",
      "11/02/2017 00:00:00 \t 2017-11-02 00:00:00\n",
      "08/26/2014 00:00:00 \t 2014-08-26 00:00:00\n",
      "05/31/2013 00:00:00 \t 2013-05-31 00:00:00\n",
      "08/12/2015 00:00:00 \t 2015-08-12 00:00:00\n",
      "01/30/2016 00:00:00 \t 2016-01-30 00:00:00\n",
      "01/01/2016 00:00:00 \t 2016-01-01 00:00:00\n",
      "======================\n",
      "\n",
      "\n"
     ]
    }
   ],
   "source": [
    "col = cleaned_columns[col_idx]\n",
    "print(\"column: \", col)\n",
    "print(\"Original,\\t Cleaned\\n\")\n",
    "for i in range(49):\n",
    "    print(df_sample_data[col].iloc[i], '\\t', df_temp[col].iloc[i])\n",
    "\n",
    "print('======================\\n\\n')\n",
    "col_idx += 1"
   ]
  },
  {
   "cell_type": "code",
   "execution_count": 357,
   "id": "8bcd7b54",
   "metadata": {},
   "outputs": [],
   "source": [
    "tp += 50"
   ]
  },
  {
   "cell_type": "code",
   "execution_count": 358,
   "id": "050768bf",
   "metadata": {},
   "outputs": [
    {
     "ename": "IndexError",
     "evalue": "list index out of range",
     "output_type": "error",
     "traceback": [
      "\u001b[1;31m---------------------------------------------------------------------------\u001b[0m",
      "\u001b[1;31mIndexError\u001b[0m                                Traceback (most recent call last)",
      "\u001b[1;32m~\\AppData\\Local\\Temp/ipykernel_9616/3281057359.py\u001b[0m in \u001b[0;36m<module>\u001b[1;34m\u001b[0m\n\u001b[1;32m----> 1\u001b[1;33m \u001b[0mcol\u001b[0m \u001b[1;33m=\u001b[0m \u001b[0mcleaned_columns\u001b[0m\u001b[1;33m[\u001b[0m\u001b[0mcol_idx\u001b[0m\u001b[1;33m]\u001b[0m\u001b[1;33m\u001b[0m\u001b[1;33m\u001b[0m\u001b[0m\n\u001b[0m\u001b[0;32m      2\u001b[0m \u001b[0mprint\u001b[0m\u001b[1;33m(\u001b[0m\u001b[1;34m\"column: \"\u001b[0m\u001b[1;33m,\u001b[0m \u001b[0mcol\u001b[0m\u001b[1;33m)\u001b[0m\u001b[1;33m\u001b[0m\u001b[1;33m\u001b[0m\u001b[0m\n\u001b[0;32m      3\u001b[0m \u001b[0mprint\u001b[0m\u001b[1;33m(\u001b[0m\u001b[1;34m\"Original,\\t Cleaned\\n\"\u001b[0m\u001b[1;33m)\u001b[0m\u001b[1;33m\u001b[0m\u001b[1;33m\u001b[0m\u001b[0m\n\u001b[0;32m      4\u001b[0m \u001b[1;32mfor\u001b[0m \u001b[0mi\u001b[0m \u001b[1;32min\u001b[0m \u001b[0mrange\u001b[0m\u001b[1;33m(\u001b[0m\u001b[1;36m49\u001b[0m\u001b[1;33m)\u001b[0m\u001b[1;33m:\u001b[0m\u001b[1;33m\u001b[0m\u001b[1;33m\u001b[0m\u001b[0m\n\u001b[0;32m      5\u001b[0m     \u001b[0mprint\u001b[0m\u001b[1;33m(\u001b[0m\u001b[0mdf_sample_data\u001b[0m\u001b[1;33m[\u001b[0m\u001b[0mcol\u001b[0m\u001b[1;33m]\u001b[0m\u001b[1;33m.\u001b[0m\u001b[0miloc\u001b[0m\u001b[1;33m[\u001b[0m\u001b[0mi\u001b[0m\u001b[1;33m]\u001b[0m\u001b[1;33m,\u001b[0m \u001b[1;34m'\\t'\u001b[0m\u001b[1;33m,\u001b[0m \u001b[0mdf_temp\u001b[0m\u001b[1;33m[\u001b[0m\u001b[0mcol\u001b[0m\u001b[1;33m]\u001b[0m\u001b[1;33m.\u001b[0m\u001b[0miloc\u001b[0m\u001b[1;33m[\u001b[0m\u001b[0mi\u001b[0m\u001b[1;33m]\u001b[0m\u001b[1;33m)\u001b[0m\u001b[1;33m\u001b[0m\u001b[1;33m\u001b[0m\u001b[0m\n",
      "\u001b[1;31mIndexError\u001b[0m: list index out of range"
     ]
    }
   ],
   "source": [
    "# col = cleaned_columns[col_idx]\n",
    "# print(\"column: \", col)\n",
    "# print(\"Original,\\t Cleaned\\n\")\n",
    "# for i in range(49):\n",
    "#     print(df_sample_data[col].iloc[i], '\\t', df_temp[col].iloc[i])\n",
    "\n",
    "# print('======================\\n\\n')\n",
    "# col_idx += 1"
   ]
  },
  {
   "cell_type": "code",
   "execution_count": null,
   "id": "bd1f3895",
   "metadata": {},
   "outputs": [],
   "source": [
    "# col = cleaned_columns[col_idx]\n",
    "# print(\"column: \", col)\n",
    "# print(\"Original,\\t Cleaned\\n\")\n",
    "# for i in range(49):\n",
    "#     print(df_sample_data[col].iloc[i], '\\t', df_temp[col].iloc[i])\n",
    "\n",
    "# print('======================\\n\\n')\n",
    "# col_idx += 1"
   ]
  },
  {
   "cell_type": "code",
   "execution_count": null,
   "id": "6918977e",
   "metadata": {},
   "outputs": [],
   "source": []
  },
  {
   "cell_type": "code",
   "execution_count": null,
   "id": "a63d7e7f",
   "metadata": {},
   "outputs": [],
   "source": []
  },
  {
   "cell_type": "code",
   "execution_count": null,
   "id": "45a2e69a",
   "metadata": {},
   "outputs": [],
   "source": []
  },
  {
   "cell_type": "code",
   "execution_count": null,
   "id": "d4e80f07",
   "metadata": {},
   "outputs": [],
   "source": []
  },
  {
   "cell_type": "code",
   "execution_count": null,
   "id": "44fb1657",
   "metadata": {},
   "outputs": [],
   "source": []
  },
  {
   "cell_type": "code",
   "execution_count": 359,
   "id": "de5e86b0",
   "metadata": {},
   "outputs": [
    {
     "data": {
      "text/plain": [
       "424"
      ]
     },
     "execution_count": 359,
     "metadata": {},
     "output_type": "execute_result"
    }
   ],
   "source": [
    "tp"
   ]
  },
  {
   "cell_type": "code",
   "execution_count": 360,
   "id": "364345c2",
   "metadata": {},
   "outputs": [
    {
     "data": {
      "text/plain": [
       "2"
      ]
     },
     "execution_count": 360,
     "metadata": {},
     "output_type": "execute_result"
    }
   ],
   "source": [
    "fp"
   ]
  },
  {
   "cell_type": "code",
   "execution_count": 361,
   "id": "19b23186",
   "metadata": {},
   "outputs": [
    {
     "data": {
      "text/plain": [
       "311"
      ]
     },
     "execution_count": 361,
     "metadata": {},
     "output_type": "execute_result"
    }
   ],
   "source": [
    "fn"
   ]
  },
  {
   "cell_type": "code",
   "execution_count": 362,
   "id": "11a91f5d",
   "metadata": {},
   "outputs": [
    {
     "data": {
      "text/plain": [
       "0.9953051643192489"
      ]
     },
     "execution_count": 362,
     "metadata": {},
     "output_type": "execute_result"
    }
   ],
   "source": [
    "precision(tp, fp)"
   ]
  },
  {
   "cell_type": "code",
   "execution_count": 363,
   "id": "753297af",
   "metadata": {},
   "outputs": [
    {
     "data": {
      "text/plain": [
       "0.5768707482993197"
      ]
     },
     "execution_count": 363,
     "metadata": {},
     "output_type": "execute_result"
    }
   ],
   "source": [
    "recall(tp,fn)"
   ]
  },
  {
   "cell_type": "code",
   "execution_count": null,
   "id": "6a3f55dd",
   "metadata": {},
   "outputs": [],
   "source": []
  }
 ],
 "metadata": {
  "kernelspec": {
   "display_name": "Python 3 (ipykernel)",
   "language": "python",
   "name": "python3"
  },
  "language_info": {
   "codemirror_mode": {
    "name": "ipython",
    "version": 3
   },
   "file_extension": ".py",
   "mimetype": "text/x-python",
   "name": "python",
   "nbconvert_exporter": "python",
   "pygments_lexer": "ipython3",
   "version": "3.9.7"
  }
 },
 "nbformat": 4,
 "nbformat_minor": 5
}
