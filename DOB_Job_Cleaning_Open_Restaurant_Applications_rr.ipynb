{
 "cells": [
  {
   "cell_type": "markdown",
   "id": "6406bf3d",
   "metadata": {},
   "source": [
    "# Data Profiling and Cleaning"
   ]
  },
  {
   "cell_type": "markdown",
   "id": "2d18acd1",
   "metadata": {},
   "source": [
    "We profiled and cleaned the NYC opendata `DOB Job Application Filings` data using pandas and openclean\n",
    "\n",
    "Run all the cells in order to profile and clean the data\n",
    "\n",
    "Robert Ronan, Sheng Tong, Jerry Lee"
   ]
  },
  {
   "cell_type": "code",
   "execution_count": 1,
   "id": "3dd9762c",
   "metadata": {},
   "outputs": [],
   "source": [
    "import openclean\n",
    "import glob\n",
    "import pandas as pd\n",
    "import numpy as np\n",
    "import re"
   ]
  },
  {
   "cell_type": "markdown",
   "id": "a74d319d",
   "metadata": {},
   "source": [
    "# Data Downloading\n",
    "\n",
    "Download the data using openClean"
   ]
  },
  {
   "cell_type": "code",
   "execution_count": 2,
   "id": "70e12c96",
   "metadata": {},
   "outputs": [
    {
     "name": "stdout",
     "output_type": "stream",
     "text": [
      "Using 'Open Restaurant Applications' in file ./pitm-atqc.tsv.gz of size 1.51 MB\n"
     ]
    }
   ],
   "source": [
    "import gzip\n",
    "import humanfriendly\n",
    "import os\n",
    "\n",
    "from openclean.data.source.socrata import Socrata\n",
    "\n",
    "dataset = Socrata().dataset('pitm-atqc')\n",
    "datafile = './pitm-atqc.tsv.gz'\n",
    "\n",
    "if not os.path.isfile(datafile):\n",
    "    with gzip.open(datafile, 'wb') as f:\n",
    "        print('Downloading ...\\n')\n",
    "        dataset.write(f)\n",
    "\n",
    "\n",
    "fsize = humanfriendly.format_size(os.stat(datafile).st_size)\n",
    "print(\"Using '{}' in file {} of size {}\".format(dataset.name, datafile, fsize))"
   ]
  },
  {
   "cell_type": "markdown",
   "id": "be02e5e0",
   "metadata": {},
   "source": [
    "# Data Loading\n",
    "\n",
    "Load the data into pandas and openClean dataset object"
   ]
  },
  {
   "cell_type": "code",
   "execution_count": 72,
   "id": "fb8aacf4",
   "metadata": {},
   "outputs": [],
   "source": [
    "import pandas as pd\n",
    "from openclean.pipeline import stream\n",
    "\n",
    "df  = pd.read_csv(datafile, dtype='object', sep='\\t')\n",
    "ds = stream(datafile, delim='\\t')"
   ]
  },
  {
   "cell_type": "code",
   "execution_count": 73,
   "id": "4acb65c0",
   "metadata": {},
   "outputs": [
    {
     "data": {
      "text/plain": [
       "'1.21.3'"
      ]
     },
     "execution_count": 73,
     "metadata": {},
     "output_type": "execute_result"
    }
   ],
   "source": [
    "np.__version__"
   ]
  },
  {
   "cell_type": "code",
   "execution_count": 74,
   "id": "427ad486",
   "metadata": {},
   "outputs": [
    {
     "data": {
      "text/plain": [
       "'1.3.4'"
      ]
     },
     "execution_count": 74,
     "metadata": {},
     "output_type": "execute_result"
    }
   ],
   "source": [
    "pd.__version__"
   ]
  },
  {
   "cell_type": "code",
   "execution_count": 75,
   "id": "50eab1c2",
   "metadata": {},
   "outputs": [],
   "source": [
    "import glob"
   ]
  },
  {
   "cell_type": "code",
   "execution_count": 76,
   "id": "a039e10d",
   "metadata": {
    "scrolled": true
   },
   "outputs": [
    {
     "data": {
      "text/plain": [
       "['DOB_Job_Application_Filings.csv',\n",
       " 'DOB_Job_Cleaning.ipynb',\n",
       " 'DOB_Job_Cleaning_Facades_Compliance_Filings_rr.ipynb',\n",
       " 'DOB_Job_Cleaning_Open_Restaurant_Applications_rr.ipynb',\n",
       " 'DOB_Job_Cleaning_Permit_Issuance_rr.ipynb',\n",
       " 'ic3t-wcy2.tsv.gz',\n",
       " 'ipu4-2q9a.tsv.gz',\n",
       " 'pitm-atqc.tsv.gz',\n",
       " 'README.md',\n",
       " 'xubg-57si.tsv.gz']"
      ]
     },
     "execution_count": 76,
     "metadata": {},
     "output_type": "execute_result"
    }
   ],
   "source": [
    "glob.glob(\"*\")"
   ]
  },
  {
   "cell_type": "markdown",
   "id": "da564f84",
   "metadata": {},
   "source": [
    "### Get some basic info about the dataset columns"
   ]
  },
  {
   "cell_type": "code",
   "execution_count": 77,
   "id": "ba01780d",
   "metadata": {
    "scrolled": false
   },
   "outputs": [
    {
     "name": "stdout",
     "output_type": "stream",
     "text": [
      "<class 'pandas.core.frame.DataFrame'>\n",
      "RangeIndex: 13027 entries, 0 to 13026\n",
      "Data columns (total 35 columns):\n",
      " #   Column                                    Non-Null Count  Dtype \n",
      "---  ------                                    --------------  ----- \n",
      " 0   objectid                                  13027 non-null  object\n",
      " 1   globalid                                  13027 non-null  object\n",
      " 2   Seating Interest (Sidewalk/Roadway/Both)  13027 non-null  object\n",
      " 3   Restaurant Name                           13026 non-null  object\n",
      " 4   Legal Business Name                       13026 non-null  object\n",
      " 5   Doing Business As (DBA)                   13015 non-null  object\n",
      " 6   Building Number                           12776 non-null  object\n",
      " 7   Street                                    13027 non-null  object\n",
      " 8   Borough                                   13027 non-null  object\n",
      " 9   Postcode                                  13027 non-null  object\n",
      " 10  Business Address                          13027 non-null  object\n",
      " 11  Food Service Establishment Permit #       13022 non-null  object\n",
      " 12  Sidewalk Dimensions (Length)              10983 non-null  object\n",
      " 13  Sidewalk Dimensions (Width)               10983 non-null  object\n",
      " 14  Sidewalk Dimensions (Area)                10983 non-null  object\n",
      " 15  Roadway Dimensions (Length)               8350 non-null   object\n",
      " 16  Roadway Dimensions (Width)                8350 non-null   object\n",
      " 17  Roadway Dimensions (Area)                 8350 non-null   object\n",
      " 18  Approved for Sidewalk Seating             13027 non-null  object\n",
      " 19  Approved for Roadway Seating              13027 non-null  object\n",
      " 20  Qualify Alcohol                           13027 non-null  object\n",
      " 21  SLA Serial Number                         8741 non-null   object\n",
      " 22  SLA License Type                          8741 non-null   object\n",
      " 23  Landmark District or Building             13027 non-null  object\n",
      " 24  landmarkDistrict_terms                    1956 non-null   object\n",
      " 25  healthCompliance_terms                    13027 non-null  object\n",
      " 26  Time of Submission                        13027 non-null  object\n",
      " 27  Latitude                                  11731 non-null  object\n",
      " 28  Longitude                                 11731 non-null  object\n",
      " 29  Community Board                           11731 non-null  object\n",
      " 30  Council District                          11731 non-null  object\n",
      " 31  Census Tract                              11731 non-null  object\n",
      " 32  BIN                                       11651 non-null  object\n",
      " 33  BBL                                       11651 non-null  object\n",
      " 34  NTA                                       11731 non-null  object\n",
      "dtypes: object(35)\n",
      "memory usage: 3.5+ MB\n"
     ]
    }
   ],
   "source": [
    "df.info(verbose=True, show_counts=True)"
   ]
  },
  {
   "cell_type": "markdown",
   "id": "d8610e6b",
   "metadata": {},
   "source": [
    "If any rows are complete duplicates, drop them"
   ]
  },
  {
   "cell_type": "code",
   "execution_count": 78,
   "id": "e12a0b5a",
   "metadata": {},
   "outputs": [],
   "source": [
    "df = df.drop_duplicates()"
   ]
  },
  {
   "cell_type": "markdown",
   "id": "c7db0587",
   "metadata": {},
   "source": [
    "Take an a look at some of the rows to get an idea of what the datset looks like"
   ]
  },
  {
   "cell_type": "code",
   "execution_count": 79,
   "id": "dbc80b1b",
   "metadata": {},
   "outputs": [],
   "source": [
    "df = df.dropna(axis=1, thresh = 100)"
   ]
  },
  {
   "cell_type": "code",
   "execution_count": 80,
   "id": "97d54ce4",
   "metadata": {
    "scrolled": false
   },
   "outputs": [
    {
     "data": {
      "text/html": [
       "<div>\n",
       "<style scoped>\n",
       "    .dataframe tbody tr th:only-of-type {\n",
       "        vertical-align: middle;\n",
       "    }\n",
       "\n",
       "    .dataframe tbody tr th {\n",
       "        vertical-align: top;\n",
       "    }\n",
       "\n",
       "    .dataframe thead th {\n",
       "        text-align: right;\n",
       "    }\n",
       "</style>\n",
       "<table border=\"1\" class=\"dataframe\">\n",
       "  <thead>\n",
       "    <tr style=\"text-align: right;\">\n",
       "      <th></th>\n",
       "      <th>objectid</th>\n",
       "      <th>globalid</th>\n",
       "      <th>Seating Interest (Sidewalk/Roadway/Both)</th>\n",
       "      <th>Restaurant Name</th>\n",
       "      <th>Legal Business Name</th>\n",
       "      <th>Doing Business As (DBA)</th>\n",
       "      <th>Building Number</th>\n",
       "      <th>Street</th>\n",
       "      <th>Borough</th>\n",
       "      <th>Postcode</th>\n",
       "      <th>...</th>\n",
       "      <th>healthCompliance_terms</th>\n",
       "      <th>Time of Submission</th>\n",
       "      <th>Latitude</th>\n",
       "      <th>Longitude</th>\n",
       "      <th>Community Board</th>\n",
       "      <th>Council District</th>\n",
       "      <th>Census Tract</th>\n",
       "      <th>BIN</th>\n",
       "      <th>BBL</th>\n",
       "      <th>NTA</th>\n",
       "    </tr>\n",
       "  </thead>\n",
       "  <tbody>\n",
       "    <tr>\n",
       "      <th>0</th>\n",
       "      <td>5900</td>\n",
       "      <td>{3B07E4C0-07B7-4079-8333-64446CC3EE03}</td>\n",
       "      <td>sidewalk</td>\n",
       "      <td>Seasoned Vegan</td>\n",
       "      <td>Seasoned Vegan, LLC</td>\n",
       "      <td>Seasoned Vegan, LLC</td>\n",
       "      <td>55</td>\n",
       "      <td>St. Nicholas Avenue</td>\n",
       "      <td>Manhattan</td>\n",
       "      <td>10026</td>\n",
       "      <td>...</td>\n",
       "      <td>yes</td>\n",
       "      <td>06/26/2020 08:38:00 PM</td>\n",
       "      <td>40.8005</td>\n",
       "      <td>-73.952507</td>\n",
       "      <td>10</td>\n",
       "      <td>9</td>\n",
       "      <td>216</td>\n",
       "      <td>1054995</td>\n",
       "      <td>1018220052</td>\n",
       "      <td>Central Harlem South</td>\n",
       "    </tr>\n",
       "    <tr>\n",
       "      <th>1</th>\n",
       "      <td>13018</td>\n",
       "      <td>{137C575D-DC14-4F9D-83D9-A3FFE513B3B8}</td>\n",
       "      <td>sidewalk</td>\n",
       "      <td>AMERICAS CAFE &amp;amp; GRILL</td>\n",
       "      <td>68TH GRILL INC</td>\n",
       "      <td>AMERICAS CAFE &amp;amp; GRILL</td>\n",
       "      <td>NaN</td>\n",
       "      <td>1159 3 AVENUE</td>\n",
       "      <td>Manhattan</td>\n",
       "      <td>10065</td>\n",
       "      <td>...</td>\n",
       "      <td>yes</td>\n",
       "      <td>10/22/2021 11:01:00 AM</td>\n",
       "      <td>40.766845</td>\n",
       "      <td>-73.962708</td>\n",
       "      <td>8</td>\n",
       "      <td>4</td>\n",
       "      <td>118</td>\n",
       "      <td>1043896</td>\n",
       "      <td>1014220048</td>\n",
       "      <td>Lenox Hill-Roosevelt Island</td>\n",
       "    </tr>\n",
       "    <tr>\n",
       "      <th>2</th>\n",
       "      <td>11630</td>\n",
       "      <td>{15270732-2A78-4C24-89DD-BE8DD916F115}</td>\n",
       "      <td>roadway</td>\n",
       "      <td>SUSHI SEKI</td>\n",
       "      <td>SEKI INC</td>\n",
       "      <td>SUSHI SEKI</td>\n",
       "      <td>undefined</td>\n",
       "      <td>208 WEST   23 STREET</td>\n",
       "      <td>Manhattan</td>\n",
       "      <td>10011</td>\n",
       "      <td>...</td>\n",
       "      <td>yes</td>\n",
       "      <td>12/14/2020 07:54:00 PM</td>\n",
       "      <td>40.744338</td>\n",
       "      <td>-73.99624</td>\n",
       "      <td>4</td>\n",
       "      <td>3</td>\n",
       "      <td>91</td>\n",
       "      <td>1014129</td>\n",
       "      <td>1007720056</td>\n",
       "      <td>Hudson Yards-Chelsea-Flatiron-Union Square</td>\n",
       "    </tr>\n",
       "    <tr>\n",
       "      <th>3</th>\n",
       "      <td>7753</td>\n",
       "      <td>{AE2F76BE-D0EC-4D10-890F-B7AFBDB87188}</td>\n",
       "      <td>both</td>\n",
       "      <td>Lucky Seven Restaurant &amp; Bar LLC</td>\n",
       "      <td>Lucky Seven Restaurant &amp; Bar LLC</td>\n",
       "      <td>Lucky Seven Tapas Bar</td>\n",
       "      <td>1455</td>\n",
       "      <td>St Nicholas Avenue</td>\n",
       "      <td>Manhattan</td>\n",
       "      <td>10033</td>\n",
       "      <td>...</td>\n",
       "      <td>yes</td>\n",
       "      <td>07/08/2020 03:58:00 PM</td>\n",
       "      <td>40.850323</td>\n",
       "      <td>-73.933011</td>\n",
       "      <td>12</td>\n",
       "      <td>10</td>\n",
       "      <td>271</td>\n",
       "      <td>1063948</td>\n",
       "      <td>1021650038</td>\n",
       "      <td>Washington Heights North</td>\n",
       "    </tr>\n",
       "    <tr>\n",
       "      <th>4</th>\n",
       "      <td>5010</td>\n",
       "      <td>{07AE4461-6BB3-499D-8332-4F2966E0514F}</td>\n",
       "      <td>sidewalk</td>\n",
       "      <td>El Nuevo Carribeno</td>\n",
       "      <td>El Nuevo Carribeno Inc.</td>\n",
       "      <td>El Nuevo Carribeno Inc.</td>\n",
       "      <td>1675</td>\n",
       "      <td>Lexington Avenue</td>\n",
       "      <td>Manhattan</td>\n",
       "      <td>10029</td>\n",
       "      <td>...</td>\n",
       "      <td>yes</td>\n",
       "      <td>06/24/2020 04:02:00 PM</td>\n",
       "      <td>40.79167</td>\n",
       "      <td>-73.946688</td>\n",
       "      <td>11</td>\n",
       "      <td>8</td>\n",
       "      <td>172</td>\n",
       "      <td>1051992</td>\n",
       "      <td>1016330019</td>\n",
       "      <td>East Harlem South</td>\n",
       "    </tr>\n",
       "    <tr>\n",
       "      <th>...</th>\n",
       "      <td>...</td>\n",
       "      <td>...</td>\n",
       "      <td>...</td>\n",
       "      <td>...</td>\n",
       "      <td>...</td>\n",
       "      <td>...</td>\n",
       "      <td>...</td>\n",
       "      <td>...</td>\n",
       "      <td>...</td>\n",
       "      <td>...</td>\n",
       "      <td>...</td>\n",
       "      <td>...</td>\n",
       "      <td>...</td>\n",
       "      <td>...</td>\n",
       "      <td>...</td>\n",
       "      <td>...</td>\n",
       "      <td>...</td>\n",
       "      <td>...</td>\n",
       "      <td>...</td>\n",
       "      <td>...</td>\n",
       "      <td>...</td>\n",
       "    </tr>\n",
       "    <tr>\n",
       "      <th>13022</th>\n",
       "      <td>9799</td>\n",
       "      <td>{108C6784-54DB-480B-8627-CF0495D27A0E}</td>\n",
       "      <td>both</td>\n",
       "      <td>KING OF SPADES INC.</td>\n",
       "      <td>KING OF SPADES INC.</td>\n",
       "      <td>KING OF SPADES INC.</td>\n",
       "      <td>1425</td>\n",
       "      <td>COLLEGE POINT BLVD</td>\n",
       "      <td>Queens</td>\n",
       "      <td>11356</td>\n",
       "      <td>...</td>\n",
       "      <td>yes</td>\n",
       "      <td>08/04/2020 03:27:00 PM</td>\n",
       "      <td>40.784739</td>\n",
       "      <td>-73.845776</td>\n",
       "      <td>7</td>\n",
       "      <td>19</td>\n",
       "      <td>929</td>\n",
       "      <td>4098349</td>\n",
       "      <td>4040850057</td>\n",
       "      <td>College Point</td>\n",
       "    </tr>\n",
       "    <tr>\n",
       "      <th>13023</th>\n",
       "      <td>8215</td>\n",
       "      <td>{7B8EC275-D470-4106-819E-03FC0E1F9717}</td>\n",
       "      <td>both</td>\n",
       "      <td>LA QUEEN TEA HOUSE INC</td>\n",
       "      <td>LA QUEEN TEA HOUSE INC</td>\n",
       "      <td>LA QUEEN TEA HOUSE INC</td>\n",
       "      <td>752B</td>\n",
       "      <td>61ST ST</td>\n",
       "      <td>Brooklyn</td>\n",
       "      <td>11220</td>\n",
       "      <td>...</td>\n",
       "      <td>yes</td>\n",
       "      <td>07/13/2020 03:53:00 PM</td>\n",
       "      <td>40.635543</td>\n",
       "      <td>-74.01122</td>\n",
       "      <td>7</td>\n",
       "      <td>38</td>\n",
       "      <td>118</td>\n",
       "      <td>3143885</td>\n",
       "      <td>3057940027</td>\n",
       "      <td>Sunset Park East</td>\n",
       "    </tr>\n",
       "    <tr>\n",
       "      <th>13024</th>\n",
       "      <td>2895</td>\n",
       "      <td>{476f88d2-d3e8-4e83-8686-8bac2f752cf5}</td>\n",
       "      <td>sidewalk</td>\n",
       "      <td>aahar indina cuisine</td>\n",
       "      <td>vidhan bhatt inc.</td>\n",
       "      <td>vidhan bhatt inc.</td>\n",
       "      <td>10</td>\n",
       "      <td>murray street</td>\n",
       "      <td>Manhattan</td>\n",
       "      <td>10007</td>\n",
       "      <td>...</td>\n",
       "      <td>yes</td>\n",
       "      <td>06/21/2020 01:46:00 PM</td>\n",
       "      <td>40.713298</td>\n",
       "      <td>-74.007773</td>\n",
       "      <td>1</td>\n",
       "      <td>1</td>\n",
       "      <td>21</td>\n",
       "      <td>1001399</td>\n",
       "      <td>1001240004</td>\n",
       "      <td>SoHo-TriBeCa-Civic Center-Little Italy</td>\n",
       "    </tr>\n",
       "    <tr>\n",
       "      <th>13025</th>\n",
       "      <td>607</td>\n",
       "      <td>ff0d04ef-1d9a-47d6-8f20-8bdbdbce2792</td>\n",
       "      <td>sidewalk</td>\n",
       "      <td>le cafe coffee</td>\n",
       "      <td>le cafe coffee llc</td>\n",
       "      <td>le cafe coffee llc</td>\n",
       "      <td>145</td>\n",
       "      <td>fourth av</td>\n",
       "      <td>Manhattan</td>\n",
       "      <td>10003</td>\n",
       "      <td>...</td>\n",
       "      <td>yes</td>\n",
       "      <td>06/19/2020 01:19:00 PM</td>\n",
       "      <td>40.733916</td>\n",
       "      <td>-73.989872</td>\n",
       "      <td>3</td>\n",
       "      <td>2</td>\n",
       "      <td>42</td>\n",
       "      <td>1077569</td>\n",
       "      <td>1005590009</td>\n",
       "      <td>East Village</td>\n",
       "    </tr>\n",
       "    <tr>\n",
       "      <th>13026</th>\n",
       "      <td>6641</td>\n",
       "      <td>{9DBBF87C-AE3D-4487-81A4-30E44806614F}</td>\n",
       "      <td>both</td>\n",
       "      <td>KASHKAVAL GARDEN</td>\n",
       "      <td>KASHKAVAL Kitchen LLC</td>\n",
       "      <td>KASHKAVAL Kitchen LLC</td>\n",
       "      <td>852</td>\n",
       "      <td>9th Avenue</td>\n",
       "      <td>Manhattan</td>\n",
       "      <td>10019</td>\n",
       "      <td>...</td>\n",
       "      <td>yes</td>\n",
       "      <td>06/30/2020 10:33:00 PM</td>\n",
       "      <td>40.766927</td>\n",
       "      <td>-73.986423</td>\n",
       "      <td>4</td>\n",
       "      <td>3</td>\n",
       "      <td>139</td>\n",
       "      <td>1025423</td>\n",
       "      <td>1010460004</td>\n",
       "      <td>Clinton</td>\n",
       "    </tr>\n",
       "  </tbody>\n",
       "</table>\n",
       "<p>13027 rows × 35 columns</p>\n",
       "</div>"
      ],
      "text/plain": [
       "      objectid                                globalid  \\\n",
       "0         5900  {3B07E4C0-07B7-4079-8333-64446CC3EE03}   \n",
       "1        13018  {137C575D-DC14-4F9D-83D9-A3FFE513B3B8}   \n",
       "2        11630  {15270732-2A78-4C24-89DD-BE8DD916F115}   \n",
       "3         7753  {AE2F76BE-D0EC-4D10-890F-B7AFBDB87188}   \n",
       "4         5010  {07AE4461-6BB3-499D-8332-4F2966E0514F}   \n",
       "...        ...                                     ...   \n",
       "13022     9799  {108C6784-54DB-480B-8627-CF0495D27A0E}   \n",
       "13023     8215  {7B8EC275-D470-4106-819E-03FC0E1F9717}   \n",
       "13024     2895  {476f88d2-d3e8-4e83-8686-8bac2f752cf5}   \n",
       "13025      607    ff0d04ef-1d9a-47d6-8f20-8bdbdbce2792   \n",
       "13026     6641  {9DBBF87C-AE3D-4487-81A4-30E44806614F}   \n",
       "\n",
       "      Seating Interest (Sidewalk/Roadway/Both)  \\\n",
       "0                                     sidewalk   \n",
       "1                                     sidewalk   \n",
       "2                                      roadway   \n",
       "3                                         both   \n",
       "4                                     sidewalk   \n",
       "...                                        ...   \n",
       "13022                                     both   \n",
       "13023                                     both   \n",
       "13024                                 sidewalk   \n",
       "13025                                 sidewalk   \n",
       "13026                                     both   \n",
       "\n",
       "                        Restaurant Name               Legal Business Name  \\\n",
       "0                        Seasoned Vegan               Seasoned Vegan, LLC   \n",
       "1             AMERICAS CAFE &amp; GRILL                    68TH GRILL INC   \n",
       "2                            SUSHI SEKI                          SEKI INC   \n",
       "3      Lucky Seven Restaurant & Bar LLC  Lucky Seven Restaurant & Bar LLC   \n",
       "4                    El Nuevo Carribeno           El Nuevo Carribeno Inc.   \n",
       "...                                 ...                               ...   \n",
       "13022               KING OF SPADES INC.               KING OF SPADES INC.   \n",
       "13023            LA QUEEN TEA HOUSE INC            LA QUEEN TEA HOUSE INC   \n",
       "13024              aahar indina cuisine                 vidhan bhatt inc.   \n",
       "13025                    le cafe coffee                le cafe coffee llc   \n",
       "13026                  KASHKAVAL GARDEN             KASHKAVAL Kitchen LLC   \n",
       "\n",
       "         Doing Business As (DBA) Building Number                Street  \\\n",
       "0            Seasoned Vegan, LLC              55   St. Nicholas Avenue   \n",
       "1      AMERICAS CAFE &amp; GRILL             NaN         1159 3 AVENUE   \n",
       "2                     SUSHI SEKI       undefined  208 WEST   23 STREET   \n",
       "3          Lucky Seven Tapas Bar            1455    St Nicholas Avenue   \n",
       "4        El Nuevo Carribeno Inc.            1675      Lexington Avenue   \n",
       "...                          ...             ...                   ...   \n",
       "13022        KING OF SPADES INC.            1425    COLLEGE POINT BLVD   \n",
       "13023     LA QUEEN TEA HOUSE INC            752B               61ST ST   \n",
       "13024          vidhan bhatt inc.              10         murray street   \n",
       "13025         le cafe coffee llc             145             fourth av   \n",
       "13026      KASHKAVAL Kitchen LLC             852            9th Avenue   \n",
       "\n",
       "         Borough Postcode  ... healthCompliance_terms      Time of Submission  \\\n",
       "0      Manhattan    10026  ...                    yes  06/26/2020 08:38:00 PM   \n",
       "1      Manhattan    10065  ...                    yes  10/22/2021 11:01:00 AM   \n",
       "2      Manhattan    10011  ...                    yes  12/14/2020 07:54:00 PM   \n",
       "3      Manhattan    10033  ...                    yes  07/08/2020 03:58:00 PM   \n",
       "4      Manhattan    10029  ...                    yes  06/24/2020 04:02:00 PM   \n",
       "...          ...      ...  ...                    ...                     ...   \n",
       "13022     Queens    11356  ...                    yes  08/04/2020 03:27:00 PM   \n",
       "13023   Brooklyn    11220  ...                    yes  07/13/2020 03:53:00 PM   \n",
       "13024  Manhattan    10007  ...                    yes  06/21/2020 01:46:00 PM   \n",
       "13025  Manhattan    10003  ...                    yes  06/19/2020 01:19:00 PM   \n",
       "13026  Manhattan    10019  ...                    yes  06/30/2020 10:33:00 PM   \n",
       "\n",
       "        Latitude   Longitude Community Board Council District Census Tract  \\\n",
       "0        40.8005  -73.952507              10                9          216   \n",
       "1      40.766845  -73.962708               8                4          118   \n",
       "2      40.744338   -73.99624               4                3           91   \n",
       "3      40.850323  -73.933011              12               10          271   \n",
       "4       40.79167  -73.946688              11                8          172   \n",
       "...          ...         ...             ...              ...          ...   \n",
       "13022  40.784739  -73.845776               7               19          929   \n",
       "13023  40.635543   -74.01122               7               38          118   \n",
       "13024  40.713298  -74.007773               1                1           21   \n",
       "13025  40.733916  -73.989872               3                2           42   \n",
       "13026  40.766927  -73.986423               4                3          139   \n",
       "\n",
       "           BIN         BBL                                         NTA  \n",
       "0      1054995  1018220052                        Central Harlem South  \n",
       "1      1043896  1014220048                 Lenox Hill-Roosevelt Island  \n",
       "2      1014129  1007720056  Hudson Yards-Chelsea-Flatiron-Union Square  \n",
       "3      1063948  1021650038                    Washington Heights North  \n",
       "4      1051992  1016330019                           East Harlem South  \n",
       "...        ...         ...                                         ...  \n",
       "13022  4098349  4040850057                               College Point  \n",
       "13023  3143885  3057940027                            Sunset Park East  \n",
       "13024  1001399  1001240004      SoHo-TriBeCa-Civic Center-Little Italy  \n",
       "13025  1077569  1005590009                                East Village  \n",
       "13026  1025423  1010460004                                     Clinton  \n",
       "\n",
       "[13027 rows x 35 columns]"
      ]
     },
     "execution_count": 80,
     "metadata": {},
     "output_type": "execute_result"
    }
   ],
   "source": [
    "df"
   ]
  },
  {
   "cell_type": "code",
   "execution_count": 81,
   "id": "eafecfab",
   "metadata": {},
   "outputs": [],
   "source": [
    "# Need 382 examples for sample"
   ]
  },
  {
   "cell_type": "code",
   "execution_count": 82,
   "id": "68431c32",
   "metadata": {},
   "outputs": [],
   "source": [
    "df_sample = df.sample(382).copy()"
   ]
  },
  {
   "cell_type": "code",
   "execution_count": 83,
   "id": "86fa0c11",
   "metadata": {},
   "outputs": [
    {
     "data": {
      "text/html": [
       "<div>\n",
       "<style scoped>\n",
       "    .dataframe tbody tr th:only-of-type {\n",
       "        vertical-align: middle;\n",
       "    }\n",
       "\n",
       "    .dataframe tbody tr th {\n",
       "        vertical-align: top;\n",
       "    }\n",
       "\n",
       "    .dataframe thead th {\n",
       "        text-align: right;\n",
       "    }\n",
       "</style>\n",
       "<table border=\"1\" class=\"dataframe\">\n",
       "  <thead>\n",
       "    <tr style=\"text-align: right;\">\n",
       "      <th></th>\n",
       "      <th>objectid</th>\n",
       "      <th>globalid</th>\n",
       "      <th>Seating Interest (Sidewalk/Roadway/Both)</th>\n",
       "      <th>Restaurant Name</th>\n",
       "      <th>Legal Business Name</th>\n",
       "      <th>Doing Business As (DBA)</th>\n",
       "      <th>Building Number</th>\n",
       "      <th>Street</th>\n",
       "      <th>Borough</th>\n",
       "      <th>Postcode</th>\n",
       "      <th>...</th>\n",
       "      <th>healthCompliance_terms</th>\n",
       "      <th>Time of Submission</th>\n",
       "      <th>Latitude</th>\n",
       "      <th>Longitude</th>\n",
       "      <th>Community Board</th>\n",
       "      <th>Council District</th>\n",
       "      <th>Census Tract</th>\n",
       "      <th>BIN</th>\n",
       "      <th>BBL</th>\n",
       "      <th>NTA</th>\n",
       "    </tr>\n",
       "  </thead>\n",
       "  <tbody>\n",
       "    <tr>\n",
       "      <th>10885</th>\n",
       "      <td>12661</td>\n",
       "      <td>{4B917111-A85A-43E5-87C1-1908E3B68258}</td>\n",
       "      <td>sidewalk</td>\n",
       "      <td>LE PAIN QUOTIDIEN</td>\n",
       "      <td>MPQ 921 BROADWAY, LLC</td>\n",
       "      <td>LPQ USA, LLC - Disbursements Account</td>\n",
       "      <td>undefined</td>\n",
       "      <td>921 BROADWAY</td>\n",
       "      <td>Manhattan</td>\n",
       "      <td>10010</td>\n",
       "      <td>...</td>\n",
       "      <td>yes</td>\n",
       "      <td>07/07/2021 02:01:00 PM</td>\n",
       "      <td>40.739976</td>\n",
       "      <td>-73.989564</td>\n",
       "      <td>5</td>\n",
       "      <td>2</td>\n",
       "      <td>56</td>\n",
       "      <td>1016239</td>\n",
       "      <td>1008500001</td>\n",
       "      <td>Hudson Yards-Chelsea-Flatiron-Union Square</td>\n",
       "    </tr>\n",
       "    <tr>\n",
       "      <th>10052</th>\n",
       "      <td>4260</td>\n",
       "      <td>{68594DDD-8C45-4C03-81BC-AA37C70A2E6F}</td>\n",
       "      <td>sidewalk</td>\n",
       "      <td>Tarachi</td>\n",
       "      <td>Tarachi NYC LLC</td>\n",
       "      <td>Tarachi NYC LLC</td>\n",
       "      <td>222</td>\n",
       "      <td>Greene Ave</td>\n",
       "      <td>Brooklyn</td>\n",
       "      <td>11238</td>\n",
       "      <td>...</td>\n",
       "      <td>yes</td>\n",
       "      <td>06/23/2020 12:19:00 PM</td>\n",
       "      <td>40.687145</td>\n",
       "      <td>-73.961988</td>\n",
       "      <td>2</td>\n",
       "      <td>35</td>\n",
       "      <td>231</td>\n",
       "      <td>3056252</td>\n",
       "      <td>3019660008</td>\n",
       "      <td>Clinton Hill</td>\n",
       "    </tr>\n",
       "    <tr>\n",
       "      <th>10530</th>\n",
       "      <td>2217</td>\n",
       "      <td>{d31dc454-43c9-4a71-870e-4cf6ca5fc394}</td>\n",
       "      <td>both</td>\n",
       "      <td>Briciola</td>\n",
       "      <td>Briciola Corp</td>\n",
       "      <td>Briciola Corp</td>\n",
       "      <td>370</td>\n",
       "      <td>w 51st</td>\n",
       "      <td>Manhattan</td>\n",
       "      <td>10019</td>\n",
       "      <td>...</td>\n",
       "      <td>yes</td>\n",
       "      <td>06/20/2020 12:42:00 PM</td>\n",
       "      <td>40.763861</td>\n",
       "      <td>-73.987918</td>\n",
       "      <td>4</td>\n",
       "      <td>3</td>\n",
       "      <td>133</td>\n",
       "      <td>1025187</td>\n",
       "      <td>1010410061</td>\n",
       "      <td>Clinton</td>\n",
       "    </tr>\n",
       "    <tr>\n",
       "      <th>392</th>\n",
       "      <td>8019</td>\n",
       "      <td>{430DB8B8-C29B-4B7A-8CB9-F7FA2C88FF25}</td>\n",
       "      <td>openstreets</td>\n",
       "      <td>Starbucks Reserve Roastery</td>\n",
       "      <td>Siren Retail Corporation</td>\n",
       "      <td>Siren Retail Corporation</td>\n",
       "      <td>61</td>\n",
       "      <td>9th Avenue</td>\n",
       "      <td>Manhattan</td>\n",
       "      <td>10011</td>\n",
       "      <td>...</td>\n",
       "      <td>yes</td>\n",
       "      <td>07/10/2020 01:11:00 PM</td>\n",
       "      <td>40.74144</td>\n",
       "      <td>-74.00502</td>\n",
       "      <td>4</td>\n",
       "      <td>3</td>\n",
       "      <td>83</td>\n",
       "      <td>1090217</td>\n",
       "      <td>1007120036</td>\n",
       "      <td>Hudson Yards-Chelsea-Flatiron-Union Square</td>\n",
       "    </tr>\n",
       "    <tr>\n",
       "      <th>5386</th>\n",
       "      <td>7910</td>\n",
       "      <td>{299B1389-19CF-4152-8EAB-B31DA0AFE60F}</td>\n",
       "      <td>sidewalk</td>\n",
       "      <td>starbucks</td>\n",
       "      <td>Sstarbucks coffee company</td>\n",
       "      <td>Sstarbucks coffee company</td>\n",
       "      <td>124</td>\n",
       "      <td>eight avenue</td>\n",
       "      <td>Manhattan</td>\n",
       "      <td>10011</td>\n",
       "      <td>...</td>\n",
       "      <td>yes</td>\n",
       "      <td>07/09/2020 03:50:00 PM</td>\n",
       "      <td>NaN</td>\n",
       "      <td>NaN</td>\n",
       "      <td>NaN</td>\n",
       "      <td>NaN</td>\n",
       "      <td>NaN</td>\n",
       "      <td>NaN</td>\n",
       "      <td>NaN</td>\n",
       "      <td>NaN</td>\n",
       "    </tr>\n",
       "    <tr>\n",
       "      <th>...</th>\n",
       "      <td>...</td>\n",
       "      <td>...</td>\n",
       "      <td>...</td>\n",
       "      <td>...</td>\n",
       "      <td>...</td>\n",
       "      <td>...</td>\n",
       "      <td>...</td>\n",
       "      <td>...</td>\n",
       "      <td>...</td>\n",
       "      <td>...</td>\n",
       "      <td>...</td>\n",
       "      <td>...</td>\n",
       "      <td>...</td>\n",
       "      <td>...</td>\n",
       "      <td>...</td>\n",
       "      <td>...</td>\n",
       "      <td>...</td>\n",
       "      <td>...</td>\n",
       "      <td>...</td>\n",
       "      <td>...</td>\n",
       "      <td>...</td>\n",
       "    </tr>\n",
       "    <tr>\n",
       "      <th>2286</th>\n",
       "      <td>8812</td>\n",
       "      <td>{2152DE7B-C389-4D2C-80D5-D6C49CD4F3BF}</td>\n",
       "      <td>openstreets</td>\n",
       "      <td>An Choi</td>\n",
       "      <td>SaigonNYC Ltd</td>\n",
       "      <td>An Choi</td>\n",
       "      <td>85</td>\n",
       "      <td>Orchard</td>\n",
       "      <td>Manhattan</td>\n",
       "      <td>10002</td>\n",
       "      <td>...</td>\n",
       "      <td>yes</td>\n",
       "      <td>07/17/2020 07:21:00 PM</td>\n",
       "      <td>NaN</td>\n",
       "      <td>NaN</td>\n",
       "      <td>NaN</td>\n",
       "      <td>NaN</td>\n",
       "      <td>NaN</td>\n",
       "      <td>NaN</td>\n",
       "      <td>NaN</td>\n",
       "      <td>NaN</td>\n",
       "    </tr>\n",
       "    <tr>\n",
       "      <th>2749</th>\n",
       "      <td>10452</td>\n",
       "      <td>{19DE33E1-8174-4CE1-8683-BCDD963E1D5B}</td>\n",
       "      <td>both</td>\n",
       "      <td>The EAR Inn</td>\n",
       "      <td>EAR Inn Inc</td>\n",
       "      <td>EAR Inn Inc</td>\n",
       "      <td>326 &amp; 330</td>\n",
       "      <td>Spring Street</td>\n",
       "      <td>Manhattan</td>\n",
       "      <td>10013</td>\n",
       "      <td>...</td>\n",
       "      <td>yes</td>\n",
       "      <td>08/19/2020 04:47:00 PM</td>\n",
       "      <td>NaN</td>\n",
       "      <td>NaN</td>\n",
       "      <td>NaN</td>\n",
       "      <td>NaN</td>\n",
       "      <td>NaN</td>\n",
       "      <td>NaN</td>\n",
       "      <td>NaN</td>\n",
       "      <td>NaN</td>\n",
       "    </tr>\n",
       "    <tr>\n",
       "      <th>10222</th>\n",
       "      <td>1443</td>\n",
       "      <td>ac030024-7524-4ec0-8f5d-ede2d96af62d</td>\n",
       "      <td>sidewalk</td>\n",
       "      <td>The Castello Plan</td>\n",
       "      <td>Shakeen LLC</td>\n",
       "      <td>The Castello Plan</td>\n",
       "      <td>1213</td>\n",
       "      <td>Cortelyou Road</td>\n",
       "      <td>Brooklyn</td>\n",
       "      <td>11218</td>\n",
       "      <td>...</td>\n",
       "      <td>yes</td>\n",
       "      <td>06/19/2020 04:35:00 PM</td>\n",
       "      <td>40.640139</td>\n",
       "      <td>-73.966847</td>\n",
       "      <td>14</td>\n",
       "      <td>40</td>\n",
       "      <td>1522</td>\n",
       "      <td>3118320</td>\n",
       "      <td>3051430084</td>\n",
       "      <td>Flatbush</td>\n",
       "    </tr>\n",
       "    <tr>\n",
       "      <th>7284</th>\n",
       "      <td>8292</td>\n",
       "      <td>{7846E68C-B47B-421C-8523-3632944DBFEA}</td>\n",
       "      <td>both</td>\n",
       "      <td>Balthazar Bakery</td>\n",
       "      <td>Humphrey's Bakery inc</td>\n",
       "      <td>Balthazar Bakery</td>\n",
       "      <td>80</td>\n",
       "      <td>Spring St</td>\n",
       "      <td>Manhattan</td>\n",
       "      <td>10012</td>\n",
       "      <td>...</td>\n",
       "      <td>yes</td>\n",
       "      <td>07/14/2020 07:34:00 AM</td>\n",
       "      <td>40.72271</td>\n",
       "      <td>-73.99811</td>\n",
       "      <td>2</td>\n",
       "      <td>1</td>\n",
       "      <td>45</td>\n",
       "      <td>1007238</td>\n",
       "      <td>1004830017</td>\n",
       "      <td>SoHo-TriBeCa-Civic Center-Little Italy</td>\n",
       "    </tr>\n",
       "    <tr>\n",
       "      <th>4916</th>\n",
       "      <td>11561</td>\n",
       "      <td>{D12990BB-3C00-44F8-8BFA-AEFE4CB3860C}</td>\n",
       "      <td>roadway</td>\n",
       "      <td>EL BUEN SABOR</td>\n",
       "      <td>EL BUEN SABOR DELI CORP</td>\n",
       "      <td>EL BUEN SABOR</td>\n",
       "      <td>undefined</td>\n",
       "      <td>8920 163RD ST</td>\n",
       "      <td>Queens</td>\n",
       "      <td>11432</td>\n",
       "      <td>...</td>\n",
       "      <td>yes</td>\n",
       "      <td>11/24/2020 02:27:00 PM</td>\n",
       "      <td>40.706657</td>\n",
       "      <td>-73.798044</td>\n",
       "      <td>12</td>\n",
       "      <td>24</td>\n",
       "      <td>44601</td>\n",
       "      <td>4445975</td>\n",
       "      <td>4097610057</td>\n",
       "      <td>Jamaica</td>\n",
       "    </tr>\n",
       "  </tbody>\n",
       "</table>\n",
       "<p>382 rows × 35 columns</p>\n",
       "</div>"
      ],
      "text/plain": [
       "      objectid                                globalid  \\\n",
       "10885    12661  {4B917111-A85A-43E5-87C1-1908E3B68258}   \n",
       "10052     4260  {68594DDD-8C45-4C03-81BC-AA37C70A2E6F}   \n",
       "10530     2217  {d31dc454-43c9-4a71-870e-4cf6ca5fc394}   \n",
       "392       8019  {430DB8B8-C29B-4B7A-8CB9-F7FA2C88FF25}   \n",
       "5386      7910  {299B1389-19CF-4152-8EAB-B31DA0AFE60F}   \n",
       "...        ...                                     ...   \n",
       "2286      8812  {2152DE7B-C389-4D2C-80D5-D6C49CD4F3BF}   \n",
       "2749     10452  {19DE33E1-8174-4CE1-8683-BCDD963E1D5B}   \n",
       "10222     1443    ac030024-7524-4ec0-8f5d-ede2d96af62d   \n",
       "7284      8292  {7846E68C-B47B-421C-8523-3632944DBFEA}   \n",
       "4916     11561  {D12990BB-3C00-44F8-8BFA-AEFE4CB3860C}   \n",
       "\n",
       "      Seating Interest (Sidewalk/Roadway/Both)             Restaurant Name  \\\n",
       "10885                                 sidewalk           LE PAIN QUOTIDIEN   \n",
       "10052                                 sidewalk                     Tarachi   \n",
       "10530                                     both                    Briciola   \n",
       "392                                openstreets  Starbucks Reserve Roastery   \n",
       "5386                                  sidewalk                   starbucks   \n",
       "...                                        ...                         ...   \n",
       "2286                               openstreets                     An Choi   \n",
       "2749                                      both                 The EAR Inn   \n",
       "10222                                 sidewalk           The Castello Plan   \n",
       "7284                                      both            Balthazar Bakery   \n",
       "4916                                   roadway               EL BUEN SABOR   \n",
       "\n",
       "             Legal Business Name               Doing Business As (DBA)  \\\n",
       "10885      MPQ 921 BROADWAY, LLC  LPQ USA, LLC - Disbursements Account   \n",
       "10052            Tarachi NYC LLC                       Tarachi NYC LLC   \n",
       "10530              Briciola Corp                         Briciola Corp   \n",
       "392     Siren Retail Corporation              Siren Retail Corporation   \n",
       "5386   Sstarbucks coffee company             Sstarbucks coffee company   \n",
       "...                          ...                                   ...   \n",
       "2286               SaigonNYC Ltd                               An Choi   \n",
       "2749                 EAR Inn Inc                           EAR Inn Inc   \n",
       "10222                Shakeen LLC                     The Castello Plan   \n",
       "7284       Humphrey's Bakery inc                      Balthazar Bakery   \n",
       "4916     EL BUEN SABOR DELI CORP                         EL BUEN SABOR   \n",
       "\n",
       "      Building Number          Street    Borough Postcode  ...  \\\n",
       "10885       undefined    921 BROADWAY  Manhattan    10010  ...   \n",
       "10052             222      Greene Ave   Brooklyn    11238  ...   \n",
       "10530             370          w 51st  Manhattan    10019  ...   \n",
       "392                61      9th Avenue  Manhattan    10011  ...   \n",
       "5386              124    eight avenue  Manhattan    10011  ...   \n",
       "...               ...             ...        ...      ...  ...   \n",
       "2286               85         Orchard  Manhattan    10002  ...   \n",
       "2749        326 & 330   Spring Street  Manhattan    10013  ...   \n",
       "10222            1213  Cortelyou Road   Brooklyn    11218  ...   \n",
       "7284               80       Spring St  Manhattan    10012  ...   \n",
       "4916        undefined   8920 163RD ST     Queens    11432  ...   \n",
       "\n",
       "      healthCompliance_terms      Time of Submission   Latitude   Longitude  \\\n",
       "10885                    yes  07/07/2021 02:01:00 PM  40.739976  -73.989564   \n",
       "10052                    yes  06/23/2020 12:19:00 PM  40.687145  -73.961988   \n",
       "10530                    yes  06/20/2020 12:42:00 PM  40.763861  -73.987918   \n",
       "392                      yes  07/10/2020 01:11:00 PM   40.74144   -74.00502   \n",
       "5386                     yes  07/09/2020 03:50:00 PM        NaN         NaN   \n",
       "...                      ...                     ...        ...         ...   \n",
       "2286                     yes  07/17/2020 07:21:00 PM        NaN         NaN   \n",
       "2749                     yes  08/19/2020 04:47:00 PM        NaN         NaN   \n",
       "10222                    yes  06/19/2020 04:35:00 PM  40.640139  -73.966847   \n",
       "7284                     yes  07/14/2020 07:34:00 AM   40.72271   -73.99811   \n",
       "4916                     yes  11/24/2020 02:27:00 PM  40.706657  -73.798044   \n",
       "\n",
       "      Community Board Council District Census Tract      BIN         BBL  \\\n",
       "10885               5                2           56  1016239  1008500001   \n",
       "10052               2               35          231  3056252  3019660008   \n",
       "10530               4                3          133  1025187  1010410061   \n",
       "392                 4                3           83  1090217  1007120036   \n",
       "5386              NaN              NaN          NaN      NaN         NaN   \n",
       "...               ...              ...          ...      ...         ...   \n",
       "2286              NaN              NaN          NaN      NaN         NaN   \n",
       "2749              NaN              NaN          NaN      NaN         NaN   \n",
       "10222              14               40         1522  3118320  3051430084   \n",
       "7284                2                1           45  1007238  1004830017   \n",
       "4916               12               24        44601  4445975  4097610057   \n",
       "\n",
       "                                              NTA  \n",
       "10885  Hudson Yards-Chelsea-Flatiron-Union Square  \n",
       "10052                                Clinton Hill  \n",
       "10530                                     Clinton  \n",
       "392    Hudson Yards-Chelsea-Flatiron-Union Square  \n",
       "5386                                          NaN  \n",
       "...                                           ...  \n",
       "2286                                          NaN  \n",
       "2749                                          NaN  \n",
       "10222                                    Flatbush  \n",
       "7284       SoHo-TriBeCa-Civic Center-Little Italy  \n",
       "4916                                      Jamaica  \n",
       "\n",
       "[382 rows x 35 columns]"
      ]
     },
     "execution_count": 83,
     "metadata": {},
     "output_type": "execute_result"
    }
   ],
   "source": [
    "df_sample"
   ]
  },
  {
   "cell_type": "code",
   "execution_count": null,
   "id": "59908855",
   "metadata": {},
   "outputs": [],
   "source": []
  },
  {
   "cell_type": "markdown",
   "id": "3f734f9f",
   "metadata": {},
   "source": [
    "## Describe columns in groups so they fit on screen"
   ]
  },
  {
   "cell_type": "code",
   "execution_count": 84,
   "id": "66610cdc",
   "metadata": {
    "scrolled": true
   },
   "outputs": [
    {
     "data": {
      "text/html": [
       "<div>\n",
       "<style scoped>\n",
       "    .dataframe tbody tr th:only-of-type {\n",
       "        vertical-align: middle;\n",
       "    }\n",
       "\n",
       "    .dataframe tbody tr th {\n",
       "        vertical-align: top;\n",
       "    }\n",
       "\n",
       "    .dataframe thead th {\n",
       "        text-align: right;\n",
       "    }\n",
       "</style>\n",
       "<table border=\"1\" class=\"dataframe\">\n",
       "  <thead>\n",
       "    <tr style=\"text-align: right;\">\n",
       "      <th></th>\n",
       "      <th>objectid</th>\n",
       "      <th>globalid</th>\n",
       "      <th>Seating Interest (Sidewalk/Roadway/Both)</th>\n",
       "      <th>Restaurant Name</th>\n",
       "      <th>Legal Business Name</th>\n",
       "      <th>Doing Business As (DBA)</th>\n",
       "      <th>Building Number</th>\n",
       "      <th>Street</th>\n",
       "      <th>Borough</th>\n",
       "      <th>Postcode</th>\n",
       "      <th>Business Address</th>\n",
       "      <th>Food Service Establishment Permit #</th>\n",
       "      <th>Sidewalk Dimensions (Length)</th>\n",
       "      <th>Sidewalk Dimensions (Width)</th>\n",
       "      <th>Sidewalk Dimensions (Area)</th>\n",
       "      <th>Roadway Dimensions (Length)</th>\n",
       "      <th>Roadway Dimensions (Width)</th>\n",
       "      <th>Roadway Dimensions (Area)</th>\n",
       "      <th>Approved for Sidewalk Seating</th>\n",
       "      <th>Approved for Roadway Seating</th>\n",
       "    </tr>\n",
       "  </thead>\n",
       "  <tbody>\n",
       "    <tr>\n",
       "      <th>count</th>\n",
       "      <td>13027</td>\n",
       "      <td>13027</td>\n",
       "      <td>13027</td>\n",
       "      <td>13026</td>\n",
       "      <td>13026</td>\n",
       "      <td>13015</td>\n",
       "      <td>12776</td>\n",
       "      <td>13027</td>\n",
       "      <td>13027</td>\n",
       "      <td>13027</td>\n",
       "      <td>13027</td>\n",
       "      <td>13022</td>\n",
       "      <td>10983</td>\n",
       "      <td>10983</td>\n",
       "      <td>10983</td>\n",
       "      <td>8350</td>\n",
       "      <td>8350</td>\n",
       "      <td>8350</td>\n",
       "      <td>13027</td>\n",
       "      <td>13027</td>\n",
       "    </tr>\n",
       "    <tr>\n",
       "      <th>unique</th>\n",
       "      <td>13020</td>\n",
       "      <td>13024</td>\n",
       "      <td>4</td>\n",
       "      <td>10678</td>\n",
       "      <td>11392</td>\n",
       "      <td>10998</td>\n",
       "      <td>4315</td>\n",
       "      <td>6495</td>\n",
       "      <td>5</td>\n",
       "      <td>245</td>\n",
       "      <td>12004</td>\n",
       "      <td>10272</td>\n",
       "      <td>200</td>\n",
       "      <td>48</td>\n",
       "      <td>831</td>\n",
       "      <td>172</td>\n",
       "      <td>45</td>\n",
       "      <td>401</td>\n",
       "      <td>2</td>\n",
       "      <td>2</td>\n",
       "    </tr>\n",
       "    <tr>\n",
       "      <th>top</th>\n",
       "      <td>7065</td>\n",
       "      <td>{98116B37-C5FA-4989-81B1-57246EACC2A0}</td>\n",
       "      <td>both</td>\n",
       "      <td>SWEETGREEN</td>\n",
       "      <td>SWEETGREEN NEW YORK LLC</td>\n",
       "      <td>SWEETGREEN</td>\n",
       "      <td>undefined</td>\n",
       "      <td>Broadway</td>\n",
       "      <td>Manhattan</td>\n",
       "      <td>10003</td>\n",
       "      <td>445 Albee Square West, Brooklyn, NY</td>\n",
       "      <td>0</td>\n",
       "      <td>20</td>\n",
       "      <td>8</td>\n",
       "      <td>120</td>\n",
       "      <td>20</td>\n",
       "      <td>8</td>\n",
       "      <td>160</td>\n",
       "      <td>yes</td>\n",
       "      <td>yes</td>\n",
       "    </tr>\n",
       "    <tr>\n",
       "      <th>freq</th>\n",
       "      <td>2</td>\n",
       "      <td>2</td>\n",
       "      <td>6670</td>\n",
       "      <td>31</td>\n",
       "      <td>30</td>\n",
       "      <td>29</td>\n",
       "      <td>2232</td>\n",
       "      <td>282</td>\n",
       "      <td>6373</td>\n",
       "      <td>547</td>\n",
       "      <td>9</td>\n",
       "      <td>28</td>\n",
       "      <td>978</td>\n",
       "      <td>1361</td>\n",
       "      <td>318</td>\n",
       "      <td>893</td>\n",
       "      <td>6594</td>\n",
       "      <td>721</td>\n",
       "      <td>10983</td>\n",
       "      <td>8350</td>\n",
       "    </tr>\n",
       "  </tbody>\n",
       "</table>\n",
       "</div>"
      ],
      "text/plain": [
       "       objectid                                globalid  \\\n",
       "count     13027                                   13027   \n",
       "unique    13020                                   13024   \n",
       "top        7065  {98116B37-C5FA-4989-81B1-57246EACC2A0}   \n",
       "freq          2                                       2   \n",
       "\n",
       "       Seating Interest (Sidewalk/Roadway/Both) Restaurant Name  \\\n",
       "count                                     13027           13026   \n",
       "unique                                        4           10678   \n",
       "top                                        both      SWEETGREEN   \n",
       "freq                                       6670              31   \n",
       "\n",
       "            Legal Business Name Doing Business As (DBA) Building Number  \\\n",
       "count                     13026                   13015           12776   \n",
       "unique                    11392                   10998            4315   \n",
       "top     SWEETGREEN NEW YORK LLC              SWEETGREEN       undefined   \n",
       "freq                         30                      29            2232   \n",
       "\n",
       "          Street    Borough Postcode                     Business Address  \\\n",
       "count      13027      13027    13027                                13027   \n",
       "unique      6495          5      245                                12004   \n",
       "top     Broadway  Manhattan    10003  445 Albee Square West, Brooklyn, NY   \n",
       "freq         282       6373      547                                    9   \n",
       "\n",
       "       Food Service Establishment Permit # Sidewalk Dimensions (Length)  \\\n",
       "count                                13022                        10983   \n",
       "unique                               10272                          200   \n",
       "top                                      0                           20   \n",
       "freq                                    28                          978   \n",
       "\n",
       "       Sidewalk Dimensions (Width) Sidewalk Dimensions (Area)  \\\n",
       "count                        10983                      10983   \n",
       "unique                          48                        831   \n",
       "top                              8                        120   \n",
       "freq                          1361                        318   \n",
       "\n",
       "       Roadway Dimensions (Length) Roadway Dimensions (Width)  \\\n",
       "count                         8350                       8350   \n",
       "unique                         172                         45   \n",
       "top                             20                          8   \n",
       "freq                           893                       6594   \n",
       "\n",
       "       Roadway Dimensions (Area) Approved for Sidewalk Seating  \\\n",
       "count                       8350                         13027   \n",
       "unique                       401                             2   \n",
       "top                          160                           yes   \n",
       "freq                         721                         10983   \n",
       "\n",
       "       Approved for Roadway Seating  \n",
       "count                         13027  \n",
       "unique                            2  \n",
       "top                             yes  \n",
       "freq                           8350  "
      ]
     },
     "execution_count": 84,
     "metadata": {},
     "output_type": "execute_result"
    }
   ],
   "source": [
    "df[df.columns[:20]].describe()"
   ]
  },
  {
   "cell_type": "code",
   "execution_count": 85,
   "id": "e04ca24b",
   "metadata": {},
   "outputs": [],
   "source": [
    "# Notes:\n",
    "# Building Type looks binary and has 2 values + maybe NAN\n",
    "# Cluster looks binary and has 2 values + maybe NAN\n",
    "# Landmarked looks binary and has 4 values + maybe NAN\n",
    "# Adult Establishment looks binary and has 2 values + maybe NAN\n",
    "# Loft Board looks binary and has 2 values + maybe NAN\n",
    "# City Owned looks binary and has 4 values + maybe NAN\n",
    "# Little e looks binary and has 5 values + maybe NAN\n"
   ]
  },
  {
   "cell_type": "code",
   "execution_count": 86,
   "id": "cc1797db",
   "metadata": {
    "scrolled": false
   },
   "outputs": [
    {
     "data": {
      "text/html": [
       "<div>\n",
       "<style scoped>\n",
       "    .dataframe tbody tr th:only-of-type {\n",
       "        vertical-align: middle;\n",
       "    }\n",
       "\n",
       "    .dataframe tbody tr th {\n",
       "        vertical-align: top;\n",
       "    }\n",
       "\n",
       "    .dataframe thead th {\n",
       "        text-align: right;\n",
       "    }\n",
       "</style>\n",
       "<table border=\"1\" class=\"dataframe\">\n",
       "  <thead>\n",
       "    <tr style=\"text-align: right;\">\n",
       "      <th></th>\n",
       "      <th>Qualify Alcohol</th>\n",
       "      <th>SLA Serial Number</th>\n",
       "      <th>SLA License Type</th>\n",
       "      <th>Landmark District or Building</th>\n",
       "      <th>landmarkDistrict_terms</th>\n",
       "      <th>healthCompliance_terms</th>\n",
       "      <th>Time of Submission</th>\n",
       "      <th>Latitude</th>\n",
       "      <th>Longitude</th>\n",
       "      <th>Community Board</th>\n",
       "      <th>Council District</th>\n",
       "      <th>Census Tract</th>\n",
       "      <th>BIN</th>\n",
       "      <th>BBL</th>\n",
       "      <th>NTA</th>\n",
       "    </tr>\n",
       "  </thead>\n",
       "  <tbody>\n",
       "    <tr>\n",
       "      <th>count</th>\n",
       "      <td>13027</td>\n",
       "      <td>8741</td>\n",
       "      <td>8741</td>\n",
       "      <td>13027</td>\n",
       "      <td>1956</td>\n",
       "      <td>13027</td>\n",
       "      <td>13027</td>\n",
       "      <td>11731</td>\n",
       "      <td>11731</td>\n",
       "      <td>11731</td>\n",
       "      <td>11731</td>\n",
       "      <td>11731</td>\n",
       "      <td>11651</td>\n",
       "      <td>11651</td>\n",
       "      <td>11731</td>\n",
       "    </tr>\n",
       "    <tr>\n",
       "      <th>unique</th>\n",
       "      <td>2</td>\n",
       "      <td>5367</td>\n",
       "      <td>7</td>\n",
       "      <td>2</td>\n",
       "      <td>1</td>\n",
       "      <td>1</td>\n",
       "      <td>10166</td>\n",
       "      <td>8722</td>\n",
       "      <td>8661</td>\n",
       "      <td>19</td>\n",
       "      <td>51</td>\n",
       "      <td>874</td>\n",
       "      <td>8338</td>\n",
       "      <td>8240</td>\n",
       "      <td>186</td>\n",
       "    </tr>\n",
       "    <tr>\n",
       "      <th>top</th>\n",
       "      <td>yes</td>\n",
       "      <td>##############################################...</td>\n",
       "      <td>OP</td>\n",
       "      <td>no</td>\n",
       "      <td>yes</td>\n",
       "      <td>yes</td>\n",
       "      <td>10/19/2021 04:36:00 PM</td>\n",
       "      <td>40.690833</td>\n",
       "      <td>-73.983452</td>\n",
       "      <td>2</td>\n",
       "      <td>3</td>\n",
       "      <td>38</td>\n",
       "      <td>3397861</td>\n",
       "      <td>3001497501</td>\n",
       "      <td>West Village</td>\n",
       "    </tr>\n",
       "    <tr>\n",
       "      <th>freq</th>\n",
       "      <td>8741</td>\n",
       "      <td>47</td>\n",
       "      <td>6315</td>\n",
       "      <td>11071</td>\n",
       "      <td>1956</td>\n",
       "      <td>13027</td>\n",
       "      <td>14</td>\n",
       "      <td>18</td>\n",
       "      <td>18</td>\n",
       "      <td>1752</td>\n",
       "      <td>1386</td>\n",
       "      <td>177</td>\n",
       "      <td>18</td>\n",
       "      <td>18</td>\n",
       "      <td>685</td>\n",
       "    </tr>\n",
       "  </tbody>\n",
       "</table>\n",
       "</div>"
      ],
      "text/plain": [
       "       Qualify Alcohol                                  SLA Serial Number  \\\n",
       "count            13027                                               8741   \n",
       "unique               2                                               5367   \n",
       "top                yes  ##############################################...   \n",
       "freq              8741                                                 47   \n",
       "\n",
       "       SLA License Type Landmark District or Building landmarkDistrict_terms  \\\n",
       "count              8741                         13027                   1956   \n",
       "unique                7                             2                      1   \n",
       "top                  OP                            no                    yes   \n",
       "freq               6315                         11071                   1956   \n",
       "\n",
       "       healthCompliance_terms      Time of Submission   Latitude   Longitude  \\\n",
       "count                   13027                   13027      11731       11731   \n",
       "unique                      1                   10166       8722        8661   \n",
       "top                       yes  10/19/2021 04:36:00 PM  40.690833  -73.983452   \n",
       "freq                    13027                      14         18          18   \n",
       "\n",
       "       Community Board Council District Census Tract      BIN         BBL  \\\n",
       "count            11731            11731        11731    11651       11651   \n",
       "unique              19               51          874     8338        8240   \n",
       "top                  2                3           38  3397861  3001497501   \n",
       "freq              1752             1386          177       18          18   \n",
       "\n",
       "                 NTA  \n",
       "count          11731  \n",
       "unique           186  \n",
       "top     West Village  \n",
       "freq             685  "
      ]
     },
     "execution_count": 86,
     "metadata": {},
     "output_type": "execute_result"
    }
   ],
   "source": [
    "df[df.columns[20:40]].describe()"
   ]
  },
  {
   "cell_type": "code",
   "execution_count": 87,
   "id": "d8c99fc0",
   "metadata": {},
   "outputs": [],
   "source": [
    "# PC Filed -- Other all look binary, and have 1-2 values + maybe NAN\n",
    "#\n",
    "# Take a look at Other Description for weird strings\n",
    "\n",
    "#  Lots of the same First and Last name\n",
    "\n",
    "# Check names and titles\n",
    "\n",
    "# APPLICATNT LICENCSE # NEEDS TO BE A STRING TO PERSERVE THE 0 ON IT (PROBABLY)\n",
    "\n",
    "# Professional Cert looks binary and has 5 values + maybe NAN\n",
    "\n"
   ]
  },
  {
   "cell_type": "code",
   "execution_count": 88,
   "id": "d7441963",
   "metadata": {
    "scrolled": false
   },
   "outputs": [],
   "source": [
    "#df[df.columns[40:60]].describe()"
   ]
  },
  {
   "cell_type": "code",
   "execution_count": 89,
   "id": "38b597c9",
   "metadata": {},
   "outputs": [],
   "source": [
    "# Need to convert date columns to pd.datetime\n",
    "# RENAME PAID TO PAID DATE\n",
    "# RENAME FULLY PAID TO FULLY PAID DATE\n",
    "# RENAME ASSISGNED TO ASSIGNED DATE\n",
    "# RENAME APPROVED TO APPROVED DATE\n",
    "\n",
    "# CHECK COHERENCE OF PAID DATE <= FULLY PAID DATE\n",
    "# CHECK COHERENCE OF PRE FILING DATE <= PAID DATE\n",
    "# CHECK COHERENCE OF ASSIGNED DATE <= APPROVED DATE\n",
    "# \n",
    "\n",
    "# REMOVE $ FROM Initial Cost and Total Estimated Fee, and put them in column name, convert values to floats\n",
    "\n",
    "# Check What fee status is\n",
    "\n",
    "# Check Existing Zoning Sqft, Propsed Zoning Sqft, Enlargement SQ Footage for reasonable values\n",
    "# Change either Sqft to SQ Footage or vvice-versa\n",
    "\n",
    "# Horizontal Enlargement and Vertical Enlargement are booleans + NAN\n",
    "# Change Enlrgmt to Enlargement\n",
    "\n",
    "#Chcek ExisitngNo. of Stories and Proposed # of Stories for reasonableness\n",
    "# Add space between Existing and No.\n",
    "# Change either Job# to Job No. or vice versa\n",
    "# maybe just change all the No./# to \"number\"\n",
    "\n",
    "# Check Existing and proposed height for reasonableness. Add unit to column name\n",
    "\n",
    "# check Existing Dwelling Units for reasonableness \n",
    "\n"
   ]
  },
  {
   "cell_type": "code",
   "execution_count": null,
   "id": "43555bf6",
   "metadata": {},
   "outputs": [],
   "source": []
  },
  {
   "cell_type": "code",
   "execution_count": 90,
   "id": "5659cb6f",
   "metadata": {
    "scrolled": true
   },
   "outputs": [],
   "source": [
    "#df[df.columns[60:80]].describe()"
   ]
  },
  {
   "cell_type": "code",
   "execution_count": 91,
   "id": "88f1f9a9",
   "metadata": {},
   "outputs": [],
   "source": [
    "# check Proposed Dwelling Units\n",
    "## Why does Existing Occupancy have fewer cats than Proposed Occupancy. Check those.\n",
    "\n",
    "# What is Site Fill. \n",
    "\n",
    "# Get list of NYC ZOning Districts and Special Districts\n",
    "\n",
    "# Checmk Owner Typer for spelling issues\n",
    "\n",
    "# Non Profit is binary\n",
    "\n",
    "# Check Owners's First and last name\n",
    "\n",
    "# Owner'sBuisness Name should not be \"OWNER\"\n",
    "\n",
    "# Owner's house number, streeet name, city, state and zip have almost no values\n",
    "\n",
    "# Why is the same phone number so common"
   ]
  },
  {
   "cell_type": "code",
   "execution_count": null,
   "id": "1949246f",
   "metadata": {},
   "outputs": [],
   "source": []
  },
  {
   "cell_type": "code",
   "execution_count": 92,
   "id": "ab30ddcd",
   "metadata": {
    "scrolled": true
   },
   "outputs": [],
   "source": [
    "#df[df.columns[80:100]].describe()"
   ]
  },
  {
   "cell_type": "code",
   "execution_count": 93,
   "id": "a159aa04",
   "metadata": {},
   "outputs": [],
   "source": [
    "\n",
    "# That is a lot of unique job descriptions\n",
    "\n",
    "# Add spaces to DOB Run Date name\n",
    "# make DOB Run Date a datetime\n",
    "\n",
    "# What is Job_S1_NO. It uses underscores.\n",
    "\n",
    "# All the remaining columns have ALL CAPS NAMES WITH UNDERSCORES \n",
    "# TOTAL_CONSTRUCTION_FLOOR_AREA, WITHDRAWAL_FLAG\n",
    "\n",
    "# SIGNOFF_DATE needs to be datetime\n",
    "# SPECIAL_ACTION_STATUS\n",
    "# SPECIAL_ACTION_DATE needs to be datetime\n",
    "# BUILDING_CLASS\n",
    "# What is JOB_NO_GOOD_COUNT\n",
    "#\n",
    "# maybe need GIS DATA\n",
    "# GIS_LATITUDE\n",
    "# GIS_LONGITUDE\n",
    "# GIS_COUNCIL_DISTRICT\n",
    "# GIS_CENSUS_TRACT\n",
    "# GIS_NTA_NAME\n",
    "# GIS_BIN\n",
    "# "
   ]
  },
  {
   "cell_type": "code",
   "execution_count": 94,
   "id": "571f0534",
   "metadata": {},
   "outputs": [
    {
     "data": {
      "text/plain": [
       "Index(['objectid', 'globalid', 'Seating Interest (Sidewalk/Roadway/Both)',\n",
       "       'Restaurant Name', 'Legal Business Name', 'Doing Business As (DBA)',\n",
       "       'Building Number', 'Street', 'Borough', 'Postcode', 'Business Address',\n",
       "       'Food Service Establishment Permit #', 'Sidewalk Dimensions (Length)',\n",
       "       'Sidewalk Dimensions (Width)', 'Sidewalk Dimensions (Area)',\n",
       "       'Roadway Dimensions (Length)', 'Roadway Dimensions (Width)',\n",
       "       'Roadway Dimensions (Area)', 'Approved for Sidewalk Seating',\n",
       "       'Approved for Roadway Seating', 'Qualify Alcohol', 'SLA Serial Number',\n",
       "       'SLA License Type', 'Landmark District or Building',\n",
       "       'landmarkDistrict_terms', 'healthCompliance_terms',\n",
       "       'Time of Submission', 'Latitude', 'Longitude', 'Community Board',\n",
       "       'Council District', 'Census Tract', 'BIN', 'BBL', 'NTA'],\n",
       "      dtype='object')"
      ]
     },
     "execution_count": 94,
     "metadata": {},
     "output_type": "execute_result"
    }
   ],
   "source": [
    "df.columns"
   ]
  },
  {
   "cell_type": "markdown",
   "id": "97f8e2e1",
   "metadata": {},
   "source": [
    "## Renaming columns"
   ]
  },
  {
   "cell_type": "code",
   "execution_count": 107,
   "id": "d1b3baa3",
   "metadata": {},
   "outputs": [],
   "source": [
    "rename_list = list(df.columns)\n",
    "rename_dict = dict()\n",
    "\n",
    "for i in rename_list:\n",
    "    col_name = str(i)\n",
    "    \n",
    "    col_name = col_name.strip().replace(\"_\", \" \").replace(\"’\", \"'\").replace(\".\", \"\")\n",
    "        \n",
    "   \n",
    "    # https://stackoverflow.com/questions/2277352/split-a-string-at-uppercase-letters\n",
    "    # Split on upper case to seperate cocnatenated words:\n",
    "    if (not col_name.islower()) and (not col_name.isupper()) and (col_name.find(\" \") == -1):\n",
    "        col_name = \" \".join(re.sub(\"([A-Z])\", r\" \\1\", col_name).split())\n",
    "    \n",
    "  \n",
    "    if col_name.islower(): #(not col_name.islower()) and (not col_name.isupper()):\n",
    "        col_name = col_name.title()\n",
    "        \n",
    "    if (col_name.isupper()) and (col_name.find(\" \") != -1):\n",
    "        col_name = col_name.title()\n",
    "        \n",
    "    #col_name[0] = col_name[0].upper()\n",
    "        \n",
    "    # Split on underscores and make Title Case \n",
    "    col_name = col_name.replace(\"No\", \"Number\")\n",
    "    col_name = col_name.replace(\"#\", \"Number\")\n",
    "\n",
    "    rename_dict[i] = col_name"
   ]
  },
  {
   "cell_type": "code",
   "execution_count": 108,
   "id": "2b3a7abc",
   "metadata": {},
   "outputs": [
    {
     "data": {
      "text/plain": [
       "{'objectid': 'Objectid',\n",
       " 'globalid': 'Globalid',\n",
       " 'Seating Interest (Sidewalk/Roadway/Both)': 'Seating Interest (Sidewalk/Roadway/Both)',\n",
       " 'Restaurant Name': 'Restaurant Name',\n",
       " 'Legal Business Name': 'Legal Business Name',\n",
       " 'Doing Business As (DBA)': 'Doing Business As (DBA)',\n",
       " 'Building Number': 'Building Number',\n",
       " 'Street': 'Street',\n",
       " 'Borough': 'Borough',\n",
       " 'Postcode': 'Postcode',\n",
       " 'Business Address': 'Business Address',\n",
       " 'Food Service Establishment Permit #': 'Food Service Establishment Permit Number',\n",
       " 'Sidewalk Dimensions (Length)': 'Sidewalk Dimensions (Length)',\n",
       " 'Sidewalk Dimensions (Width)': 'Sidewalk Dimensions (Width)',\n",
       " 'Sidewalk Dimensions (Area)': 'Sidewalk Dimensions (Area)',\n",
       " 'Roadway Dimensions (Length)': 'Roadway Dimensions (Length)',\n",
       " 'Roadway Dimensions (Width)': 'Roadway Dimensions (Width)',\n",
       " 'Roadway Dimensions (Area)': 'Roadway Dimensions (Area)',\n",
       " 'Approved for Sidewalk Seating': 'Approved for Sidewalk Seating',\n",
       " 'Approved for Roadway Seating': 'Approved for Roadway Seating',\n",
       " 'Qualify Alcohol': 'Qualify Alcohol',\n",
       " 'SLA Serial Number': 'SLA Serial Number',\n",
       " 'SLA License Type': 'SLA License Type',\n",
       " 'Landmark District or Building': 'Landmark District or Building',\n",
       " 'landmarkDistrict_terms': 'landmarkDistrict terms',\n",
       " 'healthCompliance_terms': 'healthCompliance terms',\n",
       " 'Time of Submission': 'Time of Submission',\n",
       " 'Latitude': 'Latitude',\n",
       " 'Longitude': 'Longitude',\n",
       " 'Community Board': 'Community Board',\n",
       " 'Council District': 'Council District',\n",
       " 'Census Tract': 'Census Tract',\n",
       " 'BIN': 'BIN',\n",
       " 'BBL': 'BBL',\n",
       " 'NTA': 'NTA'}"
      ]
     },
     "execution_count": 108,
     "metadata": {},
     "output_type": "execute_result"
    }
   ],
   "source": [
    "rename_dict"
   ]
  },
  {
   "cell_type": "code",
   "execution_count": null,
   "id": "478ed9bd",
   "metadata": {},
   "outputs": [],
   "source": []
  },
  {
   "cell_type": "code",
   "execution_count": 109,
   "id": "74a46e5c",
   "metadata": {},
   "outputs": [],
   "source": [
    "df = df.rename(columns=rename_dict)\n",
    "\n",
    "#Lower cased but not sure if this is necessary\n",
    "\n",
    "# df = df.rename(columns={\n",
    "#                          \"PERMIT_SI_NO\": \"Permit Si #\"\n",
    "#                         , \"TOTAL_CONSTRUCTION_FLOOR_AREA\": \"Total Construction Floor Area\"\n",
    "#                         , \"WITHDRAWAL_FLAG\": \"Withdrawl Flag\"\n",
    "#                         , \"SIGNOFF_DATE\": \"Signoff Date\"\n",
    "#                         , \"SPECIAL_ACTION_STATUS\": \"Special Action Status\"\n",
    "#                         , \"SPECIAL_ACTION_DATE\": \"Special Action Date\"\n",
    "#                         , \"BUILDING_CLASS\": \"Building Class\"\n",
    "#                         , \"JOB_NO_GOOD_COUNT\": \"Job No Good Count\"\n",
    "#                         , \"LATITUDE\": \"GIS Latitude\"\n",
    "#                         , \"LONGITUDE\": \"GIS Longitude\"\n",
    "#                         , \"COUNCIL_DISTRICT\": \"GIS Council District\"\n",
    "#                         , \"CENSUS_TRACT\": \"GIS Census Tract\"\n",
    "#                         , \"NTA_NAME\": \"GIS NTA Name\"\n",
    "#                         , \"GIS_BIN\": \"GIS Bin\"\n",
    "#                         })\n"
   ]
  },
  {
   "cell_type": "markdown",
   "id": "04fff37e",
   "metadata": {},
   "source": [
    "#### Method to get an idea of the top 10 values of a column"
   ]
  },
  {
   "cell_type": "code",
   "execution_count": 110,
   "id": "530f64c5",
   "metadata": {},
   "outputs": [],
   "source": [
    "def show_vals(column_name, show_rows=10, df=df):\n",
    "    print(\"Top {} {}:\\n\".format(show_rows, column_name))\n",
    "    try:\n",
    "        print(df[column_name].value_counts(dropna=False)[:show_rows])\n",
    "    except KeyError as e:\n",
    "        print(\"Could not print column: \", column_name)\n",
    "    print()"
   ]
  },
  {
   "cell_type": "code",
   "execution_count": null,
   "id": "ecefab2c",
   "metadata": {},
   "outputs": [],
   "source": []
  },
  {
   "cell_type": "code",
   "execution_count": null,
   "id": "32ce27f4",
   "metadata": {},
   "outputs": [],
   "source": []
  },
  {
   "cell_type": "markdown",
   "id": "b67001a4",
   "metadata": {},
   "source": [
    "### Examining ~Job #s~ Objectid"
   ]
  },
  {
   "cell_type": "markdown",
   "id": "7df54c7d",
   "metadata": {},
   "source": [
    "Some repition in the Job #'s, but nothing major. We will check some of the repeated Job #s to be sure they actually refer to the same jobs"
   ]
  },
  {
   "cell_type": "code",
   "execution_count": 111,
   "id": "098f4d0a",
   "metadata": {
    "scrolled": false
   },
   "outputs": [
    {
     "data": {
      "text/plain": [
       "7065     2\n",
       "12921    2\n",
       "7068     2\n",
       "12920    2\n",
       "12919    2\n",
       "        ..\n",
       "10215    1\n",
       "4302     1\n",
       "1122     1\n",
       "11251    1\n",
       "6641     1\n",
       "Name: Objectid, Length: 13020, dtype: int64"
      ]
     },
     "execution_count": 111,
     "metadata": {},
     "output_type": "execute_result"
    }
   ],
   "source": [
    "df['Objectid'].value_counts(dropna=False)"
   ]
  },
  {
   "cell_type": "markdown",
   "id": "6bb6fc3f",
   "metadata": {},
   "source": [
    "Nothing weird looking here"
   ]
  },
  {
   "cell_type": "markdown",
   "id": "68d68b83",
   "metadata": {},
   "source": [
    "## Examining and reparing house #s"
   ]
  },
  {
   "cell_type": "markdown",
   "id": "a54982ef",
   "metadata": {},
   "source": [
    "House #'s appear to be mostly ints\n",
    "\n",
    "However, there are legitimate house numbers with dashes so we'll have to make them strings"
   ]
  },
  {
   "cell_type": "code",
   "execution_count": 114,
   "id": "57950f91",
   "metadata": {},
   "outputs": [],
   "source": [
    "house_num_cols = [\"Building Number\"]"
   ]
  },
  {
   "cell_type": "code",
   "execution_count": 115,
   "id": "ab4583a2",
   "metadata": {},
   "outputs": [
    {
     "name": "stdout",
     "output_type": "stream",
     "text": [
      "Top 10 Building Number:\n",
      "\n",
      "undefined    2232\n",
      "NaN           251\n",
      "200            32\n",
      "25             32\n",
      "1              32\n",
      "2              31\n",
      "5              29\n",
      "43             27\n",
      "99             26\n",
      "55             25\n",
      "Name: Building Number, dtype: int64\n",
      "\n"
     ]
    }
   ],
   "source": [
    "for col in house_num_cols:\n",
    "    show_vals(col)"
   ]
  },
  {
   "cell_type": "code",
   "execution_count": 116,
   "id": "adf318fe",
   "metadata": {
    "scrolled": true
   },
   "outputs": [
    {
     "name": "stdout",
     "output_type": "stream",
     "text": [
      "Top 10 Building Number:\n",
      "\n",
      "undefined    2232\n",
      "NaN           251\n",
      "200            32\n",
      "25             32\n",
      "1              32\n",
      "2              31\n",
      "5              29\n",
      "43             27\n",
      "99             26\n",
      "55             25\n",
      "Name: Building Number, dtype: int64\n",
      "\n"
     ]
    }
   ],
   "source": [
    "show_vals(\"Building Number\", show_rows=10)"
   ]
  },
  {
   "cell_type": "markdown",
   "id": "90df4f3a",
   "metadata": {},
   "source": [
    "Replace NaN values with empty strings, then convert column to string, and make everything uppercase\n"
   ]
  },
  {
   "cell_type": "code",
   "execution_count": 117,
   "id": "d53a65c3",
   "metadata": {},
   "outputs": [],
   "source": [
    "for col in house_num_cols:\n",
    "    df[col].fillna('', inplace=True)\n",
    "    df[col] = df[col].astype('str')\n",
    "    df[col] = df[col].str.upper()\n",
    "    "
   ]
  },
  {
   "cell_type": "code",
   "execution_count": 118,
   "id": "7bb28929",
   "metadata": {},
   "outputs": [],
   "source": [
    "#df['House Number'].fillna('', inplace=True)\n",
    "#df['House Number'] = df['House Number'].astype('str')\n",
    "#df['House Number'] = df['House Number'].str.upper()"
   ]
  },
  {
   "cell_type": "markdown",
   "id": "06254ff7",
   "metadata": {},
   "source": [
    "Check for numbers spelled out as words"
   ]
  },
  {
   "cell_type": "code",
   "execution_count": 121,
   "id": "dc91b114",
   "metadata": {},
   "outputs": [
    {
     "name": "stdout",
     "output_type": "stream",
     "text": [
      "2        UNDEFINED\n",
      "5        UNDEFINED\n",
      "8        UNDEFINED\n",
      "13       UNDEFINED\n",
      "17       UNDEFINED\n",
      "           ...    \n",
      "12997    UNDEFINED\n",
      "13005    UNDEFINED\n",
      "13006    UNDEFINED\n",
      "13019    UNDEFINED\n",
      "13021    UNDEFINED\n",
      "Name: Building Number, Length: 2240, dtype: object\n"
     ]
    }
   ],
   "source": [
    "for col in house_num_cols:\n",
    "    print(df.loc[(~df[col].isna())\n",
    "       &(df[col].str.isalpha())][col])"
   ]
  },
  {
   "cell_type": "code",
   "execution_count": 123,
   "id": "f8d5683c",
   "metadata": {},
   "outputs": [
    {
     "name": "stdout",
     "output_type": "stream",
     "text": [
      "1                 \n",
      "2        UNDEFINED\n",
      "5        UNDEFINED\n",
      "8        UNDEFINED\n",
      "13       UNDEFINED\n",
      "           ...    \n",
      "12997    UNDEFINED\n",
      "13005    UNDEFINED\n",
      "13006    UNDEFINED\n",
      "13019    UNDEFINED\n",
      "13021    UNDEFINED\n",
      "Name: Building Number, Length: 2493, dtype: object\n"
     ]
    }
   ],
   "source": [
    "for col in house_num_cols:\n",
    "    print(df.loc[(~df[col].str.contains('\\\\d', regex=True))][col])"
   ]
  },
  {
   "cell_type": "code",
   "execution_count": 124,
   "id": "74f3b6a2",
   "metadata": {},
   "outputs": [],
   "source": [
    "#df.loc[(~df['House Number'].str.contains('\\\\d', regex=True))]['House Number']"
   ]
  },
  {
   "cell_type": "code",
   "execution_count": 122,
   "id": "5fa03c29",
   "metadata": {},
   "outputs": [],
   "source": [
    "# df.loc[(~df['House Number'].isna())\n",
    "#        &(df['House Number'].str.isalpha())]['House Number']"
   ]
  },
  {
   "cell_type": "markdown",
   "id": "8568fe9f",
   "metadata": {},
   "source": [
    "Maybe the house Number and borough were flipped in the 'manhattan' case?"
   ]
  },
  {
   "cell_type": "markdown",
   "id": "726e72c6",
   "metadata": {},
   "source": [
    "Check if thses are empty strings:"
   ]
  },
  {
   "cell_type": "code",
   "execution_count": null,
   "id": "a5238884",
   "metadata": {},
   "outputs": [],
   "source": []
  },
  {
   "cell_type": "code",
   "execution_count": 32,
   "id": "f4f0bb19",
   "metadata": {},
   "outputs": [],
   "source": [
    "#df.loc[(~df['House Number'].str.contains('\\\\d', regex=True))]['House Number']"
   ]
  },
  {
   "cell_type": "markdown",
   "id": "41d429b8",
   "metadata": {},
   "source": [
    "Replace spelling of numbers with their value, and remove values 'PIER',  'MANHATTAN',  'NO NUMBER'"
   ]
  },
  {
   "cell_type": "code",
   "execution_count": null,
   "id": "599d8c8a",
   "metadata": {},
   "outputs": [],
   "source": []
  },
  {
   "cell_type": "code",
   "execution_count": 125,
   "id": "8efa733a",
   "metadata": {},
   "outputs": [],
   "source": [
    "for col in house_num_cols:\n",
    "    df.loc[df[col].str.strip('')=='ONE', col] = '1'\n",
    "    df.loc[df[col].str.strip('')=='PIER', col] = ''\n",
    "    df.loc[df[col].str.strip('')=='MANHATTAN', col] = ''\n",
    "    df.loc[df[col].str.strip('')=='NO NUMBER', col] = ''\n",
    "\n",
    "    # need to add B\n",
    "    df.loc[df[col].str.strip('')=='B', col] = ''\n"
   ]
  },
  {
   "cell_type": "markdown",
   "id": "2b8311a9",
   "metadata": {},
   "source": [
    "Most of these will probably be legitimate house numbers, since house numbers can have dashes"
   ]
  },
  {
   "cell_type": "code",
   "execution_count": 35,
   "id": "f658b24e",
   "metadata": {
    "scrolled": false
   },
   "outputs": [],
   "source": [
    "#df.loc[(~df['House Number'].isna())\n",
    "#       &(~df['House Number'].str.isdigit())]['House Number']"
   ]
  },
  {
   "cell_type": "markdown",
   "id": "63e23d48",
   "metadata": {},
   "source": [
    "Check non-numeric house Number's that don't have dashes"
   ]
  },
  {
   "cell_type": "code",
   "execution_count": 36,
   "id": "d2e74992",
   "metadata": {
    "scrolled": false
   },
   "outputs": [],
   "source": [
    "# df.loc[(~df['House Number'].isna())\n",
    "#        &(~df['House Number'].str.isdigit())\n",
    "#       &(~df['House Number'].str.contains('-', regex=False))]['House Number'][:25]"
   ]
  },
  {
   "cell_type": "markdown",
   "id": "a5f1a02e",
   "metadata": {},
   "source": [
    "We see a mix of reference to the house's garage, the rear house and single letters that likely indicate apartments in multi-occupancy venues. \n",
    "\n",
    "We will standardize the formatting, and maintain the reference to garage, rear, and appartment, since there is no apartment column for the job.\n",
    "\n",
    "First split the numbers and words with a space"
   ]
  },
  {
   "cell_type": "code",
   "execution_count": 126,
   "id": "5ba002d6",
   "metadata": {},
   "outputs": [],
   "source": [
    "for col in house_num_cols:\n",
    "    df[col] = df[col].str.replace(pat='(?P<one>\\\\d)(?P<two>[A-Z]+)', repl='\\g<one> \\g<two>', regex=True)\n",
    "    df[col] = df[col].str.replace(pat='(?P<one>GAR$)', repl='GARAGE', regex=True)\n",
    "    df[col] = df[col].str.replace(pat='NORTH([A-Z]+)?', repl='', regex=True)\n",
    "    df[col] = df[col].str.replace(pat='EAST([A-Z]+)?', repl='', regex=True)\n",
    "    df[col] = df[col].str.replace(pat='SOUTH([A-Z]+)?', repl='', regex=True)\n",
    "    df[col] = df[col].str.replace(pat='WEST([A-Z]+)?', repl='', regex=True)"
   ]
  },
  {
   "cell_type": "code",
   "execution_count": null,
   "id": "94936fec",
   "metadata": {},
   "outputs": [],
   "source": []
  },
  {
   "cell_type": "code",
   "execution_count": 127,
   "id": "fccfe735",
   "metadata": {},
   "outputs": [],
   "source": [
    "#df['House Number'] = df['House Number'].str.replace(pat='(?P<one>\\\\d)(?P<two>[A-Z]+)', repl='\\g<one> \\g<two>', regex=True)"
   ]
  },
  {
   "cell_type": "markdown",
   "id": "cab10d0e",
   "metadata": {},
   "source": [
    "Now we will fix the formatting for garage and \n",
    "remove references to north, south, east, west, since they should be in street Number"
   ]
  },
  {
   "cell_type": "code",
   "execution_count": 128,
   "id": "557f3499",
   "metadata": {},
   "outputs": [],
   "source": [
    "#df['House Number'] = df['House Number'].str.replace(pat='(?P<one>GAR$)', repl='GARAGE', regex=True)"
   ]
  },
  {
   "cell_type": "code",
   "execution_count": 129,
   "id": "11fd159d",
   "metadata": {},
   "outputs": [],
   "source": [
    "#df['House Number'] = df['House Number'].str.replace(pat='NORTH([A-Z]+)?', repl='', regex=True)\n",
    "#df['House Number'] = df['House Number'].str.replace(pat='EAST([A-Z]+)?', repl='', regex=True)\n",
    "#df['House Number'] = df['House Number'].str.replace(pat='SOUTH([A-Z]+)?', repl='', regex=True)\n",
    "#df['House Number'] = df['House Number'].str.replace(pat='WEST([A-Z]+)?', repl='', regex=True)"
   ]
  },
  {
   "cell_type": "code",
   "execution_count": 130,
   "id": "ec2edc1a",
   "metadata": {},
   "outputs": [],
   "source": [
    "# ## Confirm that it worked correctly:\n",
    "# df.loc[(~df['House Number'].isna())\n",
    "#        &(~df['House Number'].str.isdigit())\n",
    "#        &(~df['House Number'].str.contains('-', regex=False))]['House Number'][:30]"
   ]
  },
  {
   "cell_type": "markdown",
   "id": "902b00e8",
   "metadata": {},
   "source": [
    "##### Looking at Binary/Pseudo-binary columns:"
   ]
  },
  {
   "cell_type": "markdown",
   "id": "760d129e",
   "metadata": {},
   "source": [
    "For these columns it's clear NaN idicates 'no', however some columns, like site-fill don't quite work"
   ]
  },
  {
   "cell_type": "code",
   "execution_count": 132,
   "id": "1a004bb3",
   "metadata": {
    "scrolled": false
   },
   "outputs": [
    {
     "name": "stdout",
     "output_type": "stream",
     "text": [
      "Top 10 Seating Interest (Sidewalk/Roadway/Both):\n",
      "\n",
      "both           6670\n",
      "sidewalk       4313\n",
      "roadway        1680\n",
      "openstreets     364\n",
      "Name: Seating Interest (Sidewalk/Roadway/Both), dtype: int64\n",
      "\n",
      "Top 10 Borough:\n",
      "\n",
      "Manhattan        6373\n",
      "Brooklyn         3191\n",
      "Queens           2565\n",
      "Bronx             700\n",
      "Staten Island     198\n",
      "Name: Borough, dtype: int64\n",
      "\n",
      "Top 10 Approved for Sidewalk Seating:\n",
      "\n",
      "yes    10983\n",
      "no      2044\n",
      "Name: Approved for Sidewalk Seating, dtype: int64\n",
      "\n",
      "Top 10 Approved for Roadway Seating:\n",
      "\n",
      "yes    8350\n",
      "no     4677\n",
      "Name: Approved for Roadway Seating, dtype: int64\n",
      "\n",
      "Top 10 Qualify Alcohol:\n",
      "\n",
      "yes    8741\n",
      "no     4286\n",
      "Name: Qualify Alcohol, dtype: int64\n",
      "\n",
      "Top 10 Landmark District or Building:\n",
      "\n",
      "no     11071\n",
      "yes     1956\n",
      "Name: Landmark District or Building, dtype: int64\n",
      "\n",
      "Top 10 landmarkDistrict terms:\n",
      "\n",
      "NaN    11071\n",
      "yes     1956\n",
      "Name: landmarkDistrict terms, dtype: int64\n",
      "\n",
      "Top 10 healthCompliance terms:\n",
      "\n",
      "yes    13027\n",
      "Name: healthCompliance terms, dtype: int64\n",
      "\n"
     ]
    }
   ],
   "source": [
    "boolean_cols = []\n",
    "for col in df.columns:\n",
    "    if df[col].nunique() < 7:\n",
    "        show_vals(col)\n",
    "        boolean_cols.append(col)"
   ]
  },
  {
   "cell_type": "code",
   "execution_count": 133,
   "id": "2b8c85ba",
   "metadata": {
    "scrolled": true
   },
   "outputs": [
    {
     "data": {
      "text/plain": [
       "['Seating Interest (Sidewalk/Roadway/Both)',\n",
       " 'Borough',\n",
       " 'Approved for Sidewalk Seating',\n",
       " 'Approved for Roadway Seating',\n",
       " 'Qualify Alcohol',\n",
       " 'Landmark District or Building',\n",
       " 'landmarkDistrict terms',\n",
       " 'healthCompliance terms']"
      ]
     },
     "execution_count": 133,
     "metadata": {},
     "output_type": "execute_result"
    }
   ],
   "source": [
    "boolean_cols"
   ]
  },
  {
   "cell_type": "code",
   "execution_count": 136,
   "id": "e139b57c",
   "metadata": {},
   "outputs": [],
   "source": [
    "boolean_cols.remove('Seating Interest (Sidewalk/Roadway/Both)')\n",
    "boolean_cols.remove('Borough')"
   ]
  },
  {
   "cell_type": "code",
   "execution_count": 138,
   "id": "dea7f73d",
   "metadata": {},
   "outputs": [
    {
     "data": {
      "text/plain": [
       "['Approved for Sidewalk Seating',\n",
       " 'Approved for Roadway Seating',\n",
       " 'Qualify Alcohol',\n",
       " 'Landmark District or Building',\n",
       " 'landmarkDistrict terms',\n",
       " 'healthCompliance terms']"
      ]
     },
     "execution_count": 138,
     "metadata": {},
     "output_type": "execute_result"
    }
   ],
   "source": [
    "boolean_cols \n",
    "\n",
    "#df['Prior Status'].fillna('No Report Filed', inplace=True)\n",
    "#df['Current Status'].fillna('No Report Filed', inplace=True)\n"
   ]
  },
  {
   "cell_type": "code",
   "execution_count": null,
   "id": "3b7a0175",
   "metadata": {},
   "outputs": [],
   "source": [
    "for col in boolean_cols:\n",
    "    df[col].fillna(False, inplace=True)\n",
    "    df[col]"
   ]
  },
  {
   "cell_type": "code",
   "execution_count": null,
   "id": "b69a9fd5",
   "metadata": {},
   "outputs": [],
   "source": []
  },
  {
   "cell_type": "markdown",
   "id": "d224586b",
   "metadata": {},
   "source": [
    "### This will not work, but it is what we did before:"
   ]
  },
  {
   "cell_type": "code",
   "execution_count": 141,
   "id": "042f623d",
   "metadata": {},
   "outputs": [],
   "source": [
    "for col in boolean_cols:\n",
    "    df.loc[df[col]=='Y', col] = True\n",
    "    df.loc[df[col]=='X', col] = True\n",
    "    df.loc[df[col]=='N', col] = False\n",
    "    df.loc[df[col]!=True, col] = False"
   ]
  },
  {
   "cell_type": "code",
   "execution_count": null,
   "id": "2cfecff2",
   "metadata": {},
   "outputs": [],
   "source": [
    "# df['Plumbing'].fillna(False, inplace=True)\n",
    "\n",
    "# df['Mechanical'].fillna(False, inplace=True)\n",
    "\n",
    "# df['Boiler'].fillna(False, inplace=True)\n",
    "\n",
    "# df['Fuel Burning'].fillna(False, inplace=True)\n",
    "\n",
    "# df['Adult Establishment'].fillna(False, inplace=True)\n",
    "\n",
    "# df['Fuel Storage'].fillna(False, inplace=True)\n",
    "\n",
    "# df['Standpipe'].fillna(False, inplace=True)\n",
    "\n",
    "# df['Sprinkler'].fillna(False, inplace=True)\n",
    "\n",
    "# df['Fire Alarm'].fillna(False, inplace=True)\n",
    "\n",
    "# df['Fire Suppression'].fillna(False, inplace=True)\n",
    "\n",
    "# df['Curb Cut'].fillna(False, inplace=True)\n",
    "\n",
    "# df['Other'].fillna(False, inplace=True)\n",
    "\n",
    "\n"
   ]
  },
  {
   "cell_type": "code",
   "execution_count": null,
   "id": "52042c93",
   "metadata": {},
   "outputs": [],
   "source": [
    "# df.loc[df['Plumbing']!=False, 'Plumbing'] = True\n",
    "\n",
    "# df.loc[df['Mechanical']!=False, 'Mechanical'] = True\n",
    "\n",
    "# df.loc[df['Fuel Burning']!=False, 'Fuel Burning'] = True\n",
    "\n",
    "# df.loc[df['Adult Establishment']!=False, 'Adult Establishment'] = True\n",
    "\n",
    "# df.loc[df['Fuel Storage']!=False, 'Fuel Storage'] = True\n",
    "\n",
    "# df.loc[df['Standpipe']!=False, 'Standpipe'] = True\n",
    "\n",
    "# df.loc[df['Sprinkler']!=False, 'Sprinkler'] = True\n",
    "\n",
    "# df.loc[df['Fire Alarm']!=False, 'Fire Alarm'] = True\n",
    "\n",
    "# df.loc[df['Fire Suppression']!=False, 'Fire Suppression'] = True\n",
    "\n",
    "# df.loc[df['Curb Cut']!=False, 'Curb Cut'] = True\n",
    "\n",
    "# df.loc[df['Other']!=False, 'Other'] = True\n",
    "\n"
   ]
  },
  {
   "cell_type": "code",
   "execution_count": null,
   "id": "18a8a2a9",
   "metadata": {},
   "outputs": [],
   "source": [
    "# df['Plumbing'] = df['Plumbing'].astype('bool')\n",
    "\n",
    "# df['Mechanical'] = df['Mechanical'].astype('bool')\n",
    "\n",
    "# df['Boiler'] = df['Boiler'].astype('bool')\n",
    "\n",
    "# df['Fuel Burning'] = df['Fuel Burning'].astype('bool')\n",
    "\n",
    "# df['Adult Establishment'] = df['Adult Establishment'].astype('bool')\n",
    "\n",
    "# df['Fuel Storage'] = df['Fuel Storage'].astype('bool')\n",
    "\n",
    "# df['Standpipe'] = df['Standpipe'].astype('bool')\n",
    "\n",
    "# df['Sprinkler'] = df['Sprinkler'].astype('bool')\n",
    "\n",
    "# df['Fire Alarm'] = df['Fire Alarm'].astype('bool')\n",
    "\n",
    "# df['Fire Suppression'] = df['Fire Suppression'].astype('bool')\n",
    "\n",
    "# df['Curb Cut'] = df['Curb Cut'].astype('bool')\n",
    "\n",
    "# df['Other'] = df['Other'].astype('bool')\n",
    "\n",
    "\n",
    "# #Fill null values with False/'N'\n",
    "\n",
    "# df['Landmarked'].fillna('N', inplace=True)\n",
    "\n",
    "# df['Little e'].fillna('N', inplace=True)\n",
    "\n",
    "# df.loc[df['Little e']=='X', 'Little e'] = 'Y' # fix this one-off value for Little e\n",
    "\n",
    "\n",
    "# #For the clearly binary cases, fill 'Y' values with True, and the other values with False\n",
    "\n"
   ]
  },
  {
   "cell_type": "code",
   "execution_count": null,
   "id": "65c92c66",
   "metadata": {},
   "outputs": [],
   "source": [
    "# df.loc[df['Loft Board']=='Y', 'Loft Board'] = True\n",
    "\n",
    "# df.loc[df['City Owned']=='Y', 'City Owned'] = True\n",
    "\n",
    "# df.loc[df['PC Filed']=='Y', 'PC Filed'] = True\n",
    "\n",
    "# df.loc[df['eFiling Filed']=='Y', 'eFiling Filed'] = True\n",
    "\n",
    "# df.loc[df['Professional Cert']=='Y', 'Professional Cert'] = True\n",
    "\n",
    "# df.loc[df['Non-Profit']=='Y', 'Non-Profit'] = True\n",
    "\n",
    "# df.loc[df['Horizontal Enlargement']=='Y', 'Horizontal Enlargement'] = True\n",
    "\n",
    "# df.loc[df['Vertical Enlargement']=='Y', 'Vertical Enlargement'] = True\n",
    "\n",
    "\n"
   ]
  },
  {
   "cell_type": "code",
   "execution_count": null,
   "id": "b2334877",
   "metadata": {},
   "outputs": [],
   "source": [
    "# df.loc[df['Loft Board']!=True, 'Loft Board'] = False\n",
    "\n",
    "# df.loc[df['City Owned']!=True, 'City Owned'] = False\n",
    "\n",
    "# df.loc[df['PC Filed']!=True, 'PC Filed'] = False\n",
    "\n",
    "# df.loc[df['eFiling Filed']!=True, 'eFiling Filed'] = False\n",
    "\n",
    "# df.loc[df['Professional Cert']!=True, 'Professional Cert'] = False\n",
    "\n",
    "# df.loc[df['Non-Profit']!=True, 'Non-Profit'] = False\n",
    "\n",
    "# df.loc[df['Horizontal Enlargement']!=True, 'Horizontal Enlargement'] = False\n",
    "\n",
    "# df.loc[df['Vertical Enlargement']!=True, 'Vertical Enlargement'] = False\n"
   ]
  },
  {
   "cell_type": "code",
   "execution_count": null,
   "id": "ad443333",
   "metadata": {},
   "outputs": [],
   "source": []
  },
  {
   "cell_type": "code",
   "execution_count": null,
   "id": "ef8acf7b",
   "metadata": {},
   "outputs": [],
   "source": []
  },
  {
   "cell_type": "code",
   "execution_count": null,
   "id": "cab761c2",
   "metadata": {},
   "outputs": [],
   "source": []
  },
  {
   "cell_type": "code",
   "execution_count": null,
   "id": "d235e113",
   "metadata": {},
   "outputs": [],
   "source": []
  },
  {
   "cell_type": "code",
   "execution_count": null,
   "id": "b8baebb7",
   "metadata": {},
   "outputs": [],
   "source": []
  },
  {
   "cell_type": "code",
   "execution_count": null,
   "id": "296f70cd",
   "metadata": {},
   "outputs": [],
   "source": []
  },
  {
   "cell_type": "code",
   "execution_count": null,
   "id": "466ebb55",
   "metadata": {},
   "outputs": [],
   "source": [
    "#df['Prior Status'].fillna('No Report Filed', inplace=True)\n",
    "#df['Current Status'].fillna('No Report Filed', inplace=True)\n"
   ]
  },
  {
   "cell_type": "code",
   "execution_count": null,
   "id": "4e3c9e23",
   "metadata": {},
   "outputs": [],
   "source": []
  },
  {
   "cell_type": "code",
   "execution_count": null,
   "id": "e2cc1f1c",
   "metadata": {},
   "outputs": [],
   "source": [
    "# show_vals('Non-Profit')\n",
    "# show_vals('Self Cert')\n",
    "# show_vals('Filing Status')\n",
    "# show_vals('Site Fill')\n",
    "# show_vals('Act as Superintendent')\n",
    "# show_vals('Building Type')\n",
    "# show_vals('Residential')\n",
    "# show_vals('Oil Gas')"
   ]
  },
  {
   "cell_type": "markdown",
   "id": "a742117f",
   "metadata": {},
   "source": [
    "Replace the Nan values with False and replace the other values with True, and then cast the columns to be type bool"
   ]
  },
  {
   "cell_type": "code",
   "execution_count": 142,
   "id": "7db77f8c",
   "metadata": {},
   "outputs": [
    {
     "data": {
      "text/plain": [
       "Index(['Objectid', 'Globalid', 'Seating Interest (Sidewalk/Roadway/Both)',\n",
       "       'Restaurant Name', 'Legal Business Name', 'Doing Business As (DBA)',\n",
       "       'Building Number', 'Street', 'Borough', 'Postcode', 'Business Address',\n",
       "       'Food Service Establishment Permit Number',\n",
       "       'Sidewalk Dimensions (Length)', 'Sidewalk Dimensions (Width)',\n",
       "       'Sidewalk Dimensions (Area)', 'Roadway Dimensions (Length)',\n",
       "       'Roadway Dimensions (Width)', 'Roadway Dimensions (Area)',\n",
       "       'Approved for Sidewalk Seating', 'Approved for Roadway Seating',\n",
       "       'Qualify Alcohol', 'SLA Serial Number', 'SLA License Type',\n",
       "       'Landmark District or Building', 'landmarkDistrict terms',\n",
       "       'healthCompliance terms', 'Time of Submission', 'Latitude', 'Longitude',\n",
       "       'Community Board', 'Council District', 'Census Tract', 'BIN', 'BBL',\n",
       "       'NTA'],\n",
       "      dtype='object')"
      ]
     },
     "execution_count": 142,
     "metadata": {},
     "output_type": "execute_result"
    }
   ],
   "source": [
    "df.columns"
   ]
  },
  {
   "cell_type": "code",
   "execution_count": null,
   "id": "10efef0b",
   "metadata": {},
   "outputs": [],
   "source": [
    "# list of Owner's columns:\n",
    "#owner_cols = df.columns[np.where(np.char.find(np.array(list(df.columns)), 'Owner') > -1)[0]]"
   ]
  },
  {
   "cell_type": "code",
   "execution_count": null,
   "id": "37f21c7c",
   "metadata": {},
   "outputs": [],
   "source": [
    "#np.where(np.char.find(np.array(list(df.columns)), 'Owner') > -1)[0]"
   ]
  },
  {
   "cell_type": "code",
   "execution_count": null,
   "id": "3b526f06",
   "metadata": {},
   "outputs": [],
   "source": [
    "#owner_cols"
   ]
  },
  {
   "cell_type": "code",
   "execution_count": null,
   "id": "c7cf871f",
   "metadata": {
    "scrolled": false
   },
   "outputs": [],
   "source": [
    "#for c in owner_cols:\n",
    "#    show_vals(c)"
   ]
  },
  {
   "cell_type": "code",
   "execution_count": null,
   "id": "5ef82da1",
   "metadata": {},
   "outputs": [],
   "source": [
    "#df['Owner Bus Street Name'].value_counts()"
   ]
  },
  {
   "cell_type": "code",
   "execution_count": null,
   "id": "9846fc8e",
   "metadata": {},
   "outputs": [],
   "source": []
  },
  {
   "cell_type": "code",
   "execution_count": null,
   "id": "c8afdd35",
   "metadata": {},
   "outputs": [],
   "source": []
  },
  {
   "cell_type": "markdown",
   "id": "ab22026c",
   "metadata": {},
   "source": [
    "## Fixing owner's informations"
   ]
  },
  {
   "cell_type": "code",
   "execution_count": null,
   "id": "33a51583",
   "metadata": {},
   "outputs": [],
   "source": [
    "#df.loc[~df[\"Owner Bus Name\"].isna() & df[\"Owner Bus Name\"].str.contains(\"(?i)new york city\")][\"Owner Bus Name\"].value_counts()"
   ]
  },
  {
   "cell_type": "markdown",
   "id": "98c2e653",
   "metadata": {},
   "source": [
    "Normalizes a couple of duplicate names"
   ]
  },
  {
   "cell_type": "code",
   "execution_count": null,
   "id": "65df8804",
   "metadata": {},
   "outputs": [],
   "source": [
    "# df[\"Owner Bus Name\"] = df[\"Owner Bus Name\"].str.replace(\"NEW YORK CITY\", \"NYC\")\n",
    "# df[\"Owner Bus Name\"] = df[\"Owner Bus Name\"].str.upper()\n",
    "# df[\"Owner Bus Name\"] = df[\"Owner Bus Name\"].str.replace(\".\", '', regex=False)\n",
    "# df[\"Owner Bus Name\"] = df[\"Owner Bus Name\"].str.replace(\",\", '', regex=False)"
   ]
  },
  {
   "cell_type": "markdown",
   "id": "4a64221c",
   "metadata": {},
   "source": [
    "All these are the same thing. Uses clusters to fix"
   ]
  },
  {
   "cell_type": "code",
   "execution_count": null,
   "id": "8456ae81",
   "metadata": {
    "scrolled": true
   },
   "outputs": [],
   "source": [
    "# may have to use fuzzy/cluster to fix this problem\n",
    "#df.loc[~df[\"Owner Bus Name\"].isna() & df[\"Owner Bus Name\"].str.contains(\"(?i)HOUSING AUTHORITY\")][\"Owner Bus Name\"].value_counts()"
   ]
  },
  {
   "cell_type": "markdown",
   "id": "1952231b",
   "metadata": {},
   "source": [
    "Used clusters to try to fix the rest of them further below"
   ]
  },
  {
   "cell_type": "code",
   "execution_count": null,
   "id": "615180c5",
   "metadata": {},
   "outputs": [],
   "source": [
    "#df.columns"
   ]
  },
  {
   "cell_type": "markdown",
   "id": "5e7b9f73",
   "metadata": {},
   "source": [
    "A lot of the same phone numbers"
   ]
  },
  {
   "cell_type": "code",
   "execution_count": null,
   "id": "136de4d8",
   "metadata": {},
   "outputs": [],
   "source": [
    "#df[\"Owner's Phone Number\"] = df[\"Owner's Phone Number\"].astype('str')"
   ]
  },
  {
   "cell_type": "code",
   "execution_count": null,
   "id": "1ca99d99",
   "metadata": {
    "scrolled": true
   },
   "outputs": [],
   "source": [
    "#df.loc[df[\"Owner's Phone Number\"].str.contains(\"7184728000\")][[\"Owner's First Name\", \"Owner's Last Name\",\"Owner Bus Name\", \"Owner's Phone Number\"]]"
   ]
  },
  {
   "cell_type": "markdown",
   "id": "2cef70f5",
   "metadata": {},
   "source": [
    "All from the same business name so it makes sense"
   ]
  },
  {
   "cell_type": "code",
   "execution_count": null,
   "id": "4d88d1f4",
   "metadata": {
    "scrolled": false
   },
   "outputs": [],
   "source": [
    "#df.loc[df[\"Owner's Phone Number\"]=='nan']"
   ]
  },
  {
   "cell_type": "markdown",
   "id": "b87be56c",
   "metadata": {},
   "source": [
    "Nothing wrong with these jobs without an owner's phone number"
   ]
  },
  {
   "cell_type": "code",
   "execution_count": null,
   "id": "d25c7eb4",
   "metadata": {
    "scrolled": true
   },
   "outputs": [],
   "source": [
    "#df.loc[~df[\"Owner's Phone Number\"].isna() & df[\"Owner's Phone Number\"].str.contains(\"-\")][\"Owner's Phone Number\"].value_counts()"
   ]
  },
  {
   "cell_type": "markdown",
   "id": "388d9b1d",
   "metadata": {},
   "source": [
    "Phone numbers should not contain \"-\""
   ]
  },
  {
   "cell_type": "code",
   "execution_count": null,
   "id": "db11d510",
   "metadata": {
    "scrolled": true
   },
   "outputs": [],
   "source": [
    "#df.loc[~df[\"Owner's Phone Number\"].isna() & df[\"Owner's Phone Number\"].str.contains(\" \")][\"Owner's Phone Number\"].value_counts()"
   ]
  },
  {
   "cell_type": "markdown",
   "id": "be05d294",
   "metadata": {},
   "source": [
    "Phone numbers should not contain empty space"
   ]
  },
  {
   "cell_type": "markdown",
   "id": "a7cff51f",
   "metadata": {},
   "source": [
    "### Cleaning phone number"
   ]
  },
  {
   "cell_type": "markdown",
   "id": "3ef2b318",
   "metadata": {},
   "source": [
    "#### removes non-numeric characters"
   ]
  },
  {
   "cell_type": "code",
   "execution_count": null,
   "id": "f47d9d7a",
   "metadata": {
    "scrolled": true
   },
   "outputs": [],
   "source": [
    "#df[\"Owner's Phone Number\"] = df[\"Owner's Phone Number\"].str.extract('(\\d+)', expand=False)\n",
    "#df.loc[~df[\"Owner's Phone Number\"].isna() & df[\"Owner's Phone Number\"].str.contains(\" \")][\"Owner's Phone Number\"].value_counts()"
   ]
  },
  {
   "cell_type": "markdown",
   "id": "5ebdcc35",
   "metadata": {},
   "source": [
    "#### Turns phone numbers that start with 0, 1, and does not have 10 digits into nan"
   ]
  },
  {
   "cell_type": "code",
   "execution_count": null,
   "id": "3a07568c",
   "metadata": {},
   "outputs": [],
   "source": [
    "#df[\"Owner's Phone Number\"] = df[\"Owner's Phone Number\"].astype('str')\n",
    "#df.loc[~df[\"Owner's Phone Number\"].isna() & ((df[\"Owner's Phone Number\"].str[0] == \"0\") | (df[\"Owner's Phone Number\"].str[0] == \"1\") | (df[\"Owner's Phone Number\"].apply(len) != 10)), [\"Owner's Phone Number\"]] = np.nan"
   ]
  },
  {
   "cell_type": "markdown",
   "id": "c8215291",
   "metadata": {},
   "source": [
    "#### Checks to see if there are any others not of length 10"
   ]
  },
  {
   "cell_type": "code",
   "execution_count": null,
   "id": "c0a1dc70",
   "metadata": {
    "scrolled": false
   },
   "outputs": [],
   "source": [
    "#df[\"Owner's Phone Number\"] = df[\"Owner's Phone Number\"].astype('str')\n",
    "#df.loc[(df[\"Owner's Phone Number\"].apply(len) != 10)][\"Owner's Phone Number\"]"
   ]
  },
  {
   "cell_type": "markdown",
   "id": "b97ad8d5",
   "metadata": {},
   "source": [
    "#### Check for non-numeric charaters"
   ]
  },
  {
   "cell_type": "code",
   "execution_count": null,
   "id": "3e813ae2",
   "metadata": {},
   "outputs": [],
   "source": [
    "#df.loc[(~df[\"Owner's Phone Number\"].str.isnumeric()) & (~(df[\"Owner's Phone Number\"]=='nan'))][\"Owner's Phone Number\"]"
   ]
  },
  {
   "cell_type": "code",
   "execution_count": null,
   "id": "5b2d95f6",
   "metadata": {},
   "outputs": [],
   "source": []
  },
  {
   "cell_type": "code",
   "execution_count": null,
   "id": "bda94832",
   "metadata": {},
   "outputs": [],
   "source": []
  },
  {
   "cell_type": "code",
   "execution_count": null,
   "id": "955f356c",
   "metadata": {},
   "outputs": [],
   "source": []
  },
  {
   "cell_type": "markdown",
   "id": "a4993689",
   "metadata": {},
   "source": [
    "# Fixing Qewi columns"
   ]
  },
  {
   "cell_type": "code",
   "execution_count": null,
   "id": "23190383",
   "metadata": {},
   "outputs": [],
   "source": [
    "# list of Owner's columns:\n",
    "#qewi_cols = df.columns[np.where(np.char.find(np.array(list(df.columns)), 'Qewi') > -1)[0]]"
   ]
  },
  {
   "cell_type": "code",
   "execution_count": null,
   "id": "1771a131",
   "metadata": {},
   "outputs": [],
   "source": [
    "#np.where(np.char.find(np.array(list(df.columns)), 'Qewi') > -1)[0]"
   ]
  },
  {
   "cell_type": "code",
   "execution_count": null,
   "id": "83ab367f",
   "metadata": {},
   "outputs": [],
   "source": [
    "#qewi_cols"
   ]
  },
  {
   "cell_type": "code",
   "execution_count": null,
   "id": "8cf4793b",
   "metadata": {
    "scrolled": false
   },
   "outputs": [],
   "source": [
    "#for c in qewi_cols:\n",
    "#    show_vals(c)"
   ]
  },
  {
   "cell_type": "code",
   "execution_count": null,
   "id": "841aef67",
   "metadata": {},
   "outputs": [],
   "source": [
    "#df['Qewi Bus Name']"
   ]
  },
  {
   "cell_type": "code",
   "execution_count": null,
   "id": "cc70ff6b",
   "metadata": {},
   "outputs": [],
   "source": []
  },
  {
   "cell_type": "code",
   "execution_count": null,
   "id": "cfcf0bef",
   "metadata": {},
   "outputs": [],
   "source": [
    "#df.loc[~df[\"Qewi Bus Name\"].isna() & df[\"Qewi Bus Name\"].str.contains(\"(?i)new york city\")][\"Qewi Bus Name\"].value_counts()"
   ]
  },
  {
   "cell_type": "markdown",
   "id": "8df01436",
   "metadata": {},
   "source": [
    "Normalizes a couple of duplicate names"
   ]
  },
  {
   "cell_type": "code",
   "execution_count": null,
   "id": "93a59656",
   "metadata": {},
   "outputs": [],
   "source": [
    "# df[\"Qewi Bus Name\"] = df[\"Qewi Bus Name\"].str.replace(\"NEW YORK CITY\", \"NYC\")\n",
    "# df[\"Qewi Bus Name\"] = df[\"Qewi Bus Name\"].str.upper()\n",
    "# df[\"Qewi Bus Name\"] = df[\"Qewi Bus Name\"].str.replace(\".\", '', regex=False)\n",
    "# df[\"Qewi Bus Name\"] = df[\"Qewi Bus Name\"].str.replace(\",\", '', regex=False)"
   ]
  },
  {
   "cell_type": "markdown",
   "id": "743017ee",
   "metadata": {},
   "source": [
    "All these are the same thing. Uses clusters to fix"
   ]
  },
  {
   "cell_type": "code",
   "execution_count": null,
   "id": "84ce1c3a",
   "metadata": {
    "scrolled": true
   },
   "outputs": [],
   "source": [
    "# may have to use fuzzy/cluster to fix this problem\n",
    "#df.loc[~df[\"Qewi Bus Name\"].isna() & df[\"Qewi Bus Name\"].str.contains(\"(?i)HOUSING AUTHORITY\")][\"Qewi Bus Name\"].value_counts()"
   ]
  },
  {
   "cell_type": "markdown",
   "id": "b3ed638b",
   "metadata": {},
   "source": [
    "Used clusters to try to fix the rest of them further below"
   ]
  },
  {
   "cell_type": "code",
   "execution_count": null,
   "id": "4eada28f",
   "metadata": {},
   "outputs": [],
   "source": [
    "#df.columns"
   ]
  },
  {
   "cell_type": "markdown",
   "id": "a46f0f13",
   "metadata": {},
   "source": [
    "A lot of the same phone numbers"
   ]
  },
  {
   "cell_type": "code",
   "execution_count": null,
   "id": "0e09ffd3",
   "metadata": {},
   "outputs": [],
   "source": [
    "#df[\"Qewi Phone Number\"] = df[\"Qewi Phone Number\"].astype('str')"
   ]
  },
  {
   "cell_type": "code",
   "execution_count": null,
   "id": "27957f2e",
   "metadata": {
    "scrolled": true
   },
   "outputs": [],
   "source": [
    "#df.loc[df[\"Qewi Phone Number\"].str.contains(\"7184728000\")][[\"Qewi First Name\", \"Qewi Last Name\",\"Qewi Bus Name\", \"Qewi Phone Number\"]]"
   ]
  },
  {
   "cell_type": "markdown",
   "id": "cbfe40c2",
   "metadata": {},
   "source": [
    "All from the same business name so it makes sense"
   ]
  },
  {
   "cell_type": "code",
   "execution_count": null,
   "id": "931e76e4",
   "metadata": {
    "scrolled": false
   },
   "outputs": [],
   "source": [
    "#df.loc[df[\"Qewi Phone Number\"]=='nan']"
   ]
  },
  {
   "cell_type": "markdown",
   "id": "d2f776d6",
   "metadata": {},
   "source": [
    "Nothing wrong with these jobs without an Qewi phone number"
   ]
  },
  {
   "cell_type": "code",
   "execution_count": null,
   "id": "41acffd7",
   "metadata": {
    "scrolled": true
   },
   "outputs": [],
   "source": [
    "#df.loc[~df[\"Qewi Phone Number\"].isna() & df[\"Qewi Phone Number\"].str.contains(\"-\")][\"Qewi Phone Number\"].value_counts()"
   ]
  },
  {
   "cell_type": "markdown",
   "id": "812f4336",
   "metadata": {},
   "source": [
    "Phone numbers should not contain \"-\""
   ]
  },
  {
   "cell_type": "code",
   "execution_count": null,
   "id": "dc59b03b",
   "metadata": {
    "scrolled": true
   },
   "outputs": [],
   "source": [
    "#df.loc[~df[\"Qewi Phone Number\"].isna() & df[\"Qewi Phone Number\"].str.contains(\" \")][\"Qewi Phone Number\"].value_counts()"
   ]
  },
  {
   "cell_type": "markdown",
   "id": "21d62717",
   "metadata": {},
   "source": [
    "Phone numbers should not contain empty space"
   ]
  },
  {
   "cell_type": "markdown",
   "id": "8ed0ab93",
   "metadata": {},
   "source": [
    "### Cleaning phone number"
   ]
  },
  {
   "cell_type": "markdown",
   "id": "c8378b5d",
   "metadata": {},
   "source": [
    "#### removes non-numeric characters"
   ]
  },
  {
   "cell_type": "code",
   "execution_count": null,
   "id": "f12970f7",
   "metadata": {
    "scrolled": true
   },
   "outputs": [],
   "source": [
    "#df[\"Qewi Phone Number\"] = df[\"Qewi Phone Number\"].str.extract('(\\d+)', expand=False)\n",
    "#df.loc[~df[\"Qewi Phone Number\"].isna() & df[\"Qewi Phone Number\"].str.contains(\" \")][\"Qewi Phone Number\"].value_counts()"
   ]
  },
  {
   "cell_type": "markdown",
   "id": "e8e62865",
   "metadata": {},
   "source": [
    "#### Turns phone numbers that start with 0, 1, and does not have 10 digits into nan"
   ]
  },
  {
   "cell_type": "code",
   "execution_count": null,
   "id": "3943eab8",
   "metadata": {},
   "outputs": [],
   "source": [
    "#df[\"Qewi Phone Number\"] = df[\"Qewi Phone Number\"].astype('str')\n",
    "#df.loc[~df[\"Qewi Phone Number\"].isna() & ((df[\"Qewi Phone Number\"].str[0] == \"0\") | (df[\"Qewi Phone Number\"].str[0] == \"1\") | (df[\"Qewi Phone Number\"].apply(len) != 10)), [\"Qewi Phone Number\"]] = np.nan"
   ]
  },
  {
   "cell_type": "markdown",
   "id": "862d7aaf",
   "metadata": {},
   "source": [
    "#### Checks to see if there are any others not of length 10"
   ]
  },
  {
   "cell_type": "code",
   "execution_count": null,
   "id": "9fe8b2ce",
   "metadata": {
    "scrolled": false
   },
   "outputs": [],
   "source": [
    "#df[\"Qewi Phone Number\"] = df[\"Qewi Phone Number\"].astype('str')\n",
    "#df.loc[(df[\"Qewi Phone Number\"].apply(len) != 10)][\"Qewi Phone Number\"]"
   ]
  },
  {
   "cell_type": "markdown",
   "id": "da08afe6",
   "metadata": {},
   "source": [
    "#### Check for non-numeric charaters"
   ]
  },
  {
   "cell_type": "code",
   "execution_count": null,
   "id": "b0f341cd",
   "metadata": {},
   "outputs": [],
   "source": [
    "#df.loc[(~df[\"Qewi Phone Number\"].str.isnumeric()) & (~(df[\"Qewi Phone Number\"]=='nan'))][\"Qewi Phone Number\"]"
   ]
  },
  {
   "cell_type": "code",
   "execution_count": null,
   "id": "07fe9d3f",
   "metadata": {},
   "outputs": [],
   "source": []
  },
  {
   "cell_type": "code",
   "execution_count": null,
   "id": "ca05df89",
   "metadata": {},
   "outputs": [],
   "source": []
  },
  {
   "cell_type": "code",
   "execution_count": null,
   "id": "38a04d92",
   "metadata": {},
   "outputs": [],
   "source": [
    "df.columns"
   ]
  },
  {
   "cell_type": "markdown",
   "id": "1c0ab64b",
   "metadata": {},
   "source": [
    "### Checking Monetary columns"
   ]
  },
  {
   "cell_type": "markdown",
   "id": "1f11525f",
   "metadata": {},
   "source": [
    "## Checking Monetary Values for consistency"
   ]
  },
  {
   "cell_type": "code",
   "execution_count": null,
   "id": "75035e10",
   "metadata": {},
   "outputs": [],
   "source": [
    "# show_vals(\"Late Filing Amt\")\n",
    "# show_vals(\"Failure To File Amt\")\n",
    "# show_vals(\"Failure To Collect Amt\")"
   ]
  },
  {
   "cell_type": "code",
   "execution_count": null,
   "id": "c436cc14",
   "metadata": {},
   "outputs": [],
   "source": [
    "# df['Late Filing Amt'] = df['Late Filing Amt'].astype('str')\n",
    "# df['Failure To File Amt'] = df['Failure To File Amt'].astype('str')\n",
    "# df['Failure To Collect Amt'] = df['Failure To File Amt'].astype('str')"
   ]
  },
  {
   "cell_type": "markdown",
   "id": "49259873",
   "metadata": {},
   "source": [
    "Check if any values are not decimals"
   ]
  },
  {
   "cell_type": "code",
   "execution_count": null,
   "id": "d65df76b",
   "metadata": {},
   "outputs": [],
   "source": [
    "#df.loc[~df[\"Late Filing Amt\"].str.contains(\".\", regex=False)][\"Late Filing Amt\"].value_counts()"
   ]
  },
  {
   "cell_type": "code",
   "execution_count": null,
   "id": "d9e0dcfd",
   "metadata": {
    "scrolled": false
   },
   "outputs": [],
   "source": [
    "#df.loc[~df[\"Failure To File Amt\"].str.contains(\".\", regex=False)][\"Failure To File Amt\"].value_counts()"
   ]
  },
  {
   "cell_type": "code",
   "execution_count": null,
   "id": "60fff8d6",
   "metadata": {},
   "outputs": [],
   "source": [
    "#df.loc[~df[\"Failure To Collect Amt\"].str.contains(\".\", regex=False)][\"Failure To File Amt\"].value_counts()"
   ]
  },
  {
   "cell_type": "markdown",
   "id": "dd084b1d",
   "metadata": {},
   "source": [
    "Dollar signs should be removed and added to column name so we can treat this column as a number"
   ]
  },
  {
   "cell_type": "code",
   "execution_count": null,
   "id": "97ea110d",
   "metadata": {},
   "outputs": [],
   "source": [
    "#df[\"Failure To File Amt\"] = df[\"Failure To File Amt\"].str.replace(\"$\", '', regex=False)"
   ]
  },
  {
   "cell_type": "code",
   "execution_count": null,
   "id": "988cc7b7",
   "metadata": {},
   "outputs": [],
   "source": [
    "#df[\"Late Filing Amt\"] = df[\"Late Filing Amt\"].str.replace(\"$\", '', regex=False)"
   ]
  },
  {
   "cell_type": "code",
   "execution_count": null,
   "id": "c0f31888",
   "metadata": {},
   "outputs": [],
   "source": [
    "#df[\"Failure To Collect Amt\"] = df[\"Failure To File Amt\"].str.replace(\"$\", '', regex=False)"
   ]
  },
  {
   "cell_type": "markdown",
   "id": "0bc31159",
   "metadata": {},
   "source": [
    "In this case we could ~However we can't convert this to integer dollars because there are decimals.~"
   ]
  },
  {
   "cell_type": "code",
   "execution_count": null,
   "id": "585e066c",
   "metadata": {},
   "outputs": [],
   "source": [
    "#df.loc[df[\"Late Filing Amt\"].str.contains(\"\\\\.[^0]\", regex=True)][\"Late Filing Amt\"]"
   ]
  },
  {
   "cell_type": "markdown",
   "id": "1a883a1e",
   "metadata": {},
   "source": [
    "Convert to floats"
   ]
  },
  {
   "cell_type": "code",
   "execution_count": null,
   "id": "20abd49a",
   "metadata": {},
   "outputs": [],
   "source": [
    "#df[\"Late Filing Amt\"] = df[\"Late Filing Amt\"].astype('float')\n",
    "#df['Failure To File Amt'] = df['Failure To File Amt'].astype('float')\n",
    "#df['Failure To Collect Amt'] = df['Failure To Collect Amt'].astype('float')"
   ]
  },
  {
   "cell_type": "code",
   "execution_count": null,
   "id": "c206d099",
   "metadata": {
    "scrolled": false
   },
   "outputs": [],
   "source": [
    "#show_vals(\"Late Filing Amt\")"
   ]
  },
  {
   "cell_type": "code",
   "execution_count": null,
   "id": "865ef942",
   "metadata": {
    "scrolled": false
   },
   "outputs": [],
   "source": [
    "#df['Failure To File Amt'].value_counts(dropna=False)"
   ]
  },
  {
   "cell_type": "markdown",
   "id": "f845c0eb",
   "metadata": {},
   "source": [
    "For unclear reasons, adding xticks makes this plot incredibly slow to display."
   ]
  },
  {
   "cell_type": "code",
   "execution_count": null,
   "id": "dba3dcdf",
   "metadata": {},
   "outputs": [],
   "source": [
    "#df[\"Late Filing Amt\"].plot(kind='hist', loglog=True, title='Late Filing Amt Frequncy (log-log)')"
   ]
  },
  {
   "cell_type": "markdown",
   "id": "dc1b097b",
   "metadata": {},
   "source": [
    "Intial costs appear to be distributed roughly exponentially "
   ]
  },
  {
   "cell_type": "code",
   "execution_count": null,
   "id": "045e94ce",
   "metadata": {
    "scrolled": false
   },
   "outputs": [],
   "source": [
    "#df.loc[df[\"Late Filing Amt\"]<10**8][\"Late Filing Amt\"].plot(kind='hist', logy=True, bins=50, title='Late Filing Amt Frequncy, values < 10^8 (log)')"
   ]
  },
  {
   "cell_type": "markdown",
   "id": "d2ca7cb7",
   "metadata": {},
   "source": [
    "Plotting Failure To File Amt shows it is also roughly exponential in distribution"
   ]
  },
  {
   "cell_type": "code",
   "execution_count": null,
   "id": "c948fce6",
   "metadata": {},
   "outputs": [],
   "source": [
    "#df[\"Failure To File Amt\"].plot(kind='hist', loglog=True, title='Failure To File Amt Frequncy (log-log)')"
   ]
  },
  {
   "cell_type": "code",
   "execution_count": null,
   "id": "fee00277",
   "metadata": {
    "scrolled": false
   },
   "outputs": [],
   "source": [
    "#df.loc[df[\"Failure To File Amt\"]<10**7][\"Failure To File Amt\"].plot(kind='hist', logy=True, bins=50, title='Failure To File Amt Frequncy, values < 10^7 (log)')"
   ]
  },
  {
   "cell_type": "code",
   "execution_count": null,
   "id": "904aaa2b",
   "metadata": {},
   "outputs": [],
   "source": []
  },
  {
   "cell_type": "code",
   "execution_count": null,
   "id": "d6b4b7b1",
   "metadata": {},
   "outputs": [],
   "source": [
    "#df[\"Failure To Collect Amt\"].plot(kind='hist', loglog=True, title='Failure To File Collect Frequncy (log-log)')"
   ]
  },
  {
   "cell_type": "code",
   "execution_count": null,
   "id": "847e38d9",
   "metadata": {},
   "outputs": [],
   "source": [
    "#df.loc[df[\"Failure To Collect Amt\"]<10**7][\"Failure To Collect Amt\"].plot(kind='hist', logy=True, bins=50, title='Failure To Collect Amt Frequncy, values < 10^7 (log)')"
   ]
  },
  {
   "cell_type": "markdown",
   "id": "b6160e55",
   "metadata": {},
   "source": [
    "Now that we've mapped these to numerical values, we can identifiy additional issues"
   ]
  },
  {
   "cell_type": "markdown",
   "id": "fbad5112",
   "metadata": {},
   "source": [
    "#### Fixing Late Filing Amts"
   ]
  },
  {
   "cell_type": "markdown",
   "id": "c921e6f1",
   "metadata": {},
   "source": [
    "##### these look good here:"
   ]
  },
  {
   "cell_type": "code",
   "execution_count": null,
   "id": "5d661cf8",
   "metadata": {},
   "outputs": [],
   "source": [
    "#df[\"Late Filing Amt\"].min()"
   ]
  },
  {
   "cell_type": "code",
   "execution_count": null,
   "id": "df36f7d4",
   "metadata": {},
   "outputs": [],
   "source": [
    "#df[\"Failure To File Amt\"].min()"
   ]
  },
  {
   "cell_type": "code",
   "execution_count": null,
   "id": "b446da1f",
   "metadata": {},
   "outputs": [],
   "source": [
    "#df[\"Failure To Collect Amt\"].min()"
   ]
  },
  {
   "cell_type": "code",
   "execution_count": null,
   "id": "39a746f5",
   "metadata": {},
   "outputs": [],
   "source": []
  },
  {
   "cell_type": "code",
   "execution_count": null,
   "id": "91b111b2",
   "metadata": {},
   "outputs": [],
   "source": [
    "#df[\"Late Filing Amt\"].max()"
   ]
  },
  {
   "cell_type": "code",
   "execution_count": null,
   "id": "cd920657",
   "metadata": {},
   "outputs": [],
   "source": [
    "#df[\"Failure To File Amt\"].max()"
   ]
  },
  {
   "cell_type": "code",
   "execution_count": null,
   "id": "641990d2",
   "metadata": {},
   "outputs": [],
   "source": [
    "#df[\"Failure To Collect Amt\"].max()"
   ]
  },
  {
   "cell_type": "code",
   "execution_count": null,
   "id": "4c18af5e",
   "metadata": {
    "scrolled": false
   },
   "outputs": [],
   "source": [
    "#df.loc[df['Late Filing Amt'] < 0]['Late Filing Amt']"
   ]
  },
  {
   "cell_type": "markdown",
   "id": "89243b11",
   "metadata": {},
   "source": [
    "It's likely that these values were mistakenly entered as negative, so we'll flip them to positive instead of setting them to zero"
   ]
  },
  {
   "cell_type": "code",
   "execution_count": null,
   "id": "114718d2",
   "metadata": {},
   "outputs": [],
   "source": [
    "#df.loc[df['Late Filing Amt'] == -33000.0, 'Late Filing Amt'] = 33000.0\n",
    "#df.loc[df['Late Filing Amt'] == -100.0, 'Late Filing Amt'] = 100.0"
   ]
  },
  {
   "cell_type": "markdown",
   "id": "23910b9a",
   "metadata": {},
   "source": [
    "Looks fine ~This is test data:~"
   ]
  },
  {
   "cell_type": "code",
   "execution_count": null,
   "id": "443fa70d",
   "metadata": {
    "scrolled": false
   },
   "outputs": [],
   "source": [
    "# FOLLOWING IS NO LONGER TRUE:\n",
    "#the entire line is filled with fake and false information\n",
    "# The street name is BIS TEST STREET, and almost every value is either the first possible value for the column type, or empty\n",
    "#df.loc[df['Late Filing Amt'] == df[\"Late Filing Amt\"].max()]"
   ]
  },
  {
   "cell_type": "markdown",
   "id": "8d07ed86",
   "metadata": {},
   "source": [
    "We will drop this row"
   ]
  },
  {
   "cell_type": "code",
   "execution_count": null,
   "id": "fed0e144",
   "metadata": {},
   "outputs": [],
   "source": [
    "#df.drop(labels=df.loc[df['Late Filing Amt'] == 999999999].index[0], axis=0, inplace=True)"
   ]
  },
  {
   "cell_type": "code",
   "execution_count": null,
   "id": "35decf0e",
   "metadata": {
    "scrolled": true
   },
   "outputs": [],
   "source": [
    "#df.loc[df['Late Filing Amt'] == 999999999]"
   ]
  },
  {
   "cell_type": "markdown",
   "id": "fdca0ed2",
   "metadata": {},
   "source": [
    "These seem to be real probably"
   ]
  },
  {
   "cell_type": "code",
   "execution_count": null,
   "id": "87631279",
   "metadata": {
    "scrolled": true
   },
   "outputs": [],
   "source": [
    "#df.loc[df['Late Filing Amt']>= 9000000][\"Late Filing Amt\"]"
   ]
  },
  {
   "cell_type": "code",
   "execution_count": null,
   "id": "5c49ca94",
   "metadata": {
    "scrolled": true
   },
   "outputs": [],
   "source": [
    "#df[\"Late Filing Amt\"].max()"
   ]
  },
  {
   "cell_type": "code",
   "execution_count": null,
   "id": "7593f06d",
   "metadata": {},
   "outputs": [],
   "source": []
  },
  {
   "cell_type": "code",
   "execution_count": null,
   "id": "3ab6318e",
   "metadata": {},
   "outputs": [],
   "source": []
  },
  {
   "cell_type": "code",
   "execution_count": null,
   "id": "e4f5b6ba",
   "metadata": {},
   "outputs": [],
   "source": []
  },
  {
   "cell_type": "code",
   "execution_count": null,
   "id": "54c32143",
   "metadata": {},
   "outputs": [],
   "source": []
  },
  {
   "cell_type": "code",
   "execution_count": null,
   "id": "b80ccee3",
   "metadata": {},
   "outputs": [],
   "source": [
    "#df[\"Late Filing Amt\"].plot(kind='hist', logy=True, bins=50, title='Late Filing Amt Frequncy (log)')"
   ]
  },
  {
   "cell_type": "markdown",
   "id": "ac74f8ae",
   "metadata": {},
   "source": [
    "#### Fixing Failure To File Amt"
   ]
  },
  {
   "cell_type": "code",
   "execution_count": null,
   "id": "844d97a5",
   "metadata": {
    "scrolled": true
   },
   "outputs": [],
   "source": [
    "#df.loc[df['Failure To File Amt'] < 0 ]"
   ]
  },
  {
   "cell_type": "markdown",
   "id": "f4ab6c34",
   "metadata": {},
   "source": [
    "We'll fix this as we did with negative monetary values before"
   ]
  },
  {
   "cell_type": "code",
   "execution_count": null,
   "id": "7a99004f",
   "metadata": {},
   "outputs": [],
   "source": [
    "#df.loc[df['Failure To File Amt'] == -85.8,  'Failure To File Amt'] = 85.8"
   ]
  },
  {
   "cell_type": "code",
   "execution_count": null,
   "id": "d1553a74",
   "metadata": {},
   "outputs": [],
   "source": [
    "#df['Failure To File Amt'].max()"
   ]
  },
  {
   "cell_type": "markdown",
   "id": "3ffa0a12",
   "metadata": {},
   "source": [
    "Also seems to have real information"
   ]
  },
  {
   "cell_type": "code",
   "execution_count": null,
   "id": "af6a9335",
   "metadata": {},
   "outputs": [],
   "source": [
    "#df.loc[df['Failure To File Amt']==31500000.0]"
   ]
  },
  {
   "cell_type": "code",
   "execution_count": null,
   "id": "ad2e29e8",
   "metadata": {},
   "outputs": [],
   "source": []
  },
  {
   "cell_type": "code",
   "execution_count": null,
   "id": "74840468",
   "metadata": {},
   "outputs": [],
   "source": []
  },
  {
   "cell_type": "code",
   "execution_count": null,
   "id": "ce05852d",
   "metadata": {},
   "outputs": [],
   "source": []
  },
  {
   "cell_type": "code",
   "execution_count": null,
   "id": "7d20b5a3",
   "metadata": {},
   "outputs": [],
   "source": []
  },
  {
   "cell_type": "code",
   "execution_count": null,
   "id": "8d6b528c",
   "metadata": {},
   "outputs": [],
   "source": []
  },
  {
   "cell_type": "code",
   "execution_count": null,
   "id": "f5007267",
   "metadata": {},
   "outputs": [],
   "source": []
  },
  {
   "cell_type": "code",
   "execution_count": null,
   "id": "a8a55962",
   "metadata": {},
   "outputs": [],
   "source": []
  },
  {
   "cell_type": "code",
   "execution_count": null,
   "id": "2f378055",
   "metadata": {},
   "outputs": [],
   "source": []
  },
  {
   "cell_type": "code",
   "execution_count": null,
   "id": "cea2152a",
   "metadata": {},
   "outputs": [],
   "source": []
  },
  {
   "cell_type": "code",
   "execution_count": null,
   "id": "7b6d9073",
   "metadata": {},
   "outputs": [],
   "source": []
  },
  {
   "cell_type": "markdown",
   "id": "058ff752",
   "metadata": {},
   "source": [
    "### Looking at Zoning districts"
   ]
  },
  {
   "cell_type": "code",
   "execution_count": null,
   "id": "428c854c",
   "metadata": {},
   "outputs": [],
   "source": [
    "#Residence (R), Commerical (C), Manufacturing (M)\n",
    "#show_vals(\"Zoning District 1\")\n",
    "#show_vals(\"Zoning District 2\")"
   ]
  },
  {
   "cell_type": "markdown",
   "id": "60ad0311",
   "metadata": {},
   "source": [
    "Some districts may contain invalid formats"
   ]
  },
  {
   "cell_type": "code",
   "execution_count": null,
   "id": "1edc40f8",
   "metadata": {},
   "outputs": [],
   "source": [
    "# .4-4 looks weird\n",
    "#df[\"Zoning District 1\"].value_counts(dropna=False)"
   ]
  },
  {
   "cell_type": "code",
   "execution_count": null,
   "id": "2cb37c78",
   "metadata": {},
   "outputs": [],
   "source": [
    "#Checks for irregular values (values that do not start with (R), (C), (M))\n",
    "#df[\"Zoning District 1\"] = df[\"Zoning District 1\"].astype('str')\n",
    "#df.loc[(df[\"Zoning District 1\"] != \"nan\") & ~df[\"Zoning District 1\"].str.startswith((\"C\", \"R\", \"M\", \"PARK\", \"BPC\", \"LH\"))][\"Zoning District 1\"].value_counts()"
   ]
  },
  {
   "cell_type": "code",
   "execution_count": null,
   "id": "74af8196",
   "metadata": {},
   "outputs": [],
   "source": [
    "#Checks for irregular values (values that do not start with (R), (C), (M))\n",
    "#df[\"Zoning District 2\"] = df[\"Zoning District 2\"].astype('str')\n",
    "#df.loc[(df[\"Zoning District 2\"] != \"nan\") & ~df[\"Zoning District 2\"].str.startswith((\"C\", \"R\", \"M\", \"PARK\", \"BPC\", \"LH\"))][\"Zoning District 2\"].value_counts()"
   ]
  },
  {
   "cell_type": "code",
   "execution_count": null,
   "id": "be11fd16",
   "metadata": {},
   "outputs": [],
   "source": [
    "#turning the values above into np.nan\n",
    "#df.loc[(df[\"Zoning District 1\"] != \"nan\") & ~df[\"Zoning District 1\"].str.startswith((\"C\", \"R\", \"M\", \"PARK\", \"BPC\", \"LH\")), [\"Zoning District 1\"]] = np.nan\n",
    "#df.loc[(df[\"Zoning District 2\"] != \"nan\") & ~df[\"Zoning District 2\"].str.startswith((\"C\", \"R\", \"M\", \"PARK\", \"BPC\", \"LH\")), [\"Zoning District 2\"]] = np.nan"
   ]
  },
  {
   "cell_type": "markdown",
   "id": "b0446c32",
   "metadata": {},
   "source": [
    "### Looking at special districts"
   ]
  },
  {
   "cell_type": "code",
   "execution_count": null,
   "id": "a6d06020",
   "metadata": {},
   "outputs": [],
   "source": [
    "#show_vals(\"Special District 1\")\n",
    "#show_vals(\"Special District 2\")"
   ]
  },
  {
   "cell_type": "code",
   "execution_count": null,
   "id": "4d58abf8",
   "metadata": {},
   "outputs": [],
   "source": [
    "#Checks to see if there are lower case values\n",
    "#df.loc[~df[\"Special District 1\"].isna() & df[\"Special District 1\"].str.islower()]"
   ]
  },
  {
   "cell_type": "markdown",
   "id": "5cd08350",
   "metadata": {},
   "source": [
    "### Analysis"
   ]
  },
  {
   "cell_type": "markdown",
   "id": "5d452d79",
   "metadata": {},
   "source": [
    "Zoning districts had some zones that were invalid such as number only values (ex.31010)  and we changed those values to nan\n",
    "\n",
    "The typical format for Zoning districts start with C, R, and N. There are also some special districts like PARK and BPC that we also checked\n",
    "\n",
    "Special Districts didn't have any noticable values that were out of place"
   ]
  },
  {
   "cell_type": "code",
   "execution_count": 143,
   "id": "e318bc55",
   "metadata": {},
   "outputs": [
    {
     "data": {
      "text/plain": [
       "Index(['Objectid', 'Globalid', 'Seating Interest (Sidewalk/Roadway/Both)',\n",
       "       'Restaurant Name', 'Legal Business Name', 'Doing Business As (DBA)',\n",
       "       'Building Number', 'Street', 'Borough', 'Postcode', 'Business Address',\n",
       "       'Food Service Establishment Permit Number',\n",
       "       'Sidewalk Dimensions (Length)', 'Sidewalk Dimensions (Width)',\n",
       "       'Sidewalk Dimensions (Area)', 'Roadway Dimensions (Length)',\n",
       "       'Roadway Dimensions (Width)', 'Roadway Dimensions (Area)',\n",
       "       'Approved for Sidewalk Seating', 'Approved for Roadway Seating',\n",
       "       'Qualify Alcohol', 'SLA Serial Number', 'SLA License Type',\n",
       "       'Landmark District or Building', 'landmarkDistrict terms',\n",
       "       'healthCompliance terms', 'Time of Submission', 'Latitude', 'Longitude',\n",
       "       'Community Board', 'Council District', 'Census Tract', 'BIN', 'BBL',\n",
       "       'NTA'],\n",
       "      dtype='object')"
      ]
     },
     "execution_count": 143,
     "metadata": {},
     "output_type": "execute_result"
    }
   ],
   "source": [
    "df.columns"
   ]
  },
  {
   "cell_type": "code",
   "execution_count": null,
   "id": "b4b26928",
   "metadata": {},
   "outputs": [],
   "source": []
  },
  {
   "cell_type": "markdown",
   "id": "42c2652c",
   "metadata": {},
   "source": [
    "### Quick look at GIS"
   ]
  },
  {
   "cell_type": "code",
   "execution_count": 145,
   "id": "95c165fc",
   "metadata": {
    "scrolled": false
   },
   "outputs": [
    {
     "name": "stdout",
     "output_type": "stream",
     "text": [
      "Top 10 Latitude:\n",
      "\n",
      "NaN          1296\n",
      "40.690833      18\n",
      "40.702763      11\n",
      "40.741876       9\n",
      "40.761819       8\n",
      "40.687793       7\n",
      "40.677135       6\n",
      "40.706315       6\n",
      "40.75084        6\n",
      "40.775285       6\n",
      "Name: Latitude, dtype: int64\n",
      "\n",
      "Top 10 Longitude:\n",
      "\n",
      "NaN           1296\n",
      "-73.983452      18\n",
      "-73.986681      12\n",
      "-74.004713       9\n",
      "-73.993889       8\n",
      "-73.98976        7\n",
      "-73.954481       6\n",
      "-73.829381       6\n",
      "-73.985316       6\n",
      "-73.985596       6\n",
      "Name: Longitude, dtype: int64\n",
      "\n",
      "Top 10 Council District:\n",
      "\n",
      "3      1386\n",
      "NaN    1296\n",
      "1      1113\n",
      "2      1027\n",
      "4       870\n",
      "34      550\n",
      "33      523\n",
      "39      447\n",
      "26      396\n",
      "22      374\n",
      "Name: Council District, dtype: int64\n",
      "\n",
      "Top 10 Census Tract:\n",
      "\n",
      "NaN    1296\n",
      "38      177\n",
      "67      139\n",
      "32      132\n",
      "41      132\n",
      "65      127\n",
      "21      109\n",
      "58      102\n",
      "133     101\n",
      "7        99\n",
      "Name: Census Tract, dtype: int64\n",
      "\n",
      "Top 10 NTA:\n",
      "\n",
      "NaN                                           1296\n",
      "West Village                                   685\n",
      "Midtown-Midtown South                          605\n",
      "East Village                                   519\n",
      "SoHo-TriBeCa-Civic Center-Little Italy         513\n",
      "Hudson Yards-Chelsea-Flatiron-Union Square     457\n",
      "Park Slope-Gowanus                             335\n",
      "North Side-South Side                          330\n",
      "Clinton                                        310\n",
      "Chinatown                                      303\n",
      "Name: NTA, dtype: int64\n",
      "\n",
      "Top 10 BIN:\n",
      "\n",
      "NaN        1376\n",
      "3397861      18\n",
      "4000000      17\n",
      "3000090      17\n",
      "3000000      16\n",
      "1012541      13\n",
      "1000000      12\n",
      "1004589       9\n",
      "4036224       8\n",
      "1026941       8\n",
      "Name: BIN, dtype: int64\n",
      "\n"
     ]
    }
   ],
   "source": [
    "show_vals(\"Latitude\")\n",
    "show_vals(\"Longitude\")\n",
    "show_vals(\"Council District\")\n",
    "show_vals(\"Census Tract\")\n",
    "show_vals(\"NTA\")\n",
    "show_vals(\"BIN\")"
   ]
  },
  {
   "cell_type": "code",
   "execution_count": 146,
   "id": "6de0e8be",
   "metadata": {},
   "outputs": [
    {
     "data": {
      "text/html": [
       "<div>\n",
       "<style scoped>\n",
       "    .dataframe tbody tr th:only-of-type {\n",
       "        vertical-align: middle;\n",
       "    }\n",
       "\n",
       "    .dataframe tbody tr th {\n",
       "        vertical-align: top;\n",
       "    }\n",
       "\n",
       "    .dataframe thead th {\n",
       "        text-align: right;\n",
       "    }\n",
       "</style>\n",
       "<table border=\"1\" class=\"dataframe\">\n",
       "  <thead>\n",
       "    <tr style=\"text-align: right;\">\n",
       "      <th></th>\n",
       "      <th>Latitude</th>\n",
       "      <th>Longitude</th>\n",
       "      <th>Council District</th>\n",
       "      <th>Census Tract</th>\n",
       "      <th>NTA</th>\n",
       "    </tr>\n",
       "  </thead>\n",
       "  <tbody>\n",
       "    <tr>\n",
       "      <th>0</th>\n",
       "      <td>40.8005</td>\n",
       "      <td>-73.952507</td>\n",
       "      <td>9</td>\n",
       "      <td>216</td>\n",
       "      <td>Central Harlem South</td>\n",
       "    </tr>\n",
       "    <tr>\n",
       "      <th>1</th>\n",
       "      <td>40.766845</td>\n",
       "      <td>-73.962708</td>\n",
       "      <td>4</td>\n",
       "      <td>118</td>\n",
       "      <td>Lenox Hill-Roosevelt Island</td>\n",
       "    </tr>\n",
       "    <tr>\n",
       "      <th>2</th>\n",
       "      <td>40.744338</td>\n",
       "      <td>-73.99624</td>\n",
       "      <td>3</td>\n",
       "      <td>91</td>\n",
       "      <td>Hudson Yards-Chelsea-Flatiron-Union Square</td>\n",
       "    </tr>\n",
       "    <tr>\n",
       "      <th>3</th>\n",
       "      <td>40.850323</td>\n",
       "      <td>-73.933011</td>\n",
       "      <td>10</td>\n",
       "      <td>271</td>\n",
       "      <td>Washington Heights North</td>\n",
       "    </tr>\n",
       "    <tr>\n",
       "      <th>4</th>\n",
       "      <td>40.79167</td>\n",
       "      <td>-73.946688</td>\n",
       "      <td>8</td>\n",
       "      <td>172</td>\n",
       "      <td>East Harlem South</td>\n",
       "    </tr>\n",
       "    <tr>\n",
       "      <th>...</th>\n",
       "      <td>...</td>\n",
       "      <td>...</td>\n",
       "      <td>...</td>\n",
       "      <td>...</td>\n",
       "      <td>...</td>\n",
       "    </tr>\n",
       "    <tr>\n",
       "      <th>13022</th>\n",
       "      <td>40.784739</td>\n",
       "      <td>-73.845776</td>\n",
       "      <td>19</td>\n",
       "      <td>929</td>\n",
       "      <td>College Point</td>\n",
       "    </tr>\n",
       "    <tr>\n",
       "      <th>13023</th>\n",
       "      <td>40.635543</td>\n",
       "      <td>-74.01122</td>\n",
       "      <td>38</td>\n",
       "      <td>118</td>\n",
       "      <td>Sunset Park East</td>\n",
       "    </tr>\n",
       "    <tr>\n",
       "      <th>13024</th>\n",
       "      <td>40.713298</td>\n",
       "      <td>-74.007773</td>\n",
       "      <td>1</td>\n",
       "      <td>21</td>\n",
       "      <td>SoHo-TriBeCa-Civic Center-Little Italy</td>\n",
       "    </tr>\n",
       "    <tr>\n",
       "      <th>13025</th>\n",
       "      <td>40.733916</td>\n",
       "      <td>-73.989872</td>\n",
       "      <td>2</td>\n",
       "      <td>42</td>\n",
       "      <td>East Village</td>\n",
       "    </tr>\n",
       "    <tr>\n",
       "      <th>13026</th>\n",
       "      <td>40.766927</td>\n",
       "      <td>-73.986423</td>\n",
       "      <td>3</td>\n",
       "      <td>139</td>\n",
       "      <td>Clinton</td>\n",
       "    </tr>\n",
       "  </tbody>\n",
       "</table>\n",
       "<p>13027 rows × 5 columns</p>\n",
       "</div>"
      ],
      "text/plain": [
       "        Latitude   Longitude Council District Census Tract  \\\n",
       "0        40.8005  -73.952507                9          216   \n",
       "1      40.766845  -73.962708                4          118   \n",
       "2      40.744338   -73.99624                3           91   \n",
       "3      40.850323  -73.933011               10          271   \n",
       "4       40.79167  -73.946688                8          172   \n",
       "...          ...         ...              ...          ...   \n",
       "13022  40.784739  -73.845776               19          929   \n",
       "13023  40.635543   -74.01122               38          118   \n",
       "13024  40.713298  -74.007773                1           21   \n",
       "13025  40.733916  -73.989872                2           42   \n",
       "13026  40.766927  -73.986423                3          139   \n",
       "\n",
       "                                              NTA  \n",
       "0                            Central Harlem South  \n",
       "1                     Lenox Hill-Roosevelt Island  \n",
       "2      Hudson Yards-Chelsea-Flatiron-Union Square  \n",
       "3                        Washington Heights North  \n",
       "4                               East Harlem South  \n",
       "...                                           ...  \n",
       "13022                               College Point  \n",
       "13023                            Sunset Park East  \n",
       "13024      SoHo-TriBeCa-Civic Center-Little Italy  \n",
       "13025                                East Village  \n",
       "13026                                     Clinton  \n",
       "\n",
       "[13027 rows x 5 columns]"
      ]
     },
     "execution_count": 146,
     "metadata": {},
     "output_type": "execute_result"
    }
   ],
   "source": [
    "# Manually looking at some of these\n",
    "df[[\"Latitude\", \"Longitude\", \"Council District\", \"Census Tract\", \"NTA\"]]"
   ]
  },
  {
   "cell_type": "code",
   "execution_count": 147,
   "id": "9f4ff0a2",
   "metadata": {},
   "outputs": [
    {
     "data": {
      "text/plain": [
       "40.511019"
      ]
     },
     "execution_count": 147,
     "metadata": {},
     "output_type": "execute_result"
    }
   ],
   "source": [
    "# shouldn't be 0\n",
    "df[\"Latitude\"] = df[\"Latitude\"].astype('float')\n",
    "df[\"Latitude\"].min()"
   ]
  },
  {
   "cell_type": "code",
   "execution_count": 148,
   "id": "41e98613",
   "metadata": {},
   "outputs": [
    {
     "data": {
      "text/plain": [
       "40.91119"
      ]
     },
     "execution_count": 148,
     "metadata": {},
     "output_type": "execute_result"
    }
   ],
   "source": [
    "df[\"Latitude\"].max()"
   ]
  },
  {
   "cell_type": "code",
   "execution_count": 149,
   "id": "9d810b91",
   "metadata": {},
   "outputs": [
    {
     "data": {
      "text/html": [
       "<div>\n",
       "<style scoped>\n",
       "    .dataframe tbody tr th:only-of-type {\n",
       "        vertical-align: middle;\n",
       "    }\n",
       "\n",
       "    .dataframe tbody tr th {\n",
       "        vertical-align: top;\n",
       "    }\n",
       "\n",
       "    .dataframe thead th {\n",
       "        text-align: right;\n",
       "    }\n",
       "</style>\n",
       "<table border=\"1\" class=\"dataframe\">\n",
       "  <thead>\n",
       "    <tr style=\"text-align: right;\">\n",
       "      <th></th>\n",
       "      <th>Objectid</th>\n",
       "      <th>Globalid</th>\n",
       "      <th>Seating Interest (Sidewalk/Roadway/Both)</th>\n",
       "      <th>Restaurant Name</th>\n",
       "      <th>Legal Business Name</th>\n",
       "      <th>Doing Business As (DBA)</th>\n",
       "      <th>Building Number</th>\n",
       "      <th>Street</th>\n",
       "      <th>Borough</th>\n",
       "      <th>Postcode</th>\n",
       "      <th>...</th>\n",
       "      <th>healthCompliance terms</th>\n",
       "      <th>Time of Submission</th>\n",
       "      <th>Latitude</th>\n",
       "      <th>Longitude</th>\n",
       "      <th>Community Board</th>\n",
       "      <th>Council District</th>\n",
       "      <th>Census Tract</th>\n",
       "      <th>BIN</th>\n",
       "      <th>BBL</th>\n",
       "      <th>NTA</th>\n",
       "    </tr>\n",
       "  </thead>\n",
       "  <tbody>\n",
       "  </tbody>\n",
       "</table>\n",
       "<p>0 rows × 35 columns</p>\n",
       "</div>"
      ],
      "text/plain": [
       "Empty DataFrame\n",
       "Columns: [Objectid, Globalid, Seating Interest (Sidewalk/Roadway/Both), Restaurant Name, Legal Business Name, Doing Business As (DBA), Building Number, Street, Borough, Postcode, Business Address, Food Service Establishment Permit Number, Sidewalk Dimensions (Length), Sidewalk Dimensions (Width), Sidewalk Dimensions (Area), Roadway Dimensions (Length), Roadway Dimensions (Width), Roadway Dimensions (Area), Approved for Sidewalk Seating, Approved for Roadway Seating, Qualify Alcohol, SLA Serial Number, SLA License Type, Landmark District or Building, landmarkDistrict terms, healthCompliance terms, Time of Submission, Latitude, Longitude, Community Board, Council District, Census Tract, BIN, BBL, NTA]\n",
       "Index: []\n",
       "\n",
       "[0 rows x 35 columns]"
      ]
     },
     "execution_count": 149,
     "metadata": {},
     "output_type": "execute_result"
    }
   ],
   "source": [
    "df.loc[df[\"Latitude\"] == 0.0]"
   ]
  },
  {
   "cell_type": "markdown",
   "id": "e81fc321",
   "metadata": {},
   "source": [
    "#### Removed the the rows above because its obviously a filler job"
   ]
  },
  {
   "cell_type": "code",
   "execution_count": 150,
   "id": "d3f47dcc",
   "metadata": {},
   "outputs": [],
   "source": [
    "df = df.drop(df[df[\"Latitude\"] == 0.0].index)"
   ]
  },
  {
   "cell_type": "code",
   "execution_count": 151,
   "id": "e97c7d01",
   "metadata": {},
   "outputs": [
    {
     "data": {
      "text/plain": [
       "40.511019"
      ]
     },
     "execution_count": 151,
     "metadata": {},
     "output_type": "execute_result"
    }
   ],
   "source": [
    "df[\"Latitude\"].min()"
   ]
  },
  {
   "cell_type": "markdown",
   "id": "ed9dc879",
   "metadata": {},
   "source": [
    "#### The min and max makes sense as the values range from Staten Island to the Bronx"
   ]
  },
  {
   "cell_type": "code",
   "execution_count": 152,
   "id": "accce588",
   "metadata": {},
   "outputs": [
    {
     "data": {
      "text/plain": [
       "-74.248014"
      ]
     },
     "execution_count": 152,
     "metadata": {},
     "output_type": "execute_result"
    }
   ],
   "source": [
    "df[\"Longitude\"] = df[\"Longitude\"].astype('float')\n",
    "df[\"Longitude\"].min()"
   ]
  },
  {
   "cell_type": "code",
   "execution_count": 153,
   "id": "f8c49776",
   "metadata": {},
   "outputs": [
    {
     "data": {
      "text/plain": [
       "-73.702668"
      ]
     },
     "execution_count": 153,
     "metadata": {},
     "output_type": "execute_result"
    }
   ],
   "source": [
    "df[\"Longitude\"].max()"
   ]
  },
  {
   "cell_type": "code",
   "execution_count": 154,
   "id": "e02c9aa7",
   "metadata": {},
   "outputs": [
    {
     "data": {
      "text/html": [
       "<div>\n",
       "<style scoped>\n",
       "    .dataframe tbody tr th:only-of-type {\n",
       "        vertical-align: middle;\n",
       "    }\n",
       "\n",
       "    .dataframe tbody tr th {\n",
       "        vertical-align: top;\n",
       "    }\n",
       "\n",
       "    .dataframe thead th {\n",
       "        text-align: right;\n",
       "    }\n",
       "</style>\n",
       "<table border=\"1\" class=\"dataframe\">\n",
       "  <thead>\n",
       "    <tr style=\"text-align: right;\">\n",
       "      <th></th>\n",
       "      <th>Objectid</th>\n",
       "      <th>Globalid</th>\n",
       "      <th>Seating Interest (Sidewalk/Roadway/Both)</th>\n",
       "      <th>Restaurant Name</th>\n",
       "      <th>Legal Business Name</th>\n",
       "      <th>Doing Business As (DBA)</th>\n",
       "      <th>Building Number</th>\n",
       "      <th>Street</th>\n",
       "      <th>Borough</th>\n",
       "      <th>Postcode</th>\n",
       "      <th>...</th>\n",
       "      <th>healthCompliance terms</th>\n",
       "      <th>Time of Submission</th>\n",
       "      <th>Latitude</th>\n",
       "      <th>Longitude</th>\n",
       "      <th>Community Board</th>\n",
       "      <th>Council District</th>\n",
       "      <th>Census Tract</th>\n",
       "      <th>BIN</th>\n",
       "      <th>BBL</th>\n",
       "      <th>NTA</th>\n",
       "    </tr>\n",
       "  </thead>\n",
       "  <tbody>\n",
       "  </tbody>\n",
       "</table>\n",
       "<p>0 rows × 35 columns</p>\n",
       "</div>"
      ],
      "text/plain": [
       "Empty DataFrame\n",
       "Columns: [Objectid, Globalid, Seating Interest (Sidewalk/Roadway/Both), Restaurant Name, Legal Business Name, Doing Business As (DBA), Building Number, Street, Borough, Postcode, Business Address, Food Service Establishment Permit Number, Sidewalk Dimensions (Length), Sidewalk Dimensions (Width), Sidewalk Dimensions (Area), Roadway Dimensions (Length), Roadway Dimensions (Width), Roadway Dimensions (Area), Approved for Sidewalk Seating, Approved for Roadway Seating, Qualify Alcohol, SLA Serial Number, SLA License Type, Landmark District or Building, landmarkDistrict terms, healthCompliance terms, Time of Submission, Latitude, Longitude, Community Board, Council District, Census Tract, BIN, BBL, NTA]\n",
       "Index: []\n",
       "\n",
       "[0 rows x 35 columns]"
      ]
     },
     "execution_count": 154,
     "metadata": {},
     "output_type": "execute_result"
    }
   ],
   "source": [
    "df.loc[df[\"Longitude\"] == -73.700376]"
   ]
  },
  {
   "cell_type": "markdown",
   "id": "2cafbecb",
   "metadata": {},
   "source": [
    "#### These Longitudes and Latitudes range from Queens to Staten Island which is also consistent with our dataset"
   ]
  },
  {
   "cell_type": "code",
   "execution_count": 155,
   "id": "6ddb6ac2",
   "metadata": {},
   "outputs": [
    {
     "data": {
      "text/plain": [
       "1.0"
      ]
     },
     "execution_count": 155,
     "metadata": {},
     "output_type": "execute_result"
    }
   ],
   "source": [
    "df[\"Council District\"] = df[\"Council District\"].astype('float')\n",
    "df[\"Council District\"].min()"
   ]
  },
  {
   "cell_type": "code",
   "execution_count": 156,
   "id": "97d138ac",
   "metadata": {},
   "outputs": [
    {
     "data": {
      "text/plain": [
       "51.0"
      ]
     },
     "execution_count": 156,
     "metadata": {},
     "output_type": "execute_result"
    }
   ],
   "source": [
    "df[\"Council District\"].max()"
   ]
  },
  {
   "cell_type": "markdown",
   "id": "c2915494",
   "metadata": {},
   "source": [
    "#### 1-51 are all valid districts"
   ]
  },
  {
   "cell_type": "code",
   "execution_count": 157,
   "id": "50d3f161",
   "metadata": {},
   "outputs": [
    {
     "data": {
      "text/plain": [
       "1.0"
      ]
     },
     "execution_count": 157,
     "metadata": {},
     "output_type": "execute_result"
    }
   ],
   "source": [
    "df[\"Census Tract\"] = df[\"Census Tract\"].astype('float')\n",
    "df[\"Census Tract\"].min()"
   ]
  },
  {
   "cell_type": "code",
   "execution_count": 158,
   "id": "dda822f9",
   "metadata": {},
   "outputs": [
    {
     "data": {
      "text/plain": [
       "157903.0"
      ]
     },
     "execution_count": 158,
     "metadata": {},
     "output_type": "execute_result"
    }
   ],
   "source": [
    "df[\"Census Tract\"].max()"
   ]
  },
  {
   "cell_type": "code",
   "execution_count": 159,
   "id": "665f2ff4",
   "metadata": {},
   "outputs": [
    {
     "data": {
      "text/html": [
       "<div>\n",
       "<style scoped>\n",
       "    .dataframe tbody tr th:only-of-type {\n",
       "        vertical-align: middle;\n",
       "    }\n",
       "\n",
       "    .dataframe tbody tr th {\n",
       "        vertical-align: top;\n",
       "    }\n",
       "\n",
       "    .dataframe thead th {\n",
       "        text-align: right;\n",
       "    }\n",
       "</style>\n",
       "<table border=\"1\" class=\"dataframe\">\n",
       "  <thead>\n",
       "    <tr style=\"text-align: right;\">\n",
       "      <th></th>\n",
       "      <th>Objectid</th>\n",
       "      <th>Globalid</th>\n",
       "      <th>Seating Interest (Sidewalk/Roadway/Both)</th>\n",
       "      <th>Restaurant Name</th>\n",
       "      <th>Legal Business Name</th>\n",
       "      <th>Doing Business As (DBA)</th>\n",
       "      <th>Building Number</th>\n",
       "      <th>Street</th>\n",
       "      <th>Borough</th>\n",
       "      <th>Postcode</th>\n",
       "      <th>...</th>\n",
       "      <th>healthCompliance terms</th>\n",
       "      <th>Time of Submission</th>\n",
       "      <th>Latitude</th>\n",
       "      <th>Longitude</th>\n",
       "      <th>Community Board</th>\n",
       "      <th>Council District</th>\n",
       "      <th>Census Tract</th>\n",
       "      <th>BIN</th>\n",
       "      <th>BBL</th>\n",
       "      <th>NTA</th>\n",
       "    </tr>\n",
       "  </thead>\n",
       "  <tbody>\n",
       "    <tr>\n",
       "      <th>4451</th>\n",
       "      <td>2795</td>\n",
       "      <td>{d3f9a12e-362e-452a-8b22-bf5dd02cb9c9}</td>\n",
       "      <td>sidewalk</td>\n",
       "      <td>NANCY'S FIRESIDE</td>\n",
       "      <td>A.V.O. REST CORP</td>\n",
       "      <td>A.V.O. REST CORP</td>\n",
       "      <td>25541</td>\n",
       "      <td>JERICHO TPKE</td>\n",
       "      <td>Queens</td>\n",
       "      <td>11001</td>\n",
       "      <td>...</td>\n",
       "      <td>False</td>\n",
       "      <td>06/21/2020 11:10:00 AM</td>\n",
       "      <td>40.727421</td>\n",
       "      <td>-73.709622</td>\n",
       "      <td>13</td>\n",
       "      <td>23.0</td>\n",
       "      <td>157903.0</td>\n",
       "      <td>NaN</td>\n",
       "      <td>NaN</td>\n",
       "      <td>Glen Oaks-Floral Park-New Hyde Park</td>\n",
       "    </tr>\n",
       "  </tbody>\n",
       "</table>\n",
       "<p>1 rows × 35 columns</p>\n",
       "</div>"
      ],
      "text/plain": [
       "     Objectid                                Globalid  \\\n",
       "4451     2795  {d3f9a12e-362e-452a-8b22-bf5dd02cb9c9}   \n",
       "\n",
       "     Seating Interest (Sidewalk/Roadway/Both)   Restaurant Name  \\\n",
       "4451                                 sidewalk  NANCY'S FIRESIDE   \n",
       "\n",
       "     Legal Business Name Doing Business As (DBA) Building Number  \\\n",
       "4451    A.V.O. REST CORP        A.V.O. REST CORP           25541   \n",
       "\n",
       "            Street Borough Postcode  ... healthCompliance terms  \\\n",
       "4451  JERICHO TPKE  Queens    11001  ...                  False   \n",
       "\n",
       "          Time of Submission   Latitude  Longitude Community Board  \\\n",
       "4451  06/21/2020 11:10:00 AM  40.727421 -73.709622              13   \n",
       "\n",
       "     Council District Census Tract  BIN  BBL  \\\n",
       "4451             23.0     157903.0  NaN  NaN   \n",
       "\n",
       "                                      NTA  \n",
       "4451  Glen Oaks-Floral Park-New Hyde Park  \n",
       "\n",
       "[1 rows x 35 columns]"
      ]
     },
     "execution_count": 159,
     "metadata": {},
     "output_type": "execute_result"
    }
   ],
   "source": [
    "df.loc[df[\"Census Tract\"] == 157903]"
   ]
  },
  {
   "cell_type": "markdown",
   "id": "eafc9edf",
   "metadata": {},
   "source": [
    "#### No irregulars for census tract"
   ]
  },
  {
   "cell_type": "code",
   "execution_count": 161,
   "id": "5a29394d",
   "metadata": {},
   "outputs": [
    {
     "data": {
      "text/plain": [
       "1000000.0"
      ]
     },
     "execution_count": 161,
     "metadata": {},
     "output_type": "execute_result"
    }
   ],
   "source": [
    "df[\"BIN\"] = df[\"BIN\"].astype('float')\n",
    "df[\"BIN\"].min()"
   ]
  },
  {
   "cell_type": "code",
   "execution_count": 162,
   "id": "ee4d86fb",
   "metadata": {},
   "outputs": [
    {
     "data": {
      "text/plain": [
       "5169029.0"
      ]
     },
     "execution_count": 162,
     "metadata": {},
     "output_type": "execute_result"
    }
   ],
   "source": [
    "df[\"BIN\"] = df[\"BIN\"].astype('float')\n",
    "df[\"BIN\"].max()"
   ]
  },
  {
   "cell_type": "code",
   "execution_count": 163,
   "id": "74298d1d",
   "metadata": {
    "scrolled": false
   },
   "outputs": [
    {
     "data": {
      "text/html": [
       "<div>\n",
       "<style scoped>\n",
       "    .dataframe tbody tr th:only-of-type {\n",
       "        vertical-align: middle;\n",
       "    }\n",
       "\n",
       "    .dataframe tbody tr th {\n",
       "        vertical-align: top;\n",
       "    }\n",
       "\n",
       "    .dataframe thead th {\n",
       "        text-align: right;\n",
       "    }\n",
       "</style>\n",
       "<table border=\"1\" class=\"dataframe\">\n",
       "  <thead>\n",
       "    <tr style=\"text-align: right;\">\n",
       "      <th></th>\n",
       "      <th>Objectid</th>\n",
       "      <th>Globalid</th>\n",
       "      <th>Seating Interest (Sidewalk/Roadway/Both)</th>\n",
       "      <th>Restaurant Name</th>\n",
       "      <th>Legal Business Name</th>\n",
       "      <th>Doing Business As (DBA)</th>\n",
       "      <th>Building Number</th>\n",
       "      <th>Street</th>\n",
       "      <th>Borough</th>\n",
       "      <th>Postcode</th>\n",
       "      <th>...</th>\n",
       "      <th>healthCompliance terms</th>\n",
       "      <th>Time of Submission</th>\n",
       "      <th>Latitude</th>\n",
       "      <th>Longitude</th>\n",
       "      <th>Community Board</th>\n",
       "      <th>Council District</th>\n",
       "      <th>Census Tract</th>\n",
       "      <th>BIN</th>\n",
       "      <th>BBL</th>\n",
       "      <th>NTA</th>\n",
       "    </tr>\n",
       "  </thead>\n",
       "  <tbody>\n",
       "    <tr>\n",
       "      <th>128</th>\n",
       "      <td>10205</td>\n",
       "      <td>{734B44F0-4A16-4BB8-8693-D4DF1963880B}</td>\n",
       "      <td>sidewalk</td>\n",
       "      <td>The Water Hazard</td>\n",
       "      <td>Konkapot Entertainment, Inc</td>\n",
       "      <td>Konkapot Entertainment, Inc</td>\n",
       "      <td>59</td>\n",
       "      <td>Chelsea Piers</td>\n",
       "      <td>Manhattan</td>\n",
       "      <td>10011</td>\n",
       "      <td>...</td>\n",
       "      <td>False</td>\n",
       "      <td>08/13/2020 01:28:00 PM</td>\n",
       "      <td>40.747999</td>\n",
       "      <td>-74.008496</td>\n",
       "      <td>4</td>\n",
       "      <td>3.0</td>\n",
       "      <td>99.0</td>\n",
       "      <td>1000000.0</td>\n",
       "      <td>1006620011</td>\n",
       "      <td>Hudson Yards-Chelsea-Flatiron-Union Square</td>\n",
       "    </tr>\n",
       "    <tr>\n",
       "      <th>2113</th>\n",
       "      <td>12180</td>\n",
       "      <td>{F23DDE07-39E0-4DF3-88A5-7BA6A918E510}</td>\n",
       "      <td>both</td>\n",
       "      <td>PORCHLIGHT</td>\n",
       "      <td>PORCHLIGHT WEST CHELSEA LLC</td>\n",
       "      <td>PORCHLIGHT</td>\n",
       "      <td>UNDEFINED</td>\n",
       "      <td>271 11TH AVE</td>\n",
       "      <td>Manhattan</td>\n",
       "      <td>10001</td>\n",
       "      <td>...</td>\n",
       "      <td>False</td>\n",
       "      <td>04/05/2021 04:46:00 PM</td>\n",
       "      <td>40.751743</td>\n",
       "      <td>-74.004941</td>\n",
       "      <td>4</td>\n",
       "      <td>3.0</td>\n",
       "      <td>99.0</td>\n",
       "      <td>1000000.0</td>\n",
       "      <td>1006730001</td>\n",
       "      <td>Hudson Yards-Chelsea-Flatiron-Union Square</td>\n",
       "    </tr>\n",
       "    <tr>\n",
       "      <th>2790</th>\n",
       "      <td>9765</td>\n",
       "      <td>{7C0981EC-DF23-45B4-8682-4D0B7077FF13}</td>\n",
       "      <td>both</td>\n",
       "      <td>Le Pain Quotidien</td>\n",
       "      <td>APQ E65 NY, LLC</td>\n",
       "      <td>Le Pain Quotidien</td>\n",
       "      <td>861</td>\n",
       "      <td>Lexington Ave</td>\n",
       "      <td>Manhattan</td>\n",
       "      <td>10028</td>\n",
       "      <td>...</td>\n",
       "      <td>False</td>\n",
       "      <td>08/03/2020 05:51:00 PM</td>\n",
       "      <td>40.765813</td>\n",
       "      <td>-73.965557</td>\n",
       "      <td>8</td>\n",
       "      <td>4.0</td>\n",
       "      <td>120.0</td>\n",
       "      <td>1000000.0</td>\n",
       "      <td>1013997502</td>\n",
       "      <td>Upper East Side-Carnegie Hill</td>\n",
       "    </tr>\n",
       "    <tr>\n",
       "      <th>2919</th>\n",
       "      <td>12247</td>\n",
       "      <td>{1C50A948-F16A-4685-864D-D7D64023876E}</td>\n",
       "      <td>sidewalk</td>\n",
       "      <td>HOLE IN THE WALL</td>\n",
       "      <td>HOLE IN THE WALL 626 1ST, LLC</td>\n",
       "      <td>Parched Hospitality Group</td>\n",
       "      <td>UNDEFINED</td>\n",
       "      <td>626 1 AVENUE</td>\n",
       "      <td>Manhattan</td>\n",
       "      <td>10016</td>\n",
       "      <td>...</td>\n",
       "      <td>False</td>\n",
       "      <td>04/14/2021 01:08:00 PM</td>\n",
       "      <td>40.744898</td>\n",
       "      <td>-73.972688</td>\n",
       "      <td>6</td>\n",
       "      <td>4.0</td>\n",
       "      <td>8601.0</td>\n",
       "      <td>1000000.0</td>\n",
       "      <td>1009670001</td>\n",
       "      <td>Turtle Bay-East Midtown</td>\n",
       "    </tr>\n",
       "    <tr>\n",
       "      <th>3035</th>\n",
       "      <td>10647</td>\n",
       "      <td>{709091FE-D8F0-4B1D-8BE9-80479B566390}</td>\n",
       "      <td>both</td>\n",
       "      <td>TARALLUCCI E VINO</td>\n",
       "      <td>LA VECCHIA LLC</td>\n",
       "      <td>Tarallucci e Vino</td>\n",
       "      <td>UNDEFINED</td>\n",
       "      <td>44 EAST   28 STREET</td>\n",
       "      <td>Manhattan</td>\n",
       "      <td>10016</td>\n",
       "      <td>...</td>\n",
       "      <td>False</td>\n",
       "      <td>08/26/2020 11:19:00 AM</td>\n",
       "      <td>40.743777</td>\n",
       "      <td>-73.985171</td>\n",
       "      <td>5</td>\n",
       "      <td>2.0</td>\n",
       "      <td>56.0</td>\n",
       "      <td>1000000.0</td>\n",
       "      <td>1008577503</td>\n",
       "      <td>Hudson Yards-Chelsea-Flatiron-Union Square</td>\n",
       "    </tr>\n",
       "    <tr>\n",
       "      <th>3620</th>\n",
       "      <td>10708</td>\n",
       "      <td>{089C2F2E-3D3B-4592-85BE-EF60FEB14C8C}</td>\n",
       "      <td>both</td>\n",
       "      <td>JUN-MEN RAMEN BAR</td>\n",
       "      <td>MISSION 925,INC.</td>\n",
       "      <td>JUN-MEN RAMEN BAR</td>\n",
       "      <td>UNDEFINED</td>\n",
       "      <td>249 9 AVENUE</td>\n",
       "      <td>Manhattan</td>\n",
       "      <td>10001</td>\n",
       "      <td>...</td>\n",
       "      <td>False</td>\n",
       "      <td>08/28/2020 02:04:00 PM</td>\n",
       "      <td>40.747868</td>\n",
       "      <td>-74.000339</td>\n",
       "      <td>4</td>\n",
       "      <td>3.0</td>\n",
       "      <td>93.0</td>\n",
       "      <td>1000000.0</td>\n",
       "      <td>1007237502</td>\n",
       "      <td>Hudson Yards-Chelsea-Flatiron-Union Square</td>\n",
       "    </tr>\n",
       "    <tr>\n",
       "      <th>5300</th>\n",
       "      <td>8670</td>\n",
       "      <td>{BFAAF0EE-B764-472A-87C4-6EFECF67821F}</td>\n",
       "      <td>openstreets</td>\n",
       "      <td>Adrienne's Pizza bar</td>\n",
       "      <td>Pizza on Stone LLC</td>\n",
       "      <td>Pizza on Stone LLC</td>\n",
       "      <td>87</td>\n",
       "      <td>Pearl Street</td>\n",
       "      <td>Manhattan</td>\n",
       "      <td>10004</td>\n",
       "      <td>...</td>\n",
       "      <td>False</td>\n",
       "      <td>07/16/2020 06:46:00 PM</td>\n",
       "      <td>40.704122</td>\n",
       "      <td>-74.010055</td>\n",
       "      <td>1</td>\n",
       "      <td>1.0</td>\n",
       "      <td>9.0</td>\n",
       "      <td>1000000.0</td>\n",
       "      <td>1000297504</td>\n",
       "      <td>Battery Park City-Lower Manhattan</td>\n",
       "    </tr>\n",
       "    <tr>\n",
       "      <th>7143</th>\n",
       "      <td>2121</td>\n",
       "      <td>{2601a91c-cbd3-4203-8bcb-29ac88a1d0f1}</td>\n",
       "      <td>sidewalk</td>\n",
       "      <td>Sidewalk Cafe</td>\n",
       "      <td>Sidewalk Cafe</td>\n",
       "      <td>Sidewalk Cafe</td>\n",
       "      <td>1520</td>\n",
       "      <td>Park Ave</td>\n",
       "      <td>Manhattan</td>\n",
       "      <td>10006</td>\n",
       "      <td>...</td>\n",
       "      <td>False</td>\n",
       "      <td>06/20/2020 10:33:00 AM</td>\n",
       "      <td>40.795680</td>\n",
       "      <td>-73.945883</td>\n",
       "      <td>11</td>\n",
       "      <td>8.0</td>\n",
       "      <td>17402.0</td>\n",
       "      <td>1000000.0</td>\n",
       "      <td>1016160036</td>\n",
       "      <td>East Harlem South</td>\n",
       "    </tr>\n",
       "    <tr>\n",
       "      <th>9763</th>\n",
       "      <td>1186</td>\n",
       "      <td>de45b8d3-be89-4221-8385-0d662979be88</td>\n",
       "      <td>both</td>\n",
       "      <td>Da Claudio</td>\n",
       "      <td>Tre Monelli LLC</td>\n",
       "      <td>Da Claudio</td>\n",
       "      <td>21</td>\n",
       "      <td>Ann</td>\n",
       "      <td>Manhattan</td>\n",
       "      <td>10038</td>\n",
       "      <td>...</td>\n",
       "      <td>False</td>\n",
       "      <td>06/19/2020 03:10:00 PM</td>\n",
       "      <td>40.710778</td>\n",
       "      <td>-74.007694</td>\n",
       "      <td>1</td>\n",
       "      <td>1.0</td>\n",
       "      <td>1501.0</td>\n",
       "      <td>1000000.0</td>\n",
       "      <td>1000900017</td>\n",
       "      <td>Battery Park City-Lower Manhattan</td>\n",
       "    </tr>\n",
       "    <tr>\n",
       "      <th>10884</th>\n",
       "      <td>12239</td>\n",
       "      <td>{222143D3-DCD2-4B99-8DD1-ED55C0C660EC}</td>\n",
       "      <td>roadway</td>\n",
       "      <td>FULGURANCES LAUNDROMAT</td>\n",
       "      <td>FULGURANCES NYC LLC</td>\n",
       "      <td>FULGURANCES LAUNDROMAT</td>\n",
       "      <td>UNDEFINED</td>\n",
       "      <td>132 FRANKLIN STREET</td>\n",
       "      <td>Brooklyn</td>\n",
       "      <td>10013</td>\n",
       "      <td>...</td>\n",
       "      <td>False</td>\n",
       "      <td>04/13/2021 11:54:00 AM</td>\n",
       "      <td>40.719160</td>\n",
       "      <td>-74.007201</td>\n",
       "      <td>1</td>\n",
       "      <td>1.0</td>\n",
       "      <td>33.0</td>\n",
       "      <td>1000000.0</td>\n",
       "      <td>1001897507</td>\n",
       "      <td>SoHo-TriBeCa-Civic Center-Little Italy</td>\n",
       "    </tr>\n",
       "    <tr>\n",
       "      <th>11906</th>\n",
       "      <td>10149</td>\n",
       "      <td>{46CD67BB-A2D8-4CF3-8410-70C0F4105BA5}</td>\n",
       "      <td>sidewalk</td>\n",
       "      <td>GRECA</td>\n",
       "      <td>TRIBECA BAKERY</td>\n",
       "      <td>TRIBECA BAKERY</td>\n",
       "      <td>452</td>\n",
       "      <td>Washington Street</td>\n",
       "      <td>Manhattan</td>\n",
       "      <td>10013</td>\n",
       "      <td>...</td>\n",
       "      <td>False</td>\n",
       "      <td>08/11/2020 05:02:00 PM</td>\n",
       "      <td>40.723994</td>\n",
       "      <td>-74.010268</td>\n",
       "      <td>1</td>\n",
       "      <td>1.0</td>\n",
       "      <td>39.0</td>\n",
       "      <td>1000000.0</td>\n",
       "      <td>1002240001</td>\n",
       "      <td>SoHo-TriBeCa-Civic Center-Little Italy</td>\n",
       "    </tr>\n",
       "    <tr>\n",
       "      <th>12017</th>\n",
       "      <td>10594</td>\n",
       "      <td>{57083B86-9C03-48CD-89FB-2AC5980D4F5B}</td>\n",
       "      <td>both</td>\n",
       "      <td>Vida Verde</td>\n",
       "      <td>AHASCRA LLC</td>\n",
       "      <td>Vida Verde</td>\n",
       "      <td>248</td>\n",
       "      <td>West 55th Street</td>\n",
       "      <td>Manhattan</td>\n",
       "      <td>10019</td>\n",
       "      <td>...</td>\n",
       "      <td>False</td>\n",
       "      <td>08/24/2020 03:13:00 PM</td>\n",
       "      <td>40.765002</td>\n",
       "      <td>-73.982867</td>\n",
       "      <td>5</td>\n",
       "      <td>3.0</td>\n",
       "      <td>137.0</td>\n",
       "      <td>1000000.0</td>\n",
       "      <td>1010260055</td>\n",
       "      <td>Midtown-Midtown South</td>\n",
       "    </tr>\n",
       "  </tbody>\n",
       "</table>\n",
       "<p>12 rows × 35 columns</p>\n",
       "</div>"
      ],
      "text/plain": [
       "      Objectid                                Globalid  \\\n",
       "128      10205  {734B44F0-4A16-4BB8-8693-D4DF1963880B}   \n",
       "2113     12180  {F23DDE07-39E0-4DF3-88A5-7BA6A918E510}   \n",
       "2790      9765  {7C0981EC-DF23-45B4-8682-4D0B7077FF13}   \n",
       "2919     12247  {1C50A948-F16A-4685-864D-D7D64023876E}   \n",
       "3035     10647  {709091FE-D8F0-4B1D-8BE9-80479B566390}   \n",
       "3620     10708  {089C2F2E-3D3B-4592-85BE-EF60FEB14C8C}   \n",
       "5300      8670  {BFAAF0EE-B764-472A-87C4-6EFECF67821F}   \n",
       "7143      2121  {2601a91c-cbd3-4203-8bcb-29ac88a1d0f1}   \n",
       "9763      1186    de45b8d3-be89-4221-8385-0d662979be88   \n",
       "10884    12239  {222143D3-DCD2-4B99-8DD1-ED55C0C660EC}   \n",
       "11906    10149  {46CD67BB-A2D8-4CF3-8410-70C0F4105BA5}   \n",
       "12017    10594  {57083B86-9C03-48CD-89FB-2AC5980D4F5B}   \n",
       "\n",
       "      Seating Interest (Sidewalk/Roadway/Both)         Restaurant Name  \\\n",
       "128                                   sidewalk        The Water Hazard   \n",
       "2113                                      both              PORCHLIGHT   \n",
       "2790                                      both       Le Pain Quotidien   \n",
       "2919                                  sidewalk        HOLE IN THE WALL   \n",
       "3035                                      both       TARALLUCCI E VINO   \n",
       "3620                                      both       JUN-MEN RAMEN BAR   \n",
       "5300                               openstreets    Adrienne's Pizza bar   \n",
       "7143                                  sidewalk           Sidewalk Cafe   \n",
       "9763                                      both              Da Claudio   \n",
       "10884                                  roadway  FULGURANCES LAUNDROMAT   \n",
       "11906                                 sidewalk                   GRECA   \n",
       "12017                                     both              Vida Verde   \n",
       "\n",
       "                 Legal Business Name      Doing Business As (DBA)  \\\n",
       "128      Konkapot Entertainment, Inc  Konkapot Entertainment, Inc   \n",
       "2113     PORCHLIGHT WEST CHELSEA LLC                   PORCHLIGHT   \n",
       "2790                 APQ E65 NY, LLC            Le Pain Quotidien   \n",
       "2919   HOLE IN THE WALL 626 1ST, LLC    Parched Hospitality Group   \n",
       "3035                  LA VECCHIA LLC            Tarallucci e Vino   \n",
       "3620                MISSION 925,INC.            JUN-MEN RAMEN BAR   \n",
       "5300              Pizza on Stone LLC           Pizza on Stone LLC   \n",
       "7143                   Sidewalk Cafe                Sidewalk Cafe   \n",
       "9763                 Tre Monelli LLC                   Da Claudio   \n",
       "10884            FULGURANCES NYC LLC       FULGURANCES LAUNDROMAT   \n",
       "11906                 TRIBECA BAKERY               TRIBECA BAKERY   \n",
       "12017                    AHASCRA LLC                   Vida Verde   \n",
       "\n",
       "      Building Number               Street    Borough Postcode  ...  \\\n",
       "128                59        Chelsea Piers  Manhattan    10011  ...   \n",
       "2113        UNDEFINED         271 11TH AVE  Manhattan    10001  ...   \n",
       "2790              861        Lexington Ave  Manhattan    10028  ...   \n",
       "2919        UNDEFINED         626 1 AVENUE  Manhattan    10016  ...   \n",
       "3035        UNDEFINED  44 EAST   28 STREET  Manhattan    10016  ...   \n",
       "3620        UNDEFINED         249 9 AVENUE  Manhattan    10001  ...   \n",
       "5300               87         Pearl Street  Manhattan    10004  ...   \n",
       "7143             1520             Park Ave  Manhattan    10006  ...   \n",
       "9763               21                  Ann  Manhattan    10038  ...   \n",
       "10884       UNDEFINED  132 FRANKLIN STREET   Brooklyn    10013  ...   \n",
       "11906             452    Washington Street  Manhattan    10013  ...   \n",
       "12017             248     West 55th Street  Manhattan    10019  ...   \n",
       "\n",
       "      healthCompliance terms      Time of Submission   Latitude  Longitude  \\\n",
       "128                    False  08/13/2020 01:28:00 PM  40.747999 -74.008496   \n",
       "2113                   False  04/05/2021 04:46:00 PM  40.751743 -74.004941   \n",
       "2790                   False  08/03/2020 05:51:00 PM  40.765813 -73.965557   \n",
       "2919                   False  04/14/2021 01:08:00 PM  40.744898 -73.972688   \n",
       "3035                   False  08/26/2020 11:19:00 AM  40.743777 -73.985171   \n",
       "3620                   False  08/28/2020 02:04:00 PM  40.747868 -74.000339   \n",
       "5300                   False  07/16/2020 06:46:00 PM  40.704122 -74.010055   \n",
       "7143                   False  06/20/2020 10:33:00 AM  40.795680 -73.945883   \n",
       "9763                   False  06/19/2020 03:10:00 PM  40.710778 -74.007694   \n",
       "10884                  False  04/13/2021 11:54:00 AM  40.719160 -74.007201   \n",
       "11906                  False  08/11/2020 05:02:00 PM  40.723994 -74.010268   \n",
       "12017                  False  08/24/2020 03:13:00 PM  40.765002 -73.982867   \n",
       "\n",
       "      Community Board Council District Census Tract        BIN         BBL  \\\n",
       "128                 4              3.0         99.0  1000000.0  1006620011   \n",
       "2113                4              3.0         99.0  1000000.0  1006730001   \n",
       "2790                8              4.0        120.0  1000000.0  1013997502   \n",
       "2919                6              4.0       8601.0  1000000.0  1009670001   \n",
       "3035                5              2.0         56.0  1000000.0  1008577503   \n",
       "3620                4              3.0         93.0  1000000.0  1007237502   \n",
       "5300                1              1.0          9.0  1000000.0  1000297504   \n",
       "7143               11              8.0      17402.0  1000000.0  1016160036   \n",
       "9763                1              1.0       1501.0  1000000.0  1000900017   \n",
       "10884               1              1.0         33.0  1000000.0  1001897507   \n",
       "11906               1              1.0         39.0  1000000.0  1002240001   \n",
       "12017               5              3.0        137.0  1000000.0  1010260055   \n",
       "\n",
       "                                              NTA  \n",
       "128    Hudson Yards-Chelsea-Flatiron-Union Square  \n",
       "2113   Hudson Yards-Chelsea-Flatiron-Union Square  \n",
       "2790                Upper East Side-Carnegie Hill  \n",
       "2919                      Turtle Bay-East Midtown  \n",
       "3035   Hudson Yards-Chelsea-Flatiron-Union Square  \n",
       "3620   Hudson Yards-Chelsea-Flatiron-Union Square  \n",
       "5300            Battery Park City-Lower Manhattan  \n",
       "7143                            East Harlem South  \n",
       "9763            Battery Park City-Lower Manhattan  \n",
       "10884      SoHo-TriBeCa-Civic Center-Little Italy  \n",
       "11906      SoHo-TriBeCa-Civic Center-Little Italy  \n",
       "12017                       Midtown-Midtown South  \n",
       "\n",
       "[12 rows x 35 columns]"
      ]
     },
     "execution_count": 163,
     "metadata": {},
     "output_type": "execute_result"
    }
   ],
   "source": [
    "df.loc[df[\"BIN\"] == 1000000.0]"
   ]
  },
  {
   "cell_type": "code",
   "execution_count": 164,
   "id": "0bb18e28",
   "metadata": {},
   "outputs": [
    {
     "data": {
      "text/html": [
       "<div>\n",
       "<style scoped>\n",
       "    .dataframe tbody tr th:only-of-type {\n",
       "        vertical-align: middle;\n",
       "    }\n",
       "\n",
       "    .dataframe tbody tr th {\n",
       "        vertical-align: top;\n",
       "    }\n",
       "\n",
       "    .dataframe thead th {\n",
       "        text-align: right;\n",
       "    }\n",
       "</style>\n",
       "<table border=\"1\" class=\"dataframe\">\n",
       "  <thead>\n",
       "    <tr style=\"text-align: right;\">\n",
       "      <th></th>\n",
       "      <th>Objectid</th>\n",
       "      <th>Globalid</th>\n",
       "      <th>Seating Interest (Sidewalk/Roadway/Both)</th>\n",
       "      <th>Restaurant Name</th>\n",
       "      <th>Legal Business Name</th>\n",
       "      <th>Doing Business As (DBA)</th>\n",
       "      <th>Building Number</th>\n",
       "      <th>Street</th>\n",
       "      <th>Borough</th>\n",
       "      <th>Postcode</th>\n",
       "      <th>...</th>\n",
       "      <th>healthCompliance terms</th>\n",
       "      <th>Time of Submission</th>\n",
       "      <th>Latitude</th>\n",
       "      <th>Longitude</th>\n",
       "      <th>Community Board</th>\n",
       "      <th>Council District</th>\n",
       "      <th>Census Tract</th>\n",
       "      <th>BIN</th>\n",
       "      <th>BBL</th>\n",
       "      <th>NTA</th>\n",
       "    </tr>\n",
       "  </thead>\n",
       "  <tbody>\n",
       "    <tr>\n",
       "      <th>1913</th>\n",
       "      <td>7642</td>\n",
       "      <td>{4F0AD928-F9D6-4918-803A-B1E7523D4C9F}</td>\n",
       "      <td>sidewalk</td>\n",
       "      <td>JODY'S CLUB FOREST</td>\n",
       "      <td>415 FOREST REST INC</td>\n",
       "      <td>JODY'S CLUB FOREST</td>\n",
       "      <td>372</td>\n",
       "      <td>FOREST AVE</td>\n",
       "      <td>Staten Island</td>\n",
       "      <td>10301</td>\n",
       "      <td>...</td>\n",
       "      <td>False</td>\n",
       "      <td>07/07/2020 08:07:00 PM</td>\n",
       "      <td>40.631016</td>\n",
       "      <td>-74.101896</td>\n",
       "      <td>1</td>\n",
       "      <td>49.0</td>\n",
       "      <td>59.0</td>\n",
       "      <td>5169029.0</td>\n",
       "      <td>5002520009</td>\n",
       "      <td>New Brighton-Silver Lake</td>\n",
       "    </tr>\n",
       "    <tr>\n",
       "      <th>6308</th>\n",
       "      <td>620</td>\n",
       "      <td>19d82f24-262e-4a57-805f-40add873de3c</td>\n",
       "      <td>sidewalk</td>\n",
       "      <td>Jody's Club Forest</td>\n",
       "      <td>415 Forest Rest INC</td>\n",
       "      <td>Jody's Club Forest</td>\n",
       "      <td>372</td>\n",
       "      <td>Forest Ave</td>\n",
       "      <td>Staten Island</td>\n",
       "      <td>10301</td>\n",
       "      <td>...</td>\n",
       "      <td>False</td>\n",
       "      <td>06/19/2020 01:18:00 PM</td>\n",
       "      <td>40.631016</td>\n",
       "      <td>-74.101896</td>\n",
       "      <td>1</td>\n",
       "      <td>49.0</td>\n",
       "      <td>59.0</td>\n",
       "      <td>5169029.0</td>\n",
       "      <td>5002520009</td>\n",
       "      <td>New Brighton-Silver Lake</td>\n",
       "    </tr>\n",
       "    <tr>\n",
       "      <th>6851</th>\n",
       "      <td>9644</td>\n",
       "      <td>{11DB6F3F-ADB9-4B95-8A79-F7DB79EC1036}</td>\n",
       "      <td>both</td>\n",
       "      <td>Jody's Club Forest</td>\n",
       "      <td>415 Forest Rest Inc.</td>\n",
       "      <td>Jody's Club Forest</td>\n",
       "      <td>372</td>\n",
       "      <td>Forest Ave</td>\n",
       "      <td>Staten Island</td>\n",
       "      <td>10301</td>\n",
       "      <td>...</td>\n",
       "      <td>False</td>\n",
       "      <td>07/31/2020 03:46:00 PM</td>\n",
       "      <td>40.631016</td>\n",
       "      <td>-74.101896</td>\n",
       "      <td>1</td>\n",
       "      <td>49.0</td>\n",
       "      <td>59.0</td>\n",
       "      <td>5169029.0</td>\n",
       "      <td>5002520009</td>\n",
       "      <td>New Brighton-Silver Lake</td>\n",
       "    </tr>\n",
       "  </tbody>\n",
       "</table>\n",
       "<p>3 rows × 35 columns</p>\n",
       "</div>"
      ],
      "text/plain": [
       "     Objectid                                Globalid  \\\n",
       "1913     7642  {4F0AD928-F9D6-4918-803A-B1E7523D4C9F}   \n",
       "6308      620    19d82f24-262e-4a57-805f-40add873de3c   \n",
       "6851     9644  {11DB6F3F-ADB9-4B95-8A79-F7DB79EC1036}   \n",
       "\n",
       "     Seating Interest (Sidewalk/Roadway/Both)     Restaurant Name  \\\n",
       "1913                                 sidewalk  JODY'S CLUB FOREST   \n",
       "6308                                 sidewalk  Jody's Club Forest   \n",
       "6851                                     both  Jody's Club Forest   \n",
       "\n",
       "       Legal Business Name Doing Business As (DBA) Building Number  \\\n",
       "1913   415 FOREST REST INC      JODY'S CLUB FOREST             372   \n",
       "6308   415 Forest Rest INC      Jody's Club Forest             372   \n",
       "6851  415 Forest Rest Inc.      Jody's Club Forest             372   \n",
       "\n",
       "          Street        Borough Postcode  ... healthCompliance terms  \\\n",
       "1913  FOREST AVE  Staten Island    10301  ...                  False   \n",
       "6308  Forest Ave  Staten Island    10301  ...                  False   \n",
       "6851  Forest Ave  Staten Island    10301  ...                  False   \n",
       "\n",
       "          Time of Submission   Latitude  Longitude Community Board  \\\n",
       "1913  07/07/2020 08:07:00 PM  40.631016 -74.101896               1   \n",
       "6308  06/19/2020 01:18:00 PM  40.631016 -74.101896               1   \n",
       "6851  07/31/2020 03:46:00 PM  40.631016 -74.101896               1   \n",
       "\n",
       "     Council District Census Tract        BIN         BBL  \\\n",
       "1913             49.0         59.0  5169029.0  5002520009   \n",
       "6308             49.0         59.0  5169029.0  5002520009   \n",
       "6851             49.0         59.0  5169029.0  5002520009   \n",
       "\n",
       "                           NTA  \n",
       "1913  New Brighton-Silver Lake  \n",
       "6308  New Brighton-Silver Lake  \n",
       "6851  New Brighton-Silver Lake  \n",
       "\n",
       "[3 rows x 35 columns]"
      ]
     },
     "execution_count": 164,
     "metadata": {},
     "output_type": "execute_result"
    }
   ],
   "source": [
    "df.loc[df[\"BIN\"] == df[\"BIN\"].max()]"
   ]
  },
  {
   "cell_type": "markdown",
   "id": "9b662c2b",
   "metadata": {},
   "source": [
    "#### Nothing wrong with GIS BIN either"
   ]
  },
  {
   "cell_type": "code",
   "execution_count": null,
   "id": "f0c6d29e",
   "metadata": {},
   "outputs": [],
   "source": []
  },
  {
   "cell_type": "code",
   "execution_count": null,
   "id": "423edfa7",
   "metadata": {},
   "outputs": [],
   "source": []
  },
  {
   "cell_type": "markdown",
   "id": "d0d565ec",
   "metadata": {},
   "source": [
    "# Data Profilling for datetime columns\n",
    "\n",
    "\n",
    "Find format problems and outliers in all datetime columns\n",
    "\n",
    "Using openclean's sklearn modules to detect problems and outliers"
   ]
  },
  {
   "cell_type": "code",
   "execution_count": 165,
   "id": "c275ee45",
   "metadata": {},
   "outputs": [],
   "source": [
    "from openclean.profiling.anomalies.sklearn import DBSCANOutliers\n",
    "\n",
    "def findDateOutliers(column_name, eps_setting = 0.05):\n",
    "    datetime_data = ds.distinct(column_name)\n",
    "    print(\"Column: \",column_name)\n",
    "    \n",
    "    for rank, val in enumerate(datetime_data.most_common(10)):        \n",
    "        st, freq = val\n",
    "        print('{:<3} {:>8}  {:>10}'.format('{}.'.format(rank + 1), st, '{:,}'.format(freq)))\n",
    "\n",
    "    print('\\nTotal number of distinct values in {} is {}'.format(column_name, len(datetime_data)))\n",
    "    print(DBSCANOutliers().find(datetime_data))\n",
    "    print(DBSCANOutliers(eps = eps_setting).find(datetime_data))\n",
    "    print('\\n==================================')"
   ]
  },
  {
   "cell_type": "code",
   "execution_count": 168,
   "id": "e7922559",
   "metadata": {
    "scrolled": false
   },
   "outputs": [
    {
     "name": "stdout",
     "output_type": "stream",
     "text": [
      "Datetime Data columns:\n",
      "\n",
      "Time of Submission\n",
      "----------------------------\n",
      "\n",
      "Column:  Time of Submission\n",
      "1.  10/19/2021 04:36:00 PM          14\n",
      "2.  10/19/2021 04:31:00 PM          11\n",
      "3.  06/19/2020 01:03:00 PM          11\n",
      "4.  06/19/2020 02:22:00 PM          10\n",
      "5.  06/19/2020 01:23:00 PM          10\n",
      "6.  06/19/2020 02:45:00 PM          10\n",
      "7.  06/19/2020 12:00:00 PM          10\n",
      "8.  06/19/2020 02:27:00 PM           9\n",
      "9.  10/19/2021 04:42:00 PM           9\n",
      "10. 06/19/2020 03:11:00 PM           9\n",
      "\n",
      "Total number of distinct values in Time of Submission is 10166\n",
      "[]\n",
      "['06/19/2020 02:27:00 PM', '06/19/2020 03:28:00 PM', '06/19/2020 12:00:00 PM', '06/22/2020 03:23:00 PM', '06/19/2020 04:53:00 PM', '06/26/2020 02:00:00 PM', '06/23/2020 02:00:00 PM', '06/22/2020 01:10:00 PM', '06/19/2020 11:29:00 AM', '06/19/2020 11:57:00 AM', '06/19/2020 01:10:00 PM', '06/19/2020 02:45:00 PM', '06/19/2020 01:19:00 PM', '10/19/2021 04:36:00 PM', '10/19/2021 04:34:00 PM', '06/19/2020 05:37:00 PM', '06/22/2020 02:00:00 PM', '06/19/2020 11:01:00 AM', '06/19/2020 04:58:00 PM', '06/19/2020 03:57:00 PM', '06/19/2020 01:23:00 PM', '06/19/2020 03:56:00 PM', '06/19/2020 12:35:00 PM', '06/19/2020 03:25:00 PM', '06/19/2020 03:55:00 PM', '06/19/2020 12:43:00 PM', '06/19/2020 10:57:00 AM', '06/19/2020 05:48:00 PM', '06/19/2020 01:44:00 PM', '06/19/2020 01:03:00 PM', '06/19/2020 03:11:00 PM', '06/19/2020 04:23:00 PM', '06/19/2020 03:38:00 PM', '06/19/2020 02:22:00 PM', '06/22/2020 01:26:00 PM', '06/20/2020 12:21:00 PM', '10/19/2021 04:31:00 PM', '10/19/2021 04:42:00 PM', '06/19/2020 04:35:00 PM', '06/19/2020 04:38:00 PM', '06/19/2020 11:20:00 AM', '06/19/2020 04:37:00 PM', '06/19/2020 03:47:00 PM']\n",
      "\n",
      "==================================\n"
     ]
    }
   ],
   "source": [
    "date_cols = []\n",
    "\n",
    "print(\"Datetime Data columns:\\n\")\n",
    "for col in ds.columns:\n",
    "    if 'date' in col.lower() or 'time' in col.lower():\n",
    "        print(col)\n",
    "        date_cols.append(col)\n",
    "\n",
    "print(\"----------------------------\\n\")        \n",
    "        \n",
    "for col in date_cols:\n",
    "    findDateOutliers(col, 0.02)"
   ]
  },
  {
   "cell_type": "markdown",
   "id": "f37bfa22",
   "metadata": {},
   "source": [
    "Number Remember that after changing some of the column names, there are some columns that are also datetime data:\n",
    "\n",
    "\"Paid\": \"Paid Date\"\\\n",
    "\"Fully Paid\": \"Fully Paid Date\"\\\n",
    "\"Assigned\": \"Assigned Date\"\\\n",
    "\"Approved\": \"Approved Date\"\\\n",
    "\"Pre- Filing Date\": \"Pre-Filing Date\"\\\n",
    "\"DOB Run Date\": \"DOB Run Date\"\\\n",
    "\"SIGNOFF_DATE\": \"Signoff Date\"\\\n",
    "\"SPECIAL_ACTION_DATE\": \"Special Action Date\"\\"
   ]
  },
  {
   "cell_type": "code",
   "execution_count": 169,
   "id": "cc21250d",
   "metadata": {
    "scrolled": false
   },
   "outputs": [
    {
     "name": "stdout",
     "output_type": "stream",
     "text": [
      "Column:  Time of Submission\n",
      "1.  10/19/2021 04:36:00 PM          14\n",
      "2.  10/19/2021 04:31:00 PM          11\n",
      "3.  06/19/2020 01:03:00 PM          11\n",
      "4.  06/19/2020 02:22:00 PM          10\n",
      "5.  06/19/2020 01:23:00 PM          10\n",
      "6.  06/19/2020 02:45:00 PM          10\n",
      "7.  06/19/2020 12:00:00 PM          10\n",
      "8.  06/19/2020 02:27:00 PM           9\n",
      "9.  10/19/2021 04:42:00 PM           9\n",
      "10. 06/19/2020 03:11:00 PM           9\n",
      "\n",
      "Total number of distinct values in Time of Submission is 10166\n",
      "[]\n",
      "['06/19/2020 02:27:00 PM', '06/19/2020 03:28:00 PM', '06/19/2020 12:00:00 PM', '06/22/2020 03:23:00 PM', '06/19/2020 04:53:00 PM', '06/26/2020 02:00:00 PM', '06/23/2020 02:00:00 PM', '06/22/2020 01:10:00 PM', '06/19/2020 11:29:00 AM', '06/19/2020 11:57:00 AM', '06/19/2020 01:10:00 PM', '06/19/2020 02:45:00 PM', '06/19/2020 01:19:00 PM', '10/19/2021 04:36:00 PM', '10/19/2021 04:34:00 PM', '06/19/2020 05:37:00 PM', '06/22/2020 02:00:00 PM', '06/19/2020 11:01:00 AM', '06/19/2020 04:58:00 PM', '06/19/2020 03:57:00 PM', '06/19/2020 01:23:00 PM', '06/19/2020 03:56:00 PM', '06/19/2020 12:35:00 PM', '06/19/2020 03:25:00 PM', '06/19/2020 03:55:00 PM', '06/19/2020 12:43:00 PM', '06/19/2020 10:57:00 AM', '06/19/2020 05:48:00 PM', '06/19/2020 01:44:00 PM', '06/19/2020 01:03:00 PM', '06/19/2020 03:11:00 PM', '06/19/2020 04:23:00 PM', '06/19/2020 03:38:00 PM', '06/19/2020 02:22:00 PM', '06/22/2020 01:26:00 PM', '06/20/2020 12:21:00 PM', '10/19/2021 04:31:00 PM', '10/19/2021 04:42:00 PM', '06/19/2020 04:35:00 PM', '06/19/2020 04:38:00 PM', '06/19/2020 11:20:00 AM', '06/19/2020 04:37:00 PM', '06/19/2020 03:47:00 PM']\n",
      "\n",
      "==================================\n"
     ]
    }
   ],
   "source": [
    "##date_cols = [\"Filing Date\",\"Issuance Date\",\"Expiration Date\",\"Job Start Date\", \"DOB Run Date\"]\n",
    "\n",
    "for col in date_cols:\n",
    "    findDateOutliers(col, 0.02)"
   ]
  },
  {
   "cell_type": "markdown",
   "id": "8d3a284e",
   "metadata": {},
   "source": [
    "# Analysis\n",
    "\n",
    "the above results show the problems for the data cleaning task:\n",
    "    \n",
    "### Latest Action Date\n",
    "outliers: '06//1403'\n",
    "format: 'yyyy-mm-dd' and 'mm/dd/yyyy'\n",
    "\n",
    "### Pre- Filing Date\n",
    "no problem found\n",
    "\n",
    "### DOB Run Date\n",
    "format: 'yyyy-mm-dd' and 'mm/dd/yyyy 00:00:00'\n",
    "\n",
    "### SIGNOFF_DATE\n",
    "outliers: empty value\n",
    "\n",
    "### SPECIAL_ACTION_DATE\n",
    "outliers: empty value and '11//2006'\n",
    "\n",
    "### Paid\n",
    "outliers: empty value\n",
    "\n",
    "### Fully Paid\n",
    "outliers: empty value\n",
    "\n",
    "### Assigned\n",
    "outliers: empty value\n",
    "\n",
    "### Approved\n",
    "outliers: empty value"
   ]
  },
  {
   "cell_type": "markdown",
   "id": "4df1f199",
   "metadata": {},
   "source": [
    "Number Data Cleaning for outliers in datetime columns"
   ]
  },
  {
   "cell_type": "markdown",
   "id": "51465bed",
   "metadata": {},
   "source": [
    "## Fixing Datetime columns format"
   ]
  },
  {
   "cell_type": "code",
   "execution_count": 170,
   "id": "34813f21",
   "metadata": {
    "scrolled": false
   },
   "outputs": [
    {
     "name": "stdout",
     "output_type": "stream",
     "text": [
      "Top 10 Time of Submission:\n",
      "\n",
      "10/19/2021 04:36:00 PM    14\n",
      "06/19/2020 01:03:00 PM    11\n",
      "10/19/2021 04:31:00 PM    11\n",
      "06/19/2020 02:22:00 PM    10\n",
      "06/19/2020 02:45:00 PM    10\n",
      "06/19/2020 01:23:00 PM    10\n",
      "06/19/2020 12:00:00 PM    10\n",
      "06/19/2020 10:57:00 AM     9\n",
      "06/19/2020 01:10:00 PM     9\n",
      "06/19/2020 02:27:00 PM     9\n",
      "Name: Time of Submission, dtype: int64\n",
      "\n"
     ]
    }
   ],
   "source": [
    "# datetime_column_list = []\n",
    "# for col in ds.columns:\n",
    "#     if 'Date' in col or 'DATE' in col:\n",
    "#         print(col)\n",
    "#         datetime_column_list.append(col)\n",
    "\n",
    "for col in date_cols:\n",
    "    show_vals(rename_dict[col])"
   ]
  },
  {
   "cell_type": "markdown",
   "id": "0047d08e",
   "metadata": {},
   "source": [
    "Check to see if any columns have values in year-month-day format"
   ]
  },
  {
   "cell_type": "code",
   "execution_count": 171,
   "id": "6432d48c",
   "metadata": {},
   "outputs": [],
   "source": [
    "# for col in date_cols:\n",
    "#     print(col, '\\n', df.loc[df[col].str.contains('-', regex=False, na=False)][col], '\\n\\n')"
   ]
  },
  {
   "cell_type": "markdown",
   "id": "a072f1aa",
   "metadata": {},
   "source": [
    "#### Fix the remaining Datetime columns"
   ]
  },
  {
   "cell_type": "code",
   "execution_count": 172,
   "id": "de415466",
   "metadata": {},
   "outputs": [
    {
     "name": "stdout",
     "output_type": "stream",
     "text": [
      "Time of Submission\n"
     ]
    }
   ],
   "source": [
    "for col in date_cols:\n",
    "    print(col)\n",
    "    df.loc[:,rename_dict[col]] = pd.to_datetime(df[rename_dict[col]])"
   ]
  },
  {
   "cell_type": "markdown",
   "id": "74885148",
   "metadata": {},
   "source": [
    "These should all be proper datetime64[ns] columns now:"
   ]
  },
  {
   "cell_type": "code",
   "execution_count": 173,
   "id": "c2e93046",
   "metadata": {
    "scrolled": false
   },
   "outputs": [
    {
     "data": {
      "text/html": [
       "<div>\n",
       "<style scoped>\n",
       "    .dataframe tbody tr th:only-of-type {\n",
       "        vertical-align: middle;\n",
       "    }\n",
       "\n",
       "    .dataframe tbody tr th {\n",
       "        vertical-align: top;\n",
       "    }\n",
       "\n",
       "    .dataframe thead th {\n",
       "        text-align: right;\n",
       "    }\n",
       "</style>\n",
       "<table border=\"1\" class=\"dataframe\">\n",
       "  <thead>\n",
       "    <tr style=\"text-align: right;\">\n",
       "      <th></th>\n",
       "      <th>Time of Submission</th>\n",
       "    </tr>\n",
       "  </thead>\n",
       "  <tbody>\n",
       "    <tr>\n",
       "      <th>0</th>\n",
       "      <td>2020-06-26 20:38:00</td>\n",
       "    </tr>\n",
       "    <tr>\n",
       "      <th>1</th>\n",
       "      <td>2021-10-22 11:01:00</td>\n",
       "    </tr>\n",
       "    <tr>\n",
       "      <th>2</th>\n",
       "      <td>2020-12-14 19:54:00</td>\n",
       "    </tr>\n",
       "    <tr>\n",
       "      <th>3</th>\n",
       "      <td>2020-07-08 15:58:00</td>\n",
       "    </tr>\n",
       "    <tr>\n",
       "      <th>4</th>\n",
       "      <td>2020-06-24 16:02:00</td>\n",
       "    </tr>\n",
       "    <tr>\n",
       "      <th>...</th>\n",
       "      <td>...</td>\n",
       "    </tr>\n",
       "    <tr>\n",
       "      <th>13022</th>\n",
       "      <td>2020-08-04 15:27:00</td>\n",
       "    </tr>\n",
       "    <tr>\n",
       "      <th>13023</th>\n",
       "      <td>2020-07-13 15:53:00</td>\n",
       "    </tr>\n",
       "    <tr>\n",
       "      <th>13024</th>\n",
       "      <td>2020-06-21 13:46:00</td>\n",
       "    </tr>\n",
       "    <tr>\n",
       "      <th>13025</th>\n",
       "      <td>2020-06-19 13:19:00</td>\n",
       "    </tr>\n",
       "    <tr>\n",
       "      <th>13026</th>\n",
       "      <td>2020-06-30 22:33:00</td>\n",
       "    </tr>\n",
       "  </tbody>\n",
       "</table>\n",
       "<p>13027 rows × 1 columns</p>\n",
       "</div>"
      ],
      "text/plain": [
       "       Time of Submission\n",
       "0     2020-06-26 20:38:00\n",
       "1     2021-10-22 11:01:00\n",
       "2     2020-12-14 19:54:00\n",
       "3     2020-07-08 15:58:00\n",
       "4     2020-06-24 16:02:00\n",
       "...                   ...\n",
       "13022 2020-08-04 15:27:00\n",
       "13023 2020-07-13 15:53:00\n",
       "13024 2020-06-21 13:46:00\n",
       "13025 2020-06-19 13:19:00\n",
       "13026 2020-06-30 22:33:00\n",
       "\n",
       "[13027 rows x 1 columns]"
      ]
     },
     "execution_count": 173,
     "metadata": {},
     "output_type": "execute_result"
    }
   ],
   "source": [
    "df.select_dtypes(include='datetime')"
   ]
  },
  {
   "cell_type": "code",
   "execution_count": 174,
   "id": "98392e2b",
   "metadata": {
    "scrolled": false
   },
   "outputs": [],
   "source": [
    "#for col in datetime_column_list:\n",
    "#    show_vals(col)"
   ]
  },
  {
   "cell_type": "markdown",
   "id": "14b913d4",
   "metadata": {},
   "source": [
    "### Check the coherence of datetime values"
   ]
  },
  {
   "cell_type": "markdown",
   "id": "1ee84179",
   "metadata": {},
   "source": [
    "~These don't make sense, but it's not entirely clear if they should be swapped, or removed or what~\n",
    "\n",
    "All these are okay!\n"
   ]
  },
  {
   "cell_type": "code",
   "execution_count": 175,
   "id": "e1d2fcba",
   "metadata": {
    "scrolled": false
   },
   "outputs": [],
   "source": [
    "# df.loc[(df['Field Inspection Completed Date'] > df['Filing Date'])\n",
    "#       &(~df['Field Inspection Completed Date'].isna() & ~df['Filing Date'].isna())][['Field Inspection Completed Date', 'Filing Date']]"
   ]
  },
  {
   "cell_type": "code",
   "execution_count": null,
   "id": "8943023c",
   "metadata": {},
   "outputs": [],
   "source": []
  },
  {
   "cell_type": "code",
   "execution_count": 176,
   "id": "75eef79f",
   "metadata": {},
   "outputs": [],
   "source": [
    "# df.loc[(df['Expiration Date'] < df['Issuance Date'])\n",
    "#       &(~df['Expiration Date'].isna() & ~df['Issuance Date'].isna())][['Expiration Date', 'Issuance Date']]"
   ]
  },
  {
   "cell_type": "markdown",
   "id": "8686cc9f",
   "metadata": {},
   "source": [
    "Good, no expirations before issuance"
   ]
  },
  {
   "cell_type": "code",
   "execution_count": null,
   "id": "90594787",
   "metadata": {},
   "outputs": [],
   "source": []
  },
  {
   "cell_type": "markdown",
   "id": "2263e999",
   "metadata": {},
   "source": [
    "Here it's not clear how a job could start after the issuance expires, but this may have actually happened"
   ]
  },
  {
   "cell_type": "code",
   "execution_count": 177,
   "id": "eab47eaf",
   "metadata": {
    "scrolled": false
   },
   "outputs": [],
   "source": [
    "# df.loc[(df['Job Start Date'] > df['Expiration Date'])\n",
    "#       &(~df['Job Start Date'].isna() & ~df['Expiration Date'].isna())][['Job Start Date', 'Expiration Date']]"
   ]
  },
  {
   "cell_type": "code",
   "execution_count": null,
   "id": "0d6d7e55",
   "metadata": {},
   "outputs": [],
   "source": []
  },
  {
   "cell_type": "markdown",
   "id": "e0c28c7a",
   "metadata": {},
   "source": [
    "##### These are, however a small percentage of of our total jobs"
   ]
  },
  {
   "cell_type": "markdown",
   "id": "17cf463a",
   "metadata": {},
   "source": [
    "Fraction of jobs Assigned after they were already approved out of total jobs"
   ]
  },
  {
   "cell_type": "code",
   "execution_count": 178,
   "id": "723fc53e",
   "metadata": {},
   "outputs": [],
   "source": [
    "#df.loc[df['Job Start Date'] > df['Expiration Date']]['Job Start Date'].count()/df['Job Start Date'].count()"
   ]
  },
  {
   "cell_type": "markdown",
   "id": "f56c9227",
   "metadata": {},
   "source": [
    "Number Data Profilling for City and Other Description\n",
    "\n",
    "Find format problems and outliers in City and Description columns\n",
    "\n",
    "Using openclean's sklearn modules to detect problems and outliers"
   ]
  },
  {
   "cell_type": "code",
   "execution_count": 180,
   "id": "48eea5cd",
   "metadata": {},
   "outputs": [],
   "source": [
    "from openclean.profiling.anomalies.sklearn import DBSCANOutliers\n",
    "\n",
    "# Print the ten most frequent values for the 'Vehicle Expiration Date' column.\n",
    "def findDateOutliers(column_name, eps_setting = 0.05):\n",
    "    applicant_data = ds.distinct(column_name)\n",
    "    print(\"Column: \",column_name)\n",
    "    \n",
    "    for rank, val in enumerate(applicant_data.most_common(10)):        \n",
    "        st, freq = val\n",
    "        print('{:<3} {:>8}  {:>10}'.format('{}.'.format(rank + 1), st, '{:,}'.format(freq)))\n",
    "\n",
    "    print('\\nTotal number of distinct values in {} is {}'.format(column_name, len(applicant_data)))\n",
    "    print(DBSCANOutliers(eps = eps_setting).find(applicant_data))\n",
    "    print('\\n==================================')"
   ]
  },
  {
   "cell_type": "code",
   "execution_count": 181,
   "id": "c6ce7197",
   "metadata": {},
   "outputs": [],
   "source": [
    "#date_cols = [\"Comments\"]"
   ]
  },
  {
   "cell_type": "code",
   "execution_count": 182,
   "id": "8d878f53",
   "metadata": {},
   "outputs": [
    {
     "name": "stdout",
     "output_type": "stream",
     "text": [
      "----------------------------\n",
      "\n",
      "Column:  Time of Submission\n",
      "1.  10/19/2021 04:36:00 PM          14\n",
      "2.  10/19/2021 04:31:00 PM          11\n",
      "3.  06/19/2020 01:03:00 PM          11\n",
      "4.  06/19/2020 02:22:00 PM          10\n",
      "5.  06/19/2020 01:23:00 PM          10\n",
      "6.  06/19/2020 02:45:00 PM          10\n",
      "7.  06/19/2020 12:00:00 PM          10\n",
      "8.  06/19/2020 02:27:00 PM           9\n",
      "9.  10/19/2021 04:42:00 PM           9\n",
      "10. 06/19/2020 03:11:00 PM           9\n",
      "\n",
      "Total number of distinct values in Time of Submission is 10166\n",
      "['10/19/2021 04:36:00 PM']\n",
      "\n",
      "==================================\n"
     ]
    }
   ],
   "source": [
    "#date_cols = [\"COMMENTS\"]\n",
    "print(\"----------------------------\\n\")        \n",
    "        \n",
    "for col in date_cols:\n",
    "    findDateOutliers(col, 0.1)"
   ]
  },
  {
   "cell_type": "markdown",
   "id": "4458ca72",
   "metadata": {},
   "source": [
    "Number Analysis\n",
    "\n",
    "the above results show the problems for the data cleaning task:\n",
    "    \n",
    "### For City\n",
    "\n",
    "There are many misspellings and abbreviations for city names. We can use both clustering and Soundex to detect misspellings and abbreviations. And we can check if our cleaning is right by refer to the U.S. Cities reference datasets in openclean.\n",
    "\n",
    "\n",
    "### For Other Description\n",
    "\n",
    "Other Description can be anything, so we just care about empty value and values that are too similar and are showing exactly same things (for example 'GC' and '___GC')"
   ]
  },
  {
   "cell_type": "code",
   "execution_count": 183,
   "id": "75d6d232",
   "metadata": {},
   "outputs": [],
   "source": [
    "from openclean.function.eval.base import Col, Eval\n",
    "from openclean.function.eval.logic import And\n",
    "from openclean.function.value.phonetic import Soundex, soundex"
   ]
  },
  {
   "cell_type": "code",
   "execution_count": null,
   "id": "dde832c4",
   "metadata": {},
   "outputs": [],
   "source": [
    "# upper = ds\\\n",
    "#     .select(\"QEWI_CITY\")\\\n",
    "#     .update(\"QEWI_CITY\", str.upper)"
   ]
  },
  {
   "cell_type": "code",
   "execution_count": null,
   "id": "3be41168",
   "metadata": {},
   "outputs": [],
   "source": [
    "# from openclean.data.refdata import RefStore\n",
    "\n",
    "# refdata = RefStore()\n",
    "# city_df = refdata\\\n",
    "#     .load('encyclopaedia_britannica:us_cities', auto_download=True)\\\n",
    "#     .df()\n"
   ]
  },
  {
   "cell_type": "code",
   "execution_count": null,
   "id": "875fa3cd",
   "metadata": {},
   "outputs": [],
   "source": [
    "# city_list = city_df['city']\n",
    "# print(city_list)"
   ]
  },
  {
   "cell_type": "markdown",
   "id": "1fc128e6",
   "metadata": {},
   "source": [
    "Number An example of using soundex in openclean\n",
    "\n",
    "However, using soundex for each of the city is too slow, the code below take nearly 4 mins for one sningle city.\\\n",
    "So we should use clustering first and then use hard code to clean the remianing city name that is not in the city_list."
   ]
  },
  {
   "cell_type": "code",
   "execution_count": null,
   "id": "ec8cee87",
   "metadata": {},
   "outputs": [],
   "source": [
    "# brooklyn = ds\\\n",
    "#     .select(\"QEWI_CITY\")\\\n",
    "#     .update(\"QEWI_CITY\", str.upper)\\\n",
    "#     .filter(And(Eval(\"QEWI_CITY\", Soundex()) == soundex('BROOKLYN'), Col(\"QEWI_CITY\") != 'BROOKLYN'))\\\n",
    "#     .distinct()\n",
    "\n",
    "# print('RANK\\tCOUNT\\tNAME')\n",
    "# for i, entry in enumerate(brooklyn.most_common()):\n",
    "#     key, count = entry\n",
    "#     print('{}.\\t{}\\t{}'.format(i + 1, count, key))"
   ]
  },
  {
   "cell_type": "markdown",
   "id": "b39876ff",
   "metadata": {},
   "source": [
    "Number Data Cleaning for Applicant columns\n",
    "\n",
    "* how to deal with empty values has not decided yet"
   ]
  },
  {
   "cell_type": "markdown",
   "id": "78b1d97c",
   "metadata": {},
   "source": [
    "Number Transform all city names to upper case\n",
    "\n",
    "### Remember that we have changed some column names:\n",
    "\"City \": \"Owner's House City\"\\\n",
    "\"State\": \"Owner's House State\""
   ]
  },
  {
   "cell_type": "code",
   "execution_count": null,
   "id": "316e6fb1",
   "metadata": {},
   "outputs": [],
   "source": [
    "#df[\"Qewi City\"] = df[\"Qewi City\"].str.upper()"
   ]
  },
  {
   "cell_type": "code",
   "execution_count": null,
   "id": "8baf4ba6",
   "metadata": {},
   "outputs": [],
   "source": [
    "# Convert similar values to suggested value using kNN clustering"
   ]
  },
  {
   "cell_type": "code",
   "execution_count": null,
   "id": "725c8b9a",
   "metadata": {},
   "outputs": [],
   "source": [
    "# # Cluster string using kNN clusterer (with the default n-gram setting)\n",
    "# # using the Levenshtein distance as the similarity measure.\n",
    "\n",
    "# from openclean.cluster.knn import knn_clusters\n",
    "# from openclean.function.similarity.base import SimilarityConstraint\n",
    "# from openclean.function.similarity.text import LevenshteinDistance\n",
    "# from openclean.function.value.threshold import GreaterThan\n",
    "\n",
    "# def getClusters(col, minsize = 2, preds = 0.5):\n",
    "#     dba = ds.select(col).distinct()\n",
    "#     clusters = knn_clusters(\n",
    "#         values=dba,\n",
    "#         sim=SimilarityConstraint(func=LevenshteinDistance(), pred=GreaterThan(preds)),\n",
    "#         minsize=minsize\n",
    "#     )\n",
    "#     return clusters\n",
    "\n",
    "# def print_cluster(cnumber, cluster):\n",
    "#     item_count = 0\n",
    "#     print('Cluster {} (of size {})\\n'.format(cnumber, len(cluster)))\n",
    "#     for val, count in cluster.items():\n",
    "#         item_count += 1\n",
    "#         if item_count <= 10:\n",
    "#             print('{} ({})'.format(val, count))\n",
    "#     if item_count>10:\n",
    "#         print(\".......{} more items\".format(item_count-10))\n",
    "#     print('\\nSuggested value: {}\\n\\n'.format(cluster.suggestion()))\n",
    "\n",
    "# def updateUsingClusters(col, clusters, isPrint = False):\n",
    "    \n",
    "#     orignal_list = []\n",
    "#     suggestion_list = []\n",
    "#     clusters.sort(key=lambda c: len(c), reverse=True)\n",
    "       \n",
    "#     for i, cluster in enumerate(clusters):        \n",
    "#         suggestion = cluster.suggestion()\n",
    "#         orignal_list = []\n",
    "#         suggestion_list = []\n",
    "#         if isPrint and i <5:\n",
    "#             print_cluster(i, cluster)\n",
    "        \n",
    "#         for val, count in cluster.items(): \n",
    "#             orignal_list.append(val)\n",
    "#             suggestion_list.append(suggestion)\n",
    "    \n",
    "#     df[col] = df[col].replace(orignal_list, suggestion_list)"
   ]
  },
  {
   "cell_type": "code",
   "execution_count": null,
   "id": "89a93bc7",
   "metadata": {
    "scrolled": false
   },
   "outputs": [],
   "source": [
    "# date_cols = [\"QEWI_CITY\"]#,'Other Description' ]\n",
    "\n",
    "\n",
    "# # print(\"kNN cluster for \", \"Qewi City\")\n",
    "# # col_clusters = getClusters(\"Qewi City \")\n",
    "# # print(\"updating column \", \"Qewi City\")\n",
    "# # print(\"----------------------\\nTop 5 Cluster:\\n----------------------\")\n",
    "# # updateUsingClusters(\"Qewi City\", col_clusters, True)\n",
    "# print(\"================\")\n",
    "\n",
    "# print(\"kNN cluster for \", date_cols[0])\n",
    "# col_clusters = getClusters(date_cols[0])\n",
    "# print(\"updating column \", date_cols[0])\n",
    "# print(\"----------------------\\nTop 5 Cluster:\\n----------------------\")\n",
    "# updateUsingClusters(\"Qewi City\", col_clusters, True)\n",
    "# print(\"================\")"
   ]
  },
  {
   "cell_type": "code",
   "execution_count": null,
   "id": "63f0a3bd",
   "metadata": {},
   "outputs": [],
   "source": [
    "# After clustering, find data that is not in the reference city dataset, hard code to clean them"
   ]
  },
  {
   "cell_type": "code",
   "execution_count": null,
   "id": "934ae0ef",
   "metadata": {},
   "outputs": [],
   "source": [
    "# upper_city_list = []\n",
    "# for item in city_list:\n",
    "#     upper_city_list.append(str(item.upper()))\n",
    "\n",
    "# outlier_cities = df.loc[(~df['Qewi City'].str.upper().isin(upper_city_list)) & (~df['Qewi City'].isna())]['Qewi City'].drop_duplicates()\n",
    "# print(outlier_cities)"
   ]
  },
  {
   "cell_type": "code",
   "execution_count": null,
   "id": "3d6dd591",
   "metadata": {},
   "outputs": [],
   "source": [
    "# Print standardized cities and found outliers"
   ]
  },
  {
   "cell_type": "code",
   "execution_count": null,
   "id": "4d0c3510",
   "metadata": {},
   "outputs": [],
   "source": [
    "# standardized_cities = df.loc[(df['Qewi City'].str.upper().isin(upper_city_list)) & (~df['Qewi City'].isna())]['Qewi City'].drop_duplicates()\n",
    "# print(standardized_cities)"
   ]
  },
  {
   "cell_type": "code",
   "execution_count": null,
   "id": "906fd341",
   "metadata": {},
   "outputs": [],
   "source": [
    "# outlier_city_list = []\n",
    "# for item in outlier_cities:\n",
    "#     outlier_city_list.append(str(item))\n",
    "    \n",
    "# print(outlier_city_list)"
   ]
  },
  {
   "cell_type": "code",
   "execution_count": null,
   "id": "e7c44eab",
   "metadata": {},
   "outputs": [],
   "source": [
    "# Search for similar city names in reference city dataset, and hard code to replace those outliers"
   ]
  },
  {
   "cell_type": "code",
   "execution_count": null,
   "id": "c8da4ded",
   "metadata": {},
   "outputs": [],
   "source": [
    "# def findCityName(str):\n",
    "#     print(city_df['city'].loc[city_df['city'].str.contains(str)].drop_duplicates())\n",
    "#     print(\"------------------------\\n\")\n",
    "    \n",
    "# findCityName(\"Rich\")\n",
    "# findCityName(\"Island\")\n",
    "# findCityName(\"White\")\n",
    "# findCityName(\"Philadelphia\")\n",
    "# findCityName(\"Morris\")\n",
    "# findCityName(\"Nassau\")\n",
    "# findCityName(\"Westchester\")\n",
    "  "
   ]
  },
  {
   "cell_type": "code",
   "execution_count": null,
   "id": "be10867a",
   "metadata": {},
   "outputs": [],
   "source": [
    "# outlier_city_list = ['NEW YORK', 'BKLYN', 'ROOKLYN', 'RICHMOND HILL', 'BX', 'NY', 'OLD WESTBURY', 'N.Y.', 'HOLLIS', 'MAHATTAN', 'LAKE SUCCESS', 'BROKKLYN', 'BETHESDA', 'JAMAICA', 'SECAUCUS', 'LIC', 'MASPETH', 'JAMAICA ESTATES', 'SOUTH OZONE PAR', 'BAYSIDE', 'JAM', 'PARMUS', 'KEW GARDENS', 'WOONSECKET', 'LI', 'ST. ALBANS', 'MASSAPEQUA', 'SI', 'FLORAL PARK', 'ROSLYN HEIGHTS', 'HOWARD BEACH', 'WHITEPLAINS', 'JACKSON HEIGHTS', 'REGO PARK', 'NEW HYDE PARK', 'REGO', 'ARVERNE', 'OZONE PARK', 'VALLEY STREAM', 'NEPONSIT', 'ROCKVILLE CENTR', 'BRIARWOOD', 'BRKLYN', 'MOUNT LAUREL', 'QUEEEN', 'ELMSFORD', 'NYC', 'GILLFORD', 'PARSIPPANY', 'WOODSIDE', 'LONG ISLAND CIT', 'QUEEN', 'VAALLEY STREAAM', 'BRONS', 'COLLEGE POINT', 'ROCKAWAY POINT', 'DOUGLASTON', 'ENGLEWOOD CLIFF', 'QNS', 'LYNBROOK', 'SYOSSET', 'FRESH MEADOWS', 'LITTLE NECK', 'WOODHAVEN', 'HARTSDALE', 'ATLANTIC BEACH', 'SAN JUAN CAPIST', 'CALDE PLACE', 'RIVERDALE', 'TUCKAHOE', 'SEAFORD', 'L.I.C.', 'REGO PK', \"B'KLYN\"]\n",
    "# clean_city_list = ['NEW YORK CITY', 'BROOKLYN', 'BROOKLYN', 'RICHMOND', 'BRONX', 'NEW YORK CITY', 'NEW YORK CITY', 'NEW YORK CITY', 'NEW YORK CITY', 'MANHATTAN', 'NEW YORK CITY', 'BROOKLYN', 'BETHESDA', 'NEW YORK CITY', 'SECAUCUS', 'LONG ISLAND CITY', 'NEW YORK CITY', 'NEW YORK CITY', 'NEW YORK CITY', 'NEW YORK CITY', 'NEW YORK CITY', 'PARAMUS', 'NEW YORK CITY', 'WOONSOCKET', 'LONG ISLAND CITY', 'NEW YORK CITY', 'NEW YORK CITY', 'STATEN ISLAND', 'NEW YORK CITY', 'NEW YORK CITY', 'NEW YORK CITY', 'WHITE PLAINS', 'NEW YORK CITY', 'NEW YORK CITY', 'NEW YORK CITY', 'NEW YORK CITY', 'NEW YORK CITY', 'NEW YORK CITY', 'NEW YORK CITY', 'NEW YORK CITY', 'NEW YORK CITY', 'NEW YORK CITY', 'BROOKLYN', 'PHILADELPHIA', 'QUEEENS', 'NEW YORK CITY', 'NEW YORK CITY', 'GILLFORD', 'MORRIS', 'NEW YORK CITY', 'LONG ISLAND CITY', 'QUEENS', 'BRONX', 'NEW YORK CITY', 'NEW YORK CITY', 'NEW YORK CITY', 'NEW YORK CITY', 'NEW YORK CITY', 'QUEENS', 'NEW YORK CITY', 'NASSAU', 'QUEENS', 'QUEENS', 'WOODHAVEN', 'NEW YORK CITY', 'NASSAU', 'SAN JUAN CAPISTRANO', 'BROOKLYN', 'RIVERDALE', 'STATEN ISLAND', 'NASSAU', 'LONG ISLAND CITY', 'QUEENS', \"BROOKLYN\"]\n",
    "\n",
    "# df['Qewi City'] = df['Qewi City'].replace(outlier_city_list, clean_city_list)"
   ]
  },
  {
   "cell_type": "code",
   "execution_count": null,
   "id": "8035d003",
   "metadata": {},
   "outputs": [],
   "source": [
    "# Check State Column"
   ]
  },
  {
   "cell_type": "code",
   "execution_count": null,
   "id": "b2ed1919",
   "metadata": {},
   "outputs": [],
   "source": [
    "#state_col = 'QEWI_STATE'\n",
    "#findDateOutliers(state_col, 0.1)"
   ]
  },
  {
   "cell_type": "code",
   "execution_count": null,
   "id": "25d7f1be",
   "metadata": {},
   "outputs": [],
   "source": [
    "#ds.select('QEWI_STATE').distinct()"
   ]
  },
  {
   "cell_type": "code",
   "execution_count": null,
   "id": "862045e6",
   "metadata": {},
   "outputs": [],
   "source": [
    "# Find functional dependencies violations on City -> State"
   ]
  },
  {
   "cell_type": "code",
   "execution_count": null,
   "id": "c9f9150f",
   "metadata": {},
   "outputs": [],
   "source": [
    "# from openclean.operator.collector.count import distinct\n",
    "# from openclean.operator.map.violations import fd_violations\n",
    "\n",
    "# groups = fd_violations(df, lhs='Qewi City', rhs='Qewi State')\n",
    "\n",
    "# print('City         \\t|            State')\n",
    "# print('=============\\t|  ===============')\n",
    "# for key in groups:\n",
    "#     conflicts = distinct(groups.get(key), 'Qewi State').most_common()\n",
    "#     state, count = conflicts[0]\n",
    "#     print('{:<12} \\t| {} x {}'.format(key, count, state))\n",
    "#     for state, count in conflicts[1:]:\n",
    "#         print('             \\t| {} x {}'.format(count, state))\n",
    "#     print('-------------\\t|  ---------------')"
   ]
  },
  {
   "cell_type": "code",
   "execution_count": null,
   "id": "54d61f55",
   "metadata": {},
   "outputs": [],
   "source": [
    "#There is a row that has \"NEW YORK CITY\" as city, but have \"NJ\" as State, fix its state to \"NY\""
   ]
  },
  {
   "cell_type": "code",
   "execution_count": null,
   "id": "2f0258f3",
   "metadata": {},
   "outputs": [],
   "source": [
    "#index = df['Qewi State'].loc[(df['Qewi City'] == \"NEW YORK CITY\") & (df['Qewi State'] == \"NJ\")].index[0]\n",
    "#df['Qewi State'].update(pd.Series(['NY'], index = [index]))"
   ]
  },
  {
   "cell_type": "code",
   "execution_count": null,
   "id": "c8142dbb",
   "metadata": {},
   "outputs": [],
   "source": [
    "#df['Qewi State'].loc[(df['Qewi City'] == \"NEW YORK CITY\") & (df['Qewi State'] == \"NJ\")]"
   ]
  },
  {
   "cell_type": "code",
   "execution_count": null,
   "id": "bd7489db",
   "metadata": {},
   "outputs": [],
   "source": [
    "# Apply similar operation on Owner Bus Name"
   ]
  },
  {
   "cell_type": "code",
   "execution_count": null,
   "id": "7932f3cb",
   "metadata": {},
   "outputs": [],
   "source": [
    "#bn_col = \"Qewi Bus Name\"\n",
    "#findDateOutliers(bn_col)"
   ]
  },
  {
   "cell_type": "code",
   "execution_count": null,
   "id": "83ba0fb3",
   "metadata": {},
   "outputs": [],
   "source": [
    "# Using clustering for Business Name takes too much time, we can only clean those empty data for now "
   ]
  },
  {
   "cell_type": "code",
   "execution_count": null,
   "id": "b6c78a8e",
   "metadata": {},
   "outputs": [],
   "source": [
    "#df[bn_col] = df[bn_col].replace(['N/A', '', 'NA','NONE'], [None,None,None,None])"
   ]
  },
  {
   "cell_type": "code",
   "execution_count": null,
   "id": "1c52c6ee",
   "metadata": {},
   "outputs": [],
   "source": []
  },
  {
   "cell_type": "markdown",
   "id": "69e694d3",
   "metadata": {},
   "source": [
    "### Data Profilling for applicant columns\n",
    "\n",
    "#Find format problems and outliers in all applicant columns\n",
    "\n",
    "#Using openclean's sklearn modules to detect problems and outliers"
   ]
  },
  {
   "cell_type": "code",
   "execution_count": 184,
   "id": "4787a80f",
   "metadata": {},
   "outputs": [],
   "source": [
    "from openclean.profiling.anomalies.sklearn import DBSCANOutliers\n",
    "\n",
    "# Print the ten most frequent values for the 'Vehicle Expiration Date' column.\n",
    "def findDateOutliers(column_name, eps_setting = 0.05):\n",
    "    applicant_data = ds.distinct(column_name)\n",
    "    print(\"Column: \",column_name)\n",
    "    \n",
    "    for rank, val in enumerate(applicant_data.most_common(10)):        \n",
    "        st, freq = val\n",
    "        print('{:<3} {:>8}  {:>10}'.format('{}.'.format(rank + 1), st, '{:,}'.format(freq)))\n",
    "\n",
    "    print('\\nTotal number of distinct values in {} is {}'.format(column_name, len(applicant_data)))\n",
    "    print(DBSCANOutliers(eps = eps_setting).find(applicant_data))\n",
    "    print('\\n==================================')"
   ]
  },
  {
   "cell_type": "code",
   "execution_count": null,
   "id": "535ad372",
   "metadata": {},
   "outputs": [],
   "source": [
    "# date_cols = []\n",
    "\n",
    "# print(\"Qewi Data columns:\\n\")\n",
    "# for col in ds.columns:\n",
    "#     if 'Applicant' in col:\n",
    "#         print(col)\n",
    "#         date_cols.append(col)"
   ]
  },
  {
   "cell_type": "code",
   "execution_count": null,
   "id": "94e96094",
   "metadata": {},
   "outputs": [],
   "source": [
    "# date_cols = []\n",
    "\n",
    "# print(\"Applicant Data columns:\\n\")\n",
    "# for col in ds.columns:\n",
    "#     if 'Applicant' in col:\n",
    "#         print(col)\n",
    "#         date_cols.append(col)\n",
    "\n",
    "# print(\"----------------------------\\n\")        \n",
    "        \n",
    "# for col in date_cols:\n",
    "#     findDateOutliers(col, 0.1)"
   ]
  },
  {
   "cell_type": "code",
   "execution_count": null,
   "id": "03e1f556",
   "metadata": {},
   "outputs": [],
   "source": [
    "# Analysis\n",
    "\n",
    "#the above results show the problems for the data cleaning task:\n",
    "    \n",
    "### For name data\n",
    "\n",
    "#in \"Applicant's First Name\", \"Applicant's Last Name\", \"Applicant Professional Title\", there are many outliers which are illegal input, and there are many similar values. We need first converts evident outliers to legal values, then use kNN clusterer to standardize similar values.\n",
    "\n",
    "\n",
    "### Applicant License Number\n",
    "\n",
    "#Applicant License Number is made of 6 digits, there are outliers that do not satisfy the 6-digit format. We can not use kNN clusterer to standardize because many License Number are similar. "
   ]
  },
  {
   "cell_type": "code",
   "execution_count": null,
   "id": "d952e408",
   "metadata": {},
   "outputs": [],
   "source": [
    "# Data Cleaning for Applicant columns\n",
    "\n",
    "#* how to deal with empty values has not decided yet"
   ]
  },
  {
   "cell_type": "code",
   "execution_count": null,
   "id": "e5b26ec3",
   "metadata": {},
   "outputs": [],
   "source": [
    "# Number mapping list to replace outliers\n",
    "# outlier1 = ['', 'MR. ROSS ADAM C', 'MICHAEL', 'N. J.', 'WILLIAM 11', 'JOSEP;H``', 'DAID/11/2007', 'CHUNG   LUN', '718 9215010', 'ANTHONY', 'HSIA0-NAN', 'JOSEPH', '``````````', 'ROBERT  `', 'RAJENDRA9956700', '2', 'G.B.M.', 'EUGENE......JR', '6312100', 'CLAUDE,JR.', 'THOMAS``', 'ALAN  L', 'Nab53', 'MR. Y. B', 'J.J', 'PH8ILIP', 'I. M', 'RICHARD', 'ALBERTA S 111 D', 'P ;', 'GENECG.C. ENG &', 'J.J.', '2126202794', 'SHAW  HWA', 'HARRY         H', 'MR DOU8GLAS', '`1D', 'PAUL', 'K. T.', 'JOHN', '...NORMAN', 'EVAN   D', '7184361278BERNA', 'S.D. DON', 'KY00 SUK', 'JJ', 'YURI.`', 'MAD/Y/ARNI', 'ES ON SCH B', 'EUGENE.......JR', 'NEAL', 'F._ERIC', 'RYAN,  JR', 'AASDFASDFASDF', 'LA0-TECH', 'RODNEY   __', 'DAVID', 'G. L.', 'JAMES', 'LESLI8E', '7186054055', 'GEORGE', 'G.B.M', 'DAVID    JON', 'CHUNG---YAO', 'PETER', 'YUBUN(JACK)', 'GLEN A. L.', '1P', 'JUDE.....N.O', 'LEONARD--', 'WILLIAM', 'ANTHONY,111', 'WU(WOODY)', 'GAD/HON-AN', 'GLEN  A.L.', 'J.B. Jr.', 'LORENZO..A', 'J J', '..RAMSEY', 'HUI LI I', 'ANTONIO9', 'ROBERT', '0.BERT', 'DUMMY 2', '...JOSEPH', 'RUSSELL 111', 'THOMAS', 'H./E./CAMELLE', 'LALAL', 'M.E. P.E', 'R0OBIN VINCENT', '--young', 'AKM', 'LE1', 'IK.T.', 'LEO, JR.', 'J. Butch A. Jr.', 'WU (WOODY0', 'PAUL   N', 'CHRISTOPHER']\n",
    "# mapping1 = [None, 'ROSS ADAM C', 'MICHAEL', 'N. J.', 'WILLIAM', 'JOSEPH', None, 'CHUNG LUN', None, 'ANTHONY', 'HSIA0 NAN', 'JOSEPH', None, 'ROBERT', 'RAJENDRA', None, 'G.B.M.', 'EUGENEJR', None, 'CLAUDE JR.', 'THOMAS', 'ALAN  L', 'Nab', 'MR. Y. B', 'J.J', 'PHILIP', 'I. M', 'RICHARD', 'ALBERTA', None, 'GENECG.C. ENG', 'J.J.', None, 'SHAW HWA', 'HARRYH', 'MR DOUGLAS', None, 'PAUL', 'K. T.', 'JOHN', 'NORMAN', 'EVAND', 'BERNA', 'S.D. DON', 'KY00 SUK', 'JJ', 'YURI.`', 'MADYARNI', 'ES ON SCH B', 'EUGENEJR', 'NEAL', 'FERIC', 'RYAN,  JR', 'AASDFASDFASDF', 'LA0 TECH', 'RODNEY', 'DAVID', 'G. L.', 'JAMES', 'LESLIE', None, 'GEORGE', 'G.B.M', 'DAVID JON', 'CHUNG YAO', 'PETER', 'YUBUN(JACK)', 'GLEN A. L.', None, 'JUDE N.O', 'LEONARD--', 'WILLIAM', 'ANTHONY,111', 'WU(WOODY)', 'GAD HON-AN', 'GLEN A.L.', 'J.B. Jr.', 'LORENZOA', 'J J', 'RAMSEY', 'HUI LI I', 'ANTONIO9', 'ROBERT', '0.BERT', 'DUMMY', 'JOSEPH', 'RUSSELL', 'THOMAS', 'H.E.CAMELLE', 'LALAL', 'M.E. P.E', 'R0OBIN VINCENT', 'young', 'AKM', 'LE1', 'IK.T.', 'LEO, JR.', 'J. Butch A. Jr.', 'WU (WOODY0', 'PAUL   N', 'CHRISTOPHER']\n",
    "\n",
    "# outlier2 = ['SHARMA Number0', \"0'CONNOR\", 'RUSHTON    UEL', 'UDDIN   Z', 'HINKLEY 1', 'O&Number039;CONNOR, P.E.', '.OOK', 'SAMUELS111', 'O&Number039;CONNOR', 'CALIENDO', 'SMITH   JR.', 'LO  BUE', '7AN', '+-+ETTIERI', 'SMITH, 111', 'KAMEN   1', '.EE', 'MASS, 1', '.EI', 'Zagaroli 3rd', 'RINI   II', 'KAMEN   R', 'RYAN 11', 'SPI8EZIA L S', 'MUFTIC..A.I.A', 'COSTELLO9 RA A I A', 'CALVANICO', 'LLC.', 'POEPPEL, P.E.', 'HAMA07', 'HINLEY,1', '1212', \"O  ' CONNELL\", 'HURT,JR.,', 'WESOLOWSKI', 'CHEN', '`ING, R.A', 'MARTARELLA 111', 'Gandhi, Ph.D., P.E.', '90I', 'ENNIS 2', 'COSTELLO R A A I A', '3UI', 'N/A', 'HURT,  JR', 'LEHR,1', 'KOHLER, 111', 'GERAZOUNIS', 'Alexander,1', 'LUBOW, R.A. LEED AP', 'RINI,111', '08CZAK', '````````````````````', 'CHAO  R.A.', 'Geier 11', '08NGEL', '08SOLOWSKI', 'I11', 'HINKLEY, 1', 'RUDIKOFF, P.E.', \"O'CONNOR\", 'SHAH   EZ', 'MIELE, JR., P.E.', 'RITTENHOUSE 111', 'AMADI   ISIOFIA', 'HINKLEY,1', 'RENFORE````````', \"O'HARA,JR.\", '73020012', 'PHAGOO   I', 'BRAY.....,', 'LLL', 'BHATHIA,1', 'GANDHI, PH. D., P.E', 'KO K', 'VASSALOTTI 11', 'HURT, JR .', '0018LKLE', 'RINI -111', 'PARIHAR', 'EE', 'L00802', 'ELISE.111', 'KING , R.A', 'CHRYSLER  P E', 'LEHR 1', 'Walters   Jr.', 'LEE', 'RINI  III', 'D&Number039;ANGELO', '0UDOLPH III', 'VIEHE-NAESS 111', ',MO', '08E', '47DIKOFF', 'Yu,', '420865380', 'COPELAND', 'ZWIEFEL 3RD', 'PETERSEN', 'King, R.A.,', 'RINI, III', '7APA', 'CHEN   S', 'Hurt  Jr.', 'KATZ', 'NIZAMBAD.(P.E.)', '901BEN', '4153LOO', 'SYED-NAQVI', 'RYAN , JR.', 'K O K O R I S', 'ELISEO111', 'O&Number039;CONNELL', 'ZEID61', '---Lewis', '00CHELI', 'MOHAMMAD       +++++', 'METZLER  P E', 'BAILEY', 'GANDHI, PH. D., P.E.', 'TIEMANN.111', 'SMITH.111', 'DI GER0NIMO', 'GANDHI, PH,D., P.E', 'III', 'J C', 'MAGAMI-QAIM-MAGAMI', '+M', 'LO G1UDICE', 'HOQUE', 'RUDIKOFF', 'Y10007OR', 'SMITH,111', 'KING R A FAIA', 'RYAN III, AIA', '08AN', 'STARK 1', 'MASS', 'VICTORI0, R.A', 'RIZVI   A', '21029677', \"3'CONNOR\", 'Wong /  Lai', 'KAPLAN 3', 'GRAICHEN.JR./DAWN/DI', 'GROSSMAN ,PE,F.A.C.I']\n",
    "# mapping2 = ['SHARMA ', \"CONNOR\", 'RUSHTON UEL', 'UDDIN Z', 'HINKLEY ', 'CONNOR P.E.', None, 'SAMUELS', 'CONNOR', 'CALIENDO', 'SMITH JR.', 'LO BUE', None, 'ETTIERI', 'SMITH', 'KAMEN', '.EE', 'MASS', '.EI', 'Zagaroli', 'RINI', 'KAMEN R', 'RYAN', 'SPIEZIA L S', 'MUFTIC.A.I.A', 'COSTELLO9 RA A I A', 'CALVANICO', 'LLC.', 'POEPPEL P.E.', 'HAMA', 'HINLEY', None, \"CONNELL\", 'HURT JR.', 'WESOLOWSKI', 'CHEN', 'ING R.A', 'MARTARELLA', 'Gandhi', None, 'ENNIS ', 'COSTELLO R A A I A', None, None, 'HUR  JR', 'LEHR', 'KOHLER 111', 'GERAZOUNIS', 'Alexander', 'LUBOW R.A. LEED AP', 'RINI',None, None, 'CHAO R.A.', 'Geier', None, 'SOLOWSKI', None, 'HINKLEY', 'RUDIKOFF, P.E.', \"CONNOR\", 'SHAH EZ', 'MIELE JR. P.E.', 'RITTENHOUSE', 'AMADI   ISIOFIA', 'HINKLEY', 'RENFORE', \"O'HARA,JR.\", None, 'PHAGOO I', 'BRAY,', 'LLL', 'BHATHIA', 'GANDHI', 'KO K', 'VASSALOTTI', 'HURT JR.',None, 'RINI', 'PARIHAR', 'EE', None, 'ELISE', 'KING R.A', 'CHRYSLER  P E', 'LEHR', 'Walters Jr.', 'LEE', 'RINI  III', 'ANGELO', '0UDOLPH III', 'VIEHE-NAESS', 'MO', '08E', None, 'Yu,', None, 'COPELAND', 'ZWIEFEL 3RD', 'PETERSEN', 'King, R.A.,', 'RINI, III', '7APA', 'CHEN   S', 'Hurt  Jr.', 'KATZ', 'NIZAMBAD.(P.E.)', None, None, None, 'RYAN JR.', 'KOKORIS', 'ELISE', 'CONNELL', None, 'Lewis', 'CHELI', 'MOHAMMAD', 'METZLER  P E', 'BAILEY', 'GANDHI', 'TIEMANN', 'SMITH', 'DI GER0NIMO', 'GANDHI', 'III', 'J C', 'MAGAMI QAIM MAGAMI', None, 'LO G1UDICE', 'HOQUE', 'RUDIKOFF', None, 'SMITH', 'KING R A FAIA', 'RYAN III AIA', None, 'STARK', 'MASS', 'VICTORI0 R.A', 'RIZVIA', None, \"CONNOR\", 'Wong Lai', 'KAPLAN', 'GRAICHEN.JR. DAWN DI', 'GROSSMAN']\n",
    "\n",
    "# outlier3 = ['', '....DEMO', '050069', 'DEM. CONTR.,', 'XXXXX', 'G/C 10114H9', 'CGWC10114H99', '00', 'X S000155', '082-36-1245', 'G.G', 'LESSEE', '......GC', \"'\", '..OWNER', 'GC 2293', '--', 'XXXXXX', 'LS 31,721', '...GC', 'gen.cont.', 'G.C TKNumber4592', 'PE', 'RLA - 818', '.....OWNER', 'RLA 16077', 'G C', 'X 4129892', 'G. C.', 'R.L.A', 'GC 1028350', 'WC10114H99', 'LEESEE', 'GEN.CONT.', 'SIGN..HANGER', 'DEMO 20451', 'D8615', '.X', 'P.L.L.C', '..DEMO', 'G .C', 'L A', 'G.C NY11101', '32820', '....OWNER', 'GC(DEMO)', 'C0NTRACTOR', 'EXPEDITORC99792', 'X 1341946', 'TRACKNumber 1390', 'EXPED.R4466', 'PLLC 9599691', 'G.C 1110101', '029649', '(CHECK)', 'DEM. CONTR,', 'EXPEDIT(H66172)', '.........GC', 'CITY OF N Y', 'GC 1170386', 'G. C', 'CO0OWNER', '(CHECKED)', 'C.C', '23392 1159774', 'DEMO {', 'RA', 'T. 31132', '....GC', 'RLA-787', 'TRACK Number1390', 'D C', 'G.CONTR.', 'DEMO  CONT', '1GC', 'CC', 'demo G.C.', 'TRACK. Number1390', 'M.F.S.P.C.', '...DEMO', 'DEMO G C', '13328', 'GEN  CONT', 'GC 1221073', \"GC;'\", 'DEMO 1341946', '11234', 'G.C.,', '.....GC', 'LIC.133668259 1', '?', '0WNER', 'C10892', 'GEN..CONT']\n",
    "# mapping3 = [None, 'DEMO', None, 'DEM. CONTR', None, 'G/C', 'CGWC', None, 'X S', None, 'G.G', 'LESSEE', 'GC', None, 'OWNER', 'GC', None, None, 'LS ', 'GC', 'gen.cont.', 'G.C TK', 'PE', 'RLA ', 'OWNER', 'RLA ', 'G C', 'X', 'G. C.', 'R.L.A', 'GC', 'WC', 'LEESEE', 'GEN.CONT.', 'SIGN.HANGER', 'DEMO', None,None, 'P.L.L.C', 'DEMO', 'G.C', 'L A', 'G.C ', None, 'OWNER', 'GC(DEMO)', 'C0NTRACTOR', 'EXPEDITORC', None, 'TRACK', 'EXPED.R', 'PLLC ', 'G.C', None, None, 'DEM. CONTR,', 'EXPEDIT', 'GC', None, 'GC', 'G.C', 'CO0OWNER', None, 'C.C', None, 'DEMO', 'RA', None, 'GC', 'RLA', None, 'D C', 'G.CONTR.', 'DEMO  CONT', 'GC', 'CC', 'demo G.C.', None, 'M.F.S.P.C.', 'DEMO', 'DEMO G C', None, 'GEN  CONT', 'GC ', \"GC \", 'DEMO ', None, 'G.C.', 'GC', 'LIC', None, '0WNER',None, 'GEN.CONT']\n",
    "\n",
    "# outlier4 = ['', '0000GC', '083278', 'DD5615', '0000PB', '00ASB4', 'B81923', '99998', '000N/A', '65569+', '01827O', 'R9526', 'LP0256', 'N/A', '1964', 'ISLAND', '1609', '000PW1', '00DEMO', '0688.6', '00000', '.20929', 'LP0258', '000TOR', '0D8615', '0SWITA', '818', 'O02200', 'DEMO', '196', '1075', '0000NT', '215', '0', '00000`', \"D'ALTO\", '0455', '22377', 'DD8615', '050579', '226', 'SWITA', 'DD6815', 'X02689']\n",
    "# mapping4 = [None, '0000GC', '083278', 'DD5615', '0000PB', '00ASB4', 'B81923', '099998', '000000', '065569', '01827O', '0R9526', 'LP0256',None, '001964',None, '001609', '000PW1', '00DEMO', '006886', '000000', '020929', 'LP0258', '000TOR', '0D8615', '0SWITA', '000818', 'O02200', None, '000196', '001075', '0000NT', '000215', '000000', '000000', None, '000455', '022377', 'DD8615', '050579', '000226', None, 'DD6815', 'X02689']\n",
    "\n",
    "# outliers = [outlier1, outlier2, outlier3, outlier4]\n",
    "# mappings = [mapping1, mapping2, mapping3, mapping4]\n",
    "\n"
   ]
  },
  {
   "cell_type": "code",
   "execution_count": null,
   "id": "b02740f5",
   "metadata": {},
   "outputs": [],
   "source": [
    "# Remove evident outliers using hard coded mapping"
   ]
  },
  {
   "cell_type": "code",
   "execution_count": null,
   "id": "fe8a5519",
   "metadata": {},
   "outputs": [],
   "source": [
    "# i = 0\n",
    "# for col in date_cols:\n",
    "#     df[col] = df[col].replace(outliers[i], mappings[i])\n",
    "#     i += 1"
   ]
  },
  {
   "cell_type": "code",
   "execution_count": null,
   "id": "93307178",
   "metadata": {},
   "outputs": [],
   "source": [
    "## Convert similar values to suggested value using kNN clustering"
   ]
  },
  {
   "cell_type": "code",
   "execution_count": 185,
   "id": "156b02e9",
   "metadata": {},
   "outputs": [],
   "source": [
    "# Cluster string using kNN clusterer (with the default n-gram setting)\n",
    "# using the Levenshtein distance as the similarity measure.\n",
    "\n",
    "from openclean.cluster.knn import knn_clusters\n",
    "from openclean.function.similarity.base import SimilarityConstraint\n",
    "from openclean.function.similarity.text import LevenshteinDistance\n",
    "from openclean.function.value.threshold import GreaterThan\n",
    "\n",
    "def getClusters(col, minsize = 2):\n",
    "    dba = ds.select(col).distinct()\n",
    "    clusters = knn_clusters(\n",
    "        values=dba,\n",
    "        sim=SimilarityConstraint(func=LevenshteinDistance(), pred=GreaterThan(0.75)),\n",
    "        minsize=minsize\n",
    "    )\n",
    "    return clusters\n",
    "\n",
    "def print_cluster(cnumber, cluster):\n",
    "    item_count = 0\n",
    "    print('Cluster {} (of size {})\\n'.format(cnumber, len(cluster)))\n",
    "    for val, count in cluster.items():\n",
    "        item_count += 1\n",
    "        if item_count <= 10:\n",
    "            print('{} ({})'.format(val, count))\n",
    "    if item_count>10:\n",
    "        print(\".......{} more items\".format(item_count-10))\n",
    "    print('\\nSuggested value: {}\\n\\n'.format(cluster.suggestion()))\n",
    "\n",
    "def updateUsingClusters(col, clusters, isPrint = False):\n",
    "    \n",
    "    orignal_list = []\n",
    "    suggestion_list = []\n",
    "    clusters.sort(key=lambda c: len(c), reverse=True)\n",
    "       \n",
    "    for i, cluster in enumerate(clusters):        \n",
    "        suggestion = cluster.suggestion()\n",
    "        orignal_list = []\n",
    "        suggestion_list = []\n",
    "        if isPrint and i < 5:\n",
    "            print_cluster(i, cluster)\n",
    "        \n",
    "        for val, count in cluster.items(): \n",
    "            orignal_list.append(val)\n",
    "            suggestion_list.append(suggestion)\n",
    "            \n",
    "    df[col] = df[col].replace(orignal_list, suggestion_list)"
   ]
  },
  {
   "cell_type": "code",
   "execution_count": null,
   "id": "957de551",
   "metadata": {},
   "outputs": [],
   "source": []
  },
  {
   "cell_type": "code",
   "execution_count": 186,
   "id": "091a271a",
   "metadata": {},
   "outputs": [],
   "source": [
    "cluster_cols = ['Restaurant Name', 'Legal Business Name', 'Doing Business As (DBA)',]"
   ]
  },
  {
   "cell_type": "code",
   "execution_count": 187,
   "id": "7824009d",
   "metadata": {
    "scrolled": false
   },
   "outputs": [
    {
     "name": "stdout",
     "output_type": "stream",
     "text": [
      "kNN cluster for  Restaurant Name\n",
      "updating column  Restaurant Name\n",
      "----------------------\n",
      "Top 5 Cluster:\n",
      "----------------------\n",
      "Cluster 0 (of size 35)\n",
      "\n",
      "Veranda Restaurant (1)\n",
      "Frank Restaurant (1)\n",
      "Lasagna Restaurant (1)\n",
      "Safari Restaurant (1)\n",
      "Lali Restaurant (1)\n",
      "Kalina Restaurant (1)\n",
      "Manaba Restaurante (1)\n",
      "Salvi Restaurant (1)\n",
      "Amarachi Restaurant (1)\n",
      "Giano Restaurant (2)\n",
      ".......25 more items\n",
      "\n",
      "Suggested value: Giano Restaurant\n",
      "\n",
      "\n",
      "Cluster 1 (of size 35)\n",
      "\n",
      "Lasagna Restaurant (1)\n",
      "Caridad Restaurant (2)\n",
      "Lali Restaurant (1)\n",
      "Elia Restaurant (1)\n",
      "Aita Restaurant (1)\n",
      "Salvi Restaurant (1)\n",
      "Karczma Restaurant (1)\n",
      "Jahns Restaurant (1)\n",
      "Palm Restaurant (1)\n",
      "Kefi Restaurant (1)\n",
      ".......25 more items\n",
      "\n",
      "Suggested value: Caridad Restaurant\n",
      "\n",
      "\n",
      "Cluster 2 (of size 31)\n",
      "\n",
      "Padishah Restaurant (1)\n",
      "Lasagna Restaurant (1)\n",
      "Caridad Restaurant (2)\n",
      "Lali Restaurant (1)\n",
      "Mimi's Restaurant (1)\n",
      "Kalina Restaurant (1)\n",
      "Manaba Restaurante (1)\n",
      "Elia Restaurant (1)\n",
      "Aita Restaurant (1)\n",
      "Jahns Restaurant (1)\n",
      ".......21 more items\n",
      "\n",
      "Suggested value: Caridad Restaurant\n",
      "\n",
      "\n",
      "Cluster 3 (of size 31)\n",
      "\n",
      "Veranda Restaurant (1)\n",
      "Frank Restaurant (1)\n",
      "Lasagna Restaurant (1)\n",
      "Safari Restaurant (1)\n",
      "Kalina Restaurant (1)\n",
      "Paesanos Restaurant (1)\n",
      "Bayou Restaurant (1)\n",
      "Giano Restaurant (2)\n",
      "Beso Restaurant (1)\n",
      "Jahns Restaurant (1)\n",
      ".......21 more items\n",
      "\n",
      "Suggested value: Giano Restaurant\n",
      "\n",
      "\n",
      "Cluster 4 (of size 30)\n",
      "\n",
      "Veranda Restaurant (1)\n",
      "M&G Restaurant (1)\n",
      "Elia Restaurant (1)\n",
      "Aita Restaurant (1)\n",
      "Beso Restaurant (1)\n",
      "Margon Restaurant (1)\n",
      "Kefi Restaurant (1)\n",
      "Mojo Restaurant (1)\n",
      "Yuba Restaurant (1)\n",
      "Hearth Restaurant (2)\n",
      ".......20 more items\n",
      "\n",
      "Suggested value: Hearth Restaurant\n",
      "\n",
      "\n",
      "================\n",
      "kNN cluster for  Legal Business Name\n",
      "updating column  Legal Business Name\n",
      "----------------------\n",
      "Top 5 Cluster:\n",
      "----------------------\n",
      "Cluster 0 (of size 63)\n",
      "\n",
      "115 Restaurant Corp (2)\n",
      "Taiga Restaurant Corp (1)\n",
      "Sanchez Restaurant Corp (1)\n",
      "Satelip Restaurant Corp (1)\n",
      "JS Restaurant Corp (1)\n",
      "Parme Restaurant Corp (1)\n",
      "PJJK Restaurant Corp. (1)\n",
      "B R Restaurant Corp (1)\n",
      "JIR Restaurant Corp (1)\n",
      "326 Restaurant Corp (1)\n",
      ".......53 more items\n",
      "\n",
      "Suggested value: Rafina Restaurant Corp\n",
      "\n",
      "\n",
      "Cluster 1 (of size 61)\n",
      "\n",
      "115 Restaurant Corp (2)\n",
      "Taiga Restaurant Corp (1)\n",
      "Sanchez Restaurant Corp (1)\n",
      "Rave Restaurant Corp (2)\n",
      "PTM 44 Restaurant Corp (1)\n",
      "JS Restaurant Corp (1)\n",
      "Parme Restaurant Corp (1)\n",
      "PJJK Restaurant Corp. (1)\n",
      "B R Restaurant Corp (1)\n",
      "JIR Restaurant Corp (1)\n",
      ".......51 more items\n",
      "\n",
      "Suggested value: Rafina Restaurant Corp\n",
      "\n",
      "\n",
      "Cluster 2 (of size 59)\n",
      "\n",
      "115 Restaurant Corp (2)\n",
      "Taiga Restaurant Corp (1)\n",
      "Sanchez Restaurant Corp (1)\n",
      "Rave Restaurant Corp (2)\n",
      "PTM 44 Restaurant Corp (1)\n",
      "JS Restaurant Corp (1)\n",
      "PJJK Restaurant Corp. (1)\n",
      "B R Restaurant Corp (1)\n",
      "JIR Restaurant Corp (1)\n",
      "326 Restaurant Corp (1)\n",
      ".......49 more items\n",
      "\n",
      "Suggested value: Rafina Restaurant Corp\n",
      "\n",
      "\n",
      "Cluster 3 (of size 57)\n",
      "\n",
      "115 Restaurant Corp (2)\n",
      "Taiga Restaurant Corp (1)\n",
      "Sanchez Restaurant Corp (1)\n",
      "Rave Restaurant Corp (2)\n",
      "PTM 44 Restaurant Corp (1)\n",
      "JS Restaurant Corp (1)\n",
      "Parme Restaurant Corp (1)\n",
      "PJJK Restaurant Corp. (1)\n",
      "B R Restaurant Corp (1)\n",
      "JIR Restaurant Corp (1)\n",
      ".......47 more items\n",
      "\n",
      "Suggested value: Rafina Restaurant Corp\n",
      "\n",
      "\n",
      "Cluster 4 (of size 56)\n",
      "\n",
      "115 Restaurant Corp (2)\n",
      "Rave Restaurant Corp (2)\n",
      "PTM 44 Restaurant Corp (1)\n",
      "JS Restaurant Corp (1)\n",
      "Parme Restaurant Corp (1)\n",
      "B R Restaurant Corp (1)\n",
      "JIR Restaurant Corp (1)\n",
      "326 Restaurant Corp (1)\n",
      "Cajun Restaurant Corp (1)\n",
      "N & D Restaurant Corp (1)\n",
      ".......46 more items\n",
      "\n",
      "Suggested value: Rafina Restaurant Corp\n",
      "\n",
      "\n",
      "================\n",
      "kNN cluster for  Doing Business As (DBA)\n",
      "updating column  Doing Business As (DBA)\n",
      "----------------------\n",
      "Top 5 Cluster:\n",
      "----------------------\n",
      "Cluster 0 (of size 23)\n",
      "\n",
      "Taiga Restaurant Corp (1)\n",
      "MarMar restaurant Corp (1)\n",
      "Parme Restaurant Corp (1)\n",
      "326 Restaurant Corp (1)\n",
      "N & D Restaurant Corp (1)\n",
      "zyara restaurant corp (1)\n",
      "Tang Restaurant Corp (1)\n",
      "Margon Restaurant Corp (1)\n",
      "Candela Restaurant Corp (1)\n",
      "Volare Restaurant Corp (1)\n",
      ".......13 more items\n",
      "\n",
      "Suggested value: Taiga Restaurant Corp\n",
      "\n",
      "\n",
      "Cluster 1 (of size 22)\n",
      "\n",
      "Taiga Restaurant Corp (1)\n",
      "MarMar restaurant Corp (1)\n",
      "326 Restaurant Corp (1)\n",
      "N & D Restaurant Corp (1)\n",
      "Maca Restaurant Corp (1)\n",
      "Tang Restaurant Corp (1)\n",
      "Margon Restaurant Corp (1)\n",
      "James B Restaurant Corp (1)\n",
      "Candela Restaurant Corp (1)\n",
      "Volare Restaurant Corp (1)\n",
      ".......12 more items\n",
      "\n",
      "Suggested value: Taiga Restaurant Corp\n",
      "\n",
      "\n",
      "Cluster 2 (of size 21)\n",
      "\n",
      "MarMar restaurant Corp (1)\n",
      "Parme Restaurant Corp (1)\n",
      "326 Restaurant Corp (1)\n",
      "N & D Restaurant Corp (1)\n",
      "Maca Restaurant Corp (1)\n",
      "Tang Restaurant Corp (1)\n",
      "Juanito Restaurant Corp (1)\n",
      "Margon Restaurant Corp (1)\n",
      "Lupita restaurant Corp (1)\n",
      "Candela Restaurant Corp (1)\n",
      ".......11 more items\n",
      "\n",
      "Suggested value: MarMar restaurant Corp\n",
      "\n",
      "\n",
      "Cluster 3 (of size 21)\n",
      "\n",
      "Taiga Restaurant Corp (1)\n",
      "Parme Restaurant Corp (1)\n",
      "326 Restaurant Corp (1)\n",
      "N & D Restaurant Corp (1)\n",
      "Maca Restaurant Corp (1)\n",
      "Juanito Restaurant Corp (1)\n",
      "Margon Restaurant Corp (1)\n",
      "Candela Restaurant Corp (1)\n",
      "Volare Restaurant Corp (1)\n",
      "Lima Restaurant Corp. (1)\n",
      ".......11 more items\n",
      "\n",
      "Suggested value: Taiga Restaurant Corp\n",
      "\n",
      "\n",
      "Cluster 4 (of size 19)\n",
      "\n",
      "Delizia Restaurant Corp. (1)\n",
      "Taiga Restaurant Corp (1)\n",
      "Parme Restaurant Corp (1)\n",
      "71-08 Restaurant Corp. (1)\n",
      "326 Restaurant Corp (1)\n",
      "Maca Restaurant Corp (1)\n",
      "Tang Restaurant Corp (1)\n",
      "Lupita restaurant Corp (1)\n",
      "Rdk restaurant Corp. (1)\n",
      "521 Restaurant Corp. (1)\n",
      ".......9 more items\n",
      "\n",
      "Suggested value: Delizia Restaurant Corp.\n",
      "\n",
      "\n",
      "================\n"
     ]
    }
   ],
   "source": [
    "for col in cluster_cols:\n",
    "    print(\"kNN cluster for \", col)\n",
    "    col_clusters = getClusters(col)\n",
    "    print(\"updating column \", col)\n",
    "    print(\"----------------------\\nTop 5 Cluster:\\n----------------------\")\n",
    "    updateUsingClusters(col, col_clusters, True)\n",
    "    print(\"================\")"
   ]
  },
  {
   "cell_type": "code",
   "execution_count": null,
   "id": "0165768f",
   "metadata": {},
   "outputs": [],
   "source": [
    "#Number Save cleaned data"
   ]
  },
  {
   "cell_type": "code",
   "execution_count": null,
   "id": "0463a88c",
   "metadata": {},
   "outputs": [],
   "source": [
    "#Number outputpath = 'cleaned_data.csv'\n",
    "#Number df.to_csv(outputpath,sep=',',index=False,header=True) "
   ]
  },
  {
   "cell_type": "markdown",
   "id": "94efa535",
   "metadata": {},
   "source": [
    "# Some discussion\n",
    "\n",
    "We have profiled and cleaned most of the columns, we first change some of the column names so that they present right information about the data, then we look at each of these columns to detect outliers and wrong format.\n",
    "\n",
    "However, there are still some issues, first we keep most of the empty value as NaN, and we don't know if clustering is the best way to clean the name data since it might convert similar names to one same name. And, business names are too long that we can not perform clustering on them so we only fixed empty values. Also, there are some column names in upper case, we do not know if we should convert them to lower case as other columns."
   ]
  },
  {
   "cell_type": "code",
   "execution_count": null,
   "id": "5af33da3",
   "metadata": {},
   "outputs": [],
   "source": [
    "df.columns"
   ]
  },
  {
   "cell_type": "markdown",
   "id": "00fa5743",
   "metadata": {},
   "source": [
    "## Precision and Recall"
   ]
  },
  {
   "cell_type": "code",
   "execution_count": 188,
   "id": "f3baa8fa",
   "metadata": {},
   "outputs": [],
   "source": [
    "cleaned_columns = ['Restaurant Name', 'Legal Business Name', 'Doing Business As (DBA)','Time of Submission', \n",
    "                   \"Latitude\", \"Longitude\", \"Council District\", \"Census Tract\", \"NTA\"]\n",
    "\n",
    "cleaned_columns.extend(boolean_cols)\n",
    "cleaned_columns.extend(house_num_cols)\n"
   ]
  },
  {
   "cell_type": "code",
   "execution_count": 189,
   "id": "d4f44621",
   "metadata": {},
   "outputs": [],
   "source": [
    "#for col in df.columns:\n",
    "#    if 'Permittee' in col:\n",
    "#        cleaned_columns.append(col)"
   ]
  },
  {
   "cell_type": "code",
   "execution_count": 190,
   "id": "9a89445f",
   "metadata": {},
   "outputs": [],
   "source": [
    "df_sample_data = df_sample.rename(columns=rename_dict)\n"
   ]
  },
  {
   "cell_type": "code",
   "execution_count": 191,
   "id": "e3080237",
   "metadata": {},
   "outputs": [
    {
     "data": {
      "text/plain": [
       "Index(['Objectid', 'Globalid', 'Seating Interest (Sidewalk/Roadway/Both)',\n",
       "       'Restaurant Name', 'Legal Business Name', 'Doing Business As (DBA)',\n",
       "       'Building Number', 'Street', 'Borough', 'Postcode', 'Business Address',\n",
       "       'Food Service Establishment Permit Number',\n",
       "       'Sidewalk Dimensions (Length)', 'Sidewalk Dimensions (Width)',\n",
       "       'Sidewalk Dimensions (Area)', 'Roadway Dimensions (Length)',\n",
       "       'Roadway Dimensions (Width)', 'Roadway Dimensions (Area)',\n",
       "       'Approved for Sidewalk Seating', 'Approved for Roadway Seating',\n",
       "       'Qualify Alcohol', 'SLA Serial Number', 'SLA License Type',\n",
       "       'Landmark District or Building', 'landmarkDistrict terms',\n",
       "       'healthCompliance terms', 'Time of Submission', 'Latitude', 'Longitude',\n",
       "       'Community Board', 'Council District', 'Census Tract', 'BIN', 'BBL',\n",
       "       'NTA'],\n",
       "      dtype='object')"
      ]
     },
     "execution_count": 191,
     "metadata": {},
     "output_type": "execute_result"
    }
   ],
   "source": [
    "df_sample_data.columns"
   ]
  },
  {
   "cell_type": "code",
   "execution_count": 192,
   "id": "f9891f23",
   "metadata": {},
   "outputs": [],
   "source": [
    "df_sample_data = df_sample_data[cleaned_columns]"
   ]
  },
  {
   "cell_type": "code",
   "execution_count": null,
   "id": "ef0e36a2",
   "metadata": {},
   "outputs": [],
   "source": []
  },
  {
   "cell_type": "code",
   "execution_count": 193,
   "id": "3cdcfd6e",
   "metadata": {
    "scrolled": true
   },
   "outputs": [],
   "source": [
    "df_temp = df.loc[df_sample_data.index][cleaned_columns].copy()"
   ]
  },
  {
   "cell_type": "code",
   "execution_count": null,
   "id": "038e0395",
   "metadata": {},
   "outputs": [],
   "source": []
  },
  {
   "cell_type": "code",
   "execution_count": 194,
   "id": "93a46cd5",
   "metadata": {},
   "outputs": [],
   "source": [
    "# for col in cleaned_columns:\n",
    "#     print(\"column: \", col)\n",
    "#     print(\"Original,\\t Cleaned\\n\")\n",
    "#     for i in range(50):\n",
    "#         print(df_sample_data[col].iloc[i], '\\t', df_temp[col].iloc[i])\n",
    "        \n",
    "#     print('======================\\n\\n')"
   ]
  },
  {
   "cell_type": "code",
   "execution_count": 195,
   "id": "ee06b0ee",
   "metadata": {},
   "outputs": [],
   "source": [
    "def precision(tp, fp):\n",
    "    return tp/(tp+fp)\n",
    "\n",
    "def recall(tp, fn):\n",
    "    return tp/(tp+fn)"
   ]
  },
  {
   "cell_type": "code",
   "execution_count": 196,
   "id": "35847512",
   "metadata": {
    "scrolled": true
   },
   "outputs": [
    {
     "data": {
      "text/plain": [
       "['Restaurant Name',\n",
       " 'Legal Business Name',\n",
       " 'Doing Business As (DBA)',\n",
       " 'Time of Submission',\n",
       " 'Latitude',\n",
       " 'Longitude',\n",
       " 'Council District',\n",
       " 'Census Tract',\n",
       " 'NTA',\n",
       " 'Approved for Sidewalk Seating',\n",
       " 'Approved for Roadway Seating',\n",
       " 'Qualify Alcohol',\n",
       " 'Landmark District or Building',\n",
       " 'landmarkDistrict terms',\n",
       " 'healthCompliance terms',\n",
       " 'Building Number']"
      ]
     },
     "execution_count": 196,
     "metadata": {},
     "output_type": "execute_result"
    }
   ],
   "source": [
    "cleaned_columns"
   ]
  },
  {
   "cell_type": "code",
   "execution_count": 197,
   "id": "51c2ef68",
   "metadata": {},
   "outputs": [],
   "source": [
    "col_idx = 0"
   ]
  },
  {
   "cell_type": "code",
   "execution_count": 198,
   "id": "be2e7190",
   "metadata": {},
   "outputs": [],
   "source": [
    "tp = 0\n",
    "fp = 0\n",
    "fn = 0"
   ]
  },
  {
   "cell_type": "code",
   "execution_count": 199,
   "id": "33716dc2",
   "metadata": {},
   "outputs": [
    {
     "name": "stdout",
     "output_type": "stream",
     "text": [
      "column:  Restaurant Name\n",
      "Original,\t Cleaned\n",
      "\n",
      "LE PAIN QUOTIDIEN \t LE PAIN QUOTIDIEN\n",
      "Tarachi \t Tarachi\n",
      "Briciola \t Briciola\n",
      "Starbucks Reserve Roastery \t Starbucks Reserve Roastery\n",
      "starbucks \t starbucks\n",
      "Judy's Spanish Restaurant \t Judy's Spanish Restaurant\n",
      "Kung Fu Tea \t Kung Fu Tea\n",
      "Blackbird's Bar and Restaurant \t Blackbird's Bar and Restaurant\n",
      "MAYA FUSION CAFE CORP \t MAYA FUSION CAFE CORP\n",
      "LE PAIN QUOTIDIEN \t LE PAIN QUOTIDIEN\n",
      "JAPAS NY \t JAPAS NY\n",
      "Blueprint Bar \t Blueprint Bar\n",
      "Hernandez \t Hernandez\n",
      "ANGEL OF HARLEM \t ANGEL OF HARLEM\n",
      "FUJI EAST \t FUJI EAST\n",
      "ANTIKA PIZZA \t ANTIKA PIZZA\n",
      "Taboo \t Taboo\n",
      "Toad Hall \t Toad Hall\n",
      "Butler Soho LLC \t Butler Soho LLC\n",
      "Lazzara's pizza Cafe & Restaurant \t Lazzara's pizza Cafe & Restaurant\n",
      "BOHEMIAN SPIRIT RESTAURANT \t BOHEMIAN SPIRIT RESTAURANT\n",
      "FANDI MATA \t FANDI MATA\n",
      "7B Horseshoe Bar \t 7B Horseshoe Bar\n",
      "Ajihei \t Ajihei\n",
      "ROSA MEXICANO \t ROSA MEXICANO\n",
      "D HACK'S HALAL \t D HACK'S HALAL\n",
      "Thai72 \t Thai72\n",
      "Percy's Pizza \t Percy's Pizza\n",
      "Suited \t Suited\n",
      "EL ROCHE LEBANON \t EL ROCHE LEBANON\n",
      "matsu sushi \t matsu sushi\n",
      "Pasiones \t Pasiones\n",
      "Big aLICe Brewing Company \t Big aLICe Brewing Company\n",
      "Cafe Cortadito \t Cafe Cortadito\n",
      "HAIZEA \t HAIZEA\n",
      "Tara Rose \t Tara Rose\n",
      "Pelicana Chicken \t Pelicana Chicken\n",
      "Taj Restaurant and Lounge \t Taj Restaurant and Lounge\n",
      "SUBWAY \t SUBWAY\n",
      "ivanas pizza \t ivanas pizza\n",
      "Paul and Jimmy's Restaurant \t Paul and Jimmy's Restaurant\n",
      "TRU ASTORIA \t TRU ASTORIA\n",
      "Catania's pizza cafe \t Catania's pizza cafe\n",
      "NEW POLODOS LOUNGE CORP \t NEW POLODOS LOUNGE CORP\n",
      "Noodle Craft \t Noodle Craft\n",
      "Agata & Valentina \t Agata & Valentina\n",
      "Maiden Lane \t Maiden Lane\n",
      "Udon Lab \t Udon Lab\n",
      "TROPILYZ B RESTAURANT INC \t TROPILYZ B RESTAURANT INC\n",
      "225 Colmbus Restaurant \t 225 Colmbus Restaurant\n",
      "======================\n",
      "\n",
      "\n"
     ]
    }
   ],
   "source": [
    "col = cleaned_columns[col_idx]\n",
    "print(\"column: \", col)\n",
    "print(\"Original,\\t Cleaned\\n\")\n",
    "for i in range(50):\n",
    "    print(df_sample_data[col].iloc[i], '\\t', df_temp[col].iloc[i])\n",
    "\n",
    "print('======================\\n\\n')\n",
    "col_idx += 1"
   ]
  },
  {
   "cell_type": "code",
   "execution_count": 200,
   "id": "e6ad2955",
   "metadata": {},
   "outputs": [],
   "source": [
    "fn += 31"
   ]
  },
  {
   "cell_type": "code",
   "execution_count": null,
   "id": "aa63865d",
   "metadata": {},
   "outputs": [],
   "source": []
  },
  {
   "cell_type": "code",
   "execution_count": 201,
   "id": "ab67c957",
   "metadata": {},
   "outputs": [
    {
     "name": "stdout",
     "output_type": "stream",
     "text": [
      "column:  Legal Business Name\n",
      "Original,\t Cleaned\n",
      "\n",
      "MPQ 921 BROADWAY, LLC \t MPQ 921 BROADWAY, LLC\n",
      "Tarachi NYC LLC \t Tarachi NYC LLC\n",
      "Briciola Corp \t Briciola Corp\n",
      "Siren Retail Corporation \t Siren Retail Corporation\n",
      "Sstarbucks coffee company \t Sstarbucks coffee company\n",
      "JMF Restaurant Corp \t JMF Restaurant Corp\n",
      "TKK New York LLC \t TKK New York LLC\n",
      "Best Bar Ever LLC \t Best Bar Ever LLC\n",
      "MAYA FUSION CAFE CORP \t MAYA FUSION CAFE CORP\n",
      "APQ UNION SQUARE NY, LLC \t APQ UNION SQUARE NY, LLC\n",
      "JAY ENTERTAINMENT CORP \t JAY ENTERTAINMENT CORP\n",
      "196 Fifth LLC \t 196 Fifth LLC\n",
      "CHOPT Creative Salad Company \t CHOPT Creative Salad Company\n",
      "ANGEL OF HARLEM LLC \t ANGEL OF HARLEM LLC\n",
      "FUJI EAST OF ROOSEVELT ISLAND INC \t FUJI EAST OF ROOSEVELT ISLAND INC\n",
      "DON GENNARO LLC \t DON GENNARO LLC\n",
      "Navic Invest Group LLC \t Navic Invest Group LLC\n",
      "57 Grand Street Cafe Corp \t 57 Grand Street Cafe Corp\n",
      "BUTLER SOHO LLC \t BUTLER SOHO LLC\n",
      "Sebastians Pizzeria. Inc \t Sebastians Pizzeria. Inc\n",
      "AMBI NEW YORK LLC \t AMBI NEW YORK LLC\n",
      "74 BAYARD STREET LLC \t 74 BAYARD STREET LLC\n",
      "August Vazac Rest. Inc. \t August Vazac Rest. Inc.\n",
      "North Village Restaurant Planning, Inc. \t North Village Restaurant Planning, Inc.\n",
      "ROSA MEXICANO USQ, LLC \t ROSA MEXICANO USQ, LLC\n",
      "D HACK'S HALAL INC \t D HACK'S HALAL INC\n",
      "Thai72 Inc \t Thai72 Inc\n",
      "South Brooklyn Pizza \t South Brooklyn Pizza\n",
      "Suited Curation LLC \t Suited Curation LLC\n",
      "EL ROCHE LEBANON INC. \t EL ROCHE LEBANON INC.\n",
      "purple sushi \t purple sushi\n",
      "L & F martha corp \t L & F martha corp\n",
      "Big aLICe Brewing Company LLC \t Big aLICe Brewing Company LLC\n",
      "Cafe Cortadito  LLC \t Cafe Cortadito  LLC\n",
      "TXOKOA LLC \t TXOKOA LLC\n",
      "384 3RD AVE REST LLC \t 384 3RD AVE REST LLC\n",
      "3 J's Manhattan Corp \t 3 J's Manhattan Corp\n",
      "48west 21st street corp \t 48west 21st street corp\n",
      "SARATHI LLC \t SARATHI LLC\n",
      "ivanas pizza \t ivanas pizza\n",
      "Merlagre Inc \t Merlagre Inc\n",
      "MILO CAFE CORP. \t MILO CAFE CORP.\n",
      "Catania's pizza cafe inc \t Catania's pizza cafe inc\n",
      "NEW POLODOS LOUNGE CORP \t NEW POLODOS LOUNGE CORP\n",
      "NOODLE CRAFT INC \t NOODLE CRAFT INC\n",
      "Acitrzza, LLC \t Acitrzza, LLC\n",
      "Yardbird LLC \t Yardbird LLC\n",
      "Hyun 32 Inc. \t Hyun 32 Inc.\n",
      "TROPILYZ B RESTAURANT INC \t TROPILYZ B RESTAURANT INC\n",
      "225 COLUMBUS RST. CORP \t 225 COLUMBUS RST. CORP\n",
      "======================\n",
      "\n",
      "\n"
     ]
    }
   ],
   "source": [
    "col = cleaned_columns[col_idx]\n",
    "print(\"column: \", col)\n",
    "print(\"Original,\\t Cleaned\\n\")\n",
    "for i in range(50):\n",
    "    print(df_sample_data[col].iloc[i], '\\t', df_temp[col].iloc[i])\n",
    "\n",
    "print('======================\\n\\n')\n",
    "col_idx += 1"
   ]
  },
  {
   "cell_type": "code",
   "execution_count": 202,
   "id": "b0db2e02",
   "metadata": {},
   "outputs": [],
   "source": [
    "fn += 26"
   ]
  },
  {
   "cell_type": "code",
   "execution_count": null,
   "id": "117da531",
   "metadata": {},
   "outputs": [],
   "source": []
  },
  {
   "cell_type": "code",
   "execution_count": 203,
   "id": "7dd16fd2",
   "metadata": {},
   "outputs": [
    {
     "name": "stdout",
     "output_type": "stream",
     "text": [
      "column:  Doing Business As (DBA)\n",
      "Original,\t Cleaned\n",
      "\n",
      "LPQ USA, LLC - Disbursements Account \t LPQ USA, LLC - Disbursements Account\n",
      "Tarachi NYC LLC \t Tarachi NYC LLC\n",
      "Briciola Corp \t Briciola Corp\n",
      "Siren Retail Corporation \t Siren Retail Corporation\n",
      "Sstarbucks coffee company \t Sstarbucks coffee company\n",
      "JMF Restaurant Corp \t JMF Restaurant Corp\n",
      "TKK New York LLC \t TKK New York LLC\n",
      "Blackbird's \t Blackbird's\n",
      "MAYA FUSION CAFE CORP \t MAYA FUSION CAFE CORP\n",
      "LE PAIN QUOTIDIEN \t LE PAIN QUOTIDIEN\n",
      "JAPAS NY \t JAPAS NY\n",
      "196 Fifth LLC \t 196 Fifth LLC\n",
      "CHOPT \t CHOPT\n",
      "ANGEL OF HARLEM \t ANGEL OF HARLEM\n",
      "FUJI EAST \t FUJI EAST\n",
      "ANTIKA PIZZA \t ANTIKA PIZZA\n",
      "Navic Invest Group LLC \t Navic Invest Group LLC\n",
      "57 Grand Street Cafe Corp \t 57 Grand Street Cafe Corp\n",
      "Butler \t Butler\n",
      "Lazzara's Pizza Cafe. & Restaurant \t Lazzara's Pizza Cafe. & Restaurant\n",
      "Bohemian Spirit Restaurant \t Bohemian Spirit Restaurant\n",
      "FANDI MATA \t FANDI MATA\n",
      "7B Horseshoe Bar \t 7B Horseshoe Bar\n",
      "Ajihei \t Ajihei\n",
      "Rosa Mexicano Company, Inc. \t Rosa Mexicano Company, Inc.\n",
      "D HACK'S HALAL \t D HACK'S HALAL\n",
      "Thai72 Inc \t Thai72 Inc\n",
      "Percy's Pizza \t Percy's Pizza\n",
      "Suited \t Suited\n",
      "EL ROCHE LEBANON \t EL ROCHE LEBANON\n",
      "purple sushi \t purple sushi\n",
      "Pasiones sports bar \t Pasiones sports bar\n",
      "Big aLICe Brewing Company \t Big aLICe Brewing Company\n",
      "Cafe Cortadito  LLC \t Cafe Cortadito  LLC\n",
      "HAIZEA \t HAIZEA\n",
      "Tara Rose \t Tara Rose\n",
      "3 J's Manhattan Corp \t 3 J's Manhattan Corp\n",
      "Taj Restaurant and Lounge \t Taj Restaurant and Lounge\n",
      "SUBWAY \t SUBWAY\n",
      "ivanas pizza \t ivanas pizza\n",
      "Paul and Jimmy's Restaurant \t Paul and Jimmy's Restaurant\n",
      "TRU ASTORIA \t TRU ASTORIA\n",
      "Catania's pizza cafe inc \t Catania's pizza cafe inc\n",
      "NEW POLODOS LOUNGE CORP \t NEW POLODOS LOUNGE CORP\n",
      "Noodle craft inc \t Noodle craft inc\n",
      "Agata & Valentina \t Agata & Valentina\n",
      "Maiden Lane \t Maiden Lane\n",
      "Udon Lab \t Udon Lab\n",
      "TROPILYZ B RESTAURANT INC \t TROPILYZ B RESTAURANT INC\n",
      "Mannys Bistro \t Mannys Bistro\n",
      "======================\n",
      "\n",
      "\n"
     ]
    }
   ],
   "source": [
    "col = cleaned_columns[col_idx]\n",
    "print(\"column: \", col)\n",
    "print(\"Original,\\t Cleaned\\n\")\n",
    "for i in range(50):\n",
    "    print(df_sample_data[col].iloc[i], '\\t', df_temp[col].iloc[i])\n",
    "\n",
    "print('======================\\n\\n')\n",
    "col_idx += 1"
   ]
  },
  {
   "cell_type": "code",
   "execution_count": 204,
   "id": "6775d033",
   "metadata": {},
   "outputs": [],
   "source": [
    "fn += 37"
   ]
  },
  {
   "cell_type": "code",
   "execution_count": null,
   "id": "4f7ca871",
   "metadata": {},
   "outputs": [],
   "source": []
  },
  {
   "cell_type": "code",
   "execution_count": 205,
   "id": "899bc65a",
   "metadata": {},
   "outputs": [
    {
     "name": "stdout",
     "output_type": "stream",
     "text": [
      "column:  Time of Submission\n",
      "Original,\t Cleaned\n",
      "\n",
      "07/07/2021 02:01:00 PM \t 2021-07-07 14:01:00\n",
      "06/23/2020 12:19:00 PM \t 2020-06-23 12:19:00\n",
      "06/20/2020 12:42:00 PM \t 2020-06-20 12:42:00\n",
      "07/10/2020 01:11:00 PM \t 2020-07-10 13:11:00\n",
      "07/09/2020 03:50:00 PM \t 2020-07-09 15:50:00\n",
      "06/25/2020 04:29:00 PM \t 2020-06-25 16:29:00\n",
      "08/03/2020 05:56:00 PM \t 2020-08-03 17:56:00\n",
      "06/19/2020 02:19:00 PM \t 2020-06-19 14:19:00\n",
      "06/29/2020 11:11:00 AM \t 2020-06-29 11:11:00\n",
      "09/27/2020 02:27:00 PM \t 2020-09-27 14:27:00\n",
      "09/30/2020 03:50:00 PM \t 2020-09-30 15:50:00\n",
      "06/22/2020 12:38:00 PM \t 2020-06-22 12:38:00\n",
      "07/07/2020 09:00:00 AM \t 2020-07-07 09:00:00\n",
      "11/03/2020 02:10:00 PM \t 2020-11-03 14:10:00\n",
      "02/25/2021 10:26:00 PM \t 2021-02-25 22:26:00\n",
      "06/19/2020 04:58:00 PM \t 2020-06-19 16:58:00\n",
      "08/03/2020 04:44:00 PM \t 2020-08-03 16:44:00\n",
      "06/22/2020 12:57:00 PM \t 2020-06-22 12:57:00\n",
      "08/30/2021 10:36:00 AM \t 2021-08-30 10:36:00\n",
      "06/22/2020 12:04:00 PM \t 2020-06-22 12:04:00\n",
      "03/09/2021 02:22:00 PM \t 2021-03-09 14:22:00\n",
      "12/26/2020 05:43:00 PM \t 2020-12-26 17:43:00\n",
      "06/19/2020 06:07:00 PM \t 2020-06-19 18:07:00\n",
      "07/18/2020 04:12:00 PM \t 2020-07-18 16:12:00\n",
      "11/06/2020 04:09:00 PM \t 2020-11-06 16:09:00\n",
      "09/12/2021 11:25:00 PM \t 2021-09-12 23:25:00\n",
      "06/23/2020 01:56:00 PM \t 2020-06-23 13:56:00\n",
      "07/23/2020 04:09:00 PM \t 2020-07-23 16:09:00\n",
      "07/09/2020 01:54:00 PM \t 2020-07-09 13:54:00\n",
      "10/20/2020 01:14:00 PM \t 2020-10-20 13:14:00\n",
      "07/24/2020 05:35:00 PM \t 2020-07-24 17:35:00\n",
      "06/19/2020 06:39:00 PM \t 2020-06-19 18:39:00\n",
      "06/20/2020 08:13:00 PM \t 2020-06-20 20:13:00\n",
      "06/20/2020 11:01:00 PM \t 2020-06-20 23:01:00\n",
      "05/03/2021 10:12:00 AM \t 2021-05-03 10:12:00\n",
      "06/20/2020 02:33:00 PM \t 2020-06-20 14:33:00\n",
      "06/27/2020 11:03:00 PM \t 2020-06-27 23:03:00\n",
      "06/19/2020 03:57:00 PM \t 2020-06-19 15:57:00\n",
      "03/15/2021 10:26:00 AM \t 2021-03-15 10:26:00\n",
      "06/23/2020 02:31:00 PM \t 2020-06-23 14:31:00\n",
      "06/19/2020 01:38:00 PM \t 2020-06-19 13:38:00\n",
      "06/23/2020 12:31:00 PM \t 2020-06-23 12:31:00\n",
      "06/20/2020 07:46:00 AM \t 2020-06-20 07:46:00\n",
      "07/09/2020 04:32:00 PM \t 2020-07-09 16:32:00\n",
      "03/22/2021 06:50:00 PM \t 2021-03-22 18:50:00\n",
      "06/25/2020 01:08:00 PM \t 2020-06-25 13:08:00\n",
      "06/29/2020 02:08:00 PM \t 2020-06-29 14:08:00\n",
      "06/29/2020 05:44:00 PM \t 2020-06-29 17:44:00\n",
      "08/12/2020 04:03:00 PM \t 2020-08-12 16:03:00\n",
      "11/30/2020 10:10:00 PM \t 2020-11-30 22:10:00\n",
      "======================\n",
      "\n",
      "\n"
     ]
    }
   ],
   "source": [
    "col = cleaned_columns[col_idx]\n",
    "print(\"column: \", col)\n",
    "print(\"Original,\\t Cleaned\\n\")\n",
    "for i in range(50):\n",
    "    print(df_sample_data[col].iloc[i], '\\t', df_temp[col].iloc[i])\n",
    "\n",
    "print('======================\\n\\n')\n",
    "col_idx += 1"
   ]
  },
  {
   "cell_type": "code",
   "execution_count": 206,
   "id": "c1a6bd36",
   "metadata": {},
   "outputs": [],
   "source": [
    "tp += 50"
   ]
  },
  {
   "cell_type": "code",
   "execution_count": 207,
   "id": "80eeba2d",
   "metadata": {},
   "outputs": [
    {
     "name": "stdout",
     "output_type": "stream",
     "text": [
      "column:  Latitude\n",
      "Original,\t Cleaned\n",
      "\n",
      "40.739976 \t 40.739976\n",
      "40.687145 \t 40.687145\n",
      "40.763861 \t 40.763861\n",
      "40.74144 \t 40.74144\n",
      "nan \t nan\n",
      "40.786676 \t 40.786676\n",
      "nan \t nan\n",
      "40.763418 \t 40.763418\n",
      "40.685896 \t 40.685896\n",
      "40.732566 \t 40.732566\n",
      "40.750628 \t 40.750628\n",
      "40.676791 \t 40.676791\n",
      "40.728347 \t 40.728347\n",
      "40.808166 \t 40.808166\n",
      "40.759166 \t 40.759166\n",
      "40.764935 \t 40.764935\n",
      "40.749869 \t 40.749869\n",
      "nan \t nan\n",
      "40.720497 \t 40.720497\n",
      "40.753873 \t 40.753873\n",
      "40.769198 \t 40.769198\n",
      "40.719092 \t 40.719092\n",
      "40.724992 \t 40.724992\n",
      "40.704289 \t 40.704289\n",
      "40.738242 \t 40.738242\n",
      "40.683663 \t 40.683663\n",
      "40.777924 \t 40.777924\n",
      "40.729261 \t 40.729261\n",
      "40.709241 \t 40.709241\n",
      "40.767555 \t 40.767555\n",
      "40.784727 \t 40.784727\n",
      "40.746021 \t 40.746021\n",
      "40.752331 \t 40.752331\n",
      "40.722519 \t 40.722519\n",
      "40.726983 \t 40.726983\n",
      "40.741688 \t 40.741688\n",
      "40.731418 \t 40.731418\n",
      "40.740915 \t 40.740915\n",
      "40.849175 \t 40.849175\n",
      "40.855061 \t 40.855061\n",
      "40.736608 \t 40.736608\n",
      "40.774728 \t 40.774728\n",
      "40.853756 \t 40.853756\n",
      "40.702516 \t 40.702516\n",
      "40.744619 \t 40.744619\n",
      "40.732953 \t 40.732953\n",
      "40.727066 \t 40.727066\n",
      "40.747686 \t 40.747686\n",
      "40.861553 \t 40.861553\n",
      "40.776296 \t 40.776296\n",
      "======================\n",
      "\n",
      "\n"
     ]
    }
   ],
   "source": [
    "col = cleaned_columns[col_idx]\n",
    "print(\"column: \", col)\n",
    "print(\"Original,\\t Cleaned\\n\")\n",
    "for i in range(50):\n",
    "    print(df_sample_data[col].iloc[i], '\\t', df_temp[col].iloc[i])\n",
    "\n",
    "print('======================\\n\\n')\n",
    "col_idx += 1"
   ]
  },
  {
   "cell_type": "code",
   "execution_count": 208,
   "id": "2ad3031e",
   "metadata": {},
   "outputs": [],
   "source": [
    "fn += 3"
   ]
  },
  {
   "cell_type": "code",
   "execution_count": 209,
   "id": "7c8389e2",
   "metadata": {},
   "outputs": [
    {
     "name": "stdout",
     "output_type": "stream",
     "text": [
      "column:  Longitude\n",
      "Original,\t Cleaned\n",
      "\n",
      "-73.989564 \t -73.989564\n",
      "-73.961988 \t -73.961988\n",
      "-73.987918 \t -73.987918\n",
      "-74.00502 \t -74.00502\n",
      "nan \t nan\n",
      "-73.950325 \t -73.950325\n",
      "nan \t nan\n",
      "-73.913966 \t -73.913966\n",
      "-73.91179 \t -73.91179\n",
      "-73.991265 \t -73.991265\n",
      "-73.981918 \t -73.981918\n",
      "-73.980218 \t -73.980218\n",
      "-74.005343 \t -74.005343\n",
      "-73.952625 \t -73.952625\n",
      "-73.952006 \t -73.952006\n",
      "-73.917231 \t -73.917231\n",
      "-73.995142 \t -73.995142\n",
      "nan \t nan\n",
      "-73.998662 \t -73.998662\n",
      "-73.989612 \t -73.989612\n",
      "-73.957169 \t -73.957169\n",
      "-73.949228 \t -73.949228\n",
      "-73.981283 \t -73.981283\n",
      "-73.928003 \t -73.928003\n",
      "-73.991152 \t -73.991152\n",
      "-73.83387 \t -73.83387\n",
      "-73.980029 \t -73.980029\n",
      "-74.001404 \t -74.001404\n",
      "-74.008 \t -74.008\n",
      "-73.912025 \t -73.912025\n",
      "-73.973444 \t -73.973444\n",
      "-73.896275 \t -73.896275\n",
      "-73.950751 \t -73.950751\n",
      "-73.982625 \t -73.982625\n",
      "-74.001959 \t -74.001959\n",
      "-73.981076 \t -73.981076\n",
      "-73.954472 \t -73.954472\n",
      "-73.992083 \t -73.992083\n",
      "-73.936821 \t -73.936821\n",
      "-73.887997 \t -73.887997\n",
      "-73.987284 \t -73.987284\n",
      "-73.908698 \t -73.908698\n",
      "-73.889134 \t -73.889134\n",
      "-73.814784 \t -73.814784\n",
      "-73.952417 \t -73.952417\n",
      "-73.993635 \t -73.993635\n",
      "-73.979774 \t -73.979774\n",
      "-73.98673 \t -73.98673\n",
      "-73.897617 \t -73.897617\n",
      "-73.979597 \t -73.979597\n",
      "======================\n",
      "\n",
      "\n"
     ]
    }
   ],
   "source": [
    "col = cleaned_columns[col_idx]\n",
    "print(\"column: \", col)\n",
    "print(\"Original,\\t Cleaned\\n\")\n",
    "for i in range(50):\n",
    "    print(df_sample_data[col].iloc[i], '\\t', df_temp[col].iloc[i])\n",
    "\n",
    "print('======================\\n\\n')\n",
    "col_idx += 1"
   ]
  },
  {
   "cell_type": "code",
   "execution_count": 210,
   "id": "1f6bbaf7",
   "metadata": {},
   "outputs": [],
   "source": [
    "fn += 3"
   ]
  },
  {
   "cell_type": "code",
   "execution_count": null,
   "id": "0e54b219",
   "metadata": {},
   "outputs": [],
   "source": []
  },
  {
   "cell_type": "code",
   "execution_count": 211,
   "id": "ebe31809",
   "metadata": {},
   "outputs": [
    {
     "name": "stdout",
     "output_type": "stream",
     "text": [
      "column:  Council District\n",
      "Original,\t Cleaned\n",
      "\n",
      "2 \t 2.0\n",
      "35 \t 35.0\n",
      "3 \t 3.0\n",
      "3 \t 3.0\n",
      "nan \t nan\n",
      "5 \t 5.0\n",
      "nan \t nan\n",
      "22 \t 22.0\n",
      "37 \t 37.0\n",
      "2 \t 2.0\n",
      "4 \t 4.0\n",
      "39 \t 39.0\n",
      "3 \t 3.0\n",
      "9 \t 9.0\n",
      "5 \t 5.0\n",
      "22 \t 22.0\n",
      "3 \t 3.0\n",
      "nan \t nan\n",
      "1 \t 1.0\n",
      "3 \t 3.0\n",
      "5 \t 5.0\n",
      "33 \t 33.0\n",
      "2 \t 2.0\n",
      "34 \t 34.0\n",
      "2 \t 2.0\n",
      "28 \t 28.0\n",
      "6 \t 6.0\n",
      "3 \t 3.0\n",
      "1 \t 1.0\n",
      "22 \t 22.0\n",
      "6 \t 6.0\n",
      "26 \t 26.0\n",
      "26 \t 26.0\n",
      "2 \t 2.0\n",
      "3 \t 3.0\n",
      "2 \t 2.0\n",
      "33 \t 33.0\n",
      "3 \t 3.0\n",
      "10 \t 10.0\n",
      "15 \t 15.0\n",
      "2 \t 2.0\n",
      "22 \t 22.0\n",
      "15 \t 15.0\n",
      "24 \t 24.0\n",
      "26 \t 26.0\n",
      "2 \t 2.0\n",
      "2 \t 2.0\n",
      "4 \t 4.0\n",
      "15 \t 15.0\n",
      "6 \t 6.0\n",
      "======================\n",
      "\n",
      "\n"
     ]
    }
   ],
   "source": [
    "col = cleaned_columns[col_idx]\n",
    "print(\"column: \", col)\n",
    "print(\"Original,\\t Cleaned\\n\")\n",
    "for i in range(50):\n",
    "    print(df_sample_data[col].iloc[i], '\\t', df_temp[col].iloc[i])\n",
    "\n",
    "print('======================\\n\\n')\n",
    "col_idx += 1"
   ]
  },
  {
   "cell_type": "code",
   "execution_count": 212,
   "id": "5145662e",
   "metadata": {},
   "outputs": [],
   "source": [
    "fn += 3"
   ]
  },
  {
   "cell_type": "code",
   "execution_count": 213,
   "id": "a2da98d6",
   "metadata": {},
   "outputs": [
    {
     "name": "stdout",
     "output_type": "stream",
     "text": [
      "column:  Census Tract\n",
      "Original,\t Cleaned\n",
      "\n",
      "56 \t 56.0\n",
      "231 \t 231.0\n",
      "133 \t 133.0\n",
      "83 \t 83.0\n",
      "nan \t nan\n",
      "15802 \t 15802.0\n",
      "nan \t nan\n",
      "147 \t 147.0\n",
      "401 \t 401.0\n",
      "61 \t 61.0\n",
      "82 \t 82.0\n",
      "131 \t 131.0\n",
      "37 \t 37.0\n",
      "220 \t 220.0\n",
      "23801 \t 23801.0\n",
      "63 \t 63.0\n",
      "101 \t 101.0\n",
      "nan \t nan\n",
      "45 \t 45.0\n",
      "113 \t 113.0\n",
      "126 \t 126.0\n",
      "515 \t 515.0\n",
      "32 \t 32.0\n",
      "427 \t 427.0\n",
      "52 \t 52.0\n",
      "98 \t 98.0\n",
      "157 \t 157.0\n",
      "65 \t 65.0\n",
      "1502 \t 1502.0\n",
      "143 \t 143.0\n",
      "169 \t 169.0\n",
      "263 \t 263.0\n",
      "19 \t 19.0\n",
      "2202 \t 2202.0\n",
      "49 \t 49.0\n",
      "68 \t 68.0\n",
      "565 \t 565.0\n",
      "54 \t 54.0\n",
      "265 \t 265.0\n",
      "391 \t 391.0\n",
      "50 \t 50.0\n",
      "113 \t 113.0\n",
      "391 \t 391.0\n",
      "214 \t 214.0\n",
      "7 \t 7.0\n",
      "61 \t 61.0\n",
      "34 \t 34.0\n",
      "76 \t 76.0\n",
      "23702 \t 23702.0\n",
      "157 \t 157.0\n",
      "======================\n",
      "\n",
      "\n"
     ]
    }
   ],
   "source": [
    "col = cleaned_columns[col_idx]\n",
    "print(\"column: \", col)\n",
    "print(\"Original,\\t Cleaned\\n\")\n",
    "for i in range(50):\n",
    "    print(df_sample_data[col].iloc[i], '\\t', df_temp[col].iloc[i])\n",
    "\n",
    "print('======================\\n\\n')\n",
    "col_idx += 1"
   ]
  },
  {
   "cell_type": "code",
   "execution_count": 214,
   "id": "7069d8eb",
   "metadata": {},
   "outputs": [],
   "source": [
    "fn += 3"
   ]
  },
  {
   "cell_type": "code",
   "execution_count": null,
   "id": "372865ea",
   "metadata": {},
   "outputs": [],
   "source": []
  },
  {
   "cell_type": "code",
   "execution_count": 215,
   "id": "606ab65d",
   "metadata": {},
   "outputs": [
    {
     "name": "stdout",
     "output_type": "stream",
     "text": [
      "column:  NTA\n",
      "Original,\t Cleaned\n",
      "\n",
      "Hudson Yards-Chelsea-Flatiron-Union Square \t Hudson Yards-Chelsea-Flatiron-Union Square\n",
      "Clinton Hill \t Clinton Hill\n",
      "Clinton \t Clinton\n",
      "Hudson Yards-Chelsea-Flatiron-Union Square \t Hudson Yards-Chelsea-Flatiron-Union Square\n",
      "nan \t nan\n",
      "East Harlem South \t East Harlem South\n",
      "nan \t nan\n",
      "Astoria \t Astoria\n",
      "Bushwick South \t Bushwick South\n",
      "West Village \t West Village\n",
      "Murray Hill-Kips Bay \t Murray Hill-Kips Bay\n",
      "Park Slope-Gowanus \t Park Slope-Gowanus\n",
      "SoHo-TriBeCa-Civic Center-Little Italy \t SoHo-TriBeCa-Civic Center-Little Italy\n",
      "Central Harlem South \t Central Harlem South\n",
      "Lenox Hill-Roosevelt Island \t Lenox Hill-Roosevelt Island\n",
      "Astoria \t Astoria\n",
      "Midtown-Midtown South \t Midtown-Midtown South\n",
      "nan \t nan\n",
      "SoHo-TriBeCa-Civic Center-Little Italy \t SoHo-TriBeCa-Civic Center-Little Italy\n",
      "Midtown-Midtown South \t Midtown-Midtown South\n",
      "Lenox Hill-Roosevelt Island \t Lenox Hill-Roosevelt Island\n",
      "North Side-South Side \t North Side-South Side\n",
      "East Village \t East Village\n",
      "Bushwick North \t Bushwick North\n",
      "Hudson Yards-Chelsea-Flatiron-Union Square \t Hudson Yards-Chelsea-Flatiron-Union Square\n",
      "South Ozone Park \t South Ozone Park\n",
      "Lincoln Square \t Lincoln Square\n",
      "West Village \t West Village\n",
      "Battery Park City-Lower Manhattan \t Battery Park City-Lower Manhattan\n",
      "Astoria \t Astoria\n",
      "Upper West Side \t Upper West Side\n",
      "Woodside \t Woodside\n",
      "Hunters Point-Sunnyside-West Maspeth \t Hunters Point-Sunnyside-West Maspeth\n",
      "Lower East Side \t Lower East Side\n",
      "SoHo-TriBeCa-Civic Center-Little Italy \t SoHo-TriBeCa-Civic Center-Little Italy\n",
      "Gramercy \t Gramercy\n",
      "Greenpoint \t Greenpoint\n",
      "Hudson Yards-Chelsea-Flatiron-Union Square \t Hudson Yards-Chelsea-Flatiron-Union Square\n",
      "Washington Heights South \t Washington Heights South\n",
      "Belmont \t Belmont\n",
      "Gramercy \t Gramercy\n",
      "Steinway \t Steinway\n",
      "Belmont \t Belmont\n",
      "Briarwood-Jamaica Hills \t Briarwood-Jamaica Hills\n",
      "Hunters Point-Sunnyside-West Maspeth \t Hunters Point-Sunnyside-West Maspeth\n",
      "West Village \t West Village\n",
      "East Village \t East Village\n",
      "Midtown-Midtown South \t Midtown-Midtown South\n",
      "Bedford Park-Fordham North \t Bedford Park-Fordham North\n",
      "Lincoln Square \t Lincoln Square\n",
      "======================\n",
      "\n",
      "\n"
     ]
    }
   ],
   "source": [
    "col = cleaned_columns[col_idx]\n",
    "print(\"column: \", col)\n",
    "print(\"Original,\\t Cleaned\\n\")\n",
    "for i in range(50):\n",
    "    print(df_sample_data[col].iloc[i], '\\t', df_temp[col].iloc[i])\n",
    "\n",
    "print('======================\\n\\n')\n",
    "col_idx += 1"
   ]
  },
  {
   "cell_type": "code",
   "execution_count": 216,
   "id": "31c77fcd",
   "metadata": {},
   "outputs": [],
   "source": [
    "fn += 21"
   ]
  },
  {
   "cell_type": "code",
   "execution_count": 217,
   "id": "5586d26e",
   "metadata": {},
   "outputs": [
    {
     "name": "stdout",
     "output_type": "stream",
     "text": [
      "column:  Approved for Sidewalk Seating\n",
      "Original,\t Cleaned\n",
      "\n",
      "yes \t False\n",
      "yes \t False\n",
      "yes \t False\n",
      "no \t False\n",
      "yes \t False\n",
      "yes \t False\n",
      "yes \t False\n",
      "yes \t False\n",
      "yes \t False\n",
      "yes \t False\n",
      "yes \t False\n",
      "yes \t False\n",
      "yes \t False\n",
      "no \t False\n",
      "yes \t False\n",
      "yes \t False\n",
      "yes \t False\n",
      "yes \t False\n",
      "yes \t False\n",
      "yes \t False\n",
      "yes \t False\n",
      "no \t False\n",
      "yes \t False\n",
      "yes \t False\n",
      "yes \t False\n",
      "yes \t False\n",
      "yes \t False\n",
      "no \t False\n",
      "yes \t False\n",
      "yes \t False\n",
      "no \t False\n",
      "yes \t False\n",
      "no \t False\n",
      "yes \t False\n",
      "yes \t False\n",
      "yes \t False\n",
      "yes \t False\n",
      "yes \t False\n",
      "yes \t False\n",
      "yes \t False\n",
      "yes \t False\n",
      "no \t False\n",
      "yes \t False\n",
      "yes \t False\n",
      "yes \t False\n",
      "yes \t False\n",
      "yes \t False\n",
      "yes \t False\n",
      "yes \t False\n",
      "yes \t False\n",
      "======================\n",
      "\n",
      "\n"
     ]
    }
   ],
   "source": [
    "col = cleaned_columns[col_idx]\n",
    "print(\"column: \", col)\n",
    "print(\"Original,\\t Cleaned\\n\")\n",
    "for i in range(50):\n",
    "    print(df_sample_data[col].iloc[i], '\\t', df_temp[col].iloc[i])\n",
    "\n",
    "print('======================\\n\\n')\n",
    "col_idx += 1"
   ]
  },
  {
   "cell_type": "code",
   "execution_count": 218,
   "id": "35e1a2c4",
   "metadata": {},
   "outputs": [],
   "source": [
    "tp += 7\n",
    "fp += 43"
   ]
  },
  {
   "cell_type": "code",
   "execution_count": 219,
   "id": "55b583ea",
   "metadata": {},
   "outputs": [
    {
     "name": "stdout",
     "output_type": "stream",
     "text": [
      "column:  Approved for Roadway Seating\n",
      "Original,\t Cleaned\n",
      "\n",
      "no \t False\n",
      "no \t False\n",
      "yes \t False\n",
      "no \t False\n",
      "no \t False\n",
      "yes \t False\n",
      "no \t False\n",
      "no \t False\n",
      "no \t False\n",
      "yes \t False\n",
      "no \t False\n",
      "yes \t False\n",
      "yes \t False\n",
      "yes \t False\n",
      "no \t False\n",
      "yes \t False\n",
      "yes \t False\n",
      "yes \t False\n",
      "yes \t False\n",
      "yes \t False\n",
      "yes \t False\n",
      "yes \t False\n",
      "yes \t False\n",
      "yes \t False\n",
      "no \t False\n",
      "no \t False\n",
      "yes \t False\n",
      "yes \t False\n",
      "yes \t False\n",
      "no \t False\n",
      "yes \t False\n",
      "no \t False\n",
      "yes \t False\n",
      "no \t False\n",
      "yes \t False\n",
      "yes \t False\n",
      "yes \t False\n",
      "yes \t False\n",
      "yes \t False\n",
      "no \t False\n",
      "yes \t False\n",
      "yes \t False\n",
      "no \t False\n",
      "yes \t False\n",
      "yes \t False\n",
      "yes \t False\n",
      "yes \t False\n",
      "yes \t False\n",
      "no \t False\n",
      "no \t False\n",
      "======================\n",
      "\n",
      "\n"
     ]
    }
   ],
   "source": [
    "col = cleaned_columns[col_idx]\n",
    "print(\"column: \", col)\n",
    "print(\"Original,\\t Cleaned\\n\")\n",
    "for i in range(50):\n",
    "    print(df_sample_data[col].iloc[i], '\\t', df_temp[col].iloc[i])\n",
    "\n",
    "print('======================\\n\\n')\n",
    "col_idx += 1"
   ]
  },
  {
   "cell_type": "code",
   "execution_count": 220,
   "id": "18dfaed4",
   "metadata": {},
   "outputs": [],
   "source": [
    "tp += 18\n",
    "fp += 32\n"
   ]
  },
  {
   "cell_type": "code",
   "execution_count": null,
   "id": "31b17c04",
   "metadata": {},
   "outputs": [],
   "source": []
  },
  {
   "cell_type": "code",
   "execution_count": 221,
   "id": "007c629d",
   "metadata": {
    "scrolled": false
   },
   "outputs": [
    {
     "name": "stdout",
     "output_type": "stream",
     "text": [
      "column:  Qualify Alcohol\n",
      "Original,\t Cleaned\n",
      "\n",
      "no \t False\n",
      "yes \t False\n",
      "no \t False\n",
      "yes \t False\n",
      "no \t False\n",
      "yes \t False\n",
      "no \t False\n",
      "yes \t False\n",
      "yes \t False\n",
      "no \t False\n",
      "yes \t False\n",
      "yes \t False\n",
      "no \t False\n",
      "yes \t False\n",
      "no \t False\n",
      "yes \t False\n",
      "yes \t False\n",
      "yes \t False\n",
      "no \t False\n",
      "yes \t False\n",
      "yes \t False\n",
      "yes \t False\n",
      "yes \t False\n",
      "yes \t False\n",
      "yes \t False\n",
      "no \t False\n",
      "yes \t False\n",
      "no \t False\n",
      "no \t False\n",
      "no \t False\n",
      "yes \t False\n",
      "yes \t False\n",
      "yes \t False\n",
      "yes \t False\n",
      "yes \t False\n",
      "yes \t False\n",
      "yes \t False\n",
      "yes \t False\n",
      "no \t False\n",
      "no \t False\n",
      "yes \t False\n",
      "yes \t False\n",
      "no \t False\n",
      "yes \t False\n",
      "no \t False\n",
      "yes \t False\n",
      "yes \t False\n",
      "yes \t False\n",
      "no \t False\n",
      "yes \t False\n",
      "======================\n",
      "\n",
      "\n"
     ]
    }
   ],
   "source": [
    "col = cleaned_columns[col_idx]\n",
    "print(\"column: \", col)\n",
    "print(\"Original,\\t Cleaned\\n\")\n",
    "for i in range(50):\n",
    "    print(df_sample_data[col].iloc[i], '\\t', df_temp[col].iloc[i])\n",
    "\n",
    "print('======================\\n\\n')\n",
    "col_idx += 1"
   ]
  },
  {
   "cell_type": "code",
   "execution_count": 222,
   "id": "552792a6",
   "metadata": {},
   "outputs": [],
   "source": [
    "tp += 17\n",
    "fp += 33"
   ]
  },
  {
   "cell_type": "code",
   "execution_count": null,
   "id": "5bd3fe15",
   "metadata": {},
   "outputs": [],
   "source": []
  },
  {
   "cell_type": "code",
   "execution_count": 223,
   "id": "02209679",
   "metadata": {},
   "outputs": [
    {
     "name": "stdout",
     "output_type": "stream",
     "text": [
      "column:  Landmark District or Building\n",
      "Original,\t Cleaned\n",
      "\n",
      "no \t False\n",
      "no \t False\n",
      "no \t False\n",
      "yes \t False\n",
      "yes \t False\n",
      "no \t False\n",
      "no \t False\n",
      "no \t False\n",
      "no \t False\n",
      "no \t False\n",
      "no \t False\n",
      "no \t False\n",
      "no \t False\n",
      "no \t False\n",
      "no \t False\n",
      "no \t False\n",
      "no \t False\n",
      "yes \t False\n",
      "yes \t False\n",
      "no \t False\n",
      "yes \t False\n",
      "no \t False\n",
      "no \t False\n",
      "no \t False\n",
      "no \t False\n",
      "no \t False\n",
      "yes \t False\n",
      "no \t False\n",
      "no \t False\n",
      "no \t False\n",
      "yes \t False\n",
      "yes \t False\n",
      "no \t False\n",
      "no \t False\n",
      "yes \t False\n",
      "no \t False\n",
      "no \t False\n",
      "yes \t False\n",
      "no \t False\n",
      "yes \t False\n",
      "no \t False\n",
      "no \t False\n",
      "no \t False\n",
      "no \t False\n",
      "no \t False\n",
      "no \t False\n",
      "yes \t False\n",
      "no \t False\n",
      "no \t False\n",
      "yes \t False\n",
      "======================\n",
      "\n",
      "\n"
     ]
    }
   ],
   "source": [
    "col = cleaned_columns[col_idx]\n",
    "print(\"column: \", col)\n",
    "print(\"Original,\\t Cleaned\\n\")\n",
    "for i in range(50):\n",
    "    print(df_sample_data[col].iloc[i], '\\t', df_temp[col].iloc[i])\n",
    "\n",
    "print('======================\\n\\n')\n",
    "col_idx += 1"
   ]
  },
  {
   "cell_type": "code",
   "execution_count": 224,
   "id": "9208000a",
   "metadata": {},
   "outputs": [],
   "source": [
    "tp += 37\n",
    "fp += 13"
   ]
  },
  {
   "cell_type": "code",
   "execution_count": 225,
   "id": "ff308a0e",
   "metadata": {
    "scrolled": false
   },
   "outputs": [
    {
     "name": "stdout",
     "output_type": "stream",
     "text": [
      "column:  landmarkDistrict terms\n",
      "Original,\t Cleaned\n",
      "\n",
      "nan \t False\n",
      "nan \t False\n",
      "nan \t False\n",
      "yes \t False\n",
      "yes \t False\n",
      "nan \t False\n",
      "nan \t False\n",
      "nan \t False\n",
      "nan \t False\n",
      "nan \t False\n",
      "nan \t False\n",
      "nan \t False\n",
      "nan \t False\n",
      "nan \t False\n",
      "nan \t False\n",
      "nan \t False\n",
      "nan \t False\n",
      "yes \t False\n",
      "yes \t False\n",
      "nan \t False\n",
      "yes \t False\n",
      "nan \t False\n",
      "nan \t False\n",
      "nan \t False\n",
      "nan \t False\n",
      "nan \t False\n",
      "yes \t False\n",
      "nan \t False\n",
      "nan \t False\n",
      "nan \t False\n",
      "yes \t False\n",
      "yes \t False\n",
      "nan \t False\n",
      "nan \t False\n",
      "yes \t False\n",
      "nan \t False\n",
      "nan \t False\n",
      "yes \t False\n",
      "nan \t False\n",
      "yes \t False\n",
      "nan \t False\n",
      "nan \t False\n",
      "nan \t False\n",
      "nan \t False\n",
      "nan \t False\n",
      "nan \t False\n",
      "yes \t False\n",
      "nan \t False\n",
      "nan \t False\n",
      "yes \t False\n",
      "======================\n",
      "\n",
      "\n"
     ]
    }
   ],
   "source": [
    "col = cleaned_columns[col_idx]\n",
    "print(\"column: \", col)\n",
    "print(\"Original,\\t Cleaned\\n\")\n",
    "for i in range(50):\n",
    "    print(df_sample_data[col].iloc[i], '\\t', df_temp[col].iloc[i])\n",
    "\n",
    "print('======================\\n\\n')\n",
    "col_idx += 1"
   ]
  },
  {
   "cell_type": "code",
   "execution_count": 226,
   "id": "e713a3d8",
   "metadata": {},
   "outputs": [],
   "source": [
    "tp += 37\n",
    "fp += 13"
   ]
  },
  {
   "cell_type": "code",
   "execution_count": 227,
   "id": "2b6c94b1",
   "metadata": {},
   "outputs": [
    {
     "name": "stdout",
     "output_type": "stream",
     "text": [
      "column:  healthCompliance terms\n",
      "Original,\t Cleaned\n",
      "\n",
      "yes \t False\n",
      "yes \t False\n",
      "yes \t False\n",
      "yes \t False\n",
      "yes \t False\n",
      "yes \t False\n",
      "yes \t False\n",
      "yes \t False\n",
      "yes \t False\n",
      "yes \t False\n",
      "yes \t False\n",
      "yes \t False\n",
      "yes \t False\n",
      "yes \t False\n",
      "yes \t False\n",
      "yes \t False\n",
      "yes \t False\n",
      "yes \t False\n",
      "yes \t False\n",
      "yes \t False\n",
      "yes \t False\n",
      "yes \t False\n",
      "yes \t False\n",
      "yes \t False\n",
      "yes \t False\n",
      "yes \t False\n",
      "yes \t False\n",
      "yes \t False\n",
      "yes \t False\n",
      "yes \t False\n",
      "yes \t False\n",
      "yes \t False\n",
      "yes \t False\n",
      "yes \t False\n",
      "yes \t False\n",
      "yes \t False\n",
      "yes \t False\n",
      "yes \t False\n",
      "yes \t False\n",
      "yes \t False\n",
      "yes \t False\n",
      "yes \t False\n",
      "yes \t False\n",
      "yes \t False\n",
      "yes \t False\n",
      "yes \t False\n",
      "yes \t False\n",
      "yes \t False\n",
      "yes \t False\n",
      "yes \t False\n",
      "======================\n",
      "\n",
      "\n"
     ]
    }
   ],
   "source": [
    "col = cleaned_columns[col_idx]\n",
    "print(\"column: \", col)\n",
    "print(\"Original,\\t Cleaned\\n\")\n",
    "for i in range(50):\n",
    "    print(df_sample_data[col].iloc[i], '\\t', df_temp[col].iloc[i])\n",
    "\n",
    "print('======================\\n\\n')\n",
    "col_idx += 1"
   ]
  },
  {
   "cell_type": "code",
   "execution_count": 228,
   "id": "e4152792",
   "metadata": {},
   "outputs": [],
   "source": [
    "fp += 50"
   ]
  },
  {
   "cell_type": "code",
   "execution_count": 229,
   "id": "ae625884",
   "metadata": {},
   "outputs": [
    {
     "name": "stdout",
     "output_type": "stream",
     "text": [
      "column:  Building Number\n",
      "Original,\t Cleaned\n",
      "\n",
      "undefined \t UNDEFINED\n",
      "222 \t 222\n",
      "370 \t 370\n",
      "61 \t 61\n",
      "124 \t 124\n",
      "1505 \t 1505\n",
      "115 \t 115\n",
      "41-19 \t 41-19\n",
      "1337 \t 1337\n",
      "undefined \t UNDEFINED\n",
      "undefined \t UNDEFINED\n",
      "196 \t 196\n",
      "200 \t 200\n",
      "undefined \t UNDEFINED\n",
      "undefined \t UNDEFINED\n",
      "3608 \t 3608\n",
      "406 \t 406\n",
      "57 \t 57\n",
      "undefined \t UNDEFINED\n",
      "221 \t 221\n",
      "undefined \t UNDEFINED\n",
      "undefined \t UNDEFINED\n",
      "108 \t 108\n",
      "156 \t 156\n",
      "undefined \t UNDEFINED\n",
      "undefined \t UNDEFINED\n",
      "128 \t 128\n",
      "190 \t 190\n",
      "45 \t 45\n",
      "undefined \t UNDEFINED\n",
      "483 \t 483\n",
      "4004 \t 4004\n",
      "44051 \t 44051\n",
      "210 \t 210\n",
      "undefined \t UNDEFINED\n",
      "384 \t 384\n",
      "941 \t 941\n",
      "48 \t 48\n",
      "undefined \t UNDEFINED\n",
      "2373 \t 2373\n",
      "123 \t 123\n",
      "35-19 \t 35-19\n",
      "2307 \t 2307\n",
      "138-11 \t 138-11\n",
      "undefined \t UNDEFINED\n",
      "64 \t 64\n",
      "162 \t 162\n",
      "43 W \t 43 W\n",
      "2462 \t 2462\n",
      "undefined \t UNDEFINED\n",
      "======================\n",
      "\n",
      "\n"
     ]
    }
   ],
   "source": [
    "col = cleaned_columns[col_idx]\n",
    "print(\"column: \", col)\n",
    "print(\"Original,\\t Cleaned\\n\")\n",
    "for i in range(50):\n",
    "    print(df_sample_data[col].iloc[i], '\\t', df_temp[col].iloc[i])\n",
    "\n",
    "print('======================\\n\\n')\n",
    "col_idx += 1"
   ]
  },
  {
   "cell_type": "code",
   "execution_count": 230,
   "id": "532dfdd9",
   "metadata": {},
   "outputs": [],
   "source": [
    "fn += 15"
   ]
  },
  {
   "cell_type": "code",
   "execution_count": null,
   "id": "1a181881",
   "metadata": {},
   "outputs": [],
   "source": []
  },
  {
   "cell_type": "code",
   "execution_count": 232,
   "id": "bd1f3895",
   "metadata": {},
   "outputs": [],
   "source": [
    "# col = cleaned_columns[col_idx]\n",
    "# print(\"column: \", col)\n",
    "# print(\"Original,\\t Cleaned\\n\")\n",
    "# for i in range(50):\n",
    "#     print(df_sample_data[col].iloc[i], '\\t', df_temp[col].iloc[i])\n",
    "\n",
    "# print('======================\\n\\n')\n",
    "# col_idx += 1"
   ]
  },
  {
   "cell_type": "code",
   "execution_count": null,
   "id": "44fb1657",
   "metadata": {},
   "outputs": [],
   "source": []
  },
  {
   "cell_type": "code",
   "execution_count": 233,
   "id": "de5e86b0",
   "metadata": {},
   "outputs": [
    {
     "data": {
      "text/plain": [
       "166"
      ]
     },
     "execution_count": 233,
     "metadata": {},
     "output_type": "execute_result"
    }
   ],
   "source": [
    "tp"
   ]
  },
  {
   "cell_type": "code",
   "execution_count": 234,
   "id": "364345c2",
   "metadata": {},
   "outputs": [
    {
     "data": {
      "text/plain": [
       "184"
      ]
     },
     "execution_count": 234,
     "metadata": {},
     "output_type": "execute_result"
    }
   ],
   "source": [
    "fp"
   ]
  },
  {
   "cell_type": "code",
   "execution_count": 235,
   "id": "19b23186",
   "metadata": {},
   "outputs": [
    {
     "data": {
      "text/plain": [
       "142"
      ]
     },
     "execution_count": 235,
     "metadata": {},
     "output_type": "execute_result"
    }
   ],
   "source": [
    "fn"
   ]
  },
  {
   "cell_type": "code",
   "execution_count": 236,
   "id": "11a91f5d",
   "metadata": {},
   "outputs": [
    {
     "data": {
      "text/plain": [
       "0.4742857142857143"
      ]
     },
     "execution_count": 236,
     "metadata": {},
     "output_type": "execute_result"
    }
   ],
   "source": [
    "precision(tp, fp)"
   ]
  },
  {
   "cell_type": "code",
   "execution_count": 237,
   "id": "753297af",
   "metadata": {},
   "outputs": [
    {
     "data": {
      "text/plain": [
       "0.538961038961039"
      ]
     },
     "execution_count": 237,
     "metadata": {},
     "output_type": "execute_result"
    }
   ],
   "source": [
    "recall(tp,fn)"
   ]
  },
  {
   "cell_type": "code",
   "execution_count": null,
   "id": "63659419",
   "metadata": {},
   "outputs": [],
   "source": []
  },
  {
   "cell_type": "code",
   "execution_count": null,
   "id": "b6d98026",
   "metadata": {},
   "outputs": [],
   "source": []
  },
  {
   "cell_type": "code",
   "execution_count": null,
   "id": "a5a3c81e",
   "metadata": {},
   "outputs": [],
   "source": []
  },
  {
   "cell_type": "code",
   "execution_count": null,
   "id": "b1257bef",
   "metadata": {},
   "outputs": [],
   "source": []
  },
  {
   "cell_type": "code",
   "execution_count": null,
   "id": "e5c0833f",
   "metadata": {},
   "outputs": [],
   "source": []
  }
 ],
 "metadata": {
  "kernelspec": {
   "display_name": "Python 3 (ipykernel)",
   "language": "python",
   "name": "python3"
  },
  "language_info": {
   "codemirror_mode": {
    "name": "ipython",
    "version": 3
   },
   "file_extension": ".py",
   "mimetype": "text/x-python",
   "name": "python",
   "nbconvert_exporter": "python",
   "pygments_lexer": "ipython3",
   "version": "3.9.7"
  }
 },
 "nbformat": 4,
 "nbformat_minor": 5
}
