{
 "cells": [
  {
   "cell_type": "markdown",
   "metadata": {},
   "source": [
    "# Download datasets\n",
    "\n",
    "This code will automatically download each of the datasets required to your current directory. Afterwards, you can run the code \"improved.ipynb\" or \"improved2.ipynb\" to clean all datasets."
   ]
  },
  {
   "cell_type": "code",
   "execution_count": 1,
   "metadata": {},
   "outputs": [],
   "source": [
    "import openclean\n",
    "import glob\n",
    "import pandas as pd\n",
    "import numpy as np\n",
    "import re"
   ]
  },
  {
   "cell_type": "code",
   "execution_count": 2,
   "metadata": {},
   "outputs": [],
   "source": [
    "import gzip\n",
    "import os\n",
    "from openclean.data.source.socrata import Socrata"
   ]
  },
  {
   "cell_type": "code",
   "execution_count": 3,
   "metadata": {},
   "outputs": [],
   "source": [
    "dataset_list = ['ic3t-wcy2', 'hg8x-zxpr','w9ak-ipjd','dm9a-ab7w','rbx6-tga4','ipu4-2q9a','xubg-57si', \n",
    "                'bty7-2jhb', 'hcir-3275', 'pitm-atqc','iz2q-9x8d']\n",
    "dataset_names = ['DOB Job Application Filings',\n",
    "                 'Housing New York Units by Building',\n",
    "                 'DOB NOW: Build – Job Application Filings',\n",
    "                 'DOB NOW: Electrical Permit Applications', \n",
    "                 'DOB NOW: Build – Approved Permits',\n",
    "                 'DOB Permit Issuance', \n",
    "                 'DOB NOW: Safety – Facades Compliance Filings',\n",
    "                 'Historical DOB Permit Issuance', \n",
    "                 'Buildings Selected for the Alternative Enforcement Program (AEP)', \n",
    "                 'Open Restaurant Applications', \n",
    "                 'DOB Cellular Antenna Filings']\n"
   ]
  },
  {
   "cell_type": "code",
   "execution_count": null,
   "metadata": {},
   "outputs": [],
   "source": [
    "for filename in dataset_list:\n",
    "    \n",
    "    dataset = Socrata().dataset(filename)\n",
    "    datafile = \"./\" + filename + \".tsv.gz\"\n",
    "\n",
    "    if not os.path.isfile(datafile):\n",
    "        with gzip.open(datafile, 'wb') as f:\n",
    "            print('Downloading: ' + str(datafile) + ' Please wait...\\n')\n",
    "            dataset.write(f)"
   ]
  },
  {
   "cell_type": "code",
   "execution_count": null,
   "metadata": {},
   "outputs": [],
   "source": [
    "file_list = glob.glob(\"*.tsv.gz\")\n",
    "print(\"Local datasets: \")\n",
    "for i in file_list:\n",
    "    print(i)"
   ]
  },
  {
   "cell_type": "code",
   "execution_count": null,
   "metadata": {},
   "outputs": [],
   "source": []
  }
 ],
 "metadata": {
  "kernelspec": {
   "display_name": "Python 3",
   "language": "python",
   "name": "python3"
  },
  "language_info": {
   "codemirror_mode": {
    "name": "ipython",
    "version": 3
   },
   "file_extension": ".py",
   "mimetype": "text/x-python",
   "name": "python",
   "nbconvert_exporter": "python",
   "pygments_lexer": "ipython3",
   "version": "3.8.3"
  }
 },
 "nbformat": 4,
 "nbformat_minor": 4
}
