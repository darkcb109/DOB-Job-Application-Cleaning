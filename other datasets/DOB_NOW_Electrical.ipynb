{
 "cells": [
  {
   "cell_type": "markdown",
   "id": "bb0c6988",
   "metadata": {},
   "source": [
    "# Data Profiling and Cleaning"
   ]
  },
  {
   "cell_type": "markdown",
   "id": "7a3cd9d9",
   "metadata": {},
   "source": [
    "We profiled and cleaned the NYC opendata `DOB NOW: Electrical Permit Applications` data using pandas and openclean\n",
    "\n",
    "Run all the cells in order to profile and clean the data\n",
    "\n",
    "Note: many of these fields are accurate and did not need to be fixed\n",
    "\n",
    "Robert Ronan, Sheng Tong, Jerry Lee"
   ]
  },
  {
   "cell_type": "code",
   "execution_count": 1,
   "id": "111585e2",
   "metadata": {},
   "outputs": [],
   "source": [
    "import openclean\n",
    "import glob\n",
    "import pandas as pd\n",
    "import numpy as np\n"
   ]
  },
  {
   "cell_type": "markdown",
   "id": "b6f14479",
   "metadata": {},
   "source": [
    "# Data Downloading\n",
    "\n",
    "Download the data using openClean"
   ]
  },
  {
   "cell_type": "code",
   "execution_count": 2,
   "id": "a5bbac68",
   "metadata": {},
   "outputs": [
    {
     "name": "stdout",
     "output_type": "stream",
     "text": [
      "Using 'DOB NOW: Electrical Permit Applications' in file ./dm9a-ab7w.tsv.gz of size 40.86 MB\n"
     ]
    }
   ],
   "source": [
    "import gzip\n",
    "import humanfriendly\n",
    "import os\n",
    "\n",
    "from openclean.data.source.socrata import Socrata\n",
    "\n",
    "dataset = Socrata().dataset('dm9a-ab7w')\n",
    "datafile = './dm9a-ab7w.tsv.gz'\n",
    "\n",
    "if not os.path.isfile(datafile):\n",
    "    with gzip.open(datafile, 'wb') as f:\n",
    "        print('Downloading ...\\n')\n",
    "        dataset.write(f)\n",
    "\n",
    "\n",
    "fsize = humanfriendly.format_size(os.stat(datafile).st_size)\n",
    "print(\"Using '{}' in file {} of size {}\".format(dataset.name, datafile, fsize))"
   ]
  },
  {
   "cell_type": "markdown",
   "id": "6fdf622b",
   "metadata": {},
   "source": [
    "# Data Loading\n",
    "\n",
    "Load the data into pandas and openClean dataset object"
   ]
  },
  {
   "cell_type": "code",
   "execution_count": 3,
   "id": "0d183e2a",
   "metadata": {},
   "outputs": [],
   "source": [
    "import pandas as pd\n",
    "from openclean.pipeline import stream\n",
    "\n",
    "df  = pd.read_csv(datafile, dtype='object', sep='\\t')\n",
    "ds = stream(datafile)"
   ]
  },
  {
   "cell_type": "code",
   "execution_count": 4,
   "id": "a1255622",
   "metadata": {},
   "outputs": [
    {
     "data": {
      "text/plain": [
       "'1.21.4'"
      ]
     },
     "execution_count": 4,
     "metadata": {},
     "output_type": "execute_result"
    }
   ],
   "source": [
    "np.__version__"
   ]
  },
  {
   "cell_type": "code",
   "execution_count": 5,
   "id": "92044d9c",
   "metadata": {},
   "outputs": [
    {
     "data": {
      "text/plain": [
       "'1.3.4'"
      ]
     },
     "execution_count": 5,
     "metadata": {},
     "output_type": "execute_result"
    }
   ],
   "source": [
    "pd.__version__"
   ]
  },
  {
   "cell_type": "code",
   "execution_count": 6,
   "id": "db0b85a7",
   "metadata": {},
   "outputs": [],
   "source": [
    "import glob"
   ]
  },
  {
   "cell_type": "code",
   "execution_count": 7,
   "id": "3b903037",
   "metadata": {
    "scrolled": true
   },
   "outputs": [
    {
     "data": {
      "text/plain": [
       "['bty7-2jhb.tsv.gz',\n",
       " 'cleaned_data.csv',\n",
       " 'dm9a-ab7w.tsv.gz',\n",
       " 'DOB_Job_Cleaning.ipynb',\n",
       " 'DOB_NOW_BUILD.ipynb',\n",
       " 'DOB_NOW_Electrical.ipynb',\n",
       " 'Historical_DOB_Permit.ipynb',\n",
       " 'ic3t-wcy2.tsv.gz',\n",
       " 'README.md',\n",
       " 'w9ak-ipjd.tsv.gz']"
      ]
     },
     "execution_count": 7,
     "metadata": {},
     "output_type": "execute_result"
    }
   ],
   "source": [
    "glob.glob(\"*\")"
   ]
  },
  {
   "cell_type": "markdown",
   "id": "b72a689b",
   "metadata": {},
   "source": [
    "### Get some basic info about the dataset columns"
   ]
  },
  {
   "cell_type": "code",
   "execution_count": 8,
   "id": "445b1ad2",
   "metadata": {
    "scrolled": true
   },
   "outputs": [
    {
     "name": "stdout",
     "output_type": "stream",
     "text": [
      "<class 'pandas.core.frame.DataFrame'>\n",
      "RangeIndex: 255024 entries, 0 to 255023\n",
      "Data columns (total 84 columns):\n",
      " #   Column                             Non-Null Count   Dtype \n",
      "---  ------                             --------------   ----- \n",
      " 0   JOB_FILING_NUMBER                  255024 non-null  object\n",
      " 1   JOB_NUMBER                         255024 non-null  object\n",
      " 2   FILING_NUMBER                      255024 non-null  object\n",
      " 3   FILING_DATE                        255024 non-null  object\n",
      " 4   FILING_TYPE                        255024 non-null  object\n",
      " 5   FILING_STATUS                      255024 non-null  object\n",
      " 6   JOB_STATUS                         255024 non-null  object\n",
      " 7   HOUSE_NUMBER                       255024 non-null  object\n",
      " 8   STREET_NAME                        255024 non-null  object\n",
      " 9   BOROUGH                            255024 non-null  object\n",
      " 10  ZIP_CODE                           255024 non-null  object\n",
      " 11  BLOCK                              255024 non-null  object\n",
      " 12  LOT                                255024 non-null  object\n",
      " 13  BIN                                255024 non-null  object\n",
      " 14  COMMUNITY_BOARD                    255024 non-null  object\n",
      " 15  JOINT_VENTURE_WORK                 255024 non-null  object\n",
      " 16  BUILDING_USE_TYPE                  255024 non-null  object\n",
      " 17  APPLICANT_FIRST_NAME               255017 non-null  object\n",
      " 18  APPLICANT_LAST_NAME                255017 non-null  object\n",
      " 19  LICENSE_TYPE                       255024 non-null  object\n",
      " 20  LICENSE_NUMBER                     255017 non-null  object\n",
      " 21  FIRM_NAME                          255018 non-null  object\n",
      " 22  FIRM_NUMBER                        255015 non-null  object\n",
      " 23  FIRM_ADDRESS                       255018 non-null  object\n",
      " 24  CITY                               255016 non-null  object\n",
      " 25  STATE                              255016 non-null  object\n",
      " 26  ZIP                                255016 non-null  object\n",
      " 27  GENERAL_LIABILITY_COMPANY          255024 non-null  object\n",
      " 28  GENERAL_LIABILITY_POLICY           254952 non-null  object\n",
      " 29  GENERAL_LIABILITY_EXPIRATION_DATE  255024 non-null  object\n",
      " 30  WORKER_COMP_COMPANY_NAME           255024 non-null  object\n",
      " 31  WORKER_COMP_POLICY                 254949 non-null  object\n",
      " 32  WORKER_COMP_EXPIRATION_DATE        255024 non-null  object\n",
      " 33  DISABILITY_COMPANY_NAME            255024 non-null  object\n",
      " 34  DISABILITY_POLICY                  254949 non-null  object\n",
      " 35  DISABILITY_EXPIRATION_DATE         255024 non-null  object\n",
      " 36  OWNER_FIRST_NAME                   250347 non-null  object\n",
      " 37  OWNER_LAST_NAME                    250374 non-null  object\n",
      " 38  TITLE                              0 non-null       object\n",
      " 39  BUSINESS_NAME                      146588 non-null  object\n",
      " 40  OWNER_ADDRESS                      53 non-null      object\n",
      " 41  OWNER_CITY                         66 non-null      object\n",
      " 42  OWNER_STATE                        66 non-null      object\n",
      " 43  OWNER_ZIP                          66 non-null      object\n",
      " 44  OWNER_TYPE                         255019 non-null  object\n",
      " 45  AUTH_REP_FIRST_NAME                65015 non-null   object\n",
      " 46  AUTH_REP_LAST_NAME                 64113 non-null   object\n",
      " 47  AUTH_REP_OWNER_RELATION            61882 non-null   object\n",
      " 48  COO_RELATED                        255024 non-null  object\n",
      " 49  CONST_BIS_JOB_NUMBER               16410 non-null   object\n",
      " 50  REMOVAL_OF_VIO_OR_OWNER            255024 non-null  object\n",
      " 51  SVC_WORK_NOTIFY_UTILITY            255024 non-null  object\n",
      " 52  GENERAL_WIRING                     255024 non-null  object\n",
      " 53  LIGHTING_WORK                      255024 non-null  object\n",
      " 54  TEMP_CONSTRUCTION_SVC              255024 non-null  object\n",
      " 55  TEMP_LIGHT_POWER                   255024 non-null  object\n",
      " 56  HVAC_WIRING                        255024 non-null  object\n",
      " 57  BOILER_BURNER_WIRING               255024 non-null  object\n",
      " 58  CATEGORY_WORK_LIST                 79775 non-null   object\n",
      " 59  3_WIRE                             255024 non-null  object\n",
      " 60  4_WIRE                             255024 non-null  object\n",
      " 61  10_POINTS                          255024 non-null  object\n",
      " 62  EXISTING_METERS                    255024 non-null  object\n",
      " 63  NEW_METERS                         255024 non-null  object\n",
      " 64  REMOVE_METERS                      255024 non-null  object\n",
      " 65  TOTAL_METERS                       255024 non-null  object\n",
      " 66  JOB_DESCRIPTION                    254846 non-null  object\n",
      " 67  PERMIT_ISSUED_DATE                 223635 non-null  object\n",
      " 68  JOB_START_DATE                     255023 non-null  object\n",
      " 69  COMPLETION_DATE                    255023 non-null  object\n",
      " 70  FILING_FEE                         255024 non-null  object\n",
      " 71  LEGALIZATION_FEE                   255024 non-null  object\n",
      " 72  NOGOOD_CHECK_FEE                   255024 non-null  object\n",
      " 73  TOTAL_BILLABLE_WORK_FEE            255024 non-null  object\n",
      " 74  AMOUNT_PAID                        255024 non-null  object\n",
      " 75  AMOUNT_DUE                         255024 non-null  object\n",
      " 76  PAYMENT_METHOD                     218086 non-null  object\n",
      " 77  GIS_LATITUDE                       254715 non-null  object\n",
      " 78  GIS_LONGITUDE                      254715 non-null  object\n",
      " 79  GIS_COUNCIL_DISTRICT               254715 non-null  object\n",
      " 80  GIS_CENSUS_TRACT                   254715 non-null  object\n",
      " 81  GIS_BIN                            252602 non-null  object\n",
      " 82  GIS_BBL                            252602 non-null  object\n",
      " 83  GIS_NTA_NAME                       254715 non-null  object\n",
      "dtypes: object(84)\n",
      "memory usage: 163.4+ MB\n"
     ]
    }
   ],
   "source": [
    "df.info(verbose=True, show_counts=True)"
   ]
  },
  {
   "cell_type": "markdown",
   "id": "ddb7e293",
   "metadata": {},
   "source": [
    "If any rows are complete duplicates, drop them"
   ]
  },
  {
   "cell_type": "code",
   "execution_count": 9,
   "id": "833afecf",
   "metadata": {},
   "outputs": [],
   "source": [
    "df = df.drop_duplicates()"
   ]
  },
  {
   "cell_type": "markdown",
   "id": "ba0fcb74",
   "metadata": {},
   "source": [
    "Take an a look at some of the rows to get an idea of what the datset looks like"
   ]
  },
  {
   "cell_type": "code",
   "execution_count": 10,
   "id": "9a9ca494",
   "metadata": {
    "scrolled": true
   },
   "outputs": [
    {
     "data": {
      "text/html": [
       "<div>\n",
       "<style scoped>\n",
       "    .dataframe tbody tr th:only-of-type {\n",
       "        vertical-align: middle;\n",
       "    }\n",
       "\n",
       "    .dataframe tbody tr th {\n",
       "        vertical-align: top;\n",
       "    }\n",
       "\n",
       "    .dataframe thead th {\n",
       "        text-align: right;\n",
       "    }\n",
       "</style>\n",
       "<table border=\"1\" class=\"dataframe\">\n",
       "  <thead>\n",
       "    <tr style=\"text-align: right;\">\n",
       "      <th></th>\n",
       "      <th>JOB_FILING_NUMBER</th>\n",
       "      <th>JOB_NUMBER</th>\n",
       "      <th>FILING_NUMBER</th>\n",
       "      <th>FILING_DATE</th>\n",
       "      <th>FILING_TYPE</th>\n",
       "      <th>FILING_STATUS</th>\n",
       "      <th>JOB_STATUS</th>\n",
       "      <th>HOUSE_NUMBER</th>\n",
       "      <th>STREET_NAME</th>\n",
       "      <th>BOROUGH</th>\n",
       "      <th>...</th>\n",
       "      <th>AMOUNT_PAID</th>\n",
       "      <th>AMOUNT_DUE</th>\n",
       "      <th>PAYMENT_METHOD</th>\n",
       "      <th>GIS_LATITUDE</th>\n",
       "      <th>GIS_LONGITUDE</th>\n",
       "      <th>GIS_COUNCIL_DISTRICT</th>\n",
       "      <th>GIS_CENSUS_TRACT</th>\n",
       "      <th>GIS_BIN</th>\n",
       "      <th>GIS_BBL</th>\n",
       "      <th>GIS_NTA_NAME</th>\n",
       "    </tr>\n",
       "  </thead>\n",
       "  <tbody>\n",
       "    <tr>\n",
       "      <th>0</th>\n",
       "      <td>B00083823-P1</td>\n",
       "      <td>B00083823</td>\n",
       "      <td>P1</td>\n",
       "      <td>06/02/2021 12:00:00 AM</td>\n",
       "      <td>PAA</td>\n",
       "      <td>Approved</td>\n",
       "      <td>Job in Process</td>\n",
       "      <td>2438</td>\n",
       "      <td>EAST 7 STREET</td>\n",
       "      <td>BROOKLYN</td>\n",
       "      <td>...</td>\n",
       "      <td>40</td>\n",
       "      <td>0</td>\n",
       "      <td>NaN</td>\n",
       "      <td>40.590828</td>\n",
       "      <td>-73.962756</td>\n",
       "      <td>48</td>\n",
       "      <td>370</td>\n",
       "      <td>3195471</td>\n",
       "      <td>3072030014</td>\n",
       "      <td>Brighton Beach</td>\n",
       "    </tr>\n",
       "    <tr>\n",
       "      <th>1</th>\n",
       "      <td>B00143086-P1</td>\n",
       "      <td>B00143086</td>\n",
       "      <td>P1</td>\n",
       "      <td>04/27/2021 12:00:00 AM</td>\n",
       "      <td>PAA</td>\n",
       "      <td>Approved</td>\n",
       "      <td>Job in Process</td>\n",
       "      <td>601</td>\n",
       "      <td>OCEAN VIEW AVENUE</td>\n",
       "      <td>BROOKLYN</td>\n",
       "      <td>...</td>\n",
       "      <td>40</td>\n",
       "      <td>0</td>\n",
       "      <td>NaN</td>\n",
       "      <td>40.579607</td>\n",
       "      <td>-73.962071</td>\n",
       "      <td>48</td>\n",
       "      <td>364</td>\n",
       "      <td>3244470</td>\n",
       "      <td>3086660610</td>\n",
       "      <td>Brighton Beach</td>\n",
       "    </tr>\n",
       "    <tr>\n",
       "      <th>2</th>\n",
       "      <td>B00262288-P1</td>\n",
       "      <td>B00262288</td>\n",
       "      <td>P1</td>\n",
       "      <td>06/02/2021 12:00:00 AM</td>\n",
       "      <td>PAA</td>\n",
       "      <td>Approved</td>\n",
       "      <td>Job in Process</td>\n",
       "      <td>84</td>\n",
       "      <td>WITHERS STREET</td>\n",
       "      <td>BROOKLYN</td>\n",
       "      <td>...</td>\n",
       "      <td>40</td>\n",
       "      <td>0</td>\n",
       "      <td>NaN</td>\n",
       "      <td>40.716973</td>\n",
       "      <td>-73.948873</td>\n",
       "      <td>34</td>\n",
       "      <td>501</td>\n",
       "      <td>3068248</td>\n",
       "      <td>3027420015</td>\n",
       "      <td>East Williamsburg</td>\n",
       "    </tr>\n",
       "    <tr>\n",
       "      <th>3</th>\n",
       "      <td>B00304119-P3</td>\n",
       "      <td>B00304119</td>\n",
       "      <td>P3</td>\n",
       "      <td>06/02/2021 12:00:00 AM</td>\n",
       "      <td>PAA</td>\n",
       "      <td>Approved</td>\n",
       "      <td>Job in Process</td>\n",
       "      <td>85</td>\n",
       "      <td>3 STREET</td>\n",
       "      <td>BROOKLYN</td>\n",
       "      <td>...</td>\n",
       "      <td>40</td>\n",
       "      <td>0</td>\n",
       "      <td>NaN</td>\n",
       "      <td>40.677481</td>\n",
       "      <td>-73.992963</td>\n",
       "      <td>39</td>\n",
       "      <td>77</td>\n",
       "      <td>3007911</td>\n",
       "      <td>3004610058</td>\n",
       "      <td>Carroll Gardens-Columbia Street-Red Hook</td>\n",
       "    </tr>\n",
       "    <tr>\n",
       "      <th>4</th>\n",
       "      <td>B00304755-P2</td>\n",
       "      <td>B00304755</td>\n",
       "      <td>P2</td>\n",
       "      <td>06/02/2021 12:00:00 AM</td>\n",
       "      <td>PAA</td>\n",
       "      <td>Approved</td>\n",
       "      <td>Job in Process</td>\n",
       "      <td>251</td>\n",
       "      <td>WALLABOUT STREET</td>\n",
       "      <td>BROOKLYN</td>\n",
       "      <td>...</td>\n",
       "      <td>40</td>\n",
       "      <td>0</td>\n",
       "      <td>NaN</td>\n",
       "      <td>40.701158</td>\n",
       "      <td>-73.949433</td>\n",
       "      <td>33</td>\n",
       "      <td>507</td>\n",
       "      <td>3000000</td>\n",
       "      <td>3022490037</td>\n",
       "      <td>Bedford</td>\n",
       "    </tr>\n",
       "    <tr>\n",
       "      <th>...</th>\n",
       "      <td>...</td>\n",
       "      <td>...</td>\n",
       "      <td>...</td>\n",
       "      <td>...</td>\n",
       "      <td>...</td>\n",
       "      <td>...</td>\n",
       "      <td>...</td>\n",
       "      <td>...</td>\n",
       "      <td>...</td>\n",
       "      <td>...</td>\n",
       "      <td>...</td>\n",
       "      <td>...</td>\n",
       "      <td>...</td>\n",
       "      <td>...</td>\n",
       "      <td>...</td>\n",
       "      <td>...</td>\n",
       "      <td>...</td>\n",
       "      <td>...</td>\n",
       "      <td>...</td>\n",
       "      <td>...</td>\n",
       "      <td>...</td>\n",
       "    </tr>\n",
       "    <tr>\n",
       "      <th>255019</th>\n",
       "      <td>X00509655-I1-EL</td>\n",
       "      <td>X00509655</td>\n",
       "      <td>I1</td>\n",
       "      <td>04/23/2021 12:00:00 AM</td>\n",
       "      <td>New Job Filing</td>\n",
       "      <td>Complete</td>\n",
       "      <td>Job is complete</td>\n",
       "      <td>2800</td>\n",
       "      <td>SEXTON PLACE</td>\n",
       "      <td>BRONX</td>\n",
       "      <td>...</td>\n",
       "      <td>40</td>\n",
       "      <td>0</td>\n",
       "      <td>Check</td>\n",
       "      <td>40.869531</td>\n",
       "      <td>-73.847275</td>\n",
       "      <td>12</td>\n",
       "      <td>350</td>\n",
       "      <td>2055363</td>\n",
       "      <td>2045640057</td>\n",
       "      <td>Allerton-Pelham Gardens</td>\n",
       "    </tr>\n",
       "    <tr>\n",
       "      <th>255020</th>\n",
       "      <td>X00509920-I1-EL</td>\n",
       "      <td>X00509920</td>\n",
       "      <td>I1</td>\n",
       "      <td>04/24/2021 12:00:00 AM</td>\n",
       "      <td>New Job Filing</td>\n",
       "      <td>Permit Issued</td>\n",
       "      <td>Job in Process</td>\n",
       "      <td>2661</td>\n",
       "      <td>MARION AVENUE</td>\n",
       "      <td>BRONX</td>\n",
       "      <td>...</td>\n",
       "      <td>40</td>\n",
       "      <td>0</td>\n",
       "      <td>Credit Card</td>\n",
       "      <td>40.864804</td>\n",
       "      <td>-73.890606</td>\n",
       "      <td>15</td>\n",
       "      <td>40502</td>\n",
       "      <td>2016643</td>\n",
       "      <td>2032870100</td>\n",
       "      <td>Bedford Park-Fordham North</td>\n",
       "    </tr>\n",
       "    <tr>\n",
       "      <th>255021</th>\n",
       "      <td>X00509978-I1-EL</td>\n",
       "      <td>X00509978</td>\n",
       "      <td>I1</td>\n",
       "      <td>04/25/2021 12:00:00 AM</td>\n",
       "      <td>New Job Filing</td>\n",
       "      <td>Complete</td>\n",
       "      <td>Job is complete</td>\n",
       "      <td>1914</td>\n",
       "      <td>BUSSING AVENUE</td>\n",
       "      <td>BRONX</td>\n",
       "      <td>...</td>\n",
       "      <td>40</td>\n",
       "      <td>0</td>\n",
       "      <td>Credit Card</td>\n",
       "      <td>40.894850</td>\n",
       "      <td>-73.846732</td>\n",
       "      <td>12</td>\n",
       "      <td>428</td>\n",
       "      <td>2068841</td>\n",
       "      <td>2050140004</td>\n",
       "      <td>Woodlawn-Wakefield</td>\n",
       "    </tr>\n",
       "    <tr>\n",
       "      <th>255022</th>\n",
       "      <td>X00509951-I1-EL</td>\n",
       "      <td>X00509951</td>\n",
       "      <td>I1</td>\n",
       "      <td>04/25/2021 12:00:00 AM</td>\n",
       "      <td>New Job Filing</td>\n",
       "      <td>Complete</td>\n",
       "      <td>Job is complete</td>\n",
       "      <td>2832</td>\n",
       "      <td>SAMPSON AVENUE</td>\n",
       "      <td>BRONX</td>\n",
       "      <td>...</td>\n",
       "      <td>40</td>\n",
       "      <td>0</td>\n",
       "      <td>Check</td>\n",
       "      <td>40.819668</td>\n",
       "      <td>-73.820422</td>\n",
       "      <td>13</td>\n",
       "      <td>132</td>\n",
       "      <td>2080582</td>\n",
       "      <td>2055780082</td>\n",
       "      <td>Schuylerville-Throgs Neck-Edgewater Park</td>\n",
       "    </tr>\n",
       "    <tr>\n",
       "      <th>255023</th>\n",
       "      <td>X00509967-I1-EL</td>\n",
       "      <td>X00509967</td>\n",
       "      <td>I1</td>\n",
       "      <td>04/25/2021 12:00:00 AM</td>\n",
       "      <td>New Job Filing</td>\n",
       "      <td>Permit Issued</td>\n",
       "      <td>Job in Process</td>\n",
       "      <td>262</td>\n",
       "      <td>EAST 237 STREET</td>\n",
       "      <td>BRONX</td>\n",
       "      <td>...</td>\n",
       "      <td>40</td>\n",
       "      <td>0</td>\n",
       "      <td>Check</td>\n",
       "      <td>40.898797</td>\n",
       "      <td>-73.868832</td>\n",
       "      <td>11</td>\n",
       "      <td>44902</td>\n",
       "      <td>2019146</td>\n",
       "      <td>2033770048</td>\n",
       "      <td>Woodlawn-Wakefield</td>\n",
       "    </tr>\n",
       "  </tbody>\n",
       "</table>\n",
       "<p>255024 rows × 84 columns</p>\n",
       "</div>"
      ],
      "text/plain": [
       "       JOB_FILING_NUMBER JOB_NUMBER FILING_NUMBER             FILING_DATE  \\\n",
       "0           B00083823-P1  B00083823            P1  06/02/2021 12:00:00 AM   \n",
       "1           B00143086-P1  B00143086            P1  04/27/2021 12:00:00 AM   \n",
       "2           B00262288-P1  B00262288            P1  06/02/2021 12:00:00 AM   \n",
       "3           B00304119-P3  B00304119            P3  06/02/2021 12:00:00 AM   \n",
       "4           B00304755-P2  B00304755            P2  06/02/2021 12:00:00 AM   \n",
       "...                  ...        ...           ...                     ...   \n",
       "255019   X00509655-I1-EL  X00509655            I1  04/23/2021 12:00:00 AM   \n",
       "255020   X00509920-I1-EL  X00509920            I1  04/24/2021 12:00:00 AM   \n",
       "255021   X00509978-I1-EL  X00509978            I1  04/25/2021 12:00:00 AM   \n",
       "255022   X00509951-I1-EL  X00509951            I1  04/25/2021 12:00:00 AM   \n",
       "255023   X00509967-I1-EL  X00509967            I1  04/25/2021 12:00:00 AM   \n",
       "\n",
       "           FILING_TYPE  FILING_STATUS       JOB_STATUS HOUSE_NUMBER  \\\n",
       "0                  PAA       Approved   Job in Process         2438   \n",
       "1                  PAA       Approved   Job in Process          601   \n",
       "2                  PAA       Approved   Job in Process           84   \n",
       "3                  PAA       Approved   Job in Process           85   \n",
       "4                  PAA       Approved   Job in Process          251   \n",
       "...                ...            ...              ...          ...   \n",
       "255019  New Job Filing       Complete  Job is complete         2800   \n",
       "255020  New Job Filing  Permit Issued   Job in Process         2661   \n",
       "255021  New Job Filing       Complete  Job is complete         1914   \n",
       "255022  New Job Filing       Complete  Job is complete         2832   \n",
       "255023  New Job Filing  Permit Issued   Job in Process          262   \n",
       "\n",
       "              STREET_NAME   BOROUGH  ... AMOUNT_PAID AMOUNT_DUE  \\\n",
       "0           EAST 7 STREET  BROOKLYN  ...          40          0   \n",
       "1       OCEAN VIEW AVENUE  BROOKLYN  ...          40          0   \n",
       "2          WITHERS STREET  BROOKLYN  ...          40          0   \n",
       "3                3 STREET  BROOKLYN  ...          40          0   \n",
       "4        WALLABOUT STREET  BROOKLYN  ...          40          0   \n",
       "...                   ...       ...  ...         ...        ...   \n",
       "255019       SEXTON PLACE     BRONX  ...          40          0   \n",
       "255020      MARION AVENUE     BRONX  ...          40          0   \n",
       "255021     BUSSING AVENUE     BRONX  ...          40          0   \n",
       "255022     SAMPSON AVENUE     BRONX  ...          40          0   \n",
       "255023    EAST 237 STREET     BRONX  ...          40          0   \n",
       "\n",
       "       PAYMENT_METHOD GIS_LATITUDE GIS_LONGITUDE GIS_COUNCIL_DISTRICT  \\\n",
       "0                 NaN    40.590828    -73.962756                   48   \n",
       "1                 NaN    40.579607    -73.962071                   48   \n",
       "2                 NaN    40.716973    -73.948873                   34   \n",
       "3                 NaN    40.677481    -73.992963                   39   \n",
       "4                 NaN    40.701158    -73.949433                   33   \n",
       "...               ...          ...           ...                  ...   \n",
       "255019          Check    40.869531    -73.847275                   12   \n",
       "255020    Credit Card    40.864804    -73.890606                   15   \n",
       "255021    Credit Card    40.894850    -73.846732                   12   \n",
       "255022          Check    40.819668    -73.820422                   13   \n",
       "255023          Check    40.898797    -73.868832                   11   \n",
       "\n",
       "       GIS_CENSUS_TRACT  GIS_BIN     GIS_BBL  \\\n",
       "0                   370  3195471  3072030014   \n",
       "1                   364  3244470  3086660610   \n",
       "2                   501  3068248  3027420015   \n",
       "3                    77  3007911  3004610058   \n",
       "4                   507  3000000  3022490037   \n",
       "...                 ...      ...         ...   \n",
       "255019              350  2055363  2045640057   \n",
       "255020            40502  2016643  2032870100   \n",
       "255021              428  2068841  2050140004   \n",
       "255022              132  2080582  2055780082   \n",
       "255023            44902  2019146  2033770048   \n",
       "\n",
       "                                    GIS_NTA_NAME  \n",
       "0                                 Brighton Beach  \n",
       "1                                 Brighton Beach  \n",
       "2                              East Williamsburg  \n",
       "3       Carroll Gardens-Columbia Street-Red Hook  \n",
       "4                                        Bedford  \n",
       "...                                          ...  \n",
       "255019                   Allerton-Pelham Gardens  \n",
       "255020                Bedford Park-Fordham North  \n",
       "255021                        Woodlawn-Wakefield  \n",
       "255022  Schuylerville-Throgs Neck-Edgewater Park  \n",
       "255023                        Woodlawn-Wakefield  \n",
       "\n",
       "[255024 rows x 84 columns]"
      ]
     },
     "execution_count": 10,
     "metadata": {},
     "output_type": "execute_result"
    }
   ],
   "source": [
    "df"
   ]
  },
  {
   "cell_type": "code",
   "execution_count": 11,
   "id": "1c2a206b",
   "metadata": {},
   "outputs": [],
   "source": [
    "# Need 382 examples for sample"
   ]
  },
  {
   "cell_type": "code",
   "execution_count": 12,
   "id": "26890509",
   "metadata": {},
   "outputs": [],
   "source": [
    "df_sample = df.sample(382).copy()"
   ]
  },
  {
   "cell_type": "code",
   "execution_count": 13,
   "id": "3a986f3d",
   "metadata": {},
   "outputs": [
    {
     "data": {
      "text/html": [
       "<div>\n",
       "<style scoped>\n",
       "    .dataframe tbody tr th:only-of-type {\n",
       "        vertical-align: middle;\n",
       "    }\n",
       "\n",
       "    .dataframe tbody tr th {\n",
       "        vertical-align: top;\n",
       "    }\n",
       "\n",
       "    .dataframe thead th {\n",
       "        text-align: right;\n",
       "    }\n",
       "</style>\n",
       "<table border=\"1\" class=\"dataframe\">\n",
       "  <thead>\n",
       "    <tr style=\"text-align: right;\">\n",
       "      <th></th>\n",
       "      <th>JOB_FILING_NUMBER</th>\n",
       "      <th>JOB_NUMBER</th>\n",
       "      <th>FILING_NUMBER</th>\n",
       "      <th>FILING_DATE</th>\n",
       "      <th>FILING_TYPE</th>\n",
       "      <th>FILING_STATUS</th>\n",
       "      <th>JOB_STATUS</th>\n",
       "      <th>HOUSE_NUMBER</th>\n",
       "      <th>STREET_NAME</th>\n",
       "      <th>BOROUGH</th>\n",
       "      <th>...</th>\n",
       "      <th>AMOUNT_PAID</th>\n",
       "      <th>AMOUNT_DUE</th>\n",
       "      <th>PAYMENT_METHOD</th>\n",
       "      <th>GIS_LATITUDE</th>\n",
       "      <th>GIS_LONGITUDE</th>\n",
       "      <th>GIS_COUNCIL_DISTRICT</th>\n",
       "      <th>GIS_CENSUS_TRACT</th>\n",
       "      <th>GIS_BIN</th>\n",
       "      <th>GIS_BBL</th>\n",
       "      <th>GIS_NTA_NAME</th>\n",
       "    </tr>\n",
       "  </thead>\n",
       "  <tbody>\n",
       "    <tr>\n",
       "      <th>43844</th>\n",
       "      <td>Q00579889-I1-EL</td>\n",
       "      <td>Q00579889</td>\n",
       "      <td>I1</td>\n",
       "      <td>08/19/2021 12:00:00 AM</td>\n",
       "      <td>New Job Filing</td>\n",
       "      <td>Complete</td>\n",
       "      <td>Job is complete</td>\n",
       "      <td>13-01</td>\n",
       "      <td>JACKSON AVENUE</td>\n",
       "      <td>QUEENS</td>\n",
       "      <td>...</td>\n",
       "      <td>15</td>\n",
       "      <td>0</td>\n",
       "      <td>Credit Card</td>\n",
       "      <td>40.744171</td>\n",
       "      <td>-73.949523</td>\n",
       "      <td>26</td>\n",
       "      <td>7</td>\n",
       "      <td>4000487</td>\n",
       "      <td>4000570008</td>\n",
       "      <td>Hunters Point-Sunnyside-West Maspeth</td>\n",
       "    </tr>\n",
       "    <tr>\n",
       "      <th>254332</th>\n",
       "      <td>X00510896-I1-EL</td>\n",
       "      <td>X00510896</td>\n",
       "      <td>I1</td>\n",
       "      <td>04/26/2021 12:00:00 AM</td>\n",
       "      <td>New Job Filing</td>\n",
       "      <td>Permit Issued</td>\n",
       "      <td>Job in Process</td>\n",
       "      <td>615</td>\n",
       "      <td>FAILE STREET</td>\n",
       "      <td>BRONX</td>\n",
       "      <td>...</td>\n",
       "      <td>40</td>\n",
       "      <td>0</td>\n",
       "      <td>Check</td>\n",
       "      <td>40.812788</td>\n",
       "      <td>-73.886045</td>\n",
       "      <td>17</td>\n",
       "      <td>93</td>\n",
       "      <td>2006691</td>\n",
       "      <td>2027660029</td>\n",
       "      <td>Hunts Point</td>\n",
       "    </tr>\n",
       "    <tr>\n",
       "      <th>138666</th>\n",
       "      <td>M00078961-I1-EL</td>\n",
       "      <td>M00078961</td>\n",
       "      <td>I1</td>\n",
       "      <td>09/23/2018 12:00:00 AM</td>\n",
       "      <td>New Job Filing</td>\n",
       "      <td>Permit Issued</td>\n",
       "      <td>Job in Process</td>\n",
       "      <td>529</td>\n",
       "      <td>EAST 87 STREET</td>\n",
       "      <td>MANHATTAN</td>\n",
       "      <td>...</td>\n",
       "      <td>40</td>\n",
       "      <td>0</td>\n",
       "      <td>Credit Card</td>\n",
       "      <td>40.776263</td>\n",
       "      <td>-73.945802</td>\n",
       "      <td>5</td>\n",
       "      <td>14402</td>\n",
       "      <td>1051322</td>\n",
       "      <td>1015847502</td>\n",
       "      <td>Yorkville</td>\n",
       "    </tr>\n",
       "    <tr>\n",
       "      <th>241480</th>\n",
       "      <td>X00071460-I1-EL</td>\n",
       "      <td>X00071460</td>\n",
       "      <td>I1</td>\n",
       "      <td>08/16/2018 12:00:00 AM</td>\n",
       "      <td>New Job Filing</td>\n",
       "      <td>Complete</td>\n",
       "      <td>Job is complete</td>\n",
       "      <td>180</td>\n",
       "      <td>BROOK AVENUE</td>\n",
       "      <td>BRONX</td>\n",
       "      <td>...</td>\n",
       "      <td>0</td>\n",
       "      <td>0</td>\n",
       "      <td>NaN</td>\n",
       "      <td>40.806073</td>\n",
       "      <td>-73.920297</td>\n",
       "      <td>8</td>\n",
       "      <td>25</td>\n",
       "      <td>2090987</td>\n",
       "      <td>2022630019</td>\n",
       "      <td>Mott Haven-Port Morris</td>\n",
       "    </tr>\n",
       "    <tr>\n",
       "      <th>96276</th>\n",
       "      <td>B00169550-I1-EL</td>\n",
       "      <td>B00169550</td>\n",
       "      <td>I1</td>\n",
       "      <td>05/21/2019 12:00:00 AM</td>\n",
       "      <td>New Job Filing</td>\n",
       "      <td>Complete</td>\n",
       "      <td>Job is complete</td>\n",
       "      <td>741</td>\n",
       "      <td>FULTON STREET</td>\n",
       "      <td>BROOKLYN</td>\n",
       "      <td>...</td>\n",
       "      <td>40</td>\n",
       "      <td>0</td>\n",
       "      <td>Check</td>\n",
       "      <td>40.686528</td>\n",
       "      <td>-73.974944</td>\n",
       "      <td>35</td>\n",
       "      <td>35</td>\n",
       "      <td>3059294</td>\n",
       "      <td>3021160005</td>\n",
       "      <td>Fort Greene</td>\n",
       "    </tr>\n",
       "    <tr>\n",
       "      <th>...</th>\n",
       "      <td>...</td>\n",
       "      <td>...</td>\n",
       "      <td>...</td>\n",
       "      <td>...</td>\n",
       "      <td>...</td>\n",
       "      <td>...</td>\n",
       "      <td>...</td>\n",
       "      <td>...</td>\n",
       "      <td>...</td>\n",
       "      <td>...</td>\n",
       "      <td>...</td>\n",
       "      <td>...</td>\n",
       "      <td>...</td>\n",
       "      <td>...</td>\n",
       "      <td>...</td>\n",
       "      <td>...</td>\n",
       "      <td>...</td>\n",
       "      <td>...</td>\n",
       "      <td>...</td>\n",
       "      <td>...</td>\n",
       "      <td>...</td>\n",
       "    </tr>\n",
       "    <tr>\n",
       "      <th>18624</th>\n",
       "      <td>Q00531465-I1-EL</td>\n",
       "      <td>Q00531465</td>\n",
       "      <td>I1</td>\n",
       "      <td>05/31/2021 12:00:00 AM</td>\n",
       "      <td>New Job Filing</td>\n",
       "      <td>Permit Issued</td>\n",
       "      <td>Job in Process</td>\n",
       "      <td>97-37</td>\n",
       "      <td>89 STREET</td>\n",
       "      <td>QUEENS</td>\n",
       "      <td>...</td>\n",
       "      <td>40</td>\n",
       "      <td>0</td>\n",
       "      <td>Credit Card</td>\n",
       "      <td>40.684229</td>\n",
       "      <td>-73.851813</td>\n",
       "      <td>32</td>\n",
       "      <td>38</td>\n",
       "      <td>4188422</td>\n",
       "      <td>4090630043</td>\n",
       "      <td>Woodhaven</td>\n",
       "    </tr>\n",
       "    <tr>\n",
       "      <th>154164</th>\n",
       "      <td>M00175502-I1-EL</td>\n",
       "      <td>M00175502</td>\n",
       "      <td>I1</td>\n",
       "      <td>06/03/2019 12:00:00 AM</td>\n",
       "      <td>New Job Filing</td>\n",
       "      <td>Permit Issued</td>\n",
       "      <td>Job in Process</td>\n",
       "      <td>854</td>\n",
       "      <td>WEST 180 STREET</td>\n",
       "      <td>MANHATTAN</td>\n",
       "      <td>...</td>\n",
       "      <td>40</td>\n",
       "      <td>0</td>\n",
       "      <td>Check</td>\n",
       "      <td>40.850258</td>\n",
       "      <td>-73.940095</td>\n",
       "      <td>10</td>\n",
       "      <td>265</td>\n",
       "      <td>1064320</td>\n",
       "      <td>1021770163</td>\n",
       "      <td>Washington Heights South</td>\n",
       "    </tr>\n",
       "    <tr>\n",
       "      <th>144573</th>\n",
       "      <td>M00113908-P1</td>\n",
       "      <td>M00113908</td>\n",
       "      <td>P1</td>\n",
       "      <td>10/09/2019 12:00:00 AM</td>\n",
       "      <td>PAA</td>\n",
       "      <td>Approved</td>\n",
       "      <td>Job in Process</td>\n",
       "      <td>303</td>\n",
       "      <td>WEST 137 STREET</td>\n",
       "      <td>MANHATTAN</td>\n",
       "      <td>...</td>\n",
       "      <td>40</td>\n",
       "      <td>0</td>\n",
       "      <td>NaN</td>\n",
       "      <td>40.817923</td>\n",
       "      <td>-73.945869</td>\n",
       "      <td>9</td>\n",
       "      <td>22102</td>\n",
       "      <td>1060648</td>\n",
       "      <td>1020410014</td>\n",
       "      <td>Central Harlem North-Polo Grounds</td>\n",
       "    </tr>\n",
       "    <tr>\n",
       "      <th>173038</th>\n",
       "      <td>M00365171-I1-EL</td>\n",
       "      <td>M00365171</td>\n",
       "      <td>I1</td>\n",
       "      <td>07/01/2020 12:00:00 AM</td>\n",
       "      <td>New Job Filing</td>\n",
       "      <td>Complete</td>\n",
       "      <td>Job is complete</td>\n",
       "      <td>220</td>\n",
       "      <td>EAST 42 STREET</td>\n",
       "      <td>MANHATTAN</td>\n",
       "      <td>...</td>\n",
       "      <td>40</td>\n",
       "      <td>0</td>\n",
       "      <td>Check</td>\n",
       "      <td>40.750256</td>\n",
       "      <td>-73.973256</td>\n",
       "      <td>4</td>\n",
       "      <td>88</td>\n",
       "      <td>1037546</td>\n",
       "      <td>1013157501</td>\n",
       "      <td>Turtle Bay-East Midtown</td>\n",
       "    </tr>\n",
       "    <tr>\n",
       "      <th>185297</th>\n",
       "      <td>Q00010796-I1-EL</td>\n",
       "      <td>Q00010796</td>\n",
       "      <td>I1</td>\n",
       "      <td>01/11/2018 12:00:00 AM</td>\n",
       "      <td>New Job Filing</td>\n",
       "      <td>Complete</td>\n",
       "      <td>Job is complete</td>\n",
       "      <td>138-35</td>\n",
       "      <td>39 AVENUE</td>\n",
       "      <td>QUEENS</td>\n",
       "      <td>...</td>\n",
       "      <td>40</td>\n",
       "      <td>0</td>\n",
       "      <td>Check</td>\n",
       "      <td>40.761047</td>\n",
       "      <td>-73.827082</td>\n",
       "      <td>20</td>\n",
       "      <td>871</td>\n",
       "      <td>4607310</td>\n",
       "      <td>4049787502</td>\n",
       "      <td>Flushing</td>\n",
       "    </tr>\n",
       "  </tbody>\n",
       "</table>\n",
       "<p>382 rows × 84 columns</p>\n",
       "</div>"
      ],
      "text/plain": [
       "       JOB_FILING_NUMBER JOB_NUMBER FILING_NUMBER             FILING_DATE  \\\n",
       "43844    Q00579889-I1-EL  Q00579889            I1  08/19/2021 12:00:00 AM   \n",
       "254332   X00510896-I1-EL  X00510896            I1  04/26/2021 12:00:00 AM   \n",
       "138666   M00078961-I1-EL  M00078961            I1  09/23/2018 12:00:00 AM   \n",
       "241480   X00071460-I1-EL  X00071460            I1  08/16/2018 12:00:00 AM   \n",
       "96276    B00169550-I1-EL  B00169550            I1  05/21/2019 12:00:00 AM   \n",
       "...                  ...        ...           ...                     ...   \n",
       "18624    Q00531465-I1-EL  Q00531465            I1  05/31/2021 12:00:00 AM   \n",
       "154164   M00175502-I1-EL  M00175502            I1  06/03/2019 12:00:00 AM   \n",
       "144573      M00113908-P1  M00113908            P1  10/09/2019 12:00:00 AM   \n",
       "173038   M00365171-I1-EL  M00365171            I1  07/01/2020 12:00:00 AM   \n",
       "185297   Q00010796-I1-EL  Q00010796            I1  01/11/2018 12:00:00 AM   \n",
       "\n",
       "           FILING_TYPE  FILING_STATUS       JOB_STATUS HOUSE_NUMBER  \\\n",
       "43844   New Job Filing       Complete  Job is complete        13-01   \n",
       "254332  New Job Filing  Permit Issued   Job in Process          615   \n",
       "138666  New Job Filing  Permit Issued   Job in Process          529   \n",
       "241480  New Job Filing       Complete  Job is complete          180   \n",
       "96276   New Job Filing       Complete  Job is complete          741   \n",
       "...                ...            ...              ...          ...   \n",
       "18624   New Job Filing  Permit Issued   Job in Process        97-37   \n",
       "154164  New Job Filing  Permit Issued   Job in Process          854   \n",
       "144573             PAA       Approved   Job in Process          303   \n",
       "173038  New Job Filing       Complete  Job is complete          220   \n",
       "185297  New Job Filing       Complete  Job is complete       138-35   \n",
       "\n",
       "            STREET_NAME    BOROUGH  ... AMOUNT_PAID AMOUNT_DUE PAYMENT_METHOD  \\\n",
       "43844    JACKSON AVENUE     QUEENS  ...          15          0    Credit Card   \n",
       "254332     FAILE STREET      BRONX  ...          40          0          Check   \n",
       "138666   EAST 87 STREET  MANHATTAN  ...          40          0    Credit Card   \n",
       "241480     BROOK AVENUE      BRONX  ...           0          0            NaN   \n",
       "96276     FULTON STREET   BROOKLYN  ...          40          0          Check   \n",
       "...                 ...        ...  ...         ...        ...            ...   \n",
       "18624         89 STREET     QUEENS  ...          40          0    Credit Card   \n",
       "154164  WEST 180 STREET  MANHATTAN  ...          40          0          Check   \n",
       "144573  WEST 137 STREET  MANHATTAN  ...          40          0            NaN   \n",
       "173038   EAST 42 STREET  MANHATTAN  ...          40          0          Check   \n",
       "185297        39 AVENUE     QUEENS  ...          40          0          Check   \n",
       "\n",
       "       GIS_LATITUDE GIS_LONGITUDE GIS_COUNCIL_DISTRICT GIS_CENSUS_TRACT  \\\n",
       "43844     40.744171    -73.949523                   26                7   \n",
       "254332    40.812788    -73.886045                   17               93   \n",
       "138666    40.776263    -73.945802                    5            14402   \n",
       "241480    40.806073    -73.920297                    8               25   \n",
       "96276     40.686528    -73.974944                   35               35   \n",
       "...             ...           ...                  ...              ...   \n",
       "18624     40.684229    -73.851813                   32               38   \n",
       "154164    40.850258    -73.940095                   10              265   \n",
       "144573    40.817923    -73.945869                    9            22102   \n",
       "173038    40.750256    -73.973256                    4               88   \n",
       "185297    40.761047    -73.827082                   20              871   \n",
       "\n",
       "        GIS_BIN     GIS_BBL                          GIS_NTA_NAME  \n",
       "43844   4000487  4000570008  Hunters Point-Sunnyside-West Maspeth  \n",
       "254332  2006691  2027660029                           Hunts Point  \n",
       "138666  1051322  1015847502                             Yorkville  \n",
       "241480  2090987  2022630019                Mott Haven-Port Morris  \n",
       "96276   3059294  3021160005                           Fort Greene  \n",
       "...         ...         ...                                   ...  \n",
       "18624   4188422  4090630043                             Woodhaven  \n",
       "154164  1064320  1021770163              Washington Heights South  \n",
       "144573  1060648  1020410014     Central Harlem North-Polo Grounds  \n",
       "173038  1037546  1013157501               Turtle Bay-East Midtown  \n",
       "185297  4607310  4049787502                              Flushing  \n",
       "\n",
       "[382 rows x 84 columns]"
      ]
     },
     "execution_count": 13,
     "metadata": {},
     "output_type": "execute_result"
    }
   ],
   "source": [
    "df_sample"
   ]
  },
  {
   "cell_type": "markdown",
   "id": "c693582d",
   "metadata": {},
   "source": [
    "## Describe columns in groups so they fit on screen"
   ]
  },
  {
   "cell_type": "code",
   "execution_count": 14,
   "id": "18e80f95",
   "metadata": {
    "scrolled": true
   },
   "outputs": [
    {
     "data": {
      "text/html": [
       "<div>\n",
       "<style scoped>\n",
       "    .dataframe tbody tr th:only-of-type {\n",
       "        vertical-align: middle;\n",
       "    }\n",
       "\n",
       "    .dataframe tbody tr th {\n",
       "        vertical-align: top;\n",
       "    }\n",
       "\n",
       "    .dataframe thead th {\n",
       "        text-align: right;\n",
       "    }\n",
       "</style>\n",
       "<table border=\"1\" class=\"dataframe\">\n",
       "  <thead>\n",
       "    <tr style=\"text-align: right;\">\n",
       "      <th></th>\n",
       "      <th>JOB_FILING_NUMBER</th>\n",
       "      <th>JOB_NUMBER</th>\n",
       "      <th>FILING_NUMBER</th>\n",
       "      <th>FILING_DATE</th>\n",
       "      <th>FILING_TYPE</th>\n",
       "      <th>FILING_STATUS</th>\n",
       "      <th>JOB_STATUS</th>\n",
       "      <th>HOUSE_NUMBER</th>\n",
       "      <th>STREET_NAME</th>\n",
       "      <th>BOROUGH</th>\n",
       "      <th>ZIP_CODE</th>\n",
       "      <th>BLOCK</th>\n",
       "      <th>LOT</th>\n",
       "      <th>BIN</th>\n",
       "      <th>COMMUNITY_BOARD</th>\n",
       "      <th>JOINT_VENTURE_WORK</th>\n",
       "      <th>BUILDING_USE_TYPE</th>\n",
       "      <th>APPLICANT_FIRST_NAME</th>\n",
       "      <th>APPLICANT_LAST_NAME</th>\n",
       "      <th>LICENSE_TYPE</th>\n",
       "    </tr>\n",
       "  </thead>\n",
       "  <tbody>\n",
       "    <tr>\n",
       "      <th>count</th>\n",
       "      <td>255024</td>\n",
       "      <td>255024</td>\n",
       "      <td>255024</td>\n",
       "      <td>255024</td>\n",
       "      <td>255024</td>\n",
       "      <td>255024</td>\n",
       "      <td>255024</td>\n",
       "      <td>255024</td>\n",
       "      <td>255024</td>\n",
       "      <td>255024</td>\n",
       "      <td>255024</td>\n",
       "      <td>255024</td>\n",
       "      <td>255024</td>\n",
       "      <td>255024</td>\n",
       "      <td>255024</td>\n",
       "      <td>255024</td>\n",
       "      <td>255024</td>\n",
       "      <td>255017</td>\n",
       "      <td>255017</td>\n",
       "      <td>255024</td>\n",
       "    </tr>\n",
       "    <tr>\n",
       "      <th>unique</th>\n",
       "      <td>255024</td>\n",
       "      <td>219429</td>\n",
       "      <td>35</td>\n",
       "      <td>1453</td>\n",
       "      <td>3</td>\n",
       "      <td>9</td>\n",
       "      <td>3</td>\n",
       "      <td>21459</td>\n",
       "      <td>7397</td>\n",
       "      <td>5</td>\n",
       "      <td>223</td>\n",
       "      <td>12985</td>\n",
       "      <td>1063</td>\n",
       "      <td>112708</td>\n",
       "      <td>70</td>\n",
       "      <td>2</td>\n",
       "      <td>15</td>\n",
       "      <td>755</td>\n",
       "      <td>1587</td>\n",
       "      <td>1</td>\n",
       "    </tr>\n",
       "    <tr>\n",
       "      <th>top</th>\n",
       "      <td>B00083823-P1</td>\n",
       "      <td>M00017941</td>\n",
       "      <td>I1</td>\n",
       "      <td>05/12/2021 12:00:00 AM</td>\n",
       "      <td>New Job Filing</td>\n",
       "      <td>Complete</td>\n",
       "      <td>Job in Process</td>\n",
       "      <td>1</td>\n",
       "      <td>BROADWAY</td>\n",
       "      <td>MANHATTAN</td>\n",
       "      <td>10022</td>\n",
       "      <td>3175</td>\n",
       "      <td>1</td>\n",
       "      <td>4433859</td>\n",
       "      <td>105</td>\n",
       "      <td>No</td>\n",
       "      <td>L Five or more Family</td>\n",
       "      <td>RICHARD</td>\n",
       "      <td>NEU</td>\n",
       "      <td>Electrician</td>\n",
       "    </tr>\n",
       "    <tr>\n",
       "      <th>freq</th>\n",
       "      <td>1</td>\n",
       "      <td>22</td>\n",
       "      <td>219156</td>\n",
       "      <td>530</td>\n",
       "      <td>219156</td>\n",
       "      <td>123918</td>\n",
       "      <td>127251</td>\n",
       "      <td>1357</td>\n",
       "      <td>4789</td>\n",
       "      <td>87297</td>\n",
       "      <td>4410</td>\n",
       "      <td>1104</td>\n",
       "      <td>30361</td>\n",
       "      <td>378</td>\n",
       "      <td>16172</td>\n",
       "      <td>254655</td>\n",
       "      <td>74445</td>\n",
       "      <td>9018</td>\n",
       "      <td>6681</td>\n",
       "      <td>255024</td>\n",
       "    </tr>\n",
       "  </tbody>\n",
       "</table>\n",
       "</div>"
      ],
      "text/plain": [
       "       JOB_FILING_NUMBER JOB_NUMBER FILING_NUMBER             FILING_DATE  \\\n",
       "count             255024     255024        255024                  255024   \n",
       "unique            255024     219429            35                    1453   \n",
       "top         B00083823-P1  M00017941            I1  05/12/2021 12:00:00 AM   \n",
       "freq                   1         22        219156                     530   \n",
       "\n",
       "           FILING_TYPE FILING_STATUS      JOB_STATUS HOUSE_NUMBER STREET_NAME  \\\n",
       "count           255024        255024          255024       255024      255024   \n",
       "unique               3             9               3        21459        7397   \n",
       "top     New Job Filing      Complete  Job in Process            1    BROADWAY   \n",
       "freq            219156        123918          127251         1357        4789   \n",
       "\n",
       "          BOROUGH ZIP_CODE   BLOCK     LOT      BIN COMMUNITY_BOARD  \\\n",
       "count      255024   255024  255024  255024   255024          255024   \n",
       "unique          5      223   12985    1063   112708              70   \n",
       "top     MANHATTAN    10022    3175       1  4433859             105   \n",
       "freq        87297     4410    1104   30361      378           16172   \n",
       "\n",
       "       JOINT_VENTURE_WORK      BUILDING_USE_TYPE APPLICANT_FIRST_NAME  \\\n",
       "count              255024                 255024               255017   \n",
       "unique                  2                     15                  755   \n",
       "top                    No  L Five or more Family              RICHARD   \n",
       "freq               254655                  74445                 9018   \n",
       "\n",
       "       APPLICANT_LAST_NAME LICENSE_TYPE  \n",
       "count               255017       255024  \n",
       "unique                1587            1  \n",
       "top                    NEU  Electrician  \n",
       "freq                  6681       255024  "
      ]
     },
     "execution_count": 14,
     "metadata": {},
     "output_type": "execute_result"
    }
   ],
   "source": [
    "df[df.columns[:20]].describe()"
   ]
  },
  {
   "cell_type": "code",
   "execution_count": 15,
   "id": "dd735f46",
   "metadata": {},
   "outputs": [],
   "source": [
    "# Nothing seems odd maybe ZIP_CODE?"
   ]
  },
  {
   "cell_type": "code",
   "execution_count": 16,
   "id": "04d5dded",
   "metadata": {
    "scrolled": false
   },
   "outputs": [
    {
     "data": {
      "text/html": [
       "<div>\n",
       "<style scoped>\n",
       "    .dataframe tbody tr th:only-of-type {\n",
       "        vertical-align: middle;\n",
       "    }\n",
       "\n",
       "    .dataframe tbody tr th {\n",
       "        vertical-align: top;\n",
       "    }\n",
       "\n",
       "    .dataframe thead th {\n",
       "        text-align: right;\n",
       "    }\n",
       "</style>\n",
       "<table border=\"1\" class=\"dataframe\">\n",
       "  <thead>\n",
       "    <tr style=\"text-align: right;\">\n",
       "      <th></th>\n",
       "      <th>LICENSE_NUMBER</th>\n",
       "      <th>FIRM_NAME</th>\n",
       "      <th>FIRM_NUMBER</th>\n",
       "      <th>FIRM_ADDRESS</th>\n",
       "      <th>CITY</th>\n",
       "      <th>STATE</th>\n",
       "      <th>ZIP</th>\n",
       "      <th>GENERAL_LIABILITY_COMPANY</th>\n",
       "      <th>GENERAL_LIABILITY_POLICY</th>\n",
       "      <th>GENERAL_LIABILITY_EXPIRATION_DATE</th>\n",
       "      <th>WORKER_COMP_COMPANY_NAME</th>\n",
       "      <th>WORKER_COMP_POLICY</th>\n",
       "      <th>WORKER_COMP_EXPIRATION_DATE</th>\n",
       "      <th>DISABILITY_COMPANY_NAME</th>\n",
       "      <th>DISABILITY_POLICY</th>\n",
       "      <th>DISABILITY_EXPIRATION_DATE</th>\n",
       "      <th>OWNER_FIRST_NAME</th>\n",
       "      <th>OWNER_LAST_NAME</th>\n",
       "      <th>TITLE</th>\n",
       "      <th>BUSINESS_NAME</th>\n",
       "    </tr>\n",
       "  </thead>\n",
       "  <tbody>\n",
       "    <tr>\n",
       "      <th>count</th>\n",
       "      <td>255017</td>\n",
       "      <td>255018</td>\n",
       "      <td>255015</td>\n",
       "      <td>255018</td>\n",
       "      <td>255016</td>\n",
       "      <td>255016</td>\n",
       "      <td>255016</td>\n",
       "      <td>255024</td>\n",
       "      <td>254952</td>\n",
       "      <td>255024</td>\n",
       "      <td>255024</td>\n",
       "      <td>254949</td>\n",
       "      <td>255024</td>\n",
       "      <td>255024</td>\n",
       "      <td>254949</td>\n",
       "      <td>255024</td>\n",
       "      <td>250347</td>\n",
       "      <td>250374</td>\n",
       "      <td>0</td>\n",
       "      <td>146588</td>\n",
       "    </tr>\n",
       "    <tr>\n",
       "      <th>unique</th>\n",
       "      <td>1814</td>\n",
       "      <td>1787</td>\n",
       "      <td>1752</td>\n",
       "      <td>1833</td>\n",
       "      <td>76</td>\n",
       "      <td>2</td>\n",
       "      <td>208</td>\n",
       "      <td>1043</td>\n",
       "      <td>4250</td>\n",
       "      <td>1746</td>\n",
       "      <td>548</td>\n",
       "      <td>3621</td>\n",
       "      <td>1699</td>\n",
       "      <td>342</td>\n",
       "      <td>2835</td>\n",
       "      <td>1734</td>\n",
       "      <td>35835</td>\n",
       "      <td>59912</td>\n",
       "      <td>0</td>\n",
       "      <td>40977</td>\n",
       "    </tr>\n",
       "    <tr>\n",
       "      <th>top</th>\n",
       "      <td>011545</td>\n",
       "      <td>RICHARD NEU</td>\n",
       "      <td>003052</td>\n",
       "      <td>4347 HYLAN BLVD</td>\n",
       "      <td>BROOKLYN</td>\n",
       "      <td>NY</td>\n",
       "      <td>11101</td>\n",
       "      <td>MERCHANTS MUTUAL INS CO</td>\n",
       "      <td>UDC208802CGL21</td>\n",
       "      <td>10/19/2022 12:00:00 AM</td>\n",
       "      <td>NEW YORK STATE INS FUND</td>\n",
       "      <td>2020-070125</td>\n",
       "      <td>11/01/2022 12:00:00 AM</td>\n",
       "      <td>SHELTERPOINT LIFE INS CO</td>\n",
       "      <td>2020-070125</td>\n",
       "      <td>12/31/2021 12:00:00 AM</td>\n",
       "      <td>MICHAEL</td>\n",
       "      <td>SINGH</td>\n",
       "      <td>NaN</td>\n",
       "      <td>PR</td>\n",
       "    </tr>\n",
       "    <tr>\n",
       "      <th>freq</th>\n",
       "      <td>6667</td>\n",
       "      <td>6680</td>\n",
       "      <td>6666</td>\n",
       "      <td>6707</td>\n",
       "      <td>79976</td>\n",
       "      <td>255011</td>\n",
       "      <td>17906</td>\n",
       "      <td>13180</td>\n",
       "      <td>5411</td>\n",
       "      <td>5429</td>\n",
       "      <td>27741</td>\n",
       "      <td>5840</td>\n",
       "      <td>12016</td>\n",
       "      <td>45914</td>\n",
       "      <td>5840</td>\n",
       "      <td>20287</td>\n",
       "      <td>3284</td>\n",
       "      <td>7339</td>\n",
       "      <td>NaN</td>\n",
       "      <td>9807</td>\n",
       "    </tr>\n",
       "  </tbody>\n",
       "</table>\n",
       "</div>"
      ],
      "text/plain": [
       "       LICENSE_NUMBER    FIRM_NAME FIRM_NUMBER     FIRM_ADDRESS      CITY  \\\n",
       "count          255017       255018      255015           255018    255016   \n",
       "unique           1814         1787        1752             1833        76   \n",
       "top            011545  RICHARD NEU      003052  4347 HYLAN BLVD  BROOKLYN   \n",
       "freq             6667         6680        6666             6707     79976   \n",
       "\n",
       "         STATE     ZIP GENERAL_LIABILITY_COMPANY GENERAL_LIABILITY_POLICY  \\\n",
       "count   255016  255016                    255024                   254952   \n",
       "unique       2     208                      1043                     4250   \n",
       "top         NY   11101   MERCHANTS MUTUAL INS CO           UDC208802CGL21   \n",
       "freq    255011   17906                     13180                     5411   \n",
       "\n",
       "       GENERAL_LIABILITY_EXPIRATION_DATE WORKER_COMP_COMPANY_NAME  \\\n",
       "count                             255024                   255024   \n",
       "unique                              1746                      548   \n",
       "top               10/19/2022 12:00:00 AM  NEW YORK STATE INS FUND   \n",
       "freq                                5429                    27741   \n",
       "\n",
       "       WORKER_COMP_POLICY WORKER_COMP_EXPIRATION_DATE  \\\n",
       "count              254949                      255024   \n",
       "unique               3621                        1699   \n",
       "top           2020-070125      11/01/2022 12:00:00 AM   \n",
       "freq                 5840                       12016   \n",
       "\n",
       "         DISABILITY_COMPANY_NAME DISABILITY_POLICY DISABILITY_EXPIRATION_DATE  \\\n",
       "count                     255024            254949                     255024   \n",
       "unique                       342              2835                       1734   \n",
       "top     SHELTERPOINT LIFE INS CO       2020-070125     12/31/2021 12:00:00 AM   \n",
       "freq                       45914              5840                      20287   \n",
       "\n",
       "       OWNER_FIRST_NAME OWNER_LAST_NAME TITLE BUSINESS_NAME  \n",
       "count            250347          250374     0        146588  \n",
       "unique            35835           59912     0         40977  \n",
       "top             MICHAEL           SINGH   NaN            PR  \n",
       "freq               3284            7339   NaN          9807  "
      ]
     },
     "execution_count": 16,
     "metadata": {},
     "output_type": "execute_result"
    }
   ],
   "source": [
    "df[df.columns[20:40]].describe()"
   ]
  },
  {
   "cell_type": "code",
   "execution_count": 17,
   "id": "97851c3f",
   "metadata": {},
   "outputs": [],
   "source": [
    "# Owner's stuff is pretty consistent with our original data"
   ]
  },
  {
   "cell_type": "code",
   "execution_count": 18,
   "id": "4ecf62e8",
   "metadata": {
    "scrolled": false
   },
   "outputs": [
    {
     "data": {
      "text/html": [
       "<div>\n",
       "<style scoped>\n",
       "    .dataframe tbody tr th:only-of-type {\n",
       "        vertical-align: middle;\n",
       "    }\n",
       "\n",
       "    .dataframe tbody tr th {\n",
       "        vertical-align: top;\n",
       "    }\n",
       "\n",
       "    .dataframe thead th {\n",
       "        text-align: right;\n",
       "    }\n",
       "</style>\n",
       "<table border=\"1\" class=\"dataframe\">\n",
       "  <thead>\n",
       "    <tr style=\"text-align: right;\">\n",
       "      <th></th>\n",
       "      <th>OWNER_ADDRESS</th>\n",
       "      <th>OWNER_CITY</th>\n",
       "      <th>OWNER_STATE</th>\n",
       "      <th>OWNER_ZIP</th>\n",
       "      <th>OWNER_TYPE</th>\n",
       "      <th>AUTH_REP_FIRST_NAME</th>\n",
       "      <th>AUTH_REP_LAST_NAME</th>\n",
       "      <th>AUTH_REP_OWNER_RELATION</th>\n",
       "      <th>COO_RELATED</th>\n",
       "      <th>CONST_BIS_JOB_NUMBER</th>\n",
       "      <th>REMOVAL_OF_VIO_OR_OWNER</th>\n",
       "      <th>SVC_WORK_NOTIFY_UTILITY</th>\n",
       "      <th>GENERAL_WIRING</th>\n",
       "      <th>LIGHTING_WORK</th>\n",
       "      <th>TEMP_CONSTRUCTION_SVC</th>\n",
       "      <th>TEMP_LIGHT_POWER</th>\n",
       "      <th>HVAC_WIRING</th>\n",
       "      <th>BOILER_BURNER_WIRING</th>\n",
       "      <th>CATEGORY_WORK_LIST</th>\n",
       "      <th>3_WIRE</th>\n",
       "    </tr>\n",
       "  </thead>\n",
       "  <tbody>\n",
       "    <tr>\n",
       "      <th>count</th>\n",
       "      <td>53</td>\n",
       "      <td>66</td>\n",
       "      <td>66</td>\n",
       "      <td>66</td>\n",
       "      <td>255019</td>\n",
       "      <td>65015</td>\n",
       "      <td>64113</td>\n",
       "      <td>61882</td>\n",
       "      <td>255024</td>\n",
       "      <td>16410</td>\n",
       "      <td>255024</td>\n",
       "      <td>255024</td>\n",
       "      <td>255024</td>\n",
       "      <td>255024</td>\n",
       "      <td>255024</td>\n",
       "      <td>255024</td>\n",
       "      <td>255024</td>\n",
       "      <td>255024</td>\n",
       "      <td>79775</td>\n",
       "      <td>255024</td>\n",
       "    </tr>\n",
       "    <tr>\n",
       "      <th>unique</th>\n",
       "      <td>43</td>\n",
       "      <td>22</td>\n",
       "      <td>5</td>\n",
       "      <td>43</td>\n",
       "      <td>8</td>\n",
       "      <td>9295</td>\n",
       "      <td>16050</td>\n",
       "      <td>2605</td>\n",
       "      <td>2</td>\n",
       "      <td>10886</td>\n",
       "      <td>2</td>\n",
       "      <td>2</td>\n",
       "      <td>2</td>\n",
       "      <td>2</td>\n",
       "      <td>2</td>\n",
       "      <td>2</td>\n",
       "      <td>2</td>\n",
       "      <td>2</td>\n",
       "      <td>13</td>\n",
       "      <td>240</td>\n",
       "    </tr>\n",
       "    <tr>\n",
       "      <th>top</th>\n",
       "      <td>30S Wacker Drive Suite 900</td>\n",
       "      <td>BROOKLYN</td>\n",
       "      <td>NY</td>\n",
       "      <td>60606</td>\n",
       "      <td>Individual</td>\n",
       "      <td>RICHARD</td>\n",
       "      <td>NEU</td>\n",
       "      <td>Contractor</td>\n",
       "      <td>No</td>\n",
       "      <td>121204552</td>\n",
       "      <td>No</td>\n",
       "      <td>No</td>\n",
       "      <td>Yes</td>\n",
       "      <td>No</td>\n",
       "      <td>No</td>\n",
       "      <td>No</td>\n",
       "      <td>No</td>\n",
       "      <td>No</td>\n",
       "      <td>Sidewalk Shed Wiring &amp; Lighting</td>\n",
       "      <td>0</td>\n",
       "    </tr>\n",
       "    <tr>\n",
       "      <th>freq</th>\n",
       "      <td>4</td>\n",
       "      <td>16</td>\n",
       "      <td>52</td>\n",
       "      <td>4</td>\n",
       "      <td>122714</td>\n",
       "      <td>2863</td>\n",
       "      <td>2620</td>\n",
       "      <td>4250</td>\n",
       "      <td>238594</td>\n",
       "      <td>11</td>\n",
       "      <td>245207</td>\n",
       "      <td>196882</td>\n",
       "      <td>137937</td>\n",
       "      <td>248166</td>\n",
       "      <td>252828</td>\n",
       "      <td>245494</td>\n",
       "      <td>253670</td>\n",
       "      <td>253464</td>\n",
       "      <td>23903</td>\n",
       "      <td>207594</td>\n",
       "    </tr>\n",
       "  </tbody>\n",
       "</table>\n",
       "</div>"
      ],
      "text/plain": [
       "                     OWNER_ADDRESS OWNER_CITY OWNER_STATE OWNER_ZIP  \\\n",
       "count                           53         66          66        66   \n",
       "unique                          43         22           5        43   \n",
       "top     30S Wacker Drive Suite 900   BROOKLYN          NY     60606   \n",
       "freq                             4         16          52         4   \n",
       "\n",
       "        OWNER_TYPE AUTH_REP_FIRST_NAME AUTH_REP_LAST_NAME  \\\n",
       "count       255019               65015              64113   \n",
       "unique           8                9295              16050   \n",
       "top     Individual             RICHARD                NEU   \n",
       "freq        122714                2863               2620   \n",
       "\n",
       "       AUTH_REP_OWNER_RELATION COO_RELATED CONST_BIS_JOB_NUMBER  \\\n",
       "count                    61882      255024                16410   \n",
       "unique                    2605           2                10886   \n",
       "top                 Contractor          No            121204552   \n",
       "freq                      4250      238594                   11   \n",
       "\n",
       "       REMOVAL_OF_VIO_OR_OWNER SVC_WORK_NOTIFY_UTILITY GENERAL_WIRING  \\\n",
       "count                   255024                  255024         255024   \n",
       "unique                       2                       2              2   \n",
       "top                         No                      No            Yes   \n",
       "freq                    245207                  196882         137937   \n",
       "\n",
       "       LIGHTING_WORK TEMP_CONSTRUCTION_SVC TEMP_LIGHT_POWER HVAC_WIRING  \\\n",
       "count         255024                255024           255024      255024   \n",
       "unique             2                     2                2           2   \n",
       "top               No                    No               No          No   \n",
       "freq          248166                252828           245494      253670   \n",
       "\n",
       "       BOILER_BURNER_WIRING               CATEGORY_WORK_LIST  3_WIRE  \n",
       "count                255024                            79775  255024  \n",
       "unique                    2                               13     240  \n",
       "top                      No  Sidewalk Shed Wiring & Lighting       0  \n",
       "freq                 253464                            23903  207594  "
      ]
     },
     "execution_count": 18,
     "metadata": {},
     "output_type": "execute_result"
    }
   ],
   "source": [
    "df[df.columns[40:60]].describe()"
   ]
  },
  {
   "cell_type": "code",
   "execution_count": null,
   "id": "978d16fd",
   "metadata": {},
   "outputs": [],
   "source": []
  },
  {
   "cell_type": "code",
   "execution_count": 19,
   "id": "e4980430",
   "metadata": {
    "scrolled": true
   },
   "outputs": [
    {
     "data": {
      "text/html": [
       "<div>\n",
       "<style scoped>\n",
       "    .dataframe tbody tr th:only-of-type {\n",
       "        vertical-align: middle;\n",
       "    }\n",
       "\n",
       "    .dataframe tbody tr th {\n",
       "        vertical-align: top;\n",
       "    }\n",
       "\n",
       "    .dataframe thead th {\n",
       "        text-align: right;\n",
       "    }\n",
       "</style>\n",
       "<table border=\"1\" class=\"dataframe\">\n",
       "  <thead>\n",
       "    <tr style=\"text-align: right;\">\n",
       "      <th></th>\n",
       "      <th>4_WIRE</th>\n",
       "      <th>10_POINTS</th>\n",
       "      <th>EXISTING_METERS</th>\n",
       "      <th>NEW_METERS</th>\n",
       "      <th>REMOVE_METERS</th>\n",
       "      <th>TOTAL_METERS</th>\n",
       "      <th>JOB_DESCRIPTION</th>\n",
       "      <th>PERMIT_ISSUED_DATE</th>\n",
       "      <th>JOB_START_DATE</th>\n",
       "      <th>COMPLETION_DATE</th>\n",
       "      <th>FILING_FEE</th>\n",
       "      <th>LEGALIZATION_FEE</th>\n",
       "      <th>NOGOOD_CHECK_FEE</th>\n",
       "      <th>TOTAL_BILLABLE_WORK_FEE</th>\n",
       "      <th>AMOUNT_PAID</th>\n",
       "      <th>AMOUNT_DUE</th>\n",
       "      <th>PAYMENT_METHOD</th>\n",
       "      <th>GIS_LATITUDE</th>\n",
       "      <th>GIS_LONGITUDE</th>\n",
       "      <th>GIS_COUNCIL_DISTRICT</th>\n",
       "    </tr>\n",
       "  </thead>\n",
       "  <tbody>\n",
       "    <tr>\n",
       "      <th>count</th>\n",
       "      <td>255024</td>\n",
       "      <td>255024</td>\n",
       "      <td>255024</td>\n",
       "      <td>255024</td>\n",
       "      <td>255024</td>\n",
       "      <td>255024</td>\n",
       "      <td>254846</td>\n",
       "      <td>223635</td>\n",
       "      <td>255023</td>\n",
       "      <td>255023</td>\n",
       "      <td>255024</td>\n",
       "      <td>255024</td>\n",
       "      <td>255024</td>\n",
       "      <td>255024</td>\n",
       "      <td>255024</td>\n",
       "      <td>255024</td>\n",
       "      <td>218086</td>\n",
       "      <td>254715</td>\n",
       "      <td>254715</td>\n",
       "      <td>254715</td>\n",
       "    </tr>\n",
       "    <tr>\n",
       "      <th>unique</th>\n",
       "      <td>52</td>\n",
       "      <td>24</td>\n",
       "      <td>185</td>\n",
       "      <td>232</td>\n",
       "      <td>104</td>\n",
       "      <td>262</td>\n",
       "      <td>156202</td>\n",
       "      <td>1451</td>\n",
       "      <td>1489</td>\n",
       "      <td>2939</td>\n",
       "      <td>3</td>\n",
       "      <td>129</td>\n",
       "      <td>4</td>\n",
       "      <td>7478</td>\n",
       "      <td>137</td>\n",
       "      <td>8</td>\n",
       "      <td>2</td>\n",
       "      <td>95354</td>\n",
       "      <td>95951</td>\n",
       "      <td>51</td>\n",
       "    </tr>\n",
       "    <tr>\n",
       "      <th>top</th>\n",
       "      <td>0</td>\n",
       "      <td>0</td>\n",
       "      <td>0</td>\n",
       "      <td>0</td>\n",
       "      <td>0</td>\n",
       "      <td>0</td>\n",
       "      <td>INSTALLATION OF LIGHTING FOR SIDEWALK SHED</td>\n",
       "      <td>05/12/2021 12:00:00 AM</td>\n",
       "      <td>05/12/2021 12:00:00 AM</td>\n",
       "      <td>12/31/2021 12:00:00 AM</td>\n",
       "      <td>40</td>\n",
       "      <td>0</td>\n",
       "      <td>0</td>\n",
       "      <td>0</td>\n",
       "      <td>40</td>\n",
       "      <td>0</td>\n",
       "      <td>Credit Card</td>\n",
       "      <td>40.723485</td>\n",
       "      <td>-73.848490</td>\n",
       "      <td>4</td>\n",
       "    </tr>\n",
       "    <tr>\n",
       "      <th>freq</th>\n",
       "      <td>240509</td>\n",
       "      <td>244077</td>\n",
       "      <td>207388</td>\n",
       "      <td>202642</td>\n",
       "      <td>225131</td>\n",
       "      <td>192608</td>\n",
       "      <td>2339</td>\n",
       "      <td>455</td>\n",
       "      <td>400</td>\n",
       "      <td>2236</td>\n",
       "      <td>202467</td>\n",
       "      <td>254755</td>\n",
       "      <td>254397</td>\n",
       "      <td>53845</td>\n",
       "      <td>232422</td>\n",
       "      <td>254936</td>\n",
       "      <td>137640</td>\n",
       "      <td>378</td>\n",
       "      <td>378</td>\n",
       "      <td>21841</td>\n",
       "    </tr>\n",
       "  </tbody>\n",
       "</table>\n",
       "</div>"
      ],
      "text/plain": [
       "        4_WIRE 10_POINTS EXISTING_METERS NEW_METERS REMOVE_METERS  \\\n",
       "count   255024    255024          255024     255024        255024   \n",
       "unique      52        24             185        232           104   \n",
       "top          0         0               0          0             0   \n",
       "freq    240509    244077          207388     202642        225131   \n",
       "\n",
       "       TOTAL_METERS                             JOB_DESCRIPTION  \\\n",
       "count        255024                                      254846   \n",
       "unique          262                                      156202   \n",
       "top               0  INSTALLATION OF LIGHTING FOR SIDEWALK SHED   \n",
       "freq         192608                                        2339   \n",
       "\n",
       "            PERMIT_ISSUED_DATE          JOB_START_DATE  \\\n",
       "count                   223635                  255023   \n",
       "unique                    1451                    1489   \n",
       "top     05/12/2021 12:00:00 AM  05/12/2021 12:00:00 AM   \n",
       "freq                       455                     400   \n",
       "\n",
       "               COMPLETION_DATE FILING_FEE LEGALIZATION_FEE NOGOOD_CHECK_FEE  \\\n",
       "count                   255023     255024           255024           255024   \n",
       "unique                    2939          3              129                4   \n",
       "top     12/31/2021 12:00:00 AM         40                0                0   \n",
       "freq                      2236     202467           254755           254397   \n",
       "\n",
       "       TOTAL_BILLABLE_WORK_FEE AMOUNT_PAID AMOUNT_DUE PAYMENT_METHOD  \\\n",
       "count                   255024      255024     255024         218086   \n",
       "unique                    7478         137          8              2   \n",
       "top                          0          40          0    Credit Card   \n",
       "freq                     53845      232422     254936         137640   \n",
       "\n",
       "       GIS_LATITUDE GIS_LONGITUDE GIS_COUNCIL_DISTRICT  \n",
       "count        254715        254715               254715  \n",
       "unique        95354         95951                   51  \n",
       "top       40.723485    -73.848490                    4  \n",
       "freq            378           378                21841  "
      ]
     },
     "execution_count": 19,
     "metadata": {},
     "output_type": "execute_result"
    }
   ],
   "source": [
    "df[df.columns[60:80]].describe()"
   ]
  },
  {
   "cell_type": "code",
   "execution_count": 20,
   "id": "7ca0132b",
   "metadata": {},
   "outputs": [],
   "source": [
    "# GIS is the same"
   ]
  },
  {
   "cell_type": "code",
   "execution_count": null,
   "id": "da614759",
   "metadata": {},
   "outputs": [],
   "source": []
  },
  {
   "cell_type": "code",
   "execution_count": 21,
   "id": "be57323c",
   "metadata": {
    "scrolled": true
   },
   "outputs": [
    {
     "data": {
      "text/html": [
       "<div>\n",
       "<style scoped>\n",
       "    .dataframe tbody tr th:only-of-type {\n",
       "        vertical-align: middle;\n",
       "    }\n",
       "\n",
       "    .dataframe tbody tr th {\n",
       "        vertical-align: top;\n",
       "    }\n",
       "\n",
       "    .dataframe thead th {\n",
       "        text-align: right;\n",
       "    }\n",
       "</style>\n",
       "<table border=\"1\" class=\"dataframe\">\n",
       "  <thead>\n",
       "    <tr style=\"text-align: right;\">\n",
       "      <th></th>\n",
       "      <th>GIS_CENSUS_TRACT</th>\n",
       "      <th>GIS_BIN</th>\n",
       "      <th>GIS_BBL</th>\n",
       "      <th>GIS_NTA_NAME</th>\n",
       "    </tr>\n",
       "  </thead>\n",
       "  <tbody>\n",
       "    <tr>\n",
       "      <th>count</th>\n",
       "      <td>254715</td>\n",
       "      <td>252602</td>\n",
       "      <td>252602</td>\n",
       "      <td>254715</td>\n",
       "    </tr>\n",
       "    <tr>\n",
       "      <th>unique</th>\n",
       "      <td>1321</td>\n",
       "      <td>108103</td>\n",
       "      <td>105139</td>\n",
       "      <td>194</td>\n",
       "    </tr>\n",
       "    <tr>\n",
       "      <th>top</th>\n",
       "      <td>7</td>\n",
       "      <td>3000000</td>\n",
       "      <td>4031750001</td>\n",
       "      <td>Midtown-Midtown South</td>\n",
       "    </tr>\n",
       "    <tr>\n",
       "      <th>freq</th>\n",
       "      <td>1413</td>\n",
       "      <td>2756</td>\n",
       "      <td>1067</td>\n",
       "      <td>11698</td>\n",
       "    </tr>\n",
       "  </tbody>\n",
       "</table>\n",
       "</div>"
      ],
      "text/plain": [
       "       GIS_CENSUS_TRACT  GIS_BIN     GIS_BBL           GIS_NTA_NAME\n",
       "count            254715   252602      252602                 254715\n",
       "unique             1321   108103      105139                    194\n",
       "top                   7  3000000  4031750001  Midtown-Midtown South\n",
       "freq               1413     2756        1067                  11698"
      ]
     },
     "execution_count": 21,
     "metadata": {},
     "output_type": "execute_result"
    }
   ],
   "source": [
    "df[df.columns[80:100]].describe()"
   ]
  },
  {
   "cell_type": "code",
   "execution_count": 22,
   "id": "dc255a45",
   "metadata": {},
   "outputs": [],
   "source": [
    "# More GIS stuff"
   ]
  },
  {
   "cell_type": "code",
   "execution_count": 23,
   "id": "37c7be39",
   "metadata": {},
   "outputs": [
    {
     "data": {
      "text/plain": [
       "Index(['JOB_FILING_NUMBER', 'JOB_NUMBER', 'FILING_NUMBER', 'FILING_DATE',\n",
       "       'FILING_TYPE', 'FILING_STATUS', 'JOB_STATUS', 'HOUSE_NUMBER',\n",
       "       'STREET_NAME', 'BOROUGH', 'ZIP_CODE', 'BLOCK', 'LOT', 'BIN',\n",
       "       'COMMUNITY_BOARD', 'JOINT_VENTURE_WORK', 'BUILDING_USE_TYPE',\n",
       "       'APPLICANT_FIRST_NAME', 'APPLICANT_LAST_NAME', 'LICENSE_TYPE',\n",
       "       'LICENSE_NUMBER', 'FIRM_NAME', 'FIRM_NUMBER', 'FIRM_ADDRESS', 'CITY',\n",
       "       'STATE', 'ZIP', 'GENERAL_LIABILITY_COMPANY', 'GENERAL_LIABILITY_POLICY',\n",
       "       'GENERAL_LIABILITY_EXPIRATION_DATE', 'WORKER_COMP_COMPANY_NAME',\n",
       "       'WORKER_COMP_POLICY', 'WORKER_COMP_EXPIRATION_DATE',\n",
       "       'DISABILITY_COMPANY_NAME', 'DISABILITY_POLICY',\n",
       "       'DISABILITY_EXPIRATION_DATE', 'OWNER_FIRST_NAME', 'OWNER_LAST_NAME',\n",
       "       'TITLE', 'BUSINESS_NAME', 'OWNER_ADDRESS', 'OWNER_CITY', 'OWNER_STATE',\n",
       "       'OWNER_ZIP', 'OWNER_TYPE', 'AUTH_REP_FIRST_NAME', 'AUTH_REP_LAST_NAME',\n",
       "       'AUTH_REP_OWNER_RELATION', 'COO_RELATED', 'CONST_BIS_JOB_NUMBER',\n",
       "       'REMOVAL_OF_VIO_OR_OWNER', 'SVC_WORK_NOTIFY_UTILITY', 'GENERAL_WIRING',\n",
       "       'LIGHTING_WORK', 'TEMP_CONSTRUCTION_SVC', 'TEMP_LIGHT_POWER',\n",
       "       'HVAC_WIRING', 'BOILER_BURNER_WIRING', 'CATEGORY_WORK_LIST', '3_WIRE',\n",
       "       '4_WIRE', '10_POINTS', 'EXISTING_METERS', 'NEW_METERS', 'REMOVE_METERS',\n",
       "       'TOTAL_METERS', 'JOB_DESCRIPTION', 'PERMIT_ISSUED_DATE',\n",
       "       'JOB_START_DATE', 'COMPLETION_DATE', 'FILING_FEE', 'LEGALIZATION_FEE',\n",
       "       'NOGOOD_CHECK_FEE', 'TOTAL_BILLABLE_WORK_FEE', 'AMOUNT_PAID',\n",
       "       'AMOUNT_DUE', 'PAYMENT_METHOD', 'GIS_LATITUDE', 'GIS_LONGITUDE',\n",
       "       'GIS_COUNCIL_DISTRICT', 'GIS_CENSUS_TRACT', 'GIS_BIN', 'GIS_BBL',\n",
       "       'GIS_NTA_NAME'],\n",
       "      dtype='object')"
      ]
     },
     "execution_count": 23,
     "metadata": {},
     "output_type": "execute_result"
    }
   ],
   "source": [
    "df.columns"
   ]
  },
  {
   "cell_type": "markdown",
   "id": "036c318b",
   "metadata": {},
   "source": [
    "## Renaming columns"
   ]
  },
  {
   "cell_type": "code",
   "execution_count": 24,
   "id": "8736ed57",
   "metadata": {},
   "outputs": [
    {
     "data": {
      "text/plain": [
       "'\\ndf = df.rename(columns={\\n                        , \"JOB_S1_NO\": \"Job S1 #\"\\n                        , \"TOTAL_CONSTRUCTION_FLOOR_AREA\": \"Total Construction Floor Area\"\\n                        , \"WITHDRAWAL_FLAG\": \"Withdrawl Flag\"\\n                        , \"SIGNOFF_DATE\": \"Signoff Date\"\\n                        , \"SPECIAL_ACTION_STATUS\": \"Special Action Status\"\\n                        , \"SPECIAL_ACTION_DATE\": \"Special Action Date\"\\n                        , \"BUILDING_CLASS\": \"Building Class\"\\n                        , \"JOB_NO_GOOD_COUNT\": \"Job No Good Count\"\\n                        , \"GIS_LATITUDE\": \"GIS Latitude\"\\n                        , \"GIS_LONGITUDE\": \"GIS Longitude\"\\n                        , \"GIS_COUNCIL_DISTRICT\": \"GIS Council District\"\\n                        , \"GIS_CENSUS_TRACT\": \"GIS Census Tract\"\\n                        , \"GIS_NTA_NAME\": \"GIS NTA Name\"\\n                        , \"GIS_BIN\": \"GIS Bin\"\\n                        })\\n'"
      ]
     },
     "execution_count": 24,
     "metadata": {},
     "output_type": "execute_result"
    }
   ],
   "source": [
    "df = df.rename(columns={\n",
    "                          \"Owner'sPhone #\": \"Owner's Phone #\" \n",
    "                        , \"Owner'sHouse Street Name\": \"OWNER_ADDRESS\"\n",
    "                        , \"Paid\": \"Paid Date\"\n",
    "                        , \"Fully Paid\": \"Fully Paid Date\"\n",
    "                        , \"Assigned\": \"Assigned Date\"\n",
    "                        , \"Approved\": \"Approved Date\"\n",
    "                        , \"Job Status Descrp\": \"Job Status Description\"\n",
    "                        , \"Community - Board\": \"Community Board\"\n",
    "                        , \"Adult Estab\": \"Adult Establishment\"\n",
    "                        , \"Pre- Filing Date\": \"Pre-Filing Date\"\n",
    "                        , \"Total Est. Fee\": \"AMOUNT_DUE\"\n",
    "                        , \"Horizontal Enlrgmt\": \"Horizontal Enlargement\"\n",
    "                        , \"Vertical Enlrgmt\": \"Vertical Enlargement\"\n",
    "                        , \"ExistingNo. of Stories\": \"Existing # of Stories\"\n",
    "                        , \"Proposed No. of Stories\": \"Proposed # of Stories\"\n",
    "                        , \"Zoning Dist1\": \"Zoning District 1\"\n",
    "                        , \"Zoning Dist2\": \"Zoning District 2\"\n",
    "                        , \"Zoning Dist3\": \"Zoning District 3\"\n",
    "                        , \"City \": \"OWNER_CITY\"\n",
    "                        , \"State\": \"OWNER_STATE\"\n",
    "                        , \"Zip\": \"OWNER_ZIP\"\n",
    "                        , \"DOBRunDate\": \"DOB Run Date\"\n",
    "                       })\n",
    "\n",
    "#Lower cased but not sure if this is necessary\n",
    "'''\n",
    "df = df.rename(columns={\n",
    "                        , \"JOB_S1_NO\": \"Job S1 #\"\n",
    "                        , \"TOTAL_CONSTRUCTION_FLOOR_AREA\": \"Total Construction Floor Area\"\n",
    "                        , \"WITHDRAWAL_FLAG\": \"Withdrawl Flag\"\n",
    "                        , \"SIGNOFF_DATE\": \"Signoff Date\"\n",
    "                        , \"SPECIAL_ACTION_STATUS\": \"Special Action Status\"\n",
    "                        , \"SPECIAL_ACTION_DATE\": \"Special Action Date\"\n",
    "                        , \"BUILDING_CLASS\": \"Building Class\"\n",
    "                        , \"JOB_NO_GOOD_COUNT\": \"Job No Good Count\"\n",
    "                        , \"GIS_LATITUDE\": \"GIS Latitude\"\n",
    "                        , \"GIS_LONGITUDE\": \"GIS Longitude\"\n",
    "                        , \"GIS_COUNCIL_DISTRICT\": \"GIS Council District\"\n",
    "                        , \"GIS_CENSUS_TRACT\": \"GIS Census Tract\"\n",
    "                        , \"GIS_NTA_NAME\": \"GIS NTA Name\"\n",
    "                        , \"GIS_BIN\": \"GIS Bin\"\n",
    "                        })\n",
    "'''"
   ]
  },
  {
   "cell_type": "markdown",
   "id": "cad0fb12",
   "metadata": {},
   "source": [
    "#### Method to get an idea of the top 10 values of a column"
   ]
  },
  {
   "cell_type": "code",
   "execution_count": 25,
   "id": "f727735e",
   "metadata": {},
   "outputs": [],
   "source": [
    "def show_vals(column_name, show_rows=10, df=df):\n",
    "    print(\"Top {} {}:\\n\".format(show_rows, column_name))\n",
    "    print(df[column_name].value_counts(dropna=False)[:show_rows])\n",
    "    print()"
   ]
  },
  {
   "cell_type": "code",
   "execution_count": null,
   "id": "18e20ad5",
   "metadata": {},
   "outputs": [],
   "source": []
  },
  {
   "cell_type": "code",
   "execution_count": null,
   "id": "c2cfe04b",
   "metadata": {},
   "outputs": [],
   "source": []
  },
  {
   "cell_type": "markdown",
   "id": "96e571ca",
   "metadata": {},
   "source": [
    "### Examining JOB_NUMBERs (replaced Job # with JOB_NUMBERS)"
   ]
  },
  {
   "cell_type": "markdown",
   "id": "6484b157",
   "metadata": {},
   "source": [
    "Some repition in the JOB_NUMBER's, but nothing major. We will check some of the repeated JOB_NUMBERs to be sure they actually refer to the same jobs"
   ]
  },
  {
   "cell_type": "code",
   "execution_count": 26,
   "id": "13861d10",
   "metadata": {
    "scrolled": false
   },
   "outputs": [
    {
     "data": {
      "text/plain": [
       "M00017941    22\n",
       "M00458107    22\n",
       "M00165218    20\n",
       "M00017987    19\n",
       "M00017985    15\n",
       "             ..\n",
       "B00082117     1\n",
       "B00082119     1\n",
       "B00082121     1\n",
       "B00082126     1\n",
       "X00509967     1\n",
       "Name: JOB_NUMBER, Length: 219429, dtype: int64"
      ]
     },
     "execution_count": 26,
     "metadata": {},
     "output_type": "execute_result"
    }
   ],
   "source": [
    "df['JOB_NUMBER'].value_counts(dropna=False)"
   ]
  },
  {
   "cell_type": "markdown",
   "id": "7a645da6",
   "metadata": {},
   "source": [
    "Nothing weird looking here"
   ]
  },
  {
   "cell_type": "code",
   "execution_count": 27,
   "id": "1e747aee",
   "metadata": {},
   "outputs": [
    {
     "data": {
      "text/plain": [
       "'B00003100'"
      ]
     },
     "execution_count": 27,
     "metadata": {},
     "output_type": "execute_result"
    }
   ],
   "source": [
    "df['JOB_NUMBER'].min()"
   ]
  },
  {
   "cell_type": "code",
   "execution_count": 28,
   "id": "bbe4c029",
   "metadata": {},
   "outputs": [
    {
     "data": {
      "text/plain": [
       "'X00642889'"
      ]
     },
     "execution_count": 28,
     "metadata": {},
     "output_type": "execute_result"
    }
   ],
   "source": [
    "df['JOB_NUMBER'].max()"
   ]
  },
  {
   "cell_type": "markdown",
   "id": "825d8ec4",
   "metadata": {},
   "source": [
    "No JOB_NUMBERs starting with 0, so there are integer values, unlike Doc # which has values 01, 02, etc."
   ]
  },
  {
   "cell_type": "code",
   "execution_count": 29,
   "id": "88dcd031",
   "metadata": {
    "scrolled": false
   },
   "outputs": [
    {
     "data": {
      "text/html": [
       "<div>\n",
       "<style scoped>\n",
       "    .dataframe tbody tr th:only-of-type {\n",
       "        vertical-align: middle;\n",
       "    }\n",
       "\n",
       "    .dataframe tbody tr th {\n",
       "        vertical-align: top;\n",
       "    }\n",
       "\n",
       "    .dataframe thead th {\n",
       "        text-align: right;\n",
       "    }\n",
       "</style>\n",
       "<table border=\"1\" class=\"dataframe\">\n",
       "  <thead>\n",
       "    <tr style=\"text-align: right;\">\n",
       "      <th></th>\n",
       "      <th>JOB_FILING_NUMBER</th>\n",
       "      <th>JOB_NUMBER</th>\n",
       "      <th>FILING_NUMBER</th>\n",
       "      <th>FILING_DATE</th>\n",
       "      <th>FILING_TYPE</th>\n",
       "      <th>FILING_STATUS</th>\n",
       "      <th>JOB_STATUS</th>\n",
       "      <th>HOUSE_NUMBER</th>\n",
       "      <th>STREET_NAME</th>\n",
       "      <th>BOROUGH</th>\n",
       "      <th>...</th>\n",
       "      <th>AMOUNT_PAID</th>\n",
       "      <th>AMOUNT_DUE</th>\n",
       "      <th>PAYMENT_METHOD</th>\n",
       "      <th>GIS_LATITUDE</th>\n",
       "      <th>GIS_LONGITUDE</th>\n",
       "      <th>GIS_COUNCIL_DISTRICT</th>\n",
       "      <th>GIS_CENSUS_TRACT</th>\n",
       "      <th>GIS_BIN</th>\n",
       "      <th>GIS_BBL</th>\n",
       "      <th>GIS_NTA_NAME</th>\n",
       "    </tr>\n",
       "  </thead>\n",
       "  <tbody>\n",
       "  </tbody>\n",
       "</table>\n",
       "<p>0 rows × 84 columns</p>\n",
       "</div>"
      ],
      "text/plain": [
       "Empty DataFrame\n",
       "Columns: [JOB_FILING_NUMBER, JOB_NUMBER, FILING_NUMBER, FILING_DATE, FILING_TYPE, FILING_STATUS, JOB_STATUS, HOUSE_NUMBER, STREET_NAME, BOROUGH, ZIP_CODE, BLOCK, LOT, BIN, COMMUNITY_BOARD, JOINT_VENTURE_WORK, BUILDING_USE_TYPE, APPLICANT_FIRST_NAME, APPLICANT_LAST_NAME, LICENSE_TYPE, LICENSE_NUMBER, FIRM_NAME, FIRM_NUMBER, FIRM_ADDRESS, CITY, STATE, ZIP, GENERAL_LIABILITY_COMPANY, GENERAL_LIABILITY_POLICY, GENERAL_LIABILITY_EXPIRATION_DATE, WORKER_COMP_COMPANY_NAME, WORKER_COMP_POLICY, WORKER_COMP_EXPIRATION_DATE, DISABILITY_COMPANY_NAME, DISABILITY_POLICY, DISABILITY_EXPIRATION_DATE, OWNER_FIRST_NAME, OWNER_LAST_NAME, TITLE, BUSINESS_NAME, OWNER_ADDRESS, OWNER_CITY, OWNER_STATE, OWNER_ZIP, OWNER_TYPE, AUTH_REP_FIRST_NAME, AUTH_REP_LAST_NAME, AUTH_REP_OWNER_RELATION, COO_RELATED, CONST_BIS_JOB_NUMBER, REMOVAL_OF_VIO_OR_OWNER, SVC_WORK_NOTIFY_UTILITY, GENERAL_WIRING, LIGHTING_WORK, TEMP_CONSTRUCTION_SVC, TEMP_LIGHT_POWER, HVAC_WIRING, BOILER_BURNER_WIRING, CATEGORY_WORK_LIST, 3_WIRE, 4_WIRE, 10_POINTS, EXISTING_METERS, NEW_METERS, REMOVE_METERS, TOTAL_METERS, JOB_DESCRIPTION, PERMIT_ISSUED_DATE, JOB_START_DATE, COMPLETION_DATE, FILING_FEE, LEGALIZATION_FEE, NOGOOD_CHECK_FEE, TOTAL_BILLABLE_WORK_FEE, AMOUNT_PAID, AMOUNT_DUE, PAYMENT_METHOD, GIS_LATITUDE, GIS_LONGITUDE, GIS_COUNCIL_DISTRICT, GIS_CENSUS_TRACT, GIS_BIN, GIS_BBL, GIS_NTA_NAME]\n",
       "Index: []\n",
       "\n",
       "[0 rows x 84 columns]"
      ]
     },
     "execution_count": 29,
     "metadata": {},
     "output_type": "execute_result"
    }
   ],
   "source": [
    "df.loc[df['JOB_NUMBER'].str.startswith('0')]"
   ]
  },
  {
   "cell_type": "markdown",
   "id": "7d70444a",
   "metadata": {},
   "source": [
    "Fraction of Rows with unique job numbers"
   ]
  },
  {
   "cell_type": "code",
   "execution_count": 30,
   "id": "edb0c660",
   "metadata": {
    "scrolled": true
   },
   "outputs": [
    {
     "data": {
      "text/plain": [
       "0.8604249011857708"
      ]
     },
     "execution_count": 30,
     "metadata": {},
     "output_type": "execute_result"
    }
   ],
   "source": [
    "df['JOB_NUMBER'].nunique()/df['JOB_NUMBER'].count()"
   ]
  },
  {
   "cell_type": "markdown",
   "id": "d31343c7",
   "metadata": {},
   "source": [
    "Group by JOB_NUMBER and check if latitude and longitude are the same all the same for the job, which would indicate different instances of the JOB_NUMBER all refer to the same Job."
   ]
  },
  {
   "cell_type": "code",
   "execution_count": 31,
   "id": "756c36db",
   "metadata": {},
   "outputs": [],
   "source": [
    "group = df[['JOB_NUMBER', 'GIS_LATITUDE', 'GIS_LONGITUDE']].groupby('JOB_NUMBER')"
   ]
  },
  {
   "cell_type": "markdown",
   "id": "f2cbf5a8",
   "metadata": {},
   "source": [
    "This will take a little while to run"
   ]
  },
  {
   "cell_type": "code",
   "execution_count": 32,
   "id": "af8a56b8",
   "metadata": {},
   "outputs": [],
   "source": [
    "tranformed = group.aggregate(lambda x: x.unique().shape[0])"
   ]
  },
  {
   "cell_type": "markdown",
   "id": "29962eaf",
   "metadata": {},
   "source": [
    "Jobs with multiple latitude and longitudes:"
   ]
  },
  {
   "cell_type": "code",
   "execution_count": 33,
   "id": "fbe43081",
   "metadata": {},
   "outputs": [
    {
     "data": {
      "text/html": [
       "<div>\n",
       "<style scoped>\n",
       "    .dataframe tbody tr th:only-of-type {\n",
       "        vertical-align: middle;\n",
       "    }\n",
       "\n",
       "    .dataframe tbody tr th {\n",
       "        vertical-align: top;\n",
       "    }\n",
       "\n",
       "    .dataframe thead th {\n",
       "        text-align: right;\n",
       "    }\n",
       "</style>\n",
       "<table border=\"1\" class=\"dataframe\">\n",
       "  <thead>\n",
       "    <tr style=\"text-align: right;\">\n",
       "      <th></th>\n",
       "      <th>GIS_LATITUDE</th>\n",
       "      <th>GIS_LONGITUDE</th>\n",
       "    </tr>\n",
       "    <tr>\n",
       "      <th>JOB_NUMBER</th>\n",
       "      <th></th>\n",
       "      <th></th>\n",
       "    </tr>\n",
       "  </thead>\n",
       "  <tbody>\n",
       "    <tr>\n",
       "      <th>B00051005</th>\n",
       "      <td>2</td>\n",
       "      <td>2</td>\n",
       "    </tr>\n",
       "    <tr>\n",
       "      <th>M00110850</th>\n",
       "      <td>2</td>\n",
       "      <td>2</td>\n",
       "    </tr>\n",
       "    <tr>\n",
       "      <th>M00350920</th>\n",
       "      <td>2</td>\n",
       "      <td>2</td>\n",
       "    </tr>\n",
       "    <tr>\n",
       "      <th>M00350922</th>\n",
       "      <td>2</td>\n",
       "      <td>2</td>\n",
       "    </tr>\n",
       "    <tr>\n",
       "      <th>Q00069104</th>\n",
       "      <td>2</td>\n",
       "      <td>2</td>\n",
       "    </tr>\n",
       "    <tr>\n",
       "      <th>S00273177</th>\n",
       "      <td>2</td>\n",
       "      <td>2</td>\n",
       "    </tr>\n",
       "    <tr>\n",
       "      <th>X00374678</th>\n",
       "      <td>2</td>\n",
       "      <td>2</td>\n",
       "    </tr>\n",
       "  </tbody>\n",
       "</table>\n",
       "</div>"
      ],
      "text/plain": [
       "            GIS_LATITUDE  GIS_LONGITUDE\n",
       "JOB_NUMBER                             \n",
       "B00051005              2              2\n",
       "M00110850              2              2\n",
       "M00350920              2              2\n",
       "M00350922              2              2\n",
       "Q00069104              2              2\n",
       "S00273177              2              2\n",
       "X00374678              2              2"
      ]
     },
     "execution_count": 33,
     "metadata": {},
     "output_type": "execute_result"
    }
   ],
   "source": [
    "# 7 potential bad jobs\n",
    "tranformed.loc[(tranformed['GIS_LATITUDE']!=1)\n",
    "              |(tranformed['GIS_LONGITUDE']!=1)]"
   ]
  },
  {
   "cell_type": "code",
   "execution_count": 34,
   "id": "7169d97f",
   "metadata": {},
   "outputs": [],
   "source": [
    "potential_bad_jobs = list(tranformed.loc[(tranformed['GIS_LATITUDE']!=1)\n",
    "              |(tranformed['GIS_LONGITUDE']!=1)].index.unique())"
   ]
  },
  {
   "cell_type": "markdown",
   "id": "2918d0d3",
   "metadata": {},
   "source": [
    "Separate these into a temporary dataframe to play around with:"
   ]
  },
  {
   "cell_type": "code",
   "execution_count": 35,
   "id": "81034f11",
   "metadata": {},
   "outputs": [],
   "source": [
    "df_temp = df.loc[df['JOB_NUMBER'].isin(potential_bad_jobs)].copy()"
   ]
  },
  {
   "cell_type": "code",
   "execution_count": 36,
   "id": "8547deea",
   "metadata": {},
   "outputs": [],
   "source": [
    "df_temp = df_temp.sort_values(['JOB_NUMBER', 'GIS_LATITUDE', 'GIS_LONGITUDE'])"
   ]
  },
  {
   "cell_type": "markdown",
   "id": "3598f8c1",
   "metadata": {},
   "source": [
    "Most of these are just missing lat and long values.\n",
    "\n",
    "The others look to be Jobs that manage multiple houses/lots in a small area, so are probably correct"
   ]
  },
  {
   "cell_type": "code",
   "execution_count": 37,
   "id": "00c50a1d",
   "metadata": {
    "scrolled": true
   },
   "outputs": [
    {
     "data": {
      "text/html": [
       "<div>\n",
       "<style scoped>\n",
       "    .dataframe tbody tr th:only-of-type {\n",
       "        vertical-align: middle;\n",
       "    }\n",
       "\n",
       "    .dataframe tbody tr th {\n",
       "        vertical-align: top;\n",
       "    }\n",
       "\n",
       "    .dataframe thead th {\n",
       "        text-align: right;\n",
       "    }\n",
       "</style>\n",
       "<table border=\"1\" class=\"dataframe\">\n",
       "  <thead>\n",
       "    <tr style=\"text-align: right;\">\n",
       "      <th></th>\n",
       "      <th>JOB_FILING_NUMBER</th>\n",
       "      <th>JOB_NUMBER</th>\n",
       "      <th>FILING_NUMBER</th>\n",
       "      <th>FILING_DATE</th>\n",
       "      <th>FILING_TYPE</th>\n",
       "      <th>FILING_STATUS</th>\n",
       "      <th>JOB_STATUS</th>\n",
       "      <th>HOUSE_NUMBER</th>\n",
       "      <th>STREET_NAME</th>\n",
       "      <th>BOROUGH</th>\n",
       "      <th>...</th>\n",
       "      <th>AMOUNT_PAID</th>\n",
       "      <th>AMOUNT_DUE</th>\n",
       "      <th>PAYMENT_METHOD</th>\n",
       "      <th>GIS_LATITUDE</th>\n",
       "      <th>GIS_LONGITUDE</th>\n",
       "      <th>GIS_COUNCIL_DISTRICT</th>\n",
       "      <th>GIS_CENSUS_TRACT</th>\n",
       "      <th>GIS_BIN</th>\n",
       "      <th>GIS_BBL</th>\n",
       "      <th>GIS_NTA_NAME</th>\n",
       "    </tr>\n",
       "  </thead>\n",
       "  <tbody>\n",
       "    <tr>\n",
       "      <th>80646</th>\n",
       "      <td>B00051005-P1</td>\n",
       "      <td>B00051005</td>\n",
       "      <td>P1</td>\n",
       "      <td>06/22/2020 12:00:00 AM</td>\n",
       "      <td>PAA</td>\n",
       "      <td>Approved</td>\n",
       "      <td>Job in Process</td>\n",
       "      <td>1090</td>\n",
       "      <td>MYRTLE AVENUE</td>\n",
       "      <td>BROOKLYN</td>\n",
       "      <td>...</td>\n",
       "      <td>40</td>\n",
       "      <td>0</td>\n",
       "      <td>NaN</td>\n",
       "      <td>40.696771</td>\n",
       "      <td>-73.937006</td>\n",
       "      <td>36</td>\n",
       "      <td>287</td>\n",
       "      <td>3042894</td>\n",
       "      <td>3015860008</td>\n",
       "      <td>Stuyvesant Heights</td>\n",
       "    </tr>\n",
       "    <tr>\n",
       "      <th>80645</th>\n",
       "      <td>B00051005-I1-EL</td>\n",
       "      <td>B00051005</td>\n",
       "      <td>I1</td>\n",
       "      <td>06/08/2018 12:00:00 AM</td>\n",
       "      <td>New Job Filing</td>\n",
       "      <td>Complete</td>\n",
       "      <td>Job is complete</td>\n",
       "      <td>1092</td>\n",
       "      <td>MYRTLE AVENUE</td>\n",
       "      <td>BROOKLYN</td>\n",
       "      <td>...</td>\n",
       "      <td>40</td>\n",
       "      <td>0</td>\n",
       "      <td>Credit Card</td>\n",
       "      <td>40.696779</td>\n",
       "      <td>-73.936941</td>\n",
       "      <td>36</td>\n",
       "      <td>287</td>\n",
       "      <td>3000000</td>\n",
       "      <td>3015860008</td>\n",
       "      <td>Stuyvesant Heights</td>\n",
       "    </tr>\n",
       "    <tr>\n",
       "      <th>18039</th>\n",
       "      <td>M00350920-P1</td>\n",
       "      <td>M00350920</td>\n",
       "      <td>P1</td>\n",
       "      <td>05/21/2020 12:00:00 AM</td>\n",
       "      <td>PAA</td>\n",
       "      <td>Approved</td>\n",
       "      <td>Job in Process</td>\n",
       "      <td>601</td>\n",
       "      <td>WEST 29 STREET</td>\n",
       "      <td>MANHATTAN</td>\n",
       "      <td>...</td>\n",
       "      <td>40</td>\n",
       "      <td>0</td>\n",
       "      <td>NaN</td>\n",
       "      <td>40.752825</td>\n",
       "      <td>-74.004681</td>\n",
       "      <td>3</td>\n",
       "      <td>99</td>\n",
       "      <td>1012272</td>\n",
       "      <td>1006750012</td>\n",
       "      <td>Hudson Yards-Chelsea-Flatiron-Union Square</td>\n",
       "    </tr>\n",
       "    <tr>\n",
       "      <th>61597</th>\n",
       "      <td>M00350920-I1-EL</td>\n",
       "      <td>M00350920</td>\n",
       "      <td>I1</td>\n",
       "      <td>05/21/2020 12:00:00 AM</td>\n",
       "      <td>New Job Filing</td>\n",
       "      <td>Permit Issued</td>\n",
       "      <td>Job in Process</td>\n",
       "      <td>311</td>\n",
       "      <td>11 AVENUE</td>\n",
       "      <td>MANHATTAN</td>\n",
       "      <td>...</td>\n",
       "      <td>40</td>\n",
       "      <td>0</td>\n",
       "      <td>Credit Card</td>\n",
       "      <td>40.753012</td>\n",
       "      <td>-74.004017</td>\n",
       "      <td>3</td>\n",
       "      <td>99</td>\n",
       "      <td>1012273</td>\n",
       "      <td>1006750012</td>\n",
       "      <td>Hudson Yards-Chelsea-Flatiron-Union Square</td>\n",
       "    </tr>\n",
       "    <tr>\n",
       "      <th>18041</th>\n",
       "      <td>M00350922-P1</td>\n",
       "      <td>M00350922</td>\n",
       "      <td>P1</td>\n",
       "      <td>05/21/2020 12:00:00 AM</td>\n",
       "      <td>PAA</td>\n",
       "      <td>Approved</td>\n",
       "      <td>Job in Process</td>\n",
       "      <td>601</td>\n",
       "      <td>WEST 29 STREET</td>\n",
       "      <td>MANHATTAN</td>\n",
       "      <td>...</td>\n",
       "      <td>40</td>\n",
       "      <td>0</td>\n",
       "      <td>NaN</td>\n",
       "      <td>40.752825</td>\n",
       "      <td>-74.004681</td>\n",
       "      <td>3</td>\n",
       "      <td>99</td>\n",
       "      <td>1012272</td>\n",
       "      <td>1006750012</td>\n",
       "      <td>Hudson Yards-Chelsea-Flatiron-Union Square</td>\n",
       "    </tr>\n",
       "    <tr>\n",
       "      <th>61599</th>\n",
       "      <td>M00350922-I1-EL</td>\n",
       "      <td>M00350922</td>\n",
       "      <td>I1</td>\n",
       "      <td>05/21/2020 12:00:00 AM</td>\n",
       "      <td>New Job Filing</td>\n",
       "      <td>Permit Issued</td>\n",
       "      <td>Job in Process</td>\n",
       "      <td>311</td>\n",
       "      <td>11 AVENUE</td>\n",
       "      <td>MANHATTAN</td>\n",
       "      <td>...</td>\n",
       "      <td>40</td>\n",
       "      <td>0</td>\n",
       "      <td>Credit Card</td>\n",
       "      <td>40.753012</td>\n",
       "      <td>-74.004017</td>\n",
       "      <td>3</td>\n",
       "      <td>99</td>\n",
       "      <td>1012273</td>\n",
       "      <td>1006750012</td>\n",
       "      <td>Hudson Yards-Chelsea-Flatiron-Union Square</td>\n",
       "    </tr>\n",
       "    <tr>\n",
       "      <th>193496</th>\n",
       "      <td>Q00069104-P1</td>\n",
       "      <td>Q00069104</td>\n",
       "      <td>P1</td>\n",
       "      <td>08/08/2018 12:00:00 AM</td>\n",
       "      <td>PAA</td>\n",
       "      <td>Approved</td>\n",
       "      <td>Job in Process</td>\n",
       "      <td>146-34</td>\n",
       "      <td>GEORGIA ROAD</td>\n",
       "      <td>QUEENS</td>\n",
       "      <td>...</td>\n",
       "      <td>40</td>\n",
       "      <td>0</td>\n",
       "      <td>NaN</td>\n",
       "      <td>40.754569</td>\n",
       "      <td>-73.815841</td>\n",
       "      <td>20</td>\n",
       "      <td>1201</td>\n",
       "      <td>4117558</td>\n",
       "      <td>4052060017</td>\n",
       "      <td>East Flushing</td>\n",
       "    </tr>\n",
       "    <tr>\n",
       "      <th>193495</th>\n",
       "      <td>Q00069104-I1-EL</td>\n",
       "      <td>Q00069104</td>\n",
       "      <td>I1</td>\n",
       "      <td>08/08/2018 12:00:00 AM</td>\n",
       "      <td>New Job Filing</td>\n",
       "      <td>Cancel</td>\n",
       "      <td>Inspection not complete due to withdrawal</td>\n",
       "      <td>146-36</td>\n",
       "      <td>GEORGIA ROAD</td>\n",
       "      <td>QUEENS</td>\n",
       "      <td>...</td>\n",
       "      <td>40</td>\n",
       "      <td>0</td>\n",
       "      <td>Credit Card</td>\n",
       "      <td>40.754583</td>\n",
       "      <td>-73.815819</td>\n",
       "      <td>20</td>\n",
       "      <td>1201</td>\n",
       "      <td>4000000</td>\n",
       "      <td>4052060017</td>\n",
       "      <td>East Flushing</td>\n",
       "    </tr>\n",
       "    <tr>\n",
       "      <th>251745</th>\n",
       "      <td>X00374678-P1</td>\n",
       "      <td>X00374678</td>\n",
       "      <td>P1</td>\n",
       "      <td>07/23/2020 12:00:00 AM</td>\n",
       "      <td>PAA</td>\n",
       "      <td>Approved</td>\n",
       "      <td>Job in Process</td>\n",
       "      <td>423</td>\n",
       "      <td>WESTCHESTER AVENUE</td>\n",
       "      <td>BRONX</td>\n",
       "      <td>...</td>\n",
       "      <td>40</td>\n",
       "      <td>0</td>\n",
       "      <td>NaN</td>\n",
       "      <td>40.816467</td>\n",
       "      <td>-73.916068</td>\n",
       "      <td>17</td>\n",
       "      <td>71</td>\n",
       "      <td>2000000</td>\n",
       "      <td>2023620025</td>\n",
       "      <td>Melrose South-Mott Haven North</td>\n",
       "    </tr>\n",
       "    <tr>\n",
       "      <th>251746</th>\n",
       "      <td>X00374678-P2</td>\n",
       "      <td>X00374678</td>\n",
       "      <td>P2</td>\n",
       "      <td>08/12/2020 12:00:00 AM</td>\n",
       "      <td>PAA</td>\n",
       "      <td>Approved</td>\n",
       "      <td>Job in Process</td>\n",
       "      <td>423</td>\n",
       "      <td>WESTCHESTER AVENUE</td>\n",
       "      <td>BRONX</td>\n",
       "      <td>...</td>\n",
       "      <td>40</td>\n",
       "      <td>0</td>\n",
       "      <td>NaN</td>\n",
       "      <td>40.816467</td>\n",
       "      <td>-73.916068</td>\n",
       "      <td>17</td>\n",
       "      <td>71</td>\n",
       "      <td>2000000</td>\n",
       "      <td>2023620025</td>\n",
       "      <td>Melrose South-Mott Haven North</td>\n",
       "    </tr>\n",
       "  </tbody>\n",
       "</table>\n",
       "<p>10 rows × 84 columns</p>\n",
       "</div>"
      ],
      "text/plain": [
       "       JOB_FILING_NUMBER JOB_NUMBER FILING_NUMBER             FILING_DATE  \\\n",
       "80646       B00051005-P1  B00051005            P1  06/22/2020 12:00:00 AM   \n",
       "80645    B00051005-I1-EL  B00051005            I1  06/08/2018 12:00:00 AM   \n",
       "18039       M00350920-P1  M00350920            P1  05/21/2020 12:00:00 AM   \n",
       "61597    M00350920-I1-EL  M00350920            I1  05/21/2020 12:00:00 AM   \n",
       "18041       M00350922-P1  M00350922            P1  05/21/2020 12:00:00 AM   \n",
       "61599    M00350922-I1-EL  M00350922            I1  05/21/2020 12:00:00 AM   \n",
       "193496      Q00069104-P1  Q00069104            P1  08/08/2018 12:00:00 AM   \n",
       "193495   Q00069104-I1-EL  Q00069104            I1  08/08/2018 12:00:00 AM   \n",
       "251745      X00374678-P1  X00374678            P1  07/23/2020 12:00:00 AM   \n",
       "251746      X00374678-P2  X00374678            P2  08/12/2020 12:00:00 AM   \n",
       "\n",
       "           FILING_TYPE  FILING_STATUS  \\\n",
       "80646              PAA       Approved   \n",
       "80645   New Job Filing       Complete   \n",
       "18039              PAA       Approved   \n",
       "61597   New Job Filing  Permit Issued   \n",
       "18041              PAA       Approved   \n",
       "61599   New Job Filing  Permit Issued   \n",
       "193496             PAA       Approved   \n",
       "193495  New Job Filing         Cancel   \n",
       "251745             PAA       Approved   \n",
       "251746             PAA       Approved   \n",
       "\n",
       "                                       JOB_STATUS HOUSE_NUMBER  \\\n",
       "80646                              Job in Process         1090   \n",
       "80645                             Job is complete         1092   \n",
       "18039                              Job in Process          601   \n",
       "61597                              Job in Process          311   \n",
       "18041                              Job in Process          601   \n",
       "61599                              Job in Process          311   \n",
       "193496                             Job in Process       146-34   \n",
       "193495  Inspection not complete due to withdrawal       146-36   \n",
       "251745                             Job in Process          423   \n",
       "251746                             Job in Process          423   \n",
       "\n",
       "               STREET_NAME    BOROUGH  ... AMOUNT_PAID AMOUNT_DUE  \\\n",
       "80646        MYRTLE AVENUE   BROOKLYN  ...          40          0   \n",
       "80645        MYRTLE AVENUE   BROOKLYN  ...          40          0   \n",
       "18039       WEST 29 STREET  MANHATTAN  ...          40          0   \n",
       "61597            11 AVENUE  MANHATTAN  ...          40          0   \n",
       "18041       WEST 29 STREET  MANHATTAN  ...          40          0   \n",
       "61599            11 AVENUE  MANHATTAN  ...          40          0   \n",
       "193496        GEORGIA ROAD     QUEENS  ...          40          0   \n",
       "193495        GEORGIA ROAD     QUEENS  ...          40          0   \n",
       "251745  WESTCHESTER AVENUE      BRONX  ...          40          0   \n",
       "251746  WESTCHESTER AVENUE      BRONX  ...          40          0   \n",
       "\n",
       "       PAYMENT_METHOD GIS_LATITUDE GIS_LONGITUDE GIS_COUNCIL_DISTRICT  \\\n",
       "80646             NaN    40.696771    -73.937006                   36   \n",
       "80645     Credit Card    40.696779    -73.936941                   36   \n",
       "18039             NaN    40.752825    -74.004681                    3   \n",
       "61597     Credit Card    40.753012    -74.004017                    3   \n",
       "18041             NaN    40.752825    -74.004681                    3   \n",
       "61599     Credit Card    40.753012    -74.004017                    3   \n",
       "193496            NaN    40.754569    -73.815841                   20   \n",
       "193495    Credit Card    40.754583    -73.815819                   20   \n",
       "251745            NaN    40.816467    -73.916068                   17   \n",
       "251746            NaN    40.816467    -73.916068                   17   \n",
       "\n",
       "       GIS_CENSUS_TRACT  GIS_BIN     GIS_BBL  \\\n",
       "80646               287  3042894  3015860008   \n",
       "80645               287  3000000  3015860008   \n",
       "18039                99  1012272  1006750012   \n",
       "61597                99  1012273  1006750012   \n",
       "18041                99  1012272  1006750012   \n",
       "61599                99  1012273  1006750012   \n",
       "193496             1201  4117558  4052060017   \n",
       "193495             1201  4000000  4052060017   \n",
       "251745               71  2000000  2023620025   \n",
       "251746               71  2000000  2023620025   \n",
       "\n",
       "                                      GIS_NTA_NAME  \n",
       "80646                           Stuyvesant Heights  \n",
       "80645                           Stuyvesant Heights  \n",
       "18039   Hudson Yards-Chelsea-Flatiron-Union Square  \n",
       "61597   Hudson Yards-Chelsea-Flatiron-Union Square  \n",
       "18041   Hudson Yards-Chelsea-Flatiron-Union Square  \n",
       "61599   Hudson Yards-Chelsea-Flatiron-Union Square  \n",
       "193496                               East Flushing  \n",
       "193495                               East Flushing  \n",
       "251745              Melrose South-Mott Haven North  \n",
       "251746              Melrose South-Mott Haven North  \n",
       "\n",
       "[10 rows x 84 columns]"
      ]
     },
     "execution_count": 37,
     "metadata": {},
     "output_type": "execute_result"
    }
   ],
   "source": [
    "df_temp[df_temp.duplicated(subset=['JOB_NUMBER', 'BLOCK', 'LOT', 'BIN'], keep=False)]"
   ]
  },
  {
   "cell_type": "markdown",
   "id": "e3760a92",
   "metadata": {},
   "source": [
    "#### Later, after we have cleaned more values, we will fill these missing values by JOB_NUMBER"
   ]
  },
  {
   "cell_type": "markdown",
   "id": "21660f80",
   "metadata": {},
   "source": [
    "Remove Jobs we know to be just missing data from the list of bad jobs"
   ]
  },
  {
   "cell_type": "code",
   "execution_count": 38,
   "id": "345a8a5b",
   "metadata": {},
   "outputs": [],
   "source": [
    "not_bad_jobs = df_temp[df_temp.duplicated(subset=['JOB_NUMBER', 'BLOCK', 'LOT', 'BIN'], keep=False)]['JOB_NUMBER'].unique()"
   ]
  },
  {
   "cell_type": "code",
   "execution_count": 39,
   "id": "ba76498b",
   "metadata": {},
   "outputs": [],
   "source": [
    "df_temp = df_temp.loc[~df_temp['JOB_NUMBER'].isin(not_bad_jobs)]"
   ]
  },
  {
   "cell_type": "markdown",
   "id": "173dd3f4",
   "metadata": {},
   "source": [
    "All of these are jobs that handle multiple lots or HOUSE_NUMBERs, which explains why the lat/long change \n",
    "\n",
    "JOB_NUMBER 122171130 and 122222638 may be exact copies of each other though"
   ]
  },
  {
   "cell_type": "code",
   "execution_count": 40,
   "id": "c9398b7b",
   "metadata": {
    "scrolled": false
   },
   "outputs": [
    {
     "data": {
      "text/html": [
       "<div>\n",
       "<style scoped>\n",
       "    .dataframe tbody tr th:only-of-type {\n",
       "        vertical-align: middle;\n",
       "    }\n",
       "\n",
       "    .dataframe tbody tr th {\n",
       "        vertical-align: top;\n",
       "    }\n",
       "\n",
       "    .dataframe thead th {\n",
       "        text-align: right;\n",
       "    }\n",
       "</style>\n",
       "<table border=\"1\" class=\"dataframe\">\n",
       "  <thead>\n",
       "    <tr style=\"text-align: right;\">\n",
       "      <th></th>\n",
       "      <th>JOB_FILING_NUMBER</th>\n",
       "      <th>JOB_NUMBER</th>\n",
       "      <th>FILING_NUMBER</th>\n",
       "      <th>FILING_DATE</th>\n",
       "      <th>FILING_TYPE</th>\n",
       "      <th>FILING_STATUS</th>\n",
       "      <th>JOB_STATUS</th>\n",
       "      <th>HOUSE_NUMBER</th>\n",
       "      <th>STREET_NAME</th>\n",
       "      <th>BOROUGH</th>\n",
       "      <th>...</th>\n",
       "      <th>AMOUNT_PAID</th>\n",
       "      <th>AMOUNT_DUE</th>\n",
       "      <th>PAYMENT_METHOD</th>\n",
       "      <th>GIS_LATITUDE</th>\n",
       "      <th>GIS_LONGITUDE</th>\n",
       "      <th>GIS_COUNCIL_DISTRICT</th>\n",
       "      <th>GIS_CENSUS_TRACT</th>\n",
       "      <th>GIS_BIN</th>\n",
       "      <th>GIS_BBL</th>\n",
       "      <th>GIS_NTA_NAME</th>\n",
       "    </tr>\n",
       "  </thead>\n",
       "  <tbody>\n",
       "    <tr>\n",
       "      <th>10611</th>\n",
       "      <td>M00110850-I1-EL</td>\n",
       "      <td>M00110850</td>\n",
       "      <td>I1</td>\n",
       "      <td>12/17/2018 12:00:00 AM</td>\n",
       "      <td>New Job Filing</td>\n",
       "      <td>Permit Issued</td>\n",
       "      <td>Job in Process</td>\n",
       "      <td>135</td>\n",
       "      <td>SULLIVAN STREET</td>\n",
       "      <td>MANHATTAN</td>\n",
       "      <td>...</td>\n",
       "      <td>40</td>\n",
       "      <td>0</td>\n",
       "      <td>Credit Card</td>\n",
       "      <td>40.726753</td>\n",
       "      <td>-74.002121</td>\n",
       "      <td>3</td>\n",
       "      <td>49</td>\n",
       "      <td>1008039</td>\n",
       "      <td>1005170001</td>\n",
       "      <td>SoHo-TriBeCa-Civic Center-Little Italy</td>\n",
       "    </tr>\n",
       "    <tr>\n",
       "      <th>144112</th>\n",
       "      <td>M00110850-P1</td>\n",
       "      <td>M00110850</td>\n",
       "      <td>P1</td>\n",
       "      <td>12/29/2018 12:00:00 AM</td>\n",
       "      <td>PAA</td>\n",
       "      <td>Approved</td>\n",
       "      <td>Job in Process</td>\n",
       "      <td>77-17</td>\n",
       "      <td>QUEENS BOULEVARD</td>\n",
       "      <td>QUEENS</td>\n",
       "      <td>...</td>\n",
       "      <td>40</td>\n",
       "      <td>0</td>\n",
       "      <td>NaN</td>\n",
       "      <td>40.738535</td>\n",
       "      <td>-73.886674</td>\n",
       "      <td>25</td>\n",
       "      <td>485</td>\n",
       "      <td>4038413</td>\n",
       "      <td>4015360107</td>\n",
       "      <td>Elmhurst-Maspeth</td>\n",
       "    </tr>\n",
       "    <tr>\n",
       "      <th>35478</th>\n",
       "      <td>S00273177-P1</td>\n",
       "      <td>S00273177</td>\n",
       "      <td>P1</td>\n",
       "      <td>09/29/2020 12:00:00 AM</td>\n",
       "      <td>PAA</td>\n",
       "      <td>Approved</td>\n",
       "      <td>Job in Process</td>\n",
       "      <td>669</td>\n",
       "      <td>CASTLETON AVENUE</td>\n",
       "      <td>STATEN ISLAND</td>\n",
       "      <td>...</td>\n",
       "      <td>40</td>\n",
       "      <td>0</td>\n",
       "      <td>NaN</td>\n",
       "      <td>40.634709</td>\n",
       "      <td>-74.103894</td>\n",
       "      <td>49</td>\n",
       "      <td>67</td>\n",
       "      <td>5002229</td>\n",
       "      <td>5001010002</td>\n",
       "      <td>New Brighton-Silver Lake</td>\n",
       "    </tr>\n",
       "    <tr>\n",
       "      <th>233719</th>\n",
       "      <td>S00273177-I1-EL</td>\n",
       "      <td>S00273177</td>\n",
       "      <td>I1</td>\n",
       "      <td>11/27/2019 12:00:00 AM</td>\n",
       "      <td>New Job Filing</td>\n",
       "      <td>Complete</td>\n",
       "      <td>Job is complete</td>\n",
       "      <td>267P</td>\n",
       "      <td>KISSEL AVENUE</td>\n",
       "      <td>STATEN ISLAND</td>\n",
       "      <td>...</td>\n",
       "      <td>40</td>\n",
       "      <td>0</td>\n",
       "      <td>Check</td>\n",
       "      <td>40.637881</td>\n",
       "      <td>-74.104591</td>\n",
       "      <td>49</td>\n",
       "      <td>67</td>\n",
       "      <td>NaN</td>\n",
       "      <td>NaN</td>\n",
       "      <td>New Brighton-Silver Lake</td>\n",
       "    </tr>\n",
       "  </tbody>\n",
       "</table>\n",
       "<p>4 rows × 84 columns</p>\n",
       "</div>"
      ],
      "text/plain": [
       "       JOB_FILING_NUMBER JOB_NUMBER FILING_NUMBER             FILING_DATE  \\\n",
       "10611    M00110850-I1-EL  M00110850            I1  12/17/2018 12:00:00 AM   \n",
       "144112      M00110850-P1  M00110850            P1  12/29/2018 12:00:00 AM   \n",
       "35478       S00273177-P1  S00273177            P1  09/29/2020 12:00:00 AM   \n",
       "233719   S00273177-I1-EL  S00273177            I1  11/27/2019 12:00:00 AM   \n",
       "\n",
       "           FILING_TYPE  FILING_STATUS       JOB_STATUS HOUSE_NUMBER  \\\n",
       "10611   New Job Filing  Permit Issued   Job in Process          135   \n",
       "144112             PAA       Approved   Job in Process        77-17   \n",
       "35478              PAA       Approved   Job in Process          669   \n",
       "233719  New Job Filing       Complete  Job is complete         267P   \n",
       "\n",
       "             STREET_NAME        BOROUGH  ... AMOUNT_PAID AMOUNT_DUE  \\\n",
       "10611    SULLIVAN STREET      MANHATTAN  ...          40          0   \n",
       "144112  QUEENS BOULEVARD         QUEENS  ...          40          0   \n",
       "35478   CASTLETON AVENUE  STATEN ISLAND  ...          40          0   \n",
       "233719     KISSEL AVENUE  STATEN ISLAND  ...          40          0   \n",
       "\n",
       "       PAYMENT_METHOD GIS_LATITUDE GIS_LONGITUDE GIS_COUNCIL_DISTRICT  \\\n",
       "10611     Credit Card    40.726753    -74.002121                    3   \n",
       "144112            NaN    40.738535    -73.886674                   25   \n",
       "35478             NaN    40.634709    -74.103894                   49   \n",
       "233719          Check    40.637881    -74.104591                   49   \n",
       "\n",
       "       GIS_CENSUS_TRACT  GIS_BIN     GIS_BBL  \\\n",
       "10611                49  1008039  1005170001   \n",
       "144112              485  4038413  4015360107   \n",
       "35478                67  5002229  5001010002   \n",
       "233719               67      NaN         NaN   \n",
       "\n",
       "                                  GIS_NTA_NAME  \n",
       "10611   SoHo-TriBeCa-Civic Center-Little Italy  \n",
       "144112                        Elmhurst-Maspeth  \n",
       "35478                 New Brighton-Silver Lake  \n",
       "233719                New Brighton-Silver Lake  \n",
       "\n",
       "[4 rows x 84 columns]"
      ]
     },
     "execution_count": 40,
     "metadata": {},
     "output_type": "execute_result"
    }
   ],
   "source": [
    "df_temp"
   ]
  },
  {
   "cell_type": "code",
   "execution_count": 41,
   "id": "b177ba62",
   "metadata": {},
   "outputs": [],
   "source": [
    "df_temp = df_temp.loc[(df_temp['JOB_NUMBER'].isin(['122171130', '122222638']))]"
   ]
  },
  {
   "cell_type": "markdown",
   "id": "a8de02e9",
   "metadata": {},
   "source": [
    "Latest action date is different, so its probably differnt but very similar jobs "
   ]
  },
  {
   "cell_type": "code",
   "execution_count": 42,
   "id": "c0b6abb3",
   "metadata": {
    "scrolled": true
   },
   "outputs": [
    {
     "data": {
      "text/html": [
       "<div>\n",
       "<style scoped>\n",
       "    .dataframe tbody tr th:only-of-type {\n",
       "        vertical-align: middle;\n",
       "    }\n",
       "\n",
       "    .dataframe tbody tr th {\n",
       "        vertical-align: top;\n",
       "    }\n",
       "\n",
       "    .dataframe thead th {\n",
       "        text-align: right;\n",
       "    }\n",
       "</style>\n",
       "<table border=\"1\" class=\"dataframe\">\n",
       "  <thead>\n",
       "    <tr style=\"text-align: right;\">\n",
       "      <th></th>\n",
       "      <th>JOB_FILING_NUMBER</th>\n",
       "      <th>JOB_NUMBER</th>\n",
       "      <th>FILING_NUMBER</th>\n",
       "      <th>FILING_DATE</th>\n",
       "      <th>FILING_TYPE</th>\n",
       "      <th>FILING_STATUS</th>\n",
       "      <th>JOB_STATUS</th>\n",
       "      <th>HOUSE_NUMBER</th>\n",
       "      <th>STREET_NAME</th>\n",
       "      <th>BOROUGH</th>\n",
       "      <th>ZIP_CODE</th>\n",
       "      <th>BLOCK</th>\n",
       "      <th>LOT</th>\n",
       "      <th>BIN</th>\n",
       "      <th>COMMUNITY_BOARD</th>\n",
       "      <th>JOINT_VENTURE_WORK</th>\n",
       "      <th>BUILDING_USE_TYPE</th>\n",
       "      <th>APPLICANT_FIRST_NAME</th>\n",
       "      <th>APPLICANT_LAST_NAME</th>\n",
       "      <th>LICENSE_TYPE</th>\n",
       "    </tr>\n",
       "  </thead>\n",
       "  <tbody>\n",
       "  </tbody>\n",
       "</table>\n",
       "</div>"
      ],
      "text/plain": [
       "Empty DataFrame\n",
       "Columns: [JOB_FILING_NUMBER, JOB_NUMBER, FILING_NUMBER, FILING_DATE, FILING_TYPE, FILING_STATUS, JOB_STATUS, HOUSE_NUMBER, STREET_NAME, BOROUGH, ZIP_CODE, BLOCK, LOT, BIN, COMMUNITY_BOARD, JOINT_VENTURE_WORK, BUILDING_USE_TYPE, APPLICANT_FIRST_NAME, APPLICANT_LAST_NAME, LICENSE_TYPE]\n",
       "Index: []"
      ]
     },
     "execution_count": 42,
     "metadata": {},
     "output_type": "execute_result"
    }
   ],
   "source": [
    "df_temp[df_temp.columns[0:20]]\n"
   ]
  },
  {
   "cell_type": "code",
   "execution_count": null,
   "id": "8094e6e2",
   "metadata": {},
   "outputs": [],
   "source": []
  },
  {
   "cell_type": "markdown",
   "id": "45ce4682",
   "metadata": {},
   "source": [
    "Check if any JOB_NUMBERs have non-digit values"
   ]
  },
  {
   "cell_type": "code",
   "execution_count": 43,
   "id": "54873e43",
   "metadata": {},
   "outputs": [],
   "source": [
    "df['JOB_NUMBER'] = df['JOB_NUMBER'].astype('str')"
   ]
  },
  {
   "cell_type": "code",
   "execution_count": 44,
   "id": "9138612c",
   "metadata": {},
   "outputs": [
    {
     "data": {
      "text/plain": [
       "0         B00083823\n",
       "1         B00143086\n",
       "2         B00262288\n",
       "3         B00304119\n",
       "4         B00304755\n",
       "            ...    \n",
       "255019    X00509655\n",
       "255020    X00509920\n",
       "255021    X00509978\n",
       "255022    X00509951\n",
       "255023    X00509967\n",
       "Name: JOB_NUMBER, Length: 255024, dtype: object"
      ]
     },
     "execution_count": 44,
     "metadata": {},
     "output_type": "execute_result"
    }
   ],
   "source": [
    "df.loc[(~df['JOB_NUMBER'].isna())\n",
    "       &(~df['JOB_NUMBER'].str.isdigit())]['JOB_NUMBER']"
   ]
  },
  {
   "cell_type": "markdown",
   "id": "78520b3d",
   "metadata": {},
   "source": [
    "All JOB_NUMBERs entirely composed of digits, so we cast them to ints"
   ]
  },
  {
   "cell_type": "code",
   "execution_count": 45,
   "id": "22735cbb",
   "metadata": {
    "scrolled": false
   },
   "outputs": [
    {
     "data": {
      "text/plain": [
       "count        255024\n",
       "unique       219429\n",
       "top       M00017941\n",
       "freq             22\n",
       "Name: JOB_NUMBER, dtype: object"
      ]
     },
     "execution_count": 45,
     "metadata": {},
     "output_type": "execute_result"
    }
   ],
   "source": [
    "df['JOB_NUMBER'].describe()"
   ]
  },
  {
   "cell_type": "markdown",
   "id": "536b4ed7",
   "metadata": {},
   "source": [
    "## Examining and reparing HOUSE_NUMBERs"
   ]
  },
  {
   "cell_type": "markdown",
   "id": "9e29b4ce",
   "metadata": {},
   "source": [
    "HOUSE_NUMBER's appear to be mostly ints\n",
    "\n",
    "However, there are legitimate house numbers with dashes so we'll have to make them strings"
   ]
  },
  {
   "cell_type": "code",
   "execution_count": 46,
   "id": "6f8b2a5c",
   "metadata": {
    "scrolled": true
   },
   "outputs": [
    {
     "name": "stdout",
     "output_type": "stream",
     "text": [
      "Top 10 HOUSE_NUMBER:\n",
      "\n",
      "1      1357\n",
      "200    1308\n",
      "10     1007\n",
      "100     992\n",
      "30      918\n",
      "150     852\n",
      "15      838\n",
      "50      827\n",
      "40      800\n",
      "25      788\n",
      "Name: HOUSE_NUMBER, dtype: int64\n",
      "\n"
     ]
    }
   ],
   "source": [
    "show_vals('HOUSE_NUMBER', show_rows=10)"
   ]
  },
  {
   "cell_type": "markdown",
   "id": "284da5f6",
   "metadata": {},
   "source": [
    "Replace NaN values with empty strings, then convert column to string, and make everything uppercase\n"
   ]
  },
  {
   "cell_type": "code",
   "execution_count": 47,
   "id": "138f686e",
   "metadata": {},
   "outputs": [],
   "source": [
    "df['HOUSE_NUMBER'].fillna('', inplace=True)\n",
    "df['HOUSE_NUMBER'] = df['HOUSE_NUMBER'].astype('str')\n",
    "df['HOUSE_NUMBER'] = df['HOUSE_NUMBER'].str.upper()"
   ]
  },
  {
   "cell_type": "markdown",
   "id": "a28bea42",
   "metadata": {},
   "source": [
    "Check for numbers spelled out as words"
   ]
  },
  {
   "cell_type": "code",
   "execution_count": 48,
   "id": "c42ada5b",
   "metadata": {
    "scrolled": true
   },
   "outputs": [
    {
     "data": {
      "text/plain": [
       "6714        ONE\n",
       "12076       ONE\n",
       "12808       ONE\n",
       "13517     SEVEN\n",
       "13890       TEN\n",
       "17854       ONE\n",
       "21849       ONE\n",
       "23969       ONE\n",
       "29671       ONE\n",
       "39028       ONE\n",
       "51566       ONE\n",
       "51567       ONE\n",
       "51766       ONE\n",
       "53639       ONE\n",
       "56620       ONE\n",
       "57119       ONE\n",
       "66504       ONE\n",
       "95035       ONE\n",
       "109601      ONE\n",
       "111614      ONE\n",
       "112391      ONE\n",
       "113643      ONE\n",
       "124382      ONE\n",
       "133203      ONE\n",
       "134857      ONE\n",
       "136607      ONE\n",
       "145251      ONE\n",
       "145491      ONE\n",
       "145493      ONE\n",
       "147281      ONE\n",
       "147282      ONE\n",
       "156358      ONE\n",
       "157334      ONE\n",
       "157835      ONE\n",
       "164055      ONE\n",
       "167167      ONE\n",
       "167168      ONE\n",
       "170095      ONE\n",
       "170380      ONE\n",
       "171477      ONE\n",
       "173096      ONE\n",
       "177573      ONE\n",
       "177706      ONE\n",
       "178091      ONE\n",
       "178245      ONE\n",
       "181545      ONE\n",
       "182433      ONE\n",
       "182950      ONE\n",
       "183107      SIX\n",
       "183111    SEVEN\n",
       "183112    SEVEN\n",
       "183113    SEVEN\n",
       "183286      ONE\n",
       "183474      ONE\n",
       "216561      ONE\n",
       "221000      ONE\n",
       "221003      ONE\n",
       "Name: HOUSE_NUMBER, dtype: object"
      ]
     },
     "execution_count": 48,
     "metadata": {},
     "output_type": "execute_result"
    }
   ],
   "source": [
    "df.loc[(~df['HOUSE_NUMBER'].isna())\n",
    "       &(df['HOUSE_NUMBER'].str.isalpha())]['HOUSE_NUMBER']"
   ]
  },
  {
   "cell_type": "markdown",
   "id": "896bb16f",
   "metadata": {},
   "source": [
    "Maybe the HOUSE_NUMBER and borough were flipped in the 'manhattan' case?"
   ]
  },
  {
   "cell_type": "code",
   "execution_count": 49,
   "id": "fc11b33b",
   "metadata": {
    "scrolled": true
   },
   "outputs": [
    {
     "data": {
      "text/html": [
       "<div>\n",
       "<style scoped>\n",
       "    .dataframe tbody tr th:only-of-type {\n",
       "        vertical-align: middle;\n",
       "    }\n",
       "\n",
       "    .dataframe tbody tr th {\n",
       "        vertical-align: top;\n",
       "    }\n",
       "\n",
       "    .dataframe thead th {\n",
       "        text-align: right;\n",
       "    }\n",
       "</style>\n",
       "<table border=\"1\" class=\"dataframe\">\n",
       "  <thead>\n",
       "    <tr style=\"text-align: right;\">\n",
       "      <th></th>\n",
       "      <th>HOUSE_NUMBER</th>\n",
       "      <th>BOROUGH</th>\n",
       "    </tr>\n",
       "  </thead>\n",
       "  <tbody>\n",
       "  </tbody>\n",
       "</table>\n",
       "</div>"
      ],
      "text/plain": [
       "Empty DataFrame\n",
       "Columns: [HOUSE_NUMBER, BOROUGH]\n",
       "Index: []"
      ]
     },
     "execution_count": 49,
     "metadata": {},
     "output_type": "execute_result"
    }
   ],
   "source": [
    "# Nope:\n",
    "df.loc[df['HOUSE_NUMBER'].str.strip('')=='MANHATTAN'][['HOUSE_NUMBER', 'BOROUGH']]"
   ]
  },
  {
   "cell_type": "markdown",
   "id": "8300d31d",
   "metadata": {},
   "source": [
    "Check if thses are empty strings:"
   ]
  },
  {
   "cell_type": "code",
   "execution_count": 50,
   "id": "86a092f9",
   "metadata": {},
   "outputs": [
    {
     "data": {
      "text/plain": [
       "6714               ONE\n",
       "12076              ONE\n",
       "12808              ONE\n",
       "13517            SEVEN\n",
       "13890              TEN\n",
       "17854              ONE\n",
       "21849              ONE\n",
       "23969              ONE\n",
       "29671              ONE\n",
       "39028              ONE\n",
       "51566              ONE\n",
       "51567              ONE\n",
       "51766              ONE\n",
       "53639              ONE\n",
       "56620              ONE\n",
       "57119              ONE\n",
       "66504              ONE\n",
       "95035              ONE\n",
       "109601             ONE\n",
       "111614             ONE\n",
       "112391             ONE\n",
       "113643             ONE\n",
       "124382             ONE\n",
       "133203             ONE\n",
       "134760    SOUTH STREET\n",
       "134857             ONE\n",
       "136607             ONE\n",
       "145251             ONE\n",
       "145491             ONE\n",
       "145493             ONE\n",
       "147281             ONE\n",
       "147282             ONE\n",
       "156358             ONE\n",
       "157334             ONE\n",
       "157835             ONE\n",
       "164055             ONE\n",
       "167167             ONE\n",
       "167168             ONE\n",
       "170095             ONE\n",
       "170380             ONE\n",
       "171477             ONE\n",
       "173096             ONE\n",
       "177573             ONE\n",
       "177706             ONE\n",
       "178091             ONE\n",
       "178245             ONE\n",
       "181545             ONE\n",
       "182433             ONE\n",
       "182950             ONE\n",
       "183107             SIX\n",
       "183111           SEVEN\n",
       "183112           SEVEN\n",
       "183113           SEVEN\n",
       "183286             ONE\n",
       "183474             ONE\n",
       "216561             ONE\n",
       "221000             ONE\n",
       "221003             ONE\n",
       "Name: HOUSE_NUMBER, dtype: object"
      ]
     },
     "execution_count": 50,
     "metadata": {},
     "output_type": "execute_result"
    }
   ],
   "source": [
    "df.loc[(~df['HOUSE_NUMBER'].str.contains('\\\\d', regex=True))]['HOUSE_NUMBER']"
   ]
  },
  {
   "cell_type": "markdown",
   "id": "d4bf7b32",
   "metadata": {},
   "source": [
    "Replace spelling of numbers with their value, and remove values 'PIER',  'MANHATTAN',  'NO NUMBER'"
   ]
  },
  {
   "cell_type": "code",
   "execution_count": 51,
   "id": "71fe3a48",
   "metadata": {},
   "outputs": [],
   "source": [
    "df.loc[df['HOUSE_NUMBER'].str.strip('')=='ONE', 'HOUSE_NUMBER'] = '1'\n",
    "df.loc[df['HOUSE_NUMBER'].str.strip('')=='PIER', 'HOUSE_NUMBER'] = ''\n",
    "df.loc[df['HOUSE_NUMBER'].str.strip('')=='MANHATTAN', 'HOUSE_NUMBER'] = ''\n",
    "df.loc[df['HOUSE_NUMBER'].str.strip('')=='NO NUMBER', 'HOUSE_NUMBER'] = ''\n"
   ]
  },
  {
   "cell_type": "markdown",
   "id": "a53f3ddc",
   "metadata": {},
   "source": [
    "Most of these will probably be legitimate house numbers, since house numbers can have dashes"
   ]
  },
  {
   "cell_type": "code",
   "execution_count": 52,
   "id": "0e138420",
   "metadata": {
    "scrolled": false
   },
   "outputs": [
    {
     "data": {
      "text/plain": [
       "75            120A\n",
       "84             63A\n",
       "216        108 1/2\n",
       "293         214-18\n",
       "294          50-06\n",
       "            ...   \n",
       "253905       3273B\n",
       "254089    304 EAST\n",
       "254357       925 A\n",
       "254389     1250GAR\n",
       "254900        639A\n",
       "Name: HOUSE_NUMBER, Length: 51317, dtype: object"
      ]
     },
     "execution_count": 52,
     "metadata": {},
     "output_type": "execute_result"
    }
   ],
   "source": [
    "df.loc[(~df['HOUSE_NUMBER'].isna())\n",
    "       &(~df['HOUSE_NUMBER'].str.isdigit())]['HOUSE_NUMBER']"
   ]
  },
  {
   "cell_type": "markdown",
   "id": "b89c6002",
   "metadata": {},
   "source": [
    "Check non-numeric HOUSE_NUMBER's that don't have dashes"
   ]
  },
  {
   "cell_type": "code",
   "execution_count": 53,
   "id": "3f112eba",
   "metadata": {
    "scrolled": false
   },
   "outputs": [
    {
     "data": {
      "text/plain": [
       "75          120A\n",
       "84           63A\n",
       "216      108 1/2\n",
       "409         563A\n",
       "609         123A\n",
       "637        591 A\n",
       "1499        11 A\n",
       "1579      1772 A\n",
       "1595         39A\n",
       "1625        511A\n",
       "1675        563A\n",
       "1757       451 A\n",
       "1840       206 A\n",
       "1908         47A\n",
       "1913        508A\n",
       "2345        550J\n",
       "2353      101 34\n",
       "2523       78 18\n",
       "2741        318A\n",
       "2749        475A\n",
       "2800        171A\n",
       "2962       1455A\n",
       "3052         39B\n",
       "3076       1410A\n",
       "3145    1668 GAR\n",
       "Name: HOUSE_NUMBER, dtype: object"
      ]
     },
     "execution_count": 53,
     "metadata": {},
     "output_type": "execute_result"
    }
   ],
   "source": [
    "df.loc[(~df['HOUSE_NUMBER'].isna())\n",
    "       &(~df['HOUSE_NUMBER'].str.isdigit())\n",
    "      &(~df['HOUSE_NUMBER'].str.contains('-', regex=False))]['HOUSE_NUMBER'][:25]"
   ]
  },
  {
   "cell_type": "markdown",
   "id": "26bcbdfb",
   "metadata": {},
   "source": [
    "We see a mix of reference to the house's garage, the rear house and single letters that likely indicate apartments in multi-occupancy venues. \n",
    "\n",
    "We will standardize the formatting, and maintain the reference to garage, rear, and appartment, since there is no apartment column for the job.\n",
    "\n",
    "First split the numbers and words with a space"
   ]
  },
  {
   "cell_type": "code",
   "execution_count": 54,
   "id": "0c613d20",
   "metadata": {},
   "outputs": [],
   "source": [
    "df['HOUSE_NUMBER'] = df['HOUSE_NUMBER'].str.replace(pat='(?P<one>\\\\d)(?P<two>[A-Z]+)', repl='\\g<one> \\g<two>', regex=True)"
   ]
  },
  {
   "cell_type": "markdown",
   "id": "98f2afce",
   "metadata": {},
   "source": [
    "Now we will fix the formatting for garage and \n",
    "remove references to north, south, east, west, since they should be in street #"
   ]
  },
  {
   "cell_type": "code",
   "execution_count": 55,
   "id": "adec1020",
   "metadata": {},
   "outputs": [],
   "source": [
    "df['HOUSE_NUMBER'] = df['HOUSE_NUMBER'].str.replace(pat='(?P<one>GAR$)', repl='GARAGE', regex=True)"
   ]
  },
  {
   "cell_type": "code",
   "execution_count": 56,
   "id": "e018d24e",
   "metadata": {},
   "outputs": [],
   "source": [
    "df['HOUSE_NUMBER'] = df['HOUSE_NUMBER'].str.replace(pat='NORTH([A-Z]+)?', repl='', regex=True)\n",
    "df['HOUSE_NUMBER'] = df['HOUSE_NUMBER'].str.replace(pat='EAST([A-Z]+)?', repl='', regex=True)\n",
    "df['HOUSE_NUMBER'] = df['HOUSE_NUMBER'].str.replace(pat='SOUTH([A-Z]+)?', repl='', regex=True)\n",
    "df['HOUSE_NUMBER'] = df['HOUSE_NUMBER'].str.replace(pat='WEST([A-Z]+)?', repl='', regex=True)"
   ]
  },
  {
   "cell_type": "code",
   "execution_count": 57,
   "id": "a869686d",
   "metadata": {},
   "outputs": [
    {
     "data": {
      "text/plain": [
       "75            120 A\n",
       "84             63 A\n",
       "216         108 1/2\n",
       "409           563 A\n",
       "609           123 A\n",
       "637           591 A\n",
       "1499           11 A\n",
       "1579         1772 A\n",
       "1595           39 A\n",
       "1625          511 A\n",
       "1675          563 A\n",
       "1757          451 A\n",
       "1840          206 A\n",
       "1908           47 A\n",
       "1913          508 A\n",
       "2345          550 J\n",
       "2353         101 34\n",
       "2523          78 18\n",
       "2741          318 A\n",
       "2749          475 A\n",
       "2800          171 A\n",
       "2962         1455 A\n",
       "3052           39 B\n",
       "3076         1410 A\n",
       "3145    1668 GARAGE\n",
       "3166          140 A\n",
       "3256         114 32\n",
       "3275         149 24\n",
       "3318         1027 A\n",
       "3337          782 A\n",
       "Name: HOUSE_NUMBER, dtype: object"
      ]
     },
     "execution_count": 57,
     "metadata": {},
     "output_type": "execute_result"
    }
   ],
   "source": [
    "# Confirm that it worked correctly:\n",
    "df.loc[(~df['HOUSE_NUMBER'].isna())\n",
    "       &(~df['HOUSE_NUMBER'].str.isdigit())\n",
    "       &(~df['HOUSE_NUMBER'].str.contains('-', regex=False))]['HOUSE_NUMBER'][:30]"
   ]
  },
  {
   "cell_type": "markdown",
   "id": "90f553ea",
   "metadata": {},
   "source": [
    "## Looking at Binary/Pseudo-binary columns:"
   ]
  },
  {
   "cell_type": "markdown",
   "id": "06469e6e",
   "metadata": {},
   "source": [
    "For these columns it's clear NaN idicates 'no', since the only other option was 'X' which indicates yes"
   ]
  },
  {
   "cell_type": "code",
   "execution_count": 58,
   "id": "45614821",
   "metadata": {},
   "outputs": [
    {
     "name": "stdout",
     "output_type": "stream",
     "text": [
      "Top 10 FILING_TYPE:\n",
      "\n",
      "New Job Filing       219156\n",
      "PAA                   31390\n",
      "Subsequent Filing      4478\n",
      "Name: FILING_TYPE, dtype: int64\n",
      "\n",
      "Top 10 JOB_STATUS:\n",
      "\n",
      "Job in Process                               127251\n",
      "Job is complete                              123925\n",
      "Inspection not complete due to withdrawal      3848\n",
      "Name: JOB_STATUS, dtype: int64\n",
      "\n",
      "Top 10 JOINT_VENTURE_WORK:\n",
      "\n",
      "No     254655\n",
      "Yes       369\n",
      "Name: JOINT_VENTURE_WORK, dtype: int64\n",
      "\n",
      "Top 10 LICENSE_TYPE:\n",
      "\n",
      "Electrician    255024\n",
      "Name: LICENSE_TYPE, dtype: int64\n",
      "\n",
      "Top 10 STATE:\n",
      "\n",
      "NY           255011\n",
      "NaN               8\n",
      "WOODHAVEN         5\n",
      "Name: STATE, dtype: int64\n",
      "\n",
      "Top 10 COO_RELATED:\n",
      "\n",
      "No     238594\n",
      "Yes     16430\n",
      "Name: COO_RELATED, dtype: int64\n",
      "\n",
      "Top 10 SVC_WORK_NOTIFY_UTILITY:\n",
      "\n",
      "No     196882\n",
      "Yes     58142\n",
      "Name: SVC_WORK_NOTIFY_UTILITY, dtype: int64\n",
      "\n",
      "Top 10 GENERAL_WIRING:\n",
      "\n",
      "Yes    137937\n",
      "No     117087\n",
      "Name: GENERAL_WIRING, dtype: int64\n",
      "\n",
      "Top 10 LIGHTING_WORK:\n",
      "\n",
      "No     248166\n",
      "Yes      6858\n",
      "Name: LIGHTING_WORK, dtype: int64\n",
      "\n",
      "Top 10 TEMP_CONSTRUCTION_SVC:\n",
      "\n",
      "No     252828\n",
      "Yes      2196\n",
      "Name: TEMP_CONSTRUCTION_SVC, dtype: int64\n",
      "\n",
      "Top 10 TEMP_LIGHT_POWER:\n",
      "\n",
      "No     245494\n",
      "Yes      9530\n",
      "Name: TEMP_LIGHT_POWER, dtype: int64\n",
      "\n",
      "Top 10 HVAC_WIRING:\n",
      "\n",
      "No     253670\n",
      "Yes      1354\n",
      "Name: HVAC_WIRING, dtype: int64\n",
      "\n",
      "Top 10 BOILER_BURNER_WIRING:\n",
      "\n",
      "No     253464\n",
      "Yes      1560\n",
      "Name: BOILER_BURNER_WIRING, dtype: int64\n",
      "\n",
      "Top 10 FILING_FEE:\n",
      "\n",
      "40    202467\n",
      "0      36917\n",
      "15     15640\n",
      "Name: FILING_FEE, dtype: int64\n",
      "\n",
      "Top 10 PAYMENT_METHOD:\n",
      "\n",
      "Credit Card    137640\n",
      "Check           80446\n",
      "NaN             36938\n",
      "Name: PAYMENT_METHOD, dtype: int64\n",
      "\n"
     ]
    }
   ],
   "source": [
    "show_vals(\"FILING_TYPE\")\n",
    "show_vals(\"JOB_STATUS\")\n",
    "show_vals(\"JOINT_VENTURE_WORK\")\n",
    "show_vals(\"LICENSE_TYPE\")\n",
    "show_vals(\"STATE\")\n",
    "show_vals(\"COO_RELATED\")\n",
    "show_vals(\"SVC_WORK_NOTIFY_UTILITY\")\n",
    "show_vals(\"GENERAL_WIRING\")\n",
    "show_vals(\"LIGHTING_WORK\")\n",
    "show_vals(\"TEMP_CONSTRUCTION_SVC\")\n",
    "show_vals(\"TEMP_LIGHT_POWER\")\n",
    "show_vals(\"HVAC_WIRING\")\n",
    "show_vals(\"BOILER_BURNER_WIRING\")\n",
    "show_vals(\"FILING_FEE\")\n",
    "show_vals(\"PAYMENT_METHOD\")"
   ]
  },
  {
   "cell_type": "markdown",
   "id": "48dc73c9",
   "metadata": {},
   "source": [
    "## Checking Monetary Values for consistency"
   ]
  },
  {
   "cell_type": "code",
   "execution_count": 59,
   "id": "21a26d08",
   "metadata": {},
   "outputs": [
    {
     "name": "stdout",
     "output_type": "stream",
     "text": [
      "Top 10 AMOUNT_PAID:\n",
      "\n",
      "40     232422\n",
      "15      15590\n",
      "0        6113\n",
      "60        565\n",
      "440        55\n",
      "80         34\n",
      "400        32\n",
      "35         27\n",
      "165        12\n",
      "150         5\n",
      "Name: AMOUNT_PAID, dtype: int64\n",
      "\n",
      "Top 10 AMOUNT_DUE:\n",
      "\n",
      "0        254936\n",
      "60           76\n",
      "35            6\n",
      "40            2\n",
      "100           1\n",
      "50400         1\n",
      "20            1\n",
      "80            1\n",
      "Name: AMOUNT_DUE, dtype: int64\n",
      "\n"
     ]
    }
   ],
   "source": [
    "# AMOUNT_PAID\tAMOUNT_DUE\n",
    "show_vals(\"AMOUNT_PAID\")\n",
    "show_vals(\"AMOUNT_DUE\")"
   ]
  },
  {
   "cell_type": "code",
   "execution_count": 60,
   "id": "98707b60",
   "metadata": {},
   "outputs": [],
   "source": [
    "df['AMOUNT_PAID'] = df['AMOUNT_PAID'].astype('str')\n",
    "df['AMOUNT_DUE'] = df['AMOUNT_DUE'].astype('str')"
   ]
  },
  {
   "cell_type": "markdown",
   "id": "31cdf5a2",
   "metadata": {},
   "source": [
    "Check if any values are not decimals"
   ]
  },
  {
   "cell_type": "code",
   "execution_count": 61,
   "id": "8a2502f7",
   "metadata": {},
   "outputs": [
    {
     "data": {
      "text/plain": [
       "40      232422\n",
       "15       15590\n",
       "0         6113\n",
       "60         565\n",
       "440         55\n",
       "         ...  \n",
       "5635         1\n",
       "2960         1\n",
       "3700         1\n",
       "6710         1\n",
       "890          1\n",
       "Name: AMOUNT_PAID, Length: 94, dtype: int64"
      ]
     },
     "execution_count": 61,
     "metadata": {},
     "output_type": "execute_result"
    }
   ],
   "source": [
    "df.loc[~df[\"AMOUNT_PAID\"].str.contains(\".\", regex=False)][\"AMOUNT_PAID\"].value_counts()"
   ]
  },
  {
   "cell_type": "code",
   "execution_count": 62,
   "id": "2ddb2608",
   "metadata": {
    "scrolled": true
   },
   "outputs": [
    {
     "data": {
      "text/plain": [
       "0        254936\n",
       "60           76\n",
       "35            6\n",
       "40            2\n",
       "100           1\n",
       "50400         1\n",
       "20            1\n",
       "80            1\n",
       "Name: AMOUNT_DUE, dtype: int64"
      ]
     },
     "execution_count": 62,
     "metadata": {},
     "output_type": "execute_result"
    }
   ],
   "source": [
    "df.loc[~df[\"AMOUNT_DUE\"].str.contains(\".\", regex=False)][\"AMOUNT_DUE\"].value_counts()"
   ]
  },
  {
   "cell_type": "markdown",
   "id": "d468c456",
   "metadata": {},
   "source": [
    "Dollar signs should be removed and added to column name so we can treat this column as a number"
   ]
  },
  {
   "cell_type": "code",
   "execution_count": 63,
   "id": "dee6874a",
   "metadata": {},
   "outputs": [],
   "source": [
    "df[\"AMOUNT_DUE\"] = df[\"AMOUNT_DUE\"].str.replace(\"$\", '', regex=False)"
   ]
  },
  {
   "cell_type": "code",
   "execution_count": 64,
   "id": "ca8e9685",
   "metadata": {},
   "outputs": [],
   "source": [
    "df[\"AMOUNT_PAID\"] = df[\"AMOUNT_PAID\"].str.replace(\"$\", '', regex=False)"
   ]
  },
  {
   "cell_type": "markdown",
   "id": "1c6418ee",
   "metadata": {},
   "source": [
    "However we can't convert this to integer dollars because there are decimals."
   ]
  },
  {
   "cell_type": "code",
   "execution_count": 65,
   "id": "4a53abac",
   "metadata": {},
   "outputs": [
    {
     "data": {
      "text/plain": [
       "4928       457.5\n",
       "14669     1847.5\n",
       "17334      482.5\n",
       "24572     1582.5\n",
       "28624      782.5\n",
       "28873      447.5\n",
       "42173     1247.5\n",
       "45684     1637.5\n",
       "49216      482.5\n",
       "53653      922.5\n",
       "67663      442.5\n",
       "69323      572.5\n",
       "84841      452.5\n",
       "92787     1142.5\n",
       "98275     1372.5\n",
       "99048     4057.5\n",
       "101718     682.5\n",
       "110103    1917.5\n",
       "110810     737.5\n",
       "113449     452.5\n",
       "115752     502.5\n",
       "118059    1442.5\n",
       "119259     832.5\n",
       "120160     452.5\n",
       "122224     427.5\n",
       "125409     412.5\n",
       "130002     432.5\n",
       "139282    1902.5\n",
       "151245     892.5\n",
       "152255     402.5\n",
       "155558    7177.5\n",
       "160526     567.5\n",
       "161941    1062.5\n",
       "162820     632.5\n",
       "165824     972.5\n",
       "179607     597.5\n",
       "181785     637.5\n",
       "182466     492.5\n",
       "183199     492.5\n",
       "183270     447.5\n",
       "184820     442.5\n",
       "188522     412.5\n",
       "199721     767.5\n",
       "199955     482.5\n",
       "204803     677.5\n",
       "205549     457.5\n",
       "209741     522.5\n",
       "213016     457.5\n",
       "216480     862.5\n",
       "225131    1132.5\n",
       "225465     442.5\n",
       "228209     422.5\n",
       "229080     407.5\n",
       "233813     567.5\n",
       "247810     467.5\n",
       "Name: AMOUNT_PAID, dtype: object"
      ]
     },
     "execution_count": 65,
     "metadata": {},
     "output_type": "execute_result"
    }
   ],
   "source": [
    "df.loc[df[\"AMOUNT_PAID\"].str.contains(\"\\\\.[^0]\", regex=True)][\"AMOUNT_PAID\"]"
   ]
  },
  {
   "cell_type": "code",
   "execution_count": 66,
   "id": "46cfe5e8",
   "metadata": {},
   "outputs": [],
   "source": [
    "df['AMOUNT_PAID'] = df['AMOUNT_PAID'].astype('float')\n",
    "df['AMOUNT_DUE'] = df['AMOUNT_DUE'].astype('float')"
   ]
  },
  {
   "cell_type": "code",
   "execution_count": 67,
   "id": "d0c5bf33",
   "metadata": {
    "scrolled": false
   },
   "outputs": [
    {
     "data": {
      "text/plain": [
       "0.0        254936\n",
       "60.0           76\n",
       "35.0            6\n",
       "40.0            2\n",
       "100.0           1\n",
       "50400.0         1\n",
       "20.0            1\n",
       "80.0            1\n",
       "Name: AMOUNT_DUE, dtype: int64"
      ]
     },
     "execution_count": 67,
     "metadata": {},
     "output_type": "execute_result"
    }
   ],
   "source": [
    "df['AMOUNT_DUE'].value_counts(dropna=False)"
   ]
  },
  {
   "cell_type": "markdown",
   "id": "1f05af30",
   "metadata": {},
   "source": [
    "For unclear reasons, adding xticks makes this plot incredibly slow to display."
   ]
  },
  {
   "cell_type": "code",
   "execution_count": 68,
   "id": "895da615",
   "metadata": {},
   "outputs": [
    {
     "data": {
      "text/plain": [
       "<AxesSubplot:title={'center':'AMOUNT_PAID Frequncy (log-log)'}, ylabel='Frequency'>"
      ]
     },
     "execution_count": 68,
     "metadata": {},
     "output_type": "execute_result"
    },
    {
     "data": {
      "image/png": "[encoded data removed]",
      "text/plain": [
       "<Figure size 432x288 with 1 Axes>"
      ]
     },
     "metadata": {
      "needs_background": "light"
     },
     "output_type": "display_data"
    }
   ],
   "source": [
    "df[\"AMOUNT_PAID\"].plot(kind='hist', loglog=True, title='AMOUNT_PAID Frequncy (log-log)')"
   ]
  },
  {
   "cell_type": "markdown",
   "id": "9d174edf",
   "metadata": {},
   "source": [
    "Intial costs appear to be distributed roughly exponentially "
   ]
  },
  {
   "cell_type": "code",
   "execution_count": 69,
   "id": "09238866",
   "metadata": {
    "scrolled": false
   },
   "outputs": [
    {
     "data": {
      "text/plain": [
       "<AxesSubplot:title={'center':'AMOUNT_PAID Frequncy, values < 10^8 (log)'}, ylabel='Frequency'>"
      ]
     },
     "execution_count": 69,
     "metadata": {},
     "output_type": "execute_result"
    },
    {
     "data": {
      "image/png": "[encoded data removed]",
      "text/plain": [
       "<Figure size 432x288 with 1 Axes>"
      ]
     },
     "metadata": {
      "needs_background": "light"
     },
     "output_type": "display_data"
    }
   ],
   "source": [
    "df.loc[df[\"AMOUNT_PAID\"]<10**8][\"AMOUNT_PAID\"].plot(kind='hist', logy=True, bins=50, title='AMOUNT_PAID Frequncy, values < 10^8 (log)')"
   ]
  },
  {
   "cell_type": "markdown",
   "id": "04c8723d",
   "metadata": {},
   "source": [
    "Plotting AMOUNT_DUE shows it is also roughly exponential in distribution"
   ]
  },
  {
   "cell_type": "code",
   "execution_count": 70,
   "id": "93f164b3",
   "metadata": {},
   "outputs": [
    {
     "data": {
      "text/plain": [
       "<AxesSubplot:title={'center':'AMOUNT_DUE Frequncy (log-log)'}, ylabel='Frequency'>"
      ]
     },
     "execution_count": 70,
     "metadata": {},
     "output_type": "execute_result"
    },
    {
     "data": {
      "image/png": "[encoded data removed]",
      "text/plain": [
       "<Figure size 432x288 with 1 Axes>"
      ]
     },
     "metadata": {
      "needs_background": "light"
     },
     "output_type": "display_data"
    }
   ],
   "source": [
    "df[\"AMOUNT_DUE\"].plot(kind='hist', loglog=True, title='AMOUNT_DUE Frequncy (log-log)')"
   ]
  },
  {
   "cell_type": "code",
   "execution_count": 71,
   "id": "e0bdf55d",
   "metadata": {},
   "outputs": [
    {
     "data": {
      "text/plain": [
       "<AxesSubplot:title={'center':'AMOUNT_DUE Frequncy, values < 10^7 (log)'}, ylabel='Frequency'>"
      ]
     },
     "execution_count": 71,
     "metadata": {},
     "output_type": "execute_result"
    },
    {
     "data": {
      "image/png": "[encoded data removed]",
      "text/plain": [
       "<Figure size 432x288 with 1 Axes>"
      ]
     },
     "metadata": {
      "needs_background": "light"
     },
     "output_type": "display_data"
    }
   ],
   "source": [
    "df.loc[df[\"AMOUNT_DUE\"]<10**7][\"AMOUNT_DUE\"].plot(kind='hist', logy=True, bins=50, title='AMOUNT_DUE Frequncy, values < 10^7 (log)')"
   ]
  },
  {
   "cell_type": "markdown",
   "id": "9e928780",
   "metadata": {},
   "source": [
    "Now that we've mapped these to numerical values, we can identifiy additional issues"
   ]
  },
  {
   "cell_type": "markdown",
   "id": "2ff3fb8f",
   "metadata": {},
   "source": [
    "#### Fixing AMOUNT_PAIDs"
   ]
  },
  {
   "cell_type": "code",
   "execution_count": 72,
   "id": "89be8181",
   "metadata": {},
   "outputs": [
    {
     "data": {
      "text/plain": [
       "0.0"
      ]
     },
     "execution_count": 72,
     "metadata": {},
     "output_type": "execute_result"
    }
   ],
   "source": [
    "# Not possible\n",
    "df[\"AMOUNT_PAID\"].min()"
   ]
  },
  {
   "cell_type": "code",
   "execution_count": 73,
   "id": "72ae7db3",
   "metadata": {},
   "outputs": [
    {
     "data": {
      "text/plain": [
       "22830.0"
      ]
     },
     "execution_count": 73,
     "metadata": {},
     "output_type": "execute_result"
    }
   ],
   "source": [
    "# Obviously a fill-in\n",
    "df[\"AMOUNT_PAID\"].max()"
   ]
  },
  {
   "cell_type": "code",
   "execution_count": 74,
   "id": "2a359d3d",
   "metadata": {
    "scrolled": false
   },
   "outputs": [
    {
     "data": {
      "text/plain": [
       "Series([], Name: AMOUNT_PAID, dtype: float64)"
      ]
     },
     "execution_count": 74,
     "metadata": {},
     "output_type": "execute_result"
    }
   ],
   "source": [
    "df.loc[df['AMOUNT_PAID'] < 0]['AMOUNT_PAID']"
   ]
  },
  {
   "cell_type": "markdown",
   "id": "49bf26c1",
   "metadata": {},
   "source": [
    "This is test data:"
   ]
  },
  {
   "cell_type": "code",
   "execution_count": 75,
   "id": "e498b7d4",
   "metadata": {},
   "outputs": [
    {
     "data": {
      "text/html": [
       "<div>\n",
       "<style scoped>\n",
       "    .dataframe tbody tr th:only-of-type {\n",
       "        vertical-align: middle;\n",
       "    }\n",
       "\n",
       "    .dataframe tbody tr th {\n",
       "        vertical-align: top;\n",
       "    }\n",
       "\n",
       "    .dataframe thead th {\n",
       "        text-align: right;\n",
       "    }\n",
       "</style>\n",
       "<table border=\"1\" class=\"dataframe\">\n",
       "  <thead>\n",
       "    <tr style=\"text-align: right;\">\n",
       "      <th></th>\n",
       "      <th>JOB_FILING_NUMBER</th>\n",
       "      <th>JOB_NUMBER</th>\n",
       "      <th>FILING_NUMBER</th>\n",
       "      <th>FILING_DATE</th>\n",
       "      <th>FILING_TYPE</th>\n",
       "      <th>FILING_STATUS</th>\n",
       "      <th>JOB_STATUS</th>\n",
       "      <th>HOUSE_NUMBER</th>\n",
       "      <th>STREET_NAME</th>\n",
       "      <th>BOROUGH</th>\n",
       "      <th>...</th>\n",
       "      <th>AMOUNT_PAID</th>\n",
       "      <th>AMOUNT_DUE</th>\n",
       "      <th>PAYMENT_METHOD</th>\n",
       "      <th>GIS_LATITUDE</th>\n",
       "      <th>GIS_LONGITUDE</th>\n",
       "      <th>GIS_COUNCIL_DISTRICT</th>\n",
       "      <th>GIS_CENSUS_TRACT</th>\n",
       "      <th>GIS_BIN</th>\n",
       "      <th>GIS_BBL</th>\n",
       "      <th>GIS_NTA_NAME</th>\n",
       "    </tr>\n",
       "  </thead>\n",
       "  <tbody>\n",
       "    <tr>\n",
       "      <th>146281</th>\n",
       "      <td>M00125021-S1-EL</td>\n",
       "      <td>M00125021</td>\n",
       "      <td>S1</td>\n",
       "      <td>03/12/2019 12:00:00 AM</td>\n",
       "      <td>Subsequent Filing</td>\n",
       "      <td>Cancel</td>\n",
       "      <td>Inspection not complete due to withdrawal</td>\n",
       "      <td>287</td>\n",
       "      <td>PARK AVENUE SOUTH</td>\n",
       "      <td>MANHATTAN</td>\n",
       "      <td>...</td>\n",
       "      <td>22830.0</td>\n",
       "      <td>0.0</td>\n",
       "      <td>Credit Card</td>\n",
       "      <td>40.739685</td>\n",
       "      <td>-73.986720</td>\n",
       "      <td>2</td>\n",
       "      <td>68</td>\n",
       "      <td>1018010</td>\n",
       "      <td>1008780001</td>\n",
       "      <td>Gramercy</td>\n",
       "    </tr>\n",
       "  </tbody>\n",
       "</table>\n",
       "<p>1 rows × 84 columns</p>\n",
       "</div>"
      ],
      "text/plain": [
       "       JOB_FILING_NUMBER JOB_NUMBER FILING_NUMBER             FILING_DATE  \\\n",
       "146281   M00125021-S1-EL  M00125021            S1  03/12/2019 12:00:00 AM   \n",
       "\n",
       "              FILING_TYPE FILING_STATUS  \\\n",
       "146281  Subsequent Filing        Cancel   \n",
       "\n",
       "                                       JOB_STATUS HOUSE_NUMBER  \\\n",
       "146281  Inspection not complete due to withdrawal          287   \n",
       "\n",
       "              STREET_NAME    BOROUGH  ... AMOUNT_PAID AMOUNT_DUE  \\\n",
       "146281  PARK AVENUE SOUTH  MANHATTAN  ...     22830.0        0.0   \n",
       "\n",
       "       PAYMENT_METHOD GIS_LATITUDE GIS_LONGITUDE GIS_COUNCIL_DISTRICT  \\\n",
       "146281    Credit Card    40.739685    -73.986720                    2   \n",
       "\n",
       "       GIS_CENSUS_TRACT  GIS_BIN     GIS_BBL GIS_NTA_NAME  \n",
       "146281               68  1018010  1008780001     Gramercy  \n",
       "\n",
       "[1 rows x 84 columns]"
      ]
     },
     "execution_count": 75,
     "metadata": {},
     "output_type": "execute_result"
    }
   ],
   "source": [
    "df.loc[df['AMOUNT_PAID'] == 22830.0]"
   ]
  },
  {
   "cell_type": "markdown",
   "id": "2f505b2c",
   "metadata": {},
   "source": [
    "We will drop this row"
   ]
  },
  {
   "cell_type": "code",
   "execution_count": 76,
   "id": "d0cd81ec",
   "metadata": {},
   "outputs": [
    {
     "data": {
      "text/plain": [
       "<AxesSubplot:title={'center':'AMOUNT_PAID Frequncy (log)'}, ylabel='Frequency'>"
      ]
     },
     "execution_count": 76,
     "metadata": {},
     "output_type": "execute_result"
    },
    {
     "data": {
      "image/png": "[encoded data removed]",
      "text/plain": [
       "<Figure size 432x288 with 1 Axes>"
      ]
     },
     "metadata": {
      "needs_background": "light"
     },
     "output_type": "display_data"
    }
   ],
   "source": [
    "df[\"AMOUNT_PAID\"].plot(kind='hist', logy=True, bins=50, title='AMOUNT_PAID Frequncy (log)')"
   ]
  },
  {
   "cell_type": "markdown",
   "id": "425e3b4b",
   "metadata": {},
   "source": [
    "#### Fixing AMOUNT_DUE"
   ]
  },
  {
   "cell_type": "code",
   "execution_count": 77,
   "id": "e5384f14",
   "metadata": {
    "scrolled": true
   },
   "outputs": [
    {
     "data": {
      "text/html": [
       "<div>\n",
       "<style scoped>\n",
       "    .dataframe tbody tr th:only-of-type {\n",
       "        vertical-align: middle;\n",
       "    }\n",
       "\n",
       "    .dataframe tbody tr th {\n",
       "        vertical-align: top;\n",
       "    }\n",
       "\n",
       "    .dataframe thead th {\n",
       "        text-align: right;\n",
       "    }\n",
       "</style>\n",
       "<table border=\"1\" class=\"dataframe\">\n",
       "  <thead>\n",
       "    <tr style=\"text-align: right;\">\n",
       "      <th></th>\n",
       "      <th>JOB_FILING_NUMBER</th>\n",
       "      <th>JOB_NUMBER</th>\n",
       "      <th>FILING_NUMBER</th>\n",
       "      <th>FILING_DATE</th>\n",
       "      <th>FILING_TYPE</th>\n",
       "      <th>FILING_STATUS</th>\n",
       "      <th>JOB_STATUS</th>\n",
       "      <th>HOUSE_NUMBER</th>\n",
       "      <th>STREET_NAME</th>\n",
       "      <th>BOROUGH</th>\n",
       "      <th>...</th>\n",
       "      <th>AMOUNT_PAID</th>\n",
       "      <th>AMOUNT_DUE</th>\n",
       "      <th>PAYMENT_METHOD</th>\n",
       "      <th>GIS_LATITUDE</th>\n",
       "      <th>GIS_LONGITUDE</th>\n",
       "      <th>GIS_COUNCIL_DISTRICT</th>\n",
       "      <th>GIS_CENSUS_TRACT</th>\n",
       "      <th>GIS_BIN</th>\n",
       "      <th>GIS_BBL</th>\n",
       "      <th>GIS_NTA_NAME</th>\n",
       "    </tr>\n",
       "  </thead>\n",
       "  <tbody>\n",
       "  </tbody>\n",
       "</table>\n",
       "<p>0 rows × 84 columns</p>\n",
       "</div>"
      ],
      "text/plain": [
       "Empty DataFrame\n",
       "Columns: [JOB_FILING_NUMBER, JOB_NUMBER, FILING_NUMBER, FILING_DATE, FILING_TYPE, FILING_STATUS, JOB_STATUS, HOUSE_NUMBER, STREET_NAME, BOROUGH, ZIP_CODE, BLOCK, LOT, BIN, COMMUNITY_BOARD, JOINT_VENTURE_WORK, BUILDING_USE_TYPE, APPLICANT_FIRST_NAME, APPLICANT_LAST_NAME, LICENSE_TYPE, LICENSE_NUMBER, FIRM_NAME, FIRM_NUMBER, FIRM_ADDRESS, CITY, STATE, ZIP, GENERAL_LIABILITY_COMPANY, GENERAL_LIABILITY_POLICY, GENERAL_LIABILITY_EXPIRATION_DATE, WORKER_COMP_COMPANY_NAME, WORKER_COMP_POLICY, WORKER_COMP_EXPIRATION_DATE, DISABILITY_COMPANY_NAME, DISABILITY_POLICY, DISABILITY_EXPIRATION_DATE, OWNER_FIRST_NAME, OWNER_LAST_NAME, TITLE, BUSINESS_NAME, OWNER_ADDRESS, OWNER_CITY, OWNER_STATE, OWNER_ZIP, OWNER_TYPE, AUTH_REP_FIRST_NAME, AUTH_REP_LAST_NAME, AUTH_REP_OWNER_RELATION, COO_RELATED, CONST_BIS_JOB_NUMBER, REMOVAL_OF_VIO_OR_OWNER, SVC_WORK_NOTIFY_UTILITY, GENERAL_WIRING, LIGHTING_WORK, TEMP_CONSTRUCTION_SVC, TEMP_LIGHT_POWER, HVAC_WIRING, BOILER_BURNER_WIRING, CATEGORY_WORK_LIST, 3_WIRE, 4_WIRE, 10_POINTS, EXISTING_METERS, NEW_METERS, REMOVE_METERS, TOTAL_METERS, JOB_DESCRIPTION, PERMIT_ISSUED_DATE, JOB_START_DATE, COMPLETION_DATE, FILING_FEE, LEGALIZATION_FEE, NOGOOD_CHECK_FEE, TOTAL_BILLABLE_WORK_FEE, AMOUNT_PAID, AMOUNT_DUE, PAYMENT_METHOD, GIS_LATITUDE, GIS_LONGITUDE, GIS_COUNCIL_DISTRICT, GIS_CENSUS_TRACT, GIS_BIN, GIS_BBL, GIS_NTA_NAME]\n",
       "Index: []\n",
       "\n",
       "[0 rows x 84 columns]"
      ]
     },
     "execution_count": 77,
     "metadata": {},
     "output_type": "execute_result"
    }
   ],
   "source": [
    "df.loc[df['AMOUNT_DUE'] < 0 ]"
   ]
  },
  {
   "cell_type": "markdown",
   "id": "9784f189",
   "metadata": {},
   "source": [
    "We'll fix this as we did with negative monetary values before"
   ]
  },
  {
   "cell_type": "code",
   "execution_count": 78,
   "id": "cd134bd2",
   "metadata": {},
   "outputs": [],
   "source": [
    "df.loc[df['AMOUNT_DUE'] == -85.8,  'AMOUNT_DUE'] = 85.8"
   ]
  },
  {
   "cell_type": "code",
   "execution_count": 79,
   "id": "0450ee91",
   "metadata": {},
   "outputs": [
    {
     "data": {
      "text/plain": [
       "50400.0"
      ]
     },
     "execution_count": 79,
     "metadata": {},
     "output_type": "execute_result"
    }
   ],
   "source": [
    "df['AMOUNT_DUE'].max()"
   ]
  },
  {
   "cell_type": "markdown",
   "id": "5f746090",
   "metadata": {},
   "source": [
    "Also seems to have real information"
   ]
  },
  {
   "cell_type": "code",
   "execution_count": 80,
   "id": "63163379",
   "metadata": {},
   "outputs": [
    {
     "data": {
      "text/html": [
       "<div>\n",
       "<style scoped>\n",
       "    .dataframe tbody tr th:only-of-type {\n",
       "        vertical-align: middle;\n",
       "    }\n",
       "\n",
       "    .dataframe tbody tr th {\n",
       "        vertical-align: top;\n",
       "    }\n",
       "\n",
       "    .dataframe thead th {\n",
       "        text-align: right;\n",
       "    }\n",
       "</style>\n",
       "<table border=\"1\" class=\"dataframe\">\n",
       "  <thead>\n",
       "    <tr style=\"text-align: right;\">\n",
       "      <th></th>\n",
       "      <th>JOB_FILING_NUMBER</th>\n",
       "      <th>JOB_NUMBER</th>\n",
       "      <th>FILING_NUMBER</th>\n",
       "      <th>FILING_DATE</th>\n",
       "      <th>FILING_TYPE</th>\n",
       "      <th>FILING_STATUS</th>\n",
       "      <th>JOB_STATUS</th>\n",
       "      <th>HOUSE_NUMBER</th>\n",
       "      <th>STREET_NAME</th>\n",
       "      <th>BOROUGH</th>\n",
       "      <th>...</th>\n",
       "      <th>AMOUNT_PAID</th>\n",
       "      <th>AMOUNT_DUE</th>\n",
       "      <th>PAYMENT_METHOD</th>\n",
       "      <th>GIS_LATITUDE</th>\n",
       "      <th>GIS_LONGITUDE</th>\n",
       "      <th>GIS_COUNCIL_DISTRICT</th>\n",
       "      <th>GIS_CENSUS_TRACT</th>\n",
       "      <th>GIS_BIN</th>\n",
       "      <th>GIS_BBL</th>\n",
       "      <th>GIS_NTA_NAME</th>\n",
       "    </tr>\n",
       "  </thead>\n",
       "  <tbody>\n",
       "  </tbody>\n",
       "</table>\n",
       "<p>0 rows × 84 columns</p>\n",
       "</div>"
      ],
      "text/plain": [
       "Empty DataFrame\n",
       "Columns: [JOB_FILING_NUMBER, JOB_NUMBER, FILING_NUMBER, FILING_DATE, FILING_TYPE, FILING_STATUS, JOB_STATUS, HOUSE_NUMBER, STREET_NAME, BOROUGH, ZIP_CODE, BLOCK, LOT, BIN, COMMUNITY_BOARD, JOINT_VENTURE_WORK, BUILDING_USE_TYPE, APPLICANT_FIRST_NAME, APPLICANT_LAST_NAME, LICENSE_TYPE, LICENSE_NUMBER, FIRM_NAME, FIRM_NUMBER, FIRM_ADDRESS, CITY, STATE, ZIP, GENERAL_LIABILITY_COMPANY, GENERAL_LIABILITY_POLICY, GENERAL_LIABILITY_EXPIRATION_DATE, WORKER_COMP_COMPANY_NAME, WORKER_COMP_POLICY, WORKER_COMP_EXPIRATION_DATE, DISABILITY_COMPANY_NAME, DISABILITY_POLICY, DISABILITY_EXPIRATION_DATE, OWNER_FIRST_NAME, OWNER_LAST_NAME, TITLE, BUSINESS_NAME, OWNER_ADDRESS, OWNER_CITY, OWNER_STATE, OWNER_ZIP, OWNER_TYPE, AUTH_REP_FIRST_NAME, AUTH_REP_LAST_NAME, AUTH_REP_OWNER_RELATION, COO_RELATED, CONST_BIS_JOB_NUMBER, REMOVAL_OF_VIO_OR_OWNER, SVC_WORK_NOTIFY_UTILITY, GENERAL_WIRING, LIGHTING_WORK, TEMP_CONSTRUCTION_SVC, TEMP_LIGHT_POWER, HVAC_WIRING, BOILER_BURNER_WIRING, CATEGORY_WORK_LIST, 3_WIRE, 4_WIRE, 10_POINTS, EXISTING_METERS, NEW_METERS, REMOVE_METERS, TOTAL_METERS, JOB_DESCRIPTION, PERMIT_ISSUED_DATE, JOB_START_DATE, COMPLETION_DATE, FILING_FEE, LEGALIZATION_FEE, NOGOOD_CHECK_FEE, TOTAL_BILLABLE_WORK_FEE, AMOUNT_PAID, AMOUNT_DUE, PAYMENT_METHOD, GIS_LATITUDE, GIS_LONGITUDE, GIS_COUNCIL_DISTRICT, GIS_CENSUS_TRACT, GIS_BIN, GIS_BBL, GIS_NTA_NAME]\n",
       "Index: []\n",
       "\n",
       "[0 rows x 84 columns]"
      ]
     },
     "execution_count": 80,
     "metadata": {},
     "output_type": "execute_result"
    }
   ],
   "source": [
    "df.loc[df['AMOUNT_DUE']==31500000.0]"
   ]
  },
  {
   "cell_type": "markdown",
   "id": "09566dc6",
   "metadata": {},
   "source": [
    "## Checking owner's information"
   ]
  },
  {
   "cell_type": "code",
   "execution_count": 81,
   "id": "a20f92a1",
   "metadata": {
    "scrolled": false
   },
   "outputs": [
    {
     "name": "stdout",
     "output_type": "stream",
     "text": [
      "Top 10 BUSINESS_NAME:\n",
      "\n",
      "NaN                                108436\n",
      "PR                                   9807\n",
      "NYCHA                                1809\n",
      "EVEREST SCAFFOLDING INC.             1391\n",
      "NYCSCA                               1257\n",
      "BPP PARKER TOWER PROPERTY OWNER      1008\n",
      "SPRING SCAFFOLDING LLC                896\n",
      "Charter Communications                824\n",
      "OWNERS REP                            822\n",
      "PHOENIX SUTTON STR INC                744\n",
      "Name: BUSINESS_NAME, dtype: int64\n",
      "\n",
      "Top 10 OWNER_TYPE:\n",
      "\n",
      "Individual                                      122714\n",
      "Corporation                                      95577\n",
      "Partenership                                     16365\n",
      "NYC Agency                                        7359\n",
      "NYCHA                                             4831\n",
      "Condo Unit Owner or Co-Op Tenant-Shareholder      4780\n",
      "Other Government                                  2962\n",
      "HHC                                                431\n",
      "NaN                                                  5\n",
      "Name: OWNER_TYPE, dtype: int64\n",
      "\n",
      "Top 10 OWNER_ADDRESS:\n",
      "\n",
      "NaN                           254971\n",
      "30S Wacker Drive Suite 900         4\n",
      "289 MERSEROLE ST                   3\n",
      "2845 BRIGHTON 7TH ST               2\n",
      "512 7TH AVE                        2\n",
      "1368 38th street                   2\n",
      "12 LAWRENCE AVE                    2\n",
      "47-40 Metropolitan Ave.            2\n",
      "277 DURHAM AVENUE                  1\n",
      "3008 ave j                         1\n",
      "Name: OWNER_ADDRESS, dtype: int64\n",
      "\n",
      "Top 10 OWNER_CITY:\n",
      "\n",
      "NaN          254958\n",
      "BROOKLYN         16\n",
      "NEW YORK         12\n",
      "Brooklyn          6\n",
      "New York          5\n",
      "Chicago           4\n",
      "brooklyn          4\n",
      "Ridgewood         3\n",
      "JAMAICA           2\n",
      "NYC               1\n",
      "Name: OWNER_CITY, dtype: int64\n",
      "\n",
      "Top 10 OWNER_STATE:\n",
      "\n",
      "NaN    254958\n",
      "NY         52\n",
      "ny          7\n",
      "Il          4\n",
      "NJ          2\n",
      "FL          1\n",
      "Name: OWNER_STATE, dtype: int64\n",
      "\n",
      "Top 10 OWNER_ZIP:\n",
      "\n",
      "NaN      254958\n",
      "60606         4\n",
      "11206         3\n",
      "11385         3\n",
      "11219         3\n",
      "11101         2\n",
      "10018         2\n",
      "11222         2\n",
      "11373         2\n",
      "10036         2\n",
      "Name: OWNER_ZIP, dtype: int64\n",
      "\n"
     ]
    }
   ],
   "source": [
    "show_vals(\"BUSINESS_NAME\")\n",
    "show_vals(\"OWNER_TYPE\")\n",
    "show_vals(\"OWNER_ADDRESS\")\n",
    "show_vals(\"OWNER_CITY\")\n",
    "show_vals(\"OWNER_STATE\")\n",
    "show_vals(\"OWNER_ZIP\")"
   ]
  },
  {
   "cell_type": "markdown",
   "id": "ee3d48b4",
   "metadata": {},
   "source": [
    "## Fixing owner's informations"
   ]
  },
  {
   "cell_type": "code",
   "execution_count": 82,
   "id": "adda2809",
   "metadata": {},
   "outputs": [
    {
     "data": {
      "text/plain": [
       "NEW YORK CITY HOUSING AUTHORITY                     628\n",
       "NEW YORK CITY ECONOMIC DEVELOPMENT                   83\n",
       "New York City School Construction Authority          25\n",
       "NEW YORK CITY DEPT. OF ENVIRONMENTA                  22\n",
       "NEW YORK CITY SCHOOL CONSTRUCTION AUTHORITY          10\n",
       "New York City Housing Authority                       8\n",
       "New York City Scool Construction Authority            5\n",
       "RALPH NEW YORK CITY LLC                               4\n",
       "NEW YORK CITY DEPARTMENT OF PARKS AND RECREATION      4\n",
       "NEW YORK CITY MANAGEMENT                              3\n",
       "TA NEW YORK CITY BA LLC                               3\n",
       "New York City Center                                  2\n",
       "New York City Management, LLC.                        2\n",
       "NEW YORK CITY                                         2\n",
       "NEW YORK CITY POLICE DEPT                             1\n",
       "New York City Environmental Protection                1\n",
       "New York City School Authority                        1\n",
       "Heritage Hotel New York City                          1\n",
       "New York City Economic Development Corporation        1\n",
       "Name: BUSINESS_NAME, dtype: int64"
      ]
     },
     "execution_count": 82,
     "metadata": {},
     "output_type": "execute_result"
    }
   ],
   "source": [
    "df.loc[~df[\"BUSINESS_NAME\"].isna() & df[\"BUSINESS_NAME\"].str.contains(\"(?i)new york city\")][\"BUSINESS_NAME\"].value_counts()"
   ]
  },
  {
   "cell_type": "markdown",
   "id": "09853bb8",
   "metadata": {},
   "source": [
    "Normalizes a couple of duplicate names"
   ]
  },
  {
   "cell_type": "code",
   "execution_count": 83,
   "id": "76dc71d9",
   "metadata": {},
   "outputs": [],
   "source": [
    "df[\"BUSINESS_NAME\"] = df[\"BUSINESS_NAME\"].str.replace(\"NEW YORK CITY\", \"NYC\")\n",
    "df[\"BUSINESS_NAME\"] = df[\"BUSINESS_NAME\"].str.upper()\n",
    "df[\"BUSINESS_NAME\"] = df[\"BUSINESS_NAME\"].str.replace(\".\", '', regex=False)\n",
    "df[\"BUSINESS_NAME\"] = df[\"BUSINESS_NAME\"].str.replace(\",\", '', regex=False)"
   ]
  },
  {
   "cell_type": "markdown",
   "id": "45fb91af",
   "metadata": {},
   "source": [
    "All these are the same thing. Uses clusters to fix"
   ]
  },
  {
   "cell_type": "code",
   "execution_count": 84,
   "id": "008d3f13",
   "metadata": {
    "scrolled": true
   },
   "outputs": [
    {
     "data": {
      "text/plain": [
       "NYC HOUSING AUTHORITY              719\n",
       "NEW YORK CITY HOUSING AUTHORITY      8\n",
       "NEW YORK HOUSING AUTHORITY           1\n",
       "HOUSING AUTHORITY                    1\n",
       "Name: BUSINESS_NAME, dtype: int64"
      ]
     },
     "execution_count": 84,
     "metadata": {},
     "output_type": "execute_result"
    }
   ],
   "source": [
    "#may have to use fuzzy/cluster to fix this problem\n",
    "df.loc[~df[\"BUSINESS_NAME\"].isna() & df[\"BUSINESS_NAME\"].str.contains(\"(?i)HOUSING AUTHORITY\")][\"BUSINESS_NAME\"].value_counts()"
   ]
  },
  {
   "cell_type": "markdown",
   "id": "6376236f",
   "metadata": {},
   "source": [
    "Used clusters to try to fix the rest of them further below"
   ]
  },
  {
   "cell_type": "code",
   "execution_count": 85,
   "id": "db9e5bca",
   "metadata": {
    "scrolled": false
   },
   "outputs": [
    {
     "data": {
      "text/plain": [
       "NY    52\n",
       "ny     7\n",
       "Il     4\n",
       "NJ     2\n",
       "FL     1\n",
       "Name: OWNER_STATE, dtype: int64"
      ]
     },
     "execution_count": 85,
     "metadata": {},
     "output_type": "execute_result"
    }
   ],
   "source": [
    "df[\"OWNER_STATE\"].value_counts()"
   ]
  },
  {
   "cell_type": "code",
   "execution_count": 86,
   "id": "8011e816",
   "metadata": {},
   "outputs": [],
   "source": [
    "df[\"OWNER_STATE\"] = df[\"OWNER_STATE\"].str.upper()"
   ]
  },
  {
   "cell_type": "markdown",
   "id": "9ae6dc87",
   "metadata": {},
   "source": [
    "Since the states can be outside NYC, these are probably fine"
   ]
  },
  {
   "cell_type": "code",
   "execution_count": 87,
   "id": "d1d1cf5d",
   "metadata": {
    "scrolled": true
   },
   "outputs": [
    {
     "data": {
      "text/plain": [
       "60606        4\n",
       "11206        3\n",
       "11385        3\n",
       "11219        3\n",
       "11101        2\n",
       "11373        2\n",
       "10036        2\n",
       "11235        2\n",
       "11218        2\n",
       "11230        2\n",
       "11222        2\n",
       "10013        2\n",
       "10025        2\n",
       "10016        2\n",
       "10022        2\n",
       "10018        2\n",
       "10010        2\n",
       "11217        2\n",
       "10007        1\n",
       "11228        1\n",
       "11229        1\n",
       "10021        1\n",
       "11435        1\n",
       "11021        1\n",
       "11743        1\n",
       "10038        1\n",
       "11225        1\n",
       "11238        1\n",
       "11434        1\n",
       "11209        1\n",
       "11210        1\n",
       "07080        1\n",
       "10128        1\n",
       "10065        1\n",
       "11234        1\n",
       "11211        1\n",
       "11355        1\n",
       "11697        1\n",
       "12521-555    1\n",
       "11221        1\n",
       "33414        1\n",
       "11249        1\n",
       "07652        1\n",
       "Name: OWNER_ZIP, dtype: int64"
      ]
     },
     "execution_count": 87,
     "metadata": {},
     "output_type": "execute_result"
    }
   ],
   "source": [
    "df[\"OWNER_ZIP\"].value_counts()"
   ]
  },
  {
   "cell_type": "markdown",
   "id": "1a9c8889",
   "metadata": {},
   "source": [
    "## Quick look at GIS"
   ]
  },
  {
   "cell_type": "code",
   "execution_count": 88,
   "id": "030d5d04",
   "metadata": {},
   "outputs": [
    {
     "name": "stdout",
     "output_type": "stream",
     "text": [
      "Top 10 GIS_LATITUDE:\n",
      "\n",
      "40.723485    378\n",
      "40.723780    359\n",
      "40.723714    331\n",
      "NaN          309\n",
      "40.753992    248\n",
      "40.750662    160\n",
      "40.736934    138\n",
      "40.756667    136\n",
      "40.751098    132\n",
      "40.751430    129\n",
      "Name: GIS_LATITUDE, dtype: int64\n",
      "\n",
      "Top 10 GIS_LONGITUDE:\n",
      "\n",
      "-73.848490    378\n",
      "-73.848991    363\n",
      "-73.848879    330\n",
      "NaN           309\n",
      "-73.999830    254\n",
      "-73.991944    161\n",
      "-73.980684    139\n",
      "-73.984396    135\n",
      "-73.992926    132\n",
      "-73.994001    130\n",
      "Name: GIS_LONGITUDE, dtype: int64\n",
      "\n",
      "Top 10 GIS_COUNCIL_DISTRICT:\n",
      "\n",
      "4     21841\n",
      "3     16440\n",
      "1     10844\n",
      "2      9015\n",
      "6      8845\n",
      "33     8402\n",
      "39     6438\n",
      "5      6376\n",
      "50     5354\n",
      "36     5322\n",
      "Name: GIS_COUNCIL_DISTRICT, dtype: int64\n",
      "\n",
      "Top 10 GIS_CENSUS_TRACT:\n",
      "\n",
      "7        1413\n",
      "33       1404\n",
      "99       1248\n",
      "119      1228\n",
      "137      1173\n",
      "21       1166\n",
      "71305    1119\n",
      "96       1094\n",
      "104      1075\n",
      "37       1062\n",
      "Name: GIS_CENSUS_TRACT, dtype: int64\n",
      "\n",
      "Top 10 GIS_NTA_NAME:\n",
      "\n",
      "Midtown-Midtown South                         11698\n",
      "Hudson Yards-Chelsea-Flatiron-Union Square     7292\n",
      "Upper East Side-Carnegie Hill                  6956\n",
      "Upper West Side                                6541\n",
      "West Village                                   5696\n",
      "SoHo-TriBeCa-Civic Center-Little Italy         5298\n",
      "Turtle Bay-East Midtown                        4684\n",
      "Park Slope-Gowanus                             3669\n",
      "Hunters Point-Sunnyside-West Maspeth           3333\n",
      "Lenox Hill-Roosevelt Island                    3204\n",
      "Name: GIS_NTA_NAME, dtype: int64\n",
      "\n",
      "Top 10 GIS_BIN:\n",
      "\n",
      "3000000    2756\n",
      "NaN        2422\n",
      "4000000    2052\n",
      "1000000    1324\n",
      "2000000    1094\n",
      "5000000    1017\n",
      "4433859     378\n",
      "4433860     359\n",
      "4433858     330\n",
      "1088961     289\n",
      "Name: GIS_BIN, dtype: int64\n",
      "\n"
     ]
    }
   ],
   "source": [
    "show_vals(\"GIS_LATITUDE\")\n",
    "show_vals(\"GIS_LONGITUDE\")\n",
    "show_vals(\"GIS_COUNCIL_DISTRICT\")\n",
    "show_vals(\"GIS_CENSUS_TRACT\")\n",
    "show_vals(\"GIS_NTA_NAME\")\n",
    "show_vals(\"GIS_BIN\")"
   ]
  },
  {
   "cell_type": "code",
   "execution_count": 89,
   "id": "648d8386",
   "metadata": {},
   "outputs": [
    {
     "data": {
      "text/html": [
       "<div>\n",
       "<style scoped>\n",
       "    .dataframe tbody tr th:only-of-type {\n",
       "        vertical-align: middle;\n",
       "    }\n",
       "\n",
       "    .dataframe tbody tr th {\n",
       "        vertical-align: top;\n",
       "    }\n",
       "\n",
       "    .dataframe thead th {\n",
       "        text-align: right;\n",
       "    }\n",
       "</style>\n",
       "<table border=\"1\" class=\"dataframe\">\n",
       "  <thead>\n",
       "    <tr style=\"text-align: right;\">\n",
       "      <th></th>\n",
       "      <th>GIS_LATITUDE</th>\n",
       "      <th>GIS_LONGITUDE</th>\n",
       "      <th>GIS_COUNCIL_DISTRICT</th>\n",
       "      <th>GIS_CENSUS_TRACT</th>\n",
       "      <th>GIS_NTA_NAME</th>\n",
       "      <th>GIS_BIN</th>\n",
       "    </tr>\n",
       "  </thead>\n",
       "  <tbody>\n",
       "    <tr>\n",
       "      <th>0</th>\n",
       "      <td>40.590828</td>\n",
       "      <td>-73.962756</td>\n",
       "      <td>48</td>\n",
       "      <td>370</td>\n",
       "      <td>Brighton Beach</td>\n",
       "      <td>3195471</td>\n",
       "    </tr>\n",
       "    <tr>\n",
       "      <th>1</th>\n",
       "      <td>40.579607</td>\n",
       "      <td>-73.962071</td>\n",
       "      <td>48</td>\n",
       "      <td>364</td>\n",
       "      <td>Brighton Beach</td>\n",
       "      <td>3244470</td>\n",
       "    </tr>\n",
       "    <tr>\n",
       "      <th>2</th>\n",
       "      <td>40.716973</td>\n",
       "      <td>-73.948873</td>\n",
       "      <td>34</td>\n",
       "      <td>501</td>\n",
       "      <td>East Williamsburg</td>\n",
       "      <td>3068248</td>\n",
       "    </tr>\n",
       "    <tr>\n",
       "      <th>3</th>\n",
       "      <td>40.677481</td>\n",
       "      <td>-73.992963</td>\n",
       "      <td>39</td>\n",
       "      <td>77</td>\n",
       "      <td>Carroll Gardens-Columbia Street-Red Hook</td>\n",
       "      <td>3007911</td>\n",
       "    </tr>\n",
       "    <tr>\n",
       "      <th>4</th>\n",
       "      <td>40.701158</td>\n",
       "      <td>-73.949433</td>\n",
       "      <td>33</td>\n",
       "      <td>507</td>\n",
       "      <td>Bedford</td>\n",
       "      <td>3000000</td>\n",
       "    </tr>\n",
       "    <tr>\n",
       "      <th>...</th>\n",
       "      <td>...</td>\n",
       "      <td>...</td>\n",
       "      <td>...</td>\n",
       "      <td>...</td>\n",
       "      <td>...</td>\n",
       "      <td>...</td>\n",
       "    </tr>\n",
       "    <tr>\n",
       "      <th>255019</th>\n",
       "      <td>40.869531</td>\n",
       "      <td>-73.847275</td>\n",
       "      <td>12</td>\n",
       "      <td>350</td>\n",
       "      <td>Allerton-Pelham Gardens</td>\n",
       "      <td>2055363</td>\n",
       "    </tr>\n",
       "    <tr>\n",
       "      <th>255020</th>\n",
       "      <td>40.864804</td>\n",
       "      <td>-73.890606</td>\n",
       "      <td>15</td>\n",
       "      <td>40502</td>\n",
       "      <td>Bedford Park-Fordham North</td>\n",
       "      <td>2016643</td>\n",
       "    </tr>\n",
       "    <tr>\n",
       "      <th>255021</th>\n",
       "      <td>40.894850</td>\n",
       "      <td>-73.846732</td>\n",
       "      <td>12</td>\n",
       "      <td>428</td>\n",
       "      <td>Woodlawn-Wakefield</td>\n",
       "      <td>2068841</td>\n",
       "    </tr>\n",
       "    <tr>\n",
       "      <th>255022</th>\n",
       "      <td>40.819668</td>\n",
       "      <td>-73.820422</td>\n",
       "      <td>13</td>\n",
       "      <td>132</td>\n",
       "      <td>Schuylerville-Throgs Neck-Edgewater Park</td>\n",
       "      <td>2080582</td>\n",
       "    </tr>\n",
       "    <tr>\n",
       "      <th>255023</th>\n",
       "      <td>40.898797</td>\n",
       "      <td>-73.868832</td>\n",
       "      <td>11</td>\n",
       "      <td>44902</td>\n",
       "      <td>Woodlawn-Wakefield</td>\n",
       "      <td>2019146</td>\n",
       "    </tr>\n",
       "  </tbody>\n",
       "</table>\n",
       "<p>255024 rows × 6 columns</p>\n",
       "</div>"
      ],
      "text/plain": [
       "       GIS_LATITUDE GIS_LONGITUDE GIS_COUNCIL_DISTRICT GIS_CENSUS_TRACT  \\\n",
       "0         40.590828    -73.962756                   48              370   \n",
       "1         40.579607    -73.962071                   48              364   \n",
       "2         40.716973    -73.948873                   34              501   \n",
       "3         40.677481    -73.992963                   39               77   \n",
       "4         40.701158    -73.949433                   33              507   \n",
       "...             ...           ...                  ...              ...   \n",
       "255019    40.869531    -73.847275                   12              350   \n",
       "255020    40.864804    -73.890606                   15            40502   \n",
       "255021    40.894850    -73.846732                   12              428   \n",
       "255022    40.819668    -73.820422                   13              132   \n",
       "255023    40.898797    -73.868832                   11            44902   \n",
       "\n",
       "                                    GIS_NTA_NAME  GIS_BIN  \n",
       "0                                 Brighton Beach  3195471  \n",
       "1                                 Brighton Beach  3244470  \n",
       "2                              East Williamsburg  3068248  \n",
       "3       Carroll Gardens-Columbia Street-Red Hook  3007911  \n",
       "4                                        Bedford  3000000  \n",
       "...                                          ...      ...  \n",
       "255019                   Allerton-Pelham Gardens  2055363  \n",
       "255020                Bedford Park-Fordham North  2016643  \n",
       "255021                        Woodlawn-Wakefield  2068841  \n",
       "255022  Schuylerville-Throgs Neck-Edgewater Park  2080582  \n",
       "255023                        Woodlawn-Wakefield  2019146  \n",
       "\n",
       "[255024 rows x 6 columns]"
      ]
     },
     "execution_count": 89,
     "metadata": {},
     "output_type": "execute_result"
    }
   ],
   "source": [
    "#Manually looking at some of these\n",
    "df[[\"GIS_LATITUDE\", \"GIS_LONGITUDE\", \"GIS_COUNCIL_DISTRICT\", \"GIS_CENSUS_TRACT\", \"GIS_NTA_NAME\", \"GIS_BIN\"]]"
   ]
  },
  {
   "cell_type": "code",
   "execution_count": 90,
   "id": "d4c45b0a",
   "metadata": {},
   "outputs": [
    {
     "data": {
      "text/plain": [
       "40.499059"
      ]
     },
     "execution_count": 90,
     "metadata": {},
     "output_type": "execute_result"
    }
   ],
   "source": [
    "#shouldn't be 0\n",
    "df[\"GIS_LATITUDE\"] = df[\"GIS_LATITUDE\"].astype('float')\n",
    "df[\"GIS_LATITUDE\"].min()"
   ]
  },
  {
   "cell_type": "code",
   "execution_count": 91,
   "id": "65a85fec",
   "metadata": {},
   "outputs": [
    {
     "data": {
      "text/plain": [
       "40.912869"
      ]
     },
     "execution_count": 91,
     "metadata": {},
     "output_type": "execute_result"
    }
   ],
   "source": [
    "df[\"GIS_LATITUDE\"].max()"
   ]
  },
  {
   "cell_type": "code",
   "execution_count": 92,
   "id": "9129c4cf",
   "metadata": {},
   "outputs": [
    {
     "data": {
      "text/html": [
       "<div>\n",
       "<style scoped>\n",
       "    .dataframe tbody tr th:only-of-type {\n",
       "        vertical-align: middle;\n",
       "    }\n",
       "\n",
       "    .dataframe tbody tr th {\n",
       "        vertical-align: top;\n",
       "    }\n",
       "\n",
       "    .dataframe thead th {\n",
       "        text-align: right;\n",
       "    }\n",
       "</style>\n",
       "<table border=\"1\" class=\"dataframe\">\n",
       "  <thead>\n",
       "    <tr style=\"text-align: right;\">\n",
       "      <th></th>\n",
       "      <th>JOB_FILING_NUMBER</th>\n",
       "      <th>JOB_NUMBER</th>\n",
       "      <th>FILING_NUMBER</th>\n",
       "      <th>FILING_DATE</th>\n",
       "      <th>FILING_TYPE</th>\n",
       "      <th>FILING_STATUS</th>\n",
       "      <th>JOB_STATUS</th>\n",
       "      <th>HOUSE_NUMBER</th>\n",
       "      <th>STREET_NAME</th>\n",
       "      <th>BOROUGH</th>\n",
       "      <th>...</th>\n",
       "      <th>AMOUNT_PAID</th>\n",
       "      <th>AMOUNT_DUE</th>\n",
       "      <th>PAYMENT_METHOD</th>\n",
       "      <th>GIS_LATITUDE</th>\n",
       "      <th>GIS_LONGITUDE</th>\n",
       "      <th>GIS_COUNCIL_DISTRICT</th>\n",
       "      <th>GIS_CENSUS_TRACT</th>\n",
       "      <th>GIS_BIN</th>\n",
       "      <th>GIS_BBL</th>\n",
       "      <th>GIS_NTA_NAME</th>\n",
       "    </tr>\n",
       "  </thead>\n",
       "  <tbody>\n",
       "  </tbody>\n",
       "</table>\n",
       "<p>0 rows × 84 columns</p>\n",
       "</div>"
      ],
      "text/plain": [
       "Empty DataFrame\n",
       "Columns: [JOB_FILING_NUMBER, JOB_NUMBER, FILING_NUMBER, FILING_DATE, FILING_TYPE, FILING_STATUS, JOB_STATUS, HOUSE_NUMBER, STREET_NAME, BOROUGH, ZIP_CODE, BLOCK, LOT, BIN, COMMUNITY_BOARD, JOINT_VENTURE_WORK, BUILDING_USE_TYPE, APPLICANT_FIRST_NAME, APPLICANT_LAST_NAME, LICENSE_TYPE, LICENSE_NUMBER, FIRM_NAME, FIRM_NUMBER, FIRM_ADDRESS, CITY, STATE, ZIP, GENERAL_LIABILITY_COMPANY, GENERAL_LIABILITY_POLICY, GENERAL_LIABILITY_EXPIRATION_DATE, WORKER_COMP_COMPANY_NAME, WORKER_COMP_POLICY, WORKER_COMP_EXPIRATION_DATE, DISABILITY_COMPANY_NAME, DISABILITY_POLICY, DISABILITY_EXPIRATION_DATE, OWNER_FIRST_NAME, OWNER_LAST_NAME, TITLE, BUSINESS_NAME, OWNER_ADDRESS, OWNER_CITY, OWNER_STATE, OWNER_ZIP, OWNER_TYPE, AUTH_REP_FIRST_NAME, AUTH_REP_LAST_NAME, AUTH_REP_OWNER_RELATION, COO_RELATED, CONST_BIS_JOB_NUMBER, REMOVAL_OF_VIO_OR_OWNER, SVC_WORK_NOTIFY_UTILITY, GENERAL_WIRING, LIGHTING_WORK, TEMP_CONSTRUCTION_SVC, TEMP_LIGHT_POWER, HVAC_WIRING, BOILER_BURNER_WIRING, CATEGORY_WORK_LIST, 3_WIRE, 4_WIRE, 10_POINTS, EXISTING_METERS, NEW_METERS, REMOVE_METERS, TOTAL_METERS, JOB_DESCRIPTION, PERMIT_ISSUED_DATE, JOB_START_DATE, COMPLETION_DATE, FILING_FEE, LEGALIZATION_FEE, NOGOOD_CHECK_FEE, TOTAL_BILLABLE_WORK_FEE, AMOUNT_PAID, AMOUNT_DUE, PAYMENT_METHOD, GIS_LATITUDE, GIS_LONGITUDE, GIS_COUNCIL_DISTRICT, GIS_CENSUS_TRACT, GIS_BIN, GIS_BBL, GIS_NTA_NAME]\n",
       "Index: []\n",
       "\n",
       "[0 rows x 84 columns]"
      ]
     },
     "execution_count": 92,
     "metadata": {},
     "output_type": "execute_result"
    }
   ],
   "source": [
    "df.loc[df[\"GIS_LATITUDE\"] == 0.0]"
   ]
  },
  {
   "cell_type": "markdown",
   "id": "80689e75",
   "metadata": {},
   "source": [
    "#### Removed the the rows above because its obviously a filler job"
   ]
  },
  {
   "cell_type": "code",
   "execution_count": 93,
   "id": "a7acbcde",
   "metadata": {},
   "outputs": [],
   "source": [
    "df = df.drop(df[df[\"GIS_LATITUDE\"] == 0.0].index)"
   ]
  },
  {
   "cell_type": "code",
   "execution_count": 94,
   "id": "9a72c813",
   "metadata": {},
   "outputs": [
    {
     "data": {
      "text/plain": [
       "40.499059"
      ]
     },
     "execution_count": 94,
     "metadata": {},
     "output_type": "execute_result"
    }
   ],
   "source": [
    "df[\"GIS_LATITUDE\"].min()"
   ]
  },
  {
   "cell_type": "markdown",
   "id": "b47f88de",
   "metadata": {},
   "source": [
    "#### The min and max makes sense as the values range from Staten Island to the Bronx"
   ]
  },
  {
   "cell_type": "code",
   "execution_count": 95,
   "id": "a9b5a0e7",
   "metadata": {},
   "outputs": [
    {
     "data": {
      "text/plain": [
       "-74.254845"
      ]
     },
     "execution_count": 95,
     "metadata": {},
     "output_type": "execute_result"
    }
   ],
   "source": [
    "df[\"GIS_LONGITUDE\"] = df[\"GIS_LONGITUDE\"].astype('float')\n",
    "df[\"GIS_LONGITUDE\"].min()"
   ]
  },
  {
   "cell_type": "code",
   "execution_count": 96,
   "id": "90c32880",
   "metadata": {},
   "outputs": [
    {
     "data": {
      "text/plain": [
       "-73.700369"
      ]
     },
     "execution_count": 96,
     "metadata": {},
     "output_type": "execute_result"
    }
   ],
   "source": [
    "df[\"GIS_LONGITUDE\"].max()"
   ]
  },
  {
   "cell_type": "code",
   "execution_count": 97,
   "id": "08f231f3",
   "metadata": {},
   "outputs": [
    {
     "data": {
      "text/html": [
       "<div>\n",
       "<style scoped>\n",
       "    .dataframe tbody tr th:only-of-type {\n",
       "        vertical-align: middle;\n",
       "    }\n",
       "\n",
       "    .dataframe tbody tr th {\n",
       "        vertical-align: top;\n",
       "    }\n",
       "\n",
       "    .dataframe thead th {\n",
       "        text-align: right;\n",
       "    }\n",
       "</style>\n",
       "<table border=\"1\" class=\"dataframe\">\n",
       "  <thead>\n",
       "    <tr style=\"text-align: right;\">\n",
       "      <th></th>\n",
       "      <th>JOB_FILING_NUMBER</th>\n",
       "      <th>JOB_NUMBER</th>\n",
       "      <th>FILING_NUMBER</th>\n",
       "      <th>FILING_DATE</th>\n",
       "      <th>FILING_TYPE</th>\n",
       "      <th>FILING_STATUS</th>\n",
       "      <th>JOB_STATUS</th>\n",
       "      <th>HOUSE_NUMBER</th>\n",
       "      <th>STREET_NAME</th>\n",
       "      <th>BOROUGH</th>\n",
       "      <th>...</th>\n",
       "      <th>AMOUNT_PAID</th>\n",
       "      <th>AMOUNT_DUE</th>\n",
       "      <th>PAYMENT_METHOD</th>\n",
       "      <th>GIS_LATITUDE</th>\n",
       "      <th>GIS_LONGITUDE</th>\n",
       "      <th>GIS_COUNCIL_DISTRICT</th>\n",
       "      <th>GIS_CENSUS_TRACT</th>\n",
       "      <th>GIS_BIN</th>\n",
       "      <th>GIS_BBL</th>\n",
       "      <th>GIS_NTA_NAME</th>\n",
       "    </tr>\n",
       "  </thead>\n",
       "  <tbody>\n",
       "    <tr>\n",
       "      <th>51624</th>\n",
       "      <td>S00602609-I1-EL</td>\n",
       "      <td>S00602609</td>\n",
       "      <td>I1</td>\n",
       "      <td>09/29/2021 12:00:00 AM</td>\n",
       "      <td>New Job Filing</td>\n",
       "      <td>Permit Issued</td>\n",
       "      <td>Job in Process</td>\n",
       "      <td>10</td>\n",
       "      <td>AVIVA COURT</td>\n",
       "      <td>STATEN ISLAND</td>\n",
       "      <td>...</td>\n",
       "      <td>40.0</td>\n",
       "      <td>0.0</td>\n",
       "      <td>Credit Card</td>\n",
       "      <td>40.508064</td>\n",
       "      <td>-74.254845</td>\n",
       "      <td>51</td>\n",
       "      <td>248</td>\n",
       "      <td>5000000</td>\n",
       "      <td>5080050220</td>\n",
       "      <td>Charleston-Richmond Valley-Tottenville</td>\n",
       "    </tr>\n",
       "    <tr>\n",
       "      <th>71415</th>\n",
       "      <td>S00637151-I1-EL</td>\n",
       "      <td>S00637151</td>\n",
       "      <td>I1</td>\n",
       "      <td>11/24/2021 12:00:00 AM</td>\n",
       "      <td>New Job Filing</td>\n",
       "      <td>Permit Issued</td>\n",
       "      <td>Job in Process</td>\n",
       "      <td>10</td>\n",
       "      <td>AVIVA COURT</td>\n",
       "      <td>STATEN ISLAND</td>\n",
       "      <td>...</td>\n",
       "      <td>40.0</td>\n",
       "      <td>0.0</td>\n",
       "      <td>Credit Card</td>\n",
       "      <td>40.508064</td>\n",
       "      <td>-74.254845</td>\n",
       "      <td>51</td>\n",
       "      <td>248</td>\n",
       "      <td>5000000</td>\n",
       "      <td>5080050220</td>\n",
       "      <td>Charleston-Richmond Valley-Tottenville</td>\n",
       "    </tr>\n",
       "  </tbody>\n",
       "</table>\n",
       "<p>2 rows × 84 columns</p>\n",
       "</div>"
      ],
      "text/plain": [
       "      JOB_FILING_NUMBER JOB_NUMBER FILING_NUMBER             FILING_DATE  \\\n",
       "51624   S00602609-I1-EL  S00602609            I1  09/29/2021 12:00:00 AM   \n",
       "71415   S00637151-I1-EL  S00637151            I1  11/24/2021 12:00:00 AM   \n",
       "\n",
       "          FILING_TYPE  FILING_STATUS      JOB_STATUS HOUSE_NUMBER  \\\n",
       "51624  New Job Filing  Permit Issued  Job in Process           10   \n",
       "71415  New Job Filing  Permit Issued  Job in Process           10   \n",
       "\n",
       "       STREET_NAME        BOROUGH  ... AMOUNT_PAID AMOUNT_DUE PAYMENT_METHOD  \\\n",
       "51624  AVIVA COURT  STATEN ISLAND  ...        40.0        0.0    Credit Card   \n",
       "71415  AVIVA COURT  STATEN ISLAND  ...        40.0        0.0    Credit Card   \n",
       "\n",
       "      GIS_LATITUDE GIS_LONGITUDE GIS_COUNCIL_DISTRICT GIS_CENSUS_TRACT  \\\n",
       "51624    40.508064    -74.254845                   51              248   \n",
       "71415    40.508064    -74.254845                   51              248   \n",
       "\n",
       "       GIS_BIN     GIS_BBL                            GIS_NTA_NAME  \n",
       "51624  5000000  5080050220  Charleston-Richmond Valley-Tottenville  \n",
       "71415  5000000  5080050220  Charleston-Richmond Valley-Tottenville  \n",
       "\n",
       "[2 rows x 84 columns]"
      ]
     },
     "execution_count": 97,
     "metadata": {},
     "output_type": "execute_result"
    }
   ],
   "source": [
    "df.loc[df[\"GIS_LONGITUDE\"] == -74.254845]"
   ]
  },
  {
   "cell_type": "markdown",
   "id": "f4917079",
   "metadata": {},
   "source": [
    "#### These longitudes and latitudes range from Queens to Staten Island which is also consistent with our dataset"
   ]
  },
  {
   "cell_type": "code",
   "execution_count": 98,
   "id": "88c40750",
   "metadata": {},
   "outputs": [
    {
     "data": {
      "text/plain": [
       "1.0"
      ]
     },
     "execution_count": 98,
     "metadata": {},
     "output_type": "execute_result"
    }
   ],
   "source": [
    "df[\"GIS_COUNCIL_DISTRICT\"] = df[\"GIS_COUNCIL_DISTRICT\"].astype('float')\n",
    "df[\"GIS_COUNCIL_DISTRICT\"].min()"
   ]
  },
  {
   "cell_type": "code",
   "execution_count": 99,
   "id": "d193ef84",
   "metadata": {},
   "outputs": [
    {
     "data": {
      "text/plain": [
       "51.0"
      ]
     },
     "execution_count": 99,
     "metadata": {},
     "output_type": "execute_result"
    }
   ],
   "source": [
    "df[\"GIS_COUNCIL_DISTRICT\"].max()"
   ]
  },
  {
   "cell_type": "markdown",
   "id": "d26d918f",
   "metadata": {},
   "source": [
    "#### 1-51 are all valid districts"
   ]
  },
  {
   "cell_type": "code",
   "execution_count": 100,
   "id": "2ff97d85",
   "metadata": {},
   "outputs": [
    {
     "data": {
      "text/plain": [
       "1.0"
      ]
     },
     "execution_count": 100,
     "metadata": {},
     "output_type": "execute_result"
    }
   ],
   "source": [
    "df[\"GIS_CENSUS_TRACT\"] = df[\"GIS_CENSUS_TRACT\"].astype('float')\n",
    "df[\"GIS_CENSUS_TRACT\"].min()"
   ]
  },
  {
   "cell_type": "code",
   "execution_count": 101,
   "id": "91611c9a",
   "metadata": {},
   "outputs": [
    {
     "data": {
      "text/plain": [
       "157903.0"
      ]
     },
     "execution_count": 101,
     "metadata": {},
     "output_type": "execute_result"
    }
   ],
   "source": [
    "df[\"GIS_CENSUS_TRACT\"].max()"
   ]
  },
  {
   "cell_type": "code",
   "execution_count": 102,
   "id": "f4648839",
   "metadata": {},
   "outputs": [
    {
     "data": {
      "text/html": [
       "<div>\n",
       "<style scoped>\n",
       "    .dataframe tbody tr th:only-of-type {\n",
       "        vertical-align: middle;\n",
       "    }\n",
       "\n",
       "    .dataframe tbody tr th {\n",
       "        vertical-align: top;\n",
       "    }\n",
       "\n",
       "    .dataframe thead th {\n",
       "        text-align: right;\n",
       "    }\n",
       "</style>\n",
       "<table border=\"1\" class=\"dataframe\">\n",
       "  <thead>\n",
       "    <tr style=\"text-align: right;\">\n",
       "      <th></th>\n",
       "      <th>JOB_FILING_NUMBER</th>\n",
       "      <th>JOB_NUMBER</th>\n",
       "      <th>FILING_NUMBER</th>\n",
       "      <th>FILING_DATE</th>\n",
       "      <th>FILING_TYPE</th>\n",
       "      <th>FILING_STATUS</th>\n",
       "      <th>JOB_STATUS</th>\n",
       "      <th>HOUSE_NUMBER</th>\n",
       "      <th>STREET_NAME</th>\n",
       "      <th>BOROUGH</th>\n",
       "      <th>...</th>\n",
       "      <th>AMOUNT_PAID</th>\n",
       "      <th>AMOUNT_DUE</th>\n",
       "      <th>PAYMENT_METHOD</th>\n",
       "      <th>GIS_LATITUDE</th>\n",
       "      <th>GIS_LONGITUDE</th>\n",
       "      <th>GIS_COUNCIL_DISTRICT</th>\n",
       "      <th>GIS_CENSUS_TRACT</th>\n",
       "      <th>GIS_BIN</th>\n",
       "      <th>GIS_BBL</th>\n",
       "      <th>GIS_NTA_NAME</th>\n",
       "    </tr>\n",
       "  </thead>\n",
       "  <tbody>\n",
       "    <tr>\n",
       "      <th>4922</th>\n",
       "      <td>Q00549701-I1-EL</td>\n",
       "      <td>Q00549701</td>\n",
       "      <td>I1</td>\n",
       "      <td>06/30/2021 12:00:00 AM</td>\n",
       "      <td>New Job Filing</td>\n",
       "      <td>Complete</td>\n",
       "      <td>Job is complete</td>\n",
       "      <td>8632</td>\n",
       "      <td>259 STREET</td>\n",
       "      <td>QUEENS</td>\n",
       "      <td>...</td>\n",
       "      <td>40.0</td>\n",
       "      <td>0.0</td>\n",
       "      <td>Credit Card</td>\n",
       "      <td>40.732623</td>\n",
       "      <td>-73.707557</td>\n",
       "      <td>23.0</td>\n",
       "      <td>157903.0</td>\n",
       "      <td>4180477</td>\n",
       "      <td>4088170055</td>\n",
       "      <td>Glen Oaks-Floral Park-New Hyde Park</td>\n",
       "    </tr>\n",
       "    <tr>\n",
       "      <th>6659</th>\n",
       "      <td>Q00599712-I1-EL</td>\n",
       "      <td>Q00599712</td>\n",
       "      <td>I1</td>\n",
       "      <td>09/23/2021 12:00:00 AM</td>\n",
       "      <td>New Job Filing</td>\n",
       "      <td>Permit Issued</td>\n",
       "      <td>Job in Process</td>\n",
       "      <td>8528</td>\n",
       "      <td>256 STREET</td>\n",
       "      <td>QUEENS</td>\n",
       "      <td>...</td>\n",
       "      <td>40.0</td>\n",
       "      <td>0.0</td>\n",
       "      <td>Check</td>\n",
       "      <td>40.733735</td>\n",
       "      <td>-73.710893</td>\n",
       "      <td>23.0</td>\n",
       "      <td>157903.0</td>\n",
       "      <td>4180020</td>\n",
       "      <td>4087980024</td>\n",
       "      <td>Glen Oaks-Floral Park-New Hyde Park</td>\n",
       "    </tr>\n",
       "    <tr>\n",
       "      <th>6874</th>\n",
       "      <td>Q00292734-S1-EL</td>\n",
       "      <td>Q00292734</td>\n",
       "      <td>S1</td>\n",
       "      <td>09/16/2020 12:00:00 AM</td>\n",
       "      <td>Subsequent Filing</td>\n",
       "      <td>Complete</td>\n",
       "      <td>Job is complete</td>\n",
       "      <td>86-15</td>\n",
       "      <td>259 STREET</td>\n",
       "      <td>QUEENS</td>\n",
       "      <td>...</td>\n",
       "      <td>40.0</td>\n",
       "      <td>0.0</td>\n",
       "      <td>Check</td>\n",
       "      <td>40.732856</td>\n",
       "      <td>-73.707621</td>\n",
       "      <td>23.0</td>\n",
       "      <td>157903.0</td>\n",
       "      <td>4180493</td>\n",
       "      <td>4088180028</td>\n",
       "      <td>Glen Oaks-Floral Park-New Hyde Park</td>\n",
       "    </tr>\n",
       "    <tr>\n",
       "      <th>8229</th>\n",
       "      <td>Q00004024-I1-EL</td>\n",
       "      <td>Q00004024</td>\n",
       "      <td>I1</td>\n",
       "      <td>12/27/2017 12:00:00 AM</td>\n",
       "      <td>New Job Filing</td>\n",
       "      <td>Permit Issued</td>\n",
       "      <td>Job in Process</td>\n",
       "      <td>261-07</td>\n",
       "      <td>87 AVENUE</td>\n",
       "      <td>QUEENS</td>\n",
       "      <td>...</td>\n",
       "      <td>40.0</td>\n",
       "      <td>0.0</td>\n",
       "      <td>Check</td>\n",
       "      <td>40.731923</td>\n",
       "      <td>-73.705265</td>\n",
       "      <td>23.0</td>\n",
       "      <td>157903.0</td>\n",
       "      <td>4617945</td>\n",
       "      <td>4088200004</td>\n",
       "      <td>Glen Oaks-Floral Park-New Hyde Park</td>\n",
       "    </tr>\n",
       "    <tr>\n",
       "      <th>16019</th>\n",
       "      <td>Q00527491-I1-EL</td>\n",
       "      <td>Q00527491</td>\n",
       "      <td>I1</td>\n",
       "      <td>05/24/2021 12:00:00 AM</td>\n",
       "      <td>New Job Filing</td>\n",
       "      <td>Permit Issued</td>\n",
       "      <td>Job in Process</td>\n",
       "      <td>267-06</td>\n",
       "      <td>HILLSIDE AVENUE</td>\n",
       "      <td>QUEENS</td>\n",
       "      <td>...</td>\n",
       "      <td>40.0</td>\n",
       "      <td>0.0</td>\n",
       "      <td>Check</td>\n",
       "      <td>40.738726</td>\n",
       "      <td>-73.701789</td>\n",
       "      <td>23.0</td>\n",
       "      <td>157903.0</td>\n",
       "      <td>4180007</td>\n",
       "      <td>4087970001</td>\n",
       "      <td>Glen Oaks-Floral Park-New Hyde Park</td>\n",
       "    </tr>\n",
       "    <tr>\n",
       "      <th>...</th>\n",
       "      <td>...</td>\n",
       "      <td>...</td>\n",
       "      <td>...</td>\n",
       "      <td>...</td>\n",
       "      <td>...</td>\n",
       "      <td>...</td>\n",
       "      <td>...</td>\n",
       "      <td>...</td>\n",
       "      <td>...</td>\n",
       "      <td>...</td>\n",
       "      <td>...</td>\n",
       "      <td>...</td>\n",
       "      <td>...</td>\n",
       "      <td>...</td>\n",
       "      <td>...</td>\n",
       "      <td>...</td>\n",
       "      <td>...</td>\n",
       "      <td>...</td>\n",
       "      <td>...</td>\n",
       "      <td>...</td>\n",
       "      <td>...</td>\n",
       "    </tr>\n",
       "    <tr>\n",
       "      <th>225376</th>\n",
       "      <td>Q00487089-I1-EL</td>\n",
       "      <td>Q00487089</td>\n",
       "      <td>I1</td>\n",
       "      <td>03/16/2021 12:00:00 AM</td>\n",
       "      <td>New Job Filing</td>\n",
       "      <td>Permit Issued</td>\n",
       "      <td>Job in Process</td>\n",
       "      <td>85-15</td>\n",
       "      <td>258 STREET</td>\n",
       "      <td>QUEENS</td>\n",
       "      <td>...</td>\n",
       "      <td>40.0</td>\n",
       "      <td>0.0</td>\n",
       "      <td>Check</td>\n",
       "      <td>40.734318</td>\n",
       "      <td>-73.709137</td>\n",
       "      <td>23.0</td>\n",
       "      <td>157903.0</td>\n",
       "      <td>4180083</td>\n",
       "      <td>4088010014</td>\n",
       "      <td>Glen Oaks-Floral Park-New Hyde Park</td>\n",
       "    </tr>\n",
       "    <tr>\n",
       "      <th>225381</th>\n",
       "      <td>Q00487234-I1-EL</td>\n",
       "      <td>Q00487234</td>\n",
       "      <td>I1</td>\n",
       "      <td>03/16/2021 12:00:00 AM</td>\n",
       "      <td>New Job Filing</td>\n",
       "      <td>Complete</td>\n",
       "      <td>Job is complete</td>\n",
       "      <td>84-30</td>\n",
       "      <td>264 STREET</td>\n",
       "      <td>QUEENS</td>\n",
       "      <td>...</td>\n",
       "      <td>40.0</td>\n",
       "      <td>0.0</td>\n",
       "      <td>Credit Card</td>\n",
       "      <td>40.737358</td>\n",
       "      <td>-73.704364</td>\n",
       "      <td>23.0</td>\n",
       "      <td>157903.0</td>\n",
       "      <td>4179972</td>\n",
       "      <td>4087930033</td>\n",
       "      <td>Glen Oaks-Floral Park-New Hyde Park</td>\n",
       "    </tr>\n",
       "    <tr>\n",
       "      <th>225383</th>\n",
       "      <td>Q00487175-I1-EL</td>\n",
       "      <td>Q00487175</td>\n",
       "      <td>I1</td>\n",
       "      <td>03/16/2021 12:00:00 AM</td>\n",
       "      <td>New Job Filing</td>\n",
       "      <td>Permit Issued</td>\n",
       "      <td>Job in Process</td>\n",
       "      <td>255-15</td>\n",
       "      <td>EAST WILLISTON AVENUE</td>\n",
       "      <td>QUEENS</td>\n",
       "      <td>...</td>\n",
       "      <td>40.0</td>\n",
       "      <td>0.0</td>\n",
       "      <td>Check</td>\n",
       "      <td>40.733676</td>\n",
       "      <td>-73.711752</td>\n",
       "      <td>23.0</td>\n",
       "      <td>157903.0</td>\n",
       "      <td>4179715</td>\n",
       "      <td>4087850029</td>\n",
       "      <td>Glen Oaks-Floral Park-New Hyde Park</td>\n",
       "    </tr>\n",
       "    <tr>\n",
       "      <th>225610</th>\n",
       "      <td>Q00491605-I1-EL</td>\n",
       "      <td>Q00491605</td>\n",
       "      <td>I1</td>\n",
       "      <td>03/23/2021 12:00:00 AM</td>\n",
       "      <td>New Job Filing</td>\n",
       "      <td>Permit Issued</td>\n",
       "      <td>Job in Process</td>\n",
       "      <td>257-04</td>\n",
       "      <td>87 AVENUE</td>\n",
       "      <td>QUEENS</td>\n",
       "      <td>...</td>\n",
       "      <td>40.0</td>\n",
       "      <td>0.0</td>\n",
       "      <td>Check</td>\n",
       "      <td>40.731168</td>\n",
       "      <td>-73.708772</td>\n",
       "      <td>23.0</td>\n",
       "      <td>157903.0</td>\n",
       "      <td>4180622</td>\n",
       "      <td>4088250032</td>\n",
       "      <td>Glen Oaks-Floral Park-New Hyde Park</td>\n",
       "    </tr>\n",
       "    <tr>\n",
       "      <th>225725</th>\n",
       "      <td>Q00494220-I1-EL</td>\n",
       "      <td>Q00494220</td>\n",
       "      <td>I1</td>\n",
       "      <td>03/29/2021 12:00:00 AM</td>\n",
       "      <td>New Job Filing</td>\n",
       "      <td>Permit Issued</td>\n",
       "      <td>Job in Process</td>\n",
       "      <td>25717</td>\n",
       "      <td>86 AVENUE</td>\n",
       "      <td>QUEENS</td>\n",
       "      <td>...</td>\n",
       "      <td>40.0</td>\n",
       "      <td>0.0</td>\n",
       "      <td>Check</td>\n",
       "      <td>40.732968</td>\n",
       "      <td>-73.709360</td>\n",
       "      <td>23.0</td>\n",
       "      <td>157903.0</td>\n",
       "      <td>4180053</td>\n",
       "      <td>4088000001</td>\n",
       "      <td>Glen Oaks-Floral Park-New Hyde Park</td>\n",
       "    </tr>\n",
       "  </tbody>\n",
       "</table>\n",
       "<p>145 rows × 84 columns</p>\n",
       "</div>"
      ],
      "text/plain": [
       "       JOB_FILING_NUMBER JOB_NUMBER FILING_NUMBER             FILING_DATE  \\\n",
       "4922     Q00549701-I1-EL  Q00549701            I1  06/30/2021 12:00:00 AM   \n",
       "6659     Q00599712-I1-EL  Q00599712            I1  09/23/2021 12:00:00 AM   \n",
       "6874     Q00292734-S1-EL  Q00292734            S1  09/16/2020 12:00:00 AM   \n",
       "8229     Q00004024-I1-EL  Q00004024            I1  12/27/2017 12:00:00 AM   \n",
       "16019    Q00527491-I1-EL  Q00527491            I1  05/24/2021 12:00:00 AM   \n",
       "...                  ...        ...           ...                     ...   \n",
       "225376   Q00487089-I1-EL  Q00487089            I1  03/16/2021 12:00:00 AM   \n",
       "225381   Q00487234-I1-EL  Q00487234            I1  03/16/2021 12:00:00 AM   \n",
       "225383   Q00487175-I1-EL  Q00487175            I1  03/16/2021 12:00:00 AM   \n",
       "225610   Q00491605-I1-EL  Q00491605            I1  03/23/2021 12:00:00 AM   \n",
       "225725   Q00494220-I1-EL  Q00494220            I1  03/29/2021 12:00:00 AM   \n",
       "\n",
       "              FILING_TYPE  FILING_STATUS       JOB_STATUS HOUSE_NUMBER  \\\n",
       "4922       New Job Filing       Complete  Job is complete         8632   \n",
       "6659       New Job Filing  Permit Issued   Job in Process         8528   \n",
       "6874    Subsequent Filing       Complete  Job is complete        86-15   \n",
       "8229       New Job Filing  Permit Issued   Job in Process       261-07   \n",
       "16019      New Job Filing  Permit Issued   Job in Process       267-06   \n",
       "...                   ...            ...              ...          ...   \n",
       "225376     New Job Filing  Permit Issued   Job in Process        85-15   \n",
       "225381     New Job Filing       Complete  Job is complete        84-30   \n",
       "225383     New Job Filing  Permit Issued   Job in Process       255-15   \n",
       "225610     New Job Filing  Permit Issued   Job in Process       257-04   \n",
       "225725     New Job Filing  Permit Issued   Job in Process        25717   \n",
       "\n",
       "                  STREET_NAME BOROUGH  ... AMOUNT_PAID AMOUNT_DUE  \\\n",
       "4922               259 STREET  QUEENS  ...        40.0        0.0   \n",
       "6659               256 STREET  QUEENS  ...        40.0        0.0   \n",
       "6874               259 STREET  QUEENS  ...        40.0        0.0   \n",
       "8229                87 AVENUE  QUEENS  ...        40.0        0.0   \n",
       "16019         HILLSIDE AVENUE  QUEENS  ...        40.0        0.0   \n",
       "...                       ...     ...  ...         ...        ...   \n",
       "225376             258 STREET  QUEENS  ...        40.0        0.0   \n",
       "225381             264 STREET  QUEENS  ...        40.0        0.0   \n",
       "225383  EAST WILLISTON AVENUE  QUEENS  ...        40.0        0.0   \n",
       "225610              87 AVENUE  QUEENS  ...        40.0        0.0   \n",
       "225725              86 AVENUE  QUEENS  ...        40.0        0.0   \n",
       "\n",
       "       PAYMENT_METHOD GIS_LATITUDE GIS_LONGITUDE GIS_COUNCIL_DISTRICT  \\\n",
       "4922      Credit Card    40.732623    -73.707557                 23.0   \n",
       "6659            Check    40.733735    -73.710893                 23.0   \n",
       "6874            Check    40.732856    -73.707621                 23.0   \n",
       "8229            Check    40.731923    -73.705265                 23.0   \n",
       "16019           Check    40.738726    -73.701789                 23.0   \n",
       "...               ...          ...           ...                  ...   \n",
       "225376          Check    40.734318    -73.709137                 23.0   \n",
       "225381    Credit Card    40.737358    -73.704364                 23.0   \n",
       "225383          Check    40.733676    -73.711752                 23.0   \n",
       "225610          Check    40.731168    -73.708772                 23.0   \n",
       "225725          Check    40.732968    -73.709360                 23.0   \n",
       "\n",
       "       GIS_CENSUS_TRACT  GIS_BIN     GIS_BBL  \\\n",
       "4922           157903.0  4180477  4088170055   \n",
       "6659           157903.0  4180020  4087980024   \n",
       "6874           157903.0  4180493  4088180028   \n",
       "8229           157903.0  4617945  4088200004   \n",
       "16019          157903.0  4180007  4087970001   \n",
       "...                 ...      ...         ...   \n",
       "225376         157903.0  4180083  4088010014   \n",
       "225381         157903.0  4179972  4087930033   \n",
       "225383         157903.0  4179715  4087850029   \n",
       "225610         157903.0  4180622  4088250032   \n",
       "225725         157903.0  4180053  4088000001   \n",
       "\n",
       "                               GIS_NTA_NAME  \n",
       "4922    Glen Oaks-Floral Park-New Hyde Park  \n",
       "6659    Glen Oaks-Floral Park-New Hyde Park  \n",
       "6874    Glen Oaks-Floral Park-New Hyde Park  \n",
       "8229    Glen Oaks-Floral Park-New Hyde Park  \n",
       "16019   Glen Oaks-Floral Park-New Hyde Park  \n",
       "...                                     ...  \n",
       "225376  Glen Oaks-Floral Park-New Hyde Park  \n",
       "225381  Glen Oaks-Floral Park-New Hyde Park  \n",
       "225383  Glen Oaks-Floral Park-New Hyde Park  \n",
       "225610  Glen Oaks-Floral Park-New Hyde Park  \n",
       "225725  Glen Oaks-Floral Park-New Hyde Park  \n",
       "\n",
       "[145 rows x 84 columns]"
      ]
     },
     "execution_count": 102,
     "metadata": {},
     "output_type": "execute_result"
    }
   ],
   "source": [
    "df.loc[df[\"GIS_CENSUS_TRACT\"] == 157903]"
   ]
  },
  {
   "cell_type": "markdown",
   "id": "4ac066c5",
   "metadata": {},
   "source": [
    "#### No irregulars for census tract"
   ]
  },
  {
   "cell_type": "code",
   "execution_count": 103,
   "id": "d3140a2a",
   "metadata": {},
   "outputs": [
    {
     "data": {
      "text/plain": [
       "1000000.0"
      ]
     },
     "execution_count": 103,
     "metadata": {},
     "output_type": "execute_result"
    }
   ],
   "source": [
    "df[\"GIS_BIN\"] = df[\"GIS_BIN\"].astype('float')\n",
    "df[\"GIS_BIN\"].min()"
   ]
  },
  {
   "cell_type": "code",
   "execution_count": 104,
   "id": "46da810d",
   "metadata": {},
   "outputs": [
    {
     "data": {
      "text/plain": [
       "5174629.0"
      ]
     },
     "execution_count": 104,
     "metadata": {},
     "output_type": "execute_result"
    }
   ],
   "source": [
    "df[\"GIS_BIN\"] = df[\"GIS_BIN\"].astype('float')\n",
    "df[\"GIS_BIN\"].max()"
   ]
  },
  {
   "cell_type": "code",
   "execution_count": 105,
   "id": "f432e426",
   "metadata": {},
   "outputs": [
    {
     "data": {
      "text/html": [
       "<div>\n",
       "<style scoped>\n",
       "    .dataframe tbody tr th:only-of-type {\n",
       "        vertical-align: middle;\n",
       "    }\n",
       "\n",
       "    .dataframe tbody tr th {\n",
       "        vertical-align: top;\n",
       "    }\n",
       "\n",
       "    .dataframe thead th {\n",
       "        text-align: right;\n",
       "    }\n",
       "</style>\n",
       "<table border=\"1\" class=\"dataframe\">\n",
       "  <thead>\n",
       "    <tr style=\"text-align: right;\">\n",
       "      <th></th>\n",
       "      <th>JOB_FILING_NUMBER</th>\n",
       "      <th>JOB_NUMBER</th>\n",
       "      <th>FILING_NUMBER</th>\n",
       "      <th>FILING_DATE</th>\n",
       "      <th>FILING_TYPE</th>\n",
       "      <th>FILING_STATUS</th>\n",
       "      <th>JOB_STATUS</th>\n",
       "      <th>HOUSE_NUMBER</th>\n",
       "      <th>STREET_NAME</th>\n",
       "      <th>BOROUGH</th>\n",
       "      <th>...</th>\n",
       "      <th>AMOUNT_PAID</th>\n",
       "      <th>AMOUNT_DUE</th>\n",
       "      <th>PAYMENT_METHOD</th>\n",
       "      <th>GIS_LATITUDE</th>\n",
       "      <th>GIS_LONGITUDE</th>\n",
       "      <th>GIS_COUNCIL_DISTRICT</th>\n",
       "      <th>GIS_CENSUS_TRACT</th>\n",
       "      <th>GIS_BIN</th>\n",
       "      <th>GIS_BBL</th>\n",
       "      <th>GIS_NTA_NAME</th>\n",
       "    </tr>\n",
       "  </thead>\n",
       "  <tbody>\n",
       "    <tr>\n",
       "      <th>141</th>\n",
       "      <td>M00378674-P1</td>\n",
       "      <td>M00378674</td>\n",
       "      <td>P1</td>\n",
       "      <td>06/02/2021 12:00:00 AM</td>\n",
       "      <td>PAA</td>\n",
       "      <td>Approved</td>\n",
       "      <td>Job in Process</td>\n",
       "      <td>267</td>\n",
       "      <td>WEST 126 STREET</td>\n",
       "      <td>MANHATTAN</td>\n",
       "      <td>...</td>\n",
       "      <td>40.0</td>\n",
       "      <td>0.0</td>\n",
       "      <td>NaN</td>\n",
       "      <td>40.810409</td>\n",
       "      <td>-73.949628</td>\n",
       "      <td>9.0</td>\n",
       "      <td>224.0</td>\n",
       "      <td>1000000.0</td>\n",
       "      <td>1019320005</td>\n",
       "      <td>Central Harlem North-Polo Grounds</td>\n",
       "    </tr>\n",
       "    <tr>\n",
       "      <th>261</th>\n",
       "      <td>M00532602-I1-EL</td>\n",
       "      <td>M00532602</td>\n",
       "      <td>I1</td>\n",
       "      <td>06/02/2021 12:00:00 AM</td>\n",
       "      <td>New Job Filing</td>\n",
       "      <td>Cancel</td>\n",
       "      <td>Inspection not complete due to withdrawal</td>\n",
       "      <td>2017</td>\n",
       "      <td>FIRST AVENUE</td>\n",
       "      <td>MANHATTAN</td>\n",
       "      <td>...</td>\n",
       "      <td>40.0</td>\n",
       "      <td>0.0</td>\n",
       "      <td>Credit Card</td>\n",
       "      <td>40.788231</td>\n",
       "      <td>-73.941094</td>\n",
       "      <td>8.0</td>\n",
       "      <td>164.0</td>\n",
       "      <td>1000000.0</td>\n",
       "      <td>1016750030</td>\n",
       "      <td>East Harlem South</td>\n",
       "    </tr>\n",
       "    <tr>\n",
       "      <th>695</th>\n",
       "      <td>M00051754-I1-EL</td>\n",
       "      <td>M00051754</td>\n",
       "      <td>I1</td>\n",
       "      <td>06/09/2018 12:00:00 AM</td>\n",
       "      <td>New Job Filing</td>\n",
       "      <td>Complete</td>\n",
       "      <td>Job is complete</td>\n",
       "      <td>110</td>\n",
       "      <td>CHARLTON STREET</td>\n",
       "      <td>MANHATTAN</td>\n",
       "      <td>...</td>\n",
       "      <td>40.0</td>\n",
       "      <td>0.0</td>\n",
       "      <td>Check</td>\n",
       "      <td>40.727422</td>\n",
       "      <td>-74.008392</td>\n",
       "      <td>3.0</td>\n",
       "      <td>37.0</td>\n",
       "      <td>1000000.0</td>\n",
       "      <td>1005970039</td>\n",
       "      <td>SoHo-TriBeCa-Civic Center-Little Italy</td>\n",
       "    </tr>\n",
       "    <tr>\n",
       "      <th>698</th>\n",
       "      <td>M00051870-I1-EL</td>\n",
       "      <td>M00051870</td>\n",
       "      <td>I1</td>\n",
       "      <td>06/11/2018 12:00:00 AM</td>\n",
       "      <td>New Job Filing</td>\n",
       "      <td>Complete</td>\n",
       "      <td>Job is complete</td>\n",
       "      <td>315</td>\n",
       "      <td>EAST 46 STREET</td>\n",
       "      <td>MANHATTAN</td>\n",
       "      <td>...</td>\n",
       "      <td>40.0</td>\n",
       "      <td>0.0</td>\n",
       "      <td>Check</td>\n",
       "      <td>40.752140</td>\n",
       "      <td>-73.969758</td>\n",
       "      <td>4.0</td>\n",
       "      <td>90.0</td>\n",
       "      <td>1000000.0</td>\n",
       "      <td>1013390010</td>\n",
       "      <td>Turtle Bay-East Midtown</td>\n",
       "    </tr>\n",
       "    <tr>\n",
       "      <th>715</th>\n",
       "      <td>M00546819-I1-EL</td>\n",
       "      <td>M00546819</td>\n",
       "      <td>I1</td>\n",
       "      <td>06/29/2021 12:00:00 AM</td>\n",
       "      <td>New Job Filing</td>\n",
       "      <td>Permit Issued</td>\n",
       "      <td>Job in Process</td>\n",
       "      <td>501</td>\n",
       "      <td>WEST 35 STREET</td>\n",
       "      <td>MANHATTAN</td>\n",
       "      <td>...</td>\n",
       "      <td>40.0</td>\n",
       "      <td>0.0</td>\n",
       "      <td>Credit Card</td>\n",
       "      <td>40.755342</td>\n",
       "      <td>-73.998849</td>\n",
       "      <td>3.0</td>\n",
       "      <td>99.0</td>\n",
       "      <td>1000000.0</td>\n",
       "      <td>1007070031</td>\n",
       "      <td>Hudson Yards-Chelsea-Flatiron-Union Square</td>\n",
       "    </tr>\n",
       "    <tr>\n",
       "      <th>...</th>\n",
       "      <td>...</td>\n",
       "      <td>...</td>\n",
       "      <td>...</td>\n",
       "      <td>...</td>\n",
       "      <td>...</td>\n",
       "      <td>...</td>\n",
       "      <td>...</td>\n",
       "      <td>...</td>\n",
       "      <td>...</td>\n",
       "      <td>...</td>\n",
       "      <td>...</td>\n",
       "      <td>...</td>\n",
       "      <td>...</td>\n",
       "      <td>...</td>\n",
       "      <td>...</td>\n",
       "      <td>...</td>\n",
       "      <td>...</td>\n",
       "      <td>...</td>\n",
       "      <td>...</td>\n",
       "      <td>...</td>\n",
       "      <td>...</td>\n",
       "    </tr>\n",
       "    <tr>\n",
       "      <th>183971</th>\n",
       "      <td>M00504131-I1-EL</td>\n",
       "      <td>M00504131</td>\n",
       "      <td>I1</td>\n",
       "      <td>04/15/2021 12:00:00 AM</td>\n",
       "      <td>New Job Filing</td>\n",
       "      <td>Permit Issued</td>\n",
       "      <td>Job in Process</td>\n",
       "      <td>115</td>\n",
       "      <td>EAST 97 STREET</td>\n",
       "      <td>MANHATTAN</td>\n",
       "      <td>...</td>\n",
       "      <td>40.0</td>\n",
       "      <td>0.0</td>\n",
       "      <td>Credit Card</td>\n",
       "      <td>40.786874</td>\n",
       "      <td>-73.951206</td>\n",
       "      <td>5.0</td>\n",
       "      <td>15802.0</td>\n",
       "      <td>1000000.0</td>\n",
       "      <td>1016250007</td>\n",
       "      <td>East Harlem South</td>\n",
       "    </tr>\n",
       "    <tr>\n",
       "      <th>183976</th>\n",
       "      <td>M00504103-I1-EL</td>\n",
       "      <td>M00504103</td>\n",
       "      <td>I1</td>\n",
       "      <td>04/15/2021 12:00:00 AM</td>\n",
       "      <td>New Job Filing</td>\n",
       "      <td>Permit Issued</td>\n",
       "      <td>Job in Process</td>\n",
       "      <td>115</td>\n",
       "      <td>EAST 97 STREET</td>\n",
       "      <td>MANHATTAN</td>\n",
       "      <td>...</td>\n",
       "      <td>40.0</td>\n",
       "      <td>0.0</td>\n",
       "      <td>Credit Card</td>\n",
       "      <td>40.786874</td>\n",
       "      <td>-73.951206</td>\n",
       "      <td>5.0</td>\n",
       "      <td>15802.0</td>\n",
       "      <td>1000000.0</td>\n",
       "      <td>1016250007</td>\n",
       "      <td>East Harlem South</td>\n",
       "    </tr>\n",
       "    <tr>\n",
       "      <th>184074</th>\n",
       "      <td>M00505874-I1-EL</td>\n",
       "      <td>M00505874</td>\n",
       "      <td>I1</td>\n",
       "      <td>04/19/2021 12:00:00 AM</td>\n",
       "      <td>New Job Filing</td>\n",
       "      <td>Complete</td>\n",
       "      <td>Job is complete</td>\n",
       "      <td>25</td>\n",
       "      <td>GREAT JONES STREET</td>\n",
       "      <td>MANHATTAN</td>\n",
       "      <td>...</td>\n",
       "      <td>40.0</td>\n",
       "      <td>0.0</td>\n",
       "      <td>Check</td>\n",
       "      <td>40.727043</td>\n",
       "      <td>-73.993152</td>\n",
       "      <td>1.0</td>\n",
       "      <td>5502.0</td>\n",
       "      <td>1000000.0</td>\n",
       "      <td>1005307508</td>\n",
       "      <td>West Village</td>\n",
       "    </tr>\n",
       "    <tr>\n",
       "      <th>184193</th>\n",
       "      <td>M00507415-I1-EL</td>\n",
       "      <td>M00507415</td>\n",
       "      <td>I1</td>\n",
       "      <td>04/20/2021 12:00:00 AM</td>\n",
       "      <td>New Job Filing</td>\n",
       "      <td>Permit Issued</td>\n",
       "      <td>Job in Process</td>\n",
       "      <td>469</td>\n",
       "      <td>CONVENT AVENUE</td>\n",
       "      <td>MANHATTAN</td>\n",
       "      <td>...</td>\n",
       "      <td>40.0</td>\n",
       "      <td>0.0</td>\n",
       "      <td>Credit Card</td>\n",
       "      <td>40.828014</td>\n",
       "      <td>-73.943581</td>\n",
       "      <td>9.0</td>\n",
       "      <td>23501.0</td>\n",
       "      <td>1000000.0</td>\n",
       "      <td>1020650019</td>\n",
       "      <td>Hamilton Heights</td>\n",
       "    </tr>\n",
       "    <tr>\n",
       "      <th>184194</th>\n",
       "      <td>M00507415-S1-EL</td>\n",
       "      <td>M00507415</td>\n",
       "      <td>S1</td>\n",
       "      <td>04/20/2021 12:00:00 AM</td>\n",
       "      <td>Subsequent Filing</td>\n",
       "      <td>Permit Issued</td>\n",
       "      <td>Job in Process</td>\n",
       "      <td>469</td>\n",
       "      <td>CONVENT AVENUE</td>\n",
       "      <td>MANHATTAN</td>\n",
       "      <td>...</td>\n",
       "      <td>40.0</td>\n",
       "      <td>0.0</td>\n",
       "      <td>Credit Card</td>\n",
       "      <td>40.828014</td>\n",
       "      <td>-73.943581</td>\n",
       "      <td>9.0</td>\n",
       "      <td>23501.0</td>\n",
       "      <td>1000000.0</td>\n",
       "      <td>1020650019</td>\n",
       "      <td>Hamilton Heights</td>\n",
       "    </tr>\n",
       "  </tbody>\n",
       "</table>\n",
       "<p>1324 rows × 84 columns</p>\n",
       "</div>"
      ],
      "text/plain": [
       "       JOB_FILING_NUMBER JOB_NUMBER FILING_NUMBER             FILING_DATE  \\\n",
       "141         M00378674-P1  M00378674            P1  06/02/2021 12:00:00 AM   \n",
       "261      M00532602-I1-EL  M00532602            I1  06/02/2021 12:00:00 AM   \n",
       "695      M00051754-I1-EL  M00051754            I1  06/09/2018 12:00:00 AM   \n",
       "698      M00051870-I1-EL  M00051870            I1  06/11/2018 12:00:00 AM   \n",
       "715      M00546819-I1-EL  M00546819            I1  06/29/2021 12:00:00 AM   \n",
       "...                  ...        ...           ...                     ...   \n",
       "183971   M00504131-I1-EL  M00504131            I1  04/15/2021 12:00:00 AM   \n",
       "183976   M00504103-I1-EL  M00504103            I1  04/15/2021 12:00:00 AM   \n",
       "184074   M00505874-I1-EL  M00505874            I1  04/19/2021 12:00:00 AM   \n",
       "184193   M00507415-I1-EL  M00507415            I1  04/20/2021 12:00:00 AM   \n",
       "184194   M00507415-S1-EL  M00507415            S1  04/20/2021 12:00:00 AM   \n",
       "\n",
       "              FILING_TYPE  FILING_STATUS  \\\n",
       "141                   PAA       Approved   \n",
       "261        New Job Filing         Cancel   \n",
       "695        New Job Filing       Complete   \n",
       "698        New Job Filing       Complete   \n",
       "715        New Job Filing  Permit Issued   \n",
       "...                   ...            ...   \n",
       "183971     New Job Filing  Permit Issued   \n",
       "183976     New Job Filing  Permit Issued   \n",
       "184074     New Job Filing       Complete   \n",
       "184193     New Job Filing  Permit Issued   \n",
       "184194  Subsequent Filing  Permit Issued   \n",
       "\n",
       "                                       JOB_STATUS HOUSE_NUMBER  \\\n",
       "141                                Job in Process          267   \n",
       "261     Inspection not complete due to withdrawal         2017   \n",
       "695                               Job is complete          110   \n",
       "698                               Job is complete          315   \n",
       "715                                Job in Process          501   \n",
       "...                                           ...          ...   \n",
       "183971                             Job in Process          115   \n",
       "183976                             Job in Process          115   \n",
       "184074                            Job is complete           25   \n",
       "184193                             Job in Process          469   \n",
       "184194                             Job in Process          469   \n",
       "\n",
       "               STREET_NAME    BOROUGH  ... AMOUNT_PAID AMOUNT_DUE  \\\n",
       "141        WEST 126 STREET  MANHATTAN  ...        40.0        0.0   \n",
       "261           FIRST AVENUE  MANHATTAN  ...        40.0        0.0   \n",
       "695        CHARLTON STREET  MANHATTAN  ...        40.0        0.0   \n",
       "698         EAST 46 STREET  MANHATTAN  ...        40.0        0.0   \n",
       "715         WEST 35 STREET  MANHATTAN  ...        40.0        0.0   \n",
       "...                    ...        ...  ...         ...        ...   \n",
       "183971      EAST 97 STREET  MANHATTAN  ...        40.0        0.0   \n",
       "183976      EAST 97 STREET  MANHATTAN  ...        40.0        0.0   \n",
       "184074  GREAT JONES STREET  MANHATTAN  ...        40.0        0.0   \n",
       "184193      CONVENT AVENUE  MANHATTAN  ...        40.0        0.0   \n",
       "184194      CONVENT AVENUE  MANHATTAN  ...        40.0        0.0   \n",
       "\n",
       "       PAYMENT_METHOD GIS_LATITUDE GIS_LONGITUDE GIS_COUNCIL_DISTRICT  \\\n",
       "141               NaN    40.810409    -73.949628                  9.0   \n",
       "261       Credit Card    40.788231    -73.941094                  8.0   \n",
       "695             Check    40.727422    -74.008392                  3.0   \n",
       "698             Check    40.752140    -73.969758                  4.0   \n",
       "715       Credit Card    40.755342    -73.998849                  3.0   \n",
       "...               ...          ...           ...                  ...   \n",
       "183971    Credit Card    40.786874    -73.951206                  5.0   \n",
       "183976    Credit Card    40.786874    -73.951206                  5.0   \n",
       "184074          Check    40.727043    -73.993152                  1.0   \n",
       "184193    Credit Card    40.828014    -73.943581                  9.0   \n",
       "184194    Credit Card    40.828014    -73.943581                  9.0   \n",
       "\n",
       "       GIS_CENSUS_TRACT    GIS_BIN     GIS_BBL  \\\n",
       "141               224.0  1000000.0  1019320005   \n",
       "261               164.0  1000000.0  1016750030   \n",
       "695                37.0  1000000.0  1005970039   \n",
       "698                90.0  1000000.0  1013390010   \n",
       "715                99.0  1000000.0  1007070031   \n",
       "...                 ...        ...         ...   \n",
       "183971          15802.0  1000000.0  1016250007   \n",
       "183976          15802.0  1000000.0  1016250007   \n",
       "184074           5502.0  1000000.0  1005307508   \n",
       "184193          23501.0  1000000.0  1020650019   \n",
       "184194          23501.0  1000000.0  1020650019   \n",
       "\n",
       "                                      GIS_NTA_NAME  \n",
       "141              Central Harlem North-Polo Grounds  \n",
       "261                              East Harlem South  \n",
       "695         SoHo-TriBeCa-Civic Center-Little Italy  \n",
       "698                        Turtle Bay-East Midtown  \n",
       "715     Hudson Yards-Chelsea-Flatiron-Union Square  \n",
       "...                                            ...  \n",
       "183971                           East Harlem South  \n",
       "183976                           East Harlem South  \n",
       "184074                                West Village  \n",
       "184193                            Hamilton Heights  \n",
       "184194                            Hamilton Heights  \n",
       "\n",
       "[1324 rows x 84 columns]"
      ]
     },
     "execution_count": 105,
     "metadata": {},
     "output_type": "execute_result"
    }
   ],
   "source": [
    "df.loc[df[\"GIS_BIN\"] == 1000000]"
   ]
  },
  {
   "cell_type": "code",
   "execution_count": 106,
   "id": "d6519e12",
   "metadata": {},
   "outputs": [
    {
     "data": {
      "text/html": [
       "<div>\n",
       "<style scoped>\n",
       "    .dataframe tbody tr th:only-of-type {\n",
       "        vertical-align: middle;\n",
       "    }\n",
       "\n",
       "    .dataframe tbody tr th {\n",
       "        vertical-align: top;\n",
       "    }\n",
       "\n",
       "    .dataframe thead th {\n",
       "        text-align: right;\n",
       "    }\n",
       "</style>\n",
       "<table border=\"1\" class=\"dataframe\">\n",
       "  <thead>\n",
       "    <tr style=\"text-align: right;\">\n",
       "      <th></th>\n",
       "      <th>JOB_FILING_NUMBER</th>\n",
       "      <th>JOB_NUMBER</th>\n",
       "      <th>FILING_NUMBER</th>\n",
       "      <th>FILING_DATE</th>\n",
       "      <th>FILING_TYPE</th>\n",
       "      <th>FILING_STATUS</th>\n",
       "      <th>JOB_STATUS</th>\n",
       "      <th>HOUSE_NUMBER</th>\n",
       "      <th>STREET_NAME</th>\n",
       "      <th>BOROUGH</th>\n",
       "      <th>...</th>\n",
       "      <th>AMOUNT_PAID</th>\n",
       "      <th>AMOUNT_DUE</th>\n",
       "      <th>PAYMENT_METHOD</th>\n",
       "      <th>GIS_LATITUDE</th>\n",
       "      <th>GIS_LONGITUDE</th>\n",
       "      <th>GIS_COUNCIL_DISTRICT</th>\n",
       "      <th>GIS_CENSUS_TRACT</th>\n",
       "      <th>GIS_BIN</th>\n",
       "      <th>GIS_BBL</th>\n",
       "      <th>GIS_NTA_NAME</th>\n",
       "    </tr>\n",
       "  </thead>\n",
       "  <tbody>\n",
       "    <tr>\n",
       "      <th>231578</th>\n",
       "      <td>S00161271-I1-EL</td>\n",
       "      <td>S00161271</td>\n",
       "      <td>I1</td>\n",
       "      <td>04/30/2019 12:00:00 AM</td>\n",
       "      <td>New Job Filing</td>\n",
       "      <td>Complete</td>\n",
       "      <td>Job is complete</td>\n",
       "      <td>67</td>\n",
       "      <td>CEDAR GROVE AVENUE</td>\n",
       "      <td>STATEN ISLAND</td>\n",
       "      <td>...</td>\n",
       "      <td>40.0</td>\n",
       "      <td>0.0</td>\n",
       "      <td>Credit Card</td>\n",
       "      <td>40.56283</td>\n",
       "      <td>-74.099129</td>\n",
       "      <td>50.0</td>\n",
       "      <td>12804.0</td>\n",
       "      <td>5174629.0</td>\n",
       "      <td>5040830001</td>\n",
       "      <td>New Dorp-Midland Beach</td>\n",
       "    </tr>\n",
       "  </tbody>\n",
       "</table>\n",
       "<p>1 rows × 84 columns</p>\n",
       "</div>"
      ],
      "text/plain": [
       "       JOB_FILING_NUMBER JOB_NUMBER FILING_NUMBER             FILING_DATE  \\\n",
       "231578   S00161271-I1-EL  S00161271            I1  04/30/2019 12:00:00 AM   \n",
       "\n",
       "           FILING_TYPE FILING_STATUS       JOB_STATUS HOUSE_NUMBER  \\\n",
       "231578  New Job Filing      Complete  Job is complete           67   \n",
       "\n",
       "               STREET_NAME        BOROUGH  ... AMOUNT_PAID AMOUNT_DUE  \\\n",
       "231578  CEDAR GROVE AVENUE  STATEN ISLAND  ...        40.0        0.0   \n",
       "\n",
       "       PAYMENT_METHOD GIS_LATITUDE GIS_LONGITUDE GIS_COUNCIL_DISTRICT  \\\n",
       "231578    Credit Card     40.56283    -74.099129                 50.0   \n",
       "\n",
       "       GIS_CENSUS_TRACT    GIS_BIN     GIS_BBL            GIS_NTA_NAME  \n",
       "231578          12804.0  5174629.0  5040830001  New Dorp-Midland Beach  \n",
       "\n",
       "[1 rows x 84 columns]"
      ]
     },
     "execution_count": 106,
     "metadata": {},
     "output_type": "execute_result"
    }
   ],
   "source": [
    "df.loc[df[\"GIS_BIN\"] == 5174629.0]"
   ]
  },
  {
   "cell_type": "markdown",
   "id": "2fb15243",
   "metadata": {},
   "source": [
    "#### Nothing wrong with GIS BIN either"
   ]
  },
  {
   "cell_type": "code",
   "execution_count": null,
   "id": "fcc214b9",
   "metadata": {},
   "outputs": [],
   "source": []
  },
  {
   "cell_type": "code",
   "execution_count": null,
   "id": "3f2786b2",
   "metadata": {},
   "outputs": [],
   "source": []
  },
  {
   "cell_type": "markdown",
   "id": "844abf48",
   "metadata": {},
   "source": [
    "# Data Profilling for datetime columns\n",
    "\n",
    "\n",
    "Find format problems and outliers in all datetime columns\n",
    "\n",
    "Using openclean's sklearn modules to detect problems and outliers"
   ]
  },
  {
   "cell_type": "code",
   "execution_count": 107,
   "id": "580c77ba",
   "metadata": {},
   "outputs": [],
   "source": [
    "from openclean.profiling.anomalies.sklearn import DBSCANOutliers\n",
    "\n",
    "def findDateOutliers(column_name, eps_setting = 0.05):\n",
    "    datetime_data = ds.distinct(column_name)\n",
    "    print(\"Column: \",column_name)\n",
    "    \n",
    "    for rank, val in enumerate(datetime_data.most_common(10)):        \n",
    "        st, freq = val\n",
    "        print('{:<3} {:>8}  {:>10}'.format('{}.'.format(rank + 1), st, '{:,}'.format(freq)))\n",
    "\n",
    "    print('\\nTotal number of distinct values in {} is {}'.format(column_name, len(datetime_data)))\n",
    "    print(DBSCANOutliers().find(datetime_data))\n",
    "    print(DBSCANOutliers(eps = eps_setting).find(datetime_data))\n",
    "    print('\\n==================================')"
   ]
  },
  {
   "cell_type": "code",
   "execution_count": 108,
   "id": "74f53249",
   "metadata": {},
   "outputs": [
    {
     "name": "stdout",
     "output_type": "stream",
     "text": [
      "Datetime Data columns:\n",
      "\n",
      "FILING_DATE\n",
      "GENERAL_LIABILITY_EXPIRATION_DATE\n",
      "WORKER_COMP_EXPIRATION_DATE\n",
      "DISABILITY_EXPIRATION_DATE\n",
      "PERMIT_ISSUED_DATE\n",
      "JOB_START_DATE\n",
      "COMPLETION_DATE\n",
      "----------------------------\n",
      "\n",
      "Column:  FILING_DATE\n",
      "1.  05/12/2021 12:00:00 AM         530\n",
      "2.  12/06/2019 12:00:00 AM         396\n",
      "3.  02/21/2020 12:00:00 AM         390\n",
      "4.  02/05/2020 12:00:00 AM         381\n",
      "5.  02/04/2020 12:00:00 AM         379\n",
      "6.  10/01/2020 12:00:00 AM         377\n",
      "7.  12/11/2019 12:00:00 AM         376\n",
      "8.  08/12/2020 12:00:00 AM         372\n",
      "9.  07/09/2018 12:00:00 AM         367\n",
      "10. 11/13/2019 12:00:00 AM         366\n",
      "\n",
      "Total number of distinct values in FILING_DATE is 1453\n",
      "[]\n",
      "['07/09/2018 12:00:00 AM', '10/11/2021 12:00:00 AM', '11/20/2021 12:00:00 AM', '11/13/2019 12:00:00 AM', '02/02/2021 12:00:00 AM', '05/15/2019 12:00:00 AM', '01/01/2021 12:00:00 AM', '02/11/2020 12:00:00 AM', '03/19/2018 12:00:00 AM', '05/12/2021 12:00:00 AM', '02/20/2020 12:00:00 AM', '08/25/2019 12:00:00 AM', '12/06/2019 12:00:00 AM', '07/05/2019 12:00:00 AM', '12/11/2019 12:00:00 AM', '02/21/2020 12:00:00 AM', '02/05/2020 12:00:00 AM', '06/28/2019 12:00:00 AM', '09/14/2018 12:00:00 AM', '02/26/2021 12:00:00 AM', '06/07/2019 12:00:00 AM', '02/12/2021 12:00:00 AM', '10/02/2021 12:00:00 AM', '10/01/2020 12:00:00 AM', '08/17/2019 12:00:00 AM', '02/04/2020 12:00:00 AM', '08/30/2019 12:00:00 AM', '08/12/2020 12:00:00 AM', '01/08/2018 12:00:00 AM', '12/22/2017 12:00:00 AM', '08/31/2019 12:00:00 AM']\n",
      "\n",
      "==================================\n",
      "Column:  GENERAL_LIABILITY_EXPIRATION_DATE\n",
      "1.  10/19/2022 12:00:00 AM       5,429\n",
      "2.  10/01/2022 12:00:00 AM       2,755\n",
      "3.  04/03/2022 12:00:00 AM       2,599\n",
      "4.  07/12/2022 12:00:00 AM       2,510\n",
      "5.  09/01/2022 12:00:00 AM       2,462\n",
      "6.  12/12/2021 12:00:00 AM       2,172\n",
      "7.  08/11/2022 12:00:00 AM       2,115\n",
      "8.  05/12/2022 12:00:00 AM       1,969\n",
      "9.  01/01/2022 12:00:00 AM       1,909\n",
      "10. 10/01/2021 12:00:00 AM       1,853\n",
      "\n",
      "Total number of distinct values in GENERAL_LIABILITY_EXPIRATION_DATE is 1746\n",
      "[]\n",
      "['12/12/2021 12:00:00 AM', '08/01/2022 12:00:00 AM', '01/10/2022 12:00:00 AM', '04/03/2022 12:00:00 AM', '12/12/2020 12:00:00 AM', '01/01/2021 12:00:00 AM', '11/01/2021 12:00:00 AM', '02/20/2022 12:00:00 AM', '09/01/2021 12:00:00 AM', '10/01/2022 12:00:00 AM', '02/01/2022 12:00:00 AM', '12/27/2021 12:00:00 AM', '04/05/2022 12:00:00 AM', '07/12/2022 12:00:00 AM', '12/05/2022 12:00:00 AM', '09/30/2018 12:00:00 AM', '10/01/2021 12:00:00 AM', '09/30/2019 12:00:00 AM', '05/12/2022 12:00:00 AM', '09/27/2022 12:00:00 AM', '08/11/2022 12:00:00 AM', '11/15/2020 12:00:00 AM', '10/01/2020 12:00:00 AM', '11/14/2022 12:00:00 AM', '04/01/2022 12:00:00 AM', '07/21/2022 12:00:00 AM', '10/19/2022 12:00:00 AM', '09/01/2022 12:00:00 AM', '01/01/2022 12:00:00 AM', '08/31/2019 12:00:00 AM']\n",
      "\n",
      "==================================\n",
      "Column:  WORKER_COMP_EXPIRATION_DATE\n",
      "1.  11/01/2022 12:00:00 AM      12,016\n",
      "2.  11/01/2021 12:00:00 AM       7,342\n",
      "3.  12/22/2021 12:00:00 AM       5,882\n",
      "4.  10/31/2020 12:00:00 AM       5,548\n",
      "5.  04/01/2022 12:00:00 AM       5,119\n",
      "6.  10/31/2019 12:00:00 AM       4,283\n",
      "7.  06/01/2022 12:00:00 AM       3,005\n",
      "8.  09/30/2019 12:00:00 AM       2,846\n",
      "9.  01/01/2022 12:00:00 AM       2,805\n",
      "10. 10/01/2022 12:00:00 AM       2,542\n",
      "\n",
      "Total number of distinct values in WORKER_COMP_EXPIRATION_DATE is 1699\n",
      "[]\n",
      "['10/31/2018 12:00:00 AM', '07/01/2022 12:00:00 AM', '12/12/2021 12:00:00 AM', '01/10/2022 12:00:00 AM', '04/28/2022 12:00:00 AM', '12/30/2021 12:00:00 AM', '01/01/2021 12:00:00 AM', '11/01/2021 12:00:00 AM', '11/01/2022 12:00:00 AM', '10/01/2022 12:00:00 AM', '03/19/2022 12:00:00 AM', '04/01/2021 12:00:00 AM', '04/05/2022 12:00:00 AM', '09/30/2018 12:00:00 AM', '10/01/2021 12:00:00 AM', '06/18/2022 12:00:00 AM', '10/31/2019 12:00:00 AM', '09/30/2019 12:00:00 AM', '10/31/2020 12:00:00 AM', '10/01/2020 12:00:00 AM', '12/22/2021 12:00:00 AM', '04/01/2022 12:00:00 AM', '07/21/2022 12:00:00 AM', '01/01/2022 12:00:00 AM', '01/28/2022 12:00:00 AM', '06/01/2022 12:00:00 AM']\n",
      "\n",
      "==================================\n",
      "Column:  DISABILITY_EXPIRATION_DATE\n",
      "1.  12/31/2021 12:00:00 AM      20,287\n",
      "2.  12/31/2020 12:00:00 AM       8,383\n",
      "3.  12/22/2021 12:00:00 AM       8,318\n",
      "4.  12/30/2019 12:00:00 AM       5,329\n",
      "5.  12/30/2018 12:00:00 AM       3,726\n",
      "6.  12/31/2019 12:00:00 AM       2,963\n",
      "7.  12/31/2022 12:00:00 AM       2,623\n",
      "8.  12/28/2021 12:00:00 AM       2,457\n",
      "9.  12/30/2020 12:00:00 AM       2,372\n",
      "10. 03/31/2022 12:00:00 AM       2,242\n",
      "\n",
      "Total number of distinct values in DISABILITY_EXPIRATION_DATE is 1734\n",
      "['12/31/2021 12:00:00 AM']\n",
      "['12/31/2020 12:00:00 AM', '12/30/2019 12:00:00 AM', '12/10/2021 12:00:00 AM', '12/31/2019 12:00:00 AM', '12/30/2018 12:00:00 AM', '12/31/2021 12:00:00 AM', '12/22/2021 12:00:00 AM']\n",
      "\n",
      "==================================\n",
      "Column:  PERMIT_ISSUED_DATE\n",
      "1.                31,389\n",
      "2.  05/12/2021 12:00:00 AM         455\n",
      "3.  12/06/2019 12:00:00 AM         357\n",
      "4.  07/09/2018 12:00:00 AM         346\n",
      "5.  02/21/2020 12:00:00 AM         337\n",
      "6.  08/12/2020 12:00:00 AM         335\n",
      "7.  05/15/2019 12:00:00 AM         331\n",
      "8.  02/04/2020 12:00:00 AM         328\n",
      "9.  10/01/2020 12:00:00 AM         324\n",
      "10. 05/16/2018 12:00:00 AM         317\n",
      "\n",
      "Total number of distinct values in PERMIT_ISSUED_DATE is 1452\n",
      "['']\n",
      "['']\n",
      "\n",
      "==================================\n",
      "Column:  JOB_START_DATE\n",
      "1.  05/12/2021 12:00:00 AM         400\n",
      "2.  02/04/2020 12:00:00 AM         393\n",
      "3.  05/22/2018 12:00:00 AM         391\n",
      "4.  06/22/2020 12:00:00 AM         385\n",
      "5.  03/03/2020 12:00:00 AM         380\n",
      "6.  09/10/2019 12:00:00 AM         376\n",
      "7.  03/01/2019 12:00:00 AM         376\n",
      "8.  04/24/2018 12:00:00 AM         374\n",
      "9.  05/15/2019 12:00:00 AM         373\n",
      "10. 04/30/2019 12:00:00 AM         369\n",
      "\n",
      "Total number of distinct values in JOB_START_DATE is 1490\n",
      "['']\n",
      "['', '10/01/2019 12:00:00 AM', '07/06/2018 12:00:00 AM', '12/31/2018 12:00:00 AM', '12/08/2017 12:00:00 AM', '05/07/2019 12:00:00 AM', '10/11/2021 12:00:00 AM', '02/12/2020 12:00:00 AM', '02/12/2019 12:00:00 AM', '10/22/2020 12:00:00 AM', '02/01/2020 12:00:00 AM', '02/02/2021 12:00:00 AM', '03/26/2019 12:00:00 AM', '08/16/2021 12:00:00 AM', '12/12/2020 12:00:00 AM', '12/01/2021 12:00:00 AM', '10/29/2019 12:00:00 AM', '12/11/2020 12:00:00 AM', '05/15/2019 12:00:00 AM', '01/01/2020 12:00:00 AM', '05/31/2018 12:00:00 AM', '11/01/2021 12:00:00 AM', '02/11/2020 12:00:00 AM', '06/22/2020 12:00:00 AM', '05/12/2021 12:00:00 AM', '04/30/2019 12:00:00 AM', '01/21/2021 12:00:00 AM', '12/24/2018 12:00:00 AM', '02/20/2020 12:00:00 AM', '11/10/2020 12:00:00 AM', '12/06/2019 12:00:00 AM', '11/04/2019 12:00:00 AM', '07/05/2019 12:00:00 AM', '01/11/2020 12:00:00 AM', '12/11/2019 12:00:00 AM', '02/21/2020 12:00:00 AM', '03/01/2019 12:00:00 AM', '12/05/2019 12:00:00 AM', '05/21/2020 12:00:00 AM', '03/17/2018 12:00:00 AM', '01/04/2018 12:00:00 AM', '10/10/2020 12:00:00 AM', '02/10/2021 12:00:00 AM', '02/12/2021 12:00:00 AM', '01/21/2020 12:00:00 AM', '10/01/2020 12:00:00 AM', '01/22/2020 12:00:00 AM', '02/22/2020 12:00:00 AM', '02/04/2020 12:00:00 AM', '09/10/2019 12:00:00 AM', '08/30/2019 12:00:00 AM', '08/12/2020 12:00:00 AM', '02/10/2020 12:00:00 AM', '03/03/2020 12:00:00 AM', '05/22/2018 12:00:00 AM', '04/24/2018 12:00:00 AM']\n",
      "\n",
      "==================================\n",
      "Column:  COMPLETION_DATE\n",
      "1.  12/31/2021 12:00:00 AM       2,236\n",
      "2.  12/31/2020 12:00:00 AM       2,006\n",
      "3.  12/31/2019 12:00:00 AM       1,765\n",
      "4.  10/31/2020 12:00:00 AM         952\n",
      "5.  01/31/2020 12:00:00 AM         915\n",
      "6.  12/31/2018 12:00:00 AM         893\n",
      "7.  10/31/2019 12:00:00 AM         816\n",
      "8.  07/31/2020 12:00:00 AM         810\n",
      "9.  03/01/2019 12:00:00 AM         763\n",
      "10. 12/29/2018 12:00:00 AM         754\n",
      "\n",
      "Total number of distinct values in COMPLETION_DATE is 2940\n",
      "['']\n",
      "['', '12/31/2018 12:00:00 AM', '12/01/2020 12:00:00 AM', '06/30/2018 12:00:00 AM', '12/31/2020 12:00:00 AM', '02/01/2020 12:00:00 AM', '11/12/2020 12:00:00 AM', '12/01/2021 12:00:00 AM', '01/01/2020 12:00:00 AM', '01/01/2021 12:00:00 AM', '11/01/2021 12:00:00 AM', '01/31/2020 12:00:00 AM', '04/30/2019 12:00:00 AM', '02/01/2022 12:00:00 AM', '02/01/2021 12:00:00 AM', '10/01/2021 12:00:00 AM', '07/31/2020 12:00:00 AM', '10/31/2019 12:00:00 AM', '12/31/2019 12:00:00 AM', '12/31/2021 12:00:00 AM', '05/01/2020 12:00:00 AM', '06/30/2019 12:00:00 AM', '10/31/2020 12:00:00 AM', '11/01/2019 12:00:00 AM', '05/31/2019 12:00:00 AM', '10/01/2020 12:00:00 AM', '07/31/2019 12:00:00 AM', '08/30/2019 12:00:00 AM', '01/01/2022 12:00:00 AM', '08/31/2019 12:00:00 AM']\n",
      "\n",
      "==================================\n"
     ]
    }
   ],
   "source": [
    "date_cols = []\n",
    "\n",
    "print(\"Datetime Data columns:\\n\")\n",
    "for col in ds.columns:\n",
    "    if 'Date' in col or 'DATE' in col:\n",
    "        print(col)\n",
    "        date_cols.append(col)\n",
    "\n",
    "print(\"----------------------------\\n\")        \n",
    "        \n",
    "for col in date_cols:\n",
    "    findDateOutliers(col, 0.02)"
   ]
  },
  {
   "cell_type": "markdown",
   "id": "78917fcb",
   "metadata": {},
   "source": [
    "# Remember that after changing some of the column names, there are some columns that are also datetime data:\n",
    "\n",
    "\"Paid\": \"Paid Date\"\\\n",
    "\"Fully Paid\": \"Fully Paid Date\"\\\n",
    "\"Assigned\": \"Assigned Date\"\\\n",
    "\"Approved\": \"Approved Date\"\\\n",
    "\"Pre- Filing Date\": \"Pre-Filing Date\"\\\n",
    "\"DOBRunDate\": \"DOB Run Date\"\\\n",
    "\"SIGNOFF_DATE\": \"Signoff Date\"\\\n",
    "\"SPECIAL_ACTION_DATE\": \"Special Action Date\"\\"
   ]
  },
  {
   "cell_type": "code",
   "execution_count": 109,
   "id": "148b7adf",
   "metadata": {
    "scrolled": true
   },
   "outputs": [
    {
     "name": "stdout",
     "output_type": "stream",
     "text": [
      "Column:  FILING_DATE\n",
      "1.  05/12/2021 12:00:00 AM         530\n",
      "2.  12/06/2019 12:00:00 AM         396\n",
      "3.  02/21/2020 12:00:00 AM         390\n",
      "4.  02/05/2020 12:00:00 AM         381\n",
      "5.  02/04/2020 12:00:00 AM         379\n",
      "6.  10/01/2020 12:00:00 AM         377\n",
      "7.  12/11/2019 12:00:00 AM         376\n",
      "8.  08/12/2020 12:00:00 AM         372\n",
      "9.  07/09/2018 12:00:00 AM         367\n",
      "10. 11/13/2019 12:00:00 AM         366\n",
      "\n",
      "Total number of distinct values in FILING_DATE is 1453\n",
      "[]\n",
      "['07/09/2018 12:00:00 AM', '10/11/2021 12:00:00 AM', '11/20/2021 12:00:00 AM', '11/13/2019 12:00:00 AM', '02/02/2021 12:00:00 AM', '05/15/2019 12:00:00 AM', '01/01/2021 12:00:00 AM', '02/11/2020 12:00:00 AM', '03/19/2018 12:00:00 AM', '05/12/2021 12:00:00 AM', '02/20/2020 12:00:00 AM', '08/25/2019 12:00:00 AM', '12/06/2019 12:00:00 AM', '07/05/2019 12:00:00 AM', '12/11/2019 12:00:00 AM', '02/21/2020 12:00:00 AM', '02/05/2020 12:00:00 AM', '06/28/2019 12:00:00 AM', '09/14/2018 12:00:00 AM', '02/26/2021 12:00:00 AM', '06/07/2019 12:00:00 AM', '02/12/2021 12:00:00 AM', '10/02/2021 12:00:00 AM', '10/01/2020 12:00:00 AM', '08/17/2019 12:00:00 AM', '02/04/2020 12:00:00 AM', '08/30/2019 12:00:00 AM', '08/12/2020 12:00:00 AM', '01/08/2018 12:00:00 AM', '12/22/2017 12:00:00 AM', '08/31/2019 12:00:00 AM']\n",
      "\n",
      "==================================\n",
      "Column:  GENERAL_LIABILITY_EXPIRATION_DATE\n",
      "1.  10/19/2022 12:00:00 AM       5,429\n",
      "2.  10/01/2022 12:00:00 AM       2,755\n",
      "3.  04/03/2022 12:00:00 AM       2,599\n",
      "4.  07/12/2022 12:00:00 AM       2,510\n",
      "5.  09/01/2022 12:00:00 AM       2,462\n",
      "6.  12/12/2021 12:00:00 AM       2,172\n",
      "7.  08/11/2022 12:00:00 AM       2,115\n",
      "8.  05/12/2022 12:00:00 AM       1,969\n",
      "9.  01/01/2022 12:00:00 AM       1,909\n",
      "10. 10/01/2021 12:00:00 AM       1,853\n",
      "\n",
      "Total number of distinct values in GENERAL_LIABILITY_EXPIRATION_DATE is 1746\n",
      "[]\n",
      "['12/12/2021 12:00:00 AM', '08/01/2022 12:00:00 AM', '01/10/2022 12:00:00 AM', '04/03/2022 12:00:00 AM', '12/12/2020 12:00:00 AM', '01/01/2021 12:00:00 AM', '11/01/2021 12:00:00 AM', '02/20/2022 12:00:00 AM', '09/01/2021 12:00:00 AM', '10/01/2022 12:00:00 AM', '02/01/2022 12:00:00 AM', '12/27/2021 12:00:00 AM', '04/05/2022 12:00:00 AM', '07/12/2022 12:00:00 AM', '12/05/2022 12:00:00 AM', '09/30/2018 12:00:00 AM', '10/01/2021 12:00:00 AM', '09/30/2019 12:00:00 AM', '05/12/2022 12:00:00 AM', '09/27/2022 12:00:00 AM', '08/11/2022 12:00:00 AM', '11/15/2020 12:00:00 AM', '10/01/2020 12:00:00 AM', '11/14/2022 12:00:00 AM', '04/01/2022 12:00:00 AM', '07/21/2022 12:00:00 AM', '10/19/2022 12:00:00 AM', '09/01/2022 12:00:00 AM', '01/01/2022 12:00:00 AM', '08/31/2019 12:00:00 AM']\n",
      "\n",
      "==================================\n",
      "Column:  WORKER_COMP_EXPIRATION_DATE\n",
      "1.  11/01/2022 12:00:00 AM      12,016\n",
      "2.  11/01/2021 12:00:00 AM       7,342\n",
      "3.  12/22/2021 12:00:00 AM       5,882\n",
      "4.  10/31/2020 12:00:00 AM       5,548\n",
      "5.  04/01/2022 12:00:00 AM       5,119\n",
      "6.  10/31/2019 12:00:00 AM       4,283\n",
      "7.  06/01/2022 12:00:00 AM       3,005\n",
      "8.  09/30/2019 12:00:00 AM       2,846\n",
      "9.  01/01/2022 12:00:00 AM       2,805\n",
      "10. 10/01/2022 12:00:00 AM       2,542\n",
      "\n",
      "Total number of distinct values in WORKER_COMP_EXPIRATION_DATE is 1699\n",
      "[]\n",
      "['10/31/2018 12:00:00 AM', '07/01/2022 12:00:00 AM', '12/12/2021 12:00:00 AM', '01/10/2022 12:00:00 AM', '04/28/2022 12:00:00 AM', '12/30/2021 12:00:00 AM', '01/01/2021 12:00:00 AM', '11/01/2021 12:00:00 AM', '11/01/2022 12:00:00 AM', '10/01/2022 12:00:00 AM', '03/19/2022 12:00:00 AM', '04/01/2021 12:00:00 AM', '04/05/2022 12:00:00 AM', '09/30/2018 12:00:00 AM', '10/01/2021 12:00:00 AM', '06/18/2022 12:00:00 AM', '10/31/2019 12:00:00 AM', '09/30/2019 12:00:00 AM', '10/31/2020 12:00:00 AM', '10/01/2020 12:00:00 AM', '12/22/2021 12:00:00 AM', '04/01/2022 12:00:00 AM', '07/21/2022 12:00:00 AM', '01/01/2022 12:00:00 AM', '01/28/2022 12:00:00 AM', '06/01/2022 12:00:00 AM']\n",
      "\n",
      "==================================\n",
      "Column:  DISABILITY_EXPIRATION_DATE\n",
      "1.  12/31/2021 12:00:00 AM      20,287\n",
      "2.  12/31/2020 12:00:00 AM       8,383\n",
      "3.  12/22/2021 12:00:00 AM       8,318\n",
      "4.  12/30/2019 12:00:00 AM       5,329\n",
      "5.  12/30/2018 12:00:00 AM       3,726\n",
      "6.  12/31/2019 12:00:00 AM       2,963\n",
      "7.  12/31/2022 12:00:00 AM       2,623\n",
      "8.  12/28/2021 12:00:00 AM       2,457\n",
      "9.  12/30/2020 12:00:00 AM       2,372\n",
      "10. 03/31/2022 12:00:00 AM       2,242\n",
      "\n",
      "Total number of distinct values in DISABILITY_EXPIRATION_DATE is 1734\n",
      "['12/31/2021 12:00:00 AM']\n",
      "['12/31/2020 12:00:00 AM', '12/30/2019 12:00:00 AM', '12/10/2021 12:00:00 AM', '12/31/2019 12:00:00 AM', '12/30/2018 12:00:00 AM', '12/31/2021 12:00:00 AM', '12/22/2021 12:00:00 AM']\n",
      "\n",
      "==================================\n",
      "Column:  PERMIT_ISSUED_DATE\n",
      "1.                31,389\n",
      "2.  05/12/2021 12:00:00 AM         455\n",
      "3.  12/06/2019 12:00:00 AM         357\n",
      "4.  07/09/2018 12:00:00 AM         346\n",
      "5.  02/21/2020 12:00:00 AM         337\n",
      "6.  08/12/2020 12:00:00 AM         335\n",
      "7.  05/15/2019 12:00:00 AM         331\n",
      "8.  02/04/2020 12:00:00 AM         328\n",
      "9.  10/01/2020 12:00:00 AM         324\n",
      "10. 05/16/2018 12:00:00 AM         317\n",
      "\n",
      "Total number of distinct values in PERMIT_ISSUED_DATE is 1452\n",
      "['']\n",
      "['']\n",
      "\n",
      "==================================\n",
      "Column:  JOB_START_DATE\n",
      "1.  05/12/2021 12:00:00 AM         400\n",
      "2.  02/04/2020 12:00:00 AM         393\n",
      "3.  05/22/2018 12:00:00 AM         391\n",
      "4.  06/22/2020 12:00:00 AM         385\n",
      "5.  03/03/2020 12:00:00 AM         380\n",
      "6.  09/10/2019 12:00:00 AM         376\n",
      "7.  03/01/2019 12:00:00 AM         376\n",
      "8.  04/24/2018 12:00:00 AM         374\n",
      "9.  05/15/2019 12:00:00 AM         373\n",
      "10. 04/30/2019 12:00:00 AM         369\n",
      "\n",
      "Total number of distinct values in JOB_START_DATE is 1490\n",
      "['']\n",
      "['', '10/01/2019 12:00:00 AM', '07/06/2018 12:00:00 AM', '12/31/2018 12:00:00 AM', '12/08/2017 12:00:00 AM', '05/07/2019 12:00:00 AM', '10/11/2021 12:00:00 AM', '02/12/2020 12:00:00 AM', '02/12/2019 12:00:00 AM', '10/22/2020 12:00:00 AM', '02/01/2020 12:00:00 AM', '02/02/2021 12:00:00 AM', '03/26/2019 12:00:00 AM', '08/16/2021 12:00:00 AM', '12/12/2020 12:00:00 AM', '12/01/2021 12:00:00 AM', '10/29/2019 12:00:00 AM', '12/11/2020 12:00:00 AM', '05/15/2019 12:00:00 AM', '01/01/2020 12:00:00 AM', '05/31/2018 12:00:00 AM', '11/01/2021 12:00:00 AM', '02/11/2020 12:00:00 AM', '06/22/2020 12:00:00 AM', '05/12/2021 12:00:00 AM', '04/30/2019 12:00:00 AM', '01/21/2021 12:00:00 AM', '12/24/2018 12:00:00 AM', '02/20/2020 12:00:00 AM', '11/10/2020 12:00:00 AM', '12/06/2019 12:00:00 AM', '11/04/2019 12:00:00 AM', '07/05/2019 12:00:00 AM', '01/11/2020 12:00:00 AM', '12/11/2019 12:00:00 AM', '02/21/2020 12:00:00 AM', '03/01/2019 12:00:00 AM', '12/05/2019 12:00:00 AM', '05/21/2020 12:00:00 AM', '03/17/2018 12:00:00 AM', '01/04/2018 12:00:00 AM', '10/10/2020 12:00:00 AM', '02/10/2021 12:00:00 AM', '02/12/2021 12:00:00 AM', '01/21/2020 12:00:00 AM', '10/01/2020 12:00:00 AM', '01/22/2020 12:00:00 AM', '02/22/2020 12:00:00 AM', '02/04/2020 12:00:00 AM', '09/10/2019 12:00:00 AM', '08/30/2019 12:00:00 AM', '08/12/2020 12:00:00 AM', '02/10/2020 12:00:00 AM', '03/03/2020 12:00:00 AM', '05/22/2018 12:00:00 AM', '04/24/2018 12:00:00 AM']\n",
      "\n",
      "==================================\n",
      "Column:  COMPLETION_DATE\n",
      "1.  12/31/2021 12:00:00 AM       2,236\n",
      "2.  12/31/2020 12:00:00 AM       2,006\n",
      "3.  12/31/2019 12:00:00 AM       1,765\n",
      "4.  10/31/2020 12:00:00 AM         952\n",
      "5.  01/31/2020 12:00:00 AM         915\n",
      "6.  12/31/2018 12:00:00 AM         893\n",
      "7.  10/31/2019 12:00:00 AM         816\n",
      "8.  07/31/2020 12:00:00 AM         810\n",
      "9.  03/01/2019 12:00:00 AM         763\n",
      "10. 12/29/2018 12:00:00 AM         754\n",
      "\n",
      "Total number of distinct values in COMPLETION_DATE is 2940\n",
      "['']\n",
      "['', '12/31/2018 12:00:00 AM', '12/01/2020 12:00:00 AM', '06/30/2018 12:00:00 AM', '12/31/2020 12:00:00 AM', '02/01/2020 12:00:00 AM', '11/12/2020 12:00:00 AM', '12/01/2021 12:00:00 AM', '01/01/2020 12:00:00 AM', '01/01/2021 12:00:00 AM', '11/01/2021 12:00:00 AM', '01/31/2020 12:00:00 AM', '04/30/2019 12:00:00 AM', '02/01/2022 12:00:00 AM', '02/01/2021 12:00:00 AM', '10/01/2021 12:00:00 AM', '07/31/2020 12:00:00 AM', '10/31/2019 12:00:00 AM', '12/31/2019 12:00:00 AM', '12/31/2021 12:00:00 AM', '05/01/2020 12:00:00 AM', '06/30/2019 12:00:00 AM', '10/31/2020 12:00:00 AM', '11/01/2019 12:00:00 AM', '05/31/2019 12:00:00 AM', '10/01/2020 12:00:00 AM', '07/31/2019 12:00:00 AM', '08/30/2019 12:00:00 AM', '01/01/2022 12:00:00 AM', '08/31/2019 12:00:00 AM']\n",
      "\n",
      "==================================\n"
     ]
    }
   ],
   "source": [
    "date_cols = [\"FILING_DATE\",\"GENERAL_LIABILITY_EXPIRATION_DATE\",\"WORKER_COMP_EXPIRATION_DATE\",\"DISABILITY_EXPIRATION_DATE\", \"PERMIT_ISSUED_DATE\", \"JOB_START_DATE\", \"COMPLETION_DATE\"]\n",
    "\n",
    "for col in date_cols:\n",
    "    findDateOutliers(col, 0.02)"
   ]
  },
  {
   "cell_type": "markdown",
   "id": "818e1eaa",
   "metadata": {},
   "source": [
    "# Data Cleaning for outliers in datetime columns"
   ]
  },
  {
   "cell_type": "code",
   "execution_count": 110,
   "id": "1c627e81",
   "metadata": {},
   "outputs": [],
   "source": [
    "# new_df = df\n",
    "\n",
    "# Reload the data, only for test\n",
    "# new_df = pd.read_csv(datafile, dtype='object', sep='\\t')"
   ]
  },
  {
   "cell_type": "markdown",
   "id": "ff50a279",
   "metadata": {},
   "source": [
    "## Fixing Datetime columns format"
   ]
  },
  {
   "cell_type": "code",
   "execution_count": 111,
   "id": "bce779f4",
   "metadata": {
    "scrolled": true
   },
   "outputs": [
    {
     "name": "stdout",
     "output_type": "stream",
     "text": [
      "Top 10 FILING_DATE:\n",
      "\n",
      "05/12/2021 12:00:00 AM    530\n",
      "12/06/2019 12:00:00 AM    396\n",
      "02/21/2020 12:00:00 AM    390\n",
      "02/05/2020 12:00:00 AM    381\n",
      "02/04/2020 12:00:00 AM    379\n",
      "10/01/2020 12:00:00 AM    377\n",
      "12/11/2019 12:00:00 AM    376\n",
      "08/12/2020 12:00:00 AM    372\n",
      "07/09/2018 12:00:00 AM    367\n",
      "11/13/2019 12:00:00 AM    366\n",
      "Name: FILING_DATE, dtype: int64\n",
      "\n",
      "Top 10 GENERAL_LIABILITY_EXPIRATION_DATE:\n",
      "\n",
      "10/19/2022 12:00:00 AM    5429\n",
      "10/01/2022 12:00:00 AM    2755\n",
      "04/03/2022 12:00:00 AM    2599\n",
      "07/12/2022 12:00:00 AM    2510\n",
      "09/01/2022 12:00:00 AM    2462\n",
      "12/12/2021 12:00:00 AM    2172\n",
      "08/11/2022 12:00:00 AM    2115\n",
      "05/12/2022 12:00:00 AM    1969\n",
      "01/01/2022 12:00:00 AM    1909\n",
      "10/01/2021 12:00:00 AM    1853\n",
      "Name: GENERAL_LIABILITY_EXPIRATION_DATE, dtype: int64\n",
      "\n",
      "Top 10 WORKER_COMP_EXPIRATION_DATE:\n",
      "\n",
      "11/01/2022 12:00:00 AM    12016\n",
      "11/01/2021 12:00:00 AM     7342\n",
      "12/22/2021 12:00:00 AM     5882\n",
      "10/31/2020 12:00:00 AM     5548\n",
      "04/01/2022 12:00:00 AM     5119\n",
      "10/31/2019 12:00:00 AM     4283\n",
      "06/01/2022 12:00:00 AM     3005\n",
      "09/30/2019 12:00:00 AM     2846\n",
      "01/01/2022 12:00:00 AM     2805\n",
      "10/01/2022 12:00:00 AM     2542\n",
      "Name: WORKER_COMP_EXPIRATION_DATE, dtype: int64\n",
      "\n",
      "Top 10 DISABILITY_EXPIRATION_DATE:\n",
      "\n",
      "12/31/2021 12:00:00 AM    20287\n",
      "12/31/2020 12:00:00 AM     8383\n",
      "12/22/2021 12:00:00 AM     8318\n",
      "12/30/2019 12:00:00 AM     5329\n",
      "12/30/2018 12:00:00 AM     3726\n",
      "12/31/2019 12:00:00 AM     2963\n",
      "12/31/2022 12:00:00 AM     2623\n",
      "12/28/2021 12:00:00 AM     2457\n",
      "12/30/2020 12:00:00 AM     2372\n",
      "03/31/2022 12:00:00 AM     2242\n",
      "Name: DISABILITY_EXPIRATION_DATE, dtype: int64\n",
      "\n",
      "Top 10 PERMIT_ISSUED_DATE:\n",
      "\n",
      "NaN                       31389\n",
      "05/12/2021 12:00:00 AM      455\n",
      "12/06/2019 12:00:00 AM      357\n",
      "07/09/2018 12:00:00 AM      346\n",
      "02/21/2020 12:00:00 AM      337\n",
      "08/12/2020 12:00:00 AM      335\n",
      "05/15/2019 12:00:00 AM      331\n",
      "02/04/2020 12:00:00 AM      328\n",
      "10/01/2020 12:00:00 AM      324\n",
      "05/16/2018 12:00:00 AM      317\n",
      "Name: PERMIT_ISSUED_DATE, dtype: int64\n",
      "\n",
      "Top 10 JOB_START_DATE:\n",
      "\n",
      "05/12/2021 12:00:00 AM    400\n",
      "02/04/2020 12:00:00 AM    393\n",
      "05/22/2018 12:00:00 AM    391\n",
      "06/22/2020 12:00:00 AM    385\n",
      "03/03/2020 12:00:00 AM    380\n",
      "03/01/2019 12:00:00 AM    376\n",
      "09/10/2019 12:00:00 AM    376\n",
      "04/24/2018 12:00:00 AM    374\n",
      "05/15/2019 12:00:00 AM    373\n",
      "04/30/2019 12:00:00 AM    369\n",
      "Name: JOB_START_DATE, dtype: int64\n",
      "\n",
      "Top 10 COMPLETION_DATE:\n",
      "\n",
      "12/31/2021 12:00:00 AM    2236\n",
      "12/31/2020 12:00:00 AM    2006\n",
      "12/31/2019 12:00:00 AM    1765\n",
      "10/31/2020 12:00:00 AM     952\n",
      "01/31/2020 12:00:00 AM     915\n",
      "12/31/2018 12:00:00 AM     893\n",
      "10/31/2019 12:00:00 AM     816\n",
      "07/31/2020 12:00:00 AM     810\n",
      "03/01/2019 12:00:00 AM     763\n",
      "12/29/2018 12:00:00 AM     754\n",
      "Name: COMPLETION_DATE, dtype: int64\n",
      "\n"
     ]
    }
   ],
   "source": [
    "datetime_column_list = [\"FILING_DATE\",\"GENERAL_LIABILITY_EXPIRATION_DATE\",\"WORKER_COMP_EXPIRATION_DATE\",\"DISABILITY_EXPIRATION_DATE\", \"PERMIT_ISSUED_DATE\", \"JOB_START_DATE\", \"COMPLETION_DATE\"]\n",
    "for col in datetime_column_list:\n",
    "    show_vals(col)"
   ]
  },
  {
   "cell_type": "markdown",
   "id": "7bcf9a96",
   "metadata": {},
   "source": [
    "Check to see if any columns have values in year-month-day format"
   ]
  },
  {
   "cell_type": "markdown",
   "id": "0ffe05f1",
   "metadata": {},
   "source": [
    "This mapped most of our values to datetimes, now just need to map the rest"
   ]
  },
  {
   "cell_type": "code",
   "execution_count": 112,
   "id": "2a65cb01",
   "metadata": {
    "scrolled": false
   },
   "outputs": [
    {
     "name": "stdout",
     "output_type": "stream",
     "text": [
      "FILING_DATE\n",
      "GENERAL_LIABILITY_EXPIRATION_DATE\n",
      "WORKER_COMP_EXPIRATION_DATE\n",
      "DISABILITY_EXPIRATION_DATE\n",
      "PERMIT_ISSUED_DATE\n",
      "JOB_START_DATE\n",
      "COMPLETION_DATE\n"
     ]
    }
   ],
   "source": [
    "for col in date_cols:\n",
    "    print(col)\n",
    "    df.loc[:,col] = pd.to_datetime(df[col])"
   ]
  },
  {
   "cell_type": "code",
   "execution_count": 113,
   "id": "ce788e2e",
   "metadata": {},
   "outputs": [
    {
     "data": {
      "text/html": [
       "<div>\n",
       "<style scoped>\n",
       "    .dataframe tbody tr th:only-of-type {\n",
       "        vertical-align: middle;\n",
       "    }\n",
       "\n",
       "    .dataframe tbody tr th {\n",
       "        vertical-align: top;\n",
       "    }\n",
       "\n",
       "    .dataframe thead th {\n",
       "        text-align: right;\n",
       "    }\n",
       "</style>\n",
       "<table border=\"1\" class=\"dataframe\">\n",
       "  <thead>\n",
       "    <tr style=\"text-align: right;\">\n",
       "      <th></th>\n",
       "      <th>FILING_DATE</th>\n",
       "      <th>GENERAL_LIABILITY_EXPIRATION_DATE</th>\n",
       "      <th>WORKER_COMP_EXPIRATION_DATE</th>\n",
       "      <th>DISABILITY_EXPIRATION_DATE</th>\n",
       "      <th>PERMIT_ISSUED_DATE</th>\n",
       "      <th>JOB_START_DATE</th>\n",
       "      <th>COMPLETION_DATE</th>\n",
       "    </tr>\n",
       "  </thead>\n",
       "  <tbody>\n",
       "    <tr>\n",
       "      <th>0</th>\n",
       "      <td>2021-06-02</td>\n",
       "      <td>2022-05-06</td>\n",
       "      <td>2021-12-20</td>\n",
       "      <td>2021-12-20</td>\n",
       "      <td>NaT</td>\n",
       "      <td>2018-10-02</td>\n",
       "      <td>2018-11-24</td>\n",
       "    </tr>\n",
       "    <tr>\n",
       "      <th>1</th>\n",
       "      <td>2021-04-27</td>\n",
       "      <td>2022-01-21</td>\n",
       "      <td>2022-04-13</td>\n",
       "      <td>2022-04-13</td>\n",
       "      <td>NaT</td>\n",
       "      <td>2019-03-19</td>\n",
       "      <td>2020-07-03</td>\n",
       "    </tr>\n",
       "    <tr>\n",
       "      <th>2</th>\n",
       "      <td>2021-06-02</td>\n",
       "      <td>2021-10-20</td>\n",
       "      <td>2021-10-22</td>\n",
       "      <td>2021-10-21</td>\n",
       "      <td>NaT</td>\n",
       "      <td>2019-11-10</td>\n",
       "      <td>2020-11-10</td>\n",
       "    </tr>\n",
       "    <tr>\n",
       "      <th>3</th>\n",
       "      <td>2021-06-02</td>\n",
       "      <td>2022-03-18</td>\n",
       "      <td>2021-06-14</td>\n",
       "      <td>2021-10-29</td>\n",
       "      <td>NaT</td>\n",
       "      <td>2020-01-27</td>\n",
       "      <td>2020-12-01</td>\n",
       "    </tr>\n",
       "    <tr>\n",
       "      <th>4</th>\n",
       "      <td>2021-06-02</td>\n",
       "      <td>2021-12-09</td>\n",
       "      <td>2021-07-01</td>\n",
       "      <td>2021-12-31</td>\n",
       "      <td>NaT</td>\n",
       "      <td>2021-06-02</td>\n",
       "      <td>2023-06-02</td>\n",
       "    </tr>\n",
       "    <tr>\n",
       "      <th>...</th>\n",
       "      <td>...</td>\n",
       "      <td>...</td>\n",
       "      <td>...</td>\n",
       "      <td>...</td>\n",
       "      <td>...</td>\n",
       "      <td>...</td>\n",
       "      <td>...</td>\n",
       "    </tr>\n",
       "    <tr>\n",
       "      <th>255019</th>\n",
       "      <td>2021-04-23</td>\n",
       "      <td>2022-08-02</td>\n",
       "      <td>2022-05-23</td>\n",
       "      <td>2022-06-20</td>\n",
       "      <td>2021-04-23</td>\n",
       "      <td>2021-04-23</td>\n",
       "      <td>2022-11-23</td>\n",
       "    </tr>\n",
       "    <tr>\n",
       "      <th>255020</th>\n",
       "      <td>2021-04-24</td>\n",
       "      <td>2022-05-20</td>\n",
       "      <td>2022-02-28</td>\n",
       "      <td>2022-02-28</td>\n",
       "      <td>2021-04-24</td>\n",
       "      <td>2021-04-24</td>\n",
       "      <td>2022-04-23</td>\n",
       "    </tr>\n",
       "    <tr>\n",
       "      <th>255021</th>\n",
       "      <td>2021-04-25</td>\n",
       "      <td>2021-11-15</td>\n",
       "      <td>2022-04-01</td>\n",
       "      <td>2021-11-01</td>\n",
       "      <td>2021-04-25</td>\n",
       "      <td>2021-04-25</td>\n",
       "      <td>2022-04-25</td>\n",
       "    </tr>\n",
       "    <tr>\n",
       "      <th>255022</th>\n",
       "      <td>2021-04-25</td>\n",
       "      <td>2022-03-23</td>\n",
       "      <td>2022-06-07</td>\n",
       "      <td>2022-04-14</td>\n",
       "      <td>2021-04-25</td>\n",
       "      <td>2021-04-25</td>\n",
       "      <td>2021-10-25</td>\n",
       "    </tr>\n",
       "    <tr>\n",
       "      <th>255023</th>\n",
       "      <td>2021-04-25</td>\n",
       "      <td>2022-08-11</td>\n",
       "      <td>2022-07-21</td>\n",
       "      <td>2022-07-20</td>\n",
       "      <td>2021-04-25</td>\n",
       "      <td>2021-04-26</td>\n",
       "      <td>2021-11-05</td>\n",
       "    </tr>\n",
       "  </tbody>\n",
       "</table>\n",
       "<p>255024 rows × 7 columns</p>\n",
       "</div>"
      ],
      "text/plain": [
       "       FILING_DATE GENERAL_LIABILITY_EXPIRATION_DATE  \\\n",
       "0       2021-06-02                        2022-05-06   \n",
       "1       2021-04-27                        2022-01-21   \n",
       "2       2021-06-02                        2021-10-20   \n",
       "3       2021-06-02                        2022-03-18   \n",
       "4       2021-06-02                        2021-12-09   \n",
       "...            ...                               ...   \n",
       "255019  2021-04-23                        2022-08-02   \n",
       "255020  2021-04-24                        2022-05-20   \n",
       "255021  2021-04-25                        2021-11-15   \n",
       "255022  2021-04-25                        2022-03-23   \n",
       "255023  2021-04-25                        2022-08-11   \n",
       "\n",
       "       WORKER_COMP_EXPIRATION_DATE DISABILITY_EXPIRATION_DATE  \\\n",
       "0                       2021-12-20                 2021-12-20   \n",
       "1                       2022-04-13                 2022-04-13   \n",
       "2                       2021-10-22                 2021-10-21   \n",
       "3                       2021-06-14                 2021-10-29   \n",
       "4                       2021-07-01                 2021-12-31   \n",
       "...                            ...                        ...   \n",
       "255019                  2022-05-23                 2022-06-20   \n",
       "255020                  2022-02-28                 2022-02-28   \n",
       "255021                  2022-04-01                 2021-11-01   \n",
       "255022                  2022-06-07                 2022-04-14   \n",
       "255023                  2022-07-21                 2022-07-20   \n",
       "\n",
       "       PERMIT_ISSUED_DATE JOB_START_DATE COMPLETION_DATE  \n",
       "0                     NaT     2018-10-02      2018-11-24  \n",
       "1                     NaT     2019-03-19      2020-07-03  \n",
       "2                     NaT     2019-11-10      2020-11-10  \n",
       "3                     NaT     2020-01-27      2020-12-01  \n",
       "4                     NaT     2021-06-02      2023-06-02  \n",
       "...                   ...            ...             ...  \n",
       "255019         2021-04-23     2021-04-23      2022-11-23  \n",
       "255020         2021-04-24     2021-04-24      2022-04-23  \n",
       "255021         2021-04-25     2021-04-25      2022-04-25  \n",
       "255022         2021-04-25     2021-04-25      2021-10-25  \n",
       "255023         2021-04-25     2021-04-26      2021-11-05  \n",
       "\n",
       "[255024 rows x 7 columns]"
      ]
     },
     "execution_count": 113,
     "metadata": {},
     "output_type": "execute_result"
    }
   ],
   "source": [
    "df.select_dtypes(include='datetime')"
   ]
  },
  {
   "cell_type": "markdown",
   "id": "35e5377b",
   "metadata": {},
   "source": [
    "# Data Profilling for City and Other Description\n",
    "\n",
    "Find format problems and outliers in City and Description columns\n",
    "\n",
    "Using openclean's sklearn modules to detect problems and outliers"
   ]
  },
  {
   "cell_type": "code",
   "execution_count": null,
   "id": "7104840b",
   "metadata": {},
   "outputs": [],
   "source": []
  },
  {
   "cell_type": "code",
   "execution_count": 114,
   "id": "92ebb6d4",
   "metadata": {},
   "outputs": [],
   "source": [
    "from openclean.profiling.anomalies.sklearn import DBSCANOutliers\n",
    "\n",
    "# Print the ten most frequent values for the 'Vehicle Expiration Date' column.\n",
    "def findDateOutliers(column_name, eps_setting = 0.05):\n",
    "    applicant_data = ds.distinct(column_name)\n",
    "    print(\"Column: \",column_name)\n",
    "    \n",
    "    for rank, val in enumerate(applicant_data.most_common(10)):        \n",
    "        st, freq = val\n",
    "        print('{:<3} {:>8}  {:>10}'.format('{}.'.format(rank + 1), st, '{:,}'.format(freq)))\n",
    "\n",
    "    print('\\nTotal number of distinct values in {} is {}'.format(column_name, len(applicant_data)))\n",
    "    print(DBSCANOutliers(eps = eps_setting).find(applicant_data))\n",
    "    print('\\n==================================')"
   ]
  },
  {
   "cell_type": "code",
   "execution_count": 115,
   "id": "7a770aaf",
   "metadata": {},
   "outputs": [],
   "source": [
    "date_cols = [\"CITY\"]"
   ]
  },
  {
   "cell_type": "code",
   "execution_count": 116,
   "id": "47c02bf0",
   "metadata": {},
   "outputs": [
    {
     "name": "stdout",
     "output_type": "stream",
     "text": [
      "----------------------------\n",
      "\n",
      "Column:  CITY\n",
      "1.  BROOKLYN      79,976\n",
      "2.  NEW YORK      29,356\n",
      "3.  STATEN ISLAND      28,221\n",
      "4.     BRONX      23,094\n",
      "5.  LONG ISLAND CITY      17,603\n",
      "6.  FLUSHING      11,655\n",
      "7.   ASTORIA       8,750\n",
      "8.  WOODSIDE       7,379\n",
      "9.   JAMAICA       4,806\n",
      "10.  MASPETH       4,063\n",
      "\n",
      "Total number of distinct values in CITY is 77\n",
      "['', 'NEW YORK', 'S. RICHMOND HILL', 'SPRINGFIELD GARDENS', 'STATEN ISLAND', 'NEW YORIK', 'ELMHURST', 'BROOKLYN', 'BRONX', 'MASPETH', 'FLUSHING', 'L.I.C.', 'BELLEHARBOR', 'REGO PARK', 'BAYSIDE', 'S.I.', 'QUEENS.VILLAGE', 'OZONE PK', 'SUITE 2A', 'RICHMOND.HILL', 'LONG ISLAND CITY', 'FRESH MEADOWS LANE', 'LIC', 'BRONX,', 'NY', 'ST. ALBANS', 'S. RICHMOND', 'SOUTH RICHMOND HILL', 'L.I.C', 'COLLEGE PT.', 'MANHATTAN', 'NEW HYDE PARK']\n",
      "\n",
      "==================================\n"
     ]
    }
   ],
   "source": [
    "date_cols = [\"CITY\"]\n",
    "print(\"----------------------------\\n\")        \n",
    "        \n",
    "for col in date_cols:\n",
    "    findDateOutliers(col, 0.1)"
   ]
  },
  {
   "cell_type": "markdown",
   "id": "8f0aedcf",
   "metadata": {},
   "source": [
    "# Analysis\n",
    "\n",
    "the above results show the problems for the data cleaning task:\n",
    "    \n",
    "### For City\n",
    "\n",
    "There are many misspellings and abbreviations for city names. We can use both clustering and Soundex to detect misspellings and abbreviations. And we can check if our cleaning is right by refer to the U.S. Cities reference datasets in openclean.\n",
    "\n"
   ]
  },
  {
   "cell_type": "code",
   "execution_count": 117,
   "id": "b71d38f7",
   "metadata": {},
   "outputs": [],
   "source": [
    "from openclean.function.eval.base import Col, Eval\n",
    "from openclean.function.eval.logic import And\n",
    "from openclean.function.value.phonetic import Soundex, soundex"
   ]
  },
  {
   "cell_type": "code",
   "execution_count": 118,
   "id": "6772d367",
   "metadata": {},
   "outputs": [],
   "source": [
    "upper = ds\\\n",
    "    .select('CITY')\\\n",
    "    .update('CITY', str.upper)"
   ]
  },
  {
   "cell_type": "code",
   "execution_count": 119,
   "id": "3f70f3d3",
   "metadata": {},
   "outputs": [],
   "source": [
    "from openclean.data.refdata import RefStore\n",
    "\n",
    "refdata = RefStore()\n",
    "city_df = refdata\\\n",
    "    .load('encyclopaedia_britannica:us_cities', auto_download=True)\\\n",
    "    .df()\n"
   ]
  },
  {
   "cell_type": "code",
   "execution_count": 120,
   "id": "e1b2c133",
   "metadata": {},
   "outputs": [
    {
     "name": "stdout",
     "output_type": "stream",
     "text": [
      "0          Demopolis\n",
      "1          Sylacauga\n",
      "2               Troy\n",
      "3             Dothan\n",
      "4           Prichard\n",
      "            ...     \n",
      "1956          Powell\n",
      "1957        Riverton\n",
      "1958        Sheridan\n",
      "1959    Rock Springs\n",
      "1960         Buffalo\n",
      "Name: city, Length: 1961, dtype: object\n"
     ]
    }
   ],
   "source": [
    "city_list = city_df['city']\n",
    "print(city_list)"
   ]
  },
  {
   "cell_type": "markdown",
   "id": "3ad0c99e",
   "metadata": {},
   "source": [
    "# An example of using soundex in openclean\n",
    "\n",
    "However, using soundex for each of the city is too slow, the code below take nearly 4 mins for one sningle city.\\\n",
    "So we should use clustering first and then use hard code to clean the remianing city name that is not in the city_list."
   ]
  },
  {
   "cell_type": "code",
   "execution_count": 121,
   "id": "d19d73c3",
   "metadata": {},
   "outputs": [
    {
     "name": "stdout",
     "output_type": "stream",
     "text": [
      "RANK\tCOUNT\tNAME\n"
     ]
    }
   ],
   "source": [
    "brooklyn = ds\\\n",
    "    .select('CITY')\\\n",
    "    .update('CITY', str.upper)\\\n",
    "    .filter(And(Eval('CITY', Soundex()) == soundex('BROOKLYN'), Col('CITY') != 'BROOKLYN'))\\\n",
    "    .distinct()\n",
    "\n",
    "print('RANK\\tCOUNT\\tNAME')\n",
    "for i, entry in enumerate(brooklyn.most_common()):\n",
    "    key, count = entry\n",
    "    print('{}.\\t{}\\t{}'.format(i + 1, count, key))"
   ]
  },
  {
   "cell_type": "markdown",
   "id": "2817a2d5",
   "metadata": {},
   "source": [
    "# Data Cleaning for Applicant columns\n",
    "\n",
    "* how to deal with empty values has not decided yet"
   ]
  },
  {
   "cell_type": "markdown",
   "id": "bb067dd1",
   "metadata": {},
   "source": [
    "# Transform all city names to upper case\n",
    "\n",
    "### Remember that we have changed some column names:\n",
    "\"City \": \"OWNER_CITY\"\\\n",
    "\"State\": \"OWNER_STATE\""
   ]
  },
  {
   "cell_type": "code",
   "execution_count": 122,
   "id": "22fcb8e8",
   "metadata": {},
   "outputs": [],
   "source": [
    "df['OWNER_CITY'] = df['OWNER_CITY'].str.upper()"
   ]
  },
  {
   "cell_type": "markdown",
   "id": "cca3cca4",
   "metadata": {},
   "source": [
    "# Convert similar values to suggested value using kNN clustering"
   ]
  },
  {
   "cell_type": "code",
   "execution_count": 123,
   "id": "f40bb08b",
   "metadata": {},
   "outputs": [],
   "source": [
    "# Cluster string using kNN clusterer (with the default n-gram setting)\n",
    "# using the Levenshtein distance as the similarity measure.\n",
    "\n",
    "from openclean.cluster.knn import knn_clusters\n",
    "from openclean.function.similarity.base import SimilarityConstraint\n",
    "from openclean.function.similarity.text import LevenshteinDistance\n",
    "from openclean.function.value.threshold import GreaterThan\n",
    "\n",
    "def getClusters(col, minsize = 2, preds = 0.5):\n",
    "    dba = ds.select(col).distinct()\n",
    "    clusters = knn_clusters(\n",
    "        values=dba,\n",
    "        sim=SimilarityConstraint(func=LevenshteinDistance(), pred=GreaterThan(preds)),\n",
    "        minsize=minsize\n",
    "    )\n",
    "    return clusters\n",
    "\n",
    "def print_cluster(cnumber, cluster):\n",
    "    item_count = 0\n",
    "    print('Cluster {} (of size {})\\n'.format(cnumber, len(cluster)))\n",
    "    for val, count in cluster.items():\n",
    "        item_count += 1\n",
    "        if item_count <= 10:\n",
    "            print('{} ({})'.format(val, count))\n",
    "    if item_count>10:\n",
    "        print(\".......{} more items\".format(item_count-10))\n",
    "    print('\\nSuggested value: {}\\n\\n'.format(cluster.suggestion()))\n",
    "\n",
    "def updateUsingClusters(col, clusters, isPrint = False):\n",
    "    \n",
    "    orignal_list = []\n",
    "    suggestion_list = []\n",
    "    clusters.sort(key=lambda c: len(c), reverse=True)\n",
    "       \n",
    "    for i, cluster in enumerate(clusters):        \n",
    "        suggestion = cluster.suggestion()\n",
    "        orignal_list = []\n",
    "        suggestion_list = []\n",
    "        if isPrint and i <5:\n",
    "            print_cluster(i, cluster)\n",
    "        \n",
    "        for val, count in cluster.items(): \n",
    "            orignal_list.append(val)\n",
    "            suggestion_list.append(suggestion)\n",
    "    \n",
    "    df[col] = df[col].replace(orignal_list, suggestion_list)"
   ]
  },
  {
   "cell_type": "code",
   "execution_count": 124,
   "id": "94830652",
   "metadata": {},
   "outputs": [
    {
     "name": "stdout",
     "output_type": "stream",
     "text": [
      "kNN cluster for  OWNER_CITY\n",
      "updating column  OWNER_CITY\n",
      "----------------------\n",
      "Top 5 Cluster:\n",
      "----------------------\n",
      "Cluster 0 (of size 7)\n",
      "\n",
      "RICHMOND HILL (2845)\n",
      "RICHMOND.HILL (44)\n",
      "S. RICHMOND HILL (115)\n",
      "S. RICHMOND (89)\n",
      "S.RICHMOND HILL (68)\n",
      "RICHMOND HILLS (10)\n",
      "SOUTH RICHMOND HILL (497)\n",
      "\n",
      "Suggested value: RICHMOND HILL\n",
      "\n",
      "\n",
      "Cluster 1 (of size 6)\n",
      "\n",
      "RICHMOND.HILL (44)\n",
      "SOUTH RICHMOND HILL (497)\n",
      "S. RICHMOND HILL (115)\n",
      "S.RICHMOND HILL (68)\n",
      "RICHMOND HILLS (10)\n",
      "RICHMOND HILL (2845)\n",
      "\n",
      "Suggested value: RICHMOND HILL\n",
      "\n",
      "\n",
      "Cluster 2 (of size 5)\n",
      "\n",
      "COLLEGE POIT (6)\n",
      "COLLEGE PT. (34)\n",
      "COLLEGE PT (60)\n",
      "BREEZY POINT (115)\n",
      "COLLEGE POINT (2555)\n",
      "\n",
      "Suggested value: COLLEGE POINT\n",
      "\n",
      "\n",
      "Cluster 3 (of size 4)\n",
      "\n",
      "SOUTH RICHMOND HILL (497)\n",
      "S. RICHMOND HILL (115)\n",
      "S.RICHMOND HILL (68)\n",
      "S. RICHMOND (89)\n",
      "\n",
      "Suggested value: SOUTH RICHMOND HILL\n",
      "\n",
      "\n",
      "Cluster 4 (of size 4)\n",
      "\n",
      "SOUTH OZONE PARK (557)\n",
      "SOUT OZONE PARK (49)\n",
      "OZONE PK (75)\n",
      "OZONE PARK (3859)\n",
      "\n",
      "Suggested value: OZONE PARK\n",
      "\n",
      "\n",
      "================\n"
     ]
    }
   ],
   "source": [
    "date_cols = ['OWNER_CITY']\n",
    "\n",
    "\n",
    "print(\"kNN cluster for \", 'OWNER_CITY')\n",
    "col_clusters = getClusters(\"CITY\")\n",
    "print(\"updating column \", 'OWNER_CITY')\n",
    "print(\"----------------------\\nTop 5 Cluster:\\n----------------------\")\n",
    "updateUsingClusters('OWNER_CITY', col_clusters, True)\n",
    "print(\"================\")"
   ]
  },
  {
   "cell_type": "markdown",
   "id": "73613a31",
   "metadata": {},
   "source": [
    "# After clustering, find data that is not in the reference city dataset, hard code to clean them"
   ]
  },
  {
   "cell_type": "code",
   "execution_count": 125,
   "id": "e8e0190e",
   "metadata": {},
   "outputs": [
    {
     "name": "stdout",
     "output_type": "stream",
     "text": [
      "5686             NEW YORK\n",
      "10881          WELLINGTON\n",
      "27369                 LIC\n",
      "27396                 NYC\n",
      "27399    SOUTH PLAINFIELD\n",
      "27403             JAMAICA\n",
      "27420                  NY\n",
      "72461        EAST PARAMUS\n",
      "Name: OWNER_CITY, dtype: object\n"
     ]
    }
   ],
   "source": [
    "upper_city_list = []\n",
    "for item in city_list:\n",
    "    upper_city_list.append(str(item.upper()))\n",
    "\n",
    "outlier_cities = df.loc[(~df['OWNER_CITY'].str.upper().isin(upper_city_list)) & (~df['OWNER_CITY'].isna())]['OWNER_CITY'].drop_duplicates()\n",
    "print(outlier_cities)"
   ]
  },
  {
   "cell_type": "markdown",
   "id": "16fd2e48",
   "metadata": {},
   "source": [
    "# Print standardized cities and found outliers"
   ]
  },
  {
   "cell_type": "code",
   "execution_count": 126,
   "id": "c0e98489",
   "metadata": {},
   "outputs": [
    {
     "name": "stdout",
     "output_type": "stream",
     "text": [
      "957        BROOKLYN\n",
      "25254        QUEENS\n",
      "25995       CHICAGO\n",
      "27366     RIDGEWOOD\n",
      "27374      FLUSHING\n",
      "27386      ELMHURST\n",
      "27421    GREAT NECK\n",
      "27436    HUNTINGTON\n",
      "Name: OWNER_CITY, dtype: object\n"
     ]
    }
   ],
   "source": [
    "standardized_cities = df.loc[(df['OWNER_CITY'].str.upper().isin(upper_city_list)) & (~df['OWNER_CITY'].isna())]['OWNER_CITY'].drop_duplicates()\n",
    "print(standardized_cities)"
   ]
  },
  {
   "cell_type": "code",
   "execution_count": 127,
   "id": "72add981",
   "metadata": {},
   "outputs": [
    {
     "name": "stdout",
     "output_type": "stream",
     "text": [
      "['NEW YORK', 'WELLINGTON', 'LIC', 'NYC', 'SOUTH PLAINFIELD', 'JAMAICA', 'NY', 'EAST PARAMUS']\n"
     ]
    }
   ],
   "source": [
    "outlier_city_list = []\n",
    "for item in outlier_cities:\n",
    "    outlier_city_list.append(str(item))\n",
    "    \n",
    "print(outlier_city_list)"
   ]
  },
  {
   "cell_type": "markdown",
   "id": "f467a2f9",
   "metadata": {},
   "source": [
    "# Search for similar city names in reference city dataset, and hard code to replace those outliers"
   ]
  },
  {
   "cell_type": "code",
   "execution_count": 128,
   "id": "8a2e441f",
   "metadata": {},
   "outputs": [
    {
     "name": "stdout",
     "output_type": "stream",
     "text": [
      "137       Richmond\n",
      "1728    Richardson\n",
      "1860      Richland\n",
      "Name: city, dtype: object\n",
      "------------------------\n",
      "\n",
      "498       Rock Island\n",
      "1060     Grand Island\n",
      "1286    Staten Island\n",
      "1294     Coney Island\n",
      "Name: city, dtype: object\n",
      "------------------------\n",
      "\n",
      "363             White Springs\n",
      "1266             White Plains\n",
      "1881    White Sulphur Springs\n",
      "Name: city, dtype: object\n",
      "------------------------\n",
      "\n",
      "997         Philadelphia\n",
      "1418    New Philadelphia\n",
      "Name: city, dtype: object\n",
      "------------------------\n",
      "\n",
      "1151    Morristown\n",
      "Name: city, dtype: object\n",
      "------------------------\n",
      "\n",
      "Series([], Name: city, dtype: object)\n",
      "------------------------\n",
      "\n",
      "Series([], Name: city, dtype: object)\n",
      "------------------------\n",
      "\n"
     ]
    }
   ],
   "source": [
    "def findCityName(str):\n",
    "    print(city_df['city'].loc[city_df['city'].str.contains(str)].drop_duplicates())\n",
    "    print(\"------------------------\\n\")\n",
    "    \n",
    "findCityName(\"Rich\")\n",
    "findCityName(\"Island\")\n",
    "findCityName(\"White\")\n",
    "findCityName(\"Philadelphia\")\n",
    "findCityName(\"Morris\")\n",
    "findCityName(\"Nassau\")\n",
    "findCityName(\"Westchester\")\n",
    "  "
   ]
  },
  {
   "cell_type": "code",
   "execution_count": 129,
   "id": "596ea584",
   "metadata": {},
   "outputs": [],
   "source": [
    "outlier_city_list = ['NEW YORK', 'BKLYN', 'ROOKLYN', 'RICHMOND HILL', 'BX', 'NY', 'OLD WESTBURY', 'N.Y.', 'HOLLIS', 'MAHATTAN', 'LAKE SUCCESS', 'BROKKLYN', 'BETHESDA', 'JAMAICA', 'SECAUCUS', 'LIC', 'MASPETH', 'JAMAICA ESTATES', 'SOUTH OZONE PAR', 'BAYSIDE', 'JAM', 'PARMUS', 'KEW GARDENS', 'WOONSECKET', 'LI', 'ST. ALBANS', 'MASSAPEQUA', 'SI', 'FLORAL PARK', 'ROSLYN HEIGHTS', 'HOWARD BEACH', 'WHITEPLAINS', 'JACKSON HEIGHTS', 'REGO PARK', 'NEW HYDE PARK', 'REGO', 'ARVERNE', 'OZONE PARK', 'VALLEY STREAM', 'NEPONSIT', 'ROCKVILLE CENTR', 'BRIARWOOD', 'BRKLYN', 'MOUNT LAUREL', 'QUEEEN', 'ELMSFORD', 'NYC', 'GILLFORD', 'PARSIPPANY', 'WOODSIDE', 'LONG ISLAND CIT', 'QUEEN', 'VAALLEY STREAAM', 'BRONS', 'COLLEGE POINT', 'ROCKAWAY POINT', 'DOUGLASTON', 'ENGLEWOOD CLIFF', 'QNS', 'LYNBROOK', 'SYOSSET', 'FRESH MEADOWS', 'LITTLE NECK', 'WOODHAVEN', 'HARTSDALE', 'ATLANTIC BEACH', 'SAN JUAN CAPIST', 'CALDE PLACE', 'RIVERDALE', 'TUCKAHOE', 'SEAFORD', 'L.I.C.', 'REGO PK', \"B'KLYN\"]\n",
    "clean_city_list = ['NEW YORK CITY', 'BROOKLYN', 'BROOKLYN', 'RICHMOND', 'BRONX', 'NEW YORK CITY', 'NEW YORK CITY', 'NEW YORK CITY', 'NEW YORK CITY', 'MANHATTAN', 'NEW YORK CITY', 'BROOKLYN', 'BETHESDA', 'NEW YORK CITY', 'SECAUCUS', 'LONG ISLAND CITY', 'NEW YORK CITY', 'NEW YORK CITY', 'NEW YORK CITY', 'NEW YORK CITY', 'NEW YORK CITY', 'PARAMUS', 'NEW YORK CITY', 'WOONSOCKET', 'LONG ISLAND CITY', 'NEW YORK CITY', 'NEW YORK CITY', 'STATEN ISLAND', 'NEW YORK CITY', 'NEW YORK CITY', 'NEW YORK CITY', 'WHITE PLAINS', 'NEW YORK CITY', 'NEW YORK CITY', 'NEW YORK CITY', 'NEW YORK CITY', 'NEW YORK CITY', 'NEW YORK CITY', 'NEW YORK CITY', 'NEW YORK CITY', 'NEW YORK CITY', 'NEW YORK CITY', 'BROOKLYN', 'PHILADELPHIA', 'QUEEENS', 'NEW YORK CITY', 'NEW YORK CITY', 'GILLFORD', 'MORRIS', 'NEW YORK CITY', 'LONG ISLAND CITY', 'QUEENS', 'BRONX', 'NEW YORK CITY', 'NEW YORK CITY', 'NEW YORK CITY', 'NEW YORK CITY', 'NEW YORK CITY', 'QUEENS', 'NEW YORK CITY', 'NASSAU', 'QUEENS', 'QUEENS', 'WOODHAVEN', 'NEW YORK CITY', 'NASSAU', 'SAN JUAN CAPISTRANO', 'BROOKLYN', 'RIVERDALE', 'STATEN ISLAND', 'NASSAU', 'LONG ISLAND CITY', 'QUEENS', \"BROOKLYN\"]\n",
    "\n",
    "df['OWNER_CITY'] = df['OWNER_CITY'].replace(outlier_city_list, clean_city_list)"
   ]
  },
  {
   "cell_type": "markdown",
   "id": "f94dfdb9",
   "metadata": {},
   "source": [
    "# Check State Column"
   ]
  },
  {
   "cell_type": "code",
   "execution_count": 130,
   "id": "4a62627a",
   "metadata": {},
   "outputs": [
    {
     "name": "stdout",
     "output_type": "stream",
     "text": [
      "Column:  STATE\n",
      "1.        NY     255,011\n",
      "2.                     8\n",
      "3.  WOODHAVEN           5\n",
      "\n",
      "Total number of distinct values in STATE is 3\n",
      "['', 'WOODHAVEN', 'NY']\n",
      "\n",
      "==================================\n"
     ]
    }
   ],
   "source": [
    "state_col = 'STATE'\n",
    "findDateOutliers(state_col, 0.1)"
   ]
  },
  {
   "cell_type": "code",
   "execution_count": 131,
   "id": "786b4ff1",
   "metadata": {},
   "outputs": [
    {
     "data": {
      "text/plain": [
       "Counter({'NY': 255011, '': 8, 'WOODHAVEN': 5})"
      ]
     },
     "execution_count": 131,
     "metadata": {},
     "output_type": "execute_result"
    }
   ],
   "source": [
    "ds.select('STATE').distinct()"
   ]
  },
  {
   "cell_type": "markdown",
   "id": "7a4a24d8",
   "metadata": {},
   "source": [
    "# Find functional dependencies violations on City -> State"
   ]
  },
  {
   "cell_type": "code",
   "execution_count": 132,
   "id": "fdfb02ed",
   "metadata": {},
   "outputs": [
    {
     "name": "stdout",
     "output_type": "stream",
     "text": [
      "City         \t|            State\n",
      "=============\t|  ===============\n"
     ]
    }
   ],
   "source": [
    "from openclean.operator.collector.count import distinct\n",
    "from openclean.operator.map.violations import fd_violations\n",
    "\n",
    "groups = fd_violations(df, lhs='OWNER_CITY', rhs='OWNER_STATE')\n",
    "\n",
    "print('City         \\t|            State')\n",
    "print('=============\\t|  ===============')\n",
    "for key in groups:\n",
    "    conflicts = distinct(groups.get(key), 'OWNER_STATE').most_common()\n",
    "    state, count = conflicts[0]\n",
    "    print('{:<12} \\t| {} x {}'.format(key, count, state))\n",
    "    for state, count in conflicts[1:]:\n",
    "        print('             \\t| {} x {}'.format(count, state))\n",
    "    print('-------------\\t|  ---------------')"
   ]
  },
  {
   "cell_type": "markdown",
   "id": "6b0b9495",
   "metadata": {},
   "source": [
    "There is a row that has \"NEW YORK CITY\" as city, but have \"NJ\" as State, fix its state to \"NY\""
   ]
  },
  {
   "cell_type": "code",
   "execution_count": 133,
   "id": "eb9c9f76",
   "metadata": {},
   "outputs": [
    {
     "data": {
      "text/plain": [
       "Series([], Name: OWNER_STATE, dtype: object)"
      ]
     },
     "execution_count": 133,
     "metadata": {},
     "output_type": "execute_result"
    }
   ],
   "source": [
    "df['OWNER_STATE'].loc[(df['OWNER_CITY'] == \"NEW YORK CITY\") & (df['OWNER_STATE'] == \"NJ\")]"
   ]
  },
  {
   "cell_type": "markdown",
   "id": "d086b33c",
   "metadata": {},
   "source": [
    "# Apply similar operation on BUSINESS_NAME"
   ]
  },
  {
   "cell_type": "code",
   "execution_count": 134,
   "id": "cb861aea",
   "metadata": {},
   "outputs": [
    {
     "name": "stdout",
     "output_type": "stream",
     "text": [
      "Column:  BUSINESS_NAME\n",
      "1.               100,441\n",
      "2.        PR       9,807\n",
      "3.       N/A       6,210\n",
      "4.     NYCHA       1,809\n",
      "5.  EVEREST SCAFFOLDING INC.       1,391\n",
      "6.       n/a       1,266\n",
      "7.    NYCSCA       1,257\n",
      "8.  BPP PARKER TOWER PROPERTY OWNER       1,008\n",
      "9.  SPRING SCAFFOLDING LLC         896\n",
      "10. Charter Communications         824\n",
      "\n",
      "Total number of distinct values in BUSINESS_NAME is 40981\n",
      "['', '1266llc', '500-512 seventh avenue, L.P.', 'TL & T LLC', '1417-1419 REALTY ASSOCIATES LLC', 'Riverside 5', '311 COSTER STREETASSOCIATESLLC.', 'LSS, LLC', '304-310 W. 14 REALTY LLC', 'M. MELNICK & CO., INC.', '149 B AND D CORP.', '1190 156th LLC', 'Alans Re 99 Cents & Up Inc', '34th Street Partnership/ Bryant Park Corporation', '582-92 W 207 LLC', 'AT&T', '111 MOTT LLC', '3801-05  LLC', '88-06 Llc', 'FPNY 14TH, LLC, C/O PIZZAROTTI, LLC', '23 RP Associates c/o Adams & Company RE, LLC', '4115 50TH LLC', '150 E 58 ST', '380 2ND', 'Willoughby Rehabilitation and Healthcare Center DBA Spring Creek Rehabilitation & Nursing Care Cente', '5401 1 ave', 'Thermald Realty Assoc. 1, LP', 'NRCF 2GC LLC', '570  TOWER  ASSOC', '129 EAST 69 STREET CORPORATION C/O BROWN HARRIS STEVENS RESIDENTIAL MANAGEMENT, LLC', 'PR', 'bhag3', 'Rio, The Condo & Spa, by its Board of Mngrs.', '94-28 Realty Inc.', 'WH2-110-26', 'MARRIA LLC, MATTA LLC, METTIS LLC', '110 William Property Investors III, LLC C/O Savanna Project Management', '30 Irving, LLC.', '212 West 105th St Housing Development Fund Corporation', '75/76 LLC', 'GOTHAMREALTY2LLC', '18f', 'B.B.B & C LLC', 'CONNECT/ONE', '339 77TH LLC', 'NYC 777 LLC', 'G.S. 505 Park LLC', 'RW Dake & Co., Inc.', 'Jam345E33 LLC', 'Italia 90', 'continenatal66asscoaiates', '86 E.3 LLC', '401-403 57TH ST.REALTY CORP', 'apt 3g', '89-48 129 LLC', 'JAL58,LLC', '300SN LLC', '7 ELEVEN INC', '133MENAHANllc', 'E 196 LLC', '400 E. 55 ST. ASSOC. LP, C/O K&W', '477 86THSTREET,LLC', 'So3Alpha Corp', 'AVENTIS-72ND LLC', '31-60 35st. Corp', 'W717 LLC', 'PS 007', '134-136 W 82nd St Owners Corp', 'FSCS-106 LLC', 'VNFS        LLC', 'S.H.S. MASPETH', '18-05 215TH ST. OWNERS INC.', '6223 -18 LLC', 'K & M Realty Corp.', '6402 8TH AVE', '522 W 148 LLC', 'Three54T LLC', '1250 BROADWAY ASSOCIATES LLC C/O GLOBAL HOLDINGS MANAGEMENT', '2306-2326 ARTHUR LLC', 'OAKHOMES2 INC', '111 CPN LLC', 'AHONA H.D.F.C.', 'CITIBANK, NA # 12488', '5421ROOSEVELTAVELLC', 'N156ST F & B Inc', '37-37 88sT.. LLC', 'Theofilos4545 inc.', 'US BANK NATIONAL ASSOCIATION AS TRUSTEE FOR THE RMAC TRUST,SERIES 2016-CTT', '02-17 M&B Realty LLC', '94-20 Reality Co., LLC.', '285 FW INC', '5537-225 W23 AND 220 W24 MN LLC', 'RFR/K55', '475611823', 'CITIBANK #125 # 36251', '21-19 46 AVE', '11154255', '361WINTHROP LLC', '1182 woodycrest llc/banta homes/nhe management assoc,llc', '217-219 Madison St. Corp.', '230 20th llc', 'RS-8-06 TRUST', '110-26 175 ST LLC', '509 W 34, L.L.C.', '870 MADISON, L. L. C', '74 UP INC', '165-1142 LLC', 'R.SN CONSTRUCTION  CO. INC', '1161 LLC %DUELL LLC', 'D & L DESIGN & BUILD LLC', 'C.K.M.R. CORP.', '1818NADLAN', 'Bay Ridge P.J Inc', '10 W 66 St Corp.', 'ENSIGN ENGINEERING,P.C', '295 W 150 LLC.', 'jsalgado@bklynlibrary.org', '1141 &1151 HOE LLC', 'Heights 660LLC', '87 WALKER ST.', 'Lil-Fra-Joe, LTD', 'A.SANOMA INC.', '18 Sixth Ave Owner LLC c/o The Brodsky Org', 'Saig6k llc', '373 lincoln 2017 llc', '318-324 126 llc', '25 GROVE ST ..C', 'Liberty House Condominium c/oEric Clark,Arm R.Y Management Co.,Inc.', '202 South 2nd St. LLC c/o Wayfinder PM', '535 FIRST,LLC', 'HJCY Group 3 Inc', 'M&AA Lin, Inc.', 'PRIMROSE E82, LLC', 'SP 141 E. 33 LLC', '2602-2612 PITKIN LLC', '144-31 Realty CO. LLC', 'Fortyfoureighteenassociates', 'SANCHO98LLC', '275LindenRealtyCorp', '3143-3147 BROADWAY LLC.', 'LOCAL 118-18 CORP', 'NONE 7188010950', 'CAB 2 LLC', 'NEWMARK & CO,', '63 WALL STREET OWNER, L.L.C.', \"HENSON'S 96TH CORP.\", '135-17 northern BLVD Parking Garage LLC.', '2816 LIC', '7001 EAST 71 SR STREET LLC', '37-51/37-55 79th Realty LLC', 'NYP & CC', 'ten to one', '1 STATE STREET, LLC', 'IS 218', 'MAXWELL-KATES, INC.', 'Apt 11G-C', '54 LLC', '233233 COMPANY LLC', 'L&M BUS CORP.', '306DOLDRR', 'Lawless Mangione480', 'E & E', '204-206 W 106th St. LLC', '136-10LLC', 'AYY26LLC', '116 WESTCO,LLC', '57 GunHill L.L.C.', 'H R R', 'LH48LLC.', '3472198593', '736WendAvenueAssociates', '1411 IC - SIC PROP LLC C/O', 'PB 100 INC.', 'BISCUIT-VARICKST.,LLC', 'A. RUTH & SONS', '2  g footing llc', 'PS 205(X)', '691 10 LLC', '1411 IC-SIC PROP LLC C/O CBRE AS AG', '2033 1 ave', 'R.R. MALLIA LLC', '251-253 West 70th Corp.', '41FLATBUSHOWNERSLLC', '646-292-4924', '30193 LLC', 'jj1466 LLC', 'RIVERATONYCONSTRUCTON.INC', 'Z2K Inc.', '503 W 144, LLC', 'E 16 ST REALTY CORP (SHEEPSHEAD BAY COSMETIC LASER CENTER)', '328 ATLANTIC,, LLC', '109-15 CORP', '11-20 46TH ROAD, LLC', '105Sullivan LLC', 'BC11', 'L.S. SIGN CO, INC', \"5D's LLC\", '48W 120 ST, LLC', '111-115COURTLLC', 'CAB 2, LLC', 'BK D', '1055 63 LLC', '23-81 LAC LLC & 23-81 LNT LLC', '147/214 Owners Corp.', 'NBLA173', 'W 54-7 LLC', '19-80Steinway LLC', '601Baltic LLC.', '82-50 88th ln,llc', 'ABB 20619 LLC', 'H & M 1031 LLC', '1250 Broadway Associates, LLPC/O', 'PS 04', '718-791-3460', 'J.L.C. ELECTRICAL CONTRACTING INC.', '50 boweryholdings', 'Art+1 Inc.', 'Hayden5', 'LL218EAST 81ST STREET, LLC', 'AIMCO 88TH STR / SECOND AVE PROPERTIES, LLC.', 'J. Wasser & Co', '70 WYCKOFF, LLC', 'LZZ, LLC', 'MR SUK HEE KIM & MRS SUN YOUNG KIM', '85-02 139th LLC', 's & y market inc.', 'TEN BE OR NOT TEN BE INC.', 'ML-7', 'edgewater21prop llc', '17 East Mr. P LLC', 'UNIT NO.3 CORP', '61103915450000 BASSAM M DOLEH DBA BD FOOD SUPERMARKET', '601W.136TH ST H.P.F.CO-OP', '14th @ Irving Fee, LLC', '202n8 llc', 'W.F.M. Property', 'EAST SHORE 35-01 REALTY L.L.C.', '1466 E. GUN HILL RD. CORP.', '30-38 ST LLC', 'D 7 H BAGELS', '207/10 Associates', '1192 PARK', 'LCCO LLC', '1417 E24TH LLC', '105 MANAGEMENT', 'HAPPY8REALTY', '7417METROPOLITAN LLC', '120-34/70 QB LLC', '320-57 CORPORATION', 'KC3-319-321 East 78th street,LLC', \"ROYAL DELI INC. (NIDA'S ROYAL MARKET & DELI)\", '29-12 LIC LLC', 'Linden 78', '3M MGMT LLC', '89TH JAMAICA REALTY CO.L.L.C', 'C.R.U. MECHANICAL & HEATING, INC.', '4 PARK AVE. ASSOC LLC.', 'E S G C CORP', 'HBH 151 W.199 LLC', '1153 40 ST LLC', 'Hotel 57,LLC/ Four Seasons Hotel N.Y.', '293 HENRY LLC C/O ROSE & ROSE', '80  Park  LLC', '264-266 W 25 STREET', '536 80 ST CORP', '166 E. 96 ST. OWNERS CORP.', 'DR S Y GOWD MD', 'BIG 6', 'PLAZA 52, LLC', 'Jennifer <Jennifer@qrstproperties.com>', '4202 AVE T', 'MC71FifthAve.RealtyLLC', 'LAM & LAM', '4703 14TH LLC', '148 w136 LLC', '22112 LLC', '13261developmentcorp', 'HHB35LLC', '550 rockawayllc', '1733 UNICO,LLC.', '360 ENGINEERING P.C.', 'Chris- Mac, LLC. c/o ABS Partners Real Estate', '485 Ocean Ave., LLC', 'A&S 2929 LLC', '114-21 LLC', \"Gigi's  Bakery, Inc.\", '325/93 ASSOC LLC C/O R.A COHEN', '105-08', 'paata85 llc', 'sasson & sasson LLC', 'KTSA-59EAST80THLLC', 'MILLER & MILLER', 'A  AND A', '71-18 LLC', 'Atlas Atlas Developers LLC  Eagle Development (DE) Corp  435 7th Ave Apts LLC  Schwartz 18th St LL', 'KESEF2020HOLDINGS', 'dr...gilbert', 'L1C CORP.', '343 E173RD LLC', '8283159LLC', 'M & T Bank', '4MB Q 166-08 81 AVE, LLC', '94-28 Realty INC.', 'ACACIA 118, LLC', '---', 'LEVEL 3', 'W&W 217 LLC', 'DTC REALTY CORP (Century21)', 'S.ORTAL.LLC', '810 E 165 LLC', '37-51/37-55 79th  Realty LLC', '342141st LLC', 'HAI  SHAN  RONG', '335-347 38th Street', '115 East 90th Street c/o Charles Greenthal Management', '327 EAST 84TH STREET, L.L.C.', '28-17 Realty Ass.', '333 J & M FOOD CORP', 'A THRU Z MOTOR VEHICLE SERVICES INC. (INSURANCE COMMERCIAL AND RESIDENTIAL)', 'Williams Electrical Mechanical Group, Williams Petroleum and Marine Group, Inc.', 'N/ A', 'a and e', '149-05(79 )UNITS LLC', '416 W LLC', 'J2 renovations', '511 WEST  151, LLC', 'C &  P Realty of NYC LLC', '105-115 W 74 st LLC', '20 WEST 22 ASSOC, LLC C/O', 'Rothchild &Co.', '320 57 CORP', 'S.S. PISA CORP.', '306GOLDRR', '250 WEST 81ST STREET 12A NEW YORK NY 10024', '7 OF 8 REALTY CO. LLC', 'PS 219', '18823WOODHULL LLC.', '122 EAST 42ND ST., LLC.', '618 Ave H  LLC', '67 management', '980 5th Ave CORP', '23-61 31ST LLC', 'O.B., LLC', '720-730 Fort Washington Owners Corp C/O  Gumley Haft', '335-7 LLC', 'P.C.LIU, CPA,P.C.', 'J@0 interiors Corp.', 'NYSANDY14Williamsburg 3 LLC', 'EB153 REALTY, INC.', '111 E 59TH ST, JV, SUB, LLC', '1459 57TH LLC', 'CLD LLC', 'FLATIRON 30 LLC, A NY LLC C/O SKYWAY DEVELOPMENT GROUP LLC', 'Gaia Corinthian 2, LLC.', 'D & A 724 FOD CORP', 'T.I.M. INTERIOR', '1030 PARK PROPERTY LLC, C/O TERRA FINANCIAL SOLUTION LLC', 'L & M 825, L.L.C.', 'PS246', 'MIDBORO MANAGEMENT, INC.c/o 1140Tenats Corp', '1027-1035 Cortelyou Management LLC', 'CIPRIANI S.A.', '1705 & 1715 CATON ASSOCIATES LLC', '210-220 E. 22ND STREET SSGA OWNER,', '126 w 130 llc', '5001 10th LLC', '1901 10TH AVENUE, LLC.', 'BRE 114 WEST 41ST STREET, LLC', '150-21 22 AVE INC.', 'crabbyshack2', 'JEN 8 LLC', '45-10 MANAGEMENT', '1080 38th llc', 'YPO42 LLC', '132-45realtyllc', 'FMP212 LLC', 'JD 245, LLC', '218 Keap St. LLC', '343 STAGG ST', 'Markelle17 LLC', '140-18', '145 CORP', 'Apt 7b', '4812 6 ave', 'WEST39-260 REALTY', '201 EAST 62ND APT CORP. C/O WALLACK MANAGEMENT COMPANY, INC.', '216EAST10TH ST.CORP', '3143-3147 BROADWAY, LLC', 'H2626 LLC', 'LLC.', 'DOK KOO KIM DBA K & D FOOD MARKET', '1239 Operating Corp/c/o Justin MNGMT', '405 Associates, L.P.', '59-48st corporation', '860 5th Ave Corp', 'JAM345E33 LLC', 'N. Pax15', '807Riverside Condomium', 'c  18 corp.', '264W73 ST CORP', '670 w 193 LLC', 'A&K New York #1 Corp.', 'CK-1 REALTY', 'P.G.S. NY INC.', 'RBAPARTMENTSLLCBYBARINGSLLC', '3RXW LLC.', '72 LLC', 'CRJ177@YAHOO.COM', 'BSF West 175th Street Holding LLC / DBA Howel Management Corp.', 'R. A. COHEN', '167 N. 9 str. corp.', 'ML7', '133-04', '211-38 LLC', '254-258 W 35 ST. LLC', '285 MADISON OWNER LLC C/O RFR REALTY, LLC', '2652 E18 LLC', '166 E 61ST ST CORP C/O TUDOR', 'LENOX-874 LLC', '95LEGION.LLC', '139-55 Realty', '554 W 148 LLC.', 'TheUnitarianChurchofAllSouls', 'Le Premier Condominium C/0 Brown Harris Stevens Residential Management Inc', '10605 169 STREET LLC', 'M. Melnick & Co.', 'CJ2 Management, LLC.', 'V. & P. PASTRY SHOP INC.', '1000 LLC', 'PR 351 W 29  LLC', '145-36 Realty. LLC', '61-43 LLC', '33 GREENE ST. CORP.', 'S&T Auto Body Repairs, Inc.', 'look@me-diallc', '77 HALSEY STREET,  LLC.', '5921 18 LLC', '329W19Apartment corp11', '617 11th Street, LLC.', '2700 GC, LLC Inc.', 'E.C. Provini Co., Inc.', '630-636 West 136th Street LLC', '13 Rattles, Inc.', '326-328 EAST 73RD STREET RESIDENTS INC.', 'BCC 4131 LLC', 'AT & T', '4328 163 St LLC', 'cravings15th', 'MAYA613LLC', 'S & K 18 LLC', '554-558 w 181st LLC', '.', 'W.U.L. CORP', 'A. RUTH &amp; SONS', '2591 Atlantic Ave LLC (SHINY CAR WASH)', '55 WHIPPLE STREET L.P.', '315LLC', '535-545 FEE LLC', '483 L M CORP', 'chene13 LLC.', '220E178 LLC', 'SE Realty Holdings 1 LLC', 'Haberman&Haberman', '118 & 120 HUDSON STREET, LLC.', 'TRUSTEES OF THE GENERAL ASSEMBLY OF THE CHURCH OF THE LORD JESUS CHRIST', '481E21 LLC', '771 E.32 Str. LLC', 'BABAK BEHMANESH, D.D.S, P.C.', '41-15 50TH LLC', 'Jackson77LLC', '225 CPN LLC', 'HALLER & HALLER', '311 W 21 LLC', '917-3653017', '82-66 166 ST CORP.', '224-28to224-36 Braddock Ave LLC', '94stfift avecorps', '46 ST, FELIX STREET LLC.', '108-110 EMERSON', 'U.S. TEAM INC.', '156-12 43avenue LLC.', '88Trust', '211 East 34 Street BR2018 LLC', '5 BEEBE LLC', '37-33 LLC', 'D11 ENTERPRISES', '335FENIMORE.llc', 'L P M SER OF N Y INC NEW YORK INC', '4219-15 AVE LLC', 'A&J 38, INC.', '3M & ASSOCIATE', 'BROADWAY 52ND L.P.', '500 W 148 LLC', '94-08 70th avenue', 'M.R.O.A.V.', '5 PENN PLAZA, LLC', '75 1st Ave. Club, LLC', '85-02 67th Ave., LLC', '44', '6829 62 llc', '200 E65TH STREET 210 E65TH STREET, LLC', '27E20 LLC', 'C.Y.M Group, LLC.', '51-02 LLC', \"N.Y., N.Y. CONG. OF JEHOVAH'S WITNESSES\", '109 e 9 LLC', '44 LLC', '5Ave 2254 LLC', 'NYC Dept. of Ed.', '220e178 llc', 'Mac119 LLC', 'BR 2018 Inc', 'A-HATTAN INC.', 'B.B.S.T.Realty LLC', '7HS LC', 'ABL478 LLC', 'N/A917-892-3657', '73-17 Kessel', 'HPG 29 2ND AVE LLC', 'LKH 23RD, LLC.', 'C.H.B.I., INC.', 'N.A.', '211 WEST 18 STREET', '150 29 ST LLC', '363 canal st. co. llc', '115A', 'A..W. & S. CONSTRUCTION CO. INC', '94-19 Reality Co., LLC.', 'PPS100LLC', '66 E 80th Street Associates LLC c/o Majestic Property Management', '84-53 247 st LLC', '503 w. 169 LLC', '35 Ave Bay Inc', 'Rio, The Condo & Spa, by its Board of Mngrs on behalf of all Unit Owners', '1540 wallco,INC', 'D.I.M.M. & M CORP', '67 WALL STREET OWNER, L.L.C.', '1275 CORP.', 'MCKISSACK&MCKISSACK', 'SHOREFRONT-YM-YWHA', '21 T LLC', '501WEST156THSTREET  H.D.F.C.', '517 - 525 W 45 LLC', 'P.C.F. II LLC', '1 BANK ST CORP', 'JC 1008 LLC', 'BEN 86, Inc', '2222-2226 OCEAN AVENUE LLC', 'E & L FOOD', '217-20 98th ave 255 LLC', 'fh65association llc', 'Cushman & Wakefield U.S., Inc.', 'Two East End Ave Apt Corp. C/o Gumley Haft', '116 NYC LLC', '35-37 97 st llc', '3087-312 W 113 LLC', 'BNYD & C', 'Regal4LLC', '57-115 Associates,LP c/o Gould Investor,LP', 'HPG 29 2nd Ave LLC', '2020', 'GSWT LLC155', 'SM E 86 LLC', '124 SCOTT AVE , YONKERS , NY 10704', 'H & H BUILDERS 3', '247-253 116th St Owner, LLC', '83-1895272', 'LIBERTY1', 'M.S.N.3 REALTY LLC', 'Beekeeper71', 'MPM 65 LLC.', '35-63', 'LN 1380 Inc.', 'I G S Realty Co.', 'New Family Lo Inc.', '239  5th Ave, Brooklyn Corp.', '392565strealtyllc', 'H.I.I. CORP', '820 E 228 ST', 'CHAI 555 LLC', 'H.R.,LLC', 'KYUNG H KIM    DBA E-Z 2 CLEANERS', 'Werwaiss & Co., Inc.', '39-16 48 st LLC', '29-24 30AVE LLC', 'N.Y.C. S.C.A.', '126UNIVERSITY', 'MY JARABACOA #1 INC.', '992-1000 Amsterdam Av, LLc', '285 FLATBUSH CORP', '15 CPW, 10G LLC', \"Dee's\", '61 E 7 ST LLC', 'TBN24', 'Madison Ave1, LLC', 'SR 786E 163LLC', 'SUCCESS 88 LLC', 'ARCH 31,LLC', 'J & F N DELI & GRILL INC.', '-', 'S&K, LLC', '480 2', 'D10 GROUP INC.', '6829 62 LLC', '320 W 15 LLC', 'BPC GREEN, L.L.C.', 'scmanagement04@gmail.com', 'Bronx584 Broadway LLC c/o Olmstead Properties, Inc', 'parcel242 co.', '34 Ludlow Realty Corp. c/o Morris Goldman Real Estate Corp', '229Harlem LLC', '26 8 th. Ave. Housing Corp.', '212-', 'ahona h.d.f.c.', 'TheJ360companies', 'M & S HARDWARE & SUPP LIES, INC.', '101 CLAY LLC.', '186-36 AVON RD. LLC', 'RUGGLES HOUSE, INC. (112) C/O BU', '34 WEST 69TH STREET, L.L.C.', '48-33 65 LLC', 'Marshalls #1096', '2764-66 Realty LLC.', '2915 FRB', '202 28TH STREET', '145-37 22 Ave INC', 'J & G', 'PS199Q', '2705 and 2707 Morris LLC', '321 W 11 ST LLC.', '161w 16 st llc', 'Comunilife, Inc.', '2301 7TH AVE H.D.F.C.', '10714 LLC', '541 W 144 LLC', '144-33', 'H J  JOY REALTY  LLC', 'NBZ 3RD AVE. LLC', 'A.R.E.', '1016 50th LLC', 'Penthouse MOT, LLC & MOT 2013 Investment Trust dated 9/17/13', '57 WEST REALTY, L.L.C.', 'BELMONT AVE.2321CORP.', 'Taproom #307', 'BSF Inwood Holdings LLC / Barberry Rose Management Co. Inc,', 'SEICHO-NO-IE INC', '1700 LH, LLC', '8A INC', 'C & F TRADING NY, INC.', '73BQ LLC', '30-58/64 34th Street', 'MASTER WORKS 1, LTD.', '104-110 144 LLC', '48 WALL, LLC', '65-67, LLC', '15320110 GROUP CORP', '333 3 st corp.', '1 W 37 LLC', 'J.G.C.ELECTRIC,LLC', 'PR 29, LLC', 'GMF 157 LP', '2555-2559 grand concourse', '4SIXTYLLC', 'Atlas Developers LLC  Eagle Development (DE) Corp  435 7th Ave Apts LLC  Schwartz 18th St LL', 'MR.J.BIANCO', '1 Broadway LLC.', 'p.o. box 1434', '15540 116 RD LLC', '1 CENTRAL PARK WEST APT #36 B NEW YORK NY 10023', 'HS 63R', '310-312 W 122 ST HDFC', '149-07 1', '418 W 129 ST. HDFC', '79-17', '536 CORP', '11 RECTOR STREET, LLC', 'C & E 1165 LLC', '8233LLC', 'J & J DELI & GROCERY', 'Q.Y.ELECTRIC, INC.', '5BY2 B.V.', '57157 CO. LLC', 'Jackson35LLC', \"116 St. Mark's LLC\", '140REMSENLLC', 'R. A. COHEN & ASSOCIATES, INC.', '2Avenue Holding Estate LLC', '505 East 79th Street C/o Halstead Mgmt Co. LLC', '160-35  121 LLC', '2861-2865 BROADWAY LLC', 'Archland Property 1, LLC C/O US', '58 E 52 ST LLC', '515 7th Ave.', 'T & A CAPITAL LLC', 'meadowbrook22', '1223BBA LLC', '740 ASSOCIATES, L.P.', '99 NYC', '31 117 LLC', 'J & J SPORTS PRO CORP', '760,762,763 Fox Street Development', 'sobo 1 llc c/o chestnut holdings of ny Inc.', '986771023', 'MARINA&MARKREALTYLLC', '69-14 61st. Drive LLC', 'S.C.A.', 'CS 393 LLC', '212-279-2419', 'At &T', 'G05 INC.', '37 - 65 LLC', '1880 54 street', '411-417 MEEKER LLC', 'FASBUILDINGCORP.', 'C.H 41 LLC', 'ZL 2720 LLC', 'J.T.MAGEN', '619W46 LLC', 'Bedford 203 LP. and Bedford 203 Housing Develpment Fund Corp.', 'H&W 268 LLC', 'GLSC48 LLC', '612877', '1555-1557 Fulton Development LLC', '725 Ave R, LLC', 'BAY 34  LLC', '2288 ACP LLC', '8-11&13 43rd Rd LLC', 'Rent-A-Center', 'C & A GRACE CORP.', 'F&V Realty Corp.', '585 W.E.A. REALTY LLC', 'WWML96, LLC', '3005 GC LLC', '7-Eleven', 'BG42', '13510 35 Ave NY 2 FL LLC', 'Northridgecoop2', 'W1934 LLC', 'A TO Z B H. LLC', 'WDF, Inc.', '3in1 Equities, LLC', '160-31', '77 QALICB, Inc.', 'SHRADDHA 63 INC.', '199  lee ave', 'JJB5125LLC', '11128 127 CORP', '4541 39TH LLC', 'D & L 12TH AVENUE LLC', 'FC LLC', 'Aimco 464-466 Amsterdam 200-210', 'PS 20', '247 W 37 St Owners LLC c/o GFPRE', '43-13 249th St', '38-34 Realty Corp.', '\\\\', 'TIM HO WAN 2', '67rd llc', 'Pen110', 'PS 7', '286 F.W. Inc.', 'HGW 5 AVE LLC', 'I & T 2053 LLC', 'A &A  47 REALTY LLC', '47-07 39TH STREET, LLC', 'V & J REALTY CO., LLC', 'PAPPALARDO & PAPPALARDO', 'G.S.H. ELECTRIC,INC', 'R.G.M. SIGNS', 'GINO O. LONGO R.A.', '86 2nd Avenue, LLC c/o R.A. Cohen & Associates, Inc.', 'SUL 620/564 LLC', '383MANHATTAN LLC', '251 w llc', '622 -628 West 153 LLC.', '323B74 LLC', 'murrt20llc', 'NY-111 LLC', 'T & M Q Group Inc.', '663hancockllc', '17 W. 17H STREET ENTERPRISES, INC.', 'F H R MEATS INC', '185 2 ST HDFC', '34-23 43rd LLC', '111 ROOSEVELT DEVELOPMENT LLC.CONSTRUCTION SERVICES, I', '218-11 CORP.', '1824 Mohegan Ave Intervivios Revoable Trust AG', '162-20 LLC', 'W.&M. OPERATING, LLC', 'W & K 88 LIQUORS INC', 'P.K.G. ENTERPRISES, INC.', '107-13-15 REALTY LLC', 'CITI BANK #51 #36106', '589 5TH TIC LLC&589 TIC II LLC', 'East 103 st & Lex ave Real', '14 LLC', '560 w 163 st  llc', 'MZXGROUPINC@GMAIL.COM', '158-06/10 REALTY LLC.', 'E.C. PROVINI CO., INC.', 'AAA', 'connors & connors', 'L. RISO & SONS', '871 DELI', '1564 W10 LLC', 'A&G Mgmt Inc.', 'STF 1193-1205 EASTERN PKWY HOLDING LLC', '632-634 EAST 11TH STREET', 'TRATTORIA 585 CORP (PIZZERIA)', '2620 Ave Z', 'R C CH OF HOLY CROSS', '70A cooper PH, LLC.', 'M.J.Fitzgerald & Son', '9177961651', '109-01 INC', \"Hop, Stock & Barrel III LLC dba Mekelburg's\", '644and730 manhattan ave rllc&644and 730manhattan aveellc', '67 Irving (NY) LLC', '110-03 101 AVE JASP, LLC', '5537-225 WEST 23RD AND 220 WEST 24T', '60-21/23 Myrtle LLC', 'Uptown 6, LLC', '63 E 8 BAGEL CORP', '1296 Park PH, LLC.', 'Badri11LLc', 'MEDHOLDING188', '1810-1830 E Tremont Corp.', 'lpl 885 llc', '1111 Ward LLC', '607956ST LLC', '212-681-9021', '410 E.28 AVE, L 410 E.28 AVE, LLC', 'GEORGE A. TSAIRIS, R.A.', '111-25 lls', '452-87TH LLC', '1218 CORP', '1128 36 LLC', '3920broadwayllc', '1956 50 st LLC', 'SM 1495, LLC', '38-34 Reality Corp.', 'jmdequities111', 'YI LU FA CORP', '135-46-56 LEFFERTS BLVD, LLC', '144-45 llc', 'THE BOARD OF MANAGERS OF THE DIOCESAN MISSIONARY AND CHURCH EXTENSION OF THE PROTESTANT EPISCOPAL CH', '133MENAHA.LLC', 'De Nova,Inc.', '776 East 161 St., LLC', 'P.E. STONE, INC.', '116 2nd Avenue LLC, %R. A. COHEN', 'BW 450 ST. MARKS, LLC', 'GEE GEE & MUI GEE LLC', 'Q41 CONDOMINIUM', '295  5 ave', 'L.W. 8TH AVE REALTY LLC', '575-585 ALBANY LLC', 'ESE100 LLC', 'JJ49 REALTY,LLC', 'SCMANAGEMENT04@GMAIL.COM', 'H. M. HUGHES CO., INC.', '2478-61 REALTY CORP.', '532 80 ST CORP', '7TH AVE GOURMET INC.', 'J.S. WAILIA & CO., INC', '601west156  llc', '90 15', 'M. SOPHER & CO., LLC', 'DYNATEC CONTRACTING INC.DYNATEC CONTRACTING INC.', 'SL 150 52ND', 'M & E 234 LLC', 'PST  Health inc', '2228-2236 BROADWAY LLC', 'Bar / CafÃ©', '12 W 19  LLC', '229 west 29th street', '5504- 301 E 21ST STREET MANHATTAN L', 'management 26, inc.', 'ALI ALI', 'DANICK ELEC.CONT.CORP.', 'RUPPERT HOUSING CO., INC. C/O MAXWELL-KATES, INC.', 'LIBERTY 1 Group', '64409811800002 BRIDGE STREET DEVELOP MENT CORP', '870 Fifth Avenue Corporation c/o DOUGLAS ELLIMAN', '1300 Flushing Venture, LLC c/o Lincoln Property Company', '43258abllc', '1420 58 LLC', 'ClintonTowersHousingCompanyInc', '169 7 LLC', 'BANANA/KELLY/CIA', '75-17/19 101th Ave LLC', '41-16 49 st LLC', '`NONE', '4/21/1999 TRUST', '1714 72 STREET', 'R.F. STUART, REAL ESTATE', 'c/o gumley-haft inc.', 'SM893LLC', '19 W 55 LLC', '41 E 10 ST  LLC', 'Grish L.L.C.', '116 E19 LLC', '62-59 108 ST OWNERS', 'Clinton Hall Association of the City of New York/Mercantile Library Association of The City of New Y', '142951llc', 'TWO-DOUBLE-FOUR-NOUGHT, LLC', 'LH48LLC', '255 West 108th Street Corp c/o Douglas Elliman PM', '1267 LRM Corp.', 'LIBERTY 1 GROUP, LLC.', '11-20 46th Road, LLC', '3720 INC', 'A@M666 INC.', 'L.W. 8th Ave Realty LLC', '230-30 BDS LLC', 'J R D Realty NY  LLC', '554-556 w 181street LLC', '89-21 153 LLC', \"ATLAS FOOD SERVICE INC (Vickki's Restaurant)\", '1986 Grand Ave HDFC', 'Habibis $.99 Store', 'B1 Farmingdale', 'R.S.N CONSTRUCTION', \"RENT 'A' CENTER\", 'Bryant Park Corporation /34th Street Partnership', 'A&T 290,LLC', 'J.M.P. COMPANY', 'WH2-110-26 Merrick llc', '1251-55 WEBSTER AVENUE,LLC', 'M.A.C. Electric, Inc.', 'KL1005 LLC', '882MANHATTAN LLC', \"202-214 W 85 Owner's Corp\", '1883-1887 llc', '266 Broadway', '28-25 35 St LLC', 'Maxwell-Kates, Inc.', '4145realtyllc', \"1128 MYRTLE AVE FOOD CORP. (POPEYE'S CHICKEN)\", 'A.B.B.A. INC.', '1618JEFFERSON.LLC', 'LT 424 LLC', '601 west 151  st', 'H & B 99 CENTS STORE INC.', '554 West 181st st', '220HH, LLC', 'Marion F. Realty,Inc.', '522 L & S LLC', '1481 EAST 68 ST.', '600 PARTNERS CO., L.P.', '1415-1147 14 REALTY LLC', 'STF 1193-1205 Eastern Pkwy Holding, LLC', 'S.T.H. CONSTRUCTION', 'JDKH, INC.', '1818 Nadlan', 'R.A. COHEN & ASSOC. INC.', 'B507LLC', '587  B FIFTH AVE LLC', '962 K LLC', '5557 LLC', 'RIGGS PLUMBING & HEATING@58, INC.', '122-124 LUDLOW LLC', 'Z A HOMES INC', 'IS 367', 'The 250-254 West 82nd St. Owners Corp.', '5 BRICKS, LLC', 'The Jay Group Inc.', '225W13, LLC', 'West 115 11-13 Assoc., LLC', 'LIU1137 LLC', 'F AND T GROUP', 'OHI ASSET (NY) @ AVE,, LLC', 'APT. 2O', 'CANAAN CHRISTIAN CHURCH INC. D.C.F.M.', 'AUTOZONE, INC.', '111-115 NORTH 5TH STREET LLC', '212-889-8086', 'PACST 1244-46, 1356 LLC', 'D.B.J.CONTRACTING CORP', '108 W. 118TH ST. LLC', '165 East 19 St. GSA I, LLC', 'Cush & Wakefield, Inc.', '7 W 24TH ST LLC', 'W P SAUER INC', '126-20 ROCKAWAY, LLC.', '43-15 20 LLC', '119-55 225 STREET QUEENS NY 11411', \"OTTO'STACOS\", '42863 CORP', '211-12', '34 32 43rd LLC', 'PAUL.COSTANZA@CHARTER.COM', 'City Bay Plaza, LLC c/o Prestige Properties & Development Co, Inc.', '5225 LLC', '61E7St Corp.', 'Mj155LLC', 'Y&K 155 LLC', 'S.H.S. GLENWOOD', '4 Ave BU LLC', 'TCH 10TH ST.,LLC', '3057 WILLIAMSBRIDGE', 'DouglasEllimanPropertyManagement', 'NAV 1094 5418 LLC', '511 West 151 LLC', '737NY 17A LLC', '915 Construction', '`', '228 E 10 ST., LLC', '1717East8 LLC.', 'EQUITY RESIDENTIAL EQR-71 BROADWAY A, L.L.C', 'cc 116 corp', '4 NAILS & BEAUTY', 'J2 Owner LLC.', '1800 flowers.com', '226 west 26 st LLC.', 'Homebuyers123 LLC', '241 WEST 100 ST. OWNERS CORP.', 'One70Group', '3T GC LLC', 'Call-A-head', '(718)541-0701 MANAGEMENT LLC', '478/482/480 bergen llc', '18 IRVING INC.', '1414 E.51 st  llc', '95 Eas. Pky. Co.', 'A1EXPEDITERS', '3rd & 87 LP', '400 EAST 84TH STREET ASSOCIATES, L.', '141LLC', '213-11 JAM INC', 'Z 51 Corp.', 'N.Sinopoulos/T.Boussios', '188 W. 230 St. Corp', '2002 e 26 st', '1440@srmc.nyc', '11 NM LP', 'Nalpak1196', '8-54 200 ST INC', \"OTTO'S TACO'S\", 'D&Y East 4 st LLC', 'S-150 LLC', '142-10 115aveLLC', 'K & G 37 Ave Realty LLC', '95 Ea. Pky. Co', 'ALI M. AL ZANDANI DBA UTICA FOOD & DELI GRO', '215 audobon,hdfc', 'c/o SHR GROUP,INC.', 'Z H L GROUP, INC', '101-27 101 Ave', 'E.R.P.S. REALTY DR, LLC', '44 W 28TH PENN PLAZA PROPERTIES LLC/ C/O STELLA MANAGEMENT', '113-13 LLC', 'EL JEFFE  LLC', 'PC Richard & Son', '7-ELEVEN, INC', 'STV, Inc.', 'Y.M. FRUIT & VEGETABLE & WEST INDIAN GROC MK', '145W79Str.OwnersCorp c/oHoffmanManag', 'HURON/FRANKLIN,LLC', '7BP OWNER, LLC', '2074 66th LLC', '4H CONSTRUCTION, INC.', '72nd Dwellersinc.', '1961 LLC.', 'D. K. GUPTA DBA D.S. TRADING CO.', 'FirstServiceResidentialNewYork', '56 W 22, LLC', 'space54', '144 MANAGEMENT', '231 E 123 LLC', 'SD2', '936 ST. MARKS, LLC', '3G Development', '395BWAYCONDO.C/OKEYREASSOC.', 'Decker & Decker', 'rustik77, llc', '95601203671806', '48-15 43Ave', 'WALTER T. GORMAN, P.E., P.C.', 'gramercy128w llc', '15-32 127 LAC/LNT LLC', 'H. C. D. D. INERNATIO NAL CORP.', '80-42 261LLC', '305030STREETLLC', '132 E 35 ST OWNERS, INC.', '80-19 88 ave', '16803LLC', '147-149 MCCARREN LLC  (MCCARREN HOTEL & POOL)', '120-130 EAST 23RD STREET LLC', '425 E 179 St LLC', 'NOVIN 7ASSOCIATES,LLC', '30 park place,LLC', '518 W 134 St HDFC', 'Dena E. Rashes 200 Trust UDT dated May 30, 2000', '192984TH STREET,LLC', '131 e 23 llc', '10012 199 STREET LLC', 'W.J. REGAN & CO., LLC', 'L. RISO & SONS, CO., INC.', '104-110-144 LLC', 'BLOSSOM082 LLC', '33 RIVERSIDE DRIVE', 'HJ Kalikow & Co.', 'MS 138-42  LLC', 'HIS NY2, INC', 'C.R. & S CONSTRUCTION CO', 'BH 1838', '144st LLC', '1 and 8 Inc.', 'PROLOGIS, INC.', '859 42 realty', 'PUB 138 inc.', 'h & m inc', 'JOSE L. PENA,P.E.', '777 BEK, Inc.', '141llc', '1463-61, LLC', '114 GREENE ST. & 106 PRINCE ST.', 'Dormitory Authority State of New York (DASNY), Managing Director Construction', '195TROUTMAN.LLC', '106 GREENWICH,LLC', 'CM & B', 'Vertical Industrial Park associates C/O Rentar Development Corp.', '295 E. 149 LLC', 'HHH', 'S H A W C II HOUSING DEVELOPMENT FUND CORP', '97900019914', 'FAN 3 CORP.', '97-101 LLC', '3906 63rd Street, LLC.', '1831 STARR STREETREALTY LLC', '246A', '182-11', '130 WEST 57 CO., LLC', '1080 38TH LLC', '1770-1776 W 6 ST LLC', 'WH@-110-28 Merrick LLC', '180 East 60th Owners, Inc C/O Matthew Adam Properties, Inc. NY', '72-00', 'U-ROVE CC #3', '86-19 16 ST, LLC', 'MAUTNER-GLICK CORP.', 'A.A.F.O. 75 BROAD, LLC', 'M & U USA INC', 'P& R  CP LLC', '222 ECHO LLC', 'R & V DELI & GROCERY INC.', 'R.E.M. RESIDENTIAL', 'A. MASKELL D.DS. AND S. MASKELL DDS., P.C', '18-20/22 EAST 46TH ST.', '2977-2981 HYLAN BLVD,LLC', '114 W. 80TH ST. CORP.', '1700 FIRST AVE., LLC', 'BROADWAY26WATERVIEWLLC', 'jb&b', '326-328 East 73rd Street Residents, LLC', '92 LEXINGTON ROYAL LLC & 29 LEXINGTON ALEXUS LLC', '264 East 7th Holdings LLC C/O Craven Management Corporation', '512-518 East 5th Street Associates LLC', 'J. T. MAGEN', '312-314 E 50 Street Corp.', 'BK23354stLLC', 'LEVEL 1', 'QAZ2', 'PENN122LLC', '1922 McGraw Avenue Owners, Inc. C/O Houlihan Parnes Properties', 'Board of Managers of Stella Tower Condominium c/o FirstService Residential', 'N.Y.P.D', 'Regal4 LLC', 'united2441LLC', 'Horace-Mahn-Pforheimer', '37-52/37-56 80th  Realty LLC', 'Z-A6 LLC', '1588 - 1600 Amsterdam Holding LP', 'PR917-593-9938', 'TOP 8 CONSTRUCTION CORP.', '515-521 WEST 122 ST CORP.', 'WEST 28', '119 WEST 111TH ST, LLC', 't&m 3235 llc', 'W 54-7  LLC', '119 WEST 111TH ST., LLC', 'F&S 3339LLC', '2621 Ave R?', 'BK & C Realty Inc.', 'MC71FifthavenueRealtyLLC', 'Bedford 203 L.P. and Bedford 203 Housing Development Fund Corp.', '150GREENESTREETCORP@GMAIL.COM', 'G.A.G LLC', 'POLTEAM,INC.', 'NAM HEE KIM AND BONG RAK KIM DBA VERNON LA', '49west 24,2nd,LLC', '390 12 st llc', '320 EAST 57 CORP.', 'ZHENG&ASSOCIATES,LLC', 'E. 118TH STREET / E. 117TH ST. L', 'RNA House, Inc.', '165 E 66, LLC', 'Cipriani Club Residences at 55 Wall Condominium', '5531-321 EAST 22ND STREET MANHATTAN', 'MG2', 'XXX', 'J.I.M', 'J2 147-07 94th Avenue LLC.', '992-1000 Amsterdam Av. LLC', 'Resnick Seaport, LLC & Jack Resnick & Sons, Inc.', '1035 Park Ave Corporation c/o Wallack Management Co., Inc', 'W54-7 LLC', 'C.T.K. REALTY', '23 RP ASSOCIATES C/O ADAMS & CO RE LLC', '202-20 Realty Corp.', 'M3 Holdings, LLC', '40 Fifth Ave corp', 'SandbergManagementCorporation', 'J & M', 'III INC', '148th ST (87) Realty Corp.', '513E87LLC', 'Y & D Farm', '2200 llc', '17&24 CORPORATION', '11041 177 STREET LLC', '164-03 LLC', 'LA FINQUITA # 1']\n",
      "\n",
      "==================================\n"
     ]
    }
   ],
   "source": [
    "bn_col = \"BUSINESS_NAME\"\n",
    "findDateOutliers(bn_col)"
   ]
  },
  {
   "cell_type": "markdown",
   "id": "81bab6e1",
   "metadata": {},
   "source": [
    "# Using clustering for Business Name takes too much time, we can only clean those empty data for now "
   ]
  },
  {
   "cell_type": "code",
   "execution_count": 135,
   "id": "ac0f5495",
   "metadata": {},
   "outputs": [],
   "source": [
    "df[bn_col] = df[bn_col].replace(['N/A', '', 'NA','NONE'], [None,None,None,None])"
   ]
  },
  {
   "cell_type": "code",
   "execution_count": null,
   "id": "686f0854",
   "metadata": {},
   "outputs": [],
   "source": []
  },
  {
   "cell_type": "markdown",
   "id": "2ea72906",
   "metadata": {},
   "source": [
    "# Data Profilling for applicant columns\n",
    "\n",
    "Find format problems and outliers in all applicant columns\n",
    "\n",
    "Using openclean's sklearn modules to detect problems and outliers"
   ]
  },
  {
   "cell_type": "code",
   "execution_count": 136,
   "id": "785b2016",
   "metadata": {},
   "outputs": [],
   "source": [
    "from openclean.profiling.anomalies.sklearn import DBSCANOutliers\n",
    "\n",
    "# Print the ten most frequent values for the 'Vehicle Expiration Date' column.\n",
    "def findDateOutliers(column_name, eps_setting = 0.05):\n",
    "    applicant_data = ds.distinct(column_name)\n",
    "    print(\"Column: \",column_name)\n",
    "    \n",
    "    for rank, val in enumerate(applicant_data.most_common(10)):        \n",
    "        st, freq = val\n",
    "        print('{:<3} {:>8}  {:>10}'.format('{}.'.format(rank + 1), st, '{:,}'.format(freq)))\n",
    "\n",
    "    print('\\nTotal number of distinct values in {} is {}'.format(column_name, len(applicant_data)))\n",
    "    print(DBSCANOutliers(eps = eps_setting).find(applicant_data))\n",
    "    print('\\n==================================')"
   ]
  },
  {
   "cell_type": "code",
   "execution_count": 137,
   "id": "5280036e",
   "metadata": {},
   "outputs": [
    {
     "name": "stdout",
     "output_type": "stream",
     "text": [
      "Applicant Data columns:\n",
      "\n",
      "APPLICANT_FIRST_NAME\n",
      "APPLICANT_LAST_NAME\n"
     ]
    }
   ],
   "source": [
    "date_cols = []\n",
    "\n",
    "print(\"Applicant Data columns:\\n\")\n",
    "for col in ds.columns:\n",
    "    if 'APPLICANT' in col:\n",
    "        print(col)\n",
    "        date_cols.append(col)"
   ]
  },
  {
   "cell_type": "code",
   "execution_count": 138,
   "id": "5487616c",
   "metadata": {},
   "outputs": [
    {
     "name": "stdout",
     "output_type": "stream",
     "text": [
      "Applicant Data columns:\n",
      "\n",
      "APPLICANT_FIRST_NAME\n",
      "APPLICANT_LAST_NAME\n",
      "----------------------------\n",
      "\n",
      "Column:  APPLICANT_FIRST_NAME\n",
      "1.   RICHARD       9,018\n",
      "2.    STEVEN       8,790\n",
      "3.    JOSEPH       8,607\n",
      "4.   MICHAEL       7,530\n",
      "5.   ANTHONY       5,962\n",
      "6.    ROBERT       5,367\n",
      "7.      JOHN       4,956\n",
      "8.      SAMY       4,828\n",
      "9.    CARLOS       4,748\n",
      "10.    JASON       4,624\n",
      "\n",
      "Total number of distinct values in APPLICANT_FIRST_NAME is 756\n",
      "['', 'SEEBINDRANATH', 'MICHAEL', 'VASILIOS,BILLY', 'CHRISTOPHER', 'JONG HYUN', 'VAN PAUL', 'PETER', 'MATROS AUTOMATED ELE', 'KWOK WAH', 'MIKHAIL', 'CHAU-PHU', 'KENNETH, SR', 'ALL POWER ELECT.', 'ANATOLIY FINKEL', 'ANTHONY', 'CARLOS A.', 'J ROBERT', 'CARLOS J.', 'J. ROBERT', 'AI FANG', '003692', 'RUI JUN', 'JOSEPH', 'CHARLES DAMBROSE', 'JIAN YANG', 'DAVID', 'JEAN PAUL', 'JEFFREY', 'WILLIAM', 'DAVID MICHAEL', 'STEVEN', 'JUAN CARLOS', 'JOHN F.', 'GEORGE', 'ROBERT', 'GREGORY', 'KENNETH, JR.', 'WEN BIN', 'VINCENT COSCIA', 'RICHARD']\n",
      "\n",
      "==================================\n",
      "Column:  APPLICANT_LAST_NAME\n",
      "1.       NEU       6,681\n",
      "2.        LI       4,915\n",
      "3.    MOUNAS       4,828\n",
      "4.    BERGER       4,735\n",
      "5.  HAGGERTY       4,580\n",
      "6.  MARINELLO       4,439\n",
      "7.  SAMPOGNA       4,402\n",
      "8.  BAPTISTE       2,930\n",
      "9.   VASSELL       2,921\n",
      "10.   CASTRO       2,840\n",
      "\n",
      "Total number of distinct values in APPLICANT_LAST_NAME is 1588\n",
      "['', 'BAPTISTE', \"O'SULLIVAN\", \"O'TOOLE\", 'BEKKERMAN', 'BERGER', \"D'AMBROSIO\", 'CONSTRUCTION CORP.', 'MAROTTA, JR.', \"O'LEARY\", 'DEOL', \"D'ANNUNZIO\", 'SYED-NAQVI', 'WEINSTEIN', 'VASSELL', 'MARINELLO', 'LI', 'THROWER, JR.', 'BUESO JR', \"MULE'\", \"D'ALESSIO\", 'GONZALEZ JR', 'SORTINO', 'SOLLITTO.', 'DAVINO, JR.', \"O'DEA\", 'CIRRINCIONE, JR.', 'MOUNAS', 'HAGGERTY', 'MANN JR.', 'ALUNS JR.', 'VALENCIA SEGOVIA', \"D'ACQUISTO\", 'DE JESUS', \"D'ALESSANDRO\", 'SCALA, III', 'LAROSA JR', 'DE CANDIA', 'CASTRO', 'CORP.', 'WHITENACK JR.', \"O'HARA\", \"D'ESPOSITO\", 'ST. JOHN', 'SAMPOGNA', 'PAPANTONIOU', \"O'CONNOR\", 'EPP', 'NEU', 'WU', 'DE FALCO', 'LEE', 'BOBB', \"D'AQUILA\", 'APONTE-RODRIGUEZ', 'CASSESE JR.', 'DREBIN']\n",
      "\n",
      "==================================\n"
     ]
    }
   ],
   "source": [
    "date_cols = []\n",
    "\n",
    "print(\"Applicant Data columns:\\n\")\n",
    "for col in ds.columns:\n",
    "    if 'APPLICANT' in col:\n",
    "        print(col)\n",
    "        date_cols.append(col)\n",
    "\n",
    "print(\"----------------------------\\n\")        \n",
    "        \n",
    "for col in date_cols:\n",
    "    findDateOutliers(col, 0.1)"
   ]
  },
  {
   "cell_type": "markdown",
   "id": "874159d0",
   "metadata": {},
   "source": [
    "# Analysis\n",
    "\n",
    "the above results show the problems for the data cleaning task:\n",
    "    \n",
    "### For name data\n",
    "\n",
    "in \"Applicant's First Name\", \"Applicant's Last Name\", \"Applicant Professional Title\", there are many outliers which are illegal input, and there are many similar values. We need first converts evident outliers to legal values, then use kNN clusterer to standardize similar values.\n",
    "\n",
    "\n",
    "### Applicant License #\n",
    "\n",
    "Applicant License # is made of 6 digits, there are outliers that do not satisfy the 6-digit format. We can not use kNN clusterer to standardize because many License # are similar. "
   ]
  },
  {
   "cell_type": "markdown",
   "id": "97e05767",
   "metadata": {},
   "source": [
    "# Data Cleaning for Applicant columns\n",
    "\n",
    "* how to deal with empty values has not decided yet"
   ]
  },
  {
   "cell_type": "code",
   "execution_count": 139,
   "id": "a2a519a8",
   "metadata": {},
   "outputs": [],
   "source": [
    "# mapping list to replace outliers\n",
    "outlier1 = ['', 'MR. ROSS ADAM C', 'MICHAEL', 'N. J.', 'WILLIAM 11', 'JOSEP;H``', 'DAID/11/2007', 'CHUNG   LUN', '718 9215010', 'ANTHONY', 'HSIA0-NAN', 'JOSEPH', '``````````', 'ROBERT  `', 'RAJENDRA9956700', '2', 'G.B.M.', 'EUGENE......JR', '6312100', 'CLAUDE,JR.', 'THOMAS``', 'ALAN  L', 'Nab53', 'MR. Y. B', 'J.J', 'PH8ILIP', 'I. M', 'RICHARD', 'ALBERTA S 111 D', 'P ;', 'GENECG.C. ENG &', 'J.J.', '2126202794', 'SHAW  HWA', 'HARRY         H', 'MR DOU8GLAS', '`1D', 'PAUL', 'K. T.', 'JOHN', '...NORMAN', 'EVAN   D', '7184361278BERNA', 'S.D. DON', 'KY00 SUK', 'JJ', 'YURI.`', 'MAD/Y/ARNI', 'ES ON SCH B', 'EUGENE.......JR', 'NEAL', 'F._ERIC', 'RYAN,  JR', 'AASDFASDFASDF', 'LA0-TECH', 'RODNEY   __', 'DAVID', 'G. L.', 'JAMES', 'LESLI8E', '7186054055', 'GEORGE', 'G.B.M', 'DAVID    JON', 'CHUNG---YAO', 'PETER', 'YUBUN(JACK)', 'GLEN A. L.', '1P', 'JUDE.....N.O', 'LEONARD--', 'WILLIAM', 'ANTHONY,111', 'WU(WOODY)', 'GAD/HON-AN', 'GLEN  A.L.', 'J.B. Jr.', 'LORENZO..A', 'J J', '..RAMSEY', 'HUI LI I', 'ANTONIO9', 'ROBERT', '0.BERT', 'DUMMY 2', '...JOSEPH', 'RUSSELL 111', 'THOMAS', 'H./E./CAMELLE', 'LALAL', 'M.E. P.E', 'R0OBIN VINCENT', '--young', 'AKM', 'LE1', 'IK.T.', 'LEO, JR.', 'J. Butch A. Jr.', 'WU (WOODY0', 'PAUL   N', 'CHRISTOPHER']\n",
    "mapping1 = [None, 'ROSS ADAM C', 'MICHAEL', 'N. J.', 'WILLIAM', 'JOSEPH', None, 'CHUNG LUN', None, 'ANTHONY', 'HSIA0 NAN', 'JOSEPH', None, 'ROBERT', 'RAJENDRA', None, 'G.B.M.', 'EUGENEJR', None, 'CLAUDE JR.', 'THOMAS', 'ALAN  L', 'Nab', 'MR. Y. B', 'J.J', 'PHILIP', 'I. M', 'RICHARD', 'ALBERTA', None, 'GENECG.C. ENG', 'J.J.', None, 'SHAW HWA', 'HARRYH', 'MR DOUGLAS', None, 'PAUL', 'K. T.', 'JOHN', 'NORMAN', 'EVAND', 'BERNA', 'S.D. DON', 'KY00 SUK', 'JJ', 'YURI.`', 'MADYARNI', 'ES ON SCH B', 'EUGENEJR', 'NEAL', 'FERIC', 'RYAN,  JR', 'AASDFASDFASDF', 'LA0 TECH', 'RODNEY', 'DAVID', 'G. L.', 'JAMES', 'LESLIE', None, 'GEORGE', 'G.B.M', 'DAVID JON', 'CHUNG YAO', 'PETER', 'YUBUN(JACK)', 'GLEN A. L.', None, 'JUDE N.O', 'LEONARD--', 'WILLIAM', 'ANTHONY,111', 'WU(WOODY)', 'GAD HON-AN', 'GLEN A.L.', 'J.B. Jr.', 'LORENZOA', 'J J', 'RAMSEY', 'HUI LI I', 'ANTONIO9', 'ROBERT', '0.BERT', 'DUMMY', 'JOSEPH', 'RUSSELL', 'THOMAS', 'H.E.CAMELLE', 'LALAL', 'M.E. P.E', 'R0OBIN VINCENT', 'young', 'AKM', 'LE1', 'IK.T.', 'LEO, JR.', 'J. Butch A. Jr.', 'WU (WOODY0', 'PAUL   N', 'CHRISTOPHER']\n",
    "\n",
    "outlier2 = ['SHARMA #0', \"0'CONNOR\", 'RUSHTON    UEL', 'UDDIN   Z', 'HINKLEY 1', 'O&#039;CONNOR, P.E.', '.OOK', 'SAMUELS111', 'O&#039;CONNOR', 'CALIENDO', 'SMITH   JR.', 'LO  BUE', '7AN', '+-+ETTIERI', 'SMITH, 111', 'KAMEN   1', '.EE', 'MASS, 1', '.EI', 'Zagaroli 3rd', 'RINI   II', 'KAMEN   R', 'RYAN 11', 'SPI8EZIA L S', 'MUFTIC..A.I.A', 'COSTELLO9 RA A I A', 'CALVANICO', 'LLC.', 'POEPPEL, P.E.', 'HAMA07', 'HINLEY,1', '1212', \"O  ' CONNELL\", 'HURT,JR.,', 'WESOLOWSKI', 'CHEN', '`ING, R.A', 'MARTARELLA 111', 'Gandhi, Ph.D., P.E.', '90I', 'ENNIS 2', 'COSTELLO R A A I A', '3UI', 'N/A', 'HURT,  JR', 'LEHR,1', 'KOHLER, 111', 'GERAZOUNIS', 'Alexander,1', 'LUBOW, R.A. LEED AP', 'RINI,111', '08CZAK', '````````````````````', 'CHAO  R.A.', 'Geier 11', '08NGEL', '08SOLOWSKI', 'I11', 'HINKLEY, 1', 'RUDIKOFF, P.E.', \"O'CONNOR\", 'SHAH   EZ', 'MIELE, JR., P.E.', 'RITTENHOUSE 111', 'AMADI   ISIOFIA', 'HINKLEY,1', 'RENFORE````````', \"O'HARA,JR.\", '73020012', 'PHAGOO   I', 'BRAY.....,', 'LLL', 'BHATHIA,1', 'GANDHI, PH. D., P.E', 'KO K', 'VASSALOTTI 11', 'HURT, JR .', '0018LKLE', 'RINI -111', 'PARIHAR', 'EE', 'L00802', 'ELISE.111', 'KING , R.A', 'CHRYSLER  P E', 'LEHR 1', 'Walters   Jr.', 'LEE', 'RINI  III', 'D&#039;ANGELO', '0UDOLPH III', 'VIEHE-NAESS 111', ',MO', '08E', '47DIKOFF', 'Yu,', '420865380', 'COPELAND', 'ZWIEFEL 3RD', 'PETERSEN', 'King, R.A.,', 'RINI, III', '7APA', 'CHEN   S', 'Hurt  Jr.', 'KATZ', 'NIZAMBAD.(P.E.)', '901BEN', '4153LOO', 'SYED-NAQVI', 'RYAN , JR.', 'K O K O R I S', 'ELISEO111', 'O&#039;CONNELL', 'ZEID61', '---Lewis', '00CHELI', 'MOHAMMAD       +++++', 'METZLER  P E', 'BAILEY', 'GANDHI, PH. D., P.E.', 'TIEMANN.111', 'SMITH.111', 'DI GER0NIMO', 'GANDHI, PH,D., P.E', 'III', 'J C', 'MAGAMI-QAIM-MAGAMI', '+M', 'LO G1UDICE', 'HOQUE', 'RUDIKOFF', 'Y10007OR', 'SMITH,111', 'KING R A FAIA', 'RYAN III, AIA', '08AN', 'STARK 1', 'MASS', 'VICTORI0, R.A', 'RIZVI   A', '21029677', \"3'CONNOR\", 'Wong /  Lai', 'KAPLAN 3', 'GRAICHEN.JR./DAWN/DI', 'GROSSMAN ,PE,F.A.C.I']\n",
    "mapping2 = ['SHARMA ', \"CONNOR\", 'RUSHTON UEL', 'UDDIN Z', 'HINKLEY ', 'CONNOR P.E.', None, 'SAMUELS', 'CONNOR', 'CALIENDO', 'SMITH JR.', 'LO BUE', None, 'ETTIERI', 'SMITH', 'KAMEN', '.EE', 'MASS', '.EI', 'Zagaroli', 'RINI', 'KAMEN R', 'RYAN', 'SPIEZIA L S', 'MUFTIC.A.I.A', 'COSTELLO9 RA A I A', 'CALVANICO', 'LLC.', 'POEPPEL P.E.', 'HAMA', 'HINLEY', None, \"CONNELL\", 'HURT JR.', 'WESOLOWSKI', 'CHEN', 'ING R.A', 'MARTARELLA', 'Gandhi', None, 'ENNIS ', 'COSTELLO R A A I A', None, None, 'HUR  JR', 'LEHR', 'KOHLER 111', 'GERAZOUNIS', 'Alexander', 'LUBOW R.A. LEED AP', 'RINI',None, None, 'CHAO R.A.', 'Geier', None, 'SOLOWSKI', None, 'HINKLEY', 'RUDIKOFF, P.E.', \"CONNOR\", 'SHAH EZ', 'MIELE JR. P.E.', 'RITTENHOUSE', 'AMADI   ISIOFIA', 'HINKLEY', 'RENFORE', \"O'HARA,JR.\", None, 'PHAGOO I', 'BRAY,', 'LLL', 'BHATHIA', 'GANDHI', 'KO K', 'VASSALOTTI', 'HURT JR.',None, 'RINI', 'PARIHAR', 'EE', None, 'ELISE', 'KING R.A', 'CHRYSLER  P E', 'LEHR', 'Walters Jr.', 'LEE', 'RINI  III', 'ANGELO', '0UDOLPH III', 'VIEHE-NAESS', 'MO', '08E', None, 'Yu,', None, 'COPELAND', 'ZWIEFEL 3RD', 'PETERSEN', 'King, R.A.,', 'RINI, III', '7APA', 'CHEN   S', 'Hurt  Jr.', 'KATZ', 'NIZAMBAD.(P.E.)', None, None, None, 'RYAN JR.', 'KOKORIS', 'ELISE', 'CONNELL', None, 'Lewis', 'CHELI', 'MOHAMMAD', 'METZLER  P E', 'BAILEY', 'GANDHI', 'TIEMANN', 'SMITH', 'DI GER0NIMO', 'GANDHI', 'III', 'J C', 'MAGAMI QAIM MAGAMI', None, 'LO G1UDICE', 'HOQUE', 'RUDIKOFF', None, 'SMITH', 'KING R A FAIA', 'RYAN III AIA', None, 'STARK', 'MASS', 'VICTORI0 R.A', 'RIZVIA', None, \"CONNOR\", 'Wong Lai', 'KAPLAN', 'GRAICHEN.JR. DAWN DI', 'GROSSMAN']\n",
    "\n",
    "outlier3 = ['', '....DEMO', '050069', 'DEM. CONTR.,', 'XXXXX', 'G/C 10114H9', 'CGWC10114H99', '00', 'X S000155', '082-36-1245', 'G.G', 'LESSEE', '......GC', \"'\", '..OWNER', 'GC 2293', '--', 'XXXXXX', 'LS 31,721', '...GC', 'gen.cont.', 'G.C TK#4592', 'PE', 'RLA - 818', '.....OWNER', 'RLA 16077', 'G C', 'X 4129892', 'G. C.', 'R.L.A', 'GC 1028350', 'WC10114H99', 'LEESEE', 'GEN.CONT.', 'SIGN..HANGER', 'DEMO 20451', 'D8615', '.X', 'P.L.L.C', '..DEMO', 'G .C', 'L A', 'G.C NY11101', '32820', '....OWNER', 'GC(DEMO)', 'C0NTRACTOR', 'EXPEDITORC99792', 'X 1341946', 'TRACK# 1390', 'EXPED.R4466', 'PLLC 9599691', 'G.C 1110101', '029649', '(CHECK)', 'DEM. CONTR,', 'EXPEDIT(H66172)', '.........GC', 'CITY OF N Y', 'GC 1170386', 'G. C', 'CO0OWNER', '(CHECKED)', 'C.C', '23392 1159774', 'DEMO {', 'RA', 'T. 31132', '....GC', 'RLA-787', 'TRACK #1390', 'D C', 'G.CONTR.', 'DEMO  CONT', '1GC', 'CC', 'demo G.C.', 'TRACK. #1390', 'M.F.S.P.C.', '...DEMO', 'DEMO G C', '13328', 'GEN  CONT', 'GC 1221073', \"GC;'\", 'DEMO 1341946', '11234', 'G.C.,', '.....GC', 'LIC.133668259 1', '?', '0WNER', 'C10892', 'GEN..CONT']\n",
    "mapping3 = [None, 'DEMO', None, 'DEM. CONTR', None, 'G/C', 'CGWC', None, 'X S', None, 'G.G', 'LESSEE', 'GC', None, 'OWNER', 'GC', None, None, 'LS ', 'GC', 'gen.cont.', 'G.C TK', 'PE', 'RLA ', 'OWNER', 'RLA ', 'G C', 'X', 'G. C.', 'R.L.A', 'GC', 'WC', 'LEESEE', 'GEN.CONT.', 'SIGN.HANGER', 'DEMO', None,None, 'P.L.L.C', 'DEMO', 'G.C', 'L A', 'G.C ', None, 'OWNER', 'GC(DEMO)', 'C0NTRACTOR', 'EXPEDITORC', None, 'TRACK', 'EXPED.R', 'PLLC ', 'G.C', None, None, 'DEM. CONTR,', 'EXPEDIT', 'GC', None, 'GC', 'G.C', 'CO0OWNER', None, 'C.C', None, 'DEMO', 'RA', None, 'GC', 'RLA', None, 'D C', 'G.CONTR.', 'DEMO  CONT', 'GC', 'CC', 'demo G.C.', None, 'M.F.S.P.C.', 'DEMO', 'DEMO G C', None, 'GEN  CONT', 'GC ', \"GC \", 'DEMO ', None, 'G.C.', 'GC', 'LIC', None, '0WNER',None, 'GEN.CONT']\n",
    "\n",
    "outlier4 = ['', '0000GC', '083278', 'DD5615', '0000PB', '00ASB4', 'B81923', '99998', '000N/A', '65569+', '01827O', 'R9526', 'LP0256', 'N/A', '1964', 'ISLAND', '1609', '000PW1', '00DEMO', '0688.6', '00000', '.20929', 'LP0258', '000TOR', '0D8615', '0SWITA', '818', 'O02200', 'DEMO', '196', '1075', '0000NT', '215', '0', '00000`', \"D'ALTO\", '0455', '22377', 'DD8615', '050579', '226', 'SWITA', 'DD6815', 'X02689']\n",
    "mapping4 = [None, '0000GC', '083278', 'DD5615', '0000PB', '00ASB4', 'B81923', '099998', '000000', '065569', '01827O', '0R9526', 'LP0256',None, '001964',None, '001609', '000PW1', '00DEMO', '006886', '000000', '020929', 'LP0258', '000TOR', '0D8615', '0SWITA', '000818', 'O02200', None, '000196', '001075', '0000NT', '000215', '000000', '000000', None, '000455', '022377', 'DD8615', '050579', '000226', None, 'DD6815', 'X02689']\n",
    "\n",
    "outliers = [outlier1, outlier2, outlier3, outlier4]\n",
    "mappings = [mapping1, mapping2, mapping3, mapping4]\n",
    "\n"
   ]
  },
  {
   "cell_type": "markdown",
   "id": "0fd3921a",
   "metadata": {},
   "source": [
    "# Remove evident outliers using hard coded mapping"
   ]
  },
  {
   "cell_type": "code",
   "execution_count": 140,
   "id": "c6f92ba3",
   "metadata": {},
   "outputs": [],
   "source": [
    "i = 0\n",
    "for col in date_cols:\n",
    "    df[col] = df[col].replace(outliers[i], mappings[i])\n",
    "    i += 1"
   ]
  },
  {
   "cell_type": "markdown",
   "id": "de49640b",
   "metadata": {},
   "source": [
    "# Convert similar values to suggested value using kNN clustering"
   ]
  },
  {
   "cell_type": "code",
   "execution_count": 141,
   "id": "dabd2fc7",
   "metadata": {},
   "outputs": [],
   "source": [
    "# Cluster string using kNN clusterer (with the default n-gram setting)\n",
    "# using the Levenshtein distance as the similarity measure.\n",
    "\n",
    "from openclean.cluster.knn import knn_clusters\n",
    "from openclean.function.similarity.base import SimilarityConstraint\n",
    "from openclean.function.similarity.text import LevenshteinDistance\n",
    "from openclean.function.value.threshold import GreaterThan\n",
    "\n",
    "def getClusters(col, minsize = 2):\n",
    "    dba = ds.select(col).distinct()\n",
    "    clusters = knn_clusters(\n",
    "        values=dba,\n",
    "        sim=SimilarityConstraint(func=LevenshteinDistance(), pred=GreaterThan(0.75)),\n",
    "        minsize=minsize\n",
    "    )\n",
    "    return clusters\n",
    "\n",
    "def print_cluster(cnumber, cluster):\n",
    "    item_count = 0\n",
    "    print('Cluster {} (of size {})\\n'.format(cnumber, len(cluster)))\n",
    "    for val, count in cluster.items():\n",
    "        item_count += 1\n",
    "        if item_count <= 10:\n",
    "            print('{} ({})'.format(val, count))\n",
    "    if item_count>10:\n",
    "        print(\".......{} more items\".format(item_count-10))\n",
    "    print('\\nSuggested value: {}\\n\\n'.format(cluster.suggestion()))\n",
    "\n",
    "def updateUsingClusters(col, clusters, isPrint = False):\n",
    "    \n",
    "    orignal_list = []\n",
    "    suggestion_list = []\n",
    "    clusters.sort(key=lambda c: len(c), reverse=True)\n",
    "       \n",
    "    for i, cluster in enumerate(clusters):        \n",
    "        suggestion = cluster.suggestion()\n",
    "        orignal_list = []\n",
    "        suggestion_list = []\n",
    "        if isPrint and i < 5:\n",
    "            print_cluster(i, cluster)\n",
    "        \n",
    "        for val, count in cluster.items(): \n",
    "            orignal_list.append(val)\n",
    "            suggestion_list.append(suggestion)\n",
    "            \n",
    "    df[col] = df[col].replace(orignal_list, suggestion_list)"
   ]
  },
  {
   "cell_type": "code",
   "execution_count": 142,
   "id": "854e6e26",
   "metadata": {
    "scrolled": false
   },
   "outputs": [
    {
     "name": "stdout",
     "output_type": "stream",
     "text": [
      "kNN cluster for  APPLICANT_FIRST_NAME\n",
      "updating column  APPLICANT_FIRST_NAME\n",
      "----------------------\n",
      "Top 5 Cluster:\n",
      "----------------------\n",
      "Cluster 0 (of size 3)\n",
      "\n",
      "ANTONINO (57)\n",
      "ANTONIOS (2)\n",
      "ANTONIO (1187)\n",
      "\n",
      "Suggested value: ANTONIO\n",
      "\n",
      "\n",
      "Cluster 1 (of size 3)\n",
      "\n",
      "MUHAMMAD (65)\n",
      "MOHAMMOD (287)\n",
      "MOHAMMAD (6)\n",
      "\n",
      "Suggested value: MOHAMMOD\n",
      "\n",
      "\n",
      "Cluster 2 (of size 3)\n",
      "\n",
      "EMMANUEL (159)\n",
      "MANUEL (52)\n",
      "EMANUEL (65)\n",
      "\n",
      "Suggested value: EMMANUEL\n",
      "\n",
      "\n",
      "Cluster 3 (of size 2)\n",
      "\n",
      "ROBERTO (527)\n",
      "ROBERT (5367)\n",
      "\n",
      "Suggested value: ROBERT\n",
      "\n",
      "\n",
      "Cluster 4 (of size 2)\n",
      "\n",
      "J. ROBERT (48)\n",
      "J ROBERT (170)\n",
      "\n",
      "Suggested value: J ROBERT\n",
      "\n",
      "\n",
      "================\n",
      "kNN cluster for  APPLICANT_LAST_NAME\n",
      "updating column  APPLICANT_LAST_NAME\n",
      "----------------------\n",
      "Top 5 Cluster:\n",
      "----------------------\n",
      "Cluster 0 (of size 3)\n",
      "\n",
      "ROSENBERGER (73)\n",
      "ROSENBERG (17)\n",
      "ROSENBERGE (296)\n",
      "\n",
      "Suggested value: ROSENBERGE\n",
      "\n",
      "\n",
      "Cluster 1 (of size 2)\n",
      "\n",
      "AKERMAN (58)\n",
      "ACKERMAN (104)\n",
      "\n",
      "Suggested value: ACKERMAN\n",
      "\n",
      "\n",
      "Cluster 2 (of size 2)\n",
      "\n",
      "GREENFIELD (11)\n",
      "GREENFELD (187)\n",
      "\n",
      "Suggested value: GREENFELD\n",
      "\n",
      "\n",
      "Cluster 3 (of size 2)\n",
      "\n",
      "RICHARDSON (2)\n",
      "RICHARDS (727)\n",
      "\n",
      "Suggested value: RICHARDS\n",
      "\n",
      "\n",
      "Cluster 4 (of size 2)\n",
      "\n",
      "RANELLO (51)\n",
      "ROMANELLO (130)\n",
      "\n",
      "Suggested value: ROMANELLO\n",
      "\n",
      "\n",
      "================\n"
     ]
    }
   ],
   "source": [
    "for col in date_cols[:3]:\n",
    "    print(\"kNN cluster for \", col)\n",
    "    col_clusters = getClusters(col)\n",
    "    print(\"updating column \", col)\n",
    "    print(\"----------------------\\nTop 5 Cluster:\\n----------------------\")\n",
    "    updateUsingClusters(col, col_clusters, True)\n",
    "    print(\"================\")"
   ]
  },
  {
   "cell_type": "code",
   "execution_count": 143,
   "id": "a0bc9f48",
   "metadata": {},
   "outputs": [],
   "source": [
    "cleaned_columns = [\"JOB_NUMBER\", \"HOUSE_NUMBER\",  \"AMOUNT_PAID\", \"AMOUNT_DUE\", \"BUSINESS_NAME\", \"OWNER_STATE\", \"FILING_DATE\",\"GENERAL_LIABILITY_EXPIRATION_DATE\",\"WORKER_COMP_EXPIRATION_DATE\",\"DISABILITY_EXPIRATION_DATE\", \"PERMIT_ISSUED_DATE\", \"JOB_START_DATE\", \"COMPLETION_DATE\", \"CITY\", 'OWNER_CITY', 'STATE', \"APPLICANT_FIRST_NAME\"]"
   ]
  },
  {
   "cell_type": "code",
   "execution_count": 144,
   "id": "e7cfa2eb",
   "metadata": {},
   "outputs": [],
   "source": [
    "df_sample_data = df_sample\n",
    "df_sample_data = df_sample_data[cleaned_columns]"
   ]
  },
  {
   "cell_type": "code",
   "execution_count": 145,
   "id": "4e4605b2",
   "metadata": {},
   "outputs": [
    {
     "data": {
      "text/plain": [
       "Index(['JOB_NUMBER', 'HOUSE_NUMBER', 'AMOUNT_PAID', 'AMOUNT_DUE',\n",
       "       'BUSINESS_NAME', 'OWNER_STATE', 'FILING_DATE',\n",
       "       'GENERAL_LIABILITY_EXPIRATION_DATE', 'WORKER_COMP_EXPIRATION_DATE',\n",
       "       'DISABILITY_EXPIRATION_DATE', 'PERMIT_ISSUED_DATE', 'JOB_START_DATE',\n",
       "       'COMPLETION_DATE', 'CITY', 'OWNER_CITY', 'STATE',\n",
       "       'APPLICANT_FIRST_NAME'],\n",
       "      dtype='object')"
      ]
     },
     "execution_count": 145,
     "metadata": {},
     "output_type": "execute_result"
    }
   ],
   "source": [
    "df_sample_data.columns"
   ]
  },
  {
   "cell_type": "code",
   "execution_count": 146,
   "id": "d07846e4",
   "metadata": {},
   "outputs": [],
   "source": [
    "df_temp = df.loc[df_sample_data.index][cleaned_columns].copy()"
   ]
  },
  {
   "cell_type": "code",
   "execution_count": 147,
   "id": "3d60ab97",
   "metadata": {},
   "outputs": [],
   "source": [
    "def precision(tp, fp):\n",
    "    return tp/(tp+fp)\n",
    "\n",
    "def recall(tp, fn):\n",
    "    return tp/(tp+fn)"
   ]
  },
  {
   "cell_type": "code",
   "execution_count": 148,
   "id": "30feefff",
   "metadata": {},
   "outputs": [],
   "source": [
    "col_idx = 0\n",
    "tp = 0\n",
    "fp = 0\n",
    "fn = 0"
   ]
  },
  {
   "cell_type": "code",
   "execution_count": 149,
   "id": "8bad146b",
   "metadata": {
    "scrolled": true
   },
   "outputs": [
    {
     "name": "stdout",
     "output_type": "stream",
     "text": [
      "column:  JOB_NUMBER\n",
      "Original,\t Cleaned\n",
      "\n",
      "Q00579889 \t Q00579889\n",
      "X00510896 \t X00510896\n",
      "M00078961 \t M00078961\n",
      "X00071460 \t X00071460\n",
      "B00169550 \t B00169550\n",
      "B00014480 \t B00014480\n",
      "M00034473 \t M00034473\n",
      "M00185346 \t M00185346\n",
      "Q00070185 \t Q00070185\n",
      "S00190943 \t S00190943\n",
      "B00447313 \t B00447313\n",
      "Q00213182 \t Q00213182\n",
      "B00190454 \t B00190454\n",
      "M00225613 \t M00225613\n",
      "B00126609 \t B00126609\n",
      "M00021612 \t M00021612\n",
      "B00192279 \t B00192279\n",
      "Q00181809 \t Q00181809\n",
      "M00256558 \t M00256558\n",
      "B00360837 \t B00360837\n",
      "B00429722 \t B00429722\n",
      "M00029762 \t M00029762\n",
      "M00151298 \t M00151298\n",
      "B00121439 \t B00121439\n",
      "M00431013 \t M00431013\n",
      "Q00102448 \t Q00102448\n",
      "X00552221 \t X00552221\n",
      "Q00132869 \t Q00132869\n",
      "M00085489 \t M00085489\n",
      "Q00577858 \t Q00577858\n",
      "B00519292 \t B00519292\n",
      "M00488542 \t M00488542\n",
      "Q00151281 \t Q00151281\n",
      "Q00457242 \t Q00457242\n",
      "M00222700 \t M00222700\n",
      "B00426355 \t B00426355\n",
      "Q00076968 \t Q00076968\n",
      "S00381258 \t S00381258\n",
      "M00010100 \t M00010100\n",
      "M00163099 \t M00163099\n",
      "M00030744 \t M00030744\n",
      "X00610843 \t X00610843\n",
      "B00411856 \t B00411856\n",
      "Q00492457 \t Q00492457\n",
      "M00020423 \t M00020423\n",
      "X00031903 \t X00031903\n",
      "S00414234 \t S00414234\n",
      "M00368761 \t M00368761\n",
      "S00068993 \t S00068993\n",
      "Q00112207 \t Q00112207\n",
      "======================\n",
      "\n",
      "\n"
     ]
    }
   ],
   "source": [
    "col = cleaned_columns[col_idx]\n",
    "print(\"column: \", col)\n",
    "print(\"Original,\\t Cleaned\\n\")\n",
    "for i in range(50):\n",
    "    print(df_sample_data[col].iloc[i], '\\t', df_temp[col].iloc[i])\n",
    "\n",
    "print('======================\\n\\n')\n",
    "col_idx += 1"
   ]
  },
  {
   "cell_type": "code",
   "execution_count": 150,
   "id": "0e406345",
   "metadata": {},
   "outputs": [
    {
     "name": "stdout",
     "output_type": "stream",
     "text": [
      "column:  HOUSE_NUMBER\n",
      "Original,\t Cleaned\n",
      "\n",
      "13-01 \t 13-01\n",
      "615 \t 615\n",
      "529 \t 529\n",
      "180 \t 180\n",
      "741 \t 741\n",
      "220 \t 220\n",
      "111 \t 111\n",
      "154 \t 154\n",
      "223-12 \t 223-12\n",
      "52 \t 52\n",
      "132 \t 132\n",
      "32-70 \t 32-70\n",
      "500 \t 500\n",
      "165 \t 165\n",
      "1525 \t 1525\n",
      "330 \t 330\n",
      "138 \t 138\n",
      "5155 \t 5155\n",
      "1 \t 1\n",
      "1035 \t 1035\n",
      "1476 \t 1476\n",
      "166 \t 166\n",
      "608 \t 608\n",
      "1308 \t 1308\n",
      "32 \t 32\n",
      "11-16 \t 11-16\n",
      "2084 \t 2084\n",
      "104-20 \t 104-20\n",
      "181 \t 181\n",
      "21-38 \t 21-38\n",
      "458 \t 458\n",
      "880 \t 880\n",
      "24-48 \t 24-48\n",
      "10-10 \t 10-10\n",
      "578 \t 578\n",
      "705 \t 705\n",
      "49-08 \t 49-08\n",
      "37 \t 37\n",
      "1 \t 1\n",
      "135 \t 135\n",
      "120 \t 120\n",
      "755 \t 755\n",
      "1083 \t 1083\n",
      "2288 \t 2288\n",
      "646 \t 646\n",
      "2265 \t 2265\n",
      "98 \t 98\n",
      "35 \t 35\n",
      "177GAR \t 177 GARAGE\n",
      "62-53 \t 62-53\n",
      "======================\n",
      "\n",
      "\n"
     ]
    }
   ],
   "source": [
    "col = cleaned_columns[col_idx]\n",
    "print(\"column: \", col)\n",
    "print(\"Original,\\t Cleaned\\n\")\n",
    "for i in range(50):\n",
    "    print(df_sample_data[col].iloc[i], '\\t', df_temp[col].iloc[i])\n",
    "\n",
    "print('======================\\n\\n')\n",
    "col_idx += 1"
   ]
  },
  {
   "cell_type": "code",
   "execution_count": 151,
   "id": "5a31d9a0",
   "metadata": {},
   "outputs": [
    {
     "name": "stdout",
     "output_type": "stream",
     "text": [
      "column:  AMOUNT_PAID\n",
      "Original,\t Cleaned\n",
      "\n",
      "15 \t 15.0\n",
      "40 \t 40.0\n",
      "40 \t 40.0\n",
      "0 \t 0.0\n",
      "40 \t 40.0\n",
      "40 \t 40.0\n",
      "40 \t 40.0\n",
      "40 \t 40.0\n",
      "40 \t 40.0\n",
      "40 \t 40.0\n",
      "40 \t 40.0\n",
      "40 \t 40.0\n",
      "40 \t 40.0\n",
      "40 \t 40.0\n",
      "40 \t 40.0\n",
      "15 \t 15.0\n",
      "40 \t 40.0\n",
      "40 \t 40.0\n",
      "40 \t 40.0\n",
      "40 \t 40.0\n",
      "40 \t 40.0\n",
      "40 \t 40.0\n",
      "40 \t 40.0\n",
      "40 \t 40.0\n",
      "40 \t 40.0\n",
      "40 \t 40.0\n",
      "40 \t 40.0\n",
      "40 \t 40.0\n",
      "40 \t 40.0\n",
      "40 \t 40.0\n",
      "40 \t 40.0\n",
      "40 \t 40.0\n",
      "40 \t 40.0\n",
      "40 \t 40.0\n",
      "40 \t 40.0\n",
      "40 \t 40.0\n",
      "40 \t 40.0\n",
      "40 \t 40.0\n",
      "40 \t 40.0\n",
      "40 \t 40.0\n",
      "40 \t 40.0\n",
      "40 \t 40.0\n",
      "40 \t 40.0\n",
      "40 \t 40.0\n",
      "40 \t 40.0\n",
      "40 \t 40.0\n",
      "40 \t 40.0\n",
      "40 \t 40.0\n",
      "40 \t 40.0\n",
      "40 \t 40.0\n",
      "======================\n",
      "\n",
      "\n"
     ]
    }
   ],
   "source": [
    "col = cleaned_columns[col_idx]\n",
    "print(\"column: \", col)\n",
    "print(\"Original,\\t Cleaned\\n\")\n",
    "for i in range(50):\n",
    "    print(df_sample_data[col].iloc[i], '\\t', df_temp[col].iloc[i])\n",
    "\n",
    "print('======================\\n\\n')\n",
    "col_idx += 1"
   ]
  },
  {
   "cell_type": "code",
   "execution_count": 152,
   "id": "dd17832b",
   "metadata": {},
   "outputs": [
    {
     "name": "stdout",
     "output_type": "stream",
     "text": [
      "column:  AMOUNT_DUE\n",
      "Original,\t Cleaned\n",
      "\n",
      "0 \t 0.0\n",
      "0 \t 0.0\n",
      "0 \t 0.0\n",
      "0 \t 0.0\n",
      "0 \t 0.0\n",
      "0 \t 0.0\n",
      "0 \t 0.0\n",
      "0 \t 0.0\n",
      "0 \t 0.0\n",
      "0 \t 0.0\n",
      "0 \t 0.0\n",
      "0 \t 0.0\n",
      "0 \t 0.0\n",
      "0 \t 0.0\n",
      "0 \t 0.0\n",
      "0 \t 0.0\n",
      "0 \t 0.0\n",
      "0 \t 0.0\n",
      "0 \t 0.0\n",
      "0 \t 0.0\n",
      "0 \t 0.0\n",
      "0 \t 0.0\n",
      "0 \t 0.0\n",
      "0 \t 0.0\n",
      "0 \t 0.0\n",
      "0 \t 0.0\n",
      "0 \t 0.0\n",
      "0 \t 0.0\n",
      "0 \t 0.0\n",
      "0 \t 0.0\n",
      "0 \t 0.0\n",
      "0 \t 0.0\n",
      "0 \t 0.0\n",
      "0 \t 0.0\n",
      "0 \t 0.0\n",
      "0 \t 0.0\n",
      "0 \t 0.0\n",
      "0 \t 0.0\n",
      "0 \t 0.0\n",
      "0 \t 0.0\n",
      "0 \t 0.0\n",
      "0 \t 0.0\n",
      "0 \t 0.0\n",
      "0 \t 0.0\n",
      "0 \t 0.0\n",
      "0 \t 0.0\n",
      "0 \t 0.0\n",
      "0 \t 0.0\n",
      "0 \t 0.0\n",
      "0 \t 0.0\n",
      "======================\n",
      "\n",
      "\n"
     ]
    }
   ],
   "source": [
    "col = cleaned_columns[col_idx]\n",
    "print(\"column: \", col)\n",
    "print(\"Original,\\t Cleaned\\n\")\n",
    "for i in range(50):\n",
    "    print(df_sample_data[col].iloc[i], '\\t', df_temp[col].iloc[i])\n",
    "\n",
    "print('======================\\n\\n')\n",
    "col_idx += 1"
   ]
  },
  {
   "cell_type": "code",
   "execution_count": 153,
   "id": "cba31368",
   "metadata": {},
   "outputs": [
    {
     "name": "stdout",
     "output_type": "stream",
     "text": [
      "column:  BUSINESS_NAME\n",
      "Original,\t Cleaned\n",
      "\n",
      "MILLIES DELI GROC INC \t MILLIES DELI GROC INC\n",
      "ACCESS SOLUTIONS GROUP, L \t ACCESS SOLUTIONS GROUP L\n",
      "YANKEE MANAGEMENT COMPANY INC. \t YANKEE MANAGEMENT COMPANY INC\n",
      "NYCHA \t NYCHA\n",
      "TOPAZ REMODELERS \t TOPAZ REMODELERS\n",
      "NYC Dept Of Education \t NYC DEPT OF EDUCATION\n",
      "TACONIC MANAGEMENT CO \t TACONIC MANAGEMENT CO\n",
      "RICHARD DELUCIA ARCHITECT \t RICHARD DELUCIA ARCHITECT\n",
      "ICRR LOGISTICS LTD. \t ICRR LOGISTICS LTD\n",
      "53 DB LLC \t 53 DB LLC\n",
      "nan \t nan\n",
      "URBAN GC, INC. \t URBAN GC INC\n",
      "HKS CONSTRUCTION CORP \t HKS CONSTRUCTION CORP\n",
      "HKS CONSTRUCTION CORP \t HKS CONSTRUCTION CORP\n",
      "1214 AVE I ASSOCIATES LLC \t 1214 AVE I ASSOCIATES LLC\n",
      "nan \t nan\n",
      "nan \t nan\n",
      "nan \t nan\n",
      "nan \t nan\n",
      "CITADEL PARTNERS, LLC \t CITADEL PARTNERS LLC\n",
      "TOWER \t TOWER\n",
      "MANHATTAN SKYLINE \t MANHATTAN SKYLINE\n",
      "NYCSCA \t NYCSCA\n",
      "BARBARA BROWN-SPENCE \t BARBARA BROWN-SPENCE\n",
      "Charter Communications \t CHARTER COMMUNICATIONS\n",
      "AKI RENOVATIONS GROUP, INC \t AKI RENOVATIONS GROUP INC\n",
      "nan \t nan\n",
      "BPP Parker Towers Owner LLC \t BPP PARKER TOWERS OWNER LLC\n",
      "TURNER CONSTRUCTION \t TURNER CONSTRUCTION\n",
      "AVARGA CONSTRUCTION CORP \t AVARGA CONSTRUCTION CORP\n",
      "nan \t nan\n",
      "nan \t nan\n",
      "nan \t nan\n",
      "A.SANOMA INC. \t ASANOMA INC\n",
      "nan \t nan\n",
      "nan \t nan\n",
      "TRI BOROUGH SCAFFOLDING \t TRI BOROUGH SCAFFOLDING\n",
      "nan \t nan\n",
      "Manhattan \t MANHATTAN\n",
      "KANARIS CONTRACTING \t KANARIS CONTRACTING\n",
      "nan \t nan\n",
      "PR \t PR\n",
      "CASINI ARCHITECT \t CASINI ARCHITECT\n",
      "HF Rockaway LLC \t HF ROCKAWAY LLC\n",
      "AMETHYST WEST HDFC \t AMETHYST WEST HDFC\n",
      "nan \t nan\n",
      "nan \t nan\n",
      "nan \t nan\n",
      "nan \t nan\n",
      "nan \t nan\n",
      "======================\n",
      "\n",
      "\n"
     ]
    }
   ],
   "source": [
    "col = cleaned_columns[col_idx]\n",
    "print(\"column: \", col)\n",
    "print(\"Original,\\t Cleaned\\n\")\n",
    "for i in range(50):\n",
    "    print(df_sample_data[col].iloc[i], '\\t', df_temp[col].iloc[i])\n",
    "\n",
    "print('======================\\n\\n')\n",
    "col_idx += 1"
   ]
  },
  {
   "cell_type": "code",
   "execution_count": 154,
   "id": "51fe4fe8",
   "metadata": {},
   "outputs": [],
   "source": [
    "tp += 2\n",
    "fp += 5\n",
    "fn += 28"
   ]
  },
  {
   "cell_type": "code",
   "execution_count": 155,
   "id": "949eafed",
   "metadata": {},
   "outputs": [
    {
     "name": "stdout",
     "output_type": "stream",
     "text": [
      "column:  OWNER_STATE\n",
      "Original,\t Cleaned\n",
      "\n",
      "nan \t nan\n",
      "nan \t nan\n",
      "nan \t nan\n",
      "nan \t nan\n",
      "nan \t nan\n",
      "nan \t nan\n",
      "nan \t nan\n",
      "nan \t nan\n",
      "nan \t nan\n",
      "nan \t nan\n",
      "nan \t nan\n",
      "nan \t nan\n",
      "nan \t nan\n",
      "nan \t nan\n",
      "nan \t nan\n",
      "nan \t nan\n",
      "nan \t nan\n",
      "NY \t NY\n",
      "nan \t nan\n",
      "nan \t nan\n",
      "nan \t nan\n",
      "nan \t nan\n",
      "nan \t nan\n",
      "nan \t nan\n",
      "nan \t nan\n",
      "nan \t nan\n",
      "nan \t nan\n",
      "nan \t nan\n",
      "nan \t nan\n",
      "nan \t nan\n",
      "nan \t nan\n",
      "nan \t nan\n",
      "nan \t nan\n",
      "nan \t nan\n",
      "nan \t nan\n",
      "nan \t nan\n",
      "nan \t nan\n",
      "nan \t nan\n",
      "nan \t nan\n",
      "nan \t nan\n",
      "nan \t nan\n",
      "nan \t nan\n",
      "nan \t nan\n",
      "nan \t nan\n",
      "nan \t nan\n",
      "nan \t nan\n",
      "nan \t nan\n",
      "nan \t nan\n",
      "nan \t nan\n",
      "nan \t nan\n",
      "======================\n",
      "\n",
      "\n"
     ]
    }
   ],
   "source": [
    "col = cleaned_columns[col_idx]\n",
    "print(\"column: \", col)\n",
    "print(\"Original,\\t Cleaned\\n\")\n",
    "for i in range(50):\n",
    "    print(df_sample_data[col].iloc[i], '\\t', df_temp[col].iloc[i])\n",
    "\n",
    "print('======================\\n\\n')\n",
    "col_idx += 1"
   ]
  },
  {
   "cell_type": "code",
   "execution_count": 156,
   "id": "196846b4",
   "metadata": {
    "scrolled": true
   },
   "outputs": [
    {
     "name": "stdout",
     "output_type": "stream",
     "text": [
      "column:  FILING_DATE\n",
      "Original,\t Cleaned\n",
      "\n",
      "08/19/2021 12:00:00 AM \t 2021-08-19 00:00:00\n",
      "04/26/2021 12:00:00 AM \t 2021-04-26 00:00:00\n",
      "09/23/2018 12:00:00 AM \t 2018-09-23 00:00:00\n",
      "08/16/2018 12:00:00 AM \t 2018-08-16 00:00:00\n",
      "05/21/2019 12:00:00 AM \t 2019-05-21 00:00:00\n",
      "01/26/2018 12:00:00 AM \t 2018-01-26 00:00:00\n",
      "04/16/2018 12:00:00 AM \t 2018-04-16 00:00:00\n",
      "06/25/2019 12:00:00 AM \t 2019-06-25 00:00:00\n",
      "08/13/2018 12:00:00 AM \t 2018-08-13 00:00:00\n",
      "07/11/2019 12:00:00 AM \t 2019-07-11 00:00:00\n",
      "01/05/2021 12:00:00 AM \t 2021-01-05 00:00:00\n",
      "08/19/2019 12:00:00 AM \t 2019-08-19 00:00:00\n",
      "07/09/2019 12:00:00 AM \t 2019-07-09 00:00:00\n",
      "09/10/2019 12:00:00 AM \t 2019-09-10 00:00:00\n",
      "02/03/2019 12:00:00 AM \t 2019-02-03 00:00:00\n",
      "02/22/2018 12:00:00 AM \t 2018-02-22 00:00:00\n",
      "07/11/2019 12:00:00 AM \t 2019-07-11 00:00:00\n",
      "06/18/2019 12:00:00 AM \t 2019-06-18 00:00:00\n",
      "10/31/2019 12:00:00 AM \t 2019-10-31 00:00:00\n",
      "06/21/2020 12:00:00 AM \t 2020-06-21 00:00:00\n",
      "03/01/2021 12:00:00 AM \t 2021-03-01 00:00:00\n",
      "03/26/2018 12:00:00 AM \t 2018-03-26 00:00:00\n",
      "04/05/2019 12:00:00 AM \t 2019-04-05 00:00:00\n",
      "01/19/2019 12:00:00 AM \t 2019-01-19 00:00:00\n",
      "11/20/2020 12:00:00 AM \t 2020-11-20 00:00:00\n",
      "05/10/2019 12:00:00 AM \t 2019-05-10 00:00:00\n",
      "07/05/2021 12:00:00 AM \t 2021-07-05 00:00:00\n",
      "05/28/2019 12:00:00 AM \t 2019-05-28 00:00:00\n",
      "10/05/2018 12:00:00 AM \t 2018-10-05 00:00:00\n",
      "08/17/2021 12:00:00 AM \t 2021-08-17 00:00:00\n",
      "05/10/2021 12:00:00 AM \t 2021-05-10 00:00:00\n",
      "03/18/2021 12:00:00 AM \t 2021-03-18 00:00:00\n",
      "04/05/2019 12:00:00 AM \t 2019-04-05 00:00:00\n",
      "01/20/2021 12:00:00 AM \t 2021-01-20 00:00:00\n",
      "09/05/2019 12:00:00 AM \t 2019-09-05 00:00:00\n",
      "12/09/2020 12:00:00 AM \t 2020-12-09 00:00:00\n",
      "09/06/2018 12:00:00 AM \t 2018-09-06 00:00:00\n",
      "08/05/2020 12:00:00 AM \t 2020-08-05 00:00:00\n",
      "01/09/2018 12:00:00 AM \t 2018-01-09 00:00:00\n",
      "05/06/2019 12:00:00 AM \t 2019-05-06 00:00:00\n",
      "11/13/2018 12:00:00 AM \t 2018-11-13 00:00:00\n",
      "10/13/2021 12:00:00 AM \t 2021-10-13 00:00:00\n",
      "10/10/2020 12:00:00 AM \t 2020-10-10 00:00:00\n",
      "03/24/2021 12:00:00 AM \t 2021-03-24 00:00:00\n",
      "04/16/2018 12:00:00 AM \t 2018-04-16 00:00:00\n",
      "04/02/2018 12:00:00 AM \t 2018-04-02 00:00:00\n",
      "10/15/2020 12:00:00 AM \t 2020-10-15 00:00:00\n",
      "09/01/2020 12:00:00 AM \t 2020-09-01 00:00:00\n",
      "08/08/2018 12:00:00 AM \t 2018-08-08 00:00:00\n",
      "12/19/2018 12:00:00 AM \t 2018-12-19 00:00:00\n",
      "======================\n",
      "\n",
      "\n"
     ]
    }
   ],
   "source": [
    "col = cleaned_columns[col_idx]\n",
    "print(\"column: \", col)\n",
    "print(\"Original,\\t Cleaned\\n\")\n",
    "for i in range(50):\n",
    "    print(df_sample_data[col].iloc[i], '\\t', df_temp[col].iloc[i])\n",
    "\n",
    "print('======================\\n\\n')\n",
    "col_idx += 1"
   ]
  },
  {
   "cell_type": "code",
   "execution_count": 180,
   "id": "9ed97849",
   "metadata": {},
   "outputs": [],
   "source": [
    "tp += 50"
   ]
  },
  {
   "cell_type": "code",
   "execution_count": 157,
   "id": "ce10c613",
   "metadata": {
    "scrolled": false
   },
   "outputs": [
    {
     "name": "stdout",
     "output_type": "stream",
     "text": [
      "column:  GENERAL_LIABILITY_EXPIRATION_DATE\n",
      "Original,\t Cleaned\n",
      "\n",
      "11/09/2021 12:00:00 AM \t 2021-11-09 00:00:00\n",
      "10/19/2022 12:00:00 AM \t 2022-10-19 00:00:00\n",
      "07/02/2021 12:00:00 AM \t 2021-07-02 00:00:00\n",
      "11/30/2019 12:00:00 AM \t 2019-11-30 00:00:00\n",
      "06/21/2020 12:00:00 AM \t 2020-06-21 00:00:00\n",
      "11/13/2022 12:00:00 AM \t 2022-11-13 00:00:00\n",
      "09/30/2019 12:00:00 AM \t 2019-09-30 00:00:00\n",
      "06/06/2022 12:00:00 AM \t 2022-06-06 00:00:00\n",
      "04/07/2019 12:00:00 AM \t 2019-04-07 00:00:00\n",
      "12/29/2021 12:00:00 AM \t 2021-12-29 00:00:00\n",
      "06/12/2021 12:00:00 AM \t 2021-06-12 00:00:00\n",
      "05/17/2020 12:00:00 AM \t 2020-05-17 00:00:00\n",
      "10/19/2022 12:00:00 AM \t 2022-10-19 00:00:00\n",
      "10/19/2022 12:00:00 AM \t 2022-10-19 00:00:00\n",
      "02/12/2020 12:00:00 AM \t 2020-02-12 00:00:00\n",
      "03/07/2018 12:00:00 AM \t 2018-03-07 00:00:00\n",
      "12/20/2019 12:00:00 AM \t 2019-12-20 00:00:00\n",
      "10/05/2019 12:00:00 AM \t 2019-10-05 00:00:00\n",
      "08/01/2021 12:00:00 AM \t 2021-08-01 00:00:00\n",
      "08/04/2022 12:00:00 AM \t 2022-08-04 00:00:00\n",
      "04/11/2021 12:00:00 AM \t 2021-04-11 00:00:00\n",
      "08/14/2018 12:00:00 AM \t 2018-08-14 00:00:00\n",
      "01/01/2022 12:00:00 AM \t 2022-01-01 00:00:00\n",
      "08/06/2019 12:00:00 AM \t 2019-08-06 00:00:00\n",
      "09/20/2021 12:00:00 AM \t 2021-09-20 00:00:00\n",
      "02/04/2020 12:00:00 AM \t 2020-02-04 00:00:00\n",
      "04/03/2022 12:00:00 AM \t 2022-04-03 00:00:00\n",
      "07/31/2020 12:00:00 AM \t 2020-07-31 00:00:00\n",
      "07/18/2022 12:00:00 AM \t 2022-07-18 00:00:00\n",
      "10/01/2022 12:00:00 AM \t 2022-10-01 00:00:00\n",
      "01/10/2022 12:00:00 AM \t 2022-01-10 00:00:00\n",
      "04/01/2022 12:00:00 AM \t 2022-04-01 00:00:00\n",
      "02/19/2020 12:00:00 AM \t 2020-02-19 00:00:00\n",
      "11/09/2021 12:00:00 AM \t 2021-11-09 00:00:00\n",
      "03/18/2022 12:00:00 AM \t 2022-03-18 00:00:00\n",
      "05/12/2021 12:00:00 AM \t 2021-05-12 00:00:00\n",
      "08/10/2019 12:00:00 AM \t 2019-08-10 00:00:00\n",
      "04/03/2021 12:00:00 AM \t 2021-04-03 00:00:00\n",
      "07/12/2022 12:00:00 AM \t 2022-07-12 00:00:00\n",
      "04/29/2020 12:00:00 AM \t 2020-04-29 00:00:00\n",
      "02/19/2019 12:00:00 AM \t 2019-02-19 00:00:00\n",
      "06/14/2022 12:00:00 AM \t 2022-06-14 00:00:00\n",
      "04/24/2022 12:00:00 AM \t 2022-04-24 00:00:00\n",
      "12/08/2021 12:00:00 AM \t 2021-12-08 00:00:00\n",
      "08/14/2018 12:00:00 AM \t 2018-08-14 00:00:00\n",
      "12/11/2018 12:00:00 AM \t 2018-12-11 00:00:00\n",
      "11/15/2021 12:00:00 AM \t 2021-11-15 00:00:00\n",
      "05/12/2021 12:00:00 AM \t 2021-05-12 00:00:00\n",
      "04/14/2019 12:00:00 AM \t 2019-04-14 00:00:00\n",
      "03/04/2020 12:00:00 AM \t 2020-03-04 00:00:00\n",
      "======================\n",
      "\n",
      "\n"
     ]
    }
   ],
   "source": [
    "col = cleaned_columns[col_idx]\n",
    "print(\"column: \", col)\n",
    "print(\"Original,\\t Cleaned\\n\")\n",
    "for i in range(50):\n",
    "    print(df_sample_data[col].iloc[i], '\\t', df_temp[col].iloc[i])\n",
    "\n",
    "print('======================\\n\\n')\n",
    "col_idx += 1"
   ]
  },
  {
   "cell_type": "code",
   "execution_count": 179,
   "id": "20a8b6b4",
   "metadata": {},
   "outputs": [],
   "source": [
    "tp += 50"
   ]
  },
  {
   "cell_type": "code",
   "execution_count": 158,
   "id": "4b770bce",
   "metadata": {
    "scrolled": true
   },
   "outputs": [
    {
     "name": "stdout",
     "output_type": "stream",
     "text": [
      "column:  WORKER_COMP_EXPIRATION_DATE\n",
      "Original,\t Cleaned\n",
      "\n",
      "11/09/2021 12:00:00 AM \t 2021-11-09 00:00:00\n",
      "12/22/2021 12:00:00 AM \t 2021-12-22 00:00:00\n",
      "05/16/2021 12:00:00 AM \t 2021-05-16 00:00:00\n",
      "11/01/2019 12:00:00 AM \t 2019-11-01 00:00:00\n",
      "03/31/2020 12:00:00 AM \t 2020-03-31 00:00:00\n",
      "01/18/2022 12:00:00 AM \t 2022-01-18 00:00:00\n",
      "08/28/2019 12:00:00 AM \t 2019-08-28 00:00:00\n",
      "07/14/2022 12:00:00 AM \t 2022-07-14 00:00:00\n",
      "08/12/2019 12:00:00 AM \t 2019-08-12 00:00:00\n",
      "05/04/2022 12:00:00 AM \t 2022-05-04 00:00:00\n",
      "06/12/2021 12:00:00 AM \t 2021-06-12 00:00:00\n",
      "11/01/2019 12:00:00 AM \t 2019-11-01 00:00:00\n",
      "12/22/2021 12:00:00 AM \t 2021-12-22 00:00:00\n",
      "12/22/2021 12:00:00 AM \t 2021-12-22 00:00:00\n",
      "02/12/2020 12:00:00 AM \t 2020-02-12 00:00:00\n",
      "04/23/2018 12:00:00 AM \t 2018-04-23 00:00:00\n",
      "05/08/2020 12:00:00 AM \t 2020-05-08 00:00:00\n",
      "10/19/2020 12:00:00 AM \t 2020-10-19 00:00:00\n",
      "10/31/2020 12:00:00 AM \t 2020-10-31 00:00:00\n",
      "04/24/2022 12:00:00 AM \t 2022-04-24 00:00:00\n",
      "11/01/2021 12:00:00 AM \t 2021-11-01 00:00:00\n",
      "12/28/2018 12:00:00 AM \t 2018-12-28 00:00:00\n",
      "10/29/2022 12:00:00 AM \t 2022-10-29 00:00:00\n",
      "06/13/2019 12:00:00 AM \t 2019-06-13 00:00:00\n",
      "03/23/2021 12:00:00 AM \t 2021-03-23 00:00:00\n",
      "06/26/2019 12:00:00 AM \t 2019-06-26 00:00:00\n",
      "11/01/2021 12:00:00 AM \t 2021-11-01 00:00:00\n",
      "07/31/2020 12:00:00 AM \t 2020-07-31 00:00:00\n",
      "09/21/2022 12:00:00 AM \t 2022-09-21 00:00:00\n",
      "10/01/2022 12:00:00 AM \t 2022-10-01 00:00:00\n",
      "01/10/2022 12:00:00 AM \t 2022-01-10 00:00:00\n",
      "04/01/2022 12:00:00 AM \t 2022-04-01 00:00:00\n",
      "02/17/2020 12:00:00 AM \t 2020-02-17 00:00:00\n",
      "11/09/2021 12:00:00 AM \t 2021-11-09 00:00:00\n",
      "02/08/2022 12:00:00 AM \t 2022-02-08 00:00:00\n",
      "04/28/2021 12:00:00 AM \t 2021-04-28 00:00:00\n",
      "07/20/2019 12:00:00 AM \t 2019-07-20 00:00:00\n",
      "10/31/2020 12:00:00 AM \t 2020-10-31 00:00:00\n",
      "03/19/2022 12:00:00 AM \t 2022-03-19 00:00:00\n",
      "10/31/2020 12:00:00 AM \t 2020-10-31 00:00:00\n",
      "02/19/2019 12:00:00 AM \t 2019-02-19 00:00:00\n",
      "06/14/2022 12:00:00 AM \t 2022-06-14 00:00:00\n",
      "11/03/2021 12:00:00 AM \t 2021-11-03 00:00:00\n",
      "09/01/2021 12:00:00 AM \t 2021-09-01 00:00:00\n",
      "08/05/2018 12:00:00 AM \t 2018-08-05 00:00:00\n",
      "12/29/2018 12:00:00 AM \t 2018-12-29 00:00:00\n",
      "04/01/2022 12:00:00 AM \t 2022-04-01 00:00:00\n",
      "04/28/2021 12:00:00 AM \t 2021-04-28 00:00:00\n",
      "04/14/2019 12:00:00 AM \t 2019-04-14 00:00:00\n",
      "02/27/2020 12:00:00 AM \t 2020-02-27 00:00:00\n",
      "======================\n",
      "\n",
      "\n"
     ]
    }
   ],
   "source": [
    "col = cleaned_columns[col_idx]\n",
    "print(\"column: \", col)\n",
    "print(\"Original,\\t Cleaned\\n\")\n",
    "for i in range(50):\n",
    "    print(df_sample_data[col].iloc[i], '\\t', df_temp[col].iloc[i])\n",
    "\n",
    "print('======================\\n\\n')\n",
    "col_idx += 1"
   ]
  },
  {
   "cell_type": "code",
   "execution_count": 178,
   "id": "0d53a8e1",
   "metadata": {},
   "outputs": [],
   "source": [
    "tp += 50"
   ]
  },
  {
   "cell_type": "code",
   "execution_count": 159,
   "id": "7cce900f",
   "metadata": {
    "scrolled": true
   },
   "outputs": [
    {
     "name": "stdout",
     "output_type": "stream",
     "text": [
      "column:  DISABILITY_EXPIRATION_DATE\n",
      "Original,\t Cleaned\n",
      "\n",
      "06/29/2022 12:00:00 AM \t 2022-06-29 00:00:00\n",
      "12/22/2021 12:00:00 AM \t 2021-12-22 00:00:00\n",
      "12/16/2021 12:00:00 AM \t 2021-12-16 00:00:00\n",
      "11/01/2019 12:00:00 AM \t 2019-11-01 00:00:00\n",
      "02/28/2020 12:00:00 AM \t 2020-02-28 00:00:00\n",
      "12/31/2022 12:00:00 AM \t 2022-12-31 00:00:00\n",
      "08/28/2019 12:00:00 AM \t 2019-08-28 00:00:00\n",
      "08/20/2022 12:00:00 AM \t 2022-08-20 00:00:00\n",
      "02/27/2019 12:00:00 AM \t 2019-02-27 00:00:00\n",
      "05/09/2022 12:00:00 AM \t 2022-05-09 00:00:00\n",
      "09/01/2021 12:00:00 AM \t 2021-09-01 00:00:00\n",
      "11/01/2019 12:00:00 AM \t 2019-11-01 00:00:00\n",
      "12/22/2021 12:00:00 AM \t 2021-12-22 00:00:00\n",
      "12/22/2021 12:00:00 AM \t 2021-12-22 00:00:00\n",
      "12/30/2019 12:00:00 AM \t 2019-12-30 00:00:00\n",
      "12/20/2018 12:00:00 AM \t 2018-12-20 00:00:00\n",
      "04/14/2020 12:00:00 AM \t 2020-04-14 00:00:00\n",
      "10/19/2020 12:00:00 AM \t 2020-10-19 00:00:00\n",
      "05/21/2021 12:00:00 AM \t 2021-05-21 00:00:00\n",
      "04/14/2022 12:00:00 AM \t 2022-04-14 00:00:00\n",
      "10/19/2021 12:00:00 AM \t 2021-10-19 00:00:00\n",
      "11/25/2018 12:00:00 AM \t 2018-11-25 00:00:00\n",
      "10/29/2022 12:00:00 AM \t 2022-10-29 00:00:00\n",
      "06/11/2019 12:00:00 AM \t 2019-06-11 00:00:00\n",
      "10/01/2021 12:00:00 AM \t 2021-10-01 00:00:00\n",
      "12/31/2019 12:00:00 AM \t 2019-12-31 00:00:00\n",
      "12/28/2021 12:00:00 AM \t 2021-12-28 00:00:00\n",
      "12/30/2020 12:00:00 AM \t 2020-12-30 00:00:00\n",
      "09/21/2022 12:00:00 AM \t 2022-09-21 00:00:00\n",
      "04/08/2022 12:00:00 AM \t 2022-04-08 00:00:00\n",
      "09/24/2022 12:00:00 AM \t 2022-09-24 00:00:00\n",
      "04/09/2022 12:00:00 AM \t 2022-04-09 00:00:00\n",
      "02/18/2020 12:00:00 AM \t 2020-02-18 00:00:00\n",
      "06/29/2021 12:00:00 AM \t 2021-06-29 00:00:00\n",
      "08/15/2022 12:00:00 AM \t 2022-08-15 00:00:00\n",
      "12/31/2021 12:00:00 AM \t 2021-12-31 00:00:00\n",
      "07/19/2019 12:00:00 AM \t 2019-07-19 00:00:00\n",
      "06/07/2021 12:00:00 AM \t 2021-06-07 00:00:00\n",
      "12/22/2021 12:00:00 AM \t 2021-12-22 00:00:00\n",
      "04/09/2020 12:00:00 AM \t 2020-04-09 00:00:00\n",
      "05/12/2019 12:00:00 AM \t 2019-05-12 00:00:00\n",
      "06/30/2022 12:00:00 AM \t 2022-06-30 00:00:00\n",
      "08/27/2021 12:00:00 AM \t 2021-08-27 00:00:00\n",
      "12/31/2021 12:00:00 AM \t 2021-12-31 00:00:00\n",
      "08/02/2018 12:00:00 AM \t 2018-08-02 00:00:00\n",
      "12/30/2018 12:00:00 AM \t 2018-12-30 00:00:00\n",
      "11/01/2021 12:00:00 AM \t 2021-11-01 00:00:00\n",
      "12/31/2020 12:00:00 AM \t 2020-12-31 00:00:00\n",
      "12/30/2019 12:00:00 AM \t 2019-12-30 00:00:00\n",
      "01/01/2021 12:00:00 AM \t 2021-01-01 00:00:00\n",
      "======================\n",
      "\n",
      "\n"
     ]
    }
   ],
   "source": [
    "col = cleaned_columns[col_idx]\n",
    "print(\"column: \", col)\n",
    "print(\"Original,\\t Cleaned\\n\")\n",
    "for i in range(50):\n",
    "    print(df_sample_data[col].iloc[i], '\\t', df_temp[col].iloc[i])\n",
    "\n",
    "print('======================\\n\\n')\n",
    "col_idx += 1"
   ]
  },
  {
   "cell_type": "code",
   "execution_count": 177,
   "id": "7c17579b",
   "metadata": {},
   "outputs": [],
   "source": [
    "tp += 50"
   ]
  },
  {
   "cell_type": "code",
   "execution_count": 160,
   "id": "c5b429cb",
   "metadata": {
    "scrolled": true
   },
   "outputs": [
    {
     "name": "stdout",
     "output_type": "stream",
     "text": [
      "column:  PERMIT_ISSUED_DATE\n",
      "Original,\t Cleaned\n",
      "\n",
      "08/19/2021 12:00:00 AM \t 2021-08-19 00:00:00\n",
      "04/26/2021 12:00:00 AM \t 2021-04-26 00:00:00\n",
      "09/23/2018 12:00:00 AM \t 2018-09-23 00:00:00\n",
      "08/16/2018 12:00:00 AM \t 2018-08-16 00:00:00\n",
      "05/21/2019 12:00:00 AM \t 2019-05-21 00:00:00\n",
      "01/26/2018 12:00:00 AM \t 2018-01-26 00:00:00\n",
      "04/16/2018 12:00:00 AM \t 2018-04-16 00:00:00\n",
      "06/25/2019 12:00:00 AM \t 2019-06-25 00:00:00\n",
      "08/13/2018 12:00:00 AM \t 2018-08-13 00:00:00\n",
      "07/11/2019 12:00:00 AM \t 2019-07-11 00:00:00\n",
      "01/05/2021 12:00:00 AM \t 2021-01-05 00:00:00\n",
      "08/19/2019 12:00:00 AM \t 2019-08-19 00:00:00\n",
      "07/09/2019 12:00:00 AM \t 2019-07-09 00:00:00\n",
      "09/10/2019 12:00:00 AM \t 2019-09-10 00:00:00\n",
      "02/03/2019 12:00:00 AM \t 2019-02-03 00:00:00\n",
      "02/22/2018 12:00:00 AM \t 2018-02-22 00:00:00\n",
      "07/11/2019 12:00:00 AM \t 2019-07-11 00:00:00\n",
      "06/18/2019 12:00:00 AM \t 2019-06-18 00:00:00\n",
      "10/31/2019 12:00:00 AM \t 2019-10-31 00:00:00\n",
      "06/21/2020 12:00:00 AM \t 2020-06-21 00:00:00\n",
      "nan \t NaT\n",
      "03/26/2018 12:00:00 AM \t 2018-03-26 00:00:00\n",
      "04/05/2019 12:00:00 AM \t 2019-04-05 00:00:00\n",
      "01/19/2019 12:00:00 AM \t 2019-01-19 00:00:00\n",
      "11/20/2020 12:00:00 AM \t 2020-11-20 00:00:00\n",
      "nan \t NaT\n",
      "07/05/2021 12:00:00 AM \t 2021-07-05 00:00:00\n",
      "05/28/2019 12:00:00 AM \t 2019-05-28 00:00:00\n",
      "10/05/2018 12:00:00 AM \t 2018-10-05 00:00:00\n",
      "08/17/2021 12:00:00 AM \t 2021-08-17 00:00:00\n",
      "05/10/2021 12:00:00 AM \t 2021-05-10 00:00:00\n",
      "03/18/2021 12:00:00 AM \t 2021-03-18 00:00:00\n",
      "04/05/2019 12:00:00 AM \t 2019-04-05 00:00:00\n",
      "01/20/2021 12:00:00 AM \t 2021-01-20 00:00:00\n",
      "09/05/2019 12:00:00 AM \t 2019-09-05 00:00:00\n",
      "nan \t NaT\n",
      "09/06/2018 12:00:00 AM \t 2018-09-06 00:00:00\n",
      "08/05/2020 12:00:00 AM \t 2020-08-05 00:00:00\n",
      "01/09/2018 12:00:00 AM \t 2018-01-09 00:00:00\n",
      "05/06/2019 12:00:00 AM \t 2019-05-06 00:00:00\n",
      "nan \t NaT\n",
      "10/13/2021 12:00:00 AM \t 2021-10-13 00:00:00\n",
      "10/10/2020 12:00:00 AM \t 2020-10-10 00:00:00\n",
      "03/24/2021 12:00:00 AM \t 2021-03-24 00:00:00\n",
      "nan \t NaT\n",
      "04/02/2018 12:00:00 AM \t 2018-04-02 00:00:00\n",
      "10/15/2020 12:00:00 AM \t 2020-10-15 00:00:00\n",
      "nan \t NaT\n",
      "08/08/2018 12:00:00 AM \t 2018-08-08 00:00:00\n",
      "12/19/2018 12:00:00 AM \t 2018-12-19 00:00:00\n",
      "======================\n",
      "\n",
      "\n"
     ]
    }
   ],
   "source": [
    "col = cleaned_columns[col_idx]\n",
    "print(\"column: \", col)\n",
    "print(\"Original,\\t Cleaned\\n\")\n",
    "for i in range(50):\n",
    "    print(df_sample_data[col].iloc[i], '\\t', df_temp[col].iloc[i])\n",
    "\n",
    "print('======================\\n\\n')\n",
    "col_idx += 1"
   ]
  },
  {
   "cell_type": "code",
   "execution_count": 176,
   "id": "dfd66be2",
   "metadata": {},
   "outputs": [],
   "source": [
    "tp += 50"
   ]
  },
  {
   "cell_type": "code",
   "execution_count": 161,
   "id": "0e7fa24e",
   "metadata": {},
   "outputs": [],
   "source": [
    "fn += 4"
   ]
  },
  {
   "cell_type": "code",
   "execution_count": 162,
   "id": "89290be3",
   "metadata": {
    "scrolled": true
   },
   "outputs": [
    {
     "name": "stdout",
     "output_type": "stream",
     "text": [
      "column:  JOB_START_DATE\n",
      "Original,\t Cleaned\n",
      "\n",
      "08/20/2021 12:00:00 AM \t 2021-08-20 00:00:00\n",
      "04/26/2021 12:00:00 AM \t 2021-04-26 00:00:00\n",
      "09/27/2018 12:00:00 AM \t 2018-09-27 00:00:00\n",
      "08/16/2018 12:00:00 AM \t 2018-08-16 00:00:00\n",
      "05/21/2019 12:00:00 AM \t 2019-05-21 00:00:00\n",
      "01/26/2018 12:00:00 AM \t 2018-01-26 00:00:00\n",
      "04/27/2018 12:00:00 AM \t 2018-04-27 00:00:00\n",
      "06/26/2019 12:00:00 AM \t 2019-06-26 00:00:00\n",
      "08/14/2018 12:00:00 AM \t 2018-08-14 00:00:00\n",
      "07/11/2019 12:00:00 AM \t 2019-07-11 00:00:00\n",
      "01/05/2021 12:00:00 AM \t 2021-01-05 00:00:00\n",
      "08/19/2019 12:00:00 AM \t 2019-08-19 00:00:00\n",
      "07/09/2019 12:00:00 AM \t 2019-07-09 00:00:00\n",
      "09/10/2019 12:00:00 AM \t 2019-09-10 00:00:00\n",
      "02/03/2019 12:00:00 AM \t 2019-02-03 00:00:00\n",
      "02/23/2018 12:00:00 AM \t 2018-02-23 00:00:00\n",
      "07/13/2019 12:00:00 AM \t 2019-07-13 00:00:00\n",
      "06/18/2019 12:00:00 AM \t 2019-06-18 00:00:00\n",
      "11/01/2019 12:00:00 AM \t 2019-11-01 00:00:00\n",
      "06/21/2020 12:00:00 AM \t 2020-06-21 00:00:00\n",
      "11/19/2020 12:00:00 AM \t 2020-11-19 00:00:00\n",
      "03/26/2018 12:00:00 AM \t 2018-03-26 00:00:00\n",
      "04/05/2019 12:00:00 AM \t 2019-04-05 00:00:00\n",
      "01/21/2019 12:00:00 AM \t 2019-01-21 00:00:00\n",
      "11/28/2020 12:00:00 AM \t 2020-11-28 00:00:00\n",
      "11/21/2018 12:00:00 AM \t 2018-11-21 00:00:00\n",
      "07/05/2021 12:00:00 AM \t 2021-07-05 00:00:00\n",
      "05/29/2019 12:00:00 AM \t 2019-05-29 00:00:00\n",
      "10/05/2018 12:00:00 AM \t 2018-10-05 00:00:00\n",
      "08/17/2021 12:00:00 AM \t 2021-08-17 00:00:00\n",
      "05/10/2021 12:00:00 AM \t 2021-05-10 00:00:00\n",
      "03/18/2021 12:00:00 AM \t 2021-03-18 00:00:00\n",
      "04/05/2019 12:00:00 AM \t 2019-04-05 00:00:00\n",
      "01/21/2021 12:00:00 AM \t 2021-01-21 00:00:00\n",
      "09/05/2019 12:00:00 AM \t 2019-09-05 00:00:00\n",
      "11/10/2020 12:00:00 AM \t 2020-11-10 00:00:00\n",
      "09/06/2018 12:00:00 AM \t 2018-09-06 00:00:00\n",
      "08/05/2020 12:00:00 AM \t 2020-08-05 00:00:00\n",
      "01/10/2018 12:00:00 AM \t 2018-01-10 00:00:00\n",
      "05/07/2019 12:00:00 AM \t 2019-05-07 00:00:00\n",
      "03/28/2018 12:00:00 AM \t 2018-03-28 00:00:00\n",
      "10/13/2021 12:00:00 AM \t 2021-10-13 00:00:00\n",
      "10/12/2020 12:00:00 AM \t 2020-10-12 00:00:00\n",
      "03/24/2021 12:00:00 AM \t 2021-03-24 00:00:00\n",
      "02/20/2018 12:00:00 AM \t 2018-02-20 00:00:00\n",
      "04/02/2018 12:00:00 AM \t 2018-04-02 00:00:00\n",
      "10/15/2020 12:00:00 AM \t 2020-10-15 00:00:00\n",
      "07/09/2020 12:00:00 AM \t 2020-07-09 00:00:00\n",
      "08/09/2018 12:00:00 AM \t 2018-08-09 00:00:00\n",
      "12/20/2018 12:00:00 AM \t 2018-12-20 00:00:00\n",
      "======================\n",
      "\n",
      "\n"
     ]
    }
   ],
   "source": [
    "col = cleaned_columns[col_idx]\n",
    "print(\"column: \", col)\n",
    "print(\"Original,\\t Cleaned\\n\")\n",
    "for i in range(50):\n",
    "    print(df_sample_data[col].iloc[i], '\\t', df_temp[col].iloc[i])\n",
    "\n",
    "print('======================\\n\\n')\n",
    "col_idx += 1"
   ]
  },
  {
   "cell_type": "code",
   "execution_count": 175,
   "id": "ac238997",
   "metadata": {},
   "outputs": [],
   "source": [
    "tp += 50"
   ]
  },
  {
   "cell_type": "code",
   "execution_count": 163,
   "id": "b9b6f132",
   "metadata": {
    "scrolled": false
   },
   "outputs": [
    {
     "name": "stdout",
     "output_type": "stream",
     "text": [
      "column:  COMPLETION_DATE\n",
      "Original,\t Cleaned\n",
      "\n",
      "08/20/2021 12:00:00 AM \t 2021-08-20 00:00:00\n",
      "04/12/2022 12:00:00 AM \t 2022-04-12 00:00:00\n",
      "11/24/2018 12:00:00 AM \t 2018-11-24 00:00:00\n",
      "04/30/2019 12:00:00 AM \t 2019-04-30 00:00:00\n",
      "06/09/2020 12:00:00 AM \t 2020-06-09 00:00:00\n",
      "02/15/2018 12:00:00 AM \t 2018-02-15 00:00:00\n",
      "04/28/2018 12:00:00 AM \t 2018-04-28 00:00:00\n",
      "11/29/2019 12:00:00 AM \t 2019-11-29 00:00:00\n",
      "09/29/2018 12:00:00 AM \t 2018-09-29 00:00:00\n",
      "07/13/2019 12:00:00 AM \t 2019-07-13 00:00:00\n",
      "04/18/2021 12:00:00 AM \t 2021-04-18 00:00:00\n",
      "10/31/2019 12:00:00 AM \t 2019-10-31 00:00:00\n",
      "07/09/2020 12:00:00 AM \t 2020-07-09 00:00:00\n",
      "09/09/2020 12:00:00 AM \t 2020-09-09 00:00:00\n",
      "07/01/2020 12:00:00 AM \t 2020-07-01 00:00:00\n",
      "02/23/2018 12:00:00 AM \t 2018-02-23 00:00:00\n",
      "12/08/2019 12:00:00 AM \t 2019-12-08 00:00:00\n",
      "10/22/2019 12:00:00 AM \t 2019-10-22 00:00:00\n",
      "11/02/2020 12:00:00 AM \t 2020-11-02 00:00:00\n",
      "06/11/2021 12:00:00 AM \t 2021-06-11 00:00:00\n",
      "10/14/2021 12:00:00 AM \t 2021-10-14 00:00:00\n",
      "11/29/2018 12:00:00 AM \t 2018-11-29 00:00:00\n",
      "12/31/2019 12:00:00 AM \t 2019-12-31 00:00:00\n",
      "11/30/2019 12:00:00 AM \t 2019-11-30 00:00:00\n",
      "11/29/2020 12:00:00 AM \t 2020-11-29 00:00:00\n",
      "07/19/2019 12:00:00 AM \t 2019-07-19 00:00:00\n",
      "08/08/2021 12:00:00 AM \t 2021-08-08 00:00:00\n",
      "12/31/2019 12:00:00 AM \t 2019-12-31 00:00:00\n",
      "10/05/2019 12:00:00 AM \t 2019-10-05 00:00:00\n",
      "08/17/2023 12:00:00 AM \t 2023-08-17 00:00:00\n",
      "06/01/2022 12:00:00 AM \t 2022-06-01 00:00:00\n",
      "12/31/2022 12:00:00 AM \t 2022-12-31 00:00:00\n",
      "12/15/2019 12:00:00 AM \t 2019-12-15 00:00:00\n",
      "02/21/2021 12:00:00 AM \t 2021-02-21 00:00:00\n",
      "03/17/2020 12:00:00 AM \t 2020-03-17 00:00:00\n",
      "12/30/2021 12:00:00 AM \t 2021-12-30 00:00:00\n",
      "12/31/2019 12:00:00 AM \t 2019-12-31 00:00:00\n",
      "09/05/2020 12:00:00 AM \t 2020-09-05 00:00:00\n",
      "03/06/2018 12:00:00 AM \t 2018-03-06 00:00:00\n",
      "11/29/2019 12:00:00 AM \t 2019-11-29 00:00:00\n",
      "03/26/2019 12:00:00 AM \t 2019-03-26 00:00:00\n",
      "03/17/2022 12:00:00 AM \t 2022-03-17 00:00:00\n",
      "10/01/2021 12:00:00 AM \t 2021-10-01 00:00:00\n",
      "04/07/2021 12:00:00 AM \t 2021-04-07 00:00:00\n",
      "02/20/2019 12:00:00 AM \t 2019-02-20 00:00:00\n",
      "06/02/2018 12:00:00 AM \t 2018-06-02 00:00:00\n",
      "10/01/2021 12:00:00 AM \t 2021-10-01 00:00:00\n",
      "09/30/2020 12:00:00 AM \t 2020-09-30 00:00:00\n",
      "08/08/2019 12:00:00 AM \t 2019-08-08 00:00:00\n",
      "03/13/2019 12:00:00 AM \t 2019-03-13 00:00:00\n",
      "======================\n",
      "\n",
      "\n"
     ]
    }
   ],
   "source": [
    "col = cleaned_columns[col_idx]\n",
    "print(\"column: \", col)\n",
    "print(\"Original,\\t Cleaned\\n\")\n",
    "for i in range(50):\n",
    "    print(df_sample_data[col].iloc[i], '\\t', df_temp[col].iloc[i])\n",
    "\n",
    "print('======================\\n\\n')\n",
    "col_idx += 1"
   ]
  },
  {
   "cell_type": "code",
   "execution_count": 174,
   "id": "5100990b",
   "metadata": {},
   "outputs": [],
   "source": [
    "tp += 50"
   ]
  },
  {
   "cell_type": "code",
   "execution_count": 164,
   "id": "8200b819",
   "metadata": {
    "scrolled": true
   },
   "outputs": [
    {
     "name": "stdout",
     "output_type": "stream",
     "text": [
      "column:  CITY\n",
      "Original,\t Cleaned\n",
      "\n",
      "MASPETH \t MASPETH\n",
      "STATEN ISLAND \t STATEN ISLAND\n",
      "ASTORIA \t ASTORIA\n",
      "NEW YORK \t NEW YORK\n",
      "BROOKLYN \t BROOKLYN\n",
      "BROOKLYN \t BROOKLYN\n",
      "NEW YORK \t NEW YORK\n",
      "BROOKLYN \t BROOKLYN\n",
      "BROOKLYN \t BROOKLYN\n",
      "BRONX \t BRONX\n",
      "BROOKLYN \t BROOKLYN\n",
      "FLUSHING \t FLUSHING\n",
      "STATEN ISLAND \t STATEN ISLAND\n",
      "STATEN ISLAND \t STATEN ISLAND\n",
      "BROOKLYN \t BROOKLYN\n",
      "RICHMOND HILL \t RICHMOND HILL\n",
      "SOUTH RICHMOND HILL \t SOUTH RICHMOND HILL\n",
      "ELMHURST \t ELMHURST\n",
      "HOWARD BEACH \t HOWARD BEACH\n",
      "LONG ISLAND CITY \t LONG ISLAND CITY\n",
      "NEW YORK \t NEW YORK\n",
      "FLUSHING \t FLUSHING\n",
      "STATEN ISLAND \t STATEN ISLAND\n",
      "QUEENS VILLAGE \t QUEENS VILLAGE\n",
      "NEW YORK \t NEW YORK\n",
      "WOODSIDE \t WOODSIDE\n",
      "BROOKLYN \t BROOKLYN\n",
      "RICHMOND HILL \t RICHMOND HILL\n",
      "BROOKLYN \t BROOKLYN\n",
      "STATEN ISLAND \t STATEN ISLAND\n",
      "LONG ISLAND CITY \t LONG ISLAND CITY\n",
      "NEW YORK \t NEW YORK\n",
      "BROOKLYN \t BROOKLYN\n",
      "MASPETH \t MASPETH\n",
      "BROOKLYN \t BROOKLYN\n",
      "SPRINGFIELD GARDENS \t SPRINGFIELD GARDENS\n",
      "BRONX \t BRONX\n",
      "BROOKLYN \t BROOKLYN\n",
      "BROOKLYN \t BROOKLYN\n",
      "BROOKLYN \t BROOKLYN\n",
      "BRONX \t BRONX\n",
      "NEW YORK \t NEW YORK\n",
      "BROOKLYN \t BROOKLYN\n",
      "BROOKLYN \t BROOKLYN\n",
      "BROOKLYN \t BROOKLYN\n",
      "STATEN ISLAND \t STATEN ISLAND\n",
      "BROOKLYN \t BROOKLYN\n",
      "SPRINGFIELD GARDENS \t SPRINGFIELD GARDENS\n",
      "STATEN ISLAND \t STATEN ISLAND\n",
      "MASPETH \t MASPETH\n",
      "======================\n",
      "\n",
      "\n"
     ]
    }
   ],
   "source": [
    "col = cleaned_columns[col_idx]\n",
    "print(\"column: \", col)\n",
    "print(\"Original,\\t Cleaned\\n\")\n",
    "for i in range(50):\n",
    "    print(df_sample_data[col].iloc[i], '\\t', df_temp[col].iloc[i])\n",
    "\n",
    "print('======================\\n\\n')\n",
    "col_idx += 1"
   ]
  },
  {
   "cell_type": "code",
   "execution_count": null,
   "id": "e9c5486f",
   "metadata": {},
   "outputs": [],
   "source": []
  },
  {
   "cell_type": "code",
   "execution_count": 165,
   "id": "c8e5db96",
   "metadata": {
    "scrolled": true
   },
   "outputs": [
    {
     "name": "stdout",
     "output_type": "stream",
     "text": [
      "column:  OWNER_CITY\n",
      "Original,\t Cleaned\n",
      "\n",
      "nan \t nan\n",
      "nan \t nan\n",
      "nan \t nan\n",
      "nan \t nan\n",
      "nan \t nan\n",
      "nan \t nan\n",
      "nan \t nan\n",
      "nan \t nan\n",
      "nan \t nan\n",
      "nan \t nan\n",
      "nan \t nan\n",
      "nan \t nan\n",
      "nan \t nan\n",
      "nan \t nan\n",
      "nan \t nan\n",
      "nan \t nan\n",
      "nan \t nan\n",
      "Elmhurst \t ELMHURST\n",
      "nan \t nan\n",
      "nan \t nan\n",
      "nan \t nan\n",
      "nan \t nan\n",
      "nan \t nan\n",
      "nan \t nan\n",
      "nan \t nan\n",
      "nan \t nan\n",
      "nan \t nan\n",
      "nan \t nan\n",
      "nan \t nan\n",
      "nan \t nan\n",
      "nan \t nan\n",
      "nan \t nan\n",
      "nan \t nan\n",
      "nan \t nan\n",
      "nan \t nan\n",
      "nan \t nan\n",
      "nan \t nan\n",
      "nan \t nan\n",
      "nan \t nan\n",
      "nan \t nan\n",
      "nan \t nan\n",
      "nan \t nan\n",
      "nan \t nan\n",
      "nan \t nan\n",
      "nan \t nan\n",
      "nan \t nan\n",
      "nan \t nan\n",
      "nan \t nan\n",
      "nan \t nan\n",
      "nan \t nan\n",
      "======================\n",
      "\n",
      "\n"
     ]
    }
   ],
   "source": [
    "col = cleaned_columns[col_idx]\n",
    "print(\"column: \", col)\n",
    "print(\"Original,\\t Cleaned\\n\")\n",
    "for i in range(50):\n",
    "    print(df_sample_data[col].iloc[i], '\\t', df_temp[col].iloc[i])\n",
    "\n",
    "print('======================\\n\\n')\n",
    "col_idx += 1"
   ]
  },
  {
   "cell_type": "code",
   "execution_count": null,
   "id": "96fd97c5",
   "metadata": {},
   "outputs": [],
   "source": []
  },
  {
   "cell_type": "code",
   "execution_count": 166,
   "id": "59a3eeac",
   "metadata": {
    "scrolled": true
   },
   "outputs": [
    {
     "name": "stdout",
     "output_type": "stream",
     "text": [
      "column:  STATE\n",
      "Original,\t Cleaned\n",
      "\n",
      "NY \t NY\n",
      "NY \t NY\n",
      "NY \t NY\n",
      "NY \t NY\n",
      "NY \t NY\n",
      "NY \t NY\n",
      "NY \t NY\n",
      "NY \t NY\n",
      "NY \t NY\n",
      "NY \t NY\n",
      "NY \t NY\n",
      "NY \t NY\n",
      "NY \t NY\n",
      "NY \t NY\n",
      "NY \t NY\n",
      "NY \t NY\n",
      "NY \t NY\n",
      "NY \t NY\n",
      "NY \t NY\n",
      "NY \t NY\n",
      "NY \t NY\n",
      "NY \t NY\n",
      "NY \t NY\n",
      "NY \t NY\n",
      "NY \t NY\n",
      "NY \t NY\n",
      "NY \t NY\n",
      "NY \t NY\n",
      "NY \t NY\n",
      "NY \t NY\n",
      "NY \t NY\n",
      "NY \t NY\n",
      "NY \t NY\n",
      "NY \t NY\n",
      "NY \t NY\n",
      "NY \t NY\n",
      "NY \t NY\n",
      "NY \t NY\n",
      "NY \t NY\n",
      "NY \t NY\n",
      "NY \t NY\n",
      "NY \t NY\n",
      "NY \t NY\n",
      "NY \t NY\n",
      "NY \t NY\n",
      "NY \t NY\n",
      "NY \t NY\n",
      "NY \t NY\n",
      "NY \t NY\n",
      "NY \t NY\n",
      "======================\n",
      "\n",
      "\n"
     ]
    }
   ],
   "source": [
    "col = cleaned_columns[col_idx]\n",
    "print(\"column: \", col)\n",
    "print(\"Original,\\t Cleaned\\n\")\n",
    "for i in range(50):\n",
    "    print(df_sample_data[col].iloc[i], '\\t', df_temp[col].iloc[i])\n",
    "\n",
    "print('======================\\n\\n')\n",
    "col_idx += 1"
   ]
  },
  {
   "cell_type": "code",
   "execution_count": null,
   "id": "7ea43557",
   "metadata": {},
   "outputs": [],
   "source": []
  },
  {
   "cell_type": "code",
   "execution_count": 167,
   "id": "9f8acdb8",
   "metadata": {
    "scrolled": true
   },
   "outputs": [
    {
     "name": "stdout",
     "output_type": "stream",
     "text": [
      "column:  APPLICANT_FIRST_NAME\n",
      "Original,\t Cleaned\n",
      "\n",
      "STEVEN \t STEVEN\n",
      "RICHARD \t RICHARD\n",
      "JOSEPH \t JOSEPH\n",
      "CRAIG \t CRAIG\n",
      "PATRICIA \t PATRICIA\n",
      "FRANCIS \t FRANCIS\n",
      "JOHN \t JOHN\n",
      "RYBURN \t RYBURN\n",
      "STEVEN \t STEVEN\n",
      "JEAN \t JEAN\n",
      "STEVEN \t STEVEN\n",
      "ZENG \t ZENG\n",
      "RICHARD \t RICHARD\n",
      "RICHARD \t RICHARD\n",
      "JOEL \t JOEL\n",
      "SALVATORE \t SALVATORE\n",
      "ANTHONY \t ANTHONY\n",
      "MONG \t MONG\n",
      "WARREN \t WARREN\n",
      "TOMASZ \t TOMASZ\n",
      "WIESLAW \t WIESLAW\n",
      "SANKAR \t SANKAR\n",
      "CHARLES DAMBROSE \t CHARLES DAMBROSE\n",
      "LINDON \t LINDON\n",
      "ROBERT \t ROBERT\n",
      "SPIRO \t SPIRO\n",
      "CARLOS \t CARLOS\n",
      "DERRICK \t DERRICK\n",
      "RICHARD \t RICHARD\n",
      "JOSEPH \t JOSEPH\n",
      "BENJAMIN \t BENJAMIN\n",
      "EFRAIM \t EFRAIM\n",
      "VITO \t VITO\n",
      "STEVEN \t STEVEN\n",
      "TIMOTHY \t TIMOTHY\n",
      "MARIO \t MARIO\n",
      "VAN PAUL \t VAN PAUL\n",
      "CARLOS \t CARLOS\n",
      "MICHAEL \t MICHAEL\n",
      "GREGORY \t GREGORY\n",
      "EUGENE \t EUGENE\n",
      "EDWARD \t EDWARD\n",
      "MIKHAIL \t MIKHAIL\n",
      "JEFF \t JEFF\n",
      "HOWARD \t HOWARD\n",
      "JEFFREY \t JEFFREY\n",
      "JASON \t JASON\n",
      "MARIO \t MARIO\n",
      "WILLIAM \t WILLIAM\n",
      "MAREK \t MAREK\n",
      "======================\n",
      "\n",
      "\n"
     ]
    }
   ],
   "source": [
    "col = cleaned_columns[col_idx]\n",
    "print(\"column: \", col)\n",
    "print(\"Original,\\t Cleaned\\n\")\n",
    "for i in range(50):\n",
    "    print(df_sample_data[col].iloc[i], '\\t', df_temp[col].iloc[i])\n",
    "\n",
    "print('======================\\n\\n')\n",
    "col_idx += 1"
   ]
  },
  {
   "cell_type": "code",
   "execution_count": null,
   "id": "eaa5f717",
   "metadata": {},
   "outputs": [],
   "source": []
  },
  {
   "cell_type": "code",
   "execution_count": null,
   "id": "b6736075",
   "metadata": {},
   "outputs": [],
   "source": []
  },
  {
   "cell_type": "code",
   "execution_count": 181,
   "id": "a9f6ff30",
   "metadata": {},
   "outputs": [
    {
     "data": {
      "text/plain": [
       "352"
      ]
     },
     "execution_count": 181,
     "metadata": {},
     "output_type": "execute_result"
    }
   ],
   "source": [
    "tp"
   ]
  },
  {
   "cell_type": "code",
   "execution_count": 169,
   "id": "e222be85",
   "metadata": {},
   "outputs": [
    {
     "data": {
      "text/plain": [
       "5"
      ]
     },
     "execution_count": 169,
     "metadata": {},
     "output_type": "execute_result"
    }
   ],
   "source": [
    "fp"
   ]
  },
  {
   "cell_type": "code",
   "execution_count": 170,
   "id": "bbf15817",
   "metadata": {},
   "outputs": [
    {
     "data": {
      "text/plain": [
       "32"
      ]
     },
     "execution_count": 170,
     "metadata": {},
     "output_type": "execute_result"
    }
   ],
   "source": [
    "fn"
   ]
  },
  {
   "cell_type": "code",
   "execution_count": 182,
   "id": "cc30a467",
   "metadata": {},
   "outputs": [
    {
     "data": {
      "text/plain": [
       "0.9859943977591037"
      ]
     },
     "execution_count": 182,
     "metadata": {},
     "output_type": "execute_result"
    }
   ],
   "source": [
    "precision(tp, fp)"
   ]
  },
  {
   "cell_type": "code",
   "execution_count": 183,
   "id": "ecea52bf",
   "metadata": {},
   "outputs": [
    {
     "data": {
      "text/plain": [
       "0.9166666666666666"
      ]
     },
     "execution_count": 183,
     "metadata": {},
     "output_type": "execute_result"
    }
   ],
   "source": [
    "recall(tp,fn)"
   ]
  },
  {
   "cell_type": "markdown",
   "id": "f0f06725",
   "metadata": {},
   "source": [
    "# Save cleaned data"
   ]
  },
  {
   "cell_type": "code",
   "execution_count": 173,
   "id": "f559c0af",
   "metadata": {},
   "outputs": [],
   "source": [
    "outputpath = 'cleaned_data.csv'\n",
    "df.to_csv(outputpath,sep=',',index=False,header=True) "
   ]
  },
  {
   "cell_type": "markdown",
   "id": "a3094b14",
   "metadata": {},
   "source": [
    "# Some discussion\n",
    "\n",
    "We have profiled and cleaned most of the columns, we first change some of the column names so that they present right information about the data, then we look at each of these columns to detect outliers and wrong format.\n",
    "\n",
    "However, there are still some issues, first we keep most of the empty value as NaN, and we don't know if clustering is the best way to clean the name data since it might convert similar names to one same name. And, business names are too long that we can not perform clustering on them so we only fixed empty values. Also, there are some column names in upper case, we do not know if we should convert them to lower case as other columns."
   ]
  },
  {
   "cell_type": "code",
   "execution_count": null,
   "id": "262816a2",
   "metadata": {},
   "outputs": [],
   "source": []
  }
 ],
 "metadata": {
  "kernelspec": {
   "display_name": "Python 3 (ipykernel)",
   "language": "python",
   "name": "python3"
  },
  "language_info": {
   "codemirror_mode": {
    "name": "ipython",
    "version": 3
   },
   "file_extension": ".py",
   "mimetype": "text/x-python",
   "name": "python",
   "nbconvert_exporter": "python",
   "pygments_lexer": "ipython3",
   "version": "3.8.4"
  }
 },
 "nbformat": 4,
 "nbformat_minor": 5
}
